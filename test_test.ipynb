{
 "cells": [
  {
   "cell_type": "code",
   "execution_count": 2,
   "metadata": {},
   "outputs": [
    {
     "name": "stdout",
     "output_type": "stream",
     "text": [
      "BAAI/bge-small-en, normalize=True\n"
     ]
    }
   ],
   "source": [
    "from embedders import SentenceTransformerEmbedder\n",
    "embedder = SentenceTransformerEmbedder(model_name='BAAI/bge-small-en', device='mps', normalize=True)\n",
    "print(embedder)"
   ]
  },
  {
   "cell_type": "code",
   "execution_count": 3,
   "metadata": {},
   "outputs": [
    {
     "name": "stdout",
     "output_type": "stream",
     "text": [
      "<class 'numpy.ndarray'>\n",
      "(2, 384)\n"
     ]
    }
   ],
   "source": [
    "sentences = [\n",
    "    'testing', 'Just after the Big Bang, a cosmic primordial gas consisted mostly of H, He, and a small amount of light elements (Li, Be, B, etc.).']\n",
    "\n",
    "result = embedder(sentences)\n",
    "print(type(result))\n",
    "print(result.shape)"
   ]
  },
  {
   "cell_type": "code",
   "execution_count": 4,
   "metadata": {},
   "outputs": [
    {
     "name": "stdout",
     "output_type": "stream",
     "text": [
      "Database version: ('PostgreSQL 17.3 (Homebrew) on x86_64-apple-darwin23.6.0, compiled by Apple clang version 16.0.0 (clang-1600.0.26.6), 64-bit',)\n",
      "{'dbname': 'test', 'user': 'bbasseri', 'password': 'citeline25', 'host': 'localhost', 'port': '5432'}\n"
     ]
    }
   ],
   "source": [
    "from database.database import DatabaseProcessor\n",
    "from dotenv import load_dotenv\n",
    "import os\n",
    "\n",
    "load_dotenv()\n",
    "db_params = {\n",
    "    'dbname': os.getenv('DB_NAME'),\n",
    "    'user': os.getenv('DB_USER'),\n",
    "    'password': os.getenv('DB_PASSWORD'),\n",
    "    'host': os.getenv('DB_HOST'),\n",
    "    'port': os.getenv('DB_PORT'),\n",
    "}\n",
    "db = DatabaseProcessor(db_params)\n",
    "\n",
    "db.test_connection()\n",
    "print(db.db_params)"
   ]
  },
  {
   "cell_type": "code",
   "execution_count": 7,
   "metadata": {},
   "outputs": [
    {
     "name": "stdout",
     "output_type": "stream",
     "text": [
      "0    Classically, this process has been represented...\n",
      "1    Observations with the HST Solar Blind Channel ...\n",
      "2    A remarkable individual LyC detection at z = 4...\n",
      "3    Two important HST parallel imaging surveys inc...\n",
      "Name: sent_no_cit, dtype: object\n"
     ]
    }
   ],
   "source": [
    "import pandas as pd\n",
    "data = pd.read_json('data/dataset/small/nontrivial.jsonl', lines=True)\n",
    "print(data['sent_no_cit'])"
   ]
  },
  {
   "cell_type": "code",
   "execution_count": 8,
   "metadata": {},
   "outputs": [
    {
     "name": "stdout",
     "output_type": "stream",
     "text": [
      "(4, 384)\n"
     ]
    }
   ],
   "source": [
    "embeddings = embedder(data['sent_no_cit'])\n",
    "print(embeddings.shape)"
   ]
  },
  {
   "cell_type": "code",
   "execution_count": 14,
   "metadata": {},
   "outputs": [
    {
     "name": "stdout",
     "output_type": "stream",
     "text": [
      "0.31170819331951705\n",
      "0.3100535088745342\n",
      "0.3090857408251144\n",
      "0.3029460491505779\n",
      "0.30200259637762805\n"
     ]
    }
   ],
   "source": [
    "results = db.query_vector_table('bge', query_vector=embeddings[0], metric='vector_cosine_ops', top_k=5)\n",
    "for result in results:\n",
    "    print(result.similarity)"
   ]
  },
  {
   "cell_type": "code",
   "execution_count": 15,
   "metadata": {},
   "outputs": [
    {
     "name": "stdout",
     "output_type": "stream",
     "text": [
      "-0.6882918477058411\n",
      "-0.6899465322494507\n",
      "-0.6909140944480896\n",
      "-0.6970539093017578\n",
      "-0.6979975700378418\n"
     ]
    }
   ],
   "source": [
    "ip_results = db.query_vector_table('bge', query_vector=embeddings[0], metric='vector_ip_ops', top_k=5)\n",
    "for result in ip_results:\n",
    "    print(result.similarity)"
   ]
  },
  {
   "cell_type": "code",
   "execution_count": null,
   "metadata": {},
   "outputs": [],
   "source": []
  }
 ],
 "metadata": {
  "kernelspec": {
   "display_name": "citeline",
   "language": "python",
   "name": "python3"
  },
  "language_info": {
   "codemirror_mode": {
    "name": "ipython",
    "version": 3
   },
   "file_extension": ".py",
   "mimetype": "text/x-python",
   "name": "python",
   "nbconvert_exporter": "python",
   "pygments_lexer": "ipython3",
   "version": "3.11.10"
  }
 },
 "nbformat": 4,
 "nbformat_minor": 2
}
