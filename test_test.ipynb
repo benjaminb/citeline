{
 "cells": [
  {
   "cell_type": "code",
   "execution_count": 2,
   "metadata": {},
   "outputs": [
    {
     "name": "stdout",
     "output_type": "stream",
     "text": [
      "               bibcode                                           abstract  \\\n",
      "0  2012ARA&A..50..455F  Radiation, winds, and jets from the active nuc...   \n",
      "1  2024NewAR..9801694E  Stellar multiplicity is among the oldest and r...   \n",
      "2  2017ARA&A..55..389T  The gas surrounding galaxies outside their dis...   \n",
      "3  2009ARA&A..47..481A  The solar chemical composition is an important...   \n",
      "4  2024NewAR..9901696C  Star clusters are among the first celestial ob...   \n",
      "\n",
      "                                                 aff  \\\n",
      "0  [Institute of Astronomy, University of Cambrid...   \n",
      "1  [California Institute of Technology, 1216 E Ca...   \n",
      "2  [Space Telescope Science Institute, Baltimore,...   \n",
      "3                                       [-, -, -, -]   \n",
      "4  [Max Planck Institute for Astronomy, Königstuh...   \n",
      "\n",
      "                                              author             bibstem  \\\n",
      "0                                    [Fabian, A. C.]  [ARA&A, ARA&A..50]   \n",
      "1                                 [El-Badry, Kareem]  [NewAR, NewAR..98]   \n",
      "2  [Tumlinson, Jason, Peeples, Molly S., Werk, Je...  [ARA&A, ARA&A..55]   \n",
      "3  [Asplund, Martin, Grevesse, Nicolas, Sauval, A...  [ARA&A, ARA&A..47]   \n",
      "4               [Cantat-Gaudin, T., Casamiquela, L.]  [NewAR, NewAR..99]   \n",
      "\n",
      "   doctype                                                doi        id  \\\n",
      "0  article  [10.1146/annurev-astro-081811-125521, 10.48550...  12237732   \n",
      "1  article  [10.1016/j.newar.2024.101694, 10.48550/arXiv.2...  28998371   \n",
      "2  article  [10.1146/annurev-astro-091916-055240, 10.48550...  12523607   \n",
      "3  article  [10.1146/annurev.astro.46.060407.145222, 10.48...  12049299   \n",
      "4  article  [10.1016/j.newar.2024.101696, 10.48550/arXiv.2...  29072624   \n",
      "\n",
      "                                             keyword     pubdate  \\\n",
      "0  [Astrophysics - Cosmology and Nongalactic Astr...  2012-09-00   \n",
      "1  [Binaries: visual, Binaries: spectroscopic, Bi...  2024-06-00   \n",
      "2          [Astrophysics - Astrophysics of Galaxies]  2017-08-00   \n",
      "3  [Astrophysics - Solar and Stellar Astrophysics...  2009-09-00   \n",
      "4  [Milky way, Open clusters, Data mining, Astrop...  2024-12-00   \n",
      "\n",
      "                                               title  read_count  \\\n",
      "0  Observational Evidence of Active Galactic Nucl...         403   \n",
      "1                     Gaia's binary star renaissance         359   \n",
      "2                          The Circumgalactic Medium         371   \n",
      "3                The Chemical Composition of the Sun         592   \n",
      "4  How Gaia sheds light on the Milky Way star clu...         289   \n",
      "\n",
      "                                           reference                data  \\\n",
      "0  [1952MNRAS.112..195B, 1973Natur.244...80G, 197...  [SIMBAD:38, XMM:1]   \n",
      "1  [1803RSPT...93..339H, 1844MNRAS...6R.136B, 197...                 NaN   \n",
      "2  [1956ApJ...124...20S, 1961ApJ...133...11M, 196...                 NaN   \n",
      "3  [1929ApJ....70...11R, 1956RvMP...28...53S, 195...                 NaN   \n",
      "4  [1786RSPT...76..457H, 1789RSPT...79..212H, 180...                 NaN   \n",
      "\n",
      "   citation_count                                           citation  \\\n",
      "0            2233  [2012A&A...543A..99C, 2012A&A...547A..56D, 201...   \n",
      "1              25  [2024A&A...688A...1C, 2024AJ....168..156C, 202...   \n",
      "2             875  [2017ApJ...850L..10J, 2017MNRAS.472.4659V, 201...   \n",
      "3            7617  [2009A&A...507..417P, 2009A&A...508.1403P, 200...   \n",
      "4               6  [2024AJ....168..156C, 2024ApJ...977...70B, 202...   \n",
      "\n",
      "                                                body  \\\n",
      "0  1. INTRODUCTION It has been realized over the ...   \n",
      "1  1 Introduction Binary stars have long played a...   \n",
      "2  1. A VERY BRIEF HISTORY In the mid-1950s, Guid...   \n",
      "3  1. INTRODUCTION The solar chemical composition...   \n",
      "4  1 Introduction Historically, stellar clusters ...   \n",
      "\n",
      "                                      body_sentences  \n",
      "0  [1. INTRODUCTION It has been realized over the...  \n",
      "1  [1 Introduction Binary stars have long played ...  \n",
      "2  [1. A VERY BRIEF HISTORY In the mid-1950s, Gui...  \n",
      "3  [1. INTRODUCTION The solar chemical compositio...  \n",
      "4  [1 Introduction Historically, stellar clusters...  \n"
     ]
    }
   ],
   "source": [
    "import pandas as pd\n",
    "from preprocessing import load_dataset\n",
    "\n",
    "# astro_reviews = load_dataset('data/preprocessed/Astro_Reviews.json')\n",
    "# data = pd.DataFrame(astro_reviews)\n",
    "data = pd.read_json('data/preprocessed/Astro_Reviews.json')\n",
    "print(data.head())\n"
   ]
  },
  {
   "cell_type": "code",
   "execution_count": 4,
   "metadata": {},
   "outputs": [
    {
     "name": "stdout",
     "output_type": "stream",
     "text": [
      "Classically, this process has been represented by the average volume-filling fraction of ionized gas (e.g., . \n",
      "['10.1086/306975']\n"
     ]
    }
   ],
   "source": [
    "example = {\"source_doi\": \"10.1146/annurev-astro-120221-044656\",\n",
    "           \"sent_original\": \"Classically, this process has been represented by the average volume-filling fraction of ionized gas (e.g., Madau et al. 1999 ). \", \"sent_no_cit\": \"Classically, this process has been represented by the average volume-filling fraction of ionized gas (e.g., . \", \"sent_idx\": 44, \"citation_dois\": [\"10.1086/306975\"]}\n",
    "print(example['sent_no_cit'])\n",
    "print(example['citation_dois'])"
   ]
  },
  {
   "cell_type": "code",
   "execution_count": 8,
   "metadata": {},
   "outputs": [
    {
     "name": "stdout",
     "output_type": "stream",
     "text": [
      "Database version: ('PostgreSQL 17.3 (Homebrew) on x86_64-apple-darwin23.6.0, compiled by Apple clang version 16.0.0 (clang-1600.0.26.6), 64-bit',)\n",
      "{'dbname': 'test', 'user': 'bbasseri', 'password': 'citeline25', 'host': 'localhost', 'port': '5432'}\n",
      "Processor: <database.database.DatabaseProcessor object at 0x6068d0c90>\n",
      "Embedder: <function sentence_transformer_embedder.<locals>.embedding_lambda at 0x16d10e3e0>\n"
     ]
    }
   ],
   "source": [
    "# This doi is confirmed to exist in the chunks table\n",
    "from dotenv import load_dotenv\n",
    "from database.database import DatabaseProcessor\n",
    "import os\n",
    "\n",
    "load_dotenv()\n",
    "db_params = {\n",
    "    'dbname': 'test',\n",
    "    'user': os.getenv('DB_USER'),\n",
    "    'password': os.getenv('DB_PASSWORD'),\n",
    "    'host': os.getenv('DB_HOST'),\n",
    "    'port': os.getenv('DB_PORT')\n",
    "}\n",
    "\n",
    "processor = DatabaseProcessor(db_params)\n",
    "processor.test_connection()\n",
    "print(processor.db_params)\n",
    "\n",
    "from embedding_functions import get_embedding_fn\n",
    "embedder = get_embedding_fn(\n",
    "    'BAAI/bge-small-en', processor.device, normalize=False)\n",
    "\n",
    "print(f\"Processor: {processor}\")\n",
    "print(f\"Embedder: {embedder}\")"
   ]
  },
  {
   "cell_type": "code",
   "execution_count": 10,
   "metadata": {},
   "outputs": [
    {
     "name": "stderr",
     "output_type": "stream",
     "text": [
      "100%|██████████| 1000/1000 [00:00<00:00, 1960871.44it/s]"
     ]
    },
    {
     "name": "stdout",
     "output_type": "stream",
     "text": [
      "Article not found \n"
     ]
    },
    {
     "name": "stderr",
     "output_type": "stream",
     "text": [
      "\n"
     ]
    }
   ],
   "source": [
    "for article in tqdm(earth_research):\n",
    "    if '10.1051/0004-6361/201321519' in article['doi']:\n",
    "        print(f\"{article['title']}\")\n",
    "        break\n",
    "else:\n",
    "    print(f\"Article not found \")"
   ]
  },
  {
   "cell_type": "code",
   "execution_count": null,
   "metadata": {},
   "outputs": [
    {
     "name": "stderr",
     "output_type": "stream",
     "text": [
      "100%|██████████| 964/964 [00:00<00:00, 474177.21it/s]"
     ]
    },
    {
     "name": "stdout",
     "output_type": "stream",
     "text": [
      "Article not found \n"
     ]
    },
    {
     "name": "stderr",
     "output_type": "stream",
     "text": [
      "\n"
     ]
    }
   ],
   "source": [
    "for article in tqdm(planet_research):\n",
    "    if '10.1038/nature13520' in article['doi']:\n",
    "        print(f\"{article['title']}\")\n",
    "        break\n",
    "else:\n",
    "    print(f\"Article not found \")"
   ]
  },
  {
   "cell_type": "code",
   "execution_count": 11,
   "metadata": {},
   "outputs": [
    {
     "name": "stderr",
     "output_type": "stream",
     "text": [
      " 71%|███████   | 35307/50021 [00:00<00:00, 726852.94it/s]"
     ]
    },
    {
     "name": "stdout",
     "output_type": "stream",
     "text": [
      "Influence of physical galaxy properties on Lyα escape in star-forming galaxies\n"
     ]
    },
    {
     "name": "stderr",
     "output_type": "stream",
     "text": [
      "\n"
     ]
    }
   ],
   "source": [
    "for article in tqdm(salvaged_research):\n",
    "    if '10.1051/0004-6361/201321519' in article['doi']:\n",
    "        print(f\"{article['title']}\")\n",
    "        break\n",
    "else:\n",
    "    print(f\"Article not found \")"
   ]
  },
  {
   "cell_type": "code",
   "execution_count": 7,
   "metadata": {},
   "outputs": [
    {
     "name": "stderr",
     "output_type": "stream",
     "text": [
      "100%|██████████| 1898/1898 [00:00<00:00, 622861.20it/s]"
     ]
    },
    {
     "name": "stdout",
     "output_type": "stream",
     "text": [
      "Article not found \n"
     ]
    },
    {
     "name": "stderr",
     "output_type": "stream",
     "text": [
      "\n"
     ]
    }
   ],
   "source": [
    "for article in tqdm(doi_articles):\n",
    "    if '10.1038/nature13520' in article['doi']:\n",
    "        print(f\"{article['title']}\")\n",
    "        break\n",
    "else:\n",
    "    print(f\"Article not found \")"
   ]
  },
  {
   "cell_type": "code",
   "execution_count": 8,
   "metadata": {},
   "outputs": [
    {
     "name": "stdout",
     "output_type": "stream",
     "text": [
      "Article not found\n"
     ]
    }
   ],
   "source": [
    "for journal in [astro_research, doi_articles, earth_research, planet_research, salvaged_research]:\n",
    "    for article in journal:\n",
    "        if '10.1051/0004-6361/201321519' in article['doi']:\n",
    "            print(f\"{article['title']}\")\n",
    "            break\n",
    "    else:\n",
    "        print(f\"Article not found\")\n",
    "        break"
   ]
  },
  {
   "cell_type": "code",
   "execution_count": 15,
   "metadata": {},
   "outputs": [
    {
     "name": "stdout",
     "output_type": "stream",
     "text": [
      "Galaxy Formation and Reionization: Key Unknowns and Expected Breakthroughs by the James Webb Space Telescope\n"
     ]
    }
   ],
   "source": [
    "paper = None\n",
    "for article in doi_articles:\n",
    "    if '10.1146/annurev-astro-120221-044656' in article['doi']:\n",
    "        paper = article\n",
    "        break\n",
    "print(paper['title'])"
   ]
  },
  {
   "cell_type": "code",
   "execution_count": 21,
   "metadata": {},
   "outputs": [
    {
     "name": "stdout",
     "output_type": "stream",
     "text": [
      "data/sentence_segmented_and_merged/Astro_Reviews.json: 996/996 have all required keys\n",
      "1    G: ::  : a: ::  : l: ::  : a: ::  : x: ::  : y...\n",
      "Name: title, dtype: object\n"
     ]
    }
   ],
   "source": [
    "import pandas as pd\n",
    "df = pd.DataFrame(load_dataset(\n",
    "    'data/sentence_segmented_and_merged/Astro_Reviews.json'))\n",
    "\n",
    "paper = df[df['doi'].apply(lambda x: '10.1146/annurev-astro-120221-044656' in x)]\n",
    "print(paper['title'])"
   ]
  },
  {
   "cell_type": "code",
   "execution_count": 22,
   "metadata": {},
   "outputs": [
    {
     "name": "stdout",
     "output_type": "stream",
     "text": [
      "data/sentence_segmented_and_merged/Astro_Reviews.json: 996/996 have all required keys\n",
      "G: ::  : a: ::  : l: ::  : a: ::  : x: ::  : y: ::  :  : ::  : F: ::  : o: ::  : r: ::  : m: ::  : a: ::  : t: ::  : i: ::  : o: ::  : n: ::  :  : ::  : a: ::  : n: ::  : d: ::  :  : ::  : R: ::  : e: ::  : i: ::  : o: ::  : n: ::  : i: ::  : z: ::  : a: ::  : t: ::  : i: ::  : o: ::  : n: ::  : :: ::  :  : ::  : K: ::  : e: ::  : y: ::  :  : ::  : U: ::  : n: ::  : k: ::  : n: ::  : o: ::  : w: ::  : n: ::  : s: ::  :  : ::  : a: ::  : n: ::  : d: ::  :  : ::  : E: ::  : x: ::  : p: ::  : e: ::  : c: ::  : t: ::  : e: ::  : d: ::  :  : ::  : B: ::  : r: ::  : e: ::  : a: ::  : k: ::  : t: ::  : h: ::  : r: ::  : o: ::  : u: ::  : g: ::  : h: ::  : s: ::  :  : ::  : b: ::  : y: ::  :  : ::  : t: ::  : h: ::  : e: ::  :  : ::  : J: ::  : a: ::  : m: ::  : e: ::  : s: ::  :  : ::  : W: ::  : e: ::  : b: ::  : b: ::  :  : ::  : S: ::  : p: ::  : a: ::  : c: ::  : e: ::  :  : ::  : T: ::  : e: ::  : l: ::  : e: ::  : s: ::  : c: ::  : o: ::  : p: ::  : e\n"
     ]
    }
   ],
   "source": [
    "astro_reviews = load_dataset('data/sentence_segmented_and_merged/Astro_Reviews.json')\n",
    "for article in astro_reviews:\n",
    "    if '10.1146/annurev-astro-120221-044656' in article['doi']:\n",
    "        print(f\"{article['title']}\")\n",
    "        break"
   ]
  },
  {
   "cell_type": "code",
   "execution_count": 23,
   "metadata": {},
   "outputs": [
    {
     "name": "stdout",
     "output_type": "stream",
     "text": [
      "data/sentence_segmented/Astro_Reviews.json: 996/996 have all required keys\n",
      "G: a: l: a: x: y:  : F: o: r: m: a: t: i: o: n:  : a: n: d:  : R: e: i: o: n: i: z: a: t: i: o: n: ::  : K: e: y:  : U: n: k: n: o: w: n: s:  : a: n: d:  : E: x: p: e: c: t: e: d:  : B: r: e: a: k: t: h: r: o: u: g: h: s:  : b: y:  : t: h: e:  : J: a: m: e: s:  : W: e: b: b:  : S: p: a: c: e:  : T: e: l: e: s: c: o: p: e\n"
     ]
    }
   ],
   "source": [
    "astro_reviews = load_dataset(\n",
    "    'data/sentence_segmented/Astro_Reviews.json')\n",
    "for article in astro_reviews:\n",
    "    if '10.1146/annurev-astro-120221-044656' in article['doi']:\n",
    "        print(f\"{article['title']}\")\n",
    "        break"
   ]
  },
  {
   "cell_type": "code",
   "execution_count": 25,
   "metadata": {},
   "outputs": [
    {
     "name": "stdout",
     "output_type": "stream",
     "text": [
      "data/json/Astro_Reviews.json: 996/1000 have all required keys\n",
      "The Chemical Composition of the Sun\n",
      "Cosmic Star-Formation History\n",
      "Star Formation in Galaxies Along the Hubble Sequence\n",
      "Coevolution (Or Not) of Supermassive Black Holes and Host Galaxies\n",
      "Galactic Archaeology with Gaia\n",
      "Star Formation in the Milky Way and Nearby Galaxies\n",
      "How Gaia sheds light on the Milky Way star cluster population\n",
      "Unified models for active galactic nuclei and quasars.\n",
      "Stellar streams in the Gaia era\n",
      "Gaia's binary star renaissance\n"
     ]
    }
   ],
   "source": [
    "astro_reviews = load_dataset('data/json/Astro_Reviews.json')\n",
    "for i in range(10):\n",
    "    print(astro_reviews[i]['title'])"
   ]
  },
  {
   "cell_type": "code",
   "execution_count": 41,
   "metadata": {},
   "outputs": [
    {
     "name": "stdout",
     "output_type": "stream",
     "text": [
      "data/json/Astro_Reviews.json: 996/1000 have all required keys\n"
     ]
    }
   ],
   "source": [
    "import json\n",
    "REQUIRED_KEYS = {'title', 'body', 'abstract', 'doi', 'reference', 'bibcode'}\n",
    "def load_dataset(path):\n",
    "    with open(path, 'r') as file:\n",
    "        data = json.load(file)\n",
    "\n",
    "    total_records = len(data)\n",
    "    data = [d for d in data if REQUIRED_KEYS.issubset(d.keys())]\n",
    "    complete_records = len(data)\n",
    "    print(f\"{path}: {complete_records}/{total_records} have all required keys\")\n",
    "\n",
    "    for record in data:\n",
    "        record['title'] = record['title'][0]\n",
    "\n",
    "    return data\n",
    "\n",
    "astro_reviews = load_dataset('data/json/Astro_Reviews.json')"
   ]
  },
  {
   "cell_type": "code",
   "execution_count": 42,
   "metadata": {},
   "outputs": [
    {
     "name": "stdout",
     "output_type": "stream",
     "text": [
      "data/json/Astro_Reviews.json: 996/1000 have all required keys\n",
      "data/json/doi_articles.json: 1898/1898 have all required keys\n",
      "data/json/Earth_Science_Reviews.json: 994/1000 have all required keys\n",
      "data/json/Planetary_Reviews.json: 994/1000 have all required keys\n",
      "data/json/salvaged_articles.json: 50021/72374 have all required keys\n"
     ]
    }
   ],
   "source": [
    "for journal in ['data/json/Astro_Reviews.json', 'data/json/doi_articles.json', 'data/json/Earth_Science_Reviews.json', 'data/json/Planetary_Reviews.json', 'data/json/salvaged_articles.json']:\n",
    "    data = load_dataset(journal)"
   ]
  },
  {
   "cell_type": "code",
   "execution_count": 43,
   "metadata": {},
   "outputs": [],
   "source": [
    "import json\n",
    "from tqdm import tqdm\n",
    "import os\n",
    "import pysbd\n",
    "from concurrent.futures import ProcessPoolExecutor, as_completed\n",
    "\n",
    "SEG = pysbd.Segmenter(language=\"en\", clean=False)\n",
    "\n",
    "\n",
    "def merge_short_sentences(sentences, threshold=60):\n",
    "    \"\"\"\n",
    "    Returns a list of sentences where sentences below the threshold length\n",
    "    are re-concatenated with the following sentence. If the result is still \n",
    "    below the threshold length, the process is repeated until the threshold\n",
    "    is reached.\n",
    "    \"\"\"\n",
    "    merged_sentences = []\n",
    "    for i in range(len(sentences) - 1):\n",
    "        if len(sentences[i]) < threshold:\n",
    "            sentences[i + 1] = sentences[i] + sentences[i + 1]\n",
    "        else:\n",
    "            merged_sentences.append(sentences[i])\n",
    "\n",
    "    # Handle the last sentence\n",
    "    if len(sentences[-1]) < threshold or len(merged_sentences[-1]) < threshold:\n",
    "        merged_sentences[-1] = merged_sentences[-1] + sentences[-1]\n",
    "    else:\n",
    "        merged_sentences.append(sentences[-1])\n",
    "    return merged_sentences\n",
    "\n",
    "\n",
    "def process_record(record):\n",
    "    sentences = SEG.segment(record['body'])\n",
    "    record['body_sentences'] = merge_short_sentences(sentences)\n",
    "    return record"
   ]
  },
  {
   "cell_type": "code",
   "execution_count": 44,
   "metadata": {},
   "outputs": [
    {
     "name": "stdout",
     "output_type": "stream",
     "text": [
      "data/json/Astro_Reviews.json: 996/1000 have all required keys\n",
      "The Chemical Composition of the Sun\n",
      "['1. INTRODUCTION The solar chemical composition is a fundamental yardstick in astronomy, to which the elemental abundances of essentially all cosmic objects, be they planets, stars, nebulae or galaxies, are anchored. ', 'The importance of having accurate solar elemental abundances thus can not be overstated. ', 'From the pioneering efforts of Russell (1929) , Suess Urey (1956) , and Goldberg, Müller Aller (1960) to the more recent works of Anders Grevesse (1989) , Grevesse Sauval (1998) , Lodders (2003) , Asplund, Grevesse Sauval (2005) , Grevesse, Asplund Sauval (2007) , and Lodders, Palme Gail (2009) , compilations of the Solar System abundances have found extremely wide-ranging use in astronomy and cosmology. ', 'There are two independent and complementary ways of determining the Solar System abundances, each with its pros and cons. ', 'Through mass spectroscopy of meteorites in terrestrial laboratories, it is possible to directly measure the abundance of almost every element and isotope with remarkable precision. ']\n"
     ]
    }
   ],
   "source": [
    "astro_reviews = load_dataset('data/json/Astro_Reviews.json')\n",
    "paper = process_record(astro_reviews[0])\n",
    "print(paper['title'])\n",
    "print(paper['body_sentences'][:5])"
   ]
  },
  {
   "cell_type": "code",
   "execution_count": 45,
   "metadata": {},
   "outputs": [
    {
     "name": "stdout",
     "output_type": "stream",
     "text": [
      "Dwarf Galaxies of the Local Group\n",
      "['INTRODUCTION While observing the Andromeda Nebula with a fine 18-ft telescope ... ', 'I saw another small nebula about one minute in diameter which appeared to throw out two small rays; one to the right and the other to the left . ', 'G-J-H-J-B Le Gentil de la Galazière, October 29, 1749 Remarks on the Nebulous Stars (1759) To the rest of the Universe, the Local Group is an ordinary collection of dwarf galaxies dominated by two giant spirals. ', 'But to Earthbound astronomers interested in galaxy evolution, the Local Group is particularly special. ', 'The dwarfs of the Local Group provide a uniquely well-studied and statistically useful sample of low-luminosity galaxies. ']\n"
     ]
    }
   ],
   "source": [
    "paper = process_record(astro_reviews[42])\n",
    "print(paper['title'])\n",
    "print(paper['body_sentences'][:5])"
   ]
  },
  {
   "cell_type": "code",
   "execution_count": null,
   "metadata": {},
   "outputs": [],
   "source": []
  }
 ],
 "metadata": {
  "kernelspec": {
   "display_name": "citeline",
   "language": "python",
   "name": "python3"
  },
  "language_info": {
   "codemirror_mode": {
    "name": "ipython",
    "version": 3
   },
   "file_extension": ".py",
   "mimetype": "text/x-python",
   "name": "python",
   "nbconvert_exporter": "python",
   "pygments_lexer": "ipython3",
   "version": "3.11.10"
  }
 },
 "nbformat": 4,
 "nbformat_minor": 2
}
