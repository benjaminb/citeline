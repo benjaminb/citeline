{
 "cells": [
  {
   "cell_type": "code",
   "execution_count": 8,
   "metadata": {},
   "outputs": [],
   "source": [
    "import argparse\n",
    "import chromadb\n",
    "import pysbd\n",
    "import uuid\n",
    "from embedding_functions import get_embedding_fn\n",
    "from utils import load_dataset"
   ]
  },
  {
   "cell_type": "code",
   "execution_count": 3,
   "metadata": {},
   "outputs": [
    {
     "name": "stdout",
     "output_type": "stream",
     "text": [
      "<embedding_functions.ChromaEmbedder object at 0x327cac210>\n"
     ]
    }
   ],
   "source": [
    "model = \"BAAI/bge-small-en\"\n",
    "device = \"mps\"\n",
    "embedding_fn = get_embedding_fn(model, device, normalize=False)\n",
    "print(embedding_fn)"
   ]
  },
  {
   "cell_type": "code",
   "execution_count": 7,
   "metadata": {},
   "outputs": [
    {
     "name": "stdout",
     "output_type": "stream",
     "text": [
      "<class 'list'>\n",
      "996\n"
     ]
    }
   ],
   "source": [
    "data = load_dataset('data/processed_for_chroma/reviews/Astro_Reviews.json')\n",
    "print(type(data))\n",
    "print(len(data))"
   ]
  },
  {
   "cell_type": "code",
   "execution_count": null,
   "metadata": {},
   "outputs": [],
   "source": [
    "# record -> chunking -> use embdding_fn to create insertion records -> insert into db"
   ]
  },
  {
   "cell_type": "code",
   "execution_count": 9,
   "metadata": {},
   "outputs": [],
   "source": [
    "# Create a sentence chunker\n",
    "SEG = pysbd.Segmenter(language=\"en\", clean=False)\n",
    "def abstract_sentence_chunker(record, embedding_fn):\n",
    "    # Data preparation\n",
    "    abstract = record['abstract']\n",
    "    sentences = SEG.segment(record['body'])\n",
    "\n",
    "    # Construct the texts to be embedded\n",
    "    texts = [abstract + '\\n' + sentence for sentence in sentences]\n",
    "    vectors = embedding_fn(texts)\n",
    "\n",
    "    return zip(sentences, vectors)\n",
    "\n",
    "# Create an (abstract, sentence) chunker"
   ]
  },
  {
   "cell_type": "code",
   "execution_count": 22,
   "metadata": {},
   "outputs": [],
   "source": [
    "def augmented_sentence_embeddings(record, embedding_fn, augmenting_fn):\n",
    "    sentences = SEG.segment(record['body'])\n",
    "    texts = augmenting_fn(record, sentences)\n",
    "    vectors = embedding_fn(texts)\n",
    "    return list(zip(sentences, vectors))\n",
    "\n",
    "def augment_with_abstract(record, sentences):\n",
    "    abstract = record['abstract']\n",
    "    return [abstract + '\\n' + sentence for sentence in sentences]\n",
    "\n",
    "def no_augmentation(record, sentences):\n",
    "    return sentences"
   ]
  },
  {
   "cell_type": "code",
   "execution_count": 20,
   "metadata": {},
   "outputs": [],
   "source": [
    "abstract_and_sentence_embeddings = augmented_sentence_embeddings(data[0], embedding_fn, augment_with_abstract)"
   ]
  },
  {
   "cell_type": "code",
   "execution_count": 23,
   "metadata": {},
   "outputs": [],
   "source": [
    "sentence_only_embeddings = augmented_sentence_embeddings(data[0], embedding_fn, no_augmentation)"
   ]
  },
  {
   "cell_type": "code",
   "execution_count": 24,
   "metadata": {},
   "outputs": [
    {
     "name": "stdout",
     "output_type": "stream",
     "text": [
      "Lenght of abstract_and_sentence_embeddings: 699\n",
      "Lenght of sentence_only_embeddings: 699\n"
     ]
    }
   ],
   "source": [
    "print(f\"Lenght of abstract_and_sentence_embeddings: {len(abstract_and_sentence_embeddings)}\")\n",
    "print(f\"Lenght of sentence_only_embeddings: {len(sentence_only_embeddings)}\")"
   ]
  },
  {
   "cell_type": "code",
   "execution_count": null,
   "metadata": {},
   "outputs": [],
   "source": []
  }
 ],
 "metadata": {
  "kernelspec": {
   "display_name": "citeline",
   "language": "python",
   "name": "python3"
  },
  "language_info": {
   "codemirror_mode": {
    "name": "ipython",
    "version": 3
   },
   "file_extension": ".py",
   "mimetype": "text/x-python",
   "name": "python",
   "nbconvert_exporter": "python",
   "pygments_lexer": "ipython3",
   "version": "3.11.10"
  }
 },
 "nbformat": 4,
 "nbformat_minor": 2
}
