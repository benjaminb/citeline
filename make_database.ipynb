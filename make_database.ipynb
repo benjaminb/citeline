{
 "cells": [
  {
   "cell_type": "code",
   "execution_count": 1,
   "metadata": {},
   "outputs": [],
   "source": [
    "import argparse\n",
    "import chromadb\n",
    "import pysbd\n",
    "import uuid\n",
    "from embedding_functions import get_embedding_fn\n",
    "from utils import load_dataset"
   ]
  },
  {
   "cell_type": "code",
   "execution_count": 2,
   "metadata": {},
   "outputs": [
    {
     "name": "stdout",
     "output_type": "stream",
     "text": [
      "<embedding_functions.ChromaEmbedder object at 0x32aa2ded0>\n"
     ]
    }
   ],
   "source": [
    "model = \"BAAI/bge-small-en\"\n",
    "device = \"mps\"\n",
    "embedding_fn = get_embedding_fn(model, device, normalize=False)\n",
    "print(embedding_fn)"
   ]
  },
  {
   "cell_type": "code",
   "execution_count": 3,
   "metadata": {},
   "outputs": [
    {
     "name": "stdout",
     "output_type": "stream",
     "text": [
      "<class 'list'>\n",
      "996\n"
     ]
    }
   ],
   "source": [
    "data = load_dataset('data/processed_for_chroma/reviews/Astro_Reviews.json')\n",
    "print(type(data))\n",
    "print(len(data))"
   ]
  },
  {
   "cell_type": "code",
   "execution_count": 4,
   "metadata": {},
   "outputs": [],
   "source": [
    "# record -> chunking -> use embdding_fn to create insertion records -> insert into db"
   ]
  },
  {
   "cell_type": "code",
   "execution_count": 42,
   "metadata": {},
   "outputs": [],
   "source": [
    "SEG = pysbd.Segmenter(language=\"en\", clean=False)\n",
    "\n",
    "def augmented_sentence_embeddings(record, embedding_fn, augmenting_fn):\n",
    "    \"\"\"\n",
    "    Takes a record's body, segments it into sentences, augments each sentence \n",
    "    for embedding (such as with title or abstract), and returns a list of tuples \n",
    "    of the form (sentence, embedding).\n",
    "    \"\"\"\n",
    "    sentences = SEG.segment(record['body'])\n",
    "    texts = augmenting_fn(record, sentences)\n",
    "    vectors = embedding_fn(texts)\n",
    "    return sentences, vectors\n",
    "\n",
    "def add_abstract(record, sentences):\n",
    "    abstract = record['abstract']\n",
    "    return [abstract + '\\n' + sentence for sentence in sentences]\n",
    "\n",
    "def add_title(record, sentences):\n",
    "    title = record['title']\n",
    "    return [title + '\\n' + sentence for sentence in sentences]\n",
    "\n",
    "def add_title_and_abstract(record, sentences):\n",
    "    title = record['title']\n",
    "    abstract = record['abstract']\n",
    "    return [title + '\\n' + abstract + '\\n' + sentence for sentence in sentences]\n",
    "\n",
    "def no_augmentation(record, sentences):\n",
    "    return sentences"
   ]
  },
  {
   "cell_type": "markdown",
   "metadata": {},
   "source": [
    "# Insert to DB\n",
    "\n",
    "For each (augmentation strategy, embedding function, metric) we need to create a collection. The same embedding function can be used for all metrics however"
   ]
  },
  {
   "cell_type": "code",
   "execution_count": 25,
   "metadata": {},
   "outputs": [],
   "source": [
    "client = chromadb.PersistentClient(path='./vector_stores/test/')"
   ]
  },
  {
   "cell_type": "code",
   "execution_count": 35,
   "metadata": {},
   "outputs": [
    {
     "name": "stdout",
     "output_type": "stream",
     "text": [
      "Deleting collection test-bge-small-en__cosine__no_augmentation\n",
      "Deleting collection test-bge-small-en__l2__no_augmentation\n",
      "Deleting collection test-bge-small-en__cosine__add_title\n",
      "Deleting collection test-bge-small-en__l2__add_title\n"
     ]
    }
   ],
   "source": [
    "# Delete previous test collections\n",
    "\n",
    "collections = client.list_collections()\n",
    "for collection in collections:\n",
    "    if collection.name.startswith('test'):\n",
    "        print(f\"Deleting collection {collection.name}\")\n",
    "        client.delete_collection(name=collection.name)\n"
   ]
  },
  {
   "cell_type": "code",
   "execution_count": 53,
   "metadata": {},
   "outputs": [],
   "source": [
    "# Collection name will be the name of the embedding model-metric-name of augmentation function\n",
    "from tqdm import tqdm\n",
    "\n",
    "def create_collection(client, embedding_fn, metric, augmenting_fn):\n",
    "    # Set up collection name\n",
    "    model_name = embedding_fn.model_name\n",
    "    aug_fn = augmenting_fn.__name__\n",
    "    collection_name = f\"test-{model_name}__{metric}__{aug_fn}\"\n",
    "\n",
    "    # Create collection\n",
    "    print(f\"Creating collection: {collection_name}...\", end=\"\")\n",
    "    collection = client.create_collection(\n",
    "        name=collection_name, \n",
    "        embedding_function = embedding_fn,\n",
    "        metadata={\"hnsw:space\": metric})\n",
    "    print(\"created.\")\n",
    "    return collection\n",
    "\n",
    "def get_expected_parameters_from_collection_name(collection_name):\n",
    "    parts = collection_name.split(\"__\")\n",
    "    # TODO: fix this for the real runs when 'test-' won't prepend each collection name\n",
    "    model_name = parts[0][5:]\n",
    "    metric = parts[1]\n",
    "    augmenting_fn_name = parts[2]\n",
    "    return model_name, metric, augmenting_fn_name\n",
    "\n",
    "def insert_records(collection, records, embedding_fn, augmenting_fn):\n",
    "    # Ensure the passed in embedding function and augmenting function match the collection's expected functions\n",
    "    model_name, metric, augmenting_fn_name = get_expected_parameters_from_collection_name(collection.name)\n",
    "    assert model_name == embedding_fn.model_name, f\"Expected embedding model '{model_name}' for collection {collection.name} but got '{embedding_fn.model_name}'\"\n",
    "    assert augmenting_fn_name == augmenting_fn.__name__, f\"Expected augmentation function '{augmenting_fn_name}' for {collection.name} but got '{augmenting_fn.__name__}'\"\n",
    "\n",
    "    count = collection.count()\n",
    "\n",
    "    # Insert records\n",
    "    for record in tqdm(records):\n",
    "        sentences, vectors = augmented_sentence_embeddings(record, embedding_fn, augmenting_fn)\n",
    "        ids = [str(uuid.uuid4()) for _ in sentences]\n",
    "        doi = record['doi'][0]\n",
    "        collection.add(\n",
    "            documents=sentences,\n",
    "            metadatas=[{'doi': doi}] * len(sentences),\n",
    "            embeddings=vectors,\n",
    "            ids=ids\n",
    "        )\n",
    "\n",
    "    print(f\"Added {collection.count() - count} records to collection {collection.name}\")\n",
    "    "
   ]
  },
  {
   "cell_type": "code",
   "execution_count": 37,
   "metadata": {},
   "outputs": [
    {
     "name": "stdout",
     "output_type": "stream",
     "text": [
      "Creating collection: test-bge-small-en__cosine__no_augmentation...created.\n",
      "Creating collection: test-bge-small-en__l2__no_augmentation...created.\n",
      "Creating collection: test-bge-small-en__cosine__add_title...created.\n",
      "Creating collection: test-bge-small-en__l2__add_title...created.\n"
     ]
    }
   ],
   "source": [
    "import itertools\n",
    "augmenting_functions = [no_augmentation, add_title]\n",
    "metrics = ['cosine', 'l2']\n",
    "collections = [create_collection(client, embedding_fn, metric, augmenting_fn) for augmenting_fn, metric in itertools.product(augmenting_functions, metrics)]\n"
   ]
  },
  {
   "cell_type": "code",
   "execution_count": 54,
   "metadata": {},
   "outputs": [
    {
     "name": "stdout",
     "output_type": "stream",
     "text": [
      "Collection(name=test-bge-small-en__l2__add_title)\n"
     ]
    },
    {
     "name": "stderr",
     "output_type": "stream",
     "text": [
      "100%|██████████| 2/2 [00:11<00:00,  5.53s/it]"
     ]
    },
    {
     "name": "stdout",
     "output_type": "stream",
     "text": [
      "Added 1941 records to collection test-bge-small-en__l2__add_title\n"
     ]
    },
    {
     "name": "stderr",
     "output_type": "stream",
     "text": [
      "\n"
     ]
    }
   ],
   "source": [
    "collection = collections[-1]\n",
    "print(collection)\n",
    "insert_records(collection, data[:2], embedding_fn, add_title)"
   ]
  },
  {
   "cell_type": "code",
   "execution_count": 52,
   "metadata": {},
   "outputs": [
    {
     "data": {
      "text/plain": [
       "2640"
      ]
     },
     "execution_count": 52,
     "metadata": {},
     "output_type": "execute_result"
    }
   ],
   "source": []
  },
  {
   "cell_type": "code",
   "execution_count": 37,
   "metadata": {},
   "outputs": [],
   "source": [
    "vectors = [vector for _, vector in sentence_only_embeddings[:3]]\n",
    "ids = [str(uuid.uuid4()) for _ in range(len(vectors))]"
   ]
  },
  {
   "cell_type": "code",
   "execution_count": null,
   "metadata": {},
   "outputs": [],
   "source": [
    "type(vectors[0])"
   ]
  },
  {
   "cell_type": "code",
   "execution_count": null,
   "metadata": {},
   "outputs": [],
   "source": [
    "# with vectors provided\n",
    "collection.add(\n",
    "    documents=dummy_docs,\n",
    "    ids=ids,\n",
    "    embeddings=vectors\n",
    ")\n"
   ]
  },
  {
   "cell_type": "code",
   "execution_count": null,
   "metadata": {},
   "outputs": [],
   "source": []
  }
 ],
 "metadata": {
  "kernelspec": {
   "display_name": "citeline",
   "language": "python",
   "name": "python3"
  },
  "language_info": {
   "codemirror_mode": {
    "name": "ipython",
    "version": 3
   },
   "file_extension": ".py",
   "mimetype": "text/x-python",
   "name": "python",
   "nbconvert_exporter": "python",
   "pygments_lexer": "ipython3",
   "version": "3.11.10"
  }
 },
 "nbformat": 4,
 "nbformat_minor": 2
}
