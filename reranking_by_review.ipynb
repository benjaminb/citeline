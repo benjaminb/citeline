{
 "cells": [
  {
   "cell_type": "code",
   "execution_count": null,
   "id": "1d47268a",
   "metadata": {},
   "outputs": [],
   "source": [
    "import pandas as pd\n",
    "from tqdm import tqdm\n",
    "import json\n",
    "import numpy as np\n",
    "import seaborn as sns\n",
    "import matplotlib.pyplot as plt\n",
    "from core.embedders import Embedder\n",
    "\n",
    "from core.statistics_computation import compute_statistics\n",
    "\n",
    "query_embedder = Embedder.create(\"Qwen/Qwen-Embedder-0.6B\", device='mps', normalize=True, for_queries=True)\n",
    "doc_embedder = Embedder.create(\"Qwen/Qwen-Embedder-0.6B\", device='mps', normalize=True, for_queries=False)"
   ]
  },
  {
   "cell_type": "code",
   "execution_count": 2,
   "id": "07876ab8",
   "metadata": {},
   "outputs": [],
   "source": [
    "rank_fuser = RankFuser(config={\"log_citations\": 1.0, \"negative_log_years_old\": 4.0})"
   ]
  },
  {
   "cell_type": "code",
   "execution_count": 5,
   "id": "8ebf76a3",
   "metadata": {},
   "outputs": [
    {
     "name": "stdout",
     "output_type": "stream",
     "text": [
      "14735\n"
     ]
    }
   ],
   "source": [
    "FILE = \"experiments/results/bge_title_search_results.jsonl\"\n",
    "\n",
    "# truncate the data to top k=200\n",
    "data = []\n",
    "with open(FILE, \"r\") as f:\n",
    "    for line in f:\n",
    "        row_data = json.loads(line)\n",
    "        row_data[\"results\"] = row_data[\"results\"][:200]\n",
    "        data.append(row_data)\n",
    "    # data = [json.loads(line) for line in f]\n",
    "\n",
    "print(len(data))"
   ]
  },
  {
   "cell_type": "code",
   "execution_count": 6,
   "id": "21f968d9",
   "metadata": {},
   "outputs": [
    {
     "name": "stderr",
     "output_type": "stream",
     "text": [
      "Reranking results:  12%|█▏        | 1836/14735 [00:13<01:36, 133.94it/s]\n"
     ]
    },
    {
     "ename": "KeyboardInterrupt",
     "evalue": "",
     "output_type": "error",
     "traceback": [
      "\u001b[0;31m---------------------------------------------------------------------------\u001b[0m",
      "\u001b[0;31mKeyboardInterrupt\u001b[0m                         Traceback (most recent call last)",
      "Cell \u001b[0;32mIn[6], line 1\u001b[0m\n\u001b[0;32m----> 1\u001b[0m reranked \u001b[38;5;241m=\u001b[39m \u001b[43mrank_fuser\u001b[49m\u001b[38;5;241;43m.\u001b[39;49m\u001b[43mrerank\u001b[49m\u001b[43m(\u001b[49m\u001b[43mdata\u001b[49m\u001b[43m)\u001b[49m\n\u001b[1;32m      2\u001b[0m \u001b[38;5;28mprint\u001b[39m(\u001b[38;5;28mlen\u001b[39m(reranked))\n",
      "File \u001b[0;32m~/Dropbox/Studies/StellarDNN/citeline/rank_fuser.py:51\u001b[0m, in \u001b[0;36mRankFuser.rerank\u001b[0;34m(self, data)\u001b[0m\n\u001b[1;32m     49\u001b[0m     query \u001b[38;5;241m=\u001b[39m pd\u001b[38;5;241m.\u001b[39mSeries(row[\u001b[38;5;124m\"\u001b[39m\u001b[38;5;124mrecord\u001b[39m\u001b[38;5;124m\"\u001b[39m])\n\u001b[1;32m     50\u001b[0m     results \u001b[38;5;241m=\u001b[39m pd\u001b[38;5;241m.\u001b[39mDataFrame(row[\u001b[38;5;124m\"\u001b[39m\u001b[38;5;124mresults\u001b[39m\u001b[38;5;124m\"\u001b[39m])\n\u001b[0;32m---> 51\u001b[0m     reranked_results \u001b[38;5;241m=\u001b[39m \u001b[38;5;28;43mself\u001b[39;49m\u001b[38;5;241;43m.\u001b[39;49m\u001b[43m_rerank_single\u001b[49m\u001b[43m(\u001b[49m\u001b[43mquery\u001b[49m\u001b[43m,\u001b[49m\u001b[43m \u001b[49m\u001b[43mresults\u001b[49m\u001b[43m)\u001b[49m\n\u001b[1;32m     52\u001b[0m     rows\u001b[38;5;241m.\u001b[39mappend({\u001b[38;5;124m\"\u001b[39m\u001b[38;5;124mrecord\u001b[39m\u001b[38;5;124m\"\u001b[39m: query, \u001b[38;5;124m\"\u001b[39m\u001b[38;5;124mresults\u001b[39m\u001b[38;5;124m\"\u001b[39m: reranked_results})\n\u001b[1;32m     54\u001b[0m \u001b[38;5;28;01mreturn\u001b[39;00m rows\n",
      "File \u001b[0;32m~/Dropbox/Studies/StellarDNN/citeline/rank_fuser.py:72\u001b[0m, in \u001b[0;36mRankFuser._rerank_single\u001b[0;34m(self, query, results)\u001b[0m\n\u001b[1;32m     70\u001b[0m \u001b[38;5;66;03m# Compute metrics & build weighted score\u001b[39;00m\n\u001b[1;32m     71\u001b[0m \u001b[38;5;28;01mfor\u001b[39;00m metric, weight \u001b[38;5;129;01min\u001b[39;00m \u001b[38;5;28mzip\u001b[39m(\u001b[38;5;28mself\u001b[39m\u001b[38;5;241m.\u001b[39mmetrics, \u001b[38;5;28mself\u001b[39m\u001b[38;5;241m.\u001b[39mweights):\n\u001b[0;32m---> 72\u001b[0m     scores \u001b[38;5;241m=\u001b[39m \u001b[43mmetric\u001b[49m\u001b[43m(\u001b[49m\u001b[43mquery\u001b[49m\u001b[43m,\u001b[49m\u001b[43m \u001b[49m\u001b[43mresults\u001b[49m\u001b[43m)\u001b[49m\n\u001b[1;32m     73\u001b[0m     results_df[metric\u001b[38;5;241m.\u001b[39mname] \u001b[38;5;241m=\u001b[39m scores\n\u001b[1;32m     74\u001b[0m     results_df[\u001b[38;5;124m\"\u001b[39m\u001b[38;5;124mweighted_score\u001b[39m\u001b[38;5;124m\"\u001b[39m] \u001b[38;5;241m+\u001b[39m\u001b[38;5;241m=\u001b[39m scores \u001b[38;5;241m*\u001b[39m weight\n",
      "File \u001b[0;32m~/Dropbox/Studies/StellarDNN/citeline/metrics.py:72\u001b[0m, in \u001b[0;36mNegativeLogYearsOld.__call__\u001b[0;34m(self, query, results)\u001b[0m\n\u001b[1;32m     69\u001b[0m     \u001b[38;5;28;01mraise\u001b[39;00m \u001b[38;5;167;01mValueError\u001b[39;00m(\u001b[38;5;124m\"\u001b[39m\u001b[38;5;124mResults DataFrame must contain \u001b[39m\u001b[38;5;124m'\u001b[39m\u001b[38;5;124mpubdate\u001b[39m\u001b[38;5;124m'\u001b[39m\u001b[38;5;124m column\u001b[39m\u001b[38;5;124m\"\u001b[39m)\n\u001b[1;32m     71\u001b[0m query_date \u001b[38;5;241m=\u001b[39m pd\u001b[38;5;241m.\u001b[39mto_datetime(\u001b[38;5;28mstr\u001b[39m(query[\u001b[38;5;124m\"\u001b[39m\u001b[38;5;124mpubdate\u001b[39m\u001b[38;5;124m\"\u001b[39m]), \u001b[38;5;28mformat\u001b[39m\u001b[38;5;241m=\u001b[39m\u001b[38;5;124m\"\u001b[39m\u001b[38;5;124m%\u001b[39m\u001b[38;5;124mY\u001b[39m\u001b[38;5;124m%\u001b[39m\u001b[38;5;124mm\u001b[39m\u001b[38;5;132;01m%d\u001b[39;00m\u001b[38;5;124m\"\u001b[39m)\n\u001b[0;32m---> 72\u001b[0m results_pubdates \u001b[38;5;241m=\u001b[39m \u001b[43mresults\u001b[49m\u001b[43m[\u001b[49m\u001b[38;5;124;43m\"\u001b[39;49m\u001b[38;5;124;43mpubdate\u001b[39;49m\u001b[38;5;124;43m\"\u001b[39;49m\u001b[43m]\u001b[49m\u001b[38;5;241;43m.\u001b[39;49m\u001b[43mapply\u001b[49m\u001b[43m(\u001b[49m\u001b[43mpd\u001b[49m\u001b[38;5;241;43m.\u001b[39;49m\u001b[43mto_datetime\u001b[49m\u001b[43m,\u001b[49m\u001b[43m \u001b[49m\u001b[38;5;28;43mformat\u001b[39;49m\u001b[38;5;241;43m=\u001b[39;49m\u001b[38;5;124;43m\"\u001b[39;49m\u001b[38;5;124;43m%\u001b[39;49m\u001b[38;5;124;43mY\u001b[39;49m\u001b[38;5;124;43m%\u001b[39;49m\u001b[38;5;124;43mm\u001b[39;49m\u001b[38;5;132;43;01m%d\u001b[39;49;00m\u001b[38;5;124;43m\"\u001b[39;49m\u001b[43m)\u001b[49m\n\u001b[1;32m     73\u001b[0m \u001b[38;5;66;03m# Calculate years since publication\u001b[39;00m\n\u001b[1;32m     74\u001b[0m days_since_pub \u001b[38;5;241m=\u001b[39m (query_date \u001b[38;5;241m-\u001b[39m results_pubdates)\u001b[38;5;241m.\u001b[39mdt\u001b[38;5;241m.\u001b[39mdays\n",
      "File \u001b[0;32m~/miniforge3/envs/citeline/lib/python3.11/site-packages/pandas/core/series.py:4924\u001b[0m, in \u001b[0;36mSeries.apply\u001b[0;34m(self, func, convert_dtype, args, by_row, **kwargs)\u001b[0m\n\u001b[1;32m   4789\u001b[0m \u001b[38;5;28;01mdef\u001b[39;00m\u001b[38;5;250m \u001b[39m\u001b[38;5;21mapply\u001b[39m(\n\u001b[1;32m   4790\u001b[0m     \u001b[38;5;28mself\u001b[39m,\n\u001b[1;32m   4791\u001b[0m     func: AggFuncType,\n\u001b[0;32m   (...)\u001b[0m\n\u001b[1;32m   4796\u001b[0m     \u001b[38;5;241m*\u001b[39m\u001b[38;5;241m*\u001b[39mkwargs,\n\u001b[1;32m   4797\u001b[0m ) \u001b[38;5;241m-\u001b[39m\u001b[38;5;241m>\u001b[39m DataFrame \u001b[38;5;241m|\u001b[39m Series:\n\u001b[1;32m   4798\u001b[0m \u001b[38;5;250m    \u001b[39m\u001b[38;5;124;03m\"\"\"\u001b[39;00m\n\u001b[1;32m   4799\u001b[0m \u001b[38;5;124;03m    Invoke function on values of Series.\u001b[39;00m\n\u001b[1;32m   4800\u001b[0m \n\u001b[0;32m   (...)\u001b[0m\n\u001b[1;32m   4915\u001b[0m \u001b[38;5;124;03m    dtype: float64\u001b[39;00m\n\u001b[1;32m   4916\u001b[0m \u001b[38;5;124;03m    \"\"\"\u001b[39;00m\n\u001b[1;32m   4917\u001b[0m     \u001b[38;5;28;01mreturn\u001b[39;00m \u001b[43mSeriesApply\u001b[49m\u001b[43m(\u001b[49m\n\u001b[1;32m   4918\u001b[0m \u001b[43m        \u001b[49m\u001b[38;5;28;43mself\u001b[39;49m\u001b[43m,\u001b[49m\n\u001b[1;32m   4919\u001b[0m \u001b[43m        \u001b[49m\u001b[43mfunc\u001b[49m\u001b[43m,\u001b[49m\n\u001b[1;32m   4920\u001b[0m \u001b[43m        \u001b[49m\u001b[43mconvert_dtype\u001b[49m\u001b[38;5;241;43m=\u001b[39;49m\u001b[43mconvert_dtype\u001b[49m\u001b[43m,\u001b[49m\n\u001b[1;32m   4921\u001b[0m \u001b[43m        \u001b[49m\u001b[43mby_row\u001b[49m\u001b[38;5;241;43m=\u001b[39;49m\u001b[43mby_row\u001b[49m\u001b[43m,\u001b[49m\n\u001b[1;32m   4922\u001b[0m \u001b[43m        \u001b[49m\u001b[43margs\u001b[49m\u001b[38;5;241;43m=\u001b[39;49m\u001b[43margs\u001b[49m\u001b[43m,\u001b[49m\n\u001b[1;32m   4923\u001b[0m \u001b[43m        \u001b[49m\u001b[43mkwargs\u001b[49m\u001b[38;5;241;43m=\u001b[39;49m\u001b[43mkwargs\u001b[49m\u001b[43m,\u001b[49m\n\u001b[0;32m-> 4924\u001b[0m \u001b[43m    \u001b[49m\u001b[43m)\u001b[49m\u001b[38;5;241;43m.\u001b[39;49m\u001b[43mapply\u001b[49m\u001b[43m(\u001b[49m\u001b[43m)\u001b[49m\n",
      "File \u001b[0;32m~/miniforge3/envs/citeline/lib/python3.11/site-packages/pandas/core/apply.py:1427\u001b[0m, in \u001b[0;36mSeriesApply.apply\u001b[0;34m(self)\u001b[0m\n\u001b[1;32m   1424\u001b[0m     \u001b[38;5;28;01mreturn\u001b[39;00m \u001b[38;5;28mself\u001b[39m\u001b[38;5;241m.\u001b[39mapply_compat()\n\u001b[1;32m   1426\u001b[0m \u001b[38;5;66;03m# self.func is Callable\u001b[39;00m\n\u001b[0;32m-> 1427\u001b[0m \u001b[38;5;28;01mreturn\u001b[39;00m \u001b[38;5;28;43mself\u001b[39;49m\u001b[38;5;241;43m.\u001b[39;49m\u001b[43mapply_standard\u001b[49m\u001b[43m(\u001b[49m\u001b[43m)\u001b[49m\n",
      "File \u001b[0;32m~/miniforge3/envs/citeline/lib/python3.11/site-packages/pandas/core/apply.py:1507\u001b[0m, in \u001b[0;36mSeriesApply.apply_standard\u001b[0;34m(self)\u001b[0m\n\u001b[1;32m   1501\u001b[0m \u001b[38;5;66;03m# row-wise access\u001b[39;00m\n\u001b[1;32m   1502\u001b[0m \u001b[38;5;66;03m# apply doesn't have a `na_action` keyword and for backward compat reasons\u001b[39;00m\n\u001b[1;32m   1503\u001b[0m \u001b[38;5;66;03m# we need to give `na_action=\"ignore\"` for categorical data.\u001b[39;00m\n\u001b[1;32m   1504\u001b[0m \u001b[38;5;66;03m# TODO: remove the `na_action=\"ignore\"` when that default has been changed in\u001b[39;00m\n\u001b[1;32m   1505\u001b[0m \u001b[38;5;66;03m#  Categorical (GH51645).\u001b[39;00m\n\u001b[1;32m   1506\u001b[0m action \u001b[38;5;241m=\u001b[39m \u001b[38;5;124m\"\u001b[39m\u001b[38;5;124mignore\u001b[39m\u001b[38;5;124m\"\u001b[39m \u001b[38;5;28;01mif\u001b[39;00m \u001b[38;5;28misinstance\u001b[39m(obj\u001b[38;5;241m.\u001b[39mdtype, CategoricalDtype) \u001b[38;5;28;01melse\u001b[39;00m \u001b[38;5;28;01mNone\u001b[39;00m\n\u001b[0;32m-> 1507\u001b[0m mapped \u001b[38;5;241m=\u001b[39m \u001b[43mobj\u001b[49m\u001b[38;5;241;43m.\u001b[39;49m\u001b[43m_map_values\u001b[49m\u001b[43m(\u001b[49m\n\u001b[1;32m   1508\u001b[0m \u001b[43m    \u001b[49m\u001b[43mmapper\u001b[49m\u001b[38;5;241;43m=\u001b[39;49m\u001b[43mcurried\u001b[49m\u001b[43m,\u001b[49m\u001b[43m \u001b[49m\u001b[43mna_action\u001b[49m\u001b[38;5;241;43m=\u001b[39;49m\u001b[43maction\u001b[49m\u001b[43m,\u001b[49m\u001b[43m \u001b[49m\u001b[43mconvert\u001b[49m\u001b[38;5;241;43m=\u001b[39;49m\u001b[38;5;28;43mself\u001b[39;49m\u001b[38;5;241;43m.\u001b[39;49m\u001b[43mconvert_dtype\u001b[49m\n\u001b[1;32m   1509\u001b[0m \u001b[43m\u001b[49m\u001b[43m)\u001b[49m\n\u001b[1;32m   1511\u001b[0m \u001b[38;5;28;01mif\u001b[39;00m \u001b[38;5;28mlen\u001b[39m(mapped) \u001b[38;5;129;01mand\u001b[39;00m \u001b[38;5;28misinstance\u001b[39m(mapped[\u001b[38;5;241m0\u001b[39m], ABCSeries):\n\u001b[1;32m   1512\u001b[0m     \u001b[38;5;66;03m# GH#43986 Need to do list(mapped) in order to get treated as nested\u001b[39;00m\n\u001b[1;32m   1513\u001b[0m     \u001b[38;5;66;03m#  See also GH#25959 regarding EA support\u001b[39;00m\n\u001b[1;32m   1514\u001b[0m     \u001b[38;5;28;01mreturn\u001b[39;00m obj\u001b[38;5;241m.\u001b[39m_constructor_expanddim(\u001b[38;5;28mlist\u001b[39m(mapped), index\u001b[38;5;241m=\u001b[39mobj\u001b[38;5;241m.\u001b[39mindex)\n",
      "File \u001b[0;32m~/miniforge3/envs/citeline/lib/python3.11/site-packages/pandas/core/base.py:921\u001b[0m, in \u001b[0;36mIndexOpsMixin._map_values\u001b[0;34m(self, mapper, na_action, convert)\u001b[0m\n\u001b[1;32m    918\u001b[0m \u001b[38;5;28;01mif\u001b[39;00m \u001b[38;5;28misinstance\u001b[39m(arr, ExtensionArray):\n\u001b[1;32m    919\u001b[0m     \u001b[38;5;28;01mreturn\u001b[39;00m arr\u001b[38;5;241m.\u001b[39mmap(mapper, na_action\u001b[38;5;241m=\u001b[39mna_action)\n\u001b[0;32m--> 921\u001b[0m \u001b[38;5;28;01mreturn\u001b[39;00m \u001b[43malgorithms\u001b[49m\u001b[38;5;241;43m.\u001b[39;49m\u001b[43mmap_array\u001b[49m\u001b[43m(\u001b[49m\u001b[43marr\u001b[49m\u001b[43m,\u001b[49m\u001b[43m \u001b[49m\u001b[43mmapper\u001b[49m\u001b[43m,\u001b[49m\u001b[43m \u001b[49m\u001b[43mna_action\u001b[49m\u001b[38;5;241;43m=\u001b[39;49m\u001b[43mna_action\u001b[49m\u001b[43m,\u001b[49m\u001b[43m \u001b[49m\u001b[43mconvert\u001b[49m\u001b[38;5;241;43m=\u001b[39;49m\u001b[43mconvert\u001b[49m\u001b[43m)\u001b[49m\n",
      "File \u001b[0;32m~/miniforge3/envs/citeline/lib/python3.11/site-packages/pandas/core/algorithms.py:1743\u001b[0m, in \u001b[0;36mmap_array\u001b[0;34m(arr, mapper, na_action, convert)\u001b[0m\n\u001b[1;32m   1741\u001b[0m values \u001b[38;5;241m=\u001b[39m arr\u001b[38;5;241m.\u001b[39mastype(\u001b[38;5;28mobject\u001b[39m, copy\u001b[38;5;241m=\u001b[39m\u001b[38;5;28;01mFalse\u001b[39;00m)\n\u001b[1;32m   1742\u001b[0m \u001b[38;5;28;01mif\u001b[39;00m na_action \u001b[38;5;129;01mis\u001b[39;00m \u001b[38;5;28;01mNone\u001b[39;00m:\n\u001b[0;32m-> 1743\u001b[0m     \u001b[38;5;28;01mreturn\u001b[39;00m \u001b[43mlib\u001b[49m\u001b[38;5;241;43m.\u001b[39;49m\u001b[43mmap_infer\u001b[49m\u001b[43m(\u001b[49m\u001b[43mvalues\u001b[49m\u001b[43m,\u001b[49m\u001b[43m \u001b[49m\u001b[43mmapper\u001b[49m\u001b[43m,\u001b[49m\u001b[43m \u001b[49m\u001b[43mconvert\u001b[49m\u001b[38;5;241;43m=\u001b[39;49m\u001b[43mconvert\u001b[49m\u001b[43m)\u001b[49m\n\u001b[1;32m   1744\u001b[0m \u001b[38;5;28;01melse\u001b[39;00m:\n\u001b[1;32m   1745\u001b[0m     \u001b[38;5;28;01mreturn\u001b[39;00m lib\u001b[38;5;241m.\u001b[39mmap_infer_mask(\n\u001b[1;32m   1746\u001b[0m         values, mapper, mask\u001b[38;5;241m=\u001b[39misna(values)\u001b[38;5;241m.\u001b[39mview(np\u001b[38;5;241m.\u001b[39muint8), convert\u001b[38;5;241m=\u001b[39mconvert\n\u001b[1;32m   1747\u001b[0m     )\n",
      "File \u001b[0;32mlib.pyx:2972\u001b[0m, in \u001b[0;36mpandas._libs.lib.map_infer\u001b[0;34m()\u001b[0m\n",
      "File \u001b[0;32m~/miniforge3/envs/citeline/lib/python3.11/site-packages/pandas/core/apply.py:1496\u001b[0m, in \u001b[0;36mSeriesApply.apply_standard.<locals>.curried\u001b[0;34m(x)\u001b[0m\n\u001b[1;32m   1495\u001b[0m \u001b[38;5;28;01mdef\u001b[39;00m\u001b[38;5;250m \u001b[39m\u001b[38;5;21mcurried\u001b[39m(x):\n\u001b[0;32m-> 1496\u001b[0m     \u001b[38;5;28;01mreturn\u001b[39;00m \u001b[43mfunc\u001b[49m\u001b[43m(\u001b[49m\u001b[43mx\u001b[49m\u001b[43m,\u001b[49m\u001b[43m \u001b[49m\u001b[38;5;241;43m*\u001b[39;49m\u001b[38;5;28;43mself\u001b[39;49m\u001b[38;5;241;43m.\u001b[39;49m\u001b[43margs\u001b[49m\u001b[43m,\u001b[49m\u001b[43m \u001b[49m\u001b[38;5;241;43m*\u001b[39;49m\u001b[38;5;241;43m*\u001b[39;49m\u001b[38;5;28;43mself\u001b[39;49m\u001b[38;5;241;43m.\u001b[39;49m\u001b[43mkwargs\u001b[49m\u001b[43m)\u001b[49m\n",
      "File \u001b[0;32m~/miniforge3/envs/citeline/lib/python3.11/site-packages/pandas/core/tools/datetimes.py:1101\u001b[0m, in \u001b[0;36mto_datetime\u001b[0;34m(arg, errors, dayfirst, yearfirst, utc, format, exact, unit, infer_datetime_format, origin, cache)\u001b[0m\n\u001b[1;32m   1099\u001b[0m         result \u001b[38;5;241m=\u001b[39m convert_listlike(argc, \u001b[38;5;28mformat\u001b[39m)\n\u001b[1;32m   1100\u001b[0m \u001b[38;5;28;01melse\u001b[39;00m:\n\u001b[0;32m-> 1101\u001b[0m     result \u001b[38;5;241m=\u001b[39m \u001b[43mconvert_listlike\u001b[49m\u001b[43m(\u001b[49m\u001b[43mnp\u001b[49m\u001b[38;5;241;43m.\u001b[39;49m\u001b[43marray\u001b[49m\u001b[43m(\u001b[49m\u001b[43m[\u001b[49m\u001b[43marg\u001b[49m\u001b[43m]\u001b[49m\u001b[43m)\u001b[49m\u001b[43m,\u001b[49m\u001b[43m \u001b[49m\u001b[38;5;28;43mformat\u001b[39;49m\u001b[43m)\u001b[49m[\u001b[38;5;241m0\u001b[39m]\n\u001b[1;32m   1102\u001b[0m     \u001b[38;5;28;01mif\u001b[39;00m \u001b[38;5;28misinstance\u001b[39m(arg, \u001b[38;5;28mbool\u001b[39m) \u001b[38;5;129;01mand\u001b[39;00m \u001b[38;5;28misinstance\u001b[39m(result, np\u001b[38;5;241m.\u001b[39mbool_):\n\u001b[1;32m   1103\u001b[0m         result \u001b[38;5;241m=\u001b[39m \u001b[38;5;28mbool\u001b[39m(result)  \u001b[38;5;66;03m# TODO: avoid this kludge.\u001b[39;00m\n",
      "File \u001b[0;32m~/miniforge3/envs/citeline/lib/python3.11/site-packages/pandas/core/tools/datetimes.py:433\u001b[0m, in \u001b[0;36m_convert_listlike_datetimes\u001b[0;34m(arg, format, name, utc, unit, errors, dayfirst, yearfirst, exact)\u001b[0m\n\u001b[1;32m    431\u001b[0m \u001b[38;5;66;03m# `format` could be inferred, or user didn't ask for mixed-format parsing.\u001b[39;00m\n\u001b[1;32m    432\u001b[0m \u001b[38;5;28;01mif\u001b[39;00m \u001b[38;5;28mformat\u001b[39m \u001b[38;5;129;01mis\u001b[39;00m \u001b[38;5;129;01mnot\u001b[39;00m \u001b[38;5;28;01mNone\u001b[39;00m \u001b[38;5;129;01mand\u001b[39;00m \u001b[38;5;28mformat\u001b[39m \u001b[38;5;241m!=\u001b[39m \u001b[38;5;124m\"\u001b[39m\u001b[38;5;124mmixed\u001b[39m\u001b[38;5;124m\"\u001b[39m:\n\u001b[0;32m--> 433\u001b[0m     \u001b[38;5;28;01mreturn\u001b[39;00m \u001b[43m_array_strptime_with_fallback\u001b[49m\u001b[43m(\u001b[49m\u001b[43marg\u001b[49m\u001b[43m,\u001b[49m\u001b[43m \u001b[49m\u001b[43mname\u001b[49m\u001b[43m,\u001b[49m\u001b[43m \u001b[49m\u001b[43mutc\u001b[49m\u001b[43m,\u001b[49m\u001b[43m \u001b[49m\u001b[38;5;28;43mformat\u001b[39;49m\u001b[43m,\u001b[49m\u001b[43m \u001b[49m\u001b[43mexact\u001b[49m\u001b[43m,\u001b[49m\u001b[43m \u001b[49m\u001b[43merrors\u001b[49m\u001b[43m)\u001b[49m\n\u001b[1;32m    435\u001b[0m result, tz_parsed \u001b[38;5;241m=\u001b[39m objects_to_datetime64(\n\u001b[1;32m    436\u001b[0m     arg,\n\u001b[1;32m    437\u001b[0m     dayfirst\u001b[38;5;241m=\u001b[39mdayfirst,\n\u001b[0;32m   (...)\u001b[0m\n\u001b[1;32m    441\u001b[0m     allow_object\u001b[38;5;241m=\u001b[39m\u001b[38;5;28;01mTrue\u001b[39;00m,\n\u001b[1;32m    442\u001b[0m )\n\u001b[1;32m    444\u001b[0m \u001b[38;5;28;01mif\u001b[39;00m tz_parsed \u001b[38;5;129;01mis\u001b[39;00m \u001b[38;5;129;01mnot\u001b[39;00m \u001b[38;5;28;01mNone\u001b[39;00m:\n\u001b[1;32m    445\u001b[0m     \u001b[38;5;66;03m# We can take a shortcut since the datetime64 numpy array\u001b[39;00m\n\u001b[1;32m    446\u001b[0m     \u001b[38;5;66;03m# is in UTC\u001b[39;00m\n",
      "File \u001b[0;32m~/miniforge3/envs/citeline/lib/python3.11/site-packages/pandas/core/tools/datetimes.py:467\u001b[0m, in \u001b[0;36m_array_strptime_with_fallback\u001b[0;34m(arg, name, utc, fmt, exact, errors)\u001b[0m\n\u001b[1;32m    456\u001b[0m \u001b[38;5;28;01mdef\u001b[39;00m\u001b[38;5;250m \u001b[39m\u001b[38;5;21m_array_strptime_with_fallback\u001b[39m(\n\u001b[1;32m    457\u001b[0m     arg,\n\u001b[1;32m    458\u001b[0m     name,\n\u001b[0;32m   (...)\u001b[0m\n\u001b[1;32m    462\u001b[0m     errors: \u001b[38;5;28mstr\u001b[39m,\n\u001b[1;32m    463\u001b[0m ) \u001b[38;5;241m-\u001b[39m\u001b[38;5;241m>\u001b[39m Index:\n\u001b[1;32m    464\u001b[0m \u001b[38;5;250m    \u001b[39m\u001b[38;5;124;03m\"\"\"\u001b[39;00m\n\u001b[1;32m    465\u001b[0m \u001b[38;5;124;03m    Call array_strptime, with fallback behavior depending on 'errors'.\u001b[39;00m\n\u001b[1;32m    466\u001b[0m \u001b[38;5;124;03m    \"\"\"\u001b[39;00m\n\u001b[0;32m--> 467\u001b[0m     result, tz_out \u001b[38;5;241m=\u001b[39m \u001b[43marray_strptime\u001b[49m\u001b[43m(\u001b[49m\u001b[43marg\u001b[49m\u001b[43m,\u001b[49m\u001b[43m \u001b[49m\u001b[43mfmt\u001b[49m\u001b[43m,\u001b[49m\u001b[43m \u001b[49m\u001b[43mexact\u001b[49m\u001b[38;5;241;43m=\u001b[39;49m\u001b[43mexact\u001b[49m\u001b[43m,\u001b[49m\u001b[43m \u001b[49m\u001b[43merrors\u001b[49m\u001b[38;5;241;43m=\u001b[39;49m\u001b[43merrors\u001b[49m\u001b[43m,\u001b[49m\u001b[43m \u001b[49m\u001b[43mutc\u001b[49m\u001b[38;5;241;43m=\u001b[39;49m\u001b[43mutc\u001b[49m\u001b[43m)\u001b[49m\n\u001b[1;32m    468\u001b[0m     \u001b[38;5;28;01mif\u001b[39;00m tz_out \u001b[38;5;129;01mis\u001b[39;00m \u001b[38;5;129;01mnot\u001b[39;00m \u001b[38;5;28;01mNone\u001b[39;00m:\n\u001b[1;32m    469\u001b[0m         unit \u001b[38;5;241m=\u001b[39m np\u001b[38;5;241m.\u001b[39mdatetime_data(result\u001b[38;5;241m.\u001b[39mdtype)[\u001b[38;5;241m0\u001b[39m]\n",
      "File \u001b[0;32mstrptime.pyx:330\u001b[0m, in \u001b[0;36mpandas._libs.tslibs.strptime.array_strptime\u001b[0;34m()\u001b[0m\n",
      "File \u001b[0;32mstrptime.pyx:115\u001b[0m, in \u001b[0;36mpandas._libs.tslibs.strptime.format_is_iso\u001b[0;34m()\u001b[0m\n",
      "File \u001b[0;32m~/miniforge3/envs/citeline/lib/python3.11/re/__init__.py:166\u001b[0m, in \u001b[0;36mmatch\u001b[0;34m(pattern, string, flags)\u001b[0m\n\u001b[1;32m    163\u001b[0m \u001b[38;5;28;01mdef\u001b[39;00m\u001b[38;5;250m \u001b[39m\u001b[38;5;21mmatch\u001b[39m(pattern, string, flags\u001b[38;5;241m=\u001b[39m\u001b[38;5;241m0\u001b[39m):\n\u001b[1;32m    164\u001b[0m \u001b[38;5;250m    \u001b[39m\u001b[38;5;124;03m\"\"\"Try to apply the pattern at the start of the string, returning\u001b[39;00m\n\u001b[1;32m    165\u001b[0m \u001b[38;5;124;03m    a Match object, or None if no match was found.\"\"\"\u001b[39;00m\n\u001b[0;32m--> 166\u001b[0m     \u001b[38;5;28;01mreturn\u001b[39;00m \u001b[43m_compile\u001b[49m\u001b[43m(\u001b[49m\u001b[43mpattern\u001b[49m\u001b[43m,\u001b[49m\u001b[43m \u001b[49m\u001b[43mflags\u001b[49m\u001b[43m)\u001b[49m\u001b[38;5;241;43m.\u001b[39;49m\u001b[43mmatch\u001b[49m\u001b[43m(\u001b[49m\u001b[43mstring\u001b[49m\u001b[43m)\u001b[49m\n",
      "\u001b[0;31mKeyboardInterrupt\u001b[0m: "
     ]
    }
   ],
   "source": [
    "reranked = rank_fuser.rerank(data)\n",
    "print(len(reranked))"
   ]
  },
  {
   "cell_type": "code",
   "execution_count": null,
   "id": "cfb2b3c3",
   "metadata": {},
   "outputs": [],
   "source": [
    "stats = compute_statistics(reranked)\n",
    "print(stats.keys())"
   ]
  },
  {
   "cell_type": "code",
   "execution_count": null,
   "id": "e1ac1fcf",
   "metadata": {},
   "outputs": [],
   "source": [
    "np.arange(3, -3.5, step=-0.5)"
   ]
  },
  {
   "cell_type": "code",
   "execution_count": 7,
   "id": "74e5f3e5",
   "metadata": {},
   "outputs": [
    {
     "name": "stdout",
     "output_type": "stream",
     "text": [
      "Preparing rank fusion with: {'log_citations': 7.0, 'negative_log_years_old': 4.0}\n"
     ]
    },
    {
     "name": "stderr",
     "output_type": "stream",
     "text": [
      "Reranking results: 100%|██████████| 14735/14735 [01:49<00:00, 135.15it/s]\n",
      "Computing statistics: 100%|██████████| 14735/14735 [00:05<00:00, 2540.50it/s]\n"
     ]
    },
    {
     "name": "stdout",
     "output_type": "stream",
     "text": [
      "Preparing rank fusion with: {'log_citations': 6.5, 'negative_log_years_old': 4.0}\n"
     ]
    },
    {
     "name": "stderr",
     "output_type": "stream",
     "text": [
      "Reranking results: 100%|██████████| 14735/14735 [01:44<00:00, 141.51it/s]\n",
      "Computing statistics: 100%|██████████| 14735/14735 [00:05<00:00, 2693.75it/s]\n"
     ]
    },
    {
     "name": "stdout",
     "output_type": "stream",
     "text": [
      "Preparing rank fusion with: {'log_citations': 6.0, 'negative_log_years_old': 4.0}\n"
     ]
    },
    {
     "name": "stderr",
     "output_type": "stream",
     "text": [
      "Reranking results: 100%|██████████| 14735/14735 [01:43<00:00, 142.91it/s]\n",
      "Computing statistics: 100%|██████████| 14735/14735 [00:05<00:00, 2714.01it/s]\n"
     ]
    },
    {
     "name": "stdout",
     "output_type": "stream",
     "text": [
      "Preparing rank fusion with: {'log_citations': 5.5, 'negative_log_years_old': 4.0}\n"
     ]
    },
    {
     "name": "stderr",
     "output_type": "stream",
     "text": [
      "Reranking results: 100%|██████████| 14735/14735 [01:45<00:00, 139.89it/s]\n",
      "Computing statistics: 100%|██████████| 14735/14735 [00:05<00:00, 2688.22it/s]\n"
     ]
    },
    {
     "name": "stdout",
     "output_type": "stream",
     "text": [
      "Preparing rank fusion with: {'log_citations': 5.0, 'negative_log_years_old': 4.0}\n"
     ]
    },
    {
     "name": "stderr",
     "output_type": "stream",
     "text": [
      "Reranking results: 100%|██████████| 14735/14735 [01:43<00:00, 141.95it/s]\n",
      "Computing statistics: 100%|██████████| 14735/14735 [00:05<00:00, 2705.97it/s]\n"
     ]
    },
    {
     "name": "stdout",
     "output_type": "stream",
     "text": [
      "Preparing rank fusion with: {'log_citations': 4.5, 'negative_log_years_old': 4.0}\n"
     ]
    },
    {
     "name": "stderr",
     "output_type": "stream",
     "text": [
      "Reranking results: 100%|██████████| 14735/14735 [01:44<00:00, 140.86it/s]\n",
      "Computing statistics: 100%|██████████| 14735/14735 [00:05<00:00, 2709.12it/s]\n"
     ]
    },
    {
     "name": "stdout",
     "output_type": "stream",
     "text": [
      "Preparing rank fusion with: {'log_citations': 4.0, 'negative_log_years_old': 4.0}\n"
     ]
    },
    {
     "name": "stderr",
     "output_type": "stream",
     "text": [
      "Reranking results: 100%|██████████| 14735/14735 [01:44<00:00, 140.71it/s]\n",
      "Computing statistics: 100%|██████████| 14735/14735 [00:05<00:00, 2641.10it/s]\n"
     ]
    },
    {
     "name": "stdout",
     "output_type": "stream",
     "text": [
      "Preparing rank fusion with: {'log_citations': 3.5, 'negative_log_years_old': 4.0}\n"
     ]
    },
    {
     "name": "stderr",
     "output_type": "stream",
     "text": [
      "Reranking results: 100%|██████████| 14735/14735 [01:44<00:00, 141.46it/s]\n",
      "Computing statistics: 100%|██████████| 14735/14735 [00:05<00:00, 2691.67it/s]\n"
     ]
    },
    {
     "name": "stdout",
     "output_type": "stream",
     "text": [
      "Preparing rank fusion with: {'log_citations': 3.0, 'negative_log_years_old': 4.0}\n"
     ]
    },
    {
     "name": "stderr",
     "output_type": "stream",
     "text": [
      "Reranking results: 100%|██████████| 14735/14735 [01:43<00:00, 142.16it/s]\n",
      "Computing statistics: 100%|██████████| 14735/14735 [00:05<00:00, 2936.84it/s]\n"
     ]
    },
    {
     "name": "stdout",
     "output_type": "stream",
     "text": [
      "Preparing rank fusion with: {'log_citations': 2.5, 'negative_log_years_old': 4.0}\n"
     ]
    },
    {
     "name": "stderr",
     "output_type": "stream",
     "text": [
      "Reranking results: 100%|██████████| 14735/14735 [01:34<00:00, 156.23it/s]\n",
      "Computing statistics: 100%|██████████| 14735/14735 [00:04<00:00, 2987.37it/s]\n"
     ]
    },
    {
     "name": "stdout",
     "output_type": "stream",
     "text": [
      "Preparing rank fusion with: {'log_citations': 2.0, 'negative_log_years_old': 4.0}\n"
     ]
    },
    {
     "name": "stderr",
     "output_type": "stream",
     "text": [
      "Reranking results: 100%|██████████| 14735/14735 [01:33<00:00, 156.96it/s]\n",
      "Computing statistics: 100%|██████████| 14735/14735 [00:05<00:00, 2906.47it/s]\n"
     ]
    },
    {
     "name": "stdout",
     "output_type": "stream",
     "text": [
      "Preparing rank fusion with: {'log_citations': 1.5, 'negative_log_years_old': 4.0}\n"
     ]
    },
    {
     "name": "stderr",
     "output_type": "stream",
     "text": [
      "Reranking results: 100%|██████████| 14735/14735 [01:34<00:00, 156.09it/s]\n",
      "Computing statistics: 100%|██████████| 14735/14735 [00:04<00:00, 2955.86it/s]\n"
     ]
    },
    {
     "name": "stdout",
     "output_type": "stream",
     "text": [
      "Preparing rank fusion with: {'log_citations': 1.0, 'negative_log_years_old': 4.0}\n"
     ]
    },
    {
     "name": "stderr",
     "output_type": "stream",
     "text": [
      "Reranking results: 100%|██████████| 14735/14735 [01:33<00:00, 157.20it/s]\n",
      "Computing statistics: 100%|██████████| 14735/14735 [00:04<00:00, 3003.42it/s]\n"
     ]
    }
   ],
   "source": [
    "import numpy as np\n",
    "\n",
    "diffs = np.arange(3.0, -3.1, step=-0.5)\n",
    "hitrate_matrix = np.zeros((len(diffs), 200))\n",
    "recall_matrix = np.zeros((len(diffs), 200))\n",
    "iou_matrix = np.zeros((len(diffs), 200))\n",
    "\n",
    "for row, diff in enumerate(diffs):\n",
    "    config = {\"log_citations\": 4.0 + diff.item(), \"negative_log_years_old\": 4.0}\n",
    "    print(f\"Preparing rank fusion with: {config}\")\n",
    "    rank_fuser = RankFuser(config=config)\n",
    "    stats = compute_statistics(rank_fuser.rerank(data))\n",
    "    hitrate_matrix[row] = stats[\"hitrate\"]\n",
    "    recall_matrix[row] = stats[\"recall\"]\n",
    "    iou_matrix[row] = stats[\"iou\"]"
   ]
  },
  {
   "cell_type": "code",
   "execution_count": null,
   "id": "d1a3664d",
   "metadata": {},
   "outputs": [],
   "source": [
    "original_stats = compute_statistics(data)\n",
    "print(original_stats.keys())"
   ]
  },
  {
   "cell_type": "code",
   "execution_count": null,
   "id": "5764b945",
   "metadata": {},
   "outputs": [],
   "source": [
    "# build DataFrame: rows=diffs, cols=1..200\n",
    "def plot_stat_comparison(original, reranks, title=\"\"):\n",
    "    # Original stats is one array so its length is on shape index 0; reranks' length is on shape index 1\n",
    "    assert original.shape[0] == reranks.shape[1]\n",
    "    df = pd.DataFrame(reranks, index=labels, columns=np.arange(1, reranks.shape[1] + 1))\n",
    "\n",
    "    df_long = df.reset_index().melt(id_vars=\"index\", var_name=\"k\", value_name=\"hitrate\").rename(columns={\"index\": \"diff\"})\n",
    "    plt.figure(figsize=(10, 10))\n",
    "\n",
    "    # Plot original and reranked data\n",
    "    ax = sns.lineplot(data=df_long, x=\"k\", y=\"hitrate\", hue=\"diff\", legend=\"full\", palette=\"mako\")\n",
    "    ax.plot(np.arange(1, 201), original, label=\"original\", linewidth=1)\n",
    "\n",
    "    handles, labels_legend = ax.get_legend_handles_labels()\n",
    "    ax.legend(handles=handles, labels=labels_legend, title=\"diff\", bbox_to_anchor=(1.05, 1), loc=2)\n",
    "\n",
    "    plt.xlabel(\"Top-k\")\n",
    "    plt.ylabel(\"HitRate\")\n",
    "    plt.minorticks_on()\n",
    "    plt.grid(which=\"major\", linestyle=\"-\", linewidth=\"0.5\", color=\"black\")\n",
    "    plt.grid(which=\"minor\", linestyle=\":\", linewidth=\"0.5\", color=\"gray\")\n",
    "    plt.title(title)\n",
    "    plt.tight_layout()\n",
    "    plt.show()\n",
    "\n",
    "plot_stat_comparison(original_stats['hitrate'], hitrate_matrix, title=\"HitRate Comparison\")\n",
    "plot_stat_comparison(original_stats['recall'], recall_matrix, title=\"Recall Comparison\")\n",
    "plot_stat_comparison(original_stats['iou'], iou_matrix, title=\"IoU Comparison\")"
   ]
  },
  {
   "cell_type": "markdown",
   "id": "fac9e572",
   "metadata": {},
   "source": [
    "### Reranking by age\n",
    "\n",
    "As seen above, stats decrease with recency (negative log years old). Will reranking by age (older is better) improve stats?"
   ]
  },
  {
   "cell_type": "code",
   "execution_count": null,
   "id": "d3f3b92b",
   "metadata": {},
   "outputs": [],
   "source": [
    "recency_reranker = RankFuser(config={\"log_citations\": 1.0})\n",
    "recency_stats = compute_statistics(recency_reranker.rerank(data))"
   ]
  },
  {
   "cell_type": "code",
   "execution_count": null,
   "id": "7ddc5bcf",
   "metadata": {},
   "outputs": [],
   "source": [
    "x = np.arange(1, 201)  # Top-k 1..200\n",
    "plt.figure(figsize=(10, 10))\n",
    "plt.plot(x, original_stats['iou'], label=\"Original\", linewidth=2)\n",
    "plt.plot(x, recency_stats['iou'], label=\"Age reranked\", linewidth=2)\n",
    "plt.xlabel(\"Top-k\")\n",
    "plt.ylabel(\"IoU\")\n",
    "plt.legend()\n",
    "plt.grid(True, which=\"major\", linestyle=\"--\", linewidth=0.5)\n",
    "plt.title(\"IoU Comparison\")\n",
    "plt.show()\n",
    "\n",
    "plt.figure(figsize=(10, 10))\n",
    "plt.plot(x, original_stats[\"recall\"], label=\"Original\", linewidth=2)\n",
    "plt.plot(x, recency_stats[\"recall\"], label=\"Negative Citation Count reranked\", linewidth=2)\n",
    "plt.xlabel(\"Top-k\")\n",
    "plt.ylabel(\"Recall\")\n",
    "plt.legend()\n",
    "plt.grid(True, which=\"major\", linestyle=\"--\", linewidth=0.5)\n",
    "plt.title(\"Recall Comparison\")\n",
    "plt.show()\n",
    "\n",
    "plt.figure(figsize=(10, 10))\n",
    "plt.plot(x, original_stats[\"hitrate\"], label=\"Original\", linewidth=2)\n",
    "plt.plot(x, recency_stats[\"hitrate\"], label=\"Citations reranked\", linewidth=2)\n",
    "plt.xlabel(\"Top-k\")\n",
    "plt.ylabel(\"HitRate\")\n",
    "plt.legend()\n",
    "plt.grid(True, which=\"major\", linestyle=\"--\", linewidth=0.5)\n",
    "plt.title(\"HitRate Comparison\")\n",
    "plt.show()"
   ]
  },
  {
   "cell_type": "code",
   "execution_count": null,
   "id": "f4d76b6d",
   "metadata": {},
   "outputs": [],
   "source": []
  },
  {
   "cell_type": "code",
   "execution_count": null,
   "id": "54a75a0b",
   "metadata": {},
   "outputs": [],
   "source": [
    "config = {\"negative_log_years_old\": 1.0}\n",
    "reality_ranker = RankFuser(config=config)\n",
    "print(reality_ranker)"
   ]
  },
  {
   "cell_type": "code",
   "execution_count": null,
   "id": "eb3e8d46",
   "metadata": {},
   "outputs": [],
   "source": [
    "reranked = reality_ranker.rerank(data)\n",
    "statistics = compute_statistics(reranked)"
   ]
  },
  {
   "cell_type": "code",
   "execution_count": null,
   "id": "d46194d6",
   "metadata": {},
   "outputs": [],
   "source": [
    "x = np.arange(1, 201)  # Top-k 1..200\n",
    "plt.figure(figsize=(10, 10))\n",
    "plt.plot(x, original_stats[\"iou\"], label=\"Original\", linewidth=2)\n",
    "plt.plot(x, statistics[\"iou\"], label=\"reranked\", linewidth=2)\n",
    "plt.xlabel(\"Top-k\")\n",
    "plt.ylabel(\"IoU\")\n",
    "plt.legend()\n",
    "plt.grid(True, which=\"major\", linestyle=\"--\", linewidth=0.5)\n",
    "plt.title(\"IoU Comparison\")\n",
    "plt.show()\n",
    "\n",
    "plt.figure(figsize=(10, 10))\n",
    "plt.plot(x, original_stats[\"recall\"], label=\"Original\", linewidth=2)\n",
    "plt.plot(x, statistics[\"recall\"], label=\"reranked\", linewidth=2)\n",
    "plt.xlabel(\"Top-k\")\n",
    "plt.ylabel(\"Recall\")\n",
    "plt.legend()\n",
    "plt.grid(True, which=\"major\", linestyle=\"--\", linewidth=0.5)\n",
    "plt.title(\"Recall Comparison\")\n",
    "plt.show()\n",
    "\n",
    "plt.figure(figsize=(10, 10))\n",
    "plt.plot(x, original_stats[\"hitrate\"], label=\"Original\", linewidth=2)\n",
    "plt.plot(x, statistics[\"hitrate\"], label=\"reranked\", linewidth=2)\n",
    "plt.xlabel(\"Top-k\")\n",
    "plt.ylabel(\"HitRate\")\n",
    "plt.legend()\n",
    "plt.grid(True, which=\"major\", linestyle=\"--\", linewidth=0.5)\n",
    "plt.title(\"HitRate Comparison\")\n",
    "plt.show()"
   ]
  },
  {
   "cell_type": "code",
   "execution_count": null,
   "id": "a3f8116f",
   "metadata": {},
   "outputs": [],
   "source": []
  },
  {
   "cell_type": "code",
   "execution_count": null,
   "id": "68cec2fc",
   "metadata": {},
   "outputs": [],
   "source": []
  }
 ],
 "metadata": {
  "kernelspec": {
   "display_name": "citeline",
   "language": "python",
   "name": "python3"
  },
  "language_info": {
   "codemirror_mode": {
    "name": "ipython",
    "version": 3
   },
   "file_extension": ".py",
   "mimetype": "text/x-python",
   "name": "python",
   "nbconvert_exporter": "python",
   "pygments_lexer": "ipython3",
   "version": "3.11.10"
  }
 },
 "nbformat": 4,
 "nbformat_minor": 5
}
