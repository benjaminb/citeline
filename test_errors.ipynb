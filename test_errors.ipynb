{
 "cells": [
  {
   "cell_type": "code",
   "execution_count": 3,
   "id": "5adc5c3e",
   "metadata": {},
   "outputs": [
    {
     "name": "stdout",
     "output_type": "stream",
     "text": [
      "<database.milvusdb.MilvusDB object at 0x17461f090>\n",
      "BAAI/bge-large-en-v1.5, device=mps, normalize=True, for_queries=True, dim=1024\n",
      "Index(['source_doi', 'sent_original', 'sent_no_cit', 'sent_idx',\n",
      "       'citation_dois', 'pubdate', 'resolved_bibcodes', 'sent_cit_masked'],\n",
      "      dtype='object')\n"
     ]
    }
   ],
   "source": [
    "from database.milvusdb import MilvusDB\n",
    "from embedders import Embedder\n",
    "import pandas as pd\n",
    "db = MilvusDB()\n",
    "embedder = Embedder.create(model_name=\"BAAI/bge-large-en-v1.5\", device=\"mps\", normalize=True, for_queries=True)\n",
    "dataset = pd.read_json(\"data/dataset/nontrivial_100.jsonl\", lines=True)\n",
    "\n",
    "print(db)\n",
    "print(embedder)\n",
    "print(dataset.columns)"
   ]
  },
  {
   "cell_type": "code",
   "execution_count": null,
   "id": "22054cef",
   "metadata": {},
   "outputs": [],
   "source": []
  }
 ],
 "metadata": {
  "kernelspec": {
   "display_name": "citeline",
   "language": "python",
   "name": "python3"
  },
  "language_info": {
   "codemirror_mode": {
    "name": "ipython",
    "version": 3
   },
   "file_extension": ".py",
   "mimetype": "text/x-python",
   "name": "python",
   "nbconvert_exporter": "python",
   "pygments_lexer": "ipython3",
   "version": "3.11.10"
  }
 },
 "nbformat": 4,
 "nbformat_minor": 5
}
