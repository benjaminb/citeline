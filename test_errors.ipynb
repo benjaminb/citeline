{
 "cells": [
  {
   "cell_type": "code",
   "execution_count": 1,
   "id": "5adc5c3e",
   "metadata": {},
   "outputs": [
    {
     "name": "stdout",
     "output_type": "stream",
     "text": [
      "<database.milvusdb.MilvusDB object at 0x3390ab310>\n",
      "BAAI/bge-large-en-v1.5, device=mps, normalize=True, for_queries=True, dim=1024\n"
     ]
    }
   ],
   "source": [
    "from database.milvusdb import MilvusDB\n",
    "from embedders import Embedder\n",
    "\n",
    "db = MilvusDB()\n",
    "embedder = Embedder.create(model_name=\"BAAI/bge-large-en-v1.5\", device=\"mps\", normalize=True, for_queries=True)\n",
    "\n",
    "print(db)\n",
    "print(embedder)"
   ]
  },
  {
   "cell_type": "code",
   "execution_count": null,
   "id": "22054cef",
   "metadata": {},
   "outputs": [],
   "source": []
  }
 ],
 "metadata": {
  "kernelspec": {
   "display_name": "citeline",
   "language": "python",
   "name": "python3"
  },
  "language_info": {
   "codemirror_mode": {
    "name": "ipython",
    "version": 3
   },
   "file_extension": ".py",
   "mimetype": "text/x-python",
   "name": "python",
   "nbconvert_exporter": "python",
   "pygments_lexer": "ipython3",
   "version": "3.11.10"
  }
 },
 "nbformat": 4,
 "nbformat_minor": 5
}
