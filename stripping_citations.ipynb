{
 "cells": [
  {
   "cell_type": "code",
   "execution_count": 5,
   "metadata": {},
   "outputs": [],
   "source": [
    "import pandas as pd\n",
    "from pprint import pprint\n",
    "\n",
    "df = pd.read_json('data/dataset/100/nontrivial.jsonl', lines=True)"
   ]
  },
  {
   "cell_type": "code",
   "execution_count": 6,
   "metadata": {},
   "outputs": [
    {
     "name": "stdout",
     "output_type": "stream",
     "text": [
      "('Original sentence: These are minor species, with abundances of 1.5 10 12 , '\n",
      " '1.7 10 9 , and 7 10 8 kg N, respectively ( Ussiri and Lal, 2013 ).')\n",
      "('Citation stripped (supposedly): These are minor species, with abundances of '\n",
      " '1.5 10 12 , 1.7 10 9 , and 7 10 8 kg N, respectively ( Ussiri and .')\n"
     ]
    }
   ],
   "source": [
    "pprint(f\"Original sentence: {df.sent_original[0]}\")\n",
    "pprint(f\"Citation stripped (supposedly): {df.sent_no_cit[0]}\")"
   ]
  },
  {
   "cell_type": "code",
   "execution_count": 9,
   "metadata": {},
   "outputs": [
    {
     "name": "stdout",
     "output_type": "stream",
     "text": [
      "<re.Match object; span=(110, 121), match='Lal, 2013 )'>\n"
     ]
    }
   ],
   "source": [
    "import re\n",
    "from build_better_dataset import INLINE_CITATION_REGEX\n",
    "\n",
    "sentence = df.sent_original[0]\n",
    "m = re.search(INLINE_CITATION_REGEX, sentence)\n",
    "print(m)"
   ]
  },
  {
   "cell_type": "code",
   "execution_count": 16,
   "metadata": {},
   "outputs": [
    {
     "name": "stdout",
     "output_type": "stream",
     "text": [
      "<re.Match object; span=(20, 32), match=' Lal, 2013 )'>\n"
     ]
    }
   ],
   "source": [
    "lastname = r\"[A-Z][a-zA-ZÀ-ÖØ-öø-ÿ-]*(?:'[A-Z][a-zA-ZÀ-ÖØ-öø-ÿ-]*)?\"\n",
    "year = r\"\\d{4}[a-z]?\"\n",
    "name_sep = r\",?\\s| and | & \"\n",
    "\n",
    "INLINE_CITATION_REGEX = re.compile(\n",
    "    rf\"\\s*\\(?\\s*\"  # optional whitespace and optional opening parenthesis\n",
    "    rf\"({lastname}(?:{name_sep}{lastname})*(?: et al\\.?\\s?)?)\"  # group for names (e.g. \"Ussiri and Lal\" or \"Smith\")\n",
    "    rf\",?\\s*\"  # optional comma and whitespace before the year\n",
    "    rf\"({year})\"  # group for year (e.g. \"2013\")\n",
    "    rf\"\\s*\\)?\\s*\"  # optional whitespace and optional closing parenthesis\n",
    ")\n",
    "m = re.search(INLINE_CITATION_REGEX, 'foo bar ( Ussiri and Lal, 2013 )')\n",
    "print(m)"
   ]
  },
  {
   "cell_type": "code",
   "execution_count": null,
   "metadata": {},
   "outputs": [],
   "source": []
  }
 ],
 "metadata": {
  "kernelspec": {
   "display_name": "citeline",
   "language": "python",
   "name": "python3"
  },
  "language_info": {
   "codemirror_mode": {
    "name": "ipython",
    "version": 3
   },
   "file_extension": ".py",
   "mimetype": "text/x-python",
   "name": "python",
   "nbconvert_exporter": "python",
   "pygments_lexer": "ipython3",
   "version": "3.11.10"
  }
 },
 "nbformat": 4,
 "nbformat_minor": 2
}
