{
 "cells": [
  {
   "cell_type": "code",
   "execution_count": 1,
   "id": "714cc9b0",
   "metadata": {},
   "outputs": [
    {
     "name": "stdout",
     "output_type": "stream",
     "text": [
      "10027\n"
     ]
    }
   ],
   "source": [
    "import pandas as pd\n",
    "import json\n",
    "\n",
    "with open(\"data/research_dois_used.json\", \"r\") as f:\n",
    "    research_dois = json.load(f)\n",
    "\n",
    "dois_used = set(research_dois)\n",
    "print(len(dois_used))"
   ]
  },
  {
   "cell_type": "code",
   "execution_count": null,
   "id": "3a911afb",
   "metadata": {},
   "outputs": [],
   "source": [
    "findings = pd.read_json(\"data/findings/combined.jsonl\", lines=True)\n",
    "print(len(findings))"
   ]
  },
  {
   "cell_type": "code",
   "execution_count": null,
   "id": "a7e88ec3",
   "metadata": {},
   "outputs": [],
   "source": [
    "research = pd.read_json(\"data/research_used.jsonl\", lines=True)\n",
    "research[\"pubdate\"] = research[\"pubdate\"].apply(lambda x: int(x.replace(\"-\", \"\")))\n",
    "\n",
    "# build a lookup table for research by doi\n",
    "research_lookup = research.set_index(\"doi\").T.to_dict()\n",
    "print(len(research_lookup))"
   ]
  },
  {
   "cell_type": "code",
   "execution_count": null,
   "id": "f33f2349",
   "metadata": {},
   "outputs": [],
   "source": [
    "for doi in findings[\"doi\"].unique():\n",
    "    if doi not in research_lookup:\n",
    "        print(f\"DOI {doi} not found in research lookup table.\")\n",
    "    else:\n",
    "        # If the DOI exists, you can access the corresponding research data\n",
    "        research_data = research_lookup[doi]\n",
    "        print(f\"DOI {doi} found: {research_data}\")"
   ]
  },
  {
   "cell_type": "code",
   "execution_count": null,
   "id": "51ce6294",
   "metadata": {},
   "outputs": [],
   "source": [
    "# Let's debug this step by step\n",
    "print(\"Columns in findings DataFrame:\", findings.columns.tolist())\n",
    "print(\"Sample of first few rows:\")\n",
    "print(findings.head(2))\n",
    "\n",
    "# Check the structure of the findings column\n",
    "print(\"\\nSample findings data:\")\n",
    "for i in range(min(3, len(findings))):\n",
    "    row_findings = findings.iloc[i][\"findings\"]\n",
    "    print(\n",
    "        f\"Row {i}: type={type(row_findings)}, length={len(row_findings) if hasattr(row_findings, '__len__') else 'N/A'}\"\n",
    "    )\n",
    "    if hasattr(row_findings, \"__len__\") and len(row_findings) > 0:\n",
    "        print(f\"  First item: {row_findings[0]}\")\n",
    "\n",
    "# Calculate expected total\n",
    "total_expected = findings[\"findings\"].apply(lambda x: len(x) if hasattr(x, \"__len__\") else 0).sum()\n",
    "print(f\"\\nExpected total records: {total_expected}\")"
   ]
  },
  {
   "cell_type": "code",
   "execution_count": null,
   "id": "8c6e7e8c",
   "metadata": {},
   "outputs": [],
   "source": [
    "prepped_records = []\n",
    "record_count_by_paper = []\n",
    "\n",
    "for row in findings.itertuples():\n",
    "    doi = row.doi\n",
    "    if doi not in research_lookup:\n",
    "        print(f\"Warning: DOI {doi} not found in research_lookup\")\n",
    "        continue\n",
    "\n",
    "    paper_record = research_lookup[doi]\n",
    "    pubdate = paper_record[\"pubdate\"]\n",
    "    contributions = row.findings\n",
    "\n",
    "    # Debug: check the contributions\n",
    "    if not hasattr(contributions, \"__len__\"):\n",
    "        print(f\"Warning: contributions for {doi} is not iterable: {type(contributions)}\")\n",
    "        continue\n",
    "\n",
    "    records = [{\"text\": contribution, \"doi\": doi, \"pubdate\": pubdate} for contribution in contributions]\n",
    "\n",
    "    record_count_by_paper.append(len(records))\n",
    "    prepped_records.extend(records)\n",
    "\n",
    "print(f\"Total prepped records: {len(prepped_records)}\")\n",
    "print(f\"Papers processed: {len(record_count_by_paper)}\")\n",
    "print(f\"Average findings per paper: {sum(record_count_by_paper) / len(record_count_by_paper):.2f}\")\n",
    "print(f\"Min findings per paper: {min(record_count_by_paper)}\")\n",
    "print(f\"Max findings per paper: {max(record_count_by_paper)}\")"
   ]
  },
  {
   "cell_type": "code",
   "execution_count": null,
   "id": "87ec4fac",
   "metadata": {},
   "outputs": [],
   "source": [
    "# Save the prepped records to a file for the database\n",
    "with open(\"data/prepped_findings.jsonl\", \"w\") as f:\n",
    "    for record in prepped_records:\n",
    "        f.write(json.dumps(record) + \"\\n\")\n",
    "\n",
    "print(f\"Saved {len(prepped_records)} records to data/prepped_findings.jsonl\")"
   ]
  }
 ],
 "metadata": {
  "kernelspec": {
   "display_name": "citeline",
   "language": "python",
   "name": "python3"
  },
  "language_info": {
   "codemirror_mode": {
    "name": "ipython",
    "version": 3
   },
   "file_extension": ".py",
   "mimetype": "text/x-python",
   "name": "python",
   "nbconvert_exporter": "python",
   "pygments_lexer": "ipython3",
   "version": "3.11.10"
  }
 },
 "nbformat": 4,
 "nbformat_minor": 5
}
