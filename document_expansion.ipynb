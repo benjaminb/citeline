{
 "cells": [
  {
   "cell_type": "code",
   "execution_count": 1,
   "id": "f9861f44",
   "metadata": {},
   "outputs": [
    {
     "name": "stdout",
     "output_type": "stream",
     "text": [
      "=================================CONFIG=================================\n",
      "Database         User             Host                             Port            \n",
      "citelinedb       bbasseri         localhost                        5432            \n",
      "========================================================================\n",
      "Database version: ('PostgreSQL 17.5 (Homebrew) on aarch64-apple-darwin24.4.0, compiled by Apple clang version 17.0.0 (clang-1700.0.13.3), 64-bit',)\n"
     ]
    }
   ],
   "source": [
    "from database.database import Database\n",
    "\n",
    "db = Database()\n",
    "db.test_connection()"
   ]
  },
  {
   "cell_type": "code",
   "execution_count": 46,
   "id": "d7de2b18",
   "metadata": {},
   "outputs": [],
   "source": [
    "# Set up Ollama service\n",
    "from langchain_ollama import ChatOllama\n",
    "from pydantic import BaseModel, Field\n",
    "\n",
    "class Findings(BaseModel):\n",
    "    \"\"\"\n",
    "    A list of original findings made by the research paper\n",
    "    \"\"\"\n",
    "    content: list[str] = Field(description=\"List of findings made by the research paper\")\n",
    "\n",
    "llm = ChatOllama(model=\"deepseek-r1\", temperature=0.0).with_structured_output(schema=Findings)"
   ]
  },
  {
   "cell_type": "code",
   "execution_count": 33,
   "id": "605d5b24",
   "metadata": {},
   "outputs": [
    {
     "name": "stdout",
     "output_type": "stream",
     "text": [
      "Paper Title: The morphology of extragalactic radio sources of high and low luminosity\n",
      "Paper Abstract: The relative positions of the high and low brightness regions in the extragalactic sources in the 3 CR complete sample are found to be correlated with the luminosity of these sources.\n"
     ]
    }
   ],
   "source": [
    "import pandas as pd\n",
    "research = pd.read_json('data/preprocessed/research.jsonl', lines=True)\n",
    "\n",
    "paper = research.iloc[0]\n",
    "print(f\"Paper Title: {paper['title']}\")\n",
    "print(f\"Paper Abstract: {paper['abstract']}\")"
   ]
  },
  {
   "cell_type": "markdown",
   "id": "8a1afe4c",
   "metadata": {},
   "source": [
    "### Set up chat messages"
   ]
  },
  {
   "cell_type": "code",
   "execution_count": 49,
   "id": "612ff732",
   "metadata": {},
   "outputs": [
    {
     "name": "stdout",
     "output_type": "stream",
     "text": [
      "The morphology of extragalactic radio sources of high and low luminosity\n",
      "Fanaroff, B. L., Riley, J. M.\n",
      "\n",
      "Abstract: The relative positions of the high and low brightness regions in the extragalactic sources in the 3 CR complete sample are found to be correlated with the luminosity of these sources.\n",
      "\n",
      "Mon. Not. R. astr. Soc. (i~y~.) 167, Short Communication, 3 IP-35P. THE MORPHOLOGY OF EXTRAGALACTIC RADIO SOURCES OF HIGH AND LOW LUMINOSITY B. L. Fanaroff and J. M. Riley (Received 1974 March 6) SUMMA\n"
     ]
    }
   ],
   "source": [
    "from langchain_core.messages import HumanMessage, SystemMessage\n",
    "\n",
    "prompt = \"\"\"You are an expert research assistant. Summarize the original scientific findings of the following research paper. \n",
    "\n",
    "## Task\n",
    "- Write the findings as a JSON array of strings, each finding being one string element.\n",
    "- Do not include acknowledgments or references: focus only on the original research contributions made in this paper\n",
    "- Only write out the JSON array, do not include any other text or formatting.\n",
    "\n",
    "Example output:\n",
    "[\"Contribution 1\", \"Contribution 2\", \"Contribution 3\"]\n",
    "\"\"\"\n",
    "\n",
    "system_prompt = SystemMessage(content=prompt)\n",
    "\n",
    "def full_paper_text(paper: pd.Series) -> HumanMessage:\n",
    "    \"\"\"\n",
    "    Construct the full text of the paper from its title, authors, abstract, and body.\n",
    "    \"\"\"\n",
    "    text = f\"{paper['title']}\\n{', '.join(paper['author'])}\\n\\nAbstract: {paper['abstract']}\\n\\n{paper['body']}\"\n",
    "    return HumanMessage(content=text)\n",
    "\n",
    "full_text_message = full_paper_text(paper)\n",
    "print(full_text_message.content[:500])"
   ]
  },
  {
   "cell_type": "code",
   "execution_count": 50,
   "id": "05e1bcda",
   "metadata": {},
   "outputs": [
    {
     "name": "stdout",
     "output_type": "stream",
     "text": [
      "LLM identified 5 contributions.\n",
      "1 - The relative positions of the high and low brightness regions in the extragalactic sources in the 3CR complete sample are found to be correlated with the luminosity of these sources.\n",
      "2 - In sources for which we have maps of adequate resolution, this is equivalent to having the 'hot spots' nearer to (Class I) or further away from (Class II) the central bright galaxy or quasar than the regions of diffuse radio emission.\n",
      "3 - The results are presented in Table I whose arrangement is as follows: (1) The luminosity at 178 MHz in W Hz-' sr-1 (Hubble's constant = 50 km s~ Mpc'); the sources are arranged in order of their luminosity. 3 `P 32P B. L. Fanaroff and J. M. Riley TABLE I Beam Size size Pi78 Type Class (kpc) (kpc) 5X10^21 231 C I I 07 5X10^22 272.1 C(D) I 8 i*9 X 10^24 831 C(D) I 250 12 449 C(D) I? 270 12 300 390 12 254 100 330 204 270 400 ...\n",
      "4 - Despite these differences in their relative positions, the low brightness regions in both classes show similar properties, as do the high brightness regions.\n",
      "5 - The correlation we have found of the positions of these regions with the Morphology of extragalactic radio sources 35P total luminosity of a source implies that there is a relationship between the way in which the energy is transported and deposited in a source and the total 1umino~ sity of that source.\n"
     ]
    }
   ],
   "source": [
    "response = llm.invoke([system_prompt, work_message])\n",
    "print(f\"LLM identified {len(response.content)} contributions.\")\n",
    "for i, contribution in enumerate(response.content):\n",
    "    print(f\"{i+1} - {contribution}\")"
   ]
  },
  {
   "cell_type": "code",
   "execution_count": 32,
   "id": "d622e9da",
   "metadata": {},
   "outputs": [],
   "source": [
    "training_data = pd.read_json('data/dataset/split/small_train.jsonl', lines=True)"
   ]
  },
  {
   "cell_type": "code",
   "execution_count": 51,
   "id": "550c6fc4",
   "metadata": {},
   "outputs": [
    {
     "name": "stdout",
     "output_type": "stream",
     "text": [
      "source_doi                      10.1146/annurev.astro.46.060407.145222\n",
      "sent_original        It is unclear whether the solution can be foun...\n",
      "sent_no_cit          It is unclear whether the solution can be foun...\n",
      "sent_idx                                                           541\n",
      "citation_dois                       [10.1111/j.1365-2966.2009.14750.x]\n",
      "pubdate                                                     2009-09-01\n",
      "resolved_bibcodes                                [2009MNRAS.396..203S]\n",
      "Name: 0, dtype: object\n",
      "Contributions for DOI 10.1111/j.1365-2966.2009.14750.x:\n",
      "1: The chemical evolution of galaxies is a complex interplay between stellar nucleosynthesis, galactic outflows, and the mixing of material within the galaxy. In this paper, we focus on the chemical evolution of the Milky Way, specifically examining how oxygen abundance ([O/Fe]) evolves over time due to these processes. The data presented in Figure 9 shows a bimodal distribution of [O/Fe], which suggests two distinct populations contributing to the overall chemical evolution. To understand this phenomenon, we developed an analytic model that considers the production and decay of heavy elements like oxygen through stellar nucleosynthesis and galactic winds.\n",
      "\n",
      "Our model assumes that star formation begins at time t=0 and follows a specific star formation rate (SFR) curve for 5 billion years. The SFR is modeled such that it peaks at a certain point, after which it declines gradually. This assumption aligns with the idea that galaxies experience periods of rapid star formation followed by quiescence.\n",
      "\n",
      "The production of oxygen and other heavy elements through Type Ia supernovae (SNIa) and core-collapse supernovae (CCSN) is a critical component of our model. We assume that the rate of Fe production follows a specific function, while the production of α-elements (like carbon, nitrogen, and oxygen) occurs at a different rate due to delays in their nucleosynthetic pathways.\n",
      "\n",
      "Equation (5) describes the iron mass as a function of time, integrating the supernova rates. Similarly, Equation (6) models the accumulation of α-elements over time, considering the delay timescale τ. The initial and asymptotic values of these elements are crucial in shaping the bimodal distribution observed in [O/Fe].\n",
      "\n",
      "By setting specific parameters such as τ = 0.15 Gyr for white dwarf formation and accretion timescales, our model predicts that oxygen abundance reaches a peak at around 8 Gyr after star formation begins. This peak corresponds to the time when the first generation of stars (Population I) have contributed their heavy elements to the interstellar medium, which are then incorporated into subsequent generations of stars.\n",
      "\n",
      "After this initial peak, the second generation of stars (Population II), formed from the same stellar population but after Population I has dispersed or evolved away, contribute additional oxygen. This dual contribution leads to the observed bimodal distribution in [O/Fe], with two distinct peaks corresponding to the contributions from each population.\n",
      "\n",
      "The model also accounts for the gradual decline in oxygen abundance as later generations of stars produce fewer heavy elements due to the declining star formation rate and the subsequent outflow of material from the galaxy. This decline is further modulated by the mixing processes within the galaxy, which homogenize the chemical abundances over time.\n",
      "\n",
      "In summary, our analytic model successfully captures the key features of the [O/Fe] distribution observed in Figure 9, providing valuable insights into the multi-step nature of heavy element production and their contributions to galactic chemical evolution.\n"
     ]
    }
   ],
   "source": [
    "def get_record_from_doi(doi: str) -> pd.Series:\n",
    "    \"\"\"\n",
    "    Get the record from the dataset based on the DOI.\n",
    "    \"\"\"\n",
    "    return research[research['doi'] == doi].iloc[0]\n",
    "\n",
    "def get_contributions(doi: str) -> list[str]:\n",
    "    \"\"\"\n",
    "    Get the contributions for a given DOI using the LLM.\n",
    "    \"\"\"\n",
    "    record = get_record_from_doi(doi)\n",
    "    full_text = full_paper_text(record)\n",
    "    response = llm.invoke([system_prompt, full_text])\n",
    "    return response.content\n",
    "\n",
    "example = training_data.iloc[0]\n",
    "print(example)\n",
    "\n",
    "query_doi = example['citation_dois'][0]\n",
    "\n",
    "contributions = get_contributions(query_doi)\n",
    "print(f\"Contributions for DOI {query_doi}:\")\n",
    "for i, contribution in enumerate(contributions):\n",
    "    print(f\"{i+1}: {contribution}\")\n"
   ]
  },
  {
   "cell_type": "code",
   "execution_count": 54,
   "id": "febe5279",
   "metadata": {},
   "outputs": [],
   "source": [
    "training_target_dois = set(doi for dois in training_data['citation_dois'] for doi in dois if doi)  # Get all unique DOIs in the training data\n",
    "\n",
    "from Embedders import get_embedder\n",
    "import torch\n",
    "from tqdm import tqdm\n",
    "\n",
    "device = \"cuda\" if torch.cuda.is_available() else \"mps\" if torch.mps.is_available() else \"cpu\"\n",
    "embedder = get_embedder(model_name=\"BAAI/bge-large-en-v1.5\", device=device, normalize=True)\n",
    "\n",
    "contribution_log = {}\n",
    "\n",
    "def insert_contribution_embeddings(doi: str):\n",
    "    contributions = get_contributions(doi)\n",
    "    contribution_log[doi] = contributions  \n",
    "    embeddings = embedder(contributions)\n",
    "    with db.conn.cursor() as cursor:\n",
    "        for embedding, contribution in tqdm(zip(embeddings, contributions)):\n",
    "            embedding = embedding.cpu().numpy().tolist()\n",
    "            cursor.execute(\n",
    "                \"INSERT INTO contributions (embedding, text, doi) VALUES (%s, %s, %s)\",\n",
    "                (embedding, contribution, doi)\n",
    "            )\n",
    "        db.conn.commit()"
   ]
  },
  {
   "cell_type": "code",
   "execution_count": null,
   "id": "6538057e",
   "metadata": {},
   "outputs": [
    {
     "name": "stderr",
     "output_type": "stream",
     "text": [
      "Inserting contributions into database:   0%|          | 0/14 [00:00<?, ?it/s]"
     ]
    }
   ],
   "source": [
    "for doi in tqdm(training_target_dois, desc=\"Inserting contributions into database\"):\n",
    "    insert_contribution_embeddings(doi)"
   ]
  },
  {
   "cell_type": "code",
   "execution_count": null,
   "id": "5b7a2ce7",
   "metadata": {},
   "outputs": [],
   "source": []
  }
 ],
 "metadata": {
  "kernelspec": {
   "display_name": "citeline",
   "language": "python",
   "name": "python3"
  },
  "language_info": {
   "codemirror_mode": {
    "name": "ipython",
    "version": 3
   },
   "file_extension": ".py",
   "mimetype": "text/x-python",
   "name": "python",
   "nbconvert_exporter": "python",
   "pygments_lexer": "ipython3",
   "version": "3.11.10"
  }
 },
 "nbformat": 4,
 "nbformat_minor": 5
}
