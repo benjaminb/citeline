{
 "cells": [
  {
   "cell_type": "code",
   "execution_count": 1,
   "id": "f9861f44",
   "metadata": {},
   "outputs": [
    {
     "name": "stdout",
     "output_type": "stream",
     "text": [
      "=================================CONFIG=================================\n",
      "Database         User             Host                             Port            \n",
      "citelinedb       bbasseri         localhost                        5432            \n",
      "========================================================================\n",
      "Database version: ('PostgreSQL 17.5 (Homebrew) on aarch64-apple-darwin24.4.0, compiled by Apple clang version 17.0.0 (clang-1700.0.13.3), 64-bit',)\n"
     ]
    }
   ],
   "source": [
    "from database.database import Database\n",
    "\n",
    "db = Database()\n",
    "db.test_connection()"
   ]
  },
  {
   "cell_type": "code",
   "execution_count": 5,
   "id": "d7de2b18",
   "metadata": {},
   "outputs": [
    {
     "name": "stdout",
     "output_type": "stream",
     "text": [
      "AI Message: <think>\n",
      "\n",
      "</think>\n",
      "\n",
      "My knowledge is current up to December 2023. I'll do my best to provide accurate and comprehensive information for you.\n"
     ]
    }
   ],
   "source": [
    "# Set up Ollama service\n",
    "from langchain_ollama import ChatOllama\n",
    "llm = ChatOllama(\n",
    "    model=\"deepseek-r1\",\n",
    "    temperature=0.0\n",
    ")\n",
    "\n",
    "ai_message = llm.invoke(\"What's your knowledge cutoff date?\")\n",
    "print(f\"AI Message: {ai_message.content}\")"
   ]
  },
  {
   "cell_type": "code",
   "execution_count": 8,
   "id": "605d5b24",
   "metadata": {},
   "outputs": [
    {
     "name": "stdout",
     "output_type": "stream",
     "text": [
      "Paper Title: The morphology of extragalactic radio sources of high and low luminosity\n",
      "Paper Abstract: The relative positions of the high and low brightness regions in the extragalactic sources in the 3 CR complete sample are found to be correlated with the luminosity of these sources.\n"
     ]
    }
   ],
   "source": [
    "import pandas as pd\n",
    "research = pd.read_json('data/preprocessed/research.jsonl', lines=True, nrows=10)\n",
    "\n",
    "paper = research.iloc[0]\n",
    "print(f\"Paper Title: {paper['title']}\")\n",
    "print(f\"Paper Abstract: {paper['abstract']}\")"
   ]
  },
  {
   "cell_type": "code",
   "execution_count": 14,
   "id": "612ff732",
   "metadata": {},
   "outputs": [
    {
     "name": "stdout",
     "output_type": "stream",
     "text": [
      "Full Paper Text:\n",
      "The morphology of extragalactic radio sources of high and low luminosity\n",
      "Fanaroff, B. L., Riley, J. M.\n",
      "\n",
      "Abstract: The relative positions of the high and low brightness regions in the extragalactic sources in the 3 CR complete sample are found to be correlated with the luminosity of these sources.\n",
      "\n",
      "Mon. Not. R. astr. Soc. (i~y~.) 167, Short Communication, 3 IP-35P. THE MORPHOLOGY OF EXTRAGALACTIC RADIO SOURCES OF HIGH AND LOW LUMINOSITY B. L. Fanaroff and J. M. Riley (Received 1974 March 6) SUMMA...\n"
     ]
    }
   ],
   "source": [
    "from langchain_core.messages import HumanMessage, SystemMessage\n",
    "\n",
    "prompt = \"\"\"You are an expert research assistant. Identify the original contributions of the following research paper. Write the contributions as a JSON array of strings.\"\"\"\n",
    "system_prompt = SystemMessage(content=prompt)\n",
    "\n",
    "full_paper_text = f\"{paper['title']}\\n{', '.join(paper['author'])}\\n\\nAbstract: {paper['abstract']}\\n\\n{paper['body']}\"\n",
    "print(f\"Full Paper Text:\\n{full_paper_text[:500]}...\")  # Print first 500 characters for brevity\n",
    "\n"
   ]
  },
  {
   "cell_type": "code",
   "execution_count": 15,
   "id": "05e1bcda",
   "metadata": {},
   "outputs": [
    {
     "name": "stdout",
     "output_type": "stream",
     "text": [
      "Response: <think>\n",
      "Okay, so I need to figure out the original contributions of this research paper about the morphology of extragalactic radio sources in terms of their high and low luminosity. The user has provided a detailed abstract and references, but they want me to identify the key contributions as JSON objects.\n",
      "\n",
      "First, I'll read through the abstract carefully. It mentions that there's a correlation between the relative positions of high and low brightness regions in radio sources and their luminosity. They used the 3CR sample, which is a well-known dataset for radio galaxies. The authors classified these sources into two classes based on the ratio of distances between high and low brightness regions compared to the total extent.\n",
      "\n",
      "I should note that they specifically analyzed sources with adequate resolution, excluding those where it was impossible or where classification wasn't feasible. This methodological approach seems like a significant contribution because it provides a clear criterion for classifying these sources.\n",
      "\n",
      "Looking at the results in Table I, there's a clear division in luminosity between class I and II sources. The dividing line is around 3×10^25 W Hz^-1 sr^-1. This finding suggests that higher luminosity sources have different morphological structures compared to lower ones. \n",
      "\n",
      "Another point is their discussion on the implications of these classifications. They mention that low brightness regions in class I are further from the galaxy, while high brightness regions are closer. This spatial relationship could indicate how energy is transported and deposited within the source.\n",
      "\n",
      "They also compare the properties of high and low brightness regions across classes, noting similarities in energy densities and spectral indices. This suggests that despite differences in structure, both regions contribute similarly to the overall radio emission.\n",
      "\n",
      "The authors highlight that their findings support the idea that reprocessed relativistic particles are involved, with different timescales for energy equipartition depending on whether it's a high or low brightness region. This insight could be crucial for understanding the mechanisms behind radio galaxy evolution.\n",
      "\n",
      "Additionally, they acknowledge that class II sources don't necessarily move them from one class to another if low brightness regions exist, which adds nuance to their classification system.\n",
      "\n",
      "I should structure these points into clear contributions, each as a JSON object with a title and description. I'll make sure each contribution is distinct and captures the essence of what was done in the paper.\n",
      "</think>\n",
      "\n",
      "Here are the original contributions of the research paper, presented as structured JSON objects:\n",
      "\n",
      "```json\n",
      "[\n",
      "  {\n",
      "    \"title\": \"Classification of Radio Sources by Brightness Region\",\n",
      "    \"description\": \"The authors developed a classification system for radio sources based on the relative positions and brightness of their high- and low-brightness regions. Sources were divided into two classes (I and II) using the ratio of distances between these regions compared to the total extent of the source.\"\n",
      "  },\n",
      "  \n",
      "  {\n",
      "    \"title\": \"Morphological Division Based on Luminosity\",\n",
      "    \"description\": \"A clear correlation was found between the morphological structure (high vs. low brightness regions) and the total luminosity of extragalactic radio sources, with a dividing luminosity threshold around 3×10^25 W Hz^-1 sr^-1.\"\n",
      "  },\n",
      "  \n",
      "  {\n",
      "    \"title\": \"Distinct Morphological Features in Classes I and II\",\n",
      "    \"description\": \"Class I sources exhibit complex structures with high-brightness regions closer to the associated galaxy, while Class II sources show simpler structures with low-brightness regions extending further along their axes.\"\n",
      "  },\n",
      "  \n",
      "  {\n",
      "    \"title\": \"Energy Transport Insights from Classification\",\n",
      "    \"description\": \"The spatial distribution of brightness regions provides insights into energy transport and deposition mechanisms. Low-brightness regions in Class I are associated with longer timescales for relativistic particle replacement, suggesting recent activity, while high-brightness regions may involve more rapid processes.\"\n",
      "  },\n",
      "  \n",
      "  {\n",
      "    \"title\": \"Comparative Analysis of High and Low Brightness Regions\",\n",
      "    \"description\": \"Both high- and low-brightness regions across classes exhibit similar energy densities and spectral indices, indicating that these regions contribute similarly to the overall radio emission despite differences in structure.\"\n",
      "  }\n",
      "]\n",
      "```\n",
      "\n",
      "These contributions highlight the methodological approach, findings, and implications of the study on the morphological classification of extragalactic radio sources.\n"
     ]
    }
   ],
   "source": [
    "work_message = HumanMessage(content=full_paper_text)\n",
    "response = llm.invoke([system_prompt, work_message])\n",
    "print(f\"Response: {response.content}\")"
   ]
  },
  {
   "cell_type": "code",
   "execution_count": null,
   "id": "92e9df0a",
   "metadata": {},
   "outputs": [],
   "source": []
  }
 ],
 "metadata": {
  "kernelspec": {
   "display_name": "citeline",
   "language": "python",
   "name": "python3"
  },
  "language_info": {
   "codemirror_mode": {
    "name": "ipython",
    "version": 3
   },
   "file_extension": ".py",
   "mimetype": "text/x-python",
   "name": "python",
   "nbconvert_exporter": "python",
   "pygments_lexer": "ipython3",
   "version": "3.11.10"
  }
 },
 "nbformat": 4,
 "nbformat_minor": 5
}
