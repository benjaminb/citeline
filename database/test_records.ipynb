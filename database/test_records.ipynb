{
 "cells": [
  {
   "cell_type": "code",
   "execution_count": 4,
   "metadata": {},
   "outputs": [
    {
     "name": "stdout",
     "output_type": "stream",
     "text": [
      "../data/json/Astro_Research.json: 981/1000 have all required keys\n"
     ]
    }
   ],
   "source": [
    "import os\n",
    "import psycopg2\n",
    "import sys\n",
    "from dotenv import load_dotenv\n",
    "from semantic_text_splitter import TextSplitter\n",
    "from tqdm import tqdm\n",
    "from concurrent.futures import ThreadPoolExecutor, as_completed\n",
    "\n",
    "from time import time\n",
    "\n",
    "\n",
    "# Add the parent directory to sys.path\n",
    "current_dir = os.path.dirname(os.path.abspath(__file__)) if '__file__' in globals() else os.getcwd()# fmt: off\n",
    "sys.path.append(os.path.dirname(current_dir))\n",
    "from utils import load_dataset  \n",
    "\n",
    "records = load_dataset('../data/json/Astro_Research.json')\n",
    "record = records[516]"
   ]
  },
  {
   "cell_type": "code",
   "execution_count": 11,
   "metadata": {},
   "outputs": [],
   "source": [
    "splitter = TextSplitter(capacity=1500, overlap=200)\n",
    "from database import chunk_and_insert\n",
    "\n",
    "full_text = record['title'] + '\\n\\nABSTRACT:\\n' + \\\n",
    "    record['abstract'] + '\\n\\n' + record['body']\n",
    "chunks = splitter.chunks(full_text)\n",
    "doi = record['doi'][0]\n",
    "# chunk_and_insert(record, splitter)"
   ]
  },
  {
   "cell_type": "code",
   "execution_count": null,
   "metadata": {},
   "outputs": [
    {
     "data": {
      "text/plain": [
       "86"
      ]
     },
     "execution_count": 14,
     "metadata": {},
     "output_type": "execute_result"
    }
   ],
   "source": [
    "from database import insert_chunk\n",
    "\n",
    "for i, chunk in enumerate(chunks):\n",
    "    print(f\"Inserting chunk {i}\")\n",
    "    insert_chunk(chunk, doi)"
   ]
  },
  {
   "cell_type": "code",
   "execution_count": null,
   "metadata": {},
   "outputs": [],
   "source": []
  }
 ],
 "metadata": {
  "kernelspec": {
   "display_name": "citeline",
   "language": "python",
   "name": "python3"
  },
  "language_info": {
   "codemirror_mode": {
    "name": "ipython",
    "version": 3
   },
   "file_extension": ".py",
   "mimetype": "text/x-python",
   "name": "python",
   "nbconvert_exporter": "python",
   "pygments_lexer": "ipython3",
   "version": "3.11.10"
  }
 },
 "nbformat": 4,
 "nbformat_minor": 2
}
