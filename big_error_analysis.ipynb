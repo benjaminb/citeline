{
 "cells": [
  {
   "cell_type": "code",
   "execution_count": 1,
   "metadata": {},
   "outputs": [
    {
     "name": "stdout",
     "output_type": "stream",
     "text": [
      "=================================CONFIG=================================\n",
      "Database         User             Host                             Port            \n",
      "citeline_db      bbasseri         localhost                        5432            \n",
      "========================================================================\n",
      "Database version: ('PostgreSQL 17.3 (Homebrew) on x86_64-apple-darwin23.6.0, compiled by Apple clang version 16.0.0 (clang-1600.0.26.6), 64-bit',)\n"
     ]
    }
   ],
   "source": [
    "from dotenv import load_dotenv\n",
    "import os\n",
    "import pandas as pd\n",
    "from time import time\n",
    "import torch\n",
    "from TextEnrichers import get_enricher, TextEnricher\n",
    "from database.database import Database\n",
    "from Embedders import Embedder, get_embedder\n",
    "from tqdm import tqdm\n",
    "from pprint import pprint\n",
    "import numpy as np\n",
    "\n",
    "load_dotenv(\".env\", override=True)\n",
    "\n",
    "db = Database()\n",
    "db.test_connection()"
   ]
  },
  {
   "cell_type": "code",
   "execution_count": 2,
   "metadata": {},
   "outputs": [
    {
     "name": "stdout",
     "output_type": "stream",
     "text": [
      "Using device: mps\n",
      "Loaded 100 examples\n"
     ]
    }
   ],
   "source": [
    "device = 'cuda' if torch.cuda.is_available() else 'mps' if torch.mps.is_available() else 'cpu'\n",
    "print(f\"Using device: {device}\")\n",
    "examples = pd.read_json('data/dataset/100/nontrivial.jsonl', lines=True)\n",
    "print(f\"Loaded {len(examples)} examples\")"
   ]
  },
  {
   "cell_type": "code",
   "execution_count": 3,
   "metadata": {},
   "outputs": [],
   "source": [
    "def get_index_of_target(query_results, target_doi: str) -> int:\n",
    "    \"\"\"\n",
    "    Get the index of the target DOI in the query results.\n",
    "    :param query_results: The query results from the database.\n",
    "    :param target_doi: The DOI of the target paper.\n",
    "    :return: The index of the target DOI in the query results.\n",
    "    \"\"\"\n",
    "    for i, result in enumerate(query_results):\n",
    "        if result.doi == target_doi:\n",
    "            return i\n",
    "    return -1\n",
    "\n",
    "def get_query_results_and_ranks(examples, embedder, enricher, target_column) -> list[int]:\n",
    "    all_query_results = []\n",
    "    target_ranks = []\n",
    "    # Enrich and embed the sentences\n",
    "    enriched_sentences = enricher(examples)\n",
    "    embeddings = embedder(enriched_sentences)\n",
    "\n",
    "    for i, embedding in tqdm(enumerate(embeddings)):\n",
    "        pubdate = examples.iloc[i]['pubdate']\n",
    "        target_doi = examples.iloc[i]['citation_dois'][0]\n",
    "\n",
    "        query_results = db.query_vector_column(\n",
    "            query_vector=embedding,\n",
    "            table_name=\"lib\",\n",
    "            target_column=target_column,\n",
    "            pubdate=pubdate,\n",
    "            top_k=10_000,\n",
    "            probes=40,\n",
    "            explain=False,\n",
    "        )\n",
    "        all_query_results.append(query_results)\n",
    "\n",
    "        # Get the rank of the target DOI in the query results\n",
    "        target_rank = get_index_of_target(query_results, target_doi)\n",
    "        target_ranks.append(target_rank)\n",
    "    return all_query_results, target_ranks"
   ]
  },
  {
   "cell_type": "code",
   "execution_count": 4,
   "metadata": {},
   "outputs": [
    {
     "name": "stderr",
     "output_type": "stream",
     "text": [
      "100it [03:08,  1.89s/it]\n"
     ]
    }
   ],
   "source": [
    "# BGE with identity experiment\n",
    "bge_embedder = get_embedder(\"BAAI/bge-small-en\", device=device, normalize=True)\n",
    "identity_enricher = get_enricher(\"identity\", path_to_data=\"data/preprocessed/reviews.jsonl\")\n",
    "\n",
    "bge_query_results, bge_ranks = get_query_results_and_ranks(examples, bge_embedder, identity_enricher, \"bge_norm\")\n"
   ]
  },
  {
   "cell_type": "code",
   "execution_count": 6,
   "metadata": {},
   "outputs": [
    {
     "name": "stdout",
     "output_type": "stream",
     "text": [
      "Mean rank: 645.41\n",
      "Median rank: 18.0\n",
      "Max rank: 8045\n",
      "Rank 0 count: 10\n",
      "Rank 1 count: 10\n",
      "Rank 2 count: 2\n",
      "Rank 3 count: 2\n"
     ]
    }
   ],
   "source": [
    "def print_rank_stats(ranks):\n",
    "    \"\"\"\n",
    "    Print the rank statistics.\n",
    "    :param ranks: The ranks to analyze.\n",
    "    \"\"\"\n",
    "    print(f\"Mean rank: {np.mean(ranks)}\")\n",
    "    print(f\"Median rank: {np.median(ranks)}\")\n",
    "    print(f\"Max rank: {np.max(ranks)}\")\n",
    "    print(f\"Rank 0 count: {ranks.count(0)}\")\n",
    "    print(f\"Rank 1 count: {ranks.count(1)}\")\n",
    "    print(f\"Rank 2 count: {ranks.count(2)}\")\n",
    "    print(f\"Rank 3 count: {ranks.count(3)}\")\n",
    "\n",
    "print_rank_stats(bge_ranks)"
   ]
  },
  {
   "cell_type": "code",
   "execution_count": 8,
   "metadata": {},
   "outputs": [
    {
     "name": "stdout",
     "output_type": "stream",
     "text": [
      "Failed queries: 18\n",
      "[0, 8, 10, 11, 14, 23, 27, 40, 42, 46, 58, 65, 66, 68, 72, 78, 80, 93]\n"
     ]
    }
   ],
   "source": [
    "failed_queries = [i for i in range(len(bge_ranks)) if bge_ranks[i] == -1]\n",
    "print(f\"Failed queries: {len(failed_queries)}\")\n",
    "print(failed_queries)"
   ]
  },
  {
   "cell_type": "markdown",
   "metadata": {},
   "source": [
    "## Methodology\n",
    "\n",
    "Each failed query represents an example query executed on the database with top-k of 10,000 and 40 probes where none of the results were chunks from the target document.\n",
    "\n",
    "- Verify the target doi is correct\n",
    "- If not, identify why not\n",
    "  - would the correct doi have closer chunk embeddings?\n",
    "- If correct, inspect what chunks were considered close\n",
    "- What transformations, if any, would make the target chunk's embedding closer to the query vector?"
   ]
  },
  {
   "cell_type": "markdown",
   "metadata": {},
   "source": [
    "Let's try with example 18, the worst-performing one in the dataset"
   ]
  },
  {
   "cell_type": "code",
   "execution_count": 10,
   "metadata": {},
   "outputs": [
    {
     "name": "stdout",
     "output_type": "stream",
     "text": [
      "('Original sentence: These are minor species, with abundances of 1.5 10 12 , '\n",
      " '1.7 10 9 , and 7 10 8 kg N, respectively ( Ussiri and Lal, 2013 ).')\n",
      "('Example: These are minor species, with abundances of 1.5 10 12 , 1.7 10 9 , '\n",
      " 'and 7 10 8 kg N, respectively ( Ussiri and .')\n",
      "Target doi: ['10.1016/j.epsl.2013.07.013']\n"
     ]
    }
   ],
   "source": [
    "example = examples.iloc[failed_queries[0]]\n",
    "pprint(f\"Original sentence: {example.sent_original}\")\n",
    "pprint(f\"Example: {example.sent_no_cit}\")\n",
    "print(f\"Target doi: {example.citation_dois}\")"
   ]
  },
  {
   "cell_type": "markdown",
   "metadata": {},
   "source": [
    "This is an incorrect doi: the inline citation missed the first author. \n",
    "\n",
    "### Incorrect DOI"
   ]
  },
  {
   "cell_type": "code",
   "execution_count": 11,
   "metadata": {},
   "outputs": [
    {
     "name": "stdout",
     "output_type": "stream",
     "text": [
      "('Original sentence: But assuming the existence of ad hoc density '\n",
      " 'fluctuations, may change the volume integrated gamma-ray spectrum as to make '\n",
      " 'it similar to the observed one Morlino and Caprioli ( 2012 ).')\n",
      "('Example: But assuming the existence of ad hoc density fluctuations, may '\n",
      " 'change the volume integrated gamma-ray spectrum as to make it similar to the '\n",
      " 'observed one Morlino and .')\n",
      "Target doi: ['10.1088/1475-7516/2012/07/038']\n"
     ]
    }
   ],
   "source": [
    "example = examples.iloc[failed_queries[1]]\n",
    "pprint(f\"Original sentence: {example.sent_original}\")\n",
    "pprint(f\"Example: {example.sent_no_cit}\")\n",
    "print(f\"Target doi: {example.citation_dois}\")"
   ]
  },
  {
   "cell_type": "markdown",
   "metadata": {},
   "source": [
    "### Incorrect DOI"
   ]
  },
  {
   "cell_type": "code",
   "execution_count": 12,
   "metadata": {},
   "outputs": [
    {
     "name": "stdout",
     "output_type": "stream",
     "text": [
      "('Original sentence: Sweatman (2021) ignored data from carbon spherules '\n",
      " 'generated by both YDIH proponents and critics that provides one of the most '\n",
      " 'compelling pieces of evidence against the YDIH.')\n",
      "('Example: ignored data from carbon spherules generated by both YDIH '\n",
      " 'proponents and critics that provides one of the most compelling pieces of '\n",
      " 'evidence against the YDIH.')\n",
      "Target doi: ['10.1016/j.gca.2021.07.031']\n"
     ]
    }
   ],
   "source": [
    "example = examples.iloc[failed_queries[2]]\n",
    "pprint(f\"Original sentence: {example.sent_original}\")\n",
    "pprint(f\"Example: {example.sent_no_cit}\")\n",
    "print(f\"Target doi: {example.citation_dois}\")"
   ]
  },
  {
   "cell_type": "markdown",
   "metadata": {},
   "source": [
    "The doi actually refers to Sun et al 2021, not Sweatman 2021. The dataset build process should not have included an example where the year and author initial had more than one possibility"
   ]
  },
  {
   "cell_type": "code",
   "execution_count": 33,
   "metadata": {},
   "outputs": [],
   "source": [
    "reviews = pd.read_json(\"data/preprocessed/reviews.jsonl\", lines=True)\n",
    "original_record = reviews[reviews['doi'] == example.source_doi].iloc[0]"
   ]
  },
  {
   "cell_type": "code",
   "execution_count": 34,
   "metadata": {},
   "outputs": [
    {
     "name": "stdout",
     "output_type": "stream",
     "text": [
      "2021GeCoA.312...57S\n"
     ]
    }
   ],
   "source": [
    "for ref in original_record.reference:\n",
    "    if ref[:4] == \"2021\" and ref[-1] == \"S\": \n",
    "        print(ref)"
   ]
  },
  {
   "cell_type": "markdown",
   "metadata": {},
   "source": [
    "That's the bibcode in the original review paper references that matched \"2021\" and \"S\". However, the bibcode for Sweatman (2021) is actually `2021ESRv..21803677S`. \n",
    "\n",
    "The bibcode for this inline citation is missing in the document's references:"
   ]
  },
  {
   "cell_type": "code",
   "execution_count": 35,
   "metadata": {},
   "outputs": [
    {
     "name": "stdout",
     "output_type": "stream",
     "text": [
      "2021CliPa..17.1409N\n",
      "2021EGUGA..23.8442T\n",
      "2021GeCoA.312...57S\n",
      "2021JGRD..12635379Z\n",
      "2021MNRAS.501.3350F\n",
      "2021NatCo..12.2106C\n",
      "2021NatSR..1118632B\n",
      "2021NatSR..1122359O\n",
      "2021Natur.595...66R\n"
     ]
    }
   ],
   "source": [
    "for ref in original_record.reference:\n",
    "    if ref[:4] == \"2021\":\n",
    "        print(ref)\n"
   ]
  },
  {
   "cell_type": "markdown",
   "metadata": {},
   "source": [
    "### Conclusion: if this is a one-off error we can add the missing reference to the training data. "
   ]
  },
  {
   "cell_type": "code",
   "execution_count": 37,
   "metadata": {},
   "outputs": [
    {
     "name": "stdout",
     "output_type": "stream",
     "text": [
      "('Original sentence: Gyrochronology is based on the stellar spin-down due to '\n",
      " 'magnetic braking and uses the surface rotation rate as a clock, adopting the '\n",
      " 'so-called Skumanich relation between angular momentum loss and rotation '\n",
      " 'rate, ( Skumanich 1972 ).')\n",
      "('Example: Gyrochronology is based on the stellar spin-down due to magnetic '\n",
      " 'braking and uses the surface rotation rate as a clock, adopting the '\n",
      " 'so-called Skumanich relation between angular momentum loss and rotation '\n",
      " 'rate, ( .')\n",
      "Target doi: ['10.1086/151310']\n"
     ]
    }
   ],
   "source": [
    "example = examples.iloc[failed_queries[3]]\n",
    "pprint(f\"Original sentence: {example.sent_original}\")\n",
    "pprint(f\"Example: {example.sent_no_cit}\")\n",
    "print(f\"Target doi: {example.citation_dois}\")"
   ]
  },
  {
   "cell_type": "markdown",
   "metadata": {},
   "source": [
    "This is the correct doi, so why didn't it come up?\n",
    "\n",
    "The passage discusses:\n",
    "- Gyrochronology being based on stellar spin-down\n",
    "- Magnetic braking being the cause of the the spin-down\n",
    "- Skumanich relation to compute this, which relates angular momentum loss and rotation rate\n",
    "\n",
    "Is it in the dataset?"
   ]
  },
  {
   "cell_type": "code",
   "execution_count": 39,
   "metadata": {},
   "outputs": [],
   "source": [
    "research = pd.read_json(\"data/preprocessed/research.jsonl\", lines=True)"
   ]
  },
  {
   "cell_type": "code",
   "execution_count": 46,
   "metadata": {},
   "outputs": [
    {
     "name": "stdout",
     "output_type": "stream",
     "text": [
      "Target doi: 10.1086/151310\n",
      "Time Scales for Ca II Emission Decay, Rotational Braking, and Lithium Depletion\n"
     ]
    }
   ],
   "source": [
    "target_doi = example.citation_dois[0]\n",
    "print(f\"Target doi: {target_doi}\")\n",
    "\n",
    "target_record = research[research['doi'] == target_doi].iloc[0]\n",
    "print(target_record.title)"
   ]
  },
  {
   "cell_type": "code",
   "execution_count": 48,
   "metadata": {},
   "outputs": [
    {
     "name": "stdout",
     "output_type": "stream",
     "text": [
      "Number of chunks: 6\n"
     ]
    }
   ],
   "source": [
    "target_chunks = [chunk[0] for chunk in db.query(f\"SELECT chunk FROM lib WHERE doi = '{target_doi}'\")]\n",
    "print(f\"Number of chunks: {len(target_chunks)}\")"
   ]
  },
  {
   "cell_type": "code",
   "execution_count": 50,
   "metadata": {},
   "outputs": [
    {
     "name": "stdout",
     "output_type": "stream",
     "text": [
      "'Distance: 0.1627938151359558'\n",
      "('197 2ApJ. . .171. .565S The Astrophysical Journal, 171:565-567, 1972 '\n",
      " 'February 1 © 1972. The University of Chicago All rights reserved. Printed in '\n",
      " 'U S A TIME SCALES FOR Ca n EMISSION DECAY, ROTATIONAL BRAKING, AND LITHIUM '\n",
      " 'DEPLETION A. Skumanich High Altitude Observatory, National Center for '\n",
      " 'Atmospheric Research,* Boulder, Colorado Received 1971 June 21 ABSTRACT A '\n",
      " 'comparison of the Ca+ emission luminosity—after correction for spectral-type '\n",
      " 'effects—for the Pleiades, Ursa Major, and Hyades stars and the Sun indicate '\n",
      " 'an emission decay which varies as the inverse square root of the age. '\n",
      " 'Further, the rotational decay curve is found to satisfy the same law. It is '\n",
      " 'further suggested that lithium depletion follows the+ same law but only as '\n",
      " 'far as the Hyades age, after which the depletion proceeds exponentially. '\n",
      " 'Since Ca emission is linearly proportional to magnetic field strength at the '\n",
      " 'surface, one can predict that the surface fields are proportional to angular '\n",
      " 'velocity and decay as the inverse square root. The above results are '\n",
      " 'predicated on the standard Hyades age (0.4 billion years).')\n",
      "\n",
      "'Distance: 0.1749734878540039'\n",
      "('The above results are predicated on the standard Hyades age (0.4 billion '\n",
      " 'years). In an effort to put the relation between stellar age and the '\n",
      " 'intensity of emission reversal of the Ca+ K- and H-lines (Wilson 1963; '\n",
      " 'Wilson and Skumanich 1964) on a quantitative basis the author has reduced '\n",
      " 'photoelectric observations of the cores of the K- and H-lines in the field '\n",
      " 'stars (Wilson 1968), the Hyades (Wilson 1970), and the Sun (Wilson 1971) to '\n",
      " 'a common spectral type (specifically, to B — F = 0.60). As Wilson (1970) has '\n",
      " 'shown, K and H emission varies, for a given age group, with spectral type, '\n",
      " 'so any meaningful age relation must be discussed after temperature '\n",
      " 'differences are removed. The details of this procedure will be given '\n",
      " 'elsewhere; our intent here is to compare the resulting (Ca+ emission, '\n",
      " 'age)-relation with that for rotational braking and lithium depletion. In '\n",
      " 'Figure 1 the temperature-corrected Ca“1\" emission luminosity is plotted '\n",
      " '(after subtraction of the “zero” point flux as given by the lower envelope '\n",
      " 'of Wilson’s flux data) for the Sun and for the Hyades and Ursa Major stars. '\n",
      " 'The latter are to be found among Wilson’s field-star data. The Hyades '\n",
      " 'emission luminosity is taken as unity at all spectral types. Also plotted '\n",
      " 'are the Ca+ emission data for the Pleiades as estimated from Kraft and '\n",
      " 'Greenstein’s (1969) equivalent-width measures of the late-type stars in the '\n",
      " 'Pleiades and Hyades. The indicated errors are based on the spread in data.')\n",
      "\n",
      "'Distance: 0.16884946823120117'\n",
      "('The indicated errors are based on the spread in data. The figure indicates '\n",
      " 'an inverse square-root law for the decay of Ca+ emission. Also plotted in '\n",
      " 'Figure 1 are average equatorial velocities for the G stars in the Pleiades '\n",
      " 'and Hyades and for the Sun (Kraft 1967 ; cf. Conti 1968 for further '\n",
      " 'references of the data used). It is evident that the rotational data are in '\n",
      " 'a constant proportion, within experimental errors, with the Ca+ emission '\n",
      " 'data; i.e., the rotational decay also follows a square-root relation. The '\n",
      " 'same can be said for the lithium-abundance data (for a review of this data, '\n",
      " 'see van den Heuvel and Conti 1971) except that here the Sun has an '\n",
      " 'overdepletion. It would appear that the lithium depletion follows the '\n",
      " 'rotational and Ca+ emission decay through times of the order of the Hyades '\n",
      " 'age and then proceeds exponentially with a e-folding time of 1.1 X 109 '\n",
      " 'years. Alternately, the lithium abundance in the Sun may be underestimated '\n",
      " 'by a factor of 10. According to Frazier’s data (Frazier 1970), Ca+ emission '\n",
      " 'intensity, in a 1.1 Â band centered on the K-line, varies linearly with '\n",
      " 'surface magnetic field strength. Thus it is appropriate to identify the '\n",
      " 'stellar Ca+ emission luminosity with the (average) surface magnetic field. '\n",
      " 'Figure 1 then implies that the average surface (dynamo) field is pro* The '\n",
      " 'National Center for Atmospheric Research is sponsored by the National '\n",
      " 'Science Foundation.')\n",
      "\n",
      "'Distance: 0.16177845001220703'\n",
      "('565 © American Astronomical Society • Provided by the NASA Astrophysics Data '\n",
      " 'System 197 2ApJ. . .171. .565S 566 A. SKUMANICH Vol. 171 Fig. 1.—Ca+ '\n",
      " 'emission, rotation, and lithium abundance versus stellar age portional to '\n",
      " 'the rotational velocity and decays as the inverse square root of the time as '\n",
      " 'the star “cooks” on the main sequence. This remarkable result has been shown '\n",
      " 'to be theoretically consistent by Durney (1972) on the basis of a simple '\n",
      " 'model for the stellar wind. The above results are predicted on the basis of '\n",
      " 'the “standard” age for the Hyades, viz., 0.4 X 109 years. If the revision by '\n",
      " 'van den Heuvel (1969) proves to be correct, the derived square-root law will '\n",
      " 'have to be revised. The proportionality between magnetic fields, rotation, '\n",
      " 'and lithium abundance (except for the solar Li abundance) would be '\n",
      " 'unchanged. The shift in the Hyades point due to the suggested age revision '\n",
      " 'is indicated in Figure 1 by the arrows. As van den Heuvel and Conti (1971) '\n",
      " 'show, one can fit the three points (using the revised age) with an '\n",
      " 'exponential with an e-folding decay time of 1.1 X 109 years; however, the '\n",
      " 'rotation curve was better fitted by two exponentials. The suggestion here, '\n",
      " 'particularly when one tries to fit the Ca+ data (the Ursa Major point is '\n",
      " 'important here), is that a power law is even better. The use of the revised '\n",
      " 'Hyades age leads to an inverse cube-root law up to the Hyades. The '\n",
      " 'subsequent decay would be more rapid for all three quantities.')\n",
      "\n",
      "'Distance: 0.17675238847732544'\n",
      "('Wilson, O. C., and Skumanich, A. 1964, Ap.J., 140, 1401. © American '\n",
      " 'Astronomical Society • Provided by the NASA Astrophysics Data System 197 '\n",
      " '2ApJ. . .171. .565S © American Astronomical Society Provided by the NASA '\n",
      " 'Astrophysics Data System')\n",
      "\n",
      "'Distance: 0.16663789749145508'\n",
      "('The subsequent decay would be more rapid for all three quantities. Whether '\n",
      " 'this is allowable theoretically remains to be seen. Measures of the rotation '\n",
      " 'and lithium abundance in the G stars in the Ursa Major group would help to '\n",
      " 'resolve the question of the nature of the decay law. I am indebted to Olin '\n",
      " 'C. Wilson for his continual stimulation and kind sharing of his unique '\n",
      " 'observational data on stellar chromospheres. Special thanks are due Robert '\n",
      " 'P. Kraft for calling my attention to his Pleiades and Hyades data and for '\n",
      " 'helping in the preliminary estimate of the Pleiades/Hyades ratio. My thanks '\n",
      " 'also go to Peter S. Conti for calling my attention to his and other work on '\n",
      " 'the lithium data. © American Astronomical Society • Provided by the NASA '\n",
      " 'Astrophysics Data System 197 2ApJ. . .171. .565S No. 3, 1972 Ca il EMISSION '\n",
      " 'DECAY 567 REFERENCES Conti, P. S. 1968, Ap.J., 152, 657. Durney, B. 1972, '\n",
      " 'Proceedings of the 1971 Asüomar Conference on the Solar Wind (ed. C. P. '\n",
      " 'Sonnet) Frazier, E. N. 1970, Solar Phys., 14, 89. Heuvel, E. P. J., van den. '\n",
      " '1969, Pub. A.S.P., 81, 815. Heuvel, E. P. J., van den, and Conti, P. S. '\n",
      " '1971, Science, 171, 895. Wilson, O. C. 1963, Ap. /., 138, 832. . 1968, '\n",
      " 'ibid., 153, 221. . 1970, ibid., 160, 225. . 1971 (private communication). '\n",
      " 'Wilson, O. C., and Skumanich, A. 1964, Ap.J., 140, 1401.')\n",
      "\n"
     ]
    }
   ],
   "source": [
    "from scipy.spatial.distance import cosine as cosine_distance\n",
    "example_embedding = bge_embedder([example.sent_no_cit])[0]\n",
    "chunk_embeddings = bge_embedder(target_chunks)\n",
    "for i in range(len(target_chunks)):\n",
    "    chunk = target_chunks[i]\n",
    "    chunk_embedding = chunk_embeddings[i]\n",
    "    distance = cosine_distance(example_embedding, chunk_embedding)\n",
    "    pprint(f\"Distance: {distance}\")\n",
    "    pprint(chunk)\n",
    "    print()"
   ]
  },
  {
   "cell_type": "markdown",
   "metadata": {},
   "source": [
    "Even though this is the paper that established the Skumanich relation, all chunk embeddings are rather distant at 0.16 - 0.17.\n",
    "\n",
    "What did the embedding think was more similar?"
   ]
  },
  {
   "cell_type": "code",
   "execution_count": 52,
   "metadata": {},
   "outputs": [
    {
     "name": "stdout",
     "output_type": "stream",
     "text": [
      "('Distance: 0.09885724166455323\\n'\n",
      " ' Stars like the Sun are believed to have been spun down by magnetic braking '\n",
      " '(Skumamch 1972). Magnetic dynamo models indicate that the braking rate '\n",
      " \"decreases with decreasing angular velocity. Skumamch's surface velocity ~ ~c \"\n",
      " 't 1/2, where t is the age of the star, leads to a spin-down timescale of ;d '\n",
      " '°~ ~spin, 1187 1188 RASIO ET AL. Vol. 470 while the theory of Tout & Pringle '\n",
      " '(1992) for fully convective, rapidly rotating stars leads to the weaker, but '\n",
      " 'still inverse, dependence of ;d °~ ~-i/2~ In general the tidal '\n",
      " 'synchronization rate increases with the lack of synchronicity, ,rsu oc ~ ~, '\n",
      " 'where A1~ is the difference between stellar spin and orbital angular '\n",
      " 'velocities. If ;~ and ;d were both short compared with the age of the star, '\n",
      " 'then an equilibrium would be set up in which ;~ ~ ;d* This is the case for '\n",
      " 'cataclysmic variables, in which tidal spin-up and magnetic braking (or '\n",
      " 'gravitational radiation of angular momentum) are in equilibrium (Verbunt & '\n",
      " 'Zwaan 1981). These systems are unstable because their orbits decay on a '\n",
      " 'timescale ~sd In the case of 51 Peg, because the star appears to be spinning '\n",
      " 'slowly, we can conclude that ~sd ~ ~su over the lifetime of the star and '\n",
      " 'magnetic braking in this system has proceeded in a way similar to that of '\n",
      " 'the Sun. For the Sun, the current braking timescale is of the order of its '\n",
      " 'age ;d 1010 yr, so that `r~~ >~ 1010 yr.')\n",
      "('Distance: 0.09961555013285872\\n'\n",
      " ' This behavior, particularly of the slowly rotating sequence, gave birth to '\n",
      " 'gyrochronology (Barnes 2003 ; Soderblom 1983 ; Skumanich 1972 ), the idea '\n",
      " 'that stellar ages may be inferred solely from rotation period and mass. '\n",
      " 'Gyrochronology will become increasingly important for recent and future data '\n",
      " 'sets (e.g., from exoplanet transit searches) that provide rotation period '\n",
      " 'measurements of large samples of stars with unknown ages. The best current '\n",
      " 'example is the measurement of 34,000 rotation periods in the Kepler mission '\n",
      " 'field of view by Mcquillan et al. ( 2014 ). The present model builds upon '\n",
      " 'many previous works, including theoretical developments of how magnetized '\n",
      " 'stellar winds remove angular momentum (Schatzman 1962 ; Mestel 1968 ; Weber '\n",
      " 'Davis 1967 ; Kawaler 1988 ; Matt et al. 2012 ), models for the evolution of '\n",
      " 'stellar spin rate in time (e.g., MacGregor Brenner 1991 ; Denissenkov et al. '\n",
      " '2010 ; Scholz et al. 2011 ; Reiners Mohanty 2012 ; Gallet Bouvier 2013 ; van '\n",
      " 'Saders Pinsonneault 2013 ; Brown 2014 ), and gyrochronology relations '\n",
      " '(Barnes 2003 , 2010 ; Mamajek Hillenbrand 2008 ; Meibom et al. 2009 ). Much '\n",
      " 'of the difficulty in predicting stellar wind torques arises from the '\n",
      " 'uncertainty (both observational and theoretical) in our knowledge of the '\n",
      " 'magnetic and stellar wind properties of stars. Despite significant progress '\n",
      " 'in measurements of the mass-loss rates of Sun-like stars (Wood et al. 2005 '\n",
      " '), theoretical predictions of wind properties (Suzuki et al.')\n",
      "('Distance: 0.10435946401855423\\n'\n",
      " ' 1. Introduction The interplay of stellar rotation and convection is the '\n",
      " 'origin of various stellar activity phenomena. For main sequence stars the '\n",
      " 'rotation rate strongly depends on the stellar age. Because of rotational '\n",
      " 'braking, stars lose angular momentum over the time and slow down. Skumanich '\n",
      " '(1972) empirically found the relation that the stars’ rotational velocity is '\n",
      " 'proportional to the inverse square root of its age: v rot ∝ t − 1/2 . Barnes '\n",
      " '(2003) shows that this relation holds for open cluster and Mount Wilson '\n",
      " 'stars, and also provides a color dependence of the rotation period. Irwin et '\n",
      " 'al. (2011) measure rotation periods for stars with masses below 0.35 M ⊙ , '\n",
      " 'finding some exceptionally fast and slow rotators. These stars do not follow '\n",
      " 'the color-period relation from Barnes (2003) , but they can be explained by '\n",
      " 'a radius-dependent braking efficiency ( Reiners Mohanty 2012 ). Nowadays, a '\n",
      " 'method called gyrochronology ( Barnes 2007 ) is being developed using '\n",
      " 'Skumanich’s relation in the opposite way to infer stellar ages from the '\n",
      " 'rotation rate. Moreover, the rotation rate strongly correlates with Ca II '\n",
      " 'emission and can be used as a measure of stellar activity. A relation '\n",
      " 'between these properties is often called age-rotation-activity relation ( '\n",
      " 'Covey et al. 2011 ). The solar rotation profile is by no means uniform.')\n"
     ]
    }
   ],
   "source": [
    "example_query_results = bge_query_results[failed_queries[3]]\n",
    "for query_result in example_query_results[:3]:\n",
    "    pprint(f\"Distance: {query_result.distance}\\n {query_result.chunk}\")"
   ]
  },
  {
   "cell_type": "markdown",
   "metadata": {},
   "source": [
    "Trying query expansion: use an LLM to generate paraphrases of the query that surface additional background details:\n",
    "\n",
    "> \n",
    "You are a domain-expert astrophysical writer. When given any single input sentence in quotes, your job is to produce 3 concise, standalone paraphrases that:\n",
    "\n",
    "1. Preserve **all** original technical details and domain-specific jargon.\n",
    "2. **Explicitly expose** any implied mathematical relationships in algebraic form (e.g. y = x^{-1/2}).\n",
    "3. **Cite or mention** at least one observational proxy or physical manifestation\n",
    "4. Keep the same meaning and level of formality.\n",
    "5. List each paraphrase on its own numbered line.\n",
    "\n",
    "Input: \"Gyrochronology is based on the stellar spin-down due to magnetic braking and uses the surface rotation rate as a clock, adopting the so-called Skumanich relation between angular momentum loss and rotation rate.\""
   ]
  },
  {
   "cell_type": "code",
   "execution_count": 56,
   "metadata": {},
   "outputs": [],
   "source": [
    "paraphrases = [\n",
    "    \"\"\"Gyrochronology employs stellar rotation period decay (via magnetic braking's angular momentum dissipation) as an age indicator, mathematically expressed as \n",
    "J\n",
    "˙\n",
    "∝\n",
    "Ω\n",
    "3\n",
    "J\n",
    "˙\n",
    " ∝Ω \n",
    "3\n",
    "  (Skumanich relation), with surface differential rotation patterns serving as observational proxies for spin-down rates.\n",
    "Exposed relationship: \n",
    "τ\n",
    "∝\n",
    "P\n",
    "2\n",
    "τ∝P \n",
    "2\n",
    "  (age \n",
    "τ\n",
    "τ vs. rotation period \n",
    "P\n",
    "P) derived from \n",
    "J\n",
    "∝\n",
    "Ω\n",
    "−\n",
    "1\n",
    "/\n",
    "2\n",
    "J∝Ω \n",
    "−1/2\n",
    " .\"\"\",\n",
    "    \"\"\"\n",
    "Stellar age dating via gyrochronology quantifies magnetic braking-induced spin-down using the Skumanich law (\n",
    "Ω\n",
    "∝\n",
    "t\n",
    "−\n",
    "1\n",
    "/\n",
    "2\n",
    "Ω∝t \n",
    "−1/2\n",
    " ), where surface rotation modulation (observable through starspot periodicity) directly traces angular momentum loss rates.\n",
    "Exposed relationship: \n",
    "L\n",
    "bol\n",
    "L \n",
    "bol\n",
    " -normalized Rossby number \n",
    "R\n",
    "o\n",
    "≡\n",
    "P\n",
    "/\n",
    "τ\n",
    "c\n",
    "Ro≡P/τ \n",
    "c\n",
    "  links convection timescales \n",
    "τ\n",
    "c\n",
    "τ \n",
    "c\n",
    "  to magnetic activity proxies like Ca II H+K emission.\n",
    "  \"\"\",\n",
    "    \"\"\"\n",
    "Gyrochronological models calibrate stellar ages through the Skumanich-derived \n",
    "Ω\n",
    "˙\n",
    "∝\n",
    "−\n",
    "Ω\n",
    "3\n",
    "Ω\n",
    "˙\n",
    " ∝−Ω \n",
    "3\n",
    "  torque law, where photometric rotation period measurements (e.g., from Kepler light curve periodograms) serve as direct observational inputs for angular momentum evolution tracks.\n",
    "Exposed relationship: \n",
    "Ω\n",
    "(\n",
    "t\n",
    ")\n",
    "=\n",
    "Ω\n",
    "0\n",
    "(\n",
    "1\n",
    "+\n",
    "t\n",
    "/\n",
    "τ\n",
    "Sk\n",
    ")\n",
    "−\n",
    "1\n",
    "/\n",
    "2\n",
    "Ω(t)=Ω \n",
    "0\n",
    " (1+t/τ \n",
    "Sk\n",
    " ) \n",
    "−1/2\n",
    "  with characteristic timescale \n",
    "τ\n",
    "Sk\n",
    "∼\n",
    "10\n",
    "−\n",
    "100\n",
    "τ \n",
    "Sk\n",
    " ∼10−100 Myr for solar-type stars.\"\"\",\n",
    "]"
   ]
  },
  {
   "cell_type": "code",
   "execution_count": 57,
   "metadata": {},
   "outputs": [
    {
     "name": "stdout",
     "output_type": "stream",
     "text": [
      "'Distance 0: 0.07871377468109131'\n",
      "'Distance 1: 0.08848387002944946'\n",
      "'Distance 2: 0.11988002061843872'\n"
     ]
    }
   ],
   "source": [
    "paraphrase_embeddings = bge_embedder(paraphrases)\n",
    "for i in range(len(paraphrases)):\n",
    "    distance = cosine_distance(example_embedding, paraphrase_embeddings[i])\n",
    "    pprint(f\"Distance {i}: {distance}\")"
   ]
  },
  {
   "cell_type": "markdown",
   "metadata": {},
   "source": [
    "We see here that a couple of these paraphrases do very well against the example embedding, beating the 0.99 distance of the top-ranked query result. Does that hold on a full query against the database if `paraphrase_embedding[0]` had been used?"
   ]
  },
  {
   "cell_type": "code",
   "execution_count": 58,
   "metadata": {},
   "outputs": [],
   "source": [
    "paraphrase_query_results = db.query_vector_column(\n",
    "    query_vector=paraphrase_embeddings[0],\n",
    "    table_name=\"lib\",\n",
    "    target_column=\"bge_norm\",\n",
    "    pubdate=example.pubdate,\n",
    "    top_k=10_000,\n",
    "    probes=40,\n",
    "    explain=False,\n",
    ")\n"
   ]
  },
  {
   "cell_type": "code",
   "execution_count": 60,
   "metadata": {},
   "outputs": [
    {
     "data": {
      "text/plain": [
       "943"
      ]
     },
     "execution_count": 60,
     "metadata": {},
     "output_type": "execute_result"
    }
   ],
   "source": [
    "get_index_of_target(paraphrase_query_results, example.citation_dois[0])"
   ]
  },
  {
   "cell_type": "code",
   "execution_count": 62,
   "metadata": {},
   "outputs": [
    {
     "name": "stdout",
     "output_type": "stream",
     "text": [
      "197 2ApJ. . .171. .565S The Astrophysical Journal, 171:565-567, 1972 February 1 © 1972. The University of Chicago All rights reserved. Printed in U S A TIME SCALES FOR Ca n EMISSION DECAY, ROTATIONAL BRAKING, AND LITHIUM DEPLETION A. Skumanich High Altitude Observatory, National Center for Atmospheric Research,* Boulder, Colorado Received 1971 June 21 ABSTRACT A comparison of the Ca+ emission luminosity—after correction for spectral-type effects—for the Pleiades, Ursa Major, and Hyades stars and the Sun indicate an emission decay which varies as the inverse square root of the age. Further, the rotational decay curve is found to satisfy the same law. It is further suggested that lithium depletion follows the+ same law but only as far as the Hyades age, after which the depletion proceeds exponentially. Since Ca emission is linearly proportional to magnetic field strength at the surface, one can predict that the surface fields are proportional to angular velocity and decay as the inverse square root. The above results are predicated on the standard Hyades age (0.4 billion years).\n",
      "\n",
      "The above results are predicated on the standard Hyades age (0.4 billion years). In an effort to put the relation between stellar age and the intensity of emission reversal of the Ca+ K- and H-lines (Wilson 1963; Wilson and Skumanich 1964) on a quantitative basis the author has reduced photoelectric observations of the cores of the K- and H-lines in the field stars (Wilson 1968), the Hyades (Wilson 1970), and the Sun (Wilson 1971) to a common spectral type (specifically, to B — F = 0.60). As Wilson (1970) has shown, K and H emission varies, for a given age group, with spectral type, so any meaningful age relation must be discussed after temperature differences are removed. The details of this procedure will be given elsewhere; our intent here is to compare the resulting (Ca+ emission, age)-relation with that for rotational braking and lithium depletion. In Figure 1 the temperature-corrected Ca“1\" emission luminosity is plotted (after subtraction of the “zero” point flux as given by the lower envelope of Wilson’s flux data) for the Sun and for the Hyades and Ursa Major stars. The latter are to be found among Wilson’s field-star data. The Hyades emission luminosity is taken as unity at all spectral types. Also plotted are the Ca+ emission data for the Pleiades as estimated from Kraft and Greenstein’s (1969) equivalent-width measures of the late-type stars in the Pleiades and Hyades. The indicated errors are based on the spread in data.\n",
      "\n",
      "The indicated errors are based on the spread in data. The figure indicates an inverse square-root law for the decay of Ca+ emission. Also plotted in Figure 1 are average equatorial velocities for the G stars in the Pleiades and Hyades and for the Sun (Kraft 1967 ; cf. Conti 1968 for further references of the data used). It is evident that the rotational data are in a constant proportion, within experimental errors, with the Ca+ emission data; i.e., the rotational decay also follows a square-root relation. The same can be said for the lithium-abundance data (for a review of this data, see van den Heuvel and Conti 1971) except that here the Sun has an overdepletion. It would appear that the lithium depletion follows the rotational and Ca+ emission decay through times of the order of the Hyades age and then proceeds exponentially with a e-folding time of 1.1 X 109 years. Alternately, the lithium abundance in the Sun may be underestimated by a factor of 10. According to Frazier’s data (Frazier 1970), Ca+ emission intensity, in a 1.1 Â band centered on the K-line, varies linearly with surface magnetic field strength. Thus it is appropriate to identify the stellar Ca+ emission luminosity with the (average) surface magnetic field. Figure 1 then implies that the average surface (dynamo) field is pro* The National Center for Atmospheric Research is sponsored by the National Science Foundation.\n",
      "\n",
      "565 © American Astronomical Society • Provided by the NASA Astrophysics Data System 197 2ApJ. . .171. .565S 566 A. SKUMANICH Vol. 171 Fig. 1.—Ca+ emission, rotation, and lithium abundance versus stellar age portional to the rotational velocity and decays as the inverse square root of the time as the star “cooks” on the main sequence. This remarkable result has been shown to be theoretically consistent by Durney (1972) on the basis of a simple model for the stellar wind. The above results are predicted on the basis of the “standard” age for the Hyades, viz., 0.4 X 109 years. If the revision by van den Heuvel (1969) proves to be correct, the derived square-root law will have to be revised. The proportionality between magnetic fields, rotation, and lithium abundance (except for the solar Li abundance) would be unchanged. The shift in the Hyades point due to the suggested age revision is indicated in Figure 1 by the arrows. As van den Heuvel and Conti (1971) show, one can fit the three points (using the revised age) with an exponential with an e-folding decay time of 1.1 X 109 years; however, the rotation curve was better fitted by two exponentials. The suggestion here, particularly when one tries to fit the Ca+ data (the Ursa Major point is important here), is that a power law is even better. The use of the revised Hyades age leads to an inverse cube-root law up to the Hyades. The subsequent decay would be more rapid for all three quantities.\n",
      "\n",
      "Wilson, O. C., and Skumanich, A. 1964, Ap.J., 140, 1401. © American Astronomical Society • Provided by the NASA Astrophysics Data System 197 2ApJ. . .171. .565S © American Astronomical Society Provided by the NASA Astrophysics Data System\n",
      "\n",
      "The subsequent decay would be more rapid for all three quantities. Whether this is allowable theoretically remains to be seen. Measures of the rotation and lithium abundance in the G stars in the Ursa Major group would help to resolve the question of the nature of the decay law. I am indebted to Olin C. Wilson for his continual stimulation and kind sharing of his unique observational data on stellar chromospheres. Special thanks are due Robert P. Kraft for calling my attention to his Pleiades and Hyades data and for helping in the preliminary estimate of the Pleiades/Hyades ratio. My thanks also go to Peter S. Conti for calling my attention to his and other work on the lithium data. © American Astronomical Society • Provided by the NASA Astrophysics Data System 197 2ApJ. . .171. .565S No. 3, 1972 Ca il EMISSION DECAY 567 REFERENCES Conti, P. S. 1968, Ap.J., 152, 657. Durney, B. 1972, Proceedings of the 1971 Asüomar Conference on the Solar Wind (ed. C. P. Sonnet) Frazier, E. N. 1970, Solar Phys., 14, 89. Heuvel, E. P. J., van den. 1969, Pub. A.S.P., 81, 815. Heuvel, E. P. J., van den, and Conti, P. S. 1971, Science, 171, 895. Wilson, O. C. 1963, Ap. /., 138, 832. . 1968, ibid., 153, 221. . 1970, ibid., 160, 225. . 1971 (private communication). Wilson, O. C., and Skumanich, A. 1964, Ap.J., 140, 1401.\n",
      "\n"
     ]
    }
   ],
   "source": [
    "for chunk in target_chunks:\n",
    "    print(chunk)\n",
    "    print()"
   ]
  },
  {
   "cell_type": "code",
   "execution_count": 65,
   "metadata": {},
   "outputs": [],
   "source": [
    "example_embedding = bge_embedder([example.sent_no_cit])[0]"
   ]
  },
  {
   "cell_type": "code",
   "execution_count": 68,
   "metadata": {},
   "outputs": [
    {
     "name": "stdout",
     "output_type": "stream",
     "text": [
      "'Distance 0: 0.10995858907699585'\n",
      "'Distance 1: 0.1576480269432068'\n",
      "'Distance 2: 0.16275274753570557'\n",
      "'Distance 3: 0.18524116277694702'\n",
      "'Distance 4: 0.15468883514404297'\n"
     ]
    }
   ],
   "source": [
    "doc_expansions = [\n",
    "    \"The inverse square-root relationship between rotation rate and stellar age, remains foundational for modeling angular momentum loss via magnetized winds, though age revisions (e.g., van den Heuvel 1969) challenge the universality of this timescale\",\n",
    "    \"Skumanich's correlation between Li abundance decay and rotational braking suggests a shared dependence on magnetic activity, implicating wind-driven spin-down in regulating interior mixing efficiency\",\n",
    "    \"The proportionality between Ca II emission, rotation, and Li abundance (Skumanich 1972) underscores the role of dynamo-generated fields in shaping both surface activity and light-element depletion\",\n",
    "    \"Discrepancies in Hyades' age estimates (van den Heuvel 1969) introduce uncertainties in power-law indices, necessitating multi-cluster analyses to disentangle rotational and chemical evolution\",\n",
    "    \"While Skumanich's inverse power law fits young clusters, deviations in older systems hint at unresolved physics in late-stage angular momentum transport\",\n",
    "]\n",
    "\n",
    "doc_embeddings = bge_embedder(doc_expansions)\n",
    "for i in range(len(doc_expansions)):\n",
    "    distance = cosine_distance(example_embedding, doc_embeddings[i])\n",
    "    pprint(f\"Distance {i}: {distance}\")"
   ]
  },
  {
   "cell_type": "markdown",
   "metadata": {},
   "source": [
    "Not great but much better!\n",
    "\n",
    "### Conclusion: \n",
    "- the embedder will naturally consider chunks that cite the same sources as overly similar. \n",
    "- Paraphrasing the query to surface more background details brought the target doc under rank 1000\n",
    "- Document expansion also improved matters somewhat"
   ]
  },
  {
   "cell_type": "markdown",
   "metadata": {},
   "source": [
    "## Failure 4"
   ]
  },
  {
   "cell_type": "code",
   "execution_count": 69,
   "metadata": {},
   "outputs": [
    {
     "name": "stdout",
     "output_type": "stream",
     "text": [
      "('Original sentence: Significantly, however, a similar step of 20–40 km in '\n",
      " 'lithospheric thickness across the Shield/Platform boundary is reported by '\n",
      " 'Al-Amri et al. (2008) .')\n",
      "('Example: Significantly, however, a similar step of 20–40 km in lithospheric '\n",
      " 'thickness across the Shield/Platform boundary is reported by  .')\n",
      "Target doi: ['10.1016/j.jafrearsci.2008.01.004']\n"
     ]
    }
   ],
   "source": [
    "example = examples.iloc[failed_queries[4]]\n",
    "pprint(f\"Original sentence: {example.sent_original}\")\n",
    "pprint(f\"Example: {example.sent_no_cit}\")\n",
    "print(f\"Target doi: {example.citation_dois}\")"
   ]
  },
  {
   "cell_type": "markdown",
   "metadata": {},
   "source": [
    "This is the wrong doi. The correct doi is \"10.1515/agp-2015-0009\""
   ]
  },
  {
   "cell_type": "code",
   "execution_count": 80,
   "metadata": {},
   "outputs": [
    {
     "name": "stdout",
     "output_type": "stream",
     "text": [
      "Continental lithosphere of the Arabian Plate: A geologic, petrologic, and geophysical synthesis\n",
      "2008E&ES....2a2005S\n",
      "2008GGG.....9.7020P\n",
      "2008GeoJI.172.1179G\n",
      "2008GondR..14....5M\n",
      "2008JAfES..51..189A\n",
      "2008JGRB..11311404G\n",
      "2008JGSoc.165..453J\n"
     ]
    }
   ],
   "source": [
    "original_record = reviews[reviews.doi == example.source_doi].iloc[0]\n",
    "print(original_record.title)\n",
    "for ref in original_record.reference:\n",
    "    if ref[:4] == \"2008\":\n",
    "        print(ref)\n"
   ]
  },
  {
   "cell_type": "markdown",
   "metadata": {},
   "source": [
    "We see there is only one bibcode matching `2008...A`, but this bibcode actually refers to another paper:\n",
    "_Geochemistry and metamorphism of the Pan-African back-arc Malhaq volcano-sedimentary Neoproterozoic association, W. Kid area, SE Sinai, Egypt_\n",
    "Abu El-Enen, Mahrous M.\n",
    "\n",
    "NOT Al-Amri et al (2008).\n",
    "\n",
    "### Conclusion: error in the dataset\n",
    "- delete or fix\n",
    "- add logic that when a bibcode is resolved from an inline citation, we check that the bibcode actually matches the author in the inline citation"
   ]
  },
  {
   "cell_type": "markdown",
   "metadata": {},
   "source": [
    "## Failure 5"
   ]
  },
  {
   "cell_type": "code",
   "execution_count": 81,
   "metadata": {},
   "outputs": [
    {
     "name": "stdout",
     "output_type": "stream",
     "text": [
      "('Original sentence: Cantat-Gaudin(2019) find that all 7 of the groups they '\n",
      " 'identify within the Vela-Puppis region are expanding, Armstrongetal.')\n",
      "('Example: find that all 7 of the groups they identify within the Vela-Puppis '\n",
      " 'region are expanding, Armstrongetal.')\n",
      "Target doi: ['10.1093/mnras/stz2467']\n"
     ]
    }
   ],
   "source": [
    "example = examples.iloc[failed_queries[5]]\n",
    "pprint(f\"Original sentence: {example.sent_original}\")\n",
    "pprint(f\"Example: {example.sent_no_cit}\")\n",
    "print(f\"Target doi: {example.citation_dois}\")"
   ]
  },
  {
   "cell_type": "markdown",
   "metadata": {},
   "source": [
    "Incorrect target doi. The target doi above refers to \"On the survivability of planets in young massive clusters and its implication of planet orbital architectures in globular cluster\", Maxwell Xu Cai, S. Portegies Zwart, M.B.N. Kouwenhoven, Rainer Spurzem.\n",
    "\n",
    "But Cantat-Gaudin 2019 is \"Gaia DR2 unravels incompleteness of nearby cluster population: new open clusters in the direction of Perseus\" \n",
    "\n",
    "### Conclusion: error in the dataset"
   ]
  },
  {
   "cell_type": "markdown",
   "metadata": {},
   "source": [
    "## Failure 6"
   ]
  },
  {
   "cell_type": "code",
   "execution_count": 85,
   "metadata": {},
   "outputs": [
    {
     "name": "stdout",
     "output_type": "stream",
     "text": [
      "('Original sentence: Here we review on preliminary work by Bekki et al. ( 2019 '\n",
      " '), who simulated fully-compressible convection inside a rotating spherical '\n",
      " 'shell extending from to .')\n",
      "('Example: Here we review on preliminary work by , who simulated '\n",
      " 'fully-compressible convection inside a rotating spherical shell extending '\n",
      " 'from to .')\n",
      "Target doi: ['10.1103/PhysRevFluids.4.013803']\n"
     ]
    }
   ],
   "source": [
    "example = examples.iloc[failed_queries[6]]\n",
    "pprint(f\"Original sentence: {example.sent_original}\")\n",
    "pprint(f\"Example: {example.sent_no_cit}\")\n",
    "print(f\"Target doi: {example.citation_dois}\")"
   ]
  },
  {
   "cell_type": "markdown",
   "metadata": {},
   "source": [
    "Incorrect target doi: The target above refers to 'Linear and nonlinear stability of a quasi-geostrophic mixing layer subject to a uniform background shear' by Biancofiore and Umurhan. \n",
    "\n",
    "Bekki has two papers published in 2019 both of which they are the sole author. Nevertheless the dataset prep should have looked for Bekki 2019 papers. It resolved the wrong paper due to incorrect bibcode in the references:"
   ]
  },
  {
   "cell_type": "code",
   "execution_count": 86,
   "metadata": {},
   "outputs": [
    {
     "name": "stdout",
     "output_type": "stream",
     "text": [
      "Rossby Waves in Astrophysics\n",
      "2019A&A...621A.136M\n",
      "2019A&A...622A.124A\n",
      "2019A&A...623A..50L\n",
      "2019A&A...626A...3L\n",
      "2019A&A...626A..38L\n",
      "2019ApJ...871L..32H\n",
      "2019ApJ...874..162G\n",
      "2019ApJ...884L...5S\n",
      "2019ApJ...887....1R\n",
      "2019JPO....49..291E\n",
      "2019LRSP...16....2M\n",
      "2019MNRAS.487..782L\n",
      "2019MNRAS.488..645P\n",
      "2019PASP..131g2001L\n",
      "2019PhRvE.100d3105H\n",
      "2019PhRvF...4a3803B\n",
      "2019SoPh..294...88M\n"
     ]
    }
   ],
   "source": [
    "original_record = reviews[reviews.doi == example.source_doi].iloc[0]\n",
    "print(original_record.title)\n",
    "for ref in original_record.reference:\n",
    "    if ref[:4] == \"2019\":\n",
    "        print(ref)"
   ]
  },
  {
   "cell_type": "markdown",
   "metadata": {},
   "source": [
    "Were any of the query results from a Bekki 2019 paper?"
   ]
  },
  {
   "cell_type": "code",
   "execution_count": 90,
   "metadata": {},
   "outputs": [],
   "source": [
    "example_query_results = bge_query_results[failed_queries[6]]\n",
    "bekki_dois = [\"10.1051/0004-6361/201629898\", \"10.1093/mnras/stz999\"]\n",
    "for i in range(len(example_query_results)):\n",
    "    query_result = example_query_results[i]\n",
    "    if query_result.doi in bekki_dois:\n",
    "        print(f\"Distance: {query_result.distance}\")\n",
    "        print(f\"Chunk: {query_result.chunk}\")\n",
    "        print(f\"Rank: {i}\")\n",
    "        print()"
   ]
  },
  {
   "cell_type": "markdown",
   "metadata": {},
   "source": [
    "Are any Bekki 2019 papers in the dataset?"
   ]
  },
  {
   "cell_type": "code",
   "execution_count": 91,
   "metadata": {},
   "outputs": [
    {
     "name": "stdout",
     "output_type": "stream",
     "text": [
      "Empty DataFrame\n",
      "Columns: [bibcode, abstract, aff, author, bibstem, doctype, doi, id, pubdate, title, read_count, reference, data, citation_count, citation, body, dois, keywords, loaded_from, body_sentences]\n",
      "Index: []\n"
     ]
    }
   ],
   "source": [
    "bekki_research = research[research.doi.isin(bekki_dois)]\n",
    "print(bekki_research)"
   ]
  },
  {
   "cell_type": "markdown",
   "metadata": {},
   "source": [
    "### Conclusion: error in the dataset\n",
    "- correct the bibcode reference or delete\n",
    "- the Bekki research cited inline wasn't in the research data to begin with\n",
    "\n",
    "\n",
    "## Failure 7"
   ]
  },
  {
   "cell_type": "code",
   "execution_count": 94,
   "metadata": {},
   "outputs": [
    {
     "name": "stdout",
     "output_type": "stream",
     "text": [
      "('Original sentence: It also hosts a Compton-thick AGN in the Western '\n",
      " 'component, observed directly in hard X-rays (Della Ceca et al. 2002 ; Ballo '\n",
      " 'et al. 2004 ).')\n",
      "('Example: It also hosts a Compton-thick AGN in the Western component, '\n",
      " 'observed directly in hard X-rays (Della ; .')\n",
      "Target doi: ['10.1086/339896', '10.1086/379887']\n"
     ]
    }
   ],
   "source": [
    "example = examples.iloc[failed_queries[7]]\n",
    "pprint(f\"Original sentence: {example.sent_original}\")\n",
    "pprint(f\"Example: {example.sent_no_cit}\")\n",
    "print(f\"Target doi: {example.citation_dois}\")"
   ]
  },
  {
   "cell_type": "markdown",
   "metadata": {},
   "source": [
    "### Conclusion: incorrect target doi from failing to extract first author\n",
    "\n",
    "## Failure 8"
   ]
  },
  {
   "cell_type": "code",
   "execution_count": 95,
   "metadata": {},
   "outputs": [
    {
     "name": "stdout",
     "output_type": "stream",
     "text": [
      "('Original sentence: Evidence for very great youth comes from the study of BM '\n",
      " 'Ori (θ 1 Ori B) by Palla Stahler (2001) , who find that star to have an age '\n",
      " 'of 100,000 years.')\n",
      "('Example: Evidence for very great youth comes from the study of BM Ori (θ 1 '\n",
      " 'Ori B) by Palla  , who find that star to have an age of 100,000 years.')\n",
      "Target doi: ['10.1086/319078']\n"
     ]
    }
   ],
   "source": [
    "example = examples.iloc[failed_queries[8]]\n",
    "pprint(f\"Original sentence: {example.sent_original}\")\n",
    "pprint(f\"Example: {example.sent_no_cit}\")\n",
    "print(f\"Target doi: {example.citation_dois}\")"
   ]
  },
  {
   "cell_type": "markdown",
   "metadata": {},
   "source": [
    "### Conclusion: incorrect target doi from failing to extract first author\n",
    "\n",
    "## Failure 9 \n"
   ]
  },
  {
   "cell_type": "code",
   "execution_count": 96,
   "metadata": {},
   "outputs": [
    {
     "name": "stdout",
     "output_type": "stream",
     "text": [
      "('Original sentence: The second brightest SCUBA source, falling just outside '\n",
      " 'the primary WFPC2 field, has no obvious counterpart in the flanking field '\n",
      " 'WFPC2 images, nor in the NICMOS data of Dickinson et al (2000b) .')\n",
      "('Example: The second brightest SCUBA source, falling just outside the primary '\n",
      " 'WFPC2 field, has no obvious counterpart in the flanking field WFPC2 images, '\n",
      " 'nor in the NICMOS data of  .')\n",
      "Target doi: ['10.1086/308508']\n"
     ]
    }
   ],
   "source": [
    "example = examples.iloc[failed_queries[9]]\n",
    "pprint(f\"Original sentence: {example.sent_original}\")\n",
    "pprint(f\"Example: {example.sent_no_cit}\")\n",
    "print(f\"Target doi: {example.citation_dois}\")"
   ]
  },
  {
   "cell_type": "markdown",
   "metadata": {},
   "source": [
    "We see that vector similarity has preferred passages that discuss relations between M and L, which the passage discusses. However the citation in the passage only relates to the \"empirical relation between $\\dot{M}$ and $L$\". The passage's vector embedding might be unduly affected by the equations.\n",
    "\n",
    "Let's try just embedding up to the citation:"
   ]
  },
  {
   "cell_type": "code",
   "execution_count": 95,
   "metadata": {},
   "outputs": [
    {
     "name": "stdout",
     "output_type": "stream",
     "text": [
      "Rank of target doi in short query results: 2901\n"
     ]
    }
   ],
   "source": [
    "short_input = \"Using a theoretical HR diagram, it is possible to derive an empirical relation between $\\dot{M}$ and the luminosity $L$\"\n",
    "short_embedding = bge_embedder([short_input])[0]\n",
    "short_query_results = db.query_vector_column(\n",
    "    query_vector=short_embedding,\n",
    "    table_name=\"lib\",\n",
    "    target_column='bge_norm',\n",
    "    pubdate=example.pubdate,\n",
    "    top_k=10_000,\n",
    "    probes=50,\n",
    "    explain=False,\n",
    ")\n",
    "target_rank = get_index_of_target(short_query_results, example.citation_dois[0])\n",
    "print(f\"Rank of target doi in short query results: {target_rank}\")\n",
    "best_target_chunk = short_query_results[target_rank]"
   ]
  },
  {
   "cell_type": "markdown",
   "metadata": {},
   "source": [
    "**NOTE** at 40 probes no target chunks even appeared in the top results; upping the probes to 50 got the best target chunk at rank 2901, not much better than when we started.\n",
    "\n",
    "Let's see what would happen if we increased the probes on the latex input:"
   ]
  },
  {
   "cell_type": "code",
   "execution_count": 96,
   "metadata": {},
   "outputs": [
    {
     "name": "stdout",
     "output_type": "stream",
     "text": [
      "('Rank 0 (doi 10.1086/154245) (distance 0.0837): Due We have fitted equation '\n",
      " '(1) to many of the observed luminosity functions, quoted earlier in this '\n",
      " 'section, to determine A, B, and a for them, and hence to obtain the '\n",
      " 'predicted M(i) = f(Nc) relation. Figure 4 shows a fit to the data given by '\n",
      " 'Abell (1969), normalized such that A, B, and a give M(l) = —23.2 at log Nc = '\n",
      " '2.15 as required by the present data (Figs. 2 and 3). It is easily shown '\n",
      " 'that this normalization requires A = — 20.067, B = —10.202, and a = 0.384 '\n",
      " 'which, with equation (1), produces the curve drawn in Figure 4. The '\n",
      " 'predicted M(l) = /(AQ relation for this model is marked as the “Abell '\n",
      " 'luminosity function” in Figure 5. It is evident that the predicted '\n",
      " 'dependence of M(l) on richness is much steeper than the observations (open '\n",
      " 'circles, with error bars from Table 2). Clearly, the luminosity function at '\n",
      " 'the bright end must be steepened.')\n",
      "\n",
      "('Rank 1 (doi 10.1086/157227) (distance 0.0931): Despite the fact that these '\n",
      " 'factors combine in a simple and well-understood way to give an observed '\n",
      " 'Hubble diagram, techniques developed for extracting such information from '\n",
      " 'the data have generally been limited to special cases or by restrictive '\n",
      " 'assumptions (e.g., a “standard candle” LF). This point is discussed in more '\n",
      " 'detail (with specific examples) in the first paper of this series (Turner '\n",
      " '19796, hereafter Paper I). Paper I and this paper together constitute an '\n",
      " 'attempt to formulate relatively general and assumption-free techniques for '\n",
      " 'extracting information on the luminosity-distance to redshift relation and '\n",
      " 'the objects’ LF from an observed Hubble diagram. The techniques are '\n",
      " 'illustrated by application to a sample of quasars. Paper I deals with the '\n",
      " 'determination of the luminosity-distance to redshift relation (i.e., q0 in '\n",
      " 'the conventional case) and of luminosity evolution (i.e., variation in the '\n",
      " 'objects’ characteristic luminosity). The techniques developed there require '\n",
      " 'only a single, weak assumption concerning the sources’ intrinsic properties: '\n",
      " 'the LF is taken to be of constant functional form. The form may be of any '\n",
      " 'arbitrary sort and need not be known; in particular, the analysis may be '\n",
      " 'applied to non-standard-candle objects. Using the same assumption, this '\n",
      " 'paper will deal with the determination of the LF’s form and its variation in '\n",
      " 'amplitude. It will also describe a test of the constant functional form '\n",
      " 'assumption.')\n",
      "\n",
      "('Rank 2 (doi 10.1086/146489) (distance 0.0966): Thus the requirement that '\n",
      " '<p(T*) « tt/2. establishes a relation between the M,L>R, and II of the star. '\n",
      " 'The period-density relation and an adopted mass-luminosity relation then '\n",
      " 'permit us to derive the luminosity of an unstable star as a function of its '\n",
      " 'period alone. Since we have adopted an (M, L) relation based on '\n",
      " 'semitheoretical evolutionary arguments and since the assumption #{%*) « tt/2 '\n",
      " 'is, in a sense, conditioned by the observed phase lags of classical '\n",
      " 'cepheids, our resulting (H, L) relation must be considered u semi '\n",
      " 'theoretical. ’ ’ The final (H, L) relation depends sensitively on the '\n",
      " 'particular element whose ionization is given the key role. It appears that '\n",
      " 'He+ gives quantitative agreement with the empirical (H, L) relation, while '\n",
      " 'He and H do not. II. THE CALCULATION OF We transform equation (1), using the '\n",
      " 'equation of state, (2) H ix and the definition where k, H, and ju are the '\n",
      " 'Boltzmann constant, mass of the hydrogen atom, and the mean molecular '\n",
      " 'weight, respectively. Then, for a plane-parallel layer, (3) To obtain an '\n",
      " 'explicit expression for the value of the integral, we adopt a polytropic '\n",
      " 'structure for the stellar envelope. Examination of the models for Aquilae '\n",
      " 'cited above suggests adopting ^ = 1.5 for the poly tropic index.')\n",
      "\n"
     ]
    }
   ],
   "source": [
    "for i, result in enumerate(short_query_results[:3]):\n",
    "    pprint(f\"Rank {i} (doi {result.doi}) (distance {result.distance:.4f}): {result.chunk}\")\n",
    "    print()"
   ]
  },
  {
   "cell_type": "code",
   "execution_count": 104,
   "metadata": {},
   "outputs": [
    {
     "name": "stdout",
     "output_type": "stream",
     "text": [
      "Rank of target doi in latex query results: 2308\n"
     ]
    }
   ],
   "source": [
    "latex_query_results = db.query_vector_column(\n",
    "    query_vector=latex_embedding,\n",
    "    table_name=\"lib\",\n",
    "    target_column=\"bge_norm\",\n",
    "    pubdate=example.pubdate,\n",
    "    top_k=10_000,\n",
    "    probes=50,\n",
    "    explain=False,\n",
    ")\n",
    "target_rank = get_index_of_target(latex_query_results, example.citation_dois[0])\n",
    "print(f\"Rank of target doi in latex query results: {target_rank}\")\n",
    "best_target_chunk = latex_query_results[target_rank]"
   ]
  },
  {
   "cell_type": "code",
   "execution_count": 107,
   "metadata": {},
   "outputs": [
    {
     "name": "stdout",
     "output_type": "stream",
     "text": [
      "50\n"
     ]
    }
   ],
   "source": [
    "target_chunks = db.query(\"SELECT chunk FROM lib WHERE doi = '10.1086/158835'\")\n",
    "print(len(target_chunks))\n",
    "target_chunks = [chunk[0] for chunk in target_chunks]"
   ]
  },
  {
   "cell_type": "code",
   "execution_count": 108,
   "metadata": {},
   "outputs": [
    {
     "name": "stdout",
     "output_type": "stream",
     "text": [
      "Distances: [np.float32(0.105336905), np.float32(0.1251778), np.float32(0.12003881), np.float32(0.125184), np.float32(0.10948253), np.float32(0.12677205), np.float32(0.1067853), np.float32(0.15063918), np.float32(0.15641904), np.float32(0.16233224), np.float32(0.121174335), np.float32(0.12192857), np.float32(0.0994001), np.float32(0.106446564), np.float32(0.115964055), np.float32(0.13476789), np.float32(0.12741375), np.float32(0.10291386), np.float32(0.11088812), np.float32(0.117426455), np.float32(0.15274394), np.float32(0.10144174), np.float32(0.10433066), np.float32(0.12506843), np.float32(0.122748315), np.float32(0.10922307), np.float32(0.12239075), np.float32(0.11030978), np.float32(0.107153), np.float32(0.10072124), np.float32(0.10982418), np.float32(0.121797204), np.float32(0.1290344), np.float32(0.103826165), np.float32(0.12942815), np.float32(0.13069671), np.float32(0.14484322), np.float32(0.13099259), np.float32(0.12737602), np.float32(0.11469519), np.float32(0.106013775), np.float32(0.11634874), np.float32(0.13018715), np.float32(0.11118424), np.float32(0.10255492), np.float32(0.11563617), np.float32(0.13391417), np.float32(0.17070562), np.float32(0.14668047), np.float32(0.124349)]\n"
     ]
    }
   ],
   "source": [
    "target_embeddings = bge_embedder(target_chunks)\n",
    "distances = [cosine_distance(target_embeddings[i], latex_embedding) for i in range(len(target_embeddings))]\n",
    "print(f\"Distances: {distances}\")"
   ]
  },
  {
   "cell_type": "code",
   "execution_count": 112,
   "metadata": {},
   "outputs": [
    {
     "name": "stdout",
     "output_type": "stream",
     "text": [
      "Chunk in target doc with closest embedding distance has distance: 0.0994001030921936\n",
      "('Closest chunk: This results in a homogeneous set of mass loss rates for 53 '\n",
      " 'stars of types 03 to B9 and luminosity classes from V to Ia+, including Of '\n",
      " 'stars. The multiple linear regression method will be used to find the '\n",
      " 'dependence of the mass flux on the stellar surface parameters geff and ■^eff '\n",
      " '> and the dependence of the mass loss rates on the stellar luminosity, '\n",
      " 'radius and mass. The resulting relations will be compared with the '\n",
      " 'previously derived dependence of on L or on L, R, M, and the difference '\n",
      " 'between our results and those of others will be explained. The relations '\n",
      " 'will be compared with the predictions for the radiation driven wind model '\n",
      " 'and for the fluctuation theory. The consequences for the stellar evolution '\n",
      " 'will be mentioned briefly. II. THE STELLAR PARAMETERS a) The Effective '\n",
      " 'Temperatures The effective temperatures and angular diameters of 160 O and B '\n",
      " 'stars have been derived from the integrated flux measurements by Underhill '\n",
      " 'et al (1979), following a method by Blackwell and Shallis (1977). Based on '\n",
      " 'these temperatures, Underhill et al derived an effective temperature scale '\n",
      " 'as a function of spectral type and luminosity. The method was reexamined in '\n",
      " 'detail by Remie and Lamers (1981) and considerably improved values for •^eff '\n",
      " 'and R* were derived for 30 supergiants and giants of types 04 to Bl.')\n"
     ]
    }
   ],
   "source": [
    "closest = min(distances)\n",
    "print(f\"Chunk in target doc with closest embedding distance has distance: {closest}\")\n",
    "closest_idx = distances.index(closest)\n",
    "pprint(f\"Closest chunk: {target_chunks[closest_idx]}\")"
   ]
  },
  {
   "cell_type": "markdown",
   "metadata": {},
   "source": [
    "This seems to be a pretty accurate passage, discussing how it used regression to relate mass flux to stellar luminosity. It has a distance of about 0.1, which is still not particularly good compared to the latex query results:"
   ]
  },
  {
   "cell_type": "code",
   "execution_count": 113,
   "metadata": {},
   "outputs": [
    {
     "name": "stdout",
     "output_type": "stream",
     "text": [
      "Rank of distance 0.0994: 1515\n"
     ]
    }
   ],
   "source": [
    "print(f\"Rank of distance 0.0994: {sum([1 for result in latex_query_results if result.distance < 0.0994])}\")"
   ]
  },
  {
   "cell_type": "code",
   "execution_count": 115,
   "metadata": {},
   "outputs": [
    {
     "name": "stdout",
     "output_type": "stream",
     "text": [
      "Rank of target doi in tiny query results: 4238\n"
     ]
    }
   ],
   "source": [
    "tiny_input = \"it is possible to derive an empirical relation between $\\dot{M}$ and the luminosity $L$\"\n",
    "tiny_embedding = bge_embedder([tiny_input])[0]\n",
    "tiny_query_results = db.query_vector_column(\n",
    "    query_vector=tiny_embedding,\n",
    "    table_name=\"lib\",\n",
    "    target_column='bge_norm',\n",
    "    pubdate=example.pubdate,\n",
    "    top_k=10_000,\n",
    "    probes=80,\n",
    "    explain=False,\n",
    ")\n",
    "target_rank = get_index_of_target(tiny_query_results, example.citation_dois[0])\n",
    "print(f\"Rank of target doi in tiny query results: {target_rank}\")"
   ]
  },
  {
   "cell_type": "markdown",
   "metadata": {},
   "source": [
    "### Conclusions: \n",
    "- This might not be the right citation for this passage\n",
    "- The passage author only intended to cite Lamers 1981 for the relation between $\\dot{M}$ and $L$, and the HR diagram mention and further equations are throwing off embeddings\n",
    "- The OCR errors aren't helping matters"
   ]
  },
  {
   "cell_type": "code",
   "execution_count": 116,
   "metadata": {},
   "outputs": [
    {
     "name": "stdout",
     "output_type": "stream",
     "text": [
      "('Original sentence: In order to produce a catastrophe-like behavior, '\n",
      " 'Zwingmann (1987) applied a method similar to the generating function method '\n",
      " 'to the analyses.')\n",
      "('Example: In order to produce a catastrophe-like behavior,  applied a method '\n",
      " 'similar to the generating function method to the analyses.')\n",
      "Target doi: ['10.1007/BF00148523']\n",
      "2003-04-01\n"
     ]
    }
   ],
   "source": [
    "example = examples.iloc[70]\n",
    "pprint(f\"Original sentence: {example.sent_original}\")\n",
    "pprint(f\"Example: {example.sent_no_cit}\")\n",
    "print(f\"Target doi: {example.citation_dois}\")\n",
    "print(example.pubdate)"
   ]
  },
  {
   "cell_type": "markdown",
   "metadata": {},
   "source": [
    "This is the correct doi."
   ]
  },
  {
   "cell_type": "code",
   "execution_count": null,
   "metadata": {},
   "outputs": [
    {
     "name": "stdout",
     "output_type": "stream",
     "text": [
      "('Zwingmann chunk: F(~)d3r = ~J[~*.v~i - ~ x B1) x B + (V x B) x B1)+ + p1~* '\n",
      " 'v~] d3r. (B6) bW is now rewritten to give the form of (2.8). By introducing '\n",
      " 'Euler potentials, B1 becomes B1 =Vx(~x(VcxxVfl)) = - Vc~ x V(~ Vfl) + Vf3 x '\n",
      " 'V(~ Vc~) =7~xV~f3+V&xxVf3, (B7) by using the definitions (2.6) and (2.7) for '\n",
      " '&~ and sf3. The pressure and density perturbations then give with (1.5) '\n",
      " 'pi~+~J3+p1~j-yPV/.~, (B8) ~ (B9) The terms of(2.8) can be expressed by using '\n",
      " '(B7)-(B9), and by some partial integrations 328 WOLFGANG ZWINGMANN in the '\n",
      " 'following way: J ~ + J [vi)iv.~ + ~ - ~ - I ~ &~I~ + 2 Re(~,cx ~fl*) + I '\n",
      " '~I3I~l d3r (B 10) J L3LX2 3/32 j - J ~*.((~ x B1) x B)d3r= Jda.(Bi x (~* x '\n",
      " 'B))+ J 1B112d3r, (Bil) - J ~ * ((V x B) x B1) d3r = J [~v x B) (~* V ~fl - '\n",
      " '~fl~V ~) - - p~ (~ (~ * V&z) + (~ * V5fl))] d3r, (B 12) J P~~V~d3r= ~ (B13) '\n",
      " 'These terms are combined to give ~w=-~--- ~ 2/2~ J L - (~~P ~2 + 2 -~-~- '\n",
      " \"Re(&x*~f3) + I ~flI~'~l d3r + ~p2 j] + ~ J ~ - p((~.V~)V.~* + (~*.V~)V~) - \"\n",
      " '_~IV~II2]d3r+~_JdaJBi x (~* x B)+ + B x (~*7bfl - ~/3*V~) + j~ (~ *p~ - ~ '\n",
      " '*yJ~ V* i)]. (B 14) THEORETICAL STUDY OF ONSET CONDITIONS FOR SOLAR ERUPTIVE '\n",
      " 'PROCESSES 329 The first term is ~2F (Equation (2.5)), the second term is 5Q '\n",
      " 'of (2.8) and ~S the surface term of (2.8). If no gravity effects are '\n",
      " 'present, ~Q reduces to (2.10). Otherwise, with gravity forces, Equation '\n",
      " '(2.14) follows. The different forms of ~S are given by (2.9) (without '\n",
      " 'gravity forces) and by (2.13) (including gravity forces).')\n",
      "10.1007/BF00148523\n"
     ]
    }
   ],
   "source": [
    "zwingmann_results = bge_query_results[70]\n",
    "zwingmann_top_target_result = zwingmann_results[2704]\n",
    "pprint(f\"Zwingmann chunk: {zwingmann_top_target_result.chunk}\")\n",
    "print(zwingmann_top_target_result.doi)"
   ]
  },
  {
   "cell_type": "markdown",
   "metadata": {},
   "source": [
    "This is also an OCR failure on math"
   ]
  },
  {
   "cell_type": "code",
   "execution_count": 118,
   "metadata": {},
   "outputs": [
    {
     "data": {
      "image/png": "[encoded data removed]",
      "text/plain": [
       "<IPython.core.display.Image object>"
      ]
     },
     "metadata": {},
     "output_type": "display_data"
    }
   ],
   "source": [
    "display(Image(filename=\"data/images/zwingmann.png\"))"
   ]
  },
  {
   "cell_type": "markdown",
   "metadata": {},
   "source": [
    "### Conclusion: the passage is mostly math notation, incorrectly scanned by OCR. "
   ]
  },
  {
   "cell_type": "code",
   "execution_count": 119,
   "metadata": {},
   "outputs": [
    {
     "name": "stdout",
     "output_type": "stream",
     "text": [
      "('Original sentence: Initial Discoveries of Strong Lensing Systems The first '\n",
      " 'strong lens, the double quasar 0957+561A, B, was discovered in 1979 by Walsh '\n",
      " 'et al. ( 1979 ).')\n",
      "('Example: Initial Discoveries of Strong Lensing Systems The first strong '\n",
      " 'lens, the double quasar 0957+561A, B, was discovered in 1979 by .')\n",
      "Target doi: ['10.1038/279381a0']\n",
      "2024-12-01\n"
     ]
    }
   ],
   "source": [
    "example = examples.iloc[79]\n",
    "pprint(f\"Original sentence: {example.sent_original}\")\n",
    "pprint(f\"Example: {example.sent_no_cit}\")\n",
    "print(f\"Target doi: {example.citation_dois}\")\n",
    "print(example.pubdate)"
   ]
  },
  {
   "cell_type": "markdown",
   "metadata": {},
   "source": [
    "This is the correct doi for the inline citation. It got the target doc at rank 2098. The passage refers to:\n",
    "- The double quasar 0957+561A, B\n",
    "- This is a strong lens\n",
    "- Walsh et al first discovered it"
   ]
  },
  {
   "cell_type": "code",
   "execution_count": 120,
   "metadata": {},
   "outputs": [
    {
     "name": "stdout",
     "output_type": "stream",
     "text": [
      "('The mean position of the two objects is 17 arcs from the radio position, so '\n",
      " 'the identification is necessarily tentative. Table 1 Positions and '\n",
      " 'magnitudes of 0957 + 561 A, B Object RA Dec (1950.0) MR MB0957 + 561 A 0957 '\n",
      " '+ 561B 095757.3 095757.4 +560822.9 +560816.9 17.0 17.0 16.7 17.0 '\n",
      " 'Observations The two objects 0957 + 561 A, B were observed on 29 March 1979 '\n",
      " 'at the 2.1 m telescope of the Kitt Peak National Observatory (KPNO) using '\n",
      " 'the intensified image dissector scanner (IIDS). Sky subtraction was used '\n",
      " 'with circular apertures separated by 99.4 arc s. Some observational '\n",
      " 'parameters are given in Table 2. The spectral range was divided into 1,024 '\n",
      " 'data bins, each bin 3.5 wide, and the spectral resolution was 16 A. After '\n",
      " '20-min integration on each object it was clear that both were QSOs with '\n",
      " 'almost identical spectra and redshifts of -1.40 on the basis of strong '\n",
      " 'emission lines identified as CIV ? 1549 and C ill] ? 1909. Further '\n",
      " 'observations were made on 29 March and on subsequent nights as detailed in '\n",
      " 'Table 2. By offsetting to observe empty sky a few arc seconds from one '\n",
      " 'object on both 29 and 30 March it was confirmed that any contamination of '\n",
      " 'the spectrum of one object by light from the other was negligible. On 1 '\n",
      " 'April the spectral range was altered slightly by tilting the grating to '\n",
      " 'cover the anticipated redshifted wavelength of Mg II A2798 which was just '\n",
      " 'beyond the limiting wavelength on previous nights. Fig. 1 Finding chart for '\n",
      " 'the QSOs 0957 + 561 A and B.')\n"
     ]
    }
   ],
   "source": [
    "results = bge_query_results[79]\n",
    "walsh_result = results[2098]\n",
    "pprint(walsh_result.chunk)"
   ]
  },
  {
   "cell_type": "markdown",
   "metadata": {},
   "source": [
    "The chunk directly refers to the twin quasar and observing it, but not as much to the lensing effect in this particular chunk.\n",
    "\n",
    "What was considered more semantically relevant?"
   ]
  },
  {
   "cell_type": "code",
   "execution_count": 121,
   "metadata": {},
   "outputs": [
    {
     "name": "stdout",
     "output_type": "stream",
     "text": [
      "('Rank 0 (doi 10.1088/1361-6633/ab4fc5) (distance 0.0599): Strong lensing was '\n",
      " 'discovered for the first time in 1979 by Walsh et al [ 5 ]. The background '\n",
      " 'source is a quasar, which is a very bright active galactic nucleus powered '\n",
      " 'by a supermassive black hole at the center of a galaxy. Quasars are bright '\n",
      " 'enough to be detected even at cosmological distances, and their compact '\n",
      " 'sizes suggest that their multiple images are well separated, which make them '\n",
      " 'as an ideal source for strong lensing. In the first example, the quasar '\n",
      " 'Q0957+561 at redshift z = 1.4 is split into two images separated by due to '\n",
      " 'the gravitational lensing effect of a foreground group of galaxies. The '\n",
      " 'lensing interpretation was confirmed by the identical spectra of the two '\n",
      " 'quasar images. Strong lensing of background galaxies has also been '\n",
      " 'discovered. Since galaxies are much larger in size than quasars, lensed '\n",
      " 'galaxies often form giant arcs, which are highly elongated galaxy images due '\n",
      " 'to strong lensing. Such giant arc was discovered for the first time in the '\n",
      " 'galaxy cluster A370 in the 1980s [ 6 , 7 ]. Since the first discoveries, '\n",
      " 'many strong lensing systems have been discovered in various surveys. To '\n",
      " 'date, more than 100 strongly lensed quasars have been discovered from radio '\n",
      " 'and optical surveys including Cosmic Lens All-Sky Survey [ 8 , 9 ] and Sloan '\n",
      " 'Digital Sky Survey Quasar Lens Search [ 10 – 12 ], from which evidence for '\n",
      " 'the large value of cosmological constant has been obtained [ 13 , 14 ].')\n",
      "\n",
      "('Rank 1 (doi 10.1093/mnras/stx1733) (distance 0.0693): 1 INTRODUCTION The '\n",
      " 'discovery of the first strong lens system, the twin object QSO 0957+561 '\n",
      " '(Walsh, Carswell Weymann 1979 ), heralded a new line of scientific inquiry. '\n",
      " 'Strong lenses are systems in which the light from a background object is '\n",
      " 'deflected by a foreground galaxy or group of galaxies, resulting in multiple '\n",
      " 'images of the background object. Study of the images gives unique '\n",
      " 'information about the distribution of matter in the deflector, independent '\n",
      " 'of the light it emits. This allows us to constrain galaxy mass models (e.g. '\n",
      " 'Treu Koopmans 2002 , 2003 , 2004 ; Sonnenfeld et al. 2012 , 2013 , 2015 ), '\n",
      " 'dark matter sub-structure (e.g. Mao Schneider 1998 ; Kochanek Dalal 2004 ; '\n",
      " 'Metcalf Madau 2001 ; Vegetti et al. 2012 ) and, via the lensing of '\n",
      " 'time-varying objects, the Hubble constant (e.g. Refsdal 1964b ; Kochanek '\n",
      " 'Schechter 2004 ; Suyu et al. 2014 ; Goobar et al. 2016 ). The magnification '\n",
      " 'effect of lensing also allows us to use strong lenses as cosmic telescopes, '\n",
      " 'enabling us to observe otherwise unseen objects such as quasi-stellar object '\n",
      " 'host galaxies and radio-quiet quasars (e.g. Claeskens et al. 2006 ; Jackson '\n",
      " '2011 ; Jackson et al. 2015 ). Lens systems are rare objects; typically, for '\n",
      " 'every 1000–2000 objects at high redshift, one will be multiply imaged by a '\n",
      " 'foreground deflector.')\n",
      "\n",
      "('Rank 2 (doi 10.1051/0004-6361/201832797) (distance 0.0757): 1. Introduction '\n",
      " 'Strong gravitational lenses are rare cases in which a distant galaxy or '\n",
      " 'quasar is aligned so closely with a foreground galaxy or cluster of galaxies '\n",
      " 'that the gravitational field of the foreground object creates multiple, '\n",
      " 'highly distorted images of the background object. The first strong lens was '\n",
      " 'discovered in 1979 by Walsh et al. (1979) and since then several hundred of '\n",
      " 'them have been found. When the lens is an individual galaxy and the source a '\n",
      " 'quasar, there are two, four or five distinct images of the source. The '\n",
      " 'time-delay between images, the magnification ratios between images and the '\n",
      " 'image positions can all be used to model the mass distribution of the lens '\n",
      " 'and measure cosmological parameters. When the lens is a cluster of galaxies '\n",
      " 'the images of background galaxies are multiplied and distorted into many '\n",
      " 'thin arcs. When the lens is an individual galaxy and the background source '\n",
      " 'also a galaxy, the lensed images can take the form of a partial or complete '\n",
      " 'ring seen around or through the lens galaxy, an Einstein ring. Strong lenses '\n",
      " 'have to date provided very valuable scientific information. They have been '\n",
      " 'used to study how dark matter is distributed in galaxies and clusters (e.g., '\n",
      " 'Kochanek 1991 ; Cohn et al. 2001 ; Koopmans Treu 2002 ; Rusin et al. 2003 ; '\n",
      " 'Koopmans Treu 2003 ; Wayth et al.')\n",
      "\n"
     ]
    }
   ],
   "source": [
    "for i, result in enumerate(results[:3]):\n",
    "    pprint(f\"Rank {i} (doi {result.doi}) (distance {result.distance:.4f}): {result.chunk}\")\n",
    "    print()"
   ]
  },
  {
   "cell_type": "markdown",
   "metadata": {},
   "source": [
    "All these chunks directly refer to Walsh 1979, likely contributing strong similarity (distance ~ 0.06). Notably, Walsh 1979 has a title that might be highly relevant to this passage query.\n",
    "\n",
    "Let's see what happens when we also embed the title and abstract"
   ]
  },
  {
   "cell_type": "code",
   "execution_count": 123,
   "metadata": {},
   "outputs": [
    {
     "name": "stdout",
     "output_type": "stream",
     "text": [
      "'0957+561 A, B: twin quasistellar objects or gravitational lens?'\n",
      "('Within the field of the source 0957 + 561 is a close pair of blue stellar '\n",
      " 'objects of magnitude 17 with a separation of 5.7 arc sec at redshift 1.405. '\n",
      " 'The two sources show great similarity in their spectral characteristics. A '\n",
      " 'conventional interpretation could regard as coincidence the similarity of '\n",
      " 'emission spectra, or assume that the initial conditions, age and environment '\n",
      " 'of the two quasars are practically identical. A less conventional view would '\n",
      " 'find the quasars to be two images of the same object produced by a '\n",
      " 'gravitational lens.')\n"
     ]
    }
   ],
   "source": [
    "pprint(walsh_result.title)\n",
    "pprint(walsh_result.abstract)"
   ]
  },
  {
   "cell_type": "code",
   "execution_count": 128,
   "metadata": {},
   "outputs": [],
   "source": [
    "title_chunk = f\"Title: {walsh_result.title}\\n\\nBody: {walsh_result.chunk}\"\n",
    "abstract_chunk = f\"Abstract: {walsh_result.abstract}\\n\\nBody: {walsh_result.chunk}\"\n",
    "chunk_title = f\"Body: {walsh_result.chunk}\\n\\nTitle: {walsh_result.title}\"\n",
    "chunk_abstract = f\"Body: {walsh_result.chunk}\\n\\nAbstract: {walsh_result.abstract}\"\n",
    "title_and_abstract = f\"Title: {walsh_result.title}\\n\\nAbstract: {walsh_result.abstract}\\n\\nBody: {walsh_result.chunk}\""
   ]
  },
  {
   "cell_type": "code",
   "execution_count": 130,
   "metadata": {},
   "outputs": [
    {
     "name": "stdout",
     "output_type": "stream",
     "text": [
      "('Title: 0957+561 A, B: twin quasistellar objects or gravitational lens?\\n'\n",
      " '\\n'\n",
      " 'Body: The mean position of the two objects is 17 arcs from the radio '\n",
      " 'position, so the identification is necessarily tentative. Table 1 Positions '\n",
      " 'and magnitudes of 0957 + 561 A, B Object RA Dec (1950.0) MR MB0957 + 561 A '\n",
      " '0957 + 561B 095757.3 095757.4 +560822.9 +560816.9 17.0 17.0 16.7 17.0 '\n",
      " 'Observations The two objects 0957 + 561 A, B were observed on 29 March 1979 '\n",
      " 'at the 2.1 m telescope of the Kitt Peak National Observatory (KPNO) using '\n",
      " 'the intensified image dissector scanner (IIDS). Sky subtraction was used '\n",
      " 'with circular apertures separated by 99.4 arc s. Some observational '\n",
      " 'parameters are given in Table 2. The spectral range was divided into 1,024 '\n",
      " 'data bins, each bin 3.5 wide, and the spectral resolution was 16 A. After '\n",
      " '20-min integration on each object it was clear that both were QSOs with '\n",
      " 'almost identical spectra and redshifts of -1.40 on the basis of strong '\n",
      " 'emission lines identified as CIV ? 1549 and C ill] ? 1909. Further '\n",
      " 'observations were made on 29 March and on subsequent nights as detailed in '\n",
      " 'Table 2. By offsetting to observe empty sky a few arc seconds from one '\n",
      " 'object on both 29 and 30 March it was confirmed that any contamination of '\n",
      " 'the spectrum of one object by light from the other was negligible. On 1 '\n",
      " 'April the spectral range was altered slightly by tilting the grating to '\n",
      " 'cover the anticipated redshifted wavelength of Mg II A2798 which was just '\n",
      " 'beyond the limiting wavelength on previous nights. Fig. 1 Finding chart for '\n",
      " 'the QSOs 0957 + 561 A and B.')\n"
     ]
    }
   ],
   "source": [
    "pprint(title_chunk)"
   ]
  },
  {
   "cell_type": "code",
   "execution_count": 125,
   "metadata": {},
   "outputs": [],
   "source": [
    "query_vector = bge_embedder([example.sent_no_cit])[0]"
   ]
  },
  {
   "cell_type": "code",
   "execution_count": 129,
   "metadata": {},
   "outputs": [
    {
     "name": "stdout",
     "output_type": "stream",
     "text": [
      "0.11602515\n",
      "0.12238878\n",
      "0.119539976\n",
      "0.12340659\n",
      "0.1124441\n"
     ]
    }
   ],
   "source": [
    "print(cosine_distance(query_vector, bge_embedder([title_chunk])[0]))\n",
    "print(cosine_distance(query_vector, bge_embedder([abstract_chunk])[0]))\n",
    "print(cosine_distance(query_vector, bge_embedder([chunk_title])[0]))\n",
    "print(cosine_distance(query_vector, bge_embedder([chunk_abstract])[0]))\n",
    "print(cosine_distance(query_vector, bge_embedder([title_and_abstract])[0]))"
   ]
  },
  {
   "cell_type": "markdown",
   "metadata": {},
   "source": [
    "None of these enrichments particularly do anything to get the embedding closer to the query. What about the title and abstract by themselves?"
   ]
  },
  {
   "cell_type": "code",
   "execution_count": 131,
   "metadata": {},
   "outputs": [
    {
     "name": "stdout",
     "output_type": "stream",
     "text": [
      "0.13204706\n",
      "0.11647391\n"
     ]
    }
   ],
   "source": [
    "title_only = bge_embedder([walsh_result.title])[0]\n",
    "abstract_only = bge_embedder([walsh_result.abstract])[0]\n",
    "print(cosine_distance(query_vector, title_only))\n",
    "print(cosine_distance(query_vector, abstract_only))"
   ]
  },
  {
   "cell_type": "markdown",
   "metadata": {},
   "source": [
    "Or any of the chunks from Walsh 1979?"
   ]
  },
  {
   "cell_type": "code",
   "execution_count": 132,
   "metadata": {},
   "outputs": [
    {
     "name": "stdout",
     "output_type": "stream",
     "text": [
      "14\n"
     ]
    }
   ],
   "source": [
    "walsh_chunks = [chunk[0] for chunk in db.query(\"SELECT chunk FROM lib WHERE doi = '10.1038/279381a0'\")]\n",
    "print(len(walsh_chunks))"
   ]
  },
  {
   "cell_type": "code",
   "execution_count": 133,
   "metadata": {},
   "outputs": [
    {
     "name": "stdout",
     "output_type": "stream",
     "text": [
      "Distances: [np.float32(0.14022768), np.float32(0.12455821), np.float32(0.14882791), np.float32(0.1489079), np.float32(0.14485228), np.float32(0.15837085), np.float32(0.12893093), np.float32(0.13342458), np.float32(0.12892556), np.float32(0.15016615), np.float32(0.14718091), np.float32(0.13947636), np.float32(0.12611187), np.float32(0.14071149)]\n",
      "Chunk in target doc with closest embedding distance has distance: 0.1245582103729248\n",
      "('Closest chunk: The mean position of the two objects is 17 arcs from the '\n",
      " 'radio position, so the identification is necessarily tentative. Table 1 '\n",
      " 'Positions and magnitudes of 0957 + 561 A, B Object RA Dec (1950.0) MR MB0957 '\n",
      " '+ 561 A 0957 + 561B 095757.3 095757.4 +560822.9 +560816.9 17.0 17.0 16.7 '\n",
      " '17.0 Observations The two objects 0957 + 561 A, B were observed on 29 March '\n",
      " '1979 at the 2.1 m telescope of the Kitt Peak National Observatory (KPNO) '\n",
      " 'using the intensified image dissector scanner (IIDS). Sky subtraction was '\n",
      " 'used with circular apertures separated by 99.4 arc s. Some observational '\n",
      " 'parameters are given in Table 2. The spectral range was divided into 1,024 '\n",
      " 'data bins, each bin 3.5 wide, and the spectral resolution was 16 A. After '\n",
      " '20-min integration on each object it was clear that both were QSOs with '\n",
      " 'almost identical spectra and redshifts of -1.40 on the basis of strong '\n",
      " 'emission lines identified as CIV ? 1549 and C ill] ? 1909. Further '\n",
      " 'observations were made on 29 March and on subsequent nights as detailed in '\n",
      " 'Table 2. By offsetting to observe empty sky a few arc seconds from one '\n",
      " 'object on both 29 and 30 March it was confirmed that any contamination of '\n",
      " 'the spectrum of one object by light from the other was negligible. On 1 '\n",
      " 'April the spectral range was altered slightly by tilting the grating to '\n",
      " 'cover the anticipated redshifted wavelength of Mg II A2798 which was just '\n",
      " 'beyond the limiting wavelength on previous nights. Fig. 1 Finding chart for '\n",
      " 'the QSOs 0957 + 561 A and B.')\n"
     ]
    }
   ],
   "source": [
    "walsh_embeddings = bge_embedder(walsh_chunks)\n",
    "walsh_distances = [cosine_distance(walsh_embeddings[i], query_vector) for i in range(len(walsh_embeddings))]\n",
    "print(f\"Distances: {walsh_distances}\")\n",
    "closest = min(walsh_distances)\n",
    "print(f\"Chunk in target doc with closest embedding distance has distance: {closest}\")\n",
    "closest_idx = walsh_distances.index(closest)\n",
    "pprint(f\"Closest chunk: {walsh_chunks[closest_idx]}\")"
   ]
  },
  {
   "cell_type": "markdown",
   "metadata": {},
   "source": [
    "Here we see that the closest chunk from the target doc has a cosine distance of 0.1246, not that close, even though the passage is laying out original observations of the double quasar in question rather than citing others' work on the matter. Could an NLI mode have performed better?\n",
    "\n",
    "### Conclusion: the embedding model found many other articles that also cited the same source with naturally similar semantic content. Perhaps an NLI reranker would have done the job"
   ]
  },
  {
   "cell_type": "code",
   "execution_count": null,
   "metadata": {},
   "outputs": [],
   "source": []
  }
 ],
 "metadata": {
  "kernelspec": {
   "display_name": "citeline",
   "language": "python",
   "name": "python3"
  },
  "language_info": {
   "codemirror_mode": {
    "name": "ipython",
    "version": 3
   },
   "file_extension": ".py",
   "mimetype": "text/x-python",
   "name": "python",
   "nbconvert_exporter": "python",
   "pygments_lexer": "ipython3",
   "version": "3.11.10"
  }
 },
 "nbformat": 4,
 "nbformat_minor": 2
}
