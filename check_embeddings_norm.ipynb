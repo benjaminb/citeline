{
 "cells": [
  {
   "cell_type": "code",
   "execution_count": 1,
   "id": "7b111ef8",
   "metadata": {},
   "outputs": [],
   "source": [
    "from embedders import get_embedder\n",
    "import numpy as np"
   ]
  },
  {
   "cell_type": "code",
   "execution_count": 2,
   "id": "811920e8",
   "metadata": {},
   "outputs": [],
   "source": [
    "texts = [\n",
    "    \"This is a test sentence.\",\n",
    "    \"Another test sentence goes here.\",\n",
    "    \"Yet another example sentence.\"\n",
    "]\n",
    "\n",
    "models = [\"adsabs/astroBERT\", \"allenai/specter2_adhoc_query\"]"
   ]
  },
  {
   "cell_type": "code",
   "execution_count": 3,
   "id": "6dd42269",
   "metadata": {},
   "outputs": [
    {
     "name": "stdout",
     "output_type": "stream",
     "text": [
      "Model: adsabs/astroBERT, Norms: [1. 1. 1.]\n",
      "'NoneType' object has no attribute 'cadam32bit_grad_fp32'\n"
     ]
    },
    {
     "name": "stderr",
     "output_type": "stream",
     "text": [
      "/Users/benjaminbasseri/miniforge3/envs/citeline/lib/python3.11/site-packages/bitsandbytes/cextension.py:34: UserWarning: The installed version of bitsandbytes was compiled without GPU support. 8-bit optimizers, 8-bit multiplication, and GPU quantization are unavailable.\n",
      "  warn(\"The installed version of bitsandbytes was compiled without GPU support. \"\n",
      "huggingface/tokenizers: The current process just got forked, after parallelism has already been used. Disabling parallelism to avoid deadlocks...\n",
      "To disable this warning, you can either:\n",
      "\t- Avoid using `tokenizers` before the fork if possible\n",
      "\t- Explicitly set the environment variable TOKENIZERS_PARALLELISM=(true | false)\n"
     ]
    },
    {
     "data": {
      "application/vnd.jupyter.widget-view+json": {
       "model_id": "da66d11a8413413f93bb39c1beb238d2",
       "version_major": 2,
       "version_minor": 0
      },
      "text/plain": [
       "Fetching 4 files:   0%|          | 0/4 [00:00<?, ?it/s]"
      ]
     },
     "metadata": {},
     "output_type": "display_data"
    },
    {
     "name": "stderr",
     "output_type": "stream",
     "text": [
      "There are adapters available but none are activated for the forward pass.\n"
     ]
    },
    {
     "name": "stdout",
     "output_type": "stream",
     "text": [
      "Model: allenai/specter2_adhoc_query, Norms: [1.        1.        0.9999999]\n"
     ]
    }
   ],
   "source": [
    "for model in models:\n",
    "    embedder = get_embedder(model, device=\"mps\", normalize=True)\n",
    "    embeddings = embedder(texts)\n",
    "    norms = np.linalg.norm(embeddings, axis=1)\n",
    "    print(f\"Model: {model}, Norms: {norms}\")"
   ]
  },
  {
   "cell_type": "code",
   "execution_count": null,
   "id": "01e3853f",
   "metadata": {},
   "outputs": [],
   "source": [
    "\n",
    "\n",
    "norms = np.linalg.norm(embeddings, axis=1)\n",
    "print(norms)"
   ]
  },
  {
   "cell_type": "code",
   "execution_count": null,
   "id": "d3572c9f",
   "metadata": {},
   "outputs": [],
   "source": []
  }
 ],
 "metadata": {
  "kernelspec": {
   "display_name": "citeline",
   "language": "python",
   "name": "python3"
  },
  "language_info": {
   "codemirror_mode": {
    "name": "ipython",
    "version": 3
   },
   "file_extension": ".py",
   "mimetype": "text/x-python",
   "name": "python",
   "nbconvert_exporter": "python",
   "pygments_lexer": "ipython3",
   "version": "3.11.10"
  }
 },
 "nbformat": 4,
 "nbformat_minor": 5
}
