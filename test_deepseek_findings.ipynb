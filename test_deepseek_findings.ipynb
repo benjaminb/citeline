{
 "cells": [
  {
   "cell_type": "code",
   "execution_count": 1,
   "id": "3bd5511f",
   "metadata": {},
   "outputs": [
    {
     "data": {
      "text/html": [
       "<div>\n",
       "<style scoped>\n",
       "    .dataframe tbody tr th:only-of-type {\n",
       "        vertical-align: middle;\n",
       "    }\n",
       "\n",
       "    .dataframe tbody tr th {\n",
       "        vertical-align: top;\n",
       "    }\n",
       "\n",
       "    .dataframe thead th {\n",
       "        text-align: right;\n",
       "    }\n",
       "</style>\n",
       "<table border=\"1\" class=\"dataframe\">\n",
       "  <thead>\n",
       "    <tr style=\"text-align: right;\">\n",
       "      <th></th>\n",
       "      <th>source_doi</th>\n",
       "      <th>sent_original</th>\n",
       "      <th>sent_no_cit</th>\n",
       "      <th>sent_idx</th>\n",
       "      <th>citation_dois</th>\n",
       "      <th>pubdate</th>\n",
       "      <th>resolved_bibcodes</th>\n",
       "    </tr>\n",
       "  </thead>\n",
       "  <tbody>\n",
       "    <tr>\n",
       "      <th>0</th>\n",
       "      <td>10.1146/annurev.astro.46.060407.145222</td>\n",
       "      <td>It is unclear whether the solution can be foun...</td>\n",
       "      <td>It is unclear whether the solution can be foun...</td>\n",
       "      <td>541</td>\n",
       "      <td>[10.1111/j.1365-2966.2009.14750.x]</td>\n",
       "      <td>2009-09-01</td>\n",
       "      <td>[2009MNRAS.396..203S]</td>\n",
       "    </tr>\n",
       "    <tr>\n",
       "      <th>1</th>\n",
       "      <td>10.1016/j.newar.2024.101694</td>\n",
       "      <td>The gravitational effects of the directly-imag...</td>\n",
       "      <td>The gravitational effects of the directly-imag...</td>\n",
       "      <td>276</td>\n",
       "      <td>[10.1051/0004-6361/201834371]</td>\n",
       "      <td>2024-06-01</td>\n",
       "      <td>[2019A&amp;A...623A..72K]</td>\n",
       "    </tr>\n",
       "    <tr>\n",
       "      <th>2</th>\n",
       "      <td>10.1146/annurev-astro-081811-125615</td>\n",
       "      <td>Connolly et al. (1997) and Pascarelle et al. (...</td>\n",
       "      <td>[REF] and [REF] combined the optical HST imagi...</td>\n",
       "      <td>477</td>\n",
       "      <td>[10.1086/310829, 10.1086/311708, 10.1086/30997...</td>\n",
       "      <td>2014-08-01</td>\n",
       "      <td>[1997ApJ...486L..11C, 1998ApJ...508L...1P, 199...</td>\n",
       "    </tr>\n",
       "    <tr>\n",
       "      <th>3</th>\n",
       "      <td>10.1146/annurev-astro-081811-125615</td>\n",
       "      <td>Cowie et al. (1999) and Wilson et al. (2002) c...</td>\n",
       "      <td>[REF] and [REF] combined Keck spectroscopy in ...</td>\n",
       "      <td>481</td>\n",
       "      <td>[10.1086/300959, 10.1086/341818, 10.1086/309975]</td>\n",
       "      <td>2014-08-01</td>\n",
       "      <td>[1999AJ....118..603C, 2002AJ....124.1258W, 199...</td>\n",
       "    </tr>\n",
       "    <tr>\n",
       "      <th>4</th>\n",
       "      <td>10.1146/annurev-astro-091916-055240</td>\n",
       "      <td>Tumlinson et al. (2011 ) found that O vi trace...</td>\n",
       "      <td>[REF] found that O vi traces a warm CGM compon...</td>\n",
       "      <td>348</td>\n",
       "      <td>[10.1126/science.1209840]</td>\n",
       "      <td>2017-08-01</td>\n",
       "      <td>[2011Sci...334..948T]</td>\n",
       "    </tr>\n",
       "  </tbody>\n",
       "</table>\n",
       "</div>"
      ],
      "text/plain": [
       "                               source_doi  \\\n",
       "0  10.1146/annurev.astro.46.060407.145222   \n",
       "1             10.1016/j.newar.2024.101694   \n",
       "2     10.1146/annurev-astro-081811-125615   \n",
       "3     10.1146/annurev-astro-081811-125615   \n",
       "4     10.1146/annurev-astro-091916-055240   \n",
       "\n",
       "                                       sent_original  \\\n",
       "0  It is unclear whether the solution can be foun...   \n",
       "1  The gravitational effects of the directly-imag...   \n",
       "2  Connolly et al. (1997) and Pascarelle et al. (...   \n",
       "3  Cowie et al. (1999) and Wilson et al. (2002) c...   \n",
       "4  Tumlinson et al. (2011 ) found that O vi trace...   \n",
       "\n",
       "                                         sent_no_cit  sent_idx  \\\n",
       "0  It is unclear whether the solution can be foun...       541   \n",
       "1  The gravitational effects of the directly-imag...       276   \n",
       "2  [REF] and [REF] combined the optical HST imagi...       477   \n",
       "3  [REF] and [REF] combined Keck spectroscopy in ...       481   \n",
       "4  [REF] found that O vi traces a warm CGM compon...       348   \n",
       "\n",
       "                                       citation_dois     pubdate  \\\n",
       "0                 [10.1111/j.1365-2966.2009.14750.x]  2009-09-01   \n",
       "1                      [10.1051/0004-6361/201834371]  2024-06-01   \n",
       "2  [10.1086/310829, 10.1086/311708, 10.1086/30997...  2014-08-01   \n",
       "3   [10.1086/300959, 10.1086/341818, 10.1086/309975]  2014-08-01   \n",
       "4                          [10.1126/science.1209840]  2017-08-01   \n",
       "\n",
       "                                   resolved_bibcodes  \n",
       "0                              [2009MNRAS.396..203S]  \n",
       "1                              [2019A&A...623A..72K]  \n",
       "2  [1997ApJ...486L..11C, 1998ApJ...508L...1P, 199...  \n",
       "3  [1999AJ....118..603C, 2002AJ....124.1258W, 199...  \n",
       "4                              [2011Sci...334..948T]  "
      ]
     },
     "execution_count": 1,
     "metadata": {},
     "output_type": "execute_result"
    }
   ],
   "source": [
    "import pandas as pd\n",
    "\n",
    "df = pd.read_json('data/dataset/split/small_train.jsonl', lines=True)\n",
    "df.head()"
   ]
  },
  {
   "cell_type": "code",
   "execution_count": 2,
   "id": "6d155758",
   "metadata": {},
   "outputs": [],
   "source": [
    "research = pd.read_json('data/preprocessed/research.jsonl', lines=True)"
   ]
  },
  {
   "cell_type": "code",
   "execution_count": 3,
   "id": "2d5e531e",
   "metadata": {},
   "outputs": [
    {
     "data": {
      "text/plain": [
       "['10.1086/311708',\n",
       " '10.1086/310829',\n",
       " '10.1086/300959',\n",
       " '10.1088/0004-637X/767/1/49',\n",
       " '10.1093/mnras/283.4.1388',\n",
       " '10.1086/341818',\n",
       " '10.1111/j.1365-2966.2009.14750.x',\n",
       " '10.1126/science.1209840',\n",
       " '10.48550/arXiv.2203.02041',\n",
       " '10.1086/163605',\n",
       " '10.3847/1538-4357/aa6007',\n",
       " '10.1086/309975',\n",
       " '10.1051/0004-6361/201834371',\n",
       " '10.3847/1538-4357/aa9ced']"
      ]
     },
     "execution_count": 3,
     "metadata": {},
     "output_type": "execute_result"
    }
   ],
   "source": [
    "# Get the unique target DOIs from the dataset\n",
    "dois = list(set(doi for dois in df.citation_dois.tolist() for doi in dois))\n",
    "dois\n"
   ]
  },
  {
   "cell_type": "code",
   "execution_count": 4,
   "id": "a1b2aecc",
   "metadata": {},
   "outputs": [],
   "source": [
    "def reconstruct_paper(example: pd.Series) -> str:\n",
    "    return f\"{example['title']}\\n\\nAbstract: {example['abstract']}\\n\\n{example['body']}\""
   ]
  },
  {
   "cell_type": "code",
   "execution_count": 5,
   "id": "d605af74",
   "metadata": {},
   "outputs": [
    {
     "name": "stdout",
     "output_type": "stream",
     "text": [
      "=================================CONFIG=================================\n",
      "Database         User             Host                             Port            \n",
      "citelinedb       bbasseri         localhost                        5432            \n",
      "========================================================================\n",
      "Database version: ('PostgreSQL 17.5 (Homebrew) on aarch64-apple-darwin24.4.0, compiled by Apple clang version 17.0.0 (clang-1700.0.13.3), 64-bit',)\n"
     ]
    }
   ],
   "source": [
    "from database.database import Database\n",
    "db = Database()\n",
    "db.test_connection()"
   ]
  },
  {
   "cell_type": "code",
   "execution_count": 6,
   "id": "edf08989",
   "metadata": {},
   "outputs": [
    {
     "name": "stdout",
     "output_type": "stream",
     "text": [
      "Imported findings with 14 entries\n"
     ]
    }
   ],
   "source": [
    "# Assuming the db has a 'contributions' table already with embedding(1024), text, and doi columns\n",
    "\n",
    "from test_findings import findings\n",
    "print(f\"Imported findings with {len(findings)} entries\")"
   ]
  },
  {
   "cell_type": "code",
   "execution_count": 7,
   "id": "f39f6ee3",
   "metadata": {},
   "outputs": [],
   "source": [
    "from Embedders import get_embedder\n",
    "embedder = get_embedder(model_name='BAAI/bge-large-en-v1.5', device='mps', normalize=True)"
   ]
  },
  {
   "cell_type": "code",
   "execution_count": 10,
   "id": "4cdc9ddd",
   "metadata": {},
   "outputs": [
    {
     "name": "stdout",
     "output_type": "stream",
     "text": [
      "Processing DOI: 10.1088/0004-637X/767/1/49 with 7 sentences\n",
      "Processing DOI: 10.1086/163605 with 10 sentences\n",
      "Processing DOI: 10.1111/j.1365-2966.2009.14750.x with 16 sentences\n",
      "Processing DOI: 10.1086/309975 with 9 sentences\n",
      "Processing DOI: 10.1086/300959 with 10 sentences\n",
      "Processing DOI: 10.1086/311708 with 8 sentences\n",
      "Processing DOI: 10.1051/0004-6361/201834371 with 16 sentences\n",
      "Processing DOI: 10.3847/1538-4357/aa6007 with 10 sentences\n",
      "Processing DOI: 10.1093/mnras/283.4.1388 with 12 sentences\n",
      "Processing DOI: 10.48550/arXiv.2203.02041 with 15 sentences\n",
      "Processing DOI: 10.1086/310829 with 8 sentences\n",
      "Processing DOI: 10.1086/341818 with 11 sentences\n",
      "Processing DOI: 10.3847/1538-4357/aa9ced with 12 sentences\n",
      "Processing DOI: 10.1126/science.1209840 with 10 sentences\n"
     ]
    }
   ],
   "source": [
    "from tqdm import tqdm\n",
    "# For each entry in findings, embed the string list\n",
    "# insert these into the database\n",
    "for doi, sentences in findings.items():\n",
    "    print(f\"Processing DOI: {doi} with {len(sentences)} sentences\")\n",
    "    embeddings = embedder(sentences)\n",
    "\n",
    "    # Get the associated pubdate\n",
    "    pubdate = research[research['doi'] == doi]['pubdate'].values[0] if not research[research['doi'] == doi].empty else None\n",
    "    if not pubdate:\n",
    "        print(f\"Warning: No pubdate found for DOI {doi}. Skipping.\")\n",
    "        continue\n",
    "    with db.conn.cursor() as cursor:\n",
    "        for embedding, text in zip(embeddings, sentences):\n",
    "            # Insert into the database\n",
    "            cursor.execute(\n",
    "                \"INSERT INTO contributions (embedding, text, pubdate, doi) VALUES (%s, %s, %s, %s)\",\n",
    "                (embedding, text, pubdate, doi)\n",
    "            )\n",
    "    db.conn.commit()"
   ]
  },
  {
   "cell_type": "code",
   "execution_count": null,
   "id": "47bf06a5",
   "metadata": {},
   "outputs": [],
   "source": []
  }
 ],
 "metadata": {
  "kernelspec": {
   "display_name": "citeline",
   "language": "python",
   "name": "python3"
  },
  "language_info": {
   "codemirror_mode": {
    "name": "ipython",
    "version": 3
   },
   "file_extension": ".py",
   "mimetype": "text/x-python",
   "name": "python",
   "nbconvert_exporter": "python",
   "pygments_lexer": "ipython3",
   "version": "3.11.10"
  }
 },
 "nbformat": 4,
 "nbformat_minor": 5
}
