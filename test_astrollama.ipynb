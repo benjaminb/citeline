{
 "cells": [
  {
   "cell_type": "code",
   "execution_count": 1,
   "id": "91ebca31",
   "metadata": {},
   "outputs": [],
   "source": [
    "import torch\n",
    "from transformers import AutoTokenizer, AutoModelForCausalLM\n",
    "\n",
    "# tokenizer = AutoTokenizer.from_pretrained(\"UniverseTBD/astrollama\")\n",
    "# model = AutoModelForCausalLM.from_pretrained(\"UniverseTBD/astrollama\", device_map=\"auto\")\n",
    "# print(model.device)"
   ]
  },
  {
   "cell_type": "code",
   "execution_count": 1,
   "id": "3e5656f8",
   "metadata": {},
   "outputs": [
    {
     "name": "stdout",
     "output_type": "stream",
     "text": [
      "nasa-impact/nasa-ibm-st.38m, device=mps, normalize=False, for_queries=False, dim=576\n"
     ]
    }
   ],
   "source": [
    "from embedders import Embedder\n",
    "\n",
    "nasa = Embedder.create(model_name=\"nasa-impact/nasa-ibm-st.38m\", device=\"mps\", normalize=False, for_queries=False)\n",
    "print(nasa)"
   ]
  },
  {
   "cell_type": "code",
   "execution_count": 3,
   "id": "44b3719b",
   "metadata": {},
   "outputs": [
    {
     "data": {
      "text/plain": [
       "512"
      ]
     },
     "execution_count": 3,
     "metadata": {},
     "output_type": "execute_result"
    }
   ],
   "source": [
    "nasa.model.get_max_seq_length()"
   ]
  },
  {
   "cell_type": "code",
   "execution_count": null,
   "id": "d7a948e6",
   "metadata": {},
   "outputs": [
    {
     "name": "stdout",
     "output_type": "stream",
     "text": [
      "(2, 4096)\n"
     ]
    }
   ],
   "source": [
    "texts = [\"Abstract 1\", \"Abstract 2\"]\n",
    "embeddings = embedder(texts)\n",
    "print(embeddings.shape)\n",
    "\n",
    "\n"
   ]
  },
  {
   "cell_type": "code",
   "execution_count": 5,
   "id": "854adf17",
   "metadata": {},
   "outputs": [
    {
     "name": "stdout",
     "output_type": "stream",
     "text": [
      "[96.357666 91.310455]\n"
     ]
    }
   ],
   "source": [
    "import numpy as np\n",
    "# Get the norm of each vector\n",
    "norms = np.linalg.norm(embeddings, axis=1)\n",
    "print(norms)"
   ]
  },
  {
   "cell_type": "code",
   "execution_count": 6,
   "id": "ea15c1cc",
   "metadata": {},
   "outputs": [
    {
     "data": {
      "text/plain": [
       "4096"
      ]
     },
     "execution_count": 6,
     "metadata": {},
     "output_type": "execute_result"
    }
   ],
   "source": [
    "embedder.model.config.hidden_size  # 4096"
   ]
  },
  {
   "cell_type": "code",
   "execution_count": null,
   "id": "38ea5c0c",
   "metadata": {},
   "outputs": [],
   "source": [
    "texts = [\"Abstract 1\", \"Abstract 2\"]\n",
    "inputs = tokenizer(\n",
    "    texts, return_tensors=\"pt\", return_token_type_ids=False, padding=True, truncation=True, max_length=4096\n",
    ")\n",
    "inputs.to(model.device)\n",
    "outputs = model(**inputs, output_hidden_states=True)\n",
    "\n",
    "# Last layer of the hidden states. Get average embedding of all tokens\n",
    "embeddings = outputs[\"hidden_states\"][-1][:, 1:, ...].mean(1).detach().cpu().numpy()\n",
    "print(embeddings.shape)  # (2, 4096)"
   ]
  },
  {
   "cell_type": "code",
   "execution_count": null,
   "id": "9dc1a69e",
   "metadata": {},
   "outputs": [],
   "source": [
    "dir(model.config)  # 4096"
   ]
  },
  {
   "cell_type": "code",
   "execution_count": null,
   "id": "f6f53f00",
   "metadata": {},
   "outputs": [],
   "source": [
    "model.config.max_position_embeddings  # 4096"
   ]
  },
  {
   "cell_type": "code",
   "execution_count": null,
   "id": "8e7348a4",
   "metadata": {},
   "outputs": [],
   "source": []
  }
 ],
 "metadata": {
  "kernelspec": {
   "display_name": "citeline",
   "language": "python",
   "name": "python3"
  },
  "language_info": {
   "codemirror_mode": {
    "name": "ipython",
    "version": 3
   },
   "file_extension": ".py",
   "mimetype": "text/x-python",
   "name": "python",
   "nbconvert_exporter": "python",
   "pygments_lexer": "ipython3",
   "version": "3.11.10"
  }
 },
 "nbformat": 4,
 "nbformat_minor": 5
}
