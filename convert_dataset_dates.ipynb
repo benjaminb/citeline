{
 "cells": [
  {
   "cell_type": "code",
   "execution_count": 2,
   "id": "db52d1b5",
   "metadata": {},
   "outputs": [],
   "source": [
    "import glob\n",
    "import pandas as pd\n",
    "\n",
    "# for every .jsonl file in data/, load the file, convert YYYY-MM-DD string date to YYYYMMDD int format\n",
    "# write back out to jsonl\n",
    "for filepath in glob.glob(\"data/dataset/*.jsonl\"):\n",
    "    df = pd.read_json(filepath, lines=True)\n",
    "    df['pubdate'] = df['pubdate'].apply(lambda x: int(x.replace(\"-\", \"\")) if x else x)\n",
    "    df.to_json(filepath, lines=True, orient=\"records\")\n",
    "\n"
   ]
  },
  {
   "cell_type": "code",
   "execution_count": null,
   "id": "205708eb",
   "metadata": {},
   "outputs": [],
   "source": []
  }
 ],
 "metadata": {
  "kernelspec": {
   "display_name": "citeline",
   "language": "python",
   "name": "python3"
  },
  "language_info": {
   "codemirror_mode": {
    "name": "ipython",
    "version": 3
   },
   "file_extension": ".py",
   "mimetype": "text/x-python",
   "name": "python",
   "nbconvert_exporter": "python",
   "pygments_lexer": "ipython3",
   "version": "3.11.10"
  }
 },
 "nbformat": 4,
 "nbformat_minor": 5
}
