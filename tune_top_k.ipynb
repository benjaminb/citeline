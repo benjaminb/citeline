{
  "cells": [
    {
      "cell_type": "markdown",
      "metadata": {},
      "source": [
        "# Tuning the Top-k Query parameter\n",
        "\n",
        "First we set up the environment"
      ]
    },
    {
      "cell_type": "code",
      "execution_count": 8,
      "metadata": {},
      "outputs": [
        {
          "name": "stdout",
          "output_type": "stream",
          "text": [
            "5432\n"
          ]
        }
      ],
      "source": [
        "from dotenv import load_dotenv\n",
        "import os\n",
        "import pandas as pd\n",
        "from time import time\n",
        "import torch\n",
        "from TextEnrichers import get_enricher, TextEnricher\n",
        "from database.database import Database\n",
        "from Embedders import Embedder, get_embedder\n",
        "from tqdm import tqdm\n",
        "\n",
        "load_dotenv('.env', override=True)\n",
        "print(os.getenv('DB_PORT'))\n"
      ]
    },
    {
      "cell_type": "code",
      "execution_count": 9,
      "metadata": {},
      "outputs": [
        {
          "name": "stdout",
          "output_type": "stream",
          "text": [
            "=================================CONFIG=================================\n",
            "Database         User             Host                             Port            \n",
            "citeline_db      bbasseri         localhost                        5432            \n",
            "========================================================================\n",
            "Database version: ('PostgreSQL 17.3 (Homebrew) on x86_64-apple-darwin23.6.0, compiled by Apple clang version 16.0.0 (clang-1600.0.26.6), 64-bit',)\n",
            "Using device: mps\n"
          ]
        }
      ],
      "source": [
        "# Database setup\n",
        "db = Database()\n",
        "db.test_connection()\n",
        "\n",
        "device = 'cuda' if torch.cuda.is_available(\n",
        ") else 'mps' if torch.mps.is_available() else 'cpu'\n",
        "print(f\"Using device: {device}\")"
      ]
    },
    {
      "cell_type": "markdown",
      "metadata": {},
      "source": [
        "## Investigating precision over `k`\n",
        "\n",
        "For our various embedding models and enrichment strategies, we want to know the smallest `top_k` value that will still retrieve the target reference for a given sentence. \n",
        "\n",
        "To investigate this, we'll sample 100 examples from the non-trivial training data. Each example typically has 1-2 target DOI's. For each example, we'll query the database with a large `top_k` parameter to start, so we can be sure the database returns the target references. Then we can ask at what index in the query results does a target DOI first appear. Ideally, the ranks will all be very high, indicated by having *low* indices in the query results. We also expect enriched examples to have their target doi's higher ranked (lower indices)."
      ]
    },
    {
      "cell_type": "code",
      "execution_count": 10,
      "metadata": {},
      "outputs": [],
      "source": [
        "examples = pd.read_json('data/dataset/100/nontrivial.jsonl', lines=True)\n",
        "\n",
        "\n",
        "def lowest_index_matching_doi(target_doi: str, query_results: list) -> int:\n",
        "    \"\"\"\n",
        "    Returns the first index of the query results where the chunk doi matches the target doi.\n",
        "    If no match is found, returns -1.\n",
        "    \"\"\"\n",
        "    for i, result in enumerate(query_results):\n",
        "        if target_doi == result.doi:\n",
        "            return i\n",
        "    return -1\n",
        "\n",
        "\n",
        "def get_ranks(\n",
        "    example: pd.Series,\n",
        "    embedding,\n",
        "    top_k: int,\n",
        "    probes: int,\n",
        "    table_name: str = 'lib',\n",
        "    target_column: str = 'bge',\n",
        ") -> list[int]:\n",
        "    \n",
        "    target_dois = example['citation_dois']\n",
        "\n",
        "    # Query\n",
        "    start = time()\n",
        "    query_results = db.query_vector_column(\n",
        "        query_vector=embedding,\n",
        "        target_column=target_column,\n",
        "        table_name=table_name,\n",
        "        pubdate=example['pubdate'],\n",
        "        top_k=top_k,\n",
        "        use_index=True,\n",
        "        probes=probes,\n",
        "    )\n",
        "    print(f\"Query time: {time() - start:.2f}s\")\n",
        "    print(f\"Found {len(query_results)} results\")\n",
        "    \n",
        "    ranks = [lowest_index_matching_doi(\n",
        "        target_doi=doi, query_results=query_results) for doi in target_dois]\n",
        "    return ranks\n",
        "\n",
        "\n",
        "def ranks_at_k(\n",
        "        examples: pd.DataFrame,\n",
        "        embedder_name: str,\n",
        "        enricher_name: str,\n",
        "        target_column: str,\n",
        "        top_k: int,\n",
        "        probes: int=256) -> list[int]:\n",
        "    \"\"\"\n",
        "    Calculates the 'ranks' for a given embedding model and enrichment function.\n",
        "    The ranks are the indices of the first chunk with the target doi for each example, i.e.\n",
        "    the lowest k that would retrieve a chunk with the target doi.\n",
        "    \"\"\"\n",
        "\n",
        "    # Setup\n",
        "    print(f\"Embedding model: {embedder_name}, Enricher: {enricher_name}\")\n",
        "    embedder = get_embedder(embedder_name, device=device)\n",
        "    enricher = get_enricher(\n",
        "        enricher_name, path_to_data='data/preprocessed/reviews.jsonl')\n",
        "\n",
        "    # Enrich\n",
        "    texts_with_dois = list(\n",
        "        examples[['sent_no_cit', 'source_doi']].itertuples(index=False, name=None))\n",
        "    enriched_texts = enricher.enrich_batch(texts_with_dois)\n",
        "    embeddings = embedder(enriched_texts)\n",
        "\n",
        "    # Rank\n",
        "    ranks = []\n",
        "    for i in tqdm(range(len(examples))):\n",
        "        embedding = embeddings[i]\n",
        "        example = examples.iloc[i]\n",
        "        ranks += get_ranks(\n",
        "            example=example,\n",
        "            embedding=embedding,\n",
        "            table_name='lib',\n",
        "            target_column=target_column,\n",
        "            top_k=top_k,\n",
        "            probes=probes\n",
        "            )\n",
        "    return ranks"
      ]
    },
    {
      "cell_type": "code",
      "execution_count": 36,
      "metadata": {},
      "outputs": [
        {
          "name": "stdout",
          "output_type": "stream",
          "text": [
            "Embedding model: BAAI/bge-small-en, Enricher: identity\n"
          ]
        },
        {
          "name": "stderr",
          "output_type": "stream",
          "text": [
            "  0%|          | 0/100 [00:00<?, ?it/s]"
          ]
        },
        {
          "name": "stdout",
          "output_type": "stream",
          "text": [
            "Session resources set for query optimization:\n",
            "\n",
            "                SET synchronous_commit = 'on';\n",
            "                -- SET wal_level = 'replica';\n",
            "                -- SET max_wal_size = 'DEFAULT';\n",
            "                SET maintenance_work_mem = '1GB';\n",
            "                -- SET random_page_cost = '1.1';\n",
            "                -- SET parallel_tuple_cost = '0.1';\n",
            "                -- SET parallel_setup_cost = '1000';\n",
            "                SET max_parallel_workers = '60';\n",
            "                SET work_mem = '1GB';\n",
            "                SET max_parallel_workers_per_gather = '60';\n",
            "                -- SET shared_buffers = '28GB';\n",
            "                SET effective_cache_size = '86GB';\n",
            "                -- SET effective_io_concurrency = '200';\n",
            "            \n"
          ]
        },
        {
          "name": "stderr",
          "output_type": "stream",
          "text": [
            "  1%|          | 1/100 [00:00<00:28,  3.50it/s]"
          ]
        },
        {
          "name": "stdout",
          "output_type": "stream",
          "text": [
            "  Query execution time: 0.27 seconds\n",
            "  Found 7000 results\n",
            "top_k: 7000\n",
            "Query time: 0.28s\n",
            "Found 7000 results\n",
            "Session resources set for query optimization:\n",
            "\n",
            "                SET synchronous_commit = 'on';\n",
            "                -- SET wal_level = 'replica';\n",
            "                -- SET max_wal_size = 'DEFAULT';\n",
            "                SET maintenance_work_mem = '1GB';\n",
            "                -- SET random_page_cost = '1.1';\n",
            "                -- SET parallel_tuple_cost = '0.1';\n",
            "                -- SET parallel_setup_cost = '1000';\n",
            "                SET max_parallel_workers = '60';\n",
            "                SET work_mem = '1GB';\n",
            "                SET max_parallel_workers_per_gather = '60';\n",
            "                -- SET shared_buffers = '28GB';\n",
            "                SET effective_cache_size = '86GB';\n",
            "                -- SET effective_io_concurrency = '200';\n",
            "            \n"
          ]
        },
        {
          "name": "stderr",
          "output_type": "stream",
          "text": [
            "  2%|▏         | 2/100 [00:00<00:27,  3.53it/s]"
          ]
        },
        {
          "name": "stdout",
          "output_type": "stream",
          "text": [
            "  Query execution time: 0.27 seconds\n",
            "  Found 7000 results\n",
            "top_k: 7000\n",
            "Query time: 0.28s\n",
            "Found 7000 results\n",
            "Session resources set for query optimization:\n",
            "\n",
            "                SET synchronous_commit = 'on';\n",
            "                -- SET wal_level = 'replica';\n",
            "                -- SET max_wal_size = 'DEFAULT';\n",
            "                SET maintenance_work_mem = '1GB';\n",
            "                -- SET random_page_cost = '1.1';\n",
            "                -- SET parallel_tuple_cost = '0.1';\n",
            "                -- SET parallel_setup_cost = '1000';\n",
            "                SET max_parallel_workers = '60';\n",
            "                SET work_mem = '1GB';\n",
            "                SET max_parallel_workers_per_gather = '60';\n",
            "                -- SET shared_buffers = '28GB';\n",
            "                SET effective_cache_size = '86GB';\n",
            "                -- SET effective_io_concurrency = '200';\n",
            "            \n"
          ]
        },
        {
          "name": "stderr",
          "output_type": "stream",
          "text": [
            "  3%|▎         | 3/100 [00:00<00:26,  3.62it/s]"
          ]
        },
        {
          "name": "stdout",
          "output_type": "stream",
          "text": [
            "  Query execution time: 0.25 seconds\n",
            "  Found 7000 results\n",
            "top_k: 7000\n",
            "Query time: 0.26s\n",
            "Found 7000 results\n",
            "Session resources set for query optimization:\n",
            "\n",
            "                SET synchronous_commit = 'on';\n",
            "                -- SET wal_level = 'replica';\n",
            "                -- SET max_wal_size = 'DEFAULT';\n",
            "                SET maintenance_work_mem = '1GB';\n",
            "                -- SET random_page_cost = '1.1';\n",
            "                -- SET parallel_tuple_cost = '0.1';\n",
            "                -- SET parallel_setup_cost = '1000';\n",
            "                SET max_parallel_workers = '60';\n",
            "                SET work_mem = '1GB';\n",
            "                SET max_parallel_workers_per_gather = '60';\n",
            "                -- SET shared_buffers = '28GB';\n",
            "                SET effective_cache_size = '86GB';\n",
            "                -- SET effective_io_concurrency = '200';\n",
            "            \n"
          ]
        },
        {
          "name": "stderr",
          "output_type": "stream",
          "text": [
            "  4%|▍         | 4/100 [00:01<00:29,  3.23it/s]"
          ]
        },
        {
          "name": "stdout",
          "output_type": "stream",
          "text": [
            "  Query execution time: 0.34 seconds\n",
            "  Found 7000 results\n",
            "top_k: 7000\n",
            "Query time: 0.36s\n",
            "Found 7000 results\n",
            "Session resources set for query optimization:\n",
            "\n",
            "                SET synchronous_commit = 'on';\n",
            "                -- SET wal_level = 'replica';\n",
            "                -- SET max_wal_size = 'DEFAULT';\n",
            "                SET maintenance_work_mem = '1GB';\n",
            "                -- SET random_page_cost = '1.1';\n",
            "                -- SET parallel_tuple_cost = '0.1';\n",
            "                -- SET parallel_setup_cost = '1000';\n",
            "                SET max_parallel_workers = '60';\n",
            "                SET work_mem = '1GB';\n",
            "                SET max_parallel_workers_per_gather = '60';\n",
            "                -- SET shared_buffers = '28GB';\n",
            "                SET effective_cache_size = '86GB';\n",
            "                -- SET effective_io_concurrency = '200';\n",
            "            \n"
          ]
        },
        {
          "name": "stderr",
          "output_type": "stream",
          "text": [
            "  5%|▌         | 5/100 [00:01<00:29,  3.18it/s]"
          ]
        },
        {
          "name": "stdout",
          "output_type": "stream",
          "text": [
            "  Query execution time: 0.31 seconds\n",
            "  Found 7000 results\n",
            "top_k: 7000\n",
            "Query time: 0.32s\n",
            "Found 7000 results\n",
            "Session resources set for query optimization:\n",
            "\n",
            "                SET synchronous_commit = 'on';\n",
            "                -- SET wal_level = 'replica';\n",
            "                -- SET max_wal_size = 'DEFAULT';\n",
            "                SET maintenance_work_mem = '1GB';\n",
            "                -- SET random_page_cost = '1.1';\n",
            "                -- SET parallel_tuple_cost = '0.1';\n",
            "                -- SET parallel_setup_cost = '1000';\n",
            "                SET max_parallel_workers = '60';\n",
            "                SET work_mem = '1GB';\n",
            "                SET max_parallel_workers_per_gather = '60';\n",
            "                -- SET shared_buffers = '28GB';\n",
            "                SET effective_cache_size = '86GB';\n",
            "                -- SET effective_io_concurrency = '200';\n",
            "            \n"
          ]
        },
        {
          "name": "stderr",
          "output_type": "stream",
          "text": [
            "  6%|▌         | 6/100 [00:01<00:28,  3.31it/s]"
          ]
        },
        {
          "name": "stdout",
          "output_type": "stream",
          "text": [
            "  Query execution time: 0.26 seconds\n",
            "  Found 7000 results\n",
            "top_k: 7000\n",
            "Query time: 0.27s\n",
            "Found 7000 results\n",
            "Session resources set for query optimization:\n",
            "\n",
            "                SET synchronous_commit = 'on';\n",
            "                -- SET wal_level = 'replica';\n",
            "                -- SET max_wal_size = 'DEFAULT';\n",
            "                SET maintenance_work_mem = '1GB';\n",
            "                -- SET random_page_cost = '1.1';\n",
            "                -- SET parallel_tuple_cost = '0.1';\n",
            "                -- SET parallel_setup_cost = '1000';\n",
            "                SET max_parallel_workers = '60';\n",
            "                SET work_mem = '1GB';\n",
            "                SET max_parallel_workers_per_gather = '60';\n",
            "                -- SET shared_buffers = '28GB';\n",
            "                SET effective_cache_size = '86GB';\n",
            "                -- SET effective_io_concurrency = '200';\n",
            "            \n"
          ]
        },
        {
          "name": "stderr",
          "output_type": "stream",
          "text": [
            "  7%|▋         | 7/100 [00:02<00:28,  3.30it/s]"
          ]
        },
        {
          "name": "stdout",
          "output_type": "stream",
          "text": [
            "  Query execution time: 0.29 seconds\n",
            "  Found 7000 results\n",
            "top_k: 7000\n",
            "Query time: 0.30s\n",
            "Found 7000 results\n",
            "Session resources set for query optimization:\n",
            "\n",
            "                SET synchronous_commit = 'on';\n",
            "                -- SET wal_level = 'replica';\n",
            "                -- SET max_wal_size = 'DEFAULT';\n",
            "                SET maintenance_work_mem = '1GB';\n",
            "                -- SET random_page_cost = '1.1';\n",
            "                -- SET parallel_tuple_cost = '0.1';\n",
            "                -- SET parallel_setup_cost = '1000';\n",
            "                SET max_parallel_workers = '60';\n",
            "                SET work_mem = '1GB';\n",
            "                SET max_parallel_workers_per_gather = '60';\n",
            "                -- SET shared_buffers = '28GB';\n",
            "                SET effective_cache_size = '86GB';\n",
            "                -- SET effective_io_concurrency = '200';\n",
            "            \n"
          ]
        },
        {
          "name": "stderr",
          "output_type": "stream",
          "text": [
            "  8%|▊         | 8/100 [00:02<00:28,  3.19it/s]"
          ]
        },
        {
          "name": "stdout",
          "output_type": "stream",
          "text": [
            "  Query execution time: 0.32 seconds\n",
            "  Found 7000 results\n",
            "top_k: 7000\n",
            "Query time: 0.33s\n",
            "Found 7000 results\n",
            "Session resources set for query optimization:\n",
            "\n",
            "                SET synchronous_commit = 'on';\n",
            "                -- SET wal_level = 'replica';\n",
            "                -- SET max_wal_size = 'DEFAULT';\n",
            "                SET maintenance_work_mem = '1GB';\n",
            "                -- SET random_page_cost = '1.1';\n",
            "                -- SET parallel_tuple_cost = '0.1';\n",
            "                -- SET parallel_setup_cost = '1000';\n",
            "                SET max_parallel_workers = '60';\n",
            "                SET work_mem = '1GB';\n",
            "                SET max_parallel_workers_per_gather = '60';\n",
            "                -- SET shared_buffers = '28GB';\n",
            "                SET effective_cache_size = '86GB';\n",
            "                -- SET effective_io_concurrency = '200';\n",
            "            \n"
          ]
        },
        {
          "name": "stderr",
          "output_type": "stream",
          "text": [
            "  9%|▉         | 9/100 [00:02<00:27,  3.35it/s]"
          ]
        },
        {
          "name": "stdout",
          "output_type": "stream",
          "text": [
            "  Query execution time: 0.25 seconds\n",
            "  Found 7000 results\n",
            "top_k: 7000\n",
            "Query time: 0.26s\n",
            "Found 7000 results\n",
            "Session resources set for query optimization:\n",
            "\n",
            "                SET synchronous_commit = 'on';\n",
            "                -- SET wal_level = 'replica';\n",
            "                -- SET max_wal_size = 'DEFAULT';\n",
            "                SET maintenance_work_mem = '1GB';\n",
            "                -- SET random_page_cost = '1.1';\n",
            "                -- SET parallel_tuple_cost = '0.1';\n",
            "                -- SET parallel_setup_cost = '1000';\n",
            "                SET max_parallel_workers = '60';\n",
            "                SET work_mem = '1GB';\n",
            "                SET max_parallel_workers_per_gather = '60';\n",
            "                -- SET shared_buffers = '28GB';\n",
            "                SET effective_cache_size = '86GB';\n",
            "                -- SET effective_io_concurrency = '200';\n",
            "            \n"
          ]
        },
        {
          "name": "stderr",
          "output_type": "stream",
          "text": [
            " 10%|█         | 10/100 [00:02<00:26,  3.37it/s]"
          ]
        },
        {
          "name": "stdout",
          "output_type": "stream",
          "text": [
            "  Query execution time: 0.28 seconds\n",
            "  Found 7000 results\n",
            "top_k: 7000\n",
            "Query time: 0.29s\n",
            "Found 7000 results\n",
            "Session resources set for query optimization:\n",
            "\n",
            "                SET synchronous_commit = 'on';\n",
            "                -- SET wal_level = 'replica';\n",
            "                -- SET max_wal_size = 'DEFAULT';\n",
            "                SET maintenance_work_mem = '1GB';\n",
            "                -- SET random_page_cost = '1.1';\n",
            "                -- SET parallel_tuple_cost = '0.1';\n",
            "                -- SET parallel_setup_cost = '1000';\n",
            "                SET max_parallel_workers = '60';\n",
            "                SET work_mem = '1GB';\n",
            "                SET max_parallel_workers_per_gather = '60';\n",
            "                -- SET shared_buffers = '28GB';\n",
            "                SET effective_cache_size = '86GB';\n",
            "                -- SET effective_io_concurrency = '200';\n",
            "            \n"
          ]
        },
        {
          "name": "stderr",
          "output_type": "stream",
          "text": [
            " 11%|█         | 11/100 [00:03<00:26,  3.40it/s]"
          ]
        },
        {
          "name": "stdout",
          "output_type": "stream",
          "text": [
            "  Query execution time: 0.27 seconds\n",
            "  Found 7000 results\n",
            "top_k: 7000\n",
            "Query time: 0.28s\n",
            "Found 7000 results\n",
            "Session resources set for query optimization:\n",
            "\n",
            "                SET synchronous_commit = 'on';\n",
            "                -- SET wal_level = 'replica';\n",
            "                -- SET max_wal_size = 'DEFAULT';\n",
            "                SET maintenance_work_mem = '1GB';\n",
            "                -- SET random_page_cost = '1.1';\n",
            "                -- SET parallel_tuple_cost = '0.1';\n",
            "                -- SET parallel_setup_cost = '1000';\n",
            "                SET max_parallel_workers = '60';\n",
            "                SET work_mem = '1GB';\n",
            "                SET max_parallel_workers_per_gather = '60';\n",
            "                -- SET shared_buffers = '28GB';\n",
            "                SET effective_cache_size = '86GB';\n",
            "                -- SET effective_io_concurrency = '200';\n",
            "            \n"
          ]
        },
        {
          "name": "stderr",
          "output_type": "stream",
          "text": [
            " 12%|█▏        | 12/100 [00:03<00:29,  2.96it/s]"
          ]
        },
        {
          "name": "stdout",
          "output_type": "stream",
          "text": [
            "  Query execution time: 0.27 seconds\n",
            "  Found 7000 results\n",
            "top_k: 7000\n",
            "Query time: 0.43s\n",
            "Found 7000 results\n",
            "Session resources set for query optimization:\n",
            "\n",
            "                SET synchronous_commit = 'on';\n",
            "                -- SET wal_level = 'replica';\n",
            "                -- SET max_wal_size = 'DEFAULT';\n",
            "                SET maintenance_work_mem = '1GB';\n",
            "                -- SET random_page_cost = '1.1';\n",
            "                -- SET parallel_tuple_cost = '0.1';\n",
            "                -- SET parallel_setup_cost = '1000';\n",
            "                SET max_parallel_workers = '60';\n",
            "                SET work_mem = '1GB';\n",
            "                SET max_parallel_workers_per_gather = '60';\n",
            "                -- SET shared_buffers = '28GB';\n",
            "                SET effective_cache_size = '86GB';\n",
            "                -- SET effective_io_concurrency = '200';\n",
            "            \n"
          ]
        },
        {
          "name": "stderr",
          "output_type": "stream",
          "text": [
            " 13%|█▎        | 13/100 [00:04<00:30,  2.82it/s]"
          ]
        },
        {
          "name": "stdout",
          "output_type": "stream",
          "text": [
            "  Query execution time: 0.38 seconds\n",
            "  Found 7000 results\n",
            "top_k: 7000\n",
            "Query time: 0.39s\n",
            "Found 7000 results\n",
            "Session resources set for query optimization:\n",
            "\n",
            "                SET synchronous_commit = 'on';\n",
            "                -- SET wal_level = 'replica';\n",
            "                -- SET max_wal_size = 'DEFAULT';\n",
            "                SET maintenance_work_mem = '1GB';\n",
            "                -- SET random_page_cost = '1.1';\n",
            "                -- SET parallel_tuple_cost = '0.1';\n",
            "                -- SET parallel_setup_cost = '1000';\n",
            "                SET max_parallel_workers = '60';\n",
            "                SET work_mem = '1GB';\n",
            "                SET max_parallel_workers_per_gather = '60';\n",
            "                -- SET shared_buffers = '28GB';\n",
            "                SET effective_cache_size = '86GB';\n",
            "                -- SET effective_io_concurrency = '200';\n",
            "            \n"
          ]
        },
        {
          "name": "stderr",
          "output_type": "stream",
          "text": [
            " 14%|█▍        | 14/100 [00:04<00:29,  2.94it/s]"
          ]
        },
        {
          "name": "stdout",
          "output_type": "stream",
          "text": [
            "  Query execution time: 0.29 seconds\n",
            "  Found 7000 results\n",
            "top_k: 7000\n",
            "Query time: 0.30s\n",
            "Found 7000 results\n",
            "Session resources set for query optimization:\n",
            "\n",
            "                SET synchronous_commit = 'on';\n",
            "                -- SET wal_level = 'replica';\n",
            "                -- SET max_wal_size = 'DEFAULT';\n",
            "                SET maintenance_work_mem = '1GB';\n",
            "                -- SET random_page_cost = '1.1';\n",
            "                -- SET parallel_tuple_cost = '0.1';\n",
            "                -- SET parallel_setup_cost = '1000';\n",
            "                SET max_parallel_workers = '60';\n",
            "                SET work_mem = '1GB';\n",
            "                SET max_parallel_workers_per_gather = '60';\n",
            "                -- SET shared_buffers = '28GB';\n",
            "                SET effective_cache_size = '86GB';\n",
            "                -- SET effective_io_concurrency = '200';\n",
            "            \n"
          ]
        },
        {
          "name": "stderr",
          "output_type": "stream",
          "text": [
            " 15%|█▌        | 15/100 [00:04<00:27,  3.07it/s]"
          ]
        },
        {
          "name": "stdout",
          "output_type": "stream",
          "text": [
            "  Query execution time: 0.28 seconds\n",
            "  Found 7000 results\n",
            "top_k: 7000\n",
            "Query time: 0.29s\n",
            "Found 7000 results\n",
            "Session resources set for query optimization:\n",
            "\n",
            "                SET synchronous_commit = 'on';\n",
            "                -- SET wal_level = 'replica';\n",
            "                -- SET max_wal_size = 'DEFAULT';\n",
            "                SET maintenance_work_mem = '1GB';\n",
            "                -- SET random_page_cost = '1.1';\n",
            "                -- SET parallel_tuple_cost = '0.1';\n",
            "                -- SET parallel_setup_cost = '1000';\n",
            "                SET max_parallel_workers = '60';\n",
            "                SET work_mem = '1GB';\n",
            "                SET max_parallel_workers_per_gather = '60';\n",
            "                -- SET shared_buffers = '28GB';\n",
            "                SET effective_cache_size = '86GB';\n",
            "                -- SET effective_io_concurrency = '200';\n",
            "            \n"
          ]
        },
        {
          "name": "stderr",
          "output_type": "stream",
          "text": [
            " 16%|█▌        | 16/100 [00:04<00:26,  3.18it/s]"
          ]
        },
        {
          "name": "stdout",
          "output_type": "stream",
          "text": [
            "  Query execution time: 0.27 seconds\n",
            "  Found 7000 results\n",
            "top_k: 7000\n",
            "Query time: 0.28s\n",
            "Found 7000 results\n",
            "Session resources set for query optimization:\n",
            "\n",
            "                SET synchronous_commit = 'on';\n",
            "                -- SET wal_level = 'replica';\n",
            "                -- SET max_wal_size = 'DEFAULT';\n",
            "                SET maintenance_work_mem = '1GB';\n",
            "                -- SET random_page_cost = '1.1';\n",
            "                -- SET parallel_tuple_cost = '0.1';\n",
            "                -- SET parallel_setup_cost = '1000';\n",
            "                SET max_parallel_workers = '60';\n",
            "                SET work_mem = '1GB';\n",
            "                SET max_parallel_workers_per_gather = '60';\n",
            "                -- SET shared_buffers = '28GB';\n",
            "                SET effective_cache_size = '86GB';\n",
            "                -- SET effective_io_concurrency = '200';\n",
            "            \n"
          ]
        },
        {
          "name": "stderr",
          "output_type": "stream",
          "text": [
            " 17%|█▋        | 17/100 [00:05<00:24,  3.33it/s]"
          ]
        },
        {
          "name": "stdout",
          "output_type": "stream",
          "text": [
            "  Query execution time: 0.25 seconds\n",
            "  Found 7000 results\n",
            "top_k: 7000\n",
            "Query time: 0.27s\n",
            "Found 7000 results\n",
            "Session resources set for query optimization:\n",
            "\n",
            "                SET synchronous_commit = 'on';\n",
            "                -- SET wal_level = 'replica';\n",
            "                -- SET max_wal_size = 'DEFAULT';\n",
            "                SET maintenance_work_mem = '1GB';\n",
            "                -- SET random_page_cost = '1.1';\n",
            "                -- SET parallel_tuple_cost = '0.1';\n",
            "                -- SET parallel_setup_cost = '1000';\n",
            "                SET max_parallel_workers = '60';\n",
            "                SET work_mem = '1GB';\n",
            "                SET max_parallel_workers_per_gather = '60';\n",
            "                -- SET shared_buffers = '28GB';\n",
            "                SET effective_cache_size = '86GB';\n",
            "                -- SET effective_io_concurrency = '200';\n",
            "            \n"
          ]
        },
        {
          "name": "stderr",
          "output_type": "stream",
          "text": [
            " 18%|█▊        | 18/100 [00:05<00:27,  3.03it/s]"
          ]
        },
        {
          "name": "stdout",
          "output_type": "stream",
          "text": [
            "  Query execution time: 0.38 seconds\n",
            "  Found 7000 results\n",
            "top_k: 7000\n",
            "Query time: 0.39s\n",
            "Found 7000 results\n",
            "Session resources set for query optimization:\n",
            "\n",
            "                SET synchronous_commit = 'on';\n",
            "                -- SET wal_level = 'replica';\n",
            "                -- SET max_wal_size = 'DEFAULT';\n",
            "                SET maintenance_work_mem = '1GB';\n",
            "                -- SET random_page_cost = '1.1';\n",
            "                -- SET parallel_tuple_cost = '0.1';\n",
            "                -- SET parallel_setup_cost = '1000';\n",
            "                SET max_parallel_workers = '60';\n",
            "                SET work_mem = '1GB';\n",
            "                SET max_parallel_workers_per_gather = '60';\n",
            "                -- SET shared_buffers = '28GB';\n",
            "                SET effective_cache_size = '86GB';\n",
            "                -- SET effective_io_concurrency = '200';\n",
            "            \n"
          ]
        },
        {
          "name": "stderr",
          "output_type": "stream",
          "text": [
            " 19%|█▉        | 19/100 [00:05<00:25,  3.19it/s]"
          ]
        },
        {
          "name": "stdout",
          "output_type": "stream",
          "text": [
            "  Query execution time: 0.26 seconds\n",
            "  Found 7000 results\n",
            "top_k: 7000\n",
            "Query time: 0.27s\n",
            "Found 7000 results\n",
            "Session resources set for query optimization:\n",
            "\n",
            "                SET synchronous_commit = 'on';\n",
            "                -- SET wal_level = 'replica';\n",
            "                -- SET max_wal_size = 'DEFAULT';\n",
            "                SET maintenance_work_mem = '1GB';\n",
            "                -- SET random_page_cost = '1.1';\n",
            "                -- SET parallel_tuple_cost = '0.1';\n",
            "                -- SET parallel_setup_cost = '1000';\n",
            "                SET max_parallel_workers = '60';\n",
            "                SET work_mem = '1GB';\n",
            "                SET max_parallel_workers_per_gather = '60';\n",
            "                -- SET shared_buffers = '28GB';\n",
            "                SET effective_cache_size = '86GB';\n",
            "                -- SET effective_io_concurrency = '200';\n",
            "            \n"
          ]
        },
        {
          "name": "stderr",
          "output_type": "stream",
          "text": [
            " 20%|██        | 20/100 [00:06<00:24,  3.25it/s]"
          ]
        },
        {
          "name": "stdout",
          "output_type": "stream",
          "text": [
            "  Query execution time: 0.28 seconds\n",
            "  Found 7000 results\n",
            "top_k: 7000\n",
            "Query time: 0.29s\n",
            "Found 7000 results\n",
            "Session resources set for query optimization:\n",
            "\n",
            "                SET synchronous_commit = 'on';\n",
            "                -- SET wal_level = 'replica';\n",
            "                -- SET max_wal_size = 'DEFAULT';\n",
            "                SET maintenance_work_mem = '1GB';\n",
            "                -- SET random_page_cost = '1.1';\n",
            "                -- SET parallel_tuple_cost = '0.1';\n",
            "                -- SET parallel_setup_cost = '1000';\n",
            "                SET max_parallel_workers = '60';\n",
            "                SET work_mem = '1GB';\n",
            "                SET max_parallel_workers_per_gather = '60';\n",
            "                -- SET shared_buffers = '28GB';\n",
            "                SET effective_cache_size = '86GB';\n",
            "                -- SET effective_io_concurrency = '200';\n",
            "            \n"
          ]
        },
        {
          "name": "stderr",
          "output_type": "stream",
          "text": [
            " 21%|██        | 21/100 [00:06<00:24,  3.26it/s]"
          ]
        },
        {
          "name": "stdout",
          "output_type": "stream",
          "text": [
            "  Query execution time: 0.29 seconds\n",
            "  Found 7000 results\n",
            "top_k: 7000\n",
            "Query time: 0.30s\n",
            "Found 7000 results\n",
            "Session resources set for query optimization:\n",
            "\n",
            "                SET synchronous_commit = 'on';\n",
            "                -- SET wal_level = 'replica';\n",
            "                -- SET max_wal_size = 'DEFAULT';\n",
            "                SET maintenance_work_mem = '1GB';\n",
            "                -- SET random_page_cost = '1.1';\n",
            "                -- SET parallel_tuple_cost = '0.1';\n",
            "                -- SET parallel_setup_cost = '1000';\n",
            "                SET max_parallel_workers = '60';\n",
            "                SET work_mem = '1GB';\n",
            "                SET max_parallel_workers_per_gather = '60';\n",
            "                -- SET shared_buffers = '28GB';\n",
            "                SET effective_cache_size = '86GB';\n",
            "                -- SET effective_io_concurrency = '200';\n",
            "            \n"
          ]
        },
        {
          "name": "stderr",
          "output_type": "stream",
          "text": [
            " 22%|██▏       | 22/100 [00:06<00:24,  3.23it/s]"
          ]
        },
        {
          "name": "stdout",
          "output_type": "stream",
          "text": [
            "  Query execution time: 0.30 seconds\n",
            "  Found 7000 results\n",
            "top_k: 7000\n",
            "Query time: 0.31s\n",
            "Found 7000 results\n",
            "Session resources set for query optimization:\n",
            "\n",
            "                SET synchronous_commit = 'on';\n",
            "                -- SET wal_level = 'replica';\n",
            "                -- SET max_wal_size = 'DEFAULT';\n",
            "                SET maintenance_work_mem = '1GB';\n",
            "                -- SET random_page_cost = '1.1';\n",
            "                -- SET parallel_tuple_cost = '0.1';\n",
            "                -- SET parallel_setup_cost = '1000';\n",
            "                SET max_parallel_workers = '60';\n",
            "                SET work_mem = '1GB';\n",
            "                SET max_parallel_workers_per_gather = '60';\n",
            "                -- SET shared_buffers = '28GB';\n",
            "                SET effective_cache_size = '86GB';\n",
            "                -- SET effective_io_concurrency = '200';\n",
            "            \n"
          ]
        },
        {
          "name": "stderr",
          "output_type": "stream",
          "text": [
            " 23%|██▎       | 23/100 [00:07<00:25,  2.97it/s]"
          ]
        },
        {
          "name": "stdout",
          "output_type": "stream",
          "text": [
            "  Query execution time: 0.38 seconds\n",
            "  Found 7000 results\n",
            "top_k: 7000\n",
            "Query time: 0.40s\n",
            "Found 7000 results\n",
            "Session resources set for query optimization:\n",
            "\n",
            "                SET synchronous_commit = 'on';\n",
            "                -- SET wal_level = 'replica';\n",
            "                -- SET max_wal_size = 'DEFAULT';\n",
            "                SET maintenance_work_mem = '1GB';\n",
            "                -- SET random_page_cost = '1.1';\n",
            "                -- SET parallel_tuple_cost = '0.1';\n",
            "                -- SET parallel_setup_cost = '1000';\n",
            "                SET max_parallel_workers = '60';\n",
            "                SET work_mem = '1GB';\n",
            "                SET max_parallel_workers_per_gather = '60';\n",
            "                -- SET shared_buffers = '28GB';\n",
            "                SET effective_cache_size = '86GB';\n",
            "                -- SET effective_io_concurrency = '200';\n",
            "            \n"
          ]
        },
        {
          "name": "stderr",
          "output_type": "stream",
          "text": [
            " 24%|██▍       | 24/100 [00:07<00:24,  3.16it/s]"
          ]
        },
        {
          "name": "stdout",
          "output_type": "stream",
          "text": [
            "  Query execution time: 0.25 seconds\n",
            "  Found 7000 results\n",
            "top_k: 7000\n",
            "Query time: 0.27s\n",
            "Found 7000 results\n",
            "Session resources set for query optimization:\n",
            "\n",
            "                SET synchronous_commit = 'on';\n",
            "                -- SET wal_level = 'replica';\n",
            "                -- SET max_wal_size = 'DEFAULT';\n",
            "                SET maintenance_work_mem = '1GB';\n",
            "                -- SET random_page_cost = '1.1';\n",
            "                -- SET parallel_tuple_cost = '0.1';\n",
            "                -- SET parallel_setup_cost = '1000';\n",
            "                SET max_parallel_workers = '60';\n",
            "                SET work_mem = '1GB';\n",
            "                SET max_parallel_workers_per_gather = '60';\n",
            "                -- SET shared_buffers = '28GB';\n",
            "                SET effective_cache_size = '86GB';\n",
            "                -- SET effective_io_concurrency = '200';\n",
            "            \n"
          ]
        },
        {
          "name": "stderr",
          "output_type": "stream",
          "text": [
            " 25%|██▌       | 25/100 [00:07<00:22,  3.29it/s]"
          ]
        },
        {
          "name": "stdout",
          "output_type": "stream",
          "text": [
            "  Query execution time: 0.26 seconds\n",
            "  Found 7000 results\n",
            "top_k: 7000\n",
            "Query time: 0.27s\n",
            "Found 7000 results\n",
            "Session resources set for query optimization:\n",
            "\n",
            "                SET synchronous_commit = 'on';\n",
            "                -- SET wal_level = 'replica';\n",
            "                -- SET max_wal_size = 'DEFAULT';\n",
            "                SET maintenance_work_mem = '1GB';\n",
            "                -- SET random_page_cost = '1.1';\n",
            "                -- SET parallel_tuple_cost = '0.1';\n",
            "                -- SET parallel_setup_cost = '1000';\n",
            "                SET max_parallel_workers = '60';\n",
            "                SET work_mem = '1GB';\n",
            "                SET max_parallel_workers_per_gather = '60';\n",
            "                -- SET shared_buffers = '28GB';\n",
            "                SET effective_cache_size = '86GB';\n",
            "                -- SET effective_io_concurrency = '200';\n",
            "            \n"
          ]
        },
        {
          "name": "stderr",
          "output_type": "stream",
          "text": [
            " 26%|██▌       | 26/100 [00:08<00:23,  3.18it/s]"
          ]
        },
        {
          "name": "stdout",
          "output_type": "stream",
          "text": [
            "  Query execution time: 0.32 seconds\n",
            "  Found 7000 results\n",
            "top_k: 7000\n",
            "Query time: 0.34s\n",
            "Found 7000 results\n",
            "Session resources set for query optimization:\n",
            "\n",
            "                SET synchronous_commit = 'on';\n",
            "                -- SET wal_level = 'replica';\n",
            "                -- SET max_wal_size = 'DEFAULT';\n",
            "                SET maintenance_work_mem = '1GB';\n",
            "                -- SET random_page_cost = '1.1';\n",
            "                -- SET parallel_tuple_cost = '0.1';\n",
            "                -- SET parallel_setup_cost = '1000';\n",
            "                SET max_parallel_workers = '60';\n",
            "                SET work_mem = '1GB';\n",
            "                SET max_parallel_workers_per_gather = '60';\n",
            "                -- SET shared_buffers = '28GB';\n",
            "                SET effective_cache_size = '86GB';\n",
            "                -- SET effective_io_concurrency = '200';\n",
            "            \n"
          ]
        },
        {
          "name": "stderr",
          "output_type": "stream",
          "text": [
            " 27%|██▋       | 27/100 [00:08<00:21,  3.36it/s]"
          ]
        },
        {
          "name": "stdout",
          "output_type": "stream",
          "text": [
            "  Query execution time: 0.24 seconds\n",
            "  Found 7000 results\n",
            "top_k: 7000\n",
            "Query time: 0.26s\n",
            "Found 7000 results\n",
            "Session resources set for query optimization:\n",
            "\n",
            "                SET synchronous_commit = 'on';\n",
            "                -- SET wal_level = 'replica';\n",
            "                -- SET max_wal_size = 'DEFAULT';\n",
            "                SET maintenance_work_mem = '1GB';\n",
            "                -- SET random_page_cost = '1.1';\n",
            "                -- SET parallel_tuple_cost = '0.1';\n",
            "                -- SET parallel_setup_cost = '1000';\n",
            "                SET max_parallel_workers = '60';\n",
            "                SET work_mem = '1GB';\n",
            "                SET max_parallel_workers_per_gather = '60';\n",
            "                -- SET shared_buffers = '28GB';\n",
            "                SET effective_cache_size = '86GB';\n",
            "                -- SET effective_io_concurrency = '200';\n",
            "            \n"
          ]
        },
        {
          "name": "stderr",
          "output_type": "stream",
          "text": [
            " 28%|██▊       | 28/100 [00:08<00:21,  3.29it/s]"
          ]
        },
        {
          "name": "stdout",
          "output_type": "stream",
          "text": [
            "  Query execution time: 0.30 seconds\n",
            "  Found 7000 results\n",
            "top_k: 7000\n",
            "Query time: 0.31s\n",
            "Found 7000 results\n",
            "Session resources set for query optimization:\n",
            "\n",
            "                SET synchronous_commit = 'on';\n",
            "                -- SET wal_level = 'replica';\n",
            "                -- SET max_wal_size = 'DEFAULT';\n",
            "                SET maintenance_work_mem = '1GB';\n",
            "                -- SET random_page_cost = '1.1';\n",
            "                -- SET parallel_tuple_cost = '0.1';\n",
            "                -- SET parallel_setup_cost = '1000';\n",
            "                SET max_parallel_workers = '60';\n",
            "                SET work_mem = '1GB';\n",
            "                SET max_parallel_workers_per_gather = '60';\n",
            "                -- SET shared_buffers = '28GB';\n",
            "                SET effective_cache_size = '86GB';\n",
            "                -- SET effective_io_concurrency = '200';\n",
            "            \n"
          ]
        },
        {
          "name": "stderr",
          "output_type": "stream",
          "text": [
            " 29%|██▉       | 29/100 [00:09<00:23,  3.02it/s]"
          ]
        },
        {
          "name": "stdout",
          "output_type": "stream",
          "text": [
            "  Query execution time: 0.38 seconds\n",
            "  Found 7000 results\n",
            "top_k: 7000\n",
            "Query time: 0.39s\n",
            "Found 7000 results\n",
            "Session resources set for query optimization:\n",
            "\n",
            "                SET synchronous_commit = 'on';\n",
            "                -- SET wal_level = 'replica';\n",
            "                -- SET max_wal_size = 'DEFAULT';\n",
            "                SET maintenance_work_mem = '1GB';\n",
            "                -- SET random_page_cost = '1.1';\n",
            "                -- SET parallel_tuple_cost = '0.1';\n",
            "                -- SET parallel_setup_cost = '1000';\n",
            "                SET max_parallel_workers = '60';\n",
            "                SET work_mem = '1GB';\n",
            "                SET max_parallel_workers_per_gather = '60';\n",
            "                -- SET shared_buffers = '28GB';\n",
            "                SET effective_cache_size = '86GB';\n",
            "                -- SET effective_io_concurrency = '200';\n",
            "            \n"
          ]
        },
        {
          "name": "stderr",
          "output_type": "stream",
          "text": [
            " 30%|███       | 30/100 [00:09<00:23,  3.01it/s]"
          ]
        },
        {
          "name": "stdout",
          "output_type": "stream",
          "text": [
            "  Query execution time: 0.32 seconds\n",
            "  Found 7000 results\n",
            "top_k: 7000\n",
            "Query time: 0.33s\n",
            "Found 7000 results\n",
            "Session resources set for query optimization:\n",
            "\n",
            "                SET synchronous_commit = 'on';\n",
            "                -- SET wal_level = 'replica';\n",
            "                -- SET max_wal_size = 'DEFAULT';\n",
            "                SET maintenance_work_mem = '1GB';\n",
            "                -- SET random_page_cost = '1.1';\n",
            "                -- SET parallel_tuple_cost = '0.1';\n",
            "                -- SET parallel_setup_cost = '1000';\n",
            "                SET max_parallel_workers = '60';\n",
            "                SET work_mem = '1GB';\n",
            "                SET max_parallel_workers_per_gather = '60';\n",
            "                -- SET shared_buffers = '28GB';\n",
            "                SET effective_cache_size = '86GB';\n",
            "                -- SET effective_io_concurrency = '200';\n",
            "            \n"
          ]
        },
        {
          "name": "stderr",
          "output_type": "stream",
          "text": [
            " 31%|███       | 31/100 [00:09<00:22,  3.05it/s]"
          ]
        },
        {
          "name": "stdout",
          "output_type": "stream",
          "text": [
            "  Query execution time: 0.30 seconds\n",
            "  Found 7000 results\n",
            "top_k: 7000\n",
            "Query time: 0.32s\n",
            "Found 7000 results\n",
            "Session resources set for query optimization:\n",
            "\n",
            "                SET synchronous_commit = 'on';\n",
            "                -- SET wal_level = 'replica';\n",
            "                -- SET max_wal_size = 'DEFAULT';\n",
            "                SET maintenance_work_mem = '1GB';\n",
            "                -- SET random_page_cost = '1.1';\n",
            "                -- SET parallel_tuple_cost = '0.1';\n",
            "                -- SET parallel_setup_cost = '1000';\n",
            "                SET max_parallel_workers = '60';\n",
            "                SET work_mem = '1GB';\n",
            "                SET max_parallel_workers_per_gather = '60';\n",
            "                -- SET shared_buffers = '28GB';\n",
            "                SET effective_cache_size = '86GB';\n",
            "                -- SET effective_io_concurrency = '200';\n",
            "            \n"
          ]
        },
        {
          "name": "stderr",
          "output_type": "stream",
          "text": [
            " 32%|███▏      | 32/100 [00:10<00:21,  3.11it/s]"
          ]
        },
        {
          "name": "stdout",
          "output_type": "stream",
          "text": [
            "  Query execution time: 0.29 seconds\n",
            "  Found 7000 results\n",
            "top_k: 7000\n",
            "Query time: 0.31s\n",
            "Found 7000 results\n",
            "Session resources set for query optimization:\n",
            "\n",
            "                SET synchronous_commit = 'on';\n",
            "                -- SET wal_level = 'replica';\n",
            "                -- SET max_wal_size = 'DEFAULT';\n",
            "                SET maintenance_work_mem = '1GB';\n",
            "                -- SET random_page_cost = '1.1';\n",
            "                -- SET parallel_tuple_cost = '0.1';\n",
            "                -- SET parallel_setup_cost = '1000';\n",
            "                SET max_parallel_workers = '60';\n",
            "                SET work_mem = '1GB';\n",
            "                SET max_parallel_workers_per_gather = '60';\n",
            "                -- SET shared_buffers = '28GB';\n",
            "                SET effective_cache_size = '86GB';\n",
            "                -- SET effective_io_concurrency = '200';\n",
            "            \n"
          ]
        },
        {
          "name": "stderr",
          "output_type": "stream",
          "text": [
            " 33%|███▎      | 33/100 [00:10<00:24,  2.76it/s]"
          ]
        },
        {
          "name": "stdout",
          "output_type": "stream",
          "text": [
            "  Query execution time: 0.44 seconds\n",
            "  Found 7000 results\n",
            "top_k: 7000\n",
            "Query time: 0.45s\n",
            "Found 7000 results\n",
            "Session resources set for query optimization:\n",
            "\n",
            "                SET synchronous_commit = 'on';\n",
            "                -- SET wal_level = 'replica';\n",
            "                -- SET max_wal_size = 'DEFAULT';\n",
            "                SET maintenance_work_mem = '1GB';\n",
            "                -- SET random_page_cost = '1.1';\n",
            "                -- SET parallel_tuple_cost = '0.1';\n",
            "                -- SET parallel_setup_cost = '1000';\n",
            "                SET max_parallel_workers = '60';\n",
            "                SET work_mem = '1GB';\n",
            "                SET max_parallel_workers_per_gather = '60';\n",
            "                -- SET shared_buffers = '28GB';\n",
            "                SET effective_cache_size = '86GB';\n",
            "                -- SET effective_io_concurrency = '200';\n",
            "            \n"
          ]
        },
        {
          "name": "stderr",
          "output_type": "stream",
          "text": [
            " 34%|███▍      | 34/100 [00:10<00:25,  2.59it/s]"
          ]
        },
        {
          "name": "stdout",
          "output_type": "stream",
          "text": [
            "  Query execution time: 0.27 seconds\n",
            "  Found 7000 results\n",
            "top_k: 7000\n",
            "Query time: 0.44s\n",
            "Found 7000 results\n",
            "Session resources set for query optimization:\n",
            "\n",
            "                SET synchronous_commit = 'on';\n",
            "                -- SET wal_level = 'replica';\n",
            "                -- SET max_wal_size = 'DEFAULT';\n",
            "                SET maintenance_work_mem = '1GB';\n",
            "                -- SET random_page_cost = '1.1';\n",
            "                -- SET parallel_tuple_cost = '0.1';\n",
            "                -- SET parallel_setup_cost = '1000';\n",
            "                SET max_parallel_workers = '60';\n",
            "                SET work_mem = '1GB';\n",
            "                SET max_parallel_workers_per_gather = '60';\n",
            "                -- SET shared_buffers = '28GB';\n",
            "                SET effective_cache_size = '86GB';\n",
            "                -- SET effective_io_concurrency = '200';\n",
            "            \n"
          ]
        },
        {
          "name": "stderr",
          "output_type": "stream",
          "text": [
            " 35%|███▌      | 35/100 [00:11<00:24,  2.61it/s]"
          ]
        },
        {
          "name": "stdout",
          "output_type": "stream",
          "text": [
            "  Query execution time: 0.35 seconds\n",
            "  Found 7000 results\n",
            "top_k: 7000\n",
            "Query time: 0.37s\n",
            "Found 7000 results\n",
            "Session resources set for query optimization:\n",
            "\n",
            "                SET synchronous_commit = 'on';\n",
            "                -- SET wal_level = 'replica';\n",
            "                -- SET max_wal_size = 'DEFAULT';\n",
            "                SET maintenance_work_mem = '1GB';\n",
            "                -- SET random_page_cost = '1.1';\n",
            "                -- SET parallel_tuple_cost = '0.1';\n",
            "                -- SET parallel_setup_cost = '1000';\n",
            "                SET max_parallel_workers = '60';\n",
            "                SET work_mem = '1GB';\n",
            "                SET max_parallel_workers_per_gather = '60';\n",
            "                -- SET shared_buffers = '28GB';\n",
            "                SET effective_cache_size = '86GB';\n",
            "                -- SET effective_io_concurrency = '200';\n",
            "            \n"
          ]
        },
        {
          "name": "stderr",
          "output_type": "stream",
          "text": [
            " 36%|███▌      | 36/100 [00:11<00:24,  2.58it/s]"
          ]
        },
        {
          "name": "stdout",
          "output_type": "stream",
          "text": [
            "  Query execution time: 0.38 seconds\n",
            "  Found 7000 results\n",
            "top_k: 7000\n",
            "Query time: 0.40s\n",
            "Found 7000 results\n",
            "Session resources set for query optimization:\n",
            "\n",
            "                SET synchronous_commit = 'on';\n",
            "                -- SET wal_level = 'replica';\n",
            "                -- SET max_wal_size = 'DEFAULT';\n",
            "                SET maintenance_work_mem = '1GB';\n",
            "                -- SET random_page_cost = '1.1';\n",
            "                -- SET parallel_tuple_cost = '0.1';\n",
            "                -- SET parallel_setup_cost = '1000';\n",
            "                SET max_parallel_workers = '60';\n",
            "                SET work_mem = '1GB';\n",
            "                SET max_parallel_workers_per_gather = '60';\n",
            "                -- SET shared_buffers = '28GB';\n",
            "                SET effective_cache_size = '86GB';\n",
            "                -- SET effective_io_concurrency = '200';\n",
            "            \n"
          ]
        },
        {
          "name": "stderr",
          "output_type": "stream",
          "text": [
            " 37%|███▋      | 37/100 [00:11<00:21,  2.88it/s]"
          ]
        },
        {
          "name": "stdout",
          "output_type": "stream",
          "text": [
            "  Query execution time: 0.24 seconds\n",
            "  Found 7000 results\n",
            "top_k: 7000\n",
            "Query time: 0.25s\n",
            "Found 7000 results\n",
            "Session resources set for query optimization:\n",
            "\n",
            "                SET synchronous_commit = 'on';\n",
            "                -- SET wal_level = 'replica';\n",
            "                -- SET max_wal_size = 'DEFAULT';\n",
            "                SET maintenance_work_mem = '1GB';\n",
            "                -- SET random_page_cost = '1.1';\n",
            "                -- SET parallel_tuple_cost = '0.1';\n",
            "                -- SET parallel_setup_cost = '1000';\n",
            "                SET max_parallel_workers = '60';\n",
            "                SET work_mem = '1GB';\n",
            "                SET max_parallel_workers_per_gather = '60';\n",
            "                -- SET shared_buffers = '28GB';\n",
            "                SET effective_cache_size = '86GB';\n",
            "                -- SET effective_io_concurrency = '200';\n",
            "            \n"
          ]
        },
        {
          "name": "stderr",
          "output_type": "stream",
          "text": [
            " 38%|███▊      | 38/100 [00:12<00:20,  3.03it/s]"
          ]
        },
        {
          "name": "stdout",
          "output_type": "stream",
          "text": [
            "  Query execution time: 0.27 seconds\n",
            "  Found 7000 results\n",
            "top_k: 7000\n",
            "Query time: 0.29s\n",
            "Found 7000 results\n",
            "Session resources set for query optimization:\n",
            "\n",
            "                SET synchronous_commit = 'on';\n",
            "                -- SET wal_level = 'replica';\n",
            "                -- SET max_wal_size = 'DEFAULT';\n",
            "                SET maintenance_work_mem = '1GB';\n",
            "                -- SET random_page_cost = '1.1';\n",
            "                -- SET parallel_tuple_cost = '0.1';\n",
            "                -- SET parallel_setup_cost = '1000';\n",
            "                SET max_parallel_workers = '60';\n",
            "                SET work_mem = '1GB';\n",
            "                SET max_parallel_workers_per_gather = '60';\n",
            "                -- SET shared_buffers = '28GB';\n",
            "                SET effective_cache_size = '86GB';\n",
            "                -- SET effective_io_concurrency = '200';\n",
            "            \n"
          ]
        },
        {
          "name": "stderr",
          "output_type": "stream",
          "text": [
            " 39%|███▉      | 39/100 [00:12<00:21,  2.88it/s]"
          ]
        },
        {
          "name": "stdout",
          "output_type": "stream",
          "text": [
            "  Query execution time: 0.37 seconds\n",
            "  Found 7000 results\n",
            "top_k: 7000\n",
            "Query time: 0.38s\n",
            "Found 7000 results\n",
            "Session resources set for query optimization:\n",
            "\n",
            "                SET synchronous_commit = 'on';\n",
            "                -- SET wal_level = 'replica';\n",
            "                -- SET max_wal_size = 'DEFAULT';\n",
            "                SET maintenance_work_mem = '1GB';\n",
            "                -- SET random_page_cost = '1.1';\n",
            "                -- SET parallel_tuple_cost = '0.1';\n",
            "                -- SET parallel_setup_cost = '1000';\n",
            "                SET max_parallel_workers = '60';\n",
            "                SET work_mem = '1GB';\n",
            "                SET max_parallel_workers_per_gather = '60';\n",
            "                -- SET shared_buffers = '28GB';\n",
            "                SET effective_cache_size = '86GB';\n",
            "                -- SET effective_io_concurrency = '200';\n",
            "            \n"
          ]
        },
        {
          "name": "stderr",
          "output_type": "stream",
          "text": [
            " 40%|████      | 40/100 [00:12<00:20,  2.99it/s]"
          ]
        },
        {
          "name": "stdout",
          "output_type": "stream",
          "text": [
            "  Query execution time: 0.29 seconds\n",
            "  Found 7000 results\n",
            "top_k: 7000\n",
            "Query time: 0.30s\n",
            "Found 7000 results\n",
            "Session resources set for query optimization:\n",
            "\n",
            "                SET synchronous_commit = 'on';\n",
            "                -- SET wal_level = 'replica';\n",
            "                -- SET max_wal_size = 'DEFAULT';\n",
            "                SET maintenance_work_mem = '1GB';\n",
            "                -- SET random_page_cost = '1.1';\n",
            "                -- SET parallel_tuple_cost = '0.1';\n",
            "                -- SET parallel_setup_cost = '1000';\n",
            "                SET max_parallel_workers = '60';\n",
            "                SET work_mem = '1GB';\n",
            "                SET max_parallel_workers_per_gather = '60';\n",
            "                -- SET shared_buffers = '28GB';\n",
            "                SET effective_cache_size = '86GB';\n",
            "                -- SET effective_io_concurrency = '200';\n",
            "            \n"
          ]
        },
        {
          "name": "stderr",
          "output_type": "stream",
          "text": [
            " 41%|████      | 41/100 [00:13<00:19,  3.10it/s]"
          ]
        },
        {
          "name": "stdout",
          "output_type": "stream",
          "text": [
            "  Query execution time: 0.28 seconds\n",
            "  Found 7000 results\n",
            "top_k: 7000\n",
            "Query time: 0.29s\n",
            "Found 7000 results\n",
            "Session resources set for query optimization:\n",
            "\n",
            "                SET synchronous_commit = 'on';\n",
            "                -- SET wal_level = 'replica';\n",
            "                -- SET max_wal_size = 'DEFAULT';\n",
            "                SET maintenance_work_mem = '1GB';\n",
            "                -- SET random_page_cost = '1.1';\n",
            "                -- SET parallel_tuple_cost = '0.1';\n",
            "                -- SET parallel_setup_cost = '1000';\n",
            "                SET max_parallel_workers = '60';\n",
            "                SET work_mem = '1GB';\n",
            "                SET max_parallel_workers_per_gather = '60';\n",
            "                -- SET shared_buffers = '28GB';\n",
            "                SET effective_cache_size = '86GB';\n",
            "                -- SET effective_io_concurrency = '200';\n",
            "            \n"
          ]
        },
        {
          "name": "stderr",
          "output_type": "stream",
          "text": [
            " 42%|████▏     | 42/100 [00:13<00:20,  2.78it/s]"
          ]
        },
        {
          "name": "stdout",
          "output_type": "stream",
          "text": [
            "  Query execution time: 0.41 seconds\n",
            "  Found 7000 results\n",
            "top_k: 7000\n",
            "Query time: 0.44s\n",
            "Found 7000 results\n",
            "Session resources set for query optimization:\n",
            "\n",
            "                SET synchronous_commit = 'on';\n",
            "                -- SET wal_level = 'replica';\n",
            "                -- SET max_wal_size = 'DEFAULT';\n",
            "                SET maintenance_work_mem = '1GB';\n",
            "                -- SET random_page_cost = '1.1';\n",
            "                -- SET parallel_tuple_cost = '0.1';\n",
            "                -- SET parallel_setup_cost = '1000';\n",
            "                SET max_parallel_workers = '60';\n",
            "                SET work_mem = '1GB';\n",
            "                SET max_parallel_workers_per_gather = '60';\n",
            "                -- SET shared_buffers = '28GB';\n",
            "                SET effective_cache_size = '86GB';\n",
            "                -- SET effective_io_concurrency = '200';\n",
            "            \n"
          ]
        },
        {
          "name": "stderr",
          "output_type": "stream",
          "text": [
            " 43%|████▎     | 43/100 [00:14<00:19,  2.94it/s]"
          ]
        },
        {
          "name": "stdout",
          "output_type": "stream",
          "text": [
            "  Query execution time: 0.28 seconds\n",
            "  Found 7000 results\n",
            "top_k: 7000\n",
            "Query time: 0.29s\n",
            "Found 7000 results\n",
            "Session resources set for query optimization:\n",
            "\n",
            "                SET synchronous_commit = 'on';\n",
            "                -- SET wal_level = 'replica';\n",
            "                -- SET max_wal_size = 'DEFAULT';\n",
            "                SET maintenance_work_mem = '1GB';\n",
            "                -- SET random_page_cost = '1.1';\n",
            "                -- SET parallel_tuple_cost = '0.1';\n",
            "                -- SET parallel_setup_cost = '1000';\n",
            "                SET max_parallel_workers = '60';\n",
            "                SET work_mem = '1GB';\n",
            "                SET max_parallel_workers_per_gather = '60';\n",
            "                -- SET shared_buffers = '28GB';\n",
            "                SET effective_cache_size = '86GB';\n",
            "                -- SET effective_io_concurrency = '200';\n",
            "            \n"
          ]
        },
        {
          "name": "stderr",
          "output_type": "stream",
          "text": [
            " 44%|████▍     | 44/100 [00:14<00:18,  3.02it/s]"
          ]
        },
        {
          "name": "stdout",
          "output_type": "stream",
          "text": [
            "  Query execution time: 0.30 seconds\n",
            "  Found 7000 results\n",
            "top_k: 7000\n",
            "Query time: 0.31s\n",
            "Found 7000 results\n",
            "Session resources set for query optimization:\n",
            "\n",
            "                SET synchronous_commit = 'on';\n",
            "                -- SET wal_level = 'replica';\n",
            "                -- SET max_wal_size = 'DEFAULT';\n",
            "                SET maintenance_work_mem = '1GB';\n",
            "                -- SET random_page_cost = '1.1';\n",
            "                -- SET parallel_tuple_cost = '0.1';\n",
            "                -- SET parallel_setup_cost = '1000';\n",
            "                SET max_parallel_workers = '60';\n",
            "                SET work_mem = '1GB';\n",
            "                SET max_parallel_workers_per_gather = '60';\n",
            "                -- SET shared_buffers = '28GB';\n",
            "                SET effective_cache_size = '86GB';\n",
            "                -- SET effective_io_concurrency = '200';\n",
            "            \n"
          ]
        },
        {
          "name": "stderr",
          "output_type": "stream",
          "text": [
            " 45%|████▌     | 45/100 [00:14<00:16,  3.25it/s]"
          ]
        },
        {
          "name": "stdout",
          "output_type": "stream",
          "text": [
            "  Query execution time: 0.24 seconds\n",
            "  Found 7000 results\n",
            "top_k: 7000\n",
            "Query time: 0.25s\n",
            "Found 7000 results\n",
            "Session resources set for query optimization:\n",
            "\n",
            "                SET synchronous_commit = 'on';\n",
            "                -- SET wal_level = 'replica';\n",
            "                -- SET max_wal_size = 'DEFAULT';\n",
            "                SET maintenance_work_mem = '1GB';\n",
            "                -- SET random_page_cost = '1.1';\n",
            "                -- SET parallel_tuple_cost = '0.1';\n",
            "                -- SET parallel_setup_cost = '1000';\n",
            "                SET max_parallel_workers = '60';\n",
            "                SET work_mem = '1GB';\n",
            "                SET max_parallel_workers_per_gather = '60';\n",
            "                -- SET shared_buffers = '28GB';\n",
            "                SET effective_cache_size = '86GB';\n",
            "                -- SET effective_io_concurrency = '200';\n",
            "            \n"
          ]
        },
        {
          "name": "stderr",
          "output_type": "stream",
          "text": [
            " 46%|████▌     | 46/100 [00:14<00:16,  3.29it/s]"
          ]
        },
        {
          "name": "stdout",
          "output_type": "stream",
          "text": [
            "  Query execution time: 0.28 seconds\n",
            "  Found 7000 results\n",
            "top_k: 7000\n",
            "Query time: 0.29s\n",
            "Found 7000 results\n",
            "Session resources set for query optimization:\n",
            "\n",
            "                SET synchronous_commit = 'on';\n",
            "                -- SET wal_level = 'replica';\n",
            "                -- SET max_wal_size = 'DEFAULT';\n",
            "                SET maintenance_work_mem = '1GB';\n",
            "                -- SET random_page_cost = '1.1';\n",
            "                -- SET parallel_tuple_cost = '0.1';\n",
            "                -- SET parallel_setup_cost = '1000';\n",
            "                SET max_parallel_workers = '60';\n",
            "                SET work_mem = '1GB';\n",
            "                SET max_parallel_workers_per_gather = '60';\n",
            "                -- SET shared_buffers = '28GB';\n",
            "                SET effective_cache_size = '86GB';\n",
            "                -- SET effective_io_concurrency = '200';\n",
            "            \n"
          ]
        },
        {
          "name": "stderr",
          "output_type": "stream",
          "text": [
            " 47%|████▋     | 47/100 [00:15<00:16,  3.23it/s]"
          ]
        },
        {
          "name": "stdout",
          "output_type": "stream",
          "text": [
            "  Query execution time: 0.30 seconds\n",
            "  Found 7000 results\n",
            "top_k: 7000\n",
            "Query time: 0.32s\n",
            "Found 7000 results\n",
            "Session resources set for query optimization:\n",
            "\n",
            "                SET synchronous_commit = 'on';\n",
            "                -- SET wal_level = 'replica';\n",
            "                -- SET max_wal_size = 'DEFAULT';\n",
            "                SET maintenance_work_mem = '1GB';\n",
            "                -- SET random_page_cost = '1.1';\n",
            "                -- SET parallel_tuple_cost = '0.1';\n",
            "                -- SET parallel_setup_cost = '1000';\n",
            "                SET max_parallel_workers = '60';\n",
            "                SET work_mem = '1GB';\n",
            "                SET max_parallel_workers_per_gather = '60';\n",
            "                -- SET shared_buffers = '28GB';\n",
            "                SET effective_cache_size = '86GB';\n",
            "                -- SET effective_io_concurrency = '200';\n",
            "            \n"
          ]
        },
        {
          "name": "stderr",
          "output_type": "stream",
          "text": [
            " 48%|████▊     | 48/100 [00:15<00:15,  3.30it/s]"
          ]
        },
        {
          "name": "stdout",
          "output_type": "stream",
          "text": [
            "  Query execution time: 0.27 seconds\n",
            "  Found 7000 results\n",
            "top_k: 7000\n",
            "Query time: 0.29s\n",
            "Found 7000 results\n",
            "Session resources set for query optimization:\n",
            "\n",
            "                SET synchronous_commit = 'on';\n",
            "                -- SET wal_level = 'replica';\n",
            "                -- SET max_wal_size = 'DEFAULT';\n",
            "                SET maintenance_work_mem = '1GB';\n",
            "                -- SET random_page_cost = '1.1';\n",
            "                -- SET parallel_tuple_cost = '0.1';\n",
            "                -- SET parallel_setup_cost = '1000';\n",
            "                SET max_parallel_workers = '60';\n",
            "                SET work_mem = '1GB';\n",
            "                SET max_parallel_workers_per_gather = '60';\n",
            "                -- SET shared_buffers = '28GB';\n",
            "                SET effective_cache_size = '86GB';\n",
            "                -- SET effective_io_concurrency = '200';\n",
            "            \n"
          ]
        },
        {
          "name": "stderr",
          "output_type": "stream",
          "text": [
            " 49%|████▉     | 49/100 [00:15<00:17,  2.94it/s]"
          ]
        },
        {
          "name": "stdout",
          "output_type": "stream",
          "text": [
            "  Query execution time: 0.41 seconds\n",
            "  Found 7000 results\n",
            "top_k: 7000\n",
            "Query time: 0.42s\n",
            "Found 7000 results\n",
            "Session resources set for query optimization:\n",
            "\n",
            "                SET synchronous_commit = 'on';\n",
            "                -- SET wal_level = 'replica';\n",
            "                -- SET max_wal_size = 'DEFAULT';\n",
            "                SET maintenance_work_mem = '1GB';\n",
            "                -- SET random_page_cost = '1.1';\n",
            "                -- SET parallel_tuple_cost = '0.1';\n",
            "                -- SET parallel_setup_cost = '1000';\n",
            "                SET max_parallel_workers = '60';\n",
            "                SET work_mem = '1GB';\n",
            "                SET max_parallel_workers_per_gather = '60';\n",
            "                -- SET shared_buffers = '28GB';\n",
            "                SET effective_cache_size = '86GB';\n",
            "                -- SET effective_io_concurrency = '200';\n",
            "            \n"
          ]
        },
        {
          "name": "stderr",
          "output_type": "stream",
          "text": [
            " 50%|█████     | 50/100 [00:16<00:16,  3.06it/s]"
          ]
        },
        {
          "name": "stdout",
          "output_type": "stream",
          "text": [
            "  Query execution time: 0.27 seconds\n",
            "  Found 7000 results\n",
            "top_k: 7000\n",
            "Query time: 0.29s\n",
            "Found 7000 results\n",
            "Session resources set for query optimization:\n",
            "\n",
            "                SET synchronous_commit = 'on';\n",
            "                -- SET wal_level = 'replica';\n",
            "                -- SET max_wal_size = 'DEFAULT';\n",
            "                SET maintenance_work_mem = '1GB';\n",
            "                -- SET random_page_cost = '1.1';\n",
            "                -- SET parallel_tuple_cost = '0.1';\n",
            "                -- SET parallel_setup_cost = '1000';\n",
            "                SET max_parallel_workers = '60';\n",
            "                SET work_mem = '1GB';\n",
            "                SET max_parallel_workers_per_gather = '60';\n",
            "                -- SET shared_buffers = '28GB';\n",
            "                SET effective_cache_size = '86GB';\n",
            "                -- SET effective_io_concurrency = '200';\n",
            "            \n"
          ]
        },
        {
          "name": "stderr",
          "output_type": "stream",
          "text": [
            " 51%|█████     | 51/100 [00:16<00:16,  2.89it/s]"
          ]
        },
        {
          "name": "stdout",
          "output_type": "stream",
          "text": [
            "  Query execution time: 0.33 seconds\n",
            "  Found 7000 results\n",
            "top_k: 7000\n",
            "Query time: 0.37s\n",
            "Found 7000 results\n",
            "Session resources set for query optimization:\n",
            "\n",
            "                SET synchronous_commit = 'on';\n",
            "                -- SET wal_level = 'replica';\n",
            "                -- SET max_wal_size = 'DEFAULT';\n",
            "                SET maintenance_work_mem = '1GB';\n",
            "                -- SET random_page_cost = '1.1';\n",
            "                -- SET parallel_tuple_cost = '0.1';\n",
            "                -- SET parallel_setup_cost = '1000';\n",
            "                SET max_parallel_workers = '60';\n",
            "                SET work_mem = '1GB';\n",
            "                SET max_parallel_workers_per_gather = '60';\n",
            "                -- SET shared_buffers = '28GB';\n",
            "                SET effective_cache_size = '86GB';\n",
            "                -- SET effective_io_concurrency = '200';\n",
            "            \n"
          ]
        },
        {
          "name": "stderr",
          "output_type": "stream",
          "text": [
            " 52%|█████▏    | 52/100 [00:16<00:16,  2.95it/s]"
          ]
        },
        {
          "name": "stdout",
          "output_type": "stream",
          "text": [
            "  Query execution time: 0.31 seconds\n",
            "  Found 7000 results\n",
            "top_k: 7000\n",
            "Query time: 0.32s\n",
            "Found 7000 results\n",
            "Session resources set for query optimization:\n",
            "\n",
            "                SET synchronous_commit = 'on';\n",
            "                -- SET wal_level = 'replica';\n",
            "                -- SET max_wal_size = 'DEFAULT';\n",
            "                SET maintenance_work_mem = '1GB';\n",
            "                -- SET random_page_cost = '1.1';\n",
            "                -- SET parallel_tuple_cost = '0.1';\n",
            "                -- SET parallel_setup_cost = '1000';\n",
            "                SET max_parallel_workers = '60';\n",
            "                SET work_mem = '1GB';\n",
            "                SET max_parallel_workers_per_gather = '60';\n",
            "                -- SET shared_buffers = '28GB';\n",
            "                SET effective_cache_size = '86GB';\n",
            "                -- SET effective_io_concurrency = '200';\n",
            "            \n"
          ]
        },
        {
          "name": "stderr",
          "output_type": "stream",
          "text": [
            " 53%|█████▎    | 53/100 [00:17<00:15,  3.04it/s]"
          ]
        },
        {
          "name": "stdout",
          "output_type": "stream",
          "text": [
            "  Query execution time: 0.29 seconds\n",
            "  Found 7000 results\n",
            "top_k: 7000\n",
            "Query time: 0.30s\n",
            "Found 7000 results\n",
            "Session resources set for query optimization:\n",
            "\n",
            "                SET synchronous_commit = 'on';\n",
            "                -- SET wal_level = 'replica';\n",
            "                -- SET max_wal_size = 'DEFAULT';\n",
            "                SET maintenance_work_mem = '1GB';\n",
            "                -- SET random_page_cost = '1.1';\n",
            "                -- SET parallel_tuple_cost = '0.1';\n",
            "                -- SET parallel_setup_cost = '1000';\n",
            "                SET max_parallel_workers = '60';\n",
            "                SET work_mem = '1GB';\n",
            "                SET max_parallel_workers_per_gather = '60';\n",
            "                -- SET shared_buffers = '28GB';\n",
            "                SET effective_cache_size = '86GB';\n",
            "                -- SET effective_io_concurrency = '200';\n",
            "            \n"
          ]
        },
        {
          "name": "stderr",
          "output_type": "stream",
          "text": [
            " 54%|█████▍    | 54/100 [00:17<00:14,  3.12it/s]"
          ]
        },
        {
          "name": "stdout",
          "output_type": "stream",
          "text": [
            "  Query execution time: 0.29 seconds\n",
            "  Found 7000 results\n",
            "top_k: 7000\n",
            "Query time: 0.30s\n",
            "Found 7000 results\n",
            "Session resources set for query optimization:\n",
            "\n",
            "                SET synchronous_commit = 'on';\n",
            "                -- SET wal_level = 'replica';\n",
            "                -- SET max_wal_size = 'DEFAULT';\n",
            "                SET maintenance_work_mem = '1GB';\n",
            "                -- SET random_page_cost = '1.1';\n",
            "                -- SET parallel_tuple_cost = '0.1';\n",
            "                -- SET parallel_setup_cost = '1000';\n",
            "                SET max_parallel_workers = '60';\n",
            "                SET work_mem = '1GB';\n",
            "                SET max_parallel_workers_per_gather = '60';\n",
            "                -- SET shared_buffers = '28GB';\n",
            "                SET effective_cache_size = '86GB';\n",
            "                -- SET effective_io_concurrency = '200';\n",
            "            \n"
          ]
        },
        {
          "name": "stderr",
          "output_type": "stream",
          "text": [
            " 55%|█████▌    | 55/100 [00:17<00:14,  3.17it/s]"
          ]
        },
        {
          "name": "stdout",
          "output_type": "stream",
          "text": [
            "  Query execution time: 0.28 seconds\n",
            "  Found 7000 results\n",
            "top_k: 7000\n",
            "Query time: 0.30s\n",
            "Found 7000 results\n",
            "Session resources set for query optimization:\n",
            "\n",
            "                SET synchronous_commit = 'on';\n",
            "                -- SET wal_level = 'replica';\n",
            "                -- SET max_wal_size = 'DEFAULT';\n",
            "                SET maintenance_work_mem = '1GB';\n",
            "                -- SET random_page_cost = '1.1';\n",
            "                -- SET parallel_tuple_cost = '0.1';\n",
            "                -- SET parallel_setup_cost = '1000';\n",
            "                SET max_parallel_workers = '60';\n",
            "                SET work_mem = '1GB';\n",
            "                SET max_parallel_workers_per_gather = '60';\n",
            "                -- SET shared_buffers = '28GB';\n",
            "                SET effective_cache_size = '86GB';\n",
            "                -- SET effective_io_concurrency = '200';\n",
            "            \n"
          ]
        },
        {
          "name": "stderr",
          "output_type": "stream",
          "text": [
            " 56%|█████▌    | 56/100 [00:18<00:15,  2.82it/s]"
          ]
        },
        {
          "name": "stdout",
          "output_type": "stream",
          "text": [
            "  Query execution time: 0.29 seconds\n",
            "  Found 7000 results\n",
            "top_k: 7000\n",
            "Query time: 0.44s\n",
            "Found 7000 results\n",
            "Session resources set for query optimization:\n",
            "\n",
            "                SET synchronous_commit = 'on';\n",
            "                -- SET wal_level = 'replica';\n",
            "                -- SET max_wal_size = 'DEFAULT';\n",
            "                SET maintenance_work_mem = '1GB';\n",
            "                -- SET random_page_cost = '1.1';\n",
            "                -- SET parallel_tuple_cost = '0.1';\n",
            "                -- SET parallel_setup_cost = '1000';\n",
            "                SET max_parallel_workers = '60';\n",
            "                SET work_mem = '1GB';\n",
            "                SET max_parallel_workers_per_gather = '60';\n",
            "                -- SET shared_buffers = '28GB';\n",
            "                SET effective_cache_size = '86GB';\n",
            "                -- SET effective_io_concurrency = '200';\n",
            "            \n"
          ]
        },
        {
          "name": "stderr",
          "output_type": "stream",
          "text": [
            " 57%|█████▋    | 57/100 [00:18<00:14,  3.00it/s]"
          ]
        },
        {
          "name": "stdout",
          "output_type": "stream",
          "text": [
            "  Query execution time: 0.27 seconds\n",
            "  Found 7000 results\n",
            "top_k: 7000\n",
            "Query time: 0.28s\n",
            "Found 7000 results\n",
            "Session resources set for query optimization:\n",
            "\n",
            "                SET synchronous_commit = 'on';\n",
            "                -- SET wal_level = 'replica';\n",
            "                -- SET max_wal_size = 'DEFAULT';\n",
            "                SET maintenance_work_mem = '1GB';\n",
            "                -- SET random_page_cost = '1.1';\n",
            "                -- SET parallel_tuple_cost = '0.1';\n",
            "                -- SET parallel_setup_cost = '1000';\n",
            "                SET max_parallel_workers = '60';\n",
            "                SET work_mem = '1GB';\n",
            "                SET max_parallel_workers_per_gather = '60';\n",
            "                -- SET shared_buffers = '28GB';\n",
            "                SET effective_cache_size = '86GB';\n",
            "                -- SET effective_io_concurrency = '200';\n",
            "            \n"
          ]
        },
        {
          "name": "stderr",
          "output_type": "stream",
          "text": [
            " 58%|█████▊    | 58/100 [00:18<00:13,  3.10it/s]"
          ]
        },
        {
          "name": "stdout",
          "output_type": "stream",
          "text": [
            "  Query execution time: 0.28 seconds\n",
            "  Found 7000 results\n",
            "top_k: 7000\n",
            "Query time: 0.30s\n",
            "Found 7000 results\n",
            "Session resources set for query optimization:\n",
            "\n",
            "                SET synchronous_commit = 'on';\n",
            "                -- SET wal_level = 'replica';\n",
            "                -- SET max_wal_size = 'DEFAULT';\n",
            "                SET maintenance_work_mem = '1GB';\n",
            "                -- SET random_page_cost = '1.1';\n",
            "                -- SET parallel_tuple_cost = '0.1';\n",
            "                -- SET parallel_setup_cost = '1000';\n",
            "                SET max_parallel_workers = '60';\n",
            "                SET work_mem = '1GB';\n",
            "                SET max_parallel_workers_per_gather = '60';\n",
            "                -- SET shared_buffers = '28GB';\n",
            "                SET effective_cache_size = '86GB';\n",
            "                -- SET effective_io_concurrency = '200';\n",
            "            \n"
          ]
        },
        {
          "name": "stderr",
          "output_type": "stream",
          "text": [
            " 59%|█████▉    | 59/100 [00:19<00:12,  3.23it/s]"
          ]
        },
        {
          "name": "stdout",
          "output_type": "stream",
          "text": [
            "  Query execution time: 0.26 seconds\n",
            "  Found 7000 results\n",
            "top_k: 7000\n",
            "Query time: 0.28s\n",
            "Found 7000 results\n",
            "Session resources set for query optimization:\n",
            "\n",
            "                SET synchronous_commit = 'on';\n",
            "                -- SET wal_level = 'replica';\n",
            "                -- SET max_wal_size = 'DEFAULT';\n",
            "                SET maintenance_work_mem = '1GB';\n",
            "                -- SET random_page_cost = '1.1';\n",
            "                -- SET parallel_tuple_cost = '0.1';\n",
            "                -- SET parallel_setup_cost = '1000';\n",
            "                SET max_parallel_workers = '60';\n",
            "                SET work_mem = '1GB';\n",
            "                SET max_parallel_workers_per_gather = '60';\n",
            "                -- SET shared_buffers = '28GB';\n",
            "                SET effective_cache_size = '86GB';\n",
            "                -- SET effective_io_concurrency = '200';\n",
            "            \n"
          ]
        },
        {
          "name": "stderr",
          "output_type": "stream",
          "text": [
            " 60%|██████    | 60/100 [00:19<00:11,  3.34it/s]"
          ]
        },
        {
          "name": "stdout",
          "output_type": "stream",
          "text": [
            "  Query execution time: 0.26 seconds\n",
            "  Found 7000 results\n",
            "top_k: 7000\n",
            "Query time: 0.27s\n",
            "Found 7000 results\n",
            "Session resources set for query optimization:\n",
            "\n",
            "                SET synchronous_commit = 'on';\n",
            "                -- SET wal_level = 'replica';\n",
            "                -- SET max_wal_size = 'DEFAULT';\n",
            "                SET maintenance_work_mem = '1GB';\n",
            "                -- SET random_page_cost = '1.1';\n",
            "                -- SET parallel_tuple_cost = '0.1';\n",
            "                -- SET parallel_setup_cost = '1000';\n",
            "                SET max_parallel_workers = '60';\n",
            "                SET work_mem = '1GB';\n",
            "                SET max_parallel_workers_per_gather = '60';\n",
            "                -- SET shared_buffers = '28GB';\n",
            "                SET effective_cache_size = '86GB';\n",
            "                -- SET effective_io_concurrency = '200';\n",
            "            \n"
          ]
        },
        {
          "name": "stderr",
          "output_type": "stream",
          "text": [
            " 61%|██████    | 61/100 [00:19<00:12,  3.07it/s]"
          ]
        },
        {
          "name": "stdout",
          "output_type": "stream",
          "text": [
            "  Query execution time: 0.37 seconds\n",
            "  Found 7000 results\n",
            "top_k: 7000\n",
            "Query time: 0.38s\n",
            "Found 7000 results\n",
            "Session resources set for query optimization:\n",
            "\n",
            "                SET synchronous_commit = 'on';\n",
            "                -- SET wal_level = 'replica';\n",
            "                -- SET max_wal_size = 'DEFAULT';\n",
            "                SET maintenance_work_mem = '1GB';\n",
            "                -- SET random_page_cost = '1.1';\n",
            "                -- SET parallel_tuple_cost = '0.1';\n",
            "                -- SET parallel_setup_cost = '1000';\n",
            "                SET max_parallel_workers = '60';\n",
            "                SET work_mem = '1GB';\n",
            "                SET max_parallel_workers_per_gather = '60';\n",
            "                -- SET shared_buffers = '28GB';\n",
            "                SET effective_cache_size = '86GB';\n",
            "                -- SET effective_io_concurrency = '200';\n",
            "            \n"
          ]
        },
        {
          "name": "stderr",
          "output_type": "stream",
          "text": [
            " 62%|██████▏   | 62/100 [00:20<00:13,  2.83it/s]"
          ]
        },
        {
          "name": "stdout",
          "output_type": "stream",
          "text": [
            "  Query execution time: 0.40 seconds\n",
            "  Found 7000 results\n",
            "top_k: 7000\n",
            "Query time: 0.41s\n",
            "Found 7000 results\n",
            "Session resources set for query optimization:\n",
            "\n",
            "                SET synchronous_commit = 'on';\n",
            "                -- SET wal_level = 'replica';\n",
            "                -- SET max_wal_size = 'DEFAULT';\n",
            "                SET maintenance_work_mem = '1GB';\n",
            "                -- SET random_page_cost = '1.1';\n",
            "                -- SET parallel_tuple_cost = '0.1';\n",
            "                -- SET parallel_setup_cost = '1000';\n",
            "                SET max_parallel_workers = '60';\n",
            "                SET work_mem = '1GB';\n",
            "                SET max_parallel_workers_per_gather = '60';\n",
            "                -- SET shared_buffers = '28GB';\n",
            "                SET effective_cache_size = '86GB';\n",
            "                -- SET effective_io_concurrency = '200';\n",
            "            \n"
          ]
        },
        {
          "name": "stderr",
          "output_type": "stream",
          "text": [
            " 63%|██████▎   | 63/100 [00:20<00:12,  2.90it/s]"
          ]
        },
        {
          "name": "stdout",
          "output_type": "stream",
          "text": [
            "  Query execution time: 0.31 seconds\n",
            "  Found 7000 results\n",
            "top_k: 7000\n",
            "Query time: 0.32s\n",
            "Found 7000 results\n",
            "Session resources set for query optimization:\n",
            "\n",
            "                SET synchronous_commit = 'on';\n",
            "                -- SET wal_level = 'replica';\n",
            "                -- SET max_wal_size = 'DEFAULT';\n",
            "                SET maintenance_work_mem = '1GB';\n",
            "                -- SET random_page_cost = '1.1';\n",
            "                -- SET parallel_tuple_cost = '0.1';\n",
            "                -- SET parallel_setup_cost = '1000';\n",
            "                SET max_parallel_workers = '60';\n",
            "                SET work_mem = '1GB';\n",
            "                SET max_parallel_workers_per_gather = '60';\n",
            "                -- SET shared_buffers = '28GB';\n",
            "                SET effective_cache_size = '86GB';\n",
            "                -- SET effective_io_concurrency = '200';\n",
            "            \n"
          ]
        },
        {
          "name": "stderr",
          "output_type": "stream",
          "text": [
            " 64%|██████▍   | 64/100 [00:20<00:13,  2.71it/s]"
          ]
        },
        {
          "name": "stdout",
          "output_type": "stream",
          "text": [
            "  Query execution time: 0.41 seconds\n",
            "  Found 7000 results\n",
            "top_k: 7000\n",
            "Query time: 0.42s\n",
            "Found 7000 results\n",
            "Session resources set for query optimization:\n",
            "\n",
            "                SET synchronous_commit = 'on';\n",
            "                -- SET wal_level = 'replica';\n",
            "                -- SET max_wal_size = 'DEFAULT';\n",
            "                SET maintenance_work_mem = '1GB';\n",
            "                -- SET random_page_cost = '1.1';\n",
            "                -- SET parallel_tuple_cost = '0.1';\n",
            "                -- SET parallel_setup_cost = '1000';\n",
            "                SET max_parallel_workers = '60';\n",
            "                SET work_mem = '1GB';\n",
            "                SET max_parallel_workers_per_gather = '60';\n",
            "                -- SET shared_buffers = '28GB';\n",
            "                SET effective_cache_size = '86GB';\n",
            "                -- SET effective_io_concurrency = '200';\n",
            "            \n"
          ]
        },
        {
          "name": "stderr",
          "output_type": "stream",
          "text": [
            " 65%|██████▌   | 65/100 [00:21<00:12,  2.86it/s]"
          ]
        },
        {
          "name": "stdout",
          "output_type": "stream",
          "text": [
            "  Query execution time: 0.29 seconds\n",
            "  Found 7000 results\n",
            "top_k: 7000\n",
            "Query time: 0.30s\n",
            "Found 7000 results\n",
            "Session resources set for query optimization:\n",
            "\n",
            "                SET synchronous_commit = 'on';\n",
            "                -- SET wal_level = 'replica';\n",
            "                -- SET max_wal_size = 'DEFAULT';\n",
            "                SET maintenance_work_mem = '1GB';\n",
            "                -- SET random_page_cost = '1.1';\n",
            "                -- SET parallel_tuple_cost = '0.1';\n",
            "                -- SET parallel_setup_cost = '1000';\n",
            "                SET max_parallel_workers = '60';\n",
            "                SET work_mem = '1GB';\n",
            "                SET max_parallel_workers_per_gather = '60';\n",
            "                -- SET shared_buffers = '28GB';\n",
            "                SET effective_cache_size = '86GB';\n",
            "                -- SET effective_io_concurrency = '200';\n",
            "            \n"
          ]
        },
        {
          "name": "stderr",
          "output_type": "stream",
          "text": [
            " 66%|██████▌   | 66/100 [00:21<00:10,  3.09it/s]"
          ]
        },
        {
          "name": "stdout",
          "output_type": "stream",
          "text": [
            "  Query execution time: 0.24 seconds\n",
            "  Found 7000 results\n",
            "top_k: 7000\n",
            "Query time: 0.26s\n",
            "Found 7000 results\n",
            "Session resources set for query optimization:\n",
            "\n",
            "                SET synchronous_commit = 'on';\n",
            "                -- SET wal_level = 'replica';\n",
            "                -- SET max_wal_size = 'DEFAULT';\n",
            "                SET maintenance_work_mem = '1GB';\n",
            "                -- SET random_page_cost = '1.1';\n",
            "                -- SET parallel_tuple_cost = '0.1';\n",
            "                -- SET parallel_setup_cost = '1000';\n",
            "                SET max_parallel_workers = '60';\n",
            "                SET work_mem = '1GB';\n",
            "                SET max_parallel_workers_per_gather = '60';\n",
            "                -- SET shared_buffers = '28GB';\n",
            "                SET effective_cache_size = '86GB';\n",
            "                -- SET effective_io_concurrency = '200';\n",
            "            \n"
          ]
        },
        {
          "name": "stderr",
          "output_type": "stream",
          "text": [
            " 67%|██████▋   | 67/100 [00:21<00:11,  2.79it/s]"
          ]
        },
        {
          "name": "stdout",
          "output_type": "stream",
          "text": [
            "  Query execution time: 0.42 seconds\n",
            "  Found 7000 results\n",
            "top_k: 7000\n",
            "Query time: 0.44s\n",
            "Found 7000 results\n",
            "Session resources set for query optimization:\n",
            "\n",
            "                SET synchronous_commit = 'on';\n",
            "                -- SET wal_level = 'replica';\n",
            "                -- SET max_wal_size = 'DEFAULT';\n",
            "                SET maintenance_work_mem = '1GB';\n",
            "                -- SET random_page_cost = '1.1';\n",
            "                -- SET parallel_tuple_cost = '0.1';\n",
            "                -- SET parallel_setup_cost = '1000';\n",
            "                SET max_parallel_workers = '60';\n",
            "                SET work_mem = '1GB';\n",
            "                SET max_parallel_workers_per_gather = '60';\n",
            "                -- SET shared_buffers = '28GB';\n",
            "                SET effective_cache_size = '86GB';\n",
            "                -- SET effective_io_concurrency = '200';\n",
            "            \n"
          ]
        },
        {
          "name": "stderr",
          "output_type": "stream",
          "text": [
            " 68%|██████▊   | 68/100 [00:22<00:12,  2.64it/s]"
          ]
        },
        {
          "name": "stdout",
          "output_type": "stream",
          "text": [
            "  Query execution time: 0.41 seconds\n",
            "  Found 7000 results\n",
            "top_k: 7000\n",
            "Query time: 0.42s\n",
            "Found 7000 results\n",
            "Session resources set for query optimization:\n",
            "\n",
            "                SET synchronous_commit = 'on';\n",
            "                -- SET wal_level = 'replica';\n",
            "                -- SET max_wal_size = 'DEFAULT';\n",
            "                SET maintenance_work_mem = '1GB';\n",
            "                -- SET random_page_cost = '1.1';\n",
            "                -- SET parallel_tuple_cost = '0.1';\n",
            "                -- SET parallel_setup_cost = '1000';\n",
            "                SET max_parallel_workers = '60';\n",
            "                SET work_mem = '1GB';\n",
            "                SET max_parallel_workers_per_gather = '60';\n",
            "                -- SET shared_buffers = '28GB';\n",
            "                SET effective_cache_size = '86GB';\n",
            "                -- SET effective_io_concurrency = '200';\n",
            "            \n"
          ]
        },
        {
          "name": "stderr",
          "output_type": "stream",
          "text": [
            " 69%|██████▉   | 69/100 [00:22<00:10,  2.83it/s]"
          ]
        },
        {
          "name": "stdout",
          "output_type": "stream",
          "text": [
            "  Query execution time: 0.28 seconds\n",
            "  Found 7000 results\n",
            "top_k: 7000\n",
            "Query time: 0.29s\n",
            "Found 7000 results\n",
            "Session resources set for query optimization:\n",
            "\n",
            "                SET synchronous_commit = 'on';\n",
            "                -- SET wal_level = 'replica';\n",
            "                -- SET max_wal_size = 'DEFAULT';\n",
            "                SET maintenance_work_mem = '1GB';\n",
            "                -- SET random_page_cost = '1.1';\n",
            "                -- SET parallel_tuple_cost = '0.1';\n",
            "                -- SET parallel_setup_cost = '1000';\n",
            "                SET max_parallel_workers = '60';\n",
            "                SET work_mem = '1GB';\n",
            "                SET max_parallel_workers_per_gather = '60';\n",
            "                -- SET shared_buffers = '28GB';\n",
            "                SET effective_cache_size = '86GB';\n",
            "                -- SET effective_io_concurrency = '200';\n",
            "            \n"
          ]
        },
        {
          "name": "stderr",
          "output_type": "stream",
          "text": [
            " 70%|███████   | 70/100 [00:23<00:10,  2.88it/s]"
          ]
        },
        {
          "name": "stdout",
          "output_type": "stream",
          "text": [
            "  Query execution time: 0.31 seconds\n",
            "  Found 7000 results\n",
            "top_k: 7000\n",
            "Query time: 0.33s\n",
            "Found 7000 results\n",
            "Session resources set for query optimization:\n",
            "\n",
            "                SET synchronous_commit = 'on';\n",
            "                -- SET wal_level = 'replica';\n",
            "                -- SET max_wal_size = 'DEFAULT';\n",
            "                SET maintenance_work_mem = '1GB';\n",
            "                -- SET random_page_cost = '1.1';\n",
            "                -- SET parallel_tuple_cost = '0.1';\n",
            "                -- SET parallel_setup_cost = '1000';\n",
            "                SET max_parallel_workers = '60';\n",
            "                SET work_mem = '1GB';\n",
            "                SET max_parallel_workers_per_gather = '60';\n",
            "                -- SET shared_buffers = '28GB';\n",
            "                SET effective_cache_size = '86GB';\n",
            "                -- SET effective_io_concurrency = '200';\n",
            "            \n"
          ]
        },
        {
          "name": "stderr",
          "output_type": "stream",
          "text": [
            " 71%|███████   | 71/100 [00:23<00:10,  2.82it/s]"
          ]
        },
        {
          "name": "stdout",
          "output_type": "stream",
          "text": [
            "  Query execution time: 0.32 seconds\n",
            "  Found 7000 results\n",
            "top_k: 7000\n",
            "Query time: 0.37s\n",
            "Found 7000 results\n",
            "Session resources set for query optimization:\n",
            "\n",
            "                SET synchronous_commit = 'on';\n",
            "                -- SET wal_level = 'replica';\n",
            "                -- SET max_wal_size = 'DEFAULT';\n",
            "                SET maintenance_work_mem = '1GB';\n",
            "                -- SET random_page_cost = '1.1';\n",
            "                -- SET parallel_tuple_cost = '0.1';\n",
            "                -- SET parallel_setup_cost = '1000';\n",
            "                SET max_parallel_workers = '60';\n",
            "                SET work_mem = '1GB';\n",
            "                SET max_parallel_workers_per_gather = '60';\n",
            "                -- SET shared_buffers = '28GB';\n",
            "                SET effective_cache_size = '86GB';\n",
            "                -- SET effective_io_concurrency = '200';\n",
            "            \n"
          ]
        },
        {
          "name": "stderr",
          "output_type": "stream",
          "text": [
            " 72%|███████▏  | 72/100 [00:23<00:09,  2.96it/s]"
          ]
        },
        {
          "name": "stdout",
          "output_type": "stream",
          "text": [
            "  Query execution time: 0.28 seconds\n",
            "  Found 7000 results\n",
            "top_k: 7000\n",
            "Query time: 0.30s\n",
            "Found 7000 results\n",
            "Session resources set for query optimization:\n",
            "\n",
            "                SET synchronous_commit = 'on';\n",
            "                -- SET wal_level = 'replica';\n",
            "                -- SET max_wal_size = 'DEFAULT';\n",
            "                SET maintenance_work_mem = '1GB';\n",
            "                -- SET random_page_cost = '1.1';\n",
            "                -- SET parallel_tuple_cost = '0.1';\n",
            "                -- SET parallel_setup_cost = '1000';\n",
            "                SET max_parallel_workers = '60';\n",
            "                SET work_mem = '1GB';\n",
            "                SET max_parallel_workers_per_gather = '60';\n",
            "                -- SET shared_buffers = '28GB';\n",
            "                SET effective_cache_size = '86GB';\n",
            "                -- SET effective_io_concurrency = '200';\n",
            "            \n"
          ]
        },
        {
          "name": "stderr",
          "output_type": "stream",
          "text": [
            " 73%|███████▎  | 73/100 [00:23<00:08,  3.13it/s]"
          ]
        },
        {
          "name": "stdout",
          "output_type": "stream",
          "text": [
            "  Query execution time: 0.26 seconds\n",
            "  Found 7000 results\n",
            "top_k: 7000\n",
            "Query time: 0.27s\n",
            "Found 7000 results\n",
            "Session resources set for query optimization:\n",
            "\n",
            "                SET synchronous_commit = 'on';\n",
            "                -- SET wal_level = 'replica';\n",
            "                -- SET max_wal_size = 'DEFAULT';\n",
            "                SET maintenance_work_mem = '1GB';\n",
            "                -- SET random_page_cost = '1.1';\n",
            "                -- SET parallel_tuple_cost = '0.1';\n",
            "                -- SET parallel_setup_cost = '1000';\n",
            "                SET max_parallel_workers = '60';\n",
            "                SET work_mem = '1GB';\n",
            "                SET max_parallel_workers_per_gather = '60';\n",
            "                -- SET shared_buffers = '28GB';\n",
            "                SET effective_cache_size = '86GB';\n",
            "                -- SET effective_io_concurrency = '200';\n",
            "            \n"
          ]
        },
        {
          "name": "stderr",
          "output_type": "stream",
          "text": [
            " 74%|███████▍  | 74/100 [00:24<00:09,  2.83it/s]"
          ]
        },
        {
          "name": "stdout",
          "output_type": "stream",
          "text": [
            "  Query execution time: 0.42 seconds\n",
            "  Found 7000 results\n",
            "top_k: 7000\n",
            "Query time: 0.43s\n",
            "Found 7000 results\n",
            "Session resources set for query optimization:\n",
            "\n",
            "                SET synchronous_commit = 'on';\n",
            "                -- SET wal_level = 'replica';\n",
            "                -- SET max_wal_size = 'DEFAULT';\n",
            "                SET maintenance_work_mem = '1GB';\n",
            "                -- SET random_page_cost = '1.1';\n",
            "                -- SET parallel_tuple_cost = '0.1';\n",
            "                -- SET parallel_setup_cost = '1000';\n",
            "                SET max_parallel_workers = '60';\n",
            "                SET work_mem = '1GB';\n",
            "                SET max_parallel_workers_per_gather = '60';\n",
            "                -- SET shared_buffers = '28GB';\n",
            "                SET effective_cache_size = '86GB';\n",
            "                -- SET effective_io_concurrency = '200';\n",
            "            \n"
          ]
        },
        {
          "name": "stderr",
          "output_type": "stream",
          "text": [
            " 75%|███████▌  | 75/100 [00:24<00:08,  2.97it/s]"
          ]
        },
        {
          "name": "stdout",
          "output_type": "stream",
          "text": [
            "  Query execution time: 0.28 seconds\n",
            "  Found 7000 results\n",
            "top_k: 7000\n",
            "Query time: 0.29s\n",
            "Found 7000 results\n",
            "Session resources set for query optimization:\n",
            "\n",
            "                SET synchronous_commit = 'on';\n",
            "                -- SET wal_level = 'replica';\n",
            "                -- SET max_wal_size = 'DEFAULT';\n",
            "                SET maintenance_work_mem = '1GB';\n",
            "                -- SET random_page_cost = '1.1';\n",
            "                -- SET parallel_tuple_cost = '0.1';\n",
            "                -- SET parallel_setup_cost = '1000';\n",
            "                SET max_parallel_workers = '60';\n",
            "                SET work_mem = '1GB';\n",
            "                SET max_parallel_workers_per_gather = '60';\n",
            "                -- SET shared_buffers = '28GB';\n",
            "                SET effective_cache_size = '86GB';\n",
            "                -- SET effective_io_concurrency = '200';\n",
            "            \n"
          ]
        },
        {
          "name": "stderr",
          "output_type": "stream",
          "text": [
            " 76%|███████▌  | 76/100 [00:25<00:07,  3.02it/s]"
          ]
        },
        {
          "name": "stdout",
          "output_type": "stream",
          "text": [
            "  Query execution time: 0.30 seconds\n",
            "  Found 7000 results\n",
            "top_k: 7000\n",
            "Query time: 0.32s\n",
            "Found 7000 results\n",
            "Session resources set for query optimization:\n",
            "\n",
            "                SET synchronous_commit = 'on';\n",
            "                -- SET wal_level = 'replica';\n",
            "                -- SET max_wal_size = 'DEFAULT';\n",
            "                SET maintenance_work_mem = '1GB';\n",
            "                -- SET random_page_cost = '1.1';\n",
            "                -- SET parallel_tuple_cost = '0.1';\n",
            "                -- SET parallel_setup_cost = '1000';\n",
            "                SET max_parallel_workers = '60';\n",
            "                SET work_mem = '1GB';\n",
            "                SET max_parallel_workers_per_gather = '60';\n",
            "                -- SET shared_buffers = '28GB';\n",
            "                SET effective_cache_size = '86GB';\n",
            "                -- SET effective_io_concurrency = '200';\n",
            "            \n"
          ]
        },
        {
          "name": "stderr",
          "output_type": "stream",
          "text": [
            " 77%|███████▋  | 77/100 [00:25<00:08,  2.71it/s]"
          ]
        },
        {
          "name": "stdout",
          "output_type": "stream",
          "text": [
            "  Query execution time: 0.44 seconds\n",
            "  Found 7000 results\n",
            "top_k: 7000\n",
            "Query time: 0.45s\n",
            "Found 7000 results\n",
            "Session resources set for query optimization:\n",
            "\n",
            "                SET synchronous_commit = 'on';\n",
            "                -- SET wal_level = 'replica';\n",
            "                -- SET max_wal_size = 'DEFAULT';\n",
            "                SET maintenance_work_mem = '1GB';\n",
            "                -- SET random_page_cost = '1.1';\n",
            "                -- SET parallel_tuple_cost = '0.1';\n",
            "                -- SET parallel_setup_cost = '1000';\n",
            "                SET max_parallel_workers = '60';\n",
            "                SET work_mem = '1GB';\n",
            "                SET max_parallel_workers_per_gather = '60';\n",
            "                -- SET shared_buffers = '28GB';\n",
            "                SET effective_cache_size = '86GB';\n",
            "                -- SET effective_io_concurrency = '200';\n",
            "            \n"
          ]
        },
        {
          "name": "stderr",
          "output_type": "stream",
          "text": [
            " 78%|███████▊  | 78/100 [00:25<00:07,  3.06it/s]"
          ]
        },
        {
          "name": "stdout",
          "output_type": "stream",
          "text": [
            "  Query execution time: 0.21 seconds\n",
            "  Found 7000 results\n",
            "top_k: 7000\n",
            "Query time: 0.23s\n",
            "Found 7000 results\n",
            "Session resources set for query optimization:\n",
            "\n",
            "                SET synchronous_commit = 'on';\n",
            "                -- SET wal_level = 'replica';\n",
            "                -- SET max_wal_size = 'DEFAULT';\n",
            "                SET maintenance_work_mem = '1GB';\n",
            "                -- SET random_page_cost = '1.1';\n",
            "                -- SET parallel_tuple_cost = '0.1';\n",
            "                -- SET parallel_setup_cost = '1000';\n",
            "                SET max_parallel_workers = '60';\n",
            "                SET work_mem = '1GB';\n",
            "                SET max_parallel_workers_per_gather = '60';\n",
            "                -- SET shared_buffers = '28GB';\n",
            "                SET effective_cache_size = '86GB';\n",
            "                -- SET effective_io_concurrency = '200';\n",
            "            \n"
          ]
        },
        {
          "name": "stderr",
          "output_type": "stream",
          "text": [
            " 79%|███████▉  | 79/100 [00:26<00:07,  2.89it/s]"
          ]
        },
        {
          "name": "stdout",
          "output_type": "stream",
          "text": [
            "  Query execution time: 0.21 seconds\n",
            "  Found 7000 results\n",
            "top_k: 7000\n",
            "Query time: 0.39s\n",
            "Found 7000 results\n",
            "Session resources set for query optimization:\n",
            "\n",
            "                SET synchronous_commit = 'on';\n",
            "                -- SET wal_level = 'replica';\n",
            "                -- SET max_wal_size = 'DEFAULT';\n",
            "                SET maintenance_work_mem = '1GB';\n",
            "                -- SET random_page_cost = '1.1';\n",
            "                -- SET parallel_tuple_cost = '0.1';\n",
            "                -- SET parallel_setup_cost = '1000';\n",
            "                SET max_parallel_workers = '60';\n",
            "                SET work_mem = '1GB';\n",
            "                SET max_parallel_workers_per_gather = '60';\n",
            "                -- SET shared_buffers = '28GB';\n",
            "                SET effective_cache_size = '86GB';\n",
            "                -- SET effective_io_concurrency = '200';\n",
            "            \n"
          ]
        },
        {
          "name": "stderr",
          "output_type": "stream",
          "text": [
            " 80%|████████  | 80/100 [00:26<00:06,  2.93it/s]"
          ]
        },
        {
          "name": "stdout",
          "output_type": "stream",
          "text": [
            "  Query execution time: 0.31 seconds\n",
            "  Found 7000 results\n",
            "top_k: 7000\n",
            "Query time: 0.33s\n",
            "Found 7000 results\n",
            "Session resources set for query optimization:\n",
            "\n",
            "                SET synchronous_commit = 'on';\n",
            "                -- SET wal_level = 'replica';\n",
            "                -- SET max_wal_size = 'DEFAULT';\n",
            "                SET maintenance_work_mem = '1GB';\n",
            "                -- SET random_page_cost = '1.1';\n",
            "                -- SET parallel_tuple_cost = '0.1';\n",
            "                -- SET parallel_setup_cost = '1000';\n",
            "                SET max_parallel_workers = '60';\n",
            "                SET work_mem = '1GB';\n",
            "                SET max_parallel_workers_per_gather = '60';\n",
            "                -- SET shared_buffers = '28GB';\n",
            "                SET effective_cache_size = '86GB';\n",
            "                -- SET effective_io_concurrency = '200';\n",
            "            \n"
          ]
        },
        {
          "name": "stderr",
          "output_type": "stream",
          "text": [
            " 81%|████████  | 81/100 [00:26<00:06,  2.95it/s]"
          ]
        },
        {
          "name": "stdout",
          "output_type": "stream",
          "text": [
            "  Query execution time: 0.32 seconds\n",
            "  Found 7000 results\n",
            "top_k: 7000\n",
            "Query time: 0.33s\n",
            "Found 7000 results\n",
            "Session resources set for query optimization:\n",
            "\n",
            "                SET synchronous_commit = 'on';\n",
            "                -- SET wal_level = 'replica';\n",
            "                -- SET max_wal_size = 'DEFAULT';\n",
            "                SET maintenance_work_mem = '1GB';\n",
            "                -- SET random_page_cost = '1.1';\n",
            "                -- SET parallel_tuple_cost = '0.1';\n",
            "                -- SET parallel_setup_cost = '1000';\n",
            "                SET max_parallel_workers = '60';\n",
            "                SET work_mem = '1GB';\n",
            "                SET max_parallel_workers_per_gather = '60';\n",
            "                -- SET shared_buffers = '28GB';\n",
            "                SET effective_cache_size = '86GB';\n",
            "                -- SET effective_io_concurrency = '200';\n",
            "            \n"
          ]
        },
        {
          "name": "stderr",
          "output_type": "stream",
          "text": [
            " 82%|████████▏ | 82/100 [00:27<00:05,  3.19it/s]"
          ]
        },
        {
          "name": "stdout",
          "output_type": "stream",
          "text": [
            "  Query execution time: 0.24 seconds\n",
            "  Found 7000 results\n",
            "top_k: 7000\n",
            "Query time: 0.25s\n",
            "Found 7000 results\n",
            "Session resources set for query optimization:\n",
            "\n",
            "                SET synchronous_commit = 'on';\n",
            "                -- SET wal_level = 'replica';\n",
            "                -- SET max_wal_size = 'DEFAULT';\n",
            "                SET maintenance_work_mem = '1GB';\n",
            "                -- SET random_page_cost = '1.1';\n",
            "                -- SET parallel_tuple_cost = '0.1';\n",
            "                -- SET parallel_setup_cost = '1000';\n",
            "                SET max_parallel_workers = '60';\n",
            "                SET work_mem = '1GB';\n",
            "                SET max_parallel_workers_per_gather = '60';\n",
            "                -- SET shared_buffers = '28GB';\n",
            "                SET effective_cache_size = '86GB';\n",
            "                -- SET effective_io_concurrency = '200';\n",
            "            \n"
          ]
        },
        {
          "name": "stderr",
          "output_type": "stream",
          "text": [
            " 83%|████████▎ | 83/100 [00:27<00:06,  2.83it/s]"
          ]
        },
        {
          "name": "stdout",
          "output_type": "stream",
          "text": [
            "  Query execution time: 0.43 seconds\n",
            "  Found 7000 results\n",
            "top_k: 7000\n",
            "Query time: 0.44s\n",
            "Found 7000 results\n",
            "Session resources set for query optimization:\n",
            "\n",
            "                SET synchronous_commit = 'on';\n",
            "                -- SET wal_level = 'replica';\n",
            "                -- SET max_wal_size = 'DEFAULT';\n",
            "                SET maintenance_work_mem = '1GB';\n",
            "                -- SET random_page_cost = '1.1';\n",
            "                -- SET parallel_tuple_cost = '0.1';\n",
            "                -- SET parallel_setup_cost = '1000';\n",
            "                SET max_parallel_workers = '60';\n",
            "                SET work_mem = '1GB';\n",
            "                SET max_parallel_workers_per_gather = '60';\n",
            "                -- SET shared_buffers = '28GB';\n",
            "                SET effective_cache_size = '86GB';\n",
            "                -- SET effective_io_concurrency = '200';\n",
            "            \n"
          ]
        },
        {
          "name": "stderr",
          "output_type": "stream",
          "text": [
            " 84%|████████▍ | 84/100 [00:27<00:06,  2.64it/s]"
          ]
        },
        {
          "name": "stdout",
          "output_type": "stream",
          "text": [
            "  Query execution time: 0.42 seconds\n",
            "  Found 7000 results\n",
            "top_k: 7000\n",
            "Query time: 0.43s\n",
            "Found 7000 results\n",
            "Session resources set for query optimization:\n",
            "\n",
            "                SET synchronous_commit = 'on';\n",
            "                -- SET wal_level = 'replica';\n",
            "                -- SET max_wal_size = 'DEFAULT';\n",
            "                SET maintenance_work_mem = '1GB';\n",
            "                -- SET random_page_cost = '1.1';\n",
            "                -- SET parallel_tuple_cost = '0.1';\n",
            "                -- SET parallel_setup_cost = '1000';\n",
            "                SET max_parallel_workers = '60';\n",
            "                SET work_mem = '1GB';\n",
            "                SET max_parallel_workers_per_gather = '60';\n",
            "                -- SET shared_buffers = '28GB';\n",
            "                SET effective_cache_size = '86GB';\n",
            "                -- SET effective_io_concurrency = '200';\n",
            "            \n"
          ]
        },
        {
          "name": "stderr",
          "output_type": "stream",
          "text": [
            " 85%|████████▌ | 85/100 [00:28<00:05,  2.84it/s]"
          ]
        },
        {
          "name": "stdout",
          "output_type": "stream",
          "text": [
            "  Query execution time: 0.27 seconds\n",
            "  Found 7000 results\n",
            "top_k: 7000\n",
            "Query time: 0.29s\n",
            "Found 7000 results\n",
            "Session resources set for query optimization:\n",
            "\n",
            "                SET synchronous_commit = 'on';\n",
            "                -- SET wal_level = 'replica';\n",
            "                -- SET max_wal_size = 'DEFAULT';\n",
            "                SET maintenance_work_mem = '1GB';\n",
            "                -- SET random_page_cost = '1.1';\n",
            "                -- SET parallel_tuple_cost = '0.1';\n",
            "                -- SET parallel_setup_cost = '1000';\n",
            "                SET max_parallel_workers = '60';\n",
            "                SET work_mem = '1GB';\n",
            "                SET max_parallel_workers_per_gather = '60';\n",
            "                -- SET shared_buffers = '28GB';\n",
            "                SET effective_cache_size = '86GB';\n",
            "                -- SET effective_io_concurrency = '200';\n",
            "            \n"
          ]
        },
        {
          "name": "stderr",
          "output_type": "stream",
          "text": [
            " 86%|████████▌ | 86/100 [00:28<00:05,  2.74it/s]"
          ]
        },
        {
          "name": "stdout",
          "output_type": "stream",
          "text": [
            "  Query execution time: 0.37 seconds\n",
            "  Found 7000 results\n",
            "top_k: 7000\n",
            "Query time: 0.39s\n",
            "Found 7000 results\n",
            "Session resources set for query optimization:\n",
            "\n",
            "                SET synchronous_commit = 'on';\n",
            "                -- SET wal_level = 'replica';\n",
            "                -- SET max_wal_size = 'DEFAULT';\n",
            "                SET maintenance_work_mem = '1GB';\n",
            "                -- SET random_page_cost = '1.1';\n",
            "                -- SET parallel_tuple_cost = '0.1';\n",
            "                -- SET parallel_setup_cost = '1000';\n",
            "                SET max_parallel_workers = '60';\n",
            "                SET work_mem = '1GB';\n",
            "                SET max_parallel_workers_per_gather = '60';\n",
            "                -- SET shared_buffers = '28GB';\n",
            "                SET effective_cache_size = '86GB';\n",
            "                -- SET effective_io_concurrency = '200';\n",
            "            \n"
          ]
        },
        {
          "name": "stderr",
          "output_type": "stream",
          "text": [
            " 87%|████████▋ | 87/100 [00:29<00:05,  2.58it/s]"
          ]
        },
        {
          "name": "stdout",
          "output_type": "stream",
          "text": [
            "  Query execution time: 0.42 seconds\n",
            "  Found 7000 results\n",
            "top_k: 7000\n",
            "Query time: 0.44s\n",
            "Found 7000 results\n",
            "Session resources set for query optimization:\n",
            "\n",
            "                SET synchronous_commit = 'on';\n",
            "                -- SET wal_level = 'replica';\n",
            "                -- SET max_wal_size = 'DEFAULT';\n",
            "                SET maintenance_work_mem = '1GB';\n",
            "                -- SET random_page_cost = '1.1';\n",
            "                -- SET parallel_tuple_cost = '0.1';\n",
            "                -- SET parallel_setup_cost = '1000';\n",
            "                SET max_parallel_workers = '60';\n",
            "                SET work_mem = '1GB';\n",
            "                SET max_parallel_workers_per_gather = '60';\n",
            "                -- SET shared_buffers = '28GB';\n",
            "                SET effective_cache_size = '86GB';\n",
            "                -- SET effective_io_concurrency = '200';\n",
            "            \n"
          ]
        },
        {
          "name": "stderr",
          "output_type": "stream",
          "text": [
            " 88%|████████▊ | 88/100 [00:29<00:04,  2.86it/s]"
          ]
        },
        {
          "name": "stdout",
          "output_type": "stream",
          "text": [
            "  Query execution time: 0.24 seconds\n",
            "  Found 7000 results\n",
            "top_k: 7000\n",
            "Query time: 0.26s\n",
            "Found 7000 results\n",
            "Session resources set for query optimization:\n",
            "\n",
            "                SET synchronous_commit = 'on';\n",
            "                -- SET wal_level = 'replica';\n",
            "                -- SET max_wal_size = 'DEFAULT';\n",
            "                SET maintenance_work_mem = '1GB';\n",
            "                -- SET random_page_cost = '1.1';\n",
            "                -- SET parallel_tuple_cost = '0.1';\n",
            "                -- SET parallel_setup_cost = '1000';\n",
            "                SET max_parallel_workers = '60';\n",
            "                SET work_mem = '1GB';\n",
            "                SET max_parallel_workers_per_gather = '60';\n",
            "                -- SET shared_buffers = '28GB';\n",
            "                SET effective_cache_size = '86GB';\n",
            "                -- SET effective_io_concurrency = '200';\n",
            "            \n"
          ]
        },
        {
          "name": "stderr",
          "output_type": "stream",
          "text": [
            " 89%|████████▉ | 89/100 [00:29<00:03,  3.01it/s]"
          ]
        },
        {
          "name": "stdout",
          "output_type": "stream",
          "text": [
            "  Query execution time: 0.28 seconds\n",
            "  Found 7000 results\n",
            "top_k: 7000\n",
            "Query time: 0.29s\n",
            "Found 7000 results\n",
            "Session resources set for query optimization:\n",
            "\n",
            "                SET synchronous_commit = 'on';\n",
            "                -- SET wal_level = 'replica';\n",
            "                -- SET max_wal_size = 'DEFAULT';\n",
            "                SET maintenance_work_mem = '1GB';\n",
            "                -- SET random_page_cost = '1.1';\n",
            "                -- SET parallel_tuple_cost = '0.1';\n",
            "                -- SET parallel_setup_cost = '1000';\n",
            "                SET max_parallel_workers = '60';\n",
            "                SET work_mem = '1GB';\n",
            "                SET max_parallel_workers_per_gather = '60';\n",
            "                -- SET shared_buffers = '28GB';\n",
            "                SET effective_cache_size = '86GB';\n",
            "                -- SET effective_io_concurrency = '200';\n",
            "            \n"
          ]
        },
        {
          "name": "stderr",
          "output_type": "stream",
          "text": [
            " 90%|█████████ | 90/100 [00:29<00:03,  3.09it/s]"
          ]
        },
        {
          "name": "stdout",
          "output_type": "stream",
          "text": [
            "  Query execution time: 0.28 seconds\n",
            "  Found 7000 results\n",
            "top_k: 7000\n",
            "Query time: 0.30s\n",
            "Found 7000 results\n",
            "Session resources set for query optimization:\n",
            "\n",
            "                SET synchronous_commit = 'on';\n",
            "                -- SET wal_level = 'replica';\n",
            "                -- SET max_wal_size = 'DEFAULT';\n",
            "                SET maintenance_work_mem = '1GB';\n",
            "                -- SET random_page_cost = '1.1';\n",
            "                -- SET parallel_tuple_cost = '0.1';\n",
            "                -- SET parallel_setup_cost = '1000';\n",
            "                SET max_parallel_workers = '60';\n",
            "                SET work_mem = '1GB';\n",
            "                SET max_parallel_workers_per_gather = '60';\n",
            "                -- SET shared_buffers = '28GB';\n",
            "                SET effective_cache_size = '86GB';\n",
            "                -- SET effective_io_concurrency = '200';\n",
            "            \n"
          ]
        },
        {
          "name": "stderr",
          "output_type": "stream",
          "text": [
            " 91%|█████████ | 91/100 [00:30<00:02,  3.22it/s]"
          ]
        },
        {
          "name": "stdout",
          "output_type": "stream",
          "text": [
            "  Query execution time: 0.26 seconds\n",
            "  Found 7000 results\n",
            "top_k: 7000\n",
            "Query time: 0.28s\n",
            "Found 7000 results\n",
            "Session resources set for query optimization:\n",
            "\n",
            "                SET synchronous_commit = 'on';\n",
            "                -- SET wal_level = 'replica';\n",
            "                -- SET max_wal_size = 'DEFAULT';\n",
            "                SET maintenance_work_mem = '1GB';\n",
            "                -- SET random_page_cost = '1.1';\n",
            "                -- SET parallel_tuple_cost = '0.1';\n",
            "                -- SET parallel_setup_cost = '1000';\n",
            "                SET max_parallel_workers = '60';\n",
            "                SET work_mem = '1GB';\n",
            "                SET max_parallel_workers_per_gather = '60';\n",
            "                -- SET shared_buffers = '28GB';\n",
            "                SET effective_cache_size = '86GB';\n",
            "                -- SET effective_io_concurrency = '200';\n",
            "            \n"
          ]
        },
        {
          "name": "stderr",
          "output_type": "stream",
          "text": [
            " 92%|█████████▏| 92/100 [00:30<00:02,  3.07it/s]"
          ]
        },
        {
          "name": "stdout",
          "output_type": "stream",
          "text": [
            "  Query execution time: 0.34 seconds\n",
            "  Found 7000 results\n",
            "top_k: 7000\n",
            "Query time: 0.36s\n",
            "Found 7000 results\n",
            "Session resources set for query optimization:\n",
            "\n",
            "                SET synchronous_commit = 'on';\n",
            "                -- SET wal_level = 'replica';\n",
            "                -- SET max_wal_size = 'DEFAULT';\n",
            "                SET maintenance_work_mem = '1GB';\n",
            "                -- SET random_page_cost = '1.1';\n",
            "                -- SET parallel_tuple_cost = '0.1';\n",
            "                -- SET parallel_setup_cost = '1000';\n",
            "                SET max_parallel_workers = '60';\n",
            "                SET work_mem = '1GB';\n",
            "                SET max_parallel_workers_per_gather = '60';\n",
            "                -- SET shared_buffers = '28GB';\n",
            "                SET effective_cache_size = '86GB';\n",
            "                -- SET effective_io_concurrency = '200';\n",
            "            \n"
          ]
        },
        {
          "name": "stderr",
          "output_type": "stream",
          "text": [
            " 93%|█████████▎| 93/100 [00:30<00:02,  2.90it/s]"
          ]
        },
        {
          "name": "stdout",
          "output_type": "stream",
          "text": [
            "  Query execution time: 0.36 seconds\n",
            "  Found 7000 results\n",
            "top_k: 7000\n",
            "Query time: 0.38s\n",
            "Found 7000 results\n",
            "Session resources set for query optimization:\n",
            "\n",
            "                SET synchronous_commit = 'on';\n",
            "                -- SET wal_level = 'replica';\n",
            "                -- SET max_wal_size = 'DEFAULT';\n",
            "                SET maintenance_work_mem = '1GB';\n",
            "                -- SET random_page_cost = '1.1';\n",
            "                -- SET parallel_tuple_cost = '0.1';\n",
            "                -- SET parallel_setup_cost = '1000';\n",
            "                SET max_parallel_workers = '60';\n",
            "                SET work_mem = '1GB';\n",
            "                SET max_parallel_workers_per_gather = '60';\n",
            "                -- SET shared_buffers = '28GB';\n",
            "                SET effective_cache_size = '86GB';\n",
            "                -- SET effective_io_concurrency = '200';\n",
            "            \n"
          ]
        },
        {
          "name": "stderr",
          "output_type": "stream",
          "text": [
            " 94%|█████████▍| 94/100 [00:31<00:02,  2.92it/s]"
          ]
        },
        {
          "name": "stdout",
          "output_type": "stream",
          "text": [
            "  Query execution time: 0.26 seconds\n",
            "  Found 7000 results\n",
            "top_k: 7000\n",
            "Query time: 0.30s\n",
            "Found 7000 results\n",
            "Session resources set for query optimization:\n",
            "\n",
            "                SET synchronous_commit = 'on';\n",
            "                -- SET wal_level = 'replica';\n",
            "                -- SET max_wal_size = 'DEFAULT';\n",
            "                SET maintenance_work_mem = '1GB';\n",
            "                -- SET random_page_cost = '1.1';\n",
            "                -- SET parallel_tuple_cost = '0.1';\n",
            "                -- SET parallel_setup_cost = '1000';\n",
            "                SET max_parallel_workers = '60';\n",
            "                SET work_mem = '1GB';\n",
            "                SET max_parallel_workers_per_gather = '60';\n",
            "                -- SET shared_buffers = '28GB';\n",
            "                SET effective_cache_size = '86GB';\n",
            "                -- SET effective_io_concurrency = '200';\n",
            "            \n"
          ]
        },
        {
          "name": "stderr",
          "output_type": "stream",
          "text": [
            " 95%|█████████▌| 95/100 [00:31<00:01,  2.77it/s]"
          ]
        },
        {
          "name": "stdout",
          "output_type": "stream",
          "text": [
            "  Query execution time: 0.39 seconds\n",
            "  Found 7000 results\n",
            "top_k: 7000\n",
            "Query time: 0.40s\n",
            "Found 7000 results\n",
            "Session resources set for query optimization:\n",
            "\n",
            "                SET synchronous_commit = 'on';\n",
            "                -- SET wal_level = 'replica';\n",
            "                -- SET max_wal_size = 'DEFAULT';\n",
            "                SET maintenance_work_mem = '1GB';\n",
            "                -- SET random_page_cost = '1.1';\n",
            "                -- SET parallel_tuple_cost = '0.1';\n",
            "                -- SET parallel_setup_cost = '1000';\n",
            "                SET max_parallel_workers = '60';\n",
            "                SET work_mem = '1GB';\n",
            "                SET max_parallel_workers_per_gather = '60';\n",
            "                -- SET shared_buffers = '28GB';\n",
            "                SET effective_cache_size = '86GB';\n",
            "                -- SET effective_io_concurrency = '200';\n",
            "            \n"
          ]
        },
        {
          "name": "stderr",
          "output_type": "stream",
          "text": [
            " 96%|█████████▌| 96/100 [00:31<00:01,  2.90it/s]"
          ]
        },
        {
          "name": "stdout",
          "output_type": "stream",
          "text": [
            "  Query execution time: 0.29 seconds\n",
            "  Found 7000 results\n",
            "top_k: 7000\n",
            "Query time: 0.30s\n",
            "Found 7000 results\n",
            "Session resources set for query optimization:\n",
            "\n",
            "                SET synchronous_commit = 'on';\n",
            "                -- SET wal_level = 'replica';\n",
            "                -- SET max_wal_size = 'DEFAULT';\n",
            "                SET maintenance_work_mem = '1GB';\n",
            "                -- SET random_page_cost = '1.1';\n",
            "                -- SET parallel_tuple_cost = '0.1';\n",
            "                -- SET parallel_setup_cost = '1000';\n",
            "                SET max_parallel_workers = '60';\n",
            "                SET work_mem = '1GB';\n",
            "                SET max_parallel_workers_per_gather = '60';\n",
            "                -- SET shared_buffers = '28GB';\n",
            "                SET effective_cache_size = '86GB';\n",
            "                -- SET effective_io_concurrency = '200';\n",
            "            \n"
          ]
        },
        {
          "name": "stderr",
          "output_type": "stream",
          "text": [
            " 97%|█████████▋| 97/100 [00:32<00:01,  2.85it/s]"
          ]
        },
        {
          "name": "stdout",
          "output_type": "stream",
          "text": [
            "  Query execution time: 0.35 seconds\n",
            "  Found 7000 results\n",
            "top_k: 7000\n",
            "Query time: 0.36s\n",
            "Found 7000 results\n",
            "Session resources set for query optimization:\n",
            "\n",
            "                SET synchronous_commit = 'on';\n",
            "                -- SET wal_level = 'replica';\n",
            "                -- SET max_wal_size = 'DEFAULT';\n",
            "                SET maintenance_work_mem = '1GB';\n",
            "                -- SET random_page_cost = '1.1';\n",
            "                -- SET parallel_tuple_cost = '0.1';\n",
            "                -- SET parallel_setup_cost = '1000';\n",
            "                SET max_parallel_workers = '60';\n",
            "                SET work_mem = '1GB';\n",
            "                SET max_parallel_workers_per_gather = '60';\n",
            "                -- SET shared_buffers = '28GB';\n",
            "                SET effective_cache_size = '86GB';\n",
            "                -- SET effective_io_concurrency = '200';\n",
            "            \n"
          ]
        },
        {
          "name": "stderr",
          "output_type": "stream",
          "text": [
            " 98%|█████████▊| 98/100 [00:32<00:00,  2.89it/s]"
          ]
        },
        {
          "name": "stdout",
          "output_type": "stream",
          "text": [
            "  Query execution time: 0.32 seconds\n",
            "  Found 7000 results\n",
            "top_k: 7000\n",
            "Query time: 0.33s\n",
            "Found 7000 results\n",
            "Session resources set for query optimization:\n",
            "\n",
            "                SET synchronous_commit = 'on';\n",
            "                -- SET wal_level = 'replica';\n",
            "                -- SET max_wal_size = 'DEFAULT';\n",
            "                SET maintenance_work_mem = '1GB';\n",
            "                -- SET random_page_cost = '1.1';\n",
            "                -- SET parallel_tuple_cost = '0.1';\n",
            "                -- SET parallel_setup_cost = '1000';\n",
            "                SET max_parallel_workers = '60';\n",
            "                SET work_mem = '1GB';\n",
            "                SET max_parallel_workers_per_gather = '60';\n",
            "                -- SET shared_buffers = '28GB';\n",
            "                SET effective_cache_size = '86GB';\n",
            "                -- SET effective_io_concurrency = '200';\n",
            "            \n"
          ]
        },
        {
          "name": "stderr",
          "output_type": "stream",
          "text": [
            " 99%|█████████▉| 99/100 [00:32<00:00,  3.10it/s]"
          ]
        },
        {
          "name": "stdout",
          "output_type": "stream",
          "text": [
            "  Query execution time: 0.25 seconds\n",
            "  Found 7000 results\n",
            "top_k: 7000\n",
            "Query time: 0.26s\n",
            "Found 7000 results\n",
            "Session resources set for query optimization:\n",
            "\n",
            "                SET synchronous_commit = 'on';\n",
            "                -- SET wal_level = 'replica';\n",
            "                -- SET max_wal_size = 'DEFAULT';\n",
            "                SET maintenance_work_mem = '1GB';\n",
            "                -- SET random_page_cost = '1.1';\n",
            "                -- SET parallel_tuple_cost = '0.1';\n",
            "                -- SET parallel_setup_cost = '1000';\n",
            "                SET max_parallel_workers = '60';\n",
            "                SET work_mem = '1GB';\n",
            "                SET max_parallel_workers_per_gather = '60';\n",
            "                -- SET shared_buffers = '28GB';\n",
            "                SET effective_cache_size = '86GB';\n",
            "                -- SET effective_io_concurrency = '200';\n",
            "            \n"
          ]
        },
        {
          "name": "stderr",
          "output_type": "stream",
          "text": [
            "100%|██████████| 100/100 [00:33<00:00,  3.01it/s]"
          ]
        },
        {
          "name": "stdout",
          "output_type": "stream",
          "text": [
            "  Query execution time: 0.27 seconds\n",
            "  Found 7000 results\n",
            "top_k: 7000\n",
            "Query time: 0.29s\n",
            "Found 7000 results\n",
            "111\n"
          ]
        },
        {
          "name": "stderr",
          "output_type": "stream",
          "text": [
            "\n"
          ]
        }
      ],
      "source": [
        "results = ranks_at_k(\n",
        "    examples=examples,\n",
        "    embedder_name='BAAI/bge-small-en',\n",
        "    enricher_name='identity',\n",
        "    target_column='bge',\n",
        "    top_k=7000,\n",
        "    probes=80\n",
        ")\n",
        "print(len(results))"
      ]
    },
    {
      "cell_type": "code",
      "execution_count": 37,
      "metadata": {},
      "outputs": [
        {
          "name": "stdout",
          "output_type": "stream",
          "text": [
            "Found 92 out of 111\n",
            "Found 82.88%\n"
          ]
        }
      ],
      "source": [
        "found = len([r for r in results if r != -1])\n",
        "print(f\"Found {found} out of {len(results)}\")\n",
        "print(f\"Found {found/len(results)*100:.2f}%\")"
      ]
    },
    {
      "cell_type": "code",
      "execution_count": 35,
      "metadata": {},
      "outputs": [
        {
          "name": "stdout",
          "output_type": "stream",
          "text": [
            "0 -1\n",
            "1 596\n",
            "2 7281\n",
            "3 1972\n",
            "4 0\n",
            "5 24\n",
            "6 0\n",
            "7 503\n",
            "8 -1\n",
            "9 468\n",
            "10 -1\n",
            "11 -1\n",
            "12 5\n",
            "13 1\n",
            "14 -1\n",
            "15 20\n",
            "16 1272\n",
            "17 164\n",
            "18 8045\n",
            "19 3530\n",
            "20 571\n",
            "21 365\n",
            "22 0\n",
            "23 1\n",
            "24 0\n",
            "25 -1\n",
            "26 5\n",
            "27 177\n",
            "28 3\n",
            "29 -1\n",
            "30 1\n",
            "31 32\n",
            "32 660\n",
            "33 287\n",
            "34 77\n",
            "35 1\n",
            "36 3891\n",
            "37 95\n",
            "38 340\n",
            "39 0\n",
            "40 104\n",
            "41 3\n",
            "42 1\n",
            "43 -1\n",
            "44 2904\n",
            "45 3100\n",
            "46 -1\n",
            "47 0\n",
            "48 26\n",
            "49 47\n",
            "50 -1\n",
            "51 1\n",
            "52 5571\n",
            "53 452\n",
            "54 250\n",
            "55 1\n",
            "56 2\n",
            "57 0\n",
            "58 383\n",
            "59 -1\n",
            "60 0\n",
            "61 -1\n",
            "62 0\n",
            "63 329\n",
            "64 -1\n",
            "65 97\n",
            "66 319\n",
            "67 339\n",
            "68 46\n",
            "69 6\n",
            "70 1746\n",
            "71 0\n",
            "72 70\n",
            "73 6\n",
            "74 -1\n",
            "75 -1\n",
            "76 3615\n",
            "77 -1\n",
            "78 9\n",
            "79 2704\n",
            "80 4\n",
            "81 -1\n",
            "82 1\n",
            "83 22\n",
            "84 565\n",
            "85 531\n",
            "86 1150\n",
            "87 4\n",
            "88 -1\n",
            "89 2098\n",
            "90 -1\n",
            "91 30\n",
            "92 16\n",
            "93 6665\n",
            "94 1\n",
            "95 7\n",
            "96 750\n",
            "97 540\n",
            "98 204\n",
            "99 25\n",
            "100 221\n",
            "101 0\n",
            "102 1344\n",
            "103 607\n",
            "104 -1\n",
            "105 1\n",
            "106 54\n",
            "107 1583\n",
            "108 688\n",
            "109 2\n",
            "110 27\n"
          ]
        }
      ],
      "source": [
        "for i, result in enumerate(results):\n",
        "    print(i, result)"
      ]
    },
    {
      "cell_type": "code",
      "execution_count": 24,
      "metadata": {},
      "outputs": [
        {
          "data": {
            "text/plain": [
              "'This is clearly shown by the lateral duplicate sampling performed by , SI fig. S4) .'"
            ]
          },
          "execution_count": 24,
          "metadata": {},
          "output_type": "execute_result"
        }
      ],
      "source": [
        "examples.iloc[93]['sent_no_cit']"
      ]
    },
    {
      "cell_type": "code",
      "execution_count": 4,
      "metadata": {},
      "outputs": [
        {
          "name": "stdout",
          "output_type": "stream",
          "text": [
            "Combos: [('BAAI/bge-small-en', 'identity'), ('BAAI/bge-small-en', 'add_abstract'), ('BAAI/bge-small-en', 'add_title'), ('BAAI/bge-small-en', 'add_title_and_abstract')]\n"
          ]
        }
      ],
      "source": [
        "from itertools import product\n",
        "                      \n",
        "embedding_models = ['BAAI/bge-small-en']\n",
        "enrichment_methods = ['identity', 'add_abstract',\n",
        "                      'add_title', 'add_title_and_abstract']\n",
        "if device == 'cuda':\n",
        "    embedding_models += ['bert-base-uncased', 'adsabs/astroBERT']\n",
        "\n",
        "combos = list(product(embedding_models, enrichment_methods))\n",
        "print(f\"Combos: {combos}\")"
      ]
    },
    {
      "cell_type": "code",
      "execution_count": null,
      "metadata": {},
      "outputs": [
        {
          "name": "stdout",
          "output_type": "stream",
          "text": [
            "Embedding model: BAAI/bge-small-en, Enricher: identity\n"
          ]
        },
        {
          "name": "stderr",
          "output_type": "stream",
          "text": [
            "  0%|          | 0/1 [00:00<?, ?it/s]"
          ]
        },
        {
          "name": "stdout",
          "output_type": "stream",
          "text": [
            "  WARNING: ef_search (20) is less than top_k (2261334).\n",
            "  Query execution time: 37.84 seconds\n",
            "Found 2261334 results\n",
            "FOUND\n",
            "FOUND\n",
            "FOUND\n",
            "FOUND\n",
            "FOUND\n",
            "FOUND\n",
            "FOUND\n",
            "FOUND\n",
            "FOUND\n",
            "FOUND\n",
            "FOUND\n",
            "FOUND\n",
            "FOUND\n",
            "FOUND\n",
            "FOUND\n",
            "FOUND\n",
            "FOUND\n",
            "FOUND\n",
            "FOUND\n",
            "FOUND\n",
            "FOUND\n",
            "FOUND\n",
            "FOUND\n",
            "FOUND\n",
            "FOUND\n",
            "FOUND\n",
            "FOUND\n",
            "FOUND\n",
            "FOUND\n",
            "FOUND\n",
            "FOUND\n"
          ]
        },
        {
          "name": "stderr",
          "output_type": "stream",
          "text": [
            "100%|██████████| 1/1 [00:48<00:00, 48.30s/it]\n"
          ]
        },
        {
          "name": "stdout",
          "output_type": "stream",
          "text": [
            "Embedding model: BAAI/bge-small-en, Enricher: add_abstract\n"
          ]
        },
        {
          "name": "stderr",
          "output_type": "stream",
          "text": [
            "  0%|          | 0/1 [00:00<?, ?it/s]"
          ]
        },
        {
          "name": "stdout",
          "output_type": "stream",
          "text": [
            "  WARNING: ef_search (20) is less than top_k (2261334).\n",
            "  Query execution time: 35.50 seconds\n",
            "Found 2261334 results\n",
            "FOUND\n",
            "FOUND\n",
            "FOUND\n",
            "FOUND\n",
            "FOUND\n",
            "FOUND\n",
            "FOUND\n",
            "FOUND\n",
            "FOUND\n",
            "FOUND\n",
            "FOUND\n",
            "FOUND\n",
            "FOUND\n",
            "FOUND\n",
            "FOUND\n",
            "FOUND\n",
            "FOUND\n",
            "FOUND\n",
            "FOUND\n",
            "FOUND\n",
            "FOUND\n",
            "FOUND\n",
            "FOUND\n",
            "FOUND\n",
            "FOUND\n",
            "FOUND\n",
            "FOUND\n",
            "FOUND\n",
            "FOUND\n",
            "FOUND\n",
            "FOUND\n"
          ]
        },
        {
          "name": "stderr",
          "output_type": "stream",
          "text": [
            "100%|██████████| 1/1 [00:45<00:00, 45.27s/it]\n"
          ]
        },
        {
          "name": "stdout",
          "output_type": "stream",
          "text": [
            "Embedding model: BAAI/bge-small-en, Enricher: add_title\n"
          ]
        },
        {
          "name": "stderr",
          "output_type": "stream",
          "text": [
            "  0%|          | 0/1 [00:00<?, ?it/s]"
          ]
        },
        {
          "name": "stdout",
          "output_type": "stream",
          "text": [
            "  WARNING: ef_search (20) is less than top_k (2261334).\n",
            "  Query execution time: 35.98 seconds\n",
            "Found 2261334 results\n",
            "FOUND\n",
            "FOUND\n",
            "FOUND\n",
            "FOUND\n",
            "FOUND\n",
            "FOUND\n",
            "FOUND\n",
            "FOUND\n",
            "FOUND\n",
            "FOUND\n",
            "FOUND\n",
            "FOUND\n",
            "FOUND\n",
            "FOUND\n",
            "FOUND\n",
            "FOUND\n",
            "FOUND\n",
            "FOUND\n",
            "FOUND\n",
            "FOUND\n",
            "FOUND\n",
            "FOUND\n",
            "FOUND\n",
            "FOUND\n",
            "FOUND\n",
            "FOUND\n",
            "FOUND\n",
            "FOUND\n",
            "FOUND\n",
            "FOUND\n",
            "FOUND\n"
          ]
        },
        {
          "name": "stderr",
          "output_type": "stream",
          "text": [
            "100%|██████████| 1/1 [00:46<00:00, 46.11s/it]\n"
          ]
        },
        {
          "name": "stdout",
          "output_type": "stream",
          "text": [
            "Embedding model: BAAI/bge-small-en, Enricher: add_title_and_abstract\n"
          ]
        },
        {
          "name": "stderr",
          "output_type": "stream",
          "text": [
            "  0%|          | 0/1 [00:00<?, ?it/s]"
          ]
        },
        {
          "name": "stdout",
          "output_type": "stream",
          "text": [
            "  WARNING: ef_search (20) is less than top_k (2261334).\n",
            "  Query execution time: 34.77 seconds\n",
            "Found 2261334 results\n",
            "FOUND\n",
            "FOUND\n",
            "FOUND\n",
            "FOUND\n",
            "FOUND\n",
            "FOUND\n",
            "FOUND\n",
            "FOUND\n",
            "FOUND\n",
            "FOUND\n",
            "FOUND\n",
            "FOUND\n",
            "FOUND\n",
            "FOUND\n",
            "FOUND\n",
            "FOUND\n",
            "FOUND\n",
            "FOUND\n",
            "FOUND\n",
            "FOUND\n",
            "FOUND\n",
            "FOUND\n",
            "FOUND\n",
            "FOUND\n",
            "FOUND\n",
            "FOUND\n",
            "FOUND\n",
            "FOUND\n",
            "FOUND\n",
            "FOUND\n",
            "FOUND\n"
          ]
        },
        {
          "name": "stderr",
          "output_type": "stream",
          "text": [
            "100%|██████████| 1/1 [00:44<00:00, 44.96s/it]\n"
          ]
        }
      ],
      "source": [
        "rank_data = {}\n",
        "for enricher_name in ['identity', 'add_abstract', 'add_title', 'add_title_and_abstract']:\n",
        "    rank_data[enricher_name] = ranks_at_k(\n",
        "        examples=examples,\n",
        "        embedder_name='BAAI/bge-small-en',\n",
        "        enricher_name=enricher_name,\n",
        "        target_column='bge_norm',\n",
        "        top_k=300_000,\n",
        "        probes=20\n",
        "    )"
      ]
    },
    {
      "cell_type": "code",
      "execution_count": 6,
      "metadata": {},
      "outputs": [
        {
          "name": "stdout",
          "output_type": "stream",
          "text": [
            "CGRO observations of X-ray binaries detected non-thermal power-law tails extending well beyond 100 keV with a photon index Γ LE ≈2.5–3 (Grove et al. 1998 ). \n",
            "Enricher: identity. Rank: 21\n",
            "Enricher: add_abstract. Rank: 348\n",
            "Enricher: add_title. Rank: 1\n",
            "Enricher: add_title_and_abstract. Rank: 285\n"
          ]
        }
      ],
      "source": [
        "print(examples.iloc[0].sent_original)\n",
        "for enricher_name, ranks in rank_data.items():\n",
        "    print(f\"Enricher: {enricher_name}. Rank: {ranks[0]}\")"
      ]
    },
    {
      "cell_type": "code",
      "execution_count": null,
      "metadata": {},
      "outputs": [
        {
          "name": "stdout",
          "output_type": "stream",
          "text": [
            "Embedding model: BAAI/bge-small-en, Enricher: identity\n"
          ]
        },
        {
          "name": "stderr",
          "output_type": "stream",
          "text": [
            "  0%|          | 0/2 [00:00<?, ?it/s]"
          ]
        },
        {
          "name": "stdout",
          "output_type": "stream",
          "text": [
            "  WARNING: ef_search (20) is less than top_k (2261334).\n",
            "  Query execution time: 34.42 seconds\n",
            "Found 2261334 results\n",
            "FOUND\n",
            "FOUND\n",
            "FOUND\n",
            "FOUND\n",
            "FOUND\n",
            "FOUND\n",
            "FOUND\n",
            "FOUND\n",
            "FOUND\n",
            "FOUND\n",
            "FOUND\n",
            "FOUND\n",
            "FOUND\n",
            "FOUND\n",
            "FOUND\n",
            "FOUND\n",
            "FOUND\n",
            "FOUND\n",
            "FOUND\n",
            "FOUND\n",
            "FOUND\n",
            "FOUND\n",
            "FOUND\n",
            "FOUND\n",
            "FOUND\n",
            "FOUND\n",
            "FOUND\n",
            "FOUND\n",
            "FOUND\n",
            "FOUND\n",
            "FOUND\n"
          ]
        },
        {
          "name": "stderr",
          "output_type": "stream",
          "text": [
            " 50%|█████     | 1/2 [00:44<00:44, 44.23s/it]"
          ]
        },
        {
          "name": "stdout",
          "output_type": "stream",
          "text": [
            "  WARNING: ef_search (20) is less than top_k (2261334).\n",
            "  Query execution time: 34.71 seconds\n",
            "Found 2261334 results\n",
            "FOUND\n",
            "FOUND\n",
            "FOUND\n",
            "FOUND\n",
            "FOUND\n",
            "FOUND\n",
            "FOUND\n",
            "FOUND\n",
            "FOUND\n",
            "FOUND\n",
            "FOUND\n",
            "FOUND\n",
            "FOUND\n",
            "FOUND\n",
            "FOUND\n",
            "FOUND\n",
            "FOUND\n",
            "FOUND\n",
            "FOUND\n",
            "FOUND\n",
            "FOUND\n",
            "FOUND\n",
            "FOUND\n",
            "FOUND\n",
            "FOUND\n",
            "FOUND\n",
            "FOUND\n",
            "FOUND\n",
            "FOUND\n",
            "FOUND\n",
            "FOUND\n"
          ]
        },
        {
          "name": "stderr",
          "output_type": "stream",
          "text": [
            "100%|██████████| 2/2 [01:28<00:00, 44.34s/it]\n"
          ]
        },
        {
          "name": "stdout",
          "output_type": "stream",
          "text": [
            "Embedding model: BAAI/bge-small-en, Enricher: add_abstract\n"
          ]
        },
        {
          "name": "stderr",
          "output_type": "stream",
          "text": [
            "  0%|          | 0/2 [00:00<?, ?it/s]"
          ]
        },
        {
          "name": "stdout",
          "output_type": "stream",
          "text": [
            "  WARNING: ef_search (20) is less than top_k (2261334).\n",
            "  Query execution time: 34.46 seconds\n",
            "Found 2261334 results\n",
            "FOUND\n",
            "FOUND\n",
            "FOUND\n",
            "FOUND\n",
            "FOUND\n",
            "FOUND\n",
            "FOUND\n",
            "FOUND\n",
            "FOUND\n",
            "FOUND\n",
            "FOUND\n",
            "FOUND\n",
            "FOUND\n",
            "FOUND\n",
            "FOUND\n",
            "FOUND\n",
            "FOUND\n",
            "FOUND\n",
            "FOUND\n",
            "FOUND\n",
            "FOUND\n",
            "FOUND\n",
            "FOUND\n",
            "FOUND\n",
            "FOUND\n",
            "FOUND\n",
            "FOUND\n",
            "FOUND\n",
            "FOUND\n",
            "FOUND\n",
            "FOUND\n"
          ]
        },
        {
          "name": "stderr",
          "output_type": "stream",
          "text": [
            " 50%|█████     | 1/2 [00:44<00:44, 44.64s/it]"
          ]
        },
        {
          "name": "stdout",
          "output_type": "stream",
          "text": [
            "  WARNING: ef_search (20) is less than top_k (2261334).\n",
            "  Query execution time: 34.72 seconds\n",
            "Found 2261334 results\n",
            "FOUND\n",
            "FOUND\n",
            "FOUND\n",
            "FOUND\n",
            "FOUND\n",
            "FOUND\n",
            "FOUND\n",
            "FOUND\n",
            "FOUND\n",
            "FOUND\n",
            "FOUND\n",
            "FOUND\n",
            "FOUND\n",
            "FOUND\n",
            "FOUND\n",
            "FOUND\n",
            "FOUND\n",
            "FOUND\n",
            "FOUND\n",
            "FOUND\n",
            "FOUND\n",
            "FOUND\n",
            "FOUND\n",
            "FOUND\n",
            "FOUND\n",
            "FOUND\n",
            "FOUND\n",
            "FOUND\n",
            "FOUND\n",
            "FOUND\n",
            "FOUND\n"
          ]
        },
        {
          "name": "stderr",
          "output_type": "stream",
          "text": [
            "100%|██████████| 2/2 [01:29<00:00, 44.53s/it]\n"
          ]
        },
        {
          "name": "stdout",
          "output_type": "stream",
          "text": [
            "Embedding model: BAAI/bge-small-en, Enricher: add_title\n"
          ]
        },
        {
          "name": "stderr",
          "output_type": "stream",
          "text": [
            "  0%|          | 0/2 [00:00<?, ?it/s]"
          ]
        },
        {
          "name": "stdout",
          "output_type": "stream",
          "text": [
            "  WARNING: ef_search (20) is less than top_k (2261334).\n",
            "  Query execution time: 34.76 seconds\n",
            "Found 2261334 results\n",
            "FOUND\n",
            "FOUND\n",
            "FOUND\n",
            "FOUND\n",
            "FOUND\n",
            "FOUND\n",
            "FOUND\n",
            "FOUND\n",
            "FOUND\n",
            "FOUND\n",
            "FOUND\n",
            "FOUND\n",
            "FOUND\n",
            "FOUND\n",
            "FOUND\n",
            "FOUND\n",
            "FOUND\n",
            "FOUND\n",
            "FOUND\n",
            "FOUND\n",
            "FOUND\n",
            "FOUND\n",
            "FOUND\n",
            "FOUND\n",
            "FOUND\n",
            "FOUND\n",
            "FOUND\n",
            "FOUND\n",
            "FOUND\n",
            "FOUND\n",
            "FOUND\n"
          ]
        },
        {
          "name": "stderr",
          "output_type": "stream",
          "text": [
            " 50%|█████     | 1/2 [00:45<00:45, 45.00s/it]"
          ]
        },
        {
          "name": "stdout",
          "output_type": "stream",
          "text": [
            "  WARNING: ef_search (20) is less than top_k (2261334).\n",
            "  Query execution time: 34.70 seconds\n",
            "Found 2261334 results\n",
            "FOUND\n",
            "FOUND\n",
            "FOUND\n",
            "FOUND\n",
            "FOUND\n",
            "FOUND\n",
            "FOUND\n",
            "FOUND\n",
            "FOUND\n",
            "FOUND\n",
            "FOUND\n",
            "FOUND\n",
            "FOUND\n",
            "FOUND\n",
            "FOUND\n",
            "FOUND\n",
            "FOUND\n",
            "FOUND\n",
            "FOUND\n",
            "FOUND\n",
            "FOUND\n",
            "FOUND\n",
            "FOUND\n",
            "FOUND\n",
            "FOUND\n",
            "FOUND\n",
            "FOUND\n",
            "FOUND\n",
            "FOUND\n",
            "FOUND\n",
            "FOUND\n"
          ]
        },
        {
          "name": "stderr",
          "output_type": "stream",
          "text": [
            "100%|██████████| 2/2 [01:29<00:00, 44.90s/it]\n"
          ]
        },
        {
          "name": "stdout",
          "output_type": "stream",
          "text": [
            "Embedding model: BAAI/bge-small-en, Enricher: add_title_and_abstract\n"
          ]
        },
        {
          "name": "stderr",
          "output_type": "stream",
          "text": [
            "  0%|          | 0/2 [00:00<?, ?it/s]"
          ]
        },
        {
          "name": "stdout",
          "output_type": "stream",
          "text": [
            "  WARNING: ef_search (20) is less than top_k (2261334).\n",
            "  Query execution time: 34.30 seconds\n",
            "Found 2261334 results\n",
            "FOUND\n",
            "FOUND\n",
            "FOUND\n",
            "FOUND\n",
            "FOUND\n",
            "FOUND\n",
            "FOUND\n",
            "FOUND\n",
            "FOUND\n",
            "FOUND\n",
            "FOUND\n",
            "FOUND\n",
            "FOUND\n",
            "FOUND\n",
            "FOUND\n",
            "FOUND\n",
            "FOUND\n",
            "FOUND\n",
            "FOUND\n",
            "FOUND\n",
            "FOUND\n",
            "FOUND\n",
            "FOUND\n",
            "FOUND\n",
            "FOUND\n",
            "FOUND\n",
            "FOUND\n",
            "FOUND\n",
            "FOUND\n",
            "FOUND\n",
            "FOUND\n"
          ]
        },
        {
          "name": "stderr",
          "output_type": "stream",
          "text": [
            " 50%|█████     | 1/2 [00:43<00:43, 43.56s/it]"
          ]
        },
        {
          "name": "stdout",
          "output_type": "stream",
          "text": [
            "  WARNING: ef_search (20) is less than top_k (2261334).\n",
            "  Query execution time: 35.42 seconds\n",
            "Found 2261334 results\n",
            "FOUND\n",
            "FOUND\n",
            "FOUND\n",
            "FOUND\n",
            "FOUND\n",
            "FOUND\n",
            "FOUND\n",
            "FOUND\n",
            "FOUND\n",
            "FOUND\n",
            "FOUND\n",
            "FOUND\n",
            "FOUND\n",
            "FOUND\n",
            "FOUND\n",
            "FOUND\n",
            "FOUND\n",
            "FOUND\n",
            "FOUND\n",
            "FOUND\n",
            "FOUND\n",
            "FOUND\n",
            "FOUND\n",
            "FOUND\n",
            "FOUND\n",
            "FOUND\n",
            "FOUND\n",
            "FOUND\n",
            "FOUND\n",
            "FOUND\n",
            "FOUND\n"
          ]
        },
        {
          "name": "stderr",
          "output_type": "stream",
          "text": [
            "100%|██████████| 2/2 [01:28<00:00, 44.34s/it]"
          ]
        },
        {
          "name": "stdout",
          "output_type": "stream",
          "text": [
            "Enricher: identity. Rank: 1159\n",
            "Enricher: add_abstract. Rank: 164\n",
            "Enricher: add_title. Rank: 138\n",
            "Enricher: add_title_and_abstract. Rank: 229\n"
          ]
        },
        {
          "name": "stderr",
          "output_type": "stream",
          "text": [
            "\n"
          ]
        }
      ],
      "source": [
        "new_examples = data.sample(2, random_state=29)\n",
        "\n",
        "new_rank_data = {}\n",
        "for enricher_name in ['identity', 'add_abstract', 'add_title', 'add_title_and_abstract']:\n",
        "    new_rank_data[enricher_name] = ranks_at_k(\n",
        "        examples=new_examples,\n",
        "        embedder_name='BAAI/bge-small-en',\n",
        "        enricher_name=enricher_name,\n",
        "        target_column='bge_norm',\n",
        "        top_k=2_261_334,\n",
        "        ef_search=20\n",
        "    )"
      ]
    },
    {
      "cell_type": "code",
      "execution_count": 8,
      "metadata": {},
      "outputs": [
        {
          "name": "stdout",
          "output_type": "stream",
          "text": [
            "Enricher: identity. Rank: [1159, 288, 288]\n",
            "Enricher: add_abstract. Rank: [164, 2903, 2903]\n",
            "Enricher: add_title. Rank: [138, 13693, 13693]\n",
            "Enricher: add_title_and_abstract. Rank: [229, 4420, 4420]\n"
          ]
        }
      ],
      "source": [
        "for enricher_name, ranks in new_rank_data.items():\n",
        "    print(f\"Enricher: {enricher_name}. Rank: {ranks}\")"
      ]
    },
    {
      "cell_type": "code",
      "execution_count": 9,
      "metadata": {},
      "outputs": [
        {
          "name": "stdout",
          "output_type": "stream",
          "text": [
            "Both Hood et al. ( 2009 ) and MacTaggart and Hood ( 2009 ) reported that a second MFR formed via magnetic reconnection (see below for a detailed description of this process) underneath the bodily emerged MFR. \n",
            "['10.1051/0004-6361/200912189', '10.1051/0004-6361/200912189']\n"
          ]
        }
      ],
      "source": [
        "print(new_examples.iloc[1].sent_original)\n",
        "print(new_examples.iloc[1].citation_dois)"
      ]
    },
    {
      "cell_type": "code",
      "execution_count": 10,
      "metadata": {},
      "outputs": [
        {
          "name": "stdout",
          "output_type": "stream",
          "text": [
            "Embedding model: BAAI/bge-small-en, Enricher: identity\n"
          ]
        },
        {
          "name": "stderr",
          "output_type": "stream",
          "text": [
            "  0%|          | 0/4 [00:00<?, ?it/s]"
          ]
        },
        {
          "name": "stdout",
          "output_type": "stream",
          "text": [
            "  WARNING: ef_search (20) is less than top_k (2261334).\n",
            "  Query execution time: 34.51 seconds\n",
            "Found 2261334 results\n",
            "FOUND\n",
            "FOUND\n",
            "FOUND\n",
            "FOUND\n",
            "FOUND\n",
            "FOUND\n",
            "FOUND\n",
            "FOUND\n",
            "FOUND\n",
            "FOUND\n",
            "FOUND\n",
            "FOUND\n",
            "FOUND\n",
            "FOUND\n",
            "FOUND\n",
            "FOUND\n",
            "FOUND\n",
            "FOUND\n",
            "FOUND\n",
            "FOUND\n",
            "FOUND\n",
            "FOUND\n",
            "FOUND\n",
            "FOUND\n",
            "FOUND\n",
            "FOUND\n",
            "FOUND\n",
            "FOUND\n",
            "FOUND\n",
            "FOUND\n",
            "FOUND\n"
          ]
        },
        {
          "name": "stderr",
          "output_type": "stream",
          "text": [
            " 25%|██▌       | 1/4 [00:44<02:14, 44.79s/it]"
          ]
        },
        {
          "name": "stdout",
          "output_type": "stream",
          "text": [
            "  WARNING: ef_search (20) is less than top_k (2261334).\n",
            "  Query execution time: 35.54 seconds\n",
            "Found 2261334 results\n",
            "FOUND\n",
            "FOUND\n",
            "FOUND\n",
            "FOUND\n",
            "FOUND\n",
            "FOUND\n",
            "FOUND\n",
            "FOUND\n",
            "FOUND\n",
            "FOUND\n",
            "FOUND\n",
            "FOUND\n",
            "FOUND\n",
            "FOUND\n",
            "FOUND\n",
            "FOUND\n",
            "FOUND\n",
            "FOUND\n",
            "FOUND\n",
            "FOUND\n",
            "FOUND\n",
            "FOUND\n",
            "FOUND\n",
            "FOUND\n",
            "FOUND\n",
            "FOUND\n",
            "FOUND\n",
            "FOUND\n",
            "FOUND\n",
            "FOUND\n",
            "FOUND\n"
          ]
        },
        {
          "name": "stderr",
          "output_type": "stream",
          "text": [
            " 50%|█████     | 2/4 [01:30<01:30, 45.33s/it]"
          ]
        },
        {
          "name": "stdout",
          "output_type": "stream",
          "text": [
            "  WARNING: ef_search (20) is less than top_k (2261334).\n",
            "  Query execution time: 36.06 seconds\n",
            "Found 2261334 results\n",
            "FOUND\n",
            "FOUND\n",
            "FOUND\n",
            "FOUND\n",
            "FOUND\n",
            "FOUND\n",
            "FOUND\n",
            "FOUND\n",
            "FOUND\n",
            "FOUND\n",
            "FOUND\n",
            "FOUND\n",
            "FOUND\n",
            "FOUND\n",
            "FOUND\n",
            "FOUND\n",
            "FOUND\n",
            "FOUND\n",
            "FOUND\n",
            "FOUND\n",
            "FOUND\n",
            "FOUND\n",
            "FOUND\n",
            "FOUND\n",
            "FOUND\n",
            "FOUND\n",
            "FOUND\n",
            "FOUND\n",
            "FOUND\n",
            "FOUND\n",
            "FOUND\n"
          ]
        },
        {
          "name": "stderr",
          "output_type": "stream",
          "text": [
            " 75%|███████▌  | 3/4 [02:16<00:45, 45.69s/it]"
          ]
        },
        {
          "name": "stdout",
          "output_type": "stream",
          "text": [
            "  WARNING: ef_search (20) is less than top_k (2261334).\n",
            "  Query execution time: 35.24 seconds\n",
            "Found 2261334 results\n",
            "FOUND\n",
            "FOUND\n",
            "FOUND\n",
            "FOUND\n",
            "FOUND\n",
            "FOUND\n",
            "FOUND\n",
            "FOUND\n",
            "FOUND\n",
            "FOUND\n",
            "FOUND\n",
            "FOUND\n",
            "FOUND\n",
            "FOUND\n",
            "FOUND\n",
            "FOUND\n",
            "FOUND\n",
            "FOUND\n",
            "FOUND\n",
            "FOUND\n",
            "FOUND\n",
            "FOUND\n",
            "FOUND\n",
            "FOUND\n",
            "FOUND\n",
            "FOUND\n",
            "FOUND\n",
            "FOUND\n",
            "FOUND\n",
            "FOUND\n",
            "FOUND\n"
          ]
        },
        {
          "name": "stderr",
          "output_type": "stream",
          "text": [
            "100%|██████████| 4/4 [03:01<00:00, 45.49s/it]\n"
          ]
        },
        {
          "name": "stdout",
          "output_type": "stream",
          "text": [
            "Embedding model: BAAI/bge-small-en, Enricher: add_abstract\n"
          ]
        },
        {
          "name": "stderr",
          "output_type": "stream",
          "text": [
            "  0%|          | 0/4 [00:00<?, ?it/s]"
          ]
        },
        {
          "name": "stdout",
          "output_type": "stream",
          "text": [
            "  WARNING: ef_search (20) is less than top_k (2261334).\n",
            "  Query execution time: 35.42 seconds\n",
            "Found 2261334 results\n",
            "FOUND\n",
            "FOUND\n",
            "FOUND\n",
            "FOUND\n",
            "FOUND\n",
            "FOUND\n",
            "FOUND\n",
            "FOUND\n",
            "FOUND\n",
            "FOUND\n",
            "FOUND\n",
            "FOUND\n",
            "FOUND\n",
            "FOUND\n",
            "FOUND\n",
            "FOUND\n",
            "FOUND\n",
            "FOUND\n",
            "FOUND\n",
            "FOUND\n",
            "FOUND\n",
            "FOUND\n",
            "FOUND\n",
            "FOUND\n",
            "FOUND\n",
            "FOUND\n",
            "FOUND\n",
            "FOUND\n",
            "FOUND\n",
            "FOUND\n",
            "FOUND\n"
          ]
        },
        {
          "name": "stderr",
          "output_type": "stream",
          "text": [
            " 25%|██▌       | 1/4 [00:46<02:18, 46.04s/it]"
          ]
        },
        {
          "name": "stdout",
          "output_type": "stream",
          "text": [
            "  WARNING: ef_search (20) is less than top_k (2261334).\n",
            "  Query execution time: 35.21 seconds\n",
            "Found 2261334 results\n",
            "FOUND\n",
            "FOUND\n",
            "FOUND\n",
            "FOUND\n",
            "FOUND\n",
            "FOUND\n",
            "FOUND\n",
            "FOUND\n",
            "FOUND\n",
            "FOUND\n",
            "FOUND\n",
            "FOUND\n",
            "FOUND\n",
            "FOUND\n",
            "FOUND\n",
            "FOUND\n",
            "FOUND\n",
            "FOUND\n",
            "FOUND\n",
            "FOUND\n",
            "FOUND\n",
            "FOUND\n",
            "FOUND\n",
            "FOUND\n",
            "FOUND\n",
            "FOUND\n",
            "FOUND\n",
            "FOUND\n",
            "FOUND\n",
            "FOUND\n",
            "FOUND\n"
          ]
        },
        {
          "name": "stderr",
          "output_type": "stream",
          "text": [
            " 50%|█████     | 2/4 [01:31<01:31, 45.57s/it]"
          ]
        },
        {
          "name": "stdout",
          "output_type": "stream",
          "text": [
            "  WARNING: ef_search (20) is less than top_k (2261334).\n",
            "  Query execution time: 35.37 seconds\n",
            "Found 2261334 results\n",
            "FOUND\n",
            "FOUND\n",
            "FOUND\n",
            "FOUND\n",
            "FOUND\n",
            "FOUND\n",
            "FOUND\n",
            "FOUND\n",
            "FOUND\n",
            "FOUND\n",
            "FOUND\n",
            "FOUND\n",
            "FOUND\n",
            "FOUND\n",
            "FOUND\n",
            "FOUND\n",
            "FOUND\n",
            "FOUND\n",
            "FOUND\n",
            "FOUND\n",
            "FOUND\n",
            "FOUND\n",
            "FOUND\n",
            "FOUND\n",
            "FOUND\n",
            "FOUND\n",
            "FOUND\n",
            "FOUND\n",
            "FOUND\n",
            "FOUND\n",
            "FOUND\n"
          ]
        },
        {
          "name": "stderr",
          "output_type": "stream",
          "text": [
            " 75%|███████▌  | 3/4 [02:17<00:45, 45.66s/it]"
          ]
        },
        {
          "name": "stdout",
          "output_type": "stream",
          "text": [
            "  WARNING: ef_search (20) is less than top_k (2261334).\n",
            "  Query execution time: 35.10 seconds\n",
            "Found 2261334 results\n",
            "FOUND\n",
            "FOUND\n",
            "FOUND\n",
            "FOUND\n",
            "FOUND\n",
            "FOUND\n",
            "FOUND\n",
            "FOUND\n",
            "FOUND\n",
            "FOUND\n",
            "FOUND\n",
            "FOUND\n",
            "FOUND\n",
            "FOUND\n",
            "FOUND\n",
            "FOUND\n",
            "FOUND\n",
            "FOUND\n",
            "FOUND\n",
            "FOUND\n",
            "FOUND\n",
            "FOUND\n",
            "FOUND\n",
            "FOUND\n",
            "FOUND\n",
            "FOUND\n",
            "FOUND\n",
            "FOUND\n",
            "FOUND\n",
            "FOUND\n",
            "FOUND\n"
          ]
        },
        {
          "name": "stderr",
          "output_type": "stream",
          "text": [
            "100%|██████████| 4/4 [03:02<00:00, 45.60s/it]\n"
          ]
        },
        {
          "name": "stdout",
          "output_type": "stream",
          "text": [
            "Embedding model: BAAI/bge-small-en, Enricher: add_title\n"
          ]
        },
        {
          "name": "stderr",
          "output_type": "stream",
          "text": [
            "  0%|          | 0/4 [00:00<?, ?it/s]"
          ]
        },
        {
          "name": "stdout",
          "output_type": "stream",
          "text": [
            "  WARNING: ef_search (20) is less than top_k (2261334).\n",
            "  Query execution time: 35.64 seconds\n",
            "Found 2261334 results\n",
            "FOUND\n",
            "FOUND\n",
            "FOUND\n",
            "FOUND\n",
            "FOUND\n",
            "FOUND\n",
            "FOUND\n",
            "FOUND\n",
            "FOUND\n",
            "FOUND\n",
            "FOUND\n",
            "FOUND\n",
            "FOUND\n",
            "FOUND\n",
            "FOUND\n",
            "FOUND\n",
            "FOUND\n",
            "FOUND\n",
            "FOUND\n",
            "FOUND\n",
            "FOUND\n",
            "FOUND\n",
            "FOUND\n",
            "FOUND\n",
            "FOUND\n",
            "FOUND\n",
            "FOUND\n",
            "FOUND\n",
            "FOUND\n",
            "FOUND\n",
            "FOUND\n"
          ]
        },
        {
          "name": "stderr",
          "output_type": "stream",
          "text": [
            " 25%|██▌       | 1/4 [00:45<02:16, 45.36s/it]"
          ]
        },
        {
          "name": "stdout",
          "output_type": "stream",
          "text": [
            "  WARNING: ef_search (20) is less than top_k (2261334).\n",
            "  Query execution time: 35.47 seconds\n",
            "Found 2261334 results\n",
            "FOUND\n",
            "FOUND\n",
            "FOUND\n",
            "FOUND\n",
            "FOUND\n",
            "FOUND\n",
            "FOUND\n",
            "FOUND\n",
            "FOUND\n",
            "FOUND\n",
            "FOUND\n",
            "FOUND\n",
            "FOUND\n",
            "FOUND\n",
            "FOUND\n",
            "FOUND\n",
            "FOUND\n",
            "FOUND\n",
            "FOUND\n",
            "FOUND\n",
            "FOUND\n",
            "FOUND\n",
            "FOUND\n",
            "FOUND\n",
            "FOUND\n",
            "FOUND\n",
            "FOUND\n",
            "FOUND\n",
            "FOUND\n",
            "FOUND\n",
            "FOUND\n"
          ]
        },
        {
          "name": "stderr",
          "output_type": "stream",
          "text": [
            " 50%|█████     | 2/4 [01:30<01:31, 45.51s/it]"
          ]
        },
        {
          "name": "stdout",
          "output_type": "stream",
          "text": [
            "  WARNING: ef_search (20) is less than top_k (2261334).\n",
            "  Query execution time: 35.53 seconds\n",
            "Found 2261334 results\n",
            "FOUND\n",
            "FOUND\n",
            "FOUND\n",
            "FOUND\n",
            "FOUND\n",
            "FOUND\n",
            "FOUND\n",
            "FOUND\n",
            "FOUND\n",
            "FOUND\n",
            "FOUND\n",
            "FOUND\n",
            "FOUND\n",
            "FOUND\n",
            "FOUND\n",
            "FOUND\n",
            "FOUND\n",
            "FOUND\n",
            "FOUND\n",
            "FOUND\n",
            "FOUND\n",
            "FOUND\n",
            "FOUND\n",
            "FOUND\n",
            "FOUND\n",
            "FOUND\n",
            "FOUND\n",
            "FOUND\n",
            "FOUND\n",
            "FOUND\n",
            "FOUND\n"
          ]
        },
        {
          "name": "stderr",
          "output_type": "stream",
          "text": [
            " 75%|███████▌  | 3/4 [02:16<00:45, 45.57s/it]"
          ]
        },
        {
          "name": "stdout",
          "output_type": "stream",
          "text": [
            "  WARNING: ef_search (20) is less than top_k (2261334).\n",
            "  Query execution time: 35.83 seconds\n",
            "Found 2261334 results\n",
            "FOUND\n",
            "FOUND\n",
            "FOUND\n",
            "FOUND\n",
            "FOUND\n",
            "FOUND\n",
            "FOUND\n",
            "FOUND\n",
            "FOUND\n",
            "FOUND\n",
            "FOUND\n",
            "FOUND\n",
            "FOUND\n",
            "FOUND\n",
            "FOUND\n",
            "FOUND\n",
            "FOUND\n",
            "FOUND\n",
            "FOUND\n",
            "FOUND\n",
            "FOUND\n",
            "FOUND\n",
            "FOUND\n",
            "FOUND\n",
            "FOUND\n",
            "FOUND\n",
            "FOUND\n",
            "FOUND\n",
            "FOUND\n",
            "FOUND\n",
            "FOUND\n"
          ]
        },
        {
          "name": "stderr",
          "output_type": "stream",
          "text": [
            "100%|██████████| 4/4 [03:02<00:00, 45.70s/it]\n"
          ]
        },
        {
          "name": "stdout",
          "output_type": "stream",
          "text": [
            "Embedding model: BAAI/bge-small-en, Enricher: add_title_and_abstract\n"
          ]
        },
        {
          "name": "stderr",
          "output_type": "stream",
          "text": [
            "  0%|          | 0/4 [00:00<?, ?it/s]"
          ]
        },
        {
          "name": "stdout",
          "output_type": "stream",
          "text": [
            "  WARNING: ef_search (20) is less than top_k (2261334).\n",
            "  Query execution time: 36.36 seconds\n",
            "Found 2261334 results\n",
            "FOUND\n",
            "FOUND\n",
            "FOUND\n",
            "FOUND\n",
            "FOUND\n",
            "FOUND\n",
            "FOUND\n",
            "FOUND\n",
            "FOUND\n",
            "FOUND\n",
            "FOUND\n",
            "FOUND\n",
            "FOUND\n",
            "FOUND\n",
            "FOUND\n",
            "FOUND\n",
            "FOUND\n",
            "FOUND\n",
            "FOUND\n",
            "FOUND\n",
            "FOUND\n",
            "FOUND\n",
            "FOUND\n",
            "FOUND\n",
            "FOUND\n",
            "FOUND\n",
            "FOUND\n",
            "FOUND\n",
            "FOUND\n",
            "FOUND\n",
            "FOUND\n"
          ]
        },
        {
          "name": "stderr",
          "output_type": "stream",
          "text": [
            " 25%|██▌       | 1/4 [00:46<02:19, 46.39s/it]"
          ]
        },
        {
          "name": "stdout",
          "output_type": "stream",
          "text": [
            "  WARNING: ef_search (20) is less than top_k (2261334).\n",
            "  Query execution time: 35.10 seconds\n",
            "Found 2261334 results\n",
            "FOUND\n",
            "FOUND\n",
            "FOUND\n",
            "FOUND\n",
            "FOUND\n",
            "FOUND\n",
            "FOUND\n",
            "FOUND\n",
            "FOUND\n",
            "FOUND\n",
            "FOUND\n",
            "FOUND\n",
            "FOUND\n",
            "FOUND\n",
            "FOUND\n",
            "FOUND\n",
            "FOUND\n",
            "FOUND\n",
            "FOUND\n",
            "FOUND\n",
            "FOUND\n",
            "FOUND\n",
            "FOUND\n",
            "FOUND\n",
            "FOUND\n",
            "FOUND\n",
            "FOUND\n",
            "FOUND\n",
            "FOUND\n",
            "FOUND\n",
            "FOUND\n"
          ]
        },
        {
          "name": "stderr",
          "output_type": "stream",
          "text": [
            " 50%|█████     | 2/4 [01:31<01:31, 45.72s/it]"
          ]
        },
        {
          "name": "stdout",
          "output_type": "stream",
          "text": [
            "  WARNING: ef_search (20) is less than top_k (2261334).\n",
            "  Query execution time: 35.81 seconds\n",
            "Found 2261334 results\n",
            "FOUND\n",
            "FOUND\n",
            "FOUND\n",
            "FOUND\n",
            "FOUND\n",
            "FOUND\n",
            "FOUND\n",
            "FOUND\n",
            "FOUND\n",
            "FOUND\n",
            "FOUND\n",
            "FOUND\n",
            "FOUND\n",
            "FOUND\n",
            "FOUND\n",
            "FOUND\n",
            "FOUND\n",
            "FOUND\n",
            "FOUND\n",
            "FOUND\n",
            "FOUND\n",
            "FOUND\n",
            "FOUND\n",
            "FOUND\n",
            "FOUND\n",
            "FOUND\n",
            "FOUND\n",
            "FOUND\n",
            "FOUND\n",
            "FOUND\n",
            "FOUND\n"
          ]
        },
        {
          "name": "stderr",
          "output_type": "stream",
          "text": [
            " 75%|███████▌  | 3/4 [02:17<00:45, 45.68s/it]"
          ]
        },
        {
          "name": "stdout",
          "output_type": "stream",
          "text": [
            "  WARNING: ef_search (20) is less than top_k (2261334).\n",
            "  Query execution time: 35.65 seconds\n",
            "Found 2261334 results\n",
            "FOUND\n",
            "FOUND\n",
            "FOUND\n",
            "FOUND\n",
            "FOUND\n",
            "FOUND\n",
            "FOUND\n",
            "FOUND\n",
            "FOUND\n",
            "FOUND\n",
            "FOUND\n",
            "FOUND\n",
            "FOUND\n",
            "FOUND\n",
            "FOUND\n",
            "FOUND\n",
            "FOUND\n",
            "FOUND\n",
            "FOUND\n",
            "FOUND\n",
            "FOUND\n",
            "FOUND\n",
            "FOUND\n",
            "FOUND\n",
            "FOUND\n",
            "FOUND\n",
            "FOUND\n",
            "FOUND\n",
            "FOUND\n",
            "FOUND\n",
            "FOUND\n"
          ]
        },
        {
          "name": "stderr",
          "output_type": "stream",
          "text": [
            "100%|██████████| 4/4 [03:02<00:00, 45.58s/it]\n"
          ]
        }
      ],
      "source": [
        "more_examples = data.sample(4, random_state=1)\n",
        "more_rank_data = {}\n",
        "for enricher_name in ['identity', 'add_abstract', 'add_title', 'add_title_and_abstract']:\n",
        "    more_rank_data[enricher_name] = ranks_at_k(\n",
        "        examples=more_examples,\n",
        "        embedder_name='BAAI/bge-small-en',\n",
        "        enricher_name=enricher_name,\n",
        "        target_column='bge_norm',\n",
        "        top_k=2_261_334,\n",
        "        ef_search=20\n",
        "    )"
      ]
    },
    {
      "cell_type": "code",
      "execution_count": null,
      "metadata": {},
      "outputs": [],
      "source": [
        "for enricher_name, ranks in new_rank_data.items():\n",
        "    print(f\"Enricher: {enricher_name}. Rank: {ranks}\")"
      ]
    },
    {
      "cell_type": "code",
      "execution_count": null,
      "metadata": {},
      "outputs": [],
      "source": [
        "# write rank_data dict to file\n",
        "import json\n",
        "with open('data/rank_data.json', 'w') as f:\n",
        "    json.dump(rank_data, f)\n",
        "print('Rank data saved to file')"
      ]
    },
    {
      "cell_type": "code",
      "execution_count": null,
      "metadata": {},
      "outputs": [],
      "source": [
        "max(rank_data['identity']), max(rank_data['add_abstract']), max(rank_data['add_title'])"
      ]
    },
    {
      "cell_type": "code",
      "execution_count": null,
      "metadata": {},
      "outputs": [],
      "source": [
        "research = pd.read_json('data/preprocessed/research.jsonl', lines=True)\n",
        "research[research.doi == '10.1093/mnras/stab3351']"
      ]
    },
    {
      "cell_type": "code",
      "execution_count": null,
      "metadata": {},
      "outputs": [],
      "source": [
        "model_names_to_filenames = {\n",
        "    'BAAI/bge-small-en': 'bge',\n",
        "    'bert-base-uncased': 'bert',\n",
        "    'adsabs/astroBERT': 'astrobert'\n",
        "}"
      ]
    },
    {
      "cell_type": "code",
      "execution_count": null,
      "metadata": {},
      "outputs": [],
      "source": []
    },
    {
      "cell_type": "code",
      "execution_count": null,
      "metadata": {},
      "outputs": [],
      "source": []
    },
    {
      "cell_type": "code",
      "execution_count": null,
      "metadata": {},
      "outputs": [],
      "source": []
    }
  ],
  "metadata": {
    "kernelspec": {
      "display_name": "citeline",
      "language": "python",
      "name": "python3"
    },
    "language_info": {
      "codemirror_mode": {
        "name": "ipython",
        "version": 3
      },
      "file_extension": ".py",
      "mimetype": "text/x-python",
      "name": "python",
      "nbconvert_exporter": "python",
      "pygments_lexer": "ipython3",
      "version": "3.11.10"
    }
  },
  "nbformat": 4,
  "nbformat_minor": 4
}
