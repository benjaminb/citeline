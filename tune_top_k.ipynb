{
  "cells": [
    {
      "cell_type": "markdown",
      "metadata": {},
      "source": [
        "# Tuning the Top-k Query parameter\n",
        "\n",
        "First we set up the environment"
      ]
    },
    {
      "cell_type": "code",
      "execution_count": 13,
      "metadata": {},
      "outputs": [
        {
          "name": "stdout",
          "output_type": "stream",
          "text": [
            "5432\n"
          ]
        }
      ],
      "source": [
        "from dotenv import load_dotenv\n",
        "import os\n",
        "import psycopg\n",
        "import pandas as pd\n",
        "import numpy as np\n",
        "from time import time\n",
        "import torch\n",
        "from TextEnrichers import get_enricher, TextEnricher\n",
        "from database.database import Database\n",
        "from Embedders import Embedder, get_embedder\n",
        "from tqdm import tqdm\n",
        "\n",
        "load_dotenv('.env', override=True)\n",
        "print(os.getenv('DB_PORT'))\n"
      ]
    },
    {
      "cell_type": "code",
      "execution_count": 14,
      "metadata": {},
      "outputs": [
        {
          "name": "stdout",
          "output_type": "stream",
          "text": [
            "=================================CONFIG=================================\n",
            "Database         User             Host                             Port            \n",
            "citeline_db      bbasseri         localhost                        5432            \n",
            "========================================================================\n",
            "Database version: ('PostgreSQL 17.3 (Homebrew) on x86_64-apple-darwin23.6.0, compiled by Apple clang version 16.0.0 (clang-1600.0.26.6), 64-bit',)\n",
            "Using device: mps\n"
          ]
        }
      ],
      "source": [
        "# Database setup\n",
        "db = Database()\n",
        "db.test_connection()\n",
        "\n",
        "device = 'cuda' if torch.cuda.is_available(\n",
        ") else 'mps' if torch.mps.is_available() else 'cpu'\n",
        "print(f\"Using device: {device}\")"
      ]
    },
    {
      "cell_type": "markdown",
      "metadata": {},
      "source": [
        "## Investigating precision over `k`\n",
        "\n",
        "For our various embedding models and enrichment strategies, we want to know the smallest `top_k` value that will still retrieve the target reference for a given sentence. \n",
        "\n",
        "To investigate this, we'll sample 100 examples from the non-trivial training data. Each example typically has 1-2 target DOI's. For each example, we'll query the database with a large `top_k` parameter to start, so we can be sure the database returns the target references. Then we can ask at what index in the query results does a target DOI first appear. Ideally, the ranks will all be very high, indicated by having *low* indices in the query results. We also expect enriched examples to have their target doi's higher ranked (lower indices)."
      ]
    },
    {
      "cell_type": "code",
      "execution_count": 15,
      "metadata": {},
      "outputs": [],
      "source": [
        "data = pd.read_json('data/dataset/split/train.jsonl', lines=True)\n",
        "examples = data.sample(30, random_state=42)\n",
        "\n",
        "def lowest_index_matching_doi(target_doi: str, query_results: list) -> int:\n",
        "    \"\"\"\n",
        "    Returns the first index of the query results where the chunk doi matches the target doi.\n",
        "    If no match is found, returns -1.\n",
        "    \"\"\"\n",
        "    for i, result in enumerate(query_results):\n",
        "        if target_doi == result.doi:\n",
        "            return i\n",
        "    return -1\n",
        "\n",
        "\n",
        "def get_ranks(\n",
        "    example: pd.Series,\n",
        "    embedding,\n",
        "    top_k: int,\n",
        "    ef_search: int,\n",
        "    table_name: str = 'library',\n",
        "    target_column: str = 'bge_norm',\n",
        "    metric: str = 'vector_cosine_ops'\n",
        ") -> list[int]:\n",
        "    target_dois = example['citation_dois']\n",
        "\n",
        "    # Query\n",
        "    start = time()\n",
        "    query_results = db.query_vector_column(\n",
        "        query_vector=embedding,\n",
        "        target_column=target_column,\n",
        "        table_name=table_name,\n",
        "        top_k=top_k,\n",
        "        use_index=True,\n",
        "        ef_search=ef_search\n",
        "    )\n",
        "    \n",
        "    ranks = [lowest_index_matching_doi(\n",
        "        target_doi=doi, query_results=query_results) for doi in target_dois]\n",
        "    return ranks"
      ]
    },
    {
      "cell_type": "code",
      "execution_count": 16,
      "metadata": {},
      "outputs": [],
      "source": [
        "def ranks_at_k(embedder_name: str, \n",
        "                   enricher_name: str, \n",
        "                   target_column: str, \n",
        "                   top_k: int,\n",
        "                   ef_search: 256) -> list[int]:\n",
        "    \"\"\"\n",
        "    Calculates the 'ranks' for a given embedding model and enrichment function.\n",
        "    The ranks are the indices of the first chunk with the target doi for each example, i.e.\n",
        "    the lowest k that would retrieve a chunk with the target doi.\n",
        "    \"\"\"\n",
        "    \n",
        "    # Setup\n",
        "    print(f\"Embedding model: {embedder_name}, Enricher: {enricher_name}\")\n",
        "    embedder = get_embedder(embedder_name, device=device)\n",
        "    enricher = get_enricher(enricher_name, path_to_data='data/preprocessed/reviews.jsonl')\n",
        "    \n",
        "    # Enrich\n",
        "    texts_with_dois = list(\n",
        "        examples[['sent_no_cit', 'source_doi']].itertuples(index=False, name=None))\n",
        "    enriched_texts = enricher.enrich_batch(texts_with_dois)\n",
        "    embeddings = embedder(enriched_texts)\n",
        "\n",
        "    # Rank\n",
        "    ranks = []\n",
        "    for i in tqdm(range(len(examples))):\n",
        "        embedding = embeddings[i]\n",
        "        example = examples.iloc[i]\n",
        "        ranks += get_ranks(\n",
        "            example=example,\n",
        "            embedding=embedding,\n",
        "            table_name='library',\n",
        "            target_column=target_column,\n",
        "            top_k=top_k,\n",
        "            ef_search=ef_search)\n",
        "    return ranks"
      ]
    },
    {
      "cell_type": "code",
      "execution_count": 17,
      "metadata": {},
      "outputs": [
        {
          "name": "stdout",
          "output_type": "stream",
          "text": [
            "Combos: [('BAAI/bge-small-en', 'identity'), ('BAAI/bge-small-en', 'add_abstract'), ('BAAI/bge-small-en', 'add_title'), ('BAAI/bge-small-en', 'add_title_an_abstract')]\n"
          ]
        }
      ],
      "source": [
        "from itertools import product\n",
        "                      \n",
        "embedding_models = ['BAAI/bge-small-en']\n",
        "enrichment_methods = ['identity', 'add_abstract',\n",
        "                      'add_title', 'add_title_an_abstract']\n",
        "if device == 'cuda':\n",
        "    embedding_models += ['bert-base-uncased', 'adsabs/astroBERT']\n",
        "\n",
        "combos = list(product(embedding_models, enrichment_methods))\n",
        "print(f\"Combos: {combos}\")"
      ]
    },
    {
      "cell_type": "code",
      "execution_count": null,
      "metadata": {},
      "outputs": [
        {
          "name": "stdout",
          "output_type": "stream",
          "text": [
            "Embedding model: BAAI/bge-small-en, Enricher: identity\n"
          ]
        },
        {
          "name": "stderr",
          "output_type": "stream",
          "text": [
            "  0%|          | 0/30 [00:00<?, ?it/s]"
          ]
        },
        {
          "name": "stdout",
          "output_type": "stream",
          "text": [
            "  WARNING: ef_search (20) is less than top_k (2000000).\n",
            "  Query execution time: 45.11 seconds\n"
          ]
        },
        {
          "name": "stderr",
          "output_type": "stream",
          "text": [
            "  3%|▎         | 1/30 [00:53<25:54, 53.60s/it]"
          ]
        },
        {
          "name": "stdout",
          "output_type": "stream",
          "text": [
            "  WARNING: ef_search (20) is less than top_k (2000000).\n",
            "  Query execution time: 35.23 seconds\n"
          ]
        },
        {
          "name": "stderr",
          "output_type": "stream",
          "text": [
            "  7%|▋         | 2/30 [01:37<22:17, 47.78s/it]"
          ]
        },
        {
          "name": "stdout",
          "output_type": "stream",
          "text": [
            "  WARNING: ef_search (20) is less than top_k (2000000).\n",
            "  Query execution time: 36.12 seconds\n"
          ]
        },
        {
          "name": "stderr",
          "output_type": "stream",
          "text": [
            " 10%|█         | 3/30 [02:21<20:45, 46.13s/it]"
          ]
        },
        {
          "name": "stdout",
          "output_type": "stream",
          "text": [
            "  WARNING: ef_search (20) is less than top_k (2000000).\n",
            "  Query execution time: 32.13 seconds\n"
          ]
        },
        {
          "name": "stderr",
          "output_type": "stream",
          "text": [
            " 13%|█▎        | 4/30 [03:02<19:02, 43.96s/it]"
          ]
        },
        {
          "name": "stdout",
          "output_type": "stream",
          "text": [
            "  WARNING: ef_search (20) is less than top_k (2000000).\n",
            "  Query execution time: 31.01 seconds\n"
          ]
        },
        {
          "name": "stderr",
          "output_type": "stream",
          "text": [
            " 17%|█▋        | 5/30 [03:41<17:36, 42.25s/it]"
          ]
        },
        {
          "name": "stdout",
          "output_type": "stream",
          "text": [
            "  WARNING: ef_search (20) is less than top_k (2000000).\n",
            "  Query execution time: 29.07 seconds\n"
          ]
        },
        {
          "name": "stderr",
          "output_type": "stream",
          "text": [
            " 20%|██        | 6/30 [04:18<16:14, 40.59s/it]"
          ]
        },
        {
          "name": "stdout",
          "output_type": "stream",
          "text": [
            "  WARNING: ef_search (20) is less than top_k (2000000).\n",
            "  Query execution time: 28.12 seconds\n"
          ]
        },
        {
          "name": "stderr",
          "output_type": "stream",
          "text": [
            " 23%|██▎       | 7/30 [04:55<15:07, 39.46s/it]"
          ]
        },
        {
          "name": "stdout",
          "output_type": "stream",
          "text": [
            "  WARNING: ef_search (20) is less than top_k (2000000).\n",
            "  Query execution time: 28.85 seconds\n"
          ]
        },
        {
          "name": "stderr",
          "output_type": "stream",
          "text": [
            " 27%|██▋       | 8/30 [05:33<14:12, 38.75s/it]"
          ]
        },
        {
          "name": "stdout",
          "output_type": "stream",
          "text": [
            "  WARNING: ef_search (20) is less than top_k (2000000).\n",
            "  Query execution time: 26.99 seconds\n"
          ]
        },
        {
          "name": "stderr",
          "output_type": "stream",
          "text": [
            " 30%|███       | 9/30 [06:08<13:12, 37.72s/it]"
          ]
        },
        {
          "name": "stdout",
          "output_type": "stream",
          "text": [
            "  WARNING: ef_search (20) is less than top_k (2000000).\n",
            "  Query execution time: 27.46 seconds\n"
          ]
        },
        {
          "name": "stderr",
          "output_type": "stream",
          "text": [
            " 33%|███▎      | 10/30 [06:44<12:24, 37.24s/it]"
          ]
        },
        {
          "name": "stdout",
          "output_type": "stream",
          "text": [
            "  WARNING: ef_search (20) is less than top_k (2000000).\n"
          ]
        }
      ],
      "source": [
        "ranks = ranks_at_k(\n",
        "    embedder_name='BAAI/bge-small-en',\n",
        "    enricher_name='identity',\n",
        "    target_column='bge_norm',\n",
        "    top_k=2_000_000,\n",
        "    ef_search=20\n",
        ")"
      ]
    },
    {
      "cell_type": "code",
      "execution_count": 12,
      "metadata": {},
      "outputs": [
        {
          "data": {
            "text/plain": [
              "[912610,\n",
              " -1,\n",
              " -1,\n",
              " -1,\n",
              " -1,\n",
              " 616004,\n",
              " -1,\n",
              " 363759,\n",
              " 983676,\n",
              " 387492,\n",
              " -1,\n",
              " 101192,\n",
              " -1,\n",
              " -1,\n",
              " 918438,\n",
              " -1,\n",
              " 971662,\n",
              " -1,\n",
              " 929161,\n",
              " -1,\n",
              " 814375,\n",
              " 748254,\n",
              " -1,\n",
              " 276940,\n",
              " 391234,\n",
              " 46754,\n",
              " -1,\n",
              " -1,\n",
              " 429886,\n",
              " 665052,\n",
              " -1,\n",
              " 163978,\n",
              " 126813,\n",
              " -1,\n",
              " -1,\n",
              " -1,\n",
              " 455377,\n",
              " -1,\n",
              " -1,\n",
              " -1,\n",
              " 267118,\n",
              " -1,\n",
              " -1,\n",
              " 269072,\n",
              " -1,\n",
              " -1,\n",
              " 970349,\n",
              " -1,\n",
              " -1,\n",
              " -1,\n",
              " -1,\n",
              " -1,\n",
              " 131949,\n",
              " 255685,\n",
              " 915977,\n",
              " 785395,\n",
              " 830972,\n",
              " -1,\n",
              " -1,\n",
              " -1,\n",
              " -1,\n",
              " 952792,\n",
              " -1,\n",
              " 311983,\n",
              " -1,\n",
              " -1,\n",
              " 916618,\n",
              " -1,\n",
              " -1,\n",
              " 933916,\n",
              " 309379,\n",
              " 864622,\n",
              " -1,\n",
              " -1,\n",
              " -1,\n",
              " 93847,\n",
              " -1,\n",
              " -1,\n",
              " 350856,\n",
              " 469779,\n",
              " 674694,\n",
              " 657160,\n",
              " 410045,\n",
              " -1,\n",
              " -1,\n",
              " -1,\n",
              " 301988,\n",
              " -1,\n",
              " -1,\n",
              " -1,\n",
              " 125965,\n",
              " 242438,\n",
              " 400852,\n",
              " -1,\n",
              " -1,\n",
              " 712308,\n",
              " -1,\n",
              " -1,\n",
              " 574468,\n",
              " 343457,\n",
              " -1,\n",
              " -1,\n",
              " 353884,\n",
              " 328252,\n",
              " 759926,\n",
              " 900356,\n",
              " 19798,\n",
              " 462805,\n",
              " 40503,\n",
              " -1,\n",
              " 210881,\n",
              " 541533]"
            ]
          },
          "execution_count": 12,
          "metadata": {},
          "output_type": "execute_result"
        }
      ],
      "source": [
        "ranks"
      ]
    },
    {
      "cell_type": "code",
      "execution_count": null,
      "metadata": {},
      "outputs": [],
      "source": [
        "some_doi = list(identity_enricher.doi_to_record.keys())[0]\n",
        "record = identity_enricher.doi_to_record[some_doi]\n",
        "print(some_doi)\n",
        "print(record.keys())"
      ]
    },
    {
      "cell_type": "code",
      "execution_count": null,
      "metadata": {},
      "outputs": [],
      "source": [
        "ranks"
      ]
    },
    {
      "cell_type": "code",
      "execution_count": null,
      "metadata": {},
      "outputs": [],
      "source": [
        "model_names_to_filenames = {\n",
        "    'BAAI/bge-small-en': 'bge',\n",
        "    'bert-base-uncased': 'bert',\n",
        "    'adsabs/astroBERT': 'astrobert'\n",
        "}"
      ]
    },
    {
      "cell_type": "code",
      "execution_count": null,
      "metadata": {},
      "outputs": [],
      "source": []
    },
    {
      "cell_type": "code",
      "execution_count": null,
      "metadata": {},
      "outputs": [],
      "source": []
    },
    {
      "cell_type": "code",
      "execution_count": null,
      "metadata": {},
      "outputs": [],
      "source": []
    }
  ],
  "metadata": {
    "kernelspec": {
      "display_name": "citeline",
      "language": "python",
      "name": "python3"
    },
    "language_info": {
      "codemirror_mode": {
        "name": "ipython",
        "version": 3
      },
      "file_extension": ".py",
      "mimetype": "text/x-python",
      "name": "python",
      "nbconvert_exporter": "python",
      "pygments_lexer": "ipython3",
      "version": "3.11.10"
    }
  },
  "nbformat": 4,
  "nbformat_minor": 4
}
