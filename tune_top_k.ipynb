{
  "cells": [
    {
      "cell_type": "markdown",
      "metadata": {},
      "source": [
        "# Tuning the Top-k Query parameter\n",
        "\n",
        "First we set up the environment"
      ]
    },
    {
      "cell_type": "code",
      "execution_count": 1,
      "metadata": {},
      "outputs": [
        {
          "name": "stdout",
          "output_type": "stream",
          "text": [
            "5432\n"
          ]
        }
      ],
      "source": [
        "from dotenv import load_dotenv\n",
        "import os\n",
        "import psycopg\n",
        "import pandas as pd\n",
        "import numpy as np\n",
        "from time import time\n",
        "import torch\n",
        "from TextEnrichers import get_enricher, TextEnricher\n",
        "from database.database import Database\n",
        "from Embedders import Embedder, get_embedder\n",
        "from tqdm import tqdm\n",
        "\n",
        "load_dotenv('.env', override=True)\n",
        "print(os.getenv('DB_PORT'))\n"
      ]
    },
    {
      "cell_type": "code",
      "execution_count": 2,
      "metadata": {},
      "outputs": [
        {
          "name": "stdout",
          "output_type": "stream",
          "text": [
            "=================================CONFIG=================================\n",
            "Database         User             Host                             Port            \n",
            "citeline_db      bbasseri         localhost                        5432            \n",
            "========================================================================\n",
            "Database version: ('PostgreSQL 17.3 (Homebrew) on x86_64-apple-darwin23.6.0, compiled by Apple clang version 16.0.0 (clang-1600.0.26.6), 64-bit',)\n",
            "Using device: mps\n"
          ]
        }
      ],
      "source": [
        "# Database setup\n",
        "db = Database()\n",
        "db.test_connection()\n",
        "\n",
        "device = 'cuda' if torch.cuda.is_available(\n",
        ") else 'mps' if torch.mps.is_available() else 'cpu'\n",
        "print(f\"Using device: {device}\")"
      ]
    },
    {
      "cell_type": "markdown",
      "metadata": {},
      "source": [
        "## Investigating precision over `k`\n",
        "\n",
        "For our various embedding models and enrichment strategies, we want to know the smallest `top_k` value that will still retrieve the target reference for a given sentence. \n",
        "\n",
        "To investigate this, we'll sample 100 examples from the non-trivial training data. Each example typically has 1-2 target DOI's. For each example, we'll query the database with a large `top_k` parameter to start, so we can be sure the database returns the target references. Then we can ask at what index in the query results does a target DOI first appear. Ideally, the ranks will all be very high, indicated by having *low* indices in the query results. We also expect enriched examples to have their target doi's higher ranked (lower indices)."
      ]
    },
    {
      "cell_type": "code",
      "execution_count": 3,
      "metadata": {},
      "outputs": [],
      "source": [
        "data = pd.read_json('data/dataset/split/train.jsonl', lines=True)\n",
        "examples = data.sample(1, random_state=42)\n",
        "\n",
        "def lowest_index_matching_doi(target_doi: str, query_results: list) -> int:\n",
        "    \"\"\"\n",
        "    Returns the first index of the query results where the chunk doi matches the target doi.\n",
        "    If no match is found, returns -1.\n",
        "    \"\"\"\n",
        "    for i, result in enumerate(query_results):\n",
        "        if target_doi == result.doi:\n",
        "            return i\n",
        "    return -1\n",
        "\n",
        "\n",
        "def get_ranks(\n",
        "    example: pd.Series,\n",
        "    embedding,\n",
        "    top_k: int,\n",
        "    ef_search: int,\n",
        "    table_name: str = 'library',\n",
        "    target_column: str = 'bge_norm',\n",
        "    metric: str = 'vector_cosine_ops'\n",
        ") -> list[int]:\n",
        "    target_dois = example['citation_dois']\n",
        "\n",
        "    # Query\n",
        "    start = time()\n",
        "    query_results = db.query_vector_column(\n",
        "        query_vector=embedding,\n",
        "        target_column=target_column,\n",
        "        table_name=table_name,\n",
        "        top_k=top_k,\n",
        "        use_index=False,\n",
        "        ef_search=ef_search\n",
        "    )\n",
        "    print(f\"Found {len(query_results)} results\")\n",
        "    for result in query_results:\n",
        "        if result.doi == '10.1086/305746':\n",
        "            print('FOUND')\n",
        "    \n",
        "    ranks = [lowest_index_matching_doi(\n",
        "        target_doi=doi, query_results=query_results) for doi in target_dois]\n",
        "    return ranks\n",
        "\n",
        "\n",
        "def ranks_at_k(\n",
        "        examples: pd.DataFrame,\n",
        "        embedder_name: str,\n",
        "        enricher_name: str,\n",
        "        target_column: str,\n",
        "        top_k: int,\n",
        "        ef_search: 256) -> list[int]:\n",
        "    \"\"\"\n",
        "    Calculates the 'ranks' for a given embedding model and enrichment function.\n",
        "    The ranks are the indices of the first chunk with the target doi for each example, i.e.\n",
        "    the lowest k that would retrieve a chunk with the target doi.\n",
        "    \"\"\"\n",
        "\n",
        "    # Setup\n",
        "    print(f\"Embedding model: {embedder_name}, Enricher: {enricher_name}\")\n",
        "    embedder = get_embedder(embedder_name, device=device)\n",
        "    enricher = get_enricher(\n",
        "        enricher_name, path_to_data='data/preprocessed/reviews.jsonl')\n",
        "\n",
        "    # Enrich\n",
        "    texts_with_dois = list(\n",
        "        examples[['sent_no_cit', 'source_doi']].itertuples(index=False, name=None))\n",
        "    enriched_texts = enricher.enrich_batch(texts_with_dois)\n",
        "    embeddings = embedder(enriched_texts)\n",
        "\n",
        "    # Rank\n",
        "    ranks = []\n",
        "    for i in tqdm(range(len(examples))):\n",
        "        embedding = embeddings[i]\n",
        "        example = examples.iloc[i]\n",
        "        ranks += get_ranks(\n",
        "            example=example,\n",
        "            embedding=embedding,\n",
        "            table_name='library',\n",
        "            target_column=target_column,\n",
        "            top_k=top_k,\n",
        "            ef_search=ef_search)\n",
        "    return ranks"
      ]
    },
    {
      "cell_type": "code",
      "execution_count": 4,
      "metadata": {},
      "outputs": [
        {
          "name": "stdout",
          "output_type": "stream",
          "text": [
            "Combos: [('BAAI/bge-small-en', 'identity'), ('BAAI/bge-small-en', 'add_abstract'), ('BAAI/bge-small-en', 'add_title'), ('BAAI/bge-small-en', 'add_title_and_abstract')]\n"
          ]
        }
      ],
      "source": [
        "from itertools import product\n",
        "                      \n",
        "embedding_models = ['BAAI/bge-small-en']\n",
        "enrichment_methods = ['identity', 'add_abstract',\n",
        "                      'add_title', 'add_title_and_abstract']\n",
        "if device == 'cuda':\n",
        "    embedding_models += ['bert-base-uncased', 'adsabs/astroBERT']\n",
        "\n",
        "combos = list(product(embedding_models, enrichment_methods))\n",
        "print(f\"Combos: {combos}\")"
      ]
    },
    {
      "cell_type": "code",
      "execution_count": 5,
      "metadata": {},
      "outputs": [
        {
          "name": "stdout",
          "output_type": "stream",
          "text": [
            "Embedding model: BAAI/bge-small-en, Enricher: identity\n"
          ]
        },
        {
          "name": "stderr",
          "output_type": "stream",
          "text": [
            "  0%|          | 0/1 [00:00<?, ?it/s]"
          ]
        },
        {
          "name": "stdout",
          "output_type": "stream",
          "text": [
            "  WARNING: ef_search (20) is less than top_k (2261334).\n",
            "  Query execution time: 37.84 seconds\n",
            "Found 2261334 results\n",
            "FOUND\n",
            "FOUND\n",
            "FOUND\n",
            "FOUND\n",
            "FOUND\n",
            "FOUND\n",
            "FOUND\n",
            "FOUND\n",
            "FOUND\n",
            "FOUND\n",
            "FOUND\n",
            "FOUND\n",
            "FOUND\n",
            "FOUND\n",
            "FOUND\n",
            "FOUND\n",
            "FOUND\n",
            "FOUND\n",
            "FOUND\n",
            "FOUND\n",
            "FOUND\n",
            "FOUND\n",
            "FOUND\n",
            "FOUND\n",
            "FOUND\n",
            "FOUND\n",
            "FOUND\n",
            "FOUND\n",
            "FOUND\n",
            "FOUND\n",
            "FOUND\n"
          ]
        },
        {
          "name": "stderr",
          "output_type": "stream",
          "text": [
            "100%|██████████| 1/1 [00:48<00:00, 48.30s/it]\n"
          ]
        },
        {
          "name": "stdout",
          "output_type": "stream",
          "text": [
            "Embedding model: BAAI/bge-small-en, Enricher: add_abstract\n"
          ]
        },
        {
          "name": "stderr",
          "output_type": "stream",
          "text": [
            "  0%|          | 0/1 [00:00<?, ?it/s]"
          ]
        },
        {
          "name": "stdout",
          "output_type": "stream",
          "text": [
            "  WARNING: ef_search (20) is less than top_k (2261334).\n",
            "  Query execution time: 35.50 seconds\n",
            "Found 2261334 results\n",
            "FOUND\n",
            "FOUND\n",
            "FOUND\n",
            "FOUND\n",
            "FOUND\n",
            "FOUND\n",
            "FOUND\n",
            "FOUND\n",
            "FOUND\n",
            "FOUND\n",
            "FOUND\n",
            "FOUND\n",
            "FOUND\n",
            "FOUND\n",
            "FOUND\n",
            "FOUND\n",
            "FOUND\n",
            "FOUND\n",
            "FOUND\n",
            "FOUND\n",
            "FOUND\n",
            "FOUND\n",
            "FOUND\n",
            "FOUND\n",
            "FOUND\n",
            "FOUND\n",
            "FOUND\n",
            "FOUND\n",
            "FOUND\n",
            "FOUND\n",
            "FOUND\n"
          ]
        },
        {
          "name": "stderr",
          "output_type": "stream",
          "text": [
            "100%|██████████| 1/1 [00:45<00:00, 45.27s/it]\n"
          ]
        },
        {
          "name": "stdout",
          "output_type": "stream",
          "text": [
            "Embedding model: BAAI/bge-small-en, Enricher: add_title\n"
          ]
        },
        {
          "name": "stderr",
          "output_type": "stream",
          "text": [
            "  0%|          | 0/1 [00:00<?, ?it/s]"
          ]
        },
        {
          "name": "stdout",
          "output_type": "stream",
          "text": [
            "  WARNING: ef_search (20) is less than top_k (2261334).\n",
            "  Query execution time: 35.98 seconds\n",
            "Found 2261334 results\n",
            "FOUND\n",
            "FOUND\n",
            "FOUND\n",
            "FOUND\n",
            "FOUND\n",
            "FOUND\n",
            "FOUND\n",
            "FOUND\n",
            "FOUND\n",
            "FOUND\n",
            "FOUND\n",
            "FOUND\n",
            "FOUND\n",
            "FOUND\n",
            "FOUND\n",
            "FOUND\n",
            "FOUND\n",
            "FOUND\n",
            "FOUND\n",
            "FOUND\n",
            "FOUND\n",
            "FOUND\n",
            "FOUND\n",
            "FOUND\n",
            "FOUND\n",
            "FOUND\n",
            "FOUND\n",
            "FOUND\n",
            "FOUND\n",
            "FOUND\n",
            "FOUND\n"
          ]
        },
        {
          "name": "stderr",
          "output_type": "stream",
          "text": [
            "100%|██████████| 1/1 [00:46<00:00, 46.11s/it]\n"
          ]
        },
        {
          "name": "stdout",
          "output_type": "stream",
          "text": [
            "Embedding model: BAAI/bge-small-en, Enricher: add_title_and_abstract\n"
          ]
        },
        {
          "name": "stderr",
          "output_type": "stream",
          "text": [
            "  0%|          | 0/1 [00:00<?, ?it/s]"
          ]
        },
        {
          "name": "stdout",
          "output_type": "stream",
          "text": [
            "  WARNING: ef_search (20) is less than top_k (2261334).\n",
            "  Query execution time: 34.77 seconds\n",
            "Found 2261334 results\n",
            "FOUND\n",
            "FOUND\n",
            "FOUND\n",
            "FOUND\n",
            "FOUND\n",
            "FOUND\n",
            "FOUND\n",
            "FOUND\n",
            "FOUND\n",
            "FOUND\n",
            "FOUND\n",
            "FOUND\n",
            "FOUND\n",
            "FOUND\n",
            "FOUND\n",
            "FOUND\n",
            "FOUND\n",
            "FOUND\n",
            "FOUND\n",
            "FOUND\n",
            "FOUND\n",
            "FOUND\n",
            "FOUND\n",
            "FOUND\n",
            "FOUND\n",
            "FOUND\n",
            "FOUND\n",
            "FOUND\n",
            "FOUND\n",
            "FOUND\n",
            "FOUND\n"
          ]
        },
        {
          "name": "stderr",
          "output_type": "stream",
          "text": [
            "100%|██████████| 1/1 [00:44<00:00, 44.96s/it]\n"
          ]
        }
      ],
      "source": [
        "rank_data = {}\n",
        "for enricher_name in ['identity', 'add_abstract', 'add_title', 'add_title_and_abstract']:\n",
        "    rank_data[enricher_name] = ranks_at_k(\n",
        "        examples=examples,\n",
        "        embedder_name='BAAI/bge-small-en',\n",
        "        enricher_name=enricher_name,\n",
        "        target_column='bge_norm',\n",
        "        top_k=2_261_334,\n",
        "        ef_search=20\n",
        "    )"
      ]
    },
    {
      "cell_type": "code",
      "execution_count": 6,
      "metadata": {},
      "outputs": [
        {
          "name": "stdout",
          "output_type": "stream",
          "text": [
            "CGRO observations of X-ray binaries detected non-thermal power-law tails extending well beyond 100 keV with a photon index Γ LE ≈2.5–3 (Grove et al. 1998 ). \n",
            "Enricher: identity. Rank: 21\n",
            "Enricher: add_abstract. Rank: 348\n",
            "Enricher: add_title. Rank: 1\n",
            "Enricher: add_title_and_abstract. Rank: 285\n"
          ]
        }
      ],
      "source": [
        "print(examples.iloc[0].sent_original)\n",
        "for enricher_name, ranks in rank_data.items():\n",
        "    print(f\"Enricher: {enricher_name}. Rank: {ranks[0]}\")"
      ]
    },
    {
      "cell_type": "code",
      "execution_count": null,
      "metadata": {},
      "outputs": [
        {
          "name": "stdout",
          "output_type": "stream",
          "text": [
            "Embedding model: BAAI/bge-small-en, Enricher: identity\n"
          ]
        },
        {
          "name": "stderr",
          "output_type": "stream",
          "text": [
            "  0%|          | 0/2 [00:00<?, ?it/s]"
          ]
        },
        {
          "name": "stdout",
          "output_type": "stream",
          "text": [
            "  WARNING: ef_search (20) is less than top_k (2261334).\n",
            "  Query execution time: 34.42 seconds\n",
            "Found 2261334 results\n",
            "FOUND\n",
            "FOUND\n",
            "FOUND\n",
            "FOUND\n",
            "FOUND\n",
            "FOUND\n",
            "FOUND\n",
            "FOUND\n",
            "FOUND\n",
            "FOUND\n",
            "FOUND\n",
            "FOUND\n",
            "FOUND\n",
            "FOUND\n",
            "FOUND\n",
            "FOUND\n",
            "FOUND\n",
            "FOUND\n",
            "FOUND\n",
            "FOUND\n",
            "FOUND\n",
            "FOUND\n",
            "FOUND\n",
            "FOUND\n",
            "FOUND\n",
            "FOUND\n",
            "FOUND\n",
            "FOUND\n",
            "FOUND\n",
            "FOUND\n",
            "FOUND\n"
          ]
        },
        {
          "name": "stderr",
          "output_type": "stream",
          "text": [
            " 50%|█████     | 1/2 [00:44<00:44, 44.23s/it]"
          ]
        },
        {
          "name": "stdout",
          "output_type": "stream",
          "text": [
            "  WARNING: ef_search (20) is less than top_k (2261334).\n",
            "  Query execution time: 34.71 seconds\n",
            "Found 2261334 results\n",
            "FOUND\n",
            "FOUND\n",
            "FOUND\n",
            "FOUND\n",
            "FOUND\n",
            "FOUND\n",
            "FOUND\n",
            "FOUND\n",
            "FOUND\n",
            "FOUND\n",
            "FOUND\n",
            "FOUND\n",
            "FOUND\n",
            "FOUND\n",
            "FOUND\n",
            "FOUND\n",
            "FOUND\n",
            "FOUND\n",
            "FOUND\n",
            "FOUND\n",
            "FOUND\n",
            "FOUND\n",
            "FOUND\n",
            "FOUND\n",
            "FOUND\n",
            "FOUND\n",
            "FOUND\n",
            "FOUND\n",
            "FOUND\n",
            "FOUND\n",
            "FOUND\n"
          ]
        },
        {
          "name": "stderr",
          "output_type": "stream",
          "text": [
            "100%|██████████| 2/2 [01:28<00:00, 44.34s/it]\n"
          ]
        },
        {
          "name": "stdout",
          "output_type": "stream",
          "text": [
            "Embedding model: BAAI/bge-small-en, Enricher: add_abstract\n"
          ]
        },
        {
          "name": "stderr",
          "output_type": "stream",
          "text": [
            "  0%|          | 0/2 [00:00<?, ?it/s]"
          ]
        },
        {
          "name": "stdout",
          "output_type": "stream",
          "text": [
            "  WARNING: ef_search (20) is less than top_k (2261334).\n",
            "  Query execution time: 34.46 seconds\n",
            "Found 2261334 results\n",
            "FOUND\n",
            "FOUND\n",
            "FOUND\n",
            "FOUND\n",
            "FOUND\n",
            "FOUND\n",
            "FOUND\n",
            "FOUND\n",
            "FOUND\n",
            "FOUND\n",
            "FOUND\n",
            "FOUND\n",
            "FOUND\n",
            "FOUND\n",
            "FOUND\n",
            "FOUND\n",
            "FOUND\n",
            "FOUND\n",
            "FOUND\n",
            "FOUND\n",
            "FOUND\n",
            "FOUND\n",
            "FOUND\n",
            "FOUND\n",
            "FOUND\n",
            "FOUND\n",
            "FOUND\n",
            "FOUND\n",
            "FOUND\n",
            "FOUND\n",
            "FOUND\n"
          ]
        },
        {
          "name": "stderr",
          "output_type": "stream",
          "text": [
            " 50%|█████     | 1/2 [00:44<00:44, 44.64s/it]"
          ]
        },
        {
          "name": "stdout",
          "output_type": "stream",
          "text": [
            "  WARNING: ef_search (20) is less than top_k (2261334).\n",
            "  Query execution time: 34.72 seconds\n",
            "Found 2261334 results\n",
            "FOUND\n",
            "FOUND\n",
            "FOUND\n",
            "FOUND\n",
            "FOUND\n",
            "FOUND\n",
            "FOUND\n",
            "FOUND\n",
            "FOUND\n",
            "FOUND\n",
            "FOUND\n",
            "FOUND\n",
            "FOUND\n",
            "FOUND\n",
            "FOUND\n",
            "FOUND\n",
            "FOUND\n",
            "FOUND\n",
            "FOUND\n",
            "FOUND\n",
            "FOUND\n",
            "FOUND\n",
            "FOUND\n",
            "FOUND\n",
            "FOUND\n",
            "FOUND\n",
            "FOUND\n",
            "FOUND\n",
            "FOUND\n",
            "FOUND\n",
            "FOUND\n"
          ]
        },
        {
          "name": "stderr",
          "output_type": "stream",
          "text": [
            "100%|██████████| 2/2 [01:29<00:00, 44.53s/it]\n"
          ]
        },
        {
          "name": "stdout",
          "output_type": "stream",
          "text": [
            "Embedding model: BAAI/bge-small-en, Enricher: add_title\n"
          ]
        },
        {
          "name": "stderr",
          "output_type": "stream",
          "text": [
            "  0%|          | 0/2 [00:00<?, ?it/s]"
          ]
        },
        {
          "name": "stdout",
          "output_type": "stream",
          "text": [
            "  WARNING: ef_search (20) is less than top_k (2261334).\n",
            "  Query execution time: 34.76 seconds\n",
            "Found 2261334 results\n",
            "FOUND\n",
            "FOUND\n",
            "FOUND\n",
            "FOUND\n",
            "FOUND\n",
            "FOUND\n",
            "FOUND\n",
            "FOUND\n",
            "FOUND\n",
            "FOUND\n",
            "FOUND\n",
            "FOUND\n",
            "FOUND\n",
            "FOUND\n",
            "FOUND\n",
            "FOUND\n",
            "FOUND\n",
            "FOUND\n",
            "FOUND\n",
            "FOUND\n",
            "FOUND\n",
            "FOUND\n",
            "FOUND\n",
            "FOUND\n",
            "FOUND\n",
            "FOUND\n",
            "FOUND\n",
            "FOUND\n",
            "FOUND\n",
            "FOUND\n",
            "FOUND\n"
          ]
        },
        {
          "name": "stderr",
          "output_type": "stream",
          "text": [
            " 50%|█████     | 1/2 [00:45<00:45, 45.00s/it]"
          ]
        },
        {
          "name": "stdout",
          "output_type": "stream",
          "text": [
            "  WARNING: ef_search (20) is less than top_k (2261334).\n",
            "  Query execution time: 34.70 seconds\n",
            "Found 2261334 results\n",
            "FOUND\n",
            "FOUND\n",
            "FOUND\n",
            "FOUND\n",
            "FOUND\n",
            "FOUND\n",
            "FOUND\n",
            "FOUND\n",
            "FOUND\n",
            "FOUND\n",
            "FOUND\n",
            "FOUND\n",
            "FOUND\n",
            "FOUND\n",
            "FOUND\n",
            "FOUND\n",
            "FOUND\n",
            "FOUND\n",
            "FOUND\n",
            "FOUND\n",
            "FOUND\n",
            "FOUND\n",
            "FOUND\n",
            "FOUND\n",
            "FOUND\n",
            "FOUND\n",
            "FOUND\n",
            "FOUND\n",
            "FOUND\n",
            "FOUND\n",
            "FOUND\n"
          ]
        },
        {
          "name": "stderr",
          "output_type": "stream",
          "text": [
            "100%|██████████| 2/2 [01:29<00:00, 44.90s/it]\n"
          ]
        },
        {
          "name": "stdout",
          "output_type": "stream",
          "text": [
            "Embedding model: BAAI/bge-small-en, Enricher: add_title_and_abstract\n"
          ]
        },
        {
          "name": "stderr",
          "output_type": "stream",
          "text": [
            "  0%|          | 0/2 [00:00<?, ?it/s]"
          ]
        },
        {
          "name": "stdout",
          "output_type": "stream",
          "text": [
            "  WARNING: ef_search (20) is less than top_k (2261334).\n",
            "  Query execution time: 34.30 seconds\n",
            "Found 2261334 results\n",
            "FOUND\n",
            "FOUND\n",
            "FOUND\n",
            "FOUND\n",
            "FOUND\n",
            "FOUND\n",
            "FOUND\n",
            "FOUND\n",
            "FOUND\n",
            "FOUND\n",
            "FOUND\n",
            "FOUND\n",
            "FOUND\n",
            "FOUND\n",
            "FOUND\n",
            "FOUND\n",
            "FOUND\n",
            "FOUND\n",
            "FOUND\n",
            "FOUND\n",
            "FOUND\n",
            "FOUND\n",
            "FOUND\n",
            "FOUND\n",
            "FOUND\n",
            "FOUND\n",
            "FOUND\n",
            "FOUND\n",
            "FOUND\n",
            "FOUND\n",
            "FOUND\n"
          ]
        },
        {
          "name": "stderr",
          "output_type": "stream",
          "text": [
            " 50%|█████     | 1/2 [00:43<00:43, 43.56s/it]"
          ]
        },
        {
          "name": "stdout",
          "output_type": "stream",
          "text": [
            "  WARNING: ef_search (20) is less than top_k (2261334).\n",
            "  Query execution time: 35.42 seconds\n",
            "Found 2261334 results\n",
            "FOUND\n",
            "FOUND\n",
            "FOUND\n",
            "FOUND\n",
            "FOUND\n",
            "FOUND\n",
            "FOUND\n",
            "FOUND\n",
            "FOUND\n",
            "FOUND\n",
            "FOUND\n",
            "FOUND\n",
            "FOUND\n",
            "FOUND\n",
            "FOUND\n",
            "FOUND\n",
            "FOUND\n",
            "FOUND\n",
            "FOUND\n",
            "FOUND\n",
            "FOUND\n",
            "FOUND\n",
            "FOUND\n",
            "FOUND\n",
            "FOUND\n",
            "FOUND\n",
            "FOUND\n",
            "FOUND\n",
            "FOUND\n",
            "FOUND\n",
            "FOUND\n"
          ]
        },
        {
          "name": "stderr",
          "output_type": "stream",
          "text": [
            "100%|██████████| 2/2 [01:28<00:00, 44.34s/it]"
          ]
        },
        {
          "name": "stdout",
          "output_type": "stream",
          "text": [
            "Enricher: identity. Rank: 1159\n",
            "Enricher: add_abstract. Rank: 164\n",
            "Enricher: add_title. Rank: 138\n",
            "Enricher: add_title_and_abstract. Rank: 229\n"
          ]
        },
        {
          "name": "stderr",
          "output_type": "stream",
          "text": [
            "\n"
          ]
        }
      ],
      "source": [
        "new_examples = data.sample(2, random_state=29)\n",
        "\n",
        "new_rank_data = {}\n",
        "for enricher_name in ['identity', 'add_abstract', 'add_title', 'add_title_and_abstract']:\n",
        "    new_rank_data[enricher_name] = ranks_at_k(\n",
        "        examples=new_examples,\n",
        "        embedder_name='BAAI/bge-small-en',\n",
        "        enricher_name=enricher_name,\n",
        "        target_column='bge_norm',\n",
        "        top_k=2_261_334,\n",
        "        ef_search=20\n",
        "    )"
      ]
    },
    {
      "cell_type": "code",
      "execution_count": 8,
      "metadata": {},
      "outputs": [
        {
          "name": "stdout",
          "output_type": "stream",
          "text": [
            "Enricher: identity. Rank: [1159, 288, 288]\n",
            "Enricher: add_abstract. Rank: [164, 2903, 2903]\n",
            "Enricher: add_title. Rank: [138, 13693, 13693]\n",
            "Enricher: add_title_and_abstract. Rank: [229, 4420, 4420]\n"
          ]
        }
      ],
      "source": [
        "for enricher_name, ranks in new_rank_data.items():\n",
        "    print(f\"Enricher: {enricher_name}. Rank: {ranks}\")"
      ]
    },
    {
      "cell_type": "code",
      "execution_count": 9,
      "metadata": {},
      "outputs": [
        {
          "name": "stdout",
          "output_type": "stream",
          "text": [
            "Both Hood et al. ( 2009 ) and MacTaggart and Hood ( 2009 ) reported that a second MFR formed via magnetic reconnection (see below for a detailed description of this process) underneath the bodily emerged MFR. \n",
            "['10.1051/0004-6361/200912189', '10.1051/0004-6361/200912189']\n"
          ]
        }
      ],
      "source": [
        "print(new_examples.iloc[1].sent_original)\n",
        "print(new_examples.iloc[1].citation_dois)"
      ]
    },
    {
      "cell_type": "code",
      "execution_count": 10,
      "metadata": {},
      "outputs": [
        {
          "name": "stdout",
          "output_type": "stream",
          "text": [
            "Embedding model: BAAI/bge-small-en, Enricher: identity\n"
          ]
        },
        {
          "name": "stderr",
          "output_type": "stream",
          "text": [
            "  0%|          | 0/4 [00:00<?, ?it/s]"
          ]
        },
        {
          "name": "stdout",
          "output_type": "stream",
          "text": [
            "  WARNING: ef_search (20) is less than top_k (2261334).\n",
            "  Query execution time: 34.51 seconds\n",
            "Found 2261334 results\n",
            "FOUND\n",
            "FOUND\n",
            "FOUND\n",
            "FOUND\n",
            "FOUND\n",
            "FOUND\n",
            "FOUND\n",
            "FOUND\n",
            "FOUND\n",
            "FOUND\n",
            "FOUND\n",
            "FOUND\n",
            "FOUND\n",
            "FOUND\n",
            "FOUND\n",
            "FOUND\n",
            "FOUND\n",
            "FOUND\n",
            "FOUND\n",
            "FOUND\n",
            "FOUND\n",
            "FOUND\n",
            "FOUND\n",
            "FOUND\n",
            "FOUND\n",
            "FOUND\n",
            "FOUND\n",
            "FOUND\n",
            "FOUND\n",
            "FOUND\n",
            "FOUND\n"
          ]
        },
        {
          "name": "stderr",
          "output_type": "stream",
          "text": [
            " 25%|██▌       | 1/4 [00:44<02:14, 44.79s/it]"
          ]
        },
        {
          "name": "stdout",
          "output_type": "stream",
          "text": [
            "  WARNING: ef_search (20) is less than top_k (2261334).\n",
            "  Query execution time: 35.54 seconds\n",
            "Found 2261334 results\n",
            "FOUND\n",
            "FOUND\n",
            "FOUND\n",
            "FOUND\n",
            "FOUND\n",
            "FOUND\n",
            "FOUND\n",
            "FOUND\n",
            "FOUND\n",
            "FOUND\n",
            "FOUND\n",
            "FOUND\n",
            "FOUND\n",
            "FOUND\n",
            "FOUND\n",
            "FOUND\n",
            "FOUND\n",
            "FOUND\n",
            "FOUND\n",
            "FOUND\n",
            "FOUND\n",
            "FOUND\n",
            "FOUND\n",
            "FOUND\n",
            "FOUND\n",
            "FOUND\n",
            "FOUND\n",
            "FOUND\n",
            "FOUND\n",
            "FOUND\n",
            "FOUND\n"
          ]
        },
        {
          "name": "stderr",
          "output_type": "stream",
          "text": [
            " 50%|█████     | 2/4 [01:30<01:30, 45.33s/it]"
          ]
        },
        {
          "name": "stdout",
          "output_type": "stream",
          "text": [
            "  WARNING: ef_search (20) is less than top_k (2261334).\n",
            "  Query execution time: 36.06 seconds\n",
            "Found 2261334 results\n",
            "FOUND\n",
            "FOUND\n",
            "FOUND\n",
            "FOUND\n",
            "FOUND\n",
            "FOUND\n",
            "FOUND\n",
            "FOUND\n",
            "FOUND\n",
            "FOUND\n",
            "FOUND\n",
            "FOUND\n",
            "FOUND\n",
            "FOUND\n",
            "FOUND\n",
            "FOUND\n",
            "FOUND\n",
            "FOUND\n",
            "FOUND\n",
            "FOUND\n",
            "FOUND\n",
            "FOUND\n",
            "FOUND\n",
            "FOUND\n",
            "FOUND\n",
            "FOUND\n",
            "FOUND\n",
            "FOUND\n",
            "FOUND\n",
            "FOUND\n",
            "FOUND\n"
          ]
        },
        {
          "name": "stderr",
          "output_type": "stream",
          "text": [
            " 75%|███████▌  | 3/4 [02:16<00:45, 45.69s/it]"
          ]
        },
        {
          "name": "stdout",
          "output_type": "stream",
          "text": [
            "  WARNING: ef_search (20) is less than top_k (2261334).\n",
            "  Query execution time: 35.24 seconds\n",
            "Found 2261334 results\n",
            "FOUND\n",
            "FOUND\n",
            "FOUND\n",
            "FOUND\n",
            "FOUND\n",
            "FOUND\n",
            "FOUND\n",
            "FOUND\n",
            "FOUND\n",
            "FOUND\n",
            "FOUND\n",
            "FOUND\n",
            "FOUND\n",
            "FOUND\n",
            "FOUND\n",
            "FOUND\n",
            "FOUND\n",
            "FOUND\n",
            "FOUND\n",
            "FOUND\n",
            "FOUND\n",
            "FOUND\n",
            "FOUND\n",
            "FOUND\n",
            "FOUND\n",
            "FOUND\n",
            "FOUND\n",
            "FOUND\n",
            "FOUND\n",
            "FOUND\n",
            "FOUND\n"
          ]
        },
        {
          "name": "stderr",
          "output_type": "stream",
          "text": [
            "100%|██████████| 4/4 [03:01<00:00, 45.49s/it]\n"
          ]
        },
        {
          "name": "stdout",
          "output_type": "stream",
          "text": [
            "Embedding model: BAAI/bge-small-en, Enricher: add_abstract\n"
          ]
        },
        {
          "name": "stderr",
          "output_type": "stream",
          "text": [
            "  0%|          | 0/4 [00:00<?, ?it/s]"
          ]
        },
        {
          "name": "stdout",
          "output_type": "stream",
          "text": [
            "  WARNING: ef_search (20) is less than top_k (2261334).\n",
            "  Query execution time: 35.42 seconds\n",
            "Found 2261334 results\n",
            "FOUND\n",
            "FOUND\n",
            "FOUND\n",
            "FOUND\n",
            "FOUND\n",
            "FOUND\n",
            "FOUND\n",
            "FOUND\n",
            "FOUND\n",
            "FOUND\n",
            "FOUND\n",
            "FOUND\n",
            "FOUND\n",
            "FOUND\n",
            "FOUND\n",
            "FOUND\n",
            "FOUND\n",
            "FOUND\n",
            "FOUND\n",
            "FOUND\n",
            "FOUND\n",
            "FOUND\n",
            "FOUND\n",
            "FOUND\n",
            "FOUND\n",
            "FOUND\n",
            "FOUND\n",
            "FOUND\n",
            "FOUND\n",
            "FOUND\n",
            "FOUND\n"
          ]
        },
        {
          "name": "stderr",
          "output_type": "stream",
          "text": [
            " 25%|██▌       | 1/4 [00:46<02:18, 46.04s/it]"
          ]
        },
        {
          "name": "stdout",
          "output_type": "stream",
          "text": [
            "  WARNING: ef_search (20) is less than top_k (2261334).\n",
            "  Query execution time: 35.21 seconds\n",
            "Found 2261334 results\n",
            "FOUND\n",
            "FOUND\n",
            "FOUND\n",
            "FOUND\n",
            "FOUND\n",
            "FOUND\n",
            "FOUND\n",
            "FOUND\n",
            "FOUND\n",
            "FOUND\n",
            "FOUND\n",
            "FOUND\n",
            "FOUND\n",
            "FOUND\n",
            "FOUND\n",
            "FOUND\n",
            "FOUND\n",
            "FOUND\n",
            "FOUND\n",
            "FOUND\n",
            "FOUND\n",
            "FOUND\n",
            "FOUND\n",
            "FOUND\n",
            "FOUND\n",
            "FOUND\n",
            "FOUND\n",
            "FOUND\n",
            "FOUND\n",
            "FOUND\n",
            "FOUND\n"
          ]
        },
        {
          "name": "stderr",
          "output_type": "stream",
          "text": [
            " 50%|█████     | 2/4 [01:31<01:31, 45.57s/it]"
          ]
        },
        {
          "name": "stdout",
          "output_type": "stream",
          "text": [
            "  WARNING: ef_search (20) is less than top_k (2261334).\n",
            "  Query execution time: 35.37 seconds\n",
            "Found 2261334 results\n",
            "FOUND\n",
            "FOUND\n",
            "FOUND\n",
            "FOUND\n",
            "FOUND\n",
            "FOUND\n",
            "FOUND\n",
            "FOUND\n",
            "FOUND\n",
            "FOUND\n",
            "FOUND\n",
            "FOUND\n",
            "FOUND\n",
            "FOUND\n",
            "FOUND\n",
            "FOUND\n",
            "FOUND\n",
            "FOUND\n",
            "FOUND\n",
            "FOUND\n",
            "FOUND\n",
            "FOUND\n",
            "FOUND\n",
            "FOUND\n",
            "FOUND\n",
            "FOUND\n",
            "FOUND\n",
            "FOUND\n",
            "FOUND\n",
            "FOUND\n",
            "FOUND\n"
          ]
        },
        {
          "name": "stderr",
          "output_type": "stream",
          "text": [
            " 75%|███████▌  | 3/4 [02:17<00:45, 45.66s/it]"
          ]
        },
        {
          "name": "stdout",
          "output_type": "stream",
          "text": [
            "  WARNING: ef_search (20) is less than top_k (2261334).\n",
            "  Query execution time: 35.10 seconds\n",
            "Found 2261334 results\n",
            "FOUND\n",
            "FOUND\n",
            "FOUND\n",
            "FOUND\n",
            "FOUND\n",
            "FOUND\n",
            "FOUND\n",
            "FOUND\n",
            "FOUND\n",
            "FOUND\n",
            "FOUND\n",
            "FOUND\n",
            "FOUND\n",
            "FOUND\n",
            "FOUND\n",
            "FOUND\n",
            "FOUND\n",
            "FOUND\n",
            "FOUND\n",
            "FOUND\n",
            "FOUND\n",
            "FOUND\n",
            "FOUND\n",
            "FOUND\n",
            "FOUND\n",
            "FOUND\n",
            "FOUND\n",
            "FOUND\n",
            "FOUND\n",
            "FOUND\n",
            "FOUND\n"
          ]
        },
        {
          "name": "stderr",
          "output_type": "stream",
          "text": [
            "100%|██████████| 4/4 [03:02<00:00, 45.60s/it]\n"
          ]
        },
        {
          "name": "stdout",
          "output_type": "stream",
          "text": [
            "Embedding model: BAAI/bge-small-en, Enricher: add_title\n"
          ]
        },
        {
          "name": "stderr",
          "output_type": "stream",
          "text": [
            "  0%|          | 0/4 [00:00<?, ?it/s]"
          ]
        },
        {
          "name": "stdout",
          "output_type": "stream",
          "text": [
            "  WARNING: ef_search (20) is less than top_k (2261334).\n",
            "  Query execution time: 35.64 seconds\n",
            "Found 2261334 results\n",
            "FOUND\n",
            "FOUND\n",
            "FOUND\n",
            "FOUND\n",
            "FOUND\n",
            "FOUND\n",
            "FOUND\n",
            "FOUND\n",
            "FOUND\n",
            "FOUND\n",
            "FOUND\n",
            "FOUND\n",
            "FOUND\n",
            "FOUND\n",
            "FOUND\n",
            "FOUND\n",
            "FOUND\n",
            "FOUND\n",
            "FOUND\n",
            "FOUND\n",
            "FOUND\n",
            "FOUND\n",
            "FOUND\n",
            "FOUND\n",
            "FOUND\n",
            "FOUND\n",
            "FOUND\n",
            "FOUND\n",
            "FOUND\n",
            "FOUND\n",
            "FOUND\n"
          ]
        },
        {
          "name": "stderr",
          "output_type": "stream",
          "text": [
            " 25%|██▌       | 1/4 [00:45<02:16, 45.36s/it]"
          ]
        },
        {
          "name": "stdout",
          "output_type": "stream",
          "text": [
            "  WARNING: ef_search (20) is less than top_k (2261334).\n",
            "  Query execution time: 35.47 seconds\n",
            "Found 2261334 results\n",
            "FOUND\n",
            "FOUND\n",
            "FOUND\n",
            "FOUND\n",
            "FOUND\n",
            "FOUND\n",
            "FOUND\n",
            "FOUND\n",
            "FOUND\n",
            "FOUND\n",
            "FOUND\n",
            "FOUND\n",
            "FOUND\n",
            "FOUND\n",
            "FOUND\n",
            "FOUND\n",
            "FOUND\n",
            "FOUND\n",
            "FOUND\n",
            "FOUND\n",
            "FOUND\n",
            "FOUND\n",
            "FOUND\n",
            "FOUND\n",
            "FOUND\n",
            "FOUND\n",
            "FOUND\n",
            "FOUND\n",
            "FOUND\n",
            "FOUND\n",
            "FOUND\n"
          ]
        },
        {
          "name": "stderr",
          "output_type": "stream",
          "text": [
            " 50%|█████     | 2/4 [01:30<01:31, 45.51s/it]"
          ]
        },
        {
          "name": "stdout",
          "output_type": "stream",
          "text": [
            "  WARNING: ef_search (20) is less than top_k (2261334).\n",
            "  Query execution time: 35.53 seconds\n",
            "Found 2261334 results\n",
            "FOUND\n",
            "FOUND\n",
            "FOUND\n",
            "FOUND\n",
            "FOUND\n",
            "FOUND\n",
            "FOUND\n",
            "FOUND\n",
            "FOUND\n",
            "FOUND\n",
            "FOUND\n",
            "FOUND\n",
            "FOUND\n",
            "FOUND\n",
            "FOUND\n",
            "FOUND\n",
            "FOUND\n",
            "FOUND\n",
            "FOUND\n",
            "FOUND\n",
            "FOUND\n",
            "FOUND\n",
            "FOUND\n",
            "FOUND\n",
            "FOUND\n",
            "FOUND\n",
            "FOUND\n",
            "FOUND\n",
            "FOUND\n",
            "FOUND\n",
            "FOUND\n"
          ]
        },
        {
          "name": "stderr",
          "output_type": "stream",
          "text": [
            " 75%|███████▌  | 3/4 [02:16<00:45, 45.57s/it]"
          ]
        },
        {
          "name": "stdout",
          "output_type": "stream",
          "text": [
            "  WARNING: ef_search (20) is less than top_k (2261334).\n",
            "  Query execution time: 35.83 seconds\n",
            "Found 2261334 results\n",
            "FOUND\n",
            "FOUND\n",
            "FOUND\n",
            "FOUND\n",
            "FOUND\n",
            "FOUND\n",
            "FOUND\n",
            "FOUND\n",
            "FOUND\n",
            "FOUND\n",
            "FOUND\n",
            "FOUND\n",
            "FOUND\n",
            "FOUND\n",
            "FOUND\n",
            "FOUND\n",
            "FOUND\n",
            "FOUND\n",
            "FOUND\n",
            "FOUND\n",
            "FOUND\n",
            "FOUND\n",
            "FOUND\n",
            "FOUND\n",
            "FOUND\n",
            "FOUND\n",
            "FOUND\n",
            "FOUND\n",
            "FOUND\n",
            "FOUND\n",
            "FOUND\n"
          ]
        },
        {
          "name": "stderr",
          "output_type": "stream",
          "text": [
            "100%|██████████| 4/4 [03:02<00:00, 45.70s/it]\n"
          ]
        },
        {
          "name": "stdout",
          "output_type": "stream",
          "text": [
            "Embedding model: BAAI/bge-small-en, Enricher: add_title_and_abstract\n"
          ]
        },
        {
          "name": "stderr",
          "output_type": "stream",
          "text": [
            "  0%|          | 0/4 [00:00<?, ?it/s]"
          ]
        },
        {
          "name": "stdout",
          "output_type": "stream",
          "text": [
            "  WARNING: ef_search (20) is less than top_k (2261334).\n",
            "  Query execution time: 36.36 seconds\n",
            "Found 2261334 results\n",
            "FOUND\n",
            "FOUND\n",
            "FOUND\n",
            "FOUND\n",
            "FOUND\n",
            "FOUND\n",
            "FOUND\n",
            "FOUND\n",
            "FOUND\n",
            "FOUND\n",
            "FOUND\n",
            "FOUND\n",
            "FOUND\n",
            "FOUND\n",
            "FOUND\n",
            "FOUND\n",
            "FOUND\n",
            "FOUND\n",
            "FOUND\n",
            "FOUND\n",
            "FOUND\n",
            "FOUND\n",
            "FOUND\n",
            "FOUND\n",
            "FOUND\n",
            "FOUND\n",
            "FOUND\n",
            "FOUND\n",
            "FOUND\n",
            "FOUND\n",
            "FOUND\n"
          ]
        },
        {
          "name": "stderr",
          "output_type": "stream",
          "text": [
            " 25%|██▌       | 1/4 [00:46<02:19, 46.39s/it]"
          ]
        },
        {
          "name": "stdout",
          "output_type": "stream",
          "text": [
            "  WARNING: ef_search (20) is less than top_k (2261334).\n",
            "  Query execution time: 35.10 seconds\n",
            "Found 2261334 results\n",
            "FOUND\n",
            "FOUND\n",
            "FOUND\n",
            "FOUND\n",
            "FOUND\n",
            "FOUND\n",
            "FOUND\n",
            "FOUND\n",
            "FOUND\n",
            "FOUND\n",
            "FOUND\n",
            "FOUND\n",
            "FOUND\n",
            "FOUND\n",
            "FOUND\n",
            "FOUND\n",
            "FOUND\n",
            "FOUND\n",
            "FOUND\n",
            "FOUND\n",
            "FOUND\n",
            "FOUND\n",
            "FOUND\n",
            "FOUND\n",
            "FOUND\n",
            "FOUND\n",
            "FOUND\n",
            "FOUND\n",
            "FOUND\n",
            "FOUND\n",
            "FOUND\n"
          ]
        },
        {
          "name": "stderr",
          "output_type": "stream",
          "text": [
            " 50%|█████     | 2/4 [01:31<01:31, 45.72s/it]"
          ]
        },
        {
          "name": "stdout",
          "output_type": "stream",
          "text": [
            "  WARNING: ef_search (20) is less than top_k (2261334).\n",
            "  Query execution time: 35.81 seconds\n",
            "Found 2261334 results\n",
            "FOUND\n",
            "FOUND\n",
            "FOUND\n",
            "FOUND\n",
            "FOUND\n",
            "FOUND\n",
            "FOUND\n",
            "FOUND\n",
            "FOUND\n",
            "FOUND\n",
            "FOUND\n",
            "FOUND\n",
            "FOUND\n",
            "FOUND\n",
            "FOUND\n",
            "FOUND\n",
            "FOUND\n",
            "FOUND\n",
            "FOUND\n",
            "FOUND\n",
            "FOUND\n",
            "FOUND\n",
            "FOUND\n",
            "FOUND\n",
            "FOUND\n",
            "FOUND\n",
            "FOUND\n",
            "FOUND\n",
            "FOUND\n",
            "FOUND\n",
            "FOUND\n"
          ]
        },
        {
          "name": "stderr",
          "output_type": "stream",
          "text": [
            " 75%|███████▌  | 3/4 [02:17<00:45, 45.68s/it]"
          ]
        },
        {
          "name": "stdout",
          "output_type": "stream",
          "text": [
            "  WARNING: ef_search (20) is less than top_k (2261334).\n",
            "  Query execution time: 35.65 seconds\n",
            "Found 2261334 results\n",
            "FOUND\n",
            "FOUND\n",
            "FOUND\n",
            "FOUND\n",
            "FOUND\n",
            "FOUND\n",
            "FOUND\n",
            "FOUND\n",
            "FOUND\n",
            "FOUND\n",
            "FOUND\n",
            "FOUND\n",
            "FOUND\n",
            "FOUND\n",
            "FOUND\n",
            "FOUND\n",
            "FOUND\n",
            "FOUND\n",
            "FOUND\n",
            "FOUND\n",
            "FOUND\n",
            "FOUND\n",
            "FOUND\n",
            "FOUND\n",
            "FOUND\n",
            "FOUND\n",
            "FOUND\n",
            "FOUND\n",
            "FOUND\n",
            "FOUND\n",
            "FOUND\n"
          ]
        },
        {
          "name": "stderr",
          "output_type": "stream",
          "text": [
            "100%|██████████| 4/4 [03:02<00:00, 45.58s/it]\n"
          ]
        }
      ],
      "source": [
        "more_examples = data.sample(4, random_state=1)\n",
        "more_rank_data = {}\n",
        "for enricher_name in ['identity', 'add_abstract', 'add_title', 'add_title_and_abstract']:\n",
        "    more_rank_data[enricher_name] = ranks_at_k(\n",
        "        examples=more_examples,\n",
        "        embedder_name='BAAI/bge-small-en',\n",
        "        enricher_name=enricher_name,\n",
        "        target_column='bge_norm',\n",
        "        top_k=2_261_334,\n",
        "        ef_search=20\n",
        "    )"
      ]
    },
    {
      "cell_type": "code",
      "execution_count": null,
      "metadata": {},
      "outputs": [],
      "source": [
        "for enricher_name, ranks in new_rank_data.items():\n",
        "    print(f\"Enricher: {enricher_name}. Rank: {ranks}\")"
      ]
    },
    {
      "cell_type": "code",
      "execution_count": null,
      "metadata": {},
      "outputs": [],
      "source": [
        "# write rank_data dict to file\n",
        "import json\n",
        "with open('data/rank_data.json', 'w') as f:\n",
        "    json.dump(rank_data, f)\n",
        "print('Rank data saved to file')"
      ]
    },
    {
      "cell_type": "code",
      "execution_count": null,
      "metadata": {},
      "outputs": [],
      "source": [
        "max(rank_data['identity']), max(rank_data['add_abstract']), max(rank_data['add_title'])"
      ]
    },
    {
      "cell_type": "code",
      "execution_count": null,
      "metadata": {},
      "outputs": [],
      "source": [
        "research = pd.read_json('data/preprocessed/research.jsonl', lines=True)\n",
        "research[research.doi == '10.1093/mnras/stab3351']"
      ]
    },
    {
      "cell_type": "code",
      "execution_count": null,
      "metadata": {},
      "outputs": [],
      "source": [
        "model_names_to_filenames = {\n",
        "    'BAAI/bge-small-en': 'bge',\n",
        "    'bert-base-uncased': 'bert',\n",
        "    'adsabs/astroBERT': 'astrobert'\n",
        "}"
      ]
    },
    {
      "cell_type": "code",
      "execution_count": null,
      "metadata": {},
      "outputs": [],
      "source": []
    },
    {
      "cell_type": "code",
      "execution_count": null,
      "metadata": {},
      "outputs": [],
      "source": []
    },
    {
      "cell_type": "code",
      "execution_count": null,
      "metadata": {},
      "outputs": [],
      "source": []
    }
  ],
  "metadata": {
    "kernelspec": {
      "display_name": "citeline",
      "language": "python",
      "name": "python3"
    },
    "language_info": {
      "codemirror_mode": {
        "name": "ipython",
        "version": 3
      },
      "file_extension": ".py",
      "mimetype": "text/x-python",
      "name": "python",
      "nbconvert_exporter": "python",
      "pygments_lexer": "ipython3",
      "version": "3.11.10"
    }
  },
  "nbformat": 4,
  "nbformat_minor": 4
}
