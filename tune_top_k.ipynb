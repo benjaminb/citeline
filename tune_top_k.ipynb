{
  "cells": [
    {
      "cell_type": "markdown",
      "metadata": {},
      "source": [
        "# Tuning the Top-k Query parameter\n",
        "\n",
        "First we set up the environment"
      ]
    },
    {
      "cell_type": "code",
      "execution_count": 2,
      "metadata": {},
      "outputs": [
        {
          "name": "stdout",
          "output_type": "stream",
          "text": [
            "5432\n"
          ]
        }
      ],
      "source": [
        "from dotenv import load_dotenv\n",
        "import os\n",
        "import psycopg\n",
        "import pandas as pd\n",
        "import numpy as np\n",
        "from time import time\n",
        "import torch\n",
        "from TextEnrichers import get_enricher, TextEnricher\n",
        "from database.database import Database\n",
        "from Embedders import Embedder, get_embedder\n",
        "from tqdm import tqdm\n",
        "\n",
        "load_dotenv('.env', override=True)\n",
        "print(os.getenv('DB_PORT'))\n"
      ]
    },
    {
      "cell_type": "code",
      "execution_count": 3,
      "metadata": {},
      "outputs": [
        {
          "name": "stdout",
          "output_type": "stream",
          "text": [
            "=================================CONFIG=================================\n",
            "Database         User             Host                             Port            \n",
            "citeline_db      bbasseri         localhost                        5432            \n",
            "========================================================================\n",
            "Database version: ('PostgreSQL 17.3 (Homebrew) on x86_64-apple-darwin23.6.0, compiled by Apple clang version 16.0.0 (clang-1600.0.26.6), 64-bit',)\n",
            "Using device: mps\n"
          ]
        }
      ],
      "source": [
        "# Database setup\n",
        "db = Database()\n",
        "db.test_connection()\n",
        "\n",
        "device = 'cuda' if torch.cuda.is_available(\n",
        ") else 'mps' if torch.mps.is_available() else 'cpu'\n",
        "print(f\"Using device: {device}\")"
      ]
    },
    {
      "cell_type": "markdown",
      "metadata": {},
      "source": [
        "## Investigating precision over `k`\n",
        "\n",
        "For our various embedding models and enrichment strategies, we want to know the smallest `top_k` value that will still retrieve the target reference for a given sentence. \n",
        "\n",
        "To investigate this, we'll sample 100 examples from the non-trivial training data. Each example typically has 1-2 target DOI's. For each example, we'll query the database with a large `top_k` parameter to start, so we can be sure the database returns the target references. Then we can ask at what index in the query results does a target DOI first appear. Ideally, the ranks will all be very high, indicated by having *low* indices in the query results. We also expect enriched examples to have their target doi's higher ranked (lower indices)."
      ]
    },
    {
      "cell_type": "code",
      "execution_count": null,
      "metadata": {},
      "outputs": [],
      "source": [
        "data = pd.read_json('data/dataset/split/train.jsonl', lines=True)\n",
        "examples = data.sample(100, random_state=42)\n",
        "examples.head()\n",
        "\n",
        "\n",
        "def lowest_index_matching_doi(target_doi: str, query_results: list) -> int:\n",
        "    \"\"\"\n",
        "    Returns the first index of the query results where the chunk doi matches the target doi.\n",
        "    If no match is found, returns -1.\n",
        "    \"\"\"\n",
        "    for i, result in enumerate(query_results):\n",
        "        if target_doi == result.doi:\n",
        "            return i\n",
        "    return -1\n",
        "\n",
        "\n",
        "def get_ranks(\n",
        "    example: pd.Series,\n",
        "    embedding,\n",
        "    # embedder: Embedder,\n",
        "    # enricher: TextEnricher,\n",
        "    table_name: str,\n",
        "    top_k: int,\n",
        "    ef_search: int,\n",
        "    metric: str = 'vector_cosine_ops'\n",
        ") -> list[int]:\n",
        "    target_dois = example['citation_dois']\n",
        "\n",
        "    # Query\n",
        "    start = time()\n",
        "    query_results = db.query_vector_table(\n",
        "        query_vector=embedding,\n",
        "        target_column='bge_norm',\n",
        "        table_name='library',\n",
        "        top_k=top_k,\n",
        "        use_index=True,\n",
        "        ef_search=ef_search\n",
        "    )\n",
        "    \n",
        "    ranks = [lowest_index_matching_doi(\n",
        "        target_doi=doi, query_results=query_results) for doi in target_dois]\n",
        "    return ranks"
      ]
    },
    {
      "cell_type": "code",
      "execution_count": 9,
      "metadata": {},
      "outputs": [
        {
          "name": "stdout",
          "output_type": "stream",
          "text": [
            "Combos: [('BAAI/bge-small-en', 'identity'), ('BAAI/bge-small-en', 'add_abstract'), ('BAAI/bge-small-en', 'add_title'), ('BAAI/bge-small-en', 'add_title_and_abstract')]\n"
          ]
        }
      ],
      "source": [
        "from itertools import product\n",
        "\n",
        "\n",
        "embedding_models = ['BAAI/bge-small-en']\n",
        "if device == 'cuda':\n",
        "    embedding_models += ['bert-base-uncased', 'adsabs/astroBERT']\n",
        "combos = list(product(embedding_models, TextEnricher.ENRICHMENT_FN.keys()))\n",
        "print(f\"Combos: {combos}\")"
      ]
    },
    {
      "cell_type": "code",
      "execution_count": 13,
      "metadata": {},
      "outputs": [
        {
          "name": "stdout",
          "output_type": "stream",
          "text": [
            "Embedding model: BAAI/bge-small-en, Enricher: identity\n"
          ]
        },
        {
          "name": "stderr",
          "output_type": "stream",
          "text": [
            "  0%|          | 0/100 [00:00<?, ?it/s]"
          ]
        },
        {
          "name": "stdout",
          "output_type": "stream",
          "text": [
            "  WARNING: Setting ef_search (5000) to 1000, highest supported by pgvector.\n"
          ]
        },
        {
          "name": "stderr",
          "output_type": "stream",
          "text": [
            "  1%|          | 1/100 [00:00<01:35,  1.04it/s]"
          ]
        },
        {
          "name": "stdout",
          "output_type": "stream",
          "text": [
            "  Query execution time: 0.78 seconds\n",
            "  WARNING: Setting ef_search (5000) to 1000, highest supported by pgvector.\n"
          ]
        },
        {
          "name": "stderr",
          "output_type": "stream",
          "text": [
            "  2%|▏         | 2/100 [00:01<01:06,  1.47it/s]"
          ]
        },
        {
          "name": "stdout",
          "output_type": "stream",
          "text": [
            "  Query execution time: 0.42 seconds\n",
            "  WARNING: Setting ef_search (5000) to 1000, highest supported by pgvector.\n"
          ]
        },
        {
          "name": "stderr",
          "output_type": "stream",
          "text": [
            "  3%|▎         | 3/100 [00:01<00:57,  1.67it/s]"
          ]
        },
        {
          "name": "stdout",
          "output_type": "stream",
          "text": [
            "  Query execution time: 0.42 seconds\n",
            "  WARNING: Setting ef_search (5000) to 1000, highest supported by pgvector.\n"
          ]
        },
        {
          "name": "stderr",
          "output_type": "stream",
          "text": [
            "  4%|▍         | 4/100 [00:02<00:43,  2.21it/s]"
          ]
        },
        {
          "name": "stdout",
          "output_type": "stream",
          "text": [
            "  Query execution time: 0.20 seconds\n",
            "  WARNING: Setting ef_search (5000) to 1000, highest supported by pgvector.\n"
          ]
        },
        {
          "name": "stderr",
          "output_type": "stream",
          "text": [
            "  5%|▌         | 5/100 [00:02<00:36,  2.60it/s]"
          ]
        },
        {
          "name": "stdout",
          "output_type": "stream",
          "text": [
            "  Query execution time: 0.23 seconds\n",
            "  WARNING: Setting ef_search (5000) to 1000, highest supported by pgvector.\n"
          ]
        },
        {
          "name": "stderr",
          "output_type": "stream",
          "text": [
            "  6%|▌         | 6/100 [00:02<00:34,  2.71it/s]"
          ]
        },
        {
          "name": "stdout",
          "output_type": "stream",
          "text": [
            "  Query execution time: 0.30 seconds\n",
            "  WARNING: Setting ef_search (5000) to 1000, highest supported by pgvector.\n"
          ]
        },
        {
          "name": "stderr",
          "output_type": "stream",
          "text": [
            "  7%|▋         | 7/100 [00:03<00:31,  2.93it/s]"
          ]
        },
        {
          "name": "stdout",
          "output_type": "stream",
          "text": [
            "  Query execution time: 0.26 seconds\n",
            "  WARNING: Setting ef_search (5000) to 1000, highest supported by pgvector.\n"
          ]
        },
        {
          "name": "stderr",
          "output_type": "stream",
          "text": [
            "  8%|▊         | 8/100 [00:03<00:34,  2.66it/s]"
          ]
        },
        {
          "name": "stdout",
          "output_type": "stream",
          "text": [
            "  Query execution time: 0.41 seconds\n",
            "  WARNING: Setting ef_search (5000) to 1000, highest supported by pgvector.\n"
          ]
        },
        {
          "name": "stderr",
          "output_type": "stream",
          "text": [
            "  9%|▉         | 9/100 [00:04<00:39,  2.32it/s]"
          ]
        },
        {
          "name": "stdout",
          "output_type": "stream",
          "text": [
            "  Query execution time: 0.51 seconds\n",
            "  WARNING: Setting ef_search (5000) to 1000, highest supported by pgvector.\n"
          ]
        },
        {
          "name": "stderr",
          "output_type": "stream",
          "text": [
            " 10%|█         | 10/100 [00:04<00:34,  2.59it/s]"
          ]
        },
        {
          "name": "stdout",
          "output_type": "stream",
          "text": [
            "  Query execution time: 0.26 seconds\n",
            "  WARNING: Setting ef_search (5000) to 1000, highest supported by pgvector.\n"
          ]
        },
        {
          "name": "stderr",
          "output_type": "stream",
          "text": [
            " 11%|█         | 11/100 [00:04<00:30,  2.89it/s]"
          ]
        },
        {
          "name": "stdout",
          "output_type": "stream",
          "text": [
            "  Query execution time: 0.23 seconds\n",
            "  WARNING: Setting ef_search (5000) to 1000, highest supported by pgvector.\n"
          ]
        },
        {
          "name": "stderr",
          "output_type": "stream",
          "text": [
            " 12%|█▏        | 12/100 [00:05<00:33,  2.63it/s]"
          ]
        },
        {
          "name": "stdout",
          "output_type": "stream",
          "text": [
            "  Query execution time: 0.43 seconds\n",
            "  WARNING: Setting ef_search (5000) to 1000, highest supported by pgvector.\n"
          ]
        },
        {
          "name": "stderr",
          "output_type": "stream",
          "text": [
            " 13%|█▎        | 13/100 [00:05<00:35,  2.48it/s]"
          ]
        },
        {
          "name": "stdout",
          "output_type": "stream",
          "text": [
            "  Query execution time: 0.44 seconds\n",
            "  WARNING: Setting ef_search (5000) to 1000, highest supported by pgvector.\n"
          ]
        },
        {
          "name": "stderr",
          "output_type": "stream",
          "text": [
            " 14%|█▍        | 14/100 [00:05<00:34,  2.48it/s]"
          ]
        },
        {
          "name": "stdout",
          "output_type": "stream",
          "text": [
            "  Query execution time: 0.37 seconds\n",
            "  WARNING: Setting ef_search (5000) to 1000, highest supported by pgvector.\n"
          ]
        },
        {
          "name": "stderr",
          "output_type": "stream",
          "text": [
            " 15%|█▌        | 15/100 [00:06<00:31,  2.70it/s]"
          ]
        },
        {
          "name": "stdout",
          "output_type": "stream",
          "text": [
            "  Query execution time: 0.26 seconds\n",
            "  WARNING: Setting ef_search (5000) to 1000, highest supported by pgvector.\n"
          ]
        },
        {
          "name": "stderr",
          "output_type": "stream",
          "text": [
            " 16%|█▌        | 16/100 [00:06<00:33,  2.48it/s]"
          ]
        },
        {
          "name": "stdout",
          "output_type": "stream",
          "text": [
            "  Query execution time: 0.44 seconds\n",
            "  WARNING: Setting ef_search (5000) to 1000, highest supported by pgvector.\n"
          ]
        },
        {
          "name": "stderr",
          "output_type": "stream",
          "text": [
            " 17%|█▋        | 17/100 [00:07<00:32,  2.55it/s]"
          ]
        },
        {
          "name": "stdout",
          "output_type": "stream",
          "text": [
            "  Query execution time: 0.34 seconds\n",
            "  WARNING: Setting ef_search (5000) to 1000, highest supported by pgvector.\n"
          ]
        },
        {
          "name": "stderr",
          "output_type": "stream",
          "text": [
            " 18%|█▊        | 18/100 [00:07<00:30,  2.70it/s]"
          ]
        },
        {
          "name": "stdout",
          "output_type": "stream",
          "text": [
            "  Query execution time: 0.29 seconds\n",
            "  WARNING: Setting ef_search (5000) to 1000, highest supported by pgvector.\n"
          ]
        },
        {
          "name": "stderr",
          "output_type": "stream",
          "text": [
            " 19%|█▉        | 19/100 [00:07<00:27,  3.00it/s]"
          ]
        },
        {
          "name": "stdout",
          "output_type": "stream",
          "text": [
            "  Query execution time: 0.20 seconds\n",
            "  WARNING: Setting ef_search (5000) to 1000, highest supported by pgvector.\n"
          ]
        },
        {
          "name": "stderr",
          "output_type": "stream",
          "text": [
            " 20%|██        | 20/100 [00:07<00:26,  3.00it/s]"
          ]
        },
        {
          "name": "stdout",
          "output_type": "stream",
          "text": [
            "  Query execution time: 0.30 seconds\n",
            "  WARNING: Setting ef_search (5000) to 1000, highest supported by pgvector.\n"
          ]
        },
        {
          "name": "stderr",
          "output_type": "stream",
          "text": [
            " 21%|██        | 21/100 [00:08<00:28,  2.80it/s]"
          ]
        },
        {
          "name": "stdout",
          "output_type": "stream",
          "text": [
            "  Query execution time: 0.36 seconds\n",
            "  WARNING: Setting ef_search (5000) to 1000, highest supported by pgvector.\n"
          ]
        },
        {
          "name": "stderr",
          "output_type": "stream",
          "text": [
            " 22%|██▏       | 22/100 [00:08<00:29,  2.61it/s]"
          ]
        },
        {
          "name": "stdout",
          "output_type": "stream",
          "text": [
            "  Query execution time: 0.39 seconds\n",
            "  WARNING: Setting ef_search (5000) to 1000, highest supported by pgvector.\n"
          ]
        },
        {
          "name": "stderr",
          "output_type": "stream",
          "text": [
            " 23%|██▎       | 23/100 [00:09<00:28,  2.72it/s]"
          ]
        },
        {
          "name": "stdout",
          "output_type": "stream",
          "text": [
            "  Query execution time: 0.28 seconds\n",
            "  WARNING: Setting ef_search (5000) to 1000, highest supported by pgvector.\n"
          ]
        },
        {
          "name": "stderr",
          "output_type": "stream",
          "text": [
            " 24%|██▍       | 24/100 [00:09<00:25,  2.95it/s]"
          ]
        },
        {
          "name": "stdout",
          "output_type": "stream",
          "text": [
            "  Query execution time: 0.25 seconds\n",
            "  WARNING: Setting ef_search (5000) to 1000, highest supported by pgvector.\n"
          ]
        },
        {
          "name": "stderr",
          "output_type": "stream",
          "text": [
            " 25%|██▌       | 25/100 [00:09<00:26,  2.78it/s]"
          ]
        },
        {
          "name": "stdout",
          "output_type": "stream",
          "text": [
            "  Query execution time: 0.38 seconds\n",
            "  WARNING: Setting ef_search (5000) to 1000, highest supported by pgvector.\n"
          ]
        },
        {
          "name": "stderr",
          "output_type": "stream",
          "text": [
            " 26%|██▌       | 26/100 [00:10<00:24,  3.02it/s]"
          ]
        },
        {
          "name": "stdout",
          "output_type": "stream",
          "text": [
            "  Query execution time: 0.24 seconds\n",
            "  WARNING: Setting ef_search (5000) to 1000, highest supported by pgvector.\n"
          ]
        },
        {
          "name": "stderr",
          "output_type": "stream",
          "text": [
            " 27%|██▋       | 27/100 [00:10<00:23,  3.08it/s]"
          ]
        },
        {
          "name": "stdout",
          "output_type": "stream",
          "text": [
            "  Query execution time: 0.28 seconds\n",
            "  WARNING: Setting ef_search (5000) to 1000, highest supported by pgvector.\n"
          ]
        },
        {
          "name": "stderr",
          "output_type": "stream",
          "text": [
            " 28%|██▊       | 28/100 [00:10<00:21,  3.40it/s]"
          ]
        },
        {
          "name": "stdout",
          "output_type": "stream",
          "text": [
            "  Query execution time: 0.20 seconds\n",
            "  WARNING: Setting ef_search (5000) to 1000, highest supported by pgvector.\n"
          ]
        },
        {
          "name": "stderr",
          "output_type": "stream",
          "text": [
            " 29%|██▉       | 29/100 [00:10<00:22,  3.19it/s]"
          ]
        },
        {
          "name": "stdout",
          "output_type": "stream",
          "text": [
            "  Query execution time: 0.33 seconds\n",
            "  WARNING: Setting ef_search (5000) to 1000, highest supported by pgvector.\n"
          ]
        },
        {
          "name": "stderr",
          "output_type": "stream",
          "text": [
            " 30%|███       | 30/100 [00:11<00:21,  3.29it/s]"
          ]
        },
        {
          "name": "stdout",
          "output_type": "stream",
          "text": [
            "  Query execution time: 0.25 seconds\n",
            "  WARNING: Setting ef_search (5000) to 1000, highest supported by pgvector.\n"
          ]
        },
        {
          "name": "stderr",
          "output_type": "stream",
          "text": [
            " 31%|███       | 31/100 [00:11<00:19,  3.47it/s]"
          ]
        },
        {
          "name": "stdout",
          "output_type": "stream",
          "text": [
            "  Query execution time: 0.23 seconds\n",
            "  WARNING: Setting ef_search (5000) to 1000, highest supported by pgvector.\n",
            "  Query execution time: 0.25 seconds\n"
          ]
        },
        {
          "name": "stderr",
          "output_type": "stream",
          "text": [
            " 32%|███▏      | 32/100 [00:12<00:24,  2.82it/s]"
          ]
        },
        {
          "name": "stdout",
          "output_type": "stream",
          "text": [
            "  WARNING: Setting ef_search (5000) to 1000, highest supported by pgvector.\n"
          ]
        },
        {
          "name": "stderr",
          "output_type": "stream",
          "text": [
            " 33%|███▎      | 33/100 [00:12<00:21,  3.11it/s]"
          ]
        },
        {
          "name": "stdout",
          "output_type": "stream",
          "text": [
            "  Query execution time: 0.22 seconds\n",
            "  WARNING: Setting ef_search (5000) to 1000, highest supported by pgvector.\n",
            "  Query execution time: 0.17 seconds\n"
          ]
        },
        {
          "name": "stderr",
          "output_type": "stream",
          "text": [
            " 34%|███▍      | 34/100 [00:12<00:18,  3.52it/s]"
          ]
        },
        {
          "name": "stdout",
          "output_type": "stream",
          "text": [
            "  WARNING: Setting ef_search (5000) to 1000, highest supported by pgvector.\n",
            "  Query execution time: 0.20 seconds\n"
          ]
        },
        {
          "name": "stderr",
          "output_type": "stream",
          "text": [
            " 35%|███▌      | 35/100 [00:12<00:17,  3.74it/s]"
          ]
        },
        {
          "name": "stdout",
          "output_type": "stream",
          "text": [
            "  WARNING: Setting ef_search (5000) to 1000, highest supported by pgvector.\n"
          ]
        },
        {
          "name": "stderr",
          "output_type": "stream",
          "text": [
            " 36%|███▌      | 36/100 [00:12<00:17,  3.62it/s]"
          ]
        },
        {
          "name": "stdout",
          "output_type": "stream",
          "text": [
            "  Query execution time: 0.26 seconds\n",
            "  WARNING: Setting ef_search (5000) to 1000, highest supported by pgvector.\n"
          ]
        },
        {
          "name": "stderr",
          "output_type": "stream",
          "text": [
            " 37%|███▋      | 37/100 [00:13<00:18,  3.37it/s]"
          ]
        },
        {
          "name": "stdout",
          "output_type": "stream",
          "text": [
            "  Query execution time: 0.31 seconds\n",
            "  WARNING: Setting ef_search (5000) to 1000, highest supported by pgvector.\n"
          ]
        },
        {
          "name": "stderr",
          "output_type": "stream",
          "text": [
            " 38%|███▊      | 38/100 [00:13<00:18,  3.33it/s]"
          ]
        },
        {
          "name": "stdout",
          "output_type": "stream",
          "text": [
            "  Query execution time: 0.27 seconds\n",
            "  WARNING: Setting ef_search (5000) to 1000, highest supported by pgvector.\n"
          ]
        },
        {
          "name": "stderr",
          "output_type": "stream",
          "text": [
            " 39%|███▉      | 39/100 [00:13<00:18,  3.31it/s]"
          ]
        },
        {
          "name": "stdout",
          "output_type": "stream",
          "text": [
            "  Query execution time: 0.28 seconds\n",
            "  WARNING: Setting ef_search (5000) to 1000, highest supported by pgvector.\n"
          ]
        },
        {
          "name": "stderr",
          "output_type": "stream",
          "text": [
            " 40%|████      | 40/100 [00:14<00:17,  3.42it/s]"
          ]
        },
        {
          "name": "stdout",
          "output_type": "stream",
          "text": [
            "  Query execution time: 0.24 seconds\n",
            "  WARNING: Setting ef_search (5000) to 1000, highest supported by pgvector.\n"
          ]
        },
        {
          "name": "stderr",
          "output_type": "stream",
          "text": [
            " 41%|████      | 41/100 [00:14<00:17,  3.38it/s]"
          ]
        },
        {
          "name": "stdout",
          "output_type": "stream",
          "text": [
            "  Query execution time: 0.28 seconds\n",
            "  WARNING: Setting ef_search (5000) to 1000, highest supported by pgvector.\n"
          ]
        },
        {
          "name": "stderr",
          "output_type": "stream",
          "text": [
            " 42%|████▏     | 42/100 [00:14<00:18,  3.14it/s]"
          ]
        },
        {
          "name": "stdout",
          "output_type": "stream",
          "text": [
            "  Query execution time: 0.34 seconds\n",
            "  WARNING: Setting ef_search (5000) to 1000, highest supported by pgvector.\n"
          ]
        },
        {
          "name": "stderr",
          "output_type": "stream",
          "text": [
            " 43%|████▎     | 43/100 [00:15<00:17,  3.24it/s]"
          ]
        },
        {
          "name": "stdout",
          "output_type": "stream",
          "text": [
            "  Query execution time: 0.26 seconds\n",
            "  WARNING: Setting ef_search (5000) to 1000, highest supported by pgvector.\n"
          ]
        },
        {
          "name": "stderr",
          "output_type": "stream",
          "text": [
            " 44%|████▍     | 44/100 [00:15<00:15,  3.53it/s]"
          ]
        },
        {
          "name": "stdout",
          "output_type": "stream",
          "text": [
            "  Query execution time: 0.19 seconds\n",
            "  WARNING: Setting ef_search (5000) to 1000, highest supported by pgvector.\n"
          ]
        },
        {
          "name": "stderr",
          "output_type": "stream",
          "text": [
            " 45%|████▌     | 45/100 [00:15<00:15,  3.61it/s]"
          ]
        },
        {
          "name": "stdout",
          "output_type": "stream",
          "text": [
            "  Query execution time: 0.23 seconds\n",
            "  WARNING: Setting ef_search (5000) to 1000, highest supported by pgvector.\n"
          ]
        },
        {
          "name": "stderr",
          "output_type": "stream",
          "text": [
            " 46%|████▌     | 46/100 [00:16<00:16,  3.22it/s]"
          ]
        },
        {
          "name": "stdout",
          "output_type": "stream",
          "text": [
            "  Query execution time: 0.36 seconds\n",
            "  WARNING: Setting ef_search (5000) to 1000, highest supported by pgvector.\n"
          ]
        },
        {
          "name": "stderr",
          "output_type": "stream",
          "text": [
            " 47%|████▋     | 47/100 [00:16<00:16,  3.30it/s]"
          ]
        },
        {
          "name": "stdout",
          "output_type": "stream",
          "text": [
            "  Query execution time: 0.26 seconds\n",
            "  WARNING: Setting ef_search (5000) to 1000, highest supported by pgvector.\n"
          ]
        },
        {
          "name": "stderr",
          "output_type": "stream",
          "text": [
            " 48%|████▊     | 48/100 [00:16<00:15,  3.43it/s]"
          ]
        },
        {
          "name": "stdout",
          "output_type": "stream",
          "text": [
            "  Query execution time: 0.23 seconds\n",
            "  WARNING: Setting ef_search (5000) to 1000, highest supported by pgvector.\n"
          ]
        },
        {
          "name": "stderr",
          "output_type": "stream",
          "text": [
            " 49%|████▉     | 49/100 [00:16<00:14,  3.43it/s]"
          ]
        },
        {
          "name": "stdout",
          "output_type": "stream",
          "text": [
            "  Query execution time: 0.26 seconds\n",
            "  WARNING: Setting ef_search (5000) to 1000, highest supported by pgvector.\n"
          ]
        },
        {
          "name": "stderr",
          "output_type": "stream",
          "text": [
            " 50%|█████     | 50/100 [00:17<00:13,  3.60it/s]"
          ]
        },
        {
          "name": "stdout",
          "output_type": "stream",
          "text": [
            "  Query execution time: 0.21 seconds\n",
            "  WARNING: Setting ef_search (5000) to 1000, highest supported by pgvector.\n"
          ]
        },
        {
          "name": "stderr",
          "output_type": "stream",
          "text": [
            " 51%|█████     | 51/100 [00:17<00:14,  3.35it/s]"
          ]
        },
        {
          "name": "stdout",
          "output_type": "stream",
          "text": [
            "  Query execution time: 0.31 seconds\n",
            "  WARNING: Setting ef_search (5000) to 1000, highest supported by pgvector.\n"
          ]
        },
        {
          "name": "stderr",
          "output_type": "stream",
          "text": [
            " 52%|█████▏    | 52/100 [00:18<00:18,  2.65it/s]"
          ]
        },
        {
          "name": "stdout",
          "output_type": "stream",
          "text": [
            "  Query execution time: 0.52 seconds\n",
            "  WARNING: Setting ef_search (5000) to 1000, highest supported by pgvector.\n"
          ]
        },
        {
          "name": "stderr",
          "output_type": "stream",
          "text": [
            " 53%|█████▎    | 53/100 [00:18<00:17,  2.66it/s]"
          ]
        },
        {
          "name": "stdout",
          "output_type": "stream",
          "text": [
            "  Query execution time: 0.34 seconds\n",
            "  WARNING: Setting ef_search (5000) to 1000, highest supported by pgvector.\n"
          ]
        },
        {
          "name": "stderr",
          "output_type": "stream",
          "text": [
            " 54%|█████▍    | 54/100 [00:18<00:15,  2.89it/s]"
          ]
        },
        {
          "name": "stdout",
          "output_type": "stream",
          "text": [
            "  Query execution time: 0.24 seconds\n",
            "  WARNING: Setting ef_search (5000) to 1000, highest supported by pgvector.\n"
          ]
        },
        {
          "name": "stderr",
          "output_type": "stream",
          "text": [
            " 55%|█████▌    | 55/100 [00:19<00:16,  2.76it/s]"
          ]
        },
        {
          "name": "stdout",
          "output_type": "stream",
          "text": [
            "  Query execution time: 0.37 seconds\n",
            "  WARNING: Setting ef_search (5000) to 1000, highest supported by pgvector.\n"
          ]
        },
        {
          "name": "stderr",
          "output_type": "stream",
          "text": [
            " 56%|█████▌    | 56/100 [00:19<00:15,  2.87it/s]"
          ]
        },
        {
          "name": "stdout",
          "output_type": "stream",
          "text": [
            "  Query execution time: 0.29 seconds\n",
            "  WARNING: Setting ef_search (5000) to 1000, highest supported by pgvector.\n"
          ]
        },
        {
          "name": "stderr",
          "output_type": "stream",
          "text": [
            " 57%|█████▋    | 57/100 [00:19<00:17,  2.40it/s]"
          ]
        },
        {
          "name": "stdout",
          "output_type": "stream",
          "text": [
            "  Query execution time: 0.54 seconds\n",
            "  WARNING: Setting ef_search (5000) to 1000, highest supported by pgvector.\n"
          ]
        },
        {
          "name": "stderr",
          "output_type": "stream",
          "text": [
            " 58%|█████▊    | 58/100 [00:20<00:16,  2.62it/s]"
          ]
        },
        {
          "name": "stdout",
          "output_type": "stream",
          "text": [
            "  Query execution time: 0.26 seconds\n",
            "  WARNING: Setting ef_search (5000) to 1000, highest supported by pgvector.\n"
          ]
        },
        {
          "name": "stderr",
          "output_type": "stream",
          "text": [
            " 59%|█████▉    | 59/100 [00:20<00:14,  2.78it/s]"
          ]
        },
        {
          "name": "stdout",
          "output_type": "stream",
          "text": [
            "  Query execution time: 0.28 seconds\n",
            "  WARNING: Setting ef_search (5000) to 1000, highest supported by pgvector.\n"
          ]
        },
        {
          "name": "stderr",
          "output_type": "stream",
          "text": [
            " 60%|██████    | 60/100 [00:20<00:14,  2.78it/s]"
          ]
        },
        {
          "name": "stdout",
          "output_type": "stream",
          "text": [
            "  Query execution time: 0.30 seconds\n",
            "  WARNING: Setting ef_search (5000) to 1000, highest supported by pgvector.\n"
          ]
        },
        {
          "name": "stderr",
          "output_type": "stream",
          "text": [
            " 61%|██████    | 61/100 [00:21<00:15,  2.44it/s]"
          ]
        },
        {
          "name": "stdout",
          "output_type": "stream",
          "text": [
            "  Query execution time: 0.49 seconds\n",
            "  WARNING: Setting ef_search (5000) to 1000, highest supported by pgvector.\n"
          ]
        },
        {
          "name": "stderr",
          "output_type": "stream",
          "text": [
            " 62%|██████▏   | 62/100 [00:21<00:14,  2.64it/s]"
          ]
        },
        {
          "name": "stdout",
          "output_type": "stream",
          "text": [
            "  Query execution time: 0.28 seconds\n",
            "  WARNING: Setting ef_search (5000) to 1000, highest supported by pgvector.\n"
          ]
        },
        {
          "name": "stderr",
          "output_type": "stream",
          "text": [
            " 63%|██████▎   | 63/100 [00:22<00:13,  2.65it/s]"
          ]
        },
        {
          "name": "stdout",
          "output_type": "stream",
          "text": [
            "  Query execution time: 0.33 seconds\n",
            "  WARNING: Setting ef_search (5000) to 1000, highest supported by pgvector.\n"
          ]
        },
        {
          "name": "stderr",
          "output_type": "stream",
          "text": [
            " 64%|██████▍   | 64/100 [00:22<00:13,  2.66it/s]"
          ]
        },
        {
          "name": "stdout",
          "output_type": "stream",
          "text": [
            "  Query execution time: 0.35 seconds\n",
            "  WARNING: Setting ef_search (5000) to 1000, highest supported by pgvector.\n"
          ]
        },
        {
          "name": "stderr",
          "output_type": "stream",
          "text": [
            " 65%|██████▌   | 65/100 [00:22<00:12,  2.88it/s]"
          ]
        },
        {
          "name": "stdout",
          "output_type": "stream",
          "text": [
            "  Query execution time: 0.25 seconds\n",
            "  WARNING: Setting ef_search (5000) to 1000, highest supported by pgvector.\n"
          ]
        },
        {
          "name": "stderr",
          "output_type": "stream",
          "text": [
            " 66%|██████▌   | 66/100 [00:23<00:13,  2.54it/s]"
          ]
        },
        {
          "name": "stdout",
          "output_type": "stream",
          "text": [
            "  Query execution time: 0.47 seconds\n",
            "  WARNING: Setting ef_search (5000) to 1000, highest supported by pgvector.\n"
          ]
        },
        {
          "name": "stderr",
          "output_type": "stream",
          "text": [
            " 67%|██████▋   | 67/100 [00:23<00:11,  2.87it/s]"
          ]
        },
        {
          "name": "stdout",
          "output_type": "stream",
          "text": [
            "  Query execution time: 0.21 seconds\n",
            "  WARNING: Setting ef_search (5000) to 1000, highest supported by pgvector.\n"
          ]
        },
        {
          "name": "stderr",
          "output_type": "stream",
          "text": [
            " 68%|██████▊   | 68/100 [00:23<00:10,  3.08it/s]"
          ]
        },
        {
          "name": "stdout",
          "output_type": "stream",
          "text": [
            "  Query execution time: 0.22 seconds\n",
            "  WARNING: Setting ef_search (5000) to 1000, highest supported by pgvector.\n"
          ]
        },
        {
          "name": "stderr",
          "output_type": "stream",
          "text": [
            " 69%|██████▉   | 69/100 [00:24<00:10,  2.94it/s]"
          ]
        },
        {
          "name": "stdout",
          "output_type": "stream",
          "text": [
            "  Query execution time: 0.35 seconds\n",
            "  WARNING: Setting ef_search (5000) to 1000, highest supported by pgvector.\n"
          ]
        },
        {
          "name": "stderr",
          "output_type": "stream",
          "text": [
            " 70%|███████   | 70/100 [00:24<00:11,  2.73it/s]"
          ]
        },
        {
          "name": "stdout",
          "output_type": "stream",
          "text": [
            "  Query execution time: 0.39 seconds\n",
            "  WARNING: Setting ef_search (5000) to 1000, highest supported by pgvector.\n"
          ]
        },
        {
          "name": "stderr",
          "output_type": "stream",
          "text": [
            " 71%|███████   | 71/100 [00:25<00:11,  2.48it/s]"
          ]
        },
        {
          "name": "stdout",
          "output_type": "stream",
          "text": [
            "  Query execution time: 0.46 seconds\n",
            "  WARNING: Setting ef_search (5000) to 1000, highest supported by pgvector.\n"
          ]
        },
        {
          "name": "stderr",
          "output_type": "stream",
          "text": [
            " 72%|███████▏  | 72/100 [00:25<00:11,  2.40it/s]"
          ]
        },
        {
          "name": "stdout",
          "output_type": "stream",
          "text": [
            "  Query execution time: 0.41 seconds\n",
            "  WARNING: Setting ef_search (5000) to 1000, highest supported by pgvector.\n"
          ]
        },
        {
          "name": "stderr",
          "output_type": "stream",
          "text": [
            " 73%|███████▎  | 73/100 [00:25<00:10,  2.46it/s]"
          ]
        },
        {
          "name": "stdout",
          "output_type": "stream",
          "text": [
            "  Query execution time: 0.35 seconds\n",
            "  WARNING: Setting ef_search (5000) to 1000, highest supported by pgvector.\n"
          ]
        },
        {
          "name": "stderr",
          "output_type": "stream",
          "text": [
            " 74%|███████▍  | 74/100 [00:26<00:12,  2.07it/s]"
          ]
        },
        {
          "name": "stdout",
          "output_type": "stream",
          "text": [
            "  Query execution time: 0.62 seconds\n",
            "  WARNING: Setting ef_search (5000) to 1000, highest supported by pgvector.\n"
          ]
        },
        {
          "name": "stderr",
          "output_type": "stream",
          "text": [
            " 75%|███████▌  | 75/100 [00:27<00:12,  2.07it/s]"
          ]
        },
        {
          "name": "stdout",
          "output_type": "stream",
          "text": [
            "  Query execution time: 0.44 seconds\n",
            "  WARNING: Setting ef_search (5000) to 1000, highest supported by pgvector.\n"
          ]
        },
        {
          "name": "stderr",
          "output_type": "stream",
          "text": [
            " 76%|███████▌  | 76/100 [00:27<00:10,  2.24it/s]"
          ]
        },
        {
          "name": "stdout",
          "output_type": "stream",
          "text": [
            "  Query execution time: 0.34 seconds\n",
            "  WARNING: Setting ef_search (5000) to 1000, highest supported by pgvector.\n"
          ]
        },
        {
          "name": "stderr",
          "output_type": "stream",
          "text": [
            " 77%|███████▋  | 77/100 [00:27<00:08,  2.57it/s]"
          ]
        },
        {
          "name": "stdout",
          "output_type": "stream",
          "text": [
            "  Query execution time: 0.22 seconds\n",
            "  WARNING: Setting ef_search (5000) to 1000, highest supported by pgvector.\n"
          ]
        },
        {
          "name": "stderr",
          "output_type": "stream",
          "text": [
            " 78%|███████▊  | 78/100 [00:28<00:10,  2.10it/s]"
          ]
        },
        {
          "name": "stdout",
          "output_type": "stream",
          "text": [
            "  Query execution time: 0.49 seconds\n",
            "  WARNING: Setting ef_search (5000) to 1000, highest supported by pgvector.\n"
          ]
        },
        {
          "name": "stderr",
          "output_type": "stream",
          "text": [
            " 79%|███████▉  | 79/100 [00:28<00:08,  2.38it/s]"
          ]
        },
        {
          "name": "stdout",
          "output_type": "stream",
          "text": [
            "  Query execution time: 0.24 seconds\n",
            "  WARNING: Setting ef_search (5000) to 1000, highest supported by pgvector.\n"
          ]
        },
        {
          "name": "stderr",
          "output_type": "stream",
          "text": [
            " 80%|████████  | 80/100 [00:28<00:07,  2.65it/s]"
          ]
        },
        {
          "name": "stdout",
          "output_type": "stream",
          "text": [
            "  Query execution time: 0.25 seconds\n",
            "  WARNING: Setting ef_search (5000) to 1000, highest supported by pgvector.\n"
          ]
        },
        {
          "name": "stderr",
          "output_type": "stream",
          "text": [
            " 81%|████████  | 81/100 [00:29<00:08,  2.34it/s]"
          ]
        },
        {
          "name": "stdout",
          "output_type": "stream",
          "text": [
            "  Query execution time: 0.51 seconds\n",
            "  WARNING: Setting ef_search (5000) to 1000, highest supported by pgvector.\n"
          ]
        },
        {
          "name": "stderr",
          "output_type": "stream",
          "text": [
            " 82%|████████▏ | 82/100 [00:29<00:06,  2.60it/s]"
          ]
        },
        {
          "name": "stdout",
          "output_type": "stream",
          "text": [
            "  Query execution time: 0.27 seconds\n",
            "  WARNING: Setting ef_search (5000) to 1000, highest supported by pgvector.\n"
          ]
        },
        {
          "name": "stderr",
          "output_type": "stream",
          "text": [
            " 83%|████████▎ | 83/100 [00:30<00:06,  2.61it/s]"
          ]
        },
        {
          "name": "stdout",
          "output_type": "stream",
          "text": [
            "  Query execution time: 0.35 seconds\n",
            "  WARNING: Setting ef_search (5000) to 1000, highest supported by pgvector.\n"
          ]
        },
        {
          "name": "stderr",
          "output_type": "stream",
          "text": [
            " 84%|████████▍ | 84/100 [00:30<00:05,  2.81it/s]"
          ]
        },
        {
          "name": "stdout",
          "output_type": "stream",
          "text": [
            "  Query execution time: 0.26 seconds\n",
            "  WARNING: Setting ef_search (5000) to 1000, highest supported by pgvector.\n"
          ]
        },
        {
          "name": "stderr",
          "output_type": "stream",
          "text": [
            " 85%|████████▌ | 85/100 [00:31<00:06,  2.31it/s]"
          ]
        },
        {
          "name": "stdout",
          "output_type": "stream",
          "text": [
            "  Query execution time: 0.58 seconds\n",
            "  WARNING: Setting ef_search (5000) to 1000, highest supported by pgvector.\n"
          ]
        },
        {
          "name": "stderr",
          "output_type": "stream",
          "text": [
            " 86%|████████▌ | 86/100 [00:31<00:06,  2.31it/s]"
          ]
        },
        {
          "name": "stdout",
          "output_type": "stream",
          "text": [
            "  Query execution time: 0.40 seconds\n",
            "  WARNING: Setting ef_search (5000) to 1000, highest supported by pgvector.\n"
          ]
        },
        {
          "name": "stderr",
          "output_type": "stream",
          "text": [
            " 87%|████████▋ | 87/100 [00:31<00:05,  2.49it/s]"
          ]
        },
        {
          "name": "stdout",
          "output_type": "stream",
          "text": [
            "  Query execution time: 0.30 seconds\n",
            "  WARNING: Setting ef_search (5000) to 1000, highest supported by pgvector.\n"
          ]
        },
        {
          "name": "stderr",
          "output_type": "stream",
          "text": [
            " 88%|████████▊ | 88/100 [00:32<00:04,  2.58it/s]"
          ]
        },
        {
          "name": "stdout",
          "output_type": "stream",
          "text": [
            "  Query execution time: 0.33 seconds\n",
            "  WARNING: Setting ef_search (5000) to 1000, highest supported by pgvector.\n"
          ]
        },
        {
          "name": "stderr",
          "output_type": "stream",
          "text": [
            " 89%|████████▉ | 89/100 [00:32<00:03,  2.89it/s]"
          ]
        },
        {
          "name": "stdout",
          "output_type": "stream",
          "text": [
            "  Query execution time: 0.23 seconds\n",
            "  WARNING: Setting ef_search (5000) to 1000, highest supported by pgvector.\n"
          ]
        },
        {
          "name": "stderr",
          "output_type": "stream",
          "text": [
            " 90%|█████████ | 90/100 [00:32<00:03,  3.03it/s]"
          ]
        },
        {
          "name": "stdout",
          "output_type": "stream",
          "text": [
            "  Query execution time: 0.27 seconds\n",
            "  WARNING: Setting ef_search (5000) to 1000, highest supported by pgvector.\n"
          ]
        },
        {
          "name": "stderr",
          "output_type": "stream",
          "text": [
            " 91%|█████████ | 91/100 [00:33<00:02,  3.02it/s]"
          ]
        },
        {
          "name": "stdout",
          "output_type": "stream",
          "text": [
            "  Query execution time: 0.29 seconds\n",
            "  WARNING: Setting ef_search (5000) to 1000, highest supported by pgvector.\n"
          ]
        },
        {
          "name": "stderr",
          "output_type": "stream",
          "text": [
            " 92%|█████████▏| 92/100 [00:33<00:02,  3.01it/s]"
          ]
        },
        {
          "name": "stdout",
          "output_type": "stream",
          "text": [
            "  Query execution time: 0.30 seconds\n",
            "  WARNING: Setting ef_search (5000) to 1000, highest supported by pgvector.\n"
          ]
        },
        {
          "name": "stderr",
          "output_type": "stream",
          "text": [
            " 93%|█████████▎| 93/100 [00:33<00:02,  3.11it/s]"
          ]
        },
        {
          "name": "stdout",
          "output_type": "stream",
          "text": [
            "  Query execution time: 0.28 seconds\n",
            "  WARNING: Setting ef_search (5000) to 1000, highest supported by pgvector.\n"
          ]
        },
        {
          "name": "stderr",
          "output_type": "stream",
          "text": [
            " 94%|█████████▍| 94/100 [00:34<00:02,  2.93it/s]"
          ]
        },
        {
          "name": "stdout",
          "output_type": "stream",
          "text": [
            "  Query execution time: 0.37 seconds\n",
            "  WARNING: Setting ef_search (5000) to 1000, highest supported by pgvector.\n"
          ]
        },
        {
          "name": "stderr",
          "output_type": "stream",
          "text": [
            " 95%|█████████▌| 95/100 [00:34<00:01,  3.04it/s]"
          ]
        },
        {
          "name": "stdout",
          "output_type": "stream",
          "text": [
            "  Query execution time: 0.26 seconds\n",
            "  WARNING: Setting ef_search (5000) to 1000, highest supported by pgvector.\n"
          ]
        },
        {
          "name": "stderr",
          "output_type": "stream",
          "text": [
            " 96%|█████████▌| 96/100 [00:34<00:01,  2.89it/s]"
          ]
        },
        {
          "name": "stdout",
          "output_type": "stream",
          "text": [
            "  Query execution time: 0.36 seconds\n",
            "  WARNING: Setting ef_search (5000) to 1000, highest supported by pgvector.\n"
          ]
        },
        {
          "name": "stderr",
          "output_type": "stream",
          "text": [
            " 97%|█████████▋| 97/100 [00:35<00:01,  2.99it/s]"
          ]
        },
        {
          "name": "stdout",
          "output_type": "stream",
          "text": [
            "  Query execution time: 0.27 seconds\n",
            "  WARNING: Setting ef_search (5000) to 1000, highest supported by pgvector.\n"
          ]
        },
        {
          "name": "stderr",
          "output_type": "stream",
          "text": [
            " 98%|█████████▊| 98/100 [00:35<00:00,  2.91it/s]"
          ]
        },
        {
          "name": "stdout",
          "output_type": "stream",
          "text": [
            "  Query execution time: 0.32 seconds\n",
            "  WARNING: Setting ef_search (5000) to 1000, highest supported by pgvector.\n"
          ]
        },
        {
          "name": "stderr",
          "output_type": "stream",
          "text": [
            " 99%|█████████▉| 99/100 [00:36<00:00,  2.27it/s]"
          ]
        },
        {
          "name": "stdout",
          "output_type": "stream",
          "text": [
            "  Query execution time: 0.62 seconds\n",
            "  WARNING: Setting ef_search (5000) to 1000, highest supported by pgvector.\n"
          ]
        },
        {
          "name": "stderr",
          "output_type": "stream",
          "text": [
            "100%|██████████| 100/100 [00:36<00:00,  2.74it/s]"
          ]
        },
        {
          "name": "stdout",
          "output_type": "stream",
          "text": [
            "  Query execution time: 0.34 seconds\n",
            "Embedding model: BAAI/bge-small-en, Enricher: add_abstract\n"
          ]
        },
        {
          "name": "stderr",
          "output_type": "stream",
          "text": [
            "\n",
            "  0%|          | 0/100 [00:00<?, ?it/s]"
          ]
        },
        {
          "name": "stdout",
          "output_type": "stream",
          "text": [
            "  WARNING: Setting ef_search (5000) to 1000, highest supported by pgvector.\n",
            "  Query execution time: 0.20 seconds\n"
          ]
        },
        {
          "name": "stderr",
          "output_type": "stream",
          "text": [
            "  1%|          | 1/100 [00:00<00:23,  4.29it/s]"
          ]
        },
        {
          "name": "stdout",
          "output_type": "stream",
          "text": [
            "  WARNING: Setting ef_search (5000) to 1000, highest supported by pgvector.\n"
          ]
        },
        {
          "name": "stderr",
          "output_type": "stream",
          "text": [
            "  2%|▏         | 2/100 [00:00<00:28,  3.38it/s]"
          ]
        },
        {
          "name": "stdout",
          "output_type": "stream",
          "text": [
            "  Query execution time: 0.30 seconds\n",
            "  WARNING: Setting ef_search (5000) to 1000, highest supported by pgvector.\n"
          ]
        },
        {
          "name": "stderr",
          "output_type": "stream",
          "text": [
            "  3%|▎         | 3/100 [00:00<00:32,  3.02it/s]"
          ]
        },
        {
          "name": "stdout",
          "output_type": "stream",
          "text": [
            "  Query execution time: 0.29 seconds\n",
            "  WARNING: Setting ef_search (5000) to 1000, highest supported by pgvector.\n"
          ]
        },
        {
          "name": "stderr",
          "output_type": "stream",
          "text": [
            "  4%|▍         | 4/100 [00:01<00:40,  2.37it/s]"
          ]
        },
        {
          "name": "stdout",
          "output_type": "stream",
          "text": [
            "  Query execution time: 0.48 seconds\n",
            "  WARNING: Setting ef_search (5000) to 1000, highest supported by pgvector.\n"
          ]
        },
        {
          "name": "stderr",
          "output_type": "stream",
          "text": [
            "  5%|▌         | 5/100 [00:01<00:38,  2.44it/s]"
          ]
        },
        {
          "name": "stdout",
          "output_type": "stream",
          "text": [
            "  Query execution time: 0.37 seconds\n",
            "  WARNING: Setting ef_search (5000) to 1000, highest supported by pgvector.\n"
          ]
        },
        {
          "name": "stderr",
          "output_type": "stream",
          "text": [
            "  6%|▌         | 6/100 [00:02<00:33,  2.84it/s]"
          ]
        },
        {
          "name": "stdout",
          "output_type": "stream",
          "text": [
            "  Query execution time: 0.22 seconds\n",
            "  WARNING: Setting ef_search (5000) to 1000, highest supported by pgvector.\n"
          ]
        },
        {
          "name": "stderr",
          "output_type": "stream",
          "text": [
            "  7%|▋         | 7/100 [00:02<00:34,  2.67it/s]"
          ]
        },
        {
          "name": "stdout",
          "output_type": "stream",
          "text": [
            "  Query execution time: 0.40 seconds\n",
            "  WARNING: Setting ef_search (5000) to 1000, highest supported by pgvector.\n"
          ]
        },
        {
          "name": "stderr",
          "output_type": "stream",
          "text": [
            "  8%|▊         | 8/100 [00:02<00:34,  2.64it/s]"
          ]
        },
        {
          "name": "stdout",
          "output_type": "stream",
          "text": [
            "  Query execution time: 0.35 seconds\n",
            "  WARNING: Setting ef_search (5000) to 1000, highest supported by pgvector.\n"
          ]
        },
        {
          "name": "stderr",
          "output_type": "stream",
          "text": [
            "  9%|▉         | 9/100 [00:03<00:35,  2.57it/s]"
          ]
        },
        {
          "name": "stdout",
          "output_type": "stream",
          "text": [
            "  Query execution time: 0.38 seconds\n",
            "  WARNING: Setting ef_search (5000) to 1000, highest supported by pgvector.\n"
          ]
        },
        {
          "name": "stderr",
          "output_type": "stream",
          "text": [
            " 10%|█         | 10/100 [00:03<00:36,  2.49it/s]"
          ]
        },
        {
          "name": "stdout",
          "output_type": "stream",
          "text": [
            "  Query execution time: 0.40 seconds\n",
            "  WARNING: Setting ef_search (5000) to 1000, highest supported by pgvector.\n"
          ]
        },
        {
          "name": "stderr",
          "output_type": "stream",
          "text": [
            " 11%|█         | 11/100 [00:04<00:32,  2.77it/s]"
          ]
        },
        {
          "name": "stdout",
          "output_type": "stream",
          "text": [
            "  Query execution time: 0.23 seconds\n",
            "  WARNING: Setting ef_search (5000) to 1000, highest supported by pgvector.\n"
          ]
        },
        {
          "name": "stderr",
          "output_type": "stream",
          "text": [
            " 12%|█▏        | 12/100 [00:04<00:28,  3.06it/s]"
          ]
        },
        {
          "name": "stdout",
          "output_type": "stream",
          "text": [
            "  Query execution time: 0.22 seconds\n",
            "  WARNING: Setting ef_search (5000) to 1000, highest supported by pgvector.\n"
          ]
        },
        {
          "name": "stderr",
          "output_type": "stream",
          "text": [
            " 13%|█▎        | 13/100 [00:04<00:30,  2.83it/s]"
          ]
        },
        {
          "name": "stdout",
          "output_type": "stream",
          "text": [
            "  Query execution time: 0.23 seconds\n",
            "  WARNING: Setting ef_search (5000) to 1000, highest supported by pgvector.\n"
          ]
        },
        {
          "name": "stderr",
          "output_type": "stream",
          "text": [
            " 14%|█▍        | 14/100 [00:05<00:29,  2.88it/s]"
          ]
        },
        {
          "name": "stdout",
          "output_type": "stream",
          "text": [
            "  Query execution time: 0.31 seconds\n",
            "  WARNING: Setting ef_search (5000) to 1000, highest supported by pgvector.\n"
          ]
        },
        {
          "name": "stderr",
          "output_type": "stream",
          "text": [
            " 15%|█▌        | 15/100 [00:05<00:27,  3.10it/s]"
          ]
        },
        {
          "name": "stdout",
          "output_type": "stream",
          "text": [
            "  Query execution time: 0.24 seconds\n",
            "  WARNING: Setting ef_search (5000) to 1000, highest supported by pgvector.\n"
          ]
        },
        {
          "name": "stderr",
          "output_type": "stream",
          "text": [
            " 16%|█▌        | 16/100 [00:05<00:32,  2.60it/s]"
          ]
        },
        {
          "name": "stdout",
          "output_type": "stream",
          "text": [
            "  Query execution time: 0.50 seconds\n",
            "  WARNING: Setting ef_search (5000) to 1000, highest supported by pgvector.\n"
          ]
        },
        {
          "name": "stderr",
          "output_type": "stream",
          "text": [
            " 17%|█▋        | 17/100 [00:06<00:29,  2.81it/s]"
          ]
        },
        {
          "name": "stdout",
          "output_type": "stream",
          "text": [
            "  Query execution time: 0.27 seconds\n",
            "  WARNING: Setting ef_search (5000) to 1000, highest supported by pgvector.\n"
          ]
        },
        {
          "name": "stderr",
          "output_type": "stream",
          "text": [
            " 18%|█▊        | 18/100 [00:06<00:30,  2.71it/s]"
          ]
        },
        {
          "name": "stdout",
          "output_type": "stream",
          "text": [
            "  Query execution time: 0.37 seconds\n",
            "  WARNING: Setting ef_search (5000) to 1000, highest supported by pgvector.\n"
          ]
        },
        {
          "name": "stderr",
          "output_type": "stream",
          "text": [
            " 19%|█▉        | 19/100 [00:06<00:27,  2.92it/s]"
          ]
        },
        {
          "name": "stdout",
          "output_type": "stream",
          "text": [
            "  Query execution time: 0.26 seconds\n",
            "  WARNING: Setting ef_search (5000) to 1000, highest supported by pgvector.\n"
          ]
        },
        {
          "name": "stderr",
          "output_type": "stream",
          "text": [
            " 20%|██        | 20/100 [00:07<00:28,  2.79it/s]"
          ]
        },
        {
          "name": "stdout",
          "output_type": "stream",
          "text": [
            "  Query execution time: 0.37 seconds\n",
            "  WARNING: Setting ef_search (5000) to 1000, highest supported by pgvector.\n"
          ]
        },
        {
          "name": "stderr",
          "output_type": "stream",
          "text": [
            " 21%|██        | 21/100 [00:07<00:31,  2.53it/s]"
          ]
        },
        {
          "name": "stdout",
          "output_type": "stream",
          "text": [
            "  Query execution time: 0.45 seconds\n",
            "  WARNING: Setting ef_search (5000) to 1000, highest supported by pgvector.\n"
          ]
        },
        {
          "name": "stderr",
          "output_type": "stream",
          "text": [
            " 22%|██▏       | 22/100 [00:07<00:28,  2.75it/s]"
          ]
        },
        {
          "name": "stdout",
          "output_type": "stream",
          "text": [
            "  Query execution time: 0.26 seconds\n",
            "  WARNING: Setting ef_search (5000) to 1000, highest supported by pgvector.\n"
          ]
        },
        {
          "name": "stderr",
          "output_type": "stream",
          "text": [
            " 23%|██▎       | 23/100 [00:08<00:29,  2.58it/s]"
          ]
        },
        {
          "name": "stdout",
          "output_type": "stream",
          "text": [
            "  Query execution time: 0.42 seconds\n",
            "  WARNING: Setting ef_search (5000) to 1000, highest supported by pgvector.\n"
          ]
        },
        {
          "name": "stderr",
          "output_type": "stream",
          "text": [
            " 24%|██▍       | 24/100 [00:08<00:27,  2.76it/s]"
          ]
        },
        {
          "name": "stdout",
          "output_type": "stream",
          "text": [
            "  Query execution time: 0.28 seconds\n",
            "  WARNING: Setting ef_search (5000) to 1000, highest supported by pgvector.\n"
          ]
        },
        {
          "name": "stderr",
          "output_type": "stream",
          "text": [
            " 25%|██▌       | 25/100 [00:09<00:27,  2.72it/s]"
          ]
        },
        {
          "name": "stdout",
          "output_type": "stream",
          "text": [
            "  Query execution time: 0.33 seconds\n",
            "  WARNING: Setting ef_search (5000) to 1000, highest supported by pgvector.\n"
          ]
        },
        {
          "name": "stderr",
          "output_type": "stream",
          "text": [
            " 26%|██▌       | 26/100 [00:09<00:26,  2.78it/s]"
          ]
        },
        {
          "name": "stdout",
          "output_type": "stream",
          "text": [
            "  Query execution time: 0.31 seconds\n",
            "  WARNING: Setting ef_search (5000) to 1000, highest supported by pgvector.\n"
          ]
        },
        {
          "name": "stderr",
          "output_type": "stream",
          "text": [
            " 27%|██▋       | 27/100 [00:09<00:25,  2.84it/s]"
          ]
        },
        {
          "name": "stdout",
          "output_type": "stream",
          "text": [
            "  Query execution time: 0.31 seconds\n",
            "  WARNING: Setting ef_search (5000) to 1000, highest supported by pgvector.\n"
          ]
        },
        {
          "name": "stderr",
          "output_type": "stream",
          "text": [
            " 28%|██▊       | 28/100 [00:10<00:26,  2.77it/s]"
          ]
        },
        {
          "name": "stdout",
          "output_type": "stream",
          "text": [
            "  Query execution time: 0.34 seconds\n",
            "  WARNING: Setting ef_search (5000) to 1000, highest supported by pgvector.\n"
          ]
        },
        {
          "name": "stderr",
          "output_type": "stream",
          "text": [
            " 29%|██▉       | 29/100 [00:10<00:28,  2.50it/s]"
          ]
        },
        {
          "name": "stdout",
          "output_type": "stream",
          "text": [
            "  Query execution time: 0.46 seconds\n",
            "  WARNING: Setting ef_search (5000) to 1000, highest supported by pgvector.\n"
          ]
        },
        {
          "name": "stderr",
          "output_type": "stream",
          "text": [
            " 30%|███       | 30/100 [00:10<00:26,  2.62it/s]"
          ]
        },
        {
          "name": "stdout",
          "output_type": "stream",
          "text": [
            "  Query execution time: 0.31 seconds\n",
            "  WARNING: Setting ef_search (5000) to 1000, highest supported by pgvector.\n"
          ]
        },
        {
          "name": "stderr",
          "output_type": "stream",
          "text": [
            " 31%|███       | 31/100 [00:11<00:25,  2.66it/s]"
          ]
        },
        {
          "name": "stdout",
          "output_type": "stream",
          "text": [
            "  Query execution time: 0.32 seconds\n",
            "  WARNING: Setting ef_search (5000) to 1000, highest supported by pgvector.\n"
          ]
        },
        {
          "name": "stderr",
          "output_type": "stream",
          "text": [
            " 32%|███▏      | 32/100 [00:11<00:25,  2.71it/s]"
          ]
        },
        {
          "name": "stdout",
          "output_type": "stream",
          "text": [
            "  Query execution time: 0.32 seconds\n",
            "  WARNING: Setting ef_search (5000) to 1000, highest supported by pgvector.\n"
          ]
        },
        {
          "name": "stderr",
          "output_type": "stream",
          "text": [
            " 33%|███▎      | 33/100 [00:12<00:28,  2.32it/s]"
          ]
        },
        {
          "name": "stdout",
          "output_type": "stream",
          "text": [
            "  Query execution time: 0.55 seconds\n",
            "  WARNING: Setting ef_search (5000) to 1000, highest supported by pgvector.\n"
          ]
        },
        {
          "name": "stderr",
          "output_type": "stream",
          "text": [
            " 34%|███▍      | 34/100 [00:12<00:31,  2.11it/s]"
          ]
        },
        {
          "name": "stdout",
          "output_type": "stream",
          "text": [
            "  Query execution time: 0.55 seconds\n",
            "  WARNING: Setting ef_search (5000) to 1000, highest supported by pgvector.\n"
          ]
        },
        {
          "name": "stderr",
          "output_type": "stream",
          "text": [
            " 35%|███▌      | 35/100 [00:13<00:27,  2.37it/s]"
          ]
        },
        {
          "name": "stdout",
          "output_type": "stream",
          "text": [
            "  Query execution time: 0.27 seconds\n",
            "  WARNING: Setting ef_search (5000) to 1000, highest supported by pgvector.\n"
          ]
        },
        {
          "name": "stderr",
          "output_type": "stream",
          "text": [
            " 36%|███▌      | 36/100 [00:13<00:28,  2.25it/s]"
          ]
        },
        {
          "name": "stdout",
          "output_type": "stream",
          "text": [
            "  Query execution time: 0.47 seconds\n",
            "  WARNING: Setting ef_search (5000) to 1000, highest supported by pgvector.\n"
          ]
        },
        {
          "name": "stderr",
          "output_type": "stream",
          "text": [
            " 37%|███▋      | 37/100 [00:14<00:27,  2.31it/s]"
          ]
        },
        {
          "name": "stdout",
          "output_type": "stream",
          "text": [
            "  Query execution time: 0.34 seconds\n",
            "  WARNING: Setting ef_search (5000) to 1000, highest supported by pgvector.\n"
          ]
        },
        {
          "name": "stderr",
          "output_type": "stream",
          "text": [
            " 38%|███▊      | 38/100 [00:14<00:26,  2.34it/s]"
          ]
        },
        {
          "name": "stdout",
          "output_type": "stream",
          "text": [
            "  Query execution time: 0.38 seconds\n",
            "  WARNING: Setting ef_search (5000) to 1000, highest supported by pgvector.\n"
          ]
        },
        {
          "name": "stderr",
          "output_type": "stream",
          "text": [
            " 39%|███▉      | 39/100 [00:14<00:25,  2.35it/s]"
          ]
        },
        {
          "name": "stdout",
          "output_type": "stream",
          "text": [
            "  Query execution time: 0.39 seconds\n",
            "  WARNING: Setting ef_search (5000) to 1000, highest supported by pgvector.\n"
          ]
        },
        {
          "name": "stderr",
          "output_type": "stream",
          "text": [
            " 40%|████      | 40/100 [00:15<00:28,  2.08it/s]"
          ]
        },
        {
          "name": "stdout",
          "output_type": "stream",
          "text": [
            "  Query execution time: 0.57 seconds\n",
            "  WARNING: Setting ef_search (5000) to 1000, highest supported by pgvector.\n"
          ]
        },
        {
          "name": "stderr",
          "output_type": "stream",
          "text": [
            " 41%|████      | 41/100 [00:16<00:30,  1.94it/s]"
          ]
        },
        {
          "name": "stdout",
          "output_type": "stream",
          "text": [
            "  Query execution time: 0.55 seconds\n",
            "  WARNING: Setting ef_search (5000) to 1000, highest supported by pgvector.\n"
          ]
        },
        {
          "name": "stderr",
          "output_type": "stream",
          "text": [
            " 42%|████▏     | 42/100 [00:16<00:35,  1.61it/s]"
          ]
        },
        {
          "name": "stdout",
          "output_type": "stream",
          "text": [
            "  Query execution time: 0.83 seconds\n",
            "  WARNING: Setting ef_search (5000) to 1000, highest supported by pgvector.\n"
          ]
        },
        {
          "name": "stderr",
          "output_type": "stream",
          "text": [
            " 43%|████▎     | 43/100 [00:17<00:31,  1.81it/s]"
          ]
        },
        {
          "name": "stdout",
          "output_type": "stream",
          "text": [
            "  Query execution time: 0.36 seconds\n",
            "  WARNING: Setting ef_search (5000) to 1000, highest supported by pgvector.\n"
          ]
        },
        {
          "name": "stderr",
          "output_type": "stream",
          "text": [
            " 44%|████▍     | 44/100 [00:17<00:26,  2.08it/s]"
          ]
        },
        {
          "name": "stdout",
          "output_type": "stream",
          "text": [
            "  Query execution time: 0.27 seconds\n",
            "  WARNING: Setting ef_search (5000) to 1000, highest supported by pgvector.\n"
          ]
        },
        {
          "name": "stderr",
          "output_type": "stream",
          "text": [
            " 45%|████▌     | 45/100 [00:18<00:28,  1.91it/s]"
          ]
        },
        {
          "name": "stdout",
          "output_type": "stream",
          "text": [
            "  Query execution time: 0.58 seconds\n",
            "  WARNING: Setting ef_search (5000) to 1000, highest supported by pgvector.\n"
          ]
        },
        {
          "name": "stderr",
          "output_type": "stream",
          "text": [
            " 46%|████▌     | 46/100 [00:18<00:27,  1.96it/s]"
          ]
        },
        {
          "name": "stdout",
          "output_type": "stream",
          "text": [
            "  Query execution time: 0.39 seconds\n",
            "  WARNING: Setting ef_search (5000) to 1000, highest supported by pgvector.\n"
          ]
        },
        {
          "name": "stderr",
          "output_type": "stream",
          "text": [
            " 47%|████▋     | 47/100 [00:19<00:24,  2.21it/s]"
          ]
        },
        {
          "name": "stdout",
          "output_type": "stream",
          "text": [
            "  Query execution time: 0.30 seconds\n",
            "  WARNING: Setting ef_search (5000) to 1000, highest supported by pgvector.\n"
          ]
        },
        {
          "name": "stderr",
          "output_type": "stream",
          "text": [
            " 48%|████▊     | 48/100 [00:19<00:22,  2.35it/s]"
          ]
        },
        {
          "name": "stdout",
          "output_type": "stream",
          "text": [
            "  Query execution time: 0.34 seconds\n",
            "  WARNING: Setting ef_search (5000) to 1000, highest supported by pgvector.\n",
            "  Query execution time: 0.18 seconds\n"
          ]
        },
        {
          "name": "stderr",
          "output_type": "stream",
          "text": [
            " 49%|████▉     | 49/100 [00:19<00:18,  2.79it/s]"
          ]
        },
        {
          "name": "stdout",
          "output_type": "stream",
          "text": [
            "  WARNING: Setting ef_search (5000) to 1000, highest supported by pgvector.\n"
          ]
        },
        {
          "name": "stderr",
          "output_type": "stream",
          "text": [
            " 50%|█████     | 50/100 [00:19<00:16,  2.96it/s]"
          ]
        },
        {
          "name": "stdout",
          "output_type": "stream",
          "text": [
            "  Query execution time: 0.25 seconds\n",
            "  WARNING: Setting ef_search (5000) to 1000, highest supported by pgvector.\n"
          ]
        },
        {
          "name": "stderr",
          "output_type": "stream",
          "text": [
            " 51%|█████     | 51/100 [00:20<00:15,  3.09it/s]"
          ]
        },
        {
          "name": "stdout",
          "output_type": "stream",
          "text": [
            "  Query execution time: 0.26 seconds\n",
            "  WARNING: Setting ef_search (5000) to 1000, highest supported by pgvector.\n"
          ]
        },
        {
          "name": "stderr",
          "output_type": "stream",
          "text": [
            " 52%|█████▏    | 52/100 [00:20<00:16,  2.92it/s]"
          ]
        },
        {
          "name": "stdout",
          "output_type": "stream",
          "text": [
            "  Query execution time: 0.35 seconds\n",
            "  WARNING: Setting ef_search (5000) to 1000, highest supported by pgvector.\n"
          ]
        },
        {
          "name": "stderr",
          "output_type": "stream",
          "text": [
            " 53%|█████▎    | 53/100 [00:21<00:16,  2.80it/s]"
          ]
        },
        {
          "name": "stdout",
          "output_type": "stream",
          "text": [
            "  Query execution time: 0.37 seconds\n",
            "  WARNING: Setting ef_search (5000) to 1000, highest supported by pgvector.\n"
          ]
        },
        {
          "name": "stderr",
          "output_type": "stream",
          "text": [
            " 55%|█████▌    | 55/100 [00:21<00:12,  3.65it/s]"
          ]
        },
        {
          "name": "stdout",
          "output_type": "stream",
          "text": [
            "  Query execution time: 0.23 seconds\n",
            "  WARNING: Setting ef_search (5000) to 1000, highest supported by pgvector.\n",
            "  Query execution time: 0.14 seconds\n",
            "  WARNING: Setting ef_search (5000) to 1000, highest supported by pgvector.\n"
          ]
        },
        {
          "name": "stderr",
          "output_type": "stream",
          "text": [
            " 57%|█████▋    | 57/100 [00:21<00:08,  4.82it/s]"
          ]
        },
        {
          "name": "stdout",
          "output_type": "stream",
          "text": [
            "  Query execution time: 0.13 seconds\n",
            "  WARNING: Setting ef_search (5000) to 1000, highest supported by pgvector.\n",
            "  Query execution time: 0.13 seconds\n",
            "  WARNING: Setting ef_search (5000) to 1000, highest supported by pgvector.\n"
          ]
        },
        {
          "name": "stderr",
          "output_type": "stream",
          "text": [
            " 59%|█████▉    | 59/100 [00:22<00:07,  5.35it/s]"
          ]
        },
        {
          "name": "stdout",
          "output_type": "stream",
          "text": [
            "  Query execution time: 0.21 seconds\n",
            "  WARNING: Setting ef_search (5000) to 1000, highest supported by pgvector.\n",
            "  Query execution time: 0.11 seconds\n",
            "  WARNING: Setting ef_search (5000) to 1000, highest supported by pgvector.\n"
          ]
        },
        {
          "name": "stderr",
          "output_type": "stream",
          "text": [
            " 61%|██████    | 61/100 [00:22<00:08,  4.86it/s]"
          ]
        },
        {
          "name": "stdout",
          "output_type": "stream",
          "text": [
            "  Query execution time: 0.14 seconds\n",
            "  WARNING: Setting ef_search (5000) to 1000, highest supported by pgvector.\n",
            "  Query execution time: 0.13 seconds\n",
            "  WARNING: Setting ef_search (5000) to 1000, highest supported by pgvector.\n"
          ]
        },
        {
          "name": "stderr",
          "output_type": "stream",
          "text": [
            " 63%|██████▎   | 63/100 [00:22<00:06,  5.99it/s]"
          ]
        },
        {
          "name": "stdout",
          "output_type": "stream",
          "text": [
            "  Query execution time: 0.12 seconds\n",
            "  WARNING: Setting ef_search (5000) to 1000, highest supported by pgvector.\n",
            "  Query execution time: 0.11 seconds\n",
            "  WARNING: Setting ef_search (5000) to 1000, highest supported by pgvector.\n"
          ]
        },
        {
          "name": "stderr",
          "output_type": "stream",
          "text": [
            " 65%|██████▌   | 65/100 [00:23<00:05,  6.62it/s]"
          ]
        },
        {
          "name": "stdout",
          "output_type": "stream",
          "text": [
            "  Query execution time: 0.11 seconds\n",
            "  WARNING: Setting ef_search (5000) to 1000, highest supported by pgvector.\n",
            "  Query execution time: 0.13 seconds\n",
            "  WARNING: Setting ef_search (5000) to 1000, highest supported by pgvector.\n"
          ]
        },
        {
          "name": "stderr",
          "output_type": "stream",
          "text": [
            " 67%|██████▋   | 67/100 [00:23<00:04,  6.99it/s]"
          ]
        },
        {
          "name": "stdout",
          "output_type": "stream",
          "text": [
            "  Query execution time: 0.12 seconds\n",
            "  WARNING: Setting ef_search (5000) to 1000, highest supported by pgvector.\n",
            "  Query execution time: 0.12 seconds\n",
            "  WARNING: Setting ef_search (5000) to 1000, highest supported by pgvector.\n"
          ]
        },
        {
          "name": "stderr",
          "output_type": "stream",
          "text": [
            " 69%|██████▉   | 69/100 [00:23<00:04,  7.13it/s]"
          ]
        },
        {
          "name": "stdout",
          "output_type": "stream",
          "text": [
            "  Query execution time: 0.11 seconds\n",
            "  WARNING: Setting ef_search (5000) to 1000, highest supported by pgvector.\n",
            "  Query execution time: 0.13 seconds\n",
            "  WARNING: Setting ef_search (5000) to 1000, highest supported by pgvector.\n"
          ]
        },
        {
          "name": "stderr",
          "output_type": "stream",
          "text": [
            " 71%|███████   | 71/100 [00:23<00:04,  7.12it/s]"
          ]
        },
        {
          "name": "stdout",
          "output_type": "stream",
          "text": [
            "  Query execution time: 0.13 seconds\n",
            "  WARNING: Setting ef_search (5000) to 1000, highest supported by pgvector.\n",
            "  Query execution time: 0.12 seconds\n",
            "  WARNING: Setting ef_search (5000) to 1000, highest supported by pgvector.\n"
          ]
        },
        {
          "name": "stderr",
          "output_type": "stream",
          "text": [
            " 73%|███████▎  | 73/100 [00:24<00:03,  7.43it/s]"
          ]
        },
        {
          "name": "stdout",
          "output_type": "stream",
          "text": [
            "  Query execution time: 0.12 seconds\n",
            "  WARNING: Setting ef_search (5000) to 1000, highest supported by pgvector.\n",
            "  Query execution time: 0.12 seconds\n",
            "  WARNING: Setting ef_search (5000) to 1000, highest supported by pgvector.\n"
          ]
        },
        {
          "name": "stderr",
          "output_type": "stream",
          "text": [
            " 75%|███████▌  | 75/100 [00:24<00:03,  7.41it/s]"
          ]
        },
        {
          "name": "stdout",
          "output_type": "stream",
          "text": [
            "  Query execution time: 0.11 seconds\n",
            "  WARNING: Setting ef_search (5000) to 1000, highest supported by pgvector.\n",
            "  Query execution time: 0.14 seconds\n",
            "  WARNING: Setting ef_search (5000) to 1000, highest supported by pgvector.\n"
          ]
        },
        {
          "name": "stderr",
          "output_type": "stream",
          "text": [
            " 77%|███████▋  | 77/100 [00:24<00:03,  7.41it/s]"
          ]
        },
        {
          "name": "stdout",
          "output_type": "stream",
          "text": [
            "  Query execution time: 0.12 seconds\n",
            "  WARNING: Setting ef_search (5000) to 1000, highest supported by pgvector.\n",
            "  Query execution time: 0.12 seconds\n",
            "  WARNING: Setting ef_search (5000) to 1000, highest supported by pgvector.\n"
          ]
        },
        {
          "name": "stderr",
          "output_type": "stream",
          "text": [
            " 79%|███████▉  | 79/100 [00:24<00:02,  7.67it/s]"
          ]
        },
        {
          "name": "stdout",
          "output_type": "stream",
          "text": [
            "  Query execution time: 0.12 seconds\n",
            "  WARNING: Setting ef_search (5000) to 1000, highest supported by pgvector.\n",
            "  Query execution time: 0.11 seconds\n",
            "  WARNING: Setting ef_search (5000) to 1000, highest supported by pgvector.\n"
          ]
        },
        {
          "name": "stderr",
          "output_type": "stream",
          "text": [
            " 81%|████████  | 81/100 [00:25<00:02,  7.46it/s]"
          ]
        },
        {
          "name": "stdout",
          "output_type": "stream",
          "text": [
            "  Query execution time: 0.14 seconds\n",
            "  WARNING: Setting ef_search (5000) to 1000, highest supported by pgvector.\n",
            "  Query execution time: 0.12 seconds\n",
            "  WARNING: Setting ef_search (5000) to 1000, highest supported by pgvector.\n"
          ]
        },
        {
          "name": "stderr",
          "output_type": "stream",
          "text": [
            " 83%|████████▎ | 83/100 [00:25<00:02,  7.53it/s]"
          ]
        },
        {
          "name": "stdout",
          "output_type": "stream",
          "text": [
            "  Query execution time: 0.14 seconds\n",
            "  WARNING: Setting ef_search (5000) to 1000, highest supported by pgvector.\n",
            "  Query execution time: 0.10 seconds\n",
            "  WARNING: Setting ef_search (5000) to 1000, highest supported by pgvector.\n"
          ]
        },
        {
          "name": "stderr",
          "output_type": "stream",
          "text": [
            " 85%|████████▌ | 85/100 [00:25<00:01,  7.50it/s]"
          ]
        },
        {
          "name": "stdout",
          "output_type": "stream",
          "text": [
            "  Query execution time: 0.11 seconds\n",
            "  WARNING: Setting ef_search (5000) to 1000, highest supported by pgvector.\n",
            "  Query execution time: 0.13 seconds\n",
            "  WARNING: Setting ef_search (5000) to 1000, highest supported by pgvector.\n"
          ]
        },
        {
          "name": "stderr",
          "output_type": "stream",
          "text": [
            " 87%|████████▋ | 87/100 [00:25<00:01,  8.17it/s]"
          ]
        },
        {
          "name": "stdout",
          "output_type": "stream",
          "text": [
            "  Query execution time: 0.10 seconds\n",
            "  WARNING: Setting ef_search (5000) to 1000, highest supported by pgvector.\n",
            "  Query execution time: 0.10 seconds\n",
            "  WARNING: Setting ef_search (5000) to 1000, highest supported by pgvector.\n"
          ]
        },
        {
          "name": "stderr",
          "output_type": "stream",
          "text": [
            " 89%|████████▉ | 89/100 [00:26<00:01,  7.07it/s]"
          ]
        },
        {
          "name": "stdout",
          "output_type": "stream",
          "text": [
            "  Query execution time: 0.10 seconds\n",
            "  WARNING: Setting ef_search (5000) to 1000, highest supported by pgvector.\n",
            "  Query execution time: 0.18 seconds\n",
            "  WARNING: Setting ef_search (5000) to 1000, highest supported by pgvector.\n"
          ]
        },
        {
          "name": "stderr",
          "output_type": "stream",
          "text": [
            " 91%|█████████ | 91/100 [00:26<00:01,  7.03it/s]"
          ]
        },
        {
          "name": "stdout",
          "output_type": "stream",
          "text": [
            "  Query execution time: 0.12 seconds\n",
            "  WARNING: Setting ef_search (5000) to 1000, highest supported by pgvector.\n",
            "  Query execution time: 0.14 seconds\n",
            "  WARNING: Setting ef_search (5000) to 1000, highest supported by pgvector.\n"
          ]
        },
        {
          "name": "stderr",
          "output_type": "stream",
          "text": [
            " 93%|█████████▎| 93/100 [00:26<00:01,  6.76it/s]"
          ]
        },
        {
          "name": "stdout",
          "output_type": "stream",
          "text": [
            "  Query execution time: 0.18 seconds\n",
            "  WARNING: Setting ef_search (5000) to 1000, highest supported by pgvector.\n",
            "  Query execution time: 0.11 seconds\n",
            "  WARNING: Setting ef_search (5000) to 1000, highest supported by pgvector.\n"
          ]
        },
        {
          "name": "stderr",
          "output_type": "stream",
          "text": [
            " 94%|█████████▍| 94/100 [00:27<00:00,  7.00it/s]"
          ]
        },
        {
          "name": "stdout",
          "output_type": "stream",
          "text": [
            "  Query execution time: 0.12 seconds\n",
            "  WARNING: Setting ef_search (5000) to 1000, highest supported by pgvector.\n",
            "  Query execution time: 0.20 seconds\n"
          ]
        },
        {
          "name": "stderr",
          "output_type": "stream",
          "text": [
            " 96%|█████████▌| 96/100 [00:27<00:00,  6.67it/s]"
          ]
        },
        {
          "name": "stdout",
          "output_type": "stream",
          "text": [
            "  WARNING: Setting ef_search (5000) to 1000, highest supported by pgvector.\n",
            "  Query execution time: 0.11 seconds\n",
            "  WARNING: Setting ef_search (5000) to 1000, highest supported by pgvector.\n"
          ]
        },
        {
          "name": "stderr",
          "output_type": "stream",
          "text": [
            " 98%|█████████▊| 98/100 [00:27<00:00,  7.39it/s]"
          ]
        },
        {
          "name": "stdout",
          "output_type": "stream",
          "text": [
            "  Query execution time: 0.10 seconds\n",
            "  WARNING: Setting ef_search (5000) to 1000, highest supported by pgvector.\n",
            "  Query execution time: 0.11 seconds\n",
            "  WARNING: Setting ef_search (5000) to 1000, highest supported by pgvector.\n"
          ]
        },
        {
          "name": "stderr",
          "output_type": "stream",
          "text": [
            "100%|██████████| 100/100 [00:27<00:00,  3.59it/s]"
          ]
        },
        {
          "name": "stdout",
          "output_type": "stream",
          "text": [
            "  Query execution time: 0.12 seconds\n",
            "  WARNING: Setting ef_search (5000) to 1000, highest supported by pgvector.\n",
            "  Query execution time: 0.10 seconds\n",
            "Embedding model: BAAI/bge-small-en, Enricher: add_title\n"
          ]
        },
        {
          "name": "stderr",
          "output_type": "stream",
          "text": [
            "\n",
            "  0%|          | 0/100 [00:00<?, ?it/s]"
          ]
        },
        {
          "name": "stdout",
          "output_type": "stream",
          "text": [
            "  WARNING: Setting ef_search (5000) to 1000, highest supported by pgvector.\n"
          ]
        },
        {
          "name": "stderr",
          "output_type": "stream",
          "text": [
            "  2%|▏         | 2/100 [00:00<00:19,  5.13it/s]"
          ]
        },
        {
          "name": "stdout",
          "output_type": "stream",
          "text": [
            "  Query execution time: 0.27 seconds\n",
            "  WARNING: Setting ef_search (5000) to 1000, highest supported by pgvector.\n",
            "  Query execution time: 0.12 seconds\n",
            "  WARNING: Setting ef_search (5000) to 1000, highest supported by pgvector.\n"
          ]
        },
        {
          "name": "stderr",
          "output_type": "stream",
          "text": [
            "  4%|▍         | 4/100 [00:00<00:14,  6.44it/s]"
          ]
        },
        {
          "name": "stdout",
          "output_type": "stream",
          "text": [
            "  Query execution time: 0.12 seconds\n",
            "  WARNING: Setting ef_search (5000) to 1000, highest supported by pgvector.\n",
            "  Query execution time: 0.12 seconds\n",
            "  WARNING: Setting ef_search (5000) to 1000, highest supported by pgvector.\n"
          ]
        },
        {
          "name": "stderr",
          "output_type": "stream",
          "text": [
            "  6%|▌         | 6/100 [00:00<00:14,  6.57it/s]"
          ]
        },
        {
          "name": "stdout",
          "output_type": "stream",
          "text": [
            "  Query execution time: 0.17 seconds\n",
            "  WARNING: Setting ef_search (5000) to 1000, highest supported by pgvector.\n",
            "  Query execution time: 0.12 seconds\n",
            "  WARNING: Setting ef_search (5000) to 1000, highest supported by pgvector.\n"
          ]
        },
        {
          "name": "stderr",
          "output_type": "stream",
          "text": [
            "  8%|▊         | 8/100 [00:01<00:13,  6.85it/s]"
          ]
        },
        {
          "name": "stdout",
          "output_type": "stream",
          "text": [
            "  Query execution time: 0.13 seconds\n",
            "  WARNING: Setting ef_search (5000) to 1000, highest supported by pgvector.\n",
            "  Query execution time: 0.13 seconds\n",
            "  WARNING: Setting ef_search (5000) to 1000, highest supported by pgvector.\n"
          ]
        },
        {
          "name": "stderr",
          "output_type": "stream",
          "text": [
            " 10%|█         | 10/100 [00:01<00:12,  7.29it/s]"
          ]
        },
        {
          "name": "stdout",
          "output_type": "stream",
          "text": [
            "  Query execution time: 0.12 seconds\n",
            "  WARNING: Setting ef_search (5000) to 1000, highest supported by pgvector.\n",
            "  Query execution time: 0.11 seconds\n",
            "  WARNING: Setting ef_search (5000) to 1000, highest supported by pgvector.\n"
          ]
        },
        {
          "name": "stderr",
          "output_type": "stream",
          "text": [
            " 12%|█▏        | 12/100 [00:01<00:11,  7.49it/s]"
          ]
        },
        {
          "name": "stdout",
          "output_type": "stream",
          "text": [
            "  Query execution time: 0.12 seconds\n",
            "  WARNING: Setting ef_search (5000) to 1000, highest supported by pgvector.\n",
            "  Query execution time: 0.12 seconds\n",
            "  WARNING: Setting ef_search (5000) to 1000, highest supported by pgvector.\n"
          ]
        },
        {
          "name": "stderr",
          "output_type": "stream",
          "text": [
            " 14%|█▍        | 14/100 [00:02<00:11,  7.20it/s]"
          ]
        },
        {
          "name": "stdout",
          "output_type": "stream",
          "text": [
            "  Query execution time: 0.13 seconds\n",
            "  WARNING: Setting ef_search (5000) to 1000, highest supported by pgvector.\n",
            "  Query execution time: 0.13 seconds\n",
            "  WARNING: Setting ef_search (5000) to 1000, highest supported by pgvector.\n"
          ]
        },
        {
          "name": "stderr",
          "output_type": "stream",
          "text": [
            " 16%|█▌        | 16/100 [00:02<00:11,  7.52it/s]"
          ]
        },
        {
          "name": "stdout",
          "output_type": "stream",
          "text": [
            "  Query execution time: 0.13 seconds\n",
            "  WARNING: Setting ef_search (5000) to 1000, highest supported by pgvector.\n",
            "  Query execution time: 0.10 seconds\n",
            "  WARNING: Setting ef_search (5000) to 1000, highest supported by pgvector.\n"
          ]
        },
        {
          "name": "stderr",
          "output_type": "stream",
          "text": [
            " 18%|█▊        | 18/100 [00:02<00:11,  7.26it/s]"
          ]
        },
        {
          "name": "stdout",
          "output_type": "stream",
          "text": [
            "  Query execution time: 0.14 seconds\n",
            "  WARNING: Setting ef_search (5000) to 1000, highest supported by pgvector.\n",
            "  Query execution time: 0.12 seconds\n",
            "  WARNING: Setting ef_search (5000) to 1000, highest supported by pgvector.\n"
          ]
        },
        {
          "name": "stderr",
          "output_type": "stream",
          "text": [
            " 20%|██        | 20/100 [00:02<00:11,  7.15it/s]"
          ]
        },
        {
          "name": "stdout",
          "output_type": "stream",
          "text": [
            "  Query execution time: 0.13 seconds\n",
            "  WARNING: Setting ef_search (5000) to 1000, highest supported by pgvector.\n",
            "  Query execution time: 0.13 seconds\n",
            "  WARNING: Setting ef_search (5000) to 1000, highest supported by pgvector.\n"
          ]
        },
        {
          "name": "stderr",
          "output_type": "stream",
          "text": [
            " 22%|██▏       | 22/100 [00:03<00:13,  5.93it/s]"
          ]
        },
        {
          "name": "stdout",
          "output_type": "stream",
          "text": [
            "  Query execution time: 0.21 seconds\n",
            "  WARNING: Setting ef_search (5000) to 1000, highest supported by pgvector.\n",
            "  Query execution time: 0.16 seconds\n",
            "  WARNING: Setting ef_search (5000) to 1000, highest supported by pgvector.\n"
          ]
        },
        {
          "name": "stderr",
          "output_type": "stream",
          "text": [
            " 24%|██▍       | 24/100 [00:03<00:11,  6.39it/s]"
          ]
        },
        {
          "name": "stdout",
          "output_type": "stream",
          "text": [
            "  Query execution time: 0.13 seconds\n",
            "  WARNING: Setting ef_search (5000) to 1000, highest supported by pgvector.\n",
            "  Query execution time: 0.14 seconds\n",
            "  WARNING: Setting ef_search (5000) to 1000, highest supported by pgvector.\n"
          ]
        },
        {
          "name": "stderr",
          "output_type": "stream",
          "text": [
            " 26%|██▌       | 26/100 [00:03<00:10,  7.02it/s]"
          ]
        },
        {
          "name": "stdout",
          "output_type": "stream",
          "text": [
            "  Query execution time: 0.12 seconds\n",
            "  WARNING: Setting ef_search (5000) to 1000, highest supported by pgvector.\n",
            "  Query execution time: 0.11 seconds\n",
            "  WARNING: Setting ef_search (5000) to 1000, highest supported by pgvector.\n"
          ]
        },
        {
          "name": "stderr",
          "output_type": "stream",
          "text": [
            " 27%|██▋       | 27/100 [00:04<00:14,  5.09it/s]"
          ]
        },
        {
          "name": "stdout",
          "output_type": "stream",
          "text": [
            "  Query execution time: 0.31 seconds\n",
            "  WARNING: Setting ef_search (5000) to 1000, highest supported by pgvector.\n",
            "  Query execution time: 0.19 seconds\n"
          ]
        },
        {
          "name": "stderr",
          "output_type": "stream",
          "text": [
            " 29%|██▉       | 29/100 [00:04<00:13,  5.40it/s]"
          ]
        },
        {
          "name": "stdout",
          "output_type": "stream",
          "text": [
            "  WARNING: Setting ef_search (5000) to 1000, highest supported by pgvector.\n",
            "  Query execution time: 0.14 seconds\n",
            "  WARNING: Setting ef_search (5000) to 1000, highest supported by pgvector.\n"
          ]
        },
        {
          "name": "stderr",
          "output_type": "stream",
          "text": [
            " 31%|███       | 31/100 [00:04<00:10,  6.29it/s]"
          ]
        },
        {
          "name": "stdout",
          "output_type": "stream",
          "text": [
            "  Query execution time: 0.12 seconds\n",
            "  WARNING: Setting ef_search (5000) to 1000, highest supported by pgvector.\n",
            "  Query execution time: 0.12 seconds\n",
            "  WARNING: Setting ef_search (5000) to 1000, highest supported by pgvector.\n"
          ]
        },
        {
          "name": "stderr",
          "output_type": "stream",
          "text": [
            " 33%|███▎      | 33/100 [00:05<00:09,  6.70it/s]"
          ]
        },
        {
          "name": "stdout",
          "output_type": "stream",
          "text": [
            "  Query execution time: 0.14 seconds\n",
            "  WARNING: Setting ef_search (5000) to 1000, highest supported by pgvector.\n",
            "  Query execution time: 0.12 seconds\n",
            "  WARNING: Setting ef_search (5000) to 1000, highest supported by pgvector.\n"
          ]
        },
        {
          "name": "stderr",
          "output_type": "stream",
          "text": [
            " 35%|███▌      | 35/100 [00:05<00:09,  7.11it/s]"
          ]
        },
        {
          "name": "stdout",
          "output_type": "stream",
          "text": [
            "  Query execution time: 0.12 seconds\n",
            "  WARNING: Setting ef_search (5000) to 1000, highest supported by pgvector.\n",
            "  Query execution time: 0.12 seconds\n",
            "  WARNING: Setting ef_search (5000) to 1000, highest supported by pgvector.\n"
          ]
        },
        {
          "name": "stderr",
          "output_type": "stream",
          "text": [
            " 37%|███▋      | 37/100 [00:05<00:08,  7.20it/s]"
          ]
        },
        {
          "name": "stdout",
          "output_type": "stream",
          "text": [
            "  Query execution time: 0.12 seconds\n",
            "  WARNING: Setting ef_search (5000) to 1000, highest supported by pgvector.\n",
            "  Query execution time: 0.13 seconds\n",
            "  WARNING: Setting ef_search (5000) to 1000, highest supported by pgvector.\n"
          ]
        },
        {
          "name": "stderr",
          "output_type": "stream",
          "text": [
            " 39%|███▉      | 39/100 [00:05<00:08,  7.14it/s]"
          ]
        },
        {
          "name": "stdout",
          "output_type": "stream",
          "text": [
            "  Query execution time: 0.14 seconds\n",
            "  WARNING: Setting ef_search (5000) to 1000, highest supported by pgvector.\n",
            "  Query execution time: 0.12 seconds\n",
            "  WARNING: Setting ef_search (5000) to 1000, highest supported by pgvector.\n"
          ]
        },
        {
          "name": "stderr",
          "output_type": "stream",
          "text": [
            " 41%|████      | 41/100 [00:06<00:08,  7.30it/s]"
          ]
        },
        {
          "name": "stdout",
          "output_type": "stream",
          "text": [
            "  Query execution time: 0.12 seconds\n",
            "  WARNING: Setting ef_search (5000) to 1000, highest supported by pgvector.\n",
            "  Query execution time: 0.12 seconds\n",
            "  WARNING: Setting ef_search (5000) to 1000, highest supported by pgvector.\n"
          ]
        },
        {
          "name": "stderr",
          "output_type": "stream",
          "text": [
            " 43%|████▎     | 43/100 [00:06<00:07,  7.13it/s]"
          ]
        },
        {
          "name": "stdout",
          "output_type": "stream",
          "text": [
            "  Query execution time: 0.13 seconds\n",
            "  WARNING: Setting ef_search (5000) to 1000, highest supported by pgvector.\n",
            "  Query execution time: 0.13 seconds\n",
            "  WARNING: Setting ef_search (5000) to 1000, highest supported by pgvector.\n"
          ]
        },
        {
          "name": "stderr",
          "output_type": "stream",
          "text": [
            " 45%|████▌     | 45/100 [00:06<00:09,  5.65it/s]"
          ]
        },
        {
          "name": "stdout",
          "output_type": "stream",
          "text": [
            "  Query execution time: 0.13 seconds\n",
            "  WARNING: Setting ef_search (5000) to 1000, highest supported by pgvector.\n",
            "  Query execution time: 0.15 seconds\n",
            "  WARNING: Setting ef_search (5000) to 1000, highest supported by pgvector.\n"
          ]
        },
        {
          "name": "stderr",
          "output_type": "stream",
          "text": [
            " 47%|████▋     | 47/100 [00:07<00:08,  6.10it/s]"
          ]
        },
        {
          "name": "stdout",
          "output_type": "stream",
          "text": [
            "  Query execution time: 0.15 seconds\n",
            "  WARNING: Setting ef_search (5000) to 1000, highest supported by pgvector.\n",
            "  Query execution time: 0.13 seconds\n",
            "  WARNING: Setting ef_search (5000) to 1000, highest supported by pgvector.\n"
          ]
        },
        {
          "name": "stderr",
          "output_type": "stream",
          "text": [
            " 49%|████▉     | 49/100 [00:07<00:07,  6.75it/s]"
          ]
        },
        {
          "name": "stdout",
          "output_type": "stream",
          "text": [
            "  Query execution time: 0.12 seconds\n",
            "  WARNING: Setting ef_search (5000) to 1000, highest supported by pgvector.\n",
            "  Query execution time: 0.12 seconds\n",
            "  WARNING: Setting ef_search (5000) to 1000, highest supported by pgvector.\n"
          ]
        },
        {
          "name": "stderr",
          "output_type": "stream",
          "text": [
            " 51%|█████     | 51/100 [00:07<00:06,  7.07it/s]"
          ]
        },
        {
          "name": "stdout",
          "output_type": "stream",
          "text": [
            "  Query execution time: 0.12 seconds\n",
            "  WARNING: Setting ef_search (5000) to 1000, highest supported by pgvector.\n",
            "  Query execution time: 0.13 seconds\n",
            "  WARNING: Setting ef_search (5000) to 1000, highest supported by pgvector.\n"
          ]
        },
        {
          "name": "stderr",
          "output_type": "stream",
          "text": [
            " 53%|█████▎    | 53/100 [00:08<00:06,  7.41it/s]"
          ]
        },
        {
          "name": "stdout",
          "output_type": "stream",
          "text": [
            "  Query execution time: 0.11 seconds\n",
            "  WARNING: Setting ef_search (5000) to 1000, highest supported by pgvector.\n",
            "  Query execution time: 0.12 seconds\n",
            "  WARNING: Setting ef_search (5000) to 1000, highest supported by pgvector.\n"
          ]
        },
        {
          "name": "stderr",
          "output_type": "stream",
          "text": [
            " 55%|█████▌    | 55/100 [00:08<00:06,  6.77it/s]"
          ]
        },
        {
          "name": "stdout",
          "output_type": "stream",
          "text": [
            "  Query execution time: 0.19 seconds\n",
            "  WARNING: Setting ef_search (5000) to 1000, highest supported by pgvector.\n",
            "  Query execution time: 0.12 seconds\n",
            "  WARNING: Setting ef_search (5000) to 1000, highest supported by pgvector.\n"
          ]
        },
        {
          "name": "stderr",
          "output_type": "stream",
          "text": [
            " 57%|█████▋    | 57/100 [00:08<00:06,  7.07it/s]"
          ]
        },
        {
          "name": "stdout",
          "output_type": "stream",
          "text": [
            "  Query execution time: 0.12 seconds\n",
            "  WARNING: Setting ef_search (5000) to 1000, highest supported by pgvector.\n",
            "  Query execution time: 0.12 seconds\n",
            "  WARNING: Setting ef_search (5000) to 1000, highest supported by pgvector.\n"
          ]
        },
        {
          "name": "stderr",
          "output_type": "stream",
          "text": [
            " 59%|█████▉    | 59/100 [00:08<00:05,  7.22it/s]"
          ]
        },
        {
          "name": "stdout",
          "output_type": "stream",
          "text": [
            "  Query execution time: 0.13 seconds\n",
            "  WARNING: Setting ef_search (5000) to 1000, highest supported by pgvector.\n",
            "  Query execution time: 0.12 seconds\n",
            "  WARNING: Setting ef_search (5000) to 1000, highest supported by pgvector.\n"
          ]
        },
        {
          "name": "stderr",
          "output_type": "stream",
          "text": [
            " 61%|██████    | 61/100 [00:09<00:05,  7.17it/s]"
          ]
        },
        {
          "name": "stdout",
          "output_type": "stream",
          "text": [
            "  Query execution time: 0.12 seconds\n",
            "  WARNING: Setting ef_search (5000) to 1000, highest supported by pgvector.\n",
            "  Query execution time: 0.13 seconds\n",
            "  WARNING: Setting ef_search (5000) to 1000, highest supported by pgvector.\n"
          ]
        },
        {
          "name": "stderr",
          "output_type": "stream",
          "text": [
            " 63%|██████▎   | 63/100 [00:09<00:05,  7.33it/s]"
          ]
        },
        {
          "name": "stdout",
          "output_type": "stream",
          "text": [
            "  Query execution time: 0.12 seconds\n",
            "  WARNING: Setting ef_search (5000) to 1000, highest supported by pgvector.\n",
            "  Query execution time: 0.12 seconds\n",
            "  WARNING: Setting ef_search (5000) to 1000, highest supported by pgvector.\n"
          ]
        },
        {
          "name": "stderr",
          "output_type": "stream",
          "text": [
            " 65%|██████▌   | 65/100 [00:09<00:04,  7.53it/s]"
          ]
        },
        {
          "name": "stdout",
          "output_type": "stream",
          "text": [
            "  Query execution time: 0.11 seconds\n",
            "  WARNING: Setting ef_search (5000) to 1000, highest supported by pgvector.\n",
            "  Query execution time: 0.12 seconds\n",
            "  WARNING: Setting ef_search (5000) to 1000, highest supported by pgvector.\n"
          ]
        },
        {
          "name": "stderr",
          "output_type": "stream",
          "text": [
            " 67%|██████▋   | 67/100 [00:09<00:04,  7.49it/s]"
          ]
        },
        {
          "name": "stdout",
          "output_type": "stream",
          "text": [
            "  Query execution time: 0.13 seconds\n",
            "  WARNING: Setting ef_search (5000) to 1000, highest supported by pgvector.\n",
            "  Query execution time: 0.12 seconds\n",
            "  WARNING: Setting ef_search (5000) to 1000, highest supported by pgvector.\n"
          ]
        },
        {
          "name": "stderr",
          "output_type": "stream",
          "text": [
            " 69%|██████▉   | 69/100 [00:10<00:04,  7.62it/s]"
          ]
        },
        {
          "name": "stdout",
          "output_type": "stream",
          "text": [
            "  Query execution time: 0.12 seconds\n",
            "  WARNING: Setting ef_search (5000) to 1000, highest supported by pgvector.\n",
            "  Query execution time: 0.11 seconds\n",
            "  WARNING: Setting ef_search (5000) to 1000, highest supported by pgvector.\n"
          ]
        },
        {
          "name": "stderr",
          "output_type": "stream",
          "text": [
            " 71%|███████   | 71/100 [00:10<00:03,  7.48it/s]"
          ]
        },
        {
          "name": "stdout",
          "output_type": "stream",
          "text": [
            "  Query execution time: 0.13 seconds\n",
            "  WARNING: Setting ef_search (5000) to 1000, highest supported by pgvector.\n",
            "  Query execution time: 0.12 seconds\n",
            "  WARNING: Setting ef_search (5000) to 1000, highest supported by pgvector.\n"
          ]
        },
        {
          "name": "stderr",
          "output_type": "stream",
          "text": [
            " 73%|███████▎  | 73/100 [00:10<00:03,  7.83it/s]"
          ]
        },
        {
          "name": "stdout",
          "output_type": "stream",
          "text": [
            "  Query execution time: 0.11 seconds\n",
            "  WARNING: Setting ef_search (5000) to 1000, highest supported by pgvector.\n",
            "  Query execution time: 0.11 seconds\n",
            "  WARNING: Setting ef_search (5000) to 1000, highest supported by pgvector.\n"
          ]
        },
        {
          "name": "stderr",
          "output_type": "stream",
          "text": [
            " 75%|███████▌  | 75/100 [00:11<00:03,  7.30it/s]"
          ]
        },
        {
          "name": "stdout",
          "output_type": "stream",
          "text": [
            "  Query execution time: 0.13 seconds\n",
            "  WARNING: Setting ef_search (5000) to 1000, highest supported by pgvector.\n",
            "  Query execution time: 0.13 seconds\n",
            "  WARNING: Setting ef_search (5000) to 1000, highest supported by pgvector.\n"
          ]
        },
        {
          "name": "stderr",
          "output_type": "stream",
          "text": [
            " 77%|███████▋  | 77/100 [00:11<00:03,  7.43it/s]"
          ]
        },
        {
          "name": "stdout",
          "output_type": "stream",
          "text": [
            "  Query execution time: 0.12 seconds\n",
            "  WARNING: Setting ef_search (5000) to 1000, highest supported by pgvector.\n",
            "  Query execution time: 0.12 seconds\n",
            "  WARNING: Setting ef_search (5000) to 1000, highest supported by pgvector.\n"
          ]
        },
        {
          "name": "stderr",
          "output_type": "stream",
          "text": [
            " 78%|███████▊  | 78/100 [00:11<00:02,  7.65it/s]"
          ]
        },
        {
          "name": "stdout",
          "output_type": "stream",
          "text": [
            "  Query execution time: 0.11 seconds\n",
            "  WARNING: Setting ef_search (5000) to 1000, highest supported by pgvector.\n"
          ]
        },
        {
          "name": "stderr",
          "output_type": "stream",
          "text": [
            " 80%|████████  | 80/100 [00:11<00:03,  6.50it/s]"
          ]
        },
        {
          "name": "stdout",
          "output_type": "stream",
          "text": [
            "  Query execution time: 0.23 seconds\n",
            "  WARNING: Setting ef_search (5000) to 1000, highest supported by pgvector.\n",
            "  Query execution time: 0.11 seconds\n",
            "  WARNING: Setting ef_search (5000) to 1000, highest supported by pgvector.\n"
          ]
        },
        {
          "name": "stderr",
          "output_type": "stream",
          "text": [
            " 82%|████████▏ | 82/100 [00:12<00:02,  6.96it/s]"
          ]
        },
        {
          "name": "stdout",
          "output_type": "stream",
          "text": [
            "  Query execution time: 0.12 seconds\n",
            "  WARNING: Setting ef_search (5000) to 1000, highest supported by pgvector.\n",
            "  Query execution time: 0.12 seconds\n",
            "  WARNING: Setting ef_search (5000) to 1000, highest supported by pgvector.\n"
          ]
        },
        {
          "name": "stderr",
          "output_type": "stream",
          "text": [
            " 84%|████████▍ | 84/100 [00:12<00:02,  7.07it/s]"
          ]
        },
        {
          "name": "stdout",
          "output_type": "stream",
          "text": [
            "  Query execution time: 0.11 seconds\n",
            "  WARNING: Setting ef_search (5000) to 1000, highest supported by pgvector.\n",
            "  Query execution time: 0.14 seconds\n",
            "  WARNING: Setting ef_search (5000) to 1000, highest supported by pgvector.\n"
          ]
        },
        {
          "name": "stderr",
          "output_type": "stream",
          "text": [
            " 85%|████████▌ | 85/100 [00:12<00:02,  7.12it/s]"
          ]
        },
        {
          "name": "stdout",
          "output_type": "stream",
          "text": [
            "  Query execution time: 0.12 seconds\n",
            "  WARNING: Setting ef_search (5000) to 1000, highest supported by pgvector.\n"
          ]
        },
        {
          "name": "stderr",
          "output_type": "stream",
          "text": [
            " 87%|████████▋ | 87/100 [00:12<00:02,  6.24it/s]"
          ]
        },
        {
          "name": "stdout",
          "output_type": "stream",
          "text": [
            "  Query execution time: 0.21 seconds\n",
            "  WARNING: Setting ef_search (5000) to 1000, highest supported by pgvector.\n",
            "  Query execution time: 0.13 seconds\n",
            "  WARNING: Setting ef_search (5000) to 1000, highest supported by pgvector.\n"
          ]
        },
        {
          "name": "stderr",
          "output_type": "stream",
          "text": [
            " 89%|████████▉ | 89/100 [00:13<00:01,  6.71it/s]"
          ]
        },
        {
          "name": "stdout",
          "output_type": "stream",
          "text": [
            "  Query execution time: 0.12 seconds\n",
            "  WARNING: Setting ef_search (5000) to 1000, highest supported by pgvector.\n",
            "  Query execution time: 0.13 seconds\n",
            "  WARNING: Setting ef_search (5000) to 1000, highest supported by pgvector.\n"
          ]
        },
        {
          "name": "stderr",
          "output_type": "stream",
          "text": [
            " 90%|█████████ | 90/100 [00:13<00:01,  6.93it/s]"
          ]
        },
        {
          "name": "stdout",
          "output_type": "stream",
          "text": [
            "  Query execution time: 0.12 seconds\n",
            "  WARNING: Setting ef_search (5000) to 1000, highest supported by pgvector.\n",
            "  Query execution time: 0.11 seconds\n"
          ]
        },
        {
          "name": "stderr",
          "output_type": "stream",
          "text": [
            " 92%|█████████▏| 92/100 [00:13<00:01,  6.09it/s]"
          ]
        },
        {
          "name": "stdout",
          "output_type": "stream",
          "text": [
            "  WARNING: Setting ef_search (5000) to 1000, highest supported by pgvector.\n",
            "  Query execution time: 0.12 seconds\n",
            "  WARNING: Setting ef_search (5000) to 1000, highest supported by pgvector.\n"
          ]
        },
        {
          "name": "stderr",
          "output_type": "stream",
          "text": [
            " 94%|█████████▍| 94/100 [00:13<00:00,  6.80it/s]"
          ]
        },
        {
          "name": "stdout",
          "output_type": "stream",
          "text": [
            "  Query execution time: 0.11 seconds\n",
            "  WARNING: Setting ef_search (5000) to 1000, highest supported by pgvector.\n",
            "  Query execution time: 0.12 seconds\n",
            "  WARNING: Setting ef_search (5000) to 1000, highest supported by pgvector.\n"
          ]
        },
        {
          "name": "stderr",
          "output_type": "stream",
          "text": [
            " 96%|█████████▌| 96/100 [00:14<00:00,  7.00it/s]"
          ]
        },
        {
          "name": "stdout",
          "output_type": "stream",
          "text": [
            "  Query execution time: 0.12 seconds\n",
            "  WARNING: Setting ef_search (5000) to 1000, highest supported by pgvector.\n",
            "  Query execution time: 0.13 seconds\n",
            "  WARNING: Setting ef_search (5000) to 1000, highest supported by pgvector.\n"
          ]
        },
        {
          "name": "stderr",
          "output_type": "stream",
          "text": [
            " 98%|█████████▊| 98/100 [00:14<00:00,  7.56it/s]"
          ]
        },
        {
          "name": "stdout",
          "output_type": "stream",
          "text": [
            "  Query execution time: 0.10 seconds\n",
            "  WARNING: Setting ef_search (5000) to 1000, highest supported by pgvector.\n",
            "  Query execution time: 0.12 seconds\n",
            "  WARNING: Setting ef_search (5000) to 1000, highest supported by pgvector.\n"
          ]
        },
        {
          "name": "stderr",
          "output_type": "stream",
          "text": [
            "100%|██████████| 100/100 [00:14<00:00,  6.81it/s]"
          ]
        },
        {
          "name": "stdout",
          "output_type": "stream",
          "text": [
            "  Query execution time: 0.13 seconds\n",
            "  WARNING: Setting ef_search (5000) to 1000, highest supported by pgvector.\n",
            "  Query execution time: 0.12 seconds\n",
            "Embedding model: BAAI/bge-small-en, Enricher: add_title_and_abstract\n"
          ]
        },
        {
          "name": "stderr",
          "output_type": "stream",
          "text": [
            "\n",
            "  1%|          | 1/100 [00:00<00:15,  6.49it/s]"
          ]
        },
        {
          "name": "stdout",
          "output_type": "stream",
          "text": [
            "  WARNING: Setting ef_search (5000) to 1000, highest supported by pgvector.\n",
            "  Query execution time: 0.13 seconds\n",
            "  WARNING: Setting ef_search (5000) to 1000, highest supported by pgvector.\n"
          ]
        },
        {
          "name": "stderr",
          "output_type": "stream",
          "text": [
            "  3%|▎         | 3/100 [00:00<00:13,  7.03it/s]"
          ]
        },
        {
          "name": "stdout",
          "output_type": "stream",
          "text": [
            "  Query execution time: 0.12 seconds\n",
            "  WARNING: Setting ef_search (5000) to 1000, highest supported by pgvector.\n",
            "  Query execution time: 0.13 seconds\n",
            "  WARNING: Setting ef_search (5000) to 1000, highest supported by pgvector.\n"
          ]
        },
        {
          "name": "stderr",
          "output_type": "stream",
          "text": [
            "  5%|▌         | 5/100 [00:00<00:12,  7.35it/s]"
          ]
        },
        {
          "name": "stdout",
          "output_type": "stream",
          "text": [
            "  Query execution time: 0.12 seconds\n",
            "  WARNING: Setting ef_search (5000) to 1000, highest supported by pgvector.\n",
            "  Query execution time: 0.12 seconds\n",
            "  WARNING: Setting ef_search (5000) to 1000, highest supported by pgvector.\n"
          ]
        },
        {
          "name": "stderr",
          "output_type": "stream",
          "text": [
            "  7%|▋         | 7/100 [00:00<00:12,  7.54it/s]"
          ]
        },
        {
          "name": "stdout",
          "output_type": "stream",
          "text": [
            "  Query execution time: 0.13 seconds\n",
            "  WARNING: Setting ef_search (5000) to 1000, highest supported by pgvector.\n",
            "  Query execution time: 0.11 seconds\n",
            "  WARNING: Setting ef_search (5000) to 1000, highest supported by pgvector.\n"
          ]
        },
        {
          "name": "stderr",
          "output_type": "stream",
          "text": [
            "  9%|▉         | 9/100 [00:01<00:12,  7.30it/s]"
          ]
        },
        {
          "name": "stdout",
          "output_type": "stream",
          "text": [
            "  Query execution time: 0.14 seconds\n",
            "  WARNING: Setting ef_search (5000) to 1000, highest supported by pgvector.\n",
            "  Query execution time: 0.12 seconds\n",
            "  WARNING: Setting ef_search (5000) to 1000, highest supported by pgvector.\n"
          ]
        },
        {
          "name": "stderr",
          "output_type": "stream",
          "text": [
            " 11%|█         | 11/100 [00:01<00:11,  7.58it/s]"
          ]
        },
        {
          "name": "stdout",
          "output_type": "stream",
          "text": [
            "  Query execution time: 0.13 seconds\n",
            "  WARNING: Setting ef_search (5000) to 1000, highest supported by pgvector.\n",
            "  Query execution time: 0.10 seconds\n",
            "  WARNING: Setting ef_search (5000) to 1000, highest supported by pgvector.\n"
          ]
        },
        {
          "name": "stderr",
          "output_type": "stream",
          "text": [
            " 13%|█▎        | 13/100 [00:01<00:11,  7.32it/s]"
          ]
        },
        {
          "name": "stdout",
          "output_type": "stream",
          "text": [
            "  Query execution time: 0.12 seconds\n",
            "  WARNING: Setting ef_search (5000) to 1000, highest supported by pgvector.\n",
            "  Query execution time: 0.13 seconds\n",
            "  WARNING: Setting ef_search (5000) to 1000, highest supported by pgvector.\n"
          ]
        },
        {
          "name": "stderr",
          "output_type": "stream",
          "text": [
            " 15%|█▌        | 15/100 [00:02<00:12,  6.64it/s]"
          ]
        },
        {
          "name": "stdout",
          "output_type": "stream",
          "text": [
            "  Query execution time: 0.20 seconds\n",
            "  WARNING: Setting ef_search (5000) to 1000, highest supported by pgvector.\n",
            "  Query execution time: 0.11 seconds\n",
            "  WARNING: Setting ef_search (5000) to 1000, highest supported by pgvector.\n"
          ]
        },
        {
          "name": "stderr",
          "output_type": "stream",
          "text": [
            " 17%|█▋        | 17/100 [00:02<00:11,  6.99it/s]"
          ]
        },
        {
          "name": "stdout",
          "output_type": "stream",
          "text": [
            "  Query execution time: 0.12 seconds\n",
            "  WARNING: Setting ef_search (5000) to 1000, highest supported by pgvector.\n",
            "  Query execution time: 0.12 seconds\n",
            "  WARNING: Setting ef_search (5000) to 1000, highest supported by pgvector.\n"
          ]
        },
        {
          "name": "stderr",
          "output_type": "stream",
          "text": [
            " 19%|█▉        | 19/100 [00:02<00:11,  7.24it/s]"
          ]
        },
        {
          "name": "stdout",
          "output_type": "stream",
          "text": [
            "  Query execution time: 0.13 seconds\n",
            "  WARNING: Setting ef_search (5000) to 1000, highest supported by pgvector.\n",
            "  Query execution time: 0.12 seconds\n",
            "  WARNING: Setting ef_search (5000) to 1000, highest supported by pgvector.\n"
          ]
        },
        {
          "name": "stderr",
          "output_type": "stream",
          "text": [
            " 21%|██        | 21/100 [00:02<00:10,  7.61it/s]"
          ]
        },
        {
          "name": "stdout",
          "output_type": "stream",
          "text": [
            "  Query execution time: 0.12 seconds\n",
            "  WARNING: Setting ef_search (5000) to 1000, highest supported by pgvector.\n",
            "  Query execution time: 0.11 seconds\n",
            "  WARNING: Setting ef_search (5000) to 1000, highest supported by pgvector.\n"
          ]
        },
        {
          "name": "stderr",
          "output_type": "stream",
          "text": [
            " 23%|██▎       | 23/100 [00:03<00:10,  7.27it/s]"
          ]
        },
        {
          "name": "stdout",
          "output_type": "stream",
          "text": [
            "  Query execution time: 0.14 seconds\n",
            "  WARNING: Setting ef_search (5000) to 1000, highest supported by pgvector.\n",
            "  Query execution time: 0.13 seconds\n",
            "  WARNING: Setting ef_search (5000) to 1000, highest supported by pgvector.\n"
          ]
        },
        {
          "name": "stderr",
          "output_type": "stream",
          "text": [
            " 24%|██▍       | 24/100 [00:03<00:10,  7.38it/s]"
          ]
        },
        {
          "name": "stdout",
          "output_type": "stream",
          "text": [
            "  Query execution time: 0.12 seconds\n",
            "  WARNING: Setting ef_search (5000) to 1000, highest supported by pgvector.\n",
            "  Query execution time: 0.11 seconds\n"
          ]
        },
        {
          "name": "stderr",
          "output_type": "stream",
          "text": [
            " 26%|██▌       | 26/100 [00:03<00:12,  6.05it/s]"
          ]
        },
        {
          "name": "stdout",
          "output_type": "stream",
          "text": [
            "  WARNING: Setting ef_search (5000) to 1000, highest supported by pgvector.\n",
            "  Query execution time: 0.12 seconds\n",
            "  WARNING: Setting ef_search (5000) to 1000, highest supported by pgvector.\n"
          ]
        },
        {
          "name": "stderr",
          "output_type": "stream",
          "text": [
            " 28%|██▊       | 28/100 [00:04<00:11,  6.21it/s]"
          ]
        },
        {
          "name": "stdout",
          "output_type": "stream",
          "text": [
            "  Query execution time: 0.15 seconds\n",
            "  WARNING: Setting ef_search (5000) to 1000, highest supported by pgvector.\n",
            "  Query execution time: 0.14 seconds\n",
            "  WARNING: Setting ef_search (5000) to 1000, highest supported by pgvector.\n"
          ]
        },
        {
          "name": "stderr",
          "output_type": "stream",
          "text": [
            " 30%|███       | 30/100 [00:04<00:10,  6.85it/s]"
          ]
        },
        {
          "name": "stdout",
          "output_type": "stream",
          "text": [
            "  Query execution time: 0.12 seconds\n",
            "  WARNING: Setting ef_search (5000) to 1000, highest supported by pgvector.\n",
            "  Query execution time: 0.12 seconds\n",
            "  WARNING: Setting ef_search (5000) to 1000, highest supported by pgvector.\n"
          ]
        },
        {
          "name": "stderr",
          "output_type": "stream",
          "text": [
            " 32%|███▏      | 32/100 [00:04<00:10,  6.75it/s]"
          ]
        },
        {
          "name": "stdout",
          "output_type": "stream",
          "text": [
            "  Query execution time: 0.14 seconds\n",
            "  WARNING: Setting ef_search (5000) to 1000, highest supported by pgvector.\n",
            "  Query execution time: 0.14 seconds\n",
            "  WARNING: Setting ef_search (5000) to 1000, highest supported by pgvector.\n"
          ]
        },
        {
          "name": "stderr",
          "output_type": "stream",
          "text": [
            " 34%|███▍      | 34/100 [00:04<00:08,  7.37it/s]"
          ]
        },
        {
          "name": "stdout",
          "output_type": "stream",
          "text": [
            "  Query execution time: 0.11 seconds\n",
            "  WARNING: Setting ef_search (5000) to 1000, highest supported by pgvector.\n",
            "  Query execution time: 0.11 seconds\n",
            "  WARNING: Setting ef_search (5000) to 1000, highest supported by pgvector.\n"
          ]
        },
        {
          "name": "stderr",
          "output_type": "stream",
          "text": [
            " 36%|███▌      | 36/100 [00:05<00:08,  7.37it/s]"
          ]
        },
        {
          "name": "stdout",
          "output_type": "stream",
          "text": [
            "  Query execution time: 0.10 seconds\n",
            "  WARNING: Setting ef_search (5000) to 1000, highest supported by pgvector.\n",
            "  Query execution time: 0.14 seconds\n",
            "  WARNING: Setting ef_search (5000) to 1000, highest supported by pgvector.\n"
          ]
        },
        {
          "name": "stderr",
          "output_type": "stream",
          "text": [
            " 38%|███▊      | 38/100 [00:05<00:08,  7.52it/s]"
          ]
        },
        {
          "name": "stdout",
          "output_type": "stream",
          "text": [
            "  Query execution time: 0.12 seconds\n",
            "  WARNING: Setting ef_search (5000) to 1000, highest supported by pgvector.\n",
            "  Query execution time: 0.11 seconds\n",
            "  WARNING: Setting ef_search (5000) to 1000, highest supported by pgvector.\n"
          ]
        },
        {
          "name": "stderr",
          "output_type": "stream",
          "text": [
            " 40%|████      | 40/100 [00:05<00:07,  7.92it/s]"
          ]
        },
        {
          "name": "stdout",
          "output_type": "stream",
          "text": [
            "  Query execution time: 0.11 seconds\n",
            "  WARNING: Setting ef_search (5000) to 1000, highest supported by pgvector.\n",
            "  Query execution time: 0.11 seconds\n",
            "  WARNING: Setting ef_search (5000) to 1000, highest supported by pgvector.\n"
          ]
        },
        {
          "name": "stderr",
          "output_type": "stream",
          "text": [
            " 42%|████▏     | 42/100 [00:05<00:07,  7.78it/s]"
          ]
        },
        {
          "name": "stdout",
          "output_type": "stream",
          "text": [
            "  Query execution time: 0.12 seconds\n",
            "  WARNING: Setting ef_search (5000) to 1000, highest supported by pgvector.\n",
            "  Query execution time: 0.12 seconds\n",
            "  WARNING: Setting ef_search (5000) to 1000, highest supported by pgvector.\n"
          ]
        },
        {
          "name": "stderr",
          "output_type": "stream",
          "text": [
            " 44%|████▍     | 44/100 [00:06<00:06,  8.02it/s]"
          ]
        },
        {
          "name": "stdout",
          "output_type": "stream",
          "text": [
            "  Query execution time: 0.11 seconds\n",
            "  WARNING: Setting ef_search (5000) to 1000, highest supported by pgvector.\n",
            "  Query execution time: 0.11 seconds\n",
            "  WARNING: Setting ef_search (5000) to 1000, highest supported by pgvector.\n"
          ]
        },
        {
          "name": "stderr",
          "output_type": "stream",
          "text": [
            " 46%|████▌     | 46/100 [00:06<00:06,  7.86it/s]"
          ]
        },
        {
          "name": "stdout",
          "output_type": "stream",
          "text": [
            "  Query execution time: 0.11 seconds\n",
            "  WARNING: Setting ef_search (5000) to 1000, highest supported by pgvector.\n",
            "  Query execution time: 0.13 seconds\n",
            "  WARNING: Setting ef_search (5000) to 1000, highest supported by pgvector.\n"
          ]
        },
        {
          "name": "stderr",
          "output_type": "stream",
          "text": [
            " 48%|████▊     | 48/100 [00:06<00:06,  7.96it/s]"
          ]
        },
        {
          "name": "stdout",
          "output_type": "stream",
          "text": [
            "  Query execution time: 0.11 seconds\n",
            "  WARNING: Setting ef_search (5000) to 1000, highest supported by pgvector.\n",
            "  Query execution time: 0.11 seconds\n",
            "  WARNING: Setting ef_search (5000) to 1000, highest supported by pgvector.\n"
          ]
        },
        {
          "name": "stderr",
          "output_type": "stream",
          "text": [
            " 50%|█████     | 50/100 [00:06<00:07,  6.97it/s]"
          ]
        },
        {
          "name": "stdout",
          "output_type": "stream",
          "text": [
            "  Query execution time: 0.13 seconds\n",
            "  WARNING: Setting ef_search (5000) to 1000, highest supported by pgvector.\n",
            "  Query execution time: 0.14 seconds\n",
            "  WARNING: Setting ef_search (5000) to 1000, highest supported by pgvector.\n"
          ]
        },
        {
          "name": "stderr",
          "output_type": "stream",
          "text": [
            " 52%|█████▏    | 52/100 [00:07<00:06,  7.04it/s]"
          ]
        },
        {
          "name": "stdout",
          "output_type": "stream",
          "text": [
            "  Query execution time: 0.14 seconds\n",
            "  WARNING: Setting ef_search (5000) to 1000, highest supported by pgvector.\n",
            "  Query execution time: 0.12 seconds\n",
            "  WARNING: Setting ef_search (5000) to 1000, highest supported by pgvector.\n"
          ]
        },
        {
          "name": "stderr",
          "output_type": "stream",
          "text": [
            " 54%|█████▍    | 54/100 [00:07<00:06,  7.59it/s]"
          ]
        },
        {
          "name": "stdout",
          "output_type": "stream",
          "text": [
            "  Query execution time: 0.11 seconds\n",
            "  WARNING: Setting ef_search (5000) to 1000, highest supported by pgvector.\n",
            "  Query execution time: 0.11 seconds\n",
            "  WARNING: Setting ef_search (5000) to 1000, highest supported by pgvector.\n"
          ]
        },
        {
          "name": "stderr",
          "output_type": "stream",
          "text": [
            " 56%|█████▌    | 56/100 [00:07<00:05,  7.46it/s]"
          ]
        },
        {
          "name": "stdout",
          "output_type": "stream",
          "text": [
            "  Query execution time: 0.12 seconds\n",
            "  WARNING: Setting ef_search (5000) to 1000, highest supported by pgvector.\n",
            "  Query execution time: 0.12 seconds\n",
            "  WARNING: Setting ef_search (5000) to 1000, highest supported by pgvector.\n"
          ]
        },
        {
          "name": "stderr",
          "output_type": "stream",
          "text": [
            " 58%|█████▊    | 58/100 [00:08<00:05,  7.71it/s]"
          ]
        },
        {
          "name": "stdout",
          "output_type": "stream",
          "text": [
            "  Query execution time: 0.12 seconds\n",
            "  WARNING: Setting ef_search (5000) to 1000, highest supported by pgvector.\n",
            "  Query execution time: 0.11 seconds\n",
            "  WARNING: Setting ef_search (5000) to 1000, highest supported by pgvector.\n"
          ]
        },
        {
          "name": "stderr",
          "output_type": "stream",
          "text": [
            " 60%|██████    | 60/100 [00:08<00:04,  8.21it/s]"
          ]
        },
        {
          "name": "stdout",
          "output_type": "stream",
          "text": [
            "  Query execution time: 0.10 seconds\n",
            "  WARNING: Setting ef_search (5000) to 1000, highest supported by pgvector.\n",
            "  Query execution time: 0.10 seconds\n",
            "  WARNING: Setting ef_search (5000) to 1000, highest supported by pgvector.\n"
          ]
        },
        {
          "name": "stderr",
          "output_type": "stream",
          "text": [
            " 61%|██████    | 61/100 [00:08<00:10,  3.58it/s]"
          ]
        },
        {
          "name": "stdout",
          "output_type": "stream",
          "text": [
            "  Query execution time: 0.63 seconds\n",
            "  WARNING: Setting ef_search (5000) to 1000, highest supported by pgvector.\n"
          ]
        },
        {
          "name": "stderr",
          "output_type": "stream",
          "text": [
            " 62%|██████▏   | 62/100 [00:09<00:13,  2.87it/s]"
          ]
        },
        {
          "name": "stdout",
          "output_type": "stream",
          "text": [
            "  Query execution time: 0.49 seconds\n",
            "  WARNING: Setting ef_search (5000) to 1000, highest supported by pgvector.\n"
          ]
        },
        {
          "name": "stderr",
          "output_type": "stream",
          "text": [
            " 63%|██████▎   | 63/100 [00:09<00:14,  2.52it/s]"
          ]
        },
        {
          "name": "stdout",
          "output_type": "stream",
          "text": [
            "  Query execution time: 0.49 seconds\n",
            "  WARNING: Setting ef_search (5000) to 1000, highest supported by pgvector.\n"
          ]
        },
        {
          "name": "stderr",
          "output_type": "stream",
          "text": [
            " 64%|██████▍   | 64/100 [00:10<00:14,  2.49it/s]"
          ]
        },
        {
          "name": "stdout",
          "output_type": "stream",
          "text": [
            "  Query execution time: 0.40 seconds\n",
            "  WARNING: Setting ef_search (5000) to 1000, highest supported by pgvector.\n"
          ]
        },
        {
          "name": "stderr",
          "output_type": "stream",
          "text": [
            " 65%|██████▌   | 65/100 [00:10<00:13,  2.61it/s]"
          ]
        },
        {
          "name": "stdout",
          "output_type": "stream",
          "text": [
            "  Query execution time: 0.33 seconds\n",
            "  WARNING: Setting ef_search (5000) to 1000, highest supported by pgvector.\n"
          ]
        },
        {
          "name": "stderr",
          "output_type": "stream",
          "text": [
            " 66%|██████▌   | 66/100 [00:11<00:12,  2.65it/s]"
          ]
        },
        {
          "name": "stdout",
          "output_type": "stream",
          "text": [
            "  Query execution time: 0.35 seconds\n",
            "  WARNING: Setting ef_search (5000) to 1000, highest supported by pgvector.\n"
          ]
        },
        {
          "name": "stderr",
          "output_type": "stream",
          "text": [
            " 68%|██████▊   | 68/100 [00:11<00:09,  3.53it/s]"
          ]
        },
        {
          "name": "stdout",
          "output_type": "stream",
          "text": [
            "  Query execution time: 0.27 seconds\n",
            "  WARNING: Setting ef_search (5000) to 1000, highest supported by pgvector.\n",
            "  Query execution time: 0.11 seconds\n",
            "  WARNING: Setting ef_search (5000) to 1000, highest supported by pgvector.\n"
          ]
        },
        {
          "name": "stderr",
          "output_type": "stream",
          "text": [
            " 70%|███████   | 70/100 [00:11<00:06,  4.75it/s]"
          ]
        },
        {
          "name": "stdout",
          "output_type": "stream",
          "text": [
            "  Query execution time: 0.15 seconds\n",
            "  WARNING: Setting ef_search (5000) to 1000, highest supported by pgvector.\n",
            "  Query execution time: 0.11 seconds\n",
            "  WARNING: Setting ef_search (5000) to 1000, highest supported by pgvector.\n"
          ]
        },
        {
          "name": "stderr",
          "output_type": "stream",
          "text": [
            " 72%|███████▏  | 72/100 [00:12<00:06,  4.17it/s]"
          ]
        },
        {
          "name": "stdout",
          "output_type": "stream",
          "text": [
            "  Query execution time: 0.27 seconds\n",
            "  WARNING: Setting ef_search (5000) to 1000, highest supported by pgvector.\n",
            "  Query execution time: 0.12 seconds\n",
            "  WARNING: Setting ef_search (5000) to 1000, highest supported by pgvector.\n"
          ]
        },
        {
          "name": "stderr",
          "output_type": "stream",
          "text": [
            " 74%|███████▍  | 74/100 [00:12<00:04,  5.43it/s]"
          ]
        },
        {
          "name": "stdout",
          "output_type": "stream",
          "text": [
            "  Query execution time: 0.12 seconds\n",
            "  WARNING: Setting ef_search (5000) to 1000, highest supported by pgvector.\n",
            "  Query execution time: 0.12 seconds\n",
            "  WARNING: Setting ef_search (5000) to 1000, highest supported by pgvector.\n"
          ]
        },
        {
          "name": "stderr",
          "output_type": "stream",
          "text": [
            " 76%|███████▌  | 76/100 [00:12<00:03,  6.48it/s]"
          ]
        },
        {
          "name": "stdout",
          "output_type": "stream",
          "text": [
            "  Query execution time: 0.11 seconds\n",
            "  WARNING: Setting ef_search (5000) to 1000, highest supported by pgvector.\n",
            "  Query execution time: 0.11 seconds\n",
            "  WARNING: Setting ef_search (5000) to 1000, highest supported by pgvector.\n"
          ]
        },
        {
          "name": "stderr",
          "output_type": "stream",
          "text": [
            " 78%|███████▊  | 78/100 [00:13<00:02,  7.35it/s]"
          ]
        },
        {
          "name": "stdout",
          "output_type": "stream",
          "text": [
            "  Query execution time: 0.11 seconds\n",
            "  WARNING: Setting ef_search (5000) to 1000, highest supported by pgvector.\n",
            "  Query execution time: 0.10 seconds\n",
            "  WARNING: Setting ef_search (5000) to 1000, highest supported by pgvector.\n"
          ]
        },
        {
          "name": "stderr",
          "output_type": "stream",
          "text": [
            " 80%|████████  | 80/100 [00:13<00:02,  7.98it/s]"
          ]
        },
        {
          "name": "stdout",
          "output_type": "stream",
          "text": [
            "  Query execution time: 0.10 seconds\n",
            "  WARNING: Setting ef_search (5000) to 1000, highest supported by pgvector.\n",
            "  Query execution time: 0.10 seconds\n",
            "  WARNING: Setting ef_search (5000) to 1000, highest supported by pgvector.\n"
          ]
        },
        {
          "name": "stderr",
          "output_type": "stream",
          "text": [
            " 82%|████████▏ | 82/100 [00:13<00:02,  8.13it/s]"
          ]
        },
        {
          "name": "stdout",
          "output_type": "stream",
          "text": [
            "  Query execution time: 0.10 seconds\n",
            "  WARNING: Setting ef_search (5000) to 1000, highest supported by pgvector.\n",
            "  Query execution time: 0.12 seconds\n",
            "  WARNING: Setting ef_search (5000) to 1000, highest supported by pgvector.\n"
          ]
        },
        {
          "name": "stderr",
          "output_type": "stream",
          "text": [
            " 84%|████████▍ | 84/100 [00:13<00:01,  8.49it/s]"
          ]
        },
        {
          "name": "stdout",
          "output_type": "stream",
          "text": [
            "  Query execution time: 0.11 seconds\n",
            "  WARNING: Setting ef_search (5000) to 1000, highest supported by pgvector.\n",
            "  Query execution time: 0.10 seconds\n",
            "  WARNING: Setting ef_search (5000) to 1000, highest supported by pgvector.\n"
          ]
        },
        {
          "name": "stderr",
          "output_type": "stream",
          "text": [
            " 86%|████████▌ | 86/100 [00:14<00:01,  8.18it/s]"
          ]
        },
        {
          "name": "stdout",
          "output_type": "stream",
          "text": [
            "  Query execution time: 0.12 seconds\n",
            "  WARNING: Setting ef_search (5000) to 1000, highest supported by pgvector.\n",
            "  Query execution time: 0.11 seconds\n",
            "  WARNING: Setting ef_search (5000) to 1000, highest supported by pgvector.\n"
          ]
        },
        {
          "name": "stderr",
          "output_type": "stream",
          "text": [
            " 88%|████████▊ | 88/100 [00:14<00:01,  8.55it/s]"
          ]
        },
        {
          "name": "stdout",
          "output_type": "stream",
          "text": [
            "  Query execution time: 0.10 seconds\n",
            "  WARNING: Setting ef_search (5000) to 1000, highest supported by pgvector.\n",
            "  Query execution time: 0.10 seconds\n",
            "  WARNING: Setting ef_search (5000) to 1000, highest supported by pgvector.\n"
          ]
        },
        {
          "name": "stderr",
          "output_type": "stream",
          "text": [
            " 90%|█████████ | 90/100 [00:14<00:01,  8.44it/s]"
          ]
        },
        {
          "name": "stdout",
          "output_type": "stream",
          "text": [
            "  Query execution time: 0.10 seconds\n",
            "  WARNING: Setting ef_search (5000) to 1000, highest supported by pgvector.\n",
            "  Query execution time: 0.11 seconds\n",
            "  WARNING: Setting ef_search (5000) to 1000, highest supported by pgvector.\n"
          ]
        },
        {
          "name": "stderr",
          "output_type": "stream",
          "text": [
            " 92%|█████████▏| 92/100 [00:14<00:01,  7.32it/s]"
          ]
        },
        {
          "name": "stdout",
          "output_type": "stream",
          "text": [
            "  Query execution time: 0.13 seconds\n",
            "  WARNING: Setting ef_search (5000) to 1000, highest supported by pgvector.\n",
            "  Query execution time: 0.12 seconds\n",
            "  WARNING: Setting ef_search (5000) to 1000, highest supported by pgvector.\n"
          ]
        },
        {
          "name": "stderr",
          "output_type": "stream",
          "text": [
            " 94%|█████████▍| 94/100 [00:15<00:00,  7.79it/s]"
          ]
        },
        {
          "name": "stdout",
          "output_type": "stream",
          "text": [
            "  Query execution time: 0.10 seconds\n",
            "  WARNING: Setting ef_search (5000) to 1000, highest supported by pgvector.\n",
            "  Query execution time: 0.11 seconds\n",
            "  WARNING: Setting ef_search (5000) to 1000, highest supported by pgvector.\n"
          ]
        },
        {
          "name": "stderr",
          "output_type": "stream",
          "text": [
            " 96%|█████████▌| 96/100 [00:15<00:00,  8.25it/s]"
          ]
        },
        {
          "name": "stdout",
          "output_type": "stream",
          "text": [
            "  Query execution time: 0.11 seconds\n",
            "  WARNING: Setting ef_search (5000) to 1000, highest supported by pgvector.\n",
            "  Query execution time: 0.09 seconds\n",
            "  WARNING: Setting ef_search (5000) to 1000, highest supported by pgvector.\n"
          ]
        },
        {
          "name": "stderr",
          "output_type": "stream",
          "text": [
            " 98%|█████████▊| 98/100 [00:15<00:00,  8.79it/s]"
          ]
        },
        {
          "name": "stdout",
          "output_type": "stream",
          "text": [
            "  Query execution time: 0.09 seconds\n",
            "  WARNING: Setting ef_search (5000) to 1000, highest supported by pgvector.\n",
            "  Query execution time: 0.10 seconds\n",
            "  WARNING: Setting ef_search (5000) to 1000, highest supported by pgvector.\n"
          ]
        },
        {
          "name": "stderr",
          "output_type": "stream",
          "text": [
            "100%|██████████| 100/100 [00:15<00:00,  6.35it/s]"
          ]
        },
        {
          "name": "stdout",
          "output_type": "stream",
          "text": [
            "  Query execution time: 0.10 seconds\n",
            "  WARNING: Setting ef_search (5000) to 1000, highest supported by pgvector.\n",
            "  Query execution time: 0.11 seconds\n",
            "Saved results for BAAI/bge-small-en to tests/bge_ranks_topk5000.csv\n"
          ]
        },
        {
          "name": "stderr",
          "output_type": "stream",
          "text": [
            "\n"
          ]
        }
      ],
      "source": [
        "# Dict mapping \"model name\": pd.DataFrame() of results (enrichment functions used -> columns)\n",
        "results = {model: pd.DataFrame() for model in embedding_models}\n",
        "top_k = 5000\n",
        "\n",
        "for embedding_model, enricher_name in combos:\n",
        "    print(f\"Embedding model: {embedding_model}, Enricher: {enricher_name}\")\n",
        "    embedder = get_embedder(embedding_model, device=device)\n",
        "    \n",
        "    # Enrich\n",
        "    enricher = get_enricher(enricher_name)\n",
        "    texts_with_dois = list(\n",
        "        examples[['sent_no_cit', 'source_doi']].itertuples(index=False, name=None))\n",
        "    enriched_texts = enricher.enrich_batch(texts_with_dois)\n",
        "\n",
        "\n",
        "    embeddings = embedder(enriched_texts)\n",
        "    ranks = []\n",
        "    for i in tqdm(range(len(examples))):\n",
        "        embedding = embeddings[i]\n",
        "        example = examples.iloc[i]\n",
        "        ranks += get_ranks(\n",
        "            example=example,\n",
        "            embedding=embedding,\n",
        "            # embedder=embedder,\n",
        "            # enricher=enricher,\n",
        "            table_name='library',\n",
        "            top_k=top_k,\n",
        "            ef_search=top_k)\n",
        "    series = pd.Series(ranks)\n",
        "    results[embedding_model][enricher_name] = series\n",
        "\n",
        "model_names_to_filenames = {\n",
        "    'BAAI/bge-small-en': 'bge',\n",
        "    'bert-base-uncased': 'bert',\n",
        "    'adsabs/astroBERT': 'astrobert'\n",
        "}\n",
        "\n",
        "# Save the results to CSV files\n",
        "for model_name, df in results.items():\n",
        "    filename = f\"tests/{model_names_to_filenames[model_name]}_ranks_topk{top_k}.csv\"\n",
        "    df.to_csv(filename, index=False)\n",
        "    print(f\"Saved results for {model_name} to {filename}\")"
      ]
    },
    {
      "cell_type": "code",
      "execution_count": null,
      "metadata": {},
      "outputs": [
        {
          "name": "stdout",
          "output_type": "stream",
          "text": [
            "Saved results for BAAI/bge-small-en to tests/bge_ranks_topk500.csv\n"
          ]
        }
      ],
      "source": []
    },
    {
      "cell_type": "code",
      "execution_count": null,
      "metadata": {},
      "outputs": [],
      "source": []
    }
  ],
  "metadata": {
    "kernelspec": {
      "display_name": "citeline",
      "language": "python",
      "name": "python3"
    },
    "language_info": {
      "codemirror_mode": {
        "name": "ipython",
        "version": 3
      },
      "file_extension": ".py",
      "mimetype": "text/x-python",
      "name": "python",
      "nbconvert_exporter": "python",
      "pygments_lexer": "ipython3",
      "version": "3.11.10"
    }
  },
  "nbformat": 4,
  "nbformat_minor": 4
}
