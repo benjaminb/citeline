{
 "cells": [
  {
   "cell_type": "markdown",
   "metadata": {},
   "source": [
    "# Tuning the Top-k Query parameter\n",
    "\n",
    "First we set up the environment"
   ]
  },
  {
   "cell_type": "code",
   "execution_count": 1,
   "metadata": {},
   "outputs": [
    {
     "name": "stdout",
     "output_type": "stream",
     "text": [
      "=================================CONFIG=================================\n",
      "Database         User             Host                             Port            \n",
      "citeline_db      bbasseri         localhost                        5432            \n",
      "========================================================================\n",
      "Database version: ('PostgreSQL 17.3 (Homebrew) on x86_64-apple-darwin23.6.0, compiled by Apple clang version 16.0.0 (clang-1600.0.26.6), 64-bit',)\n",
      "Using device: mps\n"
     ]
    }
   ],
   "source": [
    "from dotenv import load_dotenv\n",
    "import os\n",
    "import psycopg2\n",
    "import pandas as pd\n",
    "from time import time\n",
    "import torch\n",
    "from Enrichers import Enricher, get_enricher, ENRICHMENT_FN\n",
    "from database.database import DatabaseProcessor\n",
    "from Embedders import Embedder, get_embedder\n",
    "from tqdm import tqdm\n",
    "\n",
    "load_dotenv('.env', override=True)\n",
    "\n",
    "# Database setup\n",
    "db_params = {\n",
    "    'dbname': os.getenv('DB_NAME'),\n",
    "    'user': os.getenv('DB_USER'),\n",
    "    'password': os.getenv('DB_PASSWORD'),\n",
    "    'host': os.getenv('DB_HOST'),\n",
    "    'port': os.getenv('DB_PORT')\n",
    "}\n",
    "db = DatabaseProcessor(db_params)\n",
    "db.test_connection()\n",
    "\n",
    "device = 'cuda' if torch.cuda.is_available(\n",
    ") else 'mps' if torch.mps.is_available() else 'cpu'\n",
    "print(f\"Using device: {device}\")"
   ]
  },
  {
   "cell_type": "markdown",
   "metadata": {},
   "source": [
    "## Investigating precision over `k`\n",
    "\n",
    "For our various embedding models and enrichment strategies, we want to know the smallest `top_k` value that will still retrieve the target reference for a given sentence. \n",
    "\n",
    "To investigate this, we'll sample 100 examples from the non-trivial training data. Each example typically has 1-2 target DOI's. For each example, we'll query the database with a large `top_k` parameter to start, so we can be sure the database returns the target references. Then we can ask at what index in the query results does a target DOI first appear. Ideally, the ranks will all be very high, indicated by having *low* indices in the query results. We also expect enriched examples to have their target doi's higher ranked (lower indices)."
   ]
  },
  {
   "cell_type": "code",
   "execution_count": null,
   "metadata": {},
   "outputs": [],
   "source": [
    "from database.database import SingleQueryResult\n",
    "\n",
    "data = pd.read_json('data/dataset/split/train.jsonl', lines=True)\n",
    "examples = data.sample(100, random_state=42)\n",
    "\n",
    "def lowest_index_matching_doi(target_doi: str, query_results: list[SingleQueryResult]) -> int:\n",
    "    \"\"\"\n",
    "    Returns the first index of the query results where the chunk doi matches the target doi.\n",
    "    If no match is found, returns -1.\n",
    "    \"\"\"\n",
    "    for i, result in enumerate(query_results):\n",
    "        if target_doi == result.doi:\n",
    "            return i\n",
    "    return -1\n",
    "\n",
    "\n",
    "def get_ranks(\n",
    "    example: pd.Series,\n",
    "    embedder: Embedder,\n",
    "    enricher: Enricher,\n",
    "    table_name: str,\n",
    "    top_k: int,\n",
    "    ef_search: int,\n",
    "    metric: str = 'vector_cosine_ops'\n",
    ") -> list[int]:\n",
    "    target_dois = example['citation_dois']\n",
    "\n",
    "    # Prepare query vector\n",
    "    enriched_sentence = enricher.enrich(example=example)\n",
    "    embedding = embedder([enriched_sentence])[0]\n",
    "\n",
    "    # Query\n",
    "    start = time()\n",
    "    query_results = db.query_vector_table(\n",
    "        table_name=table_name,\n",
    "        query_vector=embedding,\n",
    "        metric=metric,\n",
    "        use_index=True,\n",
    "        top_k=top_k,\n",
    "        ef_search=ef_search\n",
    "    )\n",
    "    \n",
    "    ranks = [lowest_index_matching_doi(\n",
    "        target_doi=doi, query_results=query_results) for doi in target_dois]\n",
    "    return ranks"
   ]
  },
  {
   "cell_type": "code",
   "execution_count": null,
   "metadata": {},
   "outputs": [
    {
     "name": "stdout",
     "output_type": "stream",
     "text": [
      "Embedding model: BAAI/bge-small-en, Enricher: identity\n"
     ]
    },
    {
     "name": "stderr",
     "output_type": "stream",
     "text": [
      "  2%|▏         | 2/100 [00:00<00:15,  6.52it/s]"
     ]
    },
    {
     "name": "stdout",
     "output_type": "stream",
     "text": [
      "  Query execution time: 0.02 seconds\n",
      "  Query fetch time: 0.00 seconds\n",
      "  Query execution time: 0.02 seconds\n",
      "  Query fetch time: 0.00 seconds\n"
     ]
    },
    {
     "name": "stderr",
     "output_type": "stream",
     "text": [
      "  4%|▍         | 4/100 [00:00<00:11,  8.43it/s]"
     ]
    },
    {
     "name": "stdout",
     "output_type": "stream",
     "text": [
      "  Query execution time: 0.01 seconds\n",
      "  Query fetch time: 0.00 seconds\n",
      "  Query execution time: 0.02 seconds\n",
      "  Query fetch time: 0.00 seconds\n"
     ]
    },
    {
     "name": "stderr",
     "output_type": "stream",
     "text": [
      "  6%|▌         | 6/100 [00:00<00:10,  8.83it/s]"
     ]
    },
    {
     "name": "stdout",
     "output_type": "stream",
     "text": [
      "  Query execution time: 0.01 seconds\n",
      "  Query fetch time: 0.00 seconds\n",
      "  Query execution time: 0.02 seconds\n",
      "  Query fetch time: 0.00 seconds\n"
     ]
    },
    {
     "name": "stderr",
     "output_type": "stream",
     "text": [
      "  8%|▊         | 8/100 [00:00<00:10,  9.13it/s]"
     ]
    },
    {
     "name": "stdout",
     "output_type": "stream",
     "text": [
      "  Query execution time: 0.01 seconds\n",
      "  Query fetch time: 0.00 seconds\n",
      "  Query execution time: 0.01 seconds\n",
      "  Query fetch time: 0.00 seconds\n"
     ]
    },
    {
     "name": "stderr",
     "output_type": "stream",
     "text": [
      " 10%|█         | 10/100 [00:01<00:09,  9.57it/s]"
     ]
    },
    {
     "name": "stdout",
     "output_type": "stream",
     "text": [
      "  Query execution time: 0.02 seconds\n",
      "  Query fetch time: 0.00 seconds\n",
      "  Query execution time: 0.01 seconds\n",
      "  Query fetch time: 0.00 seconds\n"
     ]
    },
    {
     "name": "stderr",
     "output_type": "stream",
     "text": [
      " 13%|█▎        | 13/100 [00:01<00:08,  9.79it/s]"
     ]
    },
    {
     "name": "stdout",
     "output_type": "stream",
     "text": [
      "  Query execution time: 0.02 seconds\n",
      "  Query fetch time: 0.00 seconds\n",
      "  Query execution time: 0.01 seconds\n",
      "  Query fetch time: 0.00 seconds\n",
      "  Query execution time: 0.02 seconds\n",
      "  Query fetch time: 0.00 seconds\n"
     ]
    },
    {
     "name": "stderr",
     "output_type": "stream",
     "text": [
      " 15%|█▌        | 15/100 [00:01<00:09,  9.15it/s]"
     ]
    },
    {
     "name": "stdout",
     "output_type": "stream",
     "text": [
      "  Query execution time: 0.02 seconds\n",
      "  Query fetch time: 0.00 seconds\n",
      "  Query execution time: 0.01 seconds\n",
      "  Query fetch time: 0.00 seconds\n",
      "  Query execution time: 0.01 seconds\n",
      "  Query fetch time: 0.00 seconds\n"
     ]
    },
    {
     "name": "stderr",
     "output_type": "stream",
     "text": [
      " 19%|█▉        | 19/100 [00:02<00:07, 10.54it/s]"
     ]
    },
    {
     "name": "stdout",
     "output_type": "stream",
     "text": [
      "  Query execution time: 0.01 seconds\n",
      "  Query fetch time: 0.00 seconds\n",
      "  Query execution time: 0.01 seconds\n",
      "  Query fetch time: 0.00 seconds\n",
      "  Query execution time: 0.01 seconds\n",
      "  Query fetch time: 0.00 seconds\n"
     ]
    },
    {
     "name": "stderr",
     "output_type": "stream",
     "text": [
      " 21%|██        | 21/100 [00:02<00:08,  9.42it/s]"
     ]
    },
    {
     "name": "stdout",
     "output_type": "stream",
     "text": [
      "  Query execution time: 0.02 seconds\n",
      "  Query fetch time: 0.00 seconds\n",
      "  Query execution time: 0.01 seconds\n",
      "  Query fetch time: 0.00 seconds\n",
      "  Query execution time: 0.01 seconds\n",
      "  Query fetch time: 0.00 seconds\n"
     ]
    },
    {
     "name": "stderr",
     "output_type": "stream",
     "text": [
      " 25%|██▌       | 25/100 [00:02<00:06, 11.36it/s]"
     ]
    },
    {
     "name": "stdout",
     "output_type": "stream",
     "text": [
      "  Query execution time: 0.02 seconds\n",
      "  Query fetch time: 0.00 seconds\n",
      "  Query execution time: 0.01 seconds\n",
      "  Query fetch time: 0.00 seconds\n",
      "  Query execution time: 0.01 seconds\n",
      "  Query fetch time: 0.00 seconds\n"
     ]
    },
    {
     "name": "stderr",
     "output_type": "stream",
     "text": [
      " 27%|██▋       | 27/100 [00:02<00:06, 11.94it/s]"
     ]
    },
    {
     "name": "stdout",
     "output_type": "stream",
     "text": [
      "  Query execution time: 0.01 seconds\n",
      "  Query fetch time: 0.00 seconds\n",
      "  Query execution time: 0.01 seconds\n",
      "  Query fetch time: 0.00 seconds\n",
      "  Query execution time: 0.01 seconds\n",
      "  Query fetch time: 0.00 seconds\n"
     ]
    },
    {
     "name": "stderr",
     "output_type": "stream",
     "text": [
      " 31%|███       | 31/100 [00:03<00:05, 11.61it/s]"
     ]
    },
    {
     "name": "stdout",
     "output_type": "stream",
     "text": [
      "  Query execution time: 0.02 seconds\n",
      "  Query fetch time: 0.00 seconds\n",
      "  Query execution time: 0.01 seconds\n",
      "  Query fetch time: 0.00 seconds\n",
      "  Query execution time: 0.01 seconds\n",
      "  Query fetch time: 0.00 seconds\n"
     ]
    },
    {
     "name": "stderr",
     "output_type": "stream",
     "text": [
      " 35%|███▌      | 35/100 [00:03<00:05, 12.59it/s]"
     ]
    },
    {
     "name": "stdout",
     "output_type": "stream",
     "text": [
      "  Query execution time: 0.02 seconds\n",
      "  Query fetch time: 0.00 seconds\n",
      "  Query execution time: 0.02 seconds\n",
      "  Query fetch time: 0.00 seconds\n",
      "  Query execution time: 0.01 seconds\n",
      "  Query fetch time: 0.00 seconds\n",
      "  Query execution time: 0.01 seconds\n",
      "  Query fetch time: 0.00 seconds\n"
     ]
    },
    {
     "name": "stderr",
     "output_type": "stream",
     "text": [
      " 39%|███▉      | 39/100 [00:03<00:04, 13.49it/s]"
     ]
    },
    {
     "name": "stdout",
     "output_type": "stream",
     "text": [
      "  Query execution time: 0.01 seconds\n",
      "  Query fetch time: 0.00 seconds\n",
      "  Query execution time: 0.01 seconds\n",
      "  Query fetch time: 0.00 seconds\n",
      "  Query execution time: 0.01 seconds\n",
      "  Query fetch time: 0.00 seconds\n",
      "  Query execution time: 0.01 seconds\n",
      "  Query fetch time: 0.00 seconds\n"
     ]
    },
    {
     "name": "stderr",
     "output_type": "stream",
     "text": [
      " 41%|████      | 41/100 [00:03<00:04, 13.73it/s]"
     ]
    },
    {
     "name": "stdout",
     "output_type": "stream",
     "text": [
      "  Query execution time: 0.01 seconds\n",
      "  Query fetch time: 0.00 seconds\n",
      "  Query execution time: 0.01 seconds\n",
      "  Query fetch time: 0.00 seconds\n",
      "  Query execution time: 0.01 seconds\n",
      "  Query fetch time: 0.00 seconds\n"
     ]
    },
    {
     "name": "stderr",
     "output_type": "stream",
     "text": [
      " 45%|████▌     | 45/100 [00:04<00:03, 13.95it/s]"
     ]
    },
    {
     "name": "stdout",
     "output_type": "stream",
     "text": [
      "  Query execution time: 0.01 seconds\n",
      "  Query fetch time: 0.00 seconds\n",
      "  Query execution time: 0.01 seconds\n",
      "  Query fetch time: 0.00 seconds\n",
      "  Query execution time: 0.01 seconds\n",
      "  Query fetch time: 0.00 seconds\n"
     ]
    },
    {
     "name": "stderr",
     "output_type": "stream",
     "text": [
      " 49%|████▉     | 49/100 [00:04<00:03, 13.79it/s]"
     ]
    },
    {
     "name": "stdout",
     "output_type": "stream",
     "text": [
      "  Query execution time: 0.01 seconds\n",
      "  Query fetch time: 0.00 seconds\n",
      "  Query execution time: 0.01 seconds\n",
      "  Query fetch time: 0.00 seconds\n",
      "  Query execution time: 0.01 seconds\n",
      "  Query fetch time: 0.00 seconds\n",
      "  Query execution time: 0.01 seconds\n",
      "  Query fetch time: 0.00 seconds\n"
     ]
    },
    {
     "name": "stderr",
     "output_type": "stream",
     "text": [
      " 51%|█████     | 51/100 [00:04<00:03, 13.94it/s]"
     ]
    },
    {
     "name": "stdout",
     "output_type": "stream",
     "text": [
      "  Query execution time: 0.01 seconds\n",
      "  Query fetch time: 0.00 seconds\n",
      "  Query execution time: 0.01 seconds\n",
      "  Query fetch time: 0.00 seconds\n",
      "  Query execution time: 0.01 seconds\n",
      "  Query fetch time: 0.00 seconds\n"
     ]
    },
    {
     "name": "stderr",
     "output_type": "stream",
     "text": [
      " 55%|█████▌    | 55/100 [00:04<00:03, 12.43it/s]"
     ]
    },
    {
     "name": "stdout",
     "output_type": "stream",
     "text": [
      "  Query execution time: 0.02 seconds\n",
      "  Query fetch time: 0.00 seconds\n",
      "  Query execution time: 0.02 seconds\n",
      "  Query fetch time: 0.00 seconds\n",
      "  Query execution time: 0.01 seconds\n",
      "  Query fetch time: 0.00 seconds\n",
      "  Query execution time: 0.01 seconds\n",
      "  Query fetch time: 0.00 seconds\n"
     ]
    },
    {
     "name": "stderr",
     "output_type": "stream",
     "text": [
      " 59%|█████▉    | 59/100 [00:05<00:03, 13.41it/s]"
     ]
    },
    {
     "name": "stdout",
     "output_type": "stream",
     "text": [
      "  Query execution time: 0.01 seconds\n",
      "  Query fetch time: 0.00 seconds\n",
      "  Query execution time: 0.01 seconds\n",
      "  Query fetch time: 0.00 seconds\n",
      "  Query execution time: 0.02 seconds\n",
      "  Query fetch time: 0.00 seconds\n"
     ]
    },
    {
     "name": "stderr",
     "output_type": "stream",
     "text": [
      " 61%|██████    | 61/100 [00:05<00:02, 13.21it/s]"
     ]
    },
    {
     "name": "stdout",
     "output_type": "stream",
     "text": [
      "  Query execution time: 0.01 seconds\n",
      "  Query fetch time: 0.00 seconds\n",
      "  Query execution time: 0.01 seconds\n",
      "  Query fetch time: 0.00 seconds\n",
      "  Query execution time: 0.01 seconds\n",
      "  Query fetch time: 0.00 seconds\n"
     ]
    },
    {
     "name": "stderr",
     "output_type": "stream",
     "text": [
      " 63%|██████▎   | 63/100 [00:05<00:02, 13.05it/s]"
     ]
    },
    {
     "name": "stdout",
     "output_type": "stream",
     "text": [
      "  Query execution time: 0.01 seconds\n",
      "  Query fetch time: 0.00 seconds\n",
      "  Query execution time: 0.01 seconds\n",
      "  Query fetch time: 0.00 seconds\n"
     ]
    },
    {
     "name": "stderr",
     "output_type": "stream",
     "text": [
      " 67%|██████▋   | 67/100 [00:05<00:02, 12.15it/s]"
     ]
    },
    {
     "name": "stdout",
     "output_type": "stream",
     "text": [
      "  Query execution time: 0.01 seconds\n",
      "  Query fetch time: 0.00 seconds\n",
      "  Query execution time: 0.01 seconds\n",
      "  Query fetch time: 0.00 seconds\n",
      "  Query execution time: 0.01 seconds\n",
      "  Query fetch time: 0.00 seconds\n"
     ]
    },
    {
     "name": "stderr",
     "output_type": "stream",
     "text": [
      " 71%|███████   | 71/100 [00:06<00:02, 13.65it/s]"
     ]
    },
    {
     "name": "stdout",
     "output_type": "stream",
     "text": [
      "  Query execution time: 0.01 seconds\n",
      "  Query fetch time: 0.00 seconds\n",
      "  Query execution time: 0.01 seconds\n",
      "  Query fetch time: 0.00 seconds\n",
      "  Query execution time: 0.01 seconds\n",
      "  Query fetch time: 0.00 seconds\n",
      "  Query execution time: 0.01 seconds\n",
      "  Query fetch time: 0.00 seconds\n"
     ]
    },
    {
     "name": "stderr",
     "output_type": "stream",
     "text": [
      " 75%|███████▌  | 75/100 [00:06<00:01, 14.99it/s]"
     ]
    },
    {
     "name": "stdout",
     "output_type": "stream",
     "text": [
      "  Query execution time: 0.01 seconds\n",
      "  Query fetch time: 0.00 seconds\n",
      "  Query execution time: 0.01 seconds\n",
      "  Query fetch time: 0.00 seconds\n",
      "  Query execution time: 0.01 seconds\n",
      "  Query fetch time: 0.00 seconds\n",
      "  Query execution time: 0.01 seconds\n",
      "  Query fetch time: 0.00 seconds\n",
      "  Query execution time: 0.01 seconds\n",
      "  Query fetch time: 0.00 seconds\n"
     ]
    },
    {
     "name": "stderr",
     "output_type": "stream",
     "text": [
      " 79%|███████▉  | 79/100 [00:06<00:01, 14.47it/s]"
     ]
    },
    {
     "name": "stdout",
     "output_type": "stream",
     "text": [
      "  Query execution time: 0.01 seconds\n",
      "  Query fetch time: 0.00 seconds\n",
      "  Query execution time: 0.01 seconds\n",
      "  Query fetch time: 0.00 seconds\n",
      "  Query execution time: 0.01 seconds\n",
      "  Query fetch time: 0.00 seconds\n"
     ]
    },
    {
     "name": "stderr",
     "output_type": "stream",
     "text": [
      " 83%|████████▎ | 83/100 [00:06<00:01, 13.96it/s]"
     ]
    },
    {
     "name": "stdout",
     "output_type": "stream",
     "text": [
      "  Query execution time: 0.01 seconds\n",
      "  Query fetch time: 0.00 seconds\n",
      "  Query execution time: 0.01 seconds\n",
      "  Query fetch time: 0.00 seconds\n",
      "  Query execution time: 0.01 seconds\n",
      "  Query fetch time: 0.00 seconds\n",
      "  Query execution time: 0.01 seconds\n",
      "  Query fetch time: 0.00 seconds\n"
     ]
    },
    {
     "name": "stderr",
     "output_type": "stream",
     "text": [
      " 85%|████████▌ | 85/100 [00:07<00:01, 11.89it/s]"
     ]
    },
    {
     "name": "stdout",
     "output_type": "stream",
     "text": [
      "  Query execution time: 0.01 seconds\n",
      "  Query fetch time: 0.00 seconds\n",
      "  Query execution time: 0.01 seconds\n",
      "  Query fetch time: 0.00 seconds\n",
      "  Query execution time: 0.01 seconds\n",
      "  Query fetch time: 0.00 seconds\n"
     ]
    },
    {
     "name": "stderr",
     "output_type": "stream",
     "text": [
      " 89%|████████▉ | 89/100 [00:07<00:00, 13.41it/s]"
     ]
    },
    {
     "name": "stdout",
     "output_type": "stream",
     "text": [
      "  Query execution time: 0.01 seconds\n",
      "  Query fetch time: 0.00 seconds\n",
      "  Query execution time: 0.01 seconds\n",
      "  Query fetch time: 0.00 seconds\n",
      "  Query execution time: 0.01 seconds\n",
      "  Query fetch time: 0.00 seconds\n",
      "  Query execution time: 0.01 seconds\n",
      "  Query fetch time: 0.00 seconds\n"
     ]
    },
    {
     "name": "stderr",
     "output_type": "stream",
     "text": [
      " 93%|█████████▎| 93/100 [00:07<00:00, 13.31it/s]"
     ]
    },
    {
     "name": "stdout",
     "output_type": "stream",
     "text": [
      "  Query execution time: 0.01 seconds\n",
      "  Query fetch time: 0.00 seconds\n",
      "  Query execution time: 0.01 seconds\n",
      "  Query fetch time: 0.00 seconds\n",
      "  Query execution time: 0.01 seconds\n",
      "  Query fetch time: 0.00 seconds\n"
     ]
    },
    {
     "name": "stderr",
     "output_type": "stream",
     "text": [
      " 97%|█████████▋| 97/100 [00:07<00:00, 14.64it/s]"
     ]
    },
    {
     "name": "stdout",
     "output_type": "stream",
     "text": [
      "  Query execution time: 0.01 seconds\n",
      "  Query fetch time: 0.00 seconds\n",
      "  Query execution time: 0.01 seconds\n",
      "  Query fetch time: 0.00 seconds\n",
      "  Query execution time: 0.01 seconds\n",
      "  Query fetch time: 0.00 seconds\n",
      "  Query execution time: 0.01 seconds\n",
      "  Query fetch time: 0.00 seconds\n"
     ]
    },
    {
     "name": "stderr",
     "output_type": "stream",
     "text": [
      "100%|██████████| 100/100 [00:08<00:00, 12.24it/s]\n"
     ]
    },
    {
     "name": "stdout",
     "output_type": "stream",
     "text": [
      "  Query execution time: 0.01 seconds\n",
      "  Query fetch time: 0.00 seconds\n",
      "  Query execution time: 0.01 seconds\n",
      "  Query fetch time: 0.00 seconds\n",
      "  Query execution time: 0.02 seconds\n",
      "  Query fetch time: 0.00 seconds\n",
      "Embedding model: BAAI/bge-small-en, Enricher: add_abstract\n"
     ]
    },
    {
     "name": "stderr",
     "output_type": "stream",
     "text": [
      "  2%|▏         | 2/100 [00:00<00:12,  7.57it/s]"
     ]
    },
    {
     "name": "stdout",
     "output_type": "stream",
     "text": [
      "  Query execution time: 0.02 seconds\n",
      "  Query fetch time: 0.00 seconds\n",
      "  Query execution time: 0.01 seconds\n",
      "  Query fetch time: 0.00 seconds\n"
     ]
    },
    {
     "name": "stderr",
     "output_type": "stream",
     "text": [
      "  4%|▍         | 4/100 [00:00<00:11,  8.01it/s]"
     ]
    },
    {
     "name": "stdout",
     "output_type": "stream",
     "text": [
      "  Query execution time: 0.02 seconds\n",
      "  Query fetch time: 0.00 seconds\n",
      "  Query execution time: 0.02 seconds\n",
      "  Query fetch time: 0.00 seconds\n"
     ]
    },
    {
     "name": "stderr",
     "output_type": "stream",
     "text": [
      "  6%|▌         | 6/100 [00:00<00:11,  8.24it/s]"
     ]
    },
    {
     "name": "stdout",
     "output_type": "stream",
     "text": [
      "  Query execution time: 0.02 seconds\n",
      "  Query fetch time: 0.00 seconds\n",
      "  Query execution time: 0.02 seconds\n",
      "  Query fetch time: 0.00 seconds\n"
     ]
    },
    {
     "name": "stderr",
     "output_type": "stream",
     "text": [
      "  8%|▊         | 8/100 [00:01<00:12,  7.63it/s]"
     ]
    },
    {
     "name": "stdout",
     "output_type": "stream",
     "text": [
      "  Query execution time: 0.02 seconds\n",
      "  Query fetch time: 0.00 seconds\n",
      "  Query execution time: 0.02 seconds\n",
      "  Query fetch time: 0.00 seconds\n"
     ]
    },
    {
     "name": "stderr",
     "output_type": "stream",
     "text": [
      " 10%|█         | 10/100 [00:01<00:11,  7.75it/s]"
     ]
    },
    {
     "name": "stdout",
     "output_type": "stream",
     "text": [
      "  Query execution time: 0.02 seconds\n",
      "  Query fetch time: 0.00 seconds\n",
      "  Query execution time: 0.02 seconds\n",
      "  Query fetch time: 0.00 seconds\n"
     ]
    },
    {
     "name": "stderr",
     "output_type": "stream",
     "text": [
      " 12%|█▏        | 12/100 [00:01<00:11,  7.64it/s]"
     ]
    },
    {
     "name": "stdout",
     "output_type": "stream",
     "text": [
      "  Query execution time: 0.02 seconds\n",
      "  Query fetch time: 0.00 seconds\n",
      "  Query execution time: 0.02 seconds\n",
      "  Query fetch time: 0.00 seconds\n"
     ]
    },
    {
     "name": "stderr",
     "output_type": "stream",
     "text": [
      " 14%|█▍        | 14/100 [00:01<00:10,  7.94it/s]"
     ]
    },
    {
     "name": "stdout",
     "output_type": "stream",
     "text": [
      "  Query execution time: 0.01 seconds\n",
      "  Query fetch time: 0.00 seconds\n",
      "  Query execution time: 0.01 seconds\n",
      "  Query fetch time: 0.00 seconds\n",
      "  Query execution time: 0.01 seconds\n",
      "  Query fetch time: 0.00 seconds\n"
     ]
    },
    {
     "name": "stderr",
     "output_type": "stream",
     "text": [
      " 17%|█▋        | 17/100 [00:02<00:09,  8.79it/s]"
     ]
    },
    {
     "name": "stdout",
     "output_type": "stream",
     "text": [
      "  Query execution time: 0.01 seconds\n",
      "  Query fetch time: 0.00 seconds\n",
      "  Query execution time: 0.01 seconds\n",
      "  Query fetch time: 0.00 seconds\n"
     ]
    },
    {
     "name": "stderr",
     "output_type": "stream",
     "text": [
      " 19%|█▉        | 19/100 [00:02<00:10,  8.05it/s]"
     ]
    },
    {
     "name": "stdout",
     "output_type": "stream",
     "text": [
      "  Query execution time: 0.03 seconds\n",
      "  Query fetch time: 0.00 seconds\n",
      "  Query execution time: 0.02 seconds\n",
      "  Query fetch time: 0.00 seconds\n",
      "  Query execution time: 0.01 seconds\n",
      "  Query fetch time: 0.00 seconds\n"
     ]
    },
    {
     "name": "stderr",
     "output_type": "stream",
     "text": [
      " 22%|██▏       | 22/100 [00:02<00:09,  8.48it/s]"
     ]
    },
    {
     "name": "stdout",
     "output_type": "stream",
     "text": [
      "  Query execution time: 0.01 seconds\n",
      "  Query fetch time: 0.00 seconds\n",
      "  Query execution time: 0.02 seconds\n",
      "  Query fetch time: 0.00 seconds\n"
     ]
    },
    {
     "name": "stderr",
     "output_type": "stream",
     "text": [
      " 25%|██▌       | 25/100 [00:03<00:08,  9.05it/s]"
     ]
    },
    {
     "name": "stdout",
     "output_type": "stream",
     "text": [
      "  Query execution time: 0.01 seconds\n",
      "  Query fetch time: 0.00 seconds\n",
      "  Query execution time: 0.01 seconds\n",
      "  Query fetch time: 0.00 seconds\n",
      "  Query execution time: 0.01 seconds\n",
      "  Query fetch time: 0.00 seconds\n"
     ]
    },
    {
     "name": "stderr",
     "output_type": "stream",
     "text": [
      " 27%|██▋       | 27/100 [00:03<00:08,  8.38it/s]"
     ]
    },
    {
     "name": "stdout",
     "output_type": "stream",
     "text": [
      "  Query execution time: 0.01 seconds\n",
      "  Query fetch time: 0.00 seconds\n",
      "  Query execution time: 0.02 seconds\n",
      "  Query fetch time: 0.00 seconds\n",
      "  Query execution time: 0.01 seconds\n",
      "  Query fetch time: 0.00 seconds\n"
     ]
    },
    {
     "name": "stderr",
     "output_type": "stream",
     "text": [
      " 31%|███       | 31/100 [00:03<00:06, 11.39it/s]"
     ]
    },
    {
     "name": "stdout",
     "output_type": "stream",
     "text": [
      "  Query execution time: 0.01 seconds\n",
      "  Query fetch time: 0.00 seconds\n",
      "  Query execution time: 0.01 seconds\n",
      "  Query fetch time: 0.00 seconds\n",
      "  Query execution time: 0.01 seconds\n",
      "  Query fetch time: 0.00 seconds\n",
      "  Query execution time: 0.01 seconds\n",
      "  Query fetch time: 0.00 seconds\n"
     ]
    },
    {
     "name": "stderr",
     "output_type": "stream",
     "text": [
      " 33%|███▎      | 33/100 [00:03<00:06, 10.97it/s]"
     ]
    },
    {
     "name": "stdout",
     "output_type": "stream",
     "text": [
      "  Query execution time: 0.01 seconds\n",
      "  Query fetch time: 0.00 seconds\n",
      "  Query execution time: 0.01 seconds\n",
      "  Query fetch time: 0.00 seconds\n"
     ]
    },
    {
     "name": "stderr",
     "output_type": "stream",
     "text": [
      " 37%|███▋      | 37/100 [00:04<00:06, 10.09it/s]"
     ]
    },
    {
     "name": "stdout",
     "output_type": "stream",
     "text": [
      "  Query execution time: 0.01 seconds\n",
      "  Query fetch time: 0.00 seconds\n",
      "  Query execution time: 0.01 seconds\n",
      "  Query fetch time: 0.00 seconds\n",
      "  Query execution time: 0.02 seconds\n",
      "  Query fetch time: 0.00 seconds\n"
     ]
    },
    {
     "name": "stderr",
     "output_type": "stream",
     "text": [
      " 39%|███▉      | 39/100 [00:04<00:05, 10.24it/s]"
     ]
    },
    {
     "name": "stdout",
     "output_type": "stream",
     "text": [
      "  Query execution time: 0.01 seconds\n",
      "  Query fetch time: 0.00 seconds\n",
      "  Query execution time: 0.01 seconds\n",
      "  Query fetch time: 0.00 seconds\n",
      "  Query execution time: 0.01 seconds\n",
      "  Query fetch time: 0.00 seconds\n"
     ]
    },
    {
     "name": "stderr",
     "output_type": "stream",
     "text": [
      " 42%|████▏     | 42/100 [00:04<00:06,  8.61it/s]"
     ]
    },
    {
     "name": "stdout",
     "output_type": "stream",
     "text": [
      "  Query execution time: 0.01 seconds\n",
      "  Query fetch time: 0.00 seconds\n",
      "  Query execution time: 0.02 seconds\n",
      "  Query fetch time: 0.00 seconds\n"
     ]
    },
    {
     "name": "stderr",
     "output_type": "stream",
     "text": [
      " 45%|████▌     | 45/100 [00:05<00:05, 10.28it/s]"
     ]
    },
    {
     "name": "stdout",
     "output_type": "stream",
     "text": [
      "  Query execution time: 0.02 seconds\n",
      "  Query fetch time: 0.00 seconds\n",
      "  Query execution time: 0.01 seconds\n",
      "  Query fetch time: 0.00 seconds\n",
      "  Query execution time: 0.01 seconds\n",
      "  Query fetch time: 0.00 seconds\n"
     ]
    },
    {
     "name": "stderr",
     "output_type": "stream",
     "text": [
      " 47%|████▋     | 47/100 [00:05<00:06,  8.76it/s]"
     ]
    },
    {
     "name": "stdout",
     "output_type": "stream",
     "text": [
      "  Query execution time: 0.01 seconds\n",
      "  Query fetch time: 0.00 seconds\n",
      "  Query execution time: 0.01 seconds\n",
      "  Query fetch time: 0.00 seconds\n"
     ]
    },
    {
     "name": "stderr",
     "output_type": "stream",
     "text": [
      " 49%|████▉     | 49/100 [00:05<00:06,  8.23it/s]"
     ]
    },
    {
     "name": "stdout",
     "output_type": "stream",
     "text": [
      "  Query execution time: 0.01 seconds\n",
      "  Query fetch time: 0.00 seconds\n",
      "  Query execution time: 0.01 seconds\n",
      "  Query fetch time: 0.00 seconds\n"
     ]
    },
    {
     "name": "stderr",
     "output_type": "stream",
     "text": [
      " 51%|█████     | 51/100 [00:05<00:06,  7.81it/s]"
     ]
    },
    {
     "name": "stdout",
     "output_type": "stream",
     "text": [
      "  Query execution time: 0.01 seconds\n",
      "  Query fetch time: 0.00 seconds\n",
      "  Query execution time: 0.02 seconds\n",
      "  Query fetch time: 0.00 seconds\n"
     ]
    },
    {
     "name": "stderr",
     "output_type": "stream",
     "text": [
      " 54%|█████▍    | 54/100 [00:06<00:05,  8.59it/s]"
     ]
    },
    {
     "name": "stdout",
     "output_type": "stream",
     "text": [
      "  Query execution time: 0.01 seconds\n",
      "  Query fetch time: 0.00 seconds\n",
      "  Query execution time: 0.02 seconds\n",
      "  Query fetch time: 0.00 seconds\n",
      "  Query execution time: 0.02 seconds\n",
      "  Query fetch time: 0.00 seconds\n"
     ]
    },
    {
     "name": "stderr",
     "output_type": "stream",
     "text": [
      " 56%|█████▌    | 56/100 [00:06<00:05,  8.02it/s]"
     ]
    },
    {
     "name": "stdout",
     "output_type": "stream",
     "text": [
      "  Query execution time: 0.02 seconds\n",
      "  Query fetch time: 0.00 seconds\n",
      "  Query execution time: 0.01 seconds\n",
      "  Query fetch time: 0.00 seconds\n"
     ]
    },
    {
     "name": "stderr",
     "output_type": "stream",
     "text": [
      " 58%|█████▊    | 58/100 [00:06<00:05,  7.91it/s]"
     ]
    },
    {
     "name": "stdout",
     "output_type": "stream",
     "text": [
      "  Query execution time: 0.02 seconds\n",
      "  Query fetch time: 0.00 seconds\n",
      "  Query execution time: 0.02 seconds\n",
      "  Query fetch time: 0.00 seconds\n"
     ]
    },
    {
     "name": "stderr",
     "output_type": "stream",
     "text": [
      " 60%|██████    | 60/100 [00:07<00:05,  7.66it/s]"
     ]
    },
    {
     "name": "stdout",
     "output_type": "stream",
     "text": [
      "  Query execution time: 0.02 seconds\n",
      "  Query fetch time: 0.00 seconds\n",
      "  Query execution time: 0.01 seconds\n",
      "  Query fetch time: 0.00 seconds\n",
      "  Query execution time: 0.01 seconds\n",
      "  Query fetch time: 0.00 seconds\n"
     ]
    },
    {
     "name": "stderr",
     "output_type": "stream",
     "text": [
      " 63%|██████▎   | 63/100 [00:07<00:04,  8.43it/s]"
     ]
    },
    {
     "name": "stdout",
     "output_type": "stream",
     "text": [
      "  Query execution time: 0.01 seconds\n",
      "  Query fetch time: 0.00 seconds\n",
      "  Query execution time: 0.01 seconds\n",
      "  Query fetch time: 0.00 seconds\n",
      "  Query execution time: 0.01 seconds\n",
      "  Query fetch time: 0.00 seconds\n"
     ]
    },
    {
     "name": "stderr",
     "output_type": "stream",
     "text": [
      " 67%|██████▋   | 67/100 [00:07<00:03,  9.73it/s]"
     ]
    },
    {
     "name": "stdout",
     "output_type": "stream",
     "text": [
      "  Query execution time: 0.01 seconds\n",
      "  Query fetch time: 0.00 seconds\n",
      "  Query execution time: 0.01 seconds\n",
      "  Query fetch time: 0.00 seconds\n",
      "  Query execution time: 0.01 seconds\n",
      "  Query fetch time: 0.00 seconds\n"
     ]
    },
    {
     "name": "stderr",
     "output_type": "stream",
     "text": [
      " 69%|██████▉   | 69/100 [00:08<00:03,  8.52it/s]"
     ]
    },
    {
     "name": "stdout",
     "output_type": "stream",
     "text": [
      "  Query execution time: 0.01 seconds\n",
      "  Query fetch time: 0.00 seconds\n",
      "  Query execution time: 0.01 seconds\n",
      "  Query fetch time: 0.00 seconds\n"
     ]
    },
    {
     "name": "stderr",
     "output_type": "stream",
     "text": [
      " 71%|███████   | 71/100 [00:08<00:03,  8.25it/s]"
     ]
    },
    {
     "name": "stdout",
     "output_type": "stream",
     "text": [
      "  Query execution time: 0.02 seconds\n",
      "  Query fetch time: 0.00 seconds\n",
      "  Query execution time: 0.02 seconds\n",
      "  Query fetch time: 0.00 seconds\n"
     ]
    },
    {
     "name": "stderr",
     "output_type": "stream",
     "text": [
      " 73%|███████▎  | 73/100 [00:08<00:03,  8.19it/s]"
     ]
    },
    {
     "name": "stdout",
     "output_type": "stream",
     "text": [
      "  Query execution time: 0.01 seconds\n",
      "  Query fetch time: 0.00 seconds\n",
      "  Query execution time: 0.02 seconds\n",
      "  Query fetch time: 0.00 seconds\n"
     ]
    },
    {
     "name": "stderr",
     "output_type": "stream",
     "text": [
      " 76%|███████▌  | 76/100 [00:08<00:02, 10.38it/s]"
     ]
    },
    {
     "name": "stdout",
     "output_type": "stream",
     "text": [
      "  Query execution time: 0.02 seconds\n",
      "  Query fetch time: 0.00 seconds\n",
      "  Query execution time: 0.01 seconds\n",
      "  Query fetch time: 0.00 seconds\n",
      "  Query execution time: 0.01 seconds\n",
      "  Query fetch time: 0.00 seconds\n"
     ]
    },
    {
     "name": "stderr",
     "output_type": "stream",
     "text": [
      " 78%|███████▊  | 78/100 [00:08<00:02, 10.24it/s]"
     ]
    },
    {
     "name": "stdout",
     "output_type": "stream",
     "text": [
      "  Query execution time: 0.03 seconds\n",
      "  Query fetch time: 0.00 seconds\n",
      "  Query execution time: 0.01 seconds\n",
      "  Query fetch time: 0.00 seconds\n",
      "  Query execution time: 0.01 seconds\n",
      "  Query fetch time: 0.00 seconds\n"
     ]
    },
    {
     "name": "stderr",
     "output_type": "stream",
     "text": [
      " 82%|████████▏ | 82/100 [00:09<00:01,  9.75it/s]"
     ]
    },
    {
     "name": "stdout",
     "output_type": "stream",
     "text": [
      "  Query execution time: 0.01 seconds\n",
      "  Query fetch time: 0.00 seconds\n",
      "  Query execution time: 0.01 seconds\n",
      "  Query fetch time: 0.00 seconds\n",
      "  Query execution time: 0.02 seconds\n",
      "  Query fetch time: 0.00 seconds\n"
     ]
    },
    {
     "name": "stderr",
     "output_type": "stream",
     "text": [
      " 84%|████████▍ | 84/100 [00:09<00:01, 10.23it/s]"
     ]
    },
    {
     "name": "stdout",
     "output_type": "stream",
     "text": [
      "  Query execution time: 0.01 seconds\n",
      "  Query fetch time: 0.00 seconds\n",
      "  Query execution time: 0.02 seconds\n",
      "  Query fetch time: 0.00 seconds\n"
     ]
    },
    {
     "name": "stderr",
     "output_type": "stream",
     "text": [
      " 86%|████████▌ | 86/100 [00:09<00:01,  9.55it/s]"
     ]
    },
    {
     "name": "stdout",
     "output_type": "stream",
     "text": [
      "  Query execution time: 0.02 seconds\n",
      "  Query fetch time: 0.00 seconds\n",
      "  Query execution time: 0.01 seconds\n",
      "  Query fetch time: 0.00 seconds\n"
     ]
    },
    {
     "name": "stderr",
     "output_type": "stream",
     "text": [
      " 88%|████████▊ | 88/100 [00:10<00:01,  8.89it/s]"
     ]
    },
    {
     "name": "stdout",
     "output_type": "stream",
     "text": [
      "  Query execution time: 0.02 seconds\n",
      "  Query fetch time: 0.00 seconds\n",
      "  Query execution time: 0.01 seconds\n",
      "  Query fetch time: 0.00 seconds\n",
      "  Query execution time: 0.01 seconds\n",
      "  Query fetch time: 0.00 seconds\n"
     ]
    },
    {
     "name": "stderr",
     "output_type": "stream",
     "text": [
      " 93%|█████████▎| 93/100 [00:10<00:00, 13.91it/s]"
     ]
    },
    {
     "name": "stdout",
     "output_type": "stream",
     "text": [
      "  Query execution time: 0.01 seconds\n",
      "  Query fetch time: 0.00 seconds\n",
      "  Query execution time: 0.01 seconds\n",
      "  Query fetch time: 0.00 seconds\n",
      "  Query execution time: 0.01 seconds\n",
      "  Query fetch time: 0.00 seconds\n",
      "  Query execution time: 0.01 seconds\n",
      "  Query fetch time: 0.00 seconds\n",
      "  Query execution time: 0.01 seconds\n",
      "  Query fetch time: 0.00 seconds\n"
     ]
    },
    {
     "name": "stderr",
     "output_type": "stream",
     "text": [
      " 95%|█████████▌| 95/100 [00:10<00:00, 13.53it/s]"
     ]
    },
    {
     "name": "stdout",
     "output_type": "stream",
     "text": [
      "  Query execution time: 0.01 seconds\n",
      "  Query fetch time: 0.00 seconds\n",
      "  Query execution time: 0.02 seconds\n",
      "  Query fetch time: 0.00 seconds\n"
     ]
    },
    {
     "name": "stderr",
     "output_type": "stream",
     "text": [
      " 99%|█████████▉| 99/100 [00:10<00:00, 10.57it/s]"
     ]
    },
    {
     "name": "stdout",
     "output_type": "stream",
     "text": [
      "  Query execution time: 0.01 seconds\n",
      "  Query fetch time: 0.00 seconds\n",
      "  Query execution time: 0.01 seconds\n",
      "  Query fetch time: 0.00 seconds\n",
      "  Query execution time: 0.02 seconds\n",
      "  Query fetch time: 0.00 seconds\n"
     ]
    },
    {
     "name": "stderr",
     "output_type": "stream",
     "text": [
      "100%|██████████| 100/100 [00:11<00:00,  9.02it/s]\n"
     ]
    },
    {
     "name": "stdout",
     "output_type": "stream",
     "text": [
      "  Query execution time: 0.01 seconds\n",
      "  Query fetch time: 0.00 seconds\n",
      "Embedding model: BAAI/bge-small-en, Enricher: add_title\n"
     ]
    },
    {
     "name": "stderr",
     "output_type": "stream",
     "text": [
      "  2%|▏         | 2/100 [00:00<00:15,  6.28it/s]"
     ]
    },
    {
     "name": "stdout",
     "output_type": "stream",
     "text": [
      "  Query execution time: 0.01 seconds\n",
      "  Query fetch time: 0.00 seconds\n",
      "  Query execution time: 0.02 seconds\n",
      "  Query fetch time: 0.00 seconds\n"
     ]
    },
    {
     "name": "stderr",
     "output_type": "stream",
     "text": [
      "  4%|▍         | 4/100 [00:00<00:08, 10.92it/s]"
     ]
    },
    {
     "name": "stdout",
     "output_type": "stream",
     "text": [
      "  Query execution time: 0.01 seconds\n",
      "  Query fetch time: 0.00 seconds\n",
      "  Query execution time: 0.01 seconds\n",
      "  Query fetch time: 0.00 seconds\n",
      "  Query execution time: 0.01 seconds\n",
      "  Query fetch time: 0.00 seconds\n",
      "  Query execution time: 0.01 seconds\n",
      "  Query fetch time: 0.00 seconds\n"
     ]
    },
    {
     "name": "stderr",
     "output_type": "stream",
     "text": [
      "  9%|▉         | 9/100 [00:00<00:08, 10.97it/s]"
     ]
    },
    {
     "name": "stdout",
     "output_type": "stream",
     "text": [
      "  Query execution time: 0.02 seconds\n",
      "  Query fetch time: 0.00 seconds\n",
      "  Query execution time: 0.01 seconds\n",
      "  Query fetch time: 0.00 seconds\n",
      "  Query execution time: 0.01 seconds\n",
      "  Query fetch time: 0.00 seconds\n"
     ]
    },
    {
     "name": "stderr",
     "output_type": "stream",
     "text": [
      " 11%|█         | 11/100 [00:01<00:09,  9.17it/s]"
     ]
    },
    {
     "name": "stdout",
     "output_type": "stream",
     "text": [
      "  Query execution time: 0.01 seconds\n",
      "  Query fetch time: 0.00 seconds\n",
      "  Query execution time: 0.02 seconds\n",
      "  Query fetch time: 0.00 seconds\n",
      "  Query execution time: 0.01 seconds\n",
      "  Query fetch time: 0.00 seconds\n"
     ]
    },
    {
     "name": "stderr",
     "output_type": "stream",
     "text": [
      " 15%|█▌        | 15/100 [00:01<00:06, 12.68it/s]"
     ]
    },
    {
     "name": "stdout",
     "output_type": "stream",
     "text": [
      "  Query execution time: 0.01 seconds\n",
      "  Query fetch time: 0.00 seconds\n",
      "  Query execution time: 0.01 seconds\n",
      "  Query fetch time: 0.00 seconds\n",
      "  Query execution time: 0.01 seconds\n",
      "  Query fetch time: 0.00 seconds\n"
     ]
    },
    {
     "name": "stderr",
     "output_type": "stream",
     "text": [
      " 17%|█▋        | 17/100 [00:01<00:07, 11.49it/s]"
     ]
    },
    {
     "name": "stdout",
     "output_type": "stream",
     "text": [
      "  Query execution time: 0.01 seconds\n",
      "  Query fetch time: 0.00 seconds\n",
      "  Query execution time: 0.01 seconds\n",
      "  Query fetch time: 0.00 seconds\n",
      "  Query execution time: 0.01 seconds\n",
      "  Query fetch time: 0.00 seconds\n"
     ]
    },
    {
     "name": "stderr",
     "output_type": "stream",
     "text": [
      " 21%|██        | 21/100 [00:01<00:06, 12.70it/s]"
     ]
    },
    {
     "name": "stdout",
     "output_type": "stream",
     "text": [
      "  Query execution time: 0.02 seconds\n",
      "  Query fetch time: 0.00 seconds\n",
      "  Query execution time: 0.01 seconds\n",
      "  Query fetch time: 0.00 seconds\n",
      "  Query execution time: 0.01 seconds\n",
      "  Query fetch time: 0.00 seconds\n",
      "  Query execution time: 0.01 seconds\n",
      "  Query fetch time: 0.00 seconds\n"
     ]
    },
    {
     "name": "stderr",
     "output_type": "stream",
     "text": [
      " 25%|██▌       | 25/100 [00:02<00:05, 14.71it/s]"
     ]
    },
    {
     "name": "stdout",
     "output_type": "stream",
     "text": [
      "  Query execution time: 0.02 seconds\n",
      "  Query fetch time: 0.00 seconds\n",
      "  Query execution time: 0.01 seconds\n",
      "  Query fetch time: 0.00 seconds\n",
      "  Query execution time: 0.01 seconds\n",
      "  Query fetch time: 0.00 seconds\n"
     ]
    },
    {
     "name": "stderr",
     "output_type": "stream",
     "text": [
      " 30%|███       | 30/100 [00:02<00:04, 15.21it/s]"
     ]
    },
    {
     "name": "stdout",
     "output_type": "stream",
     "text": [
      "  Query execution time: 0.01 seconds\n",
      "  Query fetch time: 0.00 seconds\n",
      "  Query execution time: 0.01 seconds\n",
      "  Query fetch time: 0.00 seconds\n",
      "  Query execution time: 0.01 seconds\n",
      "  Query fetch time: 0.00 seconds\n",
      "  Query execution time: 0.01 seconds\n",
      "  Query fetch time: 0.00 seconds\n",
      "  Query execution time: 0.01 seconds\n",
      "  Query fetch time: 0.00 seconds\n"
     ]
    },
    {
     "name": "stderr",
     "output_type": "stream",
     "text": [
      " 34%|███▍      | 34/100 [00:02<00:04, 14.69it/s]"
     ]
    },
    {
     "name": "stdout",
     "output_type": "stream",
     "text": [
      "  Query execution time: 0.01 seconds\n",
      "  Query fetch time: 0.00 seconds\n",
      "  Query execution time: 0.01 seconds\n",
      "  Query fetch time: 0.00 seconds\n",
      "  Query execution time: 0.01 seconds\n",
      "  Query fetch time: 0.00 seconds\n",
      "  Query execution time: 0.01 seconds\n",
      "  Query fetch time: 0.00 seconds\n",
      "  Query execution time: 0.01 seconds\n",
      "  Query fetch time: 0.00 seconds\n"
     ]
    },
    {
     "name": "stderr",
     "output_type": "stream",
     "text": [
      " 39%|███▉      | 39/100 [00:02<00:03, 17.30it/s]"
     ]
    },
    {
     "name": "stdout",
     "output_type": "stream",
     "text": [
      "  Query execution time: 0.01 seconds\n",
      "  Query fetch time: 0.00 seconds\n",
      "  Query execution time: 0.01 seconds\n",
      "  Query fetch time: 0.00 seconds\n",
      "  Query execution time: 0.01 seconds\n",
      "  Query fetch time: 0.00 seconds\n",
      "  Query execution time: 0.01 seconds\n",
      "  Query fetch time: 0.00 seconds\n"
     ]
    },
    {
     "name": "stderr",
     "output_type": "stream",
     "text": [
      " 44%|████▍     | 44/100 [00:03<00:03, 16.75it/s]"
     ]
    },
    {
     "name": "stdout",
     "output_type": "stream",
     "text": [
      "  Query execution time: 0.01 seconds\n",
      "  Query fetch time: 0.00 seconds\n",
      "  Query execution time: 0.01 seconds\n",
      "  Query fetch time: 0.00 seconds\n",
      "  Query execution time: 0.01 seconds\n",
      "  Query fetch time: 0.00 seconds\n",
      "  Query execution time: 0.01 seconds\n",
      "  Query fetch time: 0.00 seconds\n",
      "  Query execution time: 0.01 seconds\n",
      "  Query fetch time: 0.00 seconds\n"
     ]
    },
    {
     "name": "stderr",
     "output_type": "stream",
     "text": [
      " 46%|████▌     | 46/100 [00:03<00:03, 17.36it/s]"
     ]
    },
    {
     "name": "stdout",
     "output_type": "stream",
     "text": [
      "  Query execution time: 0.01 seconds\n",
      "  Query fetch time: 0.00 seconds\n",
      "  Query execution time: 0.01 seconds\n",
      "  Query fetch time: 0.00 seconds\n",
      "  Query execution time: 0.01 seconds\n",
      "  Query fetch time: 0.00 seconds\n",
      "  Query execution time: 0.01 seconds\n",
      "  Query fetch time: 0.00 seconds\n"
     ]
    },
    {
     "name": "stderr",
     "output_type": "stream",
     "text": [
      " 52%|█████▏    | 52/100 [00:03<00:02, 17.22it/s]"
     ]
    },
    {
     "name": "stdout",
     "output_type": "stream",
     "text": [
      "  Query execution time: 0.01 seconds\n",
      "  Query fetch time: 0.00 seconds\n",
      "  Query execution time: 0.01 seconds\n",
      "  Query fetch time: 0.00 seconds\n",
      "  Query execution time: 0.01 seconds\n",
      "  Query fetch time: 0.00 seconds\n",
      "  Query execution time: 0.01 seconds\n",
      "  Query fetch time: 0.00 seconds\n",
      "  Query execution time: 0.01 seconds\n",
      "  Query fetch time: 0.00 seconds\n"
     ]
    },
    {
     "name": "stderr",
     "output_type": "stream",
     "text": [
      " 57%|█████▋    | 57/100 [00:04<00:02, 17.13it/s]"
     ]
    },
    {
     "name": "stdout",
     "output_type": "stream",
     "text": [
      "  Query execution time: 0.01 seconds\n",
      "  Query fetch time: 0.00 seconds\n",
      "  Query execution time: 0.01 seconds\n",
      "  Query fetch time: 0.00 seconds\n",
      "  Query execution time: 0.02 seconds\n",
      "  Query fetch time: 0.00 seconds\n",
      "  Query execution time: 0.01 seconds\n",
      "  Query fetch time: 0.00 seconds\n"
     ]
    },
    {
     "name": "stderr",
     "output_type": "stream",
     "text": [
      " 62%|██████▏   | 62/100 [00:04<00:02, 16.90it/s]"
     ]
    },
    {
     "name": "stdout",
     "output_type": "stream",
     "text": [
      "  Query execution time: 0.01 seconds\n",
      "  Query fetch time: 0.00 seconds\n",
      "  Query execution time: 0.01 seconds\n",
      "  Query fetch time: 0.00 seconds\n",
      "  Query execution time: 0.01 seconds\n",
      "  Query fetch time: 0.00 seconds\n",
      "  Query execution time: 0.01 seconds\n",
      "  Query fetch time: 0.00 seconds\n",
      "  Query execution time: 0.01 seconds\n",
      "  Query fetch time: 0.00 seconds\n"
     ]
    },
    {
     "name": "stderr",
     "output_type": "stream",
     "text": [
      " 67%|██████▋   | 67/100 [00:04<00:02, 16.38it/s]"
     ]
    },
    {
     "name": "stdout",
     "output_type": "stream",
     "text": [
      "  Query execution time: 0.01 seconds\n",
      "  Query fetch time: 0.00 seconds\n",
      "  Query execution time: 0.01 seconds\n",
      "  Query fetch time: 0.00 seconds\n",
      "  Query execution time: 0.01 seconds\n",
      "  Query fetch time: 0.00 seconds\n",
      "  Query execution time: 0.01 seconds\n",
      "  Query fetch time: 0.00 seconds\n",
      "  Query execution time: 0.01 seconds\n",
      "  Query fetch time: 0.00 seconds\n"
     ]
    },
    {
     "name": "stderr",
     "output_type": "stream",
     "text": [
      " 71%|███████   | 71/100 [00:05<00:01, 15.07it/s]"
     ]
    },
    {
     "name": "stdout",
     "output_type": "stream",
     "text": [
      "  Query execution time: 0.02 seconds\n",
      "  Query fetch time: 0.00 seconds\n",
      "  Query execution time: 0.01 seconds\n",
      "  Query fetch time: 0.00 seconds\n",
      "  Query execution time: 0.01 seconds\n",
      "  Query fetch time: 0.00 seconds\n",
      "  Query execution time: 0.01 seconds\n",
      "  Query fetch time: 0.00 seconds\n"
     ]
    },
    {
     "name": "stderr",
     "output_type": "stream",
     "text": [
      " 74%|███████▍  | 74/100 [00:05<00:01, 16.52it/s]"
     ]
    },
    {
     "name": "stdout",
     "output_type": "stream",
     "text": [
      "  Query execution time: 0.01 seconds\n",
      "  Query fetch time: 0.00 seconds\n",
      "  Query execution time: 0.01 seconds\n",
      "  Query fetch time: 0.00 seconds\n",
      "  Query execution time: 0.02 seconds\n",
      "  Query fetch time: 0.00 seconds\n",
      "  Query execution time: 0.01 seconds\n",
      "  Query fetch time: 0.00 seconds\n",
      "  Query execution time: 0.01 seconds\n",
      "  Query fetch time: 0.00 seconds\n"
     ]
    },
    {
     "name": "stderr",
     "output_type": "stream",
     "text": [
      " 80%|████████  | 80/100 [00:05<00:01, 18.60it/s]"
     ]
    },
    {
     "name": "stdout",
     "output_type": "stream",
     "text": [
      "  Query execution time: 0.01 seconds\n",
      "  Query fetch time: 0.00 seconds\n",
      "  Query execution time: 0.01 seconds\n",
      "  Query fetch time: 0.00 seconds\n",
      "  Query execution time: 0.01 seconds\n",
      "  Query fetch time: 0.00 seconds\n",
      "  Query execution time: 0.01 seconds\n",
      "  Query fetch time: 0.00 seconds\n",
      "  Query execution time: 0.01 seconds\n",
      "  Query fetch time: 0.00 seconds\n"
     ]
    },
    {
     "name": "stderr",
     "output_type": "stream",
     "text": [
      " 86%|████████▌ | 86/100 [00:05<00:00, 19.83it/s]"
     ]
    },
    {
     "name": "stdout",
     "output_type": "stream",
     "text": [
      "  Query execution time: 0.01 seconds\n",
      "  Query fetch time: 0.00 seconds\n",
      "  Query execution time: 0.01 seconds\n",
      "  Query fetch time: 0.00 seconds\n",
      "  Query execution time: 0.01 seconds\n",
      "  Query fetch time: 0.00 seconds\n",
      "  Query execution time: 0.01 seconds\n",
      "  Query fetch time: 0.00 seconds\n",
      "  Query execution time: 0.01 seconds\n",
      "  Query fetch time: 0.00 seconds\n"
     ]
    },
    {
     "name": "stderr",
     "output_type": "stream",
     "text": [
      " 89%|████████▉ | 89/100 [00:05<00:00, 19.97it/s]"
     ]
    },
    {
     "name": "stdout",
     "output_type": "stream",
     "text": [
      "  Query execution time: 0.01 seconds\n",
      "  Query fetch time: 0.00 seconds\n",
      "  Query execution time: 0.01 seconds\n",
      "  Query fetch time: 0.00 seconds\n",
      "  Query execution time: 0.01 seconds\n",
      "  Query fetch time: 0.00 seconds\n",
      "  Query execution time: 0.01 seconds\n",
      "  Query fetch time: 0.00 seconds\n"
     ]
    },
    {
     "name": "stderr",
     "output_type": "stream",
     "text": [
      " 94%|█████████▍| 94/100 [00:06<00:00, 16.57it/s]"
     ]
    },
    {
     "name": "stdout",
     "output_type": "stream",
     "text": [
      "  Query execution time: 0.01 seconds\n",
      "  Query fetch time: 0.00 seconds\n",
      "  Query execution time: 0.01 seconds\n",
      "  Query fetch time: 0.00 seconds\n",
      "  Query execution time: 0.01 seconds\n",
      "  Query fetch time: 0.00 seconds\n",
      "  Query execution time: 0.01 seconds\n",
      "  Query fetch time: 0.00 seconds\n"
     ]
    },
    {
     "name": "stderr",
     "output_type": "stream",
     "text": [
      " 97%|█████████▋| 97/100 [00:06<00:00, 17.60it/s]"
     ]
    },
    {
     "name": "stdout",
     "output_type": "stream",
     "text": [
      "  Query execution time: 0.01 seconds\n",
      "  Query fetch time: 0.00 seconds\n",
      "  Query execution time: 0.01 seconds\n",
      "  Query fetch time: 0.00 seconds\n",
      "  Query execution time: 0.01 seconds\n",
      "  Query fetch time: 0.00 seconds\n",
      "  Query execution time: 0.01 seconds\n",
      "  Query fetch time: 0.00 seconds\n"
     ]
    },
    {
     "name": "stderr",
     "output_type": "stream",
     "text": [
      "100%|██████████| 100/100 [00:06<00:00, 15.21it/s]\n"
     ]
    },
    {
     "name": "stdout",
     "output_type": "stream",
     "text": [
      "  Query execution time: 0.01 seconds\n",
      "  Query fetch time: 0.00 seconds\n",
      "  Query execution time: 0.01 seconds\n",
      "  Query fetch time: 0.00 seconds\n",
      "Embedding model: BAAI/bge-small-en, Enricher: add_title_and_abstract\n"
     ]
    },
    {
     "name": "stderr",
     "output_type": "stream",
     "text": [
      "  2%|▏         | 2/100 [00:00<00:15,  6.39it/s]"
     ]
    },
    {
     "name": "stdout",
     "output_type": "stream",
     "text": [
      "  Query execution time: 0.01 seconds\n",
      "  Query fetch time: 0.00 seconds\n",
      "  Query execution time: 0.01 seconds\n",
      "  Query fetch time: 0.00 seconds\n",
      "  Query execution time: 0.01 seconds\n",
      "  Query fetch time: 0.00 seconds\n"
     ]
    },
    {
     "name": "stderr",
     "output_type": "stream",
     "text": [
      "  4%|▍         | 4/100 [00:00<00:08, 10.67it/s]"
     ]
    },
    {
     "name": "stdout",
     "output_type": "stream",
     "text": [
      "  Query execution time: 0.01 seconds\n",
      "  Query fetch time: 0.00 seconds\n",
      "  Query execution time: 0.02 seconds\n",
      "  Query fetch time: 0.00 seconds\n"
     ]
    },
    {
     "name": "stderr",
     "output_type": "stream",
     "text": [
      "  8%|▊         | 8/100 [00:00<00:07, 12.38it/s]"
     ]
    },
    {
     "name": "stdout",
     "output_type": "stream",
     "text": [
      "  Query execution time: 0.01 seconds\n",
      "  Query fetch time: 0.00 seconds\n",
      "  Query execution time: 0.01 seconds\n",
      "  Query fetch time: 0.00 seconds\n",
      "  Query execution time: 0.01 seconds\n",
      "  Query fetch time: 0.00 seconds\n"
     ]
    },
    {
     "name": "stderr",
     "output_type": "stream",
     "text": [
      " 10%|█         | 10/100 [00:01<00:09,  9.53it/s]"
     ]
    },
    {
     "name": "stdout",
     "output_type": "stream",
     "text": [
      "  Query execution time: 0.02 seconds\n",
      "  Query fetch time: 0.00 seconds\n",
      "  Query execution time: 0.01 seconds\n",
      "  Query fetch time: 0.00 seconds\n"
     ]
    },
    {
     "name": "stderr",
     "output_type": "stream",
     "text": [
      " 12%|█▏        | 12/100 [00:01<00:10,  8.53it/s]"
     ]
    },
    {
     "name": "stdout",
     "output_type": "stream",
     "text": [
      "  Query execution time: 0.01 seconds\n",
      "  Query fetch time: 0.00 seconds\n",
      "  Query execution time: 0.01 seconds\n",
      "  Query fetch time: 0.00 seconds\n"
     ]
    },
    {
     "name": "stderr",
     "output_type": "stream",
     "text": [
      " 14%|█▍        | 14/100 [00:01<00:11,  7.66it/s]"
     ]
    },
    {
     "name": "stdout",
     "output_type": "stream",
     "text": [
      "  Query execution time: 0.01 seconds\n",
      "  Query fetch time: 0.00 seconds\n",
      "  Query execution time: 0.01 seconds\n",
      "  Query fetch time: 0.00 seconds\n"
     ]
    },
    {
     "name": "stderr",
     "output_type": "stream",
     "text": [
      " 16%|█▌        | 16/100 [00:01<00:09,  8.43it/s]"
     ]
    },
    {
     "name": "stdout",
     "output_type": "stream",
     "text": [
      "  Query execution time: 0.01 seconds\n",
      "  Query fetch time: 0.00 seconds\n",
      "  Query execution time: 0.01 seconds\n",
      "  Query fetch time: 0.00 seconds\n"
     ]
    },
    {
     "name": "stderr",
     "output_type": "stream",
     "text": [
      " 18%|█▊        | 18/100 [00:02<00:10,  7.57it/s]"
     ]
    },
    {
     "name": "stdout",
     "output_type": "stream",
     "text": [
      "  Query execution time: 0.02 seconds\n",
      "  Query fetch time: 0.00 seconds\n",
      "  Query execution time: 0.01 seconds\n",
      "  Query fetch time: 0.00 seconds\n"
     ]
    },
    {
     "name": "stderr",
     "output_type": "stream",
     "text": [
      " 21%|██        | 21/100 [00:02<00:10,  7.87it/s]"
     ]
    },
    {
     "name": "stdout",
     "output_type": "stream",
     "text": [
      "  Query execution time: 0.01 seconds\n",
      "  Query fetch time: 0.00 seconds\n",
      "  Query execution time: 0.01 seconds\n",
      "  Query fetch time: 0.00 seconds\n",
      "  Query execution time: 0.01 seconds\n",
      "  Query fetch time: 0.00 seconds\n"
     ]
    },
    {
     "name": "stderr",
     "output_type": "stream",
     "text": [
      " 24%|██▍       | 24/100 [00:02<00:07,  9.88it/s]"
     ]
    },
    {
     "name": "stdout",
     "output_type": "stream",
     "text": [
      "  Query execution time: 0.01 seconds\n",
      "  Query fetch time: 0.00 seconds\n",
      "  Query execution time: 0.01 seconds\n",
      "  Query fetch time: 0.00 seconds\n",
      "  Query execution time: 0.01 seconds\n",
      "  Query fetch time: 0.00 seconds\n",
      "  Query execution time: 0.01 seconds\n",
      "  Query fetch time: 0.00 seconds\n"
     ]
    },
    {
     "name": "stderr",
     "output_type": "stream",
     "text": [
      " 28%|██▊       | 28/100 [00:03<00:07, 10.08it/s]"
     ]
    },
    {
     "name": "stdout",
     "output_type": "stream",
     "text": [
      "  Query execution time: 0.01 seconds\n",
      "  Query fetch time: 0.00 seconds\n",
      "  Query execution time: 0.01 seconds\n",
      "  Query fetch time: 0.00 seconds\n",
      "  Query execution time: 0.01 seconds\n",
      "  Query fetch time: 0.00 seconds\n"
     ]
    },
    {
     "name": "stderr",
     "output_type": "stream",
     "text": [
      " 30%|███       | 30/100 [00:03<00:07,  9.97it/s]"
     ]
    },
    {
     "name": "stdout",
     "output_type": "stream",
     "text": [
      "  Query execution time: 0.01 seconds\n",
      "  Query fetch time: 0.00 seconds\n",
      "  Query execution time: 0.01 seconds\n",
      "  Query fetch time: 0.00 seconds\n"
     ]
    },
    {
     "name": "stderr",
     "output_type": "stream",
     "text": [
      " 32%|███▏      | 32/100 [00:03<00:07,  9.65it/s]"
     ]
    },
    {
     "name": "stdout",
     "output_type": "stream",
     "text": [
      "  Query execution time: 0.01 seconds\n",
      "  Query fetch time: 0.00 seconds\n",
      "  Query execution time: 0.01 seconds\n",
      "  Query fetch time: 0.00 seconds\n"
     ]
    },
    {
     "name": "stderr",
     "output_type": "stream",
     "text": [
      " 34%|███▍      | 34/100 [00:03<00:07,  8.38it/s]"
     ]
    },
    {
     "name": "stdout",
     "output_type": "stream",
     "text": [
      "  Query execution time: 0.01 seconds\n",
      "  Query fetch time: 0.00 seconds\n",
      "  Query execution time: 0.01 seconds\n",
      "  Query fetch time: 0.00 seconds\n"
     ]
    },
    {
     "name": "stderr",
     "output_type": "stream",
     "text": [
      " 36%|███▌      | 36/100 [00:04<00:06, 10.30it/s]"
     ]
    },
    {
     "name": "stdout",
     "output_type": "stream",
     "text": [
      "  Query execution time: 0.01 seconds\n",
      "  Query fetch time: 0.00 seconds\n",
      "  Query execution time: 0.01 seconds\n",
      "  Query fetch time: 0.00 seconds\n"
     ]
    },
    {
     "name": "stderr",
     "output_type": "stream",
     "text": [
      " 38%|███▊      | 38/100 [00:04<00:06, 10.08it/s]"
     ]
    },
    {
     "name": "stdout",
     "output_type": "stream",
     "text": [
      "  Query execution time: 0.01 seconds\n",
      "  Query fetch time: 0.00 seconds\n",
      "  Query execution time: 0.01 seconds\n",
      "  Query fetch time: 0.00 seconds\n",
      "  Query execution time: 0.01 seconds\n",
      "  Query fetch time: 0.00 seconds\n"
     ]
    },
    {
     "name": "stderr",
     "output_type": "stream",
     "text": [
      " 40%|████      | 40/100 [00:04<00:05, 10.00it/s]"
     ]
    },
    {
     "name": "stdout",
     "output_type": "stream",
     "text": [
      "  Query execution time: 0.02 seconds\n",
      "  Query fetch time: 0.00 seconds\n",
      "  Query execution time: 0.01 seconds\n",
      "  Query fetch time: 0.00 seconds\n"
     ]
    },
    {
     "name": "stderr",
     "output_type": "stream",
     "text": [
      " 43%|████▎     | 43/100 [00:04<00:07,  8.06it/s]"
     ]
    },
    {
     "name": "stdout",
     "output_type": "stream",
     "text": [
      "  Query execution time: 0.02 seconds\n",
      "  Query fetch time: 0.00 seconds\n",
      "  Query execution time: 0.01 seconds\n",
      "  Query fetch time: 0.00 seconds\n"
     ]
    },
    {
     "name": "stderr",
     "output_type": "stream",
     "text": [
      " 45%|████▌     | 45/100 [00:04<00:05, 10.12it/s]"
     ]
    },
    {
     "name": "stdout",
     "output_type": "stream",
     "text": [
      "  Query execution time: 0.01 seconds\n",
      "  Query fetch time: 0.00 seconds\n",
      "  Query execution time: 0.01 seconds\n",
      "  Query fetch time: 0.00 seconds\n"
     ]
    },
    {
     "name": "stderr",
     "output_type": "stream",
     "text": [
      " 47%|████▋     | 47/100 [00:05<00:06,  8.57it/s]"
     ]
    },
    {
     "name": "stdout",
     "output_type": "stream",
     "text": [
      "  Query execution time: 0.01 seconds\n",
      "  Query fetch time: 0.00 seconds\n",
      "  Query execution time: 0.02 seconds\n",
      "  Query fetch time: 0.00 seconds\n"
     ]
    },
    {
     "name": "stderr",
     "output_type": "stream",
     "text": [
      " 49%|████▉     | 49/100 [00:05<00:05,  8.91it/s]"
     ]
    },
    {
     "name": "stdout",
     "output_type": "stream",
     "text": [
      "  Query execution time: 0.01 seconds\n",
      "  Query fetch time: 0.00 seconds\n",
      "  Query execution time: 0.01 seconds\n",
      "  Query fetch time: 0.00 seconds\n"
     ]
    },
    {
     "name": "stderr",
     "output_type": "stream",
     "text": [
      " 51%|█████     | 51/100 [00:05<00:06,  8.11it/s]"
     ]
    },
    {
     "name": "stdout",
     "output_type": "stream",
     "text": [
      "  Query execution time: 0.01 seconds\n",
      "  Query fetch time: 0.00 seconds\n",
      "  Query execution time: 0.01 seconds\n",
      "  Query fetch time: 0.00 seconds\n"
     ]
    },
    {
     "name": "stderr",
     "output_type": "stream",
     "text": [
      " 52%|█████▏    | 52/100 [00:05<00:06,  7.36it/s]"
     ]
    },
    {
     "name": "stdout",
     "output_type": "stream",
     "text": [
      "  Query execution time: 0.01 seconds\n",
      "  Query fetch time: 0.00 seconds\n",
      "  Query execution time: 0.01 seconds\n",
      "  Query fetch time: 0.00 seconds\n"
     ]
    },
    {
     "name": "stderr",
     "output_type": "stream",
     "text": [
      " 55%|█████▌    | 55/100 [00:06<00:05,  7.75it/s]"
     ]
    },
    {
     "name": "stdout",
     "output_type": "stream",
     "text": [
      "  Query execution time: 0.02 seconds\n",
      "  Query fetch time: 0.00 seconds\n",
      "  Query execution time: 0.01 seconds\n",
      "  Query fetch time: 0.00 seconds\n",
      "  Query execution time: 0.01 seconds\n",
      "  Query fetch time: 0.00 seconds\n"
     ]
    },
    {
     "name": "stderr",
     "output_type": "stream",
     "text": [
      " 59%|█████▉    | 59/100 [00:06<00:04, 10.06it/s]"
     ]
    },
    {
     "name": "stdout",
     "output_type": "stream",
     "text": [
      "  Query execution time: 0.01 seconds\n",
      "  Query fetch time: 0.00 seconds\n",
      "  Query execution time: 0.01 seconds\n",
      "  Query fetch time: 0.00 seconds\n",
      "  Query execution time: 0.01 seconds\n",
      "  Query fetch time: 0.00 seconds\n"
     ]
    },
    {
     "name": "stderr",
     "output_type": "stream",
     "text": [
      " 61%|██████    | 61/100 [00:06<00:03, 11.95it/s]"
     ]
    },
    {
     "name": "stdout",
     "output_type": "stream",
     "text": [
      "  Query execution time: 0.01 seconds\n",
      "  Query fetch time: 0.00 seconds\n",
      "  Query execution time: 0.01 seconds\n",
      "  Query fetch time: 0.00 seconds\n"
     ]
    },
    {
     "name": "stderr",
     "output_type": "stream",
     "text": [
      " 63%|██████▎   | 63/100 [00:07<00:03,  9.51it/s]"
     ]
    },
    {
     "name": "stdout",
     "output_type": "stream",
     "text": [
      "  Query execution time: 0.01 seconds\n",
      "  Query fetch time: 0.00 seconds\n",
      "  Query execution time: 0.01 seconds\n",
      "  Query fetch time: 0.00 seconds\n"
     ]
    },
    {
     "name": "stderr",
     "output_type": "stream",
     "text": [
      " 65%|██████▌   | 65/100 [00:07<00:03,  9.61it/s]"
     ]
    },
    {
     "name": "stdout",
     "output_type": "stream",
     "text": [
      "  Query execution time: 0.01 seconds\n",
      "  Query fetch time: 0.00 seconds\n",
      "  Query execution time: 0.01 seconds\n",
      "  Query fetch time: 0.00 seconds\n"
     ]
    },
    {
     "name": "stderr",
     "output_type": "stream",
     "text": [
      " 67%|██████▋   | 67/100 [00:07<00:03,  9.61it/s]"
     ]
    },
    {
     "name": "stdout",
     "output_type": "stream",
     "text": [
      "  Query execution time: 0.01 seconds\n",
      "  Query fetch time: 0.00 seconds\n",
      "  Query execution time: 0.01 seconds\n",
      "  Query fetch time: 0.00 seconds\n"
     ]
    },
    {
     "name": "stderr",
     "output_type": "stream",
     "text": [
      " 69%|██████▉   | 69/100 [00:07<00:03,  9.61it/s]"
     ]
    },
    {
     "name": "stdout",
     "output_type": "stream",
     "text": [
      "  Query execution time: 0.01 seconds\n",
      "  Query fetch time: 0.00 seconds\n",
      "  Query execution time: 0.02 seconds\n",
      "  Query fetch time: 0.00 seconds\n"
     ]
    },
    {
     "name": "stderr",
     "output_type": "stream",
     "text": [
      " 71%|███████   | 71/100 [00:07<00:02,  9.69it/s]"
     ]
    },
    {
     "name": "stdout",
     "output_type": "stream",
     "text": [
      "  Query execution time: 0.01 seconds\n",
      "  Query fetch time: 0.00 seconds\n",
      "  Query execution time: 0.01 seconds\n",
      "  Query fetch time: 0.00 seconds\n",
      "  Query execution time: 0.01 seconds\n",
      "  Query fetch time: 0.00 seconds\n",
      "  Query execution time: 0.01 seconds\n",
      "  Query fetch time: 0.00 seconds\n"
     ]
    },
    {
     "name": "stderr",
     "output_type": "stream",
     "text": [
      " 74%|███████▍  | 74/100 [00:08<00:02, 10.67it/s]"
     ]
    },
    {
     "name": "stdout",
     "output_type": "stream",
     "text": [
      "  Query execution time: 0.01 seconds\n",
      "  Query fetch time: 0.00 seconds\n",
      "  Query execution time: 0.02 seconds\n",
      "  Query fetch time: 0.00 seconds\n"
     ]
    },
    {
     "name": "stderr",
     "output_type": "stream",
     "text": [
      " 76%|███████▌  | 76/100 [00:08<00:02, 10.32it/s]"
     ]
    },
    {
     "name": "stdout",
     "output_type": "stream",
     "text": [
      "  Query execution time: 0.01 seconds\n",
      "  Query fetch time: 0.00 seconds\n",
      "  Query execution time: 0.01 seconds\n",
      "  Query fetch time: 0.00 seconds\n"
     ]
    },
    {
     "name": "stderr",
     "output_type": "stream",
     "text": [
      " 80%|████████  | 80/100 [00:08<00:01, 10.25it/s]"
     ]
    },
    {
     "name": "stdout",
     "output_type": "stream",
     "text": [
      "  Query execution time: 0.02 seconds\n",
      "  Query fetch time: 0.00 seconds\n",
      "  Query execution time: 0.01 seconds\n",
      "  Query fetch time: 0.00 seconds\n",
      "  Query execution time: 0.01 seconds\n",
      "  Query fetch time: 0.00 seconds\n"
     ]
    },
    {
     "name": "stderr",
     "output_type": "stream",
     "text": [
      " 82%|████████▏ | 82/100 [00:08<00:01, 10.14it/s]"
     ]
    },
    {
     "name": "stdout",
     "output_type": "stream",
     "text": [
      "  Query execution time: 0.02 seconds\n",
      "  Query fetch time: 0.00 seconds\n",
      "  Query execution time: 0.01 seconds\n",
      "  Query fetch time: 0.00 seconds\n",
      "  Query execution time: 0.01 seconds\n",
      "  Query fetch time: 0.00 seconds\n"
     ]
    },
    {
     "name": "stderr",
     "output_type": "stream",
     "text": [
      " 84%|████████▍ | 84/100 [00:09<00:01,  9.91it/s]"
     ]
    },
    {
     "name": "stdout",
     "output_type": "stream",
     "text": [
      "  Query execution time: 0.03 seconds\n",
      "  Query fetch time: 0.00 seconds\n",
      "  Query execution time: 0.01 seconds\n",
      "  Query fetch time: 0.00 seconds\n"
     ]
    },
    {
     "name": "stderr",
     "output_type": "stream",
     "text": [
      " 86%|████████▌ | 86/100 [00:09<00:01,  9.88it/s]"
     ]
    },
    {
     "name": "stdout",
     "output_type": "stream",
     "text": [
      "  Query execution time: 0.01 seconds\n",
      "  Query fetch time: 0.00 seconds\n",
      "  Query execution time: 0.01 seconds\n",
      "  Query fetch time: 0.00 seconds\n"
     ]
    },
    {
     "name": "stderr",
     "output_type": "stream",
     "text": [
      " 90%|█████████ | 90/100 [00:09<00:00, 11.39it/s]"
     ]
    },
    {
     "name": "stdout",
     "output_type": "stream",
     "text": [
      "  Query execution time: 0.01 seconds\n",
      "  Query fetch time: 0.00 seconds\n",
      "  Query execution time: 0.01 seconds\n",
      "  Query fetch time: 0.00 seconds\n",
      "  Query execution time: 0.01 seconds\n",
      "  Query fetch time: 0.00 seconds\n",
      "  Query execution time: 0.01 seconds\n",
      "  Query fetch time: 0.00 seconds\n"
     ]
    },
    {
     "name": "stderr",
     "output_type": "stream",
     "text": [
      " 94%|█████████▍| 94/100 [00:10<00:00, 10.65it/s]"
     ]
    },
    {
     "name": "stdout",
     "output_type": "stream",
     "text": [
      "  Query execution time: 0.01 seconds\n",
      "  Query fetch time: 0.00 seconds\n",
      "  Query execution time: 0.01 seconds\n",
      "  Query fetch time: 0.00 seconds\n",
      "  Query execution time: 0.01 seconds\n",
      "  Query fetch time: 0.00 seconds\n"
     ]
    },
    {
     "name": "stderr",
     "output_type": "stream",
     "text": [
      " 96%|█████████▌| 96/100 [00:10<00:00, 10.50it/s]"
     ]
    },
    {
     "name": "stdout",
     "output_type": "stream",
     "text": [
      "  Query execution time: 0.01 seconds\n",
      "  Query fetch time: 0.00 seconds\n",
      "  Query execution time: 0.01 seconds\n",
      "  Query fetch time: 0.00 seconds\n",
      "  Query execution time: 0.01 seconds\n",
      "  Query fetch time: 0.00 seconds\n"
     ]
    },
    {
     "name": "stderr",
     "output_type": "stream",
     "text": [
      "100%|██████████| 100/100 [00:10<00:00,  9.45it/s]"
     ]
    },
    {
     "name": "stdout",
     "output_type": "stream",
     "text": [
      "  Query execution time: 0.02 seconds\n",
      "  Query fetch time: 0.00 seconds\n",
      "  Query execution time: 0.01 seconds\n",
      "  Query fetch time: 0.00 seconds\n",
      "  Query execution time: 0.01 seconds\n",
      "  Query fetch time: 0.00 seconds\n",
      "Embedding model: BAAI/bge-small-en, Enricher: add_previous_3_sentences\n"
     ]
    },
    {
     "name": "stderr",
     "output_type": "stream",
     "text": [
      "\n",
      "  2%|▏         | 2/100 [00:00<00:18,  5.36it/s]"
     ]
    },
    {
     "name": "stdout",
     "output_type": "stream",
     "text": [
      "  Query execution time: 0.01 seconds\n",
      "  Query fetch time: 0.00 seconds\n",
      "  Query execution time: 0.01 seconds\n",
      "  Query fetch time: 0.00 seconds\n"
     ]
    },
    {
     "name": "stderr",
     "output_type": "stream",
     "text": [
      "  4%|▍         | 4/100 [00:00<00:15,  6.08it/s]"
     ]
    },
    {
     "name": "stdout",
     "output_type": "stream",
     "text": [
      "  Query execution time: 0.01 seconds\n",
      "  Query fetch time: 0.00 seconds\n",
      "  Query execution time: 0.01 seconds\n",
      "  Query fetch time: 0.00 seconds\n"
     ]
    },
    {
     "name": "stderr",
     "output_type": "stream",
     "text": [
      "  6%|▌         | 6/100 [00:01<00:15,  6.00it/s]"
     ]
    },
    {
     "name": "stdout",
     "output_type": "stream",
     "text": [
      "  Query execution time: 0.02 seconds\n",
      "  Query fetch time: 0.00 seconds\n",
      "  Query execution time: 0.02 seconds\n",
      "  Query fetch time: 0.00 seconds\n"
     ]
    },
    {
     "name": "stderr",
     "output_type": "stream",
     "text": [
      "  8%|▊         | 8/100 [00:01<00:14,  6.19it/s]"
     ]
    },
    {
     "name": "stdout",
     "output_type": "stream",
     "text": [
      "  Query execution time: 0.01 seconds\n",
      "  Query fetch time: 0.00 seconds\n",
      "  Query execution time: 0.01 seconds\n",
      "  Query fetch time: 0.00 seconds\n"
     ]
    },
    {
     "name": "stderr",
     "output_type": "stream",
     "text": [
      " 11%|█         | 11/100 [00:01<00:09,  9.13it/s]"
     ]
    },
    {
     "name": "stdout",
     "output_type": "stream",
     "text": [
      "  Query execution time: 0.01 seconds\n",
      "  Query fetch time: 0.00 seconds\n",
      "  Query execution time: 0.01 seconds\n",
      "  Query fetch time: 0.00 seconds\n",
      "  Query execution time: 0.01 seconds\n",
      "  Query fetch time: 0.00 seconds\n"
     ]
    },
    {
     "name": "stderr",
     "output_type": "stream",
     "text": [
      " 13%|█▎        | 13/100 [00:01<00:11,  7.62it/s]"
     ]
    },
    {
     "name": "stdout",
     "output_type": "stream",
     "text": [
      "  Query execution time: 0.01 seconds\n",
      "  Query fetch time: 0.00 seconds\n",
      "  Query execution time: 0.01 seconds\n",
      "  Query fetch time: 0.00 seconds\n"
     ]
    },
    {
     "name": "stderr",
     "output_type": "stream",
     "text": [
      " 14%|█▍        | 14/100 [00:02<00:11,  7.30it/s]"
     ]
    },
    {
     "name": "stdout",
     "output_type": "stream",
     "text": [
      "  Query execution time: 0.01 seconds\n",
      "  Query fetch time: 0.00 seconds\n",
      "  Query execution time: 0.02 seconds\n",
      "  Query fetch time: 0.00 seconds\n"
     ]
    },
    {
     "name": "stderr",
     "output_type": "stream",
     "text": [
      " 17%|█▋        | 17/100 [00:02<00:11,  7.49it/s]"
     ]
    },
    {
     "name": "stdout",
     "output_type": "stream",
     "text": [
      "  Query execution time: 0.01 seconds\n",
      "  Query fetch time: 0.00 seconds\n",
      "  Query execution time: 0.01 seconds\n",
      "  Query fetch time: 0.00 seconds\n"
     ]
    },
    {
     "name": "stderr",
     "output_type": "stream",
     "text": [
      " 20%|██        | 20/100 [00:02<00:09,  8.21it/s]"
     ]
    },
    {
     "name": "stdout",
     "output_type": "stream",
     "text": [
      "  Query execution time: 0.01 seconds\n",
      "  Query fetch time: 0.00 seconds\n",
      "  Query execution time: 0.01 seconds\n",
      "  Query fetch time: 0.00 seconds\n",
      "  Query execution time: 0.01 seconds\n",
      "  Query fetch time: 0.00 seconds\n"
     ]
    },
    {
     "name": "stderr",
     "output_type": "stream",
     "text": [
      " 23%|██▎       | 23/100 [00:03<00:07, 10.06it/s]"
     ]
    },
    {
     "name": "stdout",
     "output_type": "stream",
     "text": [
      "  Query execution time: 0.01 seconds\n",
      "  Query fetch time: 0.00 seconds\n",
      "  Query execution time: 0.01 seconds\n",
      "  Query fetch time: 0.00 seconds\n",
      "  Query execution time: 0.02 seconds\n",
      "  Query fetch time: 0.00 seconds\n"
     ]
    },
    {
     "name": "stderr",
     "output_type": "stream",
     "text": [
      " 25%|██▌       | 25/100 [00:03<00:09,  8.25it/s]"
     ]
    },
    {
     "name": "stdout",
     "output_type": "stream",
     "text": [
      "  Query execution time: 0.01 seconds\n",
      "  Query fetch time: 0.00 seconds\n",
      "  Query execution time: 0.02 seconds\n",
      "  Query fetch time: 0.00 seconds\n",
      "  Query execution time: 0.01 seconds\n",
      "  Query fetch time: 0.00 seconds\n"
     ]
    },
    {
     "name": "stderr",
     "output_type": "stream",
     "text": [
      " 27%|██▋       | 27/100 [00:03<00:09,  7.97it/s]"
     ]
    },
    {
     "name": "stdout",
     "output_type": "stream",
     "text": [
      "  Query execution time: 0.02 seconds\n",
      "  Query fetch time: 0.00 seconds\n",
      "  Query execution time: 0.01 seconds\n",
      "  Query fetch time: 0.00 seconds\n"
     ]
    },
    {
     "name": "stderr",
     "output_type": "stream",
     "text": [
      " 29%|██▉       | 29/100 [00:03<00:08,  8.48it/s]"
     ]
    },
    {
     "name": "stdout",
     "output_type": "stream",
     "text": [
      "  Query execution time: 0.02 seconds\n",
      "  Query fetch time: 0.00 seconds\n",
      "  Query execution time: 0.01 seconds\n",
      "  Query fetch time: 0.00 seconds\n"
     ]
    },
    {
     "name": "stderr",
     "output_type": "stream",
     "text": [
      " 31%|███       | 31/100 [00:04<00:07,  8.84it/s]"
     ]
    },
    {
     "name": "stdout",
     "output_type": "stream",
     "text": [
      "  Query execution time: 0.02 seconds\n",
      "  Query fetch time: 0.00 seconds\n",
      "  Query execution time: 0.01 seconds\n",
      "  Query fetch time: 0.00 seconds\n",
      "  Query execution time: 0.01 seconds\n",
      "  Query fetch time: 0.00 seconds\n"
     ]
    },
    {
     "name": "stderr",
     "output_type": "stream",
     "text": [
      " 34%|███▍      | 34/100 [00:04<00:06,  9.97it/s]"
     ]
    },
    {
     "name": "stdout",
     "output_type": "stream",
     "text": [
      "  Query execution time: 0.02 seconds\n",
      "  Query fetch time: 0.00 seconds\n",
      "  Query execution time: 0.03 seconds\n",
      "  Query fetch time: 0.00 seconds\n"
     ]
    },
    {
     "name": "stderr",
     "output_type": "stream",
     "text": [
      " 38%|███▊      | 38/100 [00:04<00:06,  9.92it/s]"
     ]
    },
    {
     "name": "stdout",
     "output_type": "stream",
     "text": [
      "  Query execution time: 0.01 seconds\n",
      "  Query fetch time: 0.00 seconds\n",
      "  Query execution time: 0.01 seconds\n",
      "  Query fetch time: 0.00 seconds\n",
      "  Query execution time: 0.01 seconds\n",
      "  Query fetch time: 0.00 seconds\n"
     ]
    },
    {
     "name": "stderr",
     "output_type": "stream",
     "text": [
      " 40%|████      | 40/100 [00:04<00:05, 11.29it/s]"
     ]
    },
    {
     "name": "stdout",
     "output_type": "stream",
     "text": [
      "  Query execution time: 0.01 seconds\n",
      "  Query fetch time: 0.00 seconds\n",
      "  Query execution time: 0.02 seconds\n",
      "  Query fetch time: 0.00 seconds\n"
     ]
    },
    {
     "name": "stderr",
     "output_type": "stream",
     "text": [
      " 42%|████▏     | 42/100 [00:05<00:06,  9.36it/s]"
     ]
    },
    {
     "name": "stdout",
     "output_type": "stream",
     "text": [
      "  Query execution time: 0.01 seconds\n",
      "  Query fetch time: 0.00 seconds\n",
      "  Query execution time: 0.02 seconds\n",
      "  Query fetch time: 0.00 seconds\n"
     ]
    },
    {
     "name": "stderr",
     "output_type": "stream",
     "text": [
      " 44%|████▍     | 44/100 [00:05<00:06,  9.29it/s]"
     ]
    },
    {
     "name": "stdout",
     "output_type": "stream",
     "text": [
      "  Query execution time: 0.01 seconds\n",
      "  Query fetch time: 0.00 seconds\n",
      "  Query execution time: 0.02 seconds\n",
      "  Query fetch time: 0.00 seconds\n"
     ]
    },
    {
     "name": "stderr",
     "output_type": "stream",
     "text": [
      " 49%|████▉     | 49/100 [00:05<00:03, 13.50it/s]"
     ]
    },
    {
     "name": "stdout",
     "output_type": "stream",
     "text": [
      "  Query execution time: 0.01 seconds\n",
      "  Query fetch time: 0.00 seconds\n",
      "  Query execution time: 0.01 seconds\n",
      "  Query fetch time: 0.00 seconds\n",
      "  Query execution time: 0.01 seconds\n",
      "  Query fetch time: 0.00 seconds\n",
      "  Query execution time: 0.01 seconds\n",
      "  Query fetch time: 0.00 seconds\n",
      "  Query execution time: 0.01 seconds\n",
      "  Query fetch time: 0.00 seconds\n"
     ]
    },
    {
     "name": "stderr",
     "output_type": "stream",
     "text": [
      " 51%|█████     | 51/100 [00:05<00:04, 10.69it/s]"
     ]
    },
    {
     "name": "stdout",
     "output_type": "stream",
     "text": [
      "  Query execution time: 0.01 seconds\n",
      "  Query fetch time: 0.00 seconds\n",
      "  Query execution time: 0.01 seconds\n",
      "  Query fetch time: 0.00 seconds\n",
      "  Query execution time: 0.01 seconds\n",
      "  Query fetch time: 0.00 seconds\n"
     ]
    },
    {
     "name": "stderr",
     "output_type": "stream",
     "text": [
      " 53%|█████▎    | 53/100 [00:06<00:04, 10.42it/s]"
     ]
    },
    {
     "name": "stdout",
     "output_type": "stream",
     "text": [
      "  Query execution time: 0.02 seconds\n",
      "  Query fetch time: 0.00 seconds\n",
      "  Query execution time: 0.01 seconds\n",
      "  Query fetch time: 0.00 seconds\n"
     ]
    },
    {
     "name": "stderr",
     "output_type": "stream",
     "text": [
      " 55%|█████▌    | 55/100 [00:06<00:04,  9.03it/s]"
     ]
    },
    {
     "name": "stdout",
     "output_type": "stream",
     "text": [
      "  Query execution time: 0.02 seconds\n",
      "  Query fetch time: 0.00 seconds\n",
      "  Query execution time: 0.01 seconds\n",
      "  Query fetch time: 0.00 seconds\n",
      "  Query execution time: 0.01 seconds\n",
      "  Query fetch time: 0.00 seconds\n"
     ]
    },
    {
     "name": "stderr",
     "output_type": "stream",
     "text": [
      " 58%|█████▊    | 58/100 [00:06<00:04,  9.85it/s]"
     ]
    },
    {
     "name": "stdout",
     "output_type": "stream",
     "text": [
      "  Query execution time: 0.02 seconds\n",
      "  Query fetch time: 0.00 seconds\n",
      "  Query execution time: 0.01 seconds\n",
      "  Query fetch time: 0.00 seconds\n"
     ]
    },
    {
     "name": "stderr",
     "output_type": "stream",
     "text": [
      " 60%|██████    | 60/100 [00:06<00:04,  8.88it/s]"
     ]
    },
    {
     "name": "stdout",
     "output_type": "stream",
     "text": [
      "  Query execution time: 0.02 seconds\n",
      "  Query fetch time: 0.00 seconds\n",
      "  Query execution time: 0.01 seconds\n",
      "  Query fetch time: 0.00 seconds\n"
     ]
    },
    {
     "name": "stderr",
     "output_type": "stream",
     "text": [
      " 62%|██████▏   | 62/100 [00:07<00:04,  8.87it/s]"
     ]
    },
    {
     "name": "stdout",
     "output_type": "stream",
     "text": [
      "  Query execution time: 0.01 seconds\n",
      "  Query fetch time: 0.00 seconds\n",
      "  Query execution time: 0.01 seconds\n",
      "  Query fetch time: 0.00 seconds\n",
      "  Query execution time: 0.01 seconds\n",
      "  Query fetch time: 0.00 seconds\n"
     ]
    },
    {
     "name": "stderr",
     "output_type": "stream",
     "text": [
      " 65%|██████▌   | 65/100 [00:07<00:03,  9.84it/s]"
     ]
    },
    {
     "name": "stdout",
     "output_type": "stream",
     "text": [
      "  Query execution time: 0.01 seconds\n",
      "  Query fetch time: 0.00 seconds\n",
      "  Query execution time: 0.02 seconds\n",
      "  Query fetch time: 0.00 seconds\n"
     ]
    },
    {
     "name": "stderr",
     "output_type": "stream",
     "text": [
      " 69%|██████▉   | 69/100 [00:07<00:02, 11.13it/s]"
     ]
    },
    {
     "name": "stdout",
     "output_type": "stream",
     "text": [
      "  Query execution time: 0.02 seconds\n",
      "  Query fetch time: 0.00 seconds\n",
      "  Query execution time: 0.01 seconds\n",
      "  Query fetch time: 0.00 seconds\n",
      "  Query execution time: 0.01 seconds\n",
      "  Query fetch time: 0.00 seconds\n",
      "  Query execution time: 0.01 seconds\n",
      "  Query fetch time: 0.00 seconds\n"
     ]
    },
    {
     "name": "stderr",
     "output_type": "stream",
     "text": [
      " 73%|███████▎  | 73/100 [00:08<00:02, 11.83it/s]"
     ]
    },
    {
     "name": "stdout",
     "output_type": "stream",
     "text": [
      "  Query execution time: 0.01 seconds\n",
      "  Query fetch time: 0.00 seconds\n",
      "  Query execution time: 0.01 seconds\n",
      "  Query fetch time: 0.00 seconds\n",
      "  Query execution time: 0.01 seconds\n",
      "  Query fetch time: 0.00 seconds\n"
     ]
    },
    {
     "name": "stderr",
     "output_type": "stream",
     "text": [
      " 75%|███████▌  | 75/100 [00:08<00:02, 11.28it/s]"
     ]
    },
    {
     "name": "stdout",
     "output_type": "stream",
     "text": [
      "  Query execution time: 0.02 seconds\n",
      "  Query fetch time: 0.00 seconds\n",
      "  Query execution time: 0.01 seconds\n",
      "  Query fetch time: 0.00 seconds\n",
      "  Query execution time: 0.01 seconds\n",
      "  Query fetch time: 0.00 seconds\n",
      "  Query execution time: 0.01 seconds\n",
      "  Query fetch time: 0.00 seconds\n"
     ]
    },
    {
     "name": "stderr",
     "output_type": "stream",
     "text": [
      " 78%|███████▊  | 78/100 [00:08<00:01, 11.71it/s]"
     ]
    },
    {
     "name": "stdout",
     "output_type": "stream",
     "text": [
      "  Query execution time: 0.02 seconds\n",
      "  Query fetch time: 0.00 seconds\n",
      "  Query execution time: 0.01 seconds\n",
      "  Query fetch time: 0.00 seconds\n"
     ]
    },
    {
     "name": "stderr",
     "output_type": "stream",
     "text": [
      " 82%|████████▏ | 82/100 [00:08<00:01, 10.83it/s]"
     ]
    },
    {
     "name": "stdout",
     "output_type": "stream",
     "text": [
      "  Query execution time: 0.01 seconds\n",
      "  Query fetch time: 0.00 seconds\n",
      "  Query execution time: 0.01 seconds\n",
      "  Query fetch time: 0.00 seconds\n",
      "  Query execution time: 0.01 seconds\n",
      "  Query fetch time: 0.00 seconds\n"
     ]
    },
    {
     "name": "stderr",
     "output_type": "stream",
     "text": [
      " 84%|████████▍ | 84/100 [00:09<00:01, 10.16it/s]"
     ]
    },
    {
     "name": "stdout",
     "output_type": "stream",
     "text": [
      "  Query execution time: 0.01 seconds\n",
      "  Query fetch time: 0.00 seconds\n",
      "  Query execution time: 0.02 seconds\n",
      "  Query fetch time: 0.00 seconds\n"
     ]
    },
    {
     "name": "stderr",
     "output_type": "stream",
     "text": [
      " 86%|████████▌ | 86/100 [00:09<00:01, 11.76it/s]"
     ]
    },
    {
     "name": "stdout",
     "output_type": "stream",
     "text": [
      "  Query execution time: 0.01 seconds\n",
      "  Query fetch time: 0.00 seconds\n",
      "  Query execution time: 0.01 seconds\n",
      "  Query fetch time: 0.00 seconds\n",
      "  Query execution time: 0.02 seconds\n",
      "  Query fetch time: 0.00 seconds\n"
     ]
    },
    {
     "name": "stderr",
     "output_type": "stream",
     "text": [
      " 88%|████████▊ | 88/100 [00:09<00:01, 11.26it/s]"
     ]
    },
    {
     "name": "stdout",
     "output_type": "stream",
     "text": [
      "  Query execution time: 0.01 seconds\n",
      "  Query fetch time: 0.00 seconds\n",
      "  Query execution time: 0.01 seconds\n",
      "  Query fetch time: 0.00 seconds\n"
     ]
    },
    {
     "name": "stderr",
     "output_type": "stream",
     "text": [
      " 90%|█████████ | 90/100 [00:09<00:01,  9.45it/s]"
     ]
    },
    {
     "name": "stdout",
     "output_type": "stream",
     "text": [
      "  Query execution time: 0.02 seconds\n",
      "  Query fetch time: 0.00 seconds\n",
      "  Query execution time: 0.01 seconds\n",
      "  Query fetch time: 0.00 seconds\n"
     ]
    },
    {
     "name": "stderr",
     "output_type": "stream",
     "text": [
      " 94%|█████████▍| 94/100 [00:09<00:00, 11.13it/s]"
     ]
    },
    {
     "name": "stdout",
     "output_type": "stream",
     "text": [
      "  Query execution time: 0.01 seconds\n",
      "  Query fetch time: 0.00 seconds\n",
      "  Query execution time: 0.01 seconds\n",
      "  Query fetch time: 0.00 seconds\n",
      "  Query execution time: 0.01 seconds\n",
      "  Query fetch time: 0.00 seconds\n",
      "  Query execution time: 0.01 seconds\n",
      "  Query fetch time: 0.00 seconds\n"
     ]
    },
    {
     "name": "stderr",
     "output_type": "stream",
     "text": [
      " 98%|█████████▊| 98/100 [00:10<00:00, 11.95it/s]"
     ]
    },
    {
     "name": "stdout",
     "output_type": "stream",
     "text": [
      "  Query execution time: 0.01 seconds\n",
      "  Query fetch time: 0.00 seconds\n",
      "  Query execution time: 0.01 seconds\n",
      "  Query fetch time: 0.00 seconds\n",
      "  Query execution time: 0.01 seconds\n",
      "  Query fetch time: 0.00 seconds\n"
     ]
    },
    {
     "name": "stderr",
     "output_type": "stream",
     "text": [
      "100%|██████████| 100/100 [00:10<00:00,  9.41it/s]"
     ]
    },
    {
     "name": "stdout",
     "output_type": "stream",
     "text": [
      "  Query execution time: 0.01 seconds\n",
      "  Query fetch time: 0.00 seconds\n",
      "  Query execution time: 0.02 seconds\n",
      "  Query fetch time: 0.00 seconds\n",
      "Embedding model: BAAI/bge-small-en, Enricher: add_previous_7_sentences\n"
     ]
    },
    {
     "name": "stderr",
     "output_type": "stream",
     "text": [
      "\n",
      "  2%|▏         | 2/100 [00:00<00:17,  5.72it/s]"
     ]
    },
    {
     "name": "stdout",
     "output_type": "stream",
     "text": [
      "  Query execution time: 0.01 seconds\n",
      "  Query fetch time: 0.00 seconds\n",
      "  Query execution time: 0.02 seconds\n",
      "  Query fetch time: 0.00 seconds\n"
     ]
    },
    {
     "name": "stderr",
     "output_type": "stream",
     "text": [
      "  4%|▍         | 4/100 [00:00<00:17,  5.40it/s]"
     ]
    },
    {
     "name": "stdout",
     "output_type": "stream",
     "text": [
      "  Query execution time: 0.01 seconds\n",
      "  Query fetch time: 0.00 seconds\n",
      "  Query execution time: 0.01 seconds\n",
      "  Query fetch time: 0.00 seconds\n"
     ]
    },
    {
     "name": "stderr",
     "output_type": "stream",
     "text": [
      "  6%|▌         | 6/100 [00:01<00:17,  5.28it/s]"
     ]
    },
    {
     "name": "stdout",
     "output_type": "stream",
     "text": [
      "  Query execution time: 0.01 seconds\n",
      "  Query fetch time: 0.00 seconds\n",
      "  Query execution time: 0.01 seconds\n",
      "  Query fetch time: 0.00 seconds\n"
     ]
    },
    {
     "name": "stderr",
     "output_type": "stream",
     "text": [
      "  9%|▉         | 9/100 [00:01<00:11,  8.15it/s]"
     ]
    },
    {
     "name": "stdout",
     "output_type": "stream",
     "text": [
      "  Query execution time: 0.01 seconds\n",
      "  Query fetch time: 0.00 seconds\n",
      "  Query execution time: 0.01 seconds\n",
      "  Query fetch time: 0.00 seconds\n",
      "  Query execution time: 0.01 seconds\n",
      "  Query fetch time: 0.00 seconds\n",
      "  Query execution time: 0.01 seconds\n",
      "  Query fetch time: 0.00 seconds\n"
     ]
    },
    {
     "name": "stderr",
     "output_type": "stream",
     "text": [
      " 12%|█▏        | 12/100 [00:01<00:12,  7.32it/s]"
     ]
    },
    {
     "name": "stdout",
     "output_type": "stream",
     "text": [
      "  Query execution time: 0.01 seconds\n",
      "  Query fetch time: 0.00 seconds\n",
      "  Query execution time: 0.01 seconds\n",
      "  Query fetch time: 0.00 seconds\n"
     ]
    },
    {
     "name": "stderr",
     "output_type": "stream",
     "text": [
      " 14%|█▍        | 14/100 [00:02<00:11,  7.49it/s]"
     ]
    },
    {
     "name": "stdout",
     "output_type": "stream",
     "text": [
      "  Query execution time: 0.01 seconds\n",
      "  Query fetch time: 0.00 seconds\n",
      "  Query execution time: 0.02 seconds\n",
      "  Query fetch time: 0.00 seconds\n"
     ]
    },
    {
     "name": "stderr",
     "output_type": "stream",
     "text": [
      " 16%|█▌        | 16/100 [00:02<00:10,  7.81it/s]"
     ]
    },
    {
     "name": "stdout",
     "output_type": "stream",
     "text": [
      "  Query execution time: 0.01 seconds\n",
      "  Query fetch time: 0.00 seconds\n",
      "  Query execution time: 0.02 seconds\n",
      "  Query fetch time: 0.00 seconds\n"
     ]
    },
    {
     "name": "stderr",
     "output_type": "stream",
     "text": [
      " 19%|█▉        | 19/100 [00:02<00:09,  8.99it/s]"
     ]
    },
    {
     "name": "stdout",
     "output_type": "stream",
     "text": [
      "  Query execution time: 0.02 seconds\n",
      "  Query fetch time: 0.00 seconds\n",
      "  Query execution time: 0.01 seconds\n",
      "  Query fetch time: 0.00 seconds\n",
      "  Query execution time: 0.01 seconds\n",
      "  Query fetch time: 0.00 seconds\n"
     ]
    },
    {
     "name": "stderr",
     "output_type": "stream",
     "text": [
      " 23%|██▎       | 23/100 [00:03<00:07, 10.28it/s]"
     ]
    },
    {
     "name": "stdout",
     "output_type": "stream",
     "text": [
      "  Query execution time: 0.02 seconds\n",
      "  Query fetch time: 0.00 seconds\n",
      "  Query execution time: 0.01 seconds\n",
      "  Query fetch time: 0.00 seconds\n",
      "  Query execution time: 0.01 seconds\n",
      "  Query fetch time: 0.00 seconds\n",
      "  Query execution time: 0.01 seconds\n",
      "  Query fetch time: 0.00 seconds\n"
     ]
    },
    {
     "name": "stderr",
     "output_type": "stream",
     "text": [
      " 25%|██▌       | 25/100 [00:03<00:07,  9.40it/s]"
     ]
    },
    {
     "name": "stdout",
     "output_type": "stream",
     "text": [
      "  Query execution time: 0.01 seconds\n",
      "  Query fetch time: 0.00 seconds\n",
      "  Query execution time: 0.01 seconds\n",
      "  Query fetch time: 0.00 seconds\n"
     ]
    },
    {
     "name": "stderr",
     "output_type": "stream",
     "text": [
      " 27%|██▋       | 27/100 [00:03<00:10,  6.96it/s]"
     ]
    },
    {
     "name": "stdout",
     "output_type": "stream",
     "text": [
      "  Query execution time: 0.02 seconds\n",
      "  Query fetch time: 0.00 seconds\n",
      "  Query execution time: 0.01 seconds\n",
      "  Query fetch time: 0.00 seconds\n"
     ]
    },
    {
     "name": "stderr",
     "output_type": "stream",
     "text": [
      " 29%|██▉       | 29/100 [00:03<00:08,  8.48it/s]"
     ]
    },
    {
     "name": "stdout",
     "output_type": "stream",
     "text": [
      "  Query execution time: 0.01 seconds\n",
      "  Query fetch time: 0.00 seconds\n",
      "  Query execution time: 0.01 seconds\n",
      "  Query fetch time: 0.00 seconds\n",
      "  Query execution time: 0.01 seconds\n",
      "  Query fetch time: 0.00 seconds\n"
     ]
    },
    {
     "name": "stderr",
     "output_type": "stream",
     "text": [
      " 31%|███       | 31/100 [00:04<00:09,  6.94it/s]"
     ]
    },
    {
     "name": "stdout",
     "output_type": "stream",
     "text": [
      "  Query execution time: 0.02 seconds\n",
      "  Query fetch time: 0.00 seconds\n",
      "  Query execution time: 0.01 seconds\n",
      "  Query fetch time: 0.00 seconds\n"
     ]
    },
    {
     "name": "stderr",
     "output_type": "stream",
     "text": [
      " 33%|███▎      | 33/100 [00:04<00:09,  7.25it/s]"
     ]
    },
    {
     "name": "stdout",
     "output_type": "stream",
     "text": [
      "  Query execution time: 0.02 seconds\n",
      "  Query fetch time: 0.00 seconds\n",
      "  Query execution time: 0.02 seconds\n",
      "  Query fetch time: 0.00 seconds\n"
     ]
    },
    {
     "name": "stderr",
     "output_type": "stream",
     "text": [
      " 35%|███▌      | 35/100 [00:04<00:08,  7.35it/s]"
     ]
    },
    {
     "name": "stdout",
     "output_type": "stream",
     "text": [
      "  Query execution time: 0.02 seconds\n",
      "  Query fetch time: 0.00 seconds\n",
      "  Query execution time: 0.02 seconds\n",
      "  Query fetch time: 0.00 seconds\n"
     ]
    },
    {
     "name": "stderr",
     "output_type": "stream",
     "text": [
      " 39%|███▉      | 39/100 [00:05<00:07,  8.05it/s]"
     ]
    },
    {
     "name": "stdout",
     "output_type": "stream",
     "text": [
      "  Query execution time: 0.02 seconds\n",
      "  Query fetch time: 0.00 seconds\n",
      "  Query execution time: 0.01 seconds\n",
      "  Query fetch time: 0.00 seconds\n",
      "  Query execution time: 0.01 seconds\n",
      "  Query fetch time: 0.00 seconds\n",
      "  Query execution time: 0.01 seconds\n",
      "  Query fetch time: 0.00 seconds\n"
     ]
    },
    {
     "name": "stderr",
     "output_type": "stream",
     "text": [
      " 43%|████▎     | 43/100 [00:05<00:05, 10.10it/s]"
     ]
    },
    {
     "name": "stdout",
     "output_type": "stream",
     "text": [
      "  Query execution time: 0.02 seconds\n",
      "  Query fetch time: 0.00 seconds\n",
      "  Query execution time: 0.01 seconds\n",
      "  Query fetch time: 0.00 seconds\n",
      "  Query execution time: 0.01 seconds\n",
      "  Query fetch time: 0.00 seconds\n",
      "  Query execution time: 0.01 seconds\n",
      "  Query fetch time: 0.00 seconds\n"
     ]
    },
    {
     "name": "stderr",
     "output_type": "stream",
     "text": [
      " 47%|████▋     | 47/100 [00:05<00:04, 10.86it/s]"
     ]
    },
    {
     "name": "stdout",
     "output_type": "stream",
     "text": [
      "  Query execution time: 0.01 seconds\n",
      "  Query fetch time: 0.00 seconds\n",
      "  Query execution time: 0.01 seconds\n",
      "  Query fetch time: 0.00 seconds\n",
      "  Query execution time: 0.01 seconds\n",
      "  Query fetch time: 0.00 seconds\n"
     ]
    },
    {
     "name": "stderr",
     "output_type": "stream",
     "text": [
      " 49%|████▉     | 49/100 [00:06<00:05,  9.65it/s]"
     ]
    },
    {
     "name": "stdout",
     "output_type": "stream",
     "text": [
      "  Query execution time: 0.01 seconds\n",
      "  Query fetch time: 0.00 seconds\n",
      "  Query execution time: 0.01 seconds\n",
      "  Query fetch time: 0.00 seconds\n"
     ]
    },
    {
     "name": "stderr",
     "output_type": "stream",
     "text": [
      " 51%|█████     | 51/100 [00:06<00:06,  7.37it/s]"
     ]
    },
    {
     "name": "stdout",
     "output_type": "stream",
     "text": [
      "  Query execution time: 0.02 seconds\n",
      "  Query fetch time: 0.00 seconds\n",
      "  Query execution time: 0.01 seconds\n",
      "  Query fetch time: 0.00 seconds\n"
     ]
    },
    {
     "name": "stderr",
     "output_type": "stream",
     "text": [
      " 53%|█████▎    | 53/100 [00:06<00:05,  8.94it/s]"
     ]
    },
    {
     "name": "stdout",
     "output_type": "stream",
     "text": [
      "  Query execution time: 0.01 seconds\n",
      "  Query fetch time: 0.00 seconds\n",
      "  Query execution time: 0.01 seconds\n",
      "  Query fetch time: 0.00 seconds\n"
     ]
    },
    {
     "name": "stderr",
     "output_type": "stream",
     "text": [
      " 55%|█████▌    | 55/100 [00:07<00:06,  7.18it/s]"
     ]
    },
    {
     "name": "stdout",
     "output_type": "stream",
     "text": [
      "  Query execution time: 0.02 seconds\n",
      "  Query fetch time: 0.00 seconds\n",
      "  Query execution time: 0.02 seconds\n",
      "  Query fetch time: 0.00 seconds\n"
     ]
    },
    {
     "name": "stderr",
     "output_type": "stream",
     "text": [
      " 56%|█████▌    | 56/100 [00:07<00:06,  6.74it/s]"
     ]
    },
    {
     "name": "stdout",
     "output_type": "stream",
     "text": [
      "  Query execution time: 0.01 seconds\n",
      "  Query fetch time: 0.00 seconds\n"
     ]
    },
    {
     "name": "stderr",
     "output_type": "stream",
     "text": [
      " 57%|█████▋    | 57/100 [00:07<00:07,  6.03it/s]"
     ]
    },
    {
     "name": "stdout",
     "output_type": "stream",
     "text": [
      "  Query execution time: 0.01 seconds\n",
      "  Query fetch time: 0.00 seconds\n",
      "  Query execution time: 0.02 seconds\n",
      "  Query fetch time: 0.00 seconds\n"
     ]
    },
    {
     "name": "stderr",
     "output_type": "stream",
     "text": [
      " 60%|██████    | 60/100 [00:07<00:05,  7.83it/s]"
     ]
    },
    {
     "name": "stdout",
     "output_type": "stream",
     "text": [
      "  Query execution time: 0.01 seconds\n",
      "  Query fetch time: 0.00 seconds\n",
      "  Query execution time: 0.01 seconds\n",
      "  Query fetch time: 0.00 seconds\n",
      "  Query execution time: 0.01 seconds\n",
      "  Query fetch time: 0.00 seconds\n"
     ]
    },
    {
     "name": "stderr",
     "output_type": "stream",
     "text": [
      " 62%|██████▏   | 62/100 [00:08<00:04,  8.00it/s]"
     ]
    },
    {
     "name": "stdout",
     "output_type": "stream",
     "text": [
      "  Query execution time: 0.01 seconds\n",
      "  Query fetch time: 0.00 seconds\n",
      "  Query execution time: 0.01 seconds\n",
      "  Query fetch time: 0.00 seconds\n"
     ]
    },
    {
     "name": "stderr",
     "output_type": "stream",
     "text": [
      " 65%|██████▌   | 65/100 [00:08<00:04,  7.26it/s]"
     ]
    },
    {
     "name": "stdout",
     "output_type": "stream",
     "text": [
      "  Query execution time: 0.02 seconds\n",
      "  Query fetch time: 0.00 seconds\n",
      "  Query execution time: 0.01 seconds\n",
      "  Query fetch time: 0.00 seconds\n"
     ]
    },
    {
     "name": "stderr",
     "output_type": "stream",
     "text": [
      " 68%|██████▊   | 68/100 [00:08<00:03,  8.87it/s]"
     ]
    },
    {
     "name": "stdout",
     "output_type": "stream",
     "text": [
      "  Query execution time: 0.01 seconds\n",
      "  Query fetch time: 0.00 seconds\n",
      "  Query execution time: 0.01 seconds\n",
      "  Query fetch time: 0.00 seconds\n",
      "  Query execution time: 0.01 seconds\n",
      "  Query fetch time: 0.00 seconds\n",
      "  Query execution time: 0.01 seconds\n",
      "  Query fetch time: 0.00 seconds\n"
     ]
    },
    {
     "name": "stderr",
     "output_type": "stream",
     "text": [
      " 70%|███████   | 70/100 [00:09<00:03,  8.39it/s]"
     ]
    },
    {
     "name": "stdout",
     "output_type": "stream",
     "text": [
      "  Query execution time: 0.01 seconds\n",
      "  Query fetch time: 0.00 seconds\n",
      "  Query execution time: 0.01 seconds\n",
      "  Query fetch time: 0.00 seconds\n"
     ]
    },
    {
     "name": "stderr",
     "output_type": "stream",
     "text": [
      " 72%|███████▏  | 72/100 [00:09<00:03,  8.14it/s]"
     ]
    },
    {
     "name": "stdout",
     "output_type": "stream",
     "text": [
      "  Query execution time: 0.02 seconds\n",
      "  Query fetch time: 0.00 seconds\n"
     ]
    },
    {
     "name": "stderr",
     "output_type": "stream",
     "text": [
      " 73%|███████▎  | 73/100 [00:09<00:03,  7.16it/s]"
     ]
    },
    {
     "name": "stdout",
     "output_type": "stream",
     "text": [
      "  Query execution time: 0.02 seconds\n",
      "  Query fetch time: 0.00 seconds\n"
     ]
    },
    {
     "name": "stderr",
     "output_type": "stream",
     "text": [
      " 76%|███████▌  | 76/100 [00:09<00:02,  8.69it/s]"
     ]
    },
    {
     "name": "stdout",
     "output_type": "stream",
     "text": [
      "  Query execution time: 0.02 seconds\n",
      "  Query fetch time: 0.00 seconds\n",
      "  Query execution time: 0.01 seconds\n",
      "  Query fetch time: 0.00 seconds\n",
      "  Query execution time: 0.01 seconds\n",
      "  Query fetch time: 0.00 seconds\n",
      "  Query execution time: 0.02 seconds\n",
      "  Query fetch time: 0.00 seconds\n"
     ]
    },
    {
     "name": "stderr",
     "output_type": "stream",
     "text": [
      " 80%|████████  | 80/100 [00:10<00:02,  8.47it/s]"
     ]
    },
    {
     "name": "stdout",
     "output_type": "stream",
     "text": [
      "  Query execution time: 0.02 seconds\n",
      "  Query fetch time: 0.00 seconds\n",
      "  Query execution time: 0.01 seconds\n",
      "  Query fetch time: 0.00 seconds\n",
      "  Query execution time: 0.01 seconds\n",
      "  Query fetch time: 0.00 seconds\n",
      "  Query execution time: 0.01 seconds\n",
      "  Query fetch time: 0.00 seconds\n"
     ]
    },
    {
     "name": "stderr",
     "output_type": "stream",
     "text": [
      " 82%|████████▏ | 82/100 [00:10<00:01, 10.33it/s]"
     ]
    },
    {
     "name": "stdout",
     "output_type": "stream",
     "text": [
      "  Query execution time: 0.01 seconds\n",
      "  Query fetch time: 0.00 seconds\n"
     ]
    },
    {
     "name": "stderr",
     "output_type": "stream",
     "text": [
      " 86%|████████▌ | 86/100 [00:10<00:01, 10.84it/s]"
     ]
    },
    {
     "name": "stdout",
     "output_type": "stream",
     "text": [
      "  Query execution time: 0.02 seconds\n",
      "  Query fetch time: 0.00 seconds\n",
      "  Query execution time: 0.01 seconds\n",
      "  Query fetch time: 0.00 seconds\n",
      "  Query execution time: 0.01 seconds\n",
      "  Query fetch time: 0.00 seconds\n",
      "  Query execution time: 0.01 seconds\n",
      "  Query fetch time: 0.00 seconds\n"
     ]
    },
    {
     "name": "stderr",
     "output_type": "stream",
     "text": [
      " 88%|████████▊ | 88/100 [00:11<00:01,  7.64it/s]"
     ]
    },
    {
     "name": "stdout",
     "output_type": "stream",
     "text": [
      "  Query execution time: 0.01 seconds\n",
      "  Query fetch time: 0.00 seconds\n",
      "  Query execution time: 0.01 seconds\n",
      "  Query fetch time: 0.00 seconds\n"
     ]
    },
    {
     "name": "stderr",
     "output_type": "stream",
     "text": [
      " 90%|█████████ | 90/100 [00:11<00:01,  7.60it/s]"
     ]
    },
    {
     "name": "stdout",
     "output_type": "stream",
     "text": [
      "  Query execution time: 0.01 seconds\n",
      "  Query fetch time: 0.00 seconds\n",
      "  Query execution time: 0.01 seconds\n",
      "  Query fetch time: 0.00 seconds\n",
      "  Query execution time: 0.01 seconds\n",
      "  Query fetch time: 0.00 seconds\n"
     ]
    },
    {
     "name": "stderr",
     "output_type": "stream",
     "text": [
      " 94%|█████████▍| 94/100 [00:12<00:00,  9.44it/s]"
     ]
    },
    {
     "name": "stdout",
     "output_type": "stream",
     "text": [
      "  Query execution time: 0.01 seconds\n",
      "  Query fetch time: 0.00 seconds\n",
      "  Query execution time: 0.01 seconds\n",
      "  Query fetch time: 0.00 seconds\n",
      "  Query execution time: 0.01 seconds\n",
      "  Query fetch time: 0.00 seconds\n"
     ]
    },
    {
     "name": "stderr",
     "output_type": "stream",
     "text": [
      " 96%|█████████▌| 96/100 [00:12<00:00,  8.80it/s]"
     ]
    },
    {
     "name": "stdout",
     "output_type": "stream",
     "text": [
      "  Query execution time: 0.02 seconds\n",
      "  Query fetch time: 0.00 seconds\n",
      "  Query execution time: 0.01 seconds\n",
      "  Query fetch time: 0.00 seconds\n",
      "  Query execution time: 0.01 seconds\n",
      "  Query fetch time: 0.00 seconds\n"
     ]
    },
    {
     "name": "stderr",
     "output_type": "stream",
     "text": [
      "100%|██████████| 100/100 [00:12<00:00,  7.90it/s]"
     ]
    },
    {
     "name": "stdout",
     "output_type": "stream",
     "text": [
      "  Query execution time: 0.01 seconds\n",
      "  Query fetch time: 0.00 seconds\n",
      "  Query execution time: 0.01 seconds\n",
      "  Query fetch time: 0.00 seconds\n",
      "  Query execution time: 0.01 seconds\n",
      "  Query fetch time: 0.00 seconds\n",
      "Embedding model: BAAI/bge-small-en, Enricher: add_headers_and_previous_3_sentences\n"
     ]
    },
    {
     "name": "stderr",
     "output_type": "stream",
     "text": [
      "\n",
      "  1%|          | 1/100 [00:00<00:12,  8.14it/s]"
     ]
    },
    {
     "name": "stdout",
     "output_type": "stream",
     "text": [
      "  Query execution time: 0.02 seconds\n",
      "  Query fetch time: 0.00 seconds\n"
     ]
    },
    {
     "name": "stderr",
     "output_type": "stream",
     "text": [
      "  4%|▍         | 4/100 [00:00<00:09, 10.26it/s]"
     ]
    },
    {
     "name": "stdout",
     "output_type": "stream",
     "text": [
      "  Query execution time: 0.02 seconds\n",
      "  Query fetch time: 0.00 seconds\n",
      "  Query execution time: 0.01 seconds\n",
      "  Query fetch time: 0.00 seconds\n",
      "  Query execution time: 0.01 seconds\n",
      "  Query fetch time: 0.00 seconds\n"
     ]
    },
    {
     "name": "stderr",
     "output_type": "stream",
     "text": [
      "  6%|▌         | 6/100 [00:00<00:10,  8.67it/s]"
     ]
    },
    {
     "name": "stdout",
     "output_type": "stream",
     "text": [
      "  Query execution time: 0.02 seconds\n",
      "  Query fetch time: 0.00 seconds\n",
      "  Query execution time: 0.01 seconds\n",
      "  Query fetch time: 0.00 seconds\n",
      "  Query execution time: 0.01 seconds\n",
      "  Query fetch time: 0.00 seconds\n",
      "  Query execution time: 0.01 seconds\n",
      "  Query fetch time: 0.00 seconds\n"
     ]
    },
    {
     "name": "stderr",
     "output_type": "stream",
     "text": [
      "  9%|▉         | 9/100 [00:00<00:07, 12.15it/s]"
     ]
    },
    {
     "name": "stdout",
     "output_type": "stream",
     "text": [
      "  Query execution time: 0.01 seconds\n",
      "  Query fetch time: 0.00 seconds\n",
      "  Query execution time: 0.02 seconds\n",
      "  Query fetch time: 0.00 seconds\n"
     ]
    },
    {
     "name": "stderr",
     "output_type": "stream",
     "text": [
      " 13%|█▎        | 13/100 [00:01<00:09,  9.44it/s]"
     ]
    },
    {
     "name": "stdout",
     "output_type": "stream",
     "text": [
      "  Query execution time: 0.01 seconds\n",
      "  Query fetch time: 0.00 seconds\n",
      "  Query execution time: 0.01 seconds\n",
      "  Query fetch time: 0.00 seconds\n",
      "  Query execution time: 0.01 seconds\n",
      "  Query fetch time: 0.00 seconds\n",
      "  Query execution time: 0.01 seconds\n",
      "  Query fetch time: 0.00 seconds\n"
     ]
    },
    {
     "name": "stderr",
     "output_type": "stream",
     "text": [
      " 17%|█▋        | 17/100 [00:01<00:06, 12.87it/s]"
     ]
    },
    {
     "name": "stdout",
     "output_type": "stream",
     "text": [
      "  Query execution time: 0.01 seconds\n",
      "  Query fetch time: 0.00 seconds\n",
      "  Query execution time: 0.01 seconds\n",
      "  Query fetch time: 0.00 seconds\n",
      "  Query execution time: 0.01 seconds\n",
      "  Query fetch time: 0.00 seconds\n",
      "  Query execution time: 0.01 seconds\n",
      "  Query fetch time: 0.00 seconds\n"
     ]
    },
    {
     "name": "stderr",
     "output_type": "stream",
     "text": [
      " 22%|██▏       | 22/100 [00:01<00:04, 16.28it/s]"
     ]
    },
    {
     "name": "stdout",
     "output_type": "stream",
     "text": [
      "  Query execution time: 0.01 seconds\n",
      "  Query fetch time: 0.00 seconds\n",
      "  Query execution time: 0.01 seconds\n",
      "  Query fetch time: 0.00 seconds\n",
      "  Query execution time: 0.01 seconds\n",
      "  Query fetch time: 0.00 seconds\n",
      "  Query execution time: 0.01 seconds\n",
      "  Query fetch time: 0.00 seconds\n"
     ]
    },
    {
     "name": "stderr",
     "output_type": "stream",
     "text": [
      " 24%|██▍       | 24/100 [00:02<00:06, 11.93it/s]"
     ]
    },
    {
     "name": "stdout",
     "output_type": "stream",
     "text": [
      "  Query execution time: 0.01 seconds\n",
      "  Query fetch time: 0.00 seconds\n",
      "  Query execution time: 0.01 seconds\n",
      "  Query fetch time: 0.00 seconds\n"
     ]
    },
    {
     "name": "stderr",
     "output_type": "stream",
     "text": [
      " 26%|██▌       | 26/100 [00:02<00:08,  8.42it/s]"
     ]
    },
    {
     "name": "stdout",
     "output_type": "stream",
     "text": [
      "  Query execution time: 0.03 seconds\n",
      "  Query fetch time: 0.00 seconds\n",
      "  Query execution time: 0.01 seconds\n",
      "  Query fetch time: 0.00 seconds\n",
      "  Query execution time: 0.01 seconds\n",
      "  Query fetch time: 0.00 seconds\n"
     ]
    },
    {
     "name": "stderr",
     "output_type": "stream",
     "text": [
      " 30%|███       | 30/100 [00:02<00:07,  9.62it/s]"
     ]
    },
    {
     "name": "stdout",
     "output_type": "stream",
     "text": [
      "  Query execution time: 0.01 seconds\n",
      "  Query fetch time: 0.00 seconds\n",
      "  Query execution time: 0.01 seconds\n",
      "  Query fetch time: 0.00 seconds\n",
      "  Query execution time: 0.01 seconds\n",
      "  Query fetch time: 0.00 seconds\n"
     ]
    },
    {
     "name": "stderr",
     "output_type": "stream",
     "text": [
      " 32%|███▏      | 32/100 [00:03<00:07,  8.97it/s]"
     ]
    },
    {
     "name": "stdout",
     "output_type": "stream",
     "text": [
      "  Query execution time: 0.01 seconds\n",
      "  Query fetch time: 0.00 seconds\n",
      "  Query execution time: 0.01 seconds\n",
      "  Query fetch time: 0.00 seconds\n",
      "  Query execution time: 0.01 seconds\n",
      "  Query fetch time: 0.00 seconds\n"
     ]
    },
    {
     "name": "stderr",
     "output_type": "stream",
     "text": [
      " 36%|███▌      | 36/100 [00:03<00:06, 10.13it/s]"
     ]
    },
    {
     "name": "stdout",
     "output_type": "stream",
     "text": [
      "  Query execution time: 0.01 seconds\n",
      "  Query fetch time: 0.00 seconds\n",
      "  Query execution time: 0.01 seconds\n",
      "  Query fetch time: 0.00 seconds\n",
      "  Query execution time: 0.01 seconds\n",
      "  Query fetch time: 0.00 seconds\n",
      "  Query execution time: 0.01 seconds\n",
      "  Query fetch time: 0.00 seconds\n"
     ]
    },
    {
     "name": "stderr",
     "output_type": "stream",
     "text": [
      " 38%|███▊      | 38/100 [00:03<00:05, 11.76it/s]"
     ]
    },
    {
     "name": "stdout",
     "output_type": "stream",
     "text": [
      "  Query execution time: 0.01 seconds\n",
      "  Query fetch time: 0.00 seconds\n",
      "  Query execution time: 0.02 seconds\n",
      "  Query fetch time: 0.00 seconds\n"
     ]
    },
    {
     "name": "stderr",
     "output_type": "stream",
     "text": [
      " 40%|████      | 40/100 [00:04<00:07,  8.15it/s]"
     ]
    },
    {
     "name": "stdout",
     "output_type": "stream",
     "text": [
      "  Query execution time: 0.02 seconds\n",
      "  Query fetch time: 0.00 seconds\n",
      "  Query execution time: 0.01 seconds\n",
      "  Query fetch time: 0.00 seconds\n"
     ]
    },
    {
     "name": "stderr",
     "output_type": "stream",
     "text": [
      " 44%|████▍     | 44/100 [00:04<00:05,  9.42it/s]"
     ]
    },
    {
     "name": "stdout",
     "output_type": "stream",
     "text": [
      "  Query execution time: 0.02 seconds\n",
      "  Query fetch time: 0.00 seconds\n",
      "  Query execution time: 0.01 seconds\n",
      "  Query fetch time: 0.00 seconds\n",
      "  Query execution time: 0.01 seconds\n",
      "  Query fetch time: 0.00 seconds\n",
      "  Query execution time: 0.01 seconds\n",
      "  Query fetch time: 0.00 seconds\n"
     ]
    },
    {
     "name": "stderr",
     "output_type": "stream",
     "text": [
      " 50%|█████     | 50/100 [00:04<00:03, 14.03it/s]"
     ]
    },
    {
     "name": "stdout",
     "output_type": "stream",
     "text": [
      "  Query execution time: 0.01 seconds\n",
      "  Query fetch time: 0.00 seconds\n",
      "  Query execution time: 0.01 seconds\n",
      "  Query fetch time: 0.00 seconds\n",
      "  Query execution time: 0.01 seconds\n",
      "  Query fetch time: 0.00 seconds\n",
      "  Query execution time: 0.01 seconds\n",
      "  Query fetch time: 0.00 seconds\n",
      "  Query execution time: 0.01 seconds\n",
      "  Query fetch time: 0.00 seconds\n"
     ]
    },
    {
     "name": "stderr",
     "output_type": "stream",
     "text": [
      " 55%|█████▌    | 55/100 [00:05<00:03, 14.25it/s]"
     ]
    },
    {
     "name": "stdout",
     "output_type": "stream",
     "text": [
      "  Query execution time: 0.01 seconds\n",
      "  Query fetch time: 0.00 seconds\n",
      "  Query execution time: 0.01 seconds\n",
      "  Query fetch time: 0.00 seconds\n",
      "  Query execution time: 0.01 seconds\n",
      "  Query fetch time: 0.00 seconds\n",
      "  Query execution time: 0.01 seconds\n",
      "  Query fetch time: 0.00 seconds\n",
      "  Query execution time: 0.01 seconds\n",
      "  Query fetch time: 0.00 seconds\n",
      "  Query execution time: 0.01 seconds\n",
      "  Query fetch time: 0.00 seconds\n"
     ]
    },
    {
     "name": "stderr",
     "output_type": "stream",
     "text": [
      " 59%|█████▉    | 59/100 [00:05<00:03, 12.89it/s]"
     ]
    },
    {
     "name": "stdout",
     "output_type": "stream",
     "text": [
      "  Query execution time: 0.02 seconds\n",
      "  Query fetch time: 0.00 seconds\n",
      "  Query execution time: 0.01 seconds\n",
      "  Query fetch time: 0.00 seconds\n",
      "  Query execution time: 0.01 seconds\n",
      "  Query fetch time: 0.00 seconds\n",
      "  Query execution time: 0.01 seconds\n",
      "  Query fetch time: 0.00 seconds\n"
     ]
    },
    {
     "name": "stderr",
     "output_type": "stream",
     "text": [
      " 61%|██████    | 61/100 [00:05<00:02, 14.18it/s]"
     ]
    },
    {
     "name": "stdout",
     "output_type": "stream",
     "text": [
      "  Query execution time: 0.01 seconds\n",
      "  Query fetch time: 0.00 seconds\n",
      "  Query execution time: 0.01 seconds\n",
      "  Query fetch time: 0.00 seconds\n"
     ]
    },
    {
     "name": "stderr",
     "output_type": "stream",
     "text": [
      " 65%|██████▌   | 65/100 [00:06<00:02, 12.24it/s]"
     ]
    },
    {
     "name": "stdout",
     "output_type": "stream",
     "text": [
      "  Query execution time: 0.02 seconds\n",
      "  Query fetch time: 0.00 seconds\n",
      "  Query execution time: 0.01 seconds\n",
      "  Query fetch time: 0.00 seconds\n",
      "  Query execution time: 0.01 seconds\n",
      "  Query fetch time: 0.00 seconds\n",
      "  Query execution time: 0.01 seconds\n",
      "  Query fetch time: 0.00 seconds\n"
     ]
    },
    {
     "name": "stderr",
     "output_type": "stream",
     "text": [
      " 69%|██████▉   | 69/100 [00:06<00:02, 12.12it/s]"
     ]
    },
    {
     "name": "stdout",
     "output_type": "stream",
     "text": [
      "  Query execution time: 0.01 seconds\n",
      "  Query fetch time: 0.00 seconds\n",
      "  Query execution time: 0.01 seconds\n",
      "  Query fetch time: 0.00 seconds\n",
      "  Query execution time: 0.01 seconds\n",
      "  Query fetch time: 0.00 seconds\n",
      "  Query execution time: 0.01 seconds\n",
      "  Query fetch time: 0.00 seconds\n"
     ]
    },
    {
     "name": "stderr",
     "output_type": "stream",
     "text": [
      " 73%|███████▎  | 73/100 [00:06<00:01, 15.09it/s]"
     ]
    },
    {
     "name": "stdout",
     "output_type": "stream",
     "text": [
      "  Query execution time: 0.01 seconds\n",
      "  Query fetch time: 0.00 seconds\n",
      "  Query execution time: 0.01 seconds\n",
      "  Query fetch time: 0.00 seconds\n",
      "  Query execution time: 0.01 seconds\n",
      "  Query fetch time: 0.00 seconds\n",
      "  Query execution time: 0.01 seconds\n",
      "  Query fetch time: 0.00 seconds\n"
     ]
    },
    {
     "name": "stderr",
     "output_type": "stream",
     "text": [
      " 75%|███████▌  | 75/100 [00:06<00:02, 12.13it/s]"
     ]
    },
    {
     "name": "stdout",
     "output_type": "stream",
     "text": [
      "  Query execution time: 0.02 seconds\n",
      "  Query fetch time: 0.00 seconds\n",
      "  Query execution time: 0.01 seconds\n",
      "  Query fetch time: 0.00 seconds\n"
     ]
    },
    {
     "name": "stderr",
     "output_type": "stream",
     "text": [
      " 79%|███████▉  | 79/100 [00:07<00:01, 12.13it/s]"
     ]
    },
    {
     "name": "stdout",
     "output_type": "stream",
     "text": [
      "  Query execution time: 0.02 seconds\n",
      "  Query fetch time: 0.00 seconds\n",
      "  Query execution time: 0.01 seconds\n",
      "  Query fetch time: 0.00 seconds\n",
      "  Query execution time: 0.01 seconds\n",
      "  Query fetch time: 0.00 seconds\n",
      "  Query execution time: 0.01 seconds\n",
      "  Query fetch time: 0.00 seconds\n"
     ]
    },
    {
     "name": "stderr",
     "output_type": "stream",
     "text": [
      " 81%|████████  | 81/100 [00:07<00:01, 10.55it/s]"
     ]
    },
    {
     "name": "stdout",
     "output_type": "stream",
     "text": [
      "  Query execution time: 0.02 seconds\n",
      "  Query fetch time: 0.00 seconds\n",
      "  Query execution time: 0.01 seconds\n",
      "  Query fetch time: 0.00 seconds\n"
     ]
    },
    {
     "name": "stderr",
     "output_type": "stream",
     "text": [
      " 83%|████████▎ | 83/100 [00:07<00:01,  9.75it/s]"
     ]
    },
    {
     "name": "stdout",
     "output_type": "stream",
     "text": [
      "  Query execution time: 0.01 seconds\n",
      "  Query fetch time: 0.00 seconds\n"
     ]
    },
    {
     "name": "stderr",
     "output_type": "stream",
     "text": [
      " 85%|████████▌ | 85/100 [00:07<00:01,  8.86it/s]"
     ]
    },
    {
     "name": "stdout",
     "output_type": "stream",
     "text": [
      "  Query execution time: 0.01 seconds\n",
      "  Query fetch time: 0.00 seconds\n",
      "  Query execution time: 0.01 seconds\n",
      "  Query fetch time: 0.00 seconds\n",
      "  Query execution time: 0.01 seconds\n",
      "  Query fetch time: 0.00 seconds\n"
     ]
    },
    {
     "name": "stderr",
     "output_type": "stream",
     "text": [
      " 89%|████████▉ | 89/100 [00:08<00:01,  8.77it/s]"
     ]
    },
    {
     "name": "stdout",
     "output_type": "stream",
     "text": [
      "  Query execution time: 0.02 seconds\n",
      "  Query fetch time: 0.00 seconds\n",
      "  Query execution time: 0.01 seconds\n",
      "  Query fetch time: 0.00 seconds\n",
      "  Query execution time: 0.01 seconds\n",
      "  Query fetch time: 0.00 seconds\n",
      "  Query execution time: 0.01 seconds\n",
      "  Query fetch time: 0.00 seconds\n"
     ]
    },
    {
     "name": "stderr",
     "output_type": "stream",
     "text": [
      " 91%|█████████ | 91/100 [00:08<00:00, 10.48it/s]"
     ]
    },
    {
     "name": "stdout",
     "output_type": "stream",
     "text": [
      "  Query execution time: 0.01 seconds\n",
      "  Query fetch time: 0.00 seconds\n",
      "  Query execution time: 0.01 seconds\n",
      "  Query fetch time: 0.00 seconds\n"
     ]
    },
    {
     "name": "stderr",
     "output_type": "stream",
     "text": [
      " 95%|█████████▌| 95/100 [00:09<00:00,  9.62it/s]"
     ]
    },
    {
     "name": "stdout",
     "output_type": "stream",
     "text": [
      "  Query execution time: 0.01 seconds\n",
      "  Query fetch time: 0.00 seconds\n",
      "  Query execution time: 0.01 seconds\n",
      "  Query fetch time: 0.00 seconds\n",
      "  Query execution time: 0.01 seconds\n",
      "  Query fetch time: 0.00 seconds\n",
      "  Query execution time: 0.01 seconds\n",
      "  Query fetch time: 0.00 seconds\n"
     ]
    },
    {
     "name": "stderr",
     "output_type": "stream",
     "text": [
      "100%|██████████| 100/100 [00:09<00:00, 10.70it/s]"
     ]
    },
    {
     "name": "stdout",
     "output_type": "stream",
     "text": [
      "  Query execution time: 0.01 seconds\n",
      "  Query fetch time: 0.00 seconds\n",
      "  Query execution time: 0.02 seconds\n",
      "  Query fetch time: 0.00 seconds\n",
      "  Query execution time: 0.01 seconds\n",
      "  Query fetch time: 0.00 seconds\n",
      "  Query execution time: 0.01 seconds\n",
      "  Query fetch time: 0.00 seconds\n",
      "Embedding model: BAAI/bge-small-en, Enricher: add_headers_and_previous_7_sentences\n"
     ]
    },
    {
     "name": "stderr",
     "output_type": "stream",
     "text": [
      "\n",
      "  3%|▎         | 3/100 [00:00<00:06, 14.86it/s]"
     ]
    },
    {
     "name": "stdout",
     "output_type": "stream",
     "text": [
      "  Query execution time: 0.01 seconds\n",
      "  Query fetch time: 0.00 seconds\n",
      "  Query execution time: 0.01 seconds\n",
      "  Query fetch time: 0.00 seconds\n",
      "  Query execution time: 0.01 seconds\n",
      "  Query fetch time: 0.00 seconds\n",
      "  Query execution time: 0.01 seconds\n",
      "  Query fetch time: 0.00 seconds\n"
     ]
    },
    {
     "name": "stderr",
     "output_type": "stream",
     "text": [
      "  8%|▊         | 8/100 [00:00<00:04, 18.87it/s]"
     ]
    },
    {
     "name": "stdout",
     "output_type": "stream",
     "text": [
      "  Query execution time: 0.01 seconds\n",
      "  Query fetch time: 0.00 seconds\n",
      "  Query execution time: 0.01 seconds\n",
      "  Query fetch time: 0.00 seconds\n",
      "  Query execution time: 0.01 seconds\n",
      "  Query fetch time: 0.00 seconds\n",
      "  Query execution time: 0.01 seconds\n",
      "  Query fetch time: 0.00 seconds\n"
     ]
    },
    {
     "name": "stderr",
     "output_type": "stream",
     "text": [
      " 13%|█▎        | 13/100 [00:00<00:04, 19.73it/s]"
     ]
    },
    {
     "name": "stdout",
     "output_type": "stream",
     "text": [
      "  Query execution time: 0.01 seconds\n",
      "  Query fetch time: 0.00 seconds\n",
      "  Query execution time: 0.01 seconds\n",
      "  Query fetch time: 0.00 seconds\n",
      "  Query execution time: 0.01 seconds\n",
      "  Query fetch time: 0.00 seconds\n",
      "  Query execution time: 0.01 seconds\n",
      "  Query fetch time: 0.00 seconds\n",
      "  Query execution time: 0.01 seconds\n",
      "  Query fetch time: 0.00 seconds\n"
     ]
    },
    {
     "name": "stderr",
     "output_type": "stream",
     "text": [
      " 16%|█▌        | 16/100 [00:00<00:04, 19.88it/s]"
     ]
    },
    {
     "name": "stdout",
     "output_type": "stream",
     "text": [
      "  Query execution time: 0.01 seconds\n",
      "  Query fetch time: 0.00 seconds\n",
      "  Query execution time: 0.01 seconds\n",
      "  Query fetch time: 0.00 seconds\n",
      "  Query execution time: 0.01 seconds\n",
      "  Query fetch time: 0.00 seconds\n",
      "  Query execution time: 0.01 seconds\n",
      "  Query fetch time: 0.00 seconds\n",
      "  Query execution time: 0.01 seconds\n",
      "  Query fetch time: 0.00 seconds\n"
     ]
    },
    {
     "name": "stderr",
     "output_type": "stream",
     "text": [
      " 22%|██▏       | 22/100 [00:01<00:03, 20.73it/s]"
     ]
    },
    {
     "name": "stdout",
     "output_type": "stream",
     "text": [
      "  Query execution time: 0.01 seconds\n",
      "  Query fetch time: 0.00 seconds\n",
      "  Query execution time: 0.01 seconds\n",
      "  Query fetch time: 0.00 seconds\n",
      "  Query execution time: 0.01 seconds\n",
      "  Query fetch time: 0.00 seconds\n",
      "  Query execution time: 0.01 seconds\n",
      "  Query fetch time: 0.00 seconds\n",
      "  Query execution time: 0.01 seconds\n",
      "  Query fetch time: 0.00 seconds\n"
     ]
    },
    {
     "name": "stderr",
     "output_type": "stream",
     "text": [
      " 28%|██▊       | 28/100 [00:01<00:03, 22.06it/s]"
     ]
    },
    {
     "name": "stdout",
     "output_type": "stream",
     "text": [
      "  Query execution time: 0.01 seconds\n",
      "  Query fetch time: 0.00 seconds\n",
      "  Query execution time: 0.01 seconds\n",
      "  Query fetch time: 0.00 seconds\n",
      "  Query execution time: 0.01 seconds\n",
      "  Query fetch time: 0.00 seconds\n",
      "  Query execution time: 0.01 seconds\n",
      "  Query fetch time: 0.00 seconds\n",
      "  Query execution time: 0.01 seconds\n",
      "  Query fetch time: 0.00 seconds\n"
     ]
    },
    {
     "name": "stderr",
     "output_type": "stream",
     "text": [
      " 31%|███       | 31/100 [00:01<00:04, 16.26it/s]"
     ]
    },
    {
     "name": "stdout",
     "output_type": "stream",
     "text": [
      "  Query execution time: 0.01 seconds\n",
      "  Query fetch time: 0.00 seconds\n",
      "  Query execution time: 0.01 seconds\n",
      "  Query fetch time: 0.00 seconds\n",
      "  Query execution time: 0.01 seconds\n",
      "  Query fetch time: 0.00 seconds\n",
      "  Query execution time: 0.01 seconds\n",
      "  Query fetch time: 0.00 seconds\n",
      "  Query execution time: 0.01 seconds\n",
      "  Query fetch time: 0.00 seconds\n"
     ]
    },
    {
     "name": "stderr",
     "output_type": "stream",
     "text": [
      " 37%|███▋      | 37/100 [00:02<00:04, 15.05it/s]"
     ]
    },
    {
     "name": "stdout",
     "output_type": "stream",
     "text": [
      "  Query execution time: 0.01 seconds\n",
      "  Query fetch time: 0.00 seconds\n",
      "  Query execution time: 0.01 seconds\n",
      "  Query fetch time: 0.00 seconds\n",
      "  Query execution time: 0.01 seconds\n",
      "  Query fetch time: 0.00 seconds\n",
      "  Query execution time: 0.01 seconds\n",
      "  Query fetch time: 0.00 seconds\n",
      "  Query execution time: 0.01 seconds\n",
      "  Query fetch time: 0.00 seconds\n"
     ]
    },
    {
     "name": "stderr",
     "output_type": "stream",
     "text": [
      " 43%|████▎     | 43/100 [00:02<00:03, 17.91it/s]"
     ]
    },
    {
     "name": "stdout",
     "output_type": "stream",
     "text": [
      "  Query execution time: 0.01 seconds\n",
      "  Query fetch time: 0.00 seconds\n",
      "  Query execution time: 0.01 seconds\n",
      "  Query fetch time: 0.00 seconds\n",
      "  Query execution time: 0.01 seconds\n",
      "  Query fetch time: 0.00 seconds\n",
      "  Query execution time: 0.01 seconds\n",
      "  Query fetch time: 0.00 seconds\n",
      "  Query execution time: 0.01 seconds\n",
      "  Query fetch time: 0.00 seconds\n"
     ]
    },
    {
     "name": "stderr",
     "output_type": "stream",
     "text": [
      " 46%|████▌     | 46/100 [00:02<00:02, 18.94it/s]"
     ]
    },
    {
     "name": "stdout",
     "output_type": "stream",
     "text": [
      "  Query execution time: 0.01 seconds\n",
      "  Query fetch time: 0.00 seconds\n",
      "  Query execution time: 0.01 seconds\n",
      "  Query fetch time: 0.00 seconds\n",
      "  Query execution time: 0.01 seconds\n",
      "  Query fetch time: 0.00 seconds\n",
      "  Query execution time: 0.01 seconds\n",
      "  Query fetch time: 0.00 seconds\n",
      "  Query execution time: 0.01 seconds\n",
      "  Query fetch time: 0.00 seconds\n"
     ]
    },
    {
     "name": "stderr",
     "output_type": "stream",
     "text": [
      " 52%|█████▏    | 52/100 [00:02<00:02, 21.05it/s]"
     ]
    },
    {
     "name": "stdout",
     "output_type": "stream",
     "text": [
      "  Query execution time: 0.01 seconds\n",
      "  Query fetch time: 0.00 seconds\n",
      "  Query execution time: 0.01 seconds\n",
      "  Query fetch time: 0.00 seconds\n",
      "  Query execution time: 0.01 seconds\n",
      "  Query fetch time: 0.00 seconds\n",
      "  Query execution time: 0.01 seconds\n",
      "  Query fetch time: 0.00 seconds\n",
      "  Query execution time: 0.01 seconds\n",
      "  Query fetch time: 0.00 seconds\n"
     ]
    },
    {
     "name": "stderr",
     "output_type": "stream",
     "text": [
      " 55%|█████▌    | 55/100 [00:02<00:02, 21.82it/s]"
     ]
    },
    {
     "name": "stdout",
     "output_type": "stream",
     "text": [
      "  Query execution time: 0.01 seconds\n",
      "  Query fetch time: 0.00 seconds\n",
      "  Query execution time: 0.01 seconds\n",
      "  Query fetch time: 0.00 seconds\n"
     ]
    },
    {
     "name": "stderr",
     "output_type": "stream",
     "text": [
      " 58%|█████▊    | 58/100 [00:03<00:02, 16.07it/s]"
     ]
    },
    {
     "name": "stdout",
     "output_type": "stream",
     "text": [
      "  Query execution time: 0.01 seconds\n",
      "  Query fetch time: 0.00 seconds\n",
      "  Query execution time: 0.01 seconds\n",
      "  Query fetch time: 0.00 seconds\n",
      "  Query execution time: 0.01 seconds\n",
      "  Query fetch time: 0.00 seconds\n",
      "  Query execution time: 0.01 seconds\n",
      "  Query fetch time: 0.00 seconds\n"
     ]
    },
    {
     "name": "stderr",
     "output_type": "stream",
     "text": [
      " 60%|██████    | 60/100 [00:03<00:02, 16.19it/s]"
     ]
    },
    {
     "name": "stdout",
     "output_type": "stream",
     "text": [
      "  Query execution time: 0.01 seconds\n",
      "  Query fetch time: 0.00 seconds\n",
      "  Query execution time: 0.01 seconds\n",
      "  Query fetch time: 0.00 seconds\n",
      "  Query execution time: 0.01 seconds\n",
      "  Query fetch time: 0.00 seconds\n"
     ]
    },
    {
     "name": "stderr",
     "output_type": "stream",
     "text": [
      " 63%|██████▎   | 63/100 [00:03<00:02, 13.43it/s]"
     ]
    },
    {
     "name": "stdout",
     "output_type": "stream",
     "text": [
      "  Query execution time: 0.02 seconds\n",
      "  Query fetch time: 0.00 seconds\n",
      "  Query execution time: 0.01 seconds\n",
      "  Query fetch time: 0.00 seconds\n"
     ]
    },
    {
     "name": "stderr",
     "output_type": "stream",
     "text": [
      " 67%|██████▋   | 67/100 [00:04<00:02, 12.78it/s]"
     ]
    },
    {
     "name": "stdout",
     "output_type": "stream",
     "text": [
      "  Query execution time: 0.01 seconds\n",
      "  Query fetch time: 0.00 seconds\n",
      "  Query execution time: 0.01 seconds\n",
      "  Query fetch time: 0.00 seconds\n",
      "  Query execution time: 0.01 seconds\n",
      "  Query fetch time: 0.00 seconds\n",
      "  Query execution time: 0.01 seconds\n",
      "  Query fetch time: 0.00 seconds\n",
      "  Query execution time: 0.01 seconds\n",
      "  Query fetch time: 0.00 seconds\n"
     ]
    },
    {
     "name": "stderr",
     "output_type": "stream",
     "text": [
      " 73%|███████▎  | 73/100 [00:04<00:01, 16.63it/s]"
     ]
    },
    {
     "name": "stdout",
     "output_type": "stream",
     "text": [
      "  Query execution time: 0.01 seconds\n",
      "  Query fetch time: 0.00 seconds\n",
      "  Query execution time: 0.01 seconds\n",
      "  Query fetch time: 0.00 seconds\n",
      "  Query execution time: 0.01 seconds\n",
      "  Query fetch time: 0.00 seconds\n",
      "  Query execution time: 0.01 seconds\n",
      "  Query fetch time: 0.00 seconds\n",
      "  Query execution time: 0.01 seconds\n",
      "  Query fetch time: 0.00 seconds\n"
     ]
    },
    {
     "name": "stderr",
     "output_type": "stream",
     "text": [
      " 76%|███████▌  | 76/100 [00:04<00:01, 17.87it/s]"
     ]
    },
    {
     "name": "stdout",
     "output_type": "stream",
     "text": [
      "  Query execution time: 0.01 seconds\n",
      "  Query fetch time: 0.00 seconds\n",
      "  Query execution time: 0.01 seconds\n",
      "  Query fetch time: 0.00 seconds\n",
      "  Query execution time: 0.01 seconds\n",
      "  Query fetch time: 0.00 seconds\n"
     ]
    },
    {
     "name": "stderr",
     "output_type": "stream",
     "text": [
      " 78%|███████▊  | 78/100 [00:04<00:01, 13.75it/s]"
     ]
    },
    {
     "name": "stdout",
     "output_type": "stream",
     "text": [
      "  Query execution time: 0.01 seconds\n",
      "  Query fetch time: 0.00 seconds\n",
      "  Query execution time: 0.01 seconds\n",
      "  Query fetch time: 0.00 seconds\n"
     ]
    },
    {
     "name": "stderr",
     "output_type": "stream",
     "text": [
      " 80%|████████  | 80/100 [00:04<00:01, 11.80it/s]"
     ]
    },
    {
     "name": "stdout",
     "output_type": "stream",
     "text": [
      "  Query execution time: 0.01 seconds\n",
      "  Query fetch time: 0.00 seconds\n",
      "  Query execution time: 0.01 seconds\n",
      "  Query fetch time: 0.00 seconds\n"
     ]
    },
    {
     "name": "stderr",
     "output_type": "stream",
     "text": [
      " 84%|████████▍ | 84/100 [00:05<00:01, 12.25it/s]"
     ]
    },
    {
     "name": "stdout",
     "output_type": "stream",
     "text": [
      "  Query execution time: 0.01 seconds\n",
      "  Query fetch time: 0.00 seconds\n",
      "  Query execution time: 0.01 seconds\n",
      "  Query fetch time: 0.00 seconds\n",
      "  Query execution time: 0.01 seconds\n",
      "  Query fetch time: 0.00 seconds\n",
      "  Query execution time: 0.01 seconds\n",
      "  Query fetch time: 0.00 seconds\n",
      "  Query execution time: 0.01 seconds\n",
      "  Query fetch time: 0.00 seconds\n"
     ]
    },
    {
     "name": "stderr",
     "output_type": "stream",
     "text": [
      " 90%|█████████ | 90/100 [00:05<00:00, 16.44it/s]"
     ]
    },
    {
     "name": "stdout",
     "output_type": "stream",
     "text": [
      "  Query execution time: 0.01 seconds\n",
      "  Query fetch time: 0.00 seconds\n",
      "  Query execution time: 0.01 seconds\n",
      "  Query fetch time: 0.00 seconds\n",
      "  Query execution time: 0.01 seconds\n",
      "  Query fetch time: 0.00 seconds\n",
      "  Query execution time: 0.01 seconds\n",
      "  Query fetch time: 0.00 seconds\n",
      "  Query execution time: 0.01 seconds\n",
      "  Query fetch time: 0.00 seconds\n"
     ]
    },
    {
     "name": "stderr",
     "output_type": "stream",
     "text": [
      " 94%|█████████▍| 94/100 [00:05<00:00, 14.16it/s]"
     ]
    },
    {
     "name": "stdout",
     "output_type": "stream",
     "text": [
      "  Query execution time: 0.01 seconds\n",
      "  Query fetch time: 0.00 seconds\n",
      "  Query execution time: 0.01 seconds\n",
      "  Query fetch time: 0.00 seconds\n",
      "  Query execution time: 0.01 seconds\n",
      "  Query fetch time: 0.00 seconds\n",
      "  Query execution time: 0.01 seconds\n",
      "  Query fetch time: 0.00 seconds\n",
      "  Query execution time: 0.01 seconds\n",
      "  Query fetch time: 0.00 seconds\n"
     ]
    },
    {
     "name": "stderr",
     "output_type": "stream",
     "text": [
      " 97%|█████████▋| 97/100 [00:06<00:00, 16.31it/s]"
     ]
    },
    {
     "name": "stdout",
     "output_type": "stream",
     "text": [
      "  Query execution time: 0.01 seconds\n",
      "  Query fetch time: 0.00 seconds\n",
      "  Query execution time: 0.01 seconds\n",
      "  Query fetch time: 0.00 seconds\n"
     ]
    },
    {
     "name": "stderr",
     "output_type": "stream",
     "text": [
      "100%|██████████| 100/100 [00:06<00:00, 15.81it/s]"
     ]
    },
    {
     "name": "stdout",
     "output_type": "stream",
     "text": [
      "  Query execution time: 0.01 seconds\n",
      "  Query fetch time: 0.00 seconds\n",
      "  Query execution time: 0.01 seconds\n",
      "  Query fetch time: 0.00 seconds\n"
     ]
    },
    {
     "name": "stderr",
     "output_type": "stream",
     "text": [
      "\n"
     ]
    }
   ],
   "source": [
    "from itertools import product\n",
    "\n",
    "embedding_models = ['BAAI/bge-small-en']\n",
    "if device == 'cuda':\n",
    "    embedding_models += ['bert-base-uncased', 'adsabs/astroBERT']\n",
    "enrichers = ENRICHMENT_FN.keys()\n",
    "combos = list(product(embedding_models, enrichers))\n",
    "\n",
    "model_names_to_tables = {\n",
    "    'BAAI/bge-small-en': 'bge',\n",
    "    'bert-base-uncased': 'bert_hnsw',\n",
    "    'adsabs/astroBERT': 'astrobert_hnsw'\n",
    "}\n",
    "\n",
    "# Dict mapping \"model name\": pd.DataFrame() of results (enrichment functions used -> columns)\n",
    "results = {model: pd.DataFrame() for model in embedding_models}\n",
    "\n",
    "for embedding_model, enricher_name in combos:\n",
    "    print(f\"Embedding model: {embedding_model}, Enricher: {enricher_name}\")\n",
    "    embedder = get_embedder(embedding_model, device=device)\n",
    "    enricher = get_enricher(enricher_name)\n",
    "    table_name = model_names_to_tables[embedding_model]\n",
    "    ranks = []\n",
    "    for i in tqdm(range(len(examples))):\n",
    "        example = examples.iloc[i]\n",
    "        ranks += get_ranks(\n",
    "            example=example, \n",
    "            embedder=embedder, \n",
    "            enricher=enricher,\n",
    "            table_name=table_name,\n",
    "            top_k=350000,\n",
    "            ef_search=350000)\n",
    "    series = pd.Series(ranks)\n",
    "    results[embedding_model][enricher_name] = series\n",
    "\n"
   ]
  },
  {
   "cell_type": "code",
   "execution_count": 6,
   "metadata": {},
   "outputs": [
    {
     "data": {
      "text/html": [
       "<div>\n",
       "<style scoped>\n",
       "    .dataframe tbody tr th:only-of-type {\n",
       "        vertical-align: middle;\n",
       "    }\n",
       "\n",
       "    .dataframe tbody tr th {\n",
       "        vertical-align: top;\n",
       "    }\n",
       "\n",
       "    .dataframe thead th {\n",
       "        text-align: right;\n",
       "    }\n",
       "</style>\n",
       "<table border=\"1\" class=\"dataframe\">\n",
       "  <thead>\n",
       "    <tr style=\"text-align: right;\">\n",
       "      <th></th>\n",
       "      <th>identity</th>\n",
       "      <th>add_abstract</th>\n",
       "      <th>add_title</th>\n",
       "      <th>add_title_and_abstract</th>\n",
       "      <th>add_previous_3_sentences</th>\n",
       "      <th>add_previous_7_sentences</th>\n",
       "      <th>add_headers_and_previous_3_sentences</th>\n",
       "      <th>add_headers_and_previous_7_sentences</th>\n",
       "    </tr>\n",
       "  </thead>\n",
       "  <tbody>\n",
       "    <tr>\n",
       "      <th>0</th>\n",
       "      <td>-1</td>\n",
       "      <td>-1</td>\n",
       "      <td>4</td>\n",
       "      <td>-1</td>\n",
       "      <td>-1</td>\n",
       "      <td>-1</td>\n",
       "      <td>-1</td>\n",
       "      <td>-1</td>\n",
       "    </tr>\n",
       "    <tr>\n",
       "      <th>1</th>\n",
       "      <td>-1</td>\n",
       "      <td>-1</td>\n",
       "      <td>-1</td>\n",
       "      <td>-1</td>\n",
       "      <td>-1</td>\n",
       "      <td>-1</td>\n",
       "      <td>-1</td>\n",
       "      <td>-1</td>\n",
       "    </tr>\n",
       "    <tr>\n",
       "      <th>2</th>\n",
       "      <td>-1</td>\n",
       "      <td>-1</td>\n",
       "      <td>-1</td>\n",
       "      <td>-1</td>\n",
       "      <td>3</td>\n",
       "      <td>-1</td>\n",
       "      <td>-1</td>\n",
       "      <td>-1</td>\n",
       "    </tr>\n",
       "    <tr>\n",
       "      <th>3</th>\n",
       "      <td>-1</td>\n",
       "      <td>-1</td>\n",
       "      <td>-1</td>\n",
       "      <td>-1</td>\n",
       "      <td>-1</td>\n",
       "      <td>-1</td>\n",
       "      <td>-1</td>\n",
       "      <td>-1</td>\n",
       "    </tr>\n",
       "    <tr>\n",
       "      <th>4</th>\n",
       "      <td>-1</td>\n",
       "      <td>-1</td>\n",
       "      <td>-1</td>\n",
       "      <td>-1</td>\n",
       "      <td>-1</td>\n",
       "      <td>-1</td>\n",
       "      <td>-1</td>\n",
       "      <td>-1</td>\n",
       "    </tr>\n",
       "    <tr>\n",
       "      <th>...</th>\n",
       "      <td>...</td>\n",
       "      <td>...</td>\n",
       "      <td>...</td>\n",
       "      <td>...</td>\n",
       "      <td>...</td>\n",
       "      <td>...</td>\n",
       "      <td>...</td>\n",
       "      <td>...</td>\n",
       "    </tr>\n",
       "    <tr>\n",
       "      <th>107</th>\n",
       "      <td>0</td>\n",
       "      <td>-1</td>\n",
       "      <td>-1</td>\n",
       "      <td>-1</td>\n",
       "      <td>-1</td>\n",
       "      <td>-1</td>\n",
       "      <td>-1</td>\n",
       "      <td>-1</td>\n",
       "    </tr>\n",
       "    <tr>\n",
       "      <th>108</th>\n",
       "      <td>-1</td>\n",
       "      <td>-1</td>\n",
       "      <td>-1</td>\n",
       "      <td>-1</td>\n",
       "      <td>-1</td>\n",
       "      <td>-1</td>\n",
       "      <td>-1</td>\n",
       "      <td>-1</td>\n",
       "    </tr>\n",
       "    <tr>\n",
       "      <th>109</th>\n",
       "      <td>-1</td>\n",
       "      <td>-1</td>\n",
       "      <td>-1</td>\n",
       "      <td>-1</td>\n",
       "      <td>4</td>\n",
       "      <td>4</td>\n",
       "      <td>-1</td>\n",
       "      <td>-1</td>\n",
       "    </tr>\n",
       "    <tr>\n",
       "      <th>110</th>\n",
       "      <td>-1</td>\n",
       "      <td>-1</td>\n",
       "      <td>-1</td>\n",
       "      <td>-1</td>\n",
       "      <td>-1</td>\n",
       "      <td>-1</td>\n",
       "      <td>-1</td>\n",
       "      <td>-1</td>\n",
       "    </tr>\n",
       "    <tr>\n",
       "      <th>111</th>\n",
       "      <td>-1</td>\n",
       "      <td>-1</td>\n",
       "      <td>-1</td>\n",
       "      <td>-1</td>\n",
       "      <td>-1</td>\n",
       "      <td>5</td>\n",
       "      <td>-1</td>\n",
       "      <td>-1</td>\n",
       "    </tr>\n",
       "  </tbody>\n",
       "</table>\n",
       "<p>112 rows × 8 columns</p>\n",
       "</div>"
      ],
      "text/plain": [
       "     identity  add_abstract  add_title  add_title_and_abstract  \\\n",
       "0          -1            -1          4                      -1   \n",
       "1          -1            -1         -1                      -1   \n",
       "2          -1            -1         -1                      -1   \n",
       "3          -1            -1         -1                      -1   \n",
       "4          -1            -1         -1                      -1   \n",
       "..        ...           ...        ...                     ...   \n",
       "107         0            -1         -1                      -1   \n",
       "108        -1            -1         -1                      -1   \n",
       "109        -1            -1         -1                      -1   \n",
       "110        -1            -1         -1                      -1   \n",
       "111        -1            -1         -1                      -1   \n",
       "\n",
       "     add_previous_3_sentences  add_previous_7_sentences  \\\n",
       "0                          -1                        -1   \n",
       "1                          -1                        -1   \n",
       "2                           3                        -1   \n",
       "3                          -1                        -1   \n",
       "4                          -1                        -1   \n",
       "..                        ...                       ...   \n",
       "107                        -1                        -1   \n",
       "108                        -1                        -1   \n",
       "109                         4                         4   \n",
       "110                        -1                        -1   \n",
       "111                        -1                         5   \n",
       "\n",
       "     add_headers_and_previous_3_sentences  \\\n",
       "0                                      -1   \n",
       "1                                      -1   \n",
       "2                                      -1   \n",
       "3                                      -1   \n",
       "4                                      -1   \n",
       "..                                    ...   \n",
       "107                                    -1   \n",
       "108                                    -1   \n",
       "109                                    -1   \n",
       "110                                    -1   \n",
       "111                                    -1   \n",
       "\n",
       "     add_headers_and_previous_7_sentences  \n",
       "0                                      -1  \n",
       "1                                      -1  \n",
       "2                                      -1  \n",
       "3                                      -1  \n",
       "4                                      -1  \n",
       "..                                    ...  \n",
       "107                                    -1  \n",
       "108                                    -1  \n",
       "109                                    -1  \n",
       "110                                    -1  \n",
       "111                                    -1  \n",
       "\n",
       "[112 rows x 8 columns]"
      ]
     },
     "execution_count": 6,
     "metadata": {},
     "output_type": "execute_result"
    }
   ],
   "source": [
    "results['BAAI/bge-small-en']"
   ]
  },
  {
   "cell_type": "code",
   "execution_count": 8,
   "metadata": {},
   "outputs": [
    {
     "name": "stdout",
     "output_type": "stream",
     "text": [
      "Saved results for BAAI/bge-small-en to tests/bge_ranks.csv\n"
     ]
    }
   ],
   "source": [
    "model_names_to_filenames = {\n",
    "    'BAAI/bge-small-en': 'bge',\n",
    "    'bert-base-uncased': 'bert',\n",
    "    'adsabs/astroBERT': 'astrobert'\n",
    "}\n",
    "\n",
    "# Save the results to CSV files\n",
    "for model_name, df in results.items():\n",
    "    filename = f\"tests/{model_names_to_filenames[model_name]}_ranks.csv\"\n",
    "    df.to_csv(filename, index=False)\n",
    "    print(f\"Saved results for {model_name} to {filename}\")"
   ]
  },
  {
   "cell_type": "code",
   "execution_count": null,
   "metadata": {},
   "outputs": [],
   "source": []
  }
 ],
 "metadata": {
  "kernelspec": {
   "display_name": "citeline",
   "language": "python",
   "name": "python3"
  },
  "language_info": {
   "codemirror_mode": {
    "name": "ipython",
    "version": 3
   },
   "file_extension": ".py",
   "mimetype": "text/x-python",
   "name": "python",
   "nbconvert_exporter": "python",
   "pygments_lexer": "ipython3",
   "version": "3.11.10"
  }
 },
 "nbformat": 4,
 "nbformat_minor": 2
}
