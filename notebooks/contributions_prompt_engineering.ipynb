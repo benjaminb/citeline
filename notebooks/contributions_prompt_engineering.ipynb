{
 "cells": [
  {
   "cell_type": "code",
   "execution_count": null,
   "id": "9346f4cf",
   "metadata": {},
   "outputs": [
    {
     "name": "stdout",
     "output_type": "stream",
     "text": [
      "<citeline.database.milvusdb.MilvusDB object at 0x10ca58dd0>\n",
      "Qwen/Qwen3-Embedding-0.6B, device=mps, normalize=True, dim=1024\n",
      "QueryExpander(name=add_prev_3, data_length=2980)\n"
     ]
    }
   ],
   "source": [
    "import pandas as pd\n",
    "from tqdm import tqdm\n",
    "import json\n",
    "import numpy as np\n",
    "import seaborn as sns\n",
    "import matplotlib.pyplot as plt\n",
    "from pprint import pprint\n",
    "from citeline.database.milvusdb import MilvusDB\n",
    "from citeline.embedders import Embedder\n",
    "from citeline.query_expander import get_expander\n",
    "from citeline.statistics import compute_statistics\n",
    "\n",
    "db = MilvusDB()\n",
    "print(db)\n",
    "\n",
    "tqdm.pandas()\n",
    "\n",
    "embedder = Embedder.create(\"Qwen/Qwen3-Embedding-0.6B\", device=\"mps\", normalize=True)\n",
    "print(embedder)\n",
    "\n",
    "expander = get_expander(\"add_prev_3\", path_to_data=\"../data/preprocessed/reviews.jsonl\")\n",
    "print(expander)"
   ]
  },
  {
   "cell_type": "code",
   "execution_count": null,
   "id": "376a0635",
   "metadata": {},
   "outputs": [
    {
     "name": "stderr",
     "output_type": "stream",
     "text": [
      "100%|██████████| 50/50 [00:08<00:00,  5.64it/s]"
     ]
    },
    {
     "name": "stdout",
     "output_type": "stream",
     "text": [
      "Number of rows after exploding: 73\n",
      "Number of distinct target dois: 73\n"
     ]
    },
    {
     "name": "stderr",
     "output_type": "stream",
     "text": [
      "\n"
     ]
    }
   ],
   "source": [
    "sample = pd.read_json(\"../data/dataset/nontrivial_100.jsonl\", lines=True)\n",
    "sample = sample.sample(50, random_state=42).reset_index(drop=True)\n",
    "\n",
    "# Apply query expansion and embed the queries\n",
    "sample[\"sent_no_cit\"] = expander(sample)\n",
    "sample[\"vector\"] = sample.progress_apply(lambda row: embedder([row[\"sent_no_cit\"]])[0], axis=1)\n",
    "\n",
    "# Expand any rows with more than one target doi\n",
    "sample_normalized = sample.explode(\"citation_dois\").reset_index(drop=True)\n",
    "print(f\"Number of rows after exploding: {len(sample_normalized)}\")\n",
    "\n",
    "# Get all the target dois\n",
    "target_dois = list(set(sample_normalized.citation_dois.tolist()))\n",
    "print(f\"Number of distinct target dois: {len(target_dois)}\")"
   ]
  },
  {
   "cell_type": "code",
   "execution_count": 49,
   "id": "d145a866",
   "metadata": {},
   "outputs": [
    {
     "data": {
      "text/html": [
       "<div>\n",
       "<style scoped>\n",
       "    .dataframe tbody tr th:only-of-type {\n",
       "        vertical-align: middle;\n",
       "    }\n",
       "\n",
       "    .dataframe tbody tr th {\n",
       "        vertical-align: top;\n",
       "    }\n",
       "\n",
       "    .dataframe thead th {\n",
       "        text-align: right;\n",
       "    }\n",
       "</style>\n",
       "<table border=\"1\" class=\"dataframe\">\n",
       "  <thead>\n",
       "    <tr style=\"text-align: right;\">\n",
       "      <th></th>\n",
       "      <th>source_doi</th>\n",
       "      <th>sent_original</th>\n",
       "      <th>sent_no_cit</th>\n",
       "      <th>sent_idx</th>\n",
       "      <th>citation_dois</th>\n",
       "      <th>pubdate</th>\n",
       "      <th>resolved_bibcodes</th>\n",
       "      <th>sent_cit_masked</th>\n",
       "      <th>vector</th>\n",
       "    </tr>\n",
       "  </thead>\n",
       "  <tbody>\n",
       "    <tr>\n",
       "      <th>0</th>\n",
       "      <td>10.1146/annurev-astro-081710-102521</td>\n",
       "      <td>Their abundance is important because molecular...</td>\n",
       "      <td>In this limit, the important reactions are dis...</td>\n",
       "      <td>318</td>\n",
       "      <td>[10.1046/j.1365-8711.2002.04940.x]</td>\n",
       "      <td>20110901</td>\n",
       "      <td>[2002MNRAS.329...18F]</td>\n",
       "      <td>Their abundance is important because molecular...</td>\n",
       "      <td>[-0.036558766, -0.016381446, -0.011056783, 0.0...</td>\n",
       "    </tr>\n",
       "    <tr>\n",
       "      <th>1</th>\n",
       "      <td>10.1146/annurev-astro-081817-051826</td>\n",
       "      <td>It is important to point out that the fraction...</td>\n",
       "      <td>Gesicki et al. (2014) derived masses and ages ...</td>\n",
       "      <td>231</td>\n",
       "      <td>[10.1051/0004-6361/201220678, 10.1051/0004-636...</td>\n",
       "      <td>20180901</td>\n",
       "      <td>[2013A&amp;A...549A.147B, 2017A&amp;A...605A..89B]</td>\n",
       "      <td>It is important to point out that the fraction...</td>\n",
       "      <td>[-0.016821792, -0.014033473, -0.008635541, 0.0...</td>\n",
       "    </tr>\n",
       "    <tr>\n",
       "      <th>2</th>\n",
       "      <td>10.1007/s00159-010-0029-x</td>\n",
       "      <td>How could the seed massive black holes have gr...</td>\n",
       "      <td>This argument is particularly important at ear...</td>\n",
       "      <td>259</td>\n",
       "      <td>[10.1086/422910, 10.1086/427065, 10.1086/50744...</td>\n",
       "      <td>20100701</td>\n",
       "      <td>[2004ApJ...613...36H, 2005ApJ...620...59S, 200...</td>\n",
       "      <td>How could the seed massive black holes have gr...</td>\n",
       "      <td>[-0.018864863, -0.06410713, -0.0063532544, 0.0...</td>\n",
       "    </tr>\n",
       "    <tr>\n",
       "      <th>3</th>\n",
       "      <td>10.1146/annurev.aa.31.090193.003441</td>\n",
       "      <td>Nature has somehow solved this problem in doub...</td>\n",
       "      <td>These models can reproduce the observed spectr...</td>\n",
       "      <td>457</td>\n",
       "      <td>[10.1086/161053]</td>\n",
       "      <td>19930101</td>\n",
       "      <td>[1983ApJ...269..423R]</td>\n",
       "      <td>Nature has somehow solved this problem in doub...</td>\n",
       "      <td>[0.044838626, -0.013867084, -0.0075066998, 0.0...</td>\n",
       "    </tr>\n",
       "    <tr>\n",
       "      <th>4</th>\n",
       "      <td>10.1007/s00159-012-0055-y</td>\n",
       "      <td>However, a similar linewidth–size scaling law ...</td>\n",
       "      <td>Size, internal velocity dispersion and column ...</td>\n",
       "      <td>306</td>\n",
       "      <td>[10.1051/0004-6361:20020629]</td>\n",
       "      <td>20121101</td>\n",
       "      <td>[2002A&amp;A...390..307O]</td>\n",
       "      <td>However, a similar linewidth–size scaling law ...</td>\n",
       "      <td>[-0.009350319, -0.05616111, -0.008808155, -0.0...</td>\n",
       "    </tr>\n",
       "  </tbody>\n",
       "</table>\n",
       "</div>"
      ],
      "text/plain": [
       "                            source_doi  \\\n",
       "0  10.1146/annurev-astro-081710-102521   \n",
       "1  10.1146/annurev-astro-081817-051826   \n",
       "2            10.1007/s00159-010-0029-x   \n",
       "3  10.1146/annurev.aa.31.090193.003441   \n",
       "4            10.1007/s00159-012-0055-y   \n",
       "\n",
       "                                       sent_original  \\\n",
       "0  Their abundance is important because molecular...   \n",
       "1  It is important to point out that the fraction...   \n",
       "2  How could the seed massive black holes have gr...   \n",
       "3  Nature has somehow solved this problem in doub...   \n",
       "4  However, a similar linewidth–size scaling law ...   \n",
       "\n",
       "                                         sent_no_cit  sent_idx  \\\n",
       "0  In this limit, the important reactions are dis...       318   \n",
       "1  Gesicki et al. (2014) derived masses and ages ...       231   \n",
       "2  This argument is particularly important at ear...       259   \n",
       "3  These models can reproduce the observed spectr...       457   \n",
       "4  Size, internal velocity dispersion and column ...       306   \n",
       "\n",
       "                                       citation_dois   pubdate  \\\n",
       "0                 [10.1046/j.1365-8711.2002.04940.x]  20110901   \n",
       "1  [10.1051/0004-6361/201220678, 10.1051/0004-636...  20180901   \n",
       "2  [10.1086/422910, 10.1086/427065, 10.1086/50744...  20100701   \n",
       "3                                   [10.1086/161053]  19930101   \n",
       "4                       [10.1051/0004-6361:20020629]  20121101   \n",
       "\n",
       "                                   resolved_bibcodes  \\\n",
       "0                              [2002MNRAS.329...18F]   \n",
       "1         [2013A&A...549A.147B, 2017A&A...605A..89B]   \n",
       "2  [2004ApJ...613...36H, 2005ApJ...620...59S, 200...   \n",
       "3                              [1983ApJ...269..423R]   \n",
       "4                              [2002A&A...390..307O]   \n",
       "\n",
       "                                     sent_cit_masked  \\\n",
       "0  Their abundance is important because molecular...   \n",
       "1  It is important to point out that the fraction...   \n",
       "2  How could the seed massive black holes have gr...   \n",
       "3  Nature has somehow solved this problem in doub...   \n",
       "4  However, a similar linewidth–size scaling law ...   \n",
       "\n",
       "                                              vector  \n",
       "0  [-0.036558766, -0.016381446, -0.011056783, 0.0...  \n",
       "1  [-0.016821792, -0.014033473, -0.008635541, 0.0...  \n",
       "2  [-0.018864863, -0.06410713, -0.0063532544, 0.0...  \n",
       "3  [0.044838626, -0.013867084, -0.0075066998, 0.0...  \n",
       "4  [-0.009350319, -0.05616111, -0.008808155, -0.0...  "
      ]
     },
     "execution_count": 49,
     "metadata": {},
     "output_type": "execute_result"
    }
   ],
   "source": [
    "sample.head()"
   ]
  },
  {
   "cell_type": "code",
   "execution_count": null,
   "id": "0e6b9839",
   "metadata": {},
   "outputs": [
    {
     "data": {
      "text/plain": [
       "['10.1086/422910',\n",
       " '10.1086/427065',\n",
       " '10.1086/507444',\n",
       " '10.1088/0004-637X/696/2/1798']"
      ]
     },
     "execution_count": 50,
     "metadata": {},
     "output_type": "execute_result"
    }
   ],
   "source": [
    "sample.iloc[2][\"citation_dois\"]"
   ]
  },
  {
   "cell_type": "code",
   "execution_count": null,
   "id": "828c1fcb",
   "metadata": {},
   "outputs": [
    {
     "name": "stdout",
     "output_type": "stream",
     "text": [
      "Collections:\n",
      " - astrobert_chunks: 460801 entities\n",
      " - astrobert_contributions: 89860 entities\n",
      " - bge_chunks: 460801 entities\n",
      " - bge_contributions: 89860 entities\n",
      " - nasa_chunks: 460801 entities\n",
      " - nasa_contributions: 89860 entities\n",
      " - qwen06_chunks: 460801 entities\n",
      " - qwen06_contributions: 89860 entities\n",
      " - qwen8b_contributions: 89860 entities\n",
      " - specter_chunks: 460801 entities\n",
      " - specter_contributions: 89860 entities\n"
     ]
    }
   ],
   "source": [
    "db.list_collections()\n",
    "db.client.load_collection(\"qwen06_contributions\")"
   ]
  },
  {
   "cell_type": "code",
   "execution_count": 84,
   "id": "f23c2f37",
   "metadata": {},
   "outputs": [
    {
     "name": "stdout",
     "output_type": "stream",
     "text": [
      "source_doi: 10.1146/annurev-astro-081817-051826\n",
      "sent_original: It is important to point out that the fraction of intermediate age/young dwarf stars in the Bulge, s\n",
      "sent_no_cit: Gesicki et al. (2014) derived masses and ages of central stars of PNe and find ages of 3-10 Gyr. The\n",
      "sent_idx: 231\n",
      "citation_dois: 10.1051/0004-6361/201220678\n",
      "pubdate: 20180901\n",
      "resolved_bibcodes: ['2013A&A...549A.147B', '2017A&A...605A..89B']\n",
      "sent_cit_masked: It is important to point out that the fraction of intermediate age/young dwarf stars in the Bulge, s\n",
      "vector: [-0.01682179 -0.01403347 -0.00863554 ... -0.03616085  0.03525817\n",
      " -0.04730674]\n",
      "===\n",
      "Full query text:\n",
      "('Gesicki et al. (2014) derived masses and ages of central stars of PNe and '\n",
      " 'find ages of 3-10 Gyr. They derive ages scaling them to those by Bensby et '\n",
      " 'al. (2013), therefore it is not an independent determination, and further '\n",
      " 'investigation is needed. In conclusion, there might be presence of '\n",
      " 'intermediate-age objects in the Bulge, although in small numbers. It is '\n",
      " 'important to point out that the fraction of intermediate age/young dwarf '\n",
      " 'stars in the Bulge, suggested by results from , has to show a counterpart as '\n",
      " 'C-rich Miras, and PNe.')\n"
     ]
    }
   ],
   "source": [
    "# Extract a single example\n",
    "idx = 1\n",
    "example = sample_normalized.iloc[idx]\n",
    "\n",
    "example_dict = example.to_dict()\n",
    "for key, value in example_dict.items():\n",
    "    print(f\"{key}: {str(value)[:100]}\")  # Print first 100 characters of each value\n",
    "\n",
    "print(\"===\")\n",
    "print(\"Full query text:\")\n",
    "pprint(example_dict[\"sent_no_cit\"])"
   ]
  },
  {
   "cell_type": "code",
   "execution_count": 85,
   "id": "44c727b1",
   "metadata": {},
   "outputs": [
    {
     "data": {
      "text/plain": [
       "'Gesicki et al. (2014) derived masses and ages of central stars of PNe and find ages of 3-10 Gyr. They derive ages scaling them to those by Bensby et al. (2013), therefore it is not an independent determination, and further investigation is needed. In conclusion, there might be presence of intermediate-age objects in the Bulge, although in small numbers. It is important to point out that the fraction of intermediate age/young dwarf stars in the Bulge, suggested by results from , has to show a counterpart as C-rich Miras, and PNe.'"
      ]
     },
     "execution_count": 85,
     "metadata": {},
     "output_type": "execute_result"
    }
   ],
   "source": [
    "example_dict[\"sent_no_cit\"]"
   ]
  },
  {
   "cell_type": "code",
   "execution_count": 86,
   "id": "cde41737",
   "metadata": {},
   "outputs": [
    {
     "name": "stdout",
     "output_type": "stream",
     "text": [
      "Number of results: 10\n",
      "Number of unique DOIs in results: 8\n",
      "Target DOI (10.1051/0004-6361/201220678) in top k: False\n"
     ]
    }
   ],
   "source": [
    "# For each row in the samples, we want to get its 'hard examples', the highest ranked dois that are not the target doi\n",
    "# According to the current embedding strategy (qwen06+prev3 / contributions)\n",
    "\n",
    "results = db.search(\n",
    "    collection_name=\"qwen06_contributions\",\n",
    "    query_records=[example_dict],\n",
    "    query_vectors=[example_dict[\"vector\"]],\n",
    "    limit=10,\n",
    ")\n",
    "results = results[0]\n",
    "print(f\"Number of results: {len(results)}\")\n",
    "unique_dois = set(result[\"doi\"] for result in results)\n",
    "print(f\"Number of unique DOIs in results: {len(unique_dois)}\")\n",
    "\n",
    "target_doi = example_dict[\"citation_dois\"]\n",
    "print(f\"Target DOI ({target_doi}) in top k: {target_doi in unique_dois}\")\n",
    "\n",
    "# Get the DOIs appearing in the top 5 results\n",
    "# check if you're getting 5 distinct dois typically, or if you need to get more\n",
    "# look at the text from those top results vs the query text\n",
    "\n",
    "# Get the target doi\n",
    "# Why is this query citing that target? Identify the reason\n",
    "\n",
    "# Compute before stats"
   ]
  },
  {
   "cell_type": "code",
   "execution_count": 87,
   "id": "55645e3b",
   "metadata": {},
   "outputs": [
    {
     "name": "stderr",
     "output_type": "stream",
     "text": [
      "Computing statistics: 100%|██████████| 1/1 [00:00<00:00, 2142.14it/s]"
     ]
    },
    {
     "name": "stdout",
     "output_type": "stream",
     "text": [
      "hitrate : [0. 0. 0. 0. 0. 0. 0. 0. 0. 0.]\n",
      "iou     : [0. 0. 0. 0. 0. 0. 0. 0. 0. 0.]\n",
      "recall  : [0. 0. 0. 0. 0. 0. 0. 0. 0. 0.]\n"
     ]
    },
    {
     "name": "stderr",
     "output_type": "stream",
     "text": [
      "\n"
     ]
    }
   ],
   "source": [
    "final_results = [{\"record\": sample.iloc[idx], \"results\": results}]\n",
    "stats = compute_statistics(final_results)\n",
    "for stat, values_at_k in stats.items():\n",
    "    print(f\"{stat:<8}: {values_at_k}\")"
   ]
  },
  {
   "cell_type": "code",
   "execution_count": 83,
   "id": "694546d1",
   "metadata": {},
   "outputs": [
    {
     "data": {
      "text/plain": [
       "[{'doi': '10.1088/0004-637X/703/2/1416',\n",
       "  'pubdate': 20091001,\n",
       "  'citation_count': 615,\n",
       "  'text': 'A simple analytic model is provided that captures the main effects seen in numerical radiative transfer calculations, clarifying how recombination emission contributes to the ionization rates.',\n",
       "  'metric': 0.6299333572387695},\n",
       " {'doi': '10.1046/j.1365-8711.2002.04940.x',\n",
       "  'pubdate': 20020101,\n",
       "  'citation_count': 215,\n",
       "  'text': 'A minimal fraction of the cosmic abundance of metal atoms can significantly influence the ionization balance within the disc.',\n",
       "  'metric': 0.6072202920913696},\n",
       " {'doi': '10.1111/j.1365-2966.2004.08313.x',\n",
       "  'pubdate': 20041101,\n",
       "  'citation_count': 286,\n",
       "  'text': 'Found that ionic abundances obtained from recombination lines are larger than those derived from collisionally excited lines for all ions where both kinds of lines were measured.',\n",
       "  'metric': 0.5999367237091064},\n",
       " {'doi': '10.1086/316190',\n",
       "  'pubdate': 19980701,\n",
       "  'citation_count': 2386,\n",
       "  'text': 'Total radiative recombination coefficients for hydrogenic atoms and ions have been computed, enhancing the accuracy of ionization balance predictions.',\n",
       "  'metric': 0.5939693450927734},\n",
       " {'doi': '10.1086/153030',\n",
       "  'pubdate': 19740801,\n",
       "  'citation_count': 206,\n",
       "  'text': 'Charge-transfer reactions of complex molecular ions with neutral metal atoms significantly increase the fractional ionization in dense interstellar clouds bombarded by high-energy cosmic rays.',\n",
       "  'metric': 0.5893094539642334},\n",
       " {'doi': '10.1051/0004-6361:20053678',\n",
       "  'pubdate': 20060101,\n",
       "  'citation_count': 161,\n",
       "  'text': \"Inclusion of heavy metal atoms in simple models leads to predictions of globally magnetically active disks, whereas complex models predict extensive 'dead zones' even with significant metal abundances due to the formation of molecular ions that dominate recombination with free electrons.\",\n",
       "  'metric': 0.5774479508399963},\n",
       " {'doi': '10.1086/588035',\n",
       "  'pubdate': 20080701,\n",
       "  'citation_count': 740,\n",
       "  'text': 'The model includes new gas-phase ion-molecule reactions and dissociative recombination pathways for the newly introduced species, with rates calculated based on dipole moments or polarizability data.',\n",
       "  'metric': 0.5766692161560059},\n",
       " {'doi': '10.1086/523887',\n",
       "  'pubdate': 20080101,\n",
       "  'citation_count': 75,\n",
       "  'text': 'The research highlights the importance of accurately determining the rate coefficients of basic radiative association and cosmic-ray ionization reactions, as well as the temperature dependence of key ion-neutral and neutral-neutral reactions, and the branching ratios and products of dissociative recombination processes.',\n",
       "  'metric': 0.5724042057991028},\n",
       " {'doi': '10.1051/0004-6361/200911794',\n",
       "  'pubdate': 20090701,\n",
       "  'citation_count': 312,\n",
       "  'text': 'Models with a significant or dominant contribution of the electron component to the ionization rate align with previous suggestions.',\n",
       "  'metric': 0.5716018080711365},\n",
       " {'doi': '10.1086/190769',\n",
       "  'pubdate': 19820101,\n",
       "  'citation_count': 645,\n",
       "  'text': 'Emphasis on the importance of clarifying the accuracy of dielectronic recombination rates and further measurements of collisional ionization cross sections at autoionizing thresholds.',\n",
       "  'metric': 0.5656237602233887}]"
      ]
     },
     "execution_count": 83,
     "metadata": {},
     "output_type": "execute_result"
    }
   ],
   "source": [
    "results"
   ]
  },
  {
   "cell_type": "markdown",
   "id": "bca0042a",
   "metadata": {},
   "source": [
    "1. Try an update to the prompt\n",
    "1. Generate the new doc expansions for all papers in dataset or hard examples\n",
    "1. see if stats improved\n",
    "   - margin between first target result and first result in cosine distance?\n",
    "   - hitrate, recall, iou?\n"
   ]
  },
  {
   "cell_type": "code",
   "execution_count": 98,
   "id": "b553982c",
   "metadata": {},
   "outputs": [
    {
     "name": "stdout",
     "output_type": "stream",
     "text": [
      "0.6248175\n"
     ]
    }
   ],
   "source": [
    "doc = \"A significant fraction of young and intermediate-age stars in the bulge cannot be fully explained by sampling biases or an He-enriched population, pointing to a complex star formation history.\"\n",
    "vec = embedder([doc])[0]\n",
    "print(np.dot(example[\"vector\"], vec))"
   ]
  },
  {
   "cell_type": "code",
   "execution_count": 91,
   "id": "a01f4f82",
   "metadata": {},
   "outputs": [
    {
     "name": "stdout",
     "output_type": "stream",
     "text": [
      "73\n"
     ]
    }
   ],
   "source": [
    "research = pd.read_json(\"../data/research_used.jsonl\", lines=True)\n",
    "research = research[research.doi.isin(target_dois)].reset_index(drop=True)\n",
    "print(len(research))"
   ]
  },
  {
   "cell_type": "code",
   "execution_count": 92,
   "id": "875e6a24",
   "metadata": {},
   "outputs": [
    {
     "name": "stdout",
     "output_type": "stream",
     "text": [
      "bibcode                                         2013A&A...549A.147B\n",
      "abstract          Based on high-resolution spectra obtained duri...\n",
      "aff               [Lund Observatory, Department of Astronomy and...\n",
      "author            [Bensby, T., Yee, J. C., Feltzing, S., Johnson...\n",
      "bibstem                                            [A&A, A&A...549]\n",
      "doctype                                                     article\n",
      "doi                                     10.1051/0004-6361/201220678\n",
      "id                                                          2523730\n",
      "pubdate                                                  2013-01-01\n",
      "title             Chemical evolution of the Galactic bulge as tr...\n",
      "read_count                                                       54\n",
      "reference         [1962ApJ...136..748E, 1975A&A....42..407G, 198...\n",
      "data                                      [CDS:1, ESO:4, SIMBAD:61]\n",
      "citation_count                                                  430\n",
      "citation          [2013A&A...554A..44A, 2013A&A...559A..98V, 201...\n",
      "body              1. Introduction Galactic bulges are emerging a...\n",
      "dois              [10.1051/0004-6361/201220678, 10.48550/arXiv.1...\n",
      "keywords          [gravitational lensing: micro, Galaxy: bulge, ...\n",
      "loaded_from                        data/json/salvaged_articles.json\n",
      "body_sentences    [1. Introduction Galactic bulges are emerging ...\n",
      "Name: 59, dtype: object\n"
     ]
    }
   ],
   "source": [
    "target = research[research.doi == target_doi].iloc[0]\n",
    "print(target)"
   ]
  },
  {
   "cell_type": "code",
   "execution_count": 93,
   "id": "c4afacc9",
   "metadata": {},
   "outputs": [],
   "source": [
    "full_text = target[\"title\"] + \"\\n\" + target[\"abstract\"] + \"\\n\" + target[\"body\"]\n",
    "with open(\"temp_paper.txt\", \"w\") as f:\n",
    "    f.write(full_text)"
   ]
  },
  {
   "cell_type": "code",
   "execution_count": 14,
   "id": "2fe7d2eb",
   "metadata": {},
   "outputs": [
    {
     "name": "stdout",
     "output_type": "stream",
     "text": [
      "Collections:\n",
      " - astrobert_chunks: 460801 entities\n",
      " - astrobert_contributions: 89860 entities\n",
      " - bge_chunks: 460801 entities\n",
      " - bge_contributions: 89860 entities\n",
      " - nasa_chunks: 460801 entities\n",
      " - nasa_contributions: 89860 entities\n",
      " - qwen06_chunks: 460801 entities\n",
      " - qwen8b_contributions: 89860 entities\n",
      " - specter_chunks: 460801 entities\n",
      " - specter_contributions: 89860 entities\n"
     ]
    }
   ],
   "source": [
    "db.list_collections()"
   ]
  },
  {
   "cell_type": "code",
   "execution_count": null,
   "id": "e8fd766e",
   "metadata": {},
   "outputs": [],
   "source": []
  }
 ],
 "metadata": {
  "kernelspec": {
   "display_name": "citeline",
   "language": "python",
   "name": "python3"
  },
  "language_info": {
   "codemirror_mode": {
    "name": "ipython",
    "version": 3
   },
   "file_extension": ".py",
   "mimetype": "text/x-python",
   "name": "python",
   "nbconvert_exporter": "python",
   "pygments_lexer": "ipython3",
   "version": "3.11.10"
  }
 },
 "nbformat": 4,
 "nbformat_minor": 5
}
