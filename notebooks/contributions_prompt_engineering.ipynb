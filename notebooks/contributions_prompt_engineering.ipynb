{
 "cells": [
  {
   "cell_type": "code",
   "execution_count": 146,
   "id": "9346f4cf",
   "metadata": {},
   "outputs": [
    {
     "name": "stdout",
     "output_type": "stream",
     "text": [
      "<citeline.database.milvusdb.MilvusDB object at 0x51bb5fd90>\n",
      "Qwen/Qwen3-Embedding-0.6B, device=mps, normalize=True, dim=1024\n",
      "QueryExpander(name=add_prev_3, data_length=2980)\n"
     ]
    }
   ],
   "source": [
    "import pandas as pd\n",
    "from tqdm import tqdm\n",
    "import json\n",
    "import numpy as np\n",
    "import seaborn as sns\n",
    "import matplotlib.pyplot as plt\n",
    "from pprint import pprint\n",
    "from citeline.database.milvusdb import MilvusDB\n",
    "from citeline.embedders import Embedder\n",
    "from citeline.query_expander import get_expander\n",
    "from citeline.statistics import compute_statistics\n",
    "\n",
    "db = MilvusDB()\n",
    "print(db)\n",
    "\n",
    "tqdm.pandas()\n",
    "\n",
    "embedder = Embedder.create(\"Qwen/Qwen3-Embedding-0.6B\", device=\"mps\", normalize=True)\n",
    "print(embedder)\n",
    "\n",
    "expander = get_expander(\"add_prev_3\", path_to_data=\"../data/preprocessed/reviews.jsonl\")\n",
    "print(expander)"
   ]
  },
  {
   "cell_type": "code",
   "execution_count": 148,
   "id": "376a0635",
   "metadata": {},
   "outputs": [
    {
     "name": "stderr",
     "output_type": "stream",
     "text": [
      "100%|██████████| 50/50 [00:03<00:00, 14.35it/s]\n"
     ]
    }
   ],
   "source": [
    "sample = pd.read_json(\"../data/dataset/nontrivial_100.jsonl\", lines=True)\n",
    "sample = sample.sample(50, random_state=42).reset_index(drop=True)\n",
    "\n",
    "# Apply query expansion and embed the queries\n",
    "sample[\"sent_no_cit\"] = expander(sample)\n",
    "sample[\"vector\"] = sample.progress_apply(lambda row: embedder([row[\"sent_no_cit\"]])[0], axis=1)\n",
    "\n",
    "# # Expand any rows with more than one target doi\n",
    "# sample_normalized = sample.explode(\"citation_dois\").reset_index(drop=True)\n",
    "# print(f\"Number of rows after exploding: {len(sample_normalized)}\")\n",
    "\n",
    "# # Get all the target dois\n",
    "# target_dois = list(set(sample_normalized.citation_dois.tolist()))\n",
    "# print(f\"Number of distinct target dois: {len(target_dois)}\")"
   ]
  },
  {
   "cell_type": "code",
   "execution_count": 149,
   "id": "828c1fcb",
   "metadata": {},
   "outputs": [
    {
     "name": "stdout",
     "output_type": "stream",
     "text": [
      "Collections:\n",
      " - astrobert_chunks: 460801 entities\n",
      " - astrobert_contributions: 89860 entities\n",
      " - bge_chunks: 460801 entities\n",
      " - bge_contributions: 89860 entities\n",
      " - nasa_chunks: 460801 entities\n",
      " - nasa_contributions: 89860 entities\n",
      " - qwen06_chunks: 460801 entities\n",
      " - qwen06_contributions: 89860 entities\n",
      " - qwen8b_contributions: 89860 entities\n",
      " - specter_chunks: 460801 entities\n",
      " - specter_contributions: 89860 entities\n"
     ]
    }
   ],
   "source": [
    "db.list_collections()\n",
    "db.client.load_collection(\"qwen06_contributions\")"
   ]
  },
  {
   "cell_type": "code",
   "execution_count": 150,
   "id": "36c36451",
   "metadata": {},
   "outputs": [
    {
     "name": "stdout",
     "output_type": "stream",
     "text": [
      "Test example has targets: ['10.1046/j.1365-8711.2002.04940.x']\n",
      "['10.1088/0004-637X/703/2/1416', '10.1111/j.1365-2966.2004.08313.x']\n",
      "[0.6299333572387695, 0.5999367237091064]\n"
     ]
    }
   ],
   "source": [
    "# Get the 'hard examples' for each query; e.g. the top most similar papers that are in the query's target\n",
    "hard_examples = []\n",
    "\n",
    "def get_hard_examples(example: pd.Series, n: int=2) -> list[str]:\n",
    "    \"\"\"\n",
    "    Overfetches 3*n most similar records (bc if two reps from same doc are in top n, we won't have n distinct non-target dois)\n",
    "\n",
    "    Returns:\n",
    "      A list of doi's, ordered by their max similarity to the query\n",
    "    \"\"\"\n",
    "    results = db.search(\n",
    "        collection_name=\"qwen06_contributions\",\n",
    "        query_records=[example.to_dict()],\n",
    "        query_vectors=[example.vector],\n",
    "        limit=3*n,\n",
    "    )\n",
    "    results = results[0]\n",
    "    \n",
    "    # Filter results to non-targets only\n",
    "    target_dois = set(example.citation_dois)\n",
    "    non_target_results = [r for r in results if r['doi'] not in target_dois]\n",
    "    assert len(non_target_results) >= n, f\"Not enough non-target results for example {example}\"\n",
    "    hard_dois = [r['doi'] for r in non_target_results[:n]]\n",
    "    hard_distances = [r['metric'] for r in non_target_results[:n]]\n",
    "    return hard_dois, hard_distances\n",
    "\n",
    "\n",
    "test_example = sample.iloc[0]\n",
    "hard_dois, hard_similarities = get_hard_examples(test_example, n=2)\n",
    "print(f\"Test example has targets: {test_example.citation_dois}\")\n",
    "pprint(hard_dois)\n",
    "pprint(hard_similarities)\n"
   ]
  },
  {
   "cell_type": "code",
   "execution_count": 152,
   "id": "cc8caf25",
   "metadata": {},
   "outputs": [
    {
     "name": "stderr",
     "output_type": "stream",
     "text": [
      "100%|██████████| 50/50 [00:02<00:00, 17.22it/s]\n"
     ]
    }
   ],
   "source": [
    "# Get the hard examples' doi's and similarity scores for each query in the example\n",
    "sample['hard_dois'] = None\n",
    "sample[\"hard_similarities\"] = None\n",
    "for idx, example in tqdm(sample.iterrows(), total=len(sample)):\n",
    "    hard_dois, hard_similarities = get_hard_examples(example, n=5)\n",
    "    sample.at[idx, 'hard_dois'] = hard_dois\n",
    "    sample.at[idx, 'hard_similarities'] = hard_similarities"
   ]
  },
  {
   "cell_type": "code",
   "execution_count": 153,
   "id": "eef20f9f",
   "metadata": {},
   "outputs": [
    {
     "data": {
      "text/html": [
       "<div>\n",
       "<style scoped>\n",
       "    .dataframe tbody tr th:only-of-type {\n",
       "        vertical-align: middle;\n",
       "    }\n",
       "\n",
       "    .dataframe tbody tr th {\n",
       "        vertical-align: top;\n",
       "    }\n",
       "\n",
       "    .dataframe thead th {\n",
       "        text-align: right;\n",
       "    }\n",
       "</style>\n",
       "<table border=\"1\" class=\"dataframe\">\n",
       "  <thead>\n",
       "    <tr style=\"text-align: right;\">\n",
       "      <th></th>\n",
       "      <th>source_doi</th>\n",
       "      <th>sent_original</th>\n",
       "      <th>sent_no_cit</th>\n",
       "      <th>sent_idx</th>\n",
       "      <th>citation_dois</th>\n",
       "      <th>pubdate</th>\n",
       "      <th>resolved_bibcodes</th>\n",
       "      <th>sent_cit_masked</th>\n",
       "      <th>vector</th>\n",
       "      <th>hard_dois</th>\n",
       "      <th>hard_similarities</th>\n",
       "    </tr>\n",
       "  </thead>\n",
       "  <tbody>\n",
       "    <tr>\n",
       "      <th>0</th>\n",
       "      <td>10.1146/annurev-astro-081710-102521</td>\n",
       "      <td>Their abundance is important because molecular...</td>\n",
       "      <td>In this limit, the important reactions are dis...</td>\n",
       "      <td>318</td>\n",
       "      <td>[10.1046/j.1365-8711.2002.04940.x]</td>\n",
       "      <td>20110901</td>\n",
       "      <td>[2002MNRAS.329...18F]</td>\n",
       "      <td>Their abundance is important because molecular...</td>\n",
       "      <td>[-0.036558766, -0.016381446, -0.011056783, 0.0...</td>\n",
       "      <td>[10.1088/0004-637X/703/2/1416, 10.1111/j.1365-...</td>\n",
       "      <td>[0.6299333572387695, 0.5999367237091064, 0.593...</td>\n",
       "    </tr>\n",
       "    <tr>\n",
       "      <th>1</th>\n",
       "      <td>10.1146/annurev-astro-081817-051826</td>\n",
       "      <td>It is important to point out that the fraction...</td>\n",
       "      <td>Gesicki et al. (2014) derived masses and ages ...</td>\n",
       "      <td>231</td>\n",
       "      <td>[10.1051/0004-6361/201220678, 10.1051/0004-636...</td>\n",
       "      <td>20180901</td>\n",
       "      <td>[2013A&amp;A...549A.147B, 2017A&amp;A...605A..89B]</td>\n",
       "      <td>It is important to point out that the fraction...</td>\n",
       "      <td>[-0.016821792, -0.014033473, -0.008635541, 0.0...</td>\n",
       "      <td>[10.1093/mnras/stx373, 10.1051/0004-6361:20021...</td>\n",
       "      <td>[0.6454620361328125, 0.6320536732673645, 0.629...</td>\n",
       "    </tr>\n",
       "    <tr>\n",
       "      <th>2</th>\n",
       "      <td>10.1007/s00159-010-0029-x</td>\n",
       "      <td>How could the seed massive black holes have gr...</td>\n",
       "      <td>This argument is particularly important at ear...</td>\n",
       "      <td>259</td>\n",
       "      <td>[10.1086/422910, 10.1086/427065, 10.1086/50744...</td>\n",
       "      <td>20100701</td>\n",
       "      <td>[2004ApJ...613...36H, 2005ApJ...620...59S, 200...</td>\n",
       "      <td>How could the seed massive black holes have gr...</td>\n",
       "      <td>[-0.018864863, -0.06410713, -0.0063532544, 0.0...</td>\n",
       "      <td>[10.1111/j.1365-2966.2006.10467.x, 10.1111/j.1...</td>\n",
       "      <td>[0.7770614624023438, 0.7540679574012756, 0.751...</td>\n",
       "    </tr>\n",
       "    <tr>\n",
       "      <th>3</th>\n",
       "      <td>10.1146/annurev.aa.31.090193.003441</td>\n",
       "      <td>Nature has somehow solved this problem in doub...</td>\n",
       "      <td>These models can reproduce the observed spectr...</td>\n",
       "      <td>457</td>\n",
       "      <td>[10.1086/161053]</td>\n",
       "      <td>19930101</td>\n",
       "      <td>[1983ApJ...269..423R]</td>\n",
       "      <td>Nature has somehow solved this problem in doub...</td>\n",
       "      <td>[0.044838626, -0.013867084, -0.0075066998, 0.0...</td>\n",
       "      <td>[10.1086/164480, 10.1086/155083, 10.1093/mnras...</td>\n",
       "      <td>[0.661096453666687, 0.6198840141296387, 0.6177...</td>\n",
       "    </tr>\n",
       "    <tr>\n",
       "      <th>4</th>\n",
       "      <td>10.1007/s00159-012-0055-y</td>\n",
       "      <td>However, a similar linewidth–size scaling law ...</td>\n",
       "      <td>Size, internal velocity dispersion and column ...</td>\n",
       "      <td>306</td>\n",
       "      <td>[10.1051/0004-6361:20020629]</td>\n",
       "      <td>20121101</td>\n",
       "      <td>[2002A&amp;A...390..307O]</td>\n",
       "      <td>However, a similar linewidth–size scaling law ...</td>\n",
       "      <td>[-0.009350319, -0.05616111, -0.008808155, -0.0...</td>\n",
       "      <td>[10.1086/169766, 10.1086/177465, 10.1086/18481...</td>\n",
       "      <td>[0.6350905299186707, 0.5991687178611755, 0.595...</td>\n",
       "    </tr>\n",
       "  </tbody>\n",
       "</table>\n",
       "</div>"
      ],
      "text/plain": [
       "                            source_doi  \\\n",
       "0  10.1146/annurev-astro-081710-102521   \n",
       "1  10.1146/annurev-astro-081817-051826   \n",
       "2            10.1007/s00159-010-0029-x   \n",
       "3  10.1146/annurev.aa.31.090193.003441   \n",
       "4            10.1007/s00159-012-0055-y   \n",
       "\n",
       "                                       sent_original  \\\n",
       "0  Their abundance is important because molecular...   \n",
       "1  It is important to point out that the fraction...   \n",
       "2  How could the seed massive black holes have gr...   \n",
       "3  Nature has somehow solved this problem in doub...   \n",
       "4  However, a similar linewidth–size scaling law ...   \n",
       "\n",
       "                                         sent_no_cit  sent_idx  \\\n",
       "0  In this limit, the important reactions are dis...       318   \n",
       "1  Gesicki et al. (2014) derived masses and ages ...       231   \n",
       "2  This argument is particularly important at ear...       259   \n",
       "3  These models can reproduce the observed spectr...       457   \n",
       "4  Size, internal velocity dispersion and column ...       306   \n",
       "\n",
       "                                       citation_dois   pubdate  \\\n",
       "0                 [10.1046/j.1365-8711.2002.04940.x]  20110901   \n",
       "1  [10.1051/0004-6361/201220678, 10.1051/0004-636...  20180901   \n",
       "2  [10.1086/422910, 10.1086/427065, 10.1086/50744...  20100701   \n",
       "3                                   [10.1086/161053]  19930101   \n",
       "4                       [10.1051/0004-6361:20020629]  20121101   \n",
       "\n",
       "                                   resolved_bibcodes  \\\n",
       "0                              [2002MNRAS.329...18F]   \n",
       "1         [2013A&A...549A.147B, 2017A&A...605A..89B]   \n",
       "2  [2004ApJ...613...36H, 2005ApJ...620...59S, 200...   \n",
       "3                              [1983ApJ...269..423R]   \n",
       "4                              [2002A&A...390..307O]   \n",
       "\n",
       "                                     sent_cit_masked  \\\n",
       "0  Their abundance is important because molecular...   \n",
       "1  It is important to point out that the fraction...   \n",
       "2  How could the seed massive black holes have gr...   \n",
       "3  Nature has somehow solved this problem in doub...   \n",
       "4  However, a similar linewidth–size scaling law ...   \n",
       "\n",
       "                                              vector  \\\n",
       "0  [-0.036558766, -0.016381446, -0.011056783, 0.0...   \n",
       "1  [-0.016821792, -0.014033473, -0.008635541, 0.0...   \n",
       "2  [-0.018864863, -0.06410713, -0.0063532544, 0.0...   \n",
       "3  [0.044838626, -0.013867084, -0.0075066998, 0.0...   \n",
       "4  [-0.009350319, -0.05616111, -0.008808155, -0.0...   \n",
       "\n",
       "                                           hard_dois  \\\n",
       "0  [10.1088/0004-637X/703/2/1416, 10.1111/j.1365-...   \n",
       "1  [10.1093/mnras/stx373, 10.1051/0004-6361:20021...   \n",
       "2  [10.1111/j.1365-2966.2006.10467.x, 10.1111/j.1...   \n",
       "3  [10.1086/164480, 10.1086/155083, 10.1093/mnras...   \n",
       "4  [10.1086/169766, 10.1086/177465, 10.1086/18481...   \n",
       "\n",
       "                                   hard_similarities  \n",
       "0  [0.6299333572387695, 0.5999367237091064, 0.593...  \n",
       "1  [0.6454620361328125, 0.6320536732673645, 0.629...  \n",
       "2  [0.7770614624023438, 0.7540679574012756, 0.751...  \n",
       "3  [0.661096453666687, 0.6198840141296387, 0.6177...  \n",
       "4  [0.6350905299186707, 0.5991687178611755, 0.595...  "
      ]
     },
     "execution_count": 153,
     "metadata": {},
     "output_type": "execute_result"
    }
   ],
   "source": [
    "sample.head()"
   ]
  },
  {
   "cell_type": "code",
   "execution_count": 154,
   "id": "d145a866",
   "metadata": {},
   "outputs": [
    {
     "name": "stdout",
     "output_type": "stream",
     "text": [
      "Average target similarity: 0.6101513374525258\n",
      "Average non-target similarity: 0.6174222111701966\n",
      "Similarity margin: -0.007270873717670767\n"
     ]
    }
   ],
   "source": [
    "def average_target_similarity(example: pd.Series) -> float:\n",
    "    \"\"\"\n",
    "    For examples with a single target doi, this computes the maximum similarity between the query vector and\n",
    "    all vectors associated with the target doi in the database.\n",
    "\n",
    "    For examples with multiple target dois, this computes the average maximum similarity across each target doi.\n",
    "    \"\"\"\n",
    "    metric_values = []\n",
    "    for target_doi in example.citation_dois:\n",
    "        target_results = db.select_by_doi(doi=target_doi, collection_name=\"qwen06_contributions\")\n",
    "        target_vectors = np.array(target_results['vector'].tolist())\n",
    "        dot_products = np.dot(example.vector, target_vectors.T)\n",
    "        metric_values.append(max(dot_products))\n",
    "    return np.mean(metric_values) if metric_values else 0.0\n",
    "\n",
    "\n",
    "def average_nontarget_similarity(example: pd.Series) -> float:\n",
    "    \"\"\"\n",
    "    Computes the average similarity between the query vector and the hard non-target examples.\n",
    "    \"\"\"\n",
    "    return np.mean(example.hard_similarities) if example.hard_similarities else 0.0\n",
    "\n",
    "def similarity_margin(example: pd.Series) -> float:\n",
    "    \"\"\"\n",
    "    Computes the difference between the average target similarity and the average non-target similarity.\n",
    "    \"\"\"\n",
    "    return average_target_similarity(example) - average_nontarget_similarity(example)\n",
    "print(f\"Average target similarity: {average_target_similarity(sample.iloc[10])}\")\n",
    "print(f\"Average non-target similarity: {average_nontarget_similarity(sample.iloc[10])}\")\n",
    "print(f\"Similarity margin: {similarity_margin(sample.iloc[10])}\")"
   ]
  },
  {
   "cell_type": "markdown",
   "id": "30f09b36",
   "metadata": {},
   "source": [
    "Using our LLM, we need to reprocess the target doi's and the hard example non-target doi's"
   ]
  },
  {
   "cell_type": "code",
   "execution_count": 139,
   "id": "5a62d55f",
   "metadata": {},
   "outputs": [
    {
     "name": "stdout",
     "output_type": "stream",
     "text": [
      "A New Calculation of the Ionizing Background Spectrum and the Effects of He II Reionization\n",
      "\n",
      "The ionizing background determines the ionization balance and the thermodynamics of the cosmic gas. It is therefore a fundamental ingredient to theoretical and empirical studies of both the intergalactic medium (IGM) and galaxy formation. We present here a new calculation of its spectrum that satisfies the empirical constraints we recently obtained by combining state-of-the-art luminosity functions and i\n"
     ]
    }
   ],
   "source": [
    "research = pd.read_json(\"../data/research_used.jsonl\", lines=True)\n",
    "def doi_to_paper(doi: str) -> str:\n",
    "    record = research[research['doi'] == doi].iloc[0]\n",
    "    return record['title'] + \"\\n\\n\" + record['abstract'] + \"\\n\\n\" + record['body']\n",
    "\n",
    "# Test:\n",
    "doi = \"10.1088/0004-637X/703/2/1416\"\n",
    "print(doi_to_paper(doi)[:500])"
   ]
  },
  {
   "cell_type": "code",
   "execution_count": 142,
   "id": "340fee24",
   "metadata": {},
   "outputs": [
    {
     "name": "stderr",
     "output_type": "stream",
     "text": [
      "100%|██████████| 50/50 [00:02<00:00, 16.74it/s]\n"
     ]
    }
   ],
   "source": [
    "full_results = []\n",
    "for idx, example in tqdm(sample.iterrows(), total=len(sample)):\n",
    "    results = db.search(\n",
    "        collection_name=\"qwen06_contributions\",\n",
    "        query_records=[example.to_dict()],\n",
    "        query_vectors=[example.vector],\n",
    "        limit=10,\n",
    "    )\n",
    "    this_result = {\"record\": example, \"results\": results[0]}\n",
    "    full_results.append(this_result)"
   ]
  },
  {
   "cell_type": "code",
   "execution_count": 143,
   "id": "4571f896",
   "metadata": {},
   "outputs": [
    {
     "name": "stderr",
     "output_type": "stream",
     "text": [
      "Computing statistics: 100%|██████████| 50/50 [00:00<00:00, 5906.14it/s]"
     ]
    },
    {
     "name": "stdout",
     "output_type": "stream",
     "text": [
      "{'hitrate': array([0.26, 0.36, 0.38, 0.4 , 0.44, 0.44, 0.46, 0.5 , 0.58, 0.58]),\n",
      " 'iou': array([0.19666667, 0.18833333, 0.17666667, 0.16366667, 0.154     ,\n",
      "       0.12852381, 0.10692857, 0.10246032, 0.10349278, 0.08976335]),\n",
      " 'recall': array([0.19666667, 0.27333333, 0.30333333, 0.34      , 0.38      ,\n",
      "       0.38      , 0.385     , 0.425     , 0.49166667, 0.49166667])}\n"
     ]
    },
    {
     "name": "stderr",
     "output_type": "stream",
     "text": [
      "\n"
     ]
    }
   ],
   "source": [
    "stats = compute_statistics(full_results)\n",
    "pprint(stats)"
   ]
  },
  {
   "cell_type": "code",
   "execution_count": null,
   "id": "c5405128",
   "metadata": {},
   "outputs": [
    {
     "name": "stdout",
     "output_type": "stream",
     "text": [
      "Number of distinct dois to process: 276\n"
     ]
    }
   ],
   "source": [
    "# THIS IS THE ITERATION \n",
    "\n",
    "# Get a set of all the hard doi's\n",
    "# Get a set of all the citation doi's\n",
    "hard_dois = set(doi for example in sample['hard_dois'] for doi in example)\n",
    "target_dois = set(doi for example in sample['citation_dois'] for doi in example)\n",
    "dois_to_process = hard_dois.union(target_dois)\n",
    "print(f\"Number of distinct dois to process: {len(dois_to_process)}\")\n",
    "\n",
    "# retrieve their papers and process their contributions using the LLM\n",
    "\n",
    "# create a database table for these new contributions and insert them\n",
    "\n",
    "# create a copy of the sample df, dropping the previous hard example data\n",
    "# compute the new hard examples based on the new embeddings"
   ]
  },
  {
   "cell_type": "code",
   "execution_count": 156,
   "id": "8c6dbeb3",
   "metadata": {},
   "outputs": [
    {
     "name": "stdout",
     "output_type": "stream",
     "text": [
      "{\"greeting\": \"Hello!\", \"farewell\": \"Goodbye!\"}\n",
      "{'greeting': 'Hello!', 'farewell': 'Goodbye!'}\n"
     ]
    }
   ],
   "source": [
    "from openai import OpenAI\n",
    "import os\n",
    "\n",
    "def bind_client(func):\n",
    "    \"\"\"\n",
    "    Decorator to bind OpenAI client to a function that will provide DeepSeek API access\n",
    "    \"\"\"\n",
    "    client = OpenAI(api_key=os.getenv(\"DEEPSEEK_API_KEY\"), base_url=\"https://api.deepseek.com\")\n",
    "    def wrapper(*args, **kwargs):\n",
    "        return func(client, *args, **kwargs)\n",
    "    return wrapper\n",
    "\n",
    "@bind_client\n",
    "def deepseek(client, prompt: str) -> str:\n",
    "    \"\"\"\n",
    "    Sends a prompt to the DeepSeek API (using DeepSeek-V3.1 non-thinking model)\n",
    "    \n",
    "    Expects a prompt that will instruct the model to respond with a JSON object.\n",
    "    However, the function returns the raw string response, to allow for validation and\n",
    "    error handling in multiple passes without losing the original response\n",
    "    \"\"\"\n",
    "    response = client.chat.completions.create(\n",
    "        model=\"deepseek-chat\",\n",
    "        messages=[\n",
    "            {\"role\": \"system\", \"content\": prompt}\n",
    "        ],\n",
    "        stream=False,\n",
    "        response_format={\"type\": \"json_object\"},\n",
    "    )\n",
    "    return response.choices[0].message.content\n",
    "\n",
    "\n",
    "\n",
    "response = deepseek(\"Respond with a JSON object with keys 'greeting' and 'farewell'\")\n",
    "print(response)\n",
    "print(json.loads(response))"
   ]
  },
  {
   "cell_type": "code",
   "execution_count": 161,
   "id": "9ef74d8c",
   "metadata": {},
   "outputs": [
    {
     "name": "stderr",
     "output_type": "stream",
     "text": [
      "100%|██████████| 276/276 [1:59:27<00:00, 25.97s/it]  \n"
     ]
    }
   ],
   "source": [
    "with open(\"../src/citeline/llm/prompts/original_contributions_revised.txt\", \"r\") as f:\n",
    "    prompt_template = f.read()\n",
    "\n",
    "with open(\"new_findings.jsonl\", \"w\") as f:\n",
    "    for doi in tqdm(dois_to_process):\n",
    "        paper = doi_to_paper(doi)\n",
    "        prompt = prompt_template.format(paper=paper)\n",
    "        try:\n",
    "            response = deepseek(prompt)\n",
    "        except Exception as e:\n",
    "            print(f\"Error processing doi {doi}: {e}\")\n",
    "            continue\n",
    "        try:\n",
    "            data = json.loads(response)\n",
    "            data['doi'] = doi\n",
    "            f.write(json.dumps(data) + \"\\n\")\n",
    "        except json.JSONDecodeError:\n",
    "            print(f\"Failed to decode JSON for doi {doi}. Response was:\\n{response}\")\n",
    "            continue\n",
    "\n",
    "\n"
   ]
  },
  {
   "cell_type": "code",
   "execution_count": 160,
   "id": "0750f46f",
   "metadata": {},
   "outputs": [
    {
     "name": "stdout",
     "output_type": "stream",
     "text": [
      "['Kepler mission will monitor over 100,000 stars with a cadence of 30 min for '\n",
      " 'asteroseismic investigation',\n",
      " 'Kepler Asteroseismic Investigation (KAI) will have 11,800 pixels allocated '\n",
      " 'for short cadence (60 s) observations in specific target phase',\n",
      " 'Conservative estimate: ~3000 pixels allocated to F, G, and K main sequence '\n",
      " 'stars suitable for studying stellar cycles',\n",
      " 'Photometric error for 60-s integration: 45 ppm at 8th magnitude, 69 ppm at '\n",
      " '9th magnitude, 111 ppm at 10th magnitude',\n",
      " 'Frequency precision determined by S/N of oscillation modes, mode lifetime τ, '\n",
      " 'and observation length T using Libbrecht (1992) formulation',\n",
      " 'Mode height decreases from ~4000 ppm²/μHz for Sun to just over 1000 ppm²/μHz '\n",
      " 'for stars at 4500 K',\n",
      " 'Power density error: 0.24 ppm²/μHz at 8th magnitude, 0.57 ppm²/μHz at 9th '\n",
      " 'magnitude, 1.47 ppm²/μHz at 10th magnitude',\n",
      " 'Rotational frequency splitting decreases towards lower effective temperature '\n",
      " 'with steeper slope for stars hotter than Sun',\n",
      " 'Solar effective temperature (5777 K) is worst parameter space for measuring '\n",
      " 'stellar rotation with asteroseismology',\n",
      " 'Rotational frequency splitting measurement requires inclination angle >30°; '\n",
      " 'impossible in ~15% of targets due to random orientation',\n",
      " 'Mean difference in rotational splitting between l=1 and l=2 modes is ~7 nHz '\n",
      " 'at low frequency in Sun',\n",
      " 'Surface differential rotation relation: ΔΩ/Ω ∝ P_rot^-0.6 from Mount Wilson '\n",
      " 'Ca II measurements',\n",
      " 'Stellar cycle periods range between 2.5 and 25 years in solar-type stars '\n",
      " 'from Mount Wilson survey',\n",
      " 'Around half of solar-type stars show clear periodic cycles according to '\n",
      " 'Mount Wilson survey',\n",
      " 'Two scaling relations for cycle frequency shifts: linear with activity cycle '\n",
      " 'amplitude (Chaplin) and scaling with T_eff^-1 (Metcalfe)',\n",
      " 'Amplitude of oscillatory component in second frequency differences from '\n",
      " 'convection zone base scales as 0.4 × (g/g_☉)^0.5 μHz',\n",
      " 'Convection zone depth measurement easier in cooler stars due to larger '\n",
      " 'amplitudes in second frequency differences',\n",
      " 'Differential rotation measurement most demanding task, requires full mission '\n",
      " 'data for detection',\n",
      " 'Stellar cycle frequency shifts detectable from 1 year of Kepler data when '\n",
      " 'comparing frequencies across years',\n",
      " 'Convection zone depth measurable from 1 year of Kepler observations',\n",
      " 'Target selection strategy: stars with magnitudes 8-10 from first 3 months of '\n",
      " 'survey, favor cooler stars, ensure oscillations detectable',\n",
      " 'Target criteria: small separation ≥6 μHz (age 2-3 Gyr), hints of rotational '\n",
      " 'splitting, obey asymptotic frequency relation',\n",
      " 'Ground-based chromospheric activity monitoring planned with FIES on Nordic '\n",
      " 'Optical Telescope',\n",
      " 'F stars overrepresented in first 3 months of survey phase despite being '\n",
      " 'hardest to analyze asteroseismically',\n",
      " 'Fraction of stars showing stellar cycles significantly larger among G and K '\n",
      " 'stars than F stars',\n",
      " 'Active stars have ~300 rotations per cycle, inactive stars have ~100 '\n",
      " 'rotations per cycle',\n",
      " 'Vaughan-Preston gap separates active stars younger than 2.5 Gyr from older '\n",
      " 'less active stars']\n"
     ]
    }
   ],
   "source": [
    "lst =json.loads(response)\n",
    "pprint(lst['findings'])"
   ]
  },
  {
   "cell_type": "code",
   "execution_count": null,
   "id": "f4396f3d",
   "metadata": {},
   "outputs": [
    {
     "name": "stdout",
     "output_type": "stream",
     "text": [
      "LLM response: findings=['The ionizing background at high redshifts is local, meaning the specific intensity Jν depends mainly on the local emissivity εν due to the short mean free path of photons.', 'The mean free path Δl mfp(ν,z) is proportional to ν^3 for H I and ν^6 for He II when considering uniform absorbing material.', 'For discrete absorbers with a column density distribution dN/dN_i ∝ N_i^-β, the mean free path scales as ν^(3(β-1)), leading to spectral hardening.', 'The specific intensity Jν is hardened such that Jν ∝ εν ν^3 near the H I ionization edge and Jν ∝ εν ν^6 near the He II edge when absorbers are uniformly distributed.', 'In the case of discrete absorbers, the hardening is weaker: Jν ∝ εν ν^(3(β-1)) for H I with β=1.4, resulting in a less pronounced spectral change.', 'For an isolated point source, the spectrum is attenuated by a factor exp(-τν(l)), where τν(l) = n_i σ_i(ν) l, leading to different hardening compared to uniform emission.', 'The photoionization cross-section for hydrogenic atoms scales as σ_i(ν) ∝ ν^-3 near the ionization edge but decreases more slowly at higher energies.', 'Recombination line profiles are determined by the Maxwell-Boltzmann distribution of electron velocities and the velocity-dependent recombination cross-section, leading to a thermal broadening of the emission features.']\n"
     ]
    },
    {
     "data": {
      "text/plain": [
       "Findings(findings=['The ionizing background at high redshifts is local, meaning the specific intensity Jν depends mainly on the local emissivity εν due to the short mean free path of photons.', 'The mean free path Δl mfp(ν,z) is proportional to ν^3 for H I and ν^6 for He II when considering uniform absorbing material.', 'For discrete absorbers with a column density distribution dN/dN_i ∝ N_i^-β, the mean free path scales as ν^(3(β-1)), leading to spectral hardening.', 'The specific intensity Jν is hardened such that Jν ∝ εν ν^3 near the H I ionization edge and Jν ∝ εν ν^6 near the He II edge when absorbers are uniformly distributed.', 'In the case of discrete absorbers, the hardening is weaker: Jν ∝ εν ν^(3(β-1)) for H I with β=1.4, resulting in a less pronounced spectral change.', 'For an isolated point source, the spectrum is attenuated by a factor exp(-τν(l)), where τν(l) = n_i σ_i(ν) l, leading to different hardening compared to uniform emission.', 'The photoionization cross-section for hydrogenic atoms scales as σ_i(ν) ∝ ν^-3 near the ionization edge but decreases more slowly at higher energies.', 'Recombination line profiles are determined by the Maxwell-Boltzmann distribution of electron velocities and the velocity-dependent recombination cross-section, leading to a thermal broadening of the emission features.'])"
      ]
     },
     "execution_count": 141,
     "metadata": {},
     "output_type": "execute_result"
    }
   ],
   "source": [
    "# from citeline.llm.llm_function import LLMFunction\n",
    "# from citeline.llm.models import Findings\n",
    "\n",
    "# write_contributions = LLMFunction(\n",
    "#     model_name=\"deepseek-r1:70b\",\n",
    "#     prompt_path=\"../src/citeline/llm/prompts/original_contributions_revised.txt\",\n",
    "#     output_model=Findings,\n",
    "# )\n",
    "\n",
    "# write_contributions(prompt_kwargs={\"paper\": doi_to_paper(doi)})"
   ]
  },
  {
   "cell_type": "code",
   "execution_count": 84,
   "id": "f23c2f37",
   "metadata": {},
   "outputs": [
    {
     "name": "stdout",
     "output_type": "stream",
     "text": [
      "source_doi: 10.1146/annurev-astro-081817-051826\n",
      "sent_original: It is important to point out that the fraction of intermediate age/young dwarf stars in the Bulge, s\n",
      "sent_no_cit: Gesicki et al. (2014) derived masses and ages of central stars of PNe and find ages of 3-10 Gyr. The\n",
      "sent_idx: 231\n",
      "citation_dois: 10.1051/0004-6361/201220678\n",
      "pubdate: 20180901\n",
      "resolved_bibcodes: ['2013A&A...549A.147B', '2017A&A...605A..89B']\n",
      "sent_cit_masked: It is important to point out that the fraction of intermediate age/young dwarf stars in the Bulge, s\n",
      "vector: [-0.01682179 -0.01403347 -0.00863554 ... -0.03616085  0.03525817\n",
      " -0.04730674]\n",
      "===\n",
      "Full query text:\n",
      "('Gesicki et al. (2014) derived masses and ages of central stars of PNe and '\n",
      " 'find ages of 3-10 Gyr. They derive ages scaling them to those by Bensby et '\n",
      " 'al. (2013), therefore it is not an independent determination, and further '\n",
      " 'investigation is needed. In conclusion, there might be presence of '\n",
      " 'intermediate-age objects in the Bulge, although in small numbers. It is '\n",
      " 'important to point out that the fraction of intermediate age/young dwarf '\n",
      " 'stars in the Bulge, suggested by results from , has to show a counterpart as '\n",
      " 'C-rich Miras, and PNe.')\n"
     ]
    }
   ],
   "source": [
    "# Extract a single example\n",
    "idx = 1\n",
    "example = sample_normalized.iloc[idx]\n",
    "\n",
    "example_dict = example.to_dict()\n",
    "for key, value in example_dict.items():\n",
    "    print(f\"{key}: {str(value)[:100]}\")  # Print first 100 characters of each value\n",
    "\n",
    "print(\"===\")\n",
    "print(\"Full query text:\")\n",
    "pprint(example_dict[\"sent_no_cit\"])"
   ]
  },
  {
   "cell_type": "code",
   "execution_count": 85,
   "id": "44c727b1",
   "metadata": {},
   "outputs": [
    {
     "data": {
      "text/plain": [
       "'Gesicki et al. (2014) derived masses and ages of central stars of PNe and find ages of 3-10 Gyr. They derive ages scaling them to those by Bensby et al. (2013), therefore it is not an independent determination, and further investigation is needed. In conclusion, there might be presence of intermediate-age objects in the Bulge, although in small numbers. It is important to point out that the fraction of intermediate age/young dwarf stars in the Bulge, suggested by results from , has to show a counterpart as C-rich Miras, and PNe.'"
      ]
     },
     "execution_count": 85,
     "metadata": {},
     "output_type": "execute_result"
    }
   ],
   "source": [
    "example_dict[\"sent_no_cit\"]"
   ]
  },
  {
   "cell_type": "code",
   "execution_count": 86,
   "id": "cde41737",
   "metadata": {},
   "outputs": [
    {
     "name": "stdout",
     "output_type": "stream",
     "text": [
      "Number of results: 10\n",
      "Number of unique DOIs in results: 8\n",
      "Target DOI (10.1051/0004-6361/201220678) in top k: False\n"
     ]
    }
   ],
   "source": [
    "# For each row in the samples, we want to get its 'hard examples', the highest ranked dois that are not the target doi\n",
    "# According to the current embedding strategy (qwen06+prev3 / contributions)\n",
    "\n",
    "results = db.search(\n",
    "    collection_name=\"qwen06_contributions\",\n",
    "    query_records=[example_dict],\n",
    "    query_vectors=[example_dict[\"vector\"]],\n",
    "    limit=10,\n",
    ")\n",
    "results = results[0]\n",
    "print(f\"Number of results: {len(results)}\")\n",
    "unique_dois = set(result[\"doi\"] for result in results)\n",
    "print(f\"Number of unique DOIs in results: {len(unique_dois)}\")\n",
    "\n",
    "target_doi = example_dict[\"citation_dois\"]\n",
    "print(f\"Target DOI ({target_doi}) in top k: {target_doi in unique_dois}\")\n",
    "\n",
    "# Get the DOIs appearing in the top 5 results\n",
    "# check if you're getting 5 distinct dois typically, or if you need to get more\n",
    "# look at the text from those top results vs the query text\n",
    "\n",
    "# Get the target doi\n",
    "# Why is this query citing that target? Identify the reason\n",
    "\n",
    "# Compute before stats"
   ]
  },
  {
   "cell_type": "code",
   "execution_count": 87,
   "id": "55645e3b",
   "metadata": {},
   "outputs": [
    {
     "name": "stderr",
     "output_type": "stream",
     "text": [
      "Computing statistics: 100%|██████████| 1/1 [00:00<00:00, 2142.14it/s]"
     ]
    },
    {
     "name": "stdout",
     "output_type": "stream",
     "text": [
      "hitrate : [0. 0. 0. 0. 0. 0. 0. 0. 0. 0.]\n",
      "iou     : [0. 0. 0. 0. 0. 0. 0. 0. 0. 0.]\n",
      "recall  : [0. 0. 0. 0. 0. 0. 0. 0. 0. 0.]\n"
     ]
    },
    {
     "name": "stderr",
     "output_type": "stream",
     "text": [
      "\n"
     ]
    }
   ],
   "source": [
    "final_results = [{\"record\": sample.iloc[idx], \"results\": results}]\n",
    "stats = compute_statistics(final_results)\n",
    "for stat, values_at_k in stats.items():\n",
    "    print(f\"{stat:<8}: {values_at_k}\")"
   ]
  },
  {
   "cell_type": "code",
   "execution_count": 83,
   "id": "694546d1",
   "metadata": {},
   "outputs": [
    {
     "data": {
      "text/plain": [
       "[{'doi': '10.1088/0004-637X/703/2/1416',\n",
       "  'pubdate': 20091001,\n",
       "  'citation_count': 615,\n",
       "  'text': 'A simple analytic model is provided that captures the main effects seen in numerical radiative transfer calculations, clarifying how recombination emission contributes to the ionization rates.',\n",
       "  'metric': 0.6299333572387695},\n",
       " {'doi': '10.1046/j.1365-8711.2002.04940.x',\n",
       "  'pubdate': 20020101,\n",
       "  'citation_count': 215,\n",
       "  'text': 'A minimal fraction of the cosmic abundance of metal atoms can significantly influence the ionization balance within the disc.',\n",
       "  'metric': 0.6072202920913696},\n",
       " {'doi': '10.1111/j.1365-2966.2004.08313.x',\n",
       "  'pubdate': 20041101,\n",
       "  'citation_count': 286,\n",
       "  'text': 'Found that ionic abundances obtained from recombination lines are larger than those derived from collisionally excited lines for all ions where both kinds of lines were measured.',\n",
       "  'metric': 0.5999367237091064},\n",
       " {'doi': '10.1086/316190',\n",
       "  'pubdate': 19980701,\n",
       "  'citation_count': 2386,\n",
       "  'text': 'Total radiative recombination coefficients for hydrogenic atoms and ions have been computed, enhancing the accuracy of ionization balance predictions.',\n",
       "  'metric': 0.5939693450927734},\n",
       " {'doi': '10.1086/153030',\n",
       "  'pubdate': 19740801,\n",
       "  'citation_count': 206,\n",
       "  'text': 'Charge-transfer reactions of complex molecular ions with neutral metal atoms significantly increase the fractional ionization in dense interstellar clouds bombarded by high-energy cosmic rays.',\n",
       "  'metric': 0.5893094539642334},\n",
       " {'doi': '10.1051/0004-6361:20053678',\n",
       "  'pubdate': 20060101,\n",
       "  'citation_count': 161,\n",
       "  'text': \"Inclusion of heavy metal atoms in simple models leads to predictions of globally magnetically active disks, whereas complex models predict extensive 'dead zones' even with significant metal abundances due to the formation of molecular ions that dominate recombination with free electrons.\",\n",
       "  'metric': 0.5774479508399963},\n",
       " {'doi': '10.1086/588035',\n",
       "  'pubdate': 20080701,\n",
       "  'citation_count': 740,\n",
       "  'text': 'The model includes new gas-phase ion-molecule reactions and dissociative recombination pathways for the newly introduced species, with rates calculated based on dipole moments or polarizability data.',\n",
       "  'metric': 0.5766692161560059},\n",
       " {'doi': '10.1086/523887',\n",
       "  'pubdate': 20080101,\n",
       "  'citation_count': 75,\n",
       "  'text': 'The research highlights the importance of accurately determining the rate coefficients of basic radiative association and cosmic-ray ionization reactions, as well as the temperature dependence of key ion-neutral and neutral-neutral reactions, and the branching ratios and products of dissociative recombination processes.',\n",
       "  'metric': 0.5724042057991028},\n",
       " {'doi': '10.1051/0004-6361/200911794',\n",
       "  'pubdate': 20090701,\n",
       "  'citation_count': 312,\n",
       "  'text': 'Models with a significant or dominant contribution of the electron component to the ionization rate align with previous suggestions.',\n",
       "  'metric': 0.5716018080711365},\n",
       " {'doi': '10.1086/190769',\n",
       "  'pubdate': 19820101,\n",
       "  'citation_count': 645,\n",
       "  'text': 'Emphasis on the importance of clarifying the accuracy of dielectronic recombination rates and further measurements of collisional ionization cross sections at autoionizing thresholds.',\n",
       "  'metric': 0.5656237602233887}]"
      ]
     },
     "execution_count": 83,
     "metadata": {},
     "output_type": "execute_result"
    }
   ],
   "source": [
    "results"
   ]
  },
  {
   "cell_type": "markdown",
   "id": "bca0042a",
   "metadata": {},
   "source": [
    "1. Try an update to the prompt\n",
    "1. Generate the new doc expansions for all papers in dataset or hard examples\n",
    "1. see if stats improved\n",
    "   - margin between first target result and first result in cosine distance?\n",
    "   - hitrate, recall, iou?\n"
   ]
  },
  {
   "cell_type": "code",
   "execution_count": 98,
   "id": "b553982c",
   "metadata": {},
   "outputs": [
    {
     "name": "stdout",
     "output_type": "stream",
     "text": [
      "0.6248175\n"
     ]
    }
   ],
   "source": [
    "doc = \"A significant fraction of young and intermediate-age stars in the bulge cannot be fully explained by sampling biases or an He-enriched population, pointing to a complex star formation history.\"\n",
    "vec = embedder([doc])[0]\n",
    "print(np.dot(example[\"vector\"], vec))"
   ]
  },
  {
   "cell_type": "code",
   "execution_count": 91,
   "id": "a01f4f82",
   "metadata": {},
   "outputs": [
    {
     "name": "stdout",
     "output_type": "stream",
     "text": [
      "73\n"
     ]
    }
   ],
   "source": [
    "research = pd.read_json(\"../data/research_used.jsonl\", lines=True)\n",
    "research = research[research.doi.isin(target_dois)].reset_index(drop=True)\n",
    "print(len(research))"
   ]
  },
  {
   "cell_type": "code",
   "execution_count": 92,
   "id": "875e6a24",
   "metadata": {},
   "outputs": [
    {
     "name": "stdout",
     "output_type": "stream",
     "text": [
      "bibcode                                         2013A&A...549A.147B\n",
      "abstract          Based on high-resolution spectra obtained duri...\n",
      "aff               [Lund Observatory, Department of Astronomy and...\n",
      "author            [Bensby, T., Yee, J. C., Feltzing, S., Johnson...\n",
      "bibstem                                            [A&A, A&A...549]\n",
      "doctype                                                     article\n",
      "doi                                     10.1051/0004-6361/201220678\n",
      "id                                                          2523730\n",
      "pubdate                                                  2013-01-01\n",
      "title             Chemical evolution of the Galactic bulge as tr...\n",
      "read_count                                                       54\n",
      "reference         [1962ApJ...136..748E, 1975A&A....42..407G, 198...\n",
      "data                                      [CDS:1, ESO:4, SIMBAD:61]\n",
      "citation_count                                                  430\n",
      "citation          [2013A&A...554A..44A, 2013A&A...559A..98V, 201...\n",
      "body              1. Introduction Galactic bulges are emerging a...\n",
      "dois              [10.1051/0004-6361/201220678, 10.48550/arXiv.1...\n",
      "keywords          [gravitational lensing: micro, Galaxy: bulge, ...\n",
      "loaded_from                        data/json/salvaged_articles.json\n",
      "body_sentences    [1. Introduction Galactic bulges are emerging ...\n",
      "Name: 59, dtype: object\n"
     ]
    }
   ],
   "source": [
    "target = research[research.doi == target_doi].iloc[0]\n",
    "print(target)"
   ]
  },
  {
   "cell_type": "code",
   "execution_count": 93,
   "id": "c4afacc9",
   "metadata": {},
   "outputs": [],
   "source": [
    "full_text = target[\"title\"] + \"\\n\" + target[\"abstract\"] + \"\\n\" + target[\"body\"]\n",
    "with open(\"temp_paper.txt\", \"w\") as f:\n",
    "    f.write(full_text)"
   ]
  },
  {
   "cell_type": "code",
   "execution_count": 14,
   "id": "2fe7d2eb",
   "metadata": {},
   "outputs": [
    {
     "name": "stdout",
     "output_type": "stream",
     "text": [
      "Collections:\n",
      " - astrobert_chunks: 460801 entities\n",
      " - astrobert_contributions: 89860 entities\n",
      " - bge_chunks: 460801 entities\n",
      " - bge_contributions: 89860 entities\n",
      " - nasa_chunks: 460801 entities\n",
      " - nasa_contributions: 89860 entities\n",
      " - qwen06_chunks: 460801 entities\n",
      " - qwen8b_contributions: 89860 entities\n",
      " - specter_chunks: 460801 entities\n",
      " - specter_contributions: 89860 entities\n"
     ]
    }
   ],
   "source": [
    "db.list_collections()"
   ]
  },
  {
   "cell_type": "code",
   "execution_count": null,
   "id": "e8fd766e",
   "metadata": {},
   "outputs": [],
   "source": []
  }
 ],
 "metadata": {
  "kernelspec": {
   "display_name": "citeline",
   "language": "python",
   "name": "python3"
  },
  "language_info": {
   "codemirror_mode": {
    "name": "ipython",
    "version": 3
   },
   "file_extension": ".py",
   "mimetype": "text/x-python",
   "name": "python",
   "nbconvert_exporter": "python",
   "pygments_lexer": "ipython3",
   "version": "3.11.10"
  }
 },
 "nbformat": 4,
 "nbformat_minor": 5
}
