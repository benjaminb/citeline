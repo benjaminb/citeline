{
  "cells": [
    {
      "cell_type": "code",
      "execution_count": 1,
      "metadata": {},
      "outputs": [
        {
          "name": "stdout",
          "output_type": "stream",
          "text": [
            "=================================CONFIG=================================\n",
            "Database         User             Host                             Port            \n",
            "citeline_db      bbasseri         localhost                        5432            \n",
            "========================================================================\n",
            "Database version: ('PostgreSQL 17.3 (Homebrew) on x86_64-apple-darwin23.6.0, compiled by Apple clang version 16.0.0 (clang-1600.0.26.6), 64-bit',)\n"
          ]
        }
      ],
      "source": [
        "from dotenv import load_dotenv\n",
        "import os\n",
        "import pandas as pd\n",
        "from time import time\n",
        "import torch\n",
        "from TextEnrichers import get_enricher, TextEnricher\n",
        "from database.database import Database\n",
        "from embedders import Embedder, get_embedder\n",
        "from tqdm import tqdm\n",
        "from pprint import pprint\n",
        "import numpy as np\n",
        "\n",
        "load_dotenv(\".env\", override=True)\n",
        "\n",
        "db = Database()\n",
        "db.test_connection()"
      ]
    },
    {
      "cell_type": "code",
      "execution_count": 2,
      "metadata": {},
      "outputs": [
        {
          "name": "stdout",
          "output_type": "stream",
          "text": [
            "Using device: mps\n",
            "Loaded 100 examples\n"
          ]
        }
      ],
      "source": [
        "device = 'cuda' if torch.cuda.is_available() else 'mps' if torch.mps.is_available() else 'cpu'\n",
        "print(f\"Using device: {device}\")\n",
        "examples = pd.read_json('data/dataset/100/nontrivial.jsonl', lines=True)\n",
        "print(f\"Loaded {len(examples)} examples\")"
      ]
    },
    {
      "cell_type": "code",
      "execution_count": 3,
      "metadata": {},
      "outputs": [],
      "source": [
        "def get_index_of_target(query_results, target_doi: str) -> int:\n",
        "    \"\"\"\n",
        "    Get the index of the target DOI in the query results.\n",
        "    :param query_results: The query results from the database.\n",
        "    :param target_doi: The DOI of the target paper.\n",
        "    :return: The index of the target DOI in the query results.\n",
        "    \"\"\"\n",
        "    for i, result in enumerate(query_results):\n",
        "        if result.doi == target_doi:\n",
        "            return i\n",
        "    return -1\n",
        "\n",
        "def get_query_results_and_ranks(examples, embedder, enricher, target_column) -> list[int]:\n",
        "    all_query_results = []\n",
        "    target_ranks = []\n",
        "    # Enrich and embed the sentences\n",
        "    enriched_sentences = enricher(examples)\n",
        "    embeddings = embedder(enriched_sentences)\n",
        "\n",
        "    for i, embedding in tqdm(enumerate(embeddings)):\n",
        "        pubdate = examples.iloc[i]['pubdate']\n",
        "        target_doi = examples.iloc[i]['citation_dois'][0]\n",
        "\n",
        "        query_results = db.query_vector_column(\n",
        "            query_vector=embedding,\n",
        "            target_table=\"lib\",\n",
        "            target_column=target_column,\n",
        "            pubdate=pubdate,\n",
        "            top_k=10_000,\n",
        "            probes=40,\n",
        "            explain=False,\n",
        "        )\n",
        "        all_query_results.append(query_results)\n",
        "\n",
        "        # Get the rank of the target DOI in the query results\n",
        "        target_rank = get_index_of_target(query_results, target_doi)\n",
        "        target_ranks.append(target_rank)\n",
        "    return all_query_results, target_ranks"
      ]
    },
    {
      "cell_type": "code",
      "execution_count": 4,
      "metadata": {},
      "outputs": [
        {
          "name": "stderr",
          "output_type": "stream",
          "text": [
            "100it [03:08,  1.89s/it]\n"
          ]
        }
      ],
      "source": [
        "# BGE with identity experiment\n",
        "bge_embedder = get_embedder(\"BAAI/bge-small-en\", device=device, normalize=True)\n",
        "identity_enricher = get_enricher(\"identity\", path_to_data=\"data/preprocessed/reviews.jsonl\")\n",
        "\n",
        "bge_query_results, bge_ranks = get_query_results_and_ranks(examples, bge_embedder, identity_enricher, \"bge_norm\")\n"
      ]
    },
    {
      "cell_type": "code",
      "execution_count": 6,
      "metadata": {},
      "outputs": [
        {
          "name": "stdout",
          "output_type": "stream",
          "text": [
            "Mean rank: 645.41\n",
            "Median rank: 18.0\n",
            "Max rank: 8045\n",
            "Rank 0 count: 10\n",
            "Rank 1 count: 10\n",
            "Rank 2 count: 2\n",
            "Rank 3 count: 2\n"
          ]
        }
      ],
      "source": [
        "def print_rank_stats(ranks):\n",
        "    \"\"\"\n",
        "    Print the rank statistics.\n",
        "    :param ranks: The ranks to analyze.\n",
        "    \"\"\"\n",
        "    print(f\"Mean rank: {np.mean(ranks)}\")\n",
        "    print(f\"Median rank: {np.median(ranks)}\")\n",
        "    print(f\"Max rank: {np.max(ranks)}\")\n",
        "    print(f\"Rank 0 count: {ranks.count(0)}\")\n",
        "    print(f\"Rank 1 count: {ranks.count(1)}\")\n",
        "    print(f\"Rank 2 count: {ranks.count(2)}\")\n",
        "    print(f\"Rank 3 count: {ranks.count(3)}\")\n",
        "\n",
        "print_rank_stats(bge_ranks)"
      ]
    },
    {
      "cell_type": "code",
      "execution_count": 8,
      "metadata": {},
      "outputs": [
        {
          "name": "stdout",
          "output_type": "stream",
          "text": [
            "Failed queries: 18\n",
            "[0, 8, 10, 11, 14, 23, 27, 40, 42, 46, 58, 65, 66, 68, 72, 78, 80, 93]\n"
          ]
        }
      ],
      "source": [
        "failed_queries = [i for i in range(len(bge_ranks)) if bge_ranks[i] == -1]\n",
        "print(f\"Failed queries: {len(failed_queries)}\")\n",
        "print(failed_queries)"
      ]
    },
    {
      "cell_type": "markdown",
      "metadata": {},
      "source": [
        "## Methodology\n",
        "\n",
        "Each failed query represents an example query executed on the database with top-k of 10,000 and 40 probes where none of the results were chunks from the target document.\n",
        "\n",
        "- Verify the target doi is correct\n",
        "- If not, identify why not\n",
        "  - would the correct doi have closer chunk embeddings?\n",
        "- If correct, inspect what chunks were considered close\n",
        "- What transformations, if any, would make the target chunk's embedding closer to the query vector?"
      ]
    },
    {
      "cell_type": "markdown",
      "metadata": {},
      "source": [
        "Let's try with example 18, the worst-performing one in the dataset"
      ]
    },
    {
      "cell_type": "code",
      "execution_count": 10,
      "metadata": {},
      "outputs": [
        {
          "name": "stdout",
          "output_type": "stream",
          "text": [
            "('Original sentence: These are minor species, with abundances of 1.5 10 12 , '\n",
            " '1.7 10 9 , and 7 10 8 kg N, respectively ( Ussiri and Lal, 2013 ).')\n",
            "('Example: These are minor species, with abundances of 1.5 10 12 , 1.7 10 9 , '\n",
            " 'and 7 10 8 kg N, respectively ( Ussiri and .')\n",
            "Target doi: ['10.1016/j.epsl.2013.07.013']\n"
          ]
        }
      ],
      "source": [
        "example = examples.iloc[failed_queries[0]]\n",
        "pprint(f\"Original sentence: {example.sent_original}\")\n",
        "pprint(f\"Example: {example.sent_no_cit}\")\n",
        "print(f\"Target doi: {example.citation_dois}\")"
      ]
    },
    {
      "cell_type": "markdown",
      "metadata": {},
      "source": [
        "This is an incorrect doi: the inline citation missed the first author. \n",
        "\n",
        "### Incorrect DOI"
      ]
    },
    {
      "cell_type": "code",
      "execution_count": 11,
      "metadata": {},
      "outputs": [
        {
          "name": "stdout",
          "output_type": "stream",
          "text": [
            "('Original sentence: But assuming the existence of ad hoc density '\n",
            " 'fluctuations, may change the volume integrated gamma-ray spectrum as to make '\n",
            " 'it similar to the observed one Morlino and Caprioli ( 2012 ).')\n",
            "('Example: But assuming the existence of ad hoc density fluctuations, may '\n",
            " 'change the volume integrated gamma-ray spectrum as to make it similar to the '\n",
            " 'observed one Morlino and .')\n",
            "Target doi: ['10.1088/1475-7516/2012/07/038']\n"
          ]
        }
      ],
      "source": [
        "example = examples.iloc[failed_queries[1]]\n",
        "pprint(f\"Original sentence: {example.sent_original}\")\n",
        "pprint(f\"Example: {example.sent_no_cit}\")\n",
        "print(f\"Target doi: {example.citation_dois}\")"
      ]
    },
    {
      "cell_type": "markdown",
      "metadata": {},
      "source": [
        "### Incorrect DOI"
      ]
    },
    {
      "cell_type": "code",
      "execution_count": 12,
      "metadata": {},
      "outputs": [
        {
          "name": "stdout",
          "output_type": "stream",
          "text": [
            "('Original sentence: Sweatman (2021) ignored data from carbon spherules '\n",
            " 'generated by both YDIH proponents and critics that provides one of the most '\n",
            " 'compelling pieces of evidence against the YDIH.')\n",
            "('Example: ignored data from carbon spherules generated by both YDIH '\n",
            " 'proponents and critics that provides one of the most compelling pieces of '\n",
            " 'evidence against the YDIH.')\n",
            "Target doi: ['10.1016/j.gca.2021.07.031']\n"
          ]
        }
      ],
      "source": [
        "example = examples.iloc[failed_queries[2]]\n",
        "pprint(f\"Original sentence: {example.sent_original}\")\n",
        "pprint(f\"Example: {example.sent_no_cit}\")\n",
        "print(f\"Target doi: {example.citation_dois}\")"
      ]
    },
    {
      "cell_type": "markdown",
      "metadata": {},
      "source": [
        "The doi actually refers to Sun et al 2021, not Sweatman 2021. The dataset build process should not have included an example where the year and author initial had more than one possibility"
      ]
    },
    {
      "cell_type": "code",
      "execution_count": 33,
      "metadata": {},
      "outputs": [],
      "source": [
        "reviews = pd.read_json(\"data/preprocessed/reviews.jsonl\", lines=True)\n",
        "original_record = reviews[reviews['doi'] == example.source_doi].iloc[0]"
      ]
    },
    {
      "cell_type": "code",
      "execution_count": 34,
      "metadata": {},
      "outputs": [
        {
          "name": "stdout",
          "output_type": "stream",
          "text": [
            "2021GeCoA.312...57S\n"
          ]
        }
      ],
      "source": [
        "for ref in original_record.reference:\n",
        "    if ref[:4] == \"2021\" and ref[-1] == \"S\": \n",
        "        print(ref)"
      ]
    },
    {
      "cell_type": "markdown",
      "metadata": {},
      "source": [
        "That's the bibcode in the original review paper references that matched \"2021\" and \"S\". However, the bibcode for Sweatman (2021) is actually `2021ESRv..21803677S`. \n",
        "\n",
        "The bibcode for this inline citation is missing in the document's references:"
      ]
    },
    {
      "cell_type": "code",
      "execution_count": 35,
      "metadata": {},
      "outputs": [
        {
          "name": "stdout",
          "output_type": "stream",
          "text": [
            "2021CliPa..17.1409N\n",
            "2021EGUGA..23.8442T\n",
            "2021GeCoA.312...57S\n",
            "2021JGRD..12635379Z\n",
            "2021MNRAS.501.3350F\n",
            "2021NatCo..12.2106C\n",
            "2021NatSR..1118632B\n",
            "2021NatSR..1122359O\n",
            "2021Natur.595...66R\n"
          ]
        }
      ],
      "source": [
        "for ref in original_record.reference:\n",
        "    if ref[:4] == \"2021\":\n",
        "        print(ref)\n"
      ]
    },
    {
      "cell_type": "markdown",
      "metadata": {},
      "source": [
        "### Conclusion: if this is a one-off error we can add the missing reference to the training data. "
      ]
    },
    {
      "cell_type": "code",
      "execution_count": 37,
      "metadata": {},
      "outputs": [
        {
          "name": "stdout",
          "output_type": "stream",
          "text": [
            "('Original sentence: Gyrochronology is based on the stellar spin-down due to '\n",
            " 'magnetic braking and uses the surface rotation rate as a clock, adopting the '\n",
            " 'so-called Skumanich relation between angular momentum loss and rotation '\n",
            " 'rate, ( Skumanich 1972 ).')\n",
            "('Example: Gyrochronology is based on the stellar spin-down due to magnetic '\n",
            " 'braking and uses the surface rotation rate as a clock, adopting the '\n",
            " 'so-called Skumanich relation between angular momentum loss and rotation '\n",
            " 'rate, ( .')\n",
            "Target doi: ['10.1086/151310']\n"
          ]
        }
      ],
      "source": [
        "example = examples.iloc[failed_queries[3]]\n",
        "pprint(f\"Original sentence: {example.sent_original}\")\n",
        "pprint(f\"Example: {example.sent_no_cit}\")\n",
        "print(f\"Target doi: {example.citation_dois}\")"
      ]
    },
    {
      "cell_type": "markdown",
      "metadata": {},
      "source": [
        "This is the correct doi, so why didn't it come up?\n",
        "\n",
        "The passage discusses:\n",
        "- Gyrochronology being based on stellar spin-down\n",
        "- Magnetic braking being the cause of the the spin-down\n",
        "- Skumanich relation to compute this, which relates angular momentum loss and rotation rate\n",
        "\n",
        "Is it in the dataset?"
      ]
    },
    {
      "cell_type": "code",
      "execution_count": 39,
      "metadata": {},
      "outputs": [],
      "source": [
        "research = pd.read_json(\"data/preprocessed/research.jsonl\", lines=True)"
      ]
    },
    {
      "cell_type": "code",
      "execution_count": 46,
      "metadata": {},
      "outputs": [
        {
          "name": "stdout",
          "output_type": "stream",
          "text": [
            "Target doi: 10.1086/151310\n",
            "Time Scales for Ca II Emission Decay, Rotational Braking, and Lithium Depletion\n"
          ]
        }
      ],
      "source": [
        "target_doi = example.citation_dois[0]\n",
        "print(f\"Target doi: {target_doi}\")\n",
        "\n",
        "target_record = research[research['doi'] == target_doi].iloc[0]\n",
        "print(target_record.title)"
      ]
    },
    {
      "cell_type": "code",
      "execution_count": 48,
      "metadata": {},
      "outputs": [
        {
          "name": "stdout",
          "output_type": "stream",
          "text": [
            "Number of chunks: 6\n"
          ]
        }
      ],
      "source": [
        "target_chunks = [chunk[0] for chunk in db.query(f\"SELECT chunk FROM lib WHERE doi = '{target_doi}'\")]\n",
        "print(f\"Number of chunks: {len(target_chunks)}\")"
      ]
    },
    {
      "cell_type": "code",
      "execution_count": 50,
      "metadata": {},
      "outputs": [
        {
          "name": "stdout",
          "output_type": "stream",
          "text": [
            "'Distance: 0.1627938151359558'\n",
            "('197 2ApJ. . .171. .565S The Astrophysical Journal, 171:565-567, 1972 '\n",
            " 'February 1 © 1972. The University of Chicago All rights reserved. Printed in '\n",
            " 'U S A TIME SCALES FOR Ca n EMISSION DECAY, ROTATIONAL BRAKING, AND LITHIUM '\n",
            " 'DEPLETION A. Skumanich High Altitude Observatory, National Center for '\n",
            " 'Atmospheric Research,* Boulder, Colorado Received 1971 June 21 ABSTRACT A '\n",
            " 'comparison of the Ca+ emission luminosity—after correction for spectral-type '\n",
            " 'effects—for the Pleiades, Ursa Major, and Hyades stars and the Sun indicate '\n",
            " 'an emission decay which varies as the inverse square root of the age. '\n",
            " 'Further, the rotational decay curve is found to satisfy the same law. It is '\n",
            " 'further suggested that lithium depletion follows the+ same law but only as '\n",
            " 'far as the Hyades age, after which the depletion proceeds exponentially. '\n",
            " 'Since Ca emission is linearly proportional to magnetic field strength at the '\n",
            " 'surface, one can predict that the surface fields are proportional to angular '\n",
            " 'velocity and decay as the inverse square root. The above results are '\n",
            " 'predicated on the standard Hyades age (0.4 billion years).')\n",
            "\n",
            "'Distance: 0.1749734878540039'\n",
            "('The above results are predicated on the standard Hyades age (0.4 billion '\n",
            " 'years). In an effort to put the relation between stellar age and the '\n",
            " 'intensity of emission reversal of the Ca+ K- and H-lines (Wilson 1963; '\n",
            " 'Wilson and Skumanich 1964) on a quantitative basis the author has reduced '\n",
            " 'photoelectric observations of the cores of the K- and H-lines in the field '\n",
            " 'stars (Wilson 1968), the Hyades (Wilson 1970), and the Sun (Wilson 1971) to '\n",
            " 'a common spectral type (specifically, to B — F = 0.60). As Wilson (1970) has '\n",
            " 'shown, K and H emission varies, for a given age group, with spectral type, '\n",
            " 'so any meaningful age relation must be discussed after temperature '\n",
            " 'differences are removed. The details of this procedure will be given '\n",
            " 'elsewhere; our intent here is to compare the resulting (Ca+ emission, '\n",
            " 'age)-relation with that for rotational braking and lithium depletion. In '\n",
            " 'Figure 1 the temperature-corrected Ca“1\" emission luminosity is plotted '\n",
            " '(after subtraction of the “zero” point flux as given by the lower envelope '\n",
            " 'of Wilson’s flux data) for the Sun and for the Hyades and Ursa Major stars. '\n",
            " 'The latter are to be found among Wilson’s field-star data. The Hyades '\n",
            " 'emission luminosity is taken as unity at all spectral types. Also plotted '\n",
            " 'are the Ca+ emission data for the Pleiades as estimated from Kraft and '\n",
            " 'Greenstein’s (1969) equivalent-width measures of the late-type stars in the '\n",
            " 'Pleiades and Hyades. The indicated errors are based on the spread in data.')\n",
            "\n",
            "'Distance: 0.16884946823120117'\n",
            "('The indicated errors are based on the spread in data. The figure indicates '\n",
            " 'an inverse square-root law for the decay of Ca+ emission. Also plotted in '\n",
            " 'Figure 1 are average equatorial velocities for the G stars in the Pleiades '\n",
            " 'and Hyades and for the Sun (Kraft 1967 ; cf. Conti 1968 for further '\n",
            " 'references of the data used). It is evident that the rotational data are in '\n",
            " 'a constant proportion, within experimental errors, with the Ca+ emission '\n",
            " 'data; i.e., the rotational decay also follows a square-root relation. The '\n",
            " 'same can be said for the lithium-abundance data (for a review of this data, '\n",
            " 'see van den Heuvel and Conti 1971) except that here the Sun has an '\n",
            " 'overdepletion. It would appear that the lithium depletion follows the '\n",
            " 'rotational and Ca+ emission decay through times of the order of the Hyades '\n",
            " 'age and then proceeds exponentially with a e-folding time of 1.1 X 109 '\n",
            " 'years. Alternately, the lithium abundance in the Sun may be underestimated '\n",
            " 'by a factor of 10. According to Frazier’s data (Frazier 1970), Ca+ emission '\n",
            " 'intensity, in a 1.1 Â band centered on the K-line, varies linearly with '\n",
            " 'surface magnetic field strength. Thus it is appropriate to identify the '\n",
            " 'stellar Ca+ emission luminosity with the (average) surface magnetic field. '\n",
            " 'Figure 1 then implies that the average surface (dynamo) field is pro* The '\n",
            " 'National Center for Atmospheric Research is sponsored by the National '\n",
            " 'Science Foundation.')\n",
            "\n",
            "'Distance: 0.16177845001220703'\n",
            "('565 © American Astronomical Society • Provided by the NASA Astrophysics Data '\n",
            " 'System 197 2ApJ. . .171. .565S 566 A. SKUMANICH Vol. 171 Fig. 1.—Ca+ '\n",
            " 'emission, rotation, and lithium abundance versus stellar age portional to '\n",
            " 'the rotational velocity and decays as the inverse square root of the time as '\n",
            " 'the star “cooks” on the main sequence. This remarkable result has been shown '\n",
            " 'to be theoretically consistent by Durney (1972) on the basis of a simple '\n",
            " 'model for the stellar wind. The above results are predicted on the basis of '\n",
            " 'the “standard” age for the Hyades, viz., 0.4 X 109 years. If the revision by '\n",
            " 'van den Heuvel (1969) proves to be correct, the derived square-root law will '\n",
            " 'have to be revised. The proportionality between magnetic fields, rotation, '\n",
            " 'and lithium abundance (except for the solar Li abundance) would be '\n",
            " 'unchanged. The shift in the Hyades point due to the suggested age revision '\n",
            " 'is indicated in Figure 1 by the arrows. As van den Heuvel and Conti (1971) '\n",
            " 'show, one can fit the three points (using the revised age) with an '\n",
            " 'exponential with an e-folding decay time of 1.1 X 109 years; however, the '\n",
            " 'rotation curve was better fitted by two exponentials. The suggestion here, '\n",
            " 'particularly when one tries to fit the Ca+ data (the Ursa Major point is '\n",
            " 'important here), is that a power law is even better. The use of the revised '\n",
            " 'Hyades age leads to an inverse cube-root law up to the Hyades. The '\n",
            " 'subsequent decay would be more rapid for all three quantities.')\n",
            "\n",
            "'Distance: 0.17675238847732544'\n",
            "('Wilson, O. C., and Skumanich, A. 1964, Ap.J., 140, 1401. © American '\n",
            " 'Astronomical Society • Provided by the NASA Astrophysics Data System 197 '\n",
            " '2ApJ. . .171. .565S © American Astronomical Society Provided by the NASA '\n",
            " 'Astrophysics Data System')\n",
            "\n",
            "'Distance: 0.16663789749145508'\n",
            "('The subsequent decay would be more rapid for all three quantities. Whether '\n",
            " 'this is allowable theoretically remains to be seen. Measures of the rotation '\n",
            " 'and lithium abundance in the G stars in the Ursa Major group would help to '\n",
            " 'resolve the question of the nature of the decay law. I am indebted to Olin '\n",
            " 'C. Wilson for his continual stimulation and kind sharing of his unique '\n",
            " 'observational data on stellar chromospheres. Special thanks are due Robert '\n",
            " 'P. Kraft for calling my attention to his Pleiades and Hyades data and for '\n",
            " 'helping in the preliminary estimate of the Pleiades/Hyades ratio. My thanks '\n",
            " 'also go to Peter S. Conti for calling my attention to his and other work on '\n",
            " 'the lithium data. © American Astronomical Society • Provided by the NASA '\n",
            " 'Astrophysics Data System 197 2ApJ. . .171. .565S No. 3, 1972 Ca il EMISSION '\n",
            " 'DECAY 567 REFERENCES Conti, P. S. 1968, Ap.J., 152, 657. Durney, B. 1972, '\n",
            " 'Proceedings of the 1971 Asüomar Conference on the Solar Wind (ed. C. P. '\n",
            " 'Sonnet) Frazier, E. N. 1970, Solar Phys., 14, 89. Heuvel, E. P. J., van den. '\n",
            " '1969, Pub. A.S.P., 81, 815. Heuvel, E. P. J., van den, and Conti, P. S. '\n",
            " '1971, Science, 171, 895. Wilson, O. C. 1963, Ap. /., 138, 832. . 1968, '\n",
            " 'ibid., 153, 221. . 1970, ibid., 160, 225. . 1971 (private communication). '\n",
            " 'Wilson, O. C., and Skumanich, A. 1964, Ap.J., 140, 1401.')\n",
            "\n"
          ]
        }
      ],
      "source": [
        "from scipy.spatial.distance import cosine as cosine_distance\n",
        "example_embedding = bge_embedder([example.sent_no_cit])[0]\n",
        "chunk_embeddings = bge_embedder(target_chunks)\n",
        "for i in range(len(target_chunks)):\n",
        "    chunk = target_chunks[i]\n",
        "    chunk_embedding = chunk_embeddings[i]\n",
        "    distance = cosine_distance(example_embedding, chunk_embedding)\n",
        "    pprint(f\"Distance: {distance}\")\n",
        "    pprint(chunk)\n",
        "    print()"
      ]
    },
    {
      "cell_type": "markdown",
      "metadata": {},
      "source": [
        "Even though this is the paper that established the Skumanich relation, all chunk embeddings are rather distant at 0.16 - 0.17.\n",
        "\n",
        "What did the embedding think was more similar?"
      ]
    },
    {
      "cell_type": "code",
      "execution_count": 52,
      "metadata": {},
      "outputs": [
        {
          "name": "stdout",
          "output_type": "stream",
          "text": [
            "('Distance: 0.09885724166455323\\n'\n",
            " ' Stars like the Sun are believed to have been spun down by magnetic braking '\n",
            " '(Skumamch 1972). Magnetic dynamo models indicate that the braking rate '\n",
            " \"decreases with decreasing angular velocity. Skumamch's surface velocity ~ ~c \"\n",
            " 't 1/2, where t is the age of the star, leads to a spin-down timescale of ;d '\n",
            " '°~ ~spin, 1187 1188 RASIO ET AL. Vol. 470 while the theory of Tout & Pringle '\n",
            " '(1992) for fully convective, rapidly rotating stars leads to the weaker, but '\n",
            " 'still inverse, dependence of ;d °~ ~-i/2~ In general the tidal '\n",
            " 'synchronization rate increases with the lack of synchronicity, ,rsu oc ~ ~, '\n",
            " 'where A1~ is the difference between stellar spin and orbital angular '\n",
            " 'velocities. If ;~ and ;d were both short compared with the age of the star, '\n",
            " 'then an equilibrium would be set up in which ;~ ~ ;d* This is the case for '\n",
            " 'cataclysmic variables, in which tidal spin-up and magnetic braking (or '\n",
            " 'gravitational radiation of angular momentum) are in equilibrium (Verbunt & '\n",
            " 'Zwaan 1981). These systems are unstable because their orbits decay on a '\n",
            " 'timescale ~sd In the case of 51 Peg, because the star appears to be spinning '\n",
            " 'slowly, we can conclude that ~sd ~ ~su over the lifetime of the star and '\n",
            " 'magnetic braking in this system has proceeded in a way similar to that of '\n",
            " 'the Sun. For the Sun, the current braking timescale is of the order of its '\n",
            " 'age ;d 1010 yr, so that `r~~ >~ 1010 yr.')\n",
            "('Distance: 0.09961555013285872\\n'\n",
            " ' This behavior, particularly of the slowly rotating sequence, gave birth to '\n",
            " 'gyrochronology (Barnes 2003 ; Soderblom 1983 ; Skumanich 1972 ), the idea '\n",
            " 'that stellar ages may be inferred solely from rotation period and mass. '\n",
            " 'Gyrochronology will become increasingly important for recent and future data '\n",
            " 'sets (e.g., from exoplanet transit searches) that provide rotation period '\n",
            " 'measurements of large samples of stars with unknown ages. The best current '\n",
            " 'example is the measurement of 34,000 rotation periods in the Kepler mission '\n",
            " 'field of view by Mcquillan et al. ( 2014 ). The present model builds upon '\n",
            " 'many previous works, including theoretical developments of how magnetized '\n",
            " 'stellar winds remove angular momentum (Schatzman 1962 ; Mestel 1968 ; Weber '\n",
            " 'Davis 1967 ; Kawaler 1988 ; Matt et al. 2012 ), models for the evolution of '\n",
            " 'stellar spin rate in time (e.g., MacGregor Brenner 1991 ; Denissenkov et al. '\n",
            " '2010 ; Scholz et al. 2011 ; Reiners Mohanty 2012 ; Gallet Bouvier 2013 ; van '\n",
            " 'Saders Pinsonneault 2013 ; Brown 2014 ), and gyrochronology relations '\n",
            " '(Barnes 2003 , 2010 ; Mamajek Hillenbrand 2008 ; Meibom et al. 2009 ). Much '\n",
            " 'of the difficulty in predicting stellar wind torques arises from the '\n",
            " 'uncertainty (both observational and theoretical) in our knowledge of the '\n",
            " 'magnetic and stellar wind properties of stars. Despite significant progress '\n",
            " 'in measurements of the mass-loss rates of Sun-like stars (Wood et al. 2005 '\n",
            " '), theoretical predictions of wind properties (Suzuki et al.')\n",
            "('Distance: 0.10435946401855423\\n'\n",
            " ' 1. Introduction The interplay of stellar rotation and convection is the '\n",
            " 'origin of various stellar activity phenomena. For main sequence stars the '\n",
            " 'rotation rate strongly depends on the stellar age. Because of rotational '\n",
            " 'braking, stars lose angular momentum over the time and slow down. Skumanich '\n",
            " '(1972) empirically found the relation that the stars’ rotational velocity is '\n",
            " 'proportional to the inverse square root of its age: v rot ∝ t − 1/2 . Barnes '\n",
            " '(2003) shows that this relation holds for open cluster and Mount Wilson '\n",
            " 'stars, and also provides a color dependence of the rotation period. Irwin et '\n",
            " 'al. (2011) measure rotation periods for stars with masses below 0.35 M ⊙ , '\n",
            " 'finding some exceptionally fast and slow rotators. These stars do not follow '\n",
            " 'the color-period relation from Barnes (2003) , but they can be explained by '\n",
            " 'a radius-dependent braking efficiency ( Reiners Mohanty 2012 ). Nowadays, a '\n",
            " 'method called gyrochronology ( Barnes 2007 ) is being developed using '\n",
            " 'Skumanich’s relation in the opposite way to infer stellar ages from the '\n",
            " 'rotation rate. Moreover, the rotation rate strongly correlates with Ca II '\n",
            " 'emission and can be used as a measure of stellar activity. A relation '\n",
            " 'between these properties is often called age-rotation-activity relation ( '\n",
            " 'Covey et al. 2011 ). The solar rotation profile is by no means uniform.')\n"
          ]
        }
      ],
      "source": [
        "example_query_results = bge_query_results[failed_queries[3]]\n",
        "for query_result in example_query_results[:3]:\n",
        "    pprint(f\"Distance: {query_result.distance}\\n {query_result.chunk}\")"
      ]
    },
    {
      "cell_type": "markdown",
      "metadata": {},
      "source": [
        "Trying query expansion: use an LLM to generate paraphrases of the query that surface additional background details:\n",
        "\n",
        "> \n",
        "You are a domain-expert astrophysical writer. When given any single input sentence in quotes, your job is to produce 3 concise, standalone paraphrases that:\n",
        "\n",
        "1. Preserve **all** original technical details and domain-specific jargon.\n",
        "2. **Explicitly expose** any implied mathematical relationships in algebraic form (e.g. y = x^{-1/2}).\n",
        "3. **Cite or mention** at least one observational proxy or physical manifestation\n",
        "4. Keep the same meaning and level of formality.\n",
        "5. List each paraphrase on its own numbered line.\n",
        "\n",
        "Input: \"Gyrochronology is based on the stellar spin-down due to magnetic braking and uses the surface rotation rate as a clock, adopting the so-called Skumanich relation between angular momentum loss and rotation rate.\""
      ]
    },
    {
      "cell_type": "code",
      "execution_count": 56,
      "metadata": {},
      "outputs": [],
      "source": [
        "paraphrases = [\n",
        "    \"\"\"Gyrochronology employs stellar rotation period decay (via magnetic braking's angular momentum dissipation) as an age indicator, mathematically expressed as \n",
        "J\n",
        "˙\n",
        "∝\n",
        "Ω\n",
        "3\n",
        "J\n",
        "˙\n",
        " ∝Ω \n",
        "3\n",
        "  (Skumanich relation), with surface differential rotation patterns serving as observational proxies for spin-down rates.\n",
        "Exposed relationship: \n",
        "τ\n",
        "∝\n",
        "P\n",
        "2\n",
        "τ∝P \n",
        "2\n",
        "  (age \n",
        "τ\n",
        "τ vs. rotation period \n",
        "P\n",
        "P) derived from \n",
        "J\n",
        "∝\n",
        "Ω\n",
        "−\n",
        "1\n",
        "/\n",
        "2\n",
        "J∝Ω \n",
        "−1/2\n",
        " .\"\"\",\n",
        "    \"\"\"\n",
        "Stellar age dating via gyrochronology quantifies magnetic braking-induced spin-down using the Skumanich law (\n",
        "Ω\n",
        "∝\n",
        "t\n",
        "−\n",
        "1\n",
        "/\n",
        "2\n",
        "Ω∝t \n",
        "−1/2\n",
        " ), where surface rotation modulation (observable through starspot periodicity) directly traces angular momentum loss rates.\n",
        "Exposed relationship: \n",
        "L\n",
        "bol\n",
        "L \n",
        "bol\n",
        " -normalized Rossby number \n",
        "R\n",
        "o\n",
        "≡\n",
        "P\n",
        "/\n",
        "τ\n",
        "c\n",
        "Ro≡P/τ \n",
        "c\n",
        "  links convection timescales \n",
        "τ\n",
        "c\n",
        "τ \n",
        "c\n",
        "  to magnetic activity proxies like Ca II H+K emission.\n",
        "  \"\"\",\n",
        "    \"\"\"\n",
        "Gyrochronological models calibrate stellar ages through the Skumanich-derived \n",
        "Ω\n",
        "˙\n",
        "∝\n",
        "−\n",
        "Ω\n",
        "3\n",
        "Ω\n",
        "˙\n",
        " ∝−Ω \n",
        "3\n",
        "  torque law, where photometric rotation period measurements (e.g., from Kepler light curve periodograms) serve as direct observational inputs for angular momentum evolution tracks.\n",
        "Exposed relationship: \n",
        "Ω\n",
        "(\n",
        "t\n",
        ")\n",
        "=\n",
        "Ω\n",
        "0\n",
        "(\n",
        "1\n",
        "+\n",
        "t\n",
        "/\n",
        "τ\n",
        "Sk\n",
        ")\n",
        "−\n",
        "1\n",
        "/\n",
        "2\n",
        "Ω(t)=Ω \n",
        "0\n",
        " (1+t/τ \n",
        "Sk\n",
        " ) \n",
        "−1/2\n",
        "  with characteristic timescale \n",
        "τ\n",
        "Sk\n",
        "∼\n",
        "10\n",
        "−\n",
        "100\n",
        "τ \n",
        "Sk\n",
        " ∼10−100 Myr for solar-type stars.\"\"\",\n",
        "]"
      ]
    },
    {
      "cell_type": "code",
      "execution_count": 57,
      "metadata": {},
      "outputs": [
        {
          "name": "stdout",
          "output_type": "stream",
          "text": [
            "'Distance 0: 0.07871377468109131'\n",
            "'Distance 1: 0.08848387002944946'\n",
            "'Distance 2: 0.11988002061843872'\n"
          ]
        }
      ],
      "source": [
        "paraphrase_embeddings = bge_embedder(paraphrases)\n",
        "for i in range(len(paraphrases)):\n",
        "    distance = cosine_distance(example_embedding, paraphrase_embeddings[i])\n",
        "    pprint(f\"Distance {i}: {distance}\")"
      ]
    },
    {
      "cell_type": "markdown",
      "metadata": {},
      "source": [
        "We see here that a couple of these paraphrases do very well against the example embedding, beating the 0.99 distance of the top-ranked query result. Does that hold on a full query against the database if `paraphrase_embedding[0]` had been used?"
      ]
    },
    {
      "cell_type": "code",
      "execution_count": 58,
      "metadata": {},
      "outputs": [],
      "source": [
        "paraphrase_query_results = db.query_vector_column(\n",
        "    query_vector=paraphrase_embeddings[0],\n",
        "    target_table=\"lib\",\n",
        "    target_column=\"bge_norm\",\n",
        "    pubdate=example.pubdate,\n",
        "    top_k=10_000,\n",
        "    probes=40,\n",
        "    explain=False,\n",
        ")\n"
      ]
    },
    {
      "cell_type": "code",
      "execution_count": 60,
      "metadata": {},
      "outputs": [
        {
          "data": {
            "text/plain": [
              "943"
            ]
          },
          "execution_count": 60,
          "metadata": {},
          "output_type": "execute_result"
        }
      ],
      "source": [
        "get_index_of_target(paraphrase_query_results, example.citation_dois[0])"
      ]
    },
    {
      "cell_type": "code",
      "execution_count": 62,
      "metadata": {},
      "outputs": [
        {
          "name": "stdout",
          "output_type": "stream",
          "text": [
            "197 2ApJ. . .171. .565S The Astrophysical Journal, 171:565-567, 1972 February 1 © 1972. The University of Chicago All rights reserved. Printed in U S A TIME SCALES FOR Ca n EMISSION DECAY, ROTATIONAL BRAKING, AND LITHIUM DEPLETION A. Skumanich High Altitude Observatory, National Center for Atmospheric Research,* Boulder, Colorado Received 1971 June 21 ABSTRACT A comparison of the Ca+ emission luminosity—after correction for spectral-type effects—for the Pleiades, Ursa Major, and Hyades stars and the Sun indicate an emission decay which varies as the inverse square root of the age. Further, the rotational decay curve is found to satisfy the same law. It is further suggested that lithium depletion follows the+ same law but only as far as the Hyades age, after which the depletion proceeds exponentially. Since Ca emission is linearly proportional to magnetic field strength at the surface, one can predict that the surface fields are proportional to angular velocity and decay as the inverse square root. The above results are predicated on the standard Hyades age (0.4 billion years).\n",
            "\n",
            "The above results are predicated on the standard Hyades age (0.4 billion years). In an effort to put the relation between stellar age and the intensity of emission reversal of the Ca+ K- and H-lines (Wilson 1963; Wilson and Skumanich 1964) on a quantitative basis the author has reduced photoelectric observations of the cores of the K- and H-lines in the field stars (Wilson 1968), the Hyades (Wilson 1970), and the Sun (Wilson 1971) to a common spectral type (specifically, to B — F = 0.60). As Wilson (1970) has shown, K and H emission varies, for a given age group, with spectral type, so any meaningful age relation must be discussed after temperature differences are removed. The details of this procedure will be given elsewhere; our intent here is to compare the resulting (Ca+ emission, age)-relation with that for rotational braking and lithium depletion. In Figure 1 the temperature-corrected Ca“1\" emission luminosity is plotted (after subtraction of the “zero” point flux as given by the lower envelope of Wilson’s flux data) for the Sun and for the Hyades and Ursa Major stars. The latter are to be found among Wilson’s field-star data. The Hyades emission luminosity is taken as unity at all spectral types. Also plotted are the Ca+ emission data for the Pleiades as estimated from Kraft and Greenstein’s (1969) equivalent-width measures of the late-type stars in the Pleiades and Hyades. The indicated errors are based on the spread in data.\n",
            "\n",
            "The indicated errors are based on the spread in data. The figure indicates an inverse square-root law for the decay of Ca+ emission. Also plotted in Figure 1 are average equatorial velocities for the G stars in the Pleiades and Hyades and for the Sun (Kraft 1967 ; cf. Conti 1968 for further references of the data used). It is evident that the rotational data are in a constant proportion, within experimental errors, with the Ca+ emission data; i.e., the rotational decay also follows a square-root relation. The same can be said for the lithium-abundance data (for a review of this data, see van den Heuvel and Conti 1971) except that here the Sun has an overdepletion. It would appear that the lithium depletion follows the rotational and Ca+ emission decay through times of the order of the Hyades age and then proceeds exponentially with a e-folding time of 1.1 X 109 years. Alternately, the lithium abundance in the Sun may be underestimated by a factor of 10. According to Frazier’s data (Frazier 1970), Ca+ emission intensity, in a 1.1 Â band centered on the K-line, varies linearly with surface magnetic field strength. Thus it is appropriate to identify the stellar Ca+ emission luminosity with the (average) surface magnetic field. Figure 1 then implies that the average surface (dynamo) field is pro* The National Center for Atmospheric Research is sponsored by the National Science Foundation.\n",
            "\n",
            "565 © American Astronomical Society • Provided by the NASA Astrophysics Data System 197 2ApJ. . .171. .565S 566 A. SKUMANICH Vol. 171 Fig. 1.—Ca+ emission, rotation, and lithium abundance versus stellar age portional to the rotational velocity and decays as the inverse square root of the time as the star “cooks” on the main sequence. This remarkable result has been shown to be theoretically consistent by Durney (1972) on the basis of a simple model for the stellar wind. The above results are predicted on the basis of the “standard” age for the Hyades, viz., 0.4 X 109 years. If the revision by van den Heuvel (1969) proves to be correct, the derived square-root law will have to be revised. The proportionality between magnetic fields, rotation, and lithium abundance (except for the solar Li abundance) would be unchanged. The shift in the Hyades point due to the suggested age revision is indicated in Figure 1 by the arrows. As van den Heuvel and Conti (1971) show, one can fit the three points (using the revised age) with an exponential with an e-folding decay time of 1.1 X 109 years; however, the rotation curve was better fitted by two exponentials. The suggestion here, particularly when one tries to fit the Ca+ data (the Ursa Major point is important here), is that a power law is even better. The use of the revised Hyades age leads to an inverse cube-root law up to the Hyades. The subsequent decay would be more rapid for all three quantities.\n",
            "\n",
            "Wilson, O. C., and Skumanich, A. 1964, Ap.J., 140, 1401. © American Astronomical Society • Provided by the NASA Astrophysics Data System 197 2ApJ. . .171. .565S © American Astronomical Society Provided by the NASA Astrophysics Data System\n",
            "\n",
            "The subsequent decay would be more rapid for all three quantities. Whether this is allowable theoretically remains to be seen. Measures of the rotation and lithium abundance in the G stars in the Ursa Major group would help to resolve the question of the nature of the decay law. I am indebted to Olin C. Wilson for his continual stimulation and kind sharing of his unique observational data on stellar chromospheres. Special thanks are due Robert P. Kraft for calling my attention to his Pleiades and Hyades data and for helping in the preliminary estimate of the Pleiades/Hyades ratio. My thanks also go to Peter S. Conti for calling my attention to his and other work on the lithium data. © American Astronomical Society • Provided by the NASA Astrophysics Data System 197 2ApJ. . .171. .565S No. 3, 1972 Ca il EMISSION DECAY 567 REFERENCES Conti, P. S. 1968, Ap.J., 152, 657. Durney, B. 1972, Proceedings of the 1971 Asüomar Conference on the Solar Wind (ed. C. P. Sonnet) Frazier, E. N. 1970, Solar Phys., 14, 89. Heuvel, E. P. J., van den. 1969, Pub. A.S.P., 81, 815. Heuvel, E. P. J., van den, and Conti, P. S. 1971, Science, 171, 895. Wilson, O. C. 1963, Ap. /., 138, 832. . 1968, ibid., 153, 221. . 1970, ibid., 160, 225. . 1971 (private communication). Wilson, O. C., and Skumanich, A. 1964, Ap.J., 140, 1401.\n",
            "\n"
          ]
        }
      ],
      "source": [
        "for chunk in target_chunks:\n",
        "    print(chunk)\n",
        "    print()"
      ]
    },
    {
      "cell_type": "code",
      "execution_count": 65,
      "metadata": {},
      "outputs": [],
      "source": [
        "example_embedding = bge_embedder([example.sent_no_cit])[0]"
      ]
    },
    {
      "cell_type": "code",
      "execution_count": 68,
      "metadata": {},
      "outputs": [
        {
          "name": "stdout",
          "output_type": "stream",
          "text": [
            "'Distance 0: 0.10995858907699585'\n",
            "'Distance 1: 0.1576480269432068'\n",
            "'Distance 2: 0.16275274753570557'\n",
            "'Distance 3: 0.18524116277694702'\n",
            "'Distance 4: 0.15468883514404297'\n"
          ]
        }
      ],
      "source": [
        "doc_expansions = [\n",
        "    \"The inverse square-root relationship between rotation rate and stellar age, remains foundational for modeling angular momentum loss via magnetized winds, though age revisions (e.g., van den Heuvel 1969) challenge the universality of this timescale\",\n",
        "    \"Skumanich's correlation between Li abundance decay and rotational braking suggests a shared dependence on magnetic activity, implicating wind-driven spin-down in regulating interior mixing efficiency\",\n",
        "    \"The proportionality between Ca II emission, rotation, and Li abundance (Skumanich 1972) underscores the role of dynamo-generated fields in shaping both surface activity and light-element depletion\",\n",
        "    \"Discrepancies in Hyades' age estimates (van den Heuvel 1969) introduce uncertainties in power-law indices, necessitating multi-cluster analyses to disentangle rotational and chemical evolution\",\n",
        "    \"While Skumanich's inverse power law fits young clusters, deviations in older systems hint at unresolved physics in late-stage angular momentum transport\",\n",
        "]\n",
        "\n",
        "doc_embeddings = bge_embedder(doc_expansions)\n",
        "for i in range(len(doc_expansions)):\n",
        "    distance = cosine_distance(example_embedding, doc_embeddings[i])\n",
        "    pprint(f\"Distance {i}: {distance}\")"
      ]
    },
    {
      "cell_type": "markdown",
      "metadata": {},
      "source": [
        "Not great but much better!\n",
        "\n",
        "### Conclusion: \n",
        "- the embedder will naturally consider chunks that cite the same sources as overly similar. \n",
        "- Paraphrasing the query to surface more background details brought the target doc under rank 1000\n",
        "- Document expansion also improved matters somewhat"
      ]
    },
    {
      "cell_type": "markdown",
      "metadata": {},
      "source": [
        "## Failure 4"
      ]
    },
    {
      "cell_type": "code",
      "execution_count": 69,
      "metadata": {},
      "outputs": [
        {
          "name": "stdout",
          "output_type": "stream",
          "text": [
            "('Original sentence: Significantly, however, a similar step of 20–40 km in '\n",
            " 'lithospheric thickness across the Shield/Platform boundary is reported by '\n",
            " 'Al-Amri et al. (2008) .')\n",
            "('Example: Significantly, however, a similar step of 20–40 km in lithospheric '\n",
            " 'thickness across the Shield/Platform boundary is reported by  .')\n",
            "Target doi: ['10.1016/j.jafrearsci.2008.01.004']\n"
          ]
        }
      ],
      "source": [
        "example = examples.iloc[failed_queries[4]]\n",
        "pprint(f\"Original sentence: {example.sent_original}\")\n",
        "pprint(f\"Example: {example.sent_no_cit}\")\n",
        "print(f\"Target doi: {example.citation_dois}\")"
      ]
    },
    {
      "cell_type": "markdown",
      "metadata": {},
      "source": [
        "This is the wrong doi. The correct doi is \"10.1515/agp-2015-0009\""
      ]
    },
    {
      "cell_type": "code",
      "execution_count": 80,
      "metadata": {},
      "outputs": [
        {
          "name": "stdout",
          "output_type": "stream",
          "text": [
            "Continental lithosphere of the Arabian Plate: A geologic, petrologic, and geophysical synthesis\n",
            "2008E&ES....2a2005S\n",
            "2008GGG.....9.7020P\n",
            "2008GeoJI.172.1179G\n",
            "2008GondR..14....5M\n",
            "2008JAfES..51..189A\n",
            "2008JGRB..11311404G\n",
            "2008JGSoc.165..453J\n"
          ]
        }
      ],
      "source": [
        "original_record = reviews[reviews.doi == example.source_doi].iloc[0]\n",
        "print(original_record.title)\n",
        "for ref in original_record.reference:\n",
        "    if ref[:4] == \"2008\":\n",
        "        print(ref)\n"
      ]
    },
    {
      "cell_type": "markdown",
      "metadata": {},
      "source": [
        "We see there is only one bibcode matching `2008...A`, but this bibcode actually refers to another paper:\n",
        "_Geochemistry and metamorphism of the Pan-African back-arc Malhaq volcano-sedimentary Neoproterozoic association, W. Kid area, SE Sinai, Egypt_\n",
        "Abu El-Enen, Mahrous M.\n",
        "\n",
        "NOT Al-Amri et al (2008).\n",
        "\n",
        "### Conclusion: error in the dataset\n",
        "- delete or fix\n",
        "- add logic that when a bibcode is resolved from an inline citation, we check that the bibcode actually matches the author in the inline citation"
      ]
    },
    {
      "cell_type": "markdown",
      "metadata": {},
      "source": [
        "## Failure 5"
      ]
    },
    {
      "cell_type": "code",
      "execution_count": 81,
      "metadata": {},
      "outputs": [
        {
          "name": "stdout",
          "output_type": "stream",
          "text": [
            "('Original sentence: Cantat-Gaudin(2019) find that all 7 of the groups they '\n",
            " 'identify within the Vela-Puppis region are expanding, Armstrongetal.')\n",
            "('Example: find that all 7 of the groups they identify within the Vela-Puppis '\n",
            " 'region are expanding, Armstrongetal.')\n",
            "Target doi: ['10.1093/mnras/stz2467']\n"
          ]
        }
      ],
      "source": [
        "example = examples.iloc[failed_queries[5]]\n",
        "pprint(f\"Original sentence: {example.sent_original}\")\n",
        "pprint(f\"Example: {example.sent_no_cit}\")\n",
        "print(f\"Target doi: {example.citation_dois}\")"
      ]
    },
    {
      "cell_type": "markdown",
      "metadata": {},
      "source": [
        "Incorrect target doi. The target doi above refers to \"On the survivability of planets in young massive clusters and its implication of planet orbital architectures in globular cluster\", Maxwell Xu Cai, S. Portegies Zwart, M.B.N. Kouwenhoven, Rainer Spurzem.\n",
        "\n",
        "But Cantat-Gaudin 2019 is \"Gaia DR2 unravels incompleteness of nearby cluster population: new open clusters in the direction of Perseus\" \n",
        "\n",
        "### Conclusion: error in the dataset"
      ]
    },
    {
      "cell_type": "markdown",
      "metadata": {},
      "source": [
        "## Failure 6"
      ]
    },
    {
      "cell_type": "code",
      "execution_count": 85,
      "metadata": {},
      "outputs": [
        {
          "name": "stdout",
          "output_type": "stream",
          "text": [
            "('Original sentence: Here we review on preliminary work by Bekki et al. ( 2019 '\n",
            " '), who simulated fully-compressible convection inside a rotating spherical '\n",
            " 'shell extending from to .')\n",
            "('Example: Here we review on preliminary work by , who simulated '\n",
            " 'fully-compressible convection inside a rotating spherical shell extending '\n",
            " 'from to .')\n",
            "Target doi: ['10.1103/PhysRevFluids.4.013803']\n"
          ]
        }
      ],
      "source": [
        "example = examples.iloc[failed_queries[6]]\n",
        "pprint(f\"Original sentence: {example.sent_original}\")\n",
        "pprint(f\"Example: {example.sent_no_cit}\")\n",
        "print(f\"Target doi: {example.citation_dois}\")"
      ]
    },
    {
      "cell_type": "markdown",
      "metadata": {},
      "source": [
        "Incorrect target doi: The target above refers to 'Linear and nonlinear stability of a quasi-geostrophic mixing layer subject to a uniform background shear' by Biancofiore and Umurhan. \n",
        "\n",
        "Bekki has two papers published in 2019 both of which they are the sole author. Nevertheless the dataset prep should have looked for Bekki 2019 papers. It resolved the wrong paper due to incorrect bibcode in the references:"
      ]
    },
    {
      "cell_type": "code",
      "execution_count": 86,
      "metadata": {},
      "outputs": [
        {
          "name": "stdout",
          "output_type": "stream",
          "text": [
            "Rossby Waves in Astrophysics\n",
            "2019A&A...621A.136M\n",
            "2019A&A...622A.124A\n",
            "2019A&A...623A..50L\n",
            "2019A&A...626A...3L\n",
            "2019A&A...626A..38L\n",
            "2019ApJ...871L..32H\n",
            "2019ApJ...874..162G\n",
            "2019ApJ...884L...5S\n",
            "2019ApJ...887....1R\n",
            "2019JPO....49..291E\n",
            "2019LRSP...16....2M\n",
            "2019MNRAS.487..782L\n",
            "2019MNRAS.488..645P\n",
            "2019PASP..131g2001L\n",
            "2019PhRvE.100d3105H\n",
            "2019PhRvF...4a3803B\n",
            "2019SoPh..294...88M\n"
          ]
        }
      ],
      "source": [
        "original_record = reviews[reviews.doi == example.source_doi].iloc[0]\n",
        "print(original_record.title)\n",
        "for ref in original_record.reference:\n",
        "    if ref[:4] == \"2019\":\n",
        "        print(ref)"
      ]
    },
    {
      "cell_type": "markdown",
      "metadata": {},
      "source": [
        "Were any of the query results from a Bekki 2019 paper?"
      ]
    },
    {
      "cell_type": "code",
      "execution_count": 90,
      "metadata": {},
      "outputs": [],
      "source": [
        "example_query_results = bge_query_results[failed_queries[6]]\n",
        "bekki_dois = [\"10.1051/0004-6361/201629898\", \"10.1093/mnras/stz999\"]\n",
        "for i in range(len(example_query_results)):\n",
        "    query_result = example_query_results[i]\n",
        "    if query_result.doi in bekki_dois:\n",
        "        print(f\"Distance: {query_result.distance}\")\n",
        "        print(f\"Chunk: {query_result.chunk}\")\n",
        "        print(f\"Rank: {i}\")\n",
        "        print()"
      ]
    },
    {
      "cell_type": "markdown",
      "metadata": {},
      "source": [
        "Are any Bekki 2019 papers in the dataset?"
      ]
    },
    {
      "cell_type": "code",
      "execution_count": 91,
      "metadata": {},
      "outputs": [
        {
          "name": "stdout",
          "output_type": "stream",
          "text": [
            "Empty DataFrame\n",
            "Columns: [bibcode, abstract, aff, author, bibstem, doctype, doi, id, pubdate, title, read_count, reference, data, citation_count, citation, body, dois, keywords, loaded_from, body_sentences]\n",
            "Index: []\n"
          ]
        }
      ],
      "source": [
        "bekki_research = research[research.doi.isin(bekki_dois)]\n",
        "print(bekki_research)"
      ]
    },
    {
      "cell_type": "markdown",
      "metadata": {},
      "source": [
        "### Conclusion: error in the dataset\n",
        "- correct the bibcode reference or delete\n",
        "- the Bekki research cited inline wasn't in the research data to begin with\n",
        "\n",
        "\n",
        "## Failure 7"
      ]
    },
    {
      "cell_type": "code",
      "execution_count": 94,
      "metadata": {},
      "outputs": [
        {
          "name": "stdout",
          "output_type": "stream",
          "text": [
            "('Original sentence: It also hosts a Compton-thick AGN in the Western '\n",
            " 'component, observed directly in hard X-rays (Della Ceca et al. 2002 ; Ballo '\n",
            " 'et al. 2004 ).')\n",
            "('Example: It also hosts a Compton-thick AGN in the Western component, '\n",
            " 'observed directly in hard X-rays (Della ; .')\n",
            "Target doi: ['10.1086/339896', '10.1086/379887']\n"
          ]
        }
      ],
      "source": [
        "example = examples.iloc[failed_queries[7]]\n",
        "pprint(f\"Original sentence: {example.sent_original}\")\n",
        "pprint(f\"Example: {example.sent_no_cit}\")\n",
        "print(f\"Target doi: {example.citation_dois}\")"
      ]
    },
    {
      "cell_type": "markdown",
      "metadata": {},
      "source": [
        "### Conclusion: incorrect target doi from failing to extract first author\n",
        "\n",
        "## Failure 8"
      ]
    },
    {
      "cell_type": "code",
      "execution_count": 95,
      "metadata": {},
      "outputs": [
        {
          "name": "stdout",
          "output_type": "stream",
          "text": [
            "('Original sentence: Evidence for very great youth comes from the study of BM '\n",
            " 'Ori (θ 1 Ori B) by Palla Stahler (2001) , who find that star to have an age '\n",
            " 'of 100,000 years.')\n",
            "('Example: Evidence for very great youth comes from the study of BM Ori (θ 1 '\n",
            " 'Ori B) by Palla  , who find that star to have an age of 100,000 years.')\n",
            "Target doi: ['10.1086/319078']\n"
          ]
        }
      ],
      "source": [
        "example = examples.iloc[failed_queries[8]]\n",
        "pprint(f\"Original sentence: {example.sent_original}\")\n",
        "pprint(f\"Example: {example.sent_no_cit}\")\n",
        "print(f\"Target doi: {example.citation_dois}\")"
      ]
    },
    {
      "cell_type": "markdown",
      "metadata": {},
      "source": [
        "### Conclusion: incorrect target doi from failing to extract first author\n",
        "\n",
        "## Failure 9 \n"
      ]
    },
    {
      "cell_type": "code",
      "execution_count": 96,
      "metadata": {},
      "outputs": [
        {
          "name": "stdout",
          "output_type": "stream",
          "text": [
            "('Original sentence: The second brightest SCUBA source, falling just outside '\n",
            " 'the primary WFPC2 field, has no obvious counterpart in the flanking field '\n",
            " 'WFPC2 images, nor in the NICMOS data of Dickinson et al (2000b) .')\n",
            "('Example: The second brightest SCUBA source, falling just outside the primary '\n",
            " 'WFPC2 field, has no obvious counterpart in the flanking field WFPC2 images, '\n",
            " 'nor in the NICMOS data of  .')\n",
            "Target doi: ['10.1086/308508']\n"
          ]
        }
      ],
      "source": [
        "example = examples.iloc[failed_queries[9]]\n",
        "pprint(f\"Original sentence: {example.sent_original}\")\n",
        "pprint(f\"Example: {example.sent_no_cit}\")\n",
        "print(f\"Target doi: {example.citation_dois}\")"
      ]
    },
    {
      "cell_type": "code",
      "execution_count": 97,
      "metadata": {},
      "outputs": [
        {
          "data": {
            "text/html": [
              "<div>\n",
              "<style scoped>\n",
              "    .dataframe tbody tr th:only-of-type {\n",
              "        vertical-align: middle;\n",
              "    }\n",
              "\n",
              "    .dataframe tbody tr th {\n",
              "        vertical-align: top;\n",
              "    }\n",
              "\n",
              "    .dataframe thead th {\n",
              "        text-align: right;\n",
              "    }\n",
              "</style>\n",
              "<table border=\"1\" class=\"dataframe\">\n",
              "  <thead>\n",
              "    <tr style=\"text-align: right;\">\n",
              "      <th></th>\n",
              "      <th>bibcode</th>\n",
              "      <th>abstract</th>\n",
              "      <th>aff</th>\n",
              "      <th>author</th>\n",
              "      <th>bibstem</th>\n",
              "      <th>doctype</th>\n",
              "      <th>doi</th>\n",
              "      <th>id</th>\n",
              "      <th>pubdate</th>\n",
              "      <th>title</th>\n",
              "      <th>read_count</th>\n",
              "      <th>reference</th>\n",
              "      <th>data</th>\n",
              "      <th>citation_count</th>\n",
              "      <th>citation</th>\n",
              "      <th>body</th>\n",
              "      <th>dois</th>\n",
              "      <th>keywords</th>\n",
              "      <th>loaded_from</th>\n",
              "      <th>body_sentences</th>\n",
              "    </tr>\n",
              "  </thead>\n",
              "  <tbody>\n",
              "    <tr>\n",
              "      <th>42955</th>\n",
              "      <td>2000ApJ...531..624D</td>\n",
              "      <td>We describe an object in the Hubble Deep Field...</td>\n",
              "      <td>[Visiting Astronomer, Kitt Peak National Obser...</td>\n",
              "      <td>[Dickinson, Mark, Hanley, Christopher, Elston,...</td>\n",
              "      <td>[ApJ, ApJ...531]</td>\n",
              "      <td>article</td>\n",
              "      <td>10.1086/308508</td>\n",
              "      <td>11681082</td>\n",
              "      <td>2000-03-01</td>\n",
              "      <td>The Unusual Infrared Object HDF-N J123656.3+62...</td>\n",
              "      <td>20</td>\n",
              "      <td>[1969ApJ...158L.133B, 1977ApJ...212..438M, 198...</td>\n",
              "      <td>[ESA:1, NED:4, SIMBAD:15, hst:1]</td>\n",
              "      <td>103</td>\n",
              "      <td>[1999ASPC..193..448B, 2000AJ....120.2735W, 200...</td>\n",
              "      <td>1. INTRODUCTION In recent years, astronomers h...</td>\n",
              "      <td>[10.1086/308508, 10.48550/arXiv.astro-ph/9908083]</td>\n",
              "      <td>[COSMOLOGY: EARLY UNIVERSE, GALAXIES: EVOLUTIO...</td>\n",
              "      <td>data/json/salvaged_articles.json</td>\n",
              "      <td>[1. INTRODUCTION In recent years, astronomers ...</td>\n",
              "    </tr>\n",
              "  </tbody>\n",
              "</table>\n",
              "</div>"
            ],
            "text/plain": [
              "                   bibcode                                           abstract  \\\n",
              "42955  2000ApJ...531..624D  We describe an object in the Hubble Deep Field...   \n",
              "\n",
              "                                                     aff  \\\n",
              "42955  [Visiting Astronomer, Kitt Peak National Obser...   \n",
              "\n",
              "                                                  author           bibstem  \\\n",
              "42955  [Dickinson, Mark, Hanley, Christopher, Elston,...  [ApJ, ApJ...531]   \n",
              "\n",
              "       doctype             doi        id     pubdate  \\\n",
              "42955  article  10.1086/308508  11681082  2000-03-01   \n",
              "\n",
              "                                                   title  read_count  \\\n",
              "42955  The Unusual Infrared Object HDF-N J123656.3+62...          20   \n",
              "\n",
              "                                               reference  \\\n",
              "42955  [1969ApJ...158L.133B, 1977ApJ...212..438M, 198...   \n",
              "\n",
              "                                   data  citation_count  \\\n",
              "42955  [ESA:1, NED:4, SIMBAD:15, hst:1]             103   \n",
              "\n",
              "                                                citation  \\\n",
              "42955  [1999ASPC..193..448B, 2000AJ....120.2735W, 200...   \n",
              "\n",
              "                                                    body  \\\n",
              "42955  1. INTRODUCTION In recent years, astronomers h...   \n",
              "\n",
              "                                                    dois  \\\n",
              "42955  [10.1086/308508, 10.48550/arXiv.astro-ph/9908083]   \n",
              "\n",
              "                                                keywords  \\\n",
              "42955  [COSMOLOGY: EARLY UNIVERSE, GALAXIES: EVOLUTIO...   \n",
              "\n",
              "                            loaded_from  \\\n",
              "42955  data/json/salvaged_articles.json   \n",
              "\n",
              "                                          body_sentences  \n",
              "42955  [1. INTRODUCTION In recent years, astronomers ...  "
            ]
          },
          "execution_count": 97,
          "metadata": {},
          "output_type": "execute_result"
        }
      ],
      "source": [
        "research[research.doi == example.citation_dois[0]]"
      ]
    },
    {
      "cell_type": "markdown",
      "metadata": {},
      "source": [
        "The research was in the dataset. The original sentence refers to images taken by a camera system (SCUBA) and ongoing research into some of its data. This includes Dickinson et all (2000b) which describes a specific object in the HDF found in a different dataset (NICMOS) and hypothesizes about its nature.\n",
        "\n",
        "Let's see how the abstract or other chunks compare to the query embedding:"
      ]
    },
    {
      "cell_type": "code",
      "execution_count": 104,
      "metadata": {},
      "outputs": [
        {
          "name": "stdout",
          "output_type": "stream",
          "text": [
            "Number of chunks: 34\n",
            "Target abstract: We describe an object in the Hubble Deep Field North with very unusual near-infrared properties. It is readily visible in Hubble Space Telescope NICMOS images at 1.6 μm and from the ground at 2.2 μm, but it is undetected (with S/N&lt;~2) in very deep WFPC2 and NICMOS data from 0.3 to 1.1 μm. The f<SUB>ν</SUB> flux density drops by a factor &gt;~8.3 (97.7% confidence) from 1.6 to 1.1 μm. The object is compact but may be slightly resolved in the NICMOS 1.6 μm image. In a low-resolution, near-infrared spectrogram, we find a possible emission line at 1.643 μm, but a reobservation at higher spectral resolution failed to confirm the line, leaving its reality in doubt. We consider various hypotheses for the nature of this object. Its colors are unlike those of known Galactic stars, except perhaps the most extreme carbon stars or Mira variables with thick circumstellar dust shells. It does not appear to be possible to explain its spectral energy distribution as that of a normal galaxy at any redshift without additional opacity from either dust or intergalactic neutral hydrogen. The colors can be matched by those of a dusty galaxy at z&gt;~2, by a maximally old elliptical galaxy at z&gt;~3 (perhaps with some additional reddening), or by an object at z&gt;~10 whose optical and 1.1 μm light have been suppressed by the intergalactic medium. Under the latter hypothesis, if the luminosity results from stars and not an AGN, the object would resemble a classical, unobscured protogalaxy, with a star formation rate &gt;~100 M<SUB>solar</SUB> yr<SUP>-1</SUP>. Such UV-bright objects are evidently rare at 2&lt;z&lt;12.5, however, with a space density several hundred times lower than that of present-day L<SUP>*</SUP> galaxies. Based on observations with the NASA/ESA Hubble Space Telescope, obtained at the Space Telescope Science Institute, which is operated by the Association of Universities for Research in Astronomy, Inc. (AURA), under NASA contract NAS5-26555.\n"
          ]
        }
      ],
      "source": [
        "targets = [(chunk[0], chunk[1]) for chunk in db.query(f\"SELECT chunk, abstract FROM lib WHERE doi = '{example.citation_dois[0]}'\")]\n",
        "print(f\"Number of chunks: {len(targets)}\")\n",
        "target_chunks = [chunk[0] for chunk in targets]\n",
        "target_abstract = targets[0][1]\n",
        "print(f\"Target abstract: {target_abstract}\")"
      ]
    },
    {
      "cell_type": "markdown",
      "metadata": {},
      "source": [
        "Let's see how the embedding of the abstract alone would do against this query"
      ]
    },
    {
      "cell_type": "code",
      "execution_count": null,
      "metadata": {},
      "outputs": [
        {
          "name": "stdout",
          "output_type": "stream",
          "text": [
            "0.209521\n"
          ]
        }
      ],
      "source": [
        "# Compare abstract embedding to query embedding\n",
        "abstract_embedding = bge_embedder([target_abstract])[0]\n",
        "example_embedding = bge_embedder([example.sent_no_cit])[0]\n",
        "print(cosine_distance(abstract_embedding, example_embedding))"
      ]
    },
    {
      "cell_type": "code",
      "execution_count": 106,
      "metadata": {},
      "outputs": [
        {
          "name": "stdout",
          "output_type": "stream",
          "text": [
            "(0) Distance: 0.21469300985336304\n",
            "Its formal significance depends on how one treats the non‐Gaussian tail of positive pixel values due\n",
            "\n",
            "(1) Distance: 0.21431702375411987\n",
            "(1999) ISO source list, as well as a possible 3 σ detection in the 1.3 mm IRAM map of Downes et al. \n",
            "\n",
            "(2) Distance: 0.2400287389755249\n",
            "The target was periodically reacquired and placed at new positions along the slit. Seeing throughout\n",
            "\n",
            "(3) Distance: 0.2389879822731018\n",
            "Spectra were extracted through a 3 pixel (105) wide window at the nominal position of the object rel\n",
            "\n",
            "(4) Distance: 0.23204004764556885\n",
            "We may therefore make a direct comparison to the observed luminosity function ( Dickinson 1998 ; Ste\n",
            "\n",
            "(5) Distance: 0.2336444854736328\n",
            "If HDFN‐JD1 were a galaxy forming stars at with a Salpeter IMF and without dust, its UV luminosity w\n",
            "\n",
            "(6) Distance: 0.24145996570587158\n",
            "If rapid, monolithic galaxy formation took place anywhere in that redshift range, then either it was\n",
            "\n",
            "(7) Distance: 0.21190601587295532\n",
            "The NICMOS images have a point‐spread function (PSF) with , primarily limited by the pixel scale (02\n",
            "\n",
            "(8) Distance: 0.2103273868560791\n",
            "HDFN‐JD1 is identified by tick marks in the and panels and is located at J2000 coordinates , . The N\n",
            "\n",
            "(9) Distance: 0.20270270109176636\n",
            "We know of no NICMOS anomaly or optics ghost that could produce an artifact resembling what we obser\n",
            "\n",
            "(10) Distance: 0.22372961044311523\n",
            "Lauer 1999 ). Therefore, while our measurements suggest that the object is spatially extended, we ca\n",
            "\n",
            "(11) Distance: 0.21046602725982666\n",
            "In the latter case, we are forced back to our previous speculations. 11 The radio source counterpart\n",
            "\n",
            "(12) Distance: 0.25957947969436646\n",
            "1. INTRODUCTION In recent years, astronomers have extensively developed the art of selecting interes\n",
            "\n",
            "(13) Distance: 0.21148943901062012\n",
            "HDFN‐JD1 is readily visible as a compact source in the NIRC image ( Fig. 1 ). We summarize photometr\n",
            "\n",
            "(14) Distance: 0.24365556240081787\n",
            "The low‐resolution grating 4 spectrogram ( top ) shows a possible emission line at μm, but this is n\n",
            "\n",
            "(15) Distance: 0.23385632038116455\n",
            "Each extraction was subtracted to zero mean and was then convolved by a Gaussian with the instrument\n",
            "\n",
            "(16) Distance: 0.25656557083129883\n",
            "The reddest L dwarf stars reach J −, but the known “methane dwarfs” have J −−. Atmosphere models ( B\n",
            "\n",
            "(17) Distance: 0.23306769132614136\n",
            "The dotted lines mark the colors of a flat spectrum (i.e., zero AB colors). The stellar data are tak\n",
            "\n",
            "(18) Distance: 0.21134674549102783\n",
            "This is the only object in the NICMOS HDF‐N at that is undetected (with ) in any of the optical WFPC\n",
            "\n",
            "(19) Distance: 0.224223792552948\n",
            "Considering pairs of adjacent HDF bandpasses through , we find a few other galaxies with comparably \n",
            "\n",
            "(20) Distance: 0.2033907175064087\n",
            "HR 10 is compact in Keck K ‐band images but diffuse ( in size) and bimodal in WFPC2 images that samp\n",
            "\n",
            "(21) Distance: 0.2315550446510315\n",
            "Fig. 6. — Spectral energy distribution (SED) of HDFN‐JD1. Open squares mark measurements with . Erro\n",
            "\n",
            "(22) Distance: 0.24202239513397217\n",
            "The resulting k –correction could make old, high‐redshift ellipticals nearly invisible in the optica\n",
            "\n",
            "(23) Distance: 0.2290440797805786\n",
            "If the luminosity results from star formation, then HDFN‐JD1 would resemble the classical picture of\n",
            "\n",
            "(24) Distance: 0.20519781112670898\n",
            "Occasionally, QSO sightlines at lower redshifts are free of optically thick H i absorption (e.g., Re\n",
            "\n",
            "(25) Distance: 0.21131616830825806\n",
            "SIRTF IRAC photometry from 3.6 to 8 μm may prove useful, although disentangling reddening and age fr\n",
            "\n",
            "(26) Distance: 0.22744965553283691\n",
            "The 1 σ and 2 σ color limits for J 110 − H 160 are greater than 2.8 and greater than 2.3, respective\n",
            "\n",
            "(27) Distance: 0.23257660865783691\n",
            "We used SExtractor to generate masks that exclude all readily detectable sources in each image, incl\n",
            "\n",
            "(28) Distance: 0.25494521856307983\n",
            "At these large redshifts, the IGM transmission is effectively a step function at Lyα. Redshifts were\n",
            "\n",
            "(29) Distance: 0.2139575481414795\n",
            "Indeed, some of the most distant galaxies now known have been found in this way (e.g., HDF 4‐473, We\n",
            "\n",
            "(30) Distance: 0.20144468545913696\n",
            "5 We will occasionally use catalog numbers from Williams et al. (1996) to identify HDF galaxies in t\n",
            "\n",
            "(31) Distance: 0.2344212532043457\n",
            "Examining 10 well‐exposed, spectroscopically confirmed stars in our images, we measure the PSF FWHM \n",
            "\n",
            "(32) Distance: 0.2419518232345581\n",
            "Red, early‐type galaxies have been identified spectroscopically out to (e.g., Dunlop et al. 1996 ; S\n",
            "\n",
            "(33) Distance: 0.23422837257385254\n",
            "For a dusty galaxy or AGN, it might be [O iii ] λ5007 at . Hα at is also possible, but it is much ea\n",
            "\n"
          ]
        }
      ],
      "source": [
        "# Compare other chunks to query embedding\n",
        "chunk_embeddings = bge_embedder(target_chunks)\n",
        "for i in range(len(target_chunks)):\n",
        "    chunk = target_chunks[i]\n",
        "    chunk_embedding = chunk_embeddings[i]\n",
        "    distance = cosine_distance(example_embedding, chunk_embedding)\n",
        "    print(f\"({i}) Distance: {distance}\")\n",
        "    print(chunk[:100])\n",
        "    print()"
      ]
    },
    {
      "cell_type": "markdown",
      "metadata": {},
      "source": [
        "Not clear how this could be improved\n",
        "\n",
        "### Conclusion: requires further research\n",
        "\n",
        "## Failure 10"
      ]
    },
    {
      "cell_type": "code",
      "execution_count": 108,
      "metadata": {},
      "outputs": [
        {
          "name": "stdout",
          "output_type": "stream",
          "text": [
            "('Original sentence: Models have been suggested for intermittent pulsars and '\n",
            " 'RRATs (e.g., Luo Melrose 2007 ) that might be relevant to FRBs but the '\n",
            " 'vastly different energetics may make these models less relevant.')\n",
            "('Example: Models have been suggested for intermittent pulsars and RRATs '\n",
            " '(e.g., Luo  that might be relevant to FRBs but the vastly different '\n",
            " 'energetics may make these models less relevant.')\n",
            "Target doi: ['10.1086/510850']\n"
          ]
        }
      ],
      "source": [
        "example = examples.iloc[failed_queries[10]]\n",
        "pprint(f\"Original sentence: {example.sent_original}\")\n",
        "pprint(f\"Example: {example.sent_no_cit}\")\n",
        "print(f\"Target doi: {example.citation_dois}\")"
      ]
    },
    {
      "cell_type": "markdown",
      "metadata": {},
      "source": [
        "### Conclusion: incorrect target doi from failure to extract first author\n",
        "\n",
        "## Failure 11"
      ]
    },
    {
      "cell_type": "code",
      "execution_count": 109,
      "metadata": {},
      "outputs": [
        {
          "name": "stdout",
          "output_type": "stream",
          "text": [
            "('Original sentence: However, the lack of high cadence data that could catch '\n",
            " 'the brightenings/dimmings associated with early reconnection implied that '\n",
            " 'they could not rule out the tether-cutting scenario (see also Sterling and '\n",
            " 'Moore, 2004 ).')\n",
            "('Example: However, the lack of high cadence data that could catch the '\n",
            " 'brightenings/dimmings associated with early reconnection implied that they '\n",
            " 'could not rule out the tether-cutting scenario (see also Sterling and .')\n",
            "Target doi: ['10.1086/381085']\n"
          ]
        }
      ],
      "source": [
        "example = examples.iloc[failed_queries[11]]\n",
        "pprint(f\"Original sentence: {example.sent_original}\")\n",
        "pprint(f\"Example: {example.sent_no_cit}\")\n",
        "print(f\"Target doi: {example.citation_dois}\")"
      ]
    },
    {
      "cell_type": "markdown",
      "metadata": {},
      "source": [
        "### Conclusion: incorrect target doi from failure to extract first author\n",
        "\n",
        "## Failure 12"
      ]
    },
    {
      "cell_type": "code",
      "execution_count": 111,
      "metadata": {},
      "outputs": [
        {
          "name": "stdout",
          "output_type": "stream",
          "text": [
            "('Original sentence: 3. GLOBAL ASTROMETRY WITH THE HIPPARCOS–<italic '\n",
            " 'toggle=\"yes\">Gaia</italic> CONCEPT The concept for performing global '\n",
            " 'astrometry with Gaia follows the same principles that were used for the '\n",
            " 'Hipparcos mission ( Lindegren 2005 ; see the sidebar titled Gaia in Brief):')\n",
            "('Example: 3. GLOBAL ASTROMETRY WITH THE HIPPARCOS–<italic '\n",
            " 'toggle=\"yes\">Gaia</italic> CONCEPT The concept for performing global '\n",
            " 'astrometry with Gaia follows the same principles that were used for the '\n",
            " 'Hipparcos mission ( ; see the sidebar titled Gaia in Brief):')\n",
            "Target doi: ['10.1051/0004-6361:20042241']\n"
          ]
        }
      ],
      "source": [
        "example = examples.iloc[failed_queries[12]]\n",
        "pprint(f\"Original sentence: {example.sent_original}\")\n",
        "pprint(f\"Example: {example.sent_no_cit}\")\n",
        "print(f\"Target doi: {example.citation_dois}\")"
      ]
    },
    {
      "cell_type": "markdown",
      "metadata": {},
      "source": [
        "The is the incorrect target doi. The inline citation refers to Lindegren 2005, which is presumably meant to be bibcode `2005ASPC..338...25L` \"Performance of the Gaia Mission\". The doi resolved refers to a Lamers paper"
      ]
    },
    {
      "cell_type": "code",
      "execution_count": 112,
      "metadata": {},
      "outputs": [
        {
          "name": "stdout",
          "output_type": "stream",
          "text": [
            "2005A&A...438..745B\n",
            "2005A&A...441..117L\n"
          ]
        }
      ],
      "source": [
        "example_record = reviews[reviews.doi == example.source_doi].iloc[0]\n",
        "for ref in example_record.reference:\n",
        "    if ref[:4] == \"2005\":\n",
        "        print(ref)"
      ]
    },
    {
      "cell_type": "markdown",
      "metadata": {},
      "source": [
        "### Conclusion: error in dataset\n",
        "\n",
        "## Failure 13"
      ]
    },
    {
      "cell_type": "code",
      "execution_count": 113,
      "metadata": {},
      "outputs": [
        {
          "name": "stdout",
          "output_type": "stream",
          "text": [
            "('Original sentence: The corresponding for an isothermal turbulent field, '\n",
            " 'however, does not have a unique functional form (Vázquez-Semadeni and García '\n",
            " '2001 ).')\n",
            "('Example: The corresponding for an isothermal turbulent field, however, does '\n",
            " 'not have a unique functional form (Vázquez-Semadeni and .')\n",
            "Target doi: ['10.1086/322873']\n"
          ]
        }
      ],
      "source": [
        "example = examples.iloc[failed_queries[13]]\n",
        "pprint(f\"Original sentence: {example.sent_original}\")\n",
        "pprint(f\"Example: {example.sent_no_cit}\")\n",
        "print(f\"Target doi: {example.citation_dois}\")"
      ]
    },
    {
      "cell_type": "markdown",
      "metadata": {},
      "source": [
        "\n",
        "### Conclusion: incorrect first author extraction\n",
        "\n",
        "## Failure 14"
      ]
    },
    {
      "cell_type": "code",
      "execution_count": 114,
      "metadata": {},
      "outputs": [
        {
          "name": "stdout",
          "output_type": "stream",
          "text": [
            "('Original sentence: This is somewhat above the 95% confidence level upper '\n",
            " 'limit at 1.25 μm of Wright (2001b) .')\n",
            "('Example: This is somewhat above the 95% confidence level upper limit at 1.25 '\n",
            " 'μm of  .')\n",
            "Target doi: ['10.1086/320942']\n"
          ]
        }
      ],
      "source": [
        "example = examples.iloc[failed_queries[14]]\n",
        "pprint(f\"Original sentence: {example.sent_original}\")\n",
        "pprint(f\"Example: {example.sent_no_cit}\")\n",
        "print(f\"Target doi: {example.citation_dois}\")"
      ]
    },
    {
      "cell_type": "markdown",
      "metadata": {},
      "source": [
        "This example clearly seems to lack sufficient context."
      ]
    },
    {
      "cell_type": "code",
      "execution_count": 118,
      "metadata": {},
      "outputs": [
        {
          "name": "stdout",
          "output_type": "stream",
          "text": [
            "Original sentence index: 294\n",
            "('Contextualized example: After subtraction of the IPD contribution, the '\n",
            " 'residuals showed some remaining variation with ecliptic latitude, which they '\n",
            " 'interpreted as evidence for a fairly isotropic background. To obtain a '\n",
            " 'quantitative value for the background at each wavelength, they correlated '\n",
            " 'their star-subtracted brightness at each point with the IPD model brightness '\n",
            " 'and used the extrapolation to zero IPD contribution as a measurement of the '\n",
            " 'CIB. The CIB intensities reported by Matsumoto et al. near 2.2 and 3.5 μm '\n",
            " 'are similar to the values found by Gorjian et al. (2000) ( Figure 3 ). At '\n",
            " 'shorter wavelengths, the Matsumoto et al. (2000) results continue to rise '\n",
            " 'steeply to ∼65 nW m −2 sr −1 at 1.4 μm. This is somewhat above the 95% '\n",
            " 'confidence level upper limit at 1.25 μm of Wright (2001b) .')\n"
          ]
        }
      ],
      "source": [
        "print(f\"Original sentence index: {example.sent_idx}\")\n",
        "example_record = reviews[reviews.doi == example.source_doi].iloc[0]\n",
        "contextualized_example = \" \".join(example_record.body_sentences[example.sent_idx - 4: example.sent_idx + 1])\n",
        "pprint(f\"Contextualized example: {contextualized_example}\")"
      ]
    },
    {
      "cell_type": "code",
      "execution_count": 119,
      "metadata": {},
      "outputs": [
        {
          "name": "stdout",
          "output_type": "stream",
          "text": [
            "Contextualized target rank: -1\n"
          ]
        }
      ],
      "source": [
        "contextualized_query_vector = bge_embedder([contextualized_example])[0]\n",
        "contextualized_query_results = db.query_vector_column(\n",
        "    query_vector=contextualized_query_vector,\n",
        "    target_table=\"lib\",\n",
        "    target_column=\"bge_norm\",\n",
        "    pubdate=example.pubdate,\n",
        "    top_k=10_000,\n",
        "    probes=40,\n",
        "    explain=False,\n",
        ")\n",
        "contextualized_target_rank = get_index_of_target(contextualized_query_results, example.citation_dois[0])\n",
        "print(f\"Contextualized target rank: {contextualized_target_rank}\")"
      ]
    },
    {
      "cell_type": "markdown",
      "metadata": {},
      "source": [
        "### Conclusion: it is difficult to predict the citation semantically when the sentence directly refers to the research by name. Perhaps we should include an author filter to handle this as a separate use case?\n",
        "\n",
        "## Failure 15"
      ]
    },
    {
      "cell_type": "code",
      "execution_count": 120,
      "metadata": {},
      "outputs": [
        {
          "name": "stdout",
          "output_type": "stream",
          "text": [
            "('Original sentence: In regard to the high multiple of 45 suggested by Usoskin '\n",
            " 'et al. ( 2013 ) for the spectrum of the 1956 GLE to account for the 774 SEP '\n",
            " 'event, this factor was later found to be an underestimate (see Sect. 7.4.2 '\n",
            " ').')\n",
            "('Example: In regard to the high multiple of 45 suggested by  for the spectrum '\n",
            " 'of the 1956 GLE to account for the 774 SEP event, this factor was later '\n",
            " 'found to be an underestimate (see Sect. 7.4.2 ).')\n",
            "Target doi: ['10.1051/0004-6361/201321080']\n"
          ]
        }
      ],
      "source": [
        "example = examples.iloc[failed_queries[15]]\n",
        "pprint(f\"Original sentence: {example.sent_original}\")\n",
        "pprint(f\"Example: {example.sent_no_cit}\")\n",
        "print(f\"Target doi: {example.citation_dois}\")"
      ]
    },
    {
      "cell_type": "markdown",
      "metadata": {},
      "source": [
        "This is the correct doi. Let's see what it thought was closer"
      ]
    },
    {
      "cell_type": "code",
      "execution_count": 122,
      "metadata": {},
      "outputs": [
        {
          "name": "stdout",
          "output_type": "stream",
          "text": [
            "Rank: 0\n",
            "Distance: 0.17195202551983668\n",
            "('Chunk: 2003 ). If the temperature is significantly higher than indicated by '\n",
            " 'the assumed equation of state in the simulation, then the results for '\n",
            " 'fragmentation in the region whose temperature has been underestimated must '\n",
            " 'be regarded with suspicion.')\n",
            "\n",
            "Rank: 1\n",
            "Distance: 0.17688580475876237\n",
            "('Chunk: For the same case, the excess energies varied by about + 50 °/~ and '\n",
            " '-1O°/~.')\n",
            "\n",
            "Rank: 2\n",
            "Distance: 0.1797103316023273\n",
            "('Chunk: This might be due to either an underestimate of the Mg abundance in '\n",
            " 'the stellar wind, or an underestimate of the ISM pressure surrounding the '\n",
            " 'star.')\n",
            "\n"
          ]
        }
      ],
      "source": [
        "example_query_results = bge_query_results[failed_queries[15]]\n",
        "for i in range(3):\n",
        "    query_result = example_query_results[i]\n",
        "    print(f\"Rank: {i}\")\n",
        "    print(f\"Distance: {query_result.distance}\")\n",
        "    pprint(f\"Chunk: {query_result.chunk}\")\n",
        "    print()"
      ]
    },
    {
      "cell_type": "markdown",
      "metadata": {},
      "source": [
        "None of these are particularly close. The passage discusses\n",
        "- a data point for the 1956 GLE event\n",
        "- its relation to the 774-775 SEP event\n",
        "\n",
        "Is it possible the embedder isn't giving proper weight to the GLE and SEP events since they are acronyms?\n",
        "\n",
        "Let's see how astrobert does, and let's also try unpacking the acronyms"
      ]
    },
    {
      "cell_type": "code",
      "execution_count": 123,
      "metadata": {},
      "outputs": [
        {
          "name": "stdout",
          "output_type": "stream",
          "text": [
            "AstroBERT target rank: 2952\n"
          ]
        }
      ],
      "source": [
        "astrobert_embedder = get_embedder(\"adsabs/astroBERT\", device=device, normalize=False)\n",
        "query_vector_astrobert = astrobert_embedder([example.sent_no_cit])[0]\n",
        "query_results_astrobert = db.query_vector_column(\n",
        "    query_vector=query_vector_astrobert,\n",
        "    target_table=\"lib\",\n",
        "    target_column=\"astrobert\",\n",
        "    pubdate=example.pubdate,\n",
        "    top_k=10_000,\n",
        "    probes=40,\n",
        "    explain=False,\n",
        ")\n",
        "astrobert_target_rank = get_index_of_target(query_results_astrobert, example.citation_dois[0])\n",
        "print(f\"AstroBERT target rank: {astrobert_target_rank}\")"
      ]
    },
    {
      "cell_type": "code",
      "execution_count": 127,
      "metadata": {},
      "outputs": [
        {
          "name": "stdout",
          "output_type": "stream",
          "text": [
            "Astrosage target rank: -1\n"
          ]
        }
      ],
      "source": [
        "nasa_embedder = get_embedder(\"nasa-impact/nasa-ibm-st.38m\", device=device, normalize=True)\n",
        "query_vector_nasa = nasa_embedder([example.sent_no_cit])[0]\n",
        "query_results_nasa = db.query_vector_column(\n",
        "    query_vector=query_vector_nasa,\n",
        "    target_table=\"lib\",\n",
        "    target_column=\"nasa\",\n",
        "    pubdate=example.pubdate,\n",
        "    top_k=10_000,\n",
        "    probes=40,\n",
        "    explain=False,\n",
        ")\n",
        "nasa_target_rank = get_index_of_target(query_results_nasa, example.citation_dois[0])\n",
        "print(f\"Astrosage target rank: {nasa_target_rank}\")"
      ]
    },
    {
      "cell_type": "markdown",
      "metadata": {},
      "source": [
        "Not great. Back to BGE with unpacked acronyms:"
      ]
    },
    {
      "cell_type": "code",
      "execution_count": 124,
      "metadata": {},
      "outputs": [
        {
          "name": "stdout",
          "output_type": "stream",
          "text": [
            "Modified target rank: 3339\n"
          ]
        }
      ],
      "source": [
        "modified_query = example.sent_no_cit.replace(\"GLE\", \"Ground Level Enhancement\").replace(\"SEP\", \"Solar Energetic Particle\")\n",
        "query_vector_modified = bge_embedder([modified_query])[0]\n",
        "query_results_modified = db.query_vector_column(\n",
        "    query_vector=query_vector_modified,\n",
        "    target_table=\"lib\",\n",
        "    target_column=\"bge_norm\",\n",
        "    pubdate=example.pubdate,\n",
        "    top_k=10_000,\n",
        "    probes=40,\n",
        "    explain=False,\n",
        ")\n",
        "modified_target_rank = get_index_of_target(query_results_modified, example.citation_dois[0])\n",
        "print(f\"Modified target rank: {modified_target_rank}\")"
      ]
    },
    {
      "cell_type": "markdown",
      "metadata": {},
      "source": [
        "### Conclusion: the embedder struggled with acronyms, even ones trained on astrophysics. Might require more research on query expansion\n",
        "\n",
        "## Failure 16\n",
        "\n"
      ]
    },
    {
      "cell_type": "code",
      "execution_count": 128,
      "metadata": {},
      "outputs": [
        {
          "name": "stdout",
          "output_type": "stream",
          "text": [
            "('Original sentence: The FP shifts imply a decrease of the rest-frame M/L '\n",
            " 'ratio Δlog M/L B ≃ −0.46 z ( van Dokkum Stanford 2003 ), but—as emphasized '\n",
            " 'above— the formation redshift one can derive from it depends on both '\n",
            " 'cosmology and the IMF.')\n",
            "('Example: The FP shifts imply a decrease of the rest-frame M/L ratio Δlog M/L '\n",
            " 'B ≃ −0.46 z ( van Dokkum , but—as emphasized above— the formation redshift '\n",
            " 'one can derive from it depends on both cosmology and the IMF.')\n",
            "Target doi: ['10.1086/374570']\n"
          ]
        }
      ],
      "source": [
        "example = examples.iloc[failed_queries[16]]\n",
        "pprint(f\"Original sentence: {example.sent_original}\")\n",
        "pprint(f\"Example: {example.sent_no_cit}\")\n",
        "print(f\"Target doi: {example.citation_dois}\")"
      ]
    },
    {
      "cell_type": "markdown",
      "metadata": {},
      "source": [
        "### Conclusion: incorrect first author extraction\n",
        "\n",
        "## Failure 17"
      ]
    },
    {
      "cell_type": "code",
      "execution_count": 129,
      "metadata": {},
      "outputs": [
        {
          "name": "stdout",
          "output_type": "stream",
          "text": [
            "('Original sentence: This is clearly shown by the lateral duplicate sampling '\n",
            " 'performed by Scott et al. (2017, SI fig. S4) .')\n",
            "('Example: This is clearly shown by the lateral duplicate sampling performed '\n",
            " 'by , SI fig. S4) .')\n",
            "Target doi: ['10.1016/j.quascirev.2017.01.005']\n"
          ]
        }
      ],
      "source": [
        "example = examples.iloc[failed_queries[17]]\n",
        "pprint(f\"Original sentence: {example.sent_original}\")\n",
        "pprint(f\"Example: {example.sent_no_cit}\")\n",
        "print(f\"Target doi: {example.citation_dois}\")"
      ]
    },
    {
      "cell_type": "markdown",
      "metadata": {},
      "source": [
        "This is the wrong target doi. Given target doi refers to Slowinski et al, 2017 but Scott et al. 2017 could not be found.\n",
        "\n",
        "### Conclusion: error in dataset. Fix or remove"
      ]
    }
  ],
  "metadata": {
    "kernelspec": {
      "display_name": "citeline",
      "language": "python",
      "name": "python3"
    },
    "language_info": {
      "codemirror_mode": {
        "name": "ipython",
        "version": 3
      },
      "file_extension": ".py",
      "mimetype": "text/x-python",
      "name": "python",
      "nbconvert_exporter": "python",
      "pygments_lexer": "ipython3",
      "version": "3.11.10"
    }
  },
  "nbformat": 4,
  "nbformat_minor": 2
}
