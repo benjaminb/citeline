{
 "cells": [
  {
   "cell_type": "code",
   "execution_count": 1,
   "id": "be0ae21a",
   "metadata": {},
   "outputs": [],
   "source": [
    "import h5py\n",
    "import torch\n",
    "import numpy as np\n",
    "\n",
    "# Build a neural net that takes in 1024 dim vectors and outputs 1024 dim vectors\n",
    "import torch.nn as nn\n",
    "import torch.nn.functional as F\n",
    "\n",
    "\n",
    "class EmbeddingMapper(nn.Module):\n",
    "    def __init__(self, input_dim=1024, output_dim=1024, hidden_dim=256):  # Reduced from 512\n",
    "        super().__init__()\n",
    "        self.fc1 = nn.Linear(input_dim, 128)\n",
    "        self.final = nn.Linear(128, output_dim)\n",
    "        self.residual_scale = nn.Parameter(torch.tensor(0.01))\n",
    "        # self.dropout = nn.Dropout(0.5)\n",
    "\n",
    "        # nn.init.xavier_uniform_(self.fc3.weight, gain=0.1)\n",
    "        nn.init.xavier_uniform_(self.fc1.weight, gain=0.1)\n",
    "        nn.init.xavier_uniform_(self.final.weight, gain=0.1)\n",
    "        nn.init.zeros_(self.fc1.bias)\n",
    "        nn.init.zeros_(self.final.bias)\n",
    "\n",
    "    def forward(self, x):\n",
    "        y = F.tanh(self.fc1(x))\n",
    "        y = F.tanh(self.final(y))\n",
    "        y = x + self.residual_scale * y  # Residual connection\n",
    "\n",
    "        y = F.normalize(y, p=2, dim=1)\n",
    "        return y\n",
    "\n",
    "\n",
    "device = \"cuda\" if torch.cuda.is_available() else \"mps\" if torch.mps.is_available() else \"cpu\"\n",
    "model = EmbeddingMapper(input_dim=1024, output_dim=1024).to(device)\n",
    "\n",
    "# L1 regularization\n",
    "# L1_lambda = 1e-5\n",
    "\n",
    "optimizer = torch.optim.Adam(model.parameters(), lr=1e-4)\n",
    "# optimizer = torch.optim.AdamW(model.parameters(), lr=1e-4, weight_decay=1e-4)\n",
    "\n",
    "triplet_loss = nn.TripletMarginWithDistanceLoss(\n",
    "    margin=0.1,\n",
    "    distance_function=lambda x, y: 1.0 - F.cosine_similarity(x, y),\n",
    ")\n",
    "\n",
    "cosine_loss = nn.CosineEmbeddingLoss(margin=0.1)\n",
    "\n",
    "loss_function = lambda a, p, n: cosine_loss(a, p, torch.ones(a.size(0)).to(device))\n"
   ]
  },
  {
   "cell_type": "code",
   "execution_count": 2,
   "id": "f4f55f51",
   "metadata": {},
   "outputs": [
    {
     "name": "stdout",
     "output_type": "stream",
     "text": [
      "Train dataset size: 52668\n",
      "Validation dataset size: 11088\n",
      "=== RAW ===\n",
      "Average Anchor-Positive distance: 0.3744 ± 0.0970\n",
      "Average Anchor-Negative distance: 0.3260 ± 0.0607\n",
      "Average margin in raw data: -0.0484\n"
     ]
    }
   ],
   "source": [
    "from torch.utils.data import DataLoader, Dataset\n",
    "\n",
    "\n",
    "# --- Example dataset ---\n",
    "class TripletDataset(Dataset):\n",
    "    def __init__(self, h5_path: str):\n",
    "        with h5py.File(h5_path, \"r\") as f:\n",
    "            self.triplets = torch.from_numpy(f[\"triplets\"][:]).float()\n",
    "\n",
    "    def __len__(self):\n",
    "        return len(self.triplets)\n",
    "\n",
    "    def __getitem__(self, idx):\n",
    "        anchor = self.triplets[idx, 0, :]\n",
    "        positive = self.triplets[idx, 1, :]\n",
    "        negative = self.triplets[idx, 2, :]\n",
    "        return anchor, positive, negative\n",
    "\n",
    "\n",
    "train_dataset = TripletDataset(\"../src/citeline/nn/np_vectors_train_triplets.h5\")\n",
    "val_dataset = TripletDataset(\"../src/citeline/nn/np_vectors_val_triplets.h5\")\n",
    "train_dataloader = DataLoader(train_dataset, batch_size=32, shuffle=True, drop_last=True)\n",
    "val_dataloader = DataLoader(val_dataset, batch_size=32, shuffle=False, drop_last=True)\n",
    "print(f\"Train dataset size: {len(train_dataset)}\")\n",
    "print(f\"Validation dataset size: {len(val_dataset)}\")\n",
    "\n",
    "# Check initial similarities in the raw data\n",
    "ap_distances = []\n",
    "an_distances = []\n",
    "for anchor, pos, neg in val_dataset:\n",
    "    ap_dist = 1 - F.cosine_similarity(anchor.unsqueeze(0), pos.unsqueeze(0)).item()\n",
    "    an_dist = 1 - F.cosine_similarity(anchor.unsqueeze(0), neg.unsqueeze(0)).item()\n",
    "    ap_distances.append(ap_dist)\n",
    "    an_distances.append(an_dist)\n",
    "\n",
    "print(f\"=== RAW ===\")\n",
    "print(f\"Average Anchor-Positive distance: {np.mean(ap_distances):.4f} ± {np.std(ap_distances):.4f}\")\n",
    "print(f\"Average Anchor-Negative distance: {np.mean(an_distances):.4f} ± {np.std(an_distances):.4f}\")\n",
    "print(f\"Average margin in raw data: {np.mean(an_distances) - np.mean(ap_distances):.4f}\")"
   ]
  },
  {
   "cell_type": "code",
   "execution_count": 3,
   "id": "c098c5d0",
   "metadata": {},
   "outputs": [
    {
     "name": "stdout",
     "output_type": "stream",
     "text": [
      "Baseline validation loss (no training): 0.1495\n",
      "=== BEFORE TRAINING (Validation set, Anchor mapped, Pos/Neg unchanged) ===\n",
      "Anchor-Positive distance: 0.3826\n",
      "Anchor-Negative distance: 0.3313\n",
      "Average margin: -0.0513\n"
     ]
    }
   ],
   "source": [
    "# Baseline loss\n",
    "with torch.no_grad():\n",
    "    model.eval()\n",
    "    val_losses = []\n",
    "    for anchors, positives, negatives in val_dataloader:\n",
    "        anchors, positives, negatives = anchors.to(device), positives.to(device), negatives.to(device)\n",
    "        anchor_out = model(anchors)\n",
    "        val_loss = triplet_loss(anchor_out, positives, negatives)\n",
    "        val_losses.append(val_loss.item())\n",
    "baseline_val_loss = np.mean(val_losses)\n",
    "print(f\"Baseline validation loss (no training): {baseline_val_loss:.4f}\")\n",
    "# Check if the model is mapping anchors closer to positives\n",
    "model.eval()\n",
    "for name, dataset in [(\"Validation\", val_dataset)]:\n",
    "    ap_distances_after = []\n",
    "    an_distances_after = []\n",
    "\n",
    "    with torch.no_grad():\n",
    "        for anchor, pos, neg in list(dataset)[:1000]:\n",
    "            anchor = anchor.to(device).unsqueeze(0)\n",
    "\n",
    "            anchor_emb = model(anchor)  # Only transform anchor\n",
    "\n",
    "            # Compare to raw positive/negative (no transformation)\n",
    "            ap_dist = 1 - F.cosine_similarity(anchor_emb, pos.unsqueeze(0).to(device)).item()\n",
    "            an_dist = 1 - F.cosine_similarity(anchor_emb, neg.unsqueeze(0).to(device)).item()\n",
    "\n",
    "            ap_distances_after.append(ap_dist)\n",
    "            an_distances_after.append(an_dist)\n",
    "\n",
    "    print(f\"=== BEFORE TRAINING ({name} set, Anchor mapped, Pos/Neg unchanged) ===\")\n",
    "    print(f\"Anchor-Positive distance: {np.mean(ap_distances_after):.4f}\")\n",
    "    print(f\"Anchor-Negative distance: {np.mean(an_distances_after):.4f}\")\n",
    "    print(f\"Average margin: {np.mean(an_distances_after) - np.mean(ap_distances_after):.4f}\")"
   ]
  },
  {
   "cell_type": "code",
   "execution_count": null,
   "id": "0aa000cf",
   "metadata": {},
   "outputs": [
    {
     "name": "stdout",
     "output_type": "stream",
     "text": [
      "Epoch 0: Train Loss = 0.3196, Val Loss = 0.3058\n",
      "Epoch 1: Train Loss = 0.3008, Val Loss = 0.2931\n",
      "Epoch 2: Train Loss = 0.2932, Val Loss = 0.2898\n",
      "Epoch 3: Train Loss = 0.2897, Val Loss = 0.2874\n",
      "Epoch 4: Train Loss = 0.2868, Val Loss = 0.2856\n",
      "Epoch 5: Train Loss = 0.2844, Val Loss = 0.2842\n",
      "Epoch 6: Train Loss = 0.2823, Val Loss = 0.2831\n",
      "Epoch 7: Train Loss = 0.2805, Val Loss = 0.2823\n",
      "Epoch 8: Train Loss = 0.2790, Val Loss = 0.2817\n",
      "Epoch 9: Train Loss = 0.2777, Val Loss = 0.2813\n",
      "Epoch 10: Train Loss = 0.2764, Val Loss = 0.2808\n",
      "Epoch 11: Train Loss = 0.2753, Val Loss = 0.2805\n",
      "Epoch 12: Train Loss = 0.2743, Val Loss = 0.2803\n",
      "Epoch 13: Train Loss = 0.2735, Val Loss = 0.2802\n",
      "Epoch 14: Train Loss = 0.2726, Val Loss = 0.2799\n",
      "Epoch 15: Train Loss = 0.2719, Val Loss = 0.2799\n",
      "Epoch 16: Train Loss = 0.2712, Val Loss = 0.2800\n",
      "Epoch 17: Train Loss = 0.2705, Val Loss = 0.2798\n",
      "Epoch 18: Train Loss = 0.2699, Val Loss = 0.2797\n",
      "Epoch 19: Train Loss = 0.2693, Val Loss = 0.2797\n"
     ]
    }
   ],
   "source": [
    "train_loss_history = []\n",
    "val_loss_history = []\n",
    "pos_dist_weight = 1.0\n",
    "NUM_EPOCHS = 20\n",
    "min_val_loss = float(\"inf\")\n",
    "for epoch in range(NUM_EPOCHS):\n",
    "    # ---- Training ----\n",
    "    model.train()\n",
    "    train_losses = []\n",
    "    for batch_idx, (anchors, positives, negatives) in enumerate(train_dataloader):\n",
    "        anchors, positives, negatives = anchors.to(device), positives.to(device), negatives.to(device)\n",
    "        optimizer.zero_grad()\n",
    "        anchor_out = model(anchors)\n",
    "\n",
    "        loss = loss_function(anchor_out, positives, negatives) + (epoch/NUM_EPOCHS) * triplet_loss(anchor_out, positives, negatives)\n",
    "        loss.backward()\n",
    "        optimizer.step()\n",
    "        train_losses.append(loss.item())\n",
    "\n",
    "    train_loss_epoch = np.mean(train_losses)\n",
    "    train_loss_history.append(train_loss_epoch)\n",
    "\n",
    "    # ---- Validation ----\n",
    "    model.eval()\n",
    "    val_losses = []\n",
    "    with torch.no_grad():\n",
    "        for anchors, positives, negatives in val_dataloader:\n",
    "            anchors, positives, negatives = anchors.to(device), positives.to(device), negatives.to(device)\n",
    "            anchor_out = model(anchors)\n",
    "\n",
    "            loss = loss_function(anchor_out, positives, negatives) + (epoch/NUM_EPOCHS) * triplet_loss(anchor_out, positives, negatives)\n",
    "\n",
    "            val_losses.append(loss.item())\n",
    "\n",
    "    val_loss_epoch = np.mean(val_losses)\n",
    "    val_loss_history.append(val_loss_epoch)\n",
    "    if val_loss_epoch < min_val_loss:\n",
    "        min_val_loss = val_loss_epoch\n",
    "        # Save the best model\n",
    "        torch.save(model.state_dict(), \"best_model.pth\")\n",
    "\n",
    "    print(f\"Epoch {epoch}: Train Loss = {train_loss_epoch:.4f}, Val Loss = {val_loss_epoch:.4f}\")"
   ]
  },
  {
   "cell_type": "code",
   "execution_count": 5,
   "id": "a4af5e70",
   "metadata": {},
   "outputs": [
    {
     "data": {
      "image/png": "[encoded data removed]",
      "text/plain": [
       "<Figure size 640x480 with 1 Axes>"
      ]
     },
     "metadata": {},
     "output_type": "display_data"
    }
   ],
   "source": [
    "# Plot train and validation loss\n",
    "import matplotlib.pyplot as plt\n",
    "\n",
    "plt.plot(train_loss_history, label=\"Train Loss\")\n",
    "plt.plot(val_loss_history, label=\"Validation Loss\")\n",
    "plt.xlabel(\"Epoch\")\n",
    "plt.ylabel(\"Loss\")\n",
    "plt.legend()\n",
    "# Add a notation where the minimal val loss occurred and amount\n",
    "min_val_loss = min(val_loss_history)\n",
    "min_val_loss_epoch = val_loss_history.index(min_val_loss)\n",
    "\n",
    "# Mark the point\n",
    "plt.plot(min_val_loss_epoch, min_val_loss, \"ro\", markersize=8)\n",
    "\n",
    "# Add annotation with box\n",
    "plt.annotate(\n",
    "    f\"Min: {min_val_loss:.4f}\",\n",
    "    xy=(min_val_loss_epoch, min_val_loss),\n",
    "    xytext=(10, 10),  # Offset in points\n",
    "    textcoords=\"offset points\",\n",
    "    bbox=dict(boxstyle=\"round,pad=0.5\", facecolor=\"orange\", alpha=0.3),\n",
    "    # arrowprops=dict(arrowstyle=\"->\", connectionstyle=\"arc3,rad=0\"),\n",
    ")\n",
    "\n",
    "plt.title(\"Training and Validation Loss\")\n",
    "plt.show()"
   ]
  },
  {
   "cell_type": "code",
   "execution_count": 6,
   "id": "dd4dab08",
   "metadata": {},
   "outputs": [
    {
     "name": "stdout",
     "output_type": "stream",
     "text": [
      "Best loss reduction: -87.05%\n"
     ]
    }
   ],
   "source": [
    "loss_reduction = 1 - (min_val_loss / baseline_val_loss)\n",
    "print(f\"Best loss reduction: {loss_reduction*100:.2f}%\")"
   ]
  },
  {
   "cell_type": "code",
   "execution_count": 7,
   "id": "db8fc8fe",
   "metadata": {},
   "outputs": [
    {
     "name": "stdout",
     "output_type": "stream",
     "text": [
      "=== AFTER TRAINING (Validation set, Anchor mapped, Pos/Neg unchanged) ===\n",
      "Anchor-Positive distance: 0.2849\n",
      "Anchor-Negative distance: 0.2578\n",
      "Learned margin mean: -0.0270\n",
      "Learned margin median: -0.0231\n",
      "Stddev of learned margin: 0.0573\n",
      "Distribution of margins: min=-0.2246, max=0.1910\n"
     ]
    }
   ],
   "source": [
    "# Check if the model is mapping anchors closer to positives\n",
    "model.eval()\n",
    "for name, dataset in [(\"Validation\", val_dataset)]:\n",
    "    ap_distances_after = []\n",
    "    an_distances_after = []\n",
    "    margins = []\n",
    "\n",
    "    with torch.no_grad():\n",
    "        for anchor, pos, neg in list(dataset)[:1000]:\n",
    "            anchor = anchor.to(device).unsqueeze(0)\n",
    "\n",
    "            anchor_emb = model(anchor)  # Only transform anchor\n",
    "\n",
    "            # Compare to raw positive/negative (no transformation)\n",
    "            ap_dist = 1 - F.cosine_similarity(anchor_emb, pos.unsqueeze(0).to(device)).item()\n",
    "            an_dist = 1 - F.cosine_similarity(anchor_emb, neg.unsqueeze(0).to(device)).item()\n",
    "\n",
    "            ap_distances_after.append(ap_dist)\n",
    "            an_distances_after.append(an_dist)\n",
    "            margins.append(an_dist - ap_dist)\n",
    "\n",
    "    print(f\"=== AFTER TRAINING ({name} set, Anchor mapped, Pos/Neg unchanged) ===\")\n",
    "    print(f\"Anchor-Positive distance: {np.mean(ap_distances_after):.4f}\")\n",
    "    print(f\"Anchor-Negative distance: {np.mean(an_distances_after):.4f}\")\n",
    "    print(f\"Learned margin mean: {np.mean(margins):.4f}\")\n",
    "    print(f\"Learned margin median: {np.median(margins):.4f}\")\n",
    "    print(f\"Stddev of learned margin: {np.std(margins):.4f}\")\n",
    "    print(f\"Distribution of margins: min={np.min(margins):.4f}, max={np.max(margins):.4f}\")"
   ]
  },
  {
   "cell_type": "code",
   "execution_count": 8,
   "id": "6fa00491",
   "metadata": {},
   "outputs": [
    {
     "name": "stderr",
     "output_type": "stream",
     "text": [
      "/var/folders/br/rmys_1r571qbwgg30gx_x2l40000gn/T/ipykernel_59359/2602500826.py:2: FutureWarning: You are using `torch.load` with `weights_only=False` (the current default value), which uses the default pickle module implicitly. It is possible to construct malicious pickle data which will execute arbitrary code during unpickling (See https://github.com/pytorch/pytorch/blob/main/SECURITY.md#untrusted-models for more details). In a future release, the default value for `weights_only` will be flipped to `True`. This limits the functions that could be executed during unpickling. Arbitrary objects will no longer be allowed to be loaded via this mode unless they are explicitly allowlisted by the user via `torch.serialization.add_safe_globals`. We recommend you start setting `weights_only=True` for any use case where you don't have full control of the loaded file. Please open an issue on GitHub for any issues related to this experimental feature.\n",
      "  model.load_state_dict(torch.load(\"best_model.pth\"))\n"
     ]
    },
    {
     "name": "stdout",
     "output_type": "stream",
     "text": [
      "=== AFTER TRAINING (Test set, Anchor mapped, Pos/Neg unchanged) ===\n",
      "Anchor-Positive distance: 0.2704\n",
      "Anchor-Negative distance: 0.2473\n",
      "Learned margin: -0.0231\n"
     ]
    }
   ],
   "source": [
    "# Load the best model\n",
    "model.load_state_dict(torch.load(\"best_model.pth\"))\n",
    "\n",
    "# Evaluate on test set\n",
    "test_dataset = TripletDataset(\"../src/citeline/nn/np_vectors_test_triplets.h5\")\n",
    "model.eval()\n",
    "for name, dataset in [(\"Test\", test_dataset)]:\n",
    "    ap_distances_after = []\n",
    "    an_distances_after = []\n",
    "\n",
    "    with torch.no_grad():\n",
    "        for anchor, pos, neg in list(dataset)[:1000]:\n",
    "            anchor = anchor.to(device).unsqueeze(0)\n",
    "\n",
    "            anchor_emb = model(anchor)  # Only transform anchor\n",
    "\n",
    "            # Compare to raw positive/negative (no transformation)\n",
    "            ap_dist = 1 - F.cosine_similarity(anchor_emb, pos.unsqueeze(0).to(device)).item()\n",
    "            an_dist = 1 - F.cosine_similarity(anchor_emb, neg.unsqueeze(0).to(device)).item()\n",
    "\n",
    "            ap_distances_after.append(ap_dist)\n",
    "            an_distances_after.append(an_dist)\n",
    "\n",
    "    print(f\"=== AFTER TRAINING ({name} set, Anchor mapped, Pos/Neg unchanged) ===\")\n",
    "    print(f\"Anchor-Positive distance: {np.mean(ap_distances_after):.4f}\")\n",
    "    print(f\"Anchor-Negative distance: {np.mean(an_distances_after):.4f}\")\n",
    "    print(f\"Learned margin: {np.mean(an_distances_after) - np.mean(ap_distances_after):.4f}\")"
   ]
  },
  {
   "cell_type": "code",
   "execution_count": 9,
   "id": "1c134d5e",
   "metadata": {},
   "outputs": [],
   "source": [
    "# Save entire model\n",
    "torch.save(model, \"best_model_full.pth\")\n",
    "\n",
    "# Save a trace\n",
    "example_input = torch.randn(1, 1024).to(device)\n",
    "\n",
    "# Trace the model\n",
    "trace = torch.jit.trace(model, example_input)\n",
    "torch.jit.save(trace, \"best_model_traced.pth\")"
   ]
  },
  {
   "cell_type": "code",
   "execution_count": null,
   "id": "e87f0e17",
   "metadata": {},
   "outputs": [],
   "source": []
  }
 ],
 "metadata": {
  "kernelspec": {
   "display_name": "citeline",
   "language": "python",
   "name": "python3"
  },
  "language_info": {
   "codemirror_mode": {
    "name": "ipython",
    "version": 3
   },
   "file_extension": ".py",
   "mimetype": "text/x-python",
   "name": "python",
   "nbconvert_exporter": "python",
   "pygments_lexer": "ipython3",
   "version": "3.11.10"
  }
 },
 "nbformat": 4,
 "nbformat_minor": 5
}
