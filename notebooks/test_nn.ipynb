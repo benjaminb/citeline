{
 "cells": [
  {
   "cell_type": "code",
   "execution_count": 1,
   "id": "be0ae21a",
   "metadata": {},
   "outputs": [],
   "source": [
    "import h5py\n",
    "import torch\n",
    "import numpy as np\n",
    "from pathlib import Path\n",
    "import torch.nn as nn\n",
    "import torch.nn.functional as F\n",
    "import time\n",
    "from torch.utils.data import DataLoader, Dataset\n",
    "import matplotlib.pyplot as plt\n",
    "import json\n",
    "\n",
    "device = \"cuda\" if torch.cuda.is_available() else \"mps\" if torch.mps.is_available() else \"cpu\"\n",
    "job = {\n",
    "    'config': {},\n",
    "    'results': {}\n",
    "}"
   ]
  },
  {
   "cell_type": "code",
   "execution_count": 2,
   "id": "a48e5db3",
   "metadata": {},
   "outputs": [],
   "source": [
    "# This becomes the subdir under the dir with modelname; use it to indicate other experiment details\n",
    "# Besides model name, which indicates architecture / forward pass\n",
    "# So use it to indicate regularization, loss function, optimizer, etc.\n",
    "experiment_name = \"cos_adam_80epochs\"\n",
    "job['config']['experiment_name'] = experiment_name"
   ]
  },
  {
   "cell_type": "markdown",
   "id": "b37ca1b9",
   "metadata": {},
   "source": [
    "#### Set up datasets, get baseline stats"
   ]
  },
  {
   "cell_type": "code",
   "execution_count": 3,
   "id": "6723a597",
   "metadata": {},
   "outputs": [
    {
     "name": "stdout",
     "output_type": "stream",
     "text": [
      "Train dataset size: 26321\n",
      "Validation dataset size: 5640\n"
     ]
    }
   ],
   "source": [
    "class TripletDataset(Dataset):\n",
    "    def __init__(self, path, hard_ratio=0.5):\n",
    "        with h5py.File(path, \"r\") as f:\n",
    "            self.anchors = torch.from_numpy(f[\"queries\"][:]).float()\n",
    "            self.positives = torch.from_numpy(f[\"positives\"][:]).float()\n",
    "            self.hard_negatives = torch.from_numpy(f[\"hard_negatives\"][:]).float()\n",
    "            self.soft_negatives = torch.from_numpy(f[\"soft_negatives\"][:]).float()\n",
    "        self.hard_ratio = hard_ratio\n",
    "\n",
    "    def __sample_row(self, rows):\n",
    "        idx = np.random.randint(len(rows))\n",
    "        return rows[idx]\n",
    "\n",
    "    def __len__(self):\n",
    "        return len(self.anchors)\n",
    "    \n",
    "    def __getitem__(self, idx):\n",
    "        anchor = self.anchors[idx]\n",
    "        positives = self.positives[idx]\n",
    "        positive = self.__sample_row(positives)\n",
    "\n",
    "        negatives = self.hard_negatives[idx] if np.random.rand() < self.hard_ratio else self.soft_negatives[idx]\n",
    "        negative = self.__sample_row(negatives)\n",
    "        return anchor, positive, negative\n",
    "\n",
    "train_path = \"../data/dataset/nn/train_triplet_ds_add_prev_2.h5\"\n",
    "val_path = \"../data/dataset/nn/val_triplet_ds_add_prev_2.h5\"\n",
    "val_queries = \"../data/dataset/nn/val_ds_add_prev_2.jsonl\"\n",
    "# no need for test path here\n",
    "train_ds = TripletDataset(train_path, hard_ratio=0.5)\n",
    "val_ds = TripletDataset(val_path, hard_ratio=0.5)\n",
    "\n",
    "batch_size = 64\n",
    "job['config']['batch_size'] = batch_size\n",
    "train_dataloader = DataLoader(train_ds, batch_size=batch_size, shuffle=True, drop_last=True)\n",
    "val_dataloader = DataLoader(val_ds, batch_size=batch_size, shuffle=False, drop_last=True)\n",
    "print(f\"Train dataset size: {len(train_ds)}\")\n",
    "print(f\"Validation dataset size: {len(val_ds)}\")"
   ]
  },
  {
   "cell_type": "markdown",
   "id": "25fd2fc7",
   "metadata": {},
   "source": [
    "### 1. Define model architecture"
   ]
  },
  {
   "cell_type": "code",
   "execution_count": 4,
   "id": "cb2f98eb",
   "metadata": {},
   "outputs": [],
   "source": [
    "class BaselineEmbeddingMapper(nn.Module):\n",
    "    def __init__(self, input_dim=1024, output_dim=1024, hidden_dim=256):  # Reduced from 512\n",
    "        super().__init__()\n",
    "        self.description = \"\"\"2-layer MLP, compressing 1024 -> 128, with skip connection to output layer. \n",
    "        Using tanh activation and minimal weight initializations to prevent model from perturbing vectors too much\"\"\"\n",
    "\n",
    "        self.fc1 = nn.Linear(input_dim, 128)\n",
    "        self.final = nn.Linear(128, output_dim)\n",
    "        self.residual_scale = nn.Parameter(torch.tensor(0.01))\n",
    "\n",
    "        nn.init.xavier_uniform_(self.fc1.weight, gain=0.1)\n",
    "        nn.init.xavier_uniform_(self.final.weight, gain=0.1)\n",
    "        nn.init.zeros_(self.fc1.bias)\n",
    "        nn.init.zeros_(self.final.bias)\n",
    "        \n",
    "\n",
    "    def forward(self, x):\n",
    "        y = F.tanh(self.fc1(x))\n",
    "        y = F.tanh(self.final(y))\n",
    "        y = x + self.residual_scale * y  # skip connection\n",
    "\n",
    "        y = F.normalize(y, p=2, dim=1)\n",
    "        return y\n",
    "\n",
    "# TODO: move this to an import\n",
    "model = BaselineEmbeddingMapper(input_dim=1024, output_dim=1024).to(device)\n",
    "if device == 'cuda':\n",
    "    model = torch.compile(model)\n",
    "job[\"config\"][\"model_name\"] = model.__class__.__name__\n",
    "job['config']['description'] = model.description"
   ]
  },
  {
   "cell_type": "markdown",
   "id": "bcb34b53",
   "metadata": {},
   "source": [
    "### 2. Choose optimizer, learning rate, and weight decay (if any)"
   ]
  },
  {
   "cell_type": "code",
   "execution_count": 5,
   "id": "3740092d",
   "metadata": {},
   "outputs": [
    {
     "name": "stdout",
     "output_type": "stream",
     "text": [
      "Adam (\n",
      "Parameter Group 0\n",
      "    amsgrad: False\n",
      "    betas: (0.9, 0.999)\n",
      "    capturable: False\n",
      "    differentiable: False\n",
      "    eps: 1e-08\n",
      "    foreach: None\n",
      "    fused: None\n",
      "    lr: 0.0001\n",
      "    maximize: False\n",
      "    weight_decay: 0\n",
      ")\n"
     ]
    }
   ],
   "source": [
    "job['config']['lr'] = 1e-4\n",
    "job['config']['optimizer'] = 'Adam'\n",
    "\n",
    "if job['config']['optimizer'] == 'Adam':\n",
    "    optimizer = torch.optim.Adam(model.parameters(), lr=job['config']['lr'])\n",
    "elif job['config']['optimizer'] == 'AdamW':\n",
    "    optimizer = torch.optim.AdamW(model.parameters(), lr=job['config']['lr'], weight_decay=1e-4)\n",
    "else:\n",
    "    raise ValueError(f\"Unsupported optimizer: {job['config']['optimizer']}. Add this to the optimizer selection code.\")\n",
    "print(optimizer)"
   ]
  },
  {
   "cell_type": "markdown",
   "id": "ee99e641",
   "metadata": {},
   "source": [
    "### 3. Define loss function / loss function schedule"
   ]
  },
  {
   "cell_type": "code",
   "execution_count": 6,
   "id": "0b2a2221",
   "metadata": {},
   "outputs": [],
   "source": [
    "job['config']['loss_function'] = 'CosineEmbeddingLoss with margin=0.1'\n",
    "cosine_loss = nn.CosineEmbeddingLoss(margin=0.1)\n",
    "\n",
    "loss_function = lambda a, p, n: cosine_loss(a, p, torch.ones(a.size(0)).to(device))"
   ]
  },
  {
   "cell_type": "code",
   "execution_count": 7,
   "id": "c098c5d0",
   "metadata": {},
   "outputs": [
    {
     "name": "stdout",
     "output_type": "stream",
     "text": [
      "=== BASELINE ===\n",
      "Average Anchor-Positive distance: 0.3874 ± 0.0925\n",
      "Average Anchor-Negative distance: 0.3885 ± 0.0828\n",
      "Average margin in baseline data: 0.0011\n",
      "=== UNTRAINED (Training set, Anchor mapped, Pos/Neg unchanged) ===\n",
      "Anchor-Positive distance: 0.3876, +0.0422% vs. baseline\n",
      "Anchor-Negative distance: 0.3894, +0.2298% vs. baseline\n",
      "Average margin: 0.0018\n"
     ]
    },
    {
     "data": {
      "image/png": "[encoded data removed]",
      "text/plain": [
       "<Figure size 1500x500 with 3 Axes>"
      ]
     },
     "metadata": {},
     "output_type": "display_data"
    }
   ],
   "source": [
    "# Check initial similarities in the raw data\n",
    "ap_distances = []\n",
    "an_distances = []\n",
    "margins = []\n",
    "for anchor, pos, neg in train_ds:\n",
    "    ap_dist = 1 - F.cosine_similarity(anchor.unsqueeze(0), pos.unsqueeze(0)).item()\n",
    "    an_dist = 1 - F.cosine_similarity(anchor.unsqueeze(0), neg.unsqueeze(0)).item()\n",
    "    ap_distances.append(ap_dist)\n",
    "    an_distances.append(an_dist)\n",
    "    margins.append(an_dist - ap_dist)\n",
    "\n",
    "print(f\"=== BASELINE ===\")\n",
    "print(f\"Average Anchor-Positive distance: {np.mean(ap_distances):.4f} ± {np.std(ap_distances):.4f}\")\n",
    "print(f\"Average Anchor-Negative distance: {np.mean(an_distances):.4f} ± {np.std(an_distances):.4f}\")\n",
    "print(f\"Average margin in baseline data: {np.mean(margins):.4f}\")\n",
    "\n",
    "baseline_results = {\"distances_to_positive\": ap_distances, \"distances_to_negative\": an_distances, \"margins\": margins}\n",
    "# Baseline loss\n",
    "with torch.no_grad():\n",
    "    model.eval()\n",
    "    train_losses = []\n",
    "    for anchors, positives, negatives in train_dataloader:\n",
    "        anchors, positives, negatives = anchors.to(device), positives.to(device), negatives.to(device)\n",
    "        anchor_out = model(anchors)\n",
    "        train_loss = loss_function(anchor_out, positives, negatives)\n",
    "        train_losses.append(train_loss.item())\n",
    "\n",
    "    # Check that the untrained model isn't starting from a point where it's perturbing the data far away from positives\n",
    "    for name, dataset in [(\"Training\", train_ds)]:\n",
    "        ap_distances_after = []\n",
    "        an_distances_after = []\n",
    "\n",
    "        with torch.no_grad():\n",
    "            for anchor, pos, neg in list(dataset):\n",
    "                anchor = anchor.to(device).unsqueeze(0)\n",
    "\n",
    "                anchor_emb = model(anchor)  # Only transform anchor\n",
    "\n",
    "                # Compare to raw positive/negative (no transformation)\n",
    "                ap_dist = 1 - F.cosine_similarity(anchor_emb, pos.unsqueeze(0).to(device)).item()\n",
    "                an_dist = 1 - F.cosine_similarity(anchor_emb, neg.unsqueeze(0).to(device)).item()\n",
    "\n",
    "                ap_distances_after.append(ap_dist)\n",
    "                an_distances_after.append(an_dist)\n",
    "\n",
    "        anchor_positive_mean_distance = np.mean(ap_distances_after)\n",
    "        anchor_negative_mean_distance = np.mean(an_distances_after)\n",
    "        ap_pct_diff = ((anchor_positive_mean_distance - np.mean(ap_distances)) / np.mean(ap_distances)) * 100\n",
    "        an_pct_diff = ((anchor_negative_mean_distance - np.mean(an_distances)) / np.mean(an_distances)) * 100\n",
    "        print(f\"=== UNTRAINED ({name} set, Anchor mapped, Pos/Neg unchanged) ===\")\n",
    "        print(f\"Anchor-Positive distance: {anchor_positive_mean_distance:.4f}, {ap_pct_diff:+.4f}% vs. baseline\")\n",
    "        print(f\"Anchor-Negative distance: {anchor_negative_mean_distance:.4f}, {an_pct_diff:+.4f}% vs. baseline\")\n",
    "        print(f\"Average margin: {anchor_negative_mean_distance - anchor_positive_mean_distance:.4f}\")\n",
    "\n",
    "        if abs(ap_pct_diff) > 5.0:\n",
    "            print(\"WARNING: Untrained model is changing Anchor-Positive distances significantly!\")\n",
    "        if abs(an_pct_diff) > 5.0:\n",
    "            print(\"WARNING: Untrained model is changing Anchor-Negative distances significantly!\")\n",
    "            \n",
    "        # Box plot the results\n",
    "        job['results']['untrained'] = {\n",
    "            'distances_to_positive': ap_distances_after,\n",
    "            'distances_to_negative': an_distances_after,\n",
    "            'margins': [an - ap for ap, an in zip(ap_distances_after, an_distances_after)]\n",
    "        }\n",
    "        # Box plot ap_distances against ap_distances_after\n",
    "        fig, axes = plt.subplots(1, 3, figsize=(15, 5))\n",
    "        axes[0].boxplot([ap_distances, ap_distances_after], tick_labels=['Baseline', 'Untrained Model'])\n",
    "        axes[0].set_ylabel('Cosine Distance (Anchor to Positive)')\n",
    "        axes[0].set_title(f\"Anchor-Positive Distances ({name} set)\")\n",
    "\n",
    "        axes[1].boxplot([an_distances, an_distances_after], tick_labels=['Baseline', 'Untrained Model'])\n",
    "        axes[1].set_ylabel('Cosine Distance (Anchor to Negative)')\n",
    "        axes[1].set_title(f\"Anchor-Negative Distances ({name} set)\")\n",
    "\n",
    "        axes[2].boxplot([baseline_results['margins'], job['results']['untrained']['margins']], tick_labels=['Baseline', 'Untrained Model'])\n",
    "        axes[2].set_ylabel('Margin (Negative - Positive)')\n",
    "        axes[2].set_title(f\"Margins ({name} set)\")\n",
    "\n",
    "        plt.tight_layout()\n",
    "        plt.show()"
   ]
  },
  {
   "cell_type": "code",
   "execution_count": 8,
   "id": "0aa000cf",
   "metadata": {},
   "outputs": [
    {
     "name": "stdout",
     "output_type": "stream",
     "text": [
      "Epoch 0: Train Loss = 0.3410, Val Loss = 0.3236\n",
      "Epoch 1: Train Loss = 0.3214, Val Loss = 0.3207\n",
      "Epoch 2: Train Loss = 0.3199, Val Loss = 0.3181\n",
      "Epoch 3: Train Loss = 0.3144, Val Loss = 0.3113\n",
      "Epoch 4: Train Loss = 0.3081, Val Loss = 0.3056\n",
      "Epoch 5: Train Loss = 0.3035, Val Loss = 0.3027\n",
      "Epoch 6: Train Loss = 0.3013, Val Loss = 0.3000\n",
      "Epoch 7: Train Loss = 0.2995, Val Loss = 0.2991\n",
      "Epoch 8: Train Loss = 0.2976, Val Loss = 0.2979\n",
      "Epoch 9: Train Loss = 0.2972, Val Loss = 0.2966\n",
      "Epoch 10: Train Loss = 0.2960, Val Loss = 0.2962\n",
      "Epoch 11: Train Loss = 0.2949, Val Loss = 0.2956\n",
      "Epoch 12: Train Loss = 0.2939, Val Loss = 0.2940\n",
      "Epoch 13: Train Loss = 0.2931, Val Loss = 0.2929\n",
      "Epoch 14: Train Loss = 0.2923, Val Loss = 0.2933\n",
      "Epoch 15: Train Loss = 0.2916, Val Loss = 0.2924\n",
      "Epoch 16: Train Loss = 0.2908, Val Loss = 0.2916\n",
      "Epoch 17: Train Loss = 0.2900, Val Loss = 0.2911\n",
      "Epoch 18: Train Loss = 0.2896, Val Loss = 0.2908\n",
      "Epoch 19: Train Loss = 0.2889, Val Loss = 0.2903\n",
      "Epoch 20: Train Loss = 0.2884, Val Loss = 0.2892\n",
      "Epoch 21: Train Loss = 0.2878, Val Loss = 0.2894\n",
      "Epoch 22: Train Loss = 0.2873, Val Loss = 0.2888\n",
      "Epoch 23: Train Loss = 0.2868, Val Loss = 0.2885\n",
      "Epoch 24: Train Loss = 0.2866, Val Loss = 0.2884\n",
      "Epoch 25: Train Loss = 0.2865, Val Loss = 0.2877\n",
      "Epoch 26: Train Loss = 0.2858, Val Loss = 0.2877\n",
      "Epoch 27: Train Loss = 0.2851, Val Loss = 0.2880\n",
      "Epoch 28: Train Loss = 0.2850, Val Loss = 0.2867\n",
      "Epoch 29: Train Loss = 0.2848, Val Loss = 0.2876\n",
      "Epoch 30: Train Loss = 0.2846, Val Loss = 0.2868\n",
      "Epoch 31: Train Loss = 0.2843, Val Loss = 0.2860\n",
      "Epoch 32: Train Loss = 0.2839, Val Loss = 0.2860\n",
      "Epoch 33: Train Loss = 0.2836, Val Loss = 0.2853\n",
      "Epoch 34: Train Loss = 0.2832, Val Loss = 0.2855\n",
      "Epoch 35: Train Loss = 0.2832, Val Loss = 0.2861\n",
      "Epoch 36: Train Loss = 0.2828, Val Loss = 0.2848\n",
      "Epoch 37: Train Loss = 0.2826, Val Loss = 0.2852\n",
      "Epoch 38: Train Loss = 0.2822, Val Loss = 0.2846\n",
      "Epoch 39: Train Loss = 0.2818, Val Loss = 0.2845\n",
      "Epoch 40: Train Loss = 0.2817, Val Loss = 0.2846\n",
      "Epoch 41: Train Loss = 0.2817, Val Loss = 0.2850\n",
      "Epoch 42: Train Loss = 0.2814, Val Loss = 0.2851\n",
      "Epoch 43: Train Loss = 0.2812, Val Loss = 0.2839\n",
      "Epoch 44: Train Loss = 0.2810, Val Loss = 0.2845\n",
      "Epoch 45: Train Loss = 0.2808, Val Loss = 0.2838\n",
      "Epoch 46: Train Loss = 0.2807, Val Loss = 0.2829\n",
      "Epoch 47: Train Loss = 0.2803, Val Loss = 0.2837\n",
      "Epoch 48: Train Loss = 0.2801, Val Loss = 0.2839\n",
      "Epoch 49: Train Loss = 0.2802, Val Loss = 0.2833\n",
      "Epoch 50: Train Loss = 0.2796, Val Loss = 0.2829\n",
      "Epoch 51: Train Loss = 0.2796, Val Loss = 0.2835\n",
      "Epoch 52: Train Loss = 0.2799, Val Loss = 0.2834\n",
      "Epoch 53: Train Loss = 0.2797, Val Loss = 0.2830\n",
      "Epoch 54: Train Loss = 0.2793, Val Loss = 0.2823\n",
      "Epoch 55: Train Loss = 0.2791, Val Loss = 0.2827\n",
      "Epoch 56: Train Loss = 0.2789, Val Loss = 0.2825\n",
      "Epoch 57: Train Loss = 0.2790, Val Loss = 0.2824\n",
      "Epoch 58: Train Loss = 0.2787, Val Loss = 0.2822\n",
      "Epoch 59: Train Loss = 0.2786, Val Loss = 0.2825\n",
      "Epoch 60: Train Loss = 0.2784, Val Loss = 0.2817\n",
      "Epoch 61: Train Loss = 0.2782, Val Loss = 0.2824\n",
      "Epoch 62: Train Loss = 0.2783, Val Loss = 0.2820\n",
      "Epoch 63: Train Loss = 0.2783, Val Loss = 0.2828\n",
      "Epoch 64: Train Loss = 0.2781, Val Loss = 0.2824\n",
      "Epoch 65: Train Loss = 0.2780, Val Loss = 0.2821\n",
      "Epoch 66: Train Loss = 0.2779, Val Loss = 0.2819\n",
      "Epoch 67: Train Loss = 0.2778, Val Loss = 0.2816\n",
      "Epoch 68: Train Loss = 0.2775, Val Loss = 0.2811\n",
      "Epoch 69: Train Loss = 0.2774, Val Loss = 0.2815\n",
      "Epoch 70: Train Loss = 0.2772, Val Loss = 0.2822\n",
      "Epoch 71: Train Loss = 0.2771, Val Loss = 0.2813\n",
      "Epoch 72: Train Loss = 0.2769, Val Loss = 0.2819\n",
      "Epoch 73: Train Loss = 0.2771, Val Loss = 0.2820\n",
      "Epoch 74: Train Loss = 0.2769, Val Loss = 0.2814\n",
      "Epoch 75: Train Loss = 0.2768, Val Loss = 0.2817\n",
      "Epoch 76: Train Loss = 0.2767, Val Loss = 0.2813\n",
      "Epoch 77: Train Loss = 0.2767, Val Loss = 0.2817\n",
      "Epoch 78: Train Loss = 0.2765, Val Loss = 0.2818\n",
      "Epoch 79: Train Loss = 0.2763, Val Loss = 0.2816\n"
     ]
    }
   ],
   "source": [
    "# Set up save directory\n",
    "subdir = experiment_name + time.strftime(\"_%Y%m%d_%H%M%S\")\n",
    "save_dir = Path(job[\"config\"][\"model_name\"]) / subdir\n",
    "save_dir.mkdir(parents=True, exist_ok=True)\n",
    "\n",
    "train_loss_history = []\n",
    "val_loss_history = []\n",
    "pos_dist_weight = 1.0\n",
    "NUM_EPOCHS = 80\n",
    "min_val_loss = float(\"inf\")\n",
    "job['config']['epochs'] = NUM_EPOCHS\n",
    "for epoch in range(NUM_EPOCHS):\n",
    "    # ---- Training ----\n",
    "    model.train()\n",
    "    train_losses = []\n",
    "    for batch_idx, (anchors, positives, negatives) in enumerate(train_dataloader):\n",
    "        anchors, positives, negatives = anchors.to(device), positives.to(device), negatives.to(device)\n",
    "        optimizer.zero_grad()\n",
    "        anchor_out = model(anchors)\n",
    "\n",
    "        loss = loss_function(anchor_out, positives, negatives) \n",
    "        loss.backward()\n",
    "        optimizer.step()\n",
    "        train_losses.append(loss.item())\n",
    "\n",
    "    train_loss_epoch = np.mean(train_losses)\n",
    "    train_loss_history.append(train_loss_epoch)\n",
    "\n",
    "    # ---- Validation ----\n",
    "    model.eval()\n",
    "    val_losses = []\n",
    "    with torch.no_grad():\n",
    "        for anchors, positives, negatives in val_dataloader:\n",
    "            anchors, positives, negatives = anchors.to(device), positives.to(device), negatives.to(device)\n",
    "            anchor_out = model(anchors)\n",
    "\n",
    "            loss = loss_function(anchor_out, positives, negatives) \n",
    "\n",
    "            val_losses.append(loss.item())\n",
    "\n",
    "    val_loss_epoch = np.mean(val_losses)\n",
    "    val_loss_history.append(val_loss_epoch)\n",
    "    if val_loss_epoch < min_val_loss:\n",
    "        min_val_loss = val_loss_epoch\n",
    "\n",
    "        # Save model trace\n",
    "        sample = torch.randn(1, 1024).to(device)\n",
    "        trace = torch.jit.trace(model, sample)\n",
    "        trace_path = save_dir / f\"{job['config']['model_name']}_traced.pth\"\n",
    "\n",
    "        torch.jit.save(trace, trace_path)\n",
    "        job[\"config\"][\"model_trace_path\"] = str(trace_path)\n",
    "\n",
    "        with open(save_dir / \"results.json\", \"w\") as f:\n",
    "            json.dump(job, f, indent=2)\n",
    "\n",
    "    print(f\"Epoch {epoch}: Train Loss = {train_loss_epoch:.4f}, Val Loss = {val_loss_epoch:.4f}\")\n",
    "\n",
    "job[\"results\"][\"training_loss\"] = train_loss_history\n",
    "job[\"results\"][\"validation_loss\"] = val_loss_history"
   ]
  },
  {
   "cell_type": "code",
   "execution_count": 9,
   "id": "a4af5e70",
   "metadata": {},
   "outputs": [
    {
     "data": {
      "image/png": "[encoded data removed]",
      "text/plain": [
       "<Figure size 640x480 with 1 Axes>"
      ]
     },
     "metadata": {},
     "output_type": "display_data"
    }
   ],
   "source": [
    "# Plot train and validation loss\n",
    "import matplotlib.pyplot as plt\n",
    "\n",
    "plt.plot(train_loss_history, label=\"Train Loss\")\n",
    "plt.plot(val_loss_history, label=\"Validation Loss\")\n",
    "plt.xlabel(\"Epoch\")\n",
    "plt.ylabel(\"Loss\")\n",
    "plt.legend()\n",
    "# Add a notation where the minimal val loss occurred and amount\n",
    "min_val_loss = min(val_loss_history)\n",
    "min_val_loss_epoch = val_loss_history.index(min_val_loss)\n",
    "\n",
    "# Mark the point\n",
    "plt.plot(min_val_loss_epoch, min_val_loss, \"ro\", markersize=8)\n",
    "\n",
    "# Add annotation with box\n",
    "plt.annotate(\n",
    "    f\"Min: {min_val_loss:.4f}\",\n",
    "    xy=(min_val_loss_epoch, min_val_loss),\n",
    "    xytext=(10, 10),  # Offset in points\n",
    "    textcoords=\"offset points\",\n",
    "    bbox=dict(boxstyle=\"round,pad=0.5\", facecolor=\"orange\", alpha=0.3),\n",
    "    # arrowprops=dict(arrowstyle=\"->\", connectionstyle=\"arc3,rad=0\"),\n",
    ")\n",
    "\n",
    "plt.title(\"Training and Validation Loss\")\n",
    "plt.savefig(save_dir / \"loss_curve.png\")  # Save BEFORE show\n",
    "plt.show()"
   ]
  },
  {
   "cell_type": "code",
   "execution_count": 10,
   "id": "59a416b8",
   "metadata": {},
   "outputs": [
    {
     "name": "stdout",
     "output_type": "stream",
     "text": [
      "=== AFTER TRAINING (Validation set, Anchor mapped, Pos/Neg unchanged) ===\n",
      "Anchor-Positive distance: 0.2812 ± 0.0577\n",
      "Anchor-Negative distance: 0.2853 ± 0.0569\n",
      "Average margin: 0.0041\n",
      "Learned margin mean: 0.0041 ± 0.0693\n",
      "Learned margin median: 0.0038\n",
      "Distribution of margins: min=-0.2856, max=0.3198\n"
     ]
    },
    {
     "data": {
      "image/png": "[encoded data removed]",
      "text/plain": [
       "<Figure size 1500x500 with 3 Axes>"
      ]
     },
     "metadata": {},
     "output_type": "display_data"
    }
   ],
   "source": [
    "# Side by side boxplots of baseline distances to distances after training\n",
    "model.eval()\n",
    "for name, dataset in [(\"Validation\", val_ds)]:\n",
    "    ap_distances_after = []\n",
    "    an_distances_after = []\n",
    "\n",
    "    with torch.no_grad():\n",
    "        for anchor, pos, neg in list(dataset):\n",
    "            anchor = anchor.to(device).unsqueeze(0)\n",
    "\n",
    "            anchor_emb = model(anchor)  # Only transform anchor\n",
    "\n",
    "            # Compare to raw positive/negative (no transformation)\n",
    "            ap_dist = 1 - F.cosine_similarity(anchor_emb, pos.unsqueeze(0).to(device)).item()\n",
    "            an_dist = 1 - F.cosine_similarity(anchor_emb, neg.unsqueeze(0).to(device)).item()\n",
    "\n",
    "            ap_distances_after.append(ap_dist)\n",
    "            an_distances_after.append(an_dist)\n",
    "\n",
    "    anchor_positive_mean_distance = np.mean(ap_distances_after)\n",
    "    anchor_negative_mean_distance = np.mean(an_distances_after)\n",
    "    margins_trained = [an - ap for ap, an in zip(ap_distances_after, an_distances_after)]\n",
    "    print(f\"=== AFTER TRAINING ({name} set, Anchor mapped, Pos/Neg unchanged) ===\")\n",
    "    print(f\"Anchor-Positive distance: {anchor_positive_mean_distance:.4f} ± {np.std(ap_distances_after):.4f}\")\n",
    "    print(f\"Anchor-Negative distance: {anchor_negative_mean_distance:.4f} ± {np.std(an_distances_after):.4f}\")\n",
    "    print(f\"Average margin: {anchor_negative_mean_distance - anchor_positive_mean_distance:.4f}\")\n",
    "    print(f\"Learned margin mean: {np.mean(margins_trained):.4f} ± {np.std(margins_trained):.4f}\")\n",
    "    print(f\"Learned margin median: {np.median(margins_trained):.4f}\")\n",
    "    print(f\"Distribution of margins: min={np.min(margins_trained):.4f}, max={np.max(margins_trained):.4f}\")\n",
    "\n",
    "    # Box plot the results\n",
    "    job['results']['trained'] = {\n",
    "        'distances_to_positive': ap_distances_after,\n",
    "        'distances_to_negative': an_distances_after,\n",
    "        'margins': [an - ap for ap, an in zip(ap_distances_after, an_distances_after)]\n",
    "    }\n",
    "    # Box plot ap_distances against ap_distances_after\n",
    "    fig, axes = plt.subplots(1, 3, figsize=(15, 5))\n",
    "    axes[0].boxplot([baseline_results['distances_to_positive'], job['results']['trained']['distances_to_positive']], tick_labels=['Baseline', 'Trained Model'])\n",
    "    axes[0].set_ylabel('Cosine Distance')\n",
    "    axes[0].set_title(f\"Anchor-Positive Distances ({name} set)\")\n",
    "\n",
    "    axes[1].boxplot([baseline_results['distances_to_negative'], job['results']['trained']['distances_to_negative']], tick_labels=['Baseline', 'Trained Model'])\n",
    "    axes[1].set_ylabel('Cosine Distance')\n",
    "    axes[1].set_title(f\"Anchor-Negative Distances ({name} set)\")\n",
    "\n",
    "    axes[2].boxplot([baseline_results['margins'], job['results']['trained']['margins']], tick_labels=['Baseline', 'Trained Model'])\n",
    "    axes[2].set_ylabel('Distance(Negative) - Distance(Positive)')\n",
    "    axes[2].set_title(f\"Margins ({name} set)\")\n",
    "\n",
    "    plt.tight_layout()\n",
    "    plt.savefig(save_dir / \"val_distances_boxplot.png\")  # Save BEFORE show\n",
    "    plt.show()"
   ]
  },
  {
   "cell_type": "code",
   "execution_count": 11,
   "id": "63437015",
   "metadata": {},
   "outputs": [
    {
     "name": "stdout",
     "output_type": "stream",
     "text": [
      "==================== Experiment Configuration ====================\n",
      "dataset: ../data/dataset/nn/val_ds_add_prev_2.jsonl\n",
      "table: qwen06_chunks\n",
      "target_column: vector\n",
      "metric: IP\n",
      "embedder: Qwen/Qwen3-Embedding-0.6B\n",
      "normalize: True\n",
      "nn: BaselineEmbeddingMapper/cos_adam_80epochs_20251030_111232/BaselineEmbeddingMapper_traced.pth\n",
      "strategy: multiple_query_expansion\n",
      "query_expanders: ['add_prev_2']\n",
      "interleave: True\n",
      "batch_size: 16\n",
      "top_k: 1000\n",
      "output_path: ../experiments/nn/results/\n",
      "output_search_results: False\n",
      "plot_label: cos_adam_80epochs\n",
      "============================================================\n",
      "\n",
      "Collection qwen06_chunks loaded.\n",
      "Starting 11 database query workers\n"
     ]
    },
    {
     "name": "stderr",
     "output_type": "stream",
     "text": [
      "Embedding (GPU):   0%|          | 0/5640 [00:00<?, ?it/s]"
     ]
    },
    {
     "name": "stdout",
     "output_type": "stream",
     "text": [
      "Applying neural network model to batch starting at index 0\n",
      "In no grad context\n",
      "Vector columns: ['vector', 'vector_original', 'vector_add_prev_2']\n"
     ]
    },
    {
     "name": "stderr",
     "output_type": "stream",
     "text": [
      "Embedding (GPU):   0%|          | 16/5640 [00:03<18:43,  5.01it/s]"
     ]
    },
    {
     "name": "stdout",
     "output_type": "stream",
     "text": [
      "Applying neural network model to batch starting at index 16\n",
      "In no grad context\n",
      "Vector columns: ['vector', 'vector_original', 'vector_add_prev_2']\n"
     ]
    },
    {
     "name": "stderr",
     "output_type": "stream",
     "text": [
      "Embedding (GPU):   1%|          | 32/5640 [00:04<12:19,  7.58it/s]"
     ]
    },
    {
     "name": "stdout",
     "output_type": "stream",
     "text": [
      "Applying neural network model to batch starting at index 32\n",
      "In no grad context\n",
      "Vector columns: ['vector', 'vector_original', 'vector_add_prev_2']\n"
     ]
    },
    {
     "name": "stderr",
     "output_type": "stream",
     "text": [
      "Embedding (GPU):   1%|          | 48/5640 [00:06<10:54,  8.55it/s]"
     ]
    },
    {
     "name": "stdout",
     "output_type": "stream",
     "text": [
      "Applying neural network model to batch starting at index 48\n",
      "In no grad context\n",
      "Vector columns: ['vector', 'vector_original', 'vector_add_prev_2']\n"
     ]
    },
    {
     "name": "stderr",
     "output_type": "stream",
     "text": [
      "Embedding (GPU):   1%|          | 64/5640 [00:08<11:44,  7.91it/s]"
     ]
    },
    {
     "name": "stdout",
     "output_type": "stream",
     "text": [
      "Applying neural network model to batch starting at index 64\n",
      "In no grad context\n",
      "Vector columns: ['vector', 'vector_original', 'vector_add_prev_2']\n"
     ]
    },
    {
     "name": "stderr",
     "output_type": "stream",
     "text": [
      "Embedding (GPU):   1%|▏         | 80/5640 [00:10<10:54,  8.50it/s]"
     ]
    },
    {
     "name": "stdout",
     "output_type": "stream",
     "text": [
      "Applying neural network model to batch starting at index 80\n",
      "In no grad context\n",
      "Vector columns: ['vector', 'vector_original', 'vector_add_prev_2']\n"
     ]
    },
    {
     "name": "stderr",
     "output_type": "stream",
     "text": [
      "Embedding (GPU):   2%|▏         | 96/5640 [00:12<11:06,  8.32it/s]"
     ]
    },
    {
     "name": "stdout",
     "output_type": "stream",
     "text": [
      "Applying neural network model to batch starting at index 96\n",
      "In no grad context\n",
      "Vector columns: ['vector', 'vector_original', 'vector_add_prev_2']\n"
     ]
    },
    {
     "name": "stderr",
     "output_type": "stream",
     "text": [
      "Embedding (GPU):   2%|▏         | 112/5640 [00:14<12:00,  7.67it/s]"
     ]
    },
    {
     "name": "stdout",
     "output_type": "stream",
     "text": [
      "Applying neural network model to batch starting at index 112\n",
      "In no grad context\n",
      "Vector columns: ['vector', 'vector_original', 'vector_add_prev_2']\n"
     ]
    },
    {
     "name": "stderr",
     "output_type": "stream",
     "text": [
      "Embedding (GPU):   2%|▏         | 128/5640 [00:16<11:58,  7.67it/s]"
     ]
    },
    {
     "name": "stdout",
     "output_type": "stream",
     "text": [
      "Applying neural network model to batch starting at index 128\n",
      "In no grad context\n",
      "Vector columns: ['vector', 'vector_original', 'vector_add_prev_2']\n"
     ]
    },
    {
     "name": "stderr",
     "output_type": "stream",
     "text": [
      "Embedding (GPU):   3%|▎         | 144/5640 [00:20<14:48,  6.18it/s]"
     ]
    },
    {
     "name": "stdout",
     "output_type": "stream",
     "text": [
      "Applying neural network model to batch starting at index 144\n",
      "In no grad context\n",
      "Vector columns: ['vector', 'vector_original', 'vector_add_prev_2']\n"
     ]
    },
    {
     "name": "stderr",
     "output_type": "stream",
     "text": [
      "Embedding (GPU):   3%|▎         | 160/5640 [00:21<13:17,  6.87it/s]"
     ]
    },
    {
     "name": "stdout",
     "output_type": "stream",
     "text": [
      "Applying neural network model to batch starting at index 160\n",
      "In no grad context\n",
      "Vector columns: ['vector', 'vector_original', 'vector_add_prev_2']\n"
     ]
    },
    {
     "name": "stderr",
     "output_type": "stream",
     "text": [
      "Embedding (GPU):   3%|▎         | 176/5640 [00:23<12:11,  7.47it/s]"
     ]
    },
    {
     "name": "stdout",
     "output_type": "stream",
     "text": [
      "Applying neural network model to batch starting at index 176\n",
      "In no grad context\n",
      "Vector columns: ['vector', 'vector_original', 'vector_add_prev_2']\n"
     ]
    },
    {
     "name": "stderr",
     "output_type": "stream",
     "text": [
      "Embedding (GPU):   3%|▎         | 192/5640 [00:25<11:43,  7.74it/s]"
     ]
    },
    {
     "name": "stdout",
     "output_type": "stream",
     "text": [
      "Applying neural network model to batch starting at index 192\n",
      "In no grad context\n",
      "Vector columns: ['vector', 'vector_original', 'vector_add_prev_2']\n"
     ]
    },
    {
     "name": "stderr",
     "output_type": "stream",
     "text": [
      "Embedding (GPU):   4%|▎         | 208/5640 [00:27<10:35,  8.54it/s]"
     ]
    },
    {
     "name": "stdout",
     "output_type": "stream",
     "text": [
      "Applying neural network model to batch starting at index 208\n",
      "In no grad context\n",
      "Vector columns: ['vector', 'vector_original', 'vector_add_prev_2']\n"
     ]
    },
    {
     "name": "stderr",
     "output_type": "stream",
     "text": [
      "Embedding (GPU):   4%|▍         | 224/5640 [00:28<10:39,  8.47it/s]"
     ]
    },
    {
     "name": "stdout",
     "output_type": "stream",
     "text": [
      "Applying neural network model to batch starting at index 224\n",
      "In no grad context\n",
      "Vector columns: ['vector', 'vector_original', 'vector_add_prev_2']\n"
     ]
    },
    {
     "name": "stderr",
     "output_type": "stream",
     "text": [
      "Embedding (GPU):   4%|▍         | 240/5640 [00:31<12:25,  7.25it/s]"
     ]
    },
    {
     "name": "stdout",
     "output_type": "stream",
     "text": [
      "Applying neural network model to batch starting at index 240\n",
      "In no grad context\n",
      "Vector columns: ['vector', 'vector_original', 'vector_add_prev_2']\n"
     ]
    },
    {
     "name": "stderr",
     "output_type": "stream",
     "text": [
      "Embedding (GPU):   5%|▍         | 256/5640 [00:33<11:36,  7.73it/s]"
     ]
    },
    {
     "name": "stdout",
     "output_type": "stream",
     "text": [
      "Applying neural network model to batch starting at index 256\n",
      "In no grad context\n",
      "Vector columns: ['vector', 'vector_original', 'vector_add_prev_2']\n"
     ]
    },
    {
     "name": "stderr",
     "output_type": "stream",
     "text": [
      "Embedding (GPU):   5%|▍         | 272/5640 [00:35<10:58,  8.15it/s]"
     ]
    },
    {
     "name": "stdout",
     "output_type": "stream",
     "text": [
      "Applying neural network model to batch starting at index 272\n",
      "In no grad context\n",
      "Vector columns: ['vector', 'vector_original', 'vector_add_prev_2']\n"
     ]
    },
    {
     "name": "stderr",
     "output_type": "stream",
     "text": [
      "Embedding (GPU):   5%|▌         | 288/5640 [00:37<10:45,  8.29it/s]"
     ]
    },
    {
     "name": "stdout",
     "output_type": "stream",
     "text": [
      "Applying neural network model to batch starting at index 288\n",
      "In no grad context\n",
      "Vector columns: ['vector', 'vector_original', 'vector_add_prev_2']\n"
     ]
    },
    {
     "name": "stderr",
     "output_type": "stream",
     "text": [
      "Embedding (GPU):   5%|▌         | 304/5640 [00:39<10:50,  8.21it/s]"
     ]
    },
    {
     "name": "stdout",
     "output_type": "stream",
     "text": [
      "Applying neural network model to batch starting at index 304\n",
      "In no grad context\n",
      "Vector columns: ['vector', 'vector_original', 'vector_add_prev_2']\n"
     ]
    },
    {
     "name": "stderr",
     "output_type": "stream",
     "text": [
      "Embedding (GPU):   6%|▌         | 320/5640 [00:41<11:14,  7.88it/s]"
     ]
    },
    {
     "name": "stdout",
     "output_type": "stream",
     "text": [
      "Applying neural network model to batch starting at index 320\n",
      "In no grad context\n",
      "Vector columns: ['vector', 'vector_original', 'vector_add_prev_2']\n"
     ]
    },
    {
     "name": "stderr",
     "output_type": "stream",
     "text": [
      "Embedding (GPU):   6%|▌         | 336/5640 [00:43<11:23,  7.76it/s]"
     ]
    },
    {
     "name": "stdout",
     "output_type": "stream",
     "text": [
      "Applying neural network model to batch starting at index 336\n",
      "In no grad context\n",
      "Vector columns: ['vector', 'vector_original', 'vector_add_prev_2']\n"
     ]
    },
    {
     "name": "stderr",
     "output_type": "stream",
     "text": [
      "Embedding (GPU):   6%|▌         | 352/5640 [00:45<11:38,  7.57it/s]"
     ]
    },
    {
     "name": "stdout",
     "output_type": "stream",
     "text": [
      "Applying neural network model to batch starting at index 352\n",
      "In no grad context\n",
      "Vector columns: ['vector', 'vector_original', 'vector_add_prev_2']\n"
     ]
    },
    {
     "name": "stderr",
     "output_type": "stream",
     "text": [
      "Embedding (GPU):   7%|▋         | 368/5640 [00:47<11:21,  7.74it/s]"
     ]
    },
    {
     "name": "stdout",
     "output_type": "stream",
     "text": [
      "Applying neural network model to batch starting at index 368\n",
      "In no grad context\n",
      "Vector columns: ['vector', 'vector_original', 'vector_add_prev_2']\n"
     ]
    },
    {
     "name": "stderr",
     "output_type": "stream",
     "text": [
      "Embedding (GPU):   7%|▋         | 384/5640 [00:51<13:23,  6.54it/s]"
     ]
    },
    {
     "name": "stdout",
     "output_type": "stream",
     "text": [
      "Applying neural network model to batch starting at index 384\n",
      "In no grad context\n",
      "Vector columns: ['vector', 'vector_original', 'vector_add_prev_2']\n"
     ]
    },
    {
     "name": "stderr",
     "output_type": "stream",
     "text": [
      "Embedding (GPU):   7%|▋         | 400/5640 [00:53<13:19,  6.55it/s]"
     ]
    },
    {
     "name": "stdout",
     "output_type": "stream",
     "text": [
      "Applying neural network model to batch starting at index 400\n",
      "In no grad context\n",
      "Vector columns: ['vector', 'vector_original', 'vector_add_prev_2']\n"
     ]
    },
    {
     "name": "stderr",
     "output_type": "stream",
     "text": [
      "Embedding (GPU):   7%|▋         | 416/5640 [00:55<13:10,  6.61it/s]"
     ]
    },
    {
     "name": "stdout",
     "output_type": "stream",
     "text": [
      "Applying neural network model to batch starting at index 416\n",
      "In no grad context\n",
      "Vector columns: ['vector', 'vector_original', 'vector_add_prev_2']\n"
     ]
    },
    {
     "name": "stderr",
     "output_type": "stream",
     "text": [
      "Embedding (GPU):   8%|▊         | 432/5640 [00:58<13:07,  6.61it/s]"
     ]
    },
    {
     "name": "stdout",
     "output_type": "stream",
     "text": [
      "Applying neural network model to batch starting at index 432\n",
      "In no grad context\n",
      "Vector columns: ['vector', 'vector_original', 'vector_add_prev_2']\n"
     ]
    },
    {
     "name": "stderr",
     "output_type": "stream",
     "text": [
      "Embedding (GPU):   8%|▊         | 448/5640 [01:00<12:14,  7.07it/s]"
     ]
    },
    {
     "name": "stdout",
     "output_type": "stream",
     "text": [
      "Applying neural network model to batch starting at index 448\n",
      "In no grad context\n",
      "Vector columns: ['vector', 'vector_original', 'vector_add_prev_2']\n"
     ]
    },
    {
     "name": "stderr",
     "output_type": "stream",
     "text": [
      "Embedding (GPU):   8%|▊         | 464/5640 [01:03<13:49,  6.24it/s]"
     ]
    },
    {
     "name": "stdout",
     "output_type": "stream",
     "text": [
      "Applying neural network model to batch starting at index 464\n",
      "In no grad context\n",
      "Vector columns: ['vector', 'vector_original', 'vector_add_prev_2']\n"
     ]
    },
    {
     "name": "stderr",
     "output_type": "stream",
     "text": [
      "Embedding (GPU):   9%|▊         | 480/5640 [01:05<13:36,  6.32it/s]"
     ]
    },
    {
     "name": "stdout",
     "output_type": "stream",
     "text": [
      "Applying neural network model to batch starting at index 480\n",
      "In no grad context\n",
      "Vector columns: ['vector', 'vector_original', 'vector_add_prev_2']\n"
     ]
    },
    {
     "name": "stderr",
     "output_type": "stream",
     "text": [
      "Embedding (GPU):   9%|▉         | 496/5640 [01:08<12:52,  6.66it/s]"
     ]
    },
    {
     "name": "stdout",
     "output_type": "stream",
     "text": [
      "Applying neural network model to batch starting at index 496\n",
      "In no grad context\n",
      "Vector columns: ['vector', 'vector_original', 'vector_add_prev_2']\n"
     ]
    },
    {
     "name": "stderr",
     "output_type": "stream",
     "text": [
      "Embedding (GPU):   9%|▉         | 512/5640 [01:09<11:57,  7.14it/s]"
     ]
    },
    {
     "name": "stdout",
     "output_type": "stream",
     "text": [
      "Applying neural network model to batch starting at index 512\n",
      "In no grad context\n",
      "Vector columns: ['vector', 'vector_original', 'vector_add_prev_2']\n"
     ]
    },
    {
     "name": "stderr",
     "output_type": "stream",
     "text": [
      "Embedding (GPU):   9%|▉         | 528/5640 [01:12<12:09,  7.00it/s]"
     ]
    },
    {
     "name": "stdout",
     "output_type": "stream",
     "text": [
      "Applying neural network model to batch starting at index 528\n",
      "In no grad context\n",
      "Vector columns: ['vector', 'vector_original', 'vector_add_prev_2']\n"
     ]
    },
    {
     "name": "stderr",
     "output_type": "stream",
     "text": [
      "Embedding (GPU):  10%|▉         | 544/5640 [01:13<11:06,  7.65it/s]"
     ]
    },
    {
     "name": "stdout",
     "output_type": "stream",
     "text": [
      "Applying neural network model to batch starting at index 544\n",
      "In no grad context\n",
      "Vector columns: ['vector', 'vector_original', 'vector_add_prev_2']\n"
     ]
    },
    {
     "name": "stderr",
     "output_type": "stream",
     "text": [
      "Embedding (GPU):  10%|▉         | 560/5640 [01:17<13:42,  6.18it/s]"
     ]
    },
    {
     "name": "stdout",
     "output_type": "stream",
     "text": [
      "Applying neural network model to batch starting at index 560\n",
      "In no grad context\n",
      "Vector columns: ['vector', 'vector_original', 'vector_add_prev_2']\n"
     ]
    },
    {
     "name": "stderr",
     "output_type": "stream",
     "text": [
      "Embedding (GPU):  10%|█         | 576/5640 [01:19<12:46,  6.61it/s]"
     ]
    },
    {
     "name": "stdout",
     "output_type": "stream",
     "text": [
      "Applying neural network model to batch starting at index 576\n",
      "In no grad context\n",
      "Vector columns: ['vector', 'vector_original', 'vector_add_prev_2']\n"
     ]
    },
    {
     "name": "stderr",
     "output_type": "stream",
     "text": [
      "Embedding (GPU):  10%|█         | 592/5640 [01:21<11:27,  7.34it/s]"
     ]
    },
    {
     "name": "stdout",
     "output_type": "stream",
     "text": [
      "Applying neural network model to batch starting at index 592\n",
      "In no grad context\n",
      "Vector columns: ['vector', 'vector_original', 'vector_add_prev_2']\n"
     ]
    },
    {
     "name": "stderr",
     "output_type": "stream",
     "text": [
      "Embedding (GPU):  11%|█         | 608/5640 [01:23<11:34,  7.25it/s]"
     ]
    },
    {
     "name": "stdout",
     "output_type": "stream",
     "text": [
      "Applying neural network model to batch starting at index 608\n",
      "In no grad context\n",
      "Vector columns: ['vector', 'vector_original', 'vector_add_prev_2']\n"
     ]
    },
    {
     "name": "stderr",
     "output_type": "stream",
     "text": [
      "Embedding (GPU):  11%|█         | 624/5640 [01:25<10:29,  7.97it/s]"
     ]
    },
    {
     "name": "stdout",
     "output_type": "stream",
     "text": [
      "Applying neural network model to batch starting at index 624\n",
      "In no grad context\n",
      "Vector columns: ['vector', 'vector_original', 'vector_add_prev_2']\n"
     ]
    },
    {
     "name": "stderr",
     "output_type": "stream",
     "text": [
      "Embedding (GPU):  11%|█▏        | 640/5640 [01:27<10:42,  7.79it/s]"
     ]
    },
    {
     "name": "stdout",
     "output_type": "stream",
     "text": [
      "Applying neural network model to batch starting at index 640\n",
      "In no grad context\n",
      "Vector columns: ['vector', 'vector_original', 'vector_add_prev_2']\n"
     ]
    },
    {
     "name": "stderr",
     "output_type": "stream",
     "text": [
      "Embedding (GPU):  12%|█▏        | 656/5640 [01:28<10:00,  8.30it/s]"
     ]
    },
    {
     "name": "stdout",
     "output_type": "stream",
     "text": [
      "Applying neural network model to batch starting at index 656\n",
      "In no grad context\n",
      "Vector columns: ['vector', 'vector_original', 'vector_add_prev_2']\n"
     ]
    },
    {
     "name": "stderr",
     "output_type": "stream",
     "text": [
      "Embedding (GPU):  12%|█▏        | 672/5640 [01:31<10:58,  7.54it/s]"
     ]
    },
    {
     "name": "stdout",
     "output_type": "stream",
     "text": [
      "Applying neural network model to batch starting at index 672\n",
      "In no grad context\n",
      "Vector columns: ['vector', 'vector_original', 'vector_add_prev_2']\n"
     ]
    },
    {
     "name": "stderr",
     "output_type": "stream",
     "text": [
      "Embedding (GPU):  12%|█▏        | 688/5640 [01:33<10:39,  7.74it/s]"
     ]
    },
    {
     "name": "stdout",
     "output_type": "stream",
     "text": [
      "Applying neural network model to batch starting at index 688\n",
      "In no grad context\n",
      "Vector columns: ['vector', 'vector_original', 'vector_add_prev_2']\n"
     ]
    },
    {
     "name": "stderr",
     "output_type": "stream",
     "text": [
      "Embedding (GPU):  12%|█▏        | 704/5640 [01:35<10:09,  8.10it/s]"
     ]
    },
    {
     "name": "stdout",
     "output_type": "stream",
     "text": [
      "Applying neural network model to batch starting at index 704\n",
      "In no grad context\n",
      "Vector columns: ['vector', 'vector_original', 'vector_add_prev_2']\n"
     ]
    },
    {
     "name": "stderr",
     "output_type": "stream",
     "text": [
      "Embedding (GPU):  13%|█▎        | 720/5640 [01:38<11:36,  7.06it/s]"
     ]
    },
    {
     "name": "stdout",
     "output_type": "stream",
     "text": [
      "Applying neural network model to batch starting at index 720\n",
      "In no grad context\n",
      "Vector columns: ['vector', 'vector_original', 'vector_add_prev_2']\n"
     ]
    },
    {
     "name": "stderr",
     "output_type": "stream",
     "text": [
      "Embedding (GPU):  13%|█▎        | 736/5640 [01:41<12:33,  6.51it/s]"
     ]
    },
    {
     "name": "stdout",
     "output_type": "stream",
     "text": [
      "Applying neural network model to batch starting at index 736\n",
      "In no grad context\n",
      "Vector columns: ['vector', 'vector_original', 'vector_add_prev_2']\n"
     ]
    },
    {
     "name": "stderr",
     "output_type": "stream",
     "text": [
      "Embedding (GPU):  13%|█▎        | 752/5640 [01:42<11:39,  6.99it/s]"
     ]
    },
    {
     "name": "stdout",
     "output_type": "stream",
     "text": [
      "Applying neural network model to batch starting at index 752\n",
      "In no grad context\n",
      "Vector columns: ['vector', 'vector_original', 'vector_add_prev_2']\n"
     ]
    },
    {
     "name": "stderr",
     "output_type": "stream",
     "text": [
      "Embedding (GPU):  14%|█▎        | 768/5640 [01:45<12:14,  6.63it/s]"
     ]
    },
    {
     "name": "stdout",
     "output_type": "stream",
     "text": [
      "Applying neural network model to batch starting at index 768\n",
      "In no grad context\n",
      "Vector columns: ['vector', 'vector_original', 'vector_add_prev_2']\n"
     ]
    },
    {
     "name": "stderr",
     "output_type": "stream",
     "text": [
      "Embedding (GPU):  14%|█▍        | 784/5640 [01:47<10:57,  7.38it/s]"
     ]
    },
    {
     "name": "stdout",
     "output_type": "stream",
     "text": [
      "Applying neural network model to batch starting at index 784\n",
      "In no grad context\n",
      "Vector columns: ['vector', 'vector_original', 'vector_add_prev_2']\n"
     ]
    },
    {
     "name": "stderr",
     "output_type": "stream",
     "text": [
      "Embedding (GPU):  14%|█▍        | 800/5640 [01:48<10:16,  7.85it/s]"
     ]
    },
    {
     "name": "stdout",
     "output_type": "stream",
     "text": [
      "Applying neural network model to batch starting at index 800\n",
      "In no grad context\n",
      "Vector columns: ['vector', 'vector_original', 'vector_add_prev_2']\n"
     ]
    },
    {
     "name": "stderr",
     "output_type": "stream",
     "text": [
      "Embedding (GPU):  14%|█▍        | 816/5640 [01:52<12:32,  6.41it/s]"
     ]
    },
    {
     "name": "stdout",
     "output_type": "stream",
     "text": [
      "Applying neural network model to batch starting at index 816\n",
      "In no grad context\n",
      "Vector columns: ['vector', 'vector_original', 'vector_add_prev_2']\n"
     ]
    },
    {
     "name": "stderr",
     "output_type": "stream",
     "text": [
      "Embedding (GPU):  15%|█▍        | 832/5640 [01:53<10:46,  7.43it/s]"
     ]
    },
    {
     "name": "stdout",
     "output_type": "stream",
     "text": [
      "Applying neural network model to batch starting at index 832\n",
      "In no grad context\n",
      "Vector columns: ['vector', 'vector_original', 'vector_add_prev_2']\n"
     ]
    },
    {
     "name": "stderr",
     "output_type": "stream",
     "text": [
      "Embedding (GPU):  15%|█▌        | 848/5640 [01:55<10:27,  7.64it/s]"
     ]
    },
    {
     "name": "stdout",
     "output_type": "stream",
     "text": [
      "Applying neural network model to batch starting at index 848\n",
      "In no grad context\n",
      "Vector columns: ['vector', 'vector_original', 'vector_add_prev_2']\n"
     ]
    },
    {
     "name": "stderr",
     "output_type": "stream",
     "text": [
      "Embedding (GPU):  15%|█▌        | 864/5640 [01:58<11:25,  6.96it/s]"
     ]
    },
    {
     "name": "stdout",
     "output_type": "stream",
     "text": [
      "Applying neural network model to batch starting at index 864\n",
      "In no grad context\n",
      "Vector columns: ['vector', 'vector_original', 'vector_add_prev_2']\n"
     ]
    },
    {
     "name": "stderr",
     "output_type": "stream",
     "text": [
      "Embedding (GPU):  16%|█▌        | 880/5640 [02:00<10:44,  7.39it/s]"
     ]
    },
    {
     "name": "stdout",
     "output_type": "stream",
     "text": [
      "Applying neural network model to batch starting at index 880\n",
      "In no grad context\n",
      "Vector columns: ['vector', 'vector_original', 'vector_add_prev_2']\n"
     ]
    },
    {
     "name": "stderr",
     "output_type": "stream",
     "text": [
      "Embedding (GPU):  16%|█▌        | 896/5640 [02:02<10:17,  7.68it/s]"
     ]
    },
    {
     "name": "stdout",
     "output_type": "stream",
     "text": [
      "Applying neural network model to batch starting at index 896\n",
      "In no grad context\n",
      "Vector columns: ['vector', 'vector_original', 'vector_add_prev_2']\n"
     ]
    },
    {
     "name": "stderr",
     "output_type": "stream",
     "text": [
      "Embedding (GPU):  16%|█▌        | 912/5640 [02:04<10:07,  7.79it/s]"
     ]
    },
    {
     "name": "stdout",
     "output_type": "stream",
     "text": [
      "Applying neural network model to batch starting at index 912\n",
      "In no grad context\n",
      "Vector columns: ['vector', 'vector_original', 'vector_add_prev_2']\n"
     ]
    },
    {
     "name": "stderr",
     "output_type": "stream",
     "text": [
      "Embedding (GPU):  16%|█▋        | 928/5640 [02:07<11:02,  7.11it/s]"
     ]
    },
    {
     "name": "stdout",
     "output_type": "stream",
     "text": [
      "Applying neural network model to batch starting at index 928\n",
      "In no grad context\n",
      "Vector columns: ['vector', 'vector_original', 'vector_add_prev_2']\n"
     ]
    },
    {
     "name": "stderr",
     "output_type": "stream",
     "text": [
      "Embedding (GPU):  17%|█▋        | 944/5640 [02:09<10:49,  7.23it/s]"
     ]
    },
    {
     "name": "stdout",
     "output_type": "stream",
     "text": [
      "Applying neural network model to batch starting at index 944\n",
      "In no grad context\n",
      "Vector columns: ['vector', 'vector_original', 'vector_add_prev_2']\n"
     ]
    },
    {
     "name": "stderr",
     "output_type": "stream",
     "text": [
      "Embedding (GPU):  17%|█▋        | 960/5640 [02:11<11:23,  6.85it/s]"
     ]
    },
    {
     "name": "stdout",
     "output_type": "stream",
     "text": [
      "Applying neural network model to batch starting at index 960\n",
      "In no grad context\n",
      "Vector columns: ['vector', 'vector_original', 'vector_add_prev_2']\n"
     ]
    },
    {
     "name": "stderr",
     "output_type": "stream",
     "text": [
      "Embedding (GPU):  17%|█▋        | 976/5640 [02:14<11:37,  6.68it/s]"
     ]
    },
    {
     "name": "stdout",
     "output_type": "stream",
     "text": [
      "Applying neural network model to batch starting at index 976\n",
      "In no grad context\n",
      "Vector columns: ['vector', 'vector_original', 'vector_add_prev_2']\n"
     ]
    },
    {
     "name": "stderr",
     "output_type": "stream",
     "text": [
      "Embedding (GPU):  18%|█▊        | 992/5640 [02:15<10:18,  7.52it/s]"
     ]
    },
    {
     "name": "stdout",
     "output_type": "stream",
     "text": [
      "Applying neural network model to batch starting at index 992\n",
      "In no grad context\n",
      "Vector columns: ['vector', 'vector_original', 'vector_add_prev_2']\n"
     ]
    },
    {
     "name": "stderr",
     "output_type": "stream",
     "text": [
      "Embedding (GPU):  18%|█▊        | 1008/5640 [02:18<10:29,  7.36it/s]"
     ]
    },
    {
     "name": "stdout",
     "output_type": "stream",
     "text": [
      "Applying neural network model to batch starting at index 1008\n",
      "In no grad context\n",
      "Vector columns: ['vector', 'vector_original', 'vector_add_prev_2']\n"
     ]
    },
    {
     "name": "stderr",
     "output_type": "stream",
     "text": [
      "Embedding (GPU):  18%|█▊        | 1024/5640 [02:20<10:28,  7.34it/s]"
     ]
    },
    {
     "name": "stdout",
     "output_type": "stream",
     "text": [
      "Applying neural network model to batch starting at index 1024\n",
      "In no grad context\n",
      "Vector columns: ['vector', 'vector_original', 'vector_add_prev_2']\n"
     ]
    },
    {
     "name": "stderr",
     "output_type": "stream",
     "text": [
      "Embedding (GPU):  18%|█▊        | 1040/5640 [02:23<11:13,  6.83it/s]"
     ]
    },
    {
     "name": "stdout",
     "output_type": "stream",
     "text": [
      "Applying neural network model to batch starting at index 1040\n",
      "In no grad context\n",
      "Vector columns: ['vector', 'vector_original', 'vector_add_prev_2']\n"
     ]
    },
    {
     "name": "stderr",
     "output_type": "stream",
     "text": [
      "Embedding (GPU):  19%|█▊        | 1056/5640 [02:24<09:24,  8.12it/s]"
     ]
    },
    {
     "name": "stdout",
     "output_type": "stream",
     "text": [
      "Applying neural network model to batch starting at index 1056\n",
      "In no grad context\n",
      "Vector columns: ['vector', 'vector_original', 'vector_add_prev_2']\n"
     ]
    },
    {
     "name": "stderr",
     "output_type": "stream",
     "text": [
      "Embedding (GPU):  19%|█▉        | 1072/5640 [02:25<09:08,  8.33it/s]"
     ]
    },
    {
     "name": "stdout",
     "output_type": "stream",
     "text": [
      "Applying neural network model to batch starting at index 1072\n",
      "In no grad context\n",
      "Vector columns: ['vector', 'vector_original', 'vector_add_prev_2']\n"
     ]
    },
    {
     "name": "stderr",
     "output_type": "stream",
     "text": [
      "Embedding (GPU):  19%|█▉        | 1088/5640 [02:28<09:29,  7.99it/s]"
     ]
    },
    {
     "name": "stdout",
     "output_type": "stream",
     "text": [
      "Applying neural network model to batch starting at index 1088\n",
      "In no grad context\n",
      "Vector columns: ['vector', 'vector_original', 'vector_add_prev_2']\n"
     ]
    },
    {
     "name": "stderr",
     "output_type": "stream",
     "text": [
      "Embedding (GPU):  20%|█▉        | 1104/5640 [02:30<09:59,  7.57it/s]"
     ]
    },
    {
     "name": "stdout",
     "output_type": "stream",
     "text": [
      "Applying neural network model to batch starting at index 1104\n",
      "In no grad context\n",
      "Vector columns: ['vector', 'vector_original', 'vector_add_prev_2']\n"
     ]
    },
    {
     "name": "stderr",
     "output_type": "stream",
     "text": [
      "Embedding (GPU):  20%|█▉        | 1120/5640 [02:32<10:15,  7.35it/s]"
     ]
    },
    {
     "name": "stdout",
     "output_type": "stream",
     "text": [
      "Applying neural network model to batch starting at index 1120\n",
      "In no grad context\n",
      "Vector columns: ['vector', 'vector_original', 'vector_add_prev_2']\n"
     ]
    },
    {
     "name": "stderr",
     "output_type": "stream",
     "text": [
      "Embedding (GPU):  20%|██        | 1136/5640 [02:34<08:52,  8.45it/s]"
     ]
    },
    {
     "name": "stdout",
     "output_type": "stream",
     "text": [
      "Applying neural network model to batch starting at index 1136\n",
      "In no grad context\n",
      "Vector columns: ['vector', 'vector_original', 'vector_add_prev_2']\n"
     ]
    },
    {
     "name": "stderr",
     "output_type": "stream",
     "text": [
      "Embedding (GPU):  20%|██        | 1152/5640 [02:36<09:16,  8.06it/s]"
     ]
    },
    {
     "name": "stdout",
     "output_type": "stream",
     "text": [
      "Applying neural network model to batch starting at index 1152\n",
      "In no grad context\n",
      "Vector columns: ['vector', 'vector_original', 'vector_add_prev_2']\n"
     ]
    },
    {
     "name": "stderr",
     "output_type": "stream",
     "text": [
      "Embedding (GPU):  21%|██        | 1168/5640 [02:37<08:51,  8.42it/s]"
     ]
    },
    {
     "name": "stdout",
     "output_type": "stream",
     "text": [
      "Applying neural network model to batch starting at index 1168\n",
      "In no grad context\n",
      "Vector columns: ['vector', 'vector_original', 'vector_add_prev_2']\n"
     ]
    },
    {
     "name": "stderr",
     "output_type": "stream",
     "text": [
      "Embedding (GPU):  21%|██        | 1184/5640 [02:42<12:07,  6.12it/s]"
     ]
    },
    {
     "name": "stdout",
     "output_type": "stream",
     "text": [
      "Applying neural network model to batch starting at index 1184\n",
      "In no grad context\n",
      "Vector columns: ['vector', 'vector_original', 'vector_add_prev_2']\n"
     ]
    },
    {
     "name": "stderr",
     "output_type": "stream",
     "text": [
      "Embedding (GPU):  21%|██▏       | 1200/5640 [02:44<11:12,  6.60it/s]"
     ]
    },
    {
     "name": "stdout",
     "output_type": "stream",
     "text": [
      "Applying neural network model to batch starting at index 1200\n",
      "In no grad context\n",
      "Vector columns: ['vector', 'vector_original', 'vector_add_prev_2']\n"
     ]
    },
    {
     "name": "stderr",
     "output_type": "stream",
     "text": [
      "Embedding (GPU):  22%|██▏       | 1216/5640 [02:47<11:38,  6.33it/s]"
     ]
    },
    {
     "name": "stdout",
     "output_type": "stream",
     "text": [
      "Applying neural network model to batch starting at index 1216\n",
      "In no grad context\n",
      "Vector columns: ['vector', 'vector_original', 'vector_add_prev_2']\n"
     ]
    },
    {
     "name": "stderr",
     "output_type": "stream",
     "text": [
      "Embedding (GPU):  22%|██▏       | 1232/5640 [02:48<10:30,  7.00it/s]"
     ]
    },
    {
     "name": "stdout",
     "output_type": "stream",
     "text": [
      "Applying neural network model to batch starting at index 1232\n",
      "In no grad context\n",
      "Vector columns: ['vector', 'vector_original', 'vector_add_prev_2']\n"
     ]
    },
    {
     "name": "stderr",
     "output_type": "stream",
     "text": [
      "Embedding (GPU):  22%|██▏       | 1248/5640 [02:50<10:07,  7.23it/s]"
     ]
    },
    {
     "name": "stdout",
     "output_type": "stream",
     "text": [
      "Applying neural network model to batch starting at index 1248\n",
      "In no grad context\n",
      "Vector columns: ['vector', 'vector_original', 'vector_add_prev_2']\n"
     ]
    },
    {
     "name": "stderr",
     "output_type": "stream",
     "text": [
      "Embedding (GPU):  22%|██▏       | 1264/5640 [02:53<10:52,  6.71it/s]"
     ]
    },
    {
     "name": "stdout",
     "output_type": "stream",
     "text": [
      "Applying neural network model to batch starting at index 1264\n",
      "In no grad context\n",
      "Vector columns: ['vector', 'vector_original', 'vector_add_prev_2']\n"
     ]
    },
    {
     "name": "stderr",
     "output_type": "stream",
     "text": [
      "Embedding (GPU):  23%|██▎       | 1280/5640 [02:56<12:02,  6.04it/s]"
     ]
    },
    {
     "name": "stdout",
     "output_type": "stream",
     "text": [
      "Applying neural network model to batch starting at index 1280\n",
      "In no grad context\n",
      "Vector columns: ['vector', 'vector_original', 'vector_add_prev_2']\n"
     ]
    },
    {
     "name": "stderr",
     "output_type": "stream",
     "text": [
      "Embedding (GPU):  23%|██▎       | 1296/5640 [02:58<11:01,  6.56it/s]"
     ]
    },
    {
     "name": "stdout",
     "output_type": "stream",
     "text": [
      "Applying neural network model to batch starting at index 1296\n",
      "In no grad context\n",
      "Vector columns: ['vector', 'vector_original', 'vector_add_prev_2']\n"
     ]
    },
    {
     "name": "stderr",
     "output_type": "stream",
     "text": [
      "Embedding (GPU):  23%|██▎       | 1312/5640 [03:00<10:39,  6.77it/s]"
     ]
    },
    {
     "name": "stdout",
     "output_type": "stream",
     "text": [
      "Applying neural network model to batch starting at index 1312\n",
      "In no grad context\n",
      "Vector columns: ['vector', 'vector_original', 'vector_add_prev_2']\n"
     ]
    },
    {
     "name": "stderr",
     "output_type": "stream",
     "text": [
      "Embedding (GPU):  24%|██▎       | 1328/5640 [03:02<09:58,  7.20it/s]"
     ]
    },
    {
     "name": "stdout",
     "output_type": "stream",
     "text": [
      "Applying neural network model to batch starting at index 1328\n",
      "In no grad context\n",
      "Vector columns: ['vector', 'vector_original', 'vector_add_prev_2']\n"
     ]
    },
    {
     "name": "stderr",
     "output_type": "stream",
     "text": [
      "Embedding (GPU):  24%|██▍       | 1344/5640 [03:05<10:54,  6.56it/s]"
     ]
    },
    {
     "name": "stdout",
     "output_type": "stream",
     "text": [
      "Applying neural network model to batch starting at index 1344\n",
      "In no grad context\n",
      "Vector columns: ['vector', 'vector_original', 'vector_add_prev_2']\n"
     ]
    },
    {
     "name": "stderr",
     "output_type": "stream",
     "text": [
      "Embedding (GPU):  24%|██▍       | 1360/5640 [03:09<12:20,  5.78it/s]"
     ]
    },
    {
     "name": "stdout",
     "output_type": "stream",
     "text": [
      "Applying neural network model to batch starting at index 1360\n",
      "In no grad context\n",
      "Vector columns: ['vector', 'vector_original', 'vector_add_prev_2']\n"
     ]
    },
    {
     "name": "stderr",
     "output_type": "stream",
     "text": [
      "Embedding (GPU):  24%|██▍       | 1376/5640 [03:11<12:03,  5.90it/s]"
     ]
    },
    {
     "name": "stdout",
     "output_type": "stream",
     "text": [
      "Applying neural network model to batch starting at index 1376\n",
      "In no grad context\n",
      "Vector columns: ['vector', 'vector_original', 'vector_add_prev_2']\n"
     ]
    },
    {
     "name": "stderr",
     "output_type": "stream",
     "text": [
      "Embedding (GPU):  25%|██▍       | 1392/5640 [03:13<10:33,  6.71it/s]"
     ]
    },
    {
     "name": "stdout",
     "output_type": "stream",
     "text": [
      "Applying neural network model to batch starting at index 1392\n",
      "In no grad context\n",
      "Vector columns: ['vector', 'vector_original', 'vector_add_prev_2']\n"
     ]
    },
    {
     "name": "stderr",
     "output_type": "stream",
     "text": [
      "Embedding (GPU):  25%|██▍       | 1408/5640 [03:15<09:58,  7.07it/s]"
     ]
    },
    {
     "name": "stdout",
     "output_type": "stream",
     "text": [
      "Applying neural network model to batch starting at index 1408\n",
      "In no grad context\n",
      "Vector columns: ['vector', 'vector_original', 'vector_add_prev_2']\n"
     ]
    },
    {
     "name": "stderr",
     "output_type": "stream",
     "text": [
      "Embedding (GPU):  25%|██▌       | 1424/5640 [03:17<09:05,  7.73it/s]"
     ]
    },
    {
     "name": "stdout",
     "output_type": "stream",
     "text": [
      "Applying neural network model to batch starting at index 1424\n",
      "In no grad context\n",
      "Vector columns: ['vector', 'vector_original', 'vector_add_prev_2']\n"
     ]
    },
    {
     "name": "stderr",
     "output_type": "stream",
     "text": [
      "Embedding (GPU):  26%|██▌       | 1440/5640 [03:19<09:09,  7.64it/s]"
     ]
    },
    {
     "name": "stdout",
     "output_type": "stream",
     "text": [
      "Applying neural network model to batch starting at index 1440\n",
      "In no grad context\n",
      "Vector columns: ['vector', 'vector_original', 'vector_add_prev_2']\n"
     ]
    },
    {
     "name": "stderr",
     "output_type": "stream",
     "text": [
      "Embedding (GPU):  26%|██▌       | 1456/5640 [03:21<09:27,  7.38it/s]"
     ]
    },
    {
     "name": "stdout",
     "output_type": "stream",
     "text": [
      "Applying neural network model to batch starting at index 1456\n",
      "In no grad context\n",
      "Vector columns: ['vector', 'vector_original', 'vector_add_prev_2']\n"
     ]
    },
    {
     "name": "stderr",
     "output_type": "stream",
     "text": [
      "Embedding (GPU):  26%|██▌       | 1472/5640 [03:23<09:38,  7.20it/s]"
     ]
    },
    {
     "name": "stdout",
     "output_type": "stream",
     "text": [
      "Applying neural network model to batch starting at index 1472\n",
      "In no grad context\n",
      "Vector columns: ['vector', 'vector_original', 'vector_add_prev_2']\n"
     ]
    },
    {
     "name": "stderr",
     "output_type": "stream",
     "text": [
      "Embedding (GPU):  26%|██▋       | 1488/5640 [03:25<08:54,  7.77it/s]"
     ]
    },
    {
     "name": "stdout",
     "output_type": "stream",
     "text": [
      "Applying neural network model to batch starting at index 1488\n",
      "In no grad context\n",
      "Vector columns: ['vector', 'vector_original', 'vector_add_prev_2']\n"
     ]
    },
    {
     "name": "stderr",
     "output_type": "stream",
     "text": [
      "Embedding (GPU):  27%|██▋       | 1504/5640 [03:28<09:57,  6.92it/s]"
     ]
    },
    {
     "name": "stdout",
     "output_type": "stream",
     "text": [
      "Applying neural network model to batch starting at index 1504\n",
      "In no grad context\n",
      "Vector columns: ['vector', 'vector_original', 'vector_add_prev_2']\n"
     ]
    },
    {
     "name": "stderr",
     "output_type": "stream",
     "text": [
      "Embedding (GPU):  27%|██▋       | 1520/5640 [03:30<09:43,  7.06it/s]"
     ]
    },
    {
     "name": "stdout",
     "output_type": "stream",
     "text": [
      "Applying neural network model to batch starting at index 1520\n",
      "In no grad context\n",
      "Vector columns: ['vector', 'vector_original', 'vector_add_prev_2']\n"
     ]
    },
    {
     "name": "stderr",
     "output_type": "stream",
     "text": [
      "Embedding (GPU):  27%|██▋       | 1536/5640 [03:32<09:06,  7.50it/s]"
     ]
    },
    {
     "name": "stdout",
     "output_type": "stream",
     "text": [
      "Applying neural network model to batch starting at index 1536\n",
      "In no grad context\n",
      "Vector columns: ['vector', 'vector_original', 'vector_add_prev_2']\n"
     ]
    },
    {
     "name": "stderr",
     "output_type": "stream",
     "text": [
      "Embedding (GPU):  28%|██▊       | 1552/5640 [03:34<09:02,  7.53it/s]"
     ]
    },
    {
     "name": "stdout",
     "output_type": "stream",
     "text": [
      "Applying neural network model to batch starting at index 1552\n",
      "In no grad context\n",
      "Vector columns: ['vector', 'vector_original', 'vector_add_prev_2']\n"
     ]
    },
    {
     "name": "stderr",
     "output_type": "stream",
     "text": [
      "Embedding (GPU):  28%|██▊       | 1568/5640 [03:37<10:29,  6.47it/s]"
     ]
    },
    {
     "name": "stdout",
     "output_type": "stream",
     "text": [
      "Applying neural network model to batch starting at index 1568\n",
      "In no grad context\n",
      "Vector columns: ['vector', 'vector_original', 'vector_add_prev_2']\n"
     ]
    },
    {
     "name": "stderr",
     "output_type": "stream",
     "text": [
      "Embedding (GPU):  28%|██▊       | 1584/5640 [03:40<10:30,  6.43it/s]"
     ]
    },
    {
     "name": "stdout",
     "output_type": "stream",
     "text": [
      "Applying neural network model to batch starting at index 1584\n",
      "In no grad context\n",
      "Vector columns: ['vector', 'vector_original', 'vector_add_prev_2']\n"
     ]
    },
    {
     "name": "stderr",
     "output_type": "stream",
     "text": [
      "Embedding (GPU):  28%|██▊       | 1600/5640 [03:42<09:56,  6.78it/s]"
     ]
    },
    {
     "name": "stdout",
     "output_type": "stream",
     "text": [
      "Applying neural network model to batch starting at index 1600\n",
      "In no grad context\n",
      "Vector columns: ['vector', 'vector_original', 'vector_add_prev_2']\n"
     ]
    },
    {
     "name": "stderr",
     "output_type": "stream",
     "text": [
      "Embedding (GPU):  29%|██▊       | 1616/5640 [03:44<09:49,  6.83it/s]"
     ]
    },
    {
     "name": "stdout",
     "output_type": "stream",
     "text": [
      "Applying neural network model to batch starting at index 1616\n",
      "In no grad context\n",
      "Vector columns: ['vector', 'vector_original', 'vector_add_prev_2']\n"
     ]
    },
    {
     "name": "stderr",
     "output_type": "stream",
     "text": [
      "Embedding (GPU):  29%|██▉       | 1632/5640 [03:46<08:57,  7.45it/s]"
     ]
    },
    {
     "name": "stdout",
     "output_type": "stream",
     "text": [
      "Applying neural network model to batch starting at index 1632\n",
      "In no grad context\n",
      "Vector columns: ['vector', 'vector_original', 'vector_add_prev_2']\n"
     ]
    },
    {
     "name": "stderr",
     "output_type": "stream",
     "text": [
      "Embedding (GPU):  29%|██▉       | 1648/5640 [03:49<10:06,  6.59it/s]"
     ]
    },
    {
     "name": "stdout",
     "output_type": "stream",
     "text": [
      "Applying neural network model to batch starting at index 1648\n",
      "In no grad context\n",
      "Vector columns: ['vector', 'vector_original', 'vector_add_prev_2']\n"
     ]
    },
    {
     "name": "stderr",
     "output_type": "stream",
     "text": [
      "Embedding (GPU):  30%|██▉       | 1664/5640 [03:52<11:04,  5.99it/s]"
     ]
    },
    {
     "name": "stdout",
     "output_type": "stream",
     "text": [
      "Applying neural network model to batch starting at index 1664\n",
      "In no grad context\n",
      "Vector columns: ['vector', 'vector_original', 'vector_add_prev_2']\n"
     ]
    },
    {
     "name": "stderr",
     "output_type": "stream",
     "text": [
      "Embedding (GPU):  30%|██▉       | 1680/5640 [03:54<10:19,  6.39it/s]"
     ]
    },
    {
     "name": "stdout",
     "output_type": "stream",
     "text": [
      "Applying neural network model to batch starting at index 1680\n",
      "In no grad context\n",
      "Vector columns: ['vector', 'vector_original', 'vector_add_prev_2']\n"
     ]
    },
    {
     "name": "stderr",
     "output_type": "stream",
     "text": [
      "Embedding (GPU):  30%|███       | 1696/5640 [03:56<09:15,  7.09it/s]"
     ]
    },
    {
     "name": "stdout",
     "output_type": "stream",
     "text": [
      "Applying neural network model to batch starting at index 1696\n",
      "In no grad context\n",
      "Vector columns: ['vector', 'vector_original', 'vector_add_prev_2']\n"
     ]
    },
    {
     "name": "stderr",
     "output_type": "stream",
     "text": [
      "Embedding (GPU):  30%|███       | 1712/5640 [03:59<09:47,  6.68it/s]"
     ]
    },
    {
     "name": "stdout",
     "output_type": "stream",
     "text": [
      "Applying neural network model to batch starting at index 1712\n",
      "In no grad context\n",
      "Vector columns: ['vector', 'vector_original', 'vector_add_prev_2']\n"
     ]
    },
    {
     "name": "stderr",
     "output_type": "stream",
     "text": [
      "Embedding (GPU):  31%|███       | 1728/5640 [04:00<08:40,  7.51it/s]"
     ]
    },
    {
     "name": "stdout",
     "output_type": "stream",
     "text": [
      "Applying neural network model to batch starting at index 1728\n",
      "In no grad context\n",
      "Vector columns: ['vector', 'vector_original', 'vector_add_prev_2']\n"
     ]
    },
    {
     "name": "stderr",
     "output_type": "stream",
     "text": [
      "Embedding (GPU):  31%|███       | 1744/5640 [04:02<07:54,  8.22it/s]"
     ]
    },
    {
     "name": "stdout",
     "output_type": "stream",
     "text": [
      "Applying neural network model to batch starting at index 1744\n",
      "In no grad context\n",
      "Vector columns: ['vector', 'vector_original', 'vector_add_prev_2']\n"
     ]
    },
    {
     "name": "stderr",
     "output_type": "stream",
     "text": [
      "Embedding (GPU):  31%|███       | 1760/5640 [04:04<07:33,  8.56it/s]"
     ]
    },
    {
     "name": "stdout",
     "output_type": "stream",
     "text": [
      "Applying neural network model to batch starting at index 1760\n",
      "In no grad context\n",
      "Vector columns: ['vector', 'vector_original', 'vector_add_prev_2']\n"
     ]
    },
    {
     "name": "stderr",
     "output_type": "stream",
     "text": [
      "Embedding (GPU):  31%|███▏      | 1776/5640 [04:07<09:03,  7.11it/s]"
     ]
    },
    {
     "name": "stdout",
     "output_type": "stream",
     "text": [
      "Applying neural network model to batch starting at index 1776\n",
      "In no grad context\n",
      "Vector columns: ['vector', 'vector_original', 'vector_add_prev_2']\n"
     ]
    },
    {
     "name": "stderr",
     "output_type": "stream",
     "text": [
      "Embedding (GPU):  32%|███▏      | 1792/5640 [04:09<08:56,  7.17it/s]"
     ]
    },
    {
     "name": "stdout",
     "output_type": "stream",
     "text": [
      "Applying neural network model to batch starting at index 1792\n",
      "In no grad context\n",
      "Vector columns: ['vector', 'vector_original', 'vector_add_prev_2']\n"
     ]
    },
    {
     "name": "stderr",
     "output_type": "stream",
     "text": [
      "Embedding (GPU):  32%|███▏      | 1808/5640 [04:12<09:37,  6.64it/s]"
     ]
    },
    {
     "name": "stdout",
     "output_type": "stream",
     "text": [
      "Applying neural network model to batch starting at index 1808\n",
      "In no grad context\n",
      "Vector columns: ['vector', 'vector_original', 'vector_add_prev_2']\n"
     ]
    },
    {
     "name": "stderr",
     "output_type": "stream",
     "text": [
      "Embedding (GPU):  32%|███▏      | 1824/5640 [04:15<10:47,  5.89it/s]"
     ]
    },
    {
     "name": "stdout",
     "output_type": "stream",
     "text": [
      "Applying neural network model to batch starting at index 1824\n",
      "In no grad context\n",
      "Vector columns: ['vector', 'vector_original', 'vector_add_prev_2']\n"
     ]
    },
    {
     "name": "stderr",
     "output_type": "stream",
     "text": [
      "Embedding (GPU):  33%|███▎      | 1840/5640 [04:19<11:53,  5.33it/s]"
     ]
    },
    {
     "name": "stdout",
     "output_type": "stream",
     "text": [
      "Applying neural network model to batch starting at index 1840\n",
      "In no grad context\n",
      "Vector columns: ['vector', 'vector_original', 'vector_add_prev_2']\n"
     ]
    },
    {
     "name": "stderr",
     "output_type": "stream",
     "text": [
      "Embedding (GPU):  33%|███▎      | 1856/5640 [04:20<09:45,  6.47it/s]"
     ]
    },
    {
     "name": "stdout",
     "output_type": "stream",
     "text": [
      "Applying neural network model to batch starting at index 1856\n",
      "In no grad context\n",
      "Vector columns: ['vector', 'vector_original', 'vector_add_prev_2']\n"
     ]
    },
    {
     "name": "stderr",
     "output_type": "stream",
     "text": [
      "Embedding (GPU):  33%|███▎      | 1872/5640 [04:22<08:40,  7.23it/s]"
     ]
    },
    {
     "name": "stdout",
     "output_type": "stream",
     "text": [
      "Applying neural network model to batch starting at index 1872\n",
      "In no grad context\n",
      "Vector columns: ['vector', 'vector_original', 'vector_add_prev_2']\n"
     ]
    },
    {
     "name": "stderr",
     "output_type": "stream",
     "text": [
      "Embedding (GPU):  33%|███▎      | 1888/5640 [04:23<07:35,  8.23it/s]"
     ]
    },
    {
     "name": "stdout",
     "output_type": "stream",
     "text": [
      "Applying neural network model to batch starting at index 1888\n",
      "In no grad context\n",
      "Vector columns: ['vector', 'vector_original', 'vector_add_prev_2']\n"
     ]
    },
    {
     "name": "stderr",
     "output_type": "stream",
     "text": [
      "Embedding (GPU):  34%|███▍      | 1904/5640 [04:24<06:42,  9.29it/s]"
     ]
    },
    {
     "name": "stdout",
     "output_type": "stream",
     "text": [
      "Applying neural network model to batch starting at index 1904\n",
      "In no grad context\n",
      "Vector columns: ['vector', 'vector_original', 'vector_add_prev_2']\n"
     ]
    },
    {
     "name": "stderr",
     "output_type": "stream",
     "text": [
      "Embedding (GPU):  34%|███▍      | 1920/5640 [04:26<06:29,  9.55it/s]"
     ]
    },
    {
     "name": "stdout",
     "output_type": "stream",
     "text": [
      "Applying neural network model to batch starting at index 1920\n",
      "In no grad context\n",
      "Vector columns: ['vector', 'vector_original', 'vector_add_prev_2']\n"
     ]
    },
    {
     "name": "stderr",
     "output_type": "stream",
     "text": [
      "Embedding (GPU):  34%|███▍      | 1936/5640 [04:27<06:09, 10.03it/s]"
     ]
    },
    {
     "name": "stdout",
     "output_type": "stream",
     "text": [
      "Applying neural network model to batch starting at index 1936\n",
      "In no grad context\n",
      "Vector columns: ['vector', 'vector_original', 'vector_add_prev_2']\n"
     ]
    },
    {
     "name": "stderr",
     "output_type": "stream",
     "text": [
      "Embedding (GPU):  35%|███▍      | 1952/5640 [04:29<05:50, 10.51it/s]"
     ]
    },
    {
     "name": "stdout",
     "output_type": "stream",
     "text": [
      "Applying neural network model to batch starting at index 1952\n",
      "In no grad context\n",
      "Vector columns: ['vector', 'vector_original', 'vector_add_prev_2']\n"
     ]
    },
    {
     "name": "stderr",
     "output_type": "stream",
     "text": [
      "Embedding (GPU):  35%|███▍      | 1968/5640 [04:32<08:16,  7.39it/s]"
     ]
    },
    {
     "name": "stdout",
     "output_type": "stream",
     "text": [
      "Applying neural network model to batch starting at index 1968\n",
      "In no grad context\n",
      "Vector columns: ['vector', 'vector_original', 'vector_add_prev_2']\n"
     ]
    },
    {
     "name": "stderr",
     "output_type": "stream",
     "text": [
      "Embedding (GPU):  35%|███▌      | 1984/5640 [04:35<08:34,  7.11it/s]"
     ]
    },
    {
     "name": "stdout",
     "output_type": "stream",
     "text": [
      "Applying neural network model to batch starting at index 1984\n",
      "In no grad context\n",
      "Vector columns: ['vector', 'vector_original', 'vector_add_prev_2']\n"
     ]
    },
    {
     "name": "stderr",
     "output_type": "stream",
     "text": [
      "Embedding (GPU):  35%|███▌      | 2000/5640 [04:37<08:17,  7.32it/s]"
     ]
    },
    {
     "name": "stdout",
     "output_type": "stream",
     "text": [
      "Applying neural network model to batch starting at index 2000\n",
      "In no grad context\n",
      "Vector columns: ['vector', 'vector_original', 'vector_add_prev_2']\n"
     ]
    },
    {
     "name": "stderr",
     "output_type": "stream",
     "text": [
      "Embedding (GPU):  36%|███▌      | 2016/5640 [04:38<07:33,  8.00it/s]"
     ]
    },
    {
     "name": "stdout",
     "output_type": "stream",
     "text": [
      "Applying neural network model to batch starting at index 2016\n",
      "In no grad context\n",
      "Vector columns: ['vector', 'vector_original', 'vector_add_prev_2']\n"
     ]
    },
    {
     "name": "stderr",
     "output_type": "stream",
     "text": [
      "Embedding (GPU):  36%|███▌      | 2032/5640 [04:40<07:18,  8.23it/s]"
     ]
    },
    {
     "name": "stdout",
     "output_type": "stream",
     "text": [
      "Applying neural network model to batch starting at index 2032\n",
      "In no grad context\n",
      "Vector columns: ['vector', 'vector_original', 'vector_add_prev_2']\n"
     ]
    },
    {
     "name": "stderr",
     "output_type": "stream",
     "text": [
      "Embedding (GPU):  36%|███▋      | 2048/5640 [04:42<07:40,  7.80it/s]"
     ]
    },
    {
     "name": "stdout",
     "output_type": "stream",
     "text": [
      "Applying neural network model to batch starting at index 2048\n",
      "In no grad context\n",
      "Vector columns: ['vector', 'vector_original', 'vector_add_prev_2']\n"
     ]
    },
    {
     "name": "stderr",
     "output_type": "stream",
     "text": [
      "Embedding (GPU):  37%|███▋      | 2064/5640 [04:45<08:25,  7.07it/s]"
     ]
    },
    {
     "name": "stdout",
     "output_type": "stream",
     "text": [
      "Applying neural network model to batch starting at index 2064\n",
      "In no grad context\n",
      "Vector columns: ['vector', 'vector_original', 'vector_add_prev_2']\n"
     ]
    },
    {
     "name": "stderr",
     "output_type": "stream",
     "text": [
      "Embedding (GPU):  37%|███▋      | 2080/5640 [04:52<13:24,  4.43it/s]"
     ]
    },
    {
     "name": "stdout",
     "output_type": "stream",
     "text": [
      "Applying neural network model to batch starting at index 2080\n",
      "In no grad context\n",
      "Vector columns: ['vector', 'vector_original', 'vector_add_prev_2']\n"
     ]
    },
    {
     "name": "stderr",
     "output_type": "stream",
     "text": [
      "Embedding (GPU):  37%|███▋      | 2096/5640 [04:55<12:21,  4.78it/s]"
     ]
    },
    {
     "name": "stdout",
     "output_type": "stream",
     "text": [
      "Applying neural network model to batch starting at index 2096\n",
      "In no grad context\n",
      "Vector columns: ['vector', 'vector_original', 'vector_add_prev_2']\n"
     ]
    },
    {
     "name": "stderr",
     "output_type": "stream",
     "text": [
      "Embedding (GPU):  37%|███▋      | 2112/5640 [04:58<12:05,  4.87it/s]"
     ]
    },
    {
     "name": "stdout",
     "output_type": "stream",
     "text": [
      "Applying neural network model to batch starting at index 2112\n",
      "In no grad context\n",
      "Vector columns: ['vector', 'vector_original', 'vector_add_prev_2']\n"
     ]
    },
    {
     "name": "stderr",
     "output_type": "stream",
     "text": [
      "Embedding (GPU):  38%|███▊      | 2128/5640 [04:59<10:15,  5.71it/s]"
     ]
    },
    {
     "name": "stdout",
     "output_type": "stream",
     "text": [
      "Applying neural network model to batch starting at index 2128\n",
      "In no grad context\n",
      "Vector columns: ['vector', 'vector_original', 'vector_add_prev_2']\n"
     ]
    },
    {
     "name": "stderr",
     "output_type": "stream",
     "text": [
      "Embedding (GPU):  38%|███▊      | 2144/5640 [05:01<08:35,  6.79it/s]"
     ]
    },
    {
     "name": "stdout",
     "output_type": "stream",
     "text": [
      "Applying neural network model to batch starting at index 2144\n",
      "In no grad context\n",
      "Vector columns: ['vector', 'vector_original', 'vector_add_prev_2']\n"
     ]
    },
    {
     "name": "stderr",
     "output_type": "stream",
     "text": [
      "Embedding (GPU):  38%|███▊      | 2160/5640 [05:02<07:28,  7.75it/s]"
     ]
    },
    {
     "name": "stdout",
     "output_type": "stream",
     "text": [
      "Applying neural network model to batch starting at index 2160\n",
      "In no grad context\n",
      "Vector columns: ['vector', 'vector_original', 'vector_add_prev_2']\n"
     ]
    },
    {
     "name": "stderr",
     "output_type": "stream",
     "text": [
      "Embedding (GPU):  39%|███▊      | 2176/5640 [05:03<06:36,  8.74it/s]"
     ]
    },
    {
     "name": "stdout",
     "output_type": "stream",
     "text": [
      "Applying neural network model to batch starting at index 2176\n",
      "In no grad context\n",
      "Vector columns: ['vector', 'vector_original', 'vector_add_prev_2']\n"
     ]
    },
    {
     "name": "stderr",
     "output_type": "stream",
     "text": [
      "Embedding (GPU):  39%|███▉      | 2192/5640 [05:05<05:59,  9.60it/s]"
     ]
    },
    {
     "name": "stdout",
     "output_type": "stream",
     "text": [
      "Applying neural network model to batch starting at index 2192\n",
      "In no grad context\n",
      "Vector columns: ['vector', 'vector_original', 'vector_add_prev_2']\n"
     ]
    },
    {
     "name": "stderr",
     "output_type": "stream",
     "text": [
      "Embedding (GPU):  39%|███▉      | 2208/5640 [05:06<05:43,  9.99it/s]"
     ]
    },
    {
     "name": "stdout",
     "output_type": "stream",
     "text": [
      "Applying neural network model to batch starting at index 2208\n",
      "In no grad context\n",
      "Vector columns: ['vector', 'vector_original', 'vector_add_prev_2']\n"
     ]
    },
    {
     "name": "stderr",
     "output_type": "stream",
     "text": [
      "Embedding (GPU):  39%|███▉      | 2224/5640 [05:10<07:47,  7.30it/s]"
     ]
    },
    {
     "name": "stdout",
     "output_type": "stream",
     "text": [
      "Applying neural network model to batch starting at index 2224\n",
      "In no grad context\n",
      "Vector columns: ['vector', 'vector_original', 'vector_add_prev_2']\n"
     ]
    },
    {
     "name": "stderr",
     "output_type": "stream",
     "text": [
      "Embedding (GPU):  40%|███▉      | 2240/5640 [05:11<07:02,  8.05it/s]"
     ]
    },
    {
     "name": "stdout",
     "output_type": "stream",
     "text": [
      "Applying neural network model to batch starting at index 2240\n",
      "In no grad context\n",
      "Vector columns: ['vector', 'vector_original', 'vector_add_prev_2']\n"
     ]
    },
    {
     "name": "stderr",
     "output_type": "stream",
     "text": [
      "Embedding (GPU):  40%|████      | 2256/5640 [05:13<07:01,  8.03it/s]"
     ]
    },
    {
     "name": "stdout",
     "output_type": "stream",
     "text": [
      "Applying neural network model to batch starting at index 2256\n",
      "In no grad context\n",
      "Vector columns: ['vector', 'vector_original', 'vector_add_prev_2']\n"
     ]
    },
    {
     "name": "stderr",
     "output_type": "stream",
     "text": [
      "Embedding (GPU):  40%|████      | 2272/5640 [05:15<06:15,  8.96it/s]"
     ]
    },
    {
     "name": "stdout",
     "output_type": "stream",
     "text": [
      "Applying neural network model to batch starting at index 2272\n",
      "In no grad context\n",
      "Vector columns: ['vector', 'vector_original', 'vector_add_prev_2']\n"
     ]
    },
    {
     "name": "stderr",
     "output_type": "stream",
     "text": [
      "Embedding (GPU):  41%|████      | 2288/5640 [05:18<07:30,  7.44it/s]"
     ]
    },
    {
     "name": "stdout",
     "output_type": "stream",
     "text": [
      "Applying neural network model to batch starting at index 2288\n",
      "In no grad context\n",
      "Vector columns: ['vector', 'vector_original', 'vector_add_prev_2']\n"
     ]
    },
    {
     "name": "stderr",
     "output_type": "stream",
     "text": [
      "Embedding (GPU):  41%|████      | 2304/5640 [05:20<07:31,  7.40it/s]"
     ]
    },
    {
     "name": "stdout",
     "output_type": "stream",
     "text": [
      "Applying neural network model to batch starting at index 2304\n",
      "In no grad context\n",
      "Vector columns: ['vector', 'vector_original', 'vector_add_prev_2']\n"
     ]
    },
    {
     "name": "stderr",
     "output_type": "stream",
     "text": [
      "Embedding (GPU):  41%|████      | 2320/5640 [05:22<07:48,  7.08it/s]"
     ]
    },
    {
     "name": "stdout",
     "output_type": "stream",
     "text": [
      "Applying neural network model to batch starting at index 2320\n",
      "In no grad context\n",
      "Vector columns: ['vector', 'vector_original', 'vector_add_prev_2']\n"
     ]
    },
    {
     "name": "stderr",
     "output_type": "stream",
     "text": [
      "Embedding (GPU):  41%|████▏     | 2336/5640 [05:24<07:26,  7.41it/s]"
     ]
    },
    {
     "name": "stdout",
     "output_type": "stream",
     "text": [
      "Applying neural network model to batch starting at index 2336\n",
      "In no grad context\n",
      "Vector columns: ['vector', 'vector_original', 'vector_add_prev_2']\n"
     ]
    },
    {
     "name": "stderr",
     "output_type": "stream",
     "text": [
      "Embedding (GPU):  42%|████▏     | 2352/5640 [05:31<12:28,  4.39it/s]"
     ]
    },
    {
     "name": "stdout",
     "output_type": "stream",
     "text": [
      "Applying neural network model to batch starting at index 2352\n",
      "In no grad context\n",
      "Vector columns: ['vector', 'vector_original', 'vector_add_prev_2']\n"
     ]
    },
    {
     "name": "stderr",
     "output_type": "stream",
     "text": [
      "Embedding (GPU):  42%|████▏     | 2368/5640 [05:36<13:44,  3.97it/s]"
     ]
    },
    {
     "name": "stdout",
     "output_type": "stream",
     "text": [
      "Applying neural network model to batch starting at index 2368\n",
      "In no grad context\n",
      "Vector columns: ['vector', 'vector_original', 'vector_add_prev_2']\n"
     ]
    },
    {
     "name": "stderr",
     "output_type": "stream",
     "text": [
      "Embedding (GPU):  42%|████▏     | 2384/5640 [05:39<12:26,  4.36it/s]"
     ]
    },
    {
     "name": "stdout",
     "output_type": "stream",
     "text": [
      "Applying neural network model to batch starting at index 2384\n",
      "In no grad context\n",
      "Vector columns: ['vector', 'vector_original', 'vector_add_prev_2']\n"
     ]
    },
    {
     "name": "stderr",
     "output_type": "stream",
     "text": [
      "Embedding (GPU):  43%|████▎     | 2400/5640 [05:41<10:19,  5.23it/s]"
     ]
    },
    {
     "name": "stdout",
     "output_type": "stream",
     "text": [
      "Applying neural network model to batch starting at index 2400\n",
      "In no grad context\n",
      "Vector columns: ['vector', 'vector_original', 'vector_add_prev_2']\n"
     ]
    },
    {
     "name": "stderr",
     "output_type": "stream",
     "text": [
      "Embedding (GPU):  43%|████▎     | 2416/5640 [05:43<09:49,  5.47it/s]"
     ]
    },
    {
     "name": "stdout",
     "output_type": "stream",
     "text": [
      "Applying neural network model to batch starting at index 2416\n",
      "In no grad context\n",
      "Vector columns: ['vector', 'vector_original', 'vector_add_prev_2']\n"
     ]
    },
    {
     "name": "stderr",
     "output_type": "stream",
     "text": [
      "Embedding (GPU):  43%|████▎     | 2432/5640 [05:45<08:46,  6.10it/s]"
     ]
    },
    {
     "name": "stdout",
     "output_type": "stream",
     "text": [
      "Applying neural network model to batch starting at index 2432\n",
      "In no grad context\n",
      "Vector columns: ['vector', 'vector_original', 'vector_add_prev_2']\n"
     ]
    },
    {
     "name": "stderr",
     "output_type": "stream",
     "text": [
      "Embedding (GPU):  43%|████▎     | 2448/5640 [05:47<08:20,  6.38it/s]"
     ]
    },
    {
     "name": "stdout",
     "output_type": "stream",
     "text": [
      "Applying neural network model to batch starting at index 2448\n",
      "In no grad context\n",
      "Vector columns: ['vector', 'vector_original', 'vector_add_prev_2']\n"
     ]
    },
    {
     "name": "stderr",
     "output_type": "stream",
     "text": [
      "Embedding (GPU):  44%|████▎     | 2464/5640 [06:42<59:34,  1.13s/it]"
     ]
    },
    {
     "name": "stdout",
     "output_type": "stream",
     "text": [
      "Applying neural network model to batch starting at index 2464\n",
      "In no grad context\n",
      "Vector columns: ['vector', 'vector_original', 'vector_add_prev_2']\n"
     ]
    },
    {
     "name": "stderr",
     "output_type": "stream",
     "text": [
      "Embedding (GPU):  44%|████▍     | 2480/5640 [06:45<44:32,  1.18it/s]"
     ]
    },
    {
     "name": "stdout",
     "output_type": "stream",
     "text": [
      "Applying neural network model to batch starting at index 2480\n",
      "In no grad context\n",
      "Vector columns: ['vector', 'vector_original', 'vector_add_prev_2']\n"
     ]
    },
    {
     "name": "stderr",
     "output_type": "stream",
     "text": [
      "Embedding (GPU):  44%|████▍     | 2496/5640 [06:47<33:04,  1.58it/s]"
     ]
    },
    {
     "name": "stdout",
     "output_type": "stream",
     "text": [
      "Applying neural network model to batch starting at index 2496\n",
      "In no grad context\n",
      "Vector columns: ['vector', 'vector_original', 'vector_add_prev_2']\n"
     ]
    },
    {
     "name": "stderr",
     "output_type": "stream",
     "text": [
      "Embedding (GPU):  45%|████▍     | 2512/5640 [07:02<37:38,  1.38it/s]"
     ]
    },
    {
     "name": "stdout",
     "output_type": "stream",
     "text": [
      "Applying neural network model to batch starting at index 2512\n",
      "In no grad context\n",
      "Vector columns: ['vector', 'vector_original', 'vector_add_prev_2']\n"
     ]
    },
    {
     "name": "stderr",
     "output_type": "stream",
     "text": [
      "Embedding (GPU):  45%|████▍     | 2528/5640 [07:04<28:41,  1.81it/s]"
     ]
    },
    {
     "name": "stdout",
     "output_type": "stream",
     "text": [
      "Applying neural network model to batch starting at index 2528\n",
      "In no grad context\n",
      "Vector columns: ['vector', 'vector_original', 'vector_add_prev_2']\n"
     ]
    },
    {
     "name": "stderr",
     "output_type": "stream",
     "text": [
      "Embedding (GPU):  45%|████▌     | 2544/5640 [07:09<25:01,  2.06it/s]"
     ]
    },
    {
     "name": "stdout",
     "output_type": "stream",
     "text": [
      "Applying neural network model to batch starting at index 2544\n",
      "In no grad context\n",
      "Vector columns: ['vector', 'vector_original', 'vector_add_prev_2']\n"
     ]
    },
    {
     "name": "stderr",
     "output_type": "stream",
     "text": [
      "Embedding (GPU):  45%|████▌     | 2560/5640 [07:11<19:11,  2.67it/s]"
     ]
    },
    {
     "name": "stdout",
     "output_type": "stream",
     "text": [
      "Applying neural network model to batch starting at index 2560\n",
      "In no grad context\n",
      "Vector columns: ['vector', 'vector_original', 'vector_add_prev_2']\n"
     ]
    },
    {
     "name": "stderr",
     "output_type": "stream",
     "text": [
      "Embedding (GPU):  46%|████▌     | 2576/5640 [07:14<15:44,  3.24it/s]"
     ]
    },
    {
     "name": "stdout",
     "output_type": "stream",
     "text": [
      "Applying neural network model to batch starting at index 2576\n",
      "In no grad context\n",
      "Vector columns: ['vector', 'vector_original', 'vector_add_prev_2']\n"
     ]
    },
    {
     "name": "stderr",
     "output_type": "stream",
     "text": [
      "Embedding (GPU):  46%|████▌     | 2592/5640 [07:17<13:36,  3.73it/s]"
     ]
    },
    {
     "name": "stdout",
     "output_type": "stream",
     "text": [
      "Applying neural network model to batch starting at index 2592\n",
      "In no grad context\n",
      "Vector columns: ['vector', 'vector_original', 'vector_add_prev_2']\n"
     ]
    },
    {
     "name": "stderr",
     "output_type": "stream",
     "text": [
      "Embedding (GPU):  46%|████▌     | 2608/5640 [07:18<10:59,  4.59it/s]"
     ]
    },
    {
     "name": "stdout",
     "output_type": "stream",
     "text": [
      "Applying neural network model to batch starting at index 2608\n",
      "In no grad context\n",
      "Vector columns: ['vector', 'vector_original', 'vector_add_prev_2']\n"
     ]
    },
    {
     "name": "stderr",
     "output_type": "stream",
     "text": [
      "Embedding (GPU):  47%|████▋     | 2624/5640 [07:20<09:05,  5.53it/s]"
     ]
    },
    {
     "name": "stdout",
     "output_type": "stream",
     "text": [
      "Applying neural network model to batch starting at index 2624\n",
      "In no grad context\n",
      "Vector columns: ['vector', 'vector_original', 'vector_add_prev_2']\n"
     ]
    },
    {
     "name": "stderr",
     "output_type": "stream",
     "text": [
      "Embedding (GPU):  47%|████▋     | 2640/5640 [07:21<07:28,  6.70it/s]"
     ]
    },
    {
     "name": "stdout",
     "output_type": "stream",
     "text": [
      "Applying neural network model to batch starting at index 2640\n",
      "In no grad context\n",
      "Vector columns: ['vector', 'vector_original', 'vector_add_prev_2']\n"
     ]
    },
    {
     "name": "stderr",
     "output_type": "stream",
     "text": [
      "Embedding (GPU):  47%|████▋     | 2656/5640 [07:22<06:18,  7.88it/s]"
     ]
    },
    {
     "name": "stdout",
     "output_type": "stream",
     "text": [
      "Applying neural network model to batch starting at index 2656\n",
      "In no grad context\n",
      "Vector columns: ['vector', 'vector_original', 'vector_add_prev_2']\n"
     ]
    },
    {
     "name": "stderr",
     "output_type": "stream",
     "text": [
      "Embedding (GPU):  47%|████▋     | 2672/5640 [07:24<06:33,  7.54it/s]"
     ]
    },
    {
     "name": "stdout",
     "output_type": "stream",
     "text": [
      "Applying neural network model to batch starting at index 2672\n",
      "In no grad context\n",
      "Vector columns: ['vector', 'vector_original', 'vector_add_prev_2']\n"
     ]
    },
    {
     "name": "stderr",
     "output_type": "stream",
     "text": [
      "Embedding (GPU):  48%|████▊     | 2688/5640 [07:28<08:09,  6.03it/s]"
     ]
    },
    {
     "name": "stdout",
     "output_type": "stream",
     "text": [
      "Applying neural network model to batch starting at index 2688\n",
      "In no grad context\n",
      "Vector columns: ['vector', 'vector_original', 'vector_add_prev_2']\n"
     ]
    },
    {
     "name": "stderr",
     "output_type": "stream",
     "text": [
      "Embedding (GPU):  48%|████▊     | 2704/5640 [07:32<08:39,  5.65it/s]"
     ]
    },
    {
     "name": "stdout",
     "output_type": "stream",
     "text": [
      "Applying neural network model to batch starting at index 2704\n",
      "In no grad context\n",
      "Vector columns: ['vector', 'vector_original', 'vector_add_prev_2']\n"
     ]
    },
    {
     "name": "stderr",
     "output_type": "stream",
     "text": [
      "Embedding (GPU):  48%|████▊     | 2720/5640 [15:05<6:59:49,  8.63s/it]"
     ]
    },
    {
     "name": "stdout",
     "output_type": "stream",
     "text": [
      "Applying neural network model to batch starting at index 2720\n",
      "In no grad context\n",
      "Vector columns: ['vector', 'vector_original', 'vector_add_prev_2']\n"
     ]
    },
    {
     "name": "stderr",
     "output_type": "stream",
     "text": [
      "Embedding (GPU):  49%|████▊     | 2736/5640 [15:10<4:56:45,  6.13s/it]"
     ]
    },
    {
     "name": "stdout",
     "output_type": "stream",
     "text": [
      "Applying neural network model to batch starting at index 2736\n",
      "In no grad context\n",
      "Vector columns: ['vector', 'vector_original', 'vector_add_prev_2']\n"
     ]
    },
    {
     "name": "stderr",
     "output_type": "stream",
     "text": [
      "Embedding (GPU):  49%|████▉     | 2752/5640 [15:12<3:28:41,  4.34s/it]"
     ]
    },
    {
     "name": "stdout",
     "output_type": "stream",
     "text": [
      "Applying neural network model to batch starting at index 2752\n",
      "In no grad context\n",
      "Vector columns: ['vector', 'vector_original', 'vector_add_prev_2']\n"
     ]
    },
    {
     "name": "stderr",
     "output_type": "stream",
     "text": [
      "Embedding (GPU):  49%|████▉     | 2768/5640 [15:17<2:29:18,  3.12s/it]"
     ]
    },
    {
     "name": "stdout",
     "output_type": "stream",
     "text": [
      "Applying neural network model to batch starting at index 2768\n",
      "In no grad context\n",
      "Vector columns: ['vector', 'vector_original', 'vector_add_prev_2']\n"
     ]
    },
    {
     "name": "stderr",
     "output_type": "stream",
     "text": [
      "Embedding (GPU):  49%|████▉     | 2784/5640 [15:19<1:45:56,  2.23s/it]"
     ]
    },
    {
     "name": "stdout",
     "output_type": "stream",
     "text": [
      "Applying neural network model to batch starting at index 2784\n",
      "In no grad context\n",
      "Vector columns: ['vector', 'vector_original', 'vector_add_prev_2']\n"
     ]
    },
    {
     "name": "stderr",
     "output_type": "stream",
     "text": [
      "Embedding (GPU):  50%|████▉     | 2800/5640 [15:21<1:15:35,  1.60s/it]"
     ]
    },
    {
     "name": "stdout",
     "output_type": "stream",
     "text": [
      "Applying neural network model to batch starting at index 2800\n",
      "In no grad context\n",
      "Vector columns: ['vector', 'vector_original', 'vector_add_prev_2']\n"
     ]
    },
    {
     "name": "stderr",
     "output_type": "stream",
     "text": [
      "Embedding (GPU):  50%|████▉     | 2816/5640 [15:24<54:49,  1.16s/it]  "
     ]
    },
    {
     "name": "stdout",
     "output_type": "stream",
     "text": [
      "Applying neural network model to batch starting at index 2816\n",
      "In no grad context\n",
      "Vector columns: ['vector', 'vector_original', 'vector_add_prev_2']\n"
     ]
    },
    {
     "name": "stderr",
     "output_type": "stream",
     "text": [
      "Embedding (GPU):  50%|█████     | 2832/5640 [15:25<39:26,  1.19it/s]"
     ]
    },
    {
     "name": "stdout",
     "output_type": "stream",
     "text": [
      "Applying neural network model to batch starting at index 2832\n",
      "In no grad context\n",
      "Vector columns: ['vector', 'vector_original', 'vector_add_prev_2']\n"
     ]
    },
    {
     "name": "stderr",
     "output_type": "stream",
     "text": [
      "Embedding (GPU):  50%|█████     | 2848/5640 [15:28<30:03,  1.55it/s]"
     ]
    },
    {
     "name": "stdout",
     "output_type": "stream",
     "text": [
      "Applying neural network model to batch starting at index 2848\n",
      "In no grad context\n",
      "Vector columns: ['vector', 'vector_original', 'vector_add_prev_2']\n"
     ]
    },
    {
     "name": "stderr",
     "output_type": "stream",
     "text": [
      "Embedding (GPU):  51%|█████     | 2864/5640 [15:32<23:55,  1.93it/s]"
     ]
    },
    {
     "name": "stdout",
     "output_type": "stream",
     "text": [
      "Applying neural network model to batch starting at index 2864\n",
      "In no grad context\n",
      "Vector columns: ['vector', 'vector_original', 'vector_add_prev_2']\n"
     ]
    },
    {
     "name": "stderr",
     "output_type": "stream",
     "text": [
      "Embedding (GPU):  51%|█████     | 2880/5640 [15:34<18:27,  2.49it/s]"
     ]
    },
    {
     "name": "stdout",
     "output_type": "stream",
     "text": [
      "Applying neural network model to batch starting at index 2880\n",
      "In no grad context\n",
      "Vector columns: ['vector', 'vector_original', 'vector_add_prev_2']\n"
     ]
    },
    {
     "name": "stderr",
     "output_type": "stream",
     "text": [
      "Embedding (GPU):  51%|█████▏    | 2896/5640 [15:35<13:50,  3.30it/s]"
     ]
    },
    {
     "name": "stdout",
     "output_type": "stream",
     "text": [
      "Applying neural network model to batch starting at index 2896\n",
      "In no grad context\n",
      "Vector columns: ['vector', 'vector_original', 'vector_add_prev_2']\n"
     ]
    },
    {
     "name": "stderr",
     "output_type": "stream",
     "text": [
      "Embedding (GPU):  52%|█████▏    | 2912/5640 [15:37<11:10,  4.07it/s]"
     ]
    },
    {
     "name": "stdout",
     "output_type": "stream",
     "text": [
      "Applying neural network model to batch starting at index 2912\n",
      "In no grad context\n",
      "Vector columns: ['vector', 'vector_original', 'vector_add_prev_2']\n"
     ]
    },
    {
     "name": "stderr",
     "output_type": "stream",
     "text": [
      "Embedding (GPU):  52%|█████▏    | 2928/5640 [15:39<09:48,  4.61it/s]"
     ]
    },
    {
     "name": "stdout",
     "output_type": "stream",
     "text": [
      "Applying neural network model to batch starting at index 2928\n",
      "In no grad context\n",
      "Vector columns: ['vector', 'vector_original', 'vector_add_prev_2']\n"
     ]
    },
    {
     "name": "stderr",
     "output_type": "stream",
     "text": [
      "Embedding (GPU):  52%|█████▏    | 2944/5640 [15:41<08:12,  5.47it/s]"
     ]
    },
    {
     "name": "stdout",
     "output_type": "stream",
     "text": [
      "Applying neural network model to batch starting at index 2944\n",
      "In no grad context\n",
      "Vector columns: ['vector', 'vector_original', 'vector_add_prev_2']\n"
     ]
    },
    {
     "name": "stderr",
     "output_type": "stream",
     "text": [
      "Embedding (GPU):  52%|█████▏    | 2960/5640 [15:42<07:10,  6.23it/s]"
     ]
    },
    {
     "name": "stdout",
     "output_type": "stream",
     "text": [
      "Applying neural network model to batch starting at index 2960\n",
      "In no grad context\n",
      "Vector columns: ['vector', 'vector_original', 'vector_add_prev_2']\n"
     ]
    },
    {
     "name": "stderr",
     "output_type": "stream",
     "text": [
      "Embedding (GPU):  53%|█████▎    | 2976/5640 [15:44<06:03,  7.33it/s]"
     ]
    },
    {
     "name": "stdout",
     "output_type": "stream",
     "text": [
      "Applying neural network model to batch starting at index 2976\n",
      "In no grad context\n",
      "Vector columns: ['vector', 'vector_original', 'vector_add_prev_2']\n"
     ]
    },
    {
     "name": "stderr",
     "output_type": "stream",
     "text": [
      "Embedding (GPU):  53%|█████▎    | 2992/5640 [15:46<06:24,  6.89it/s]"
     ]
    },
    {
     "name": "stdout",
     "output_type": "stream",
     "text": [
      "Applying neural network model to batch starting at index 2992\n",
      "In no grad context\n",
      "Vector columns: ['vector', 'vector_original', 'vector_add_prev_2']\n"
     ]
    },
    {
     "name": "stderr",
     "output_type": "stream",
     "text": [
      "Embedding (GPU):  53%|█████▎    | 3008/5640 [15:49<06:16,  7.00it/s]"
     ]
    },
    {
     "name": "stdout",
     "output_type": "stream",
     "text": [
      "Applying neural network model to batch starting at index 3008\n",
      "In no grad context\n",
      "Vector columns: ['vector', 'vector_original', 'vector_add_prev_2']\n"
     ]
    },
    {
     "name": "stderr",
     "output_type": "stream",
     "text": [
      "Embedding (GPU):  54%|█████▎    | 3024/5640 [15:54<08:32,  5.11it/s]"
     ]
    },
    {
     "name": "stdout",
     "output_type": "stream",
     "text": [
      "Applying neural network model to batch starting at index 3024\n",
      "In no grad context\n",
      "Vector columns: ['vector', 'vector_original', 'vector_add_prev_2']\n"
     ]
    },
    {
     "name": "stderr",
     "output_type": "stream",
     "text": [
      "Embedding (GPU):  54%|█████▍    | 3040/5640 [15:56<07:59,  5.42it/s]"
     ]
    },
    {
     "name": "stdout",
     "output_type": "stream",
     "text": [
      "Applying neural network model to batch starting at index 3040\n",
      "In no grad context\n",
      "Vector columns: ['vector', 'vector_original', 'vector_add_prev_2']\n"
     ]
    },
    {
     "name": "stderr",
     "output_type": "stream",
     "text": [
      "Embedding (GPU):  54%|█████▍    | 3056/5640 [15:58<06:55,  6.22it/s]"
     ]
    },
    {
     "name": "stdout",
     "output_type": "stream",
     "text": [
      "Applying neural network model to batch starting at index 3056\n",
      "In no grad context\n",
      "Vector columns: ['vector', 'vector_original', 'vector_add_prev_2']\n"
     ]
    },
    {
     "name": "stderr",
     "output_type": "stream",
     "text": [
      "Embedding (GPU):  54%|█████▍    | 3072/5640 [16:01<07:06,  6.02it/s]"
     ]
    },
    {
     "name": "stdout",
     "output_type": "stream",
     "text": [
      "Applying neural network model to batch starting at index 3072\n",
      "In no grad context\n",
      "Vector columns: ['vector', 'vector_original', 'vector_add_prev_2']\n"
     ]
    },
    {
     "name": "stderr",
     "output_type": "stream",
     "text": [
      "Embedding (GPU):  55%|█████▍    | 3088/5640 [16:05<08:38,  4.93it/s]"
     ]
    },
    {
     "name": "stdout",
     "output_type": "stream",
     "text": [
      "Applying neural network model to batch starting at index 3088\n",
      "In no grad context\n",
      "Vector columns: ['vector', 'vector_original', 'vector_add_prev_2']\n"
     ]
    },
    {
     "name": "stderr",
     "output_type": "stream",
     "text": [
      "Embedding (GPU):  55%|█████▌    | 3104/5640 [16:09<08:54,  4.75it/s]"
     ]
    },
    {
     "name": "stdout",
     "output_type": "stream",
     "text": [
      "Applying neural network model to batch starting at index 3104\n",
      "In no grad context\n",
      "Vector columns: ['vector', 'vector_original', 'vector_add_prev_2']\n"
     ]
    },
    {
     "name": "stderr",
     "output_type": "stream",
     "text": [
      "Embedding (GPU):  55%|█████▌    | 3120/5640 [16:12<08:57,  4.69it/s]"
     ]
    },
    {
     "name": "stdout",
     "output_type": "stream",
     "text": [
      "Applying neural network model to batch starting at index 3120\n",
      "In no grad context\n",
      "Vector columns: ['vector', 'vector_original', 'vector_add_prev_2']\n"
     ]
    },
    {
     "name": "stderr",
     "output_type": "stream",
     "text": [
      "Embedding (GPU):  56%|█████▌    | 3136/5640 [16:14<07:43,  5.41it/s]"
     ]
    },
    {
     "name": "stdout",
     "output_type": "stream",
     "text": [
      "Applying neural network model to batch starting at index 3136\n",
      "In no grad context\n",
      "Vector columns: ['vector', 'vector_original', 'vector_add_prev_2']\n"
     ]
    },
    {
     "name": "stderr",
     "output_type": "stream",
     "text": [
      "Embedding (GPU):  56%|█████▌    | 3152/5640 [16:19<09:11,  4.51it/s]"
     ]
    },
    {
     "name": "stdout",
     "output_type": "stream",
     "text": [
      "Applying neural network model to batch starting at index 3152\n",
      "In no grad context\n",
      "Vector columns: ['vector', 'vector_original', 'vector_add_prev_2']\n"
     ]
    },
    {
     "name": "stderr",
     "output_type": "stream",
     "text": [
      "Embedding (GPU):  56%|█████▌    | 3168/5640 [16:21<07:40,  5.36it/s]"
     ]
    },
    {
     "name": "stdout",
     "output_type": "stream",
     "text": [
      "Applying neural network model to batch starting at index 3168\n",
      "In no grad context\n",
      "Vector columns: ['vector', 'vector_original', 'vector_add_prev_2']\n"
     ]
    },
    {
     "name": "stderr",
     "output_type": "stream",
     "text": [
      "Embedding (GPU):  56%|█████▋    | 3184/5640 [16:24<07:21,  5.57it/s]"
     ]
    },
    {
     "name": "stdout",
     "output_type": "stream",
     "text": [
      "Applying neural network model to batch starting at index 3184\n",
      "In no grad context\n",
      "Vector columns: ['vector', 'vector_original', 'vector_add_prev_2']\n"
     ]
    },
    {
     "name": "stderr",
     "output_type": "stream",
     "text": [
      "Embedding (GPU):  57%|█████▋    | 3200/5640 [16:26<06:48,  5.97it/s]"
     ]
    },
    {
     "name": "stdout",
     "output_type": "stream",
     "text": [
      "Applying neural network model to batch starting at index 3200\n",
      "In no grad context\n",
      "Vector columns: ['vector', 'vector_original', 'vector_add_prev_2']\n"
     ]
    },
    {
     "name": "stderr",
     "output_type": "stream",
     "text": [
      "Embedding (GPU):  57%|█████▋    | 3216/5640 [16:31<08:16,  4.88it/s]"
     ]
    },
    {
     "name": "stdout",
     "output_type": "stream",
     "text": [
      "Applying neural network model to batch starting at index 3216\n",
      "In no grad context\n",
      "Vector columns: ['vector', 'vector_original', 'vector_add_prev_2']\n"
     ]
    },
    {
     "name": "stderr",
     "output_type": "stream",
     "text": [
      "Embedding (GPU):  57%|█████▋    | 3232/5640 [16:33<07:40,  5.22it/s]"
     ]
    },
    {
     "name": "stdout",
     "output_type": "stream",
     "text": [
      "Applying neural network model to batch starting at index 3232\n",
      "In no grad context\n",
      "Vector columns: ['vector', 'vector_original', 'vector_add_prev_2']\n"
     ]
    },
    {
     "name": "stderr",
     "output_type": "stream",
     "text": [
      "Embedding (GPU):  58%|█████▊    | 3248/5640 [16:36<07:32,  5.28it/s]"
     ]
    },
    {
     "name": "stdout",
     "output_type": "stream",
     "text": [
      "Applying neural network model to batch starting at index 3248\n",
      "In no grad context\n",
      "Vector columns: ['vector', 'vector_original', 'vector_add_prev_2']\n"
     ]
    },
    {
     "name": "stderr",
     "output_type": "stream",
     "text": [
      "Embedding (GPU):  58%|█████▊    | 3264/5640 [16:38<06:43,  5.89it/s]"
     ]
    },
    {
     "name": "stdout",
     "output_type": "stream",
     "text": [
      "Applying neural network model to batch starting at index 3264\n",
      "In no grad context\n",
      "Vector columns: ['vector', 'vector_original', 'vector_add_prev_2']\n"
     ]
    },
    {
     "name": "stderr",
     "output_type": "stream",
     "text": [
      "Embedding (GPU):  58%|█████▊    | 3280/5640 [16:39<05:43,  6.88it/s]"
     ]
    },
    {
     "name": "stdout",
     "output_type": "stream",
     "text": [
      "Applying neural network model to batch starting at index 3280\n",
      "In no grad context\n",
      "Vector columns: ['vector', 'vector_original', 'vector_add_prev_2']\n"
     ]
    },
    {
     "name": "stderr",
     "output_type": "stream",
     "text": [
      "Embedding (GPU):  58%|█████▊    | 3296/5640 [16:42<06:00,  6.50it/s]"
     ]
    },
    {
     "name": "stdout",
     "output_type": "stream",
     "text": [
      "Applying neural network model to batch starting at index 3296\n",
      "In no grad context\n",
      "Vector columns: ['vector', 'vector_original', 'vector_add_prev_2']\n"
     ]
    },
    {
     "name": "stderr",
     "output_type": "stream",
     "text": [
      "Embedding (GPU):  59%|█████▊    | 3312/5640 [16:45<06:01,  6.44it/s]"
     ]
    },
    {
     "name": "stdout",
     "output_type": "stream",
     "text": [
      "Applying neural network model to batch starting at index 3312\n",
      "In no grad context\n",
      "Vector columns: ['vector', 'vector_original', 'vector_add_prev_2']\n"
     ]
    },
    {
     "name": "stderr",
     "output_type": "stream",
     "text": [
      "Embedding (GPU):  59%|█████▉    | 3328/5640 [16:49<07:02,  5.47it/s]"
     ]
    },
    {
     "name": "stdout",
     "output_type": "stream",
     "text": [
      "Applying neural network model to batch starting at index 3328\n",
      "In no grad context\n",
      "Vector columns: ['vector', 'vector_original', 'vector_add_prev_2']\n"
     ]
    },
    {
     "name": "stderr",
     "output_type": "stream",
     "text": [
      "Embedding (GPU):  59%|█████▉    | 3344/5640 [16:50<05:58,  6.40it/s]"
     ]
    },
    {
     "name": "stdout",
     "output_type": "stream",
     "text": [
      "Applying neural network model to batch starting at index 3344\n",
      "In no grad context\n",
      "Vector columns: ['vector', 'vector_original', 'vector_add_prev_2']\n"
     ]
    },
    {
     "name": "stderr",
     "output_type": "stream",
     "text": [
      "Embedding (GPU):  60%|█████▉    | 3360/5640 [16:53<05:56,  6.40it/s]"
     ]
    },
    {
     "name": "stdout",
     "output_type": "stream",
     "text": [
      "Applying neural network model to batch starting at index 3360\n",
      "In no grad context\n",
      "Vector columns: ['vector', 'vector_original', 'vector_add_prev_2']\n"
     ]
    },
    {
     "name": "stderr",
     "output_type": "stream",
     "text": [
      "Embedding (GPU):  60%|█████▉    | 3376/5640 [16:54<04:55,  7.66it/s]"
     ]
    },
    {
     "name": "stdout",
     "output_type": "stream",
     "text": [
      "Applying neural network model to batch starting at index 3376\n",
      "In no grad context\n",
      "Vector columns: ['vector', 'vector_original', 'vector_add_prev_2']\n"
     ]
    },
    {
     "name": "stderr",
     "output_type": "stream",
     "text": [
      "Embedding (GPU):  60%|██████    | 3392/5640 [16:56<04:46,  7.85it/s]"
     ]
    },
    {
     "name": "stdout",
     "output_type": "stream",
     "text": [
      "Applying neural network model to batch starting at index 3392\n",
      "In no grad context\n",
      "Vector columns: ['vector', 'vector_original', 'vector_add_prev_2']\n"
     ]
    },
    {
     "name": "stderr",
     "output_type": "stream",
     "text": [
      "Embedding (GPU):  60%|██████    | 3408/5640 [16:58<04:53,  7.60it/s]"
     ]
    },
    {
     "name": "stdout",
     "output_type": "stream",
     "text": [
      "Applying neural network model to batch starting at index 3408\n",
      "In no grad context\n",
      "Vector columns: ['vector', 'vector_original', 'vector_add_prev_2']\n"
     ]
    },
    {
     "name": "stderr",
     "output_type": "stream",
     "text": [
      "Embedding (GPU):  61%|██████    | 3424/5640 [17:00<04:48,  7.69it/s]"
     ]
    },
    {
     "name": "stdout",
     "output_type": "stream",
     "text": [
      "Applying neural network model to batch starting at index 3424\n",
      "In no grad context\n",
      "Vector columns: ['vector', 'vector_original', 'vector_add_prev_2']\n"
     ]
    },
    {
     "name": "stderr",
     "output_type": "stream",
     "text": [
      "Embedding (GPU):  61%|██████    | 3440/5640 [17:03<05:24,  6.77it/s]"
     ]
    },
    {
     "name": "stdout",
     "output_type": "stream",
     "text": [
      "Applying neural network model to batch starting at index 3440\n",
      "In no grad context\n",
      "Vector columns: ['vector', 'vector_original', 'vector_add_prev_2']\n"
     ]
    },
    {
     "name": "stderr",
     "output_type": "stream",
     "text": [
      "Embedding (GPU):  61%|██████▏   | 3456/5640 [17:04<04:44,  7.67it/s]"
     ]
    },
    {
     "name": "stdout",
     "output_type": "stream",
     "text": [
      "Applying neural network model to batch starting at index 3456\n",
      "In no grad context\n",
      "Vector columns: ['vector', 'vector_original', 'vector_add_prev_2']\n"
     ]
    },
    {
     "name": "stderr",
     "output_type": "stream",
     "text": [
      "Embedding (GPU):  62%|██████▏   | 3472/5640 [17:06<04:16,  8.44it/s]"
     ]
    },
    {
     "name": "stdout",
     "output_type": "stream",
     "text": [
      "Applying neural network model to batch starting at index 3472\n",
      "In no grad context\n",
      "Vector columns: ['vector', 'vector_original', 'vector_add_prev_2']\n"
     ]
    },
    {
     "name": "stderr",
     "output_type": "stream",
     "text": [
      "Embedding (GPU):  62%|██████▏   | 3488/5640 [17:09<05:13,  6.87it/s]"
     ]
    },
    {
     "name": "stdout",
     "output_type": "stream",
     "text": [
      "Applying neural network model to batch starting at index 3488\n",
      "In no grad context\n",
      "Vector columns: ['vector', 'vector_original', 'vector_add_prev_2']\n"
     ]
    },
    {
     "name": "stderr",
     "output_type": "stream",
     "text": [
      "Embedding (GPU):  62%|██████▏   | 3504/5640 [17:11<04:38,  7.66it/s]"
     ]
    },
    {
     "name": "stdout",
     "output_type": "stream",
     "text": [
      "Applying neural network model to batch starting at index 3504\n",
      "In no grad context\n",
      "Vector columns: ['vector', 'vector_original', 'vector_add_prev_2']\n"
     ]
    },
    {
     "name": "stderr",
     "output_type": "stream",
     "text": [
      "Embedding (GPU):  62%|██████▏   | 3520/5640 [17:13<04:52,  7.25it/s]"
     ]
    },
    {
     "name": "stdout",
     "output_type": "stream",
     "text": [
      "Applying neural network model to batch starting at index 3520\n",
      "In no grad context\n",
      "Vector columns: ['vector', 'vector_original', 'vector_add_prev_2']\n"
     ]
    },
    {
     "name": "stderr",
     "output_type": "stream",
     "text": [
      "Embedding (GPU):  63%|██████▎   | 3536/5640 [17:15<04:25,  7.94it/s]"
     ]
    },
    {
     "name": "stdout",
     "output_type": "stream",
     "text": [
      "Applying neural network model to batch starting at index 3536\n",
      "In no grad context\n",
      "Vector columns: ['vector', 'vector_original', 'vector_add_prev_2']\n"
     ]
    },
    {
     "name": "stderr",
     "output_type": "stream",
     "text": [
      "Embedding (GPU):  63%|██████▎   | 3552/5640 [17:19<05:33,  6.26it/s]"
     ]
    },
    {
     "name": "stdout",
     "output_type": "stream",
     "text": [
      "Applying neural network model to batch starting at index 3552\n",
      "In no grad context\n",
      "Vector columns: ['vector', 'vector_original', 'vector_add_prev_2']\n"
     ]
    },
    {
     "name": "stderr",
     "output_type": "stream",
     "text": [
      "Embedding (GPU):  63%|██████▎   | 3568/5640 [17:20<04:47,  7.20it/s]"
     ]
    },
    {
     "name": "stdout",
     "output_type": "stream",
     "text": [
      "Applying neural network model to batch starting at index 3568\n",
      "In no grad context\n",
      "Vector columns: ['vector', 'vector_original', 'vector_add_prev_2']\n"
     ]
    },
    {
     "name": "stderr",
     "output_type": "stream",
     "text": [
      "Embedding (GPU):  64%|██████▎   | 3584/5640 [17:22<04:28,  7.66it/s]"
     ]
    },
    {
     "name": "stdout",
     "output_type": "stream",
     "text": [
      "Applying neural network model to batch starting at index 3584\n",
      "In no grad context\n",
      "Vector columns: ['vector', 'vector_original', 'vector_add_prev_2']\n"
     ]
    },
    {
     "name": "stderr",
     "output_type": "stream",
     "text": [
      "Embedding (GPU):  64%|██████▍   | 3600/5640 [17:24<04:43,  7.20it/s]"
     ]
    },
    {
     "name": "stdout",
     "output_type": "stream",
     "text": [
      "Applying neural network model to batch starting at index 3600\n",
      "In no grad context\n",
      "Vector columns: ['vector', 'vector_original', 'vector_add_prev_2']\n"
     ]
    },
    {
     "name": "stderr",
     "output_type": "stream",
     "text": [
      "Embedding (GPU):  64%|██████▍   | 3616/5640 [17:29<05:52,  5.74it/s]"
     ]
    },
    {
     "name": "stdout",
     "output_type": "stream",
     "text": [
      "Applying neural network model to batch starting at index 3616\n",
      "In no grad context\n",
      "Vector columns: ['vector', 'vector_original', 'vector_add_prev_2']\n"
     ]
    },
    {
     "name": "stderr",
     "output_type": "stream",
     "text": [
      "Embedding (GPU):  64%|██████▍   | 3632/5640 [17:32<06:14,  5.36it/s]"
     ]
    },
    {
     "name": "stdout",
     "output_type": "stream",
     "text": [
      "Applying neural network model to batch starting at index 3632\n",
      "In no grad context\n",
      "Vector columns: ['vector', 'vector_original', 'vector_add_prev_2']\n"
     ]
    },
    {
     "name": "stderr",
     "output_type": "stream",
     "text": [
      "Embedding (GPU):  65%|██████▍   | 3648/5640 [17:34<05:52,  5.65it/s]"
     ]
    },
    {
     "name": "stdout",
     "output_type": "stream",
     "text": [
      "Applying neural network model to batch starting at index 3648\n",
      "In no grad context\n",
      "Vector columns: ['vector', 'vector_original', 'vector_add_prev_2']\n"
     ]
    },
    {
     "name": "stderr",
     "output_type": "stream",
     "text": [
      "Embedding (GPU):  65%|██████▍   | 3664/5640 [17:36<05:16,  6.24it/s]"
     ]
    },
    {
     "name": "stdout",
     "output_type": "stream",
     "text": [
      "Applying neural network model to batch starting at index 3664\n",
      "In no grad context\n",
      "Vector columns: ['vector', 'vector_original', 'vector_add_prev_2']\n"
     ]
    },
    {
     "name": "stderr",
     "output_type": "stream",
     "text": [
      "Embedding (GPU):  65%|██████▌   | 3680/5640 [17:38<04:26,  7.36it/s]"
     ]
    },
    {
     "name": "stdout",
     "output_type": "stream",
     "text": [
      "Applying neural network model to batch starting at index 3680\n",
      "In no grad context\n",
      "Vector columns: ['vector', 'vector_original', 'vector_add_prev_2']\n"
     ]
    },
    {
     "name": "stderr",
     "output_type": "stream",
     "text": [
      "Embedding (GPU):  66%|██████▌   | 3696/5640 [17:39<04:09,  7.79it/s]"
     ]
    },
    {
     "name": "stdout",
     "output_type": "stream",
     "text": [
      "Applying neural network model to batch starting at index 3696\n",
      "In no grad context\n",
      "Vector columns: ['vector', 'vector_original', 'vector_add_prev_2']\n"
     ]
    },
    {
     "name": "stderr",
     "output_type": "stream",
     "text": [
      "Embedding (GPU):  66%|██████▌   | 3712/5640 [17:42<04:22,  7.34it/s]"
     ]
    },
    {
     "name": "stdout",
     "output_type": "stream",
     "text": [
      "Applying neural network model to batch starting at index 3712\n",
      "In no grad context\n",
      "Vector columns: ['vector', 'vector_original', 'vector_add_prev_2']\n"
     ]
    },
    {
     "name": "stderr",
     "output_type": "stream",
     "text": [
      "Embedding (GPU):  66%|██████▌   | 3728/5640 [17:46<05:16,  6.04it/s]"
     ]
    },
    {
     "name": "stdout",
     "output_type": "stream",
     "text": [
      "Applying neural network model to batch starting at index 3728\n",
      "In no grad context\n",
      "Vector columns: ['vector', 'vector_original', 'vector_add_prev_2']\n"
     ]
    },
    {
     "name": "stderr",
     "output_type": "stream",
     "text": [
      "Embedding (GPU):  66%|██████▋   | 3744/5640 [17:47<04:24,  7.17it/s]"
     ]
    },
    {
     "name": "stdout",
     "output_type": "stream",
     "text": [
      "Applying neural network model to batch starting at index 3744\n",
      "In no grad context\n",
      "Vector columns: ['vector', 'vector_original', 'vector_add_prev_2']\n"
     ]
    },
    {
     "name": "stderr",
     "output_type": "stream",
     "text": [
      "Embedding (GPU):  67%|██████▋   | 3760/5640 [17:48<03:53,  8.06it/s]"
     ]
    },
    {
     "name": "stdout",
     "output_type": "stream",
     "text": [
      "Applying neural network model to batch starting at index 3760\n",
      "In no grad context\n",
      "Vector columns: ['vector', 'vector_original', 'vector_add_prev_2']\n"
     ]
    },
    {
     "name": "stderr",
     "output_type": "stream",
     "text": [
      "Embedding (GPU):  67%|██████▋   | 3776/5640 [17:50<03:36,  8.61it/s]"
     ]
    },
    {
     "name": "stdout",
     "output_type": "stream",
     "text": [
      "Applying neural network model to batch starting at index 3776\n",
      "In no grad context\n",
      "Vector columns: ['vector', 'vector_original', 'vector_add_prev_2']\n"
     ]
    },
    {
     "name": "stderr",
     "output_type": "stream",
     "text": [
      "Embedding (GPU):  67%|██████▋   | 3792/5640 [17:52<03:31,  8.72it/s]"
     ]
    },
    {
     "name": "stdout",
     "output_type": "stream",
     "text": [
      "Applying neural network model to batch starting at index 3792\n",
      "In no grad context\n",
      "Vector columns: ['vector', 'vector_original', 'vector_add_prev_2']\n"
     ]
    },
    {
     "name": "stderr",
     "output_type": "stream",
     "text": [
      "Embedding (GPU):  68%|██████▊   | 3808/5640 [17:55<04:21,  7.00it/s]"
     ]
    },
    {
     "name": "stdout",
     "output_type": "stream",
     "text": [
      "Applying neural network model to batch starting at index 3808\n",
      "In no grad context\n",
      "Vector columns: ['vector', 'vector_original', 'vector_add_prev_2']\n"
     ]
    },
    {
     "name": "stderr",
     "output_type": "stream",
     "text": [
      "Embedding (GPU):  68%|██████▊   | 3824/5640 [17:56<03:50,  7.89it/s]"
     ]
    },
    {
     "name": "stdout",
     "output_type": "stream",
     "text": [
      "Applying neural network model to batch starting at index 3824\n",
      "In no grad context\n",
      "Vector columns: ['vector', 'vector_original', 'vector_add_prev_2']\n"
     ]
    },
    {
     "name": "stderr",
     "output_type": "stream",
     "text": [
      "Embedding (GPU):  68%|██████▊   | 3840/5640 [17:58<03:28,  8.64it/s]"
     ]
    },
    {
     "name": "stdout",
     "output_type": "stream",
     "text": [
      "Applying neural network model to batch starting at index 3840\n",
      "In no grad context\n",
      "Vector columns: ['vector', 'vector_original', 'vector_add_prev_2']\n"
     ]
    },
    {
     "name": "stderr",
     "output_type": "stream",
     "text": [
      "Embedding (GPU):  68%|██████▊   | 3856/5640 [17:59<03:10,  9.37it/s]"
     ]
    },
    {
     "name": "stdout",
     "output_type": "stream",
     "text": [
      "Applying neural network model to batch starting at index 3856\n",
      "In no grad context\n",
      "Vector columns: ['vector', 'vector_original', 'vector_add_prev_2']\n"
     ]
    },
    {
     "name": "stderr",
     "output_type": "stream",
     "text": [
      "Embedding (GPU):  69%|██████▊   | 3872/5640 [18:01<03:03,  9.66it/s]"
     ]
    },
    {
     "name": "stdout",
     "output_type": "stream",
     "text": [
      "Applying neural network model to batch starting at index 3872\n",
      "In no grad context\n",
      "Vector columns: ['vector', 'vector_original', 'vector_add_prev_2']\n"
     ]
    },
    {
     "name": "stderr",
     "output_type": "stream",
     "text": [
      "Embedding (GPU):  69%|██████▉   | 3888/5640 [18:05<04:12,  6.93it/s]"
     ]
    },
    {
     "name": "stdout",
     "output_type": "stream",
     "text": [
      "Applying neural network model to batch starting at index 3888\n",
      "In no grad context\n",
      "Vector columns: ['vector', 'vector_original', 'vector_add_prev_2']\n"
     ]
    },
    {
     "name": "stderr",
     "output_type": "stream",
     "text": [
      "Embedding (GPU):  69%|██████▉   | 3904/5640 [18:06<03:39,  7.92it/s]"
     ]
    },
    {
     "name": "stdout",
     "output_type": "stream",
     "text": [
      "Applying neural network model to batch starting at index 3904\n",
      "In no grad context\n",
      "Vector columns: ['vector', 'vector_original', 'vector_add_prev_2']\n"
     ]
    },
    {
     "name": "stderr",
     "output_type": "stream",
     "text": [
      "Embedding (GPU):  70%|██████▉   | 3920/5640 [18:07<03:18,  8.68it/s]"
     ]
    },
    {
     "name": "stdout",
     "output_type": "stream",
     "text": [
      "Applying neural network model to batch starting at index 3920\n",
      "In no grad context\n",
      "Vector columns: ['vector', 'vector_original', 'vector_add_prev_2']\n"
     ]
    },
    {
     "name": "stderr",
     "output_type": "stream",
     "text": [
      "Embedding (GPU):  70%|██████▉   | 3936/5640 [18:11<04:18,  6.58it/s]"
     ]
    },
    {
     "name": "stdout",
     "output_type": "stream",
     "text": [
      "Applying neural network model to batch starting at index 3936\n",
      "In no grad context\n",
      "Vector columns: ['vector', 'vector_original', 'vector_add_prev_2']\n"
     ]
    },
    {
     "name": "stderr",
     "output_type": "stream",
     "text": [
      "Embedding (GPU):  70%|███████   | 3952/5640 [18:13<04:06,  6.84it/s]"
     ]
    },
    {
     "name": "stdout",
     "output_type": "stream",
     "text": [
      "Applying neural network model to batch starting at index 3952\n",
      "In no grad context\n",
      "Vector columns: ['vector', 'vector_original', 'vector_add_prev_2']\n"
     ]
    },
    {
     "name": "stderr",
     "output_type": "stream",
     "text": [
      "Embedding (GPU):  70%|███████   | 3968/5640 [18:15<03:37,  7.71it/s]"
     ]
    },
    {
     "name": "stdout",
     "output_type": "stream",
     "text": [
      "Applying neural network model to batch starting at index 3968\n",
      "In no grad context\n",
      "Vector columns: ['vector', 'vector_original', 'vector_add_prev_2']\n"
     ]
    },
    {
     "name": "stderr",
     "output_type": "stream",
     "text": [
      "Embedding (GPU):  71%|███████   | 3984/5640 [18:16<03:12,  8.62it/s]"
     ]
    },
    {
     "name": "stdout",
     "output_type": "stream",
     "text": [
      "Applying neural network model to batch starting at index 3984\n",
      "In no grad context\n",
      "Vector columns: ['vector', 'vector_original', 'vector_add_prev_2']\n"
     ]
    },
    {
     "name": "stderr",
     "output_type": "stream",
     "text": [
      "Embedding (GPU):  71%|███████   | 4000/5640 [18:20<04:04,  6.72it/s]"
     ]
    },
    {
     "name": "stdout",
     "output_type": "stream",
     "text": [
      "Applying neural network model to batch starting at index 4000\n",
      "In no grad context\n",
      "Vector columns: ['vector', 'vector_original', 'vector_add_prev_2']\n"
     ]
    },
    {
     "name": "stderr",
     "output_type": "stream",
     "text": [
      "Embedding (GPU):  71%|███████   | 4016/5640 [18:21<03:42,  7.30it/s]"
     ]
    },
    {
     "name": "stdout",
     "output_type": "stream",
     "text": [
      "Applying neural network model to batch starting at index 4016\n",
      "In no grad context\n",
      "Vector columns: ['vector', 'vector_original', 'vector_add_prev_2']\n"
     ]
    },
    {
     "name": "stderr",
     "output_type": "stream",
     "text": [
      "Embedding (GPU):  71%|███████▏  | 4032/5640 [18:23<03:27,  7.74it/s]"
     ]
    },
    {
     "name": "stdout",
     "output_type": "stream",
     "text": [
      "Applying neural network model to batch starting at index 4032\n",
      "In no grad context\n",
      "Vector columns: ['vector', 'vector_original', 'vector_add_prev_2']\n"
     ]
    },
    {
     "name": "stderr",
     "output_type": "stream",
     "text": [
      "Embedding (GPU):  72%|███████▏  | 4048/5640 [18:25<03:24,  7.77it/s]"
     ]
    },
    {
     "name": "stdout",
     "output_type": "stream",
     "text": [
      "Applying neural network model to batch starting at index 4048\n",
      "In no grad context\n",
      "Vector columns: ['vector', 'vector_original', 'vector_add_prev_2']\n"
     ]
    },
    {
     "name": "stderr",
     "output_type": "stream",
     "text": [
      "Embedding (GPU):  72%|███████▏  | 4064/5640 [18:27<03:16,  8.04it/s]"
     ]
    },
    {
     "name": "stdout",
     "output_type": "stream",
     "text": [
      "Applying neural network model to batch starting at index 4064\n",
      "In no grad context\n",
      "Vector columns: ['vector', 'vector_original', 'vector_add_prev_2']\n"
     ]
    },
    {
     "name": "stderr",
     "output_type": "stream",
     "text": [
      "Embedding (GPU):  72%|███████▏  | 4080/5640 [18:29<03:03,  8.49it/s]"
     ]
    },
    {
     "name": "stdout",
     "output_type": "stream",
     "text": [
      "Applying neural network model to batch starting at index 4080\n",
      "In no grad context\n",
      "Vector columns: ['vector', 'vector_original', 'vector_add_prev_2']\n"
     ]
    },
    {
     "name": "stderr",
     "output_type": "stream",
     "text": [
      "Embedding (GPU):  73%|███████▎  | 4096/5640 [18:32<03:38,  7.07it/s]"
     ]
    },
    {
     "name": "stdout",
     "output_type": "stream",
     "text": [
      "Applying neural network model to batch starting at index 4096\n",
      "In no grad context\n",
      "Vector columns: ['vector', 'vector_original', 'vector_add_prev_2']\n"
     ]
    },
    {
     "name": "stderr",
     "output_type": "stream",
     "text": [
      "Embedding (GPU):  73%|███████▎  | 4112/5640 [18:37<04:45,  5.36it/s]"
     ]
    },
    {
     "name": "stdout",
     "output_type": "stream",
     "text": [
      "Applying neural network model to batch starting at index 4112\n",
      "In no grad context\n",
      "Vector columns: ['vector', 'vector_original', 'vector_add_prev_2']\n"
     ]
    },
    {
     "name": "stderr",
     "output_type": "stream",
     "text": [
      "Embedding (GPU):  73%|███████▎  | 4128/5640 [18:41<05:14,  4.81it/s]"
     ]
    },
    {
     "name": "stdout",
     "output_type": "stream",
     "text": [
      "Applying neural network model to batch starting at index 4128\n",
      "In no grad context\n",
      "Vector columns: ['vector', 'vector_original', 'vector_add_prev_2']\n"
     ]
    },
    {
     "name": "stderr",
     "output_type": "stream",
     "text": [
      "Embedding (GPU):  73%|███████▎  | 4144/5640 [18:43<04:41,  5.31it/s]"
     ]
    },
    {
     "name": "stdout",
     "output_type": "stream",
     "text": [
      "Applying neural network model to batch starting at index 4144\n",
      "In no grad context\n",
      "Vector columns: ['vector', 'vector_original', 'vector_add_prev_2']\n"
     ]
    },
    {
     "name": "stderr",
     "output_type": "stream",
     "text": [
      "Embedding (GPU):  74%|███████▍  | 4160/5640 [18:44<03:52,  6.37it/s]"
     ]
    },
    {
     "name": "stdout",
     "output_type": "stream",
     "text": [
      "Applying neural network model to batch starting at index 4160\n",
      "In no grad context\n",
      "Vector columns: ['vector', 'vector_original', 'vector_add_prev_2']\n"
     ]
    },
    {
     "name": "stderr",
     "output_type": "stream",
     "text": [
      "Embedding (GPU):  74%|███████▍  | 4176/5640 [18:48<04:08,  5.90it/s]"
     ]
    },
    {
     "name": "stdout",
     "output_type": "stream",
     "text": [
      "Applying neural network model to batch starting at index 4176\n",
      "In no grad context\n",
      "Vector columns: ['vector', 'vector_original', 'vector_add_prev_2']\n"
     ]
    },
    {
     "name": "stderr",
     "output_type": "stream",
     "text": [
      "Embedding (GPU):  74%|███████▍  | 4192/5640 [18:51<04:31,  5.33it/s]"
     ]
    },
    {
     "name": "stdout",
     "output_type": "stream",
     "text": [
      "Applying neural network model to batch starting at index 4192\n",
      "In no grad context\n",
      "Vector columns: ['vector', 'vector_original', 'vector_add_prev_2']\n"
     ]
    },
    {
     "name": "stderr",
     "output_type": "stream",
     "text": [
      "Embedding (GPU):  75%|███████▍  | 4208/5640 [18:55<04:48,  4.96it/s]"
     ]
    },
    {
     "name": "stdout",
     "output_type": "stream",
     "text": [
      "Applying neural network model to batch starting at index 4208\n",
      "In no grad context\n",
      "Vector columns: ['vector', 'vector_original', 'vector_add_prev_2']\n"
     ]
    },
    {
     "name": "stderr",
     "output_type": "stream",
     "text": [
      "Embedding (GPU):  75%|███████▍  | 4224/5640 [18:57<04:11,  5.63it/s]"
     ]
    },
    {
     "name": "stdout",
     "output_type": "stream",
     "text": [
      "Applying neural network model to batch starting at index 4224\n",
      "In no grad context\n",
      "Vector columns: ['vector', 'vector_original', 'vector_add_prev_2']\n"
     ]
    },
    {
     "name": "stderr",
     "output_type": "stream",
     "text": [
      "Embedding (GPU):  75%|███████▌  | 4240/5640 [18:59<03:58,  5.86it/s]"
     ]
    },
    {
     "name": "stdout",
     "output_type": "stream",
     "text": [
      "Applying neural network model to batch starting at index 4240\n",
      "In no grad context\n",
      "Vector columns: ['vector', 'vector_original', 'vector_add_prev_2']\n"
     ]
    },
    {
     "name": "stderr",
     "output_type": "stream",
     "text": [
      "Embedding (GPU):  75%|███████▌  | 4256/5640 [19:01<03:16,  7.03it/s]"
     ]
    },
    {
     "name": "stdout",
     "output_type": "stream",
     "text": [
      "Applying neural network model to batch starting at index 4256\n",
      "In no grad context\n",
      "Vector columns: ['vector', 'vector_original', 'vector_add_prev_2']\n"
     ]
    },
    {
     "name": "stderr",
     "output_type": "stream",
     "text": [
      "Embedding (GPU):  76%|███████▌  | 4272/5640 [19:02<02:53,  7.90it/s]"
     ]
    },
    {
     "name": "stdout",
     "output_type": "stream",
     "text": [
      "Applying neural network model to batch starting at index 4272\n",
      "In no grad context\n",
      "Vector columns: ['vector', 'vector_original', 'vector_add_prev_2']\n"
     ]
    },
    {
     "name": "stderr",
     "output_type": "stream",
     "text": [
      "Embedding (GPU):  76%|███████▌  | 4288/5640 [19:04<02:38,  8.50it/s]"
     ]
    },
    {
     "name": "stdout",
     "output_type": "stream",
     "text": [
      "Applying neural network model to batch starting at index 4288\n",
      "In no grad context\n",
      "Vector columns: ['vector', 'vector_original', 'vector_add_prev_2']\n"
     ]
    },
    {
     "name": "stderr",
     "output_type": "stream",
     "text": [
      "Embedding (GPU):  76%|███████▋  | 4304/5640 [19:05<02:27,  9.05it/s]"
     ]
    },
    {
     "name": "stdout",
     "output_type": "stream",
     "text": [
      "Applying neural network model to batch starting at index 4304\n",
      "In no grad context\n",
      "Vector columns: ['vector', 'vector_original', 'vector_add_prev_2']\n"
     ]
    },
    {
     "name": "stderr",
     "output_type": "stream",
     "text": [
      "Embedding (GPU):  77%|███████▋  | 4320/5640 [19:14<05:25,  4.06it/s]"
     ]
    },
    {
     "name": "stdout",
     "output_type": "stream",
     "text": [
      "Applying neural network model to batch starting at index 4320\n",
      "In no grad context\n",
      "Vector columns: ['vector', 'vector_original', 'vector_add_prev_2']\n"
     ]
    },
    {
     "name": "stderr",
     "output_type": "stream",
     "text": [
      "Embedding (GPU):  77%|███████▋  | 4336/5640 [19:17<04:45,  4.57it/s]"
     ]
    },
    {
     "name": "stdout",
     "output_type": "stream",
     "text": [
      "Applying neural network model to batch starting at index 4336\n",
      "In no grad context\n",
      "Vector columns: ['vector', 'vector_original', 'vector_add_prev_2']\n"
     ]
    },
    {
     "name": "stderr",
     "output_type": "stream",
     "text": [
      "Embedding (GPU):  77%|███████▋  | 4352/5640 [19:19<04:26,  4.83it/s]"
     ]
    },
    {
     "name": "stdout",
     "output_type": "stream",
     "text": [
      "Applying neural network model to batch starting at index 4352\n",
      "In no grad context\n",
      "Vector columns: ['vector', 'vector_original', 'vector_add_prev_2']\n"
     ]
    },
    {
     "name": "stderr",
     "output_type": "stream",
     "text": [
      "Embedding (GPU):  77%|███████▋  | 4368/5640 [19:21<03:43,  5.70it/s]"
     ]
    },
    {
     "name": "stdout",
     "output_type": "stream",
     "text": [
      "Applying neural network model to batch starting at index 4368\n",
      "In no grad context\n",
      "Vector columns: ['vector', 'vector_original', 'vector_add_prev_2']\n"
     ]
    },
    {
     "name": "stderr",
     "output_type": "stream",
     "text": [
      "Embedding (GPU):  78%|███████▊  | 4384/5640 [19:27<04:57,  4.22it/s]"
     ]
    },
    {
     "name": "stdout",
     "output_type": "stream",
     "text": [
      "Applying neural network model to batch starting at index 4384\n",
      "In no grad context\n",
      "Vector columns: ['vector', 'vector_original', 'vector_add_prev_2']\n"
     ]
    },
    {
     "name": "stderr",
     "output_type": "stream",
     "text": [
      "Embedding (GPU):  78%|███████▊  | 4400/5640 [19:29<04:02,  5.12it/s]"
     ]
    },
    {
     "name": "stdout",
     "output_type": "stream",
     "text": [
      "Applying neural network model to batch starting at index 4400\n",
      "In no grad context\n",
      "Vector columns: ['vector', 'vector_original', 'vector_add_prev_2']\n"
     ]
    },
    {
     "name": "stderr",
     "output_type": "stream",
     "text": [
      "Embedding (GPU):  78%|███████▊  | 4416/5640 [19:31<03:42,  5.49it/s]"
     ]
    },
    {
     "name": "stdout",
     "output_type": "stream",
     "text": [
      "Applying neural network model to batch starting at index 4416\n",
      "In no grad context\n",
      "Vector columns: ['vector', 'vector_original', 'vector_add_prev_2']\n"
     ]
    },
    {
     "name": "stderr",
     "output_type": "stream",
     "text": [
      "Embedding (GPU):  79%|███████▊  | 4432/5640 [19:33<03:16,  6.15it/s]"
     ]
    },
    {
     "name": "stdout",
     "output_type": "stream",
     "text": [
      "Applying neural network model to batch starting at index 4432\n",
      "In no grad context\n",
      "Vector columns: ['vector', 'vector_original', 'vector_add_prev_2']\n"
     ]
    },
    {
     "name": "stderr",
     "output_type": "stream",
     "text": [
      "Embedding (GPU):  79%|███████▉  | 4448/5640 [19:34<02:43,  7.27it/s]"
     ]
    },
    {
     "name": "stdout",
     "output_type": "stream",
     "text": [
      "Applying neural network model to batch starting at index 4448\n",
      "In no grad context\n",
      "Vector columns: ['vector', 'vector_original', 'vector_add_prev_2']\n"
     ]
    },
    {
     "name": "stderr",
     "output_type": "stream",
     "text": [
      "Embedding (GPU):  79%|███████▉  | 4464/5640 [19:39<03:37,  5.41it/s]"
     ]
    },
    {
     "name": "stdout",
     "output_type": "stream",
     "text": [
      "Applying neural network model to batch starting at index 4464\n",
      "In no grad context\n",
      "Vector columns: ['vector', 'vector_original', 'vector_add_prev_2']\n"
     ]
    },
    {
     "name": "stderr",
     "output_type": "stream",
     "text": [
      "Embedding (GPU):  79%|███████▉  | 4480/5640 [19:41<03:18,  5.83it/s]"
     ]
    },
    {
     "name": "stdout",
     "output_type": "stream",
     "text": [
      "Applying neural network model to batch starting at index 4480\n",
      "In no grad context\n",
      "Vector columns: ['vector', 'vector_original', 'vector_add_prev_2']\n"
     ]
    },
    {
     "name": "stderr",
     "output_type": "stream",
     "text": [
      "Embedding (GPU):  80%|███████▉  | 4496/5640 [19:43<02:50,  6.70it/s]"
     ]
    },
    {
     "name": "stdout",
     "output_type": "stream",
     "text": [
      "Applying neural network model to batch starting at index 4496\n",
      "In no grad context\n",
      "Vector columns: ['vector', 'vector_original', 'vector_add_prev_2']\n"
     ]
    },
    {
     "name": "stderr",
     "output_type": "stream",
     "text": [
      "Embedding (GPU):  80%|████████  | 4512/5640 [19:45<02:38,  7.14it/s]"
     ]
    },
    {
     "name": "stdout",
     "output_type": "stream",
     "text": [
      "Applying neural network model to batch starting at index 4512\n",
      "In no grad context\n",
      "Vector columns: ['vector', 'vector_original', 'vector_add_prev_2']\n"
     ]
    },
    {
     "name": "stderr",
     "output_type": "stream",
     "text": [
      "Embedding (GPU):  80%|████████  | 4528/5640 [19:47<02:28,  7.48it/s]"
     ]
    },
    {
     "name": "stdout",
     "output_type": "stream",
     "text": [
      "Applying neural network model to batch starting at index 4528\n",
      "In no grad context\n",
      "Vector columns: ['vector', 'vector_original', 'vector_add_prev_2']\n"
     ]
    },
    {
     "name": "stderr",
     "output_type": "stream",
     "text": [
      "Embedding (GPU):  81%|████████  | 4544/5640 [19:48<02:19,  7.83it/s]"
     ]
    },
    {
     "name": "stdout",
     "output_type": "stream",
     "text": [
      "Applying neural network model to batch starting at index 4544\n",
      "In no grad context\n",
      "Vector columns: ['vector', 'vector_original', 'vector_add_prev_2']\n"
     ]
    },
    {
     "name": "stderr",
     "output_type": "stream",
     "text": [
      "Embedding (GPU):  81%|████████  | 4560/5640 [19:50<02:07,  8.50it/s]"
     ]
    },
    {
     "name": "stdout",
     "output_type": "stream",
     "text": [
      "Applying neural network model to batch starting at index 4560\n",
      "In no grad context\n",
      "Vector columns: ['vector', 'vector_original', 'vector_add_prev_2']\n"
     ]
    },
    {
     "name": "stderr",
     "output_type": "stream",
     "text": [
      "Embedding (GPU):  81%|████████  | 4576/5640 [19:53<02:31,  7.01it/s]"
     ]
    },
    {
     "name": "stdout",
     "output_type": "stream",
     "text": [
      "Applying neural network model to batch starting at index 4576\n",
      "In no grad context\n",
      "Vector columns: ['vector', 'vector_original', 'vector_add_prev_2']\n"
     ]
    },
    {
     "name": "stderr",
     "output_type": "stream",
     "text": [
      "Embedding (GPU):  81%|████████▏ | 4592/5640 [19:56<02:38,  6.63it/s]"
     ]
    },
    {
     "name": "stdout",
     "output_type": "stream",
     "text": [
      "Applying neural network model to batch starting at index 4592\n",
      "In no grad context\n",
      "Vector columns: ['vector', 'vector_original', 'vector_add_prev_2']\n"
     ]
    },
    {
     "name": "stderr",
     "output_type": "stream",
     "text": [
      "Embedding (GPU):  82%|████████▏ | 4608/5640 [20:00<03:16,  5.25it/s]"
     ]
    },
    {
     "name": "stdout",
     "output_type": "stream",
     "text": [
      "Applying neural network model to batch starting at index 4608\n",
      "In no grad context\n",
      "Vector columns: ['vector', 'vector_original', 'vector_add_prev_2']\n"
     ]
    },
    {
     "name": "stderr",
     "output_type": "stream",
     "text": [
      "Embedding (GPU):  82%|████████▏ | 4624/5640 [20:02<02:48,  6.02it/s]"
     ]
    },
    {
     "name": "stdout",
     "output_type": "stream",
     "text": [
      "Applying neural network model to batch starting at index 4624\n",
      "In no grad context\n",
      "Vector columns: ['vector', 'vector_original', 'vector_add_prev_2']\n"
     ]
    },
    {
     "name": "stderr",
     "output_type": "stream",
     "text": [
      "Embedding (GPU):  82%|████████▏ | 4640/5640 [20:04<02:38,  6.29it/s]"
     ]
    },
    {
     "name": "stdout",
     "output_type": "stream",
     "text": [
      "Applying neural network model to batch starting at index 4640\n",
      "In no grad context\n",
      "Vector columns: ['vector', 'vector_original', 'vector_add_prev_2']\n"
     ]
    },
    {
     "name": "stderr",
     "output_type": "stream",
     "text": [
      "Embedding (GPU):  83%|████████▎ | 4656/5640 [20:06<02:27,  6.67it/s]"
     ]
    },
    {
     "name": "stdout",
     "output_type": "stream",
     "text": [
      "Applying neural network model to batch starting at index 4656\n",
      "In no grad context\n",
      "Vector columns: ['vector', 'vector_original', 'vector_add_prev_2']\n"
     ]
    },
    {
     "name": "stderr",
     "output_type": "stream",
     "text": [
      "Embedding (GPU):  83%|████████▎ | 4672/5640 [20:08<02:16,  7.08it/s]"
     ]
    },
    {
     "name": "stdout",
     "output_type": "stream",
     "text": [
      "Applying neural network model to batch starting at index 4672\n",
      "In no grad context\n",
      "Vector columns: ['vector', 'vector_original', 'vector_add_prev_2']\n"
     ]
    },
    {
     "name": "stderr",
     "output_type": "stream",
     "text": [
      "Embedding (GPU):  83%|████████▎ | 4688/5640 [20:11<02:25,  6.55it/s]"
     ]
    },
    {
     "name": "stdout",
     "output_type": "stream",
     "text": [
      "Applying neural network model to batch starting at index 4688\n",
      "In no grad context\n",
      "Vector columns: ['vector', 'vector_original', 'vector_add_prev_2']\n"
     ]
    },
    {
     "name": "stderr",
     "output_type": "stream",
     "text": [
      "Embedding (GPU):  83%|████████▎ | 4704/5640 [20:14<02:20,  6.67it/s]"
     ]
    },
    {
     "name": "stdout",
     "output_type": "stream",
     "text": [
      "Applying neural network model to batch starting at index 4704\n",
      "In no grad context\n",
      "Vector columns: ['vector', 'vector_original', 'vector_add_prev_2']\n"
     ]
    },
    {
     "name": "stderr",
     "output_type": "stream",
     "text": [
      "Embedding (GPU):  84%|████████▎ | 4720/5640 [20:15<01:54,  8.01it/s]"
     ]
    },
    {
     "name": "stdout",
     "output_type": "stream",
     "text": [
      "Applying neural network model to batch starting at index 4720\n",
      "In no grad context\n",
      "Vector columns: ['vector', 'vector_original', 'vector_add_prev_2']\n"
     ]
    },
    {
     "name": "stderr",
     "output_type": "stream",
     "text": [
      "Embedding (GPU):  84%|████████▍ | 4736/5640 [20:17<02:04,  7.27it/s]"
     ]
    },
    {
     "name": "stdout",
     "output_type": "stream",
     "text": [
      "Applying neural network model to batch starting at index 4736\n",
      "In no grad context\n",
      "Vector columns: ['vector', 'vector_original', 'vector_add_prev_2']\n"
     ]
    },
    {
     "name": "stderr",
     "output_type": "stream",
     "text": [
      "Embedding (GPU):  84%|████████▍ | 4752/5640 [20:20<02:17,  6.47it/s]"
     ]
    },
    {
     "name": "stdout",
     "output_type": "stream",
     "text": [
      "Applying neural network model to batch starting at index 4752\n",
      "In no grad context\n",
      "Vector columns: ['vector', 'vector_original', 'vector_add_prev_2']\n"
     ]
    },
    {
     "name": "stderr",
     "output_type": "stream",
     "text": [
      "Embedding (GPU):  85%|████████▍ | 4768/5640 [20:23<02:13,  6.53it/s]"
     ]
    },
    {
     "name": "stdout",
     "output_type": "stream",
     "text": [
      "Applying neural network model to batch starting at index 4768\n",
      "In no grad context\n",
      "Vector columns: ['vector', 'vector_original', 'vector_add_prev_2']\n"
     ]
    },
    {
     "name": "stderr",
     "output_type": "stream",
     "text": [
      "Embedding (GPU):  85%|████████▍ | 4784/5640 [20:24<01:53,  7.57it/s]"
     ]
    },
    {
     "name": "stdout",
     "output_type": "stream",
     "text": [
      "Applying neural network model to batch starting at index 4784\n",
      "In no grad context\n",
      "Vector columns: ['vector', 'vector_original', 'vector_add_prev_2']\n"
     ]
    },
    {
     "name": "stderr",
     "output_type": "stream",
     "text": [
      "Embedding (GPU):  85%|████████▌ | 4800/5640 [20:26<01:42,  8.18it/s]"
     ]
    },
    {
     "name": "stdout",
     "output_type": "stream",
     "text": [
      "Applying neural network model to batch starting at index 4800\n",
      "In no grad context\n",
      "Vector columns: ['vector', 'vector_original', 'vector_add_prev_2']\n"
     ]
    },
    {
     "name": "stderr",
     "output_type": "stream",
     "text": [
      "Embedding (GPU):  85%|████████▌ | 4816/5640 [20:29<01:57,  7.04it/s]"
     ]
    },
    {
     "name": "stdout",
     "output_type": "stream",
     "text": [
      "Applying neural network model to batch starting at index 4816\n",
      "In no grad context\n",
      "Vector columns: ['vector', 'vector_original', 'vector_add_prev_2']\n"
     ]
    },
    {
     "name": "stderr",
     "output_type": "stream",
     "text": [
      "Embedding (GPU):  86%|████████▌ | 4832/5640 [20:31<01:58,  6.81it/s]"
     ]
    },
    {
     "name": "stdout",
     "output_type": "stream",
     "text": [
      "Applying neural network model to batch starting at index 4832\n",
      "In no grad context\n",
      "Vector columns: ['vector', 'vector_original', 'vector_add_prev_2']\n"
     ]
    },
    {
     "name": "stderr",
     "output_type": "stream",
     "text": [
      "Embedding (GPU):  86%|████████▌ | 4848/5640 [20:33<01:54,  6.91it/s]"
     ]
    },
    {
     "name": "stdout",
     "output_type": "stream",
     "text": [
      "Applying neural network model to batch starting at index 4848\n",
      "In no grad context\n",
      "Vector columns: ['vector', 'vector_original', 'vector_add_prev_2']\n"
     ]
    },
    {
     "name": "stderr",
     "output_type": "stream",
     "text": [
      "Embedding (GPU):  86%|████████▌ | 4864/5640 [20:35<01:41,  7.68it/s]"
     ]
    },
    {
     "name": "stdout",
     "output_type": "stream",
     "text": [
      "Applying neural network model to batch starting at index 4864\n",
      "In no grad context\n",
      "Vector columns: ['vector', 'vector_original', 'vector_add_prev_2']\n"
     ]
    },
    {
     "name": "stderr",
     "output_type": "stream",
     "text": [
      "Embedding (GPU):  87%|████████▋ | 4880/5640 [20:36<01:27,  8.66it/s]"
     ]
    },
    {
     "name": "stdout",
     "output_type": "stream",
     "text": [
      "Applying neural network model to batch starting at index 4880\n",
      "In no grad context\n",
      "Vector columns: ['vector', 'vector_original', 'vector_add_prev_2']\n"
     ]
    },
    {
     "name": "stderr",
     "output_type": "stream",
     "text": [
      "Embedding (GPU):  87%|████████▋ | 4896/5640 [20:37<01:15,  9.89it/s]"
     ]
    },
    {
     "name": "stdout",
     "output_type": "stream",
     "text": [
      "Applying neural network model to batch starting at index 4896\n",
      "In no grad context\n",
      "Vector columns: ['vector', 'vector_original', 'vector_add_prev_2']\n"
     ]
    },
    {
     "name": "stderr",
     "output_type": "stream",
     "text": [
      "Embedding (GPU):  87%|████████▋ | 4912/5640 [20:40<01:23,  8.67it/s]"
     ]
    },
    {
     "name": "stdout",
     "output_type": "stream",
     "text": [
      "Applying neural network model to batch starting at index 4912\n",
      "In no grad context\n",
      "Vector columns: ['vector', 'vector_original', 'vector_add_prev_2']\n"
     ]
    },
    {
     "name": "stderr",
     "output_type": "stream",
     "text": [
      "Embedding (GPU):  87%|████████▋ | 4928/5640 [20:43<01:39,  7.16it/s]"
     ]
    },
    {
     "name": "stdout",
     "output_type": "stream",
     "text": [
      "Applying neural network model to batch starting at index 4928\n",
      "In no grad context\n",
      "Vector columns: ['vector', 'vector_original', 'vector_add_prev_2']\n"
     ]
    },
    {
     "name": "stderr",
     "output_type": "stream",
     "text": [
      "Embedding (GPU):  88%|████████▊ | 4944/5640 [20:46<01:53,  6.15it/s]"
     ]
    },
    {
     "name": "stdout",
     "output_type": "stream",
     "text": [
      "Applying neural network model to batch starting at index 4944\n",
      "In no grad context\n",
      "Vector columns: ['vector', 'vector_original', 'vector_add_prev_2']\n"
     ]
    },
    {
     "name": "stderr",
     "output_type": "stream",
     "text": [
      "Embedding (GPU):  88%|████████▊ | 4960/5640 [20:48<01:34,  7.17it/s]"
     ]
    },
    {
     "name": "stdout",
     "output_type": "stream",
     "text": [
      "Applying neural network model to batch starting at index 4960\n",
      "In no grad context\n",
      "Vector columns: ['vector', 'vector_original', 'vector_add_prev_2']\n"
     ]
    },
    {
     "name": "stderr",
     "output_type": "stream",
     "text": [
      "Embedding (GPU):  88%|████████▊ | 4976/5640 [20:50<01:38,  6.75it/s]"
     ]
    },
    {
     "name": "stdout",
     "output_type": "stream",
     "text": [
      "Applying neural network model to batch starting at index 4976\n",
      "In no grad context\n",
      "Vector columns: ['vector', 'vector_original', 'vector_add_prev_2']\n"
     ]
    },
    {
     "name": "stderr",
     "output_type": "stream",
     "text": [
      "Embedding (GPU):  89%|████████▊ | 4992/5640 [20:53<01:34,  6.85it/s]"
     ]
    },
    {
     "name": "stdout",
     "output_type": "stream",
     "text": [
      "Applying neural network model to batch starting at index 4992\n",
      "In no grad context\n",
      "Vector columns: ['vector', 'vector_original', 'vector_add_prev_2']\n"
     ]
    },
    {
     "name": "stderr",
     "output_type": "stream",
     "text": [
      "Embedding (GPU):  89%|████████▉ | 5008/5640 [20:54<01:22,  7.66it/s]"
     ]
    },
    {
     "name": "stdout",
     "output_type": "stream",
     "text": [
      "Applying neural network model to batch starting at index 5008\n",
      "In no grad context\n",
      "Vector columns: ['vector', 'vector_original', 'vector_add_prev_2']\n"
     ]
    },
    {
     "name": "stderr",
     "output_type": "stream",
     "text": [
      "Embedding (GPU):  89%|████████▉ | 5024/5640 [20:56<01:18,  7.84it/s]"
     ]
    },
    {
     "name": "stdout",
     "output_type": "stream",
     "text": [
      "Applying neural network model to batch starting at index 5024\n",
      "In no grad context\n",
      "Vector columns: ['vector', 'vector_original', 'vector_add_prev_2']\n"
     ]
    },
    {
     "name": "stderr",
     "output_type": "stream",
     "text": [
      "Embedding (GPU):  89%|████████▉ | 5040/5640 [20:58<01:09,  8.63it/s]"
     ]
    },
    {
     "name": "stdout",
     "output_type": "stream",
     "text": [
      "Applying neural network model to batch starting at index 5040\n",
      "In no grad context\n",
      "Vector columns: ['vector', 'vector_original', 'vector_add_prev_2']\n"
     ]
    },
    {
     "name": "stderr",
     "output_type": "stream",
     "text": [
      "Embedding (GPU):  90%|████████▉ | 5056/5640 [20:59<01:01,  9.43it/s]"
     ]
    },
    {
     "name": "stdout",
     "output_type": "stream",
     "text": [
      "Applying neural network model to batch starting at index 5056\n",
      "In no grad context\n",
      "Vector columns: ['vector', 'vector_original', 'vector_add_prev_2']\n"
     ]
    },
    {
     "name": "stderr",
     "output_type": "stream",
     "text": [
      "Embedding (GPU):  90%|████████▉ | 5072/5640 [21:01<01:06,  8.55it/s]"
     ]
    },
    {
     "name": "stdout",
     "output_type": "stream",
     "text": [
      "Applying neural network model to batch starting at index 5072\n",
      "In no grad context\n",
      "Vector columns: ['vector', 'vector_original', 'vector_add_prev_2']\n"
     ]
    },
    {
     "name": "stderr",
     "output_type": "stream",
     "text": [
      "Embedding (GPU):  90%|█████████ | 5088/5640 [21:03<01:07,  8.21it/s]"
     ]
    },
    {
     "name": "stdout",
     "output_type": "stream",
     "text": [
      "Applying neural network model to batch starting at index 5088\n",
      "In no grad context\n",
      "Vector columns: ['vector', 'vector_original', 'vector_add_prev_2']\n"
     ]
    },
    {
     "name": "stderr",
     "output_type": "stream",
     "text": [
      "Embedding (GPU):  90%|█████████ | 5104/5640 [21:06<01:09,  7.77it/s]"
     ]
    },
    {
     "name": "stdout",
     "output_type": "stream",
     "text": [
      "Applying neural network model to batch starting at index 5104\n",
      "In no grad context\n",
      "Vector columns: ['vector', 'vector_original', 'vector_add_prev_2']\n"
     ]
    },
    {
     "name": "stderr",
     "output_type": "stream",
     "text": [
      "Embedding (GPU):  91%|█████████ | 5120/5640 [21:07<01:01,  8.49it/s]"
     ]
    },
    {
     "name": "stdout",
     "output_type": "stream",
     "text": [
      "Applying neural network model to batch starting at index 5120\n",
      "In no grad context\n",
      "Vector columns: ['vector', 'vector_original', 'vector_add_prev_2']\n"
     ]
    },
    {
     "name": "stderr",
     "output_type": "stream",
     "text": [
      "Embedding (GPU):  91%|█████████ | 5136/5640 [21:11<01:16,  6.62it/s]"
     ]
    },
    {
     "name": "stdout",
     "output_type": "stream",
     "text": [
      "Applying neural network model to batch starting at index 5136\n",
      "In no grad context\n",
      "Vector columns: ['vector', 'vector_original', 'vector_add_prev_2']\n"
     ]
    },
    {
     "name": "stderr",
     "output_type": "stream",
     "text": [
      "Embedding (GPU):  91%|█████████▏| 5152/5640 [21:12<01:05,  7.42it/s]"
     ]
    },
    {
     "name": "stdout",
     "output_type": "stream",
     "text": [
      "Applying neural network model to batch starting at index 5152\n",
      "In no grad context\n",
      "Vector columns: ['vector', 'vector_original', 'vector_add_prev_2']\n"
     ]
    },
    {
     "name": "stderr",
     "output_type": "stream",
     "text": [
      "Embedding (GPU):  92%|█████████▏| 5168/5640 [21:14<00:59,  7.96it/s]"
     ]
    },
    {
     "name": "stdout",
     "output_type": "stream",
     "text": [
      "Applying neural network model to batch starting at index 5168\n",
      "In no grad context\n",
      "Vector columns: ['vector', 'vector_original', 'vector_add_prev_2']\n"
     ]
    },
    {
     "name": "stderr",
     "output_type": "stream",
     "text": [
      "Embedding (GPU):  92%|█████████▏| 5184/5640 [21:16<00:55,  8.27it/s]"
     ]
    },
    {
     "name": "stdout",
     "output_type": "stream",
     "text": [
      "Applying neural network model to batch starting at index 5184\n",
      "In no grad context\n",
      "Vector columns: ['vector', 'vector_original', 'vector_add_prev_2']\n"
     ]
    },
    {
     "name": "stderr",
     "output_type": "stream",
     "text": [
      "Embedding (GPU):  92%|█████████▏| 5200/5640 [21:18<00:59,  7.40it/s]"
     ]
    },
    {
     "name": "stdout",
     "output_type": "stream",
     "text": [
      "Applying neural network model to batch starting at index 5200\n",
      "In no grad context\n",
      "Vector columns: ['vector', 'vector_original', 'vector_add_prev_2']\n"
     ]
    },
    {
     "name": "stderr",
     "output_type": "stream",
     "text": [
      "Embedding (GPU):  92%|█████████▏| 5216/5640 [21:21<01:00,  6.96it/s]"
     ]
    },
    {
     "name": "stdout",
     "output_type": "stream",
     "text": [
      "Applying neural network model to batch starting at index 5216\n",
      "In no grad context\n",
      "Vector columns: ['vector', 'vector_original', 'vector_add_prev_2']\n"
     ]
    },
    {
     "name": "stderr",
     "output_type": "stream",
     "text": [
      "Embedding (GPU):  93%|█████████▎| 5232/5640 [21:23<00:53,  7.65it/s]"
     ]
    },
    {
     "name": "stdout",
     "output_type": "stream",
     "text": [
      "Applying neural network model to batch starting at index 5232\n",
      "In no grad context\n",
      "Vector columns: ['vector', 'vector_original', 'vector_add_prev_2']\n"
     ]
    },
    {
     "name": "stderr",
     "output_type": "stream",
     "text": [
      "Embedding (GPU):  93%|█████████▎| 5248/5640 [21:24<00:46,  8.41it/s]"
     ]
    },
    {
     "name": "stdout",
     "output_type": "stream",
     "text": [
      "Applying neural network model to batch starting at index 5248\n",
      "In no grad context\n",
      "Vector columns: ['vector', 'vector_original', 'vector_add_prev_2']\n"
     ]
    },
    {
     "name": "stderr",
     "output_type": "stream",
     "text": [
      "Embedding (GPU):  93%|█████████▎| 5264/5640 [21:27<00:48,  7.75it/s]"
     ]
    },
    {
     "name": "stdout",
     "output_type": "stream",
     "text": [
      "Applying neural network model to batch starting at index 5264\n",
      "In no grad context\n",
      "Vector columns: ['vector', 'vector_original', 'vector_add_prev_2']\n"
     ]
    },
    {
     "name": "stderr",
     "output_type": "stream",
     "text": [
      "Embedding (GPU):  94%|█████████▎| 5280/5640 [21:29<00:46,  7.73it/s]"
     ]
    },
    {
     "name": "stdout",
     "output_type": "stream",
     "text": [
      "Applying neural network model to batch starting at index 5280\n",
      "In no grad context\n",
      "Vector columns: ['vector', 'vector_original', 'vector_add_prev_2']\n"
     ]
    },
    {
     "name": "stderr",
     "output_type": "stream",
     "text": [
      "Embedding (GPU):  94%|█████████▍| 5296/5640 [21:30<00:42,  8.18it/s]"
     ]
    },
    {
     "name": "stdout",
     "output_type": "stream",
     "text": [
      "Applying neural network model to batch starting at index 5296\n",
      "In no grad context\n",
      "Vector columns: ['vector', 'vector_original', 'vector_add_prev_2']\n"
     ]
    },
    {
     "name": "stderr",
     "output_type": "stream",
     "text": [
      "Embedding (GPU):  94%|█████████▍| 5312/5640 [21:32<00:38,  8.41it/s]"
     ]
    },
    {
     "name": "stdout",
     "output_type": "stream",
     "text": [
      "Applying neural network model to batch starting at index 5312\n",
      "In no grad context\n",
      "Vector columns: ['vector', 'vector_original', 'vector_add_prev_2']\n"
     ]
    },
    {
     "name": "stderr",
     "output_type": "stream",
     "text": [
      "Embedding (GPU):  94%|█████████▍| 5328/5640 [21:35<00:45,  6.92it/s]"
     ]
    },
    {
     "name": "stdout",
     "output_type": "stream",
     "text": [
      "Applying neural network model to batch starting at index 5328\n",
      "In no grad context\n",
      "Vector columns: ['vector', 'vector_original', 'vector_add_prev_2']\n"
     ]
    },
    {
     "name": "stderr",
     "output_type": "stream",
     "text": [
      "Embedding (GPU):  95%|█████████▍| 5344/5640 [21:37<00:39,  7.59it/s]"
     ]
    },
    {
     "name": "stdout",
     "output_type": "stream",
     "text": [
      "Applying neural network model to batch starting at index 5344\n",
      "In no grad context\n",
      "Vector columns: ['vector', 'vector_original', 'vector_add_prev_2']\n"
     ]
    },
    {
     "name": "stderr",
     "output_type": "stream",
     "text": [
      "Embedding (GPU):  95%|█████████▌| 5360/5640 [21:39<00:37,  7.55it/s]"
     ]
    },
    {
     "name": "stdout",
     "output_type": "stream",
     "text": [
      "Applying neural network model to batch starting at index 5360\n",
      "In no grad context\n",
      "Vector columns: ['vector', 'vector_original', 'vector_add_prev_2']\n"
     ]
    },
    {
     "name": "stderr",
     "output_type": "stream",
     "text": [
      "Embedding (GPU):  95%|█████████▌| 5376/5640 [21:41<00:31,  8.35it/s]"
     ]
    },
    {
     "name": "stdout",
     "output_type": "stream",
     "text": [
      "Applying neural network model to batch starting at index 5376\n",
      "In no grad context\n",
      "Vector columns: ['vector', 'vector_original', 'vector_add_prev_2']\n"
     ]
    },
    {
     "name": "stderr",
     "output_type": "stream",
     "text": [
      "Embedding (GPU):  96%|█████████▌| 5392/5640 [21:42<00:27,  9.02it/s]"
     ]
    },
    {
     "name": "stdout",
     "output_type": "stream",
     "text": [
      "Applying neural network model to batch starting at index 5392\n",
      "In no grad context\n",
      "Vector columns: ['vector', 'vector_original', 'vector_add_prev_2']\n"
     ]
    },
    {
     "name": "stderr",
     "output_type": "stream",
     "text": [
      "Embedding (GPU):  96%|█████████▌| 5408/5640 [21:45<00:32,  7.15it/s]"
     ]
    },
    {
     "name": "stdout",
     "output_type": "stream",
     "text": [
      "Applying neural network model to batch starting at index 5408\n",
      "In no grad context\n",
      "Vector columns: ['vector', 'vector_original', 'vector_add_prev_2']\n"
     ]
    },
    {
     "name": "stderr",
     "output_type": "stream",
     "text": [
      "Embedding (GPU):  96%|█████████▌| 5424/5640 [21:47<00:27,  7.95it/s]"
     ]
    },
    {
     "name": "stdout",
     "output_type": "stream",
     "text": [
      "Applying neural network model to batch starting at index 5424\n",
      "In no grad context\n",
      "Vector columns: ['vector', 'vector_original', 'vector_add_prev_2']\n"
     ]
    },
    {
     "name": "stderr",
     "output_type": "stream",
     "text": [
      "Embedding (GPU):  96%|█████████▋| 5440/5640 [21:51<00:31,  6.29it/s]"
     ]
    },
    {
     "name": "stdout",
     "output_type": "stream",
     "text": [
      "Applying neural network model to batch starting at index 5440\n",
      "In no grad context\n",
      "Vector columns: ['vector', 'vector_original', 'vector_add_prev_2']\n"
     ]
    },
    {
     "name": "stderr",
     "output_type": "stream",
     "text": [
      "Embedding (GPU):  97%|█████████▋| 5456/5640 [21:52<00:25,  7.28it/s]"
     ]
    },
    {
     "name": "stdout",
     "output_type": "stream",
     "text": [
      "Applying neural network model to batch starting at index 5456\n",
      "In no grad context\n",
      "Vector columns: ['vector', 'vector_original', 'vector_add_prev_2']\n"
     ]
    },
    {
     "name": "stderr",
     "output_type": "stream",
     "text": [
      "Embedding (GPU):  97%|█████████▋| 5472/5640 [21:53<00:19,  8.43it/s]"
     ]
    },
    {
     "name": "stdout",
     "output_type": "stream",
     "text": [
      "Applying neural network model to batch starting at index 5472\n",
      "In no grad context\n",
      "Vector columns: ['vector', 'vector_original', 'vector_add_prev_2']\n"
     ]
    },
    {
     "name": "stderr",
     "output_type": "stream",
     "text": [
      "Embedding (GPU):  97%|█████████▋| 5488/5640 [21:55<00:18,  8.18it/s]"
     ]
    },
    {
     "name": "stdout",
     "output_type": "stream",
     "text": [
      "Applying neural network model to batch starting at index 5488\n",
      "In no grad context\n",
      "Vector columns: ['vector', 'vector_original', 'vector_add_prev_2']\n"
     ]
    },
    {
     "name": "stderr",
     "output_type": "stream",
     "text": [
      "Embedding (GPU):  98%|█████████▊| 5504/5640 [21:58<00:17,  7.83it/s]"
     ]
    },
    {
     "name": "stdout",
     "output_type": "stream",
     "text": [
      "Applying neural network model to batch starting at index 5504\n",
      "In no grad context\n",
      "Vector columns: ['vector', 'vector_original', 'vector_add_prev_2']\n"
     ]
    },
    {
     "name": "stderr",
     "output_type": "stream",
     "text": [
      "Embedding (GPU):  98%|█████████▊| 5520/5640 [22:01<00:18,  6.52it/s]"
     ]
    },
    {
     "name": "stdout",
     "output_type": "stream",
     "text": [
      "Applying neural network model to batch starting at index 5520\n",
      "In no grad context\n",
      "Vector columns: ['vector', 'vector_original', 'vector_add_prev_2']\n"
     ]
    },
    {
     "name": "stderr",
     "output_type": "stream",
     "text": [
      "Embedding (GPU):  98%|█████████▊| 5536/5640 [22:02<00:13,  7.84it/s]"
     ]
    },
    {
     "name": "stdout",
     "output_type": "stream",
     "text": [
      "Applying neural network model to batch starting at index 5536\n",
      "In no grad context\n",
      "Vector columns: ['vector', 'vector_original', 'vector_add_prev_2']\n"
     ]
    },
    {
     "name": "stderr",
     "output_type": "stream",
     "text": [
      "Embedding (GPU):  98%|█████████▊| 5552/5640 [22:05<00:12,  7.26it/s]"
     ]
    },
    {
     "name": "stdout",
     "output_type": "stream",
     "text": [
      "Applying neural network model to batch starting at index 5552\n"
     ]
    },
    {
     "name": "stderr",
     "output_type": "stream",
     "text": [
      "\n"
     ]
    },
    {
     "name": "stdout",
     "output_type": "stream",
     "text": [
      "In no grad context\n"
     ]
    },
    {
     "name": "stderr",
     "output_type": "stream",
     "text": [
      "DB Queries:  98%|█████████▊| 5536/5640 [22:06<00:13,  7.55it/s]"
     ]
    },
    {
     "name": "stdout",
     "output_type": "stream",
     "text": [
      "Vector columns: ['vector', 'vector_original', 'vector_add_prev_2']\n"
     ]
    },
    {
     "name": "stderr",
     "output_type": "stream",
     "text": [
      "Embedding (GPU):  99%|█████████▊| 5568/5640 [22:06<00:09,  7.77it/s]"
     ]
    },
    {
     "name": "stdout",
     "output_type": "stream",
     "text": [
      "Applying neural network model to batch starting at index 5568\n",
      "In no grad context\n",
      "Vector columns: ['vector', 'vector_original', 'vector_add_prev_2']\n"
     ]
    },
    {
     "name": "stderr",
     "output_type": "stream",
     "text": [
      "Embedding (GPU):  99%|█████████▉| 5584/5640 [22:09<00:07,  7.59it/s]"
     ]
    },
    {
     "name": "stdout",
     "output_type": "stream",
     "text": [
      "Applying neural network model to batch starting at index 5584\n",
      "In no grad context\n",
      "Vector columns: ['vector', 'vector_original', 'vector_add_prev_2']\n"
     ]
    },
    {
     "name": "stderr",
     "output_type": "stream",
     "text": [
      "Embedding (GPU):  99%|█████████▉| 5600/5640 [22:10<00:04,  8.65it/s]"
     ]
    },
    {
     "name": "stdout",
     "output_type": "stream",
     "text": [
      "Applying neural network model to batch starting at index 5600\n",
      "In no grad context\n",
      "Vector columns: ['vector', 'vector_original', 'vector_add_prev_2']\n"
     ]
    },
    {
     "name": "stderr",
     "output_type": "stream",
     "text": [
      "Embedding (GPU): 100%|█████████▉| 5616/5640 [22:12<00:02,  8.76it/s]"
     ]
    },
    {
     "name": "stdout",
     "output_type": "stream",
     "text": [
      "Applying neural network model to batch starting at index 5616\n",
      "In no grad context\n",
      "Vector columns: ['vector', 'vector_original', 'vector_add_prev_2']\n"
     ]
    },
    {
     "name": "stderr",
     "output_type": "stream",
     "text": [
      "Embedding (GPU): 100%|█████████▉| 5632/5640 [22:13<00:00,  9.24it/s]"
     ]
    },
    {
     "name": "stdout",
     "output_type": "stream",
     "text": [
      "Applying neural network model to batch starting at index 5632\n",
      "In no grad context\n",
      "Vector columns: ['vector', 'vector_original', 'vector_add_prev_2']\n"
     ]
    },
    {
     "name": "stderr",
     "output_type": "stream",
     "text": [
      "DB Queries: 100%|██████████| 5640/5640 [22:18<00:00,  4.21it/s]it/s]\n",
      "Embedding (GPU): 100%|██████████| 5640/5640 [22:18<00:00,  4.21it/s]\n"
     ]
    },
    {
     "name": "stdout",
     "output_type": "stream",
     "text": [
      "Experiment computed in 1338.57 seconds\n",
      "Writing output to ../experiments/nn/results/cos_adam_80epochs_20251030_113828\n"
     ]
    }
   ],
   "source": [
    "import sys\n",
    "project_root = Path.cwd().parent  # Goes up from notebooks/ to project root\n",
    "sys.path.insert(0, str(project_root))\n",
    "from experiment import Experiment\n",
    "\n",
    "experiment_config = {\n",
    "    \"dataset\": \"../data/dataset/nn/val_ds_add_prev_2.jsonl\",\n",
    "    \"table\": \"qwen06_chunks\",\n",
    "    \"target_column\": \"vector\",\n",
    "    \"metric\": \"IP\",\n",
    "    \"embedder\": \"Qwen/Qwen3-Embedding-0.6B\",\n",
    "    \"normalize\": True,\n",
    "    \"nn\": job['config']['model_trace_path'],\n",
    "    \"strategy\": 'multiple_query_expansion',\n",
    "    \"query_expanders\": [\"add_prev_2\"],\n",
    "    \"interleave\": True,\n",
    "    \"batch_size\": 16,\n",
    "    \"top_k\": 1000,\n",
    "    \"output_path\": \"../experiments/nn/results/\",\n",
    "    \"output_search_results\": False,\n",
    "    \"plot_label\": experiment_name\n",
    "}\n",
    "experiment = Experiment(**experiment_config)\n",
    "experiment.run()"
   ]
  },
  {
   "cell_type": "code",
   "execution_count": 12,
   "id": "bcebc39f",
   "metadata": {},
   "outputs": [],
   "source": [
    "with open(save_dir / f\"job_{experiment_name}.json\", \"w\") as f:\n",
    "    json.dump(job, f, indent=2)"
   ]
  }
 ],
 "metadata": {
  "kernelspec": {
   "display_name": "citeline",
   "language": "python",
   "name": "python3"
  },
  "language_info": {
   "codemirror_mode": {
    "name": "ipython",
    "version": 3
   },
   "file_extension": ".py",
   "mimetype": "text/x-python",
   "name": "python",
   "nbconvert_exporter": "python",
   "pygments_lexer": "ipython3",
   "version": "3.11.10"
  }
 },
 "nbformat": 4,
 "nbformat_minor": 5
}
