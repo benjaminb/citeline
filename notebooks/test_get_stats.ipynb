{
 "cells": [
  {
   "cell_type": "code",
   "execution_count": 22,
   "id": "3b81ece2",
   "metadata": {},
   "outputs": [],
   "source": [
    "import json\n"
   ]
  },
  {
   "cell_type": "code",
   "execution_count": 23,
   "id": "28579e0c",
   "metadata": {},
   "outputs": [],
   "source": [
    "def get_stats_at_k(filename, k):\n",
    "    data = json.load(open(filename))\n",
    "    stats = {\n",
    "        \"hitrate\": data[\"average_hitrate_at_k\"][k - 1],\n",
    "        \"recall\": data[\"average_recall_at_k\"][k - 1],\n",
    "        \"iou\": data[\"average_iou_at_k\"][k - 1],\n",
    "    }\n",
    "    return stats\n"
   ]
  },
  {
   "cell_type": "code",
   "execution_count": 24,
   "id": "4a657780",
   "metadata": {},
   "outputs": [],
   "source": [
    "filenames = {\n",
    "    \"Qwen 8B, 50-50, add prev 3\": \"experiments/5050/results/50-50_qwen8b__add_prev_3_normTrue_ip_n14735_20250903_123505/results_50-50_qwen8b__add_prev_3_normTrue_ip_n14735_20250903_123505.json\",\n",
    "    \"Qwen 8B, add prev 3\": \"experiments/query_expansions/results_qwen8/basic_qwen8b_chunks_add_prev_3_normTrue_ip_n14735_20250903_133715/results_basic_qwen8b_chunks_add_prev_3_normTrue_ip_n14735_20250903_133715.json\",\n",
    "    \"Qwen 8B, contributions, add prev 3\": \"experiments/query_expansions/results_qwen8/basic_qwen8b_contributions_add_prev_3_normTrue_ip_n14735_20250903_163130/results_basic_qwen8b_contributions_add_prev_3_normTrue_ip_n14735_20250903_163130.json\",\n",
    "    \"Qwen 0.6B, add prev 3\": \"experiments/query_expansions/results_qwen06/basic_qwen06b_chunks_add_prev_3_normTrue_ip_n14735_20250825_132036/results_basic_qwen06b_chunks_add_prev_3_normTrue_ip_n14735_20250825_132036.json\",\n",
    "    \"Qwen 0.6B, 50-50, add prev 3\": \"experiments/5050/results/qwen06/50-50_qwen06b__add_prev_3_normTrue_ip_n14735_20250903_115957/results_50-50_qwen06b__add_prev_3_normTrue_ip_n14735_20250903_115957.json\",\n",
    "}"
   ]
  },
  {
   "cell_type": "code",
   "execution_count": 26,
   "id": "e09d800c",
   "metadata": {},
   "outputs": [
    {
     "name": "stdout",
     "output_type": "stream",
     "text": [
      "Qwen 8B, 50-50, add prev 3: 0.8639\n",
      "Qwen 8B, add prev 3: 0.8544\n",
      "Qwen 8B, contributions, add prev 3: 0.8671\n",
      "Qwen 0.6B, add prev 3: 0.8305\n",
      "Qwen 0.6B, 50-50, add prev 3: 0.8326\n"
     ]
    }
   ],
   "source": [
    "hitrates = {}\n",
    "recalls = {}\n",
    "ious = {}\n",
    "for label, filename in filenames.items():\n",
    "    stats = get_stats_at_k(filename, 100)\n",
    "    print(f\"{label}: {stats['hitrate']:.4f}\")\n",
    "    hitrates[label] = stats[\"hitrate\"]\n",
    "    recalls[label] = stats[\"recall\"]\n",
    "    ious[label] = stats[\"iou\"]"
   ]
  },
  {
   "cell_type": "code",
   "execution_count": 33,
   "id": "cf326765",
   "metadata": {},
   "outputs": [
    {
     "name": "stdout",
     "output_type": "stream",
     "text": [
      "Label                                   \tHitrate\tRecall\tIoU\n",
      "Qwen 8B, contributions, add prev 3      \t0.8671\t0.8363\t0.0189\n",
      "Qwen 8B, 50-50, add prev 3              \t0.8639\t0.8322\t0.0299\n",
      "Qwen 8B, add prev 3                     \t0.8544\t0.8229\t0.0377\n",
      "Qwen 0.6B, 50-50, add prev 3            \t0.8326\t0.7969\t0.0239\n",
      "Qwen 0.6B, add prev 3                   \t0.8305\t0.7948\t0.0293\n"
     ]
    }
   ],
   "source": [
    "# Print a table of the results sorted by hitrate (descending)\n",
    "print(f\"{'Label':<40}\\tHitrate\\tRecall\\tIoU\")\n",
    "for label in sorted(hitrates.keys(), key=lambda x: hitrates[x], reverse=True):\n",
    "    print(f\"{label:<40}\\t{hitrates[label]:.4f}\\t{recalls[label]:.4f}\\t{ious[label]:.4f}\")\n"
   ]
  },
  {
   "cell_type": "code",
   "execution_count": null,
   "id": "95144d87",
   "metadata": {},
   "outputs": [],
   "source": []
  }
 ],
 "metadata": {
  "kernelspec": {
   "display_name": "citeline",
   "language": "python",
   "name": "python3"
  },
  "language_info": {
   "codemirror_mode": {
    "name": "ipython",
    "version": 3
   },
   "file_extension": ".py",
   "mimetype": "text/x-python",
   "name": "python",
   "nbconvert_exporter": "python",
   "pygments_lexer": "ipython3",
   "version": "3.11.10"
  }
 },
 "nbformat": 4,
 "nbformat_minor": 5
}
