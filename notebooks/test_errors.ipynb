{
 "cells": [
  {
   "cell_type": "code",
   "execution_count": null,
   "id": "5adc5c3e",
   "metadata": {},
   "outputs": [],
   "source": [
    "from database.milvusdb import MilvusDB\n",
    "from embedders import Embedder\n",
    "import pandas as pd\n",
    "from pprint import pprint\n",
    "db = MilvusDB()\n",
    "embedder = Embedder.create(model_name=\"Qwen/Qwen3-Embedding-0.6B\", device=\"mps\", normalize=True, for_queries=True)\n",
    "dataset = pd.read_json(\"data/dataset/nontrivial_100.jsonl\", lines=True)\n",
    "\n",
    "print(db)\n",
    "print(embedder)\n",
    "print(dataset.columns)"
   ]
  },
  {
   "cell_type": "code",
   "execution_count": null,
   "id": "e229c9e8",
   "metadata": {},
   "outputs": [],
   "source": [
    "# Get the target doi from the dataset\n",
    "research = pd.read_json(\"data/research_used.jsonl\", lines=True)\n"
   ]
  },
  {
   "cell_type": "code",
   "execution_count": null,
   "id": "c524bd5a",
   "metadata": {},
   "outputs": [],
   "source": [
    "from query_expander import QueryExpander\n",
    "reference_data = pd.read_json(\"data/preprocessed/reviews.jsonl\", lines=True)\n",
    "prev3_expander = QueryExpander(\"add_prev_3\", reference_data=reference_data)"
   ]
  },
  {
   "cell_type": "code",
   "execution_count": null,
   "id": "bc557cee",
   "metadata": {},
   "outputs": [],
   "source": []
  },
  {
   "cell_type": "code",
   "execution_count": null,
   "id": "22054cef",
   "metadata": {},
   "outputs": [],
   "source": [
    "# Get one batch\n",
    "example_batch = dataset.iloc[2:5]\n",
    "print(type(example_batch))"
   ]
  },
  {
   "cell_type": "code",
   "execution_count": null,
   "id": "d1ed2258",
   "metadata": {},
   "outputs": [],
   "source": [
    "# Get its top-k results\n",
    "queries = prev3_expander(example_batch)\n",
    "query_vectors = embedder(queries)\n",
    "print(f\"Vector shape: {query_vectors.shape}\")\n",
    "\n",
    "search_results = db.search(\n",
    "    collection_name=\"qwen06_chunks\",\n",
    "    query_records=example_batch.to_dict(orient=\"records\"),\n",
    "    query_vectors=query_vectors,\n",
    "    metric=\"IP\",\n",
    "    limit=200\n",
    ")\n",
    "search_results = search_results\n",
    "print(f\"Got {len(search_results)} results, length {len(search_results[0])} for first query\")\n",
    "\n",
    "# Where are the target queries located?"
   ]
  },
  {
   "cell_type": "code",
   "execution_count": null,
   "id": "c8783373",
   "metadata": {},
   "outputs": [],
   "source": [
    "queries[1]"
   ]
  },
  {
   "cell_type": "markdown",
   "id": "2e963531",
   "metadata": {},
   "source": [
    "'Because the observed YMCs will age to become old GCs (see Section 1), they provide a convenient test bed for the study of the progenitors of stellar exotica. The progenitors of observed lusus naturæ in old GCs are not necessarily easy to identify in the young cluster population, though in some cases the evolutionary link is well established ( Glebbeek, Pols Hurley 2008 ). There may well be entire populations of peculiar objects in young star clusters that do not lead to observable interesting objects at later stages, and some objects destined for peculiarity may look perfectly ordinary at early times. An example of the latter is the dormant blue straggler population consisting of stars that were rejuvenated by mass transfer or collisions while still on the main sequence and now lurk among their fellow main-sequence stars until they remain behind after the others traverse the Hertzsprung gap (  ).'\n",
    "\n"
   ]
  },
  {
   "cell_type": "code",
   "execution_count": null,
   "id": "e65ade87",
   "metadata": {},
   "outputs": [],
   "source": [
    "example_batch.iloc[1]"
   ]
  },
  {
   "cell_type": "code",
   "execution_count": null,
   "id": "310b3007",
   "metadata": {},
   "outputs": [],
   "source": [
    "# At what rank does the target citation appear?\n",
    "idx = 1\n",
    "citation_dois = example_batch.iloc[idx]['citation_dois']\n",
    "print(f\"Citation DOIs: {citation_dois}\")\n",
    "target_citation = citation_dois[0]\n",
    "print(f\"Target citation: {target_citation}\")\n",
    "\n",
    "these_search_results = search_results[idx]\n",
    "target_found_at = [i for i, result in enumerate(these_search_results) if result['doi'] == target_citation]\n",
    "print(f\"Target found at ranks: {target_found_at}\")\n",
    "best_rank = target_found_at[0]\n",
    "pprint(these_search_results[best_rank])"
   ]
  },
  {
   "cell_type": "code",
   "execution_count": null,
   "id": "a452f06b",
   "metadata": {},
   "outputs": [],
   "source": [
    "target_doi = research[research[\"doi\"] == target_citation].iloc[0]\n",
    "print(target_doi)"
   ]
  },
  {
   "cell_type": "code",
   "execution_count": null,
   "id": "a6f30e99",
   "metadata": {},
   "outputs": [],
   "source": [
    "pprint(these_search_results[83])"
   ]
  },
  {
   "cell_type": "code",
   "execution_count": null,
   "id": "5900e802",
   "metadata": {},
   "outputs": [],
   "source": [
    "# print(target_doi['body'].index(\"The wind momentum\"))\n",
    "print(target_doi['body'][43867:43867+518])"
   ]
  },
  {
   "cell_type": "code",
   "execution_count": null,
   "id": "2ec35d37",
   "metadata": {},
   "outputs": [],
   "source": [
    "import numpy as np\n",
    "\n",
    "text = \"The most frequent type of encounter is one involving two main-sequence stars, leading to a main-sequence merger remnant with a mass smaller than the turnoff mass or a blue straggler when the mass of the merger exceeds the turnoff mass. If the mass of the merger is less than the turnoff mass, the product is a main-sequence star which is younger than primordial main-sequence stars with the same mass. Such a star will be left behind as a blue straggler once the primordial main-sequence stars leave the main-sequence.\"\n",
    "text = \"Blue stragglers can form from mass-transfer or collisions on the main sequence and may remain indistinguishable among normal stars until the original stars evolve off the main sequence\"\n",
    "test_embedding = embedder([text])[0]\n",
    "print(test_embedding.shape)\n",
    "print(np.linalg.norm(test_embedding))\n",
    "\n",
    "query_vector = query_vectors[idx]\n",
    "similarity = np.dot(test_embedding, query_vector)\n",
    "print(f\"Similarity score: {similarity}\")"
   ]
  },
  {
   "cell_type": "code",
   "execution_count": null,
   "id": "1f802e8a",
   "metadata": {},
   "outputs": [],
   "source": [
    "sent_no_cit = example_batch.iloc[1]['sent_no_cit']\n",
    "pprint(f\"Sentence without citation: {sent_no_cit}\")\n",
    "sent_vector = embedder([sent_no_cit])[0]\n",
    "\n",
    "# Remove content of sent_no_cit from query[1]\n",
    "prev3 = queries[1].replace(sent_no_cit, \"\")\n",
    "pprint(f\"Previous 3 sentences: {prev3}\")\n",
    "\n",
    "prev3_vector = embedder([prev3])[0]"
   ]
  },
  {
   "cell_type": "code",
   "execution_count": 133,
   "id": "43a29ad8",
   "metadata": {},
   "outputs": [
    {
     "name": "stdout",
     "output_type": "stream",
     "text": [
      "1.0\n"
     ]
    }
   ],
   "source": [
    "weighted_vector = 3.25*sent_vector + 0.75*prev3_vector\n",
    "# Normalize the vector\n",
    "weighted_vector = weighted_vector / np.linalg.norm(weighted_vector)\n",
    "print(np.linalg.norm(weighted_vector))"
   ]
  },
  {
   "cell_type": "code",
   "execution_count": 134,
   "id": "976d3963",
   "metadata": {},
   "outputs": [
    {
     "name": "stdout",
     "output_type": "stream",
     "text": [
      "Got 1 results, length 200 for reweighted query\n"
     ]
    }
   ],
   "source": [
    "reweight_search_results = db.search(\n",
    "    collection_name=\"qwen06_chunks\",\n",
    "    query_records=example_batch.iloc[1:2].to_dict(orient=\"records\"),\n",
    "    query_vectors=[weighted_vector],\n",
    "    metric=\"IP\",\n",
    "    limit=200,\n",
    ")\n",
    "\n",
    "print(f\"Got {len(reweight_search_results)} results, length {len(reweight_search_results[0])} for reweighted query\")"
   ]
  },
  {
   "cell_type": "code",
   "execution_count": 136,
   "id": "b733b1e7",
   "metadata": {},
   "outputs": [
    {
     "name": "stdout",
     "output_type": "stream",
     "text": [
      "Citation DOIs: ['10.48550/arXiv.astro-ph/9701042']\n",
      "Target citation: 10.48550/arXiv.astro-ph/9701042\n",
      "Target found at ranks: [14, 83]\n",
      "{'citation_count': 28,\n",
      " 'doi': '10.48550/arXiv.astro-ph/9701042',\n",
      " 'metric': 0.6175870299339294,\n",
      " 'pubdate': 19971201,\n",
      " 'text': 'Portegies Zwart et al.: Star cluster ecology. I 0.04 0.03 n 0.02 '\n",
      "         '0.01 0 10 Fig. 6. Fraction of stars in the computation of model C '\n",
      "         'that are blue stragglers (upper solid line) and the fraction of '\n",
      "         'stars on the main-sequence that were left behind as blue stragglers '\n",
      "         'when primordial stars of equal mass evolved into giants (lower solid '\n",
      "         'line), as a function of time. Due to the slow evolution on the main '\n",
      "         'sequence, the lower line is less susceptible to Poissonian '\n",
      "         'fluctuations. The dotted lines show the fraction of stars that are '\n",
      "         'yellow stragglers, for all yellow stragglers (upper dotted line) and '\n",
      "         'for those that evolved from blue stragglers (lower dotted line). '\n",
      "         'turn-off, whereas yellow stragglers are situated above the giant '\n",
      "         'branch. Because the stars in our calculation evolve, the number of '\n",
      "         'collision products present at any time in the core is not at all '\n",
      "         'proportional to their formation rate. For example, blue stragglers '\n",
      "         '(a main sequence star with mass M > M~0), formed by merging of two '\n",
      "         'main-sequence stars, often evolve into giants before our calculation '\n",
      "         'is stopped, because of the short main-sequence lifetime of more '\n",
      "         'massive stars. Evolving blue stragglers turn into yellow stragglers, '\n",
      "         'and in fact most of the yellow stragglers present in the cluster '\n",
      "         'have evolved from blue stragglers. The yellow stragglers formed '\n",
      "         'directly from collisions with giants evolve too fast to contribute '\n",
      "         'as strongly to the presence of yellow stragglers.'}\n"
     ]
    }
   ],
   "source": [
    "# At what rank does the target citation appear?\n",
    "idx = 1\n",
    "citation_dois = example_batch.iloc[idx][\"citation_dois\"]\n",
    "print(f\"Citation DOIs: {citation_dois}\")\n",
    "target_citation = citation_dois[0]\n",
    "print(f\"Target citation: {target_citation}\")\n",
    "\n",
    "these_search_results = search_results[idx]\n",
    "target_found_at = [i for i, result in enumerate(these_search_results) if result[\"doi\"] == target_citation]\n",
    "print(f\"Target found at ranks: {target_found_at}\")\n",
    "best_rank = target_found_at[0]\n",
    "pprint(these_search_results[best_rank])"
   ]
  },
  {
   "cell_type": "code",
   "execution_count": null,
   "id": "2ae3e2f5",
   "metadata": {},
   "outputs": [],
   "source": [
    "queries[0]"
   ]
  },
  {
   "cell_type": "code",
   "execution_count": null,
   "id": "464708a7",
   "metadata": {},
   "outputs": [],
   "source": []
  }
 ],
 "metadata": {
  "kernelspec": {
   "display_name": "citeline",
   "language": "python",
   "name": "python3"
  },
  "language_info": {
   "codemirror_mode": {
    "name": "ipython",
    "version": 3
   },
   "file_extension": ".py",
   "mimetype": "text/x-python",
   "name": "python",
   "nbconvert_exporter": "python",
   "pygments_lexer": "ipython3",
   "version": "3.11.10"
  }
 },
 "nbformat": 4,
 "nbformat_minor": 5
}
