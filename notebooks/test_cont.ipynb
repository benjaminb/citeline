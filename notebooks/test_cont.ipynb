{
 "cells": [
  {
   "cell_type": "code",
   "execution_count": 3,
   "id": "9c024c4e",
   "metadata": {},
   "outputs": [
    {
     "name": "stdout",
     "output_type": "stream",
     "text": [
      "Number of research DOIs: 9989\n"
     ]
    }
   ],
   "source": [
    "import pandas as pd\n",
    "\n",
    "research_dois = pd.read_json('../data/research_dois_used.json')\n",
    "research_dois.head()\n",
    "print(f\"Number of research DOIs: {len(research_dois)}\")"
   ]
  },
  {
   "cell_type": "code",
   "execution_count": 4,
   "id": "268676c8",
   "metadata": {},
   "outputs": [
    {
     "data": {
      "text/html": [
       "<div>\n",
       "<style scoped>\n",
       "    .dataframe tbody tr th:only-of-type {\n",
       "        vertical-align: middle;\n",
       "    }\n",
       "\n",
       "    .dataframe tbody tr th {\n",
       "        vertical-align: top;\n",
       "    }\n",
       "\n",
       "    .dataframe thead th {\n",
       "        text-align: right;\n",
       "    }\n",
       "</style>\n",
       "<table border=\"1\" class=\"dataframe\">\n",
       "  <thead>\n",
       "    <tr style=\"text-align: right;\">\n",
       "      <th></th>\n",
       "      <th>text</th>\n",
       "      <th>doi</th>\n",
       "      <th>citation_count</th>\n",
       "      <th>pubdate</th>\n",
       "    </tr>\n",
       "  </thead>\n",
       "  <tbody>\n",
       "    <tr>\n",
       "      <th>0</th>\n",
       "      <td>Extragalactic radio sources in the 3CR complet...</td>\n",
       "      <td>10.1093/mnras/167.1.31P</td>\n",
       "      <td>2681</td>\n",
       "      <td>19740501</td>\n",
       "    </tr>\n",
       "    <tr>\n",
       "      <th>1</th>\n",
       "      <td>Radio sources with luminosities below approxim...</td>\n",
       "      <td>10.1093/mnras/167.1.31P</td>\n",
       "      <td>2681</td>\n",
       "      <td>19740501</td>\n",
       "    </tr>\n",
       "    <tr>\n",
       "      <th>2</th>\n",
       "      <td>Radio sources with luminosities above approxim...</td>\n",
       "      <td>10.1093/mnras/167.1.31P</td>\n",
       "      <td>2681</td>\n",
       "      <td>19740501</td>\n",
       "    </tr>\n",
       "    <tr>\n",
       "      <th>3</th>\n",
       "      <td>Class I morphology is defined as sources where...</td>\n",
       "      <td>10.1093/mnras/167.1.31P</td>\n",
       "      <td>2681</td>\n",
       "      <td>19740501</td>\n",
       "    </tr>\n",
       "    <tr>\n",
       "      <th>4</th>\n",
       "      <td>Class II morphology is defined as sources wher...</td>\n",
       "      <td>10.1093/mnras/167.1.31P</td>\n",
       "      <td>2681</td>\n",
       "      <td>19740501</td>\n",
       "    </tr>\n",
       "  </tbody>\n",
       "</table>\n",
       "</div>"
      ],
      "text/plain": [
       "                                                text                      doi  \\\n",
       "0  Extragalactic radio sources in the 3CR complet...  10.1093/mnras/167.1.31P   \n",
       "1  Radio sources with luminosities below approxim...  10.1093/mnras/167.1.31P   \n",
       "2  Radio sources with luminosities above approxim...  10.1093/mnras/167.1.31P   \n",
       "3  Class I morphology is defined as sources where...  10.1093/mnras/167.1.31P   \n",
       "4  Class II morphology is defined as sources wher...  10.1093/mnras/167.1.31P   \n",
       "\n",
       "   citation_count   pubdate  \n",
       "0            2681  19740501  \n",
       "1            2681  19740501  \n",
       "2            2681  19740501  \n",
       "3            2681  19740501  \n",
       "4            2681  19740501  "
      ]
     },
     "execution_count": 4,
     "metadata": {},
     "output_type": "execute_result"
    }
   ],
   "source": [
    "contributions = pd.read_json('../data/research_contributions_v3.jsonl', lines=True)\n",
    "contributions.head()"
   ]
  },
  {
   "cell_type": "code",
   "execution_count": 5,
   "id": "731503fd",
   "metadata": {},
   "outputs": [
    {
     "name": "stdout",
     "output_type": "stream",
     "text": [
      "Number of contributions: 142739\n",
      "Number of unique DOIs in contributions: 4726\n"
     ]
    }
   ],
   "source": [
    "print(f\"Number of contributions: {len(contributions)}\")\n",
    "print(f\"Number of unique DOIs in contributions: {contributions['doi'].nunique()}\")"
   ]
  },
  {
   "cell_type": "code",
   "execution_count": null,
   "id": "7378be6d",
   "metadata": {},
   "outputs": [],
   "source": []
  }
 ],
 "metadata": {
  "kernelspec": {
   "display_name": "citeline",
   "language": "python",
   "name": "python3"
  },
  "language_info": {
   "codemirror_mode": {
    "name": "ipython",
    "version": 3
   },
   "file_extension": ".py",
   "mimetype": "text/x-python",
   "name": "python",
   "nbconvert_exporter": "python",
   "pygments_lexer": "ipython3",
   "version": "3.11.10"
  }
 },
 "nbformat": 4,
 "nbformat_minor": 5
}
