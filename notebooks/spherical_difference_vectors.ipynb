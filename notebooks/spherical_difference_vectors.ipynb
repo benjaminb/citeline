{
 "cells": [
  {
   "cell_type": "markdown",
   "id": "313e3e97",
   "metadata": {},
   "source": [
    "# Analysis of Query-Target Difference Vectors in Spherical Coordinates\n",
    "\n",
    "This notebook:\n",
    "1. Takes a sample of queries and their most similar target vectors.\n",
    "2. Converts each vector to spherical coordinates, then computes the difference as n - 1 angular differences (for n-dimensional vectors)\n",
    "3. Apply k-means clustering for a range of k values, and plot the inertia and silhouette scores to identify optimal k.\n",
    "\n",
    "If there is meaningful clustering, then \n",
    "1. for each cluster we can compute the average (spherical coordinates) difference vector. \n",
    "1. for new queries, if we can identify which cluster they belong to we can apply the corresponding difference vector. \n",
    "\n",
    "To verify this\n",
    "1. Take another sample of queries\n",
    "1. Apply their cluster's difference vector and perform similarity search\n",
    "1. Compare results to original similarity search results"
   ]
  },
  {
   "cell_type": "code",
   "execution_count": 1,
   "id": "178db7d0",
   "metadata": {},
   "outputs": [
    {
     "name": "stdout",
     "output_type": "stream",
     "text": [
      "Sample length: 100\n",
      "DB: <citeline.database.milvusdb.MilvusDB object at 0x128b55910>\n",
      "Embedder: Qwen/Qwen3-Embedding-0.6B, device=mps, normalize=True, dim=1024\n"
     ]
    }
   ],
   "source": [
    "import matplotlib.pyplot as plt\n",
    "import pandas as pd\n",
    "import numpy as np\n",
    "from tqdm import tqdm\n",
    "from citeline.helpers import coordinate_converters as coords\n",
    "from citeline.database.milvusdb import MilvusDB\n",
    "from citeline.embedders import Embedder\n",
    "\n",
    "tqdm.pandas()\n",
    "\n",
    "sample = pd.read_json(\"../data/dataset/nontrivial_100.jsonl\", lines=True)\n",
    "db = MilvusDB()\n",
    "embedder = Embedder.create(\"Qwen/Qwen3-Embedding-0.6B\", device=\"mps\", normalize=True)\n",
    "print(f\"Sample length: {len(sample)}\")\n",
    "print(f\"DB: {db}\")\n",
    "print(f\"Embedder: {embedder}\")"
   ]
  },
  {
   "cell_type": "code",
   "execution_count": 2,
   "id": "27196537",
   "metadata": {},
   "outputs": [],
   "source": [
    "vectors = embedder(['sample one', 'sample two', 'is this the real life? Is this just fantasy?'])\n",
    "spherical = np.array([coords.euclidean_to_spherical(v) for v in vectors])"
   ]
  },
  {
   "cell_type": "code",
   "execution_count": null,
   "id": "94e43d9c",
   "metadata": {},
   "outputs": [],
   "source": []
  }
 ],
 "metadata": {
  "kernelspec": {
   "display_name": "citeline",
   "language": "python",
   "name": "python3"
  },
  "language_info": {
   "codemirror_mode": {
    "name": "ipython",
    "version": 3
   },
   "file_extension": ".py",
   "mimetype": "text/x-python",
   "name": "python",
   "nbconvert_exporter": "python",
   "pygments_lexer": "ipython3",
   "version": "3.11.10"
  }
 },
 "nbformat": 4,
 "nbformat_minor": 5
}
