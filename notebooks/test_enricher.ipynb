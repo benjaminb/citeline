{
 "cells": [
  {
   "cell_type": "code",
   "execution_count": 1,
   "metadata": {},
   "outputs": [
    {
     "name": "stdout",
     "output_type": "stream",
     "text": [
      "TextEnricher(name=add_previous_3_sentences, data_length=2984)\n"
     ]
    }
   ],
   "source": [
    "from TextEnrichers import get_enricher\n",
    "from pprint import pprint\n",
    "\n",
    "enricher = get_enricher('add_previous_3_sentences', for_query=True)\n",
    "print(enricher)"
   ]
  },
  {
   "cell_type": "code",
   "execution_count": 3,
   "metadata": {},
   "outputs": [
    {
     "name": "stdout",
     "output_type": "stream",
     "text": [
      "['These efforts include taking a census of the UV radiation supplied by early '\n",
      " 'star-forming galaxies, providing indirect constraints on the Lyman continuum '\n",
      " '(LyC) photon production rate of distant galaxies, contributing to any '\n",
      " 'possible lever on the LyC escape fraction, and detecting the possible '\n",
      " 'presence of evolved stellar populations indicating prior star formation to '\n",
      " 'very high redshifts.  Below, we discuss how cosmic reionization may be '\n",
      " 'constrained and review the current empirical evidence from HST and other '\n",
      " 'facilities for the contribution of star-forming galaxies.  2.1. Constraining '\n",
      " 'the Reionization Process The term reionization encapsulates the complex '\n",
      " 'process of transitioning intergalactic hydrogen gas from a mostly neutral to '\n",
      " 'a nearly fully ionized state.  Classically, this process has been '\n",
      " 'represented by the average volume-filling fraction of ionized gas (e.g., '\n",
      " 'Madau et al. 1999 ). ',\n",
      " '(and thus tl?e internal energy) of each species. Jackson and Klein  (1969) '\n",
      " 'discussed this ambiguity in the case of the SSCP and concluded, from '\n",
      " 'consistency arguments correct to first order in the inverse Debye length, '\n",
      " 'that it makes more sense to lower the continuum than lifting the '\n",
      " 'ground-state energy.  However, even then problems remain. First, the '\n",
      " 'relative energy-level shifts predicted by the SSCP are by about one order of '\n",
      " 'magnitude too large when compared with spectroscopic observations  (Wiese et '\n",
      " 'al. 1972; see also Hummer and Mihalas 1988). Secondly, a lowering of the '\n",
      " 'continuum cannot be defined in the case of more than one species, because '\n",
      " 'physically there can be only one continuum. ']\n"
     ]
    }
   ],
   "source": [
    "example_1 = {\"source_doi\": \"10.1146/annurev-astro-120221-044656\",\n",
    "           \"sent_original\": \"Classically, this process has been represented by the average volume-filling fraction of ionized gas (e.g., Madau et al. 1999 ). \", \"sent_no_cit\": \"Classically, this process has been represented by the average volume-filling fraction of ionized gas (e.g., . \", \"sent_idx\": 44, \"citation_dois\": [\"10.1086/306975\"]}\n",
    "example_2 = {\"source_doi\": \"10.1007/BF00872687\", \"sent_original\": \"(Wiese et al. 1972; see also Hummer and Mihalas 1988). Secondly, a lowering of the continuum cannot be defined in the case of more than one species, because physically there can be only one continuum. \",\n",
    "             \"sent_no_cit\": \"(; see also Hummer and . Secondly, a lowering of the continuum cannot be defined in the case of more than one species, because physically there can be only one continuum. \", \"sent_idx\": 518, \"citation_dois\": [\"10.1103\\/PhysRevA.6.1132\", \"10.1086\\/166601\"]}\n",
    "\n",
    "tup_1 = (example_1['sent_original'], example_1['source_doi'])\n",
    "tup_2 = (example_2['sent_original'], example_2['source_doi'])\n",
    "batch = [tup_1, tup_2]\n",
    "result = enricher.enrich_batch(batch)\n",
    "pprint(result)"
   ]
  },
  {
   "cell_type": "code",
   "execution_count": 10,
   "metadata": {},
   "outputs": [
    {
     "name": "stdout",
     "output_type": "stream",
     "text": [
      "50230\n"
     ]
    }
   ],
   "source": [
    "import pandas as pd\n",
    "examples = pd.read_json('data/dataset/full/nontrivial.jsonl', lines=True)\n",
    "print(len(examples))"
   ]
  },
  {
   "cell_type": "code",
   "execution_count": 17,
   "metadata": {},
   "outputs": [
    {
     "name": "stdout",
     "output_type": "stream",
     "text": [
      "Bad DOIs: 0 out of 2984 total DOIs\n"
     ]
    }
   ],
   "source": [
    "bads = []\n",
    "for row in examples.itertuples():\n",
    "    try:\n",
    "        res = enricher.enrich_batch([(row.sent_original, row.source_doi)])\n",
    "    except Exception as e:\n",
    "        print(f\"Error processing {doi}: {e}\")\n",
    "        bads.append(doi)\n",
    "    \n",
    "print(\"Bad DOIs:\", len(bads), \"out of\", len(enricher.doi_to_record), \"total DOIs\")"
   ]
  },
  {
   "cell_type": "code",
   "execution_count": null,
   "metadata": {},
   "outputs": [],
   "source": []
  }
 ],
 "metadata": {
  "kernelspec": {
   "display_name": "citeline",
   "language": "python",
   "name": "python3"
  },
  "language_info": {
   "codemirror_mode": {
    "name": "ipython",
    "version": 3
   },
   "file_extension": ".py",
   "mimetype": "text/x-python",
   "name": "python",
   "nbconvert_exporter": "python",
   "pygments_lexer": "ipython3",
   "version": "3.11.10"
  }
 },
 "nbformat": 4,
 "nbformat_minor": 2
}
