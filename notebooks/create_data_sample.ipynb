{
 "cells": [
  {
   "cell_type": "code",
   "execution_count": 1,
   "id": "c742a50a",
   "metadata": {},
   "outputs": [
    {
     "name": "stdout",
     "output_type": "stream",
     "text": [
      "Sampled 100 rows and saved to data/dataset/nontrivial_100.jsonl\n"
     ]
    }
   ],
   "source": [
    "import pandas as pd\n",
    "\n",
    "N = 100\n",
    "df = pd.read_json(\"data/dataset/nontrivial_filtered.jsonl\", lines=True)\n",
    "\n",
    "# sample N rows\n",
    "df_sampled = df.sample(n=N, random_state=42)\n",
    "\n",
    "# save to a new JSONL file\n",
    "path = f\"data/dataset/nontrivial_{N}.jsonl\"\n",
    "df_sampled.to_json(path, orient=\"records\", lines=True)\n",
    "print(f\"Sampled {N} rows and saved to {path}\")"
   ]
  },
  {
   "cell_type": "code",
   "execution_count": null,
   "id": "e5c63f65",
   "metadata": {},
   "outputs": [],
   "source": []
  }
 ],
 "metadata": {
  "kernelspec": {
   "display_name": "citeline",
   "language": "python",
   "name": "python3"
  },
  "language_info": {
   "codemirror_mode": {
    "name": "ipython",
    "version": 3
   },
   "file_extension": ".py",
   "mimetype": "text/x-python",
   "name": "python",
   "nbconvert_exporter": "python",
   "pygments_lexer": "ipython3",
   "version": "3.11.10"
  }
 },
 "nbformat": 4,
 "nbformat_minor": 5
}
