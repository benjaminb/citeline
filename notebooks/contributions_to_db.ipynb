{
 "cells": [
  {
   "cell_type": "code",
   "execution_count": 1,
   "id": "aeb031e6",
   "metadata": {},
   "outputs": [
    {
     "name": "stdout",
     "output_type": "stream",
     "text": [
      "<citeline.database.milvusdb.MilvusDB object at 0x302e2cc10>\n",
      "Collections:\n",
      " - astrobert_chunks: 460801 entities\n",
      " - astrobert_contributions: 89860 entities\n",
      " - bge_chunks: 460801 entities\n",
      " - bge_contributions: 89860 entities\n",
      " - nasa_chunks: 460801 entities\n",
      " - nasa_contributions: 89860 entities\n",
      " - qwen06_chunks: 460801 entities\n",
      " - qwen06_contributions: 89860 entities\n",
      " - qwen8b_contributions: 89860 entities\n",
      " - specter_chunks: 460801 entities\n",
      " - specter_contributions: 89860 entities\n"
     ]
    }
   ],
   "source": [
    "import pandas as pd\n",
    "from tqdm import tqdm\n",
    "import json\n",
    "import numpy as np\n",
    "import seaborn as sns\n",
    "import matplotlib.pyplot as plt\n",
    "from pprint import pprint\n",
    "from citeline.database.milvusdb import MilvusDB\n",
    "from citeline.embedders import Embedder\n",
    "\n",
    "tqdm.pandas()\n",
    "\n",
    "db = MilvusDB()\n",
    "print(db)\n",
    "db.list_collections()"
   ]
  },
  {
   "cell_type": "markdown",
   "id": "feb18150",
   "metadata": {},
   "source": [
    "This notebook takes a jsonl file of 'findings' with schema `{\"findings\": [str], \"doi\": str}` and preps a dataset for insertion into Milvus. This requires\n",
    "\n",
    "1. From the research data used, join to each findings line the:\n",
    "\n",
    "- citation_count\n",
    "- pubdate (YYYYMMDD int)\n",
    "\n",
    "2. Explode the dataframe along findings to get one row per finding\n",
    "3. Invoke `db.create_collection` with the desired embedder\n"
   ]
  },
  {
   "cell_type": "code",
   "execution_count": 2,
   "id": "e40a21c2",
   "metadata": {},
   "outputs": [],
   "source": [
    "# Load the research dataset, convert pubdate to YYYYMMDD\n",
    "research = pd.read_json(\"../data/preprocessed/research.jsonl\", lines=True)\n",
    "# add index to 'doi' column\n",
    "research.set_index(\"doi\", inplace=True, verify_integrity=True, drop=False)\n",
    "research[\"pubdate\"] = research[\"pubdate\"].apply(lambda x: int(x.replace(\"-\", \"\")))"
   ]
  },
  {
   "cell_type": "code",
   "execution_count": 3,
   "id": "daf1cee3",
   "metadata": {},
   "outputs": [
    {
     "data": {
      "text/html": [
       "<div>\n",
       "<style scoped>\n",
       "    .dataframe tbody tr th:only-of-type {\n",
       "        vertical-align: middle;\n",
       "    }\n",
       "\n",
       "    .dataframe tbody tr th {\n",
       "        vertical-align: top;\n",
       "    }\n",
       "\n",
       "    .dataframe thead th {\n",
       "        text-align: right;\n",
       "    }\n",
       "</style>\n",
       "<table border=\"1\" class=\"dataframe\">\n",
       "  <thead>\n",
       "    <tr style=\"text-align: right;\">\n",
       "      <th></th>\n",
       "      <th>text</th>\n",
       "      <th>doi</th>\n",
       "      <th>citation_count</th>\n",
       "      <th>pubdate</th>\n",
       "    </tr>\n",
       "  </thead>\n",
       "  <tbody>\n",
       "    <tr>\n",
       "      <th>0</th>\n",
       "      <td>Kepler mission will monitor over 100,000 stars...</td>\n",
       "      <td>10.1111/j.1365-2966.2009.15323.x</td>\n",
       "      <td>44</td>\n",
       "      <td>20091001</td>\n",
       "    </tr>\n",
       "    <tr>\n",
       "      <th>1</th>\n",
       "      <td>Kepler Asteroseismic Investigation (KAI) will ...</td>\n",
       "      <td>10.1111/j.1365-2966.2009.15323.x</td>\n",
       "      <td>44</td>\n",
       "      <td>20091001</td>\n",
       "    </tr>\n",
       "    <tr>\n",
       "      <th>2</th>\n",
       "      <td>Conservative estimate: ~3000 pixels allocated ...</td>\n",
       "      <td>10.1111/j.1365-2966.2009.15323.x</td>\n",
       "      <td>44</td>\n",
       "      <td>20091001</td>\n",
       "    </tr>\n",
       "    <tr>\n",
       "      <th>3</th>\n",
       "      <td>Photometric error for 60-s integration: 45 ppm...</td>\n",
       "      <td>10.1111/j.1365-2966.2009.15323.x</td>\n",
       "      <td>44</td>\n",
       "      <td>20091001</td>\n",
       "    </tr>\n",
       "    <tr>\n",
       "      <th>4</th>\n",
       "      <td>Power density error: 0.24 ppm²/μHz at 8th magn...</td>\n",
       "      <td>10.1111/j.1365-2966.2009.15323.x</td>\n",
       "      <td>44</td>\n",
       "      <td>20091001</td>\n",
       "    </tr>\n",
       "  </tbody>\n",
       "</table>\n",
       "</div>"
      ],
      "text/plain": [
       "                                                text  \\\n",
       "0  Kepler mission will monitor over 100,000 stars...   \n",
       "1  Kepler Asteroseismic Investigation (KAI) will ...   \n",
       "2  Conservative estimate: ~3000 pixels allocated ...   \n",
       "3  Photometric error for 60-s integration: 45 ppm...   \n",
       "4  Power density error: 0.24 ppm²/μHz at 8th magn...   \n",
       "\n",
       "                                doi  citation_count   pubdate  \n",
       "0  10.1111/j.1365-2966.2009.15323.x              44  20091001  \n",
       "1  10.1111/j.1365-2966.2009.15323.x              44  20091001  \n",
       "2  10.1111/j.1365-2966.2009.15323.x              44  20091001  \n",
       "3  10.1111/j.1365-2966.2009.15323.x              44  20091001  \n",
       "4  10.1111/j.1365-2966.2009.15323.x              44  20091001  "
      ]
     },
     "execution_count": 3,
     "metadata": {},
     "output_type": "execute_result"
    }
   ],
   "source": [
    "# Join the findings df with research data expected by db. Explode on 'findings' column which is list[str]\n",
    "findings = pd.read_json(\"new_findings.jsonl\", lines=True)\n",
    "findings[\"citation_count\"] = findings.apply(lambda row: research.loc[row[\"doi\"]][\"citation_count\"], axis=1)\n",
    "findings[\"pubdate\"] = findings.apply(lambda row: research.loc[row[\"doi\"]][\"pubdate\"], axis=1)\n",
    "findings = findings.explode(\"findings\", ignore_index=True)\n",
    "findings.rename(columns={\"findings\": \"text\"}, inplace=True)\n",
    "findings.head()"
   ]
  },
  {
   "cell_type": "code",
   "execution_count": 4,
   "id": "8a779de8",
   "metadata": {},
   "outputs": [],
   "source": [
    "findings.to_json(\"findings_for_db.jsonl\", lines=True, orient=\"records\")"
   ]
  },
  {
   "cell_type": "code",
   "execution_count": 5,
   "id": "1150c33a",
   "metadata": {},
   "outputs": [
    {
     "name": "stdout",
     "output_type": "stream",
     "text": [
      "Creating new collection 'qwen06_findings_v2'...\n",
      "Collection 'qwen06_findings_v2' created\n",
      "==================================================\n",
      "COLLECTION CREATION SUMMARY\n",
      "==================================================\n",
      "Collection Name     : qwen06_findings_v2\n",
      "Collection Entities : 0\n",
      "Num CPUs            : 12\n",
      "Embedder Name       : Qwen/Qwen3-Embedding-0.6B\n",
      "Embedder Dimension  : 1024\n",
      "Normalize           : True\n",
      "Batch Size          : 8\n",
      "Device              : mps\n",
      "Data source         : findings_for_db.jsonl\n",
      "Data size           : 4342 rows\n",
      "==================================================\n",
      "Using disk flush interval: 512\n"
     ]
    },
    {
     "name": "stderr",
     "output_type": "stream",
     "text": [
      "Inserting: 100%|██████████| 4342/4342 [01:27<00:00, 49.41docs/s]\n",
      "Embedding: 100%|██████████| 4342/4342 [01:27<00:00, 49.41docs/s]\n"
     ]
    },
    {
     "name": "stdout",
     "output_type": "stream",
     "text": [
      "All insertions complete. Final flush to disk...done!\n",
      "New collection qwen06_findings_v2: 4342 entities\n"
     ]
    }
   ],
   "source": [
    "db.create_vector_collection(\n",
    "    \"qwen06_findings_v2\",\n",
    "    data_source=\"findings_for_db.jsonl\",\n",
    "    embedder_name=\"Qwen/Qwen3-Embedding-0.6B\",\n",
    "    normalize=True,\n",
    "    batch_size=8\n",
    ")"
   ]
  },
  {
   "cell_type": "markdown",
   "id": "c21bf372",
   "metadata": {},
   "source": [
    "1. Get the sample set\n",
    "1. Get the hard examples\n",
    "1. Get the similarity scores to target and hard examples\n",
    "1. Using the new prompt, get the scores to the same documents\n",
    "1. Did the margin improve?"
   ]
  },
  {
   "cell_type": "code",
   "execution_count": 6,
   "id": "3b2256da",
   "metadata": {},
   "outputs": [
    {
     "name": "stdout",
     "output_type": "stream",
     "text": [
      "Qwen/Qwen3-Embedding-0.6B, device=mps, normalize=True, dim=1024\n",
      "QueryExpander(name=add_prev_3, data_length=2980)\n"
     ]
    },
    {
     "name": "stderr",
     "output_type": "stream",
     "text": [
      "100%|██████████| 50/50 [00:19<00:00,  2.61it/s]\n"
     ]
    },
    {
     "data": {
      "text/html": [
       "<div>\n",
       "<style scoped>\n",
       "    .dataframe tbody tr th:only-of-type {\n",
       "        vertical-align: middle;\n",
       "    }\n",
       "\n",
       "    .dataframe tbody tr th {\n",
       "        vertical-align: top;\n",
       "    }\n",
       "\n",
       "    .dataframe thead th {\n",
       "        text-align: right;\n",
       "    }\n",
       "</style>\n",
       "<table border=\"1\" class=\"dataframe\">\n",
       "  <thead>\n",
       "    <tr style=\"text-align: right;\">\n",
       "      <th></th>\n",
       "      <th>source_doi</th>\n",
       "      <th>sent_original</th>\n",
       "      <th>sent_no_cit</th>\n",
       "      <th>sent_idx</th>\n",
       "      <th>citation_dois</th>\n",
       "      <th>pubdate</th>\n",
       "      <th>resolved_bibcodes</th>\n",
       "      <th>sent_cit_masked</th>\n",
       "      <th>vector</th>\n",
       "    </tr>\n",
       "  </thead>\n",
       "  <tbody>\n",
       "    <tr>\n",
       "      <th>0</th>\n",
       "      <td>10.1146/annurev-astro-081710-102521</td>\n",
       "      <td>Their abundance is important because molecular...</td>\n",
       "      <td>In this limit, the important reactions are dis...</td>\n",
       "      <td>318</td>\n",
       "      <td>[10.1046/j.1365-8711.2002.04940.x]</td>\n",
       "      <td>20110901</td>\n",
       "      <td>[2002MNRAS.329...18F]</td>\n",
       "      <td>Their abundance is important because molecular...</td>\n",
       "      <td>[-0.036558926, -0.016381508, -0.0110567855, 0....</td>\n",
       "    </tr>\n",
       "    <tr>\n",
       "      <th>1</th>\n",
       "      <td>10.1146/annurev-astro-081817-051826</td>\n",
       "      <td>It is important to point out that the fraction...</td>\n",
       "      <td>Gesicki et al. (2014) derived masses and ages ...</td>\n",
       "      <td>231</td>\n",
       "      <td>[10.1051/0004-6361/201220678, 10.1051/0004-636...</td>\n",
       "      <td>20180901</td>\n",
       "      <td>[2013A&amp;A...549A.147B, 2017A&amp;A...605A..89B]</td>\n",
       "      <td>It is important to point out that the fraction...</td>\n",
       "      <td>[-0.016821573, -0.014033405, -0.008635518, 0.0...</td>\n",
       "    </tr>\n",
       "    <tr>\n",
       "      <th>2</th>\n",
       "      <td>10.1007/s00159-010-0029-x</td>\n",
       "      <td>How could the seed massive black holes have gr...</td>\n",
       "      <td>This argument is particularly important at ear...</td>\n",
       "      <td>259</td>\n",
       "      <td>[10.1086/422910, 10.1086/427065, 10.1086/50744...</td>\n",
       "      <td>20100701</td>\n",
       "      <td>[2004ApJ...613...36H, 2005ApJ...620...59S, 200...</td>\n",
       "      <td>How could the seed massive black holes have gr...</td>\n",
       "      <td>[-0.018864796, -0.06410703, -0.0063532703, 0.0...</td>\n",
       "    </tr>\n",
       "    <tr>\n",
       "      <th>3</th>\n",
       "      <td>10.1146/annurev.aa.31.090193.003441</td>\n",
       "      <td>Nature has somehow solved this problem in doub...</td>\n",
       "      <td>These models can reproduce the observed spectr...</td>\n",
       "      <td>457</td>\n",
       "      <td>[10.1086/161053]</td>\n",
       "      <td>19930101</td>\n",
       "      <td>[1983ApJ...269..423R]</td>\n",
       "      <td>Nature has somehow solved this problem in doub...</td>\n",
       "      <td>[0.044838704, -0.013867467, -0.007506692, 0.04...</td>\n",
       "    </tr>\n",
       "    <tr>\n",
       "      <th>4</th>\n",
       "      <td>10.1007/s00159-012-0055-y</td>\n",
       "      <td>However, a similar linewidth–size scaling law ...</td>\n",
       "      <td>Size, internal velocity dispersion and column ...</td>\n",
       "      <td>306</td>\n",
       "      <td>[10.1051/0004-6361:20020629]</td>\n",
       "      <td>20121101</td>\n",
       "      <td>[2002A&amp;A...390..307O]</td>\n",
       "      <td>However, a similar linewidth–size scaling law ...</td>\n",
       "      <td>[-0.009350214, -0.056160886, -0.00880815, -0.0...</td>\n",
       "    </tr>\n",
       "  </tbody>\n",
       "</table>\n",
       "</div>"
      ],
      "text/plain": [
       "                            source_doi  \\\n",
       "0  10.1146/annurev-astro-081710-102521   \n",
       "1  10.1146/annurev-astro-081817-051826   \n",
       "2            10.1007/s00159-010-0029-x   \n",
       "3  10.1146/annurev.aa.31.090193.003441   \n",
       "4            10.1007/s00159-012-0055-y   \n",
       "\n",
       "                                       sent_original  \\\n",
       "0  Their abundance is important because molecular...   \n",
       "1  It is important to point out that the fraction...   \n",
       "2  How could the seed massive black holes have gr...   \n",
       "3  Nature has somehow solved this problem in doub...   \n",
       "4  However, a similar linewidth–size scaling law ...   \n",
       "\n",
       "                                         sent_no_cit  sent_idx  \\\n",
       "0  In this limit, the important reactions are dis...       318   \n",
       "1  Gesicki et al. (2014) derived masses and ages ...       231   \n",
       "2  This argument is particularly important at ear...       259   \n",
       "3  These models can reproduce the observed spectr...       457   \n",
       "4  Size, internal velocity dispersion and column ...       306   \n",
       "\n",
       "                                       citation_dois   pubdate  \\\n",
       "0                 [10.1046/j.1365-8711.2002.04940.x]  20110901   \n",
       "1  [10.1051/0004-6361/201220678, 10.1051/0004-636...  20180901   \n",
       "2  [10.1086/422910, 10.1086/427065, 10.1086/50744...  20100701   \n",
       "3                                   [10.1086/161053]  19930101   \n",
       "4                       [10.1051/0004-6361:20020629]  20121101   \n",
       "\n",
       "                                   resolved_bibcodes  \\\n",
       "0                              [2002MNRAS.329...18F]   \n",
       "1         [2013A&A...549A.147B, 2017A&A...605A..89B]   \n",
       "2  [2004ApJ...613...36H, 2005ApJ...620...59S, 200...   \n",
       "3                              [1983ApJ...269..423R]   \n",
       "4                              [2002A&A...390..307O]   \n",
       "\n",
       "                                     sent_cit_masked  \\\n",
       "0  Their abundance is important because molecular...   \n",
       "1  It is important to point out that the fraction...   \n",
       "2  How could the seed massive black holes have gr...   \n",
       "3  Nature has somehow solved this problem in doub...   \n",
       "4  However, a similar linewidth–size scaling law ...   \n",
       "\n",
       "                                              vector  \n",
       "0  [-0.036558926, -0.016381508, -0.0110567855, 0....  \n",
       "1  [-0.016821573, -0.014033405, -0.008635518, 0.0...  \n",
       "2  [-0.018864796, -0.06410703, -0.0063532703, 0.0...  \n",
       "3  [0.044838704, -0.013867467, -0.007506692, 0.04...  \n",
       "4  [-0.009350214, -0.056160886, -0.00880815, -0.0...  "
      ]
     },
     "execution_count": 6,
     "metadata": {},
     "output_type": "execute_result"
    }
   ],
   "source": [
    "from citeline.query_expander import get_expander\n",
    "from citeline.embedders import Embedder\n",
    "embedder = embedder = Embedder.create(\"Qwen/Qwen3-Embedding-0.6B\", device=\"mps\", normalize=True)\n",
    "expander = get_expander(\"add_prev_3\", path_to_data=\"../data/preprocessed/reviews.jsonl\")\n",
    "print(embedder)\n",
    "print(expander)\n",
    "\n",
    "# Get sample\n",
    "sample = pd.read_json(\"../data/dataset/nontrivial_100.jsonl\", lines=True)\n",
    "sample = sample.sample(50, random_state=42).reset_index(drop=True)\n",
    "sample[\"sent_no_cit\"] = expander(sample)\n",
    "sample[\"vector\"] = sample.progress_apply(lambda row: embedder([row[\"sent_no_cit\"]])[0], axis=1)\n",
    "sample.head()"
   ]
  },
  {
   "cell_type": "code",
   "execution_count": null,
   "id": "8ebed811",
   "metadata": {},
   "outputs": [
    {
     "name": "stdout",
     "output_type": "stream",
     "text": [
      "Test example has targets: ['10.1046/j.1365-8711.2002.04940.x']\n",
      "['10.1088/0004-637X/703/2/1416', '10.1111/j.1365-2966.2004.08313.x']\n",
      "[0.6299331188201904, 0.5999367833137512]\n"
     ]
    }
   ],
   "source": [
    "# Get the 'hard examples' for each query; e.g. the top most similar papers that are in the query's target\n",
    "hard_examples = []\n",
    "\n",
    "\n",
    "def get_hard_examples(example: pd.Series, n: int = 2) -> list[str]:\n",
    "    \"\"\"\n",
    "    Overfetches 3*n most similar records (bc if two reps from same doc are in top n, we won't have n distinct non-target dois)\n",
    "\n",
    "    Returns:\n",
    "      A list of doi's, ordered by their max similarity to the query\n",
    "    \"\"\"\n",
    "    results = db.search(\n",
    "        collection_name=\"qwen06_contributions\",\n",
    "        query_records=[example.to_dict()],\n",
    "        query_vectors=[example.vector],\n",
    "        limit=3 * n,\n",
    "    )\n",
    "    results = results[0]\n",
    "\n",
    "    # Filter results to non-targets only\n",
    "    target_dois = set(example.citation_dois)\n",
    "    non_target_results = [r for r in results if r[\"doi\"] not in target_dois]\n",
    "    assert len(non_target_results) >= n, f\"Not enough non-target results for example {example}\"\n",
    "    hard_dois = [r[\"doi\"] for r in non_target_results[:n]]\n",
    "    hard_distances = [r[\"metric\"] for r in non_target_results[:n]]\n",
    "    return hard_dois, hard_distances\n",
    "\n",
    "\n",
    "test_example = sample.iloc[0]\n",
    "hard_dois, hard_vectors = get_hard_examples(test_example, n=2)\n",
    "print(f\"Test example has targets: {test_example.citation_dois}\")\n",
    "pprint(hard_dois)\n",
    "pprint(hard_vectors)"
   ]
  },
  {
   "cell_type": "code",
   "execution_count": null,
   "id": "568055eb",
   "metadata": {},
   "outputs": [
    {
     "name": "stderr",
     "output_type": "stream",
     "text": [
      "100%|██████████| 50/50 [00:03<00:00, 16.45it/s]\n"
     ]
    },
    {
     "data": {
      "text/html": [
       "<div>\n",
       "<style scoped>\n",
       "    .dataframe tbody tr th:only-of-type {\n",
       "        vertical-align: middle;\n",
       "    }\n",
       "\n",
       "    .dataframe tbody tr th {\n",
       "        vertical-align: top;\n",
       "    }\n",
       "\n",
       "    .dataframe thead th {\n",
       "        text-align: right;\n",
       "    }\n",
       "</style>\n",
       "<table border=\"1\" class=\"dataframe\">\n",
       "  <thead>\n",
       "    <tr style=\"text-align: right;\">\n",
       "      <th></th>\n",
       "      <th>source_doi</th>\n",
       "      <th>sent_original</th>\n",
       "      <th>sent_no_cit</th>\n",
       "      <th>sent_idx</th>\n",
       "      <th>citation_dois</th>\n",
       "      <th>pubdate</th>\n",
       "      <th>resolved_bibcodes</th>\n",
       "      <th>sent_cit_masked</th>\n",
       "      <th>vector</th>\n",
       "      <th>hard_dois</th>\n",
       "      <th>hard_similarities</th>\n",
       "    </tr>\n",
       "  </thead>\n",
       "  <tbody>\n",
       "    <tr>\n",
       "      <th>0</th>\n",
       "      <td>10.1146/annurev-astro-081710-102521</td>\n",
       "      <td>Their abundance is important because molecular...</td>\n",
       "      <td>In this limit, the important reactions are dis...</td>\n",
       "      <td>318</td>\n",
       "      <td>[10.1046/j.1365-8711.2002.04940.x]</td>\n",
       "      <td>20110901</td>\n",
       "      <td>[2002MNRAS.329...18F]</td>\n",
       "      <td>Their abundance is important because molecular...</td>\n",
       "      <td>[-0.036558926, -0.016381508, -0.0110567855, 0....</td>\n",
       "      <td>[10.1088/0004-637X/703/2/1416, 10.1111/j.1365-...</td>\n",
       "      <td>[0.6299331188201904, 0.5999367833137512, 0.593...</td>\n",
       "    </tr>\n",
       "    <tr>\n",
       "      <th>1</th>\n",
       "      <td>10.1146/annurev-astro-081817-051826</td>\n",
       "      <td>It is important to point out that the fraction...</td>\n",
       "      <td>Gesicki et al. (2014) derived masses and ages ...</td>\n",
       "      <td>231</td>\n",
       "      <td>[10.1051/0004-6361/201220678, 10.1051/0004-636...</td>\n",
       "      <td>20180901</td>\n",
       "      <td>[2013A&amp;A...549A.147B, 2017A&amp;A...605A..89B]</td>\n",
       "      <td>It is important to point out that the fraction...</td>\n",
       "      <td>[-0.016821573, -0.014033405, -0.008635518, 0.0...</td>\n",
       "      <td>[10.1093/mnras/stx373, 10.1051/0004-6361:20021...</td>\n",
       "      <td>[0.6454614996910095, 0.6320533156394958, 0.629...</td>\n",
       "    </tr>\n",
       "    <tr>\n",
       "      <th>2</th>\n",
       "      <td>10.1007/s00159-010-0029-x</td>\n",
       "      <td>How could the seed massive black holes have gr...</td>\n",
       "      <td>This argument is particularly important at ear...</td>\n",
       "      <td>259</td>\n",
       "      <td>[10.1086/422910, 10.1086/427065, 10.1086/50744...</td>\n",
       "      <td>20100701</td>\n",
       "      <td>[2004ApJ...613...36H, 2005ApJ...620...59S, 200...</td>\n",
       "      <td>How could the seed massive black holes have gr...</td>\n",
       "      <td>[-0.018864796, -0.06410703, -0.0063532703, 0.0...</td>\n",
       "      <td>[10.1111/j.1365-2966.2006.10467.x, 10.1111/j.1...</td>\n",
       "      <td>[0.7770616412162781, 0.7540676593780518, 0.751...</td>\n",
       "    </tr>\n",
       "    <tr>\n",
       "      <th>3</th>\n",
       "      <td>10.1146/annurev.aa.31.090193.003441</td>\n",
       "      <td>Nature has somehow solved this problem in doub...</td>\n",
       "      <td>These models can reproduce the observed spectr...</td>\n",
       "      <td>457</td>\n",
       "      <td>[10.1086/161053]</td>\n",
       "      <td>19930101</td>\n",
       "      <td>[1983ApJ...269..423R]</td>\n",
       "      <td>Nature has somehow solved this problem in doub...</td>\n",
       "      <td>[0.044838704, -0.013867467, -0.007506692, 0.04...</td>\n",
       "      <td>[10.1086/164480, 10.1086/155083, 10.1093/mnras...</td>\n",
       "      <td>[0.6610962748527527, 0.6198835372924805, 0.617...</td>\n",
       "    </tr>\n",
       "    <tr>\n",
       "      <th>4</th>\n",
       "      <td>10.1007/s00159-012-0055-y</td>\n",
       "      <td>However, a similar linewidth–size scaling law ...</td>\n",
       "      <td>Size, internal velocity dispersion and column ...</td>\n",
       "      <td>306</td>\n",
       "      <td>[10.1051/0004-6361:20020629]</td>\n",
       "      <td>20121101</td>\n",
       "      <td>[2002A&amp;A...390..307O]</td>\n",
       "      <td>However, a similar linewidth–size scaling law ...</td>\n",
       "      <td>[-0.009350214, -0.056160886, -0.00880815, -0.0...</td>\n",
       "      <td>[10.1086/169766, 10.1086/177465, 10.1086/18481...</td>\n",
       "      <td>[0.6350903511047363, 0.5991689562797546, 0.595...</td>\n",
       "    </tr>\n",
       "  </tbody>\n",
       "</table>\n",
       "</div>"
      ],
      "text/plain": [
       "                            source_doi  \\\n",
       "0  10.1146/annurev-astro-081710-102521   \n",
       "1  10.1146/annurev-astro-081817-051826   \n",
       "2            10.1007/s00159-010-0029-x   \n",
       "3  10.1146/annurev.aa.31.090193.003441   \n",
       "4            10.1007/s00159-012-0055-y   \n",
       "\n",
       "                                       sent_original  \\\n",
       "0  Their abundance is important because molecular...   \n",
       "1  It is important to point out that the fraction...   \n",
       "2  How could the seed massive black holes have gr...   \n",
       "3  Nature has somehow solved this problem in doub...   \n",
       "4  However, a similar linewidth–size scaling law ...   \n",
       "\n",
       "                                         sent_no_cit  sent_idx  \\\n",
       "0  In this limit, the important reactions are dis...       318   \n",
       "1  Gesicki et al. (2014) derived masses and ages ...       231   \n",
       "2  This argument is particularly important at ear...       259   \n",
       "3  These models can reproduce the observed spectr...       457   \n",
       "4  Size, internal velocity dispersion and column ...       306   \n",
       "\n",
       "                                       citation_dois   pubdate  \\\n",
       "0                 [10.1046/j.1365-8711.2002.04940.x]  20110901   \n",
       "1  [10.1051/0004-6361/201220678, 10.1051/0004-636...  20180901   \n",
       "2  [10.1086/422910, 10.1086/427065, 10.1086/50744...  20100701   \n",
       "3                                   [10.1086/161053]  19930101   \n",
       "4                       [10.1051/0004-6361:20020629]  20121101   \n",
       "\n",
       "                                   resolved_bibcodes  \\\n",
       "0                              [2002MNRAS.329...18F]   \n",
       "1         [2013A&A...549A.147B, 2017A&A...605A..89B]   \n",
       "2  [2004ApJ...613...36H, 2005ApJ...620...59S, 200...   \n",
       "3                              [1983ApJ...269..423R]   \n",
       "4                              [2002A&A...390..307O]   \n",
       "\n",
       "                                     sent_cit_masked  \\\n",
       "0  Their abundance is important because molecular...   \n",
       "1  It is important to point out that the fraction...   \n",
       "2  How could the seed massive black holes have gr...   \n",
       "3  Nature has somehow solved this problem in doub...   \n",
       "4  However, a similar linewidth–size scaling law ...   \n",
       "\n",
       "                                              vector  \\\n",
       "0  [-0.036558926, -0.016381508, -0.0110567855, 0....   \n",
       "1  [-0.016821573, -0.014033405, -0.008635518, 0.0...   \n",
       "2  [-0.018864796, -0.06410703, -0.0063532703, 0.0...   \n",
       "3  [0.044838704, -0.013867467, -0.007506692, 0.04...   \n",
       "4  [-0.009350214, -0.056160886, -0.00880815, -0.0...   \n",
       "\n",
       "                                           hard_dois  \\\n",
       "0  [10.1088/0004-637X/703/2/1416, 10.1111/j.1365-...   \n",
       "1  [10.1093/mnras/stx373, 10.1051/0004-6361:20021...   \n",
       "2  [10.1111/j.1365-2966.2006.10467.x, 10.1111/j.1...   \n",
       "3  [10.1086/164480, 10.1086/155083, 10.1093/mnras...   \n",
       "4  [10.1086/169766, 10.1086/177465, 10.1086/18481...   \n",
       "\n",
       "                                   hard_similarities  \n",
       "0  [0.6299331188201904, 0.5999367833137512, 0.593...  \n",
       "1  [0.6454614996910095, 0.6320533156394958, 0.629...  \n",
       "2  [0.7770616412162781, 0.7540676593780518, 0.751...  \n",
       "3  [0.6610962748527527, 0.6198835372924805, 0.617...  \n",
       "4  [0.6350903511047363, 0.5991689562797546, 0.595...  "
      ]
     },
     "execution_count": 8,
     "metadata": {},
     "output_type": "execute_result"
    }
   ],
   "source": [
    "# Get the hard examples' doi's and similarity scores for each query in the example\n",
    "sample[\"hard_dois\"] = None\n",
    "sample[\"hard_similarities\"] = None\n",
    "for idx, example in tqdm(sample.iterrows(), total=len(sample)):\n",
    "    hard_dois, hard_vectors = get_hard_examples(example, n=5)\n",
    "    sample.at[idx, \"hard_dois\"] = hard_dois\n",
    "    sample.at[idx, \"hard_similarities\"] = hard_vectors\n",
    "\n",
    "sample.head()"
   ]
  },
  {
   "cell_type": "code",
   "execution_count": 50,
   "id": "ea997817",
   "metadata": {},
   "outputs": [
    {
     "name": "stdout",
     "output_type": "stream",
     "text": [
      "{'10.12942/lrr-2007-4': None, '10.1086/316325': None, '10.1086/338878': None, '10.1086/377226': None, '10.1103/PhysRevD.76.023507': None}\n",
      "{'best_target_similarity': np.float64(0.6253652536974814), 'highest_nontarget_similarity': np.float64(0.7060338840484246), 'margin': np.float64(-0.08066863035094318), 'hard_doi_scores': {'10.12942/lrr-2007-4': array([0.42692635, 0.34052465, 0.25766897, 0.28854064, 0.23957271,\n",
      "       0.37627621, 0.34716403, 0.60606813, 0.38809626, 0.49862634,\n",
      "       0.38986925, 0.34772558, 0.36089979, 0.33016657, 0.37278834]), '10.1086/316325': array([0.58885014, 0.38358873, 0.43951109, 0.4518825 , 0.3804375 ,\n",
      "       0.70603388, 0.52312151, 0.40823835, 0.54410084, 0.50621938,\n",
      "       0.41794769, 0.54740042, 0.41905573, 0.39807087, 0.42708606]), '10.1086/338878': array([0.34346478, 0.31431062, 0.33098402, 0.33905808, 0.3897285 ,\n",
      "       0.37286265, 0.45620765, 0.42860627, 0.44048617, 0.38655601,\n",
      "       0.60652949, 0.32908714, 0.36462619, 0.34888169, 0.28412102,\n",
      "       0.34184157, 0.44549141, 0.39603277, 0.25284386]), '10.1086/377226': array([0.61701674, 0.47805384, 0.51271695, 0.49319535, 0.45436802,\n",
      "       0.52904679, 0.4930789 , 0.46756492, 0.29670209, 0.52888659,\n",
      "       0.52946741, 0.48914931, 0.48818916, 0.40068783, 0.31076225,\n",
      "       0.47110842, 0.36103108, 0.38864851, 0.3345549 , 0.50816813]), '10.1103/PhysRevD.76.023507': array([0.45509341, 0.54578609, 0.49734956, 0.47698764, 0.34653449,\n",
      "       0.38566124, 0.63522843, 0.57436225, 0.38140235, 0.41105463,\n",
      "       0.39424325, 0.41265885, 0.52728448, 0.38580014, 0.31764813])}}\n"
     ]
    }
   ],
   "source": [
    "def average_target_similarity(example: pd.Series, collection: str) -> float:\n",
    "    \"\"\"\n",
    "    For examples with a single target doi, this computes the maximum similarity between the query vector and\n",
    "    all vectors associated with the target doi in the database.\n",
    "\n",
    "    For examples with multiple target dois, this computes the average maximum similarity across each target doi.\n",
    "    \"\"\"\n",
    "    metric_values = []\n",
    "    for target_doi in example.citation_dois:\n",
    "        target_results = db.select_by_doi(doi=target_doi, collection_name=collection)\n",
    "        target_vectors = np.array(target_results[\"vector\"].tolist())\n",
    "        dot_products = np.dot(example.vector, target_vectors.T)\n",
    "        metric_values.append(max(dot_products))\n",
    "    return np.mean(metric_values) if metric_values else 0.0\n",
    "\n",
    "\n",
    "def average_nontarget_similarity(example: pd.Series, collection: str) -> float:\n",
    "    \"\"\"\n",
    "    Computes the average similarity between the query vector and the hard non-target examples.\n",
    "    \"\"\"\n",
    "    hard_dois = {doi: None for doi in example.hard_dois}\n",
    "    highest_scores = []\n",
    "    for doi in hard_dois:\n",
    "\n",
    "        results = db.select_by_doi(doi=doi, collection_name=collection)\n",
    "        hard_vectors = np.array(results['vector'].to_list())\n",
    "        highest_score = np.max(np.dot(example.vector, hard_vectors.T))\n",
    "        highest_scores.append(highest_score)\n",
    "\n",
    "    return np.mean(highest_scores) if highest_scores else 0.0\n",
    "\n",
    "\n",
    "def similarity_margin(example: pd.Series, collection: str) -> float:\n",
    "    \"\"\"\n",
    "    Computes the difference between the average target similarity and the average non-target similarity.\n",
    "    \"\"\"\n",
    "    return average_target_similarity(example, collection=collection) - average_nontarget_similarity(example, collection=collection)\n",
    "\n",
    "def compute_row_metrics(row: pd.Series, collection_name: str) -> dict:\n",
    "    # Compute the new similarity to target\n",
    "    target_records = db.select_by_doi(doi=row['citation_dois'][0], collection_name=collection_name)\n",
    "    target_vectors = np.array(target_records['vector'].to_list())\n",
    "    target_similarities = np.dot(row['vector'], target_vectors.T)\n",
    "    best_target_similarity = np.max(target_similarities)\n",
    "\n",
    "    # Compute the similarities to non-targets\n",
    "    hard_dois = {doi: None for doi in row['hard_dois']}\n",
    "    print(hard_dois)\n",
    "    for doi in hard_dois:\n",
    "        records = db.select_by_doi(doi=doi, collection_name=collection_name)\n",
    "        hard_vectors = np.array(records['vector'].to_list())\n",
    "        hard_similarities = np.dot(row['vector'], hard_vectors.T)\n",
    "        hard_dois[doi] = hard_similarities\n",
    "    highest_nontarget_similarity = np.max([np.max(score) for score in hard_dois.values()])\n",
    "    margin = best_target_similarity - highest_nontarget_similarity\n",
    "    return {\n",
    "        \"best_target_similarity\": best_target_similarity,\n",
    "        \"highest_nontarget_similarity\": highest_nontarget_similarity,\n",
    "        \"margin\": margin,\n",
    "        \"hard_doi_scores\": hard_dois\n",
    "    }\n",
    "\n",
    "data = compute_row_metrics(sample.iloc[10], collection_name='qwen06_findings_v2')\n",
    "print(data)\n",
    "# print(f\"Average target similarity: {average_target_similarity(sample.iloc[10], collection='qwen06_findings_v2')}\")\n",
    "# print(f\"Average non-target similarity: {average_nontarget_similarity(sample.iloc[10], collection='qwen06_findings_v2')}\")\n",
    "# print(f\"Similarity margin: {similarity_margin(sample.iloc[10], collection='qwen06_findings_v2')}\")"
   ]
  },
  {
   "cell_type": "code",
   "execution_count": 51,
   "id": "40072426",
   "metadata": {},
   "outputs": [
    {
     "name": "stderr",
     "output_type": "stream",
     "text": [
      "  4%|▍         | 2/50 [00:00<00:04, 10.80it/s]"
     ]
    },
    {
     "name": "stdout",
     "output_type": "stream",
     "text": [
      "{'10.1088/0004-637X/703/2/1416': None, '10.1111/j.1365-2966.2004.08313.x': None, '10.1086/316190': None, '10.1086/153030': None, '10.1051/0004-6361:20053678': None}\n",
      "{'10.1093/mnras/stx373': None, '10.1051/0004-6361:20021604': None, '10.1051/0004-6361/201628816': None, '10.1086/310511': None, '10.1111/j.1365-2966.2005.09871.x': None}\n",
      "{'10.1111/j.1365-2966.2006.10467.x': None, '10.1111/j.1365-2966.2006.11275.x': None, '10.1111/j.1365-2966.2006.10801.x': None, '10.1111/j.1365-2966.2004.08261.x': None, '10.1086/320586': None}\n"
     ]
    },
    {
     "name": "stderr",
     "output_type": "stream",
     "text": [
      "  8%|▊         | 4/50 [00:00<00:04, 10.26it/s]"
     ]
    },
    {
     "name": "stdout",
     "output_type": "stream",
     "text": [
      "{'10.1086/164480': None, '10.1086/155083': None, '10.1093/mnras/184.1.61P': None, '10.1093/mnras/167.1.1': None, '10.1086/161353': None}\n",
      "{'10.1086/169766': None, '10.1086/177465': None, '10.1086/184817': None, '10.1086/165493': None, '10.1111/j.1365-2966.2010.18028.x': None}\n",
      "{'10.1038/nature05636': None, '10.1086/605913': None, '10.1086/676406': None, '10.3847/1538-4357/aae36a': None, '10.3847/1538-4357/aa927b': None}\n"
     ]
    },
    {
     "name": "stderr",
     "output_type": "stream",
     "text": [
      " 14%|█▍        | 7/50 [00:00<00:05,  8.43it/s]"
     ]
    },
    {
     "name": "stdout",
     "output_type": "stream",
     "text": [
      "{'10.1086/312585': None, '10.1086/506523': None, '10.48550/arXiv.astro-ph/0006405': None, '10.1086/162057': None}\n",
      "{'10.1051/0004-6361/200912976': None, '10.1086/177823': None, '10.1146/annurev-earth-040809-152513': None, '10.1086/303996': None}\n"
     ]
    },
    {
     "name": "stderr",
     "output_type": "stream",
     "text": [
      " 18%|█▊        | 9/50 [00:01<00:05,  7.77it/s]"
     ]
    },
    {
     "name": "stdout",
     "output_type": "stream",
     "text": [
      "{'10.1086/308776': None, '10.1086/164018': None, '10.1038/nature03293': None, '10.1086/306576': None}\n",
      "{'10.1086/147890': None, '10.48550/arXiv.astro-ph/9902227': None, '10.1086/345794': None, '10.1051/0004-6361:20042446': None}\n"
     ]
    },
    {
     "name": "stderr",
     "output_type": "stream",
     "text": [
      " 24%|██▍       | 12/50 [00:01<00:03,  9.62it/s]"
     ]
    },
    {
     "name": "stdout",
     "output_type": "stream",
     "text": [
      "{'10.12942/lrr-2007-4': None, '10.1086/316325': None, '10.1086/338878': None, '10.1086/377226': None, '10.1103/PhysRevD.76.023507': None}\n",
      "{'10.1051/0004-6361/201116920': None, '10.1086/501344': None, '10.1111/j.1365-2966.2004.08041.x': None, '10.1086/422498': None, '10.1051/0004-6361:20030472': None}\n",
      "{'10.1086/167444': None, '10.1086/184920': None, '10.1086/312280': None, '10.1093/mnras/231.2.409': None, '10.1086/175953': None}\n",
      "{'10.1086/345096': None, '10.48550/arXiv.astro-ph/9902070': None, '10.1086/300882': None, '10.1086/307144': None}\n"
     ]
    },
    {
     "name": "stderr",
     "output_type": "stream",
     "text": [
      " 32%|███▏      | 16/50 [00:01<00:03, 10.12it/s]"
     ]
    },
    {
     "name": "stdout",
     "output_type": "stream",
     "text": [
      "{'10.1111/j.1365-2966.2006.10068.x': None, '10.1088/0004-637X/779/1/19': None, '10.1046/j.1365-8711.2001.04227.x': None, '10.1088/0004-637X/717/1/183': None}\n",
      "{'10.1086/182301': None, '10.48550/arXiv.astro-ph/9604137': None, '10.1086/170555': None, '10.1093/mnras/282.4.1159': None, '10.1086/171151': None}\n"
     ]
    },
    {
     "name": "stderr",
     "output_type": "stream",
     "text": [
      " 36%|███▌      | 18/50 [00:01<00:03, 10.06it/s]"
     ]
    },
    {
     "name": "stdout",
     "output_type": "stream",
     "text": [
      "{'10.1111/j.1365-2966.2007.12050.x': None, '10.1046/j.1365-8711.2001.04557.x': None, '10.1086/523960': None, '10.1086/174549': None, '10.1093/mnras/stu1725': None}\n",
      "{'10.1086/167404': None, '10.1016/j.physrep.2007.02.002': None, '10.1088/0004-637X/757/1/69': None, '10.1086/312305': None}\n"
     ]
    },
    {
     "name": "stderr",
     "output_type": "stream",
     "text": [
      " 40%|████      | 20/50 [00:02<00:02, 10.04it/s]"
     ]
    },
    {
     "name": "stdout",
     "output_type": "stream",
     "text": [
      "{'10.1086/316293': None, '10.3847/0004-637X/821/2/78': None, '10.1086/160813': None, '10.1086/173713': None}\n",
      "{'10.1093/mnras/230.1.131': None, '10.1111/j.1365-2966.2011.19527.x': None, '10.1051/0004-6361:20030527': None, '10.1111/j.1365-2966.2008.13459.x': None, '10.48550/arXiv.astro-ph/9507076': None}\n",
      "{'10.1086/171859': None, '10.1086/518001': None, '10.1086/592226': None, '10.1086/154135': None}\n"
     ]
    },
    {
     "name": "stderr",
     "output_type": "stream",
     "text": [
      " 44%|████▍     | 22/50 [00:02<00:02, 10.31it/s]"
     ]
    },
    {
     "name": "stdout",
     "output_type": "stream",
     "text": [
      "{'10.1111/j.1365-2966.2011.19057.x': None, '10.1111/j.1365-2966.2012.20595.x': None, '10.1111/j.1365-2966.2006.11328.x': None, '10.1051/0004-6361/201834637': None}\n",
      "{'10.1086/379109': None, '10.1086/165983': None, '10.1086/303765': None, '10.1086/301146': None}\n",
      "{'10.3847/0004-637X/829/2/132': None, '10.1073/pnas.1120970109': None}\n"
     ]
    },
    {
     "name": "stderr",
     "output_type": "stream",
     "text": [
      " 50%|█████     | 25/50 [00:02<00:02, 11.39it/s]"
     ]
    },
    {
     "name": "stdout",
     "output_type": "stream",
     "text": [
      "{'10.1086/591471': None, '10.1051/0004-6361/201527195': None, '10.1088/0004-637X/764/1/106': None, '10.1016/j.icarus.2010.01.015': None}\n",
      "{'10.1086/172109': None, '10.3847/1538-4357/ab8a4a': None, '10.1086/339913': None, '10.1111/j.1365-2966.2011.19648.x': None, '10.1111/j.1365-2966.2005.09685.x': None}\n",
      "{'10.1088/0004-637X/739/2/56': None, '10.1086/505646': None, '10.1088/0004-637X/700/1/49': None}\n",
      "{'10.1086/304915': None, '10.1093/mnras/262.4.1023': None, '10.1086/174120': None, '10.1093/mnras/253.1.1P': None}\n"
     ]
    },
    {
     "name": "stderr",
     "output_type": "stream",
     "text": [
      " 60%|██████    | 30/50 [00:02<00:01, 12.92it/s]"
     ]
    },
    {
     "name": "stdout",
     "output_type": "stream",
     "text": [
      "{'10.1038/nature01579': None, '10.1088/0004-637X/766/2/103': None, '10.1051/0004-6361:20042178': None, '10.1111/j.1365-2966.2005.09846.x': None, '10.1088/0004-637X/710/2/1343': None}\n",
      "{'10.1111/j.1365-2966.2009.15323.x': None, '10.1088/2041-8205/723/2/L213': None, '10.1126/science.1201827': None}\n",
      "{'10.1086/170555': None, '10.1038/35012001': None, '10.1086/338085': None, '10.1086/304372': None}\n"
     ]
    },
    {
     "name": "stderr",
     "output_type": "stream",
     "text": [
      " 64%|██████▍   | 32/50 [00:03<00:01, 11.92it/s]"
     ]
    },
    {
     "name": "stdout",
     "output_type": "stream",
     "text": [
      "{'10.1088/0004-637X/703/2/1696': None, '10.1086/500799': None, '10.1016/j.crhy.2011.01.007': None, '10.3847/1538-4357/aab3de': None, '10.1093/mnras/stx909': None}\n",
      "{'10.1086/177656': None, '10.1086/187464': None, '10.1086/309687': None, '10.1086/177967': None}\n"
     ]
    },
    {
     "name": "stderr",
     "output_type": "stream",
     "text": [
      " 68%|██████▊   | 34/50 [00:03<00:01, 11.52it/s]"
     ]
    },
    {
     "name": "stdout",
     "output_type": "stream",
     "text": [
      "{'10.1093/pasj/58.1.L11': None, '10.1093/mnras/182.3.443': None, '10.1086/518782': None, '10.1086/186610': None}\n",
      "{'10.1086/176216': None, '10.1093/mnras/214.3.379': None, '10.1088/0004-637X/731/2/91': None, '10.1088/0004-637X/692/2/1432': None, '10.1088/2041-8205/710/2/L142': None}\n",
      "{'10.1088/0004-637X/764/1/106': None, '10.1086/309101': None, '10.1086/175104': None}\n"
     ]
    },
    {
     "name": "stderr",
     "output_type": "stream",
     "text": [
      " 76%|███████▌  | 38/50 [00:03<00:01, 11.49it/s]"
     ]
    },
    {
     "name": "stdout",
     "output_type": "stream",
     "text": [
      "{'10.1051/0004-6361:20042134': None, '10.1086/383487': None}\n",
      "{'10.1093/mnras/281.4.L75': None, '10.1088/0004-637X/707/1/686': None, '10.1086/324423': None, '10.1111/j.1745-3933.2011.01050.x': None, '10.1051/0004-6361:20021564': None}\n",
      "{'10.1086/526426': None, '10.1111/j.1365-2966.2009.15166.x': None, '10.1111/j.1365-2966.2007.12391.x': None}\n"
     ]
    },
    {
     "name": "stderr",
     "output_type": "stream",
     "text": [
      " 80%|████████  | 40/50 [00:03<00:00, 10.04it/s]"
     ]
    },
    {
     "name": "stdout",
     "output_type": "stream",
     "text": [
      "{'10.1086/322995': None, '10.1051/0004-6361:20053166': None, '10.1086/170367': None, '10.1086/187164': None, '10.1093/mnras/stw1191': None}\n",
      "{'10.1016/j.asr.2003.08.023': None, '10.1086/374266': None, '10.1086/185143': None}\n",
      "{'10.1086/160030': None, '10.1086/164157': None, '10.1086/156297': None, '10.1086/114310': None}\n",
      "{'10.1051/0004-6361:20010370': None, '10.1088/0004-6256/145/6/147': None, '10.1088/0004-6256/141/2/29': None, '10.1029/2008RS003997': None}\n"
     ]
    },
    {
     "name": "stderr",
     "output_type": "stream",
     "text": [
      " 88%|████████▊ | 44/50 [00:04<00:00, 14.39it/s]"
     ]
    },
    {
     "name": "stdout",
     "output_type": "stream",
     "text": [
      "{'10.1086/318408': None, '10.1086/510740': None, '10.1051/0004-6361:20030839': None, '10.1086/309772': None, '10.1086/167782': None}\n",
      "{'10.1086/162225': None, '10.1093/mnras/stz243': None, '10.1103/RevModPhys.73.1031': None, '10.1088/0004-637X/786/1/54': None, '10.1086/182562': None}\n",
      "{'10.1086/156379': None, '10.1093/mnras/180.3.479': None}\n",
      "{'10.1093/mnras/255.3.389': None, '10.1086/165807': None, '10.1086/113182': None, '10.1093/mnras/277.4.1354': None, '10.1086/172531': None}\n"
     ]
    },
    {
     "name": "stderr",
     "output_type": "stream",
     "text": [
      " 98%|█████████▊| 49/50 [00:04<00:00, 13.57it/s]"
     ]
    },
    {
     "name": "stdout",
     "output_type": "stream",
     "text": [
      "{'10.1088/2041-8205/764/2/L24': None, '10.1111/j.1365-2966.2006.10778.x': None, '10.1046/j.1365-8711.1999.02907.x': None}\n",
      "{'10.1051/0004-6361:20042277': None, '10.3847/1538-4357/aad5ed': None, '10.1086/500571': None}\n"
     ]
    },
    {
     "name": "stderr",
     "output_type": "stream",
     "text": [
      "100%|██████████| 50/50 [00:04<00:00, 11.04it/s]\n"
     ]
    },
    {
     "name": "stdout",
     "output_type": "stream",
     "text": [
      "{'10.1086/147019': None, '10.1007/BF00155184': None}\n"
     ]
    },
    {
     "name": "stderr",
     "output_type": "stream",
     "text": [
      "  2%|▏         | 1/50 [00:00<00:06,  7.39it/s]"
     ]
    },
    {
     "name": "stdout",
     "output_type": "stream",
     "text": [
      "{'10.1088/0004-637X/703/2/1416': None, '10.1111/j.1365-2966.2004.08313.x': None, '10.1086/316190': None, '10.1086/153030': None, '10.1051/0004-6361:20053678': None}\n"
     ]
    },
    {
     "name": "stderr",
     "output_type": "stream",
     "text": [
      "  4%|▍         | 2/50 [00:00<00:09,  5.01it/s]"
     ]
    },
    {
     "name": "stdout",
     "output_type": "stream",
     "text": [
      "{'10.1093/mnras/stx373': None, '10.1051/0004-6361:20021604': None, '10.1051/0004-6361/201628816': None, '10.1086/310511': None, '10.1111/j.1365-2966.2005.09871.x': None}\n",
      "{'10.1111/j.1365-2966.2006.10467.x': None, '10.1111/j.1365-2966.2006.11275.x': None, '10.1111/j.1365-2966.2006.10801.x': None, '10.1111/j.1365-2966.2004.08261.x': None, '10.1086/320586': None}\n"
     ]
    },
    {
     "name": "stderr",
     "output_type": "stream",
     "text": [
      "  8%|▊         | 4/50 [00:00<00:09,  4.91it/s]"
     ]
    },
    {
     "name": "stdout",
     "output_type": "stream",
     "text": [
      "{'10.1086/164480': None, '10.1086/155083': None, '10.1093/mnras/184.1.61P': None, '10.1093/mnras/167.1.1': None, '10.1086/161353': None}\n",
      "{'10.1086/169766': None, '10.1086/177465': None, '10.1086/184817': None, '10.1086/165493': None, '10.1111/j.1365-2966.2010.18028.x': None}\n"
     ]
    },
    {
     "name": "stderr",
     "output_type": "stream",
     "text": [
      " 10%|█         | 5/50 [00:00<00:09,  4.83it/s]"
     ]
    },
    {
     "name": "stdout",
     "output_type": "stream",
     "text": [
      "{'10.1038/nature05636': None, '10.1086/605913': None, '10.1086/676406': None, '10.3847/1538-4357/aae36a': None, '10.3847/1538-4357/aa927b': None}\n"
     ]
    },
    {
     "name": "stderr",
     "output_type": "stream",
     "text": [
      " 14%|█▍        | 7/50 [00:01<00:08,  4.99it/s]"
     ]
    },
    {
     "name": "stdout",
     "output_type": "stream",
     "text": [
      "{'10.1086/312585': None, '10.1086/506523': None, '10.48550/arXiv.astro-ph/0006405': None, '10.1086/162057': None}\n",
      "{'10.1051/0004-6361/200912976': None, '10.1086/177823': None, '10.1146/annurev-earth-040809-152513': None, '10.1086/303996': None}\n"
     ]
    },
    {
     "name": "stderr",
     "output_type": "stream",
     "text": [
      " 18%|█▊        | 9/50 [00:01<00:08,  5.05it/s]"
     ]
    },
    {
     "name": "stdout",
     "output_type": "stream",
     "text": [
      "{'10.1086/308776': None, '10.1086/164018': None, '10.1038/nature03293': None, '10.1086/306576': None}\n",
      "{'10.1086/147890': None, '10.48550/arXiv.astro-ph/9902227': None, '10.1086/345794': None, '10.1051/0004-6361:20042446': None}\n"
     ]
    },
    {
     "name": "stderr",
     "output_type": "stream",
     "text": [
      " 22%|██▏       | 11/50 [00:02<00:07,  4.98it/s]"
     ]
    },
    {
     "name": "stdout",
     "output_type": "stream",
     "text": [
      "{'10.12942/lrr-2007-4': None, '10.1086/316325': None, '10.1086/338878': None, '10.1086/377226': None, '10.1103/PhysRevD.76.023507': None}\n",
      "{'10.1051/0004-6361/201116920': None, '10.1086/501344': None, '10.1111/j.1365-2966.2004.08041.x': None, '10.1086/422498': None, '10.1051/0004-6361:20030472': None}\n"
     ]
    },
    {
     "name": "stderr",
     "output_type": "stream",
     "text": [
      " 26%|██▌       | 13/50 [00:02<00:07,  5.16it/s]"
     ]
    },
    {
     "name": "stdout",
     "output_type": "stream",
     "text": [
      "{'10.1086/167444': None, '10.1086/184920': None, '10.1086/312280': None, '10.1093/mnras/231.2.409': None, '10.1086/175953': None}\n"
     ]
    },
    {
     "name": "stderr",
     "output_type": "stream",
     "text": [
      " 28%|██▊       | 14/50 [00:02<00:07,  4.83it/s]"
     ]
    },
    {
     "name": "stdout",
     "output_type": "stream",
     "text": [
      "{'10.1086/345096': None, '10.48550/arXiv.astro-ph/9902070': None, '10.1086/300882': None, '10.1086/307144': None}\n",
      "{'10.1111/j.1365-2966.2006.10068.x': None, '10.1088/0004-637X/779/1/19': None, '10.1046/j.1365-8711.2001.04227.x': None, '10.1088/0004-637X/717/1/183': None}\n"
     ]
    },
    {
     "name": "stderr",
     "output_type": "stream",
     "text": [
      " 32%|███▏      | 16/50 [00:03<00:06,  5.59it/s]"
     ]
    },
    {
     "name": "stdout",
     "output_type": "stream",
     "text": [
      "{'10.1086/182301': None, '10.48550/arXiv.astro-ph/9604137': None, '10.1086/170555': None, '10.1093/mnras/282.4.1159': None, '10.1086/171151': None}\n",
      "{'10.1111/j.1365-2966.2007.12050.x': None, '10.1046/j.1365-8711.2001.04557.x': None, '10.1086/523960': None, '10.1086/174549': None, '10.1093/mnras/stu1725': None}\n"
     ]
    },
    {
     "name": "stderr",
     "output_type": "stream",
     "text": [
      " 36%|███▌      | 18/50 [00:03<00:05,  5.45it/s]"
     ]
    },
    {
     "name": "stdout",
     "output_type": "stream",
     "text": [
      "{'10.1086/167404': None, '10.1016/j.physrep.2007.02.002': None, '10.1088/0004-637X/757/1/69': None, '10.1086/312305': None}\n",
      "{'10.1086/316293': None, '10.3847/0004-637X/821/2/78': None, '10.1086/160813': None, '10.1086/173713': None}\n"
     ]
    },
    {
     "name": "stderr",
     "output_type": "stream",
     "text": [
      " 40%|████      | 20/50 [00:03<00:05,  5.13it/s]"
     ]
    },
    {
     "name": "stdout",
     "output_type": "stream",
     "text": [
      "{'10.1093/mnras/230.1.131': None, '10.1111/j.1365-2966.2011.19527.x': None, '10.1051/0004-6361:20030527': None, '10.1111/j.1365-2966.2008.13459.x': None, '10.48550/arXiv.astro-ph/9507076': None}\n",
      "{'10.1086/171859': None, '10.1086/518001': None, '10.1086/592226': None, '10.1086/154135': None}\n"
     ]
    },
    {
     "name": "stderr",
     "output_type": "stream",
     "text": [
      " 44%|████▍     | 22/50 [00:04<00:05,  5.02it/s]"
     ]
    },
    {
     "name": "stdout",
     "output_type": "stream",
     "text": [
      "{'10.1111/j.1365-2966.2011.19057.x': None, '10.1111/j.1365-2966.2012.20595.x': None, '10.1111/j.1365-2966.2006.11328.x': None, '10.1051/0004-6361/201834637': None}\n",
      "{'10.1086/379109': None, '10.1086/165983': None, '10.1086/303765': None, '10.1086/301146': None}\n"
     ]
    },
    {
     "name": "stderr",
     "output_type": "stream",
     "text": [
      " 48%|████▊     | 24/50 [00:04<00:04,  6.12it/s]"
     ]
    },
    {
     "name": "stdout",
     "output_type": "stream",
     "text": [
      "{'10.3847/0004-637X/829/2/132': None, '10.1073/pnas.1120970109': None}\n",
      "{'10.1086/591471': None, '10.1051/0004-6361/201527195': None, '10.1088/0004-637X/764/1/106': None, '10.1016/j.icarus.2010.01.015': None}\n"
     ]
    },
    {
     "name": "stderr",
     "output_type": "stream",
     "text": [
      " 52%|█████▏    | 26/50 [00:04<00:04,  5.40it/s]"
     ]
    },
    {
     "name": "stdout",
     "output_type": "stream",
     "text": [
      "{'10.1086/172109': None, '10.3847/1538-4357/ab8a4a': None, '10.1086/339913': None, '10.1111/j.1365-2966.2011.19648.x': None, '10.1111/j.1365-2966.2005.09685.x': None}\n",
      "{'10.1088/0004-637X/739/2/56': None, '10.1086/505646': None, '10.1088/0004-637X/700/1/49': None}\n"
     ]
    },
    {
     "name": "stderr",
     "output_type": "stream",
     "text": [
      " 56%|█████▌    | 28/50 [00:05<00:03,  6.21it/s]"
     ]
    },
    {
     "name": "stdout",
     "output_type": "stream",
     "text": [
      "{'10.1086/304915': None, '10.1093/mnras/262.4.1023': None, '10.1086/174120': None, '10.1093/mnras/253.1.1P': None}\n",
      "{'10.1038/nature01579': None, '10.1088/0004-637X/766/2/103': None, '10.1051/0004-6361:20042178': None, '10.1111/j.1365-2966.2005.09846.x': None, '10.1088/0004-637X/710/2/1343': None}\n"
     ]
    },
    {
     "name": "stderr",
     "output_type": "stream",
     "text": [
      " 60%|██████    | 30/50 [00:05<00:03,  6.49it/s]"
     ]
    },
    {
     "name": "stdout",
     "output_type": "stream",
     "text": [
      "{'10.1111/j.1365-2966.2009.15323.x': None, '10.1088/2041-8205/723/2/L213': None, '10.1126/science.1201827': None}\n",
      "{'10.1086/170555': None, '10.1038/35012001': None, '10.1086/338085': None, '10.1086/304372': None}\n"
     ]
    },
    {
     "name": "stderr",
     "output_type": "stream",
     "text": [
      " 64%|██████▍   | 32/50 [00:05<00:03,  5.93it/s]"
     ]
    },
    {
     "name": "stdout",
     "output_type": "stream",
     "text": [
      "{'10.1088/0004-637X/703/2/1696': None, '10.1086/500799': None, '10.1016/j.crhy.2011.01.007': None, '10.3847/1538-4357/aab3de': None, '10.1093/mnras/stx909': None}\n",
      "{'10.1086/177656': None, '10.1086/187464': None, '10.1086/309687': None, '10.1086/177967': None}\n"
     ]
    },
    {
     "name": "stderr",
     "output_type": "stream",
     "text": [
      " 68%|██████▊   | 34/50 [00:06<00:02,  6.62it/s]"
     ]
    },
    {
     "name": "stdout",
     "output_type": "stream",
     "text": [
      "{'10.1093/pasj/58.1.L11': None, '10.1093/mnras/182.3.443': None, '10.1086/518782': None, '10.1086/186610': None}\n",
      "{'10.1086/176216': None, '10.1093/mnras/214.3.379': None, '10.1088/0004-637X/731/2/91': None, '10.1088/0004-637X/692/2/1432': None, '10.1088/2041-8205/710/2/L142': None}\n"
     ]
    },
    {
     "name": "stderr",
     "output_type": "stream",
     "text": [
      " 74%|███████▍  | 37/50 [00:06<00:02,  6.30it/s]"
     ]
    },
    {
     "name": "stdout",
     "output_type": "stream",
     "text": [
      "{'10.1088/0004-637X/764/1/106': None, '10.1086/309101': None, '10.1086/175104': None}\n",
      "{'10.1051/0004-6361:20042134': None, '10.1086/383487': None}\n",
      "{'10.1093/mnras/281.4.L75': None, '10.1088/0004-637X/707/1/686': None, '10.1086/324423': None, '10.1111/j.1745-3933.2011.01050.x': None, '10.1051/0004-6361:20021564': None}\n"
     ]
    },
    {
     "name": "stderr",
     "output_type": "stream",
     "text": [
      " 78%|███████▊  | 39/50 [00:07<00:01,  5.80it/s]"
     ]
    },
    {
     "name": "stdout",
     "output_type": "stream",
     "text": [
      "{'10.1086/526426': None, '10.1111/j.1365-2966.2009.15166.x': None, '10.1111/j.1365-2966.2007.12391.x': None}\n",
      "{'10.1086/322995': None, '10.1051/0004-6361:20053166': None, '10.1086/170367': None, '10.1086/187164': None, '10.1093/mnras/stw1191': None}\n"
     ]
    },
    {
     "name": "stderr",
     "output_type": "stream",
     "text": [
      " 82%|████████▏ | 41/50 [00:07<00:01,  5.65it/s]"
     ]
    },
    {
     "name": "stdout",
     "output_type": "stream",
     "text": [
      "{'10.1016/j.asr.2003.08.023': None, '10.1086/374266': None, '10.1086/185143': None}\n",
      "{'10.1086/160030': None, '10.1086/164157': None, '10.1086/156297': None, '10.1086/114310': None}\n"
     ]
    },
    {
     "name": "stderr",
     "output_type": "stream",
     "text": [
      " 86%|████████▌ | 43/50 [00:07<00:01,  6.26it/s]"
     ]
    },
    {
     "name": "stdout",
     "output_type": "stream",
     "text": [
      "{'10.1051/0004-6361:20010370': None, '10.1088/0004-6256/145/6/147': None, '10.1088/0004-6256/141/2/29': None, '10.1029/2008RS003997': None}\n",
      "{'10.1086/318408': None, '10.1086/510740': None, '10.1051/0004-6361:20030839': None, '10.1086/309772': None, '10.1086/167782': None}\n"
     ]
    },
    {
     "name": "stderr",
     "output_type": "stream",
     "text": [
      " 90%|█████████ | 45/50 [00:08<00:00,  6.05it/s]"
     ]
    },
    {
     "name": "stdout",
     "output_type": "stream",
     "text": [
      "{'10.1086/162225': None, '10.1093/mnras/stz243': None, '10.1103/RevModPhys.73.1031': None, '10.1088/0004-637X/786/1/54': None, '10.1086/182562': None}\n",
      "{'10.1086/156379': None, '10.1093/mnras/180.3.479': None}\n"
     ]
    },
    {
     "name": "stderr",
     "output_type": "stream",
     "text": [
      " 94%|█████████▍| 47/50 [00:08<00:00,  6.52it/s]"
     ]
    },
    {
     "name": "stdout",
     "output_type": "stream",
     "text": [
      "{'10.1093/mnras/255.3.389': None, '10.1086/165807': None, '10.1086/113182': None, '10.1093/mnras/277.4.1354': None, '10.1086/172531': None}\n",
      "{'10.1088/2041-8205/764/2/L24': None, '10.1111/j.1365-2966.2006.10778.x': None, '10.1046/j.1365-8711.1999.02907.x': None}\n"
     ]
    },
    {
     "name": "stderr",
     "output_type": "stream",
     "text": [
      " 98%|█████████▊| 49/50 [00:08<00:00,  7.13it/s]"
     ]
    },
    {
     "name": "stdout",
     "output_type": "stream",
     "text": [
      "{'10.1051/0004-6361:20042277': None, '10.3847/1538-4357/aad5ed': None, '10.1086/500571': None}\n",
      "{'10.1086/147019': None, '10.1007/BF00155184': None}\n"
     ]
    },
    {
     "name": "stderr",
     "output_type": "stream",
     "text": [
      "100%|██████████| 50/50 [00:08<00:00,  5.73it/s]"
     ]
    },
    {
     "name": "stdout",
     "output_type": "stream",
     "text": [
      "Average margin (old): -0.06011400041535725\n",
      "Average margin (new): -0.05419814353640936\n"
     ]
    },
    {
     "name": "stderr",
     "output_type": "stream",
     "text": [
      "\n"
     ]
    }
   ],
   "source": [
    "old_results = [compute_row_metrics(row, collection_name='qwen06_contributions') for idx, row in tqdm(sample.iterrows(), total=len(sample))]\n",
    "new_results = [compute_row_metrics(row, collection_name='qwen06_findings_v2') for idx, row in tqdm(sample.iterrows(), total=len(sample))]\n",
    "\n",
    "old_margins = np.array([result['margin'] for result in old_results])\n",
    "new_margins = np.array([result['margin'] for result in new_results])\n",
    "\n",
    "print(f\"Average margin (old): {np.mean(old_margins)}\")\n",
    "print(f\"Average margin (new): {np.mean(new_margins)}\")\n"
   ]
  },
  {
   "cell_type": "code",
   "execution_count": 49,
   "id": "9ef73721",
   "metadata": {},
   "outputs": [
    {
     "name": "stdout",
     "output_type": "stream",
     "text": [
      "{'10.12942/lrr-2007-4': None, '10.1086/316325': None, '10.1086/338878': None, '10.1086/377226': None, '10.1103/PhysRevD.76.023507': None}\n",
      "DOI: 10.12942/lrr-2007-4\n",
      "DOI: 10.1086/316325\n",
      "DOI: 10.1086/338878\n",
      "DOI: 10.1086/377226\n",
      "DOI: 10.1103/PhysRevD.76.023507\n",
      "{'best_target_similarity': np.float64(0.6101514438106455), 'highest_nontarget_similarity': np.float64(0.6428073482415917), 'margin': np.float64(-0.032655904430946237), 'hard_doi_scores': {'10.12942/lrr-2007-4': array([0.4193901 , 0.45036993, 0.21500384, 0.30074367, 0.34145675,\n",
      "       0.21638811, 0.2679761 , 0.64280735, 0.32524008, 0.37441166]), '10.1086/316325': array([0.57869   , 0.5854516 , 0.40906219, 0.51051052, 0.30926772,\n",
      "       0.50323769, 0.4810527 , 0.37531331, 0.62852846, 0.49285726]), '10.1086/338878': array([0.53066433, 0.46219674, 0.61459517, 0.29131532, 0.49361511,\n",
      "       0.46711867, 0.57605952, 0.52978195, 0.56161988, 0.50089086]), '10.1086/377226': array([0.60390987, 0.46739193, 0.44475987, 0.45327468, 0.46398309,\n",
      "       0.48528942, 0.28170496, 0.5498476 , 0.4037306 , 0.48226135]), '10.1103/PhysRevD.76.023507': array([0.35911952, 0.29952254, 0.44718991, 0.31245384, 0.5972703 ,\n",
      "       0.544223  , 0.40006241])}}\n"
     ]
    }
   ],
   "source": [
    "old_data = compute_row_metrics(sample.iloc[10], collection_name='qwen06_contributions')\n",
    "print(old_data)"
   ]
  },
  {
   "cell_type": "code",
   "execution_count": 19,
   "id": "4f7e37a4",
   "metadata": {},
   "outputs": [],
   "source": [
    "# Are all doi's in the sample (target + hard) in the temp collection?\n",
    "db.client.load_collection(\"qwen06_findings_v2\")\n",
    "for row in sample.itertuples():\n",
    "    target_dois = row.citation_dois\n",
    "    hard_dois = row.hard_dois\n",
    "    for doi in target_dois + hard_dois:\n",
    "        results = db.select_by_doi(doi=doi, collection_name=\"qwen06_findings_v2\")\n",
    "        assert len(results) > 0, f\"DOI {doi} not found in collection\""
   ]
  },
  {
   "cell_type": "code",
   "execution_count": 38,
   "id": "d2511730",
   "metadata": {},
   "outputs": [
    {
     "name": "stderr",
     "output_type": "stream",
     "text": [
      "100%|██████████| 50/50 [00:02<00:00, 20.39it/s]\n",
      "100%|██████████| 50/50 [00:07<00:00,  6.98it/s]\n",
      "100%|██████████| 50/50 [00:09<00:00,  5.14it/s]\n"
     ]
    },
    {
     "data": {
      "text/html": [
       "<div>\n",
       "<style scoped>\n",
       "    .dataframe tbody tr th:only-of-type {\n",
       "        vertical-align: middle;\n",
       "    }\n",
       "\n",
       "    .dataframe tbody tr th {\n",
       "        vertical-align: top;\n",
       "    }\n",
       "\n",
       "    .dataframe thead th {\n",
       "        text-align: right;\n",
       "    }\n",
       "</style>\n",
       "<table border=\"1\" class=\"dataframe\">\n",
       "  <thead>\n",
       "    <tr style=\"text-align: right;\">\n",
       "      <th></th>\n",
       "      <th>source_doi</th>\n",
       "      <th>sent_original</th>\n",
       "      <th>sent_no_cit</th>\n",
       "      <th>sent_idx</th>\n",
       "      <th>citation_dois</th>\n",
       "      <th>pubdate</th>\n",
       "      <th>resolved_bibcodes</th>\n",
       "      <th>sent_cit_masked</th>\n",
       "      <th>vector</th>\n",
       "      <th>hard_dois</th>\n",
       "      <th>hard_similarities</th>\n",
       "      <th>avg_target_similarity</th>\n",
       "      <th>avg_nontarget_similarity</th>\n",
       "      <th>similarity_margin</th>\n",
       "    </tr>\n",
       "  </thead>\n",
       "  <tbody>\n",
       "    <tr>\n",
       "      <th>0</th>\n",
       "      <td>10.1146/annurev-astro-081710-102521</td>\n",
       "      <td>Their abundance is important because molecular...</td>\n",
       "      <td>In this limit, the important reactions are dis...</td>\n",
       "      <td>318</td>\n",
       "      <td>[10.1046/j.1365-8711.2002.04940.x]</td>\n",
       "      <td>20110901</td>\n",
       "      <td>[2002MNRAS.329...18F]</td>\n",
       "      <td>Their abundance is important because molecular...</td>\n",
       "      <td>[-0.036558926, -0.016381508, -0.0110567855, 0....</td>\n",
       "      <td>[10.1088/0004-637X/703/2/1416, 10.1111/j.1365-...</td>\n",
       "      <td>[0.6299331188201904, 0.5999367833137512, 0.593...</td>\n",
       "      <td>0.626802</td>\n",
       "      <td>0.588308</td>\n",
       "      <td>0.038493</td>\n",
       "    </tr>\n",
       "    <tr>\n",
       "      <th>1</th>\n",
       "      <td>10.1146/annurev-astro-081817-051826</td>\n",
       "      <td>It is important to point out that the fraction...</td>\n",
       "      <td>Gesicki et al. (2014) derived masses and ages ...</td>\n",
       "      <td>231</td>\n",
       "      <td>[10.1051/0004-6361/201220678, 10.1051/0004-636...</td>\n",
       "      <td>20180901</td>\n",
       "      <td>[2013A&amp;A...549A.147B, 2017A&amp;A...605A..89B]</td>\n",
       "      <td>It is important to point out that the fraction...</td>\n",
       "      <td>[-0.016821573, -0.014033405, -0.008635518, 0.0...</td>\n",
       "      <td>[10.1093/mnras/stx373, 10.1051/0004-6361:20021...</td>\n",
       "      <td>[0.6454614996910095, 0.6320533156394958, 0.629...</td>\n",
       "      <td>0.556304</td>\n",
       "      <td>0.590032</td>\n",
       "      <td>-0.033728</td>\n",
       "    </tr>\n",
       "    <tr>\n",
       "      <th>2</th>\n",
       "      <td>10.1007/s00159-010-0029-x</td>\n",
       "      <td>How could the seed massive black holes have gr...</td>\n",
       "      <td>This argument is particularly important at ear...</td>\n",
       "      <td>259</td>\n",
       "      <td>[10.1086/422910, 10.1086/427065, 10.1086/50744...</td>\n",
       "      <td>20100701</td>\n",
       "      <td>[2004ApJ...613...36H, 2005ApJ...620...59S, 200...</td>\n",
       "      <td>How could the seed massive black holes have gr...</td>\n",
       "      <td>[-0.018864796, -0.06410703, -0.0063532703, 0.0...</td>\n",
       "      <td>[10.1111/j.1365-2966.2006.10467.x, 10.1111/j.1...</td>\n",
       "      <td>[0.7770616412162781, 0.7540676593780518, 0.751...</td>\n",
       "      <td>0.675718</td>\n",
       "      <td>0.664563</td>\n",
       "      <td>0.011156</td>\n",
       "    </tr>\n",
       "    <tr>\n",
       "      <th>3</th>\n",
       "      <td>10.1146/annurev.aa.31.090193.003441</td>\n",
       "      <td>Nature has somehow solved this problem in doub...</td>\n",
       "      <td>These models can reproduce the observed spectr...</td>\n",
       "      <td>457</td>\n",
       "      <td>[10.1086/161053]</td>\n",
       "      <td>19930101</td>\n",
       "      <td>[1983ApJ...269..423R]</td>\n",
       "      <td>Nature has somehow solved this problem in doub...</td>\n",
       "      <td>[0.044838704, -0.013867467, -0.007506692, 0.04...</td>\n",
       "      <td>[10.1086/164480, 10.1086/155083, 10.1093/mnras...</td>\n",
       "      <td>[0.6610962748527527, 0.6198835372924805, 0.617...</td>\n",
       "      <td>0.572666</td>\n",
       "      <td>0.577590</td>\n",
       "      <td>-0.004925</td>\n",
       "    </tr>\n",
       "    <tr>\n",
       "      <th>4</th>\n",
       "      <td>10.1007/s00159-012-0055-y</td>\n",
       "      <td>However, a similar linewidth–size scaling law ...</td>\n",
       "      <td>Size, internal velocity dispersion and column ...</td>\n",
       "      <td>306</td>\n",
       "      <td>[10.1051/0004-6361:20020629]</td>\n",
       "      <td>20121101</td>\n",
       "      <td>[2002A&amp;A...390..307O]</td>\n",
       "      <td>However, a similar linewidth–size scaling law ...</td>\n",
       "      <td>[-0.009350214, -0.056160886, -0.00880815, -0.0...</td>\n",
       "      <td>[10.1086/169766, 10.1086/177465, 10.1086/18481...</td>\n",
       "      <td>[0.6350903511047363, 0.5991689562797546, 0.595...</td>\n",
       "      <td>0.542162</td>\n",
       "      <td>0.611624</td>\n",
       "      <td>-0.069462</td>\n",
       "    </tr>\n",
       "  </tbody>\n",
       "</table>\n",
       "</div>"
      ],
      "text/plain": [
       "                            source_doi  \\\n",
       "0  10.1146/annurev-astro-081710-102521   \n",
       "1  10.1146/annurev-astro-081817-051826   \n",
       "2            10.1007/s00159-010-0029-x   \n",
       "3  10.1146/annurev.aa.31.090193.003441   \n",
       "4            10.1007/s00159-012-0055-y   \n",
       "\n",
       "                                       sent_original  \\\n",
       "0  Their abundance is important because molecular...   \n",
       "1  It is important to point out that the fraction...   \n",
       "2  How could the seed massive black holes have gr...   \n",
       "3  Nature has somehow solved this problem in doub...   \n",
       "4  However, a similar linewidth–size scaling law ...   \n",
       "\n",
       "                                         sent_no_cit  sent_idx  \\\n",
       "0  In this limit, the important reactions are dis...       318   \n",
       "1  Gesicki et al. (2014) derived masses and ages ...       231   \n",
       "2  This argument is particularly important at ear...       259   \n",
       "3  These models can reproduce the observed spectr...       457   \n",
       "4  Size, internal velocity dispersion and column ...       306   \n",
       "\n",
       "                                       citation_dois   pubdate  \\\n",
       "0                 [10.1046/j.1365-8711.2002.04940.x]  20110901   \n",
       "1  [10.1051/0004-6361/201220678, 10.1051/0004-636...  20180901   \n",
       "2  [10.1086/422910, 10.1086/427065, 10.1086/50744...  20100701   \n",
       "3                                   [10.1086/161053]  19930101   \n",
       "4                       [10.1051/0004-6361:20020629]  20121101   \n",
       "\n",
       "                                   resolved_bibcodes  \\\n",
       "0                              [2002MNRAS.329...18F]   \n",
       "1         [2013A&A...549A.147B, 2017A&A...605A..89B]   \n",
       "2  [2004ApJ...613...36H, 2005ApJ...620...59S, 200...   \n",
       "3                              [1983ApJ...269..423R]   \n",
       "4                              [2002A&A...390..307O]   \n",
       "\n",
       "                                     sent_cit_masked  \\\n",
       "0  Their abundance is important because molecular...   \n",
       "1  It is important to point out that the fraction...   \n",
       "2  How could the seed massive black holes have gr...   \n",
       "3  Nature has somehow solved this problem in doub...   \n",
       "4  However, a similar linewidth–size scaling law ...   \n",
       "\n",
       "                                              vector  \\\n",
       "0  [-0.036558926, -0.016381508, -0.0110567855, 0....   \n",
       "1  [-0.016821573, -0.014033405, -0.008635518, 0.0...   \n",
       "2  [-0.018864796, -0.06410703, -0.0063532703, 0.0...   \n",
       "3  [0.044838704, -0.013867467, -0.007506692, 0.04...   \n",
       "4  [-0.009350214, -0.056160886, -0.00880815, -0.0...   \n",
       "\n",
       "                                           hard_dois  \\\n",
       "0  [10.1088/0004-637X/703/2/1416, 10.1111/j.1365-...   \n",
       "1  [10.1093/mnras/stx373, 10.1051/0004-6361:20021...   \n",
       "2  [10.1111/j.1365-2966.2006.10467.x, 10.1111/j.1...   \n",
       "3  [10.1086/164480, 10.1086/155083, 10.1093/mnras...   \n",
       "4  [10.1086/169766, 10.1086/177465, 10.1086/18481...   \n",
       "\n",
       "                                   hard_similarities  avg_target_similarity  \\\n",
       "0  [0.6299331188201904, 0.5999367833137512, 0.593...               0.626802   \n",
       "1  [0.6454614996910095, 0.6320533156394958, 0.629...               0.556304   \n",
       "2  [0.7770616412162781, 0.7540676593780518, 0.751...               0.675718   \n",
       "3  [0.6610962748527527, 0.6198835372924805, 0.617...               0.572666   \n",
       "4  [0.6350903511047363, 0.5991689562797546, 0.595...               0.542162   \n",
       "\n",
       "   avg_nontarget_similarity  similarity_margin  \n",
       "0                  0.588308           0.038493  \n",
       "1                  0.590032          -0.033728  \n",
       "2                  0.664563           0.011156  \n",
       "3                  0.577590          -0.004925  \n",
       "4                  0.611624          -0.069462  "
      ]
     },
     "execution_count": 38,
     "metadata": {},
     "output_type": "execute_result"
    }
   ],
   "source": [
    "def compute_margins(df: pd.DataFrame) -> pd.DataFrame:\n",
    "    df[\"avg_target_similarity\"] = df.progress_apply(lambda row: average_target_similarity(row, collection='qwen06_findings_v2'), axis=1)\n",
    "    df[\"avg_nontarget_similarity\"] = df.progress_apply(lambda row: average_nontarget_similarity(row, collection='qwen06_findings_v2'), axis=1)\n",
    "    df[\"similarity_margin\"] = df.progress_apply(lambda row: similarity_margin(row, collection='qwen06_findings_v2'), axis=1)\n",
    "    return df\n",
    "\n",
    "df = compute_margins(sample)\n",
    "df.head()"
   ]
  },
  {
   "cell_type": "code",
   "execution_count": 39,
   "id": "0dcd4eda",
   "metadata": {},
   "outputs": [
    {
     "data": {
      "text/plain": [
       "<Axes: >"
      ]
     },
     "execution_count": 39,
     "metadata": {},
     "output_type": "execute_result"
    },
    {
     "data": {
      "image/png": "[encoded data removed]",
      "text/plain": [
       "<Figure size 640x480 with 1 Axes>"
      ]
     },
     "metadata": {},
     "output_type": "display_data"
    }
   ],
   "source": [
    "df['similarity_margin'].hist(bins=20)"
   ]
  },
  {
   "cell_type": "code",
   "execution_count": null,
   "id": "d6e7471d",
   "metadata": {},
   "outputs": [],
   "source": []
  }
 ],
 "metadata": {
  "kernelspec": {
   "display_name": "citeline",
   "language": "python",
   "name": "python3"
  },
  "language_info": {
   "codemirror_mode": {
    "name": "ipython",
    "version": 3
   },
   "file_extension": ".py",
   "mimetype": "text/x-python",
   "name": "python",
   "nbconvert_exporter": "python",
   "pygments_lexer": "ipython3",
   "version": "3.11.10"
  }
 },
 "nbformat": 4,
 "nbformat_minor": 5
}
