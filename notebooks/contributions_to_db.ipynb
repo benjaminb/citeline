{
 "cells": [
  {
   "cell_type": "code",
   "execution_count": 4,
   "id": "aeb031e6",
   "metadata": {},
   "outputs": [
    {
     "name": "stdout",
     "output_type": "stream",
     "text": [
      "<citeline.database.milvusdb.MilvusDB object at 0x328154410>\n",
      "Collections:\n",
      " - astrobert_chunks: 460801 entities\n",
      " - astrobert_contributions: 89860 entities\n",
      " - bge_chunks: 460801 entities\n",
      " - bge_contributions: 89860 entities\n",
      " - nasa_chunks: 460801 entities\n",
      " - nasa_contributions: 89860 entities\n",
      " - qwen06_chunks: 460801 entities\n",
      " - qwen06_contributions: 89860 entities\n",
      " - qwen8b_contributions: 89860 entities\n",
      " - specter_chunks: 460801 entities\n",
      " - specter_contributions: 89860 entities\n"
     ]
    }
   ],
   "source": [
    "import pandas as pd\n",
    "from tqdm import tqdm\n",
    "import json\n",
    "import numpy as np\n",
    "import seaborn as sns\n",
    "import matplotlib.pyplot as plt\n",
    "from pprint import pprint\n",
    "from citeline.database.milvusdb import MilvusDB\n",
    "from citeline.embedders import Embedder\n",
    "\n",
    "tqdm.pandas()\n",
    "\n",
    "db = MilvusDB()\n",
    "print(db)\n",
    "db.list_collections()"
   ]
  },
  {
   "cell_type": "markdown",
   "id": "feb18150",
   "metadata": {},
   "source": [
    "This notebook takes a jsonl file of 'findings' with schema `{\"findings\": [str], \"doi\": str}` and preps a dataset for insertion into Milvus. This requires \n",
    "1. From the research data used, join to each findings line the:\n",
    "- citation_count\n",
    "- pubdate (YYYYMMDD int)\n",
    "2. Explode the dataframe along findings to get one row per finding\n",
    "3. Invoke `db.create_collection` with the desired embedder"
   ]
  },
  {
   "cell_type": "code",
   "execution_count": 5,
   "id": "e40a21c2",
   "metadata": {},
   "outputs": [],
   "source": [
    "research = pd.read_json(\"../data/research_used.jsonl\", lines=True)\n",
    "# add index to 'doi' column\n",
    "research.set_index('doi', inplace=True, verify_integrity=True, drop=False)"
   ]
  },
  {
   "cell_type": "code",
   "execution_count": null,
   "id": "3d651d16",
   "metadata": {},
   "outputs": [],
   "source": []
  }
 ],
 "metadata": {
  "kernelspec": {
   "display_name": "citeline",
   "language": "python",
   "name": "python3"
  },
  "language_info": {
   "codemirror_mode": {
    "name": "ipython",
    "version": 3
   },
   "file_extension": ".py",
   "mimetype": "text/x-python",
   "name": "python",
   "nbconvert_exporter": "python",
   "pygments_lexer": "ipython3",
   "version": "3.11.10"
  }
 },
 "nbformat": 4,
 "nbformat_minor": 5
}
