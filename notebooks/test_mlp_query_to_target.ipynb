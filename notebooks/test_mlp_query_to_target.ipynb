{
 "cells": [
  {
   "cell_type": "code",
   "execution_count": 24,
   "id": "3d7b069f",
   "metadata": {},
   "outputs": [],
   "source": [
    "import pandas as pd\n",
    "import torch\n",
    "import torch.nn.functional as F\n",
    "\n",
    "\n",
    "# Write a 2 layer dense neural network in PyTorch\n",
    "class QueryTransformer(torch.nn.Module):\n",
    "    def __init__(self, input_dim, hidden_dim, output_dim):\n",
    "        super(QueryTransformer, self).__init__()\n",
    "        self.dense_1 = torch.nn.Linear(input_dim, hidden_dim)\n",
    "        self.dense_2 = torch.nn.Linear(hidden_dim, output_dim)\n",
    "\n",
    "    def forward(self, x):\n",
    "        x = F.gelu(self.dense_1(x))\n",
    "        x = F.gelu(self.dense_2(x))\n",
    "        x = F.normalize(x, p=2, dim=1)\n",
    "        return x"
   ]
  },
  {
   "cell_type": "code",
   "execution_count": 25,
   "id": "2d8b4ef8",
   "metadata": {},
   "outputs": [],
   "source": [
    "query_transformer = QueryTransformer(input_dim=1024, hidden_dim=512, output_dim=1024)"
   ]
  },
  {
   "cell_type": "code",
   "execution_count": 26,
   "id": "9a76eb4d",
   "metadata": {},
   "outputs": [
    {
     "name": "stdout",
     "output_type": "stream",
     "text": [
      "torch.Size([2, 1024])\n"
     ]
    }
   ],
   "source": [
    "x = torch.randn(2, 1024)\n",
    "y = query_transformer(x)\n",
    "print(y.shape)"
   ]
  },
  {
   "cell_type": "code",
   "execution_count": 27,
   "id": "a9df5eed",
   "metadata": {},
   "outputs": [
    {
     "data": {
      "text/plain": [
       "tensor([1.0000, 1.0000], grad_fn=<LinalgVectorNormBackward0>)"
      ]
     },
     "execution_count": 27,
     "metadata": {},
     "output_type": "execute_result"
    }
   ],
   "source": [
    "torch.linalg.norm(y, axis=1)"
   ]
  },
  {
   "cell_type": "code",
   "execution_count": 28,
   "id": "dff1a896",
   "metadata": {},
   "outputs": [
    {
     "data": {
      "text/plain": [
       "torch.Size([2, 1024])"
      ]
     },
     "execution_count": 28,
     "metadata": {},
     "output_type": "execute_result"
    }
   ],
   "source": [
    "from citeline.embedders import Embedder\n",
    "\n",
    "embedder = Embedder.create(model_name=\"Qwen/Qwen3-Embedding-0.6B\", device=\"mps\", normalize=True)\n",
    "documents = [\"Hi there\", \"How are you?\"]\n",
    "vectors_np = embedder(documents, for_queries=True)\n",
    "\n",
    "vectors = torch.tensor(vectors_np)\n",
    "vectors.shape"
   ]
  },
  {
   "cell_type": "code",
   "execution_count": 29,
   "id": "f4ecd258",
   "metadata": {},
   "outputs": [],
   "source": [
    "df = pd.read_json(\"../data/dataset/nontrivial_10.jsonl\", lines=True)\n",
    "reference_data = pd.read_json(\"../data/preprocessed/reviews.jsonl\", lines=True)\n",
    "expander = QueryExpander(\"add_prev_3\", reference_data=reference_data)"
   ]
  },
  {
   "cell_type": "code",
   "execution_count": null,
   "id": "9a245b9c",
   "metadata": {},
   "outputs": [
    {
     "data": {
      "text/plain": [
       "1024"
      ]
     },
     "execution_count": 30,
     "metadata": {},
     "output_type": "execute_result"
    }
   ],
   "source": [
    "from sklearn.model_selection import train_test_split\n",
    "from citeline.query_expander import QueryExpander\n",
    "from citeline.database.milvusdb import MilvusDB\n",
    "from pathlib import Path\n",
    "\n",
    "db = MilvusDB()\n",
    "\n",
    "def create_dataset(path_to_data: str, embedder: Embedder, expansions: list[str], expansion_data_path: str, db: MilvusDB, collection_name: str, output_path: str, test_size: float = 0.2, random_state=42):\n",
    "    # Set up query expander\n",
    "    reference_data = pd.read_json(expansion_data_path, lines=True)\n",
    "    expanders = [QueryExpander(expansion, reference_data=reference_data) for expansion in expansions]\n",
    "\n",
    "    # Load data\n",
    "    df = pd.read_json(path_to_data, lines=True)\n",
    "\n",
    "    train_df, test_df = train_test_split(df, test_size=test_size, random_state=random_state)\n",
    "    train_shape, test_shape = (len(train_df), embedder.dim), (len(train_df), embedder.dim)\n",
    "    \n",
    "    # TODO: do these vars need to be named or can the just be passed straight in?\n",
    "    train_filename = Path(output_path) / \"train.npy\"\n",
    "    test_filename = Path(output_path) / \"test.npy\"\n",
    "    train_mm = np.memmap(train_filename, dtype=np.float32, mode=\"w+\", shape=train_shape)\n",
    "    test_mm = np.memmap(test_filename, dtype=np.float32, mode=\"w+\", shape=test_shape)\n",
    "\n",
    "    # in batches:\n",
    "    for idx, row in train_df.itertuples():\n",
    "        # expand the query w/no previous sentence, 1, 2 (and 3?) previous sentences\n",
    "        query = row.sent_no_cit\n",
    "        dois = row.citation_dois\n",
    "        query_vectors = embedder([expander(query) for expander in expanders])\n",
    "\n",
    "        # Get the target chunks' vectors from the database\n",
    "        for doi in dois:\n",
    "            target_entities = db.select_by_doi(doi=doi, collection_name=collection_name)\n",
    "            target_vectors = np.array(target_entities['vector'].tolist())\n",
    "            for q_vector in query_vectors:\n",
    "                similarities = np.dot(q_vector, target_vectors.T)\n",
    "                best_target = np.argmax(similarities)\n",
    "                \n",
    "        # for each query embedding, pick the closest target vector\n",
    "        # (query embedding, target embedding) becomes your (input, label)\n",
    "        # write out to dataset\n",
    "\n",
    "create_dataset(\n",
    "    path_to_data=\"../data/dataset/nontrivial_10.jsonl\",\n",
    "    embedder=embedder,\n",
    "    expansion_name=[\"identity\", \"add_prev_3\"]\n",
    "    expansion_data_path=\"../data/preprocessed/reviews.jsonl\",\n",
    "    output_path=\".\"\n",
    "    db=db,\n",
    "    collection_name=\"qwen06_chunks\"\n",
    ")"
   ]
  },
  {
   "cell_type": "code",
   "execution_count": null,
   "id": "82077513",
   "metadata": {},
   "outputs": [],
   "source": []
  },
  {
   "cell_type": "code",
   "execution_count": null,
   "id": "03773733",
   "metadata": {},
   "outputs": [],
   "source": []
  }
 ],
 "metadata": {
  "kernelspec": {
   "display_name": "citeline",
   "language": "python",
   "name": "python3"
  },
  "language_info": {
   "codemirror_mode": {
    "name": "ipython",
    "version": 3
   },
   "file_extension": ".py",
   "mimetype": "text/x-python",
   "name": "python",
   "nbconvert_exporter": "python",
   "pygments_lexer": "ipython3",
   "version": "3.11.10"
  }
 },
 "nbformat": 4,
 "nbformat_minor": 5
}
