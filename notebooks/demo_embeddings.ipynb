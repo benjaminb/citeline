{
 "cells": [
  {
   "cell_type": "code",
   "execution_count": 1,
   "id": "12ec3a2c",
   "metadata": {},
   "outputs": [],
   "source": [
    "from embedders import Embedder"
   ]
  },
  {
   "cell_type": "code",
   "execution_count": 2,
   "id": "b0bb4681",
   "metadata": {},
   "outputs": [
    {
     "name": "stdout",
     "output_type": "stream",
     "text": [
      "BAAI/bge-large-en-v1.5, device=mps, normalize=True, for_queries=True, dim=1024\n"
     ]
    }
   ],
   "source": [
    "embedder = Embedder.create(model_name=\"BAAI/bge-large-en-v1.5\", device=\"mps\", normalize=True, for_queries=True)\n",
    "print(embedder)"
   ]
  },
  {
   "cell_type": "code",
   "execution_count": 3,
   "id": "e8dc6428",
   "metadata": {},
   "outputs": [
    {
     "name": "stdout",
     "output_type": "stream",
     "text": [
      "<class 'numpy.ndarray'>\n",
      "(3, 1024)\n"
     ]
    }
   ],
   "source": [
    "texts = [\n",
    "    \"The capital of France is Paris\",\n",
    "    \"Pizza is the best food\",\n",
    "    \"Fall is nearly here\"\n",
    "]\n",
    "embeddings = embedder(texts)\n",
    "print(type(embeddings))\n",
    "print(embeddings.shape)\n"
   ]
  },
  {
   "cell_type": "code",
   "execution_count": 7,
   "id": "541785c8",
   "metadata": {},
   "outputs": [],
   "source": [
    "import numpy as np\n",
    "\n",
    "def cosine_similarity(a, b):\n",
    "    ip = a @ b.T\n",
    "    return ip / (np.linalg.norm(a, axis=-1, keepdims=True) * np.linalg.norm(b, axis=-1, keepdims=True))\n",
    "\n",
    "similarity = cosine_similarity(embeddings[0], embeddings[0])"
   ]
  },
  {
   "cell_type": "code",
   "execution_count": 9,
   "id": "9476d3d1",
   "metadata": {},
   "outputs": [
    {
     "name": "stdout",
     "output_type": "stream",
     "text": [
      "<class 'numpy.ndarray'>\n",
      "(1, 1024)\n"
     ]
    }
   ],
   "source": [
    "query = embedder([\"What is the capital of France?\"])\n",
    "print(type(query))\n",
    "print(query.shape)"
   ]
  },
  {
   "cell_type": "code",
   "execution_count": 10,
   "id": "d61aa409",
   "metadata": {},
   "outputs": [
    {
     "name": "stdout",
     "output_type": "stream",
     "text": [
      "Similarity between query and text 0: 0.9307\n",
      "Similarity between query and text 1: 0.3607\n",
      "Similarity between query and text 2: 0.3743\n"
     ]
    }
   ],
   "source": [
    "for i in range(len(embeddings)):\n",
    "    sim = cosine_similarity(query, embeddings[i])\n",
    "    print(f\"Similarity between query and text {i}: {sim[0][0]:.4f}\")"
   ]
  },
  {
   "cell_type": "code",
   "execution_count": null,
   "id": "3cbaf854",
   "metadata": {},
   "outputs": [],
   "source": []
  }
 ],
 "metadata": {
  "kernelspec": {
   "display_name": "citeline",
   "language": "python",
   "name": "python3"
  },
  "language_info": {
   "codemirror_mode": {
    "name": "ipython",
    "version": 3
   },
   "file_extension": ".py",
   "mimetype": "text/x-python",
   "name": "python",
   "nbconvert_exporter": "python",
   "pygments_lexer": "ipython3",
   "version": "3.11.10"
  }
 },
 "nbformat": 4,
 "nbformat_minor": 5
}
