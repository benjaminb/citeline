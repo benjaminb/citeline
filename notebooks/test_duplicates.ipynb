{
 "cells": [
  {
   "cell_type": "code",
   "execution_count": 1,
   "id": "7d3fba3e",
   "metadata": {},
   "outputs": [],
   "source": [
    "import pandas as pd\n",
    "\n",
    "research = pd.read_json('../data/research_used.jsonl', lines=True)"
   ]
  },
  {
   "cell_type": "code",
   "execution_count": 3,
   "id": "9d92c3be",
   "metadata": {},
   "outputs": [
    {
     "data": {
      "text/plain": [
       "bibcode                                         2011MNRAS.413..691Y\n",
       "abstract          The Millennium Gas Project aims to undertake s...\n",
       "aff               [Astronomy Centre, University of Sussex, Falme...\n",
       "author            [Young, Owain E., Thomas, Peter A., Short, C. ...\n",
       "bibstem                                          [MNRAS, MNRAS.413]\n",
       "doctype                                                     article\n",
       "doi                                10.1111/j.1365-2966.2010.18165.x\n",
       "id                                                          2908505\n",
       "pubdate                                                  2011-05-01\n",
       "title             Baryon fractions in clusters of galaxies: evid...\n",
       "read_count                                                       40\n",
       "reference         [1991ApJ...383...95E, 1991ApJ...383..104K, 199...\n",
       "data                                                           None\n",
       "citation_count                                                   41\n",
       "citation          [2011ARA&A..49..409A, 2011ApJ...743...13L, 201...\n",
       "body              1 INTRODUCTION The hot gas fraction of cluster...\n",
       "dois              [10.1111/j.1365-2966.2010.18165.x, 10.48550/ar...\n",
       "keywords          [galaxies: clusters: general, galaxies: evolut...\n",
       "loaded_from                        data/json/salvaged_articles.json\n",
       "body_sentences    [1 INTRODUCTION The hot gas fraction of cluste...\n",
       "Name: 868, dtype: object"
      ]
     },
     "execution_count": 3,
     "metadata": {},
     "output_type": "execute_result"
    }
   ],
   "source": [
    "paper = research[research[\"doi\"] == \"10.1111/j.1365-2966.2010.18165.x\"].iloc[0]\n",
    "paper"
   ]
  },
  {
   "cell_type": "code",
   "execution_count": 5,
   "id": "501b1c5d",
   "metadata": {},
   "outputs": [
    {
     "data": {
      "text/plain": [
       "2"
      ]
     },
     "execution_count": 5,
     "metadata": {},
     "output_type": "execute_result"
    }
   ],
   "source": [
    "head = paper['body'][:1000]\n",
    "\n",
    "paper['body'].count(head)"
   ]
  },
  {
   "cell_type": "code",
   "execution_count": null,
   "id": "ae280c9a",
   "metadata": {},
   "outputs": [],
   "source": []
  }
 ],
 "metadata": {
  "kernelspec": {
   "display_name": "citeline",
   "language": "python",
   "name": "python3"
  },
  "language_info": {
   "codemirror_mode": {
    "name": "ipython",
    "version": 3
   },
   "file_extension": ".py",
   "mimetype": "text/x-python",
   "name": "python",
   "nbconvert_exporter": "python",
   "pygments_lexer": "ipython3",
   "version": "3.11.10"
  }
 },
 "nbformat": 4,
 "nbformat_minor": 5
}
