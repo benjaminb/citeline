{
 "cells": [
  {
   "cell_type": "code",
   "execution_count": 1,
   "id": "a4e862db",
   "metadata": {},
   "outputs": [
    {
     "data": {
      "text/html": [
       "<div>\n",
       "<style scoped>\n",
       "    .dataframe tbody tr th:only-of-type {\n",
       "        vertical-align: middle;\n",
       "    }\n",
       "\n",
       "    .dataframe tbody tr th {\n",
       "        vertical-align: top;\n",
       "    }\n",
       "\n",
       "    .dataframe thead th {\n",
       "        text-align: right;\n",
       "    }\n",
       "</style>\n",
       "<table border=\"1\" class=\"dataframe\">\n",
       "  <thead>\n",
       "    <tr style=\"text-align: right;\">\n",
       "      <th></th>\n",
       "      <th>bibcode</th>\n",
       "      <th>abstract</th>\n",
       "      <th>aff</th>\n",
       "      <th>author</th>\n",
       "      <th>bibstem</th>\n",
       "      <th>doctype</th>\n",
       "      <th>doi</th>\n",
       "      <th>id</th>\n",
       "      <th>pubdate</th>\n",
       "      <th>title</th>\n",
       "      <th>read_count</th>\n",
       "      <th>reference</th>\n",
       "      <th>data</th>\n",
       "      <th>citation_count</th>\n",
       "      <th>citation</th>\n",
       "      <th>body</th>\n",
       "      <th>dois</th>\n",
       "      <th>keywords</th>\n",
       "      <th>loaded_from</th>\n",
       "      <th>body_sentences</th>\n",
       "    </tr>\n",
       "  </thead>\n",
       "  <tbody>\n",
       "    <tr>\n",
       "      <th>0</th>\n",
       "      <td>1974MNRAS.167P..31F</td>\n",
       "      <td>The relative positions of the high and low bri...</td>\n",
       "      <td>[-, -]</td>\n",
       "      <td>[Fanaroff, B. L., Riley, J. M.]</td>\n",
       "      <td>[MNRAS, MNRAS.167]</td>\n",
       "      <td>article</td>\n",
       "      <td>10.1093/mnras/167.1.31P</td>\n",
       "      <td>1307050</td>\n",
       "      <td>19740501</td>\n",
       "      <td>The morphology of extragalactic radio sources ...</td>\n",
       "      <td>32</td>\n",
       "      <td>[1968MNRAS.138..259M, 1969MNRAS.145...31M, 196...</td>\n",
       "      <td>[NED:80, SIMBAD:81]</td>\n",
       "      <td>2681</td>\n",
       "      <td>[1974MNRAS.169..395B, 1974Natur.250..625W, 197...</td>\n",
       "      <td>Mon. Not. R. astr. Soc. (i~y~.) 167, Short Com...</td>\n",
       "      <td>[10.1093/mnras/167.1.31P]</td>\n",
       "      <td>None</td>\n",
       "      <td>data/json/Astro_Research.json</td>\n",
       "      <td>[Mon.  Not.  R. astr.  Soc., (i~y~.) 167, Shor...</td>\n",
       "    </tr>\n",
       "    <tr>\n",
       "      <th>1</th>\n",
       "      <td>1955ApJ...121..161S</td>\n",
       "      <td>The evolutionary significance of the observed ...</td>\n",
       "      <td>[-]</td>\n",
       "      <td>[Salpeter, Edwin E.]</td>\n",
       "      <td>[ApJ, ApJ...121]</td>\n",
       "      <td>article</td>\n",
       "      <td>10.1086/145971</td>\n",
       "      <td>1123816</td>\n",
       "      <td>19550101</td>\n",
       "      <td>The Luminosity Function and Stellar Evolution.</td>\n",
       "      <td>121</td>\n",
       "      <td>[1938ApJ....88..429K, 1939POMin...7....1L, 194...</td>\n",
       "      <td>None</td>\n",
       "      <td>8170</td>\n",
       "      <td>[1956ApJS....2..365W, 1957ApJ...125..422S, 195...</td>\n",
       "      <td>1955ApJ. . .121. .161S THE LUMINOSITY FUNCTION...</td>\n",
       "      <td>[10.1086/145971]</td>\n",
       "      <td>None</td>\n",
       "      <td>data/json/Astro_Research.json</td>\n",
       "      <td>[1955ApJ.  .  .121., .161S THE LUMINOSITY FUNC...</td>\n",
       "    </tr>\n",
       "  </tbody>\n",
       "</table>\n",
       "</div>"
      ],
      "text/plain": [
       "               bibcode                                           abstract  \\\n",
       "0  1974MNRAS.167P..31F  The relative positions of the high and low bri...   \n",
       "1  1955ApJ...121..161S  The evolutionary significance of the observed ...   \n",
       "\n",
       "      aff                           author             bibstem  doctype  \\\n",
       "0  [-, -]  [Fanaroff, B. L., Riley, J. M.]  [MNRAS, MNRAS.167]  article   \n",
       "1     [-]             [Salpeter, Edwin E.]    [ApJ, ApJ...121]  article   \n",
       "\n",
       "                       doi       id   pubdate  \\\n",
       "0  10.1093/mnras/167.1.31P  1307050  19740501   \n",
       "1           10.1086/145971  1123816  19550101   \n",
       "\n",
       "                                               title  read_count  \\\n",
       "0  The morphology of extragalactic radio sources ...          32   \n",
       "1     The Luminosity Function and Stellar Evolution.         121   \n",
       "\n",
       "                                           reference                 data  \\\n",
       "0  [1968MNRAS.138..259M, 1969MNRAS.145...31M, 196...  [NED:80, SIMBAD:81]   \n",
       "1  [1938ApJ....88..429K, 1939POMin...7....1L, 194...                 None   \n",
       "\n",
       "   citation_count                                           citation  \\\n",
       "0            2681  [1974MNRAS.169..395B, 1974Natur.250..625W, 197...   \n",
       "1            8170  [1956ApJS....2..365W, 1957ApJ...125..422S, 195...   \n",
       "\n",
       "                                                body  \\\n",
       "0  Mon. Not. R. astr. Soc. (i~y~.) 167, Short Com...   \n",
       "1  1955ApJ. . .121. .161S THE LUMINOSITY FUNCTION...   \n",
       "\n",
       "                        dois keywords                    loaded_from  \\\n",
       "0  [10.1093/mnras/167.1.31P]     None  data/json/Astro_Research.json   \n",
       "1           [10.1086/145971]     None  data/json/Astro_Research.json   \n",
       "\n",
       "                                      body_sentences  \n",
       "0  [Mon.  Not.  R. astr.  Soc., (i~y~.) 167, Shor...  \n",
       "1  [1955ApJ.  .  .121., .161S THE LUMINOSITY FUNC...  "
      ]
     },
     "execution_count": 1,
     "metadata": {},
     "output_type": "execute_result"
    }
   ],
   "source": [
    "import json\n",
    "import logging\n",
    "from datetime import datetime\n",
    "import os\n",
    "import pandas as pd\n",
    "from tqdm import tqdm\n",
    "\n",
    "from citeline.apis.deepseek import get_deepseek_formatted_response\n",
    "from citeline.database.milvusdb import MilvusDB\n",
    "from citeline.embedders import Embedder\n",
    "from citeline.llm.models import Findings\n",
    "\n",
    "logger = logging.getLogger(__name__)\n",
    "tqdm.pandas()\n",
    "\n",
    "PATH_TO_RESEARCH_USED = \"../data/research_used.jsonl\"\n",
    "logging.basicConfig(\n",
    "    filename=\"../logs/contribution_processor.log\",\n",
    "    filemode=\"w\",\n",
    "    format=\"%(asctime)s - %(name)s - %(levelname)s - %(message)s\",\n",
    ")\n",
    "\n",
    "\n",
    "def reconstruct_paper(row: pd.Series) -> str:\n",
    "    return f\"Title: {row['title']}\\nAbstract: {row['abstract']}\\nBody: {row['body']}\"\n",
    "\n",
    "\n",
    "research = pd.read_json(PATH_TO_RESEARCH_USED, lines=True)\n",
    "research[\"pubdate\"] = research[\"pubdate\"].str.replace(\"-\", \"\").astype(\"int\")\n",
    "research.head(2)"
   ]
  },
  {
   "cell_type": "code",
   "execution_count": 2,
   "id": "26a238af",
   "metadata": {},
   "outputs": [
    {
     "name": "stdout",
     "output_type": "stream",
     "text": [
      "You are given the full text of a single scientific research paper. Extract all factual statements asserted or utilized in this paper, including both novel contributions and descriptions of methods/instruments/data used.\n",
      "\n",
      "Hard requirements:\n",
      "\n",
      "1. Output ONLY a single JSON object: {{\"findings\":[ ... ]}}. No extra text, no commentary, no additional keys.\n",
      "2. Each array item must be a single, self-contained declarative sentence (one idea per sentence). Avoid pronouns and author-phrases (no \"we\", \"autho\n"
     ]
    }
   ],
   "source": [
    "# Load prompt template\n",
    "with open(\"../src/citeline/llm/prompts/original_contributions_v3.txt\", \"r\") as file:\n",
    "    prompt_template = file.read()\n",
    "\n",
    "print(prompt_template[:500])"
   ]
  },
  {
   "cell_type": "code",
   "execution_count": 3,
   "id": "ddb62931",
   "metadata": {},
   "outputs": [
    {
     "name": "stdout",
     "output_type": "stream",
     "text": [
      "Progress file found. Resuming from last saved index...\n",
      "{'next_index': 7856}\n"
     ]
    }
   ],
   "source": [
    "PROGRESS_PATH = '../data/progress_research_contributions.json'\n",
    "if not os.path.exists(PROGRESS_PATH):\n",
    "    print(\"Processing will begin at index 0. Creating progress file...\")\n",
    "    progress = {'next_index': 0}\n",
    "    with open(PROGRESS_PATH, 'w') as f:\n",
    "        json.dump(progress, f)\n",
    "else:\n",
    "    print(\"Progress file found. Resuming from last saved index...\")\n",
    "    with open(PROGRESS_PATH, 'r') as f:\n",
    "        progress = json.load(f)\n",
    "    print(progress)"
   ]
  },
  {
   "cell_type": "code",
   "execution_count": 4,
   "id": "5a4d9c15",
   "metadata": {},
   "outputs": [
    {
     "name": "stdout",
     "output_type": "stream",
     "text": [
      "Output will be written to ../data/research_contributions_v3.jsonl\n"
     ]
    },
    {
     "name": "stderr",
     "output_type": "stream",
     "text": [
      "100%|██████████| 2133/2133 [20:06:56<00:00, 33.95s/it]   \n"
     ]
    }
   ],
   "source": [
    "OUTFILE = f'../data/research_contributions_v3.jsonl'\n",
    "print(f\"Output will be written to {OUTFILE}\")\n",
    "with open(OUTFILE, \"a\") as f:\n",
    "    for i in tqdm(range(progress['next_index'], len(research))):\n",
    "        row = research.iloc[i]\n",
    "        paper = reconstruct_paper(row)\n",
    "        prompt = prompt_template.format(paper=paper)\n",
    "        response = get_deepseek_formatted_response(prompt, model=Findings)\n",
    "\n",
    "        if not response or \"findings\" not in response:\n",
    "            logger.warning(f\"No findings for DOI {row['doi']}\")\n",
    "            continue\n",
    "\n",
    "        findings = response[\"findings\"]\n",
    "\n",
    "        for finding in findings:\n",
    "            row = {\n",
    "                \"text\": finding,\n",
    "                \"doi\": row[\"doi\"],\n",
    "                \"citation_count\": int(row[\"citation_count\"]),\n",
    "                \"pubdate\": int(row[\"pubdate\"])\n",
    "            }\n",
    "            f.write(json.dumps(row) + \"\\n\")\n",
    "        \n",
    "        # Update progress\n",
    "        progress['next_index'] = i + 1\n",
    "        with open(PROGRESS_PATH, 'w') as f_prog:\n",
    "            json.dump(progress, f_prog)\n"
   ]
  },
  {
   "cell_type": "code",
   "execution_count": 7,
   "id": "12403ebb",
   "metadata": {},
   "outputs": [],
   "source": [
    "# Get the set of unique DOIs in the contributions file\n",
    "def find_unprocessed_dois() -> set:\n",
    "    contributions = pd.read_json(OUTFILE, lines=True)\n",
    "    processed_dois = contributions['doi'].unique()\n",
    "    research_dois = research['doi'].unique()\n",
    "    unprocessed_dois = set(research_dois) - set(processed_dois)\n",
    "    return unprocessed_dois\n",
    "\n",
    "unprocessed_dois = find_unprocessed_dois()\n",
    "\n"
   ]
  },
  {
   "cell_type": "code",
   "execution_count": 10,
   "id": "ab4711b6",
   "metadata": {},
   "outputs": [
    {
     "name": "stderr",
     "output_type": "stream",
     "text": [
      "100%|██████████| 1/1 [01:40<00:00, 100.86s/it]\n"
     ]
    }
   ],
   "source": [
    "with open(OUTFILE, \"a\") as f:\n",
    "    for doi in tqdm(unprocessed_dois):\n",
    "        row = research[research['doi'] == doi].iloc[0]\n",
    "        paper = reconstruct_paper(row)\n",
    "        prompt = prompt_template.format(paper=paper)\n",
    "        response = get_deepseek_formatted_response(prompt, model=Findings)\n",
    "\n",
    "        if not response or \"findings\" not in response:\n",
    "            logger.warning(f\"No findings for DOI {row['doi']}\")\n",
    "            continue\n",
    "\n",
    "        findings = response[\"findings\"]\n",
    "\n",
    "        for finding in findings:\n",
    "            row = {\n",
    "                \"text\": finding,\n",
    "                \"doi\": row[\"doi\"],\n",
    "                \"citation_count\": int(row[\"citation_count\"]),\n",
    "                \"pubdate\": int(row[\"pubdate\"])\n",
    "            }\n",
    "            f.write(json.dumps(row) + \"\\n\")\n",
    "    "
   ]
  },
  {
   "cell_type": "code",
   "execution_count": 11,
   "id": "5eefc99d",
   "metadata": {},
   "outputs": [
    {
     "name": "stdout",
     "output_type": "stream",
     "text": [
      "Unprocessed DOIs remaining: 0\n"
     ]
    }
   ],
   "source": [
    "unprocessed_dois = find_unprocessed_dois()\n",
    "print(f\"Unprocessed DOIs remaining: {len(unprocessed_dois)}\")"
   ]
  },
  {
   "cell_type": "code",
   "execution_count": 13,
   "id": "f5bb6209",
   "metadata": {},
   "outputs": [
    {
     "data": {
      "text/plain": [
       "count    9989.000000\n",
       "mean       29.961558\n",
       "std        12.720767\n",
       "min        10.000000\n",
       "25%        21.000000\n",
       "50%        27.000000\n",
       "75%        34.000000\n",
       "max       167.000000\n",
       "dtype: float64"
      ]
     },
     "execution_count": 13,
     "metadata": {},
     "output_type": "execute_result"
    }
   ],
   "source": [
    "# Confirm that the number of findigs per paper is reasonable (e.g. > 5)\n",
    "contributions = pd.read_json(OUTFILE, lines=True)\n",
    "contributions_per_paper = contributions.groupby('doi').size()\n",
    "contributions_per_paper.describe()"
   ]
  },
  {
   "cell_type": "markdown",
   "id": "d987f5bd",
   "metadata": {},
   "source": [
    "## Embeddings"
   ]
  },
  {
   "cell_type": "code",
   "execution_count": 18,
   "id": "35d757be",
   "metadata": {},
   "outputs": [
    {
     "data": {
      "text/html": [
       "<div>\n",
       "<style scoped>\n",
       "    .dataframe tbody tr th:only-of-type {\n",
       "        vertical-align: middle;\n",
       "    }\n",
       "\n",
       "    .dataframe tbody tr th {\n",
       "        vertical-align: top;\n",
       "    }\n",
       "\n",
       "    .dataframe thead th {\n",
       "        text-align: right;\n",
       "    }\n",
       "</style>\n",
       "<table border=\"1\" class=\"dataframe\">\n",
       "  <thead>\n",
       "    <tr style=\"text-align: right;\">\n",
       "      <th></th>\n",
       "      <th>text</th>\n",
       "      <th>doi</th>\n",
       "      <th>citation_count</th>\n",
       "      <th>pubdate</th>\n",
       "    </tr>\n",
       "  </thead>\n",
       "  <tbody>\n",
       "    <tr>\n",
       "      <th>0</th>\n",
       "      <td>Extragalactic radio sources in the 3CR complet...</td>\n",
       "      <td>10.1093/mnras/167.1.31P</td>\n",
       "      <td>2681</td>\n",
       "      <td>19740501</td>\n",
       "    </tr>\n",
       "    <tr>\n",
       "      <th>1</th>\n",
       "      <td>Radio sources with luminosities below approxim...</td>\n",
       "      <td>10.1093/mnras/167.1.31P</td>\n",
       "      <td>2681</td>\n",
       "      <td>19740501</td>\n",
       "    </tr>\n",
       "    <tr>\n",
       "      <th>2</th>\n",
       "      <td>Radio sources with luminosities above approxim...</td>\n",
       "      <td>10.1093/mnras/167.1.31P</td>\n",
       "      <td>2681</td>\n",
       "      <td>19740501</td>\n",
       "    </tr>\n",
       "    <tr>\n",
       "      <th>3</th>\n",
       "      <td>Class I morphology is defined as sources where...</td>\n",
       "      <td>10.1093/mnras/167.1.31P</td>\n",
       "      <td>2681</td>\n",
       "      <td>19740501</td>\n",
       "    </tr>\n",
       "    <tr>\n",
       "      <th>4</th>\n",
       "      <td>Class II morphology is defined as sources wher...</td>\n",
       "      <td>10.1093/mnras/167.1.31P</td>\n",
       "      <td>2681</td>\n",
       "      <td>19740501</td>\n",
       "    </tr>\n",
       "  </tbody>\n",
       "</table>\n",
       "</div>"
      ],
      "text/plain": [
       "                                                text                      doi  \\\n",
       "0  Extragalactic radio sources in the 3CR complet...  10.1093/mnras/167.1.31P   \n",
       "1  Radio sources with luminosities below approxim...  10.1093/mnras/167.1.31P   \n",
       "2  Radio sources with luminosities above approxim...  10.1093/mnras/167.1.31P   \n",
       "3  Class I morphology is defined as sources where...  10.1093/mnras/167.1.31P   \n",
       "4  Class II morphology is defined as sources wher...  10.1093/mnras/167.1.31P   \n",
       "\n",
       "   citation_count   pubdate  \n",
       "0            2681  19740501  \n",
       "1            2681  19740501  \n",
       "2            2681  19740501  \n",
       "3            2681  19740501  \n",
       "4            2681  19740501  "
      ]
     },
     "execution_count": 18,
     "metadata": {},
     "output_type": "execute_result"
    }
   ],
   "source": [
    "contributions.drop(columns=['vector'], inplace=True, errors='ignore')\n",
    "contributions.head()"
   ]
  },
  {
   "cell_type": "code",
   "execution_count": null,
   "id": "7ff17abc",
   "metadata": {},
   "outputs": [],
   "source": [
    "embedder = Embedder.create(\"Qwen/Qwen3-Embedding-0.6B\", device=\"mps\", normalize=True)\n",
    "batch_size = 16\n",
    "contributions['vector'] = None\n",
    "\n",
    "for i in tqdm(range(0, len(contributions), batch_size), desc=\"Embedding contributions\"):\n",
    "    batch = contributions.iloc[i:i + batch_size]\n",
    "    vectors = embedder(batch['text'])\n",
    "\n",
    "    # Assign vectors to individual rows\n",
    "    for j, vec in enumerate(vectors):\n",
    "        contributions.at[i + j, \"vector\"] = vec"
   ]
  },
  {
   "cell_type": "code",
   "execution_count": null,
   "id": "54c5c932",
   "metadata": {},
   "outputs": [],
   "source": []
  }
 ],
 "metadata": {
  "kernelspec": {
   "display_name": "citeline",
   "language": "python",
   "name": "python3"
  },
  "language_info": {
   "codemirror_mode": {
    "name": "ipython",
    "version": 3
   },
   "file_extension": ".py",
   "mimetype": "text/x-python",
   "name": "python",
   "nbconvert_exporter": "python",
   "pygments_lexer": "ipython3",
   "version": "3.11.10"
  }
 },
 "nbformat": 4,
 "nbformat_minor": 5
}
