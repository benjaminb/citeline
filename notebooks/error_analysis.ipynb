{
 "cells": [
  {
   "cell_type": "code",
   "execution_count": 1,
   "metadata": {},
   "outputs": [
    {
     "name": "stdout",
     "output_type": "stream",
     "text": [
      "=================================CONFIG=================================\n",
      "Database         User             Host                             Port            \n",
      "citeline_db      bbasseri         localhost                        5432            \n",
      "========================================================================\n",
      "Database version: ('PostgreSQL 17.3 (Homebrew) on x86_64-apple-darwin23.6.0, compiled by Apple clang version 16.0.0 (clang-1600.0.26.6), 64-bit',)\n"
     ]
    }
   ],
   "source": [
    "from dotenv import load_dotenv\n",
    "import os\n",
    "import pandas as pd\n",
    "from time import time\n",
    "import torch\n",
    "from TextEnrichers import get_enricher, TextEnricher\n",
    "from database.database import Database\n",
    "from Embedders import Embedder, get_embedder\n",
    "from tqdm import tqdm\n",
    "from pprint import pprint\n",
    "import numpy as np\n",
    "\n",
    "load_dotenv(\".env\", override=True)\n",
    "\n",
    "db = Database()\n",
    "db.test_connection()"
   ]
  },
  {
   "cell_type": "code",
   "execution_count": 2,
   "metadata": {},
   "outputs": [
    {
     "name": "stdout",
     "output_type": "stream",
     "text": [
      "Using device: mps\n",
      "Loaded 100 examples\n"
     ]
    }
   ],
   "source": [
    "device = 'cuda' if torch.cuda.is_available() else 'mps' if torch.mps.is_available() else 'cpu'\n",
    "print(f\"Using device: {device}\")\n",
    "examples = pd.read_json('data/dataset/100/nontrivial.jsonl', lines=True)\n",
    "print(f\"Loaded {len(examples)} examples\")"
   ]
  },
  {
   "cell_type": "code",
   "execution_count": 3,
   "metadata": {},
   "outputs": [],
   "source": [
    "def get_index_of_target(query_results, target_doi: str) -> int:\n",
    "    \"\"\"\n",
    "    Get the index of the target DOI in the query results.\n",
    "    :param query_results: The query results from the database.\n",
    "    :param target_doi: The DOI of the target paper.\n",
    "    :return: The index of the target DOI in the query results.\n",
    "    \"\"\"\n",
    "    for i, result in enumerate(query_results):\n",
    "        if result.doi == target_doi:\n",
    "            return i\n",
    "    return -1\n",
    "\n",
    "def get_query_results_and_ranks(examples, embedder, enricher, target_column) -> list[int]:\n",
    "    all_query_results = []\n",
    "    target_ranks = []\n",
    "    # Enrich and embed the sentences\n",
    "    enriched_sentences = enricher(examples)\n",
    "    embeddings = embedder(enriched_sentences)\n",
    "\n",
    "    for i, embedding in tqdm(enumerate(embeddings)):\n",
    "        pubdate = examples.iloc[i]['pubdate']\n",
    "        target_doi = examples.iloc[i]['citation_dois'][0]\n",
    "\n",
    "        query_results = db.query_vector_column(\n",
    "            query_vector=embedding,\n",
    "            table_name=\"lib\",\n",
    "            target_column=target_column,\n",
    "            pubdate=pubdate,\n",
    "            top_k=10_000,\n",
    "            probes=40,\n",
    "            explain=False,\n",
    "        )\n",
    "        all_query_results.append(query_results)\n",
    "\n",
    "        # Get the rank of the target DOI in the query results\n",
    "        target_rank = get_index_of_target(query_results, target_doi)\n",
    "        target_ranks.append(target_rank)\n",
    "    return all_query_results, target_ranks"
   ]
  },
  {
   "cell_type": "code",
   "execution_count": 4,
   "metadata": {},
   "outputs": [
    {
     "name": "stderr",
     "output_type": "stream",
     "text": [
      "100it [01:03,  1.57it/s]\n"
     ]
    }
   ],
   "source": [
    "# BGE with identity experiment\n",
    "bge_embedder = get_embedder(\"BAAI/bge-small-en\", device=device, normalize=True)\n",
    "identity_enricher = get_enricher(\"identity\", path_to_data=\"data/preprocessed/reviews.jsonl\")\n",
    "\n",
    "bge_query_results, bge_ranks = get_query_results_and_ranks(examples, bge_embedder, identity_enricher, \"bge_norm\")\n"
   ]
  },
  {
   "cell_type": "code",
   "execution_count": 5,
   "metadata": {},
   "outputs": [],
   "source": [
    "def print_rank_stats(ranks):\n",
    "    \"\"\"\n",
    "    Print the rank statistics.\n",
    "    :param ranks: The ranks to analyze.\n",
    "    \"\"\"\n",
    "    print(f\"Mean rank: {np.mean(ranks)}\")\n",
    "    print(f\"Median rank: {np.median(ranks)}\")\n",
    "    print(f\"Max rank: {np.max(ranks)}\")\n",
    "    print(f\"Rank 0 count: {ranks.count(0)}\")\n",
    "    print(f\"Rank 1 count: {ranks.count(1)}\")\n",
    "    print(f\"Rank 2 count: {ranks.count(2)}\")\n",
    "    print(f\"Rank 3 count: {ranks.count(3)}\")"
   ]
  },
  {
   "cell_type": "code",
   "execution_count": 6,
   "metadata": {},
   "outputs": [
    {
     "name": "stdout",
     "output_type": "stream",
     "text": [
      "Mean rank: 645.41\n",
      "Median rank: 18.0\n",
      "Max rank: 8045\n",
      "Rank 0 count: 10\n",
      "Rank 1 count: 10\n",
      "Rank 2 count: 2\n",
      "Rank 3 count: 2\n"
     ]
    }
   ],
   "source": [
    "print_rank_stats(bge_ranks)"
   ]
  },
  {
   "cell_type": "code",
   "execution_count": 7,
   "metadata": {},
   "outputs": [
    {
     "data": {
      "image/png": "[encoded data removed]",
      "text/plain": [
       "<Figure size 1600x600 with 1 Axes>"
      ]
     },
     "metadata": {},
     "output_type": "display_data"
    }
   ],
   "source": [
    "import matplotlib.pyplot as plt\n",
    "found_ranks = [rank for rank in bge_ranks if rank != -1]\n",
    "max_rank = max(found_ranks)\n",
    "bin_edges = list(range(0, ((max_rank // 500) + 2) * 500, 500))\n",
    "plt.figure(figsize=(16, 6))\n",
    "counts, bins, patches = plt.hist(found_ranks, bins=bin_edges, edgecolor='black')\n",
    "for count, bin_left, patch in zip(counts, bins, patches):\n",
    "    plt.text(\n",
    "        bin_left + (bins[1] - bins[0]) / 2,\n",
    "        count,\n",
    "        str(int(count)),\n",
    "        ha='center',\n",
    "        va='bottom',\n",
    "        fontsize=8\n",
    "    )\n",
    "plt.show()"
   ]
  },
  {
   "cell_type": "code",
   "execution_count": 8,
   "metadata": {},
   "outputs": [
    {
     "name": "stdout",
     "output_type": "stream",
     "text": [
      "index: 0, lowest index of target doi (rank - 1): -1\n",
      "index: 1, lowest index of target doi (rank - 1): 596\n",
      "index: 2, lowest index of target doi (rank - 1): 7281\n",
      "index: 3, lowest index of target doi (rank - 1): 1972\n",
      "index: 4, lowest index of target doi (rank - 1): 0\n",
      "index: 5, lowest index of target doi (rank - 1): 24\n",
      "index: 6, lowest index of target doi (rank - 1): 0\n",
      "index: 7, lowest index of target doi (rank - 1): 503\n",
      "index: 8, lowest index of target doi (rank - 1): -1\n",
      "index: 9, lowest index of target doi (rank - 1): 468\n",
      "index: 10, lowest index of target doi (rank - 1): -1\n",
      "index: 11, lowest index of target doi (rank - 1): -1\n",
      "index: 12, lowest index of target doi (rank - 1): 5\n",
      "index: 13, lowest index of target doi (rank - 1): 1\n",
      "index: 14, lowest index of target doi (rank - 1): -1\n",
      "index: 15, lowest index of target doi (rank - 1): 20\n",
      "index: 16, lowest index of target doi (rank - 1): 1272\n",
      "index: 17, lowest index of target doi (rank - 1): 164\n",
      "index: 18, lowest index of target doi (rank - 1): 8045\n",
      "index: 19, lowest index of target doi (rank - 1): 3530\n",
      "index: 20, lowest index of target doi (rank - 1): 571\n",
      "index: 21, lowest index of target doi (rank - 1): 0\n",
      "index: 22, lowest index of target doi (rank - 1): 1\n",
      "index: 23, lowest index of target doi (rank - 1): -1\n",
      "index: 24, lowest index of target doi (rank - 1): 5\n",
      "index: 25, lowest index of target doi (rank - 1): 177\n",
      "index: 26, lowest index of target doi (rank - 1): 3\n",
      "index: 27, lowest index of target doi (rank - 1): -1\n",
      "index: 28, lowest index of target doi (rank - 1): 1\n",
      "index: 29, lowest index of target doi (rank - 1): 32\n",
      "index: 30, lowest index of target doi (rank - 1): 660\n",
      "index: 31, lowest index of target doi (rank - 1): 77\n",
      "index: 32, lowest index of target doi (rank - 1): 1\n",
      "index: 33, lowest index of target doi (rank - 1): 3891\n",
      "index: 34, lowest index of target doi (rank - 1): 95\n",
      "index: 35, lowest index of target doi (rank - 1): 340\n",
      "index: 36, lowest index of target doi (rank - 1): 0\n",
      "index: 37, lowest index of target doi (rank - 1): 104\n",
      "index: 38, lowest index of target doi (rank - 1): 3\n",
      "index: 39, lowest index of target doi (rank - 1): 1\n",
      "index: 40, lowest index of target doi (rank - 1): -1\n",
      "index: 41, lowest index of target doi (rank - 1): 3100\n",
      "index: 42, lowest index of target doi (rank - 1): -1\n",
      "index: 43, lowest index of target doi (rank - 1): 0\n",
      "index: 44, lowest index of target doi (rank - 1): 26\n",
      "index: 45, lowest index of target doi (rank - 1): 47\n",
      "index: 46, lowest index of target doi (rank - 1): -1\n",
      "index: 47, lowest index of target doi (rank - 1): 1\n",
      "index: 48, lowest index of target doi (rank - 1): 5571\n",
      "index: 49, lowest index of target doi (rank - 1): 452\n",
      "index: 50, lowest index of target doi (rank - 1): 250\n",
      "index: 51, lowest index of target doi (rank - 1): 1\n",
      "index: 52, lowest index of target doi (rank - 1): 2\n",
      "index: 53, lowest index of target doi (rank - 1): 0\n",
      "index: 54, lowest index of target doi (rank - 1): 383\n",
      "index: 55, lowest index of target doi (rank - 1): 0\n",
      "index: 56, lowest index of target doi (rank - 1): 0\n",
      "index: 57, lowest index of target doi (rank - 1): 329\n",
      "index: 58, lowest index of target doi (rank - 1): -1\n",
      "index: 59, lowest index of target doi (rank - 1): 97\n",
      "index: 60, lowest index of target doi (rank - 1): 339\n",
      "index: 61, lowest index of target doi (rank - 1): 1746\n",
      "index: 62, lowest index of target doi (rank - 1): 0\n",
      "index: 63, lowest index of target doi (rank - 1): 70\n",
      "index: 64, lowest index of target doi (rank - 1): 6\n",
      "index: 65, lowest index of target doi (rank - 1): -1\n",
      "index: 66, lowest index of target doi (rank - 1): -1\n",
      "index: 67, lowest index of target doi (rank - 1): 3615\n",
      "index: 68, lowest index of target doi (rank - 1): -1\n",
      "index: 69, lowest index of target doi (rank - 1): 9\n",
      "index: 70, lowest index of target doi (rank - 1): 2704\n",
      "index: 71, lowest index of target doi (rank - 1): 4\n",
      "index: 72, lowest index of target doi (rank - 1): -1\n",
      "index: 73, lowest index of target doi (rank - 1): 1\n",
      "index: 74, lowest index of target doi (rank - 1): 22\n",
      "index: 75, lowest index of target doi (rank - 1): 531\n",
      "index: 76, lowest index of target doi (rank - 1): 1150\n",
      "index: 77, lowest index of target doi (rank - 1): 4\n",
      "index: 78, lowest index of target doi (rank - 1): -1\n",
      "index: 79, lowest index of target doi (rank - 1): 2098\n",
      "index: 80, lowest index of target doi (rank - 1): -1\n",
      "index: 81, lowest index of target doi (rank - 1): 30\n",
      "index: 82, lowest index of target doi (rank - 1): 16\n",
      "index: 83, lowest index of target doi (rank - 1): 6665\n",
      "index: 84, lowest index of target doi (rank - 1): 1\n",
      "index: 85, lowest index of target doi (rank - 1): 7\n",
      "index: 86, lowest index of target doi (rank - 1): 750\n",
      "index: 87, lowest index of target doi (rank - 1): 540\n",
      "index: 88, lowest index of target doi (rank - 1): 204\n",
      "index: 89, lowest index of target doi (rank - 1): 25\n",
      "index: 90, lowest index of target doi (rank - 1): 221\n",
      "index: 91, lowest index of target doi (rank - 1): 0\n",
      "index: 92, lowest index of target doi (rank - 1): 1344\n",
      "index: 93, lowest index of target doi (rank - 1): -1\n",
      "index: 94, lowest index of target doi (rank - 1): 1\n",
      "index: 95, lowest index of target doi (rank - 1): 54\n",
      "index: 96, lowest index of target doi (rank - 1): 1583\n",
      "index: 97, lowest index of target doi (rank - 1): 688\n",
      "index: 98, lowest index of target doi (rank - 1): 2\n",
      "index: 99, lowest index of target doi (rank - 1): 27\n"
     ]
    }
   ],
   "source": [
    "for i, rank in enumerate(bge_ranks):\n",
    "    print(f\"index: {i}, lowest index of target doi (rank - 1): {rank}\")"
   ]
  },
  {
   "cell_type": "markdown",
   "metadata": {},
   "source": [
    "## Big Misses\n",
    "\n",
    "Having used top-k of 10,000 even then some target references weren't retrieved. We see the 3rd example had one of the worst results where its target doi first appeared at index 7281.\n",
    "\n",
    "Let's take a look at this example:\n",
    "1. Get the example\n",
    "1. Look at the sentence and the target citation\n",
    "1. Look at the 7281st index to see its target chunk\n",
    "1. Find out if any of the other query results after that were also from the target doi\n",
    "1. Look at the top-ranked results' chunks\n",
    "1. Hypothesize why their vector embeddings were so much closer"
   ]
  },
  {
   "cell_type": "code",
   "execution_count": 9,
   "metadata": {},
   "outputs": [
    {
     "name": "stdout",
     "output_type": "stream",
     "text": [
      "('Original sentence: Building on their ideas, Priest and Syntelis ( 2021 ) '\n",
      " 'developed a model in which the magnetic field is written in terms of '\n",
      " 'cylindrical polar coordinates , asdue to a ring of X-points near and the '\n",
      " 'field of the current sheet itself.')\n",
      "('Example: Building on their ideas, Priest and  developed a model in which the '\n",
      " 'magnetic field is written in terms of cylindrical polar coordinates , asdue '\n",
      " 'to a ring of X-points near and the field of the current sheet itself.')\n",
      "Target doi: ['10.3847/1538-4357/abec4f']\n"
     ]
    }
   ],
   "source": [
    "example = examples.iloc[2]\n",
    "pprint(f\"Original sentence: {example.sent_original}\")\n",
    "pprint(f\"Example: {example.sent_no_cit}\")\n",
    "print(f\"Target doi: {example.citation_dois}\")"
   ]
  },
  {
   "cell_type": "markdown",
   "metadata": {},
   "source": [
    "This target doi *actually* refers to *The Dynamic Formation of Pseudostreamers* (Scott et al, 2021), bibcode `2021ApJ...913...64S`. \n",
    "\n",
    "However, \"Priest and Syntelis (2021)\" should have been the target document. So in this case the example was misformed because\n",
    "* the citation regex did not capture \"Priest\" as first author, but actually \"Syntelis\"\n",
    "* Therefore it looked for a bibcode `2021........S\"\n",
    "* Which it matched to the incorrect document\n",
    "\n",
    "### Conclusion: the dataset build pipeline misidentified a target document from an inline citation, creating a malformed example"
   ]
  },
  {
   "cell_type": "markdown",
   "metadata": {},
   "source": [
    "Let's try with example 18, the worst-performing one in the dataset"
   ]
  },
  {
   "cell_type": "code",
   "execution_count": 10,
   "metadata": {},
   "outputs": [
    {
     "name": "stdout",
     "output_type": "stream",
     "text": [
      "('Original sentence: In an influential paper, Dalal Kochanek (2002) analyzed '\n",
      " 'radio data for a sample of seven quadruply-imaged sources and reported the '\n",
      " 'detection of a surface mass fraction in the form of substructure between '\n",
      " '0.6% and 7%.')\n",
      "('Example: In an influential paper, Dalal  analyzed radio data for a sample of '\n",
      " 'seven quadruply-imaged sources and reported the detection of a surface mass '\n",
      " 'fraction in the form of substructure between 0.6% and 7%.')\n",
      "Target doi: ['10.1046/j.1365-8711.2002.05438.x']\n"
     ]
    }
   ],
   "source": [
    "example = examples.iloc[18]\n",
    "pprint(f\"Original sentence: {example.sent_original}\")\n",
    "pprint(f\"Example: {example.sent_no_cit}\")\n",
    "print(f\"Target doi: {example.citation_dois}\")"
   ]
  },
  {
   "cell_type": "markdown",
   "metadata": {},
   "source": [
    "Dalal Kochanek (2002) should refer to the paper *Direct Detection of Cold Dark Matter Substructure*, bibcode `2002ApJ...572...25D` and doi \" \n",
    "10.1086/340303\" or \"10.48550/arXiv.astro-ph/0111456\". We see here the target DOI has again been malformed.\n",
    "\n",
    "### Conclusion: malformed example"
   ]
  },
  {
   "cell_type": "code",
   "execution_count": 11,
   "metadata": {},
   "outputs": [
    {
     "name": "stdout",
     "output_type": "stream",
     "text": [
      "('Original sentence: Although this is often interpreted as “preheating”, soft '\n",
      " 'X-ray images show that in many cases the precursor, though a part of the '\n",
      " 'flare, does not coincide with the structure supporting the impulsive phase '\n",
      " '(Fárník and Savy 1998), hence not reflecting the plasma conditions at the '\n",
      " 'site of major energy release.')\n",
      "('Example: Although this is often interpreted as “preheating”, soft X-ray '\n",
      " 'images show that in many cases the precursor, though a part of the flare, '\n",
      " 'does not coincide with the structure supporting the impulsive phase (Fárník '\n",
      " 'and , hence not reflecting the plasma conditions at the site of major energy '\n",
      " 'release.')\n",
      "Target doi: ['10.1023/A:1005033717284']\n"
     ]
    }
   ],
   "source": [
    "example = examples.iloc[19]\n",
    "pprint(f\"Original sentence: {example.sent_original}\")\n",
    "pprint(f\"Example: {example.sent_no_cit}\")\n",
    "print(f\"Target doi: {example.citation_dois}\")"
   ]
  },
  {
   "cell_type": "markdown",
   "metadata": {},
   "source": [
    "### Conclusion: again, malformed example due to inline citation regex failing to capture first author"
   ]
  },
  {
   "cell_type": "code",
   "execution_count": 12,
   "metadata": {},
   "outputs": [
    {
     "name": "stdout",
     "output_type": "stream",
     "text": [
      "('Original sentence: Prior to launch, synthetic white light WISPR images, '\n",
      " 'created using the sophisticated ray-tracing software (Thernisien et al. 2009 '\n",
      " '), were used to develop new techniques for analyzing observed motions of '\n",
      " 'ejecta.')\n",
      "('Example: Prior to launch, synthetic white light WISPR images, created using '\n",
      " 'the sophisticated ray-tracing software (, were used to develop new '\n",
      " 'techniques for analyzing observed motions of ejecta.')\n",
      "Target doi: ['10.1007/s11207-009-9346-5']\n"
     ]
    }
   ],
   "source": [
    "example = examples.iloc[33]\n",
    "pprint(f\"Original sentence: {example.sent_original}\")\n",
    "pprint(f\"Example: {example.sent_no_cit}\")\n",
    "print(f\"Target doi: {example.citation_dois}\")"
   ]
  },
  {
   "cell_type": "markdown",
   "metadata": {},
   "source": [
    "Thernisien et al. 2009 does refer to DOI: 10.1007/s11207-009-9346-5. So in this case the example has the correct target doi.\n",
    "\n",
    "The input sentence refers to the ray-tracing software from Thernisien et al. 2009. So hopefully the target chunk talks about this.\n",
    "\n",
    "Inspecting the chunk retrieved:"
   ]
  },
  {
   "cell_type": "code",
   "execution_count": 13,
   "metadata": {},
   "outputs": [
    {
     "name": "stdout",
     "output_type": "stream",
     "text": [
      "VectorQueryResult(chunk_id=1216498,\n",
      "                  doi='10.1007/s11207-009-9346-5',\n",
      "                  title='Forward Modeling of Coronal Mass Ejections Using '\n",
      "                        'STEREO/SECCHI Data',\n",
      "                  abstract='We describe a forward modeling method developed to '\n",
      "                           'study the coronal mass ejections observed with '\n",
      "                           'STEREO/SECCHI. We present a survey of 26 CMEs '\n",
      "                           'modeled with this method. We selected most of the '\n",
      "                           'bright events observed since November 2007 to '\n",
      "                           'August 2008, after when the separation was greater '\n",
      "                           'than 40° degrees, thus showing noticeable '\n",
      "                           'differences between the two views. From these '\n",
      "                           'stereoscopic observations and using a geometric '\n",
      "                           'model of a flux rope, we are able to determine the '\n",
      "                           'three-dimensional direction of propagation, the '\n",
      "                           'three-dimensional velocity and acceleration of the '\n",
      "                           'CME front, and in most of the cases the flux rope '\n",
      "                           'orientation and length. We define a merit function '\n",
      "                           'that allows us to partially automate the fit, as '\n",
      "                           'well as perform a sensitivity analysis on the '\n",
      "                           'model parameters. We find a precision on the '\n",
      "                           'longitude and latitude to be of a maximum of ±17° '\n",
      "                           'and ±4°, respectively, for a 10% decrease of the '\n",
      "                           'merit function but a precision on the flux rope '\n",
      "                           'orientation and length to be almost one order of '\n",
      "                           'magnitude larger, showing that these parameters '\n",
      "                           'are more difficult to estimate using only '\n",
      "                           'coronagraph data. Finally, comparison with '\n",
      "                           'independent measurements shows a good agreement '\n",
      "                           'with the direction and speed we estimated.',\n",
      "                  chunk='We also show how the fitting process can be automated '\n",
      "                        'and its limitations. We define the CME outer front as '\n",
      "                        'the outermost bright front moving radially across the '\n",
      "                        'instrument FOV. Because the wireframe represents the '\n",
      "                        'points of the model where the density is peaked, the '\n",
      "                        'observable feature we intend to fit is then the peak '\n",
      "                        'of brightness of this front. In most of the bright '\n",
      "                        'events this feature can be clearly identified in the '\n",
      "                        'data images, but this identification can be more '\n",
      "                        'difficult in some cases, mostly because we do not '\n",
      "                        'observe 118 A. Thernisien et al. one single front '\n",
      "                        'and/or it is weak or “washed out” in the surrounding '\n",
      "                        'background. For the reader’s benefit, in the summary '\n",
      "                        'of the results, we give the polar coordinates and the '\n",
      "                        'angular extent of the leading edge in the observed '\n",
      "                        'images. Once the front is identified, we use our '\n",
      "                        'graphic interface to outline it by hand. We use this '\n",
      "                        'contour to evaluate a goodness of fit function: It is '\n",
      "                        'based on the comparison of this contour with the '\n",
      "                        'binary contour of the model wireframe projection. '\n",
      "                        'This is formalized as follows: i 1 \\x07\\x07 ci,j ei,j '\n",
      "                        '(v), n i=1 j =1 N n F (v) = (4) with v the vector of '\n",
      "                        'parameters of the model; i the index corresponding to '\n",
      "                        'the views (in our case, we have n = 2 views for '\n",
      "                        'STEREO-A and STEREO-B); N the number of points of the '\n",
      "                        'images, ci,j the pixel j of the user-defined contour '\n",
      "                        'for the view i; and finally, ei,j (v) the pixel j of '\n",
      "                        'the contour of the wireframe projection for the view '\n",
      "                        'i.',\n",
      "                  pubdate=datetime.date(2009, 5, 1),\n",
      "                  distance=0.21354762356125156)\n"
     ]
    }
   ],
   "source": [
    "example_query_results = bge_query_results[33]\n",
    "query_result_idx = bge_ranks[33]\n",
    "pprint(example_query_results[query_result_idx])"
   ]
  },
  {
   "cell_type": "markdown",
   "metadata": {},
   "source": [
    "We see this particular chunk does not seem to be particularly similar to the sentence that cites the document, rather a part of the process described which, out of context, it would be hard to recognize as related to the input sentence.\n",
    "\n",
    "Recompiling the paper:"
   ]
  },
  {
   "cell_type": "code",
   "execution_count": 16,
   "metadata": {},
   "outputs": [
    {
     "name": "stdout",
     "output_type": "stream",
     "text": [
      "Number of research papers: 52618\n"
     ]
    }
   ],
   "source": [
    "research_papers = pd.read_json(\"data/preprocessed/research.jsonl\", lines=True)\n",
    "print(f\"Number of research papers: {len(research_papers)}\")\n"
   ]
  },
  {
   "cell_type": "code",
   "execution_count": 20,
   "metadata": {},
   "outputs": [
    {
     "name": "stdout",
     "output_type": "stream",
     "text": [
      "Papers found with target doi in reference data: 1\n",
      "Title: Forward Modeling of Coronal Mass Ejections Using STEREO/SECCHI Data\n"
     ]
    }
   ],
   "source": [
    "thernesien_paper = research_papers[research_papers[\"doi\"] == \"10.1007/s11207-009-9346-5\"]\n",
    "print(f\"Papers found with target doi in reference data: {len(thernesien_paper)}\")\n",
    "thernesien_paper = thernesien_paper.iloc[0]\n",
    "print(f\"Title: {thernesien_paper['title']}\")"
   ]
  },
  {
   "cell_type": "code",
   "execution_count": 25,
   "metadata": {},
   "outputs": [],
   "source": [
    "with open('thernesien_paper.txt', 'w') as f:\n",
    "    f.write(thernesien_paper[\"title\"])\n",
    "    f.write(\"\\n\")\n",
    "    f.write(thernesien_paper[\"abstract\"])\n",
    "    f.write(\"\\n\")\n",
    "    f.write(thernesien_paper[\"body\"])\n",
    "    f.write(\"\\n\")"
   ]
  },
  {
   "cell_type": "markdown",
   "metadata": {},
   "source": [
    "Let's take a look at the actual paper we have on hand"
   ]
  },
  {
   "cell_type": "markdown",
   "metadata": {},
   "source": [
    "Reviewing the content of the paper, the ray-tracing software is only briefly mentioned in section 3 and 4 and not directly mentioned in the abstract:\n",
    "\n",
    "> (3) Finally, the model can be positioned in space using spherical coordinates, as shown in Figure 1(c): φ and θ are the longitude and the latitude, respectively, and γ is the tilt angle around the axis of symmetry of the model. Here, we focus only on the geometric aspect of the modeling, leaving the photometric aspect (i.e., the electron density) to be addressed in future studies. Accordingly, we do not compare the observed total brightness images directly to the corresponding total brightness rendered model images, but rather we compare the overall observed shape to what we define to be the wireframe of the hollow croissant. The wireframe representation is simply the set of points located on the surface of the croissant, where the profile of electron density is peaked. The advantage of using a wireframe is that it allows real-time rendering, whereas it requires few seconds to few minutes for a full Thomson scattering rendering. Figure 2 shows two synthetic coronagraph images and two wireframe images of the model, viewed in the same orientation as in Figures 1(a) and (b), face-on and edge-on, respectively. The two top images are generated using a ray-tracing renderer that takes full account of the Thomson scattering equations; the two bottom images show only the projection of the wireframe on the virtual CCD. This demonstrates clearly that the wireframe representation reproduces accurately the geometry of the Thomson scattering view. 4. The Data Although this technique can be applied to images from all the instruments of the SECCHI package, we focus our study mostly on the COR2 data since its field of view (FOV) is well adapted to observe fully developed flux-rope-like CMEs. Indeed, the flux rope might not be 116 A. Thernisien et al. Figure 2 Comparison between white-light and wireframe rendering. On top are the simulated white-light images using Thomson scattering of the GCS model as seen in Figures 1(a) and (b). At the bottom are the corresponding wireframe views. fully developed in the COR1 FOV, while its overall structure becomes too faint and more difficult to interpret in the Heliospheric Imagers’ (HI) FOV. Nevertheless, we used COR1 data when the event could be clearly identified and followed in both COR1 views. We did not use the HI images because the flux rope appearance can be distorted by the effects of interactions with the solar wind. The images are prepared using the standard SolarSoft secchi_ prep.pro procedure. We use calibrated total brightness images from that we subtract from a pre-event image (base difference).\n",
    "\n",
    "Section 3 references the ray-tracing, section 4 references the software SolarSoft explicitly and more about their methodology with white-light images."
   ]
  },
  {
   "cell_type": "code",
   "execution_count": 62,
   "metadata": {},
   "outputs": [
    {
     "name": "stdout",
     "output_type": "stream",
     "text": [
      "Cosine distance: 0.21922433\n"
     ]
    }
   ],
   "source": [
    "passage = \"(3) Finally, the model can be positioned in space using spherical coordinates, as shown in Figure 1(c): φ and θ are the longitude and the latitude, respectively, and γ is the tilt angle around the axis of symmetry of the model. Here, we focus only on the geometric aspect of the modeling, leaving the photometric aspect (i.e., the electron density) to be addressed in future studies. Accordingly, we do not compare the observed total brightness images directly to the corresponding total brightness rendered model images, but rather we compare the overall observed shape to what we define to be the wireframe of the hollow croissant. The wireframe representation is simply the set of points located on the surface of the croissant, where the profile of electron density is peaked. The advantage of using a wireframe is that it allows real-time rendering, whereas it requires few seconds to few minutes for a full Thomson scattering rendering. Figure 2 shows two synthetic coronagraph images and two wireframe images of the model, viewed in the same orientation as in Figures 1(a) and (b), face-on and edge-on, respectively. The two top images are generated using a ray-tracing renderer that takes full account of the Thomson scattering equations; the two bottom images show only the projection of the wireframe on the virtual CCD. This demonstrates clearly that the wireframe representation reproduces accurately the geometry of the Thomson scattering view. 4. The Data Although this technique can be applied to images from all the instruments of the SECCHI package, we focus our study mostly on the COR2 data since its field of view (FOV) is well adapted to observe fully developed flux-rope-like CMEs. Indeed, the flux rope might not be 116 A. Thernisien et al. Figure 2 Comparison between white-light and wireframe rendering. On top are the simulated white-light images using Thomson scattering of the GCS model as seen in Figures 1(a) and (b). At the bottom are the corresponding wireframe views. fully developed in the COR1 FOV, while its overall structure becomes too faint and more difficult to interpret in the Heliospheric Imagers’ (HI) FOV. Nevertheless, we used COR1 data when the event could be clearly identified and followed in both COR1 views. We did not use the HI images because the flux rope appearance can be distorted by the effects of interactions with the solar wind. The images are prepared using the standard SolarSoft secchi_ prep.pro procedure. We use calibrated total brightness images from that we subtract from a pre-event image (base difference).\"\n",
    "embeddings = bge_embedder([example.sent_no_cit, passage])\n",
    "example_embedding = embeddings[0]\n",
    "passage_embedding = embeddings[1]\n",
    "\n",
    "# Get the cosine distance between the two embeddings using numpy\n",
    "def cosine_distance(a, b):\n",
    "    \"\"\"\n",
    "    Calculate the cosine distance between two vectors.\n",
    "    :param a: The first vector.\n",
    "    :param b: The second vector.\n",
    "    :return: The cosine distance between the two vectors.\n",
    "    \"\"\"\n",
    "    a = a / np.linalg.norm(a)\n",
    "    b = b / np.linalg.norm(b)\n",
    "    return 1 - np.dot(a, b)\n",
    "print(\"Cosine distance:\", cosine_distance(example_embedding, passage_embedding))"
   ]
  },
  {
   "cell_type": "code",
   "execution_count": 63,
   "metadata": {},
   "outputs": [
    {
     "name": "stdout",
     "output_type": "stream",
     "text": [
      "Cosine distance between section 3 and input 0.22012842\n",
      "Cosine distance between section 4 and input 0.21376169\n"
     ]
    }
   ],
   "source": [
    "section_3 = \"(3) Finally, the model can be positioned in space using spherical coordinates, as shown in Figure 1(c): φ and θ are the longitude and the latitude, respectively, and γ is the tilt angle around the axis of symmetry of the model. Here, we focus only on the geometric aspect of the modeling, leaving the photometric aspect (i.e., the electron density) to be addressed in future studies. Accordingly, we do not compare the observed total brightness images directly to the corresponding total brightness rendered model images, but rather we compare the overall observed shape to what we define to be the wireframe of the hollow croissant. The wireframe representation is simply the set of points located on the surface of the croissant, where the profile of electron density is peaked. The advantage of using a wireframe is that it allows real-time rendering, whereas it requires few seconds to few minutes for a full Thomson scattering rendering. Figure 2 shows two synthetic coronagraph images and two wireframe images of the model, viewed in the same orientation as in Figures 1(a) and (b), face-on and edge-on, respectively. The two top images are generated using a ray-tracing renderer that takes full account of the Thomson scattering equations; the two bottom images show only the projection of the wireframe on the virtual CCD. This demonstrates clearly that the wireframe representation reproduces accurately the geometry of the Thomson scattering view.\"\n",
    "section_4 = \"4. The Data Although this technique can be applied to images from all the instruments of the SECCHI package, we focus our study mostly on the COR2 data since its field of view (FOV) is well adapted to observe fully developed flux-rope-like CMEs. Indeed, the flux rope might not be 116 A. Thernisien et al. Figure 2 Comparison between white-light and wireframe rendering. On top are the simulated white-light images using Thomson scattering of the GCS model as seen in Figures 1(a) and (b). At the bottom are the corresponding wireframe views. fully developed in the COR1 FOV, while its overall structure becomes too faint and more difficult to interpret in the Heliospheric Imagers’ (HI) FOV. Nevertheless, we used COR1 data when the event could be clearly identified and followed in both COR1 views. We did not use the HI images because the flux rope appearance can be distorted by the effects of interactions with the solar wind. The images are prepared using the standard SolarSoft secchi_ prep.pro procedure. We use calibrated total brightness images from that we subtract from a pre-event image (base difference).\"\n",
    "section_3_embedding = bge_embedder([section_3])[0]\n",
    "section_4_embedding = bge_embedder([section_4])[0]\n",
    "print(\"Cosine distance between section 3 and input\", cosine_distance(section_3_embedding, example_embedding))\n",
    "print(\"Cosine distance between section 4 and input\", cosine_distance(section_4_embedding, example_embedding))\n"
   ]
  },
  {
   "cell_type": "markdown",
   "metadata": {},
   "source": [
    "This substring from section 4 seems particularly relevant:\n",
    "\n",
    "> Figure 2 Comparison between white-light and wireframe rendering. On top are the simulated white-light images using Thomson scattering of the GCS model as seen in Figures 1(a) and (b). At the bottom are the corresponding wireframe views. fully developed in the COR1 FOV, while its overall structure becomes too faint and more difficult to interpret in the Heliospheric Imagers’ (HI) FOV. Nevertheless, we used COR1 data when the event could be clearly identified and followed in both COR1 views. We did not use the HI images because the flux rope appearance can be distorted by the effects of interactions with the solar wind. The images are prepared using the standard SolarSoft secchi_ prep.pro procedure. We use calibrated total brightness images from that we subtract from a pre-event image (base difference)."
   ]
  },
  {
   "cell_type": "code",
   "execution_count": 64,
   "metadata": {},
   "outputs": [
    {
     "name": "stdout",
     "output_type": "stream",
     "text": [
      "Cosine distance: 0.037793636\n"
     ]
    }
   ],
   "source": [
    "passage_2 = \"Figure 2 Comparison between white-light and wireframe rendering. On top are the simulated white-light images using Thomson scattering of the GCS model as seen in Figures 1(a) and (b). At the bottom are the corresponding wireframe views. fully developed in the COR1 FOV, while its overall structure becomes too faint and more difficult to interpret in the Heliospheric Imagers’ (HI) FOV. Nevertheless, we used COR1 data when the event could be clearly identified and followed in both COR1 views. We did not use the HI images because the flux rope appearance can be distorted by the effects of interactions with the solar wind. The images are prepared using the standard SolarSoft secchi_ prep.pro procedure. We use calibrated total brightness images from that we subtract from a pre-event image (base difference).\"\n",
    "embedding_2 = bge_embedder([passage_2])[0]\n",
    "print(\"Cosine distance:\", cosine_distance(passage_embedding, embedding_2))"
   ]
  },
  {
   "cell_type": "markdown",
   "metadata": {},
   "source": [
    "This has the best cosine distance by far. Where is it in the chunks?"
   ]
  },
  {
   "cell_type": "markdown",
   "metadata": {},
   "source": [
    "Compare it to the chunk the preprocessing pipeline inserted into the database:"
   ]
  },
  {
   "cell_type": "code",
   "execution_count": 31,
   "metadata": {},
   "outputs": [
    {
     "name": "stdout",
     "output_type": "stream",
     "text": [
      "Number of chunks found with target doi in reference data: 41\n"
     ]
    }
   ],
   "source": [
    "chunks = db.query(\"SELECT chunk FROM lib WHERE doi = '10.1007/s11207-009-9346-5'\")\n",
    "print(f\"Number of chunks found with target doi in reference data: {len(chunks)}\")\n",
    "chunks = [chunk[0] for chunk in chunks]"
   ]
  },
  {
   "cell_type": "code",
   "execution_count": 60,
   "metadata": {},
   "outputs": [
    {
     "name": "stdout",
     "output_type": "stream",
     "text": [
      "('Found chunk 3: The two top images are generated using a ray-tracing renderer '\n",
      " 'that takes full account of the Thomson scattering equations; the two bottom '\n",
      " 'images show only the projection of the wireframe on the virtual CCD. This '\n",
      " 'demonstrates clearly that the wireframe representation reproduces accurately '\n",
      " 'the geometry of the Thomson scattering view. 4. The Data Although this '\n",
      " 'technique can be applied to images from all the instruments of the SECCHI '\n",
      " 'package, we focus our study mostly on the COR2 data since its field of view '\n",
      " '(FOV) is well adapted to observe fully developed flux-rope-like CMEs. '\n",
      " 'Indeed, the flux rope might not be 116 A. Thernisien et al. Figure 2 '\n",
      " 'Comparison between white-light and wireframe rendering. On top are the '\n",
      " 'simulated white-light images using Thomson scattering of the GCS model as '\n",
      " 'seen in Figures 1(a) and (b). At the bottom are the corresponding wireframe '\n",
      " 'views. fully developed in the COR1 FOV, while its overall structure becomes '\n",
      " 'too faint and more difficult to interpret in the Heliospheric Imagers’ (HI) '\n",
      " 'FOV. Nevertheless, we used COR1 data when the event could be clearly '\n",
      " 'identified and followed in both COR1 views. We did not use the HI images '\n",
      " 'because the flux rope appearance can be distorted by the effects of '\n",
      " 'interactions with the solar wind. The images are prepared using the standard '\n",
      " 'SolarSoft secchi_ prep.pro procedure. We use calibrated total brightness '\n",
      " 'images from that we subtract from a pre-event image (base difference). 5.')\n",
      "('Found chunk 3: The two top images are generated using a ray-tracing renderer '\n",
      " 'that takes full account of the Thomson scattering equations; the two bottom '\n",
      " 'images show only the projection of the wireframe on the virtual CCD. This '\n",
      " 'demonstrates clearly that the wireframe representation reproduces accurately '\n",
      " 'the geometry of the Thomson scattering view. 4. The Data Although this '\n",
      " 'technique can be applied to images from all the instruments of the SECCHI '\n",
      " 'package, we focus our study mostly on the COR2 data since its field of view '\n",
      " '(FOV) is well adapted to observe fully developed flux-rope-like CMEs. '\n",
      " 'Indeed, the flux rope might not be 116 A. Thernisien et al. Figure 2 '\n",
      " 'Comparison between white-light and wireframe rendering. On top are the '\n",
      " 'simulated white-light images using Thomson scattering of the GCS model as '\n",
      " 'seen in Figures 1(a) and (b). At the bottom are the corresponding wireframe '\n",
      " 'views. fully developed in the COR1 FOV, while its overall structure becomes '\n",
      " 'too faint and more difficult to interpret in the Heliospheric Imagers’ (HI) '\n",
      " 'FOV. Nevertheless, we used COR1 data when the event could be clearly '\n",
      " 'identified and followed in both COR1 views. We did not use the HI images '\n",
      " 'because the flux rope appearance can be distorted by the effects of '\n",
      " 'interactions with the solar wind. The images are prepared using the standard '\n",
      " 'SolarSoft secchi_ prep.pro procedure. We use calibrated total brightness '\n",
      " 'images from that we subtract from a pre-event image (base difference). 5.')\n"
     ]
    }
   ],
   "source": [
    "for i, chunk in enumerate(chunks):\n",
    "    if \"ray-tracing renderer\" in chunk:\n",
    "        pprint(f\"Found chunk {i}: {chunk}\")\n",
    "    if \"The images are prepared using the standard SolarSoft\" in chunk:\n",
    "        pprint(f\"Found chunk {i}: {chunk}\")"
   ]
  },
  {
   "cell_type": "markdown",
   "metadata": {},
   "source": [
    "Both those key phrases appear in chunk 3, which is part of section 3 and all of section 4"
   ]
  },
  {
   "cell_type": "markdown",
   "metadata": {},
   "source": [
    "What would the cosine distance be to this chunk? To all chunks?"
   ]
  },
  {
   "cell_type": "code",
   "execution_count": 40,
   "metadata": {},
   "outputs": [
    {
     "name": "stdout",
     "output_type": "stream",
     "text": [
      "0.20967066\n"
     ]
    }
   ],
   "source": [
    "chunk_3_embedding = bge_embedder([chunks[3]])[0]\n",
    "print(cosine_distance(chunk_3_embedding, example_embedding))"
   ]
  },
  {
   "cell_type": "code",
   "execution_count": 46,
   "metadata": {},
   "outputs": [
    {
     "name": "stdout",
     "output_type": "stream",
     "text": [
      "Shortest distance of all chunks from this paper: 0.20767277479171753\n",
      "At index: 40\n",
      "('Chunk: Astrophys. J. 628, 1061 – 1069. doi:10.1086/430846. Frazin, R.A., '\n",
      " 'Kamalabadi, F.: 2005b, Rotational tomography for 3D reconstruction of the '\n",
      " 'white-light and EUV corona in the post-SOHO era. Solar Phys. 228, 219 – 237. '\n",
      " 'doi:10.1007/s11207-005-2764-0. Frazin, R.A., Butala, M.D., Kemball, A., '\n",
      " 'Kamalabadi, F.: 2005, Time-dependent reconstruction of nonstationary objects '\n",
      " 'with tomographic or interferometric measurements. Astrophys. J. 635, L197 – '\n",
      " 'L200. doi:10.1086/499431. Howard, R.A., Sheeley, N.R. Jr., Michels, D.J., '\n",
      " 'Koomen, M.J.: 1985, Coronal mass ejections – 1979 – 1981. J. Geophys. Res. '\n",
      " '90, 8173 – 8191. Howard, R.A., Moses, J.D., Vourlidas, A., Newmark, J.S., '\n",
      " 'Socker, D.G., Plunkett, S.P., Korendyke, C.M., Cook, J.W., Hurley, A., '\n",
      " 'Davila, J.M., Thompson, W.T., St Cyr, O.C., Mentzell, E., Mehalick, K., '\n",
      " 'Lemen, 130 A. Thernisien et al. J.R., Wuelser, J.P., Duncan, D.W., Tarbell, '\n",
      " 'T.D., Wolfson, C.J., Moore, A., Harrison, R.A., Waltham, N.R., Lang, J., '\n",
      " 'Davis, C.J., Eyles, C.J., Mapson-Menard, H., Simnett, G.M., Halain, J.P., '\n",
      " 'Defise, J.M., Mazy, E., Rochus, P., Mercier, R., Ravet, M.F., Delmotte, F., '\n",
      " 'Auchere, F., Delaboudiniere, J.P., Bothmer, V., Deutsch, W., Wang, D., Rich, '\n",
      " 'N., Cooper, S., Stephens, V., Maahs, G., Baugh, R., McMullin, D., Carter, '\n",
      " 'T.: 2008, Sun Earth connection coronal and heliospheric investigation '\n",
      " '(SECCHI). Space Sci. Rev. 136, 67 – 115. doi:10.1007/s11214-008-9341-4.')\n"
     ]
    }
   ],
   "source": [
    "cosine_distances = []\n",
    "\n",
    "for i, chunk in enumerate(chunks):\n",
    "    embedding = bge_embedder([chunk])[0]\n",
    "    cosine_distance_value = cosine_distance(embedding, example_embedding)\n",
    "    cosine_distances.append(cosine_distance_value)\n",
    "\n",
    "min_distance = min(cosine_distances)\n",
    "print(f\"Shortest distance of all chunks from this paper: {min_distance}\")\n",
    "best_idx = cosine_distances.index(min_distance)\n",
    "print(f\"At index: {best_idx}\")\n",
    "pprint(f\"Chunk: {chunks[best_idx]}\")"
   ]
  },
  {
   "cell_type": "markdown",
   "metadata": {},
   "source": [
    "So the chunk containing the substring with really good Strangely, an excerpt from the paper's end matter is the closest chunk by cosine distance. Were there in fact any other chunks from this paper included?"
   ]
  },
  {
   "cell_type": "code",
   "execution_count": 48,
   "metadata": {},
   "outputs": [
    {
     "name": "stdout",
     "output_type": "stream",
     "text": [
      "Number of results from target doi: 1\n"
     ]
    }
   ],
   "source": [
    "example_query_results = bge_query_results[33]\n",
    "results_from_target_doi = [result for result in example_query_results if result.doi == \"10.1007/s11207-009-9346-5\"]\n",
    "print(f\"Number of results from target doi: {len(results_from_target_doi)}\")\n",
    "\n",
    "# No other references found except this one chunk"
   ]
  },
  {
   "cell_type": "markdown",
   "metadata": {},
   "source": [
    "#### Observations so far:\n",
    "\n",
    "1. What appears to be the most relevant passage does not clearly indicate the contribution (ray-tracing software) described by the inline citation\n",
    "1. The human-preferred chunk in the database was not retrieved in the top 10000 results with 40 probes.\n",
    "1. It's possible the other parts of the input sentence, referring to WISPR images and ejecta motions, may have overridden the ray-tracing citation when embedding"
   ]
  },
  {
   "cell_type": "code",
   "execution_count": 52,
   "metadata": {},
   "outputs": [
    {
     "data": {
      "image/png": "[encoded data removed]",
      "text/plain": [
       "<Figure size 640x480 with 1 Axes>"
      ]
     },
     "metadata": {},
     "output_type": "display_data"
    }
   ],
   "source": [
    "plt.hist([result.distance for result in example_query_results])\n",
    "plt.show()"
   ]
  },
  {
   "cell_type": "code",
   "execution_count": 53,
   "metadata": {},
   "outputs": [
    {
     "name": "stdout",
     "output_type": "stream",
     "text": [
      "Number of results with distance > 0.20967066: 7767\n"
     ]
    }
   ],
   "source": [
    "worse_retrieved = len([result for result in example_query_results if result.distance > 0.20967066])\n",
    "print(f\"Number of results with distance > 0.20967066: {worse_retrieved}\")"
   ]
  },
  {
   "cell_type": "markdown",
   "metadata": {},
   "source": [
    "So if the database query had retrieved the true closest chunk, it still would have been ranked about 2232"
   ]
  },
  {
   "cell_type": "markdown",
   "metadata": {},
   "source": [
    "#### Look at what records were deemed more similar"
   ]
  },
  {
   "cell_type": "code",
   "execution_count": 57,
   "metadata": {},
   "outputs": [
    {
     "name": "stdout",
     "output_type": "stream",
     "text": [
      "('Rank 0 (distance 0.1521): 3 This was shown experimentally by Piekutowski '\n",
      " '(1980) , and confirmed in our own experiments and recent code calculations. '\n",
      " 'At least five different techniques have been used to measure the ejection '\n",
      " 'velocity as a function of position, i.e. v ( x ): (1) Piekutowski et al. '\n",
      " '(1977) measured velocities for small explosion events by using a sheet of '\n",
      " 'light perpendicular to the target surface to illuminate a single plane of '\n",
      " 'the ejecta plume. A camera with a rotating shutter recorded the positions of '\n",
      " 'ejecta particles at discrete times, from which their trajectories could be '\n",
      " 'determined. (2) Cintala et al. (1999) improved on this method by using a '\n",
      " 'strobed laser and a CCD camera to record the trajectories. Once the '\n",
      " 'trajectories were known, ballistic equations were used to determine the '\n",
      " 'launch position, speed and angle. (3) An optical technique originally '\n",
      " 'developed in the fluid mechanics community for visualization of flow fields '\n",
      " 'was used by Schultz et al. (2000), Anderson et al. (2003), Anderson and '\n",
      " 'Schultz (2005), and Hermalyn et al. (2009) . In this method, images of a '\n",
      " 'slice of the ejecta plume are acquired at different times. Rather than '\n",
      " 'tracking specific particles in the plume, a cross-correlation analysis of '\n",
      " 'image pairs is used to determine material motions after launch.')\n",
      "('Rank 1 (distance 0.1649): A binned opacity treatment and an increased number '\n",
      " 'of rays should be employed in future experiments. Finally, Doppler and '\n",
      " 'Stokes spectra calculated from the simulation data will allow “forward '\n",
      " 'modeling” and direct comparisons with Dopplergrams and magnetograms.')\n",
      "('Rank 2 (distance 0.1710): In addition, a program for imaging the galaxies in '\n",
      " 'the optical and NIR has begun, from which color maps will be formed to '\n",
      " 'deduce the spatial distribution of the dust and star formation within the '\n",
      " 'galaxies.')\n"
     ]
    }
   ],
   "source": [
    "for i, result in enumerate(example_query_results[:3]):\n",
    "    pprint(f\"Rank {i} (distance {result.distance:.4f}): {result.chunk}\") "
   ]
  },
  {
   "cell_type": "markdown",
   "metadata": {},
   "source": [
    "Thoughts:\n",
    "1. The top-ranked chunk discusses ejecta a lot.\n",
    "1. The second top-ranked chunk is short, but mentions rays and forward modeling (which is what the software does)\n",
    "1. The third result mentions color maps\n",
    "1. None of these results seem to discuss the input sentence topic much, and neither do they have particularly close scores"
   ]
  },
  {
   "cell_type": "markdown",
   "metadata": {},
   "source": [
    "### Conclusion: this would be a difficult example no matter what, but if the chunking had been more granular we might have nailed it"
   ]
  },
  {
   "cell_type": "code",
   "execution_count": 66,
   "metadata": {},
   "outputs": [
    {
     "name": "stdout",
     "output_type": "stream",
     "text": [
      "('Original sentence: doi:10.1086/185542 Belsole E, Worrall DM, Hardcastle MJ, '\n",
      " 'Birkinshaw M, Lawrence CR (2004) XMM-Newton observations of three '\n",
      " 'high-redshift radio galaxies.')\n",
      "('Example: doi:10.1086/185542 Belsole E, Worrall DM, Hardcastle MJ, Birkinshaw '\n",
      " 'M, Lawrence  XMM-Newton observations of three high-redshift radio galaxies.')\n",
      "Target doi: ['10.1007/BF02702288']\n"
     ]
    }
   ],
   "source": [
    "example = examples.iloc[48]\n",
    "pprint(f\"Original sentence: {example.sent_original}\")\n",
    "pprint(f\"Example: {example.sent_no_cit}\")\n",
    "print(f\"Target doi: {example.citation_dois}\")"
   ]
  },
  {
   "cell_type": "markdown",
   "metadata": {},
   "source": [
    "### Conclusion: this example has very little semantic content, and appears to be from the end matter. It should not have been an example at all"
   ]
  },
  {
   "cell_type": "code",
   "execution_count": 82,
   "metadata": {},
   "outputs": [
    {
     "name": "stdout",
     "output_type": "stream",
     "text": [
      "('Original sentence: Using a theoretical HR diagram, it is possible to derive '\n",
      " 'an empirical relation between A~f and the luminosity L (Lamers, 1981), and, '\n",
      " 'going one step further, and A~f—M relation (since for high masses, the '\n",
      " 'luminosity remains approximately constant throughout the evolution), in the '\n",
      " 'form: J~f)~MI~ 2=108MoY~11 M>Mmn=20M.')\n",
      "('Example: Using a theoretical HR diagram, it is possible to derive an '\n",
      " 'empirical relation between A~f and the luminosity L (, and, going one step '\n",
      " 'further, and A~f—M relation (since for high masses, the luminosity remains '\n",
      " 'approximately constant throughout the evolution), in the form: J~f)~MI~ '\n",
      " '2=108MoY~11 M>Mmn=20M.')\n",
      "Target doi: ['10.1086/158835']\n",
      "1983-10-01\n"
     ]
    }
   ],
   "source": [
    "example = examples.iloc[67]\n",
    "pprint(f\"Original sentence: {example.sent_original}\")\n",
    "pprint(f\"Example: {example.sent_no_cit}\")\n",
    "print(f\"Target doi: {example.citation_dois}\")\n",
    "print(example.pubdate)"
   ]
  },
  {
   "cell_type": "markdown",
   "metadata": {},
   "source": [
    "The target DOI is correct. This appears to be OCR errors, mistaking $\\dot{M}$ for `A~f`. The original has very different notation:"
   ]
  },
  {
   "cell_type": "code",
   "execution_count": 81,
   "metadata": {},
   "outputs": [
    {
     "data": {
      "image/png": "[encoded data removed]",
      "text/plain": [
       "<IPython.core.display.Image object>"
      ]
     },
     "metadata": {},
     "output_type": "display_data"
    }
   ],
   "source": [
    "# display 'data/images/gamma_rays_screenshot.png' image\n",
    "from IPython.display import Image, display\n",
    "display(Image(filename='data/images/gamma_rays_screenshot.png'))"
   ]
  },
  {
   "cell_type": "markdown",
   "metadata": {},
   "source": [
    "Let's see how vector search would have worked if we had the right input text. Note that this passage discusses:\n",
    "- HR diagram which relates luminosity (magnitude) to temperature\n",
    "- Further notes that luminosity is roughly constant for high masses\n",
    "- Equations relating mass to luminosity\n",
    "\n",
    "Using latex:"
   ]
  },
  {
   "cell_type": "code",
   "execution_count": 83,
   "metadata": {},
   "outputs": [],
   "source": [
    "latex_input = \"\"\"\n",
    "Using a theoretical HR diagram, it is possible to derive an empirical relation between $\\dot{M}$ and the luminosity $L$, and, going one step further, and $\\dot{M} - M$ relation (since for high masses, the luminosity remains approximately constant throughout the evolution), in the form:\n",
    "\n",
    "\\[\n",
    "\\left.\n",
    "\\begin{aligned}\n",
    "  \\dot{M} = \\lambda M^\\mu \\qquad &\\lambda = M_\\odot \\text{yr}^{-1} \\\\\n",
    "  &\\mu = 1.6\n",
    "\\end{aligned}\n",
    "\\right\\}\n",
    "\\quad M > M_\\text{min} = 20 M_\\odot \n",
    "\\]\n",
    "\\[\n",
    "\\lambda = 0 \\qquad \\qquad M < 20 M_\\odot\n",
    "\\]\n",
    "\"\"\"\n",
    "latex_embedding = bge_embedder([latex_input])[0]\n",
    "latex_query_results = db.query_vector_column(\n",
    "    query_vector=latex_embedding,\n",
    "    table_name=\"lib\",\n",
    "    target_column='bge_norm',\n",
    "    pubdate=example.pubdate,\n",
    "    top_k=10_000,\n",
    "    probes=40,\n",
    "    explain=False,\n",
    ")"
   ]
  },
  {
   "cell_type": "code",
   "execution_count": 85,
   "metadata": {},
   "outputs": [
    {
     "name": "stdout",
     "output_type": "stream",
     "text": [
      "Rank of target doi in latex query results: 2630\n",
      "('Best target chunk: We adopted the temperature and radius for the individual '\n",
      " 'stars from Remie and Lamers, if available, or from Underhill et al For these '\n",
      " 'stars the bolometric magnitude was calculated from the temperature and the '\n",
      " 'radius. Pottasch, Wessehus, and van Duinen (1979) determined empirical '\n",
      " 'effective temperatures of nine O-stars from the ANS UV fluxes in combination '\n",
      " 'with the Lyman continuum fluxes derived from the excitation of the diffuse '\n",
      " 'nebulae surrounding the stars. We adopted their effective temperature for '\n",
      " 'the star 9 Sgr. For the stars for which no integrated-flux temperature was '\n",
      " 'measured, we adopted a temperature scale based on the empirical '\n",
      " 'temperatures. In Table 1 we list all stars from types 03 to B 1.5 for which '\n",
      " 'integrated-flux temperatures are available, from either Underhill et al, '\n",
      " 'Remie and Lamers, or Pottasch, Wessehus, and van Duinen. These temperatures '\n",
      " 'are about 10% lower than those derived from the study of the visual spectral '\n",
      " 'Unes by Conti (1973). The range of spectral types from 08 to B1.5 is '\n",
      " 'reasonably well covered for various luminosity classes. For stars earlier '\n",
      " 'than 08 the number of stars in Table 1 is very small. Therefore, in deriving '\n",
      " 'a temperature scale from the data in Table 1 we have to interpolate '\n",
      " 'extensively. In this interpolation we take into account the relative '\n",
      " 'temperatures for the different spectral types as derived by Conti (1973). '\n",
      " 'The temperatures of the early Of stars which were not studied individually '\n",
      " 'is uncertain.')\n"
     ]
    }
   ],
   "source": [
    "target_rank = get_index_of_target(latex_query_results, example.citation_dois[0])\n",
    "print(f\"Rank of target doi in latex query results: {target_rank}\")\n",
    "best_target_chunk = latex_query_results[target_rank]\n",
    "pprint(f\"Best target chunk: {best_target_chunk.chunk}\")"
   ]
  },
  {
   "cell_type": "markdown",
   "metadata": {},
   "source": [
    "This improved the rank a little bit, from 3615 to 2630. But what did it consider even closer?\n"
   ]
  },
  {
   "cell_type": "code",
   "execution_count": 89,
   "metadata": {},
   "outputs": [
    {
     "name": "stdout",
     "output_type": "stream",
     "text": [
      "('Rank 0 (doi 10.1086/154245) (distance 0.0599): Due We have fitted equation '\n",
      " '(1) to many of the observed luminosity functions, quoted earlier in this '\n",
      " 'section, to determine A, B, and a for them, and hence to obtain the '\n",
      " 'predicted M(i) = f(Nc) relation. Figure 4 shows a fit to the data given by '\n",
      " 'Abell (1969), normalized such that A, B, and a give M(l) = —23.2 at log Nc = '\n",
      " '2.15 as required by the present data (Figs. 2 and 3). It is easily shown '\n",
      " 'that this normalization requires A = — 20.067, B = —10.202, and a = 0.384 '\n",
      " 'which, with equation (1), produces the curve drawn in Figure 4. The '\n",
      " 'predicted M(l) = /(AQ relation for this model is marked as the “Abell '\n",
      " 'luminosity function” in Figure 5. It is evident that the predicted '\n",
      " 'dependence of M(l) on richness is much steeper than the observations (open '\n",
      " 'circles, with error bars from Table 2). Clearly, the luminosity function at '\n",
      " 'the bright end must be steepened.')\n",
      "\n",
      "('Rank 1 (doi 10.1086/146489) (distance 0.0632): Thus the requirement that '\n",
      " '<p(T*) « tt/2. establishes a relation between the M,L>R, and II of the star. '\n",
      " 'The period-density relation and an adopted mass-luminosity relation then '\n",
      " 'permit us to derive the luminosity of an unstable star as a function of its '\n",
      " 'period alone. Since we have adopted an (M, L) relation based on '\n",
      " 'semitheoretical evolutionary arguments and since the assumption #{%*) « tt/2 '\n",
      " 'is, in a sense, conditioned by the observed phase lags of classical '\n",
      " 'cepheids, our resulting (H, L) relation must be considered u semi '\n",
      " 'theoretical. ’ ’ The final (H, L) relation depends sensitively on the '\n",
      " 'particular element whose ionization is given the key role. It appears that '\n",
      " 'He+ gives quantitative agreement with the empirical (H, L) relation, while '\n",
      " 'He and H do not. II. THE CALCULATION OF We transform equation (1), using the '\n",
      " 'equation of state, (2) H ix and the definition where k, H, and ju are the '\n",
      " 'Boltzmann constant, mass of the hydrogen atom, and the mean molecular '\n",
      " 'weight, respectively. Then, for a plane-parallel layer, (3) To obtain an '\n",
      " 'explicit expression for the value of the integral, we adopt a polytropic '\n",
      " 'structure for the stellar envelope. Examination of the models for Aquilae '\n",
      " 'cited above suggests adopting ^ = 1.5 for the poly tropic index.')\n",
      "\n",
      "('Rank 2 (doi 10.1086/150588) (distance 0.0692): This separation was made from '\n",
      " 'the color-magnitude diagrams. A plot of 0# is shown in Figure 1. Comparison '\n",
      " 'of this diagram with Figure 1 of Simoda and Kimura (1968) shows that our '\n",
      " 'luminosity function more closely resembles that of M3 obtained by Sandage '\n",
      " '(1957), particularly with respect to the break which occurs at F ^ 18.5 mag. '\n",
      " 'This feature is not present in Taylor’s luminosity for M92 (Taylor 1954) nor '\n",
      " 'in Simoda and Kimura’s results for M13, at least to as faint as F ^ 18.9. '\n",
      " 'The differences between our luminosity TABLE 3 The Luminosity Function for '\n",
      " \"M92 Referred to the Annulus between 2' and 8' 11.9. 12.1. 12.3. 12.5. 12.7. \"\n",
      " '12.9. 13.1. 13.3. 13.5. 13.7. 13.9. 14.1. 14.3. 14.5. 14.7. 14.9. 15.1. '\n",
      " '15.3. 15.5. 15.7. 15.9. 16.1. 16.3. 16.5. 16.7. Nt(V) Nf(V) 3 4 6 8 8 15 17 '\n",
      " '20 28 31 38 49 59 72 92 102 117 154 183 209 237 265 292 328 359 2 3 3 3 3 5 '\n",
      " '5 7 10 12 12 14 15 17 18 18 21 24 28 30 32 33 34 42 49 *hb(F—o.l) 0b(F-O.D 0 '\n",
      " '0 0 0 0 0 0 0 1 0 5 6 7 9 3 2 6 23 15 11 9 8 7 5 3 1 0 2 2 0 5 2 1 4 1 2 3 2 '\n",
      " '2 16 8 6 11 10 13 17 19 19 23 21 16.9 17.1 17.3. 17.5. 17.7. 17.9. 18.1. '\n",
      " '18.3. 18.5. 18.7. 18.9. 19.1. 19.3. 19.5. 19.7. 19.9. 20.1. 20.3. 20.5. '\n",
      " '20.7. 20.9. 21.1.')\n",
      "\n"
     ]
    }
   ],
   "source": [
    "for i, result in enumerate(latex_query_results[:3]):\n",
    "    pprint(f\"Rank {i} (doi {result.doi}) (distance {result.distance:.4f}): {result.chunk}\")\n",
    "    print()"
   ]
  },
  {
   "cell_type": "markdown",
   "metadata": {},
   "source": [
    "We see that vector similarity has preferred passages that discuss relations between M and L, which the passage discusses. However the citation in the passage only relates to the \"empirical relation between $\\dot{M}$ and $L$\". The passage's vector embedding might be unduly affected by the equations.\n",
    "\n",
    "Let's try just embedding up to the citation:"
   ]
  },
  {
   "cell_type": "code",
   "execution_count": 95,
   "metadata": {},
   "outputs": [
    {
     "name": "stdout",
     "output_type": "stream",
     "text": [
      "Rank of target doi in short query results: 2901\n"
     ]
    }
   ],
   "source": [
    "short_input = \"Using a theoretical HR diagram, it is possible to derive an empirical relation between $\\dot{M}$ and the luminosity $L$\"\n",
    "short_embedding = bge_embedder([short_input])[0]\n",
    "short_query_results = db.query_vector_column(\n",
    "    query_vector=short_embedding,\n",
    "    table_name=\"lib\",\n",
    "    target_column='bge_norm',\n",
    "    pubdate=example.pubdate,\n",
    "    top_k=10_000,\n",
    "    probes=50,\n",
    "    explain=False,\n",
    ")\n",
    "target_rank = get_index_of_target(short_query_results, example.citation_dois[0])\n",
    "print(f\"Rank of target doi in short query results: {target_rank}\")\n",
    "best_target_chunk = short_query_results[target_rank]"
   ]
  },
  {
   "cell_type": "markdown",
   "metadata": {},
   "source": [
    "**NOTE** at 40 probes no target chunks even appeared in the top results; upping the probes to 50 got the best target chunk at rank 2901, not much better than when we started.\n",
    "\n",
    "Let's see what would happen if we increased the probes on the latex input:"
   ]
  },
  {
   "cell_type": "code",
   "execution_count": 96,
   "metadata": {},
   "outputs": [
    {
     "name": "stdout",
     "output_type": "stream",
     "text": [
      "('Rank 0 (doi 10.1086/154245) (distance 0.0837): Due We have fitted equation '\n",
      " '(1) to many of the observed luminosity functions, quoted earlier in this '\n",
      " 'section, to determine A, B, and a for them, and hence to obtain the '\n",
      " 'predicted M(i) = f(Nc) relation. Figure 4 shows a fit to the data given by '\n",
      " 'Abell (1969), normalized such that A, B, and a give M(l) = —23.2 at log Nc = '\n",
      " '2.15 as required by the present data (Figs. 2 and 3). It is easily shown '\n",
      " 'that this normalization requires A = — 20.067, B = —10.202, and a = 0.384 '\n",
      " 'which, with equation (1), produces the curve drawn in Figure 4. The '\n",
      " 'predicted M(l) = /(AQ relation for this model is marked as the “Abell '\n",
      " 'luminosity function” in Figure 5. It is evident that the predicted '\n",
      " 'dependence of M(l) on richness is much steeper than the observations (open '\n",
      " 'circles, with error bars from Table 2). Clearly, the luminosity function at '\n",
      " 'the bright end must be steepened.')\n",
      "\n",
      "('Rank 1 (doi 10.1086/157227) (distance 0.0931): Despite the fact that these '\n",
      " 'factors combine in a simple and well-understood way to give an observed '\n",
      " 'Hubble diagram, techniques developed for extracting such information from '\n",
      " 'the data have generally been limited to special cases or by restrictive '\n",
      " 'assumptions (e.g., a “standard candle” LF). This point is discussed in more '\n",
      " 'detail (with specific examples) in the first paper of this series (Turner '\n",
      " '19796, hereafter Paper I). Paper I and this paper together constitute an '\n",
      " 'attempt to formulate relatively general and assumption-free techniques for '\n",
      " 'extracting information on the luminosity-distance to redshift relation and '\n",
      " 'the objects’ LF from an observed Hubble diagram. The techniques are '\n",
      " 'illustrated by application to a sample of quasars. Paper I deals with the '\n",
      " 'determination of the luminosity-distance to redshift relation (i.e., q0 in '\n",
      " 'the conventional case) and of luminosity evolution (i.e., variation in the '\n",
      " 'objects’ characteristic luminosity). The techniques developed there require '\n",
      " 'only a single, weak assumption concerning the sources’ intrinsic properties: '\n",
      " 'the LF is taken to be of constant functional form. The form may be of any '\n",
      " 'arbitrary sort and need not be known; in particular, the analysis may be '\n",
      " 'applied to non-standard-candle objects. Using the same assumption, this '\n",
      " 'paper will deal with the determination of the LF’s form and its variation in '\n",
      " 'amplitude. It will also describe a test of the constant functional form '\n",
      " 'assumption.')\n",
      "\n",
      "('Rank 2 (doi 10.1086/146489) (distance 0.0966): Thus the requirement that '\n",
      " '<p(T*) « tt/2. establishes a relation between the M,L>R, and II of the star. '\n",
      " 'The period-density relation and an adopted mass-luminosity relation then '\n",
      " 'permit us to derive the luminosity of an unstable star as a function of its '\n",
      " 'period alone. Since we have adopted an (M, L) relation based on '\n",
      " 'semitheoretical evolutionary arguments and since the assumption #{%*) « tt/2 '\n",
      " 'is, in a sense, conditioned by the observed phase lags of classical '\n",
      " 'cepheids, our resulting (H, L) relation must be considered u semi '\n",
      " 'theoretical. ’ ’ The final (H, L) relation depends sensitively on the '\n",
      " 'particular element whose ionization is given the key role. It appears that '\n",
      " 'He+ gives quantitative agreement with the empirical (H, L) relation, while '\n",
      " 'He and H do not. II. THE CALCULATION OF We transform equation (1), using the '\n",
      " 'equation of state, (2) H ix and the definition where k, H, and ju are the '\n",
      " 'Boltzmann constant, mass of the hydrogen atom, and the mean molecular '\n",
      " 'weight, respectively. Then, for a plane-parallel layer, (3) To obtain an '\n",
      " 'explicit expression for the value of the integral, we adopt a polytropic '\n",
      " 'structure for the stellar envelope. Examination of the models for Aquilae '\n",
      " 'cited above suggests adopting ^ = 1.5 for the poly tropic index.')\n",
      "\n"
     ]
    }
   ],
   "source": [
    "for i, result in enumerate(short_query_results[:3]):\n",
    "    pprint(f\"Rank {i} (doi {result.doi}) (distance {result.distance:.4f}): {result.chunk}\")\n",
    "    print()"
   ]
  },
  {
   "cell_type": "code",
   "execution_count": 104,
   "metadata": {},
   "outputs": [
    {
     "name": "stdout",
     "output_type": "stream",
     "text": [
      "Rank of target doi in latex query results: 2308\n"
     ]
    }
   ],
   "source": [
    "latex_query_results = db.query_vector_column(\n",
    "    query_vector=latex_embedding,\n",
    "    table_name=\"lib\",\n",
    "    target_column=\"bge_norm\",\n",
    "    pubdate=example.pubdate,\n",
    "    top_k=10_000,\n",
    "    probes=50,\n",
    "    explain=False,\n",
    ")\n",
    "target_rank = get_index_of_target(latex_query_results, example.citation_dois[0])\n",
    "print(f\"Rank of target doi in latex query results: {target_rank}\")\n",
    "best_target_chunk = latex_query_results[target_rank]"
   ]
  },
  {
   "cell_type": "code",
   "execution_count": 107,
   "metadata": {},
   "outputs": [
    {
     "name": "stdout",
     "output_type": "stream",
     "text": [
      "50\n"
     ]
    }
   ],
   "source": [
    "target_chunks = db.query(\"SELECT chunk FROM lib WHERE doi = '10.1086/158835'\")\n",
    "print(len(target_chunks))\n",
    "target_chunks = [chunk[0] for chunk in target_chunks]"
   ]
  },
  {
   "cell_type": "code",
   "execution_count": 108,
   "metadata": {},
   "outputs": [
    {
     "name": "stdout",
     "output_type": "stream",
     "text": [
      "Distances: [np.float32(0.105336905), np.float32(0.1251778), np.float32(0.12003881), np.float32(0.125184), np.float32(0.10948253), np.float32(0.12677205), np.float32(0.1067853), np.float32(0.15063918), np.float32(0.15641904), np.float32(0.16233224), np.float32(0.121174335), np.float32(0.12192857), np.float32(0.0994001), np.float32(0.106446564), np.float32(0.115964055), np.float32(0.13476789), np.float32(0.12741375), np.float32(0.10291386), np.float32(0.11088812), np.float32(0.117426455), np.float32(0.15274394), np.float32(0.10144174), np.float32(0.10433066), np.float32(0.12506843), np.float32(0.122748315), np.float32(0.10922307), np.float32(0.12239075), np.float32(0.11030978), np.float32(0.107153), np.float32(0.10072124), np.float32(0.10982418), np.float32(0.121797204), np.float32(0.1290344), np.float32(0.103826165), np.float32(0.12942815), np.float32(0.13069671), np.float32(0.14484322), np.float32(0.13099259), np.float32(0.12737602), np.float32(0.11469519), np.float32(0.106013775), np.float32(0.11634874), np.float32(0.13018715), np.float32(0.11118424), np.float32(0.10255492), np.float32(0.11563617), np.float32(0.13391417), np.float32(0.17070562), np.float32(0.14668047), np.float32(0.124349)]\n"
     ]
    }
   ],
   "source": [
    "target_embeddings = bge_embedder(target_chunks)\n",
    "distances = [cosine_distance(target_embeddings[i], latex_embedding) for i in range(len(target_embeddings))]\n",
    "print(f\"Distances: {distances}\")"
   ]
  },
  {
   "cell_type": "code",
   "execution_count": 112,
   "metadata": {},
   "outputs": [
    {
     "name": "stdout",
     "output_type": "stream",
     "text": [
      "Chunk in target doc with closest embedding distance has distance: 0.0994001030921936\n",
      "('Closest chunk: This results in a homogeneous set of mass loss rates for 53 '\n",
      " 'stars of types 03 to B9 and luminosity classes from V to Ia+, including Of '\n",
      " 'stars. The multiple linear regression method will be used to find the '\n",
      " 'dependence of the mass flux on the stellar surface parameters geff and ■^eff '\n",
      " '> and the dependence of the mass loss rates on the stellar luminosity, '\n",
      " 'radius and mass. The resulting relations will be compared with the '\n",
      " 'previously derived dependence of on L or on L, R, M, and the difference '\n",
      " 'between our results and those of others will be explained. The relations '\n",
      " 'will be compared with the predictions for the radiation driven wind model '\n",
      " 'and for the fluctuation theory. The consequences for the stellar evolution '\n",
      " 'will be mentioned briefly. II. THE STELLAR PARAMETERS a) The Effective '\n",
      " 'Temperatures The effective temperatures and angular diameters of 160 O and B '\n",
      " 'stars have been derived from the integrated flux measurements by Underhill '\n",
      " 'et al (1979), following a method by Blackwell and Shallis (1977). Based on '\n",
      " 'these temperatures, Underhill et al derived an effective temperature scale '\n",
      " 'as a function of spectral type and luminosity. The method was reexamined in '\n",
      " 'detail by Remie and Lamers (1981) and considerably improved values for •^eff '\n",
      " 'and R* were derived for 30 supergiants and giants of types 04 to Bl.')\n"
     ]
    }
   ],
   "source": [
    "closest = min(distances)\n",
    "print(f\"Chunk in target doc with closest embedding distance has distance: {closest}\")\n",
    "closest_idx = distances.index(closest)\n",
    "pprint(f\"Closest chunk: {target_chunks[closest_idx]}\")"
   ]
  },
  {
   "cell_type": "markdown",
   "metadata": {},
   "source": [
    "This seems to be a pretty accurate passage, discussing how it used regression to relate mass flux to stellar luminosity. It has a distance of about 0.1, which is still not particularly good compared to the latex query results:"
   ]
  },
  {
   "cell_type": "code",
   "execution_count": 113,
   "metadata": {},
   "outputs": [
    {
     "name": "stdout",
     "output_type": "stream",
     "text": [
      "Rank of distance 0.0994: 1515\n"
     ]
    }
   ],
   "source": [
    "print(f\"Rank of distance 0.0994: {sum([1 for result in latex_query_results if result.distance < 0.0994])}\")"
   ]
  },
  {
   "cell_type": "code",
   "execution_count": 115,
   "metadata": {},
   "outputs": [
    {
     "name": "stdout",
     "output_type": "stream",
     "text": [
      "Rank of target doi in tiny query results: 4238\n"
     ]
    }
   ],
   "source": [
    "tiny_input = \"it is possible to derive an empirical relation between $\\dot{M}$ and the luminosity $L$\"\n",
    "tiny_embedding = bge_embedder([tiny_input])[0]\n",
    "tiny_query_results = db.query_vector_column(\n",
    "    query_vector=tiny_embedding,\n",
    "    table_name=\"lib\",\n",
    "    target_column='bge_norm',\n",
    "    pubdate=example.pubdate,\n",
    "    top_k=10_000,\n",
    "    probes=80,\n",
    "    explain=False,\n",
    ")\n",
    "target_rank = get_index_of_target(tiny_query_results, example.citation_dois[0])\n",
    "print(f\"Rank of target doi in tiny query results: {target_rank}\")"
   ]
  },
  {
   "cell_type": "markdown",
   "metadata": {},
   "source": [
    "### Conclusions: \n",
    "- This might not be the right citation for this passage\n",
    "- The passage author only intended to cite Lamers 1981 for the relation between $\\dot{M}$ and $L$, and the HR diagram mention and further equations are throwing off embeddings\n",
    "- The OCR errors aren't helping matters"
   ]
  },
  {
   "cell_type": "code",
   "execution_count": 116,
   "metadata": {},
   "outputs": [
    {
     "name": "stdout",
     "output_type": "stream",
     "text": [
      "('Original sentence: In order to produce a catastrophe-like behavior, '\n",
      " 'Zwingmann (1987) applied a method similar to the generating function method '\n",
      " 'to the analyses.')\n",
      "('Example: In order to produce a catastrophe-like behavior,  applied a method '\n",
      " 'similar to the generating function method to the analyses.')\n",
      "Target doi: ['10.1007/BF00148523']\n",
      "2003-04-01\n"
     ]
    }
   ],
   "source": [
    "example = examples.iloc[70]\n",
    "pprint(f\"Original sentence: {example.sent_original}\")\n",
    "pprint(f\"Example: {example.sent_no_cit}\")\n",
    "print(f\"Target doi: {example.citation_dois}\")\n",
    "print(example.pubdate)"
   ]
  },
  {
   "cell_type": "markdown",
   "metadata": {},
   "source": [
    "This is the correct doi."
   ]
  },
  {
   "cell_type": "code",
   "execution_count": 117,
   "metadata": {},
   "outputs": [
    {
     "name": "stdout",
     "output_type": "stream",
     "text": [
      "('Zwingmann chunk: F(~)d3r = ~J[~*.v~i - ~ x B1) x B + (V x B) x B1)+ + p1~* '\n",
      " 'v~] d3r. (B6) bW is now rewritten to give the form of (2.8). By introducing '\n",
      " 'Euler potentials, B1 becomes B1 =Vx(~x(VcxxVfl)) = - Vc~ x V(~ Vfl) + Vf3 x '\n",
      " 'V(~ Vc~) =7~xV~f3+V&xxVf3, (B7) by using the definitions (2.6) and (2.7) for '\n",
      " '&~ and sf3. The pressure and density perturbations then give with (1.5) '\n",
      " 'pi~+~J3+p1~j-yPV/.~, (B8) ~ (B9) The terms of(2.8) can be expressed by using '\n",
      " '(B7)-(B9), and by some partial integrations 328 WOLFGANG ZWINGMANN in the '\n",
      " 'following way: J ~ + J [vi)iv.~ + ~ - ~ - I ~ &~I~ + 2 Re(~,cx ~fl*) + I '\n",
      " '~I3I~l d3r (B 10) J L3LX2 3/32 j - J ~*.((~ x B1) x B)d3r= Jda.(Bi x (~* x '\n",
      " 'B))+ J 1B112d3r, (Bil) - J ~ * ((V x B) x B1) d3r = J [~v x B) (~* V ~fl - '\n",
      " '~fl~V ~) - - p~ (~ (~ * V&z) + (~ * V5fl))] d3r, (B 12) J P~~V~d3r= ~ (B13) '\n",
      " 'These terms are combined to give ~w=-~--- ~ 2/2~ J L - (~~P ~2 + 2 -~-~- '\n",
      " \"Re(&x*~f3) + I ~flI~'~l d3r + ~p2 j] + ~ J ~ - p((~.V~)V.~* + (~*.V~)V~) - \"\n",
      " '_~IV~II2]d3r+~_JdaJBi x (~* x B)+ + B x (~*7bfl - ~/3*V~) + j~ (~ *p~ - ~ '\n",
      " '*yJ~ V* i)]. (B 14) THEORETICAL STUDY OF ONSET CONDITIONS FOR SOLAR ERUPTIVE '\n",
      " 'PROCESSES 329 The first term is ~2F (Equation (2.5)), the second term is 5Q '\n",
      " 'of (2.8) and ~S the surface term of (2.8). If no gravity effects are '\n",
      " 'present, ~Q reduces to (2.10). Otherwise, with gravity forces, Equation '\n",
      " '(2.14) follows. The different forms of ~S are given by (2.9) (without '\n",
      " 'gravity forces) and by (2.13) (including gravity forces).')\n",
      "10.1007/BF00148523\n"
     ]
    }
   ],
   "source": [
    "zwingmann_results = bge_query_results[70]\n",
    "zwingmann_top_target_result = zwingmann_results[2704]\n",
    "pprint(f\"Zwingmann chunk: {zwingmann_top_target_result.chunk}\")\n",
    "print(zwingmann_top_target_result.doi)"
   ]
  },
  {
   "cell_type": "markdown",
   "metadata": {},
   "source": [
    "This is also an OCR failure on math"
   ]
  },
  {
   "cell_type": "code",
   "execution_count": 118,
   "metadata": {},
   "outputs": [
    {
     "data": {
      "image/png": "[encoded data removed]",
      "text/plain": [
       "<IPython.core.display.Image object>"
      ]
     },
     "metadata": {},
     "output_type": "display_data"
    }
   ],
   "source": [
    "display(Image(filename=\"data/images/zwingmann.png\"))"
   ]
  },
  {
   "cell_type": "markdown",
   "metadata": {},
   "source": [
    "### Conclusion: the passage is mostly math notation, incorrectly scanned by OCR. "
   ]
  },
  {
   "cell_type": "code",
   "execution_count": 119,
   "metadata": {},
   "outputs": [
    {
     "name": "stdout",
     "output_type": "stream",
     "text": [
      "('Original sentence: Initial Discoveries of Strong Lensing Systems The first '\n",
      " 'strong lens, the double quasar 0957+561A, B, was discovered in 1979 by Walsh '\n",
      " 'et al. ( 1979 ).')\n",
      "('Example: Initial Discoveries of Strong Lensing Systems The first strong '\n",
      " 'lens, the double quasar 0957+561A, B, was discovered in 1979 by .')\n",
      "Target doi: ['10.1038/279381a0']\n",
      "2024-12-01\n"
     ]
    }
   ],
   "source": [
    "example = examples.iloc[79]\n",
    "pprint(f\"Original sentence: {example.sent_original}\")\n",
    "pprint(f\"Example: {example.sent_no_cit}\")\n",
    "print(f\"Target doi: {example.citation_dois}\")\n",
    "print(example.pubdate)"
   ]
  },
  {
   "cell_type": "markdown",
   "metadata": {},
   "source": [
    "This is the correct doi for the inline citation. It got the target doc at rank 2098. The passage refers to:\n",
    "- The double quasar 0957+561A, B\n",
    "- This is a strong lens\n",
    "- Walsh et al first discovered it"
   ]
  },
  {
   "cell_type": "code",
   "execution_count": 120,
   "metadata": {},
   "outputs": [
    {
     "name": "stdout",
     "output_type": "stream",
     "text": [
      "('The mean position of the two objects is 17 arcs from the radio position, so '\n",
      " 'the identification is necessarily tentative. Table 1 Positions and '\n",
      " 'magnitudes of 0957 + 561 A, B Object RA Dec (1950.0) MR MB0957 + 561 A 0957 '\n",
      " '+ 561B 095757.3 095757.4 +560822.9 +560816.9 17.0 17.0 16.7 17.0 '\n",
      " 'Observations The two objects 0957 + 561 A, B were observed on 29 March 1979 '\n",
      " 'at the 2.1 m telescope of the Kitt Peak National Observatory (KPNO) using '\n",
      " 'the intensified image dissector scanner (IIDS). Sky subtraction was used '\n",
      " 'with circular apertures separated by 99.4 arc s. Some observational '\n",
      " 'parameters are given in Table 2. The spectral range was divided into 1,024 '\n",
      " 'data bins, each bin 3.5 wide, and the spectral resolution was 16 A. After '\n",
      " '20-min integration on each object it was clear that both were QSOs with '\n",
      " 'almost identical spectra and redshifts of -1.40 on the basis of strong '\n",
      " 'emission lines identified as CIV ? 1549 and C ill] ? 1909. Further '\n",
      " 'observations were made on 29 March and on subsequent nights as detailed in '\n",
      " 'Table 2. By offsetting to observe empty sky a few arc seconds from one '\n",
      " 'object on both 29 and 30 March it was confirmed that any contamination of '\n",
      " 'the spectrum of one object by light from the other was negligible. On 1 '\n",
      " 'April the spectral range was altered slightly by tilting the grating to '\n",
      " 'cover the anticipated redshifted wavelength of Mg II A2798 which was just '\n",
      " 'beyond the limiting wavelength on previous nights. Fig. 1 Finding chart for '\n",
      " 'the QSOs 0957 + 561 A and B.')\n"
     ]
    }
   ],
   "source": [
    "results = bge_query_results[79]\n",
    "walsh_result = results[2098]\n",
    "pprint(walsh_result.chunk)"
   ]
  },
  {
   "cell_type": "markdown",
   "metadata": {},
   "source": [
    "The chunk directly refers to the twin quasar and observing it, but not as much to the lensing effect in this particular chunk.\n",
    "\n",
    "What was considered more semantically relevant?"
   ]
  },
  {
   "cell_type": "code",
   "execution_count": 121,
   "metadata": {},
   "outputs": [
    {
     "name": "stdout",
     "output_type": "stream",
     "text": [
      "('Rank 0 (doi 10.1088/1361-6633/ab4fc5) (distance 0.0599): Strong lensing was '\n",
      " 'discovered for the first time in 1979 by Walsh et al [ 5 ]. The background '\n",
      " 'source is a quasar, which is a very bright active galactic nucleus powered '\n",
      " 'by a supermassive black hole at the center of a galaxy. Quasars are bright '\n",
      " 'enough to be detected even at cosmological distances, and their compact '\n",
      " 'sizes suggest that their multiple images are well separated, which make them '\n",
      " 'as an ideal source for strong lensing. In the first example, the quasar '\n",
      " 'Q0957+561 at redshift z = 1.4 is split into two images separated by due to '\n",
      " 'the gravitational lensing effect of a foreground group of galaxies. The '\n",
      " 'lensing interpretation was confirmed by the identical spectra of the two '\n",
      " 'quasar images. Strong lensing of background galaxies has also been '\n",
      " 'discovered. Since galaxies are much larger in size than quasars, lensed '\n",
      " 'galaxies often form giant arcs, which are highly elongated galaxy images due '\n",
      " 'to strong lensing. Such giant arc was discovered for the first time in the '\n",
      " 'galaxy cluster A370 in the 1980s [ 6 , 7 ]. Since the first discoveries, '\n",
      " 'many strong lensing systems have been discovered in various surveys. To '\n",
      " 'date, more than 100 strongly lensed quasars have been discovered from radio '\n",
      " 'and optical surveys including Cosmic Lens All-Sky Survey [ 8 , 9 ] and Sloan '\n",
      " 'Digital Sky Survey Quasar Lens Search [ 10 – 12 ], from which evidence for '\n",
      " 'the large value of cosmological constant has been obtained [ 13 , 14 ].')\n",
      "\n",
      "('Rank 1 (doi 10.1093/mnras/stx1733) (distance 0.0693): 1 INTRODUCTION The '\n",
      " 'discovery of the first strong lens system, the twin object QSO 0957+561 '\n",
      " '(Walsh, Carswell Weymann 1979 ), heralded a new line of scientific inquiry. '\n",
      " 'Strong lenses are systems in which the light from a background object is '\n",
      " 'deflected by a foreground galaxy or group of galaxies, resulting in multiple '\n",
      " 'images of the background object. Study of the images gives unique '\n",
      " 'information about the distribution of matter in the deflector, independent '\n",
      " 'of the light it emits. This allows us to constrain galaxy mass models (e.g. '\n",
      " 'Treu Koopmans 2002 , 2003 , 2004 ; Sonnenfeld et al. 2012 , 2013 , 2015 ), '\n",
      " 'dark matter sub-structure (e.g. Mao Schneider 1998 ; Kochanek Dalal 2004 ; '\n",
      " 'Metcalf Madau 2001 ; Vegetti et al. 2012 ) and, via the lensing of '\n",
      " 'time-varying objects, the Hubble constant (e.g. Refsdal 1964b ; Kochanek '\n",
      " 'Schechter 2004 ; Suyu et al. 2014 ; Goobar et al. 2016 ). The magnification '\n",
      " 'effect of lensing also allows us to use strong lenses as cosmic telescopes, '\n",
      " 'enabling us to observe otherwise unseen objects such as quasi-stellar object '\n",
      " 'host galaxies and radio-quiet quasars (e.g. Claeskens et al. 2006 ; Jackson '\n",
      " '2011 ; Jackson et al. 2015 ). Lens systems are rare objects; typically, for '\n",
      " 'every 1000–2000 objects at high redshift, one will be multiply imaged by a '\n",
      " 'foreground deflector.')\n",
      "\n",
      "('Rank 2 (doi 10.1051/0004-6361/201832797) (distance 0.0757): 1. Introduction '\n",
      " 'Strong gravitational lenses are rare cases in which a distant galaxy or '\n",
      " 'quasar is aligned so closely with a foreground galaxy or cluster of galaxies '\n",
      " 'that the gravitational field of the foreground object creates multiple, '\n",
      " 'highly distorted images of the background object. The first strong lens was '\n",
      " 'discovered in 1979 by Walsh et al. (1979) and since then several hundred of '\n",
      " 'them have been found. When the lens is an individual galaxy and the source a '\n",
      " 'quasar, there are two, four or five distinct images of the source. The '\n",
      " 'time-delay between images, the magnification ratios between images and the '\n",
      " 'image positions can all be used to model the mass distribution of the lens '\n",
      " 'and measure cosmological parameters. When the lens is a cluster of galaxies '\n",
      " 'the images of background galaxies are multiplied and distorted into many '\n",
      " 'thin arcs. When the lens is an individual galaxy and the background source '\n",
      " 'also a galaxy, the lensed images can take the form of a partial or complete '\n",
      " 'ring seen around or through the lens galaxy, an Einstein ring. Strong lenses '\n",
      " 'have to date provided very valuable scientific information. They have been '\n",
      " 'used to study how dark matter is distributed in galaxies and clusters (e.g., '\n",
      " 'Kochanek 1991 ; Cohn et al. 2001 ; Koopmans Treu 2002 ; Rusin et al. 2003 ; '\n",
      " 'Koopmans Treu 2003 ; Wayth et al.')\n",
      "\n"
     ]
    }
   ],
   "source": [
    "for i, result in enumerate(results[:3]):\n",
    "    pprint(f\"Rank {i} (doi {result.doi}) (distance {result.distance:.4f}): {result.chunk}\")\n",
    "    print()"
   ]
  },
  {
   "cell_type": "markdown",
   "metadata": {},
   "source": [
    "All these chunks directly refer to Walsh 1979, likely contributing strong similarity (distance ~ 0.06). Notably, Walsh 1979 has a title that might be highly relevant to this passage query.\n",
    "\n",
    "Let's see what happens when we also embed the title and abstract"
   ]
  },
  {
   "cell_type": "code",
   "execution_count": 123,
   "metadata": {},
   "outputs": [
    {
     "name": "stdout",
     "output_type": "stream",
     "text": [
      "'0957+561 A, B: twin quasistellar objects or gravitational lens?'\n",
      "('Within the field of the source 0957 + 561 is a close pair of blue stellar '\n",
      " 'objects of magnitude 17 with a separation of 5.7 arc sec at redshift 1.405. '\n",
      " 'The two sources show great similarity in their spectral characteristics. A '\n",
      " 'conventional interpretation could regard as coincidence the similarity of '\n",
      " 'emission spectra, or assume that the initial conditions, age and environment '\n",
      " 'of the two quasars are practically identical. A less conventional view would '\n",
      " 'find the quasars to be two images of the same object produced by a '\n",
      " 'gravitational lens.')\n"
     ]
    }
   ],
   "source": [
    "pprint(walsh_result.title)\n",
    "pprint(walsh_result.abstract)"
   ]
  },
  {
   "cell_type": "code",
   "execution_count": 128,
   "metadata": {},
   "outputs": [],
   "source": [
    "title_chunk = f\"Title: {walsh_result.title}\\n\\nBody: {walsh_result.chunk}\"\n",
    "abstract_chunk = f\"Abstract: {walsh_result.abstract}\\n\\nBody: {walsh_result.chunk}\"\n",
    "chunk_title = f\"Body: {walsh_result.chunk}\\n\\nTitle: {walsh_result.title}\"\n",
    "chunk_abstract = f\"Body: {walsh_result.chunk}\\n\\nAbstract: {walsh_result.abstract}\"\n",
    "title_and_abstract = f\"Title: {walsh_result.title}\\n\\nAbstract: {walsh_result.abstract}\\n\\nBody: {walsh_result.chunk}\""
   ]
  },
  {
   "cell_type": "code",
   "execution_count": 130,
   "metadata": {},
   "outputs": [
    {
     "name": "stdout",
     "output_type": "stream",
     "text": [
      "('Title: 0957+561 A, B: twin quasistellar objects or gravitational lens?\\n'\n",
      " '\\n'\n",
      " 'Body: The mean position of the two objects is 17 arcs from the radio '\n",
      " 'position, so the identification is necessarily tentative. Table 1 Positions '\n",
      " 'and magnitudes of 0957 + 561 A, B Object RA Dec (1950.0) MR MB0957 + 561 A '\n",
      " '0957 + 561B 095757.3 095757.4 +560822.9 +560816.9 17.0 17.0 16.7 17.0 '\n",
      " 'Observations The two objects 0957 + 561 A, B were observed on 29 March 1979 '\n",
      " 'at the 2.1 m telescope of the Kitt Peak National Observatory (KPNO) using '\n",
      " 'the intensified image dissector scanner (IIDS). Sky subtraction was used '\n",
      " 'with circular apertures separated by 99.4 arc s. Some observational '\n",
      " 'parameters are given in Table 2. The spectral range was divided into 1,024 '\n",
      " 'data bins, each bin 3.5 wide, and the spectral resolution was 16 A. After '\n",
      " '20-min integration on each object it was clear that both were QSOs with '\n",
      " 'almost identical spectra and redshifts of -1.40 on the basis of strong '\n",
      " 'emission lines identified as CIV ? 1549 and C ill] ? 1909. Further '\n",
      " 'observations were made on 29 March and on subsequent nights as detailed in '\n",
      " 'Table 2. By offsetting to observe empty sky a few arc seconds from one '\n",
      " 'object on both 29 and 30 March it was confirmed that any contamination of '\n",
      " 'the spectrum of one object by light from the other was negligible. On 1 '\n",
      " 'April the spectral range was altered slightly by tilting the grating to '\n",
      " 'cover the anticipated redshifted wavelength of Mg II A2798 which was just '\n",
      " 'beyond the limiting wavelength on previous nights. Fig. 1 Finding chart for '\n",
      " 'the QSOs 0957 + 561 A and B.')\n"
     ]
    }
   ],
   "source": [
    "pprint(title_chunk)"
   ]
  },
  {
   "cell_type": "code",
   "execution_count": 125,
   "metadata": {},
   "outputs": [],
   "source": [
    "query_vector = bge_embedder([example.sent_no_cit])[0]"
   ]
  },
  {
   "cell_type": "code",
   "execution_count": 129,
   "metadata": {},
   "outputs": [
    {
     "name": "stdout",
     "output_type": "stream",
     "text": [
      "0.11602515\n",
      "0.12238878\n",
      "0.119539976\n",
      "0.12340659\n",
      "0.1124441\n"
     ]
    }
   ],
   "source": [
    "print(cosine_distance(query_vector, bge_embedder([title_chunk])[0]))\n",
    "print(cosine_distance(query_vector, bge_embedder([abstract_chunk])[0]))\n",
    "print(cosine_distance(query_vector, bge_embedder([chunk_title])[0]))\n",
    "print(cosine_distance(query_vector, bge_embedder([chunk_abstract])[0]))\n",
    "print(cosine_distance(query_vector, bge_embedder([title_and_abstract])[0]))"
   ]
  },
  {
   "cell_type": "markdown",
   "metadata": {},
   "source": [
    "None of these enrichments particularly do anything to get the embedding closer to the query. What about the title and abstract by themselves?"
   ]
  },
  {
   "cell_type": "code",
   "execution_count": 131,
   "metadata": {},
   "outputs": [
    {
     "name": "stdout",
     "output_type": "stream",
     "text": [
      "0.13204706\n",
      "0.11647391\n"
     ]
    }
   ],
   "source": [
    "title_only = bge_embedder([walsh_result.title])[0]\n",
    "abstract_only = bge_embedder([walsh_result.abstract])[0]\n",
    "print(cosine_distance(query_vector, title_only))\n",
    "print(cosine_distance(query_vector, abstract_only))"
   ]
  },
  {
   "cell_type": "markdown",
   "metadata": {},
   "source": [
    "Or any of the chunks from Walsh 1979?"
   ]
  },
  {
   "cell_type": "code",
   "execution_count": 132,
   "metadata": {},
   "outputs": [
    {
     "name": "stdout",
     "output_type": "stream",
     "text": [
      "14\n"
     ]
    }
   ],
   "source": [
    "walsh_chunks = [chunk[0] for chunk in db.query(\"SELECT chunk FROM lib WHERE doi = '10.1038/279381a0'\")]\n",
    "print(len(walsh_chunks))"
   ]
  },
  {
   "cell_type": "code",
   "execution_count": 133,
   "metadata": {},
   "outputs": [
    {
     "name": "stdout",
     "output_type": "stream",
     "text": [
      "Distances: [np.float32(0.14022768), np.float32(0.12455821), np.float32(0.14882791), np.float32(0.1489079), np.float32(0.14485228), np.float32(0.15837085), np.float32(0.12893093), np.float32(0.13342458), np.float32(0.12892556), np.float32(0.15016615), np.float32(0.14718091), np.float32(0.13947636), np.float32(0.12611187), np.float32(0.14071149)]\n",
      "Chunk in target doc with closest embedding distance has distance: 0.1245582103729248\n",
      "('Closest chunk: The mean position of the two objects is 17 arcs from the '\n",
      " 'radio position, so the identification is necessarily tentative. Table 1 '\n",
      " 'Positions and magnitudes of 0957 + 561 A, B Object RA Dec (1950.0) MR MB0957 '\n",
      " '+ 561 A 0957 + 561B 095757.3 095757.4 +560822.9 +560816.9 17.0 17.0 16.7 '\n",
      " '17.0 Observations The two objects 0957 + 561 A, B were observed on 29 March '\n",
      " '1979 at the 2.1 m telescope of the Kitt Peak National Observatory (KPNO) '\n",
      " 'using the intensified image dissector scanner (IIDS). Sky subtraction was '\n",
      " 'used with circular apertures separated by 99.4 arc s. Some observational '\n",
      " 'parameters are given in Table 2. The spectral range was divided into 1,024 '\n",
      " 'data bins, each bin 3.5 wide, and the spectral resolution was 16 A. After '\n",
      " '20-min integration on each object it was clear that both were QSOs with '\n",
      " 'almost identical spectra and redshifts of -1.40 on the basis of strong '\n",
      " 'emission lines identified as CIV ? 1549 and C ill] ? 1909. Further '\n",
      " 'observations were made on 29 March and on subsequent nights as detailed in '\n",
      " 'Table 2. By offsetting to observe empty sky a few arc seconds from one '\n",
      " 'object on both 29 and 30 March it was confirmed that any contamination of '\n",
      " 'the spectrum of one object by light from the other was negligible. On 1 '\n",
      " 'April the spectral range was altered slightly by tilting the grating to '\n",
      " 'cover the anticipated redshifted wavelength of Mg II A2798 which was just '\n",
      " 'beyond the limiting wavelength on previous nights. Fig. 1 Finding chart for '\n",
      " 'the QSOs 0957 + 561 A and B.')\n"
     ]
    }
   ],
   "source": [
    "walsh_embeddings = bge_embedder(walsh_chunks)\n",
    "walsh_distances = [cosine_distance(walsh_embeddings[i], query_vector) for i in range(len(walsh_embeddings))]\n",
    "print(f\"Distances: {walsh_distances}\")\n",
    "closest = min(walsh_distances)\n",
    "print(f\"Chunk in target doc with closest embedding distance has distance: {closest}\")\n",
    "closest_idx = walsh_distances.index(closest)\n",
    "pprint(f\"Closest chunk: {walsh_chunks[closest_idx]}\")"
   ]
  },
  {
   "cell_type": "markdown",
   "metadata": {},
   "source": [
    "Here we see that the closest chunk from the target doc has a cosine distance of 0.1246, not that close, even though the passage is laying out original observations of the double quasar in question rather than citing others' work on the matter. Could an NLI mode have performed better?\n",
    "\n",
    "### Conclusion: the embedding model found many other articles that also cited the same source with naturally similar semantic content. Perhaps an NLI reranker would have done the job"
   ]
  },
  {
   "cell_type": "code",
   "execution_count": null,
   "metadata": {},
   "outputs": [],
   "source": []
  }
 ],
 "metadata": {
  "kernelspec": {
   "display_name": "citeline",
   "language": "python",
   "name": "python3"
  },
  "language_info": {
   "codemirror_mode": {
    "name": "ipython",
    "version": 3
   },
   "file_extension": ".py",
   "mimetype": "text/x-python",
   "name": "python",
   "nbconvert_exporter": "python",
   "pygments_lexer": "ipython3",
   "version": "3.11.10"
  }
 },
 "nbformat": 4,
 "nbformat_minor": 2
}
