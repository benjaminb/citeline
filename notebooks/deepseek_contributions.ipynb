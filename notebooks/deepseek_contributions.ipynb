{
 "cells": [
  {
   "cell_type": "code",
   "execution_count": 2,
   "id": "179ca479",
   "metadata": {},
   "outputs": [
    {
     "name": "stdout",
     "output_type": "stream",
     "text": [
      "{\n",
      "    \"greeting\": \"Hello!\",\n",
      "    \"farewell\": \"Goodbye!\"\n",
      "}\n"
     ]
    }
   ],
   "source": [
    "from openai import OpenAI\n",
    "import os\n",
    "\n",
    "\n",
    "client = OpenAI(api_key=os.getenv(\"DEEPSEEK_API_KEY\"), base_url=\"https://api.deepseek.com\")\n",
    "\n",
    "response = client.chat.completions.create(\n",
    "    model=\"deepseek-chat\",\n",
    "    messages=[\n",
    "        {\"role\": \"system\", \"content\": \"You are a helpful assistant\"},\n",
    "        {\"role\": \"user\", \"content\": \"Hello, respond in JSON format with keys 'greeting' and 'farewell'.\"},\n",
    "    ],\n",
    "    stream=False,\n",
    "    response_format={\"type\": \"json_object\"},\n",
    ")\n",
    "\n",
    "print(response.choices[0].message.content)"
   ]
  },
  {
   "cell_type": "code",
   "execution_count": 4,
   "id": "1abec46d",
   "metadata": {},
   "outputs": [
    {
     "name": "stdout",
     "output_type": "stream",
     "text": [
      "<class 'str'>\n",
      "{'greeting': 'Hello!', 'farewell': 'Goodbye!'}\n",
      "<class 'dict'>\n"
     ]
    }
   ],
   "source": [
    "print(type(response.choices[0].message.content))\n",
    "import json\n",
    "data = json.loads(response.choices[0].message.content)\n",
    "print(data)\n",
    "print(type(data))"
   ]
  },
  {
   "cell_type": "code",
   "execution_count": null,
   "id": "bf348001",
   "metadata": {},
   "outputs": [],
   "source": [
    "from langchain_deepseek import ChatDeepSeek\n",
    "from langchain_core.messages import SystemMessage\n",
    "from citeline.llm.models import Findings\n",
    "\n",
    "deepseek_llm = ChatDeepSeek(model=\"deepseek-chat\", temperature=0.0, max_retries=2).with_structured_output(\n",
    "    Findings, method=\"json_mode\", strict=True\n",
    ")\n",
    "with open(\"../src/citeline/llm/prompts/original_contributions_revised.txt\", \"r\") as f:\n",
    "    prompt_template = f.read()"
   ]
  }
 ],
 "metadata": {
  "kernelspec": {
   "display_name": "citeline",
   "language": "python",
   "name": "python3"
  },
  "language_info": {
   "codemirror_mode": {
    "name": "ipython",
    "version": 3
   },
   "file_extension": ".py",
   "mimetype": "text/x-python",
   "name": "python",
   "nbconvert_exporter": "python",
   "pygments_lexer": "ipython3",
   "version": "3.11.10"
  }
 },
 "nbformat": 4,
 "nbformat_minor": 5
}
