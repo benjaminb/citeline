{
 "cells": [
  {
   "cell_type": "code",
   "execution_count": 1,
   "id": "f73156d8",
   "metadata": {},
   "outputs": [],
   "source": [
    "import pandas as pd\n",
    "\n",
    "def remove_ref_tokens(df):\n",
    "    df['sent_cit_masked'] = df['sent_no_cit'] # copy the sentence with [REF] citation masks\n",
    "    df[\"sent_no_cit\"] = df[\"sent_no_cit\"].str.replace(r\"\\[REF\\]\", \"\", regex=True)\n",
    "    return df"
   ]
  },
  {
   "cell_type": "code",
   "execution_count": 3,
   "id": "9c37188b",
   "metadata": {},
   "outputs": [
    {
     "name": "stdout",
     "output_type": "stream",
     "text": [
      "['data/dataset/nontrivial_100.jsonl', 'data/dataset/nontrivial_llm.jsonl', 'data/dataset/nontrivial_10.jsonl', 'data/dataset/nontrivial_checked.jsonl', 'data/dataset/trivial_llm.jsonl', 'data/dataset/nontrivial_filtered.jsonl', 'data/dataset/split/small_train.jsonl', 'data/dataset/split/nontrivial_100.jsonl']\n"
     ]
    }
   ],
   "source": [
    "import glob\n",
    "import os\n",
    "\n",
    "datasets = glob.glob(os.path.join(\"data/dataset\", \"**/*.jsonl\"), recursive=True)\n",
    "print(datasets)"
   ]
  },
  {
   "cell_type": "code",
   "execution_count": 6,
   "id": "e9556397",
   "metadata": {},
   "outputs": [
    {
     "data": {
      "text/plain": [
       "0    (), do show unusual, faint features in their s...\n",
       "1     studied the dust emission at 450 μm in the ga...\n",
       "2    The momentum per unit mass of stars formed del...\n",
       "3    An example of the latter is the dormant blue s...\n",
       "4     (see also  for further developments) compute ...\n",
       "5    Overall, these results are consistent with the...\n",
       "6    This mechanism has found favor in the radio-lo...\n",
       "7    However, the complementary application of usin...\n",
       "8    A recent survey of transmission spectra (  ) s...\n",
       "9    It has been posited (  ) that the transition b...\n",
       "Name: sent_no_cit, dtype: object"
      ]
     },
     "execution_count": 6,
     "metadata": {},
     "output_type": "execute_result"
    }
   ],
   "source": [
    "test_df = pd.read_json('data/dataset/nontrivial_100.jsonl', lines=True)\n",
    "test_df = remove_ref_tokens(test_df)\n",
    "test_df.sent_no_cit[:10]"
   ]
  },
  {
   "cell_type": "code",
   "execution_count": 7,
   "id": "f0de5f6f",
   "metadata": {},
   "outputs": [],
   "source": [
    "for dataset in datasets:\n",
    "    df = pd.read_json(dataset, lines=True)\n",
    "    df = remove_ref_tokens(df)\n",
    "    df.to_json(dataset, lines=True, orient='records')"
   ]
  },
  {
   "cell_type": "code",
   "execution_count": 8,
   "id": "c68300f5",
   "metadata": {},
   "outputs": [],
   "source": [
    "# Check that for every dataset, for every line, the 'sent_no_cit' columns has not '[REF]'\n",
    "for dataset in datasets:\n",
    "    df = pd.read_json(dataset, lines=True)\n",
    "    assert not df['sent_no_cit'].str.contains(r\"\\[REF\\]\").any(), f\"[REF] found in {dataset}\""
   ]
  },
  {
   "cell_type": "code",
   "execution_count": null,
   "id": "15f9cf00",
   "metadata": {},
   "outputs": [],
   "source": []
  }
 ],
 "metadata": {
  "kernelspec": {
   "display_name": "citeline",
   "language": "python",
   "name": "python3"
  },
  "language_info": {
   "codemirror_mode": {
    "name": "ipython",
    "version": 3
   },
   "file_extension": ".py",
   "mimetype": "text/x-python",
   "name": "python",
   "nbconvert_exporter": "python",
   "pygments_lexer": "ipython3",
   "version": "3.11.10"
  }
 },
 "nbformat": 4,
 "nbformat_minor": 5
}
