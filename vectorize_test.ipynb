{
 "cells": [
  {
   "cell_type": "code",
   "execution_count": 1,
   "metadata": {},
   "outputs": [],
   "source": [
    "import torch\n",
    "import torch.nn.functional as F\n",
    "\n",
    "from torch import Tensor\n",
    "from transformers import AutoTokenizer, AutoModel"
   ]
  },
  {
   "cell_type": "code",
   "execution_count": 34,
   "metadata": {},
   "outputs": [
    {
     "name": "stdout",
     "output_type": "stream",
     "text": [
      "Using device: mps\n"
     ]
    }
   ],
   "source": [
    "# For encoder models only. Sets the index where the classification token is located.\n",
    "CLASSIFICATION_TOKEN_INDEX = {\n",
    "    'BAAI/bge-en-icl': -1,\n",
    "}\n",
    "DEVICE = 'cuda' if torch.cuda.is_available() else 'mps' if torch.mps.is_available() else 'cpu'\n",
    "print(f'Using device: {DEVICE}')"
   ]
  },
  {
   "cell_type": "code",
   "execution_count": 35,
   "metadata": {},
   "outputs": [
    {
     "data": {
      "application/vnd.jupyter.widget-view+json": {
       "model_id": "db9297a0b82b4c309f49d1a847473287",
       "version_major": 2,
       "version_minor": 0
      },
      "text/plain": [
       "Loading checkpoint shards:   0%|          | 0/3 [00:00<?, ?it/s]"
      ]
     },
     "metadata": {},
     "output_type": "display_data"
    },
    {
     "name": "stdout",
     "output_type": "stream",
     "text": [
      "Model loaded on mps:0\n",
      "cls_index: -1\n"
     ]
    }
   ],
   "source": [
    "model_checkpoint = 'BAAI/bge-en-icl'\n",
    "\n",
    "tokenizer = AutoTokenizer.from_pretrained(model_checkpoint)\n",
    "model = AutoModel.from_pretrained(model_checkpoint).to(DEVICE)\n",
    "cls_index = CLASSIFICATION_TOKEN_INDEX[model_checkpoint]\n",
    "model.eval()\n",
    "print(f\"Model loaded on {model.device}\")\n",
    "print(f\"cls_index: {cls_index}\")"
   ]
  },
  {
   "cell_type": "code",
   "execution_count": 31,
   "metadata": {},
   "outputs": [],
   "source": [
    "def vectorize(texts: list[str], tokenizer: AutoTokenizer, model: AutoModel, cls_idx: int) -> Tensor:\n",
    "    inputs = tokenizer(texts, return_tensors='pt', padding=True, truncation=True, device=DEVICE)\n",
    "    with torch.no_grad():\n",
    "        return model(**inputs).last_hidden_state[:, cls_index, :]"
   ]
  },
  {
   "cell_type": "code",
   "execution_count": 32,
   "metadata": {},
   "outputs": [],
   "source": [
    "vectors = vectorize(texts=['a', 'hello, world'],\n",
    "                    tokenizer=tokenizer,\n",
    "                    model=model,\n",
    "                    cls_idx=cls_index)"
   ]
  },
  {
   "cell_type": "code",
   "execution_count": 38,
   "metadata": {},
   "outputs": [
    {
     "name": "stdout",
     "output_type": "stream",
     "text": [
      "torch.Size([2, 6, 4096])\n",
      "tensor([[-1.5674,  0.2064,  1.0076,  ...,  2.1652, -3.0944,  0.3509],\n",
      "        [ 2.3507, -1.0540, -0.8063,  ..., -0.2687,  0.7767,  0.5697]],\n",
      "       device='mps:0')\n"
     ]
    }
   ],
   "source": [
    "text = ['a', 'hello, world']\n",
    "inputs = tokenizer(text, return_tensors='pt', padding=True, truncation=True).to(DEVICE)\n",
    "with torch.no_grad():\n",
    "    outputs = model(**inputs).last_hidden_state\n",
    "print(outputs.shape)\n",
    "print(outputs[:, -1, ])"
   ]
  },
  {
   "cell_type": "code",
   "execution_count": 44,
   "metadata": {},
   "outputs": [
    {
     "data": {
      "text/plain": [
       "tensor(228.9328)"
      ]
     },
     "execution_count": 44,
     "metadata": {},
     "output_type": "execute_result"
    }
   ],
   "source": [
    "torch.norm(vectors[1], p=2)"
   ]
  },
  {
   "cell_type": "code",
   "execution_count": null,
   "metadata": {},
   "outputs": [],
   "source": []
  }
 ],
 "metadata": {
  "kernelspec": {
   "display_name": "hf",
   "language": "python",
   "name": "python3"
  },
  "language_info": {
   "codemirror_mode": {
    "name": "ipython",
    "version": 3
   },
   "file_extension": ".py",
   "mimetype": "text/x-python",
   "name": "python",
   "nbconvert_exporter": "python",
   "pygments_lexer": "ipython3",
   "version": "3.11.10"
  }
 },
 "nbformat": 4,
 "nbformat_minor": 2
}
