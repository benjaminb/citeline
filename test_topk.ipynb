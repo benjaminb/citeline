{
 "cells": [
  {
   "cell_type": "code",
   "execution_count": 3,
   "id": "ae640846",
   "metadata": {},
   "outputs": [
    {
     "name": "stdout",
     "output_type": "stream",
     "text": [
      "Executing query:\n",
      "\n",
      "                -- SET synchronous_commit = 'off';\n",
      "                SET maintenance_work_mem = '1GB';\n",
      "                -- SET random_page_cost = '1.1';\n",
      "                -- SET parallel_tuple_cost = '0.1';\n",
      "                -- SET parallel_setup_cost = '1000';\n",
      "                SET max_parallel_workers = 10;\n",
      "                SET work_mem = '4.0GB';\n",
      "                SET max_parallel_workers_per_gather = 10;\n",
      "                SET effective_cache_size = '64GB';\n",
      "            \n"
     ]
    }
   ],
   "source": [
    "import pandas as pd\n",
    "from database.database import Database\n",
    "from Embedders import get_embedder\n",
    "\n",
    "\n",
    "db = Database()\n",
    "db.set_session_resources(optimize_for=\"query\", verbose=True)"
   ]
  },
  {
   "cell_type": "code",
   "execution_count": 4,
   "id": "2ebc1b72",
   "metadata": {},
   "outputs": [
    {
     "data": {
      "text/html": [
       "<div>\n",
       "<style scoped>\n",
       "    .dataframe tbody tr th:only-of-type {\n",
       "        vertical-align: middle;\n",
       "    }\n",
       "\n",
       "    .dataframe tbody tr th {\n",
       "        vertical-align: top;\n",
       "    }\n",
       "\n",
       "    .dataframe thead th {\n",
       "        text-align: right;\n",
       "    }\n",
       "</style>\n",
       "<table border=\"1\" class=\"dataframe\">\n",
       "  <thead>\n",
       "    <tr style=\"text-align: right;\">\n",
       "      <th></th>\n",
       "      <th>source_doi</th>\n",
       "      <th>sent_original</th>\n",
       "      <th>sent_no_cit</th>\n",
       "      <th>sent_idx</th>\n",
       "      <th>citation_dois</th>\n",
       "      <th>pubdate</th>\n",
       "      <th>resolved_bibcodes</th>\n",
       "    </tr>\n",
       "  </thead>\n",
       "  <tbody>\n",
       "    <tr>\n",
       "      <th>0</th>\n",
       "      <td>10.1016/j.newar.2024.101694</td>\n",
       "      <td>Subsequently, Andrews et al. (2017) selected a...</td>\n",
       "      <td>Subsequently, [REF] selected a wide binary can...</td>\n",
       "      <td>58</td>\n",
       "      <td>[10.1093/mnras/stx2000]</td>\n",
       "      <td>2024-06-01</td>\n",
       "      <td>[2017MNRAS.472..675A]</td>\n",
       "    </tr>\n",
       "    <tr>\n",
       "      <th>1</th>\n",
       "      <td>10.1016/j.newar.2024.101694</td>\n",
       "      <td>Andrews et al. (2017) investigated how the sep...</td>\n",
       "      <td>[REF] investigated how the separation of their...</td>\n",
       "      <td>61</td>\n",
       "      <td>[10.1093/mnras/stx2000]</td>\n",
       "      <td>2024-06-01</td>\n",
       "      <td>[2017MNRAS.472..675A]</td>\n",
       "    </tr>\n",
       "    <tr>\n",
       "      <th>2</th>\n",
       "      <td>10.1016/j.newar.2024.101694</td>\n",
       "      <td>This led Andrews et al. (2017) to conclude tha...</td>\n",
       "      <td>This led [REF] to conclude that most of the pa...</td>\n",
       "      <td>64</td>\n",
       "      <td>[10.1093/mnras/stx2000]</td>\n",
       "      <td>2024-06-01</td>\n",
       "      <td>[2017MNRAS.472..675A]</td>\n",
       "    </tr>\n",
       "    <tr>\n",
       "      <th>3</th>\n",
       "      <td>10.1016/j.newar.2024.101694</td>\n",
       "      <td>It may also owe in part to the mass ratio dist...</td>\n",
       "      <td>It may also owe in part to the mass ratio dist...</td>\n",
       "      <td>90</td>\n",
       "      <td>[10.1093/mnras/stz2480]</td>\n",
       "      <td>2024-06-01</td>\n",
       "      <td>[2019MNRAS.489.5822E]</td>\n",
       "    </tr>\n",
       "    <tr>\n",
       "      <th>4</th>\n",
       "      <td>10.1016/j.newar.2024.101694</td>\n",
       "      <td>Hwang et al. (2022c) used a related method to ...</td>\n",
       "      <td>[REF] used a related method to study the eccen...</td>\n",
       "      <td>110</td>\n",
       "      <td>[10.3847/2041-8213/ac7c70]</td>\n",
       "      <td>2024-06-01</td>\n",
       "      <td>[2022ApJ...933L..32H]</td>\n",
       "    </tr>\n",
       "  </tbody>\n",
       "</table>\n",
       "</div>"
      ],
      "text/plain": [
       "                    source_doi  \\\n",
       "0  10.1016/j.newar.2024.101694   \n",
       "1  10.1016/j.newar.2024.101694   \n",
       "2  10.1016/j.newar.2024.101694   \n",
       "3  10.1016/j.newar.2024.101694   \n",
       "4  10.1016/j.newar.2024.101694   \n",
       "\n",
       "                                       sent_original  \\\n",
       "0  Subsequently, Andrews et al. (2017) selected a...   \n",
       "1  Andrews et al. (2017) investigated how the sep...   \n",
       "2  This led Andrews et al. (2017) to conclude tha...   \n",
       "3  It may also owe in part to the mass ratio dist...   \n",
       "4  Hwang et al. (2022c) used a related method to ...   \n",
       "\n",
       "                                         sent_no_cit  sent_idx  \\\n",
       "0  Subsequently, [REF] selected a wide binary can...        58   \n",
       "1  [REF] investigated how the separation of their...        61   \n",
       "2  This led [REF] to conclude that most of the pa...        64   \n",
       "3  It may also owe in part to the mass ratio dist...        90   \n",
       "4  [REF] used a related method to study the eccen...       110   \n",
       "\n",
       "                citation_dois     pubdate      resolved_bibcodes  \n",
       "0     [10.1093/mnras/stx2000]  2024-06-01  [2017MNRAS.472..675A]  \n",
       "1     [10.1093/mnras/stx2000]  2024-06-01  [2017MNRAS.472..675A]  \n",
       "2     [10.1093/mnras/stx2000]  2024-06-01  [2017MNRAS.472..675A]  \n",
       "3     [10.1093/mnras/stz2480]  2024-06-01  [2019MNRAS.489.5822E]  \n",
       "4  [10.3847/2041-8213/ac7c70]  2024-06-01  [2022ApJ...933L..32H]  "
      ]
     },
     "execution_count": 4,
     "metadata": {},
     "output_type": "execute_result"
    }
   ],
   "source": [
    "samples = pd.read_json('data/dataset/nontrivial_llm.jsonl', lines=True)\n",
    "samples.head()"
   ]
  },
  {
   "cell_type": "code",
   "execution_count": 9,
   "id": "768c37bf",
   "metadata": {},
   "outputs": [
    {
     "name": "stdout",
     "output_type": "stream",
     "text": [
      "<class 'pandas.core.series.Series'>\n",
      "Subsequently, [REF] selected a wide binary candidate sample from TGAS with an emphasis on purity, using a Bayesian method to calculate the probability that a given pair of stars is gravitationally bound.\n",
      "2024-06-01\n"
     ]
    }
   ],
   "source": [
    "example_1 = samples.iloc[0]\n",
    "print(type(example_1))\n",
    "\n",
    "query_text = example_1['sent_no_cit']\n",
    "print(query_text)\n",
    "print(example_1['pubdate'])"
   ]
  },
  {
   "cell_type": "code",
   "execution_count": 20,
   "id": "ebf1ee18",
   "metadata": {},
   "outputs": [
    {
     "name": "stdout",
     "output_type": "stream",
     "text": [
      "Vector shape: (384,)\n",
      "Results: 10\n"
     ]
    }
   ],
   "source": [
    "embedder = get_embedder(\"BAAI/bge-small-en\", device=\"mps\", normalize=True)\n",
    "query_vector = embedder([query_text])[0]\n",
    "print(f\"Vector shape: {query_vector.shape}\")\n",
    "\n",
    "# Get top 10 most similar docs\n",
    "results = db.query_vector_column(\n",
    "    query_vector=query_vector,\n",
    "    table_name=\"lib\",\n",
    "    target_column=\"bge_norm\",\n",
    "    metric=\"vector_cosine_ops\",\n",
    "    pubdate=example_1['pubdate'],\n",
    "    top_k=10,\n",
    "    ef_search=40\n",
    ")\n",
    "print(f\"Results: {len(results)}\")"
   ]
  },
  {
   "cell_type": "code",
   "execution_count": 21,
   "id": "2ac5ce46",
   "metadata": {},
   "outputs": [
    {
     "name": "stdout",
     "output_type": "stream",
     "text": [
      "Target doi(s): {'10.1093/mnras/stx2000'}\n",
      "Retrieved doi(s): {'10.1093/mnras/stx2000', '10.1086/381483', '10.1093/mnras/stz2480', '10.1111/j.1365-2966.2010.16896.x', '10.1088/0004-637X/738/1/79', '10.1093/mnras/stab323'}\n",
      "Target in retrieved set?: True\n"
     ]
    }
   ],
   "source": [
    "target_dois = set(example_1['citation_dois'])\n",
    "print(f\"Target doi(s): {target_dois}\")\n",
    "\n",
    "retrieved_dois = set([r.doi for r in results])\n",
    "print(f\"Retrieved doi(s): {retrieved_dois}\")\n",
    "\n",
    "print(f\"Target in retrieved set?: {target_dois.issubset(retrieved_dois)}\")"
   ]
  },
  {
   "cell_type": "code",
   "execution_count": 22,
   "id": "38d500b3",
   "metadata": {},
   "outputs": [
    {
     "name": "stdout",
     "output_type": "stream",
     "text": [
      "['10.1093/mnras/stab323', '10.1093/mnras/stx2000', '10.1086/381483', '10.1093/mnras/stx2000', '10.1093/mnras/stz2480', '10.1093/mnras/stx2000', '10.1093/mnras/stx2000', '10.1088/0004-637X/738/1/79', '10.1093/mnras/stx2000', '10.1111/j.1365-2966.2010.16896.x']\n"
     ]
    }
   ],
   "source": [
    "print([results.doi for results in results])"
   ]
  },
  {
   "cell_type": "code",
   "execution_count": null,
   "id": "62cc0762",
   "metadata": {},
   "outputs": [],
   "source": []
  }
 ],
 "metadata": {
  "kernelspec": {
   "display_name": "citeline",
   "language": "python",
   "name": "python3"
  },
  "language_info": {
   "codemirror_mode": {
    "name": "ipython",
    "version": 3
   },
   "file_extension": ".py",
   "mimetype": "text/x-python",
   "name": "python",
   "nbconvert_exporter": "python",
   "pygments_lexer": "ipython3",
   "version": "3.11.10"
  }
 },
 "nbformat": 4,
 "nbformat_minor": 5
}
