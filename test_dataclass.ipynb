{
 "cells": [
  {
   "cell_type": "code",
   "execution_count": 1,
   "id": "2d314343",
   "metadata": {},
   "outputs": [],
   "source": [
    "from dataclasses import asdict, dataclass\n",
    "from database.database import VectorSearchResult\n",
    "import pandas as pd\n",
    "\n",
    "df = pd.read_json('data/dataset/split/small_train.jsonl', lines=True)\n",
    "\n",
    "@dataclass\n",
    "class QueryResult:\n",
    "    query: pd.Series\n",
    "    results: list[dict]\n",
    "\n"
   ]
  },
  {
   "cell_type": "code",
   "execution_count": 3,
   "id": "f260ceae",
   "metadata": {},
   "outputs": [
    {
     "data": {
      "text/plain": [
       "pandas.core.series.Series"
      ]
     },
     "execution_count": 3,
     "metadata": {},
     "output_type": "execute_result"
    }
   ],
   "source": [
    "record = df.iloc[0]\n",
    "type(record)"
   ]
  },
  {
   "cell_type": "code",
   "execution_count": 5,
   "id": "912e8df4",
   "metadata": {},
   "outputs": [],
   "source": [
    "# create some dummy VectorSearchResult objects\n",
    "results = [\n",
    "    VectorSearchResult(text=\"foo\", doi=\"abc\", pubdate=\"2023-01-01\", distance=0.15),\n",
    "    VectorSearchResult(text=\"bar\", doi=\"def\", pubdate=\"2023-01-02\", distance=0.25),\n",
    "    VectorSearchResult(text=\"baz\", doi=\"ghi\", pubdate=\"2023-01-03\", distance=0.35)\n",
    "]\n",
    "\n",
    "results_as_dicts = [asdict(result) for result in results]"
   ]
  },
  {
   "cell_type": "code",
   "execution_count": 6,
   "id": "630ecccd",
   "metadata": {},
   "outputs": [
    {
     "name": "stdout",
     "output_type": "stream",
     "text": [
      "QueryResult(query=source_doi                      10.1146/annurev.astro.46.060407.145222\n",
      "sent_original        It is unclear whether the solution can be foun...\n",
      "sent_no_cit          It is unclear whether the solution can be foun...\n",
      "sent_idx                                                           541\n",
      "citation_dois                       [10.1111/j.1365-2966.2009.14750.x]\n",
      "pubdate                                                     2009-09-01\n",
      "resolved_bibcodes                                [2009MNRAS.396..203S]\n",
      "Name: 0, dtype: object, results=[{'text': 'foo', 'doi': 'abc', 'pubdate': '2023-01-01', 'distance': 0.15}, {'text': 'bar', 'doi': 'def', 'pubdate': '2023-01-02', 'distance': 0.25}, {'text': 'baz', 'doi': 'ghi', 'pubdate': '2023-01-03', 'distance': 0.35}])\n"
     ]
    }
   ],
   "source": [
    "qr = QueryResult(query=record, results=results_as_dicts)\n",
    "print(qr)"
   ]
  },
  {
   "cell_type": "code",
   "execution_count": 9,
   "id": "30611eb7",
   "metadata": {},
   "outputs": [
    {
     "name": "stdout",
     "output_type": "stream",
     "text": [
      "query:\n",
      "\tsource_doi                      10.1146/annurev.astro.46.060407.145222\n",
      "sent_original        It is unclear whether the solution can be foun...\n",
      "sent_no_cit          It is unclear whether the solution can be foun...\n",
      "sent_idx                                                           541\n",
      "citation_dois                       [10.1111/j.1365-2966.2009.14750.x]\n",
      "pubdate                                                     2009-09-01\n",
      "resolved_bibcodes                                [2009MNRAS.396..203S]\n",
      "Name: 0, dtype: object\n",
      "results:\n",
      "\t[{'text': 'foo', 'doi': 'abc', 'pubdate': '2023-01-01', 'distance': 0.15}, {'text': 'bar', 'doi': 'def', 'pubdate': '2023-01-02', 'distance': 0.25}, {'text': 'baz', 'doi': 'ghi', 'pubdate': '2023-01-03', 'distance': 0.35}]\n"
     ]
    }
   ],
   "source": [
    "for key, value in asdict(qr).items():\n",
    "    print(f\"{key}:\\n\\t{value}\")\n"
   ]
  },
  {
   "cell_type": "code",
   "execution_count": 13,
   "id": "5864f3f7",
   "metadata": {},
   "outputs": [
    {
     "name": "stdout",
     "output_type": "stream",
     "text": [
      "                                               query     text_results  \\\n",
      "0  It is unclear whether the solution can be foun...  [foo, bar, baz]   \n",
      "\n",
      "       doi_results                       pubdate_results    distance_results  \n",
      "0  [abc, def, ghi]  [2023-01-01, 2023-01-02, 2023-01-03]  [0.15, 0.25, 0.35]  \n"
     ]
    }
   ],
   "source": [
    "# Create a DataFrame equivalent to the QueryResult\n",
    "qr_df = pd.DataFrame({\n",
    "    'query': [record.sent_original],\n",
    "    'text_results': [[result['text'] for result in qr.results]],\n",
    "    'doi_results': [[result['doi'] for result in qr.results]],\n",
    "    'pubdate_results': [[result['pubdate'] for result in qr.results]],\n",
    "    'distance_results': [[result['distance'] for result in qr.results]],\n",
    "})\n",
    "print(qr_df)"
   ]
  },
  {
   "cell_type": "code",
   "execution_count": null,
   "id": "8b5c35cf",
   "metadata": {},
   "outputs": [],
   "source": []
  }
 ],
 "metadata": {
  "kernelspec": {
   "display_name": "citeline",
   "language": "python",
   "name": "python3"
  },
  "language_info": {
   "codemirror_mode": {
    "name": "ipython",
    "version": 3
   },
   "file_extension": ".py",
   "mimetype": "text/x-python",
   "name": "python",
   "nbconvert_exporter": "python",
   "pygments_lexer": "ipython3",
   "version": "3.11.10"
  }
 },
 "nbformat": 4,
 "nbformat_minor": 5
}
