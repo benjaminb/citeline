{
 "cells": [
  {
   "cell_type": "markdown",
   "metadata": {},
   "source": [
    "## Create client"
   ]
  },
  {
   "cell_type": "code",
   "execution_count": 1,
   "metadata": {},
   "outputs": [],
   "source": [
    "import cohere\n",
    "import os\n",
    "from dotenv import load_dotenv\n",
    "\n",
    "# Load environment variables from .env file\n",
    "load_dotenv()\n",
    "\n",
    "client = cohere.ClientV2(os.getenv(\"COHERE_API_KEY\"))"
   ]
  },
  {
   "cell_type": "markdown",
   "metadata": {},
   "source": [
    "## Get the query string "
   ]
  },
  {
   "cell_type": "code",
   "execution_count": 31,
   "metadata": {},
   "outputs": [
    {
     "name": "stdout",
     "output_type": "stream",
     "text": [
      "('Query: The work of  suggests a fundamental distinction in elemental '\n",
      " 'abundances between closed and open magnetic structures, matching the nominal '\n",
      " 'photospheric and coronal abundances, respectively.')\n",
      "'Query pubdate: 1992-01-01'\n",
      "'Target DOI: 10.1086/167871'\n"
     ]
    }
   ],
   "source": [
    "import pandas as pd\n",
    "from pprint import pprint\n",
    "\n",
    "# Load the dataset\n",
    "df = pd.read_json(\"data/dataset/100/nontrivial.jsonl\", lines=True)\n",
    "query = df.iloc[29].sent_no_cit\n",
    "query_pubdate = df.iloc[29].pubdate\n",
    "target_doi = df.iloc[29].citation_dois[0]\n",
    "pprint(f\"Query: {query}\")\n",
    "pprint(f\"Query pubdate: {query_pubdate}\")\n",
    "pprint(f\"Target DOI: {target_doi}\")\n"
   ]
  },
  {
   "cell_type": "markdown",
   "metadata": {},
   "source": [
    "## Get the documents to be reranked"
   ]
  },
  {
   "cell_type": "code",
   "execution_count": 32,
   "metadata": {},
   "outputs": [
    {
     "name": "stdout",
     "output_type": "stream",
     "text": [
      "=================================CONFIG=================================\n",
      "Database         User             Host                             Port            \n",
      "citeline_db      bbasseri         localhost                        5432            \n",
      "========================================================================\n",
      "Database version: ('PostgreSQL 17.3 (Homebrew) on x86_64-apple-darwin23.6.0, compiled by Apple clang version 16.0.0 (clang-1600.0.26.6), 64-bit',)\n",
      "Vector shape: (384,)\n"
     ]
    }
   ],
   "source": [
    "from database.database import Database\n",
    "from Embedders import get_embedder\n",
    "\n",
    "\n",
    "db = Database()\n",
    "db.test_connection()\n",
    "\n",
    "embedder = get_embedder(model_name='BAAI/bge-small-en', device='mps', normalize=True)\n",
    "query_vector = embedder([query])[0]\n",
    "print(f\"Vector shape: {query_vector.shape}\")"
   ]
  },
  {
   "cell_type": "code",
   "execution_count": 33,
   "metadata": {},
   "outputs": [
    {
     "name": "stdout",
     "output_type": "stream",
     "text": [
      "Got 10000 results\n"
     ]
    }
   ],
   "source": [
    "results = db.query_vector_column(\n",
    "    query_vector=query_vector,\n",
    "    table_name='lib',\n",
    "    target_column='bge_norm',\n",
    "    pubdate=query_pubdate,\n",
    "    top_k=10000,\n",
    ")\n",
    "print(f\"Got {len(results)} results\")"
   ]
  },
  {
   "cell_type": "code",
   "execution_count": 35,
   "metadata": {},
   "outputs": [
    {
     "name": "stdout",
     "output_type": "stream",
     "text": [
      "Target found: True\n",
      "Index of target DOI: 32\n"
     ]
    }
   ],
   "source": [
    "result_dois = [r.doi for r in results]\n",
    "print(f\"Target found: {target_doi in result_dois}\")\n",
    "print(f\"Index of target DOI: {result_dois.index(target_doi)}\")"
   ]
  },
  {
   "cell_type": "code",
   "execution_count": 37,
   "metadata": {},
   "outputs": [
    {
     "name": "stdout",
     "output_type": "stream",
     "text": [
      "33\n"
     ]
    }
   ],
   "source": [
    "# Get the top results to be reranked\n",
    "top_results = results[:33]\n",
    "docs = [r.chunk for r in top_results]\n",
    "print(len(docs))"
   ]
  },
  {
   "cell_type": "code",
   "execution_count": 38,
   "metadata": {},
   "outputs": [],
   "source": [
    "co_results = client.rerank(model=\"rerank-v3.5\", query=query, documents=docs, top_n=33)"
   ]
  },
  {
   "cell_type": "code",
   "execution_count": 42,
   "metadata": {},
   "outputs": [
    {
     "name": "stdout",
     "output_type": "stream",
     "text": [
      "0 document=None index=7 relevance_score=0.56661874\n",
      "1 document=None index=3 relevance_score=0.40147716\n",
      "2 document=None index=10 relevance_score=0.39173222\n",
      "3 document=None index=6 relevance_score=0.3538082\n",
      "4 document=None index=0 relevance_score=0.3502663\n",
      "5 document=None index=12 relevance_score=0.32830378\n",
      "6 document=None index=15 relevance_score=0.24564147\n",
      "7 document=None index=27 relevance_score=0.2372316\n",
      "8 document=None index=9 relevance_score=0.22942336\n",
      "9 document=None index=13 relevance_score=0.22553639\n",
      "10 document=None index=32 relevance_score=0.22364864\n",
      "11 document=None index=25 relevance_score=0.21650848\n",
      "12 document=None index=19 relevance_score=0.1980335\n",
      "13 document=None index=4 relevance_score=0.18643583\n",
      "14 document=None index=20 relevance_score=0.14317599\n",
      "15 document=None index=2 relevance_score=0.13353972\n",
      "16 document=None index=22 relevance_score=0.13272823\n",
      "17 document=None index=30 relevance_score=0.1287991\n",
      "18 document=None index=14 relevance_score=0.1119482\n",
      "19 document=None index=17 relevance_score=0.111541085\n",
      "20 document=None index=26 relevance_score=0.101189256\n",
      "21 document=None index=5 relevance_score=0.093520775\n",
      "22 document=None index=11 relevance_score=0.09048623\n",
      "23 document=None index=1 relevance_score=0.088670425\n",
      "24 document=None index=21 relevance_score=0.0872602\n",
      "25 document=None index=29 relevance_score=0.08614665\n",
      "26 document=None index=16 relevance_score=0.07652507\n",
      "27 document=None index=31 relevance_score=0.06650261\n",
      "28 document=None index=18 relevance_score=0.065491326\n",
      "29 document=None index=23 relevance_score=0.06513363\n",
      "30 document=None index=24 relevance_score=0.05906367\n",
      "31 document=None index=28 relevance_score=0.05340838\n",
      "32 document=None index=8 relevance_score=0.05270188\n"
     ]
    }
   ],
   "source": [
    "for i, result in enumerate(co_results.results):\n",
    "    print(i, result)"
   ]
  },
  {
   "cell_type": "markdown",
   "metadata": {},
   "source": [
    "Here we see that document index 32 (the actual row with the target DOI) has jumped to rank 10 after Cohere reranking"
   ]
  },
  {
   "cell_type": "code",
   "execution_count": 45,
   "metadata": {},
   "outputs": [
    {
     "name": "stdout",
     "output_type": "stream",
     "text": [
      "0, Target DOI 10.1016/j.epsl.2013.07.013 not found in results\n",
      "1, 2, 3, 4, 5, 6, 7, 8, Target DOI 10.1088/1475-7516/2012/07/038 not found in results\n",
      "9, 10, Target DOI 10.1016/j.gca.2021.07.031 not found in results\n",
      "11, Target DOI 10.1086/151310 not found in results\n",
      "12, 13, 14, Target DOI 10.1016/j.jafrearsci.2008.01.004 not found in results\n",
      "15, 16, 17, 18, 19, 20, 21, 22, 23, Target DOI 10.1093/mnras/stz2467 not found in results\n",
      "24, 25, 26, 27, Target DOI 10.1103/PhysRevFluids.4.013803 not found in results\n",
      "28, 29, 30, 31, 32, 33, 34, 35, 36, 37, 38, 39, 40, Target DOI 10.1086/339896 not found in results\n",
      "41, 42, Target DOI 10.1086/319078 not found in results\n",
      "43, 44, 45, 46, Target DOI 10.1086/308508 not found in results\n",
      "47, 48, 49, 50, 51, 52, 53, 54, Target DOI 10.1086/378218 not found in results\n",
      "55, Target DOI 10.1111/j.1365-2966.2010.16517.x not found in results\n",
      "56, 57, 58, Target DOI 10.1086/510850 not found in results\n",
      "59, 60, 61, 62, 63, 64, 65, Target DOI 10.1086/381085 not found in results\n",
      "66, Target DOI 10.1051/0004-6361:20042241 not found in results\n",
      "67, 68, Target DOI 10.1086/322873 not found in results\n",
      "69, 70, 71, 72, Target DOI 10.1086/320942 not found in results\n",
      "73, 74, 75, 76, 77, 78, Target DOI 10.1051/0004-6361/201321080 not found in results\n",
      "79, 80, Target DOI 10.1086/374570 not found in results\n",
      "81, 82, 83, 84, 85, 86, 87, 88, 89, 90, 91, 92, 93, Target DOI 10.1016/j.quascirev.2017.01.005 not found in results\n",
      "94, 95, 96, 97, 98, 99, "
     ]
    }
   ],
   "source": [
    "rerankings = []\n",
    "for i, row in enumerate(df.itertuples()):\n",
    "    print(i, end=\", \")\n",
    "    query_vector = embedder([row.sent_no_cit])[0]\n",
    "    query_pubdate = row.pubdate\n",
    "    target_dois = row.citation_dois\n",
    "    query_results = db.query_vector_column(\n",
    "        query_vector=query_vector,\n",
    "        table_name='lib',\n",
    "        target_column='bge_norm',\n",
    "        pubdate=query_pubdate,\n",
    "        top_k=10000,\n",
    "    )\n",
    "\n",
    "    result_dois = [r.doi for r in query_results]\n",
    "    result_docs = [r.chunk for r in query_results]\n",
    "    \"\"\"\n",
    "    A list of lists of dictionaries, \n",
    "        - Each row in the query dataframe gets one list\n",
    "        - Each list contains a dict for each target DOI\n",
    "        - If the target DOI in the query results, the dict contains:\n",
    "            - target_at_idx: the index of the target DOI in the original results\n",
    "            - co_reranks: the reranked results from Cohere\n",
    "            - reranked_index: the index of the target DOI in the reranked results\n",
    "            - rank_change: the difference between original and reranked index\n",
    "        - If the target DOI is not in the query results, the dict contains:\n",
    "            - target_at_idx: None\n",
    "            - co_reranks: []\n",
    "            - reranked_index: None\n",
    "            - rank_change: None\n",
    "    \"\"\"\n",
    "    rerank_results = []\n",
    "    for target_doi in target_dois:\n",
    "        rerank_result = {}\n",
    "        if target_doi in result_dois:\n",
    "            # Get the original index of the target DOI\n",
    "            original_index = result_dois.index(target_doi)\n",
    "            rerank_result['target_at_idx'] = original_index\n",
    "\n",
    "            # Get the top results to be reranked\n",
    "            co_results = client.rerank(\n",
    "                model=\"rerank-v3.5\", \n",
    "                query=row.sent_no_cit, \n",
    "                documents=result_docs, \n",
    "                top_n=len(query_results)\n",
    "            )\n",
    "            rerank_result['co_reranks'] = co_results.results\n",
    "\n",
    "            # Get the reranked index of the target DOI\n",
    "            for i, r in enumerate(co_results.results):\n",
    "                if r.index == original_index:\n",
    "                    rerank_result['reranked_index'] = i\n",
    "                    break\n",
    "            rerank_result['rank_change'] = original_index - i\n",
    "\n",
    "        else:\n",
    "            print(f\"Target DOI {target_doi} not found in results\")\n",
    "            rerank_result['target_at_idx'] = None\n",
    "            rerank_result['co_reranks'] = []\n",
    "            rerank_result['reranked_index'] = None\n",
    "            rerank_result['rank_change'] = None\n",
    "\n",
    "        rerank_results.append(rerank_result)\n",
    "    rerankings.append(rerank_results)"
   ]
  },
  {
   "cell_type": "code",
   "execution_count": 46,
   "metadata": {},
   "outputs": [
    {
     "name": "stdout",
     "output_type": "stream",
     "text": [
      "Average rank change: -451.2967032967033\n"
     ]
    }
   ],
   "source": [
    "changes = []\n",
    "for reranking in rerankings:\n",
    "    for result in reranking:\n",
    "        if result['rank_change'] is not None:\n",
    "            changes.append(result['rank_change'])\n",
    "print(f\"Average rank change: {sum(changes) / len(changes)}\")"
   ]
  },
  {
   "cell_type": "markdown",
   "metadata": {},
   "source": [
    "This demonstrates that on average, the Cohere re-ranking failed to make the target chunk higher ranked than before"
   ]
  },
  {
   "cell_type": "code",
   "execution_count": 51,
   "metadata": {},
   "outputs": [
    {
     "name": "stdout",
     "output_type": "stream",
     "text": [
      "-3654\n",
      "596\n",
      "4250\n"
     ]
    }
   ],
   "source": [
    "pprint(rerankings[1][0]['rank_change'])\n",
    "pprint(rerankings[1][0]['target_at_idx'])\n",
    "pprint(rerankings[1][0]['reranked_index'])"
   ]
  },
  {
   "cell_type": "code",
   "execution_count": 53,
   "metadata": {},
   "outputs": [
    {
     "name": "stdout",
     "output_type": "stream",
     "text": [
      "document=None index=596 relevance_score=0.032298584\n"
     ]
    }
   ],
   "source": [
    "print(rerankings[1][0]['co_reranks'][4250])"
   ]
  },
  {
   "cell_type": "code",
   "execution_count": null,
   "metadata": {},
   "outputs": [],
   "source": []
  }
 ],
 "metadata": {
  "kernelspec": {
   "display_name": "citeline",
   "language": "python",
   "name": "python3"
  },
  "language_info": {
   "codemirror_mode": {
    "name": "ipython",
    "version": 3
   },
   "file_extension": ".py",
   "mimetype": "text/x-python",
   "name": "python",
   "nbconvert_exporter": "python",
   "pygments_lexer": "ipython3",
   "version": "3.11.10"
  }
 },
 "nbformat": 4,
 "nbformat_minor": 2
}
