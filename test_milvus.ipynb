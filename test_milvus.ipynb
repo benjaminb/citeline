{
 "cells": [
  {
   "cell_type": "markdown",
   "id": "568e90c6",
   "metadata": {},
   "source": [
    "# Milvus in Python\n",
    "\n",
    "1. Define the connection and instantiate a client\n",
    "1. To create a table (collection in Milvus), define a schema\n"
   ]
  },
  {
   "cell_type": "code",
   "execution_count": 1,
   "id": "87fcaf5b",
   "metadata": {},
   "outputs": [
    {
     "name": "stdout",
     "output_type": "stream",
     "text": [
      "<pymilvus.milvus_client.milvus_client.MilvusClient object at 0x1285ce9d0>\n"
     ]
    }
   ],
   "source": [
    "from pymilvus import connections, MilvusClient, DataType, Collection\n",
    "\n",
    "connections.connect(\"default\", host=\"localhost\", port=\"19530\")\n",
    "client = MilvusClient(alias=\"default\")\n",
    "print(client)"
   ]
  },
  {
   "cell_type": "code",
   "execution_count": null,
   "id": "d5ec1d6f",
   "metadata": {},
   "outputs": [],
   "source": [
    "schema = client.create_schema(\n",
    "    auto_id=True,\n",
    "    enable_dynamic_field=True,  # allows us to later add additional fields (i.e. vector fields)\n",
    ")\n",
    "schema.add_field(field_name=\"id\", datatype=DataType.INT64, is_primary=True)\n",
    "schema.add_field(field_name=\"text\", datatype=DataType.VARCHAR, max_length=2048)\n",
    "schema.add_field(field_name=\"pubdate\", datatype=DataType.INT64)  # Milvus has no date type\n",
    "schema.add_field(field_name=\"doi\", datatype=DataType.VARCHAR, max_length=64)\n",
    "schema.add_field(field_name=\"astrollama\", datatype=DataType.FLOAT_VECTOR, dim=4096)\n",
    "\n",
    "client.create_collection(collection_name=\"basic_collection\", schema=schema)"
   ]
  },
  {
   "cell_type": "code",
   "execution_count": 2,
   "id": "da70aee8",
   "metadata": {},
   "outputs": [
    {
     "data": {
      "text/plain": [
       "['basic_collection']"
      ]
     },
     "execution_count": 2,
     "metadata": {},
     "output_type": "execute_result"
    }
   ],
   "source": [
    "client.list_collections()"
   ]
  },
  {
   "cell_type": "code",
   "execution_count": 3,
   "id": "0da87025",
   "metadata": {},
   "outputs": [
    {
     "name": "stdout",
     "output_type": "stream",
     "text": [
      "['id', 'text', 'pubdate', 'doi', 'astrollama']\n"
     ]
    }
   ],
   "source": [
    "collection = Collection(\"basic_collection\")\n",
    "fields_to_keep = [field.name for field in collection.schema.fields]\n",
    "print(fields_to_keep)"
   ]
  },
  {
   "cell_type": "code",
   "execution_count": null,
   "id": "78f0a401",
   "metadata": {},
   "outputs": [],
   "source": [
    "import pandas as pd\n",
    "\n",
    "sample_data = pd.read_json(\"data/dataset/split/small_train.jsonl\", lines=True)"
   ]
  },
  {
   "cell_type": "code",
   "execution_count": 4,
   "id": "af06208a",
   "metadata": {},
   "outputs": [
    {
     "data": {
      "application/vnd.jupyter.widget-view+json": {
       "model_id": "2942f650be0f43c7ae40280012e6c840",
       "version_major": 2,
       "version_minor": 0
      },
      "text/plain": [
       "Loading checkpoint shards:   0%|          | 0/3 [00:00<?, ?it/s]"
      ]
     },
     "metadata": {},
     "output_type": "display_data"
    }
   ],
   "source": [
    "from embedders import get_embedder\n",
    "\n",
    "embedder = get_embedder(\"UniverseTBD/astrollama\", device=\"mps\", normalize=False)"
   ]
  },
  {
   "cell_type": "code",
   "execution_count": null,
   "id": "a84f030d",
   "metadata": {},
   "outputs": [],
   "source": [
    "type(sample_data.sent_no_cit)"
   ]
  },
  {
   "cell_type": "code",
   "execution_count": null,
   "id": "010003a4",
   "metadata": {},
   "outputs": [],
   "source": [
    "embeddings = embedder(sample_data[\"sent_no_cit\"])\n",
    "print(embeddings.shape)"
   ]
  },
  {
   "cell_type": "code",
   "execution_count": null,
   "id": "91c40c50",
   "metadata": {},
   "outputs": [],
   "source": [
    "sample_data.columns"
   ]
  },
  {
   "cell_type": "code",
   "execution_count": null,
   "id": "fdf7524d",
   "metadata": {},
   "outputs": [],
   "source": [
    "texts = sample_data[\"sent_no_cit\"]\n",
    "embeddings = embedder(texts)\n",
    "\n",
    "df = sample_data.rename(columns={\"sent_no_cit\": \"text\", \"source_doi\": \"doi\"})\n",
    "df[\"pubdate\"] = df[\"pubdate\"].apply(lambda x: int(x.replace(\"-\", \"\"))) # Convert date to int YYYYMMDD\n",
    "df[\"astrollama\"] = embeddings.tolist()  # Convert numpy array to list of lists\n",
    "\n",
    "# Set up columns\n",
    "columns_in_order = [col for col in fields_to_keep if col != 'id']  # Exclude auto-generated id field\n",
    "df = df[columns_in_order]\n",
    "df.head()"
   ]
  },
  {
   "cell_type": "code",
   "execution_count": null,
   "id": "6a2ec617",
   "metadata": {},
   "outputs": [],
   "source": [
    "result = collection.insert(df)\n",
    "print(result)"
   ]
  },
  {
   "cell_type": "markdown",
   "id": "f3ba8780",
   "metadata": {},
   "source": [
    "### Searching"
   ]
  },
  {
   "cell_type": "code",
   "execution_count": null,
   "id": "20a0b9c0",
   "metadata": {},
   "outputs": [],
   "source": [
    "# First you must have an index (even FLAT i.e. brute-force)\n",
    "collection.create_index(\n",
    "    field_name=\"astrollama\",\n",
    "    index_params={\n",
    "        \"index_type\": \"FLAT\",\n",
    "        \"metric_type\": \"L2\",\n",
    "    }\n",
    ")\n"
   ]
  },
  {
   "cell_type": "code",
   "execution_count": 5,
   "id": "b31b0ba5",
   "metadata": {},
   "outputs": [],
   "source": [
    "# Put collection into memory\n",
    "collection.load()"
   ]
  },
  {
   "cell_type": "code",
   "execution_count": 6,
   "id": "3de07985",
   "metadata": {},
   "outputs": [
    {
     "name": "stdout",
     "output_type": "stream",
     "text": [
      "(4096,)\n",
      "<class 'numpy.ndarray'>\n"
     ]
    }
   ],
   "source": [
    "query_vector = embedder([\"I want to know more about gravitational effects\"])[0]\n",
    "print(query_vector.shape)\n",
    "print(type(query_vector))"
   ]
  },
  {
   "cell_type": "code",
   "execution_count": 7,
   "id": "bd63384d",
   "metadata": {},
   "outputs": [],
   "source": [
    "results = collection.search(\n",
    "    data=[query_vector],\n",
    "    anns_field=\"astrollama\",\n",
    "    param={\n",
    "        \"metric_type\": \"L2\",\n",
    "    },\n",
    "    limit=10,\n",
    "    output_fields=[\"text\", \"pubdate\", \"doi\"],\n",
    ")"
   ]
  },
  {
   "cell_type": "code",
   "execution_count": 8,
   "id": "89e3f9a6",
   "metadata": {},
   "outputs": [
    {
     "name": "stdout",
     "output_type": "stream",
     "text": [
      "{'id': 460044358029246518, 'distance': 3008.390625, 'entity': {'text': '[Within purely stellar radiation or energetic X-ray photons, either the total number of ionizing photons produced or the total radiated energy, respectively, is what matters for reionization. This is because, in a largely neutral medium, each photoionization produces a host of secondary collisional ionizations, with approximately one hydrogen secondary ionization for every 37 eV of energy in the primary photoelectron ( [REF] ). As the medium becomes more ionized, however, an increasing fraction of this energy is deposited as heat.] Figure 16 depicts the quantity at z >6 according to our best-fit SFH for the range of stellar metallicities 0 Z ∗Z ⊙ .', 'pubdate': 20140801, 'doi': '10.1146/annurev-astro-081811-125615'}}\n",
      "{'id': 460044358029246519, 'distance': 5980.67578125, 'entity': {'text': 'Using the same COS-Halos sample with new COS spectra covering the Lyman limit, and taking a nonparametric approach with a robust treatment of uncertainties, [REF] recently refined the cool CGM mass estimate to be 9.2 ± 4.3 × 10 10 M ⊙ out to 160 kpc.', 'pubdate': 20170801, 'doi': '10.1146/annurev-astro-091916-055240'}}\n",
      "{'id': 460044358029246513, 'distance': 6112.52734375, 'entity': {'text': '[REF] and [REF] combined Keck spectroscopy in several fields with deep U -band imaging to measure shorter rest-frame UV wavelengths (2,000–2,500 Å) at z 1 than were probed in the CFRS analysis of [REF] and derived a shallower rate of decline in the SFRD.', 'pubdate': 20140801, 'doi': '10.1146/annurev-astro-081811-125615'}}\n",
      "{'id': 460044358029246510, 'distance': 6997.12158203125, 'entity': {'text': 'It is unclear whether the solution can be found in the solar or B star analyses or, if a real difference indeed exists, perhaps due to infall of low-metallicity gas to the Solar Neighborhood or due to Galactic orbital migration ( [REF] ).', 'pubdate': 20090901, 'doi': '10.1146/annurev.astro.46.060407.145222'}}\n",
      "{'id': 460044358029246512, 'distance': 7509.9375, 'entity': {'text': '[REF] and [REF] combined the optical HST imaging of the HDF with ground-based NIR data to improve photometric redshift analyses in the redshift “desert” at 1 z 2, between the regime of [REF] and that of [REF] .', 'pubdate': 20140801, 'doi': '10.1146/annurev-astro-081811-125615'}}\n",
      "{'id': 460044358029246516, 'distance': 8029.9140625, 'entity': {'text': 'The EUV ion Ne viii redshifts into the COS band at z >0.5, where a few detections ( [REF] ) hint that it may be present in halos out to 100–200 kpc.', 'pubdate': 20170801, 'doi': '10.1146/annurev-astro-091916-055240'}}\n",
      "{'id': 460044358029246517, 'distance': 9004.78515625, 'entity': {'text': 'Curiously, the first constraints on the details of the GS/E SFH based on the behaviour of its stars in the -[Fe/H] plane are also pre- Gaia ( [REF] ).', 'pubdate': 20241201, 'doi': '10.1016/j.newar.2024.101706'}}\n",
      "{'id': 460044358029246514, 'distance': 10356.9267578125, 'entity': {'text': '[REF] found that O vi traces a warm CGM component that contributes >2×10 9 M ⊙ of gas to the L * baryon budget.', 'pubdate': 20170801, 'doi': '10.1146/annurev-astro-091916-055240'}}\n",
      "{'id': 460044358029246515, 'distance': 10616.599609375, 'entity': {'text': 'The rates of accretion onto galaxies and of outflow out of galaxies are crucial parameters in most models of galaxy evolution ( [REF] ).', 'pubdate': 20170801, 'doi': '10.1146/annurev-astro-091916-055240'}}\n",
      "{'id': 460044358029246511, 'distance': 13720.439453125, 'entity': {'text': 'The gravitational effects of the directly-imaged planet Pic b on its host star, for example, were detected by [REF] with high significance.', 'pubdate': 20240601, 'doi': '10.1016/j.newar.2024.101694'}}\n"
     ]
    }
   ],
   "source": [
    "for hit in results[0]:\n",
    "    print(hit)"
   ]
  },
  {
   "cell_type": "code",
   "execution_count": null,
   "id": "0c6d0739",
   "metadata": {},
   "outputs": [],
   "source": [
    "results = collection.search(\n",
    "    data=[query_vector.tolist()],\n",
    "    anns_field=\"astrollama\",\n",
    "    param={\n",
    "        \"metric_type\": \"L2\",\n",
    "    },\n",
    "    limit=10,\n",
    "    output_fields=[\"text\", \"pubdate\", \"doi\"],\n",
    ")\n",
    "\n",
    "for hit in results[0]:\n",
    "    print(hit)"
   ]
  },
  {
   "cell_type": "code",
   "execution_count": null,
   "id": "f08d56c2",
   "metadata": {},
   "outputs": [],
   "source": []
  }
 ],
 "metadata": {
  "kernelspec": {
   "display_name": "citeline",
   "language": "python",
   "name": "python3"
  },
  "language_info": {
   "codemirror_mode": {
    "name": "ipython",
    "version": 3
   },
   "file_extension": ".py",
   "mimetype": "text/x-python",
   "name": "python",
   "nbconvert_exporter": "python",
   "pygments_lexer": "ipython3",
   "version": "3.11.10"
  }
 },
 "nbformat": 4,
 "nbformat_minor": 5
}
