{
  "cells": [
    {
      "cell_type": "code",
      "execution_count": 1,
      "id": "73c15e60",
      "metadata": {},
      "outputs": [
        {
          "name": "stdout",
          "output_type": "stream",
          "text": [
            "=================================CONFIG=================================\n",
            "Database         User             Host                             Port            \n",
            "citelinedb       bbasseri         localhost                        5432            \n",
            "========================================================================\n",
            "Database version: ('PostgreSQL 17.5 (Homebrew) on aarch64-apple-darwin24.4.0, compiled by Apple clang version 17.0.0 (clang-1700.0.13.3), 64-bit',)\n"
          ]
        }
      ],
      "source": [
        "from database.database import Database\n",
        "import pandas as pd\n",
        "import numpy as np\n",
        "from embedders import get_embedder\n",
        "\n",
        "embedder = get_embedder(model_name=\"BAAI/bge-large-en-v1.5\", device=\"mps\", normalize=True)\n",
        "db = Database()\n",
        "db.test_connection()"
      ]
    },
    {
      "cell_type": "code",
      "execution_count": 4,
      "id": "e14991d4",
      "metadata": {},
      "outputs": [
        {
          "data": {
            "text/html": [
              "<div>\n",
              "<style scoped>\n",
              "    .dataframe tbody tr th:only-of-type {\n",
              "        vertical-align: middle;\n",
              "    }\n",
              "\n",
              "    .dataframe tbody tr th {\n",
              "        vertical-align: top;\n",
              "    }\n",
              "\n",
              "    .dataframe thead th {\n",
              "        text-align: right;\n",
              "    }\n",
              "</style>\n",
              "<table border=\"1\" class=\"dataframe\">\n",
              "  <thead>\n",
              "    <tr style=\"text-align: right;\">\n",
              "      <th></th>\n",
              "      <th>source_doi</th>\n",
              "      <th>sent_original</th>\n",
              "      <th>sent_no_cit</th>\n",
              "      <th>sent_idx</th>\n",
              "      <th>citation_dois</th>\n",
              "      <th>pubdate</th>\n",
              "      <th>resolved_bibcodes</th>\n",
              "    </tr>\n",
              "  </thead>\n",
              "  <tbody>\n",
              "    <tr>\n",
              "      <th>10804</th>\n",
              "      <td>10.1007/s00159-014-0081-z</td>\n",
              "      <td>The increase in SFR with redshift for star-for...</td>\n",
              "      <td>The increase in SFR with redshift for star-for...</td>\n",
              "      <td>563</td>\n",
              "      <td>[10.1088/0004-637X/713/1/686, 10.1111/j.1365-2...</td>\n",
              "      <td>2015-01-01</td>\n",
              "      <td>[2010ApJ...713..686D, 2010MNRAS.407.2091G, 201...</td>\n",
              "    </tr>\n",
              "    <tr>\n",
              "      <th>4759</th>\n",
              "      <td>10.1146/annurev.astro.42.053102.134034</td>\n",
              "      <td>The second constraint, which is difficult to a...</td>\n",
              "      <td>The second constraint, which is difficult to a...</td>\n",
              "      <td>521</td>\n",
              "      <td>[10.1046/j.1365-8711.2003.06976.x]</td>\n",
              "      <td>2004-09-01</td>\n",
              "      <td>[2003MNRAS.344L...7C]</td>\n",
              "    </tr>\n",
              "    <tr>\n",
              "      <th>3842</th>\n",
              "      <td>10.1007/s00159-020-00125-0</td>\n",
              "      <td>For example, Lauer et al. ( 2005 ) catalogs a ...</td>\n",
              "      <td>For example, [REF] catalogs a number of nuclea...</td>\n",
              "      <td>174</td>\n",
              "      <td>[10.1086/429565, 10.1086/504042]</td>\n",
              "      <td>2020-07-01</td>\n",
              "      <td>[2005AJ....129.2138L, 2006ApJS..165...57C]</td>\n",
              "    </tr>\n",
              "    <tr>\n",
              "      <th>3544</th>\n",
              "      <td>10.1146/annurev-astro-032620-021910</td>\n",
              "      <td>This is seen for nearby populations but also i...</td>\n",
              "      <td>This is seen for nearby populations but also i...</td>\n",
              "      <td>822</td>\n",
              "      <td>[10.1051/0004-6361/201117239, 10.1088/0004-637...</td>\n",
              "      <td>2020-08-01</td>\n",
              "      <td>[2011A&amp;A...533A.119E, 2011ApJ...742...96W]</td>\n",
              "    </tr>\n",
              "    <tr>\n",
              "      <th>2150</th>\n",
              "      <td>10.1146/annurev-astro-081817-051853</td>\n",
              "      <td>One possibility is that tidal heating reinflat...</td>\n",
              "      <td>One possibility is that tidal heating reinflat...</td>\n",
              "      <td>335</td>\n",
              "      <td>[10.1088/0004-637X/727/2/75]</td>\n",
              "      <td>2018-09-01</td>\n",
              "      <td>[2011ApJ...727...75I]</td>\n",
              "    </tr>\n",
              "  </tbody>\n",
              "</table>\n",
              "</div>"
            ],
            "text/plain": [
              "                                   source_doi  \\\n",
              "10804               10.1007/s00159-014-0081-z   \n",
              "4759   10.1146/annurev.astro.42.053102.134034   \n",
              "3842               10.1007/s00159-020-00125-0   \n",
              "3544      10.1146/annurev-astro-032620-021910   \n",
              "2150      10.1146/annurev-astro-081817-051853   \n",
              "\n",
              "                                           sent_original  \\\n",
              "10804  The increase in SFR with redshift for star-for...   \n",
              "4759   The second constraint, which is difficult to a...   \n",
              "3842   For example, Lauer et al. ( 2005 ) catalogs a ...   \n",
              "3544   This is seen for nearby populations but also i...   \n",
              "2150   One possibility is that tidal heating reinflat...   \n",
              "\n",
              "                                             sent_no_cit  sent_idx  \\\n",
              "10804  The increase in SFR with redshift for star-for...       563   \n",
              "4759   The second constraint, which is difficult to a...       521   \n",
              "3842   For example, [REF] catalogs a number of nuclea...       174   \n",
              "3544   This is seen for nearby populations but also i...       822   \n",
              "2150   One possibility is that tidal heating reinflat...       335   \n",
              "\n",
              "                                           citation_dois     pubdate  \\\n",
              "10804  [10.1088/0004-637X/713/1/686, 10.1111/j.1365-2...  2015-01-01   \n",
              "4759                  [10.1046/j.1365-8711.2003.06976.x]  2004-09-01   \n",
              "3842                    [10.1086/429565, 10.1086/504042]  2020-07-01   \n",
              "3544   [10.1051/0004-6361/201117239, 10.1088/0004-637...  2020-08-01   \n",
              "2150                        [10.1088/0004-637X/727/2/75]  2018-09-01   \n",
              "\n",
              "                                       resolved_bibcodes  \n",
              "10804  [2010ApJ...713..686D, 2010MNRAS.407.2091G, 201...  \n",
              "4759                               [2003MNRAS.344L...7C]  \n",
              "3842          [2005AJ....129.2138L, 2006ApJS..165...57C]  \n",
              "3544          [2011A&A...533A.119E, 2011ApJ...742...96W]  \n",
              "2150                               [2011ApJ...727...75I]  "
            ]
          },
          "execution_count": 4,
          "metadata": {},
          "output_type": "execute_result"
        }
      ],
      "source": [
        "# Sample 20 examples from the training data\n",
        "examples = pd.read_json(\"data/dataset/nontrivial_filtered.jsonl\", lines=True).sample(20, random_state=42)\n",
        "examples.head()"
      ]
    },
    {
      "cell_type": "code",
      "execution_count": 15,
      "id": "995692ef",
      "metadata": {},
      "outputs": [
        {
          "name": "stdout",
          "output_type": "stream",
          "text": [
            "1000\n"
          ]
        }
      ],
      "source": [
        "def get_search_results(example: pd.Series, table: str = \"chunks\") -> pd.DataFrame:\n",
        "    embedding = embedder([example[\"sent_no_cit\"]])[0]\n",
        "    \n",
        "    # Perform vector search\n",
        "    chunk_results = db.vector_search(\n",
        "        query_vector=embedding,\n",
        "        target_table=table,\n",
        "        target_column=\"embedding\",\n",
        "        pubdate=example.get(\"pubdate\"),\n",
        "        top_k=1000,  # Adjust as needed\n",
        "    )\n",
        "    \n",
        "    assert chunk_results['distance'].is_monotonic_increasing, \"Distances are not in ascending order\"\n",
        "    return chunk_results\n",
        "\n",
        "results = get_search_results(examples.iloc[0])\n",
        "print(len(results))"
      ]
    },
    {
      "cell_type": "code",
      "execution_count": 16,
      "id": "fec4c2fe",
      "metadata": {},
      "outputs": [
        {
          "data": {
            "text/plain": [
              "['10.1088/0004-637X/713/1/686',\n",
              " '10.1111/j.1365-2966.2010.16969.x',\n",
              " '10.1088/0004-637X/768/1/74']"
            ]
          },
          "execution_count": 16,
          "metadata": {},
          "output_type": "execute_result"
        }
      ],
      "source": [
        "example = examples.iloc[0]\n",
        "example['citation_dois']"
      ]
    },
    {
      "cell_type": "code",
      "execution_count": 17,
      "id": "53eea908",
      "metadata": {},
      "outputs": [
        {
          "name": "stdout",
          "output_type": "stream",
          "text": [
            "{'10.1088/0004-637X/713/1/686': -1, '10.1111/j.1365-2966.2010.16969.x': np.int64(89), '10.1088/0004-637X/768/1/74': np.int64(6)}\n"
          ]
        }
      ],
      "source": [
        "# for each doi in example['citation_dois'] get the lowest index in the results where it appears, or -1 if not found\n",
        "doi_indices = {doi: results[results['doi'] == doi].index.min() if not results[results['doi'] == doi].empty else -1 for doi in example['citation_dois']}\n",
        "print(doi_indices)"
      ]
    },
    {
      "cell_type": "code",
      "execution_count": 22,
      "id": "28038d50",
      "metadata": {},
      "outputs": [
        {
          "name": "stdout",
          "output_type": "stream",
          "text": [
            "1\n"
          ]
        }
      ],
      "source": [
        "# We see doi 10.1088/0004-637X/713/1/686 didn't appear in the top 1000 results. Check it is in the database\n",
        "\n",
        "count = db.query(\"SELECT COUNT(id) FROM chunks WHERE doi = '10.1088/0004-637X/713/1/686'\")\n",
        "print(len(count))"
      ]
    },
    {
      "cell_type": "code",
      "execution_count": 24,
      "id": "c06d6400",
      "metadata": {},
      "outputs": [],
      "source": [
        "# Why didn't this DOI appear in the database? is it too long?\n",
        "research = pd.read_json('data/preprocessed/research.jsonl', lines=True)"
      ]
    },
    {
      "cell_type": "code",
      "execution_count": 29,
      "id": "362ca97e",
      "metadata": {},
      "outputs": [
        {
          "name": "stdout",
          "output_type": "stream",
          "text": [
            "88784 1. INTRODUCTION Over the last decade, deep and wide multiwavelength galaxy surveys have been key in addressing critical issues regarding galaxy evolution. By using a variety of color selection techniques, and deriving photometric and/or spectroscopic redshifts, different galaxy populations have now been probed to unprecedented detail up to at least z ∼ 3. Also, the history of cosmic star formation as well as the corresponding build-up of stellar mass has now been constrained using different obse\n"
          ]
        }
      ],
      "source": [
        "paper = research[research['doi'] == '10.1088/0004-637X/713/1/686']\n",
        "# get the text of the 'body' field\n",
        "body_text = paper['body'].values[0]\n",
        "print(len(body_text), body_text[:500])  # Print length and first 500 characters"
      ]
    },
    {
      "cell_type": "code",
      "execution_count": null,
      "id": "bccb1718",
      "metadata": {},
      "outputs": [],
      "source": []
    }
  ],
  "metadata": {
    "kernelspec": {
      "display_name": "citeline",
      "language": "python",
      "name": "python3"
    },
    "language_info": {
      "codemirror_mode": {
        "name": "ipython",
        "version": 3
      },
      "file_extension": ".py",
      "mimetype": "text/x-python",
      "name": "python",
      "nbconvert_exporter": "python",
      "pygments_lexer": "ipython3",
      "version": "3.11.10"
    }
  },
  "nbformat": 4,
  "nbformat_minor": 5
}
