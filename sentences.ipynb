{
 "cells": [
  {
   "cell_type": "code",
   "execution_count": 1,
   "metadata": {},
   "outputs": [
    {
     "name": "stdout",
     "output_type": "stream",
     "text": [
      "['My name is Jonas E. Smith. ', 'Please turn to p. 55.']\n"
     ]
    }
   ],
   "source": [
    "import pysbd\n",
    "# Sentence separator (https://github.com/nipunsadvilkar/pySBD?tab=readme-ov-file)\n",
    "text = \"My name is Jonas E. Smith. Please turn to p. 55.\"\n",
    "seg = pysbd.Segmenter(language=\"en\", clean=False)\n",
    "print(seg.segment(text))\n",
    "# ['My name is Jonas E. Smith.', 'Please turn to p. 55.']"
   ]
  },
  {
   "cell_type": "code",
   "execution_count": 2,
   "metadata": {},
   "outputs": [
    {
     "name": "stdout",
     "output_type": "stream",
     "text": [
      "1. INTRODUCTION The solar chemical composition is a fundamental yardstick in astronomy, to which the\n"
     ]
    }
   ],
   "source": [
    "with open('testbody.txt', 'r') as file:\n",
    "    text = file.read()\n",
    "\n",
    "print(text[:100])"
   ]
  },
  {
   "cell_type": "code",
   "execution_count": null,
   "metadata": {},
   "outputs": [],
   "source": [
    "def \n"
   ]
  },
  {
   "cell_type": "code",
   "execution_count": 4,
   "metadata": {},
   "outputs": [
    {
     "name": "stdout",
     "output_type": "stream",
     "text": [
      "1. INTRODUCTION The solar chemical composition is a fundamental yardstick in astronomy, to which the elemental abundances of essentially all cosmic objects, be they planets, stars, nebulae or galaxies, are anchored. \n",
      "The importance of having accurate solar elemental abundances thus can not be overstated. \n",
      "From the pioneering efforts of Russell (1929) , Suess Urey (1956) , and Goldberg, Müller Aller (1960) to the more recent works of Anders Grevesse (1989) , Grevesse Sauval (1998) , Lodders (2003) , Asplund, Grevesse Sauval (2005) , Grevesse, Asplund Sauval (2007) , and Lodders, Palme Gail (2009) , compilations of the Solar System abundances have found extremely wide-ranging use in astronomy and cosmology. \n",
      "There are two independent and complementary ways of determining the Solar System abundances, each with its pros and cons. \n",
      "Through mass spectroscopy of meteorites in terrestrial laboratories, it is possible to directly measure the abundance of almost every element and isotope with remarkable precision. \n",
      "The most pristine meteorites are the so-called CI chondrites, which have been modified least by various physical and chemical processes over the past 4.56 Gyr. \n",
      "Even in these meteorites volatile elements have been depleted to various degrees, including the six most abundant elements: H, He, C, N, O and Ne. \n",
      "As a consequence, it is not possible to rely on meteorites to determine the primordial Solar System abundances for such elements. \n",
      "This also implies that one must measure all meteoritic abundances relative to an element other than H, traditionally chosen to be Si. \n",
      "Prior knowledge of the solar photospheric Si abundance is therefore required in order to place the meteoritic abundances on the same absolute scale as the Sun ( Suess Urey 1956 ). \n",
      "With the exception of a general ∼10% modification owing to diffusion and gravitational settling and depletion of Li and possibly Be, today's photospheric abundances are believed to reflect those at the birth of the Solar System. \n",
      "They are of profound importance for the understanding of our own Solar System and the Sun's interior structure and evolution. \n",
      "Unfortunately, photospheric abundances cannot be determined with the same accuracy as those from meteorites. \n",
      "In particular, very little isotopic abundance information is available. \n",
      "Furthermore, photospheric abundances are not observed but inferred. \n",
      "Thus, the solar spectrum must be interpreted using realistic models of the solar atmosphere and spectrum-formation process. \n",
      "In addition, the required atomic and molecular data are rarely precise enough to rival the accuracy of meteoritic measurements. \n",
      "In spite of the remaining uncertainties in solar photospheric determinations, having access to the most accurate solar abundances possible is crucial, not only for understanding our own Sun but also in order to make meaningful comparisons with other stars (for which meteoritic information is obviously unavailable). \n",
      "The Sun is also the only possible reference for the interstellar medium, H ii regions, and other galaxies when studying the elements depleted in meteorites. \n",
      "In the decade since the appearance of the widely used compilation of the solar chemical composition by Grevesse Sauval (1998) , the abundances of a large number of elements have been revised, several rather severely (e.g., Asplund, Grevesse Sauval 2005 ). \n",
      "This is true in particular for C, N, O, and Ne. \n",
      "There are three main reasons for the changes: improvements in atomic and molecular transition probabilities, the advent of 3D hydrodynamical solar model atmospheres, and relaxation of the assumption of local thermodynamic equilibrium (LTE) in the spectral line formation. \n",
      "Several of the proposed abundance alterations have not gone unchallenged, however. \n",
      "It is therefore timely to now critically assess the reference solar chemical composition and make recommendations regarding the most accurate values available to the astronomical community. \n",
      "After recapitulating the necessary ingredients in any solar abundance analysis (Section 2), we discuss in detail the solar chemical composition on an element-by-element basis (Section 3). \n",
      "We also present a comparison between photospheric solar abundances and those inferred by alternative means, such as via meteorites and stars or gas in the Solar Neighborhood (Section 4). \n",
      "We conclude by summarizing the main points and outlining a few open issues for the future (Section 5). \n",
      "2. INGREDIENTS FOR SOLAR ABUNDANCE ANALYSIS 2.1. \n",
      "Observations Analyses of the solar photospheric chemical composition make use of the elemental fingerprints present in the solar spectrum in the form of spectral absorption lines. \n",
      "There are several solar atlases of both intensity and flux spectra in the UV, optical, and IR regions. \n",
      "The most commonly used optical disk-center intensity spectra of the quiet Sun are the so-called Jungfraujoch or Liège atlas (after its locations of observation and production, respectively; Delbouille, Roland Neven 1973 ) and the Kitt Peak solar atlas ( Neckel Labs 1984 ). \n",
      "The spectral resolving power of the latter is slightly higher, whereas the former is less affected by telluric absorption owing to the higher observing altitude. \n",
      "There are also corresponding IR disk-center intensity atlases observed from Kitt Peak ( Delbouille et al. 1981 ) and from the Atmospheric Trace Molecule Spectroscopy (ATMOS ) experiment flown on the space shuttle ( Farmer Norton 1989 ; Abrams et al. 1996 ). \n",
      "Finally, the solar flux spectrum has recently been rereduced by Kurucz (2006) ; see also Kurucz et al. (1984) for an earlier rendition of the same Kitt Peak solar data set. \n",
      "All solar atlases agree very well with each other except for spectral regions afflicted by telluric features. \n",
      "Thus, the quality of observations is in general not a source of significant error in solar abundance analyses. \n",
      "2.2. \n",
      "Atomic and Molecular Data A critical ingredient in any solar abundance analysis is, of course, the atomic and molecular line input data. \n",
      "Of these the transition probability is the most obvious, but there are a raft of other required components that are not always as well determined as one would hope. \n",
      "These include line broadening, hyperfine and isotopic splitting, dissociation energies, and partition functions. \n",
      "Much laudable work has been done in improving the gf -values for a large number of transitions (e.g., Kurucz 1992 ; Johansson et al. 2003 ; Lawler et al. 2006 ; Sobeck, Lawler Sneden 2007 ), but several elements and lines still have surprisingly uncertain transition probabilities. \n",
      "Another important advancement in recent years is that it is now possible to accurately compute the pressure broadening (also known as van der Waals broadening) of metal lines ( Anstee O'Mara 1995 ; Barklem, Piskunov O'Mara 2000a ; Barklem Aspelund-Johansson 2005 ), which has made the classical Unsöld broadening and its ad hoc enhancement factors largely obsolete, at least for neutral species. \n",
      "The need for atomic data increases dramatically when relaxing the LTE assumption. \n",
      "In non-LTE calculations, one needs transition data not only for the line in question but in principle for all other lines of the element. \n",
      "In addition, photoionization cross sections play a crucial role. \n",
      "There have been noteworthy improvements in this respect in recent years through the Opacity and Iron Projects ( Badnell et al. 2005 ), for example, but unfortunately the lack of quantum mechanical calculations for most elements preclude detailed non-LTE investigations. \n",
      "The most unsatisfactory situation, however, relates to collisional cross sections for excitation and ionization, for which laboratory or theoretical calculations are completely missing bar for a few elements and transitions relevant for spectroscopy of late-type stars (e.g., Belyaev Barklem 2003 ; Barklem 2007a ). \n",
      "In the absence of realistic evaluations, classical recipes such as those of van Regemorter (1962) and Drawin (1968) are frequently used but cannot be expected to be more than order-of-magnitude estimates at best. \n",
      "Often scaling factors to these formulas are used, sometimes calibrated by achieving an optimal overall fit to the various spectral features. \n",
      "It should be remembered that such a procedure may reveal less about the true collisional cross sections than about other shortcomings in the modeling of the stellar atmospheres and line formation ( Asplund 2005 ). \n"
     ]
    }
   ],
   "source": [
    "for result in results[:50]:\n",
    "    print(result)"
   ]
  },
  {
   "cell_type": "code",
   "execution_count": null,
   "metadata": {},
   "outputs": [],
   "source": []
  }
 ],
 "metadata": {
  "kernelspec": {
   "display_name": "citeline",
   "language": "python",
   "name": "python3"
  },
  "language_info": {
   "codemirror_mode": {
    "name": "ipython",
    "version": 3
   },
   "file_extension": ".py",
   "mimetype": "text/x-python",
   "name": "python",
   "nbconvert_exporter": "python",
   "pygments_lexer": "ipython3",
   "version": "3.11.10"
  }
 },
 "nbformat": 4,
 "nbformat_minor": 2
}
