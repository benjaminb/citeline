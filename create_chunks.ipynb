{
 "cells": [
  {
   "cell_type": "code",
   "execution_count": 1,
   "id": "b8772ed2",
   "metadata": {},
   "outputs": [],
   "source": [
    "import pandas as pd\n",
    "import json\n",
    "from semantic_text_splitter import TextSplitter\n",
    "from tqdm import tqdm\n",
    "\n",
    "\n",
    "def reconstruct_paper(example: pd.Series) -> str:\n",
    "    return f\"{example['title']}\\n\\nAbstract: {example['abstract']}\\n\\n{example['body']}\""
   ]
  },
  {
   "cell_type": "code",
   "execution_count": null,
   "id": "89a69349",
   "metadata": {},
   "outputs": [
    {
     "name": "stdout",
     "output_type": "stream",
     "text": [
      "9989\n",
      "9989\n"
     ]
    }
   ],
   "source": [
    "with open(\"data/research_dois_used.json\", \"r\") as f:\n",
    "    research_dois_used = json.load(f)\n",
    "\n",
    "print(len(research_dois_used))\n",
    "research_doi_set = set(research_dois_used)\n",
    "print(len(research_doi_set))"
   ]
  },
  {
   "cell_type": "code",
   "execution_count": null,
   "id": "277246ec",
   "metadata": {},
   "outputs": [
    {
     "name": "stdout",
     "output_type": "stream",
     "text": [
      "Unique dois in research used: 9989\n"
     ]
    }
   ],
   "source": [
    "research_df = pd.read_json(\"data/research_used.jsonl\", lines=True)\n",
    "print(f\"Unique dois in research used: {len(research_df.doi.unique())}\")"
   ]
  },
  {
   "cell_type": "code",
   "execution_count": null,
   "id": "5b82725a",
   "metadata": {},
   "outputs": [
    {
     "data": {
      "text/plain": [
       "True"
      ]
     },
     "execution_count": 5,
     "metadata": {},
     "output_type": "execute_result"
    }
   ],
   "source": [
    "# Confirm we have exactly the doi's expected\n",
    "research_dois = set(research_df.doi)\n",
    "research_dois == research_doi_set"
   ]
  },
  {
   "cell_type": "code",
   "execution_count": 7,
   "id": "6201f108",
   "metadata": {},
   "outputs": [
    {
     "name": "stderr",
     "output_type": "stream",
     "text": [
      "100%|██████████| 9989/9989 [00:10<00:00, 939.82it/s] \n"
     ]
    }
   ],
   "source": [
    "splitter = TextSplitter(capacity=1500, overlap=150)\n",
    "chunk_records = []\n",
    "for doi in tqdm(research_dois):\n",
    "    record = research_df[research_df.doi == doi].iloc[0]\n",
    "    paper = reconstruct_paper(record)\n",
    "    chunks = splitter.chunks(paper)\n",
    "    chunks = [chunk.strip().replace(\"\\x00\", \"\") for chunk in chunks if chunk.strip()]  # Remove null chars and empty chunks\n",
    "    pubdate = int(record.pubdate.replace(\"-\", \"\"))\n",
    "    citation_count = int(record.citation_count)\n",
    "    for chunk in chunks:\n",
    "        chunk_records.append(\n",
    "            {\n",
    "                \"doi\": doi, \n",
    "                \"text\": chunk,\n",
    "                \"citation_count\": citation_count,\n",
    "                \"pubdate\": pubdate,\n",
    "            }\n",
    "        )\n",
    "\n",
    "chunks_df = pd.DataFrame(chunk_records)\n",
    "chunks_df.to_json(\"data/research_chunks.jsonl\", lines=True, orient=\"records\")"
   ]
  },
  {
   "cell_type": "code",
   "execution_count": 8,
   "id": "5a4e6b96",
   "metadata": {},
   "outputs": [
    {
     "data": {
      "text/html": [
       "<div>\n",
       "<style scoped>\n",
       "    .dataframe tbody tr th:only-of-type {\n",
       "        vertical-align: middle;\n",
       "    }\n",
       "\n",
       "    .dataframe tbody tr th {\n",
       "        vertical-align: top;\n",
       "    }\n",
       "\n",
       "    .dataframe thead th {\n",
       "        text-align: right;\n",
       "    }\n",
       "</style>\n",
       "<table border=\"1\" class=\"dataframe\">\n",
       "  <thead>\n",
       "    <tr style=\"text-align: right;\">\n",
       "      <th></th>\n",
       "      <th>doi</th>\n",
       "      <th>text</th>\n",
       "      <th>citation_count</th>\n",
       "      <th>pubdate</th>\n",
       "    </tr>\n",
       "  </thead>\n",
       "  <tbody>\n",
       "    <tr>\n",
       "      <th>0</th>\n",
       "      <td>10.1086/311318</td>\n",
       "      <td>Detection of Abundant CO&lt;SUB&gt;2&lt;/SUB&gt; Ice in th...</td>\n",
       "      <td>154</td>\n",
       "      <td>19980501</td>\n",
       "    </tr>\n",
       "    <tr>\n",
       "      <th>1</th>\n",
       "      <td>10.1086/311318</td>\n",
       "      <td>Abstract: We report the first detection of sol...</td>\n",
       "      <td>154</td>\n",
       "      <td>19980501</td>\n",
       "    </tr>\n",
       "    <tr>\n",
       "      <th>2</th>\n",
       "      <td>10.1086/311318</td>\n",
       "      <td>&lt;P /&gt;Based on observations with Infrared Space...</td>\n",
       "      <td>154</td>\n",
       "      <td>19980501</td>\n",
       "    </tr>\n",
       "    <tr>\n",
       "      <th>3</th>\n",
       "      <td>10.1086/311318</td>\n",
       "      <td>1. INTRODUCTION Icy mantles are an important c...</td>\n",
       "      <td>154</td>\n",
       "      <td>19980501</td>\n",
       "    </tr>\n",
       "    <tr>\n",
       "      <th>4</th>\n",
       "      <td>10.1086/311318</td>\n",
       "      <td>1986 ; Sandford et al. 1988 ; Bernstein et al....</td>\n",
       "      <td>154</td>\n",
       "      <td>19980501</td>\n",
       "    </tr>\n",
       "  </tbody>\n",
       "</table>\n",
       "</div>"
      ],
      "text/plain": [
       "              doi                                               text  \\\n",
       "0  10.1086/311318  Detection of Abundant CO<SUB>2</SUB> Ice in th...   \n",
       "1  10.1086/311318  Abstract: We report the first detection of sol...   \n",
       "2  10.1086/311318  <P />Based on observations with Infrared Space...   \n",
       "3  10.1086/311318  1. INTRODUCTION Icy mantles are an important c...   \n",
       "4  10.1086/311318  1986 ; Sandford et al. 1988 ; Bernstein et al....   \n",
       "\n",
       "   citation_count   pubdate  \n",
       "0             154  19980501  \n",
       "1             154  19980501  \n",
       "2             154  19980501  \n",
       "3             154  19980501  \n",
       "4             154  19980501  "
      ]
     },
     "execution_count": 8,
     "metadata": {},
     "output_type": "execute_result"
    }
   ],
   "source": [
    "chunks_df.head()"
   ]
  },
  {
   "cell_type": "code",
   "execution_count": 9,
   "id": "b018431b",
   "metadata": {},
   "outputs": [
    {
     "data": {
      "text/plain": [
       "460801"
      ]
     },
     "execution_count": 9,
     "metadata": {},
     "output_type": "execute_result"
    }
   ],
   "source": [
    "len(chunks_df)"
   ]
  },
  {
   "cell_type": "code",
   "execution_count": null,
   "id": "78adced9",
   "metadata": {},
   "outputs": [],
   "source": []
  }
 ],
 "metadata": {
  "kernelspec": {
   "display_name": "citeline",
   "language": "python",
   "name": "python3"
  },
  "language_info": {
   "codemirror_mode": {
    "name": "ipython",
    "version": 3
   },
   "file_extension": ".py",
   "mimetype": "text/x-python",
   "name": "python",
   "nbconvert_exporter": "python",
   "pygments_lexer": "ipython3",
   "version": "3.11.10"
  }
 },
 "nbformat": 4,
 "nbformat_minor": 5
}
