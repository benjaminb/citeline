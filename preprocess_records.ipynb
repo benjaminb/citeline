{
 "cells": [
  {
   "cell_type": "markdown",
   "metadata": {},
   "source": [
    "# Preprocessing Records\n",
    "\n",
    "Takes the `json` files provided by ADS and processes them for Chroma database insertion as three lists:\n",
    "* documents (title + abstract + body) [should we include authors/affiliations?]\n",
    "* metadatas (the original `json`)\n",
    "* ids"
   ]
  },
  {
   "cell_type": "code",
   "execution_count": null,
   "metadata": {},
   "outputs": [
    {
     "name": "stdout",
     "output_type": "stream",
     "text": [
      "Found files:\n",
      "  Earth_Science_Reviews\n",
      "  Earth_Science_Research\n",
      "  Planetary_Research\n",
      "  Planetary_Reviews\n",
      "  Astro_Reviews\n",
      "  Astro_Research\n",
      "Processed Earth_Science_Reviews\n",
      "Processed Earth_Science_Research\n",
      "Processed Planetary_Research\n",
      "Processed Planetary_Reviews\n",
      "Processed Astro_Reviews\n",
      "Processed Astro_Research\n"
     ]
    }
   ],
   "source": [
    "import os\n",
    "import json\n",
    "\n",
    "PATH_TO_DATA = 'data/json/'\n",
    "FILENAMES = os.listdir(PATH_TO_DATA)\n",
    "data = dict()\n",
    "for filename in FILENAMES:\n",
    "    with open(f'{PATH_TO_DATA}/{filename}', 'r') as file:\n",
    "        data[os.path.splitext(os.path.basename(filename))[0]] = json.load(file)\n",
    "\n",
    "print(\"Found files:\")\n",
    "for filename in data:\n",
    "    print(f\"  {filename}\")\n",
    "\n",
    "\n",
    "def preprocess_papers(papers):\n",
    "    # Convert titles from list to string\n",
    "    for paper in papers:\n",
    "        paper['title'] = paper['title'][0]\n",
    "    return papers\n",
    "\n",
    "\n",
    "def construct_document(record, fields):\n",
    "    \"\"\"\n",
    "    Construct a document from the specified fields\n",
    "    \"\"\"\n",
    "    return \"\\n\".join([record[field] for field in fields])\n",
    "\n",
    "\n",
    "def prep_metadata(record):\n",
    "    \"\"\"\n",
    "    JSONify any list or dict fields, as Chroma requires all metadata to be primitive\n",
    "    \"\"\"\n",
    "    return {key: json.dumps(value) if isinstance(value, (list, dict)) else value for key, value in record.items()}\n",
    "\n",
    "\n",
    "data = {key: preprocess_papers(value) for key, value in data.items()}\n",
    "\n",
    "for journal, papers in data.items():\n",
    "    documents = [construct_document(paper, ['title', 'abstract', 'body']) for paper in papers]\n",
    "    metadatas = [prep_metadata(paper) for paper in papers]\n",
    "    ids = [paper['id'] for paper in papers]\n",
    "    # Write out to json file\n",
    "    with open(f'data/processed_for_chroma/{journal}.json', 'w') as file:\n",
    "        json.dump({'documents': documents, 'metadatas': metadatas, 'ids': ids}, file)\n",
    "    print(f\"Processed {journal}\")\n",
    "\n"
   ]
  }
 ],
 "metadata": {
  "kernelspec": {
   "display_name": "citeline",
   "language": "python",
   "name": "python3"
  },
  "language_info": {
   "codemirror_mode": {
    "name": "ipython",
    "version": 3
   },
   "file_extension": ".py",
   "mimetype": "text/x-python",
   "name": "python",
   "nbconvert_exporter": "python",
   "pygments_lexer": "ipython3",
   "version": "3.11.10"
  }
 },
 "nbformat": 4,
 "nbformat_minor": 2
}
