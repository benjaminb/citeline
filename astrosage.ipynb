{
 "cells": [
  {
   "cell_type": "code",
   "execution_count": 5,
   "id": "42602b0b",
   "metadata": {},
   "outputs": [
    {
     "name": "stderr",
     "output_type": "stream",
     "text": [
      "/Users/benjaminbasseri/miniforge3/envs/citeline/lib/python3.11/site-packages/transformers/generation/configuration_utils.py:774: UserWarning: `return_dict_in_generate` is NOT set to `True`, but `output_hidden_states` is. When `return_dict_in_generate` is not `True`, `output_hidden_states` is ignored.\n",
      "  warnings.warn(\n"
     ]
    },
    {
     "data": {
      "application/vnd.jupyter.widget-view+json": {
       "model_id": "b534f108e16144cabcdc35bfa103989e",
       "version_major": 2,
       "version_minor": 0
      },
      "text/plain": [
       "Loading checkpoint shards:   0%|          | 0/4 [00:00<?, ?it/s]"
      ]
     },
     "metadata": {},
     "output_type": "display_data"
    }
   ],
   "source": [
    "from transformers import AutoModelForCausalLM, AutoTokenizer\n",
    "import torch\n",
    "\n",
    "model = AutoModelForCausalLM.from_pretrained(\n",
    "    \"AstroMLab/AstroSage-8b\",\n",
    "    device_map=\"auto\",\n",
    "    output_hidden_states=True  \n",
    ")\n",
    "tokenizer = AutoTokenizer.from_pretrained(\"AstroMLab/AstroSage-8b\")\n",
    "tokenizer.pad_token = tokenizer.eos_token  # Use EOS token for padding\n",
    "tokenizer.padding_side = \"left\"  # Optimal for causal models\n",
    "\n",
    "\n",
    "def get_embeddings(text, pool_method=\"mean\"):\n",
    "    inputs = tokenizer(text, return_tensors=\"pt\", padding=True, truncation=True).to(model.device)\n",
    "    \n",
    "    with torch.no_grad():\n",
    "        outputs = model(**inputs)\n",
    "    \n",
    "    # Corrected access pattern for causal models\n",
    "    last_layer_hidden_states = outputs.hidden_states[-1]  # Shape: [batch_size, seq_len, hidden_size]\n",
    "    \n",
    "    if pool_method == \"mean\":\n",
    "        return last_layer_hidden_states.mean(dim=1).squeeze()\n",
    "    elif pool_method == \"last\":\n",
    "        return last_layer_hidden_states[:, -1, :].squeeze()\n",
    "    else:\n",
    "        raise ValueError(\"Supported methods: 'mean' or 'last'\")\n"
   ]
  },
  {
   "cell_type": "code",
   "execution_count": 6,
   "id": "ba163ff0",
   "metadata": {},
   "outputs": [
    {
     "name": "stdout",
     "output_type": "stream",
     "text": [
      "Embedding shape: torch.Size([4096])\n"
     ]
    }
   ],
   "source": [
    "\n",
    "text = \"The Milky Way is a barred spiral galaxy.\"\n",
    "embedding = get_embeddings([text], pool_method=\"mean\")\n",
    "print(\"Embedding shape:\", embedding.shape)"
   ]
  },
  {
   "cell_type": "code",
   "execution_count": 7,
   "id": "85a34a48",
   "metadata": {},
   "outputs": [
    {
     "data": {
      "text/plain": [
       "0.08212645"
      ]
     },
     "execution_count": 7,
     "metadata": {},
     "output_type": "execute_result"
    }
   ],
   "source": [
    "import numpy as np\n",
    "\n",
    "np.linalg.norm(embedding[0].cpu().numpy())"
   ]
  },
  {
   "cell_type": "code",
   "execution_count": null,
   "id": "6a951be3",
   "metadata": {},
   "outputs": [],
   "source": []
  }
 ],
 "metadata": {
  "kernelspec": {
   "display_name": "citeline",
   "language": "python",
   "name": "python3"
  },
  "language_info": {
   "codemirror_mode": {
    "name": "ipython",
    "version": 3
   },
   "file_extension": ".py",
   "mimetype": "text/x-python",
   "name": "python",
   "nbconvert_exporter": "python",
   "pygments_lexer": "ipython3",
   "version": "3.11.10"
  }
 },
 "nbformat": 4,
 "nbformat_minor": 5
}
