{
 "cells": [
  {
   "cell_type": "code",
   "execution_count": 15,
   "id": "e4d5023d",
   "metadata": {},
   "outputs": [
    {
     "name": "stdout",
     "output_type": "stream",
     "text": [
      "[-5.608546257019043, 5.762267112731934]\n",
      "<class 'list'>\n"
     ]
    }
   ],
   "source": [
    "import torch\n",
    "from transformers import AutoModelForSequenceClassification, AutoTokenizer\n",
    "\n",
    "tokenizer = AutoTokenizer.from_pretrained(\"BAAI/bge-reranker-large\")\n",
    "model = AutoModelForSequenceClassification.from_pretrained(\"BAAI/bge-reranker-large\")\n",
    "model.eval()\n",
    "\n",
    "pairs = [\n",
    "    [\"what is panda?\", \"hi\"],\n",
    "    [\n",
    "        \"what is panda?\",\n",
    "        \"The giant panda (Ailuropoda melanoleuca), sometimes called a panda bear or simply panda, is a bear species endemic to China.\",\n",
    "    ],\n",
    "]\n",
    "with torch.no_grad():\n",
    "    inputs = tokenizer(pairs, padding=True, truncation=True, return_tensors=\"pt\", max_length=512)\n",
    "    # scores = (\n",
    "    #     model(**inputs, return_dict=True)\n",
    "    #     .logits.view(\n",
    "    #         -1,\n",
    "    #     )\n",
    "    #     .float()\n",
    "    # )\n",
    "    outputs = model(**inputs, return_dict=True)\n",
    "    logits = outputs.logits.view(\n",
    "        -1,\n",
    "    )\n",
    "    scores = logits.detach().cpu().numpy().tolist()\n",
    "    print(scores)\n",
    "    print(type(scores))"
   ]
  },
  {
   "cell_type": "code",
   "execution_count": 16,
   "id": "fc1cb345",
   "metadata": {},
   "outputs": [],
   "source": [
    "import pandas as pd\n",
    "\n",
    "scoreseries = pd.Series(scores)"
   ]
  },
  {
   "cell_type": "code",
   "execution_count": 17,
   "id": "aff15899",
   "metadata": {},
   "outputs": [
    {
     "data": {
      "text/plain": [
       "0   -5.608546\n",
       "1    5.762267\n",
       "dtype: float64"
      ]
     },
     "execution_count": 17,
     "metadata": {},
     "output_type": "execute_result"
    }
   ],
   "source": [
    "scoreseries"
   ]
  },
  {
   "cell_type": "code",
   "execution_count": null,
   "id": "f48bd6a5",
   "metadata": {},
   "outputs": [],
   "source": []
  }
 ],
 "metadata": {
  "kernelspec": {
   "display_name": "citeline",
   "language": "python",
   "name": "python3"
  },
  "language_info": {
   "codemirror_mode": {
    "name": "ipython",
    "version": 3
   },
   "file_extension": ".py",
   "mimetype": "text/x-python",
   "name": "python",
   "nbconvert_exporter": "python",
   "pygments_lexer": "ipython3",
   "version": "3.11.10"
  }
 },
 "nbformat": 4,
 "nbformat_minor": 5
}
