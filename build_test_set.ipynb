{
 "cells": [
  {
   "cell_type": "code",
   "execution_count": null,
   "metadata": {},
   "outputs": [],
   "source": [
    "import json\n",
    "import os\n",
    "from pprint import pprint\n",
    "from tqdm import tqdm\n",
    "\n",
    "PATH_TO_DATA = 'data/processed_for_chroma/reviews'\n",
    "FILENAMES = os.listdir(PATH_TO_DATA)\n",
    "data = dict()\n",
    "\n",
    "for filename in FILENAMES:\n",
    "    with open(f'{PATH_TO_DATA}/{filename}', 'r') as file:\n",
    "        data[os.path.splitext(os.path.basename(filename))[0]] = json.load(file)\n",
    "\n",
    "# postprocessing\n",
    "for journal in data:\n",
    "    for d in data[journal]['metadatas']:\n",
    "        # Convert stringified list to list\n",
    "        d['reference'] = json.loads(d['reference'])\n",
    "\n",
    "print(data.keys())\n",
    "data['Astro_Reviews'].keys()"
   ]
  },
  {
   "cell_type": "code",
   "execution_count": 2,
   "metadata": {},
   "outputs": [],
   "source": [
    "paper = data['Astro_Reviews']['metadatas'][0]"
   ]
  },
  {
   "cell_type": "code",
   "execution_count": null,
   "metadata": {},
   "outputs": [],
   "source": [
    "# How many bibcodes are there in this paper's references that start with 1929 and end with 'R'?\n",
    "import re\n",
    "pattern = r'^2000.*B$'\n",
    "matches = [s for s in paper['reference'] if re.match(pattern, s)]\n",
    "print(matches)"
   ]
  },
  {
   "cell_type": "code",
   "execution_count": null,
   "metadata": {},
   "outputs": [],
   "source": [
    "import re\n",
    "\n",
    "# Define the patterns\n",
    "lastname = r\"[A-Z][a-zA-ZÀ-ÖØ-öø-ÿ-]*(?:'[A-Z][a-zA-ZÀ-ÖØ-öø-ÿ-]*)?\"\n",
    "year = r\"\\(?(\\d{4}[a-z]?)\\)?\"\n",
    "name_sep = r\",?\\s\"\n",
    "INLINE_CITATION_PATTERN = fr\"({lastname}(?:{name_sep}{lastname})*(?: et al.?)?)\\s*{year}\"\n",
    "\n",
    "# Compile the regex pattern\n",
    "inline_regex = re.compile(INLINE_CITATION_PATTERN)\n",
    "\n",
    "print(inline_regex)\n",
    "\n",
    "test = \" Delbouille et al. 1981 the future (Section 5). 2. INGREDIENTS FOR SOLAR ABUNDANCE ANALYSIS 2.1. Observations Analyses of th\"\n",
    "\n",
    "# Find all matches using the compiled pattern\n",
    "matches = inline_regex.finditer(test)\n",
    "results = [match for match in matches]\n",
    "print(f\"Results: {len(results)}\")\n",
    "\n",
    "# Print the groups of each match\n",
    "for i, result in enumerate(results):\n",
    "    print(i+1, result.groups())"
   ]
  },
  {
   "cell_type": "markdown",
   "metadata": {},
   "source": [
    "### Get the inline citations from a paper's body"
   ]
  },
  {
   "cell_type": "code",
   "execution_count": null,
   "metadata": {},
   "outputs": [],
   "source": [
    "def get_inline_citations(record: dict) -> list[tuple[str, str]]:\n",
    "    return [match.groups() for match in inline_regex.finditer(record['body'])]\n",
    "\n",
    "# inline_citations = [match.groups() for match in inline_regex.finditer(paper['body'])]\n",
    "inline_citations = get_inline_citations(paper)\n",
    "print(f\"Results: {len(inline_citations)}\")\n",
    "pprint(inline_citations[:5])"
   ]
  },
  {
   "cell_type": "markdown",
   "metadata": {},
   "source": [
    "### Functions to resolve incline citation to bibcode"
   ]
  },
  {
   "cell_type": "code",
   "execution_count": null,
   "metadata": {},
   "outputs": [],
   "source": [
    "# for each result, get the first letter of the first author's last name\n",
    "# get the year\n",
    "def bibcode_regex(author: str, year: str):\n",
    "    \"\"\"\n",
    "    Given first author and year, return a regex pattern for the\n",
    "    corresponding bibcode\n",
    "    \"\"\"\n",
    "    initial = author[0]\n",
    "    year = year[:4] # cut off any letters at the end\n",
    "    pattern = fr'^{year}.*{initial}$'\n",
    "    return re.compile(pattern)\n",
    "\n",
    "def bibcode_matches(inline_citation: tuple[str, str], references: list[str]) -> int:\n",
    "    \"\"\"\n",
    "    Given an inline citation and a list of references, return the number of\n",
    "    references that match the inline citation's bibcode regex pattern\n",
    "    \"\"\"\n",
    "    pattern = bibcode_regex(*inline_citation)\n",
    "    return [s for s in references if pattern.match(s)]\n",
    "\n",
    "def make_citation_bibcode_list(inline_citations: list[tuple[str, str]], references: list[str]) -> list[tuple[tuple[str, str], str]]:\n",
    "    \"\"\"\n",
    "    Given a paper's list of inline citations and list of references, return a list of\n",
    "    tuples where the first element is the inline citation and the second element\n",
    "    is the corresponding bibcode from the references list where there is exactly one match\n",
    "    \"\"\"\n",
    "    return [(citation, matches[0]) for citation in inline_citations \n",
    "            if len((matches := bibcode_matches(citation, references))) == 1]\n",
    "\n",
    "usable_citations = make_citation_bibcode_list(inline_citations, paper['reference'])\n",
    "print(f\"Results: {len(usable_citations)}\")\n",
    "print(usable_citations[:5])"
   ]
  },
  {
   "cell_type": "code",
   "execution_count": null,
   "metadata": {},
   "outputs": [],
   "source": [
    "def get_all_bibcodes_from_file(path: str) -> list[str]:\n",
    "    with open(path, 'r') as file:\n",
    "        return json.load(file)\n",
    "\n",
    "bibcodes = get_all_bibcodes_from_file('data/bibcodes.json')\n",
    "print(f\"Results: {len(bibcodes)}\")\n",
    "print(bibcodes[:5])"
   ]
  },
  {
   "cell_type": "code",
   "execution_count": null,
   "metadata": {},
   "outputs": [],
   "source": [
    "def resolve_inline_references(records, bibcodes):\n",
    "    in_dataset, out_of_dataset = [], []\n",
    "    for record in tqdm(records, desc='Processing records'):\n",
    "        usable_citations = make_citation_bibcode_list(get_inline_citations(record), record['reference'])\n",
    "        for citation in usable_citations:\n",
    "            # Construct the citation dictionary\n",
    "            inline_citation, bibcode = citation\n",
    "            cite_dict = {'source_bibcode': record['bibcode'],\n",
    "                         'inline_citation': inline_citation, \n",
    "                         'reference_bibcode': bibcode}\n",
    "\n",
    "            # Determine if the referenced bibcode is in the dataset or not\n",
    "            in_dataset.append(cite_dict) if bibcode in bibcodes else out_of_dataset.append(cite_dict)\n",
    "    return in_dataset, out_of_dataset\n",
    "\n",
    "have, dont_have = resolve_inline_references(data['Astro_Reviews']['metadatas'][:1], bibcodes)\n",
    "print(f\"In dataset: {len(have)}\")\n",
    "print(f\"Out of dataset: {len(dont_have)}\")\n",
    "pprint(dont_have[:2])"
   ]
  },
  {
   "cell_type": "code",
   "execution_count": null,
   "metadata": {},
   "outputs": [],
   "source": [
    "# Get all the review papers and get a list of their unresolved references\n",
    "\n",
    "all_reviews = [record for journal in data for record in data[journal]['metadatas']]\n",
    "print(len(all_reviews))\n",
    "print(all_reviews[0].keys())\n",
    "\n",
    "have, dont_have = resolve_inline_references(all_reviews, bibcodes)\n",
    "bibcodes_out_of_dataset = set(\n",
    "    [cite['reference_bibcode'] for cite in dont_have])\n",
    "bibcodes_in_dataset = set([cite['reference_bibcode'] for cite in have])\n",
    "print(f\"Unique in dataset bibcodes: {len(bibcodes_in_dataset)}\")\n",
    "print(f\"Unique out of dataset bibcodes: {len(bibcodes_out_of_dataset)}\")"
   ]
  },
  {
   "cell_type": "code",
   "execution_count": null,
   "metadata": {},
   "outputs": [],
   "source": []
  }
 ],
 "metadata": {
  "kernelspec": {
   "display_name": "citeline",
   "language": "python",
   "name": "python3"
  },
  "language_info": {
   "codemirror_mode": {
    "name": "ipython",
    "version": 3
   },
   "file_extension": ".py",
   "mimetype": "text/x-python",
   "name": "python",
   "nbconvert_exporter": "python",
   "pygments_lexer": "ipython3",
   "version": "3.11.10"
  }
 },
 "nbformat": 4,
 "nbformat_minor": 2
}
