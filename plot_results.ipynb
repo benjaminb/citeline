{
 "cells": [
  {
   "cell_type": "code",
   "execution_count": 4,
   "id": "bfac3297",
   "metadata": {},
   "outputs": [],
   "source": [
    "import matplotlib.pyplot as plt\n",
    "from matplotlib.ticker import MultipleLocator\n",
    "import json\n",
    "\n",
    "\n",
    "paths = [\n",
    "    \"experiments/results/chunks_identity_normTrue_n10919_topk1000_20250721_150840/results_chunks_identity_normTrue_n10919_topk1000_20250721_150840.json\",\n",
    "    \"experiments/results/chunks_add_prev_3_normTrue_n10919_topk1000_20250722_110853/results_chunks_add_prev_3_normTrue_n10919_topk1000_20250722_110853.json\",\n",
    "    \"experiments/results/contributions_identity_normTrue_n10919_topk1000_20250721_183047/results_contributions_identity_normTrue_n10919_topk1000_20250721_183047.json\",\n",
    "    \"experiments/results/contributions_add_prev_3_normTrue_n10919_topk1000_20250721_191241/results_contributions_add_prev_3_normTrue_n10919_topk1000_20250721_191241.json\",\n",
    "    \"experiments/results/contributions_add_prev_3_normTrue_n10919_topk1000_20250722_140427/results_contributions_add_prev_3_normTrue_n10919_topk1000_20250722_140427.json\",\n",
    "]\n",
    "\n",
    "names = [\"chunks\", \"chunks+prev3\", \"contributions\", \"contributions+prev3\", \"chunks+contributions+prev3 (50/50)\"]"
   ]
  },
  {
   "cell_type": "code",
   "execution_count": 5,
   "id": "fba6bde9",
   "metadata": {},
   "outputs": [],
   "source": [
    "k_values = [k for k in range(1, 1001)]\n",
    "\n",
    "# Make a plot of the average hit rates (y-axis) and IoU (Jaccard) vs. top-k (x-axis)\n",
    "plt.figure(figsize=(16, 6))\n",
    "for path, name in zip(paths, names):\n",
    "    with open(path, \"r\") as f:\n",
    "        data = json.load(f)\n",
    "    plt.plot(k_values, data['average_hit_rates'], linestyle=\"-\", label=name)\n",
    "plt.xlabel(\"Top-k\")\n",
    "plt.ylabel(\"Score\")\n",
    "plt.title(\"HitRate@k\")\n",
    "plt.legend()\n",
    "plt.grid()\n",
    "\n",
    "# Set x-ticks every 100\n",
    "plt.gca().xaxis.set_major_locator(MultipleLocator(100))\n",
    "plt.savefig(f\"k1000.png\")\n",
    "plt.close()"
   ]
  },
  {
   "cell_type": "code",
   "execution_count": 6,
   "id": "2b754fc4",
   "metadata": {},
   "outputs": [],
   "source": [
    "k_values = [k for k in range(1, 101)]\n",
    "\n",
    "chunk_data = None\n",
    "with open(paths[0], \"r\") as f:\n",
    "    chunk_data = json.load(f)\n",
    "contribution_data = None\n",
    "with open(paths[1], \"r\") as f:\n",
    "    contribution_data = json.load(f)\n",
    "\n",
    "# Make a plot of the average hit rates (y-axis) and IoU (Jaccard) vs. top-k (x-axis)\n",
    "plt.figure(figsize=(16, 8))\n",
    "for path, name in zip(paths, names):\n",
    "    with open(path, \"r\") as f:\n",
    "        data = json.load(f)\n",
    "    plt.plot(k_values, data[\"average_hit_rates\"][:100], linestyle=\"-\", label=name)\n",
    "plt.xlabel(\"Top-k\")\n",
    "plt.ylabel(\"Score\")\n",
    "plt.title(\"HitRate@k\")\n",
    "plt.legend()\n",
    "plt.grid()\n",
    "plt.savefig(f\"k100.png\")\n",
    "plt.close()"
   ]
  },
  {
   "cell_type": "code",
   "execution_count": null,
   "id": "d92012de",
   "metadata": {},
   "outputs": [],
   "source": []
  }
 ],
 "metadata": {
  "kernelspec": {
   "display_name": "citeline",
   "language": "python",
   "name": "python3"
  },
  "language_info": {
   "codemirror_mode": {
    "name": "ipython",
    "version": 3
   },
   "file_extension": ".py",
   "mimetype": "text/x-python",
   "name": "python",
   "nbconvert_exporter": "python",
   "pygments_lexer": "ipython3",
   "version": "3.11.10"
  }
 },
 "nbformat": 4,
 "nbformat_minor": 5
}
