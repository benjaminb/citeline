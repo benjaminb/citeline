{
 "cells": [
  {
   "cell_type": "code",
   "execution_count": 1,
   "id": "cf71f79b",
   "metadata": {},
   "outputs": [
    {
     "name": "stdout",
     "output_type": "stream",
     "text": [
      "<pymilvus.milvus_client.milvus_client.MilvusClient object at 0x11159d3d0>\n"
     ]
    }
   ],
   "source": [
    "from pymilvus import MilvusClient, Collection, FieldSchema, CollectionSchema, DataType, utility\n",
    "client = MilvusClient(alias=\"default\")\n",
    "print(client)"
   ]
  },
  {
   "cell_type": "code",
   "execution_count": 2,
   "id": "14884637",
   "metadata": {},
   "outputs": [
    {
     "name": "stdout",
     "output_type": "stream",
     "text": [
      "<Collection>:\n",
      "-------------\n",
      "<name>: bge_contributions\n",
      "<description>: \n",
      "<schema>: {'auto_id': True, 'description': '', 'fields': [{'name': 'id', 'description': '', 'type': <DataType.INT64: 5>, 'is_primary': True, 'auto_id': True}, {'name': 'text', 'description': '', 'type': <DataType.VARCHAR: 21>, 'params': {'max_length': 4096}}, {'name': 'doi', 'description': '', 'type': <DataType.VARCHAR: 21>, 'params': {'max_length': 64}}, {'name': 'citation_count', 'description': '', 'type': <DataType.INT64: 5>}, {'name': 'pubdate', 'description': '', 'type': <DataType.INT64: 5>}, {'name': 'vector', 'description': '', 'type': <DataType.FLOAT_VECTOR: 101>, 'params': {'dim': 1024}}], 'enable_dynamic_field': True}\n",
      "\n"
     ]
    }
   ],
   "source": [
    "bge_contributions = Collection(name=\"bge_contributions\")\n",
    "print(bge_contributions)"
   ]
  },
  {
   "cell_type": "code",
   "execution_count": 5,
   "id": "f3c222a9",
   "metadata": {},
   "outputs": [],
   "source": [
    "record_pubdate = 20080601\n",
    "results = bge_contributions.query(expr=f\"pubdate <= {record_pubdate}\", output_fields=[\"pubdate\"])\n",
    "for result in results:\n",
    "    pubdate = result['pubdate']\n",
    "    assert pubdate <= record_pubdate, f\"Retrieved pubdate {pubdate} is greater than query pubdate {record_pubdate}\""
   ]
  },
  {
   "cell_type": "code",
   "execution_count": 6,
   "id": "62756a52",
   "metadata": {},
   "outputs": [
    {
     "data": {
      "text/html": [
       "<div>\n",
       "<style scoped>\n",
       "    .dataframe tbody tr th:only-of-type {\n",
       "        vertical-align: middle;\n",
       "    }\n",
       "\n",
       "    .dataframe tbody tr th {\n",
       "        vertical-align: top;\n",
       "    }\n",
       "\n",
       "    .dataframe thead th {\n",
       "        text-align: right;\n",
       "    }\n",
       "</style>\n",
       "<table border=\"1\" class=\"dataframe\">\n",
       "  <thead>\n",
       "    <tr style=\"text-align: right;\">\n",
       "      <th></th>\n",
       "      <th>source_doi</th>\n",
       "      <th>sent_original</th>\n",
       "      <th>sent_no_cit</th>\n",
       "      <th>sent_idx</th>\n",
       "      <th>citation_dois</th>\n",
       "      <th>pubdate</th>\n",
       "      <th>resolved_bibcodes</th>\n",
       "      <th>sent_cit_masked</th>\n",
       "    </tr>\n",
       "  </thead>\n",
       "  <tbody>\n",
       "    <tr>\n",
       "      <th>0</th>\n",
       "      <td>10.1007/s00159-008-0010-0</td>\n",
       "      <td>(Shang et al. 1998), do show unusual, faint fe...</td>\n",
       "      <td>(), do show unusual, faint features in their s...</td>\n",
       "      <td>159</td>\n",
       "      <td>[10.1086/311563]</td>\n",
       "      <td>20080601</td>\n",
       "      <td>[1998ApJ...504L..23S]</td>\n",
       "      <td>([REF]), do show unusual, faint features in th...</td>\n",
       "    </tr>\n",
       "    <tr>\n",
       "      <th>1</th>\n",
       "      <td>10.1016/j.newar.2004.03.017</td>\n",
       "      <td>Novak et al. (2003) studied the dust emission ...</td>\n",
       "      <td>studied the dust emission at 450 μm in the ga...</td>\n",
       "      <td>1329</td>\n",
       "      <td>[10.1086/368156]</td>\n",
       "      <td>20040901</td>\n",
       "      <td>[2003ApJ...583L..83N]</td>\n",
       "      <td>[REF] studied the dust emission at 450 μm in t...</td>\n",
       "    </tr>\n",
       "    <tr>\n",
       "      <th>2</th>\n",
       "      <td>10.1146/annurev-astro-091918-104430</td>\n",
       "      <td>The momentum per unit mass of stars formed del...</td>\n",
       "      <td>The momentum per unit mass of stars formed del...</td>\n",
       "      <td>542</td>\n",
       "      <td>[10.1086/317785]</td>\n",
       "      <td>20190801</td>\n",
       "      <td>[2000ApJ...545..364M]</td>\n",
       "      <td>The momentum per unit mass of stars formed del...</td>\n",
       "    </tr>\n",
       "    <tr>\n",
       "      <th>3</th>\n",
       "      <td>10.1146/annurev-astro-081309-130834</td>\n",
       "      <td>An example of the latter is the dormant blue s...</td>\n",
       "      <td>An example of the latter is the dormant blue s...</td>\n",
       "      <td>815</td>\n",
       "      <td>[10.48550/arXiv.astro-ph/9701042]</td>\n",
       "      <td>20100901</td>\n",
       "      <td>[1997A&amp;A...328..130P]</td>\n",
       "      <td>An example of the latter is the dormant blue s...</td>\n",
       "    </tr>\n",
       "    <tr>\n",
       "      <th>4</th>\n",
       "      <td>10.1146/annurev.astro.37.1.127</td>\n",
       "      <td>Kaiser et al (1995) (see also Luppino Kaiser 1...</td>\n",
       "      <td>(see also  for further developments) compute ...</td>\n",
       "      <td>282</td>\n",
       "      <td>[10.1086/176071, 10.1086/303508, 10.1086/306102]</td>\n",
       "      <td>19990101</td>\n",
       "      <td>[1995ApJ...449..460K, 1997ApJ...475...20L, 199...</td>\n",
       "      <td>[REF] (see also [REF] for further developments...</td>\n",
       "    </tr>\n",
       "  </tbody>\n",
       "</table>\n",
       "</div>"
      ],
      "text/plain": [
       "                            source_doi  \\\n",
       "0            10.1007/s00159-008-0010-0   \n",
       "1          10.1016/j.newar.2004.03.017   \n",
       "2  10.1146/annurev-astro-091918-104430   \n",
       "3  10.1146/annurev-astro-081309-130834   \n",
       "4       10.1146/annurev.astro.37.1.127   \n",
       "\n",
       "                                       sent_original  \\\n",
       "0  (Shang et al. 1998), do show unusual, faint fe...   \n",
       "1  Novak et al. (2003) studied the dust emission ...   \n",
       "2  The momentum per unit mass of stars formed del...   \n",
       "3  An example of the latter is the dormant blue s...   \n",
       "4  Kaiser et al (1995) (see also Luppino Kaiser 1...   \n",
       "\n",
       "                                         sent_no_cit  sent_idx  \\\n",
       "0  (), do show unusual, faint features in their s...       159   \n",
       "1   studied the dust emission at 450 μm in the ga...      1329   \n",
       "2  The momentum per unit mass of stars formed del...       542   \n",
       "3  An example of the latter is the dormant blue s...       815   \n",
       "4   (see also  for further developments) compute ...       282   \n",
       "\n",
       "                                      citation_dois   pubdate  \\\n",
       "0                                  [10.1086/311563]  20080601   \n",
       "1                                  [10.1086/368156]  20040901   \n",
       "2                                  [10.1086/317785]  20190801   \n",
       "3                 [10.48550/arXiv.astro-ph/9701042]  20100901   \n",
       "4  [10.1086/176071, 10.1086/303508, 10.1086/306102]  19990101   \n",
       "\n",
       "                                   resolved_bibcodes  \\\n",
       "0                              [1998ApJ...504L..23S]   \n",
       "1                              [2003ApJ...583L..83N]   \n",
       "2                              [2000ApJ...545..364M]   \n",
       "3                              [1997A&A...328..130P]   \n",
       "4  [1995ApJ...449..460K, 1997ApJ...475...20L, 199...   \n",
       "\n",
       "                                     sent_cit_masked  \n",
       "0  ([REF]), do show unusual, faint features in th...  \n",
       "1  [REF] studied the dust emission at 450 μm in t...  \n",
       "2  The momentum per unit mass of stars formed del...  \n",
       "3  An example of the latter is the dormant blue s...  \n",
       "4  [REF] (see also [REF] for further developments...  "
      ]
     },
     "execution_count": 6,
     "metadata": {},
     "output_type": "execute_result"
    }
   ],
   "source": [
    "import pandas as pd\n",
    "examples = pd.read_json('data/dataset/nontrivial_10.jsonl', lines=True)\n",
    "examples.head()"
   ]
  },
  {
   "cell_type": "code",
   "execution_count": 10,
   "id": "594fb023",
   "metadata": {},
   "outputs": [
    {
     "name": "stdout",
     "output_type": "stream",
     "text": [
      "(10, 1024)\n"
     ]
    }
   ],
   "source": [
    "from embedders import Embedder\n",
    "bge = Embedder.create(\"BAAI/bge-large-en-v1.5\", device=\"mps\", normalize=False, for_queries=True)\n",
    "embeddings = bge(examples['sent_no_cit'])\n",
    "print(embeddings.shape)"
   ]
  },
  {
   "cell_type": "code",
   "execution_count": 7,
   "id": "1358aaf9",
   "metadata": {},
   "outputs": [
    {
     "name": "stdout",
     "output_type": "stream",
     "text": [
      "[{'source_doi': '10.1007/s00159-008-0010-0', 'sent_original': '(Shang et al. 1998), do show unusual, faint features in their surroundings.', 'sent_no_cit': '(), do show unusual, faint features in their surroundings.', 'sent_idx': 159, 'citation_dois': ['10.1086/311563'], 'pubdate': 20080601, 'resolved_bibcodes': ['1998ApJ...504L..23S'], 'sent_cit_masked': '([REF]), do show unusual, faint features in their surroundings.'}, {'source_doi': '10.1016/j.newar.2004.03.017', 'sent_original': 'Novak et al. (2003) studied the dust emission at 450 μm in the galactic plane, and found the magnetic field to be well aligned parallel with the galactic plane (their Fig. 1), within 30 arcmin in longitude and 10 arcmin in latitude of the GC.', 'sent_no_cit': ' studied the dust emission at 450 μm in the galactic plane, and found the magnetic field to be well aligned parallel with the galactic plane (their Fig. 1), within 30 arcmin in longitude and 10 arcmin in latitude of the GC.', 'sent_idx': 1329, 'citation_dois': ['10.1086/368156'], 'pubdate': 20040901, 'resolved_bibcodes': ['2003ApJ...583L..83N'], 'sent_cit_masked': '[REF] studied the dust emission at 450 μm in the galactic plane, and found the magnetic field to be well aligned parallel with the galactic plane (their Fig. 1), within 30 arcmin in longitude and 10 arcmin in latitude of the GC.'}, {'source_doi': '10.1146/annurev-astro-091918-104430', 'sent_original': 'The momentum per unit mass of stars formed delivered by protostellar outflows to their surroundings is of order the escape speed from a protostellar surface (e.g., Matzner McKee 2000 ).', 'sent_no_cit': 'The momentum per unit mass of stars formed delivered by protostellar outflows to their surroundings is of order the escape speed from a protostellar surface (e.g.,  ).', 'sent_idx': 542, 'citation_dois': ['10.1086/317785'], 'pubdate': 20190801, 'resolved_bibcodes': ['2000ApJ...545..364M'], 'sent_cit_masked': 'The momentum per unit mass of stars formed delivered by protostellar outflows to their surroundings is of order the escape speed from a protostellar surface (e.g., [REF] ).'}, {'source_doi': '10.1146/annurev-astro-081309-130834', 'sent_original': 'An example of the latter is the dormant blue straggler population consisting of stars that were rejuvenated by mass transfer or collisions while still on the main sequence and now lurk among their fellow main-sequence stars until they remain behind after the others traverse the Hertzsprung gap ( Portegies Zwart, Hut Verbunt 1997 ).', 'sent_no_cit': 'An example of the latter is the dormant blue straggler population consisting of stars that were rejuvenated by mass transfer or collisions while still on the main sequence and now lurk among their fellow main-sequence stars until they remain behind after the others traverse the Hertzsprung gap (  ).', 'sent_idx': 815, 'citation_dois': ['10.48550/arXiv.astro-ph/9701042'], 'pubdate': 20100901, 'resolved_bibcodes': ['1997A&A...328..130P'], 'sent_cit_masked': 'An example of the latter is the dormant blue straggler population consisting of stars that were rejuvenated by mass transfer or collisions while still on the main sequence and now lurk among their fellow main-sequence stars until they remain behind after the others traverse the Hertzsprung gap ( [REF] ).'}, {'source_doi': '10.1146/annurev.astro.37.1.127', 'sent_original': 'Kaiser et al (1995) (see also Luppino Kaiser 1997 , Hoekstra et al 1998 for further developments) compute the second moment within a variable aperture which depends on the size of individual galaxies; however, instead of an annulus they use a Gaussian filter, and introduce a more rigorous correction of the PSF anisotropy.', 'sent_no_cit': ' (see also  for further developments) compute the second moment within a variable aperture which depends on the size of individual galaxies; however, instead of an annulus they use a Gaussian filter, and introduce a more rigorous correction of the PSF anisotropy.', 'sent_idx': 282, 'citation_dois': ['10.1086/176071', '10.1086/303508', '10.1086/306102'], 'pubdate': 19990101, 'resolved_bibcodes': ['1995ApJ...449..460K', '1997ApJ...475...20L', '1998ApJ...504..636H'], 'sent_cit_masked': '[REF] (see also [REF] for further developments) compute the second moment within a variable aperture which depends on the size of individual galaxies; however, instead of an annulus they use a Gaussian filter, and introduce a more rigorous correction of the PSF anisotropy.'}, {'source_doi': '10.1146/annurev-astro-052622-022933', 'sent_original': 'Overall, these results are consistent with the observations that most CBDs are nearly coplanar with their host binaries ( Czekala et al. 2019 ), whereas circumstellar disks within young stellar binaries are often misaligned (e.g., Jensen Akeson 2014 , Ichikawa et al. 2021 ).', 'sent_no_cit': 'Overall, these results are consistent with the observations that most CBDs are nearly coplanar with their host binaries (  ), whereas circumstellar disks within young stellar binaries are often misaligned (e.g.,  ).', 'sent_idx': 481, 'citation_dois': ['10.3847/1538-4357/ab287b', '10.1038/nature13521', '10.3847/1538-4357/ac0dc3'], 'pubdate': 20230801, 'resolved_bibcodes': ['2019ApJ...883...22C', '2014Natur.511..567J', '2021ApJ...919...55I'], 'sent_cit_masked': 'Overall, these results are consistent with the observations that most CBDs are nearly coplanar with their host binaries ( [REF] ), whereas circumstellar disks within young stellar binaries are often misaligned (e.g., [REF] ).'}, {'source_doi': '10.1146/annurev.aa.31.090193.003441', 'sent_original': 'This mechanism has found favor in the radio-loud objects, in the context of relativistically beamed emission from the jet (e.g. Ghisellini et al 1986) where direct measurement of source sizes and energy densities can be consistent with the observed X-ray fluxes and spectra.', 'sent_no_cit': 'This mechanism has found favor in the radio-loud objects, in the context of relativistically beamed emission from the jet (e.g. ) where direct measurement of source sizes and energy densities can be consistent with the observed X-ray fluxes and spectra.', 'sent_idx': 461, 'citation_dois': ['10.1086/164684'], 'pubdate': 19930101, 'resolved_bibcodes': ['1986ApJ...310..317G'], 'sent_cit_masked': 'This mechanism has found favor in the radio-loud objects, in the context of relativistically beamed emission from the jet (e.g. [REF]) where direct measurement of source sizes and energy densities can be consistent with the observed X-ray fluxes and spectra.'}, {'source_doi': '10.1146/annurev-astro-081913-040006', 'sent_original': 'However, the complementary application of using VLBI to accurately track spacecraft holds great promise ( Duev et al. 2012 ).', 'sent_no_cit': 'However, the complementary application of using VLBI to accurately track spacecraft holds great promise (  ).', 'sent_idx': 558, 'citation_dois': ['10.1051/0004-6361/201218885'], 'pubdate': 20140801, 'resolved_bibcodes': ['2012A&A...541A..43D'], 'sent_cit_masked': 'However, the complementary application of using VLBI to accurately track spacecraft holds great promise ( [REF] ).'}, {'source_doi': '10.1146/annurev-astro-081817-051846', 'sent_original': 'A recent survey of transmission spectra ( Sing et al. 2016 ) spanning the optical and IR ranges provided important constraints on both the properties of clouds/hazes as well as the H 2 O abundances in 10 hot Jupiters.', 'sent_no_cit': 'A recent survey of transmission spectra (  ) spanning the optical and IR ranges provided important constraints on both the properties of clouds/hazes as well as the H 2 O abundances in 10 hot Jupiters.', 'sent_idx': 421, 'citation_dois': ['10.1038/nature16068'], 'pubdate': 20190801, 'resolved_bibcodes': ['2016Natur.529...59S'], 'sent_cit_masked': 'A recent survey of transmission spectra ( [REF] ) spanning the optical and IR ranges provided important constraints on both the properties of clouds/hazes as well as the H 2 O abundances in 10 hot Jupiters.'}, {'source_doi': '10.1146/annurev-astro-071221-053453', 'sent_original': 'It has been posited ( Larson 2005 ) that the transition between these regimes provides ideal conditions for efficient fragmentation and introduces a characteristic mass scale to the system.', 'sent_no_cit': 'It has been posited (  ) that the transition between these regimes provides ideal conditions for efficient fragmentation and introduces a characteristic mass scale to the system.', 'sent_idx': 852, 'citation_dois': ['10.1111/j.1365-2966.2005.08881.x'], 'pubdate': 20230801, 'resolved_bibcodes': ['2005MNRAS.359..211L'], 'sent_cit_masked': 'It has been posited ( [REF] ) that the transition between these regimes provides ideal conditions for efficient fragmentation and introduces a characteristic mass scale to the system.'}]\n"
     ]
    }
   ],
   "source": [
    "examples_basic = examples.to_dict(orient=\"records\")\n",
    "print(examples_basic)"
   ]
  },
  {
   "cell_type": "code",
   "execution_count": 25,
   "id": "1bbbf0e3",
   "metadata": {},
   "outputs": [
    {
     "name": "stdout",
     "output_type": "stream",
     "text": [
      "All hits have prior pubdates: True\n",
      "===\n",
      "All hits have prior pubdates: True\n",
      "===\n",
      "All hits have prior pubdates: True\n",
      "===\n",
      "All hits have prior pubdates: True\n",
      "===\n",
      "All hits have prior pubdates: True\n",
      "===\n",
      "All hits have prior pubdates: True\n",
      "===\n",
      "All hits have prior pubdates: True\n",
      "===\n",
      "All hits have prior pubdates: True\n",
      "===\n",
      "All hits have prior pubdates: True\n",
      "===\n",
      "All hits have prior pubdates: True\n",
      "===\n"
     ]
    }
   ],
   "source": [
    "for record, vector in zip(examples_basic, embeddings):\n",
    "    hits = client.search(\n",
    "                collection_name=\"bge_contributions\",\n",
    "                data=[vector],\n",
    "                anns_field=\"vector\",\n",
    "                search_params={\"metric_type\": \"IP\"},\n",
    "                # param={\"metric_type\": \"IP\"},\n",
    "                limit=3,\n",
    "                output_fields=['pubdate'],\n",
    "                filter=f\"pubdate <= {record['pubdate']}\"\n",
    "    )\n",
    "    print(f\"All hits have prior pubdates: {all(hit['pubdate'] <= record['pubdate'] for hit in hits[0])}\")\n",
    "    print(\"===\")"
   ]
  },
  {
   "cell_type": "markdown",
   "id": "5098fec3",
   "metadata": {},
   "source": [
    "Let's try creating an index on the pubdate"
   ]
  },
  {
   "cell_type": "code",
   "execution_count": 17,
   "id": "a01a9ba2",
   "metadata": {},
   "outputs": [
    {
     "data": {
      "text/plain": [
       "['vector', 'pubdate_index']"
      ]
     },
     "execution_count": 17,
     "metadata": {},
     "output_type": "execute_result"
    }
   ],
   "source": [
    "index_params = client.prepare_index_params()\n",
    "index_params.add_index(\n",
    "    field_name=\"pubdate\",\n",
    "    index_type=\"STL_SORT\",\n",
    "    index_name=\"pubdate_index\"\n",
    ")\n",
    "client.create_index(\n",
    "    collection_name=\"bge_contributions\",\n",
    "    index_params=index_params\n",
    ")\n",
    "\n",
    "# Verify\n",
    "client.list_indexes(\"bge_contributions\")"
   ]
  },
  {
   "cell_type": "code",
   "execution_count": 18,
   "id": "3f38449f",
   "metadata": {},
   "outputs": [
    {
     "name": "stdout",
     "output_type": "stream",
     "text": [
      "[{'id': 460223411266388818, 'distance': 0.7013970017433167, 'entity': {'pubdate': 20240801}}, {'id': 460223411266338740, 'distance': 0.6690324544906616, 'entity': {'pubdate': 20020601}}, {'id': 460223411266304513, 'distance': 0.6650761365890503, 'entity': {'pubdate': 19891101}}, {'id': 460223411266377062, 'distance': 0.6511155962944031, 'entity': {'pubdate': 20050301}}, {'id': 460223411266310089, 'distance': 0.6474418044090271, 'entity': {'pubdate': 20000401}}, {'id': 460223411266360103, 'distance': 0.6473026275634766, 'entity': {'pubdate': 20180101}}, {'id': 460223411266311807, 'distance': 0.645524799823761, 'entity': {'pubdate': 20060801}}, {'id': 460223411266371349, 'distance': 0.6444376707077026, 'entity': {'pubdate': 20050601}}, {'id': 460223411266383306, 'distance': 0.6431231498718262, 'entity': {'pubdate': 20120301}}, {'id': 460223411266361682, 'distance': 0.6428191065788269, 'entity': {'pubdate': 20220301}}]\n",
      "===\n",
      "[{'id': 460223411266355363, 'distance': 0.7332022190093994, 'entity': {'pubdate': 20030201}}, {'id': 460223411266376701, 'distance': 0.73224937915802, 'entity': {'pubdate': 20000101}}, {'id': 460223411266380433, 'distance': 0.730450451374054, 'entity': {'pubdate': 20210501}}, {'id': 460223411266336131, 'distance': 0.7294780611991882, 'entity': {'pubdate': 20021001}}, {'id': 460223411266357859, 'distance': 0.7282957434654236, 'entity': {'pubdate': 20000401}}, {'id': 460223411266386403, 'distance': 0.7257011532783508, 'entity': {'pubdate': 19920201}}, {'id': 460223411266313541, 'distance': 0.7209323644638062, 'entity': {'pubdate': 20090901}}, {'id': 460223411266377414, 'distance': 0.7202997207641602, 'entity': {'pubdate': 20221101}}, {'id': 460223411266347147, 'distance': 0.7196186184883118, 'entity': {'pubdate': 20091201}}, {'id': 460223411266386244, 'distance': 0.7177366614341736, 'entity': {'pubdate': 19870301}}]\n",
      "===\n",
      "[{'id': 460223411266369287, 'distance': 0.712953507900238, 'entity': {'pubdate': 19770801}}, {'id': 460223411266304751, 'distance': 0.7116326093673706, 'entity': {'pubdate': 20090701}}, {'id': 460223411266305060, 'distance': 0.7102100253105164, 'entity': {'pubdate': 20031201}}, {'id': 460223411266329687, 'distance': 0.7014875411987305, 'entity': {'pubdate': 20150201}}, {'id': 460223411266372696, 'distance': 0.6975368857383728, 'entity': {'pubdate': 19900701}}, {'id': 460223411266326880, 'distance': 0.6972943544387817, 'entity': {'pubdate': 20000101}}, {'id': 460223411266316550, 'distance': 0.6945911645889282, 'entity': {'pubdate': 20190301}}, {'id': 460223411266316785, 'distance': 0.694434404373169, 'entity': {'pubdate': 20190401}}, {'id': 460223411266357756, 'distance': 0.6918358206748962, 'entity': {'pubdate': 19920301}}, {'id': 460223411266359724, 'distance': 0.6912160515785217, 'entity': {'pubdate': 20120901}}]\n",
      "===\n",
      "[{'id': 460223411266344564, 'distance': 0.7475560307502747, 'entity': {'pubdate': 19931001}}, {'id': 460223411266324232, 'distance': 0.7394353151321411, 'entity': {'pubdate': 19961201}}, {'id': 460223411266374125, 'distance': 0.7389524579048157, 'entity': {'pubdate': 20120101}}, {'id': 460223411266330011, 'distance': 0.7323746085166931, 'entity': {'pubdate': 19750801}}, {'id': 460223411266305983, 'distance': 0.7293233871459961, 'entity': {'pubdate': 19961001}}, {'id': 460223411266359855, 'distance': 0.7242481708526611, 'entity': {'pubdate': 19791201}}, {'id': 460223411266381452, 'distance': 0.7097113132476807, 'entity': {'pubdate': 20161001}}, {'id': 460223411266372236, 'distance': 0.7069199085235596, 'entity': {'pubdate': 19950201}}, {'id': 460223411266370826, 'distance': 0.7046453356742859, 'entity': {'pubdate': 19870501}}, {'id': 460223411266323433, 'distance': 0.6975626945495605, 'entity': {'pubdate': 20060201}}]\n",
      "===\n",
      "[{'id': 460223411266366000, 'distance': 0.7139926552772522, 'entity': {'pubdate': 19761201}}, {'id': 460223411266369452, 'distance': 0.7064737677574158, 'entity': {'pubdate': 20020201}}, {'id': 460223411266372336, 'distance': 0.6914856433868408, 'entity': {'pubdate': 19950801}}, {'id': 460223411266384629, 'distance': 0.6882827281951904, 'entity': {'pubdate': 20000601}}, {'id': 460223411266385182, 'distance': 0.687099277973175, 'entity': {'pubdate': 20110901}}, {'id': 460223411266340139, 'distance': 0.6863540410995483, 'entity': {'pubdate': 19911201}}, {'id': 460223411266387034, 'distance': 0.6826373934745789, 'entity': {'pubdate': 20030901}}, {'id': 460223411266385183, 'distance': 0.6806672811508179, 'entity': {'pubdate': 20110901}}, {'id': 460223411266382051, 'distance': 0.6771141290664673, 'entity': {'pubdate': 19780901}}, {'id': 460223411266378263, 'distance': 0.6752414703369141, 'entity': {'pubdate': 19880301}}]\n",
      "===\n",
      "[{'id': 460223411266348148, 'distance': 0.813758134841919, 'entity': {'pubdate': 20190901}}, {'id': 460223411266348142, 'distance': 0.7900855541229248, 'entity': {'pubdate': 20190901}}, {'id': 460223411266348145, 'distance': 0.779777467250824, 'entity': {'pubdate': 20190901}}, {'id': 460223411266348439, 'distance': 0.7751778960227966, 'entity': {'pubdate': 20130201}}, {'id': 460223411266348143, 'distance': 0.7726900577545166, 'entity': {'pubdate': 20190901}}, {'id': 460223411266348144, 'distance': 0.7701999545097351, 'entity': {'pubdate': 20190901}}, {'id': 460223411266348435, 'distance': 0.7698447108268738, 'entity': {'pubdate': 20130201}}, {'id': 460223411266332659, 'distance': 0.7489691972732544, 'entity': {'pubdate': 20010701}}, {'id': 460223411266348146, 'distance': 0.7467337846755981, 'entity': {'pubdate': 20190901}}, {'id': 460223411266348147, 'distance': 0.7466105222702026, 'entity': {'pubdate': 20190901}}]\n",
      "===\n",
      "[{'id': 460223411266329387, 'distance': 0.7428677082061768, 'entity': {'pubdate': 20080101}}, {'id': 460223411266377311, 'distance': 0.7425565719604492, 'entity': {'pubdate': 20020601}}, {'id': 460223411266342981, 'distance': 0.7351657748222351, 'entity': {'pubdate': 20060701}}, {'id': 460223411266385255, 'distance': 0.7342653870582581, 'entity': {'pubdate': 20060401}}, {'id': 460223411266340287, 'distance': 0.7341781258583069, 'entity': {'pubdate': 20090701}}, {'id': 460223411266384913, 'distance': 0.7329704165458679, 'entity': {'pubdate': 20051001}}, {'id': 460223411266323837, 'distance': 0.7313717603683472, 'entity': {'pubdate': 20170601}}, {'id': 460223411266381578, 'distance': 0.7244839072227478, 'entity': {'pubdate': 19831001}}, {'id': 460223411266343569, 'distance': 0.7240699529647827, 'entity': {'pubdate': 20000501}}, {'id': 460223411266338544, 'distance': 0.7239747643470764, 'entity': {'pubdate': 20000101}}]\n",
      "===\n",
      "[{'id': 460223411266385753, 'distance': 0.8138898015022278, 'entity': {'pubdate': 20120501}}, {'id': 460223411266375591, 'distance': 0.772585391998291, 'entity': {'pubdate': 20060701}}, {'id': 460223411266352364, 'distance': 0.7641566395759583, 'entity': {'pubdate': 20030501}}, {'id': 460223411266368757, 'distance': 0.7560409903526306, 'entity': {'pubdate': 19791001}}, {'id': 460223411266383523, 'distance': 0.7550622820854187, 'entity': {'pubdate': 19900501}}, {'id': 460223411266381608, 'distance': 0.7521136999130249, 'entity': {'pubdate': 20130601}}, {'id': 460223411266379646, 'distance': 0.748877763748169, 'entity': {'pubdate': 20010501}}, {'id': 460223411266378492, 'distance': 0.744213879108429, 'entity': {'pubdate': 20200101}}, {'id': 460223411266382687, 'distance': 0.7366687655448914, 'entity': {'pubdate': 20160301}}, {'id': 460223411266378331, 'distance': 0.7331855893135071, 'entity': {'pubdate': 20051201}}]\n",
      "===\n",
      "[{'id': 460223411266312458, 'distance': 0.8019561767578125, 'entity': {'pubdate': 20160101}}, {'id': 460223411266307808, 'distance': 0.7805424928665161, 'entity': {'pubdate': 20171201}}, {'id': 460223411266322386, 'distance': 0.7781288623809814, 'entity': {'pubdate': 20190101}}, {'id': 460223411266364563, 'distance': 0.7770462036132812, 'entity': {'pubdate': 20120701}}, {'id': 460223411266320262, 'distance': 0.7656510472297668, 'entity': {'pubdate': 20160501}}, {'id': 460223411266364557, 'distance': 0.7609002590179443, 'entity': {'pubdate': 20120701}}, {'id': 460223411266376672, 'distance': 0.759039580821991, 'entity': {'pubdate': 20230101}}, {'id': 460223411266344595, 'distance': 0.7574126124382019, 'entity': {'pubdate': 20050301}}, {'id': 460223411266322056, 'distance': 0.7487784624099731, 'entity': {'pubdate': 20020301}}, {'id': 460223411266363702, 'distance': 0.746841311454773, 'entity': {'pubdate': 20050601}}]\n",
      "===\n",
      "[{'id': 460223411266304522, 'distance': 0.753960132598877, 'entity': {'pubdate': 20050501}}, {'id': 460223411266327896, 'distance': 0.7276791334152222, 'entity': {'pubdate': 20141201}}, {'id': 460223411266304527, 'distance': 0.7105600833892822, 'entity': {'pubdate': 20050501}}, {'id': 460223411266331112, 'distance': 0.7099884152412415, 'entity': {'pubdate': 20050601}}, {'id': 460223411266317243, 'distance': 0.7030759453773499, 'entity': {'pubdate': 19850601}}, {'id': 460223411266312801, 'distance': 0.6921067237854004, 'entity': {'pubdate': 19910501}}, {'id': 460223411266312802, 'distance': 0.6895759701728821, 'entity': {'pubdate': 19910501}}, {'id': 460223411266388294, 'distance': 0.6855275630950928, 'entity': {'pubdate': 20051001}}, {'id': 460223411266306041, 'distance': 0.6851116418838501, 'entity': {'pubdate': 19970501}}, {'id': 460223411266313275, 'distance': 0.6848960518836975, 'entity': {'pubdate': 20070901}}]\n",
      "===\n"
     ]
    }
   ],
   "source": [
    "for record, vector in zip(examples_basic, embeddings):\n",
    "    hits = bge_contributions.search(\n",
    "        data=[vector],\n",
    "        anns_field=\"vector\",\n",
    "        param={\"metric_type\": \"IP\"},\n",
    "        limit=10,\n",
    "        output_fields=[\"pubdate\"],\n",
    "        filter=f\"pubdate <= 19990101\",\n",
    "    )\n",
    "    print(hits[0])\n",
    "    print(\"===\")"
   ]
  },
  {
   "cell_type": "code",
   "execution_count": null,
   "id": "f5f1d9de",
   "metadata": {},
   "outputs": [],
   "source": []
  }
 ],
 "metadata": {
  "kernelspec": {
   "display_name": "citeline",
   "language": "python",
   "name": "python3"
  },
  "language_info": {
   "codemirror_mode": {
    "name": "ipython",
    "version": 3
   },
   "file_extension": ".py",
   "mimetype": "text/x-python",
   "name": "python",
   "nbconvert_exporter": "python",
   "pygments_lexer": "ipython3",
   "version": "3.11.10"
  }
 },
 "nbformat": 4,
 "nbformat_minor": 5
}
