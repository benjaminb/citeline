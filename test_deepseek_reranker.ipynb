{
 "cells": [
  {
   "cell_type": "code",
   "execution_count": 1,
   "id": "3bd5511f",
   "metadata": {},
   "outputs": [
    {
     "data": {
      "text/html": [
       "<div>\n",
       "<style scoped>\n",
       "    .dataframe tbody tr th:only-of-type {\n",
       "        vertical-align: middle;\n",
       "    }\n",
       "\n",
       "    .dataframe tbody tr th {\n",
       "        vertical-align: top;\n",
       "    }\n",
       "\n",
       "    .dataframe thead th {\n",
       "        text-align: right;\n",
       "    }\n",
       "</style>\n",
       "<table border=\"1\" class=\"dataframe\">\n",
       "  <thead>\n",
       "    <tr style=\"text-align: right;\">\n",
       "      <th></th>\n",
       "      <th>source_doi</th>\n",
       "      <th>sent_original</th>\n",
       "      <th>sent_no_cit</th>\n",
       "      <th>sent_idx</th>\n",
       "      <th>citation_dois</th>\n",
       "      <th>pubdate</th>\n",
       "      <th>resolved_bibcodes</th>\n",
       "    </tr>\n",
       "  </thead>\n",
       "  <tbody>\n",
       "    <tr>\n",
       "      <th>0</th>\n",
       "      <td>10.1146/annurev.astro.46.060407.145222</td>\n",
       "      <td>It is unclear whether the solution can be foun...</td>\n",
       "      <td>It is unclear whether the solution can be foun...</td>\n",
       "      <td>541</td>\n",
       "      <td>[10.1111/j.1365-2966.2009.14750.x]</td>\n",
       "      <td>2009-09-01</td>\n",
       "      <td>[2009MNRAS.396..203S]</td>\n",
       "    </tr>\n",
       "    <tr>\n",
       "      <th>1</th>\n",
       "      <td>10.1016/j.newar.2024.101694</td>\n",
       "      <td>The gravitational effects of the directly-imag...</td>\n",
       "      <td>The gravitational effects of the directly-imag...</td>\n",
       "      <td>276</td>\n",
       "      <td>[10.1051/0004-6361/201834371]</td>\n",
       "      <td>2024-06-01</td>\n",
       "      <td>[2019A&amp;A...623A..72K]</td>\n",
       "    </tr>\n",
       "    <tr>\n",
       "      <th>2</th>\n",
       "      <td>10.1146/annurev-astro-081811-125615</td>\n",
       "      <td>Connolly et al. (1997) and Pascarelle et al. (...</td>\n",
       "      <td>[REF] and [REF] combined the optical HST imagi...</td>\n",
       "      <td>477</td>\n",
       "      <td>[10.1086/310829, 10.1086/311708, 10.1086/30997...</td>\n",
       "      <td>2014-08-01</td>\n",
       "      <td>[1997ApJ...486L..11C, 1998ApJ...508L...1P, 199...</td>\n",
       "    </tr>\n",
       "    <tr>\n",
       "      <th>3</th>\n",
       "      <td>10.1146/annurev-astro-081811-125615</td>\n",
       "      <td>Cowie et al. (1999) and Wilson et al. (2002) c...</td>\n",
       "      <td>[REF] and [REF] combined Keck spectroscopy in ...</td>\n",
       "      <td>481</td>\n",
       "      <td>[10.1086/300959, 10.1086/341818, 10.1086/309975]</td>\n",
       "      <td>2014-08-01</td>\n",
       "      <td>[1999AJ....118..603C, 2002AJ....124.1258W, 199...</td>\n",
       "    </tr>\n",
       "    <tr>\n",
       "      <th>4</th>\n",
       "      <td>10.1146/annurev-astro-091916-055240</td>\n",
       "      <td>Tumlinson et al. (2011 ) found that O vi trace...</td>\n",
       "      <td>[REF] found that O vi traces a warm CGM compon...</td>\n",
       "      <td>348</td>\n",
       "      <td>[10.1126/science.1209840]</td>\n",
       "      <td>2017-08-01</td>\n",
       "      <td>[2011Sci...334..948T]</td>\n",
       "    </tr>\n",
       "  </tbody>\n",
       "</table>\n",
       "</div>"
      ],
      "text/plain": [
       "                               source_doi  \\\n",
       "0  10.1146/annurev.astro.46.060407.145222   \n",
       "1             10.1016/j.newar.2024.101694   \n",
       "2     10.1146/annurev-astro-081811-125615   \n",
       "3     10.1146/annurev-astro-081811-125615   \n",
       "4     10.1146/annurev-astro-091916-055240   \n",
       "\n",
       "                                       sent_original  \\\n",
       "0  It is unclear whether the solution can be foun...   \n",
       "1  The gravitational effects of the directly-imag...   \n",
       "2  Connolly et al. (1997) and Pascarelle et al. (...   \n",
       "3  Cowie et al. (1999) and Wilson et al. (2002) c...   \n",
       "4  Tumlinson et al. (2011 ) found that O vi trace...   \n",
       "\n",
       "                                         sent_no_cit  sent_idx  \\\n",
       "0  It is unclear whether the solution can be foun...       541   \n",
       "1  The gravitational effects of the directly-imag...       276   \n",
       "2  [REF] and [REF] combined the optical HST imagi...       477   \n",
       "3  [REF] and [REF] combined Keck spectroscopy in ...       481   \n",
       "4  [REF] found that O vi traces a warm CGM compon...       348   \n",
       "\n",
       "                                       citation_dois     pubdate  \\\n",
       "0                 [10.1111/j.1365-2966.2009.14750.x]  2009-09-01   \n",
       "1                      [10.1051/0004-6361/201834371]  2024-06-01   \n",
       "2  [10.1086/310829, 10.1086/311708, 10.1086/30997...  2014-08-01   \n",
       "3   [10.1086/300959, 10.1086/341818, 10.1086/309975]  2014-08-01   \n",
       "4                          [10.1126/science.1209840]  2017-08-01   \n",
       "\n",
       "                                   resolved_bibcodes  \n",
       "0                              [2009MNRAS.396..203S]  \n",
       "1                              [2019A&A...623A..72K]  \n",
       "2  [1997ApJ...486L..11C, 1998ApJ...508L...1P, 199...  \n",
       "3  [1999AJ....118..603C, 2002AJ....124.1258W, 199...  \n",
       "4                              [2011Sci...334..948T]  "
      ]
     },
     "execution_count": 1,
     "metadata": {},
     "output_type": "execute_result"
    }
   ],
   "source": [
    "import pandas as pd\n",
    "from pprint import pprint\n",
    "\n",
    "df = pd.read_json('data/dataset/split/small_train.jsonl', lines=True)\n",
    "df.head()"
   ]
  },
  {
   "cell_type": "code",
   "execution_count": 2,
   "id": "62b8754e",
   "metadata": {},
   "outputs": [
    {
     "name": "stdout",
     "output_type": "stream",
     "text": [
      "=================================CONFIG=================================\n",
      "Database         User             Host                             Port            \n",
      "citelinedb       bbasseri         localhost                        5432            \n",
      "========================================================================\n",
      "Database version: ('PostgreSQL 17.5 (Homebrew) on aarch64-apple-darwin24.4.0, compiled by Apple clang version 17.0.0 (clang-1700.0.13.3), 64-bit',)\n"
     ]
    }
   ],
   "source": [
    "from database.database import Database\n",
    "db = Database()\n",
    "db.test_connection()"
   ]
  },
  {
   "cell_type": "markdown",
   "id": "097ec9dc",
   "metadata": {},
   "source": [
    "## Test run: query - top k - deepseek boolean\n",
    "1. Get the top k=20 results from the contributions database\n",
    "1. Check if the target is in the results. If not, pick a different paper (no need using up DS credits)\n",
    "1. Get the 20 or less unique dois from the top 20 results\n",
    "1. Query the db to reconstruct those papers, Title, Abstract, and Body\n",
    "1. Combine the query with the paper for each of those papers to get a 0/1 score\n",
    "1. Keep only the papers with a 1 score"
   ]
  },
  {
   "cell_type": "code",
   "execution_count": 3,
   "id": "0a26d5a9",
   "metadata": {},
   "outputs": [
    {
     "name": "stdout",
     "output_type": "stream",
     "text": [
      "('The gravitational effects of the directly-imaged planet Pic b on its host '\n",
      " 'star, for example, were detected by [REF] with high significance.')\n",
      "['10.1051/0004-6361/201834371']\n",
      "(1024,)\n"
     ]
    }
   ],
   "source": [
    "# Get the query (sentence without citation) and its embedding\n",
    "query_record = df.iloc[1]\n",
    "query = query_record['sent_no_cit']\n",
    "pprint(query)\n",
    "print(query_record['citation_dois'])\n",
    "\n",
    "from Embedders import get_embedder\n",
    "\n",
    "embedder = get_embedder(model_name=\"BAAI/bge-large-en-v1.5\", device=\"mps\", normalize=True)\n",
    "query_vector = embedder([query])[0]\n",
    "print(query_vector.shape)"
   ]
  },
  {
   "cell_type": "code",
   "execution_count": 4,
   "id": "c6ebc45f",
   "metadata": {},
   "outputs": [],
   "source": [
    "db.conn.rollback()"
   ]
  },
  {
   "cell_type": "code",
   "execution_count": 5,
   "id": "6d155758",
   "metadata": {},
   "outputs": [
    {
     "name": "stdout",
     "output_type": "stream",
     "text": [
      "Got 20 results\n"
     ]
    }
   ],
   "source": [
    "# Get the top 20 results\n",
    "results = db.vector_search(\n",
    "    query_vector=query_vector,\n",
    "    table_name=\"contributions\",\n",
    "    target_column=\"embedding\",\n",
    "    pubdate=query_record['pubdate'],\n",
    "    top_k=20,\n",
    "    probes=16\n",
    ")\n",
    "print(f\"Got {len(results)} results\")"
   ]
  },
  {
   "cell_type": "code",
   "execution_count": 6,
   "id": "697c7364",
   "metadata": {},
   "outputs": [
    {
     "name": "stdout",
     "output_type": "stream",
     "text": [
      "Unique DOIs: 17\n",
      "['10.3847/1538-4357/acbb5f', '10.1086/508143', '10.1093/mnras/stx1301', '10.1051/0004-6361/201834371', '10.1086/324269', '10.3847/0004-637X/823/2/102', '10.1086/147433', '10.1093/mnras/staa1522', '10.1086/426733', '10.1088/0004-637X/788/2/119', '10.1093/mnras/staa3854', '10.1088/0004-637X/763/2/113', '10.1111/j.1365-2966.2008.13979.x', '10.1086/312838', '10.1111/j.1365-2966.2007.12610.x', '10.1111/j.1365-2966.2011.20189.x', '10.1051/0004-6361:20077525']\n",
      "Target in results: True\n"
     ]
    }
   ],
   "source": [
    "# Use dict keys to get unique dois while preserving order\n",
    "dois = list(dict.fromkeys([result.doi for result in results]))\n",
    "print(f\"Unique DOIs: {len(dois)}\")\n",
    "print(dois)\n",
    "print(f\"Target in results: {query_record['citation_dois'][0] in dois}\")"
   ]
  },
  {
   "cell_type": "code",
   "execution_count": 7,
   "id": "a1b2aecc",
   "metadata": {},
   "outputs": [],
   "source": [
    "def reconstruct_paper(doi: str) -> str:\n",
    "    query = \"SELECT title, abstract, body FROM papers WHERE doi = %s\"\n",
    "    cursor = db.conn.execute(query, (doi,))\n",
    "    result = cursor.fetchone()\n",
    "    if result:\n",
    "        title, abstract, body = result\n",
    "        return f\"{title}\\n\\nAbstract: {abstract}\\n\\n{body}\"\n",
    "    else:\n",
    "        raise ValueError(f\"No paper found for DOI: {doi}\")"
   ]
  },
  {
   "cell_type": "code",
   "execution_count": 25,
   "id": "50dc0f34",
   "metadata": {},
   "outputs": [],
   "source": [
    "from Rerankers import get_deepseek_boolean\n",
    "\n",
    "import json\n",
    "import logging\n",
    "logging.basicConfig(\n",
    "    filename=\"logs/deepseek.log\",\n",
    "    filemode=\"w\",\n",
    "    level=logging.DEBUG,\n",
    "    format=\"%(asctime)s - %(name)s - %(levelname)s - %(message)s\",\n",
    ")\n",
    "\n",
    "deepseek_boolean = get_deepseek_boolean()\n",
    "\n",
    "MAX_PAPER_LEN = 210_000  # Limit to 210,000 characters ~ 63k tokens\n",
    "\n",
    "# Reconstruct and truncate this paper\n",
    "def should_paper_be_cited(doi: str, query: str) -> dict:\n",
    "    paper = \"\"\n",
    "    try:\n",
    "        full_paper = reconstruct_paper(doi)\n",
    "        paper = full_paper[:MAX_PAPER_LEN]\n",
    "        if len(full_paper) > MAX_PAPER_LEN:\n",
    "            logging.debug(f\"Truncated paper for DOI {doi} from {len(full_paper)} to {MAX_PAPER_LEN} characters\")\n",
    "    except ValueError as e:\n",
    "        logging.error(f\"Error reconstructing paper for DOI {doi}: {e}\")\n",
    "\n",
    "    # Try getting the DeepSeek response\n",
    "    response = None\n",
    "    try:\n",
    "        response = deepseek_boolean(query=query, candidate=paper)\n",
    "    except Exception as e:\n",
    "        logging.error(f\"Error calling DeepSeek API for DOI {doi}: {e}\")\n",
    "\n",
    "    # Parse the response\n",
    "    try:\n",
    "        json_content = json.loads(response.choices[0].message.content)\n",
    "\n",
    "    except json.JSONDecodeError as e:\n",
    "        logging.error(f\"Error parsing JSON response for DOI {doi}: {e}. Response content: {response.choices[0].message.content}\")\n",
    "\n",
    "    try: \n",
    "        should_cite = json_content['should_cite']\n",
    "    except KeyError as e:\n",
    "        logging.error(f\"Error extracting 'should_cite' from JSON response for DOI {doi}: {e}. Response content: {response.choices[0].message.content}\")\n",
    "\n",
    "    logging.info(f\"DOI: {doi}, Should cite: {should_cite}, Reasoning: {json_content.get('reasoning', 'No reasoning key in response')}\")\n",
    "    logging.info(f\"Raw response: {response}\")\n",
    "\n",
    "    return {\n",
    "        \"should_cite\": json_content.get('should_cite'), # Confirmed existence in try block above\n",
    "        \"reasoning\": json_content.get('reasoning', 'No reasoning key in response'),\n",
    "    }"
   ]
  },
  {
   "cell_type": "code",
   "execution_count": 26,
   "id": "37f7ae15",
   "metadata": {},
   "outputs": [
    {
     "name": "stdout",
     "output_type": "stream",
     "text": [
      "{'reasoning': 'The candidate paper discusses the detection of gravitational '\n",
      "              'effects on stars by unseen companions, including black holes, '\n",
      "              \"using Gaia's astrometric measurements. However, the draft text \"\n",
      "              'specifically mentions the gravitational effects of the '\n",
      "              'directly-imaged planet Pic b on its host star, which is a '\n",
      "              'different context and not directly related to the candidate '\n",
      "              \"paper's focus on astrometric measurements of partial orbits \"\n",
      "              'with Gaia for detecting unseen companions like black holes. '\n",
      "              'Therefore, the candidate paper does not provide relevant '\n",
      "              'information or support for the specific example given in the '\n",
      "              'draft text.',\n",
      " 'should_cite': False}\n"
     ]
    }
   ],
   "source": [
    "should_cite = should_paper_be_cited(dois[0], query)\n",
    "pprint(should_cite)"
   ]
  },
  {
   "cell_type": "code",
   "execution_count": 27,
   "id": "2cb5b1da",
   "metadata": {},
   "outputs": [],
   "source": [
    "dois_to_cite = []\n",
    "all_results = []\n",
    "for doi in dois:\n",
    "    results = dict()\n",
    "    try:\n",
    "        results = should_paper_be_cited(doi, query)\n",
    "    except Exception as e:\n",
    "        logging.error(f\"Error processing DOI {doi}: {e}\")\n",
    "        continue\n",
    "\n",
    "    all_results.append(results)\n",
    "    if results['should_cite']:\n",
    "        dois_to_cite.append(doi)\n",
    "\n"
   ]
  },
  {
   "cell_type": "code",
   "execution_count": 29,
   "id": "d7287a37",
   "metadata": {},
   "outputs": [
    {
     "name": "stdout",
     "output_type": "stream",
     "text": [
      "10.1051/0004-6361/201834371\n",
      "10.3847/0004-637X/823/2/102\n",
      "10.1093/mnras/staa1522\n"
     ]
    }
   ],
   "source": [
    "for result in dois_to_cite:\n",
    "    print(result)"
   ]
  },
  {
   "cell_type": "markdown",
   "id": "e0a5a884",
   "metadata": {},
   "source": [
    "IoU: 0.33, relatively good!"
   ]
  },
  {
   "cell_type": "code",
   "execution_count": 34,
   "id": "d995a1fd",
   "metadata": {},
   "outputs": [
    {
     "name": "stdout",
     "output_type": "stream",
     "text": [
      "The gravitational effects of the directly-imaged planet Pic b on its host star, for example, were detected by [REF] with high significance.\n",
      "[REF] and [REF] combined the optical HST imaging of the HDF with ground-based NIR data to improve photometric redshift analyses in the redshift “desert” at 1 z 2, between the regime of [REF] and that of [REF] .\n",
      "[REF] and [REF] combined Keck spectroscopy in several fields with deep U -band imaging to measure shorter rest-frame UV wavelengths (2,000–2,500 Å) at z 1 than were probed in the CFRS analysis of [REF] and derived a shallower rate of decline in the SFRD.\n",
      "[REF] found that O vi traces a warm CGM component that contributes >2×10 9 M ⊙ of gas to the L * baryon budget.\n",
      "The rates of accretion onto galaxies and of outflow out of galaxies are crucial parameters in most models of galaxy evolution ( [REF] ).\n",
      "The EUV ion Ne viii redshifts into the COS band at z >0.5, where a few detections ( [REF] ) hint that it may be present in halos out to 100–200 kpc.\n",
      "Curiously, the first constraints on the details of the GS/E SFH based on the behaviour of its stars in the -[Fe/H] plane are also pre- Gaia ( [REF] ).\n",
      "[Within purely stellar radiation or energetic X-ray photons, either the total number of ionizing photons produced or the total radiated energy, respectively, is what matters for reionization. This is because, in a largely neutral medium, each photoionization produces a host of secondary collisional ionizations, with approximately one hydrogen secondary ionization for every 37 eV of energy in the primary photoelectron ( [REF] ). As the medium becomes more ionized, however, an increasing fraction of this energy is deposited as heat.] Figure 16 depicts the quantity at z >6 according to our best-fit SFH for the range of stellar metallicities 0 Z ∗Z ⊙ .\n",
      "Using the same COS-Halos sample with new COS spectra covering the Lyman limit, and taking a nonparametric approach with a robust treatment of uncertainties, [REF] recently refined the cool CGM mass estimate to be 9.2 ± 4.3 × 10 10 M ⊙ out to 160 kpc.\n"
     ]
    }
   ],
   "source": [
    "for _, query_record in df.iloc[1:].iterrows():\n",
    "    query = query_record.sent_no_cit\n",
    "    print(query)"
   ]
  },
  {
   "cell_type": "code",
   "execution_count": null,
   "id": "edf08989",
   "metadata": {},
   "outputs": [],
   "source": [
    "# Assuming the db has a 'contributions' table already with embedding(1024), text, and doi columns\n",
    "\n",
    "from test_findings import findings\n",
    "print(f\"Imported findings with {len(findings)} entries\")"
   ]
  },
  {
   "cell_type": "code",
   "execution_count": null,
   "id": "f39f6ee3",
   "metadata": {},
   "outputs": [],
   "source": [
    "from Embedders import get_embedder\n",
    "embedder = get_embedder(model_name='BAAI/bge-large-en-v1.5', device='mps', normalize=True)"
   ]
  },
  {
   "cell_type": "code",
   "execution_count": null,
   "id": "4cdc9ddd",
   "metadata": {},
   "outputs": [],
   "source": [
    "from tqdm import tqdm\n",
    "# For each entry in findings, embed the string list\n",
    "# insert these into the database\n",
    "for doi, sentences in findings.items():\n",
    "    print(f\"Processing DOI: {doi} with {len(sentences)} sentences\")\n",
    "    embeddings = embedder(sentences)\n",
    "\n",
    "    # Get the associated pubdate\n",
    "    pubdate = research[research['doi'] == doi]['pubdate'].values[0] if not research[research['doi'] == doi].empty else None\n",
    "    if not pubdate:\n",
    "        print(f\"Warning: No pubdate found for DOI {doi}. Skipping.\")\n",
    "        continue\n",
    "    with db.conn.cursor() as cursor:\n",
    "        for embedding, text in zip(embeddings, sentences):\n",
    "            # Insert into the database\n",
    "            cursor.execute(\n",
    "                \"INSERT INTO contributions (embedding, text, pubdate, doi) VALUES (%s, %s, %s, %s)\",\n",
    "                (embedding, text, pubdate, doi)\n",
    "            )\n",
    "    db.conn.commit()"
   ]
  },
  {
   "cell_type": "code",
   "execution_count": null,
   "id": "47bf06a5",
   "metadata": {},
   "outputs": [],
   "source": []
  }
 ],
 "metadata": {
  "kernelspec": {
   "display_name": "citeline",
   "language": "python",
   "name": "python3"
  },
  "language_info": {
   "codemirror_mode": {
    "name": "ipython",
    "version": 3
   },
   "file_extension": ".py",
   "mimetype": "text/x-python",
   "name": "python",
   "nbconvert_exporter": "python",
   "pygments_lexer": "ipython3",
   "version": "3.11.10"
  }
 },
 "nbformat": 4,
 "nbformat_minor": 5
}
