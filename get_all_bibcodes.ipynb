{
 "cells": [
  {
   "cell_type": "code",
   "execution_count": null,
   "metadata": {},
   "outputs": [
    {
     "name": "stdout",
     "output_type": "stream",
     "text": [
      "['Earth_Science_Research.json', 'Planetary_Research.json', 'Astro_Research.json']\n",
      "<class 'dict'>\n",
      "dict_keys(['bibcode', 'abstract', 'aff', 'author', 'bibstem', 'doctype', 'doi', 'id', 'pubdate', 'title', 'read_count', 'reference', 'citation_count', 'citation', 'body'])\n"
     ]
    }
   ],
   "source": [
    "import json\n",
    "import os\n",
    "import re\n",
    "\n",
    "PATH_TO_DATA = \"data/processed_for_chroma/research\"\n",
    "\n",
    "\n",
    "def bibcode_regex(author: str, year: str):\n",
    "    \"\"\"\n",
    "    Given first author and year, return a regex pattern for the\n",
    "    corresponding bibcode\n",
    "    \"\"\"\n",
    "    initial = author[0]\n",
    "    year = year[:4]  # cut off any letters at the end\n",
    "    pattern = fr'^{year}.*{initial}$'\n",
    "    return re.compile(pattern)\n",
    "\n",
    "\n",
    "def bibcode_matches(inline_citation: tuple[str, str], references: list[str]) -> int:\n",
    "    \"\"\"\n",
    "    Given an inline citation and a list of references, return the number of\n",
    "    references that match the inline citation's bibcode regex pattern\n",
    "    \"\"\"\n",
    "    pattern = bibcode_regex(*inline_citation)\n",
    "    return [s for s in references if pattern.match(s)]\n",
    "\n",
    "\n",
    "def make_citation_bibcode_list(inline_citations: list[tuple[str, str]], references: list[str]) -> list[tuple[tuple[str, str], str]]:\n",
    "    \"\"\"\n",
    "    Given a paper's list of inline citations and list of references, return a list of\n",
    "    tuples where the first element is the inline citation and the second element\n",
    "    is the corresponding bibcode from the references list where there is exactly one match\n",
    "    \"\"\"\n",
    "    return [(citation, matches[0]) for citation in inline_citations\n",
    "            if len((matches := bibcode_matches(citation, references))) == 1]\n",
    "\n",
    "\n",
    "def get_json_docs(filename: list[str]) -> dict:\n",
    "    \"\"\"\n",
    "    Given a filename, return the json data as a list of dictionaries,\n",
    "    and deserialize the 'reference' field\n",
    "    \"\"\"\n",
    "    with open(f'{PATH_TO_DATA}/{filename}', 'r') as file:\n",
    "        data = json.load(file)\n",
    "    metadatas = data['metadatas']\n",
    "    return [{**metadatas, 'reference': json.loads(metadatas['reference'])} for metadatas in metadatas]\n",
    "\n",
    "    \n",
    "\n",
    "\n",
    "filenames = os.listdir(PATH_TO_DATA)\n",
    "print(filenames)\n",
    "data = get_json_docs(filenames[0])\n",
    "print(type(data[0]))\n",
    "print(data[0].keys())"
   ]
  },
  {
   "cell_type": "code",
   "execution_count": null,
   "metadata": {},
   "outputs": [],
   "source": []
  }
 ],
 "metadata": {
  "kernelspec": {
   "display_name": "citeline",
   "language": "python",
   "name": "python3"
  },
  "language_info": {
   "codemirror_mode": {
    "name": "ipython",
    "version": 3
   },
   "file_extension": ".py",
   "mimetype": "text/x-python",
   "name": "python",
   "nbconvert_exporter": "python",
   "pygments_lexer": "ipython3",
   "version": "3.11.10"
  }
 },
 "nbformat": 4,
 "nbformat_minor": 2
}
