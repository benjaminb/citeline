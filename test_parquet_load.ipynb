{
 "cells": [
  {
   "cell_type": "code",
   "execution_count": 1,
   "id": "3c4700e9",
   "metadata": {},
   "outputs": [
    {
     "name": "stdout",
     "output_type": "stream",
     "text": [
      "Got 100 records\n"
     ]
    }
   ],
   "source": [
    "import pandas as pd\n",
    "import json\n",
    "\n",
    "# data = pd.read_json(\"experiments/results/baseline_no_ref/search_results.jsonl\", lines=True)\n",
    "# data.head()\n",
    "json_data = [json.loads(line) for line in open(\"experiments/results/test/search_results.jsonl\")]\n",
    "print(f\"Got {len(json_data)} records\")"
   ]
  },
  {
   "cell_type": "code",
   "execution_count": 2,
   "id": "ea82969e",
   "metadata": {},
   "outputs": [
    {
     "name": "stdout",
     "output_type": "stream",
     "text": [
      "['recency', 'log_citations']\n",
      "[0.5, 0.5]\n"
     ]
    }
   ],
   "source": [
    "from rank_fuser import RankFuser\n",
    "\n",
    "rf = RankFuser(\n",
    "    config={\n",
    "        \"recency\": 0.5,\n",
    "        \"log_citations\": 0.5,\n",
    "    }\n",
    ")\n",
    "print([metric.name for metric in rf.metrics])\n",
    "print(rf.weights)"
   ]
  },
  {
   "cell_type": "code",
   "execution_count": 3,
   "id": "58de60b1",
   "metadata": {},
   "outputs": [],
   "source": [
    "reranked_df = rf.rerank(json_data)"
   ]
  },
  {
   "cell_type": "code",
   "execution_count": null,
   "id": "9307a729",
   "metadata": {},
   "outputs": [
    {
     "name": "stdout",
     "output_type": "stream",
     "text": [
      "<class 'dict'>\n",
      "<class 'pandas.core.frame.DataFrame'>\n",
      "     pubdate  citation_count  \\\n",
      "0   20030201             909   \n",
      "1   20030201             909   \n",
      "2   20001001             888   \n",
      "3   20061001             197   \n",
      "4   19970301             862   \n",
      "5   19991101             609   \n",
      "6   19800701            1411   \n",
      "7   20050801             132   \n",
      "8   19881001             494   \n",
      "9   20020901             119   \n",
      "10  20020901             119   \n",
      "11  19950601             244   \n",
      "12  19661101             732   \n",
      "13  19950101             236   \n",
      "14  19831101             408   \n",
      "15  19831101             408   \n",
      "16  19980901             130   \n",
      "17  19931001              91   \n",
      "18  19960401              57   \n",
      "19  19881001              78   \n",
      "\n",
      "                                                 text  \\\n",
      "0   Note that the 2MASS images may not be sensitiv...   \n",
      "1   Figure 2 shows NGC 253 as seen in the near‐inf...   \n",
      "2   Two events for which we have an HST image (eve...   \n",
      "3   On a larger scale Phillips et al. ( 1996 ) and...   \n",
      "4   1984 ). In Figure 7 we present R ‐band CCD ima...   \n",
      "5   It is thus of interest to exploit the improved...   \n",
      "6   These include data for the nuclear bulges of M...   \n",
      "7   The late‐type spiral galaxy NGC 300 is ideal f...   \n",
      "8   Diffuse emission at 12 and 25 pm is seen along...   \n",
      "9   Outer edges of face-on spiral galaxies AA 392,...   \n",
      "10  Outer edges of face-on spiral galaxies. Deep o...   \n",
      "11  In most other cases, while localized concentra...   \n",
      "12  In general, the more conspicuous the peculiari...   \n",
      "13  This is very reminiscent of the classical beha...   \n",
      "14  This value is the same as that of the brightes...   \n",
      "15  1148-285 (NGC 3923).—The NE outermost shell of...   \n",
      "16  1. INTRODUCTION NGC 5907 is an edge‐on spiral ...   \n",
      "17  In our sample of 40 SO galaxies, six galaxies ...   \n",
      "18  THE ASTROPHYSICAL JOURNAL, 460: 651-664, 1996 ...   \n",
      "19  Many of these are barred. A more quantitative ...   \n",
      "\n",
      "                                doi    metric  weighted_score   recency  \\\n",
      "0                    10.1086/345794  0.734241        2.484025 -1.845394   \n",
      "1                    10.1086/345794  0.743746        2.484025 -1.845394   \n",
      "2                    10.1086/309512  0.735600        2.315346 -2.159405   \n",
      "3                    10.1086/505166  0.753424        2.153591 -0.981086   \n",
      "4                    10.1086/303765  0.736532        2.127340 -2.505735   \n",
      "5   10.48550/arXiv.astro-ph/9904225  0.737088        2.076726 -2.260008   \n",
      "6                    10.1086/190674  0.733651        1.944151 -3.364460   \n",
      "7                    10.1086/430512  0.727838        1.773263 -1.343824   \n",
      "8                    10.1086/191283  0.730089        1.588034 -3.028489   \n",
      "9        10.1051/0004-6361:20020994  0.739644        1.439013 -1.909466   \n",
      "10       10.1051/0004-6361:20020994  0.736050        1.439013 -1.909466   \n",
      "11                   10.1086/117470  0.728871        1.431027 -2.639204   \n",
      "12                   10.1086/190147  0.749718        1.422851 -3.751443   \n",
      "13                   10.1086/175101  0.729097        1.399879 -2.668302   \n",
      "14                   10.1086/161467  0.745731        1.385890 -3.241934   \n",
      "15                   10.1086/161467  0.727412        1.385890 -3.241934   \n",
      "16                   10.1086/311563  0.727993        1.250170 -2.374858   \n",
      "17                   10.1086/116735  0.735560        0.885127 -2.751535   \n",
      "18                   10.1086/176999  0.730237        0.741364 -2.577714   \n",
      "19                   10.1086/166764  0.734233        0.670479 -3.028489   \n",
      "\n",
      "    log_citations  \n",
      "0        6.813445  \n",
      "1        6.813445  \n",
      "2        6.790097  \n",
      "3        5.288267  \n",
      "4        6.760415  \n",
      "5        6.413459  \n",
      "6        7.252762  \n",
      "7        4.890349  \n",
      "8        6.204558  \n",
      "9        4.787492  \n",
      "10       4.787492  \n",
      "11       5.501258  \n",
      "12       6.597146  \n",
      "13       5.468060  \n",
      "14       6.013715  \n",
      "15       6.013715  \n",
      "16       4.875197  \n",
      "17       4.521789  \n",
      "18       4.060443  \n",
      "19       4.369448  \n"
     ]
    }
   ],
   "source": [
    "print(type(reranked_df[0]))\n",
    "print(type(reranked_df[0][\"results\"]))\n",
    "print(reranked_df[0][\"results\"])"
   ]
  },
  {
   "cell_type": "code",
   "execution_count": null,
   "id": "c69d6f0c",
   "metadata": {},
   "outputs": [
    {
     "name": "stderr",
     "output_type": "stream",
     "text": [
      "Computing statistics: 100%|██████████| 100/100 [00:00<00:00, 6150.01it/s]\n"
     ]
    },
    {
     "name": "stdout",
     "output_type": "stream",
     "text": [
      "hitrate: [0.2  0.31 0.35 0.37 0.41 0.42 0.45 0.47 0.47 0.5 ]\n",
      "iou: [0.16083333 0.167      0.15583333 0.1445     0.14169048 0.13761905\n",
      " 0.13634524 0.12967857 0.12664683 0.12249603]\n",
      "recall: [0.16083333 0.26083333 0.30083333 0.32666667 0.36       0.3775\n",
      " 0.4075     0.4275     0.4325     0.4575    ]\n"
     ]
    },
    {
     "name": "stderr",
     "output_type": "stream",
     "text": [
      "Computing statistics: 100%|██████████| 100/100 [00:00<00:00, 5266.51it/s]"
     ]
    },
    {
     "name": "stdout",
     "output_type": "stream",
     "text": [
      "hitrate: [0.06 0.1  0.13 0.21 0.22 0.29 0.31 0.33 0.36 0.39]\n",
      "iou: [0.04833333 0.07       0.07166667 0.09542857 0.09175    0.09820635\n",
      " 0.09570238 0.09400397 0.0958254  0.09726227]\n",
      "recall: [0.04833333 0.08333333 0.10583333 0.1725     0.1825     0.2375\n",
      " 0.26583333 0.28083333 0.30583333 0.33083333]\n"
     ]
    },
    {
     "name": "stderr",
     "output_type": "stream",
     "text": [
      "\n"
     ]
    }
   ],
   "source": [
    "from statistics_computation import compute_statistics, improvement\n",
    "\n",
    "old_stats = compute_statistics(json_data)\n",
    "for key, value in old_stats.items():\n",
    "    print(f\"{key}: {value[:10]}\")\n",
    "\n",
    "new_stats = compute_statistics(reranked_df)\n",
    "for key, value in new_stats.items():\n",
    "    print(f\"{key}: {value[:10]}\")"
   ]
  },
  {
   "cell_type": "code",
   "execution_count": 6,
   "id": "2e0d0482",
   "metadata": {},
   "outputs": [],
   "source": [
    "diffs = improvement(old_stats, new_stats)"
   ]
  },
  {
   "cell_type": "code",
   "execution_count": null,
   "id": "8c51f8df",
   "metadata": {},
   "outputs": [
    {
     "name": "stdout",
     "output_type": "stream",
     "text": [
      "{'hitrate': array([-0.14, -0.21, -0.22, -0.16, -0.19, -0.13, -0.14, -0.14, -0.11,\n",
      "       -0.11, -0.1 , -0.08, -0.07, -0.06, -0.04, -0.05, -0.03, -0.02,\n",
      "       -0.01,  0.  ]), 'iou': array([-0.1125    , -0.097     , -0.08416667, -0.04907143, -0.04994048,\n",
      "       -0.0394127 , -0.04064286, -0.0356746 , -0.03082143, -0.02523377,\n",
      "       -0.02355483, -0.01651154, -0.01811508, -0.01181807, -0.00688861,\n",
      "       -0.00670258,  0.00130184,  0.0009053 ,  0.00214983,  0.        ]), 'recall': array([-0.1125    , -0.1775    , -0.195     , -0.15416667, -0.1775    ,\n",
      "       -0.14      , -0.14166667, -0.14666667, -0.12666667, -0.12666667,\n",
      "       -0.11      , -0.0875    , -0.08083333, -0.06916667, -0.04666667,\n",
      "       -0.05666667, -0.03666667, -0.03333333, -0.01333333,  0.        ])}\n"
     ]
    }
   ],
   "source": [
    "import"
   ]
  },
  {
   "cell_type": "code",
   "execution_count": null,
   "id": "e8633897",
   "metadata": {},
   "outputs": [],
   "source": []
  }
 ],
 "metadata": {
  "kernelspec": {
   "display_name": "citeline",
   "language": "python",
   "name": "python3"
  },
  "language_info": {
   "codemirror_mode": {
    "name": "ipython",
    "version": 3
   },
   "file_extension": ".py",
   "mimetype": "text/x-python",
   "name": "python",
   "nbconvert_exporter": "python",
   "pygments_lexer": "ipython3",
   "version": "3.11.10"
  }
 },
 "nbformat": 4,
 "nbformat_minor": 5
}
