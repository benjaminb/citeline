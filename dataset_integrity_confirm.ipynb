{
 "cells": [
  {
   "cell_type": "markdown",
   "id": "f3c749d3",
   "metadata": {},
   "source": [
    "The set of doi's in every representation of the data at rest must equal the set of doi's cited by the dataset"
   ]
  },
  {
   "cell_type": "code",
   "execution_count": 1,
   "id": "7e709326",
   "metadata": {},
   "outputs": [],
   "source": [
    "import pandas as pd\n",
    "\n",
    "PATH_TO_QUERY_DATASET = \"data/dataset/nontrivial_filtered.jsonl\"\n",
    "PATH_TO_CHUNKS = \"data/research_chunks.jsonl\"\n",
    "PATH_TO_CONTRIBUTIONS = \"data/research_contributions.jsonl\"\n",
    "\n",
    "\n"
   ]
  },
  {
   "cell_type": "code",
   "execution_count": 2,
   "id": "663df354",
   "metadata": {},
   "outputs": [
    {
     "name": "stdout",
     "output_type": "stream",
     "text": [
      "Number of distinct doi's cited by query dataset: 10017\n"
     ]
    }
   ],
   "source": [
    "queries = pd.read_json(PATH_TO_QUERY_DATASET, lines=True)\n",
    "query_dois = set()\n",
    "for _, row in queries.iterrows():\n",
    "    query_dois.update(row[\"citation_dois\"])\n",
    "print(f\"Number of distinct doi's cited by query dataset: {len(query_dois)}\")"
   ]
  },
  {
   "cell_type": "code",
   "execution_count": 3,
   "id": "551f77fb",
   "metadata": {},
   "outputs": [
    {
     "name": "stdout",
     "output_type": "stream",
     "text": [
      "Number of distinct doi's cited by chunk dataset: 9989\n"
     ]
    }
   ],
   "source": [
    "chunks = pd.read_json(PATH_TO_CHUNKS, lines=True)\n",
    "chunk_dois = set(chunks['doi'])\n",
    "\n",
    "print(f\"Number of distinct doi's cited by chunk dataset: {len(chunk_dois)}\")"
   ]
  },
  {
   "cell_type": "code",
   "execution_count": 4,
   "id": "00624111",
   "metadata": {},
   "outputs": [
    {
     "name": "stdout",
     "output_type": "stream",
     "text": [
      "Number of distinct doi's cited by contribution dataset: 9989\n"
     ]
    }
   ],
   "source": [
    "contributions = pd.read_json(PATH_TO_CONTRIBUTIONS, lines=True)\n",
    "contribution_dois = set(contributions['doi'])\n",
    "print(f\"Number of distinct doi's cited by contribution dataset: {len(contribution_dois)}\")"
   ]
  },
  {
   "cell_type": "code",
   "execution_count": 5,
   "id": "c47e05db",
   "metadata": {},
   "outputs": [
    {
     "data": {
      "text/plain": [
       "True"
      ]
     },
     "execution_count": 5,
     "metadata": {},
     "output_type": "execute_result"
    }
   ],
   "source": [
    "chunk_dois == contribution_dois"
   ]
  },
  {
   "cell_type": "code",
   "execution_count": 6,
   "id": "695fa526",
   "metadata": {},
   "outputs": [
    {
     "data": {
      "text/plain": [
       "True"
      ]
     },
     "execution_count": 6,
     "metadata": {},
     "output_type": "execute_result"
    }
   ],
   "source": [
    "chunk_dois.issubset(query_dois)"
   ]
  },
  {
   "cell_type": "code",
   "execution_count": 7,
   "id": "59d7d077",
   "metadata": {},
   "outputs": [
    {
     "name": "stdout",
     "output_type": "stream",
     "text": [
      "Queries now have 14735 rows\n",
      "Number of distinct doi's cited by query dataset: 9980\n"
     ]
    }
   ],
   "source": [
    "# Remove from the query data any rows where any of the citation dois are not in the chunk_dois\n",
    "queries = queries[queries[\"citation_dois\"].apply(lambda dois: all(doi in chunk_dois for doi in dois))]\n",
    "print(f\"Queries now have {len(queries)} rows\")\n",
    "query_dois = set()\n",
    "for _, row in queries.iterrows():\n",
    "    query_dois.update(row[\"citation_dois\"])\n",
    "print(f\"Number of distinct doi's cited by query dataset: {len(query_dois)}\")"
   ]
  },
  {
   "cell_type": "code",
   "execution_count": 8,
   "id": "c88c8fbb",
   "metadata": {},
   "outputs": [
    {
     "data": {
      "text/plain": [
       "True"
      ]
     },
     "execution_count": 8,
     "metadata": {},
     "output_type": "execute_result"
    }
   ],
   "source": [
    "query_dois.issubset(chunk_dois)"
   ]
  },
  {
   "cell_type": "code",
   "execution_count": 9,
   "id": "85f22128",
   "metadata": {},
   "outputs": [],
   "source": [
    "queries.to_json(\"data/dataset/nontrivial_checked.jsonl\", lines=True, orient=\"records\")"
   ]
  },
  {
   "cell_type": "code",
   "execution_count": null,
   "id": "14d4ce64",
   "metadata": {},
   "outputs": [],
   "source": []
  }
 ],
 "metadata": {
  "kernelspec": {
   "display_name": "citeline",
   "language": "python",
   "name": "python3"
  },
  "language_info": {
   "codemirror_mode": {
    "name": "ipython",
    "version": 3
   },
   "file_extension": ".py",
   "mimetype": "text/x-python",
   "name": "python",
   "nbconvert_exporter": "python",
   "pygments_lexer": "ipython3",
   "version": "3.11.10"
  }
 },
 "nbformat": 4,
 "nbformat_minor": 5
}
