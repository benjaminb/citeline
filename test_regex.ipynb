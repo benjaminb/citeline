{
 "cells": [
  {
   "cell_type": "code",
   "execution_count": 10,
   "metadata": {},
   "outputs": [],
   "source": [
    "import ast\n",
    "import re\n",
    "from tqdm import tqdm\n",
    "from parsing import get_inline_citations\n",
    "from utils import load_dataset"
   ]
  },
  {
   "cell_type": "code",
   "execution_count": 2,
   "metadata": {},
   "outputs": [
    {
     "name": "stdout",
     "output_type": "stream",
     "text": [
      "data/sentence_segmented/Astro_Reviews.json: 996/996 have all required keys\n",
      "352\n"
     ]
    }
   ],
   "source": [
    "astro_reviews = load_dataset(\"data/sentence_segmented/Astro_Reviews.json\")\n",
    "citations = get_inline_citations(astro_reviews[0]['body'])\n",
    "print(len(citations))"
   ]
  },
  {
   "cell_type": "code",
   "execution_count": 6,
   "metadata": {},
   "outputs": [],
   "source": [
    "import os\n",
    "import PyPDF2\n",
    "import requests\n",
    "from pprint import pprint\n",
    "\n",
    "\n",
    "def ask_ollama(prompt):\n",
    "    url = \"http://localhost:11434/api/generate\"\n",
    "    payload = {\n",
    "        \"model\": \"llama3.3\",\n",
    "        \"prompt\": prompt,\n",
    "        \"temperature\": 0.01,\n",
    "        \"stream\": False\n",
    "    }\n",
    "\n",
    "    response = requests.post(url, json=payload)\n",
    "    result = response.json()\n",
    "    return result['response']"
   ]
  },
  {
   "cell_type": "code",
   "execution_count": 21,
   "metadata": {},
   "outputs": [
    {
     "name": "stdout",
     "output_type": "stream",
     "text": [
      " [('Drawin', 1968), ('Holweger', 2001), ('Holweger', 1974)]\n"
     ]
    }
   ],
   "source": [
    "prompt = \"\"\"\n",
    "Extract and output ONLY the inline citations from the text below as a list of tuples\n",
    "- Each citation becomes a (string, int) tuple where the string is the first author's name and the int is the year\n",
    "- If there are no citations in the text, output []\n",
    "- Do not count citations 'in preparation' or lacking a year\n",
    "- Do not include any introductory text, explanations, or anything before or after the array\n",
    "\n",
    "Examples of inline citations:\n",
    "'''\n",
    "Sentence: \"Like Caffau et al. (2008a) , we have similar findings.\"\n",
    "Output: [('Caffau et al.', 2008)]\n",
    "\n",
    "Sentence: \"Methods for mixing below the convection zone are well understood ( Brun, Turck-Chièze Zahn 1999 , Charbonnel Talon 2005 ).\"\n",
    "Output: [('Brun', 1999), ('Charbonnel', 2005)]\n",
    "\n",
    "Sentence: \"Momentum balance gives an expression ( Fabian 1999 ; Fabian, Wilman Crawford 2002 ; King 2003 , 2005 )\"\n",
    "Output: [('Fabian', 1999), ('Fabian', 2002), ('King', 2003), ('King', 2005)]\n",
    "\n",
    "Sentence: \"This is consistent with previous results (Pereira et al., in preparation).\"\n",
    "Output: []\n",
    "'''\n",
    "\n",
    "Now extract the inline citations from the following text:\n",
    "'''\n",
    "{text}\n",
    "'''\n",
    "\n",
    "Output format: \n",
    "[('first author', year), ('first author', year), ...]\n",
    "\"\"\"\n",
    "text = 'neglect the H collisions altogether based on the available atomic physics data for other elements, while others use the classical Drawin (1968) formula, possibly with a scaling factor S H that typically varies from 0 to 1. Holweger (2001) found log ε O = 8.71 ± 0.05 using the Holweger Müller (1974) model with granulation corrections'\n",
    "\n",
    "# print(prompt.format(text=text))\n",
    "response = ask_ollama(prompt.format(text=text))\n",
    "print(response)"
   ]
  },
  {
   "cell_type": "code",
   "execution_count": 19,
   "metadata": {},
   "outputs": [
    {
     "name": "stdout",
     "output_type": "stream",
     "text": [
      "<class 'list'>\n",
      "[('Drawin', 1968), ('Holweger', 2001), ('Holweger Müller', 1974)]\n"
     ]
    }
   ],
   "source": [
    "LIST_PATTERN = re.compile(r\"\\[.*?\\]\")\n",
    "\n",
    "def response_to_list(response):\n",
    "    match = re.search(LIST_PATTERN, response)\n",
    "    if not match:\n",
    "        print(\"No match found:\", response)\n",
    "        return []\n",
    "    try:\n",
    "        lst = ast.literal_eval(match.group())\n",
    "        return lst\n",
    "    except Exception as e:\n",
    "        with open('unparsed_citations.txt', 'a') as f:\n",
    "            f.write(match.group() + \"\\n\")\n",
    "        return []\n",
    "\n",
    "postprocess_response = response_to_list(response)\n",
    "print(type(postprocess_response))\n",
    "print(postprocess_response)"
   ]
  },
  {
   "cell_type": "code",
   "execution_count": 13,
   "metadata": {},
   "outputs": [
    {
     "name": "stderr",
     "output_type": "stream",
     "text": [
      " 10%|█         | 1/10 [00:02<00:23,  2.61s/it]"
     ]
    },
    {
     "name": "stdout",
     "output_type": "stream",
     "text": [
      "Sentence: 1. INTRODUCTION It has been realized over the past decade that the black hole at the center of a galaxy bulge is no mere ornament but may play a major role in determining the final stellar mass of the bulge. \n",
      "Citations: []\n",
      "=====\n"
     ]
    },
    {
     "name": "stderr",
     "output_type": "stream",
     "text": [
      " 20%|██        | 2/10 [00:04<00:17,  2.13s/it]"
     ]
    },
    {
     "name": "stdout",
     "output_type": "stream",
     "text": [
      "Sentence: The process by which this occurs is known as AGN (active galactic nuclei) feedback, and it takes place through an interaction between the energy and radiation generated by accretion onto the massive black hole (the active nucleus) and the gas in the host galaxy. \n",
      "Citations: []\n",
      "=====\n"
     ]
    },
    {
     "name": "stderr",
     "output_type": "stream",
     "text": [
      " 30%|███       | 3/10 [00:06<00:13,  1.98s/it]"
     ]
    },
    {
     "name": "stdout",
     "output_type": "stream",
     "text": [
      "Sentence: The possibility arises where the intense flux of photons and particles produced by the active nucleus sweeps the galaxy bulge clean of interstellar gas, terminates star formation, and, through lack of fuel for accretion, terminates the active galactic nucleus. \n",
      "Citations: []\n",
      "=====\n"
     ]
    },
    {
     "name": "stderr",
     "output_type": "stream",
     "text": [
      " 40%|████      | 4/10 [00:07<00:10,  1.72s/it]"
     ]
    },
    {
     "name": "stdout",
     "output_type": "stream",
     "text": [
      "Sentence: The ratio of the size of the black hole to that of its massive host galaxy is tiny and similar to a coin in comparison to Earth. \n",
      "Citations: []\n",
      "=====\n"
     ]
    },
    {
     "name": "stderr",
     "output_type": "stream",
     "text": [
      " 50%|█████     | 5/10 [00:08<00:07,  1.58s/it]"
     ]
    },
    {
     "name": "stdout",
     "output_type": "stream",
     "text": [
      "Sentence: The feedback process must therefore operate over a hundred- to thousand-millionfold range of scale (i.e., 10 8 –10 9 ). \n",
      "Citations: []\n",
      "=====\n"
     ]
    },
    {
     "name": "stderr",
     "output_type": "stream",
     "text": [
      " 60%|██████    | 6/10 [00:10<00:05,  1.49s/it]"
     ]
    },
    {
     "name": "stdout",
     "output_type": "stream",
     "text": [
      "Sentence: The details of the feedback are complex and the observational evidence is not always clear. \n",
      "Citations: []\n",
      "=====\n"
     ]
    },
    {
     "name": "stderr",
     "output_type": "stream",
     "text": [
      " 70%|███████   | 7/10 [00:11<00:04,  1.44s/it]"
     ]
    },
    {
     "name": "stdout",
     "output_type": "stream",
     "text": [
      "Sentence: The overall picture in terms of energetics is fairly straightforward and at least two major modes have been identified, differentiated by the nature of the energy outflow near the black hole. \n",
      "Citations: []\n",
      "=====\n"
     ]
    },
    {
     "name": "stderr",
     "output_type": "stream",
     "text": [
      " 80%|████████  | 8/10 [00:13<00:03,  1.55s/it]"
     ]
    },
    {
     "name": "stdout",
     "output_type": "stream",
     "text": [
      "Sentence: The first is the radiative mode, also known as the quasar or wind mode, which operates, or operated, in a typical bulge when the accreting black hole was close to the Eddington limit. \n",
      "Citations: []\n",
      "=====\n"
     ]
    },
    {
     "name": "stderr",
     "output_type": "stream",
     "text": [
      " 90%|█████████ | 9/10 [00:14<00:01,  1.48s/it]"
     ]
    },
    {
     "name": "stdout",
     "output_type": "stream",
     "text": [
      "Sentence: It is most concerned with pushing cold gas about. \n",
      "Citations: []\n",
      "=====\n"
     ]
    },
    {
     "name": "stderr",
     "output_type": "stream",
     "text": [
      "100%|██████████| 10/10 [00:15<00:00,  1.60s/it]"
     ]
    },
    {
     "name": "stdout",
     "output_type": "stream",
     "text": [
      "Sentence: The second mode is the kinetic mode, also known as the radio jet or maintenance mode. \n",
      "Citations: []\n",
      "=====\n",
      "0\n"
     ]
    },
    {
     "name": "stderr",
     "output_type": "stream",
     "text": [
      "\n"
     ]
    }
   ],
   "source": [
    "citations = []\n",
    "for sentence in tqdm(astro_reviews[0]['body_sentences']):\n",
    "    new_citations = response_to_list(ask_ollama(prompt.format(text=sentence)))\n",
    "    print(f\"Sentence: {sentence}\")\n",
    "    print(f\"Citations: {new_citations}\")\n",
    "    print(\"=====\")\n",
    "    citations.extend(new_citations)\n",
    "\n",
    "print(len(citations))"
   ]
  },
  {
   "cell_type": "code",
   "execution_count": 22,
   "metadata": {},
   "outputs": [
    {
     "name": "stdout",
     "output_type": "stream",
     "text": [
      "326\n"
     ]
    }
   ],
   "source": [
    "print(len(citations))"
   ]
  },
  {
   "cell_type": "code",
   "execution_count": 26,
   "metadata": {},
   "outputs": [
    {
     "name": "stdout",
     "output_type": "stream",
     "text": [
      "('Kormendy', 2001)\n",
      "('Merritt', 2001)\n",
      "('Häring', 2004)\n",
      "('Jahnke', 2011)\n",
      "('Kauffmann', 2000)\n",
      "('Granato', 2004)\n",
      "('Di Matteo', 2005)\n",
      "('Springel', 2005)\n",
      "('Bower', 2006)\n",
      "('Croton', 2006)\n",
      "('Hopkins', 2006)\n",
      "('Ciotti', 2010)\n",
      "('Scannapieco', 2012)\n",
      "('Silk Rees', 1998)\n",
      "('Haehnelt, Natarajan Rees', 1998)\n",
      "('Fabian', 1999)\n",
      "('Fabian', 2002)\n",
      "('King', 2003)\n",
      "('King', 2005)\n",
      "('Murray', 2005)\n",
      "('Gültekin', 2009)\n",
      "('Kollmeier', 2006)\n",
      "('Steinhardt Elvis', 2010)\n",
      "('King', 2003)\n",
      "('Laor', 1993)\n",
      "('Scoville', 1995)\n",
      "('Murray', 2005)\n",
      "('Fabian', 2008)\n",
      "('Raimundo', 2010)\n",
      "('Faber Jackson', 1976)\n",
      "('Djorgovski', 1987)\n",
      "('Faber', 1987)\n",
      "('Sanders McGaugh', 2002)\n",
      "('Silk Nusser', 2010)\n",
      "('van Dokkum', 2010)\n",
      "('Blandford Payne', 1982)\n",
      "('Reynolds', 1997)\n",
      "('Crenshaw', 2003)\n",
      "('Blustin', 2005)\n",
      "('Weymann', 1991)\n",
      "('Ganguly', 2007)\n",
      "('Pounds', 2003)\n",
      "('Reeves', 2009)\n",
      "('Tombesi', 2010)\n",
      "('Tombesi', 2012)\n",
      "('Tombesi', 2010)\n",
      "('Reeves', 2009)\n",
      "('Rupke Veilleux', 2011)\n",
      "('Dunn', 2010)\n",
      "('Moe', 2009)\n",
      "('Saez', 2009)\n",
      "('Heckman', 2000)\n",
      "('Veilleux', 2005)\n",
      "('Strickland', 2009)\n",
      "('Weiner', 2009)\n",
      "('Rupke Veilleux', 2011)\n",
      "('Ferruglio', 2010)\n",
      "('Fischer', 2010)\n",
      "('Smith', 1995)\n",
      "('Farrah', 2012)\n",
      "('Sturm', 2011)\n",
      "('Greene', 2012)\n",
      "('Tremonti', 2007)\n",
      "('Alexander', 2010)\n",
      "('Cano-Díaz', 2012)\n",
      "('Prochaska', 2009)\n",
      "('Maiolino', 'none')\n",
      "('Morganti', 2005)\n",
      "('Morganti', 2007)\n",
      "('Holt', 2008)\n",
      "('Nesvadba', 2008)\n",
      "('Nesvadba', 2011)\n",
      "('Ueda', 2003)\n",
      "('Hasinger', 2005)\n",
      "('Barger', 2005)\n",
      "('Rigby', 2011)\n",
      "('Sanders', 1988)\n",
      "('Springel', 2005)\n",
      "('Nandra', 2007)\n",
      "('Schawinski', 2007)\n",
      "('Wild, Heckman Charlot', 2010)\n",
      "('Hopkins', 2012)\n",
      "('Bell', 2012)\n",
      "('Brammer', 2009)\n",
      "('Cardamone', 2010)\n",
      "('Page', 2012)\n",
      "('Santini', 2012)\n",
      "('Cisternas', 2011)\n",
      "('Schawinski', 2011)\n",
      "('Tacconi', 2008)\n",
      "('Engel', 2010)\n",
      "('Riechers', 2011)\n",
      "('Koss', 2010)\n",
      "('Genzel', 2008)\n",
      "('Orban de Xivry', 2011)\n",
      "('Kocevski', 2012)\n",
      "('Aird', 2012)\n",
      "('Kauffmann Heckman', 2009)\n",
      "('Alexander', 2012)\n",
      "('Berti', 2008)\n",
      "('Soltan', 1982)\n",
      "('Fabian', 1999)\n",
      "('Elvis', 2002)\n",
      "('Marconi', 2004)\n",
      "('Raimundo', 2009)\n",
      "('Kormendy', 2009)\n",
      "('Fabian', 1994)\n",
      "('Schmidt', 2001)\n",
      "('McNamara', 2006)\n",
      "('Fabian', 2006)\n",
      "('Blanton', 2004)\n",
      "('Sanders', 2010)\n",
      "('Humphrey', 2011)\n",
      "('Egami', 2006)\n",
      "('Fabian', 1982)\n",
      "('Van Dokkum Conroy', 2010)\n",
      "('Cappellari et al.', 2012)\n",
      "('Fabian', 1994)\n",
      "('Matsuura', 2011)\n",
      "('Loh', 2010)\n",
      "('Peterson', 2001)\n",
      "('Tamura', 2001)\n",
      "('Peterson', 2003)\n",
      "('Burns', 1990)\n",
      "('Sun', 2009)\n",
      "('Pedlar', 1990)\n",
      "('Baum', 1991)\n",
      "('Tabor', 1993)\n",
      "('Tucker', 1997)\n",
      "('Cavagnolo', 2010)\n",
      "('Voigt', 2004)\n",
      "('Peterson Fabian', 2006)\n",
      "('McNamara Nulsen', 2007)\n",
      "('Cattaneo', 2009)\n",
      "('Churazov', 2000)\n",
      "('Churazov', 2001)\n",
      "('McNamara', 2000)\n",
      "('Dunn Fabian', 2006)\n",
      "('Dunn Fabian', 2008)\n",
      "('Dunn', 2006)\n",
      "('Mittal', 2009)\n",
      "('Million', 2010)\n",
      "('Rafferty', 2006)\n",
      "('Rafferty', 2008)\n",
      "('McNamara', 2007)\n",
      "('Cavagnolo', 2011)\n",
      "('Randall', 2011)\n",
      "('Blanton', 2011)\n",
      "('David', 2011)\n",
      "('Fanaroff Riley', 1974)\n",
      "('Gull', 1973)\n",
      "('Branduardi-Raymont', 1981)\n",
      "('Fabian', 1981)\n",
      "('Boehringer', 1993)\n",
      "('Graham, Fabian Sanders', '2008a')\n",
      "('Churazov', 2002)\n",
      "('Fabian', 2006)\n",
      "('Diehl', 2008)\n",
      "('Fabian', 2011)\n",
      "('Reynolds', 2005)\n",
      "('Lyutikov', 2006)\n",
      "('Fabian', 2003)\n",
      "('Fabian', 2006)\n",
      "('Forman', 2007)\n",
      "('Sanders', 2008)\n",
      "('Blanton', 2011)\n",
      "('Ruszkowski', 2004)\n",
      "('Sijacki', 2006)\n",
      "('Graham', 2008)\n",
      "('Fabian', 2005)\n",
      "('Taylor', 2007)\n",
      "('Kunz', 2011)\n",
      "('Parrish', 2012)\n",
      "('Choi Stone', 2012)\n",
      "('Rebusco', 2006)\n",
      "('Graham', 2006)\n",
      "('Werner', 2010)\n",
      "('Werner', 2011)\n",
      "('Simionescu', 2009)\n",
      "('Pizzalato Soker', 2010)\n",
      "('Narayan Fabian', 2011)\n",
      "('Bondi', 1952)\n",
      "('Narayan', 2011)\n",
      "('Allen', 2006)\n",
      "('Di Matteo', 2003)\n",
      "('Hada', 2011)\n",
      "('Wong', 2011)\n",
      "('Rafferty', 2006)\n",
      "('Hardcastle', 2007)\n",
      "('McNamara', 2011)\n",
      "('Peterson', 2003)\n",
      "('Sanders', 2008)\n",
      "('Sanders', 2008)\n",
      "('Sanders', 2008)\n",
      "('McNamara', 2009)\n",
      "('Arp', None)\n",
      "('Forman', 2007)\n",
      "('McNamara', 2009)\n",
      "('Crawford', 1999)\n",
      "('Hu', 1985)\n",
      "('Heckman', 1989)\n",
      "('Cavagnolo', 2008)\n",
      "('Ferland', 2009)\n",
      "('Edge', 2001)\n",
      "('Salomé Combes', 2003)\n",
      "('Jaffe, Bremer van der Werf', 2001)\n",
      "('Edge et al.', 2002)\n",
      "('Johnstone et al.', 2007)\n",
      "('Fabian', 2008)\n",
      "('Salomé', 2006)\n",
      "('Fabian', 2008)\n",
      "(\"O'Dea\", 2008)\n",
      "('Hatch', 2005)\n",
      "('Lim', 2012)\n",
      "('Salomé', 2011)\n",
      "('Canning', 2010)\n",
      "('Egami', 2006)\n",
      "(\"O'Dea\", 2008)\n",
      "('Edge', 2010)\n",
      "('Voit Donahue', 2011)\n",
      "('Hatch', 2006)\n",
      "('Fabian', 2003)\n",
      "(\"O'Dea\", 2008)\n",
      "(\"O'Dea\", 2010)\n",
      "('Fabian', 2002)\n",
      "('Soker', 2004)\n",
      "('Crawford Fabian', 1992)\n",
      "('Ferland', 2008)\n",
      "('Ferland', 2009)\n",
      "('Fabian', 2011)\n",
      "('Fabian', 2008)\n",
      "('Lazarian', 2011)\n",
      "('Oonk', 2011)\n",
      "('Oegerle', 2001)\n",
      "('Bregman', 2006)\n",
      "('McDonald', 2012)\n",
      "('Canning', 2011)\n",
      "('Edwards', 2009)\n",
      "('Oonk', 2010)\n",
      "('Johnstone', 2007)\n",
      "('Donahue', 2011)\n",
      "('Egami', 2006)\n",
      "('Edge', 2010)\n",
      "('Mittal', 2011)\n",
      "('Salomé', 2008)\n",
      "('Bayet', 2011)\n",
      "('Dasyra', 2012)\n",
      "('Sanders', 2010)\n",
      "('Vazza', 2009)\n",
      "('Churazov', 2008)\n",
      "('Werner', 2009)\n",
      "('Bauer', 2005)\n",
      "('Hlavacek-Larrondo', 2012)\n",
      "('Vikhlinin', 2007)\n",
      "('Santos', 2010)\n",
      "('Santos', 2012)\n",
      "('Russell', 2012)\n",
      "('Russell', 2010)\n",
      "('Aravena', 2011)\n",
      "('Siemigiowska', 2010)\n",
      "('Russell', 2012)\n",
      "('Crawford Fabian', 2003)\n",
      "('McCarthy', 1995)\n",
      "('Stockton', 2006)\n",
      "('Hallman Markevitch', 2004)\n",
      "('Canning', 2012)\n",
      "('Poole', 2006)\n",
      "('Fabian', 1984)\n",
      "('Burns', 2008)\n",
      "('Hlavacek-Larrondo', 2012)\n",
      "('Hlavacek-Larrondo', 2011)\n",
      "('Ogrean', 2010)\n",
      "('Ehlert', 2011)\n",
      "('Rasmussen Ponman', 2009)\n",
      "('Sun', 2009)\n",
      "('Nulsen', 2007)\n",
      "('Diehl Statler', 2008)\n",
      "('Humphrey', 2011)\n",
      "('Kormendy', 2009)\n",
      "('Davies', 2011)\n",
      "('Kormendy', 2009)\n",
      "('Santra', 2007)\n",
      "('Gallo', 2008)\n",
      "('Vikhlinin', 2001)\n",
      "('Santra', 2007)\n",
      "('Sun', 2007)\n",
      "('Di Matteo', 2003)\n",
      "('Allen', 2006)\n",
      "('Merloni Heinz', 2008)\n",
      "('Cattaneo Best', 2009)\n",
      "('Kaiser', 1986)\n",
      "('Markevitch', 1998)\n",
      "('Valageas', 1999)\n",
      "('Wu', 2000)\n",
      "('McCarthy', 2011)\n",
      "('Allen', 2008)\n",
      "('Vikhlinin', 2006)\n",
      "('Gonzalez', 2007)\n",
      "('Giodini', 2009)\n",
      "('Balogh', 2008)\n",
      "('Humphrey', 2012)\n",
      "('Wu', 2000)\n",
      "('Lapi', 2005)\n",
      "('Vikhlinin', 2006)\n",
      "('Dai', 2010)\n",
      "('Young', 2011)\n",
      "('Miley De Breuck', 2008)\n",
      "('Blundell Rawlings', 1999)\n",
      "('Erlund', 2006)\n",
      "('Gopal-Krishna', 2001)\n",
      "('Mocz', 2011)\n",
      "('Cen', 1999)\n",
      "('Churazov', 2005)\n",
      "('Gallo', 2005)\n",
      "('Fender Belloni', 2004)\n",
      "('Remillard McClintock', 2006)\n",
      "('Merloni', 2003)\n",
      "('Miller', 2008)\n",
      "('Neilsen Lee', 2009)\n",
      "('King', 2012)\n",
      "('Ponti', 2012)\n",
      "('Takahashi', 2010)\n",
      "('Carilli', 2012)\n",
      "('Carilli', 2012)\n",
      "('Churazov', 2005)\n",
      "('van Daalen', 2011)\n"
     ]
    }
   ],
   "source": [
    "for i, citation in enumerate(citations):\n",
    "    print(citation)"
   ]
  },
  {
   "cell_type": "code",
   "execution_count": 20,
   "metadata": {},
   "outputs": [
    {
     "name": "stderr",
     "output_type": "stream",
     "text": [
      "  0%|          | 1/600 [00:04<43:22,  4.34s/it]"
     ]
    },
    {
     "name": "stdout",
     "output_type": "stream",
     "text": [
      "Sentence: 1. INTRODUCTION It has been realized over the past decade that the black hole at the center of a galaxy bulge is no mere ornament but may play a major role in determining the final stellar mass of the bulge. \n",
      "Citations: []\n",
      "=====\n"
     ]
    },
    {
     "name": "stderr",
     "output_type": "stream",
     "text": [
      "  0%|          | 2/600 [00:06<28:21,  2.85s/it]"
     ]
    },
    {
     "name": "stdout",
     "output_type": "stream",
     "text": [
      "Sentence: The process by which this occurs is known as AGN (active galactic nuclei) feedback, and it takes place through an interaction between the energy and radiation generated by accretion onto the massive black hole (the active nucleus) and the gas in the host galaxy. \n",
      "Citations: []\n",
      "=====\n"
     ]
    },
    {
     "name": "stderr",
     "output_type": "stream",
     "text": [
      "  0%|          | 3/600 [00:07<23:29,  2.36s/it]"
     ]
    },
    {
     "name": "stdout",
     "output_type": "stream",
     "text": [
      "Sentence: The possibility arises where the intense flux of photons and particles produced by the active nucleus sweeps the galaxy bulge clean of interstellar gas, terminates star formation, and, through lack of fuel for accretion, terminates the active galactic nucleus. \n",
      "Citations: []\n",
      "=====\n"
     ]
    },
    {
     "name": "stderr",
     "output_type": "stream",
     "text": [
      "  1%|          | 4/600 [00:09<19:22,  1.95s/it]"
     ]
    },
    {
     "name": "stdout",
     "output_type": "stream",
     "text": [
      "Sentence: The ratio of the size of the black hole to that of its massive host galaxy is tiny and similar to a coin in comparison to Earth. \n",
      "Citations: []\n",
      "=====\n"
     ]
    },
    {
     "name": "stderr",
     "output_type": "stream",
     "text": [
      "  1%|          | 5/600 [00:10<17:07,  1.73s/it]"
     ]
    },
    {
     "name": "stdout",
     "output_type": "stream",
     "text": [
      "Sentence: The feedback process must therefore operate over a hundred- to thousand-millionfold range of scale (i.e., 10 8 –10 9 ). \n",
      "Citations: []\n",
      "=====\n"
     ]
    },
    {
     "name": "stderr",
     "output_type": "stream",
     "text": [
      "  1%|          | 6/600 [00:11<15:42,  1.59s/it]"
     ]
    },
    {
     "name": "stdout",
     "output_type": "stream",
     "text": [
      "Sentence: The details of the feedback are complex and the observational evidence is not always clear. \n",
      "Citations: []\n",
      "=====\n"
     ]
    },
    {
     "name": "stderr",
     "output_type": "stream",
     "text": [
      "  1%|          | 7/600 [00:13<14:51,  1.50s/it]"
     ]
    },
    {
     "name": "stdout",
     "output_type": "stream",
     "text": [
      "Sentence: The overall picture in terms of energetics is fairly straightforward and at least two major modes have been identified, differentiated by the nature of the energy outflow near the black hole. \n",
      "Citations: []\n",
      "=====\n"
     ]
    },
    {
     "name": "stderr",
     "output_type": "stream",
     "text": [
      "  1%|▏         | 8/600 [00:15<15:42,  1.59s/it]"
     ]
    },
    {
     "name": "stdout",
     "output_type": "stream",
     "text": [
      "Sentence: The first is the radiative mode, also known as the quasar or wind mode, which operates, or operated, in a typical bulge when the accreting black hole was close to the Eddington limit. \n",
      "Citations: []\n",
      "=====\n"
     ]
    },
    {
     "name": "stderr",
     "output_type": "stream",
     "text": [
      "  2%|▏         | 9/600 [00:16<14:48,  1.50s/it]"
     ]
    },
    {
     "name": "stdout",
     "output_type": "stream",
     "text": [
      "Sentence: It is most concerned with pushing cold gas about. \n",
      "Citations: []\n",
      "=====\n"
     ]
    },
    {
     "name": "stderr",
     "output_type": "stream",
     "text": [
      "  2%|▏         | 10/600 [00:17<14:13,  1.45s/it]"
     ]
    },
    {
     "name": "stdout",
     "output_type": "stream",
     "text": [
      "Sentence: The second mode is the kinetic mode, also known as the radio jet or maintenance mode. \n",
      "Citations: []\n",
      "=====\n"
     ]
    },
    {
     "name": "stderr",
     "output_type": "stream",
     "text": [
      "  2%|▏         | 11/600 [00:18<13:51,  1.41s/it]"
     ]
    },
    {
     "name": "stdout",
     "output_type": "stream",
     "text": [
      "Sentence: This typically operates when the galaxy has a hot halo (or is at the center of a group or cluster of galaxies) and the accreting black hole has powerful jets. \n",
      "Citations: []\n",
      "=====\n"
     ]
    },
    {
     "name": "stderr",
     "output_type": "stream",
     "text": [
      "  2%|▏         | 12/600 [00:20<13:34,  1.38s/it]"
     ]
    },
    {
     "name": "stdout",
     "output_type": "stream",
     "text": [
      "Sentence: At the present epoch, it tends to occur at a lower Eddington fraction and in more massive galaxies and involves hot gas. \n",
      "Citations: []\n",
      "=====\n"
     ]
    },
    {
     "name": "stderr",
     "output_type": "stream",
     "text": [
      "  2%|▏         | 13/600 [00:21<13:22,  1.37s/it]"
     ]
    },
    {
     "name": "stdout",
     "output_type": "stream",
     "text": [
      "Sentence: A further, ill-understood mode may be associated with giant radio sources, which range in size up to a few megaparsecs. \n",
      "Citations: []\n",
      "=====\n"
     ]
    },
    {
     "name": "stderr",
     "output_type": "stream",
     "text": [
      "  2%|▏         | 14/600 [00:22<13:12,  1.35s/it]"
     ]
    },
    {
     "name": "stdout",
     "output_type": "stream",
     "text": [
      "Sentence: The energies in these sources are prodigious and approach the binding energy of the gas in groups and subclusters. \n",
      "Citations: []\n",
      "=====\n"
     ]
    },
    {
     "name": "stderr",
     "output_type": "stream",
     "text": [
      "  2%|▎         | 15/600 [00:24<13:07,  1.35s/it]"
     ]
    },
    {
     "name": "stdout",
     "output_type": "stream",
     "text": [
      "Sentence: It is easy to demonstrate that the growth of the central black hole by accretion can have a profound effect on its host galaxy. \n",
      "Citations: []\n",
      "=====\n"
     ]
    },
    {
     "name": "stderr",
     "output_type": "stream",
     "text": [
      "  3%|▎         | 16/600 [00:25<13:04,  1.34s/it]"
     ]
    },
    {
     "name": "stdout",
     "output_type": "stream",
     "text": [
      "Sentence: If the velocity dispersion of the galaxy is σ, then the binding energy of the galaxy bulge, which is of mass M gal , is E gal ≈ M gal σ 2 . \n",
      "Citations: []\n",
      "=====\n"
     ]
    },
    {
     "name": "stderr",
     "output_type": "stream",
     "text": [
      "  3%|▎         | 17/600 [00:30<24:47,  2.55s/it]"
     ]
    },
    {
     "name": "stdout",
     "output_type": "stream",
     "text": [
      "Sentence: The mass of the black hole is typically observed to be M BH ≈1.4×10 −3 M gal ( Kormendy Gebhardt 2001 , Merritt Ferrarese 2001 , Häring Rix 2004 ). \n",
      "Citations: [('Kormendy', 2001), ('Merritt', 2001), ('Häring', 2004)]\n",
      "=====\n"
     ]
    },
    {
     "name": "stderr",
     "output_type": "stream",
     "text": [
      "  3%|▎         | 18/600 [00:32<22:31,  2.32s/it]"
     ]
    },
    {
     "name": "stdout",
     "output_type": "stream",
     "text": [
      "Sentence: Assuming a radiative efficiency for the accretion process of 10%, then the energy released by the growth of the black hole is given by E BH =0.1 M BH c 2 . \n",
      "Citations: []\n",
      "=====\n"
     ]
    },
    {
     "name": "stderr",
     "output_type": "stream",
     "text": [
      "  3%|▎         | 19/600 [00:34<19:34,  2.02s/it]"
     ]
    },
    {
     "name": "stdout",
     "output_type": "stream",
     "text": [
      "Sentence: Therefore, E BH / E gal ≈1.4×10 −4 ( c /σ) 2 . \n",
      "Citations: []\n",
      "=====\n"
     ]
    },
    {
     "name": "stderr",
     "output_type": "stream",
     "text": [
      "  3%|▎         | 20/600 [00:35<17:31,  1.81s/it]"
     ]
    },
    {
     "name": "stdout",
     "output_type": "stream",
     "text": [
      "Sentence: Most galaxies have σ400 km s −1 , so E BH / E gal >80. \n",
      "Citations: []\n",
      "=====\n"
     ]
    },
    {
     "name": "stderr",
     "output_type": "stream",
     "text": [
      "  4%|▎         | 21/600 [00:36<16:04,  1.67s/it]"
     ]
    },
    {
     "name": "stdout",
     "output_type": "stream",
     "text": [
      "Sentence: The energy produced by the growth of the black hole therefore exceeds the binding energy by a large factor. \n",
      "Citations: []\n",
      "=====\n"
     ]
    },
    {
     "name": "stderr",
     "output_type": "stream",
     "text": [
      "  4%|▎         | 22/600 [00:38<15:05,  1.57s/it]"
     ]
    },
    {
     "name": "stdout",
     "output_type": "stream",
     "text": [
      "Sentence: If even a small fraction of the energy can be transferred to the gas, then an active nucleus can have a profound effect on the evolution of its host galaxy. \n",
      "Citations: []\n",
      "=====\n"
     ]
    },
    {
     "name": "stderr",
     "output_type": "stream",
     "text": [
      "  4%|▍         | 23/600 [00:39<14:23,  1.50s/it]"
     ]
    },
    {
     "name": "stdout",
     "output_type": "stream",
     "text": [
      "Sentence: Fortunately accretion energy does not significantly affect the stars already existing in the host galaxy; otherwise there would not be any galaxies as we know them. \n",
      "Citations: []\n",
      "=====\n"
     ]
    },
    {
     "name": "stderr",
     "output_type": "stream",
     "text": [
      "  4%|▍         | 24/600 [00:40<13:53,  1.45s/it]"
     ]
    },
    {
     "name": "stdout",
     "output_type": "stream",
     "text": [
      "Sentence: Nevertheless, we review here observational evidence that energy and momentum from accretion onto the central black hole can couple strongly with the gas from which new stars form. \n",
      "Citations: []\n",
      "=====\n"
     ]
    },
    {
     "name": "stderr",
     "output_type": "stream",
     "text": [
      "  4%|▍         | 25/600 [00:42<13:30,  1.41s/it]"
     ]
    },
    {
     "name": "stdout",
     "output_type": "stream",
     "text": [
      "Sentence: AGN feedback is a relatively young topic, and a wide range of argument and opinion has been expressed. \n",
      "Citations: []\n",
      "=====\n"
     ]
    },
    {
     "name": "stderr",
     "output_type": "stream",
     "text": [
      "  4%|▍         | 26/600 [00:43<13:17,  1.39s/it]"
     ]
    },
    {
     "name": "stdout",
     "output_type": "stream",
     "text": [
      "Sentence: One opinion holds that AGN feedback locks the mass of the black hole to that of its host galaxy bulge and determines the ultimate stellar mass of the bulge. \n",
      "Citations: []\n",
      "=====\n"
     ]
    },
    {
     "name": "stderr",
     "output_type": "stream",
     "text": [
      "  4%|▍         | 27/600 [00:46<17:26,  1.83s/it]"
     ]
    },
    {
     "name": "stdout",
     "output_type": "stream",
     "text": [
      "Sentence: Another opinion has AGN feedback as just one of many processes of comparable importance in galaxy evolution with the black hole–galaxy bulge mass correlation merely being a result of repeated mergers (e.g., Jahnke Macciò 2011 ). \n",
      "Citations: [('Jahnke', 2011)]\n",
      "=====\n"
     ]
    },
    {
     "name": "stderr",
     "output_type": "stream",
     "text": [
      "  5%|▍         | 28/600 [00:47<16:01,  1.68s/it]"
     ]
    },
    {
     "name": "stdout",
     "output_type": "stream",
     "text": [
      "Sentence: There is little or no evidence at the present time for AGN feedback operating in low-mass galaxies where stellar feedback is important or that it significantly affects galaxy disks or pseudobulges. \n",
      "Citations: []\n",
      "=====\n"
     ]
    },
    {
     "name": "stderr",
     "output_type": "stream",
     "text": [
      "  5%|▍         | 29/600 [00:48<15:00,  1.58s/it]"
     ]
    },
    {
     "name": "stdout",
     "output_type": "stream",
     "text": [
      "Sentence: The clearest observational evidence for AGN feedback is found in the most massive galaxies known, brightest cluster galaxies (BCGs) in cool core clusters of galaxies. \n",
      "Citations: []\n",
      "=====\n"
     ]
    },
    {
     "name": "stderr",
     "output_type": "stream",
     "text": [
      "  5%|▌         | 30/600 [00:50<14:17,  1.50s/it]"
     ]
    },
    {
     "name": "stdout",
     "output_type": "stream",
     "text": [
      "Sentence: Without energy input through kinetic feedback, many BCGs would be yet more massive and appear as brilliant, giant starbursts. \n",
      "Citations: []\n",
      "=====\n"
     ]
    },
    {
     "name": "stderr",
     "output_type": "stream",
     "text": [
      "  5%|▌         | 31/600 [01:03<46:59,  4.96s/it]"
     ]
    },
    {
     "name": "stdout",
     "output_type": "stream",
     "text": [
      "Sentence: AGN feedback features in many theoretical, numerical, and semianalytic simulations of galaxy growth and evolution (e.g., Kauffmann Haehnelt 2000 ; Granato et al. 2004 ; Di Matteo, Springel Hernquist 2005 ; Springel, Di Matteo Hernquist 2005 ; Bower et al. 2006 ; Croton et al. 2006 ; Hopkins et al. 2006 ; Ciotti, Ostriker Proga 2010 ; Scannapieco et al. 2012 ). \n",
      "Citations: [('Kauffmann', 2000), ('Granato', 2004), ('Di Matteo', 2005), ('Springel', 2005), ('Bower', 2006), ('Croton', 2006), ('Hopkins', 2006), ('Ciotti', 2010), ('Scannapieco', 2012)]\n",
      "=====\n"
     ]
    },
    {
     "name": "stderr",
     "output_type": "stream",
     "text": [
      "  5%|▌         | 32/600 [01:04<35:13,  3.72s/it]"
     ]
    },
    {
     "name": "stdout",
     "output_type": "stream",
     "text": [
      "Sentence: They are not reviewed here. \n",
      "Citations: []\n",
      "=====\n"
     ]
    },
    {
     "name": "stderr",
     "output_type": "stream",
     "text": [
      "  6%|▌         | 33/600 [01:05<28:23,  3.00s/it]"
     ]
    },
    {
     "name": "stdout",
     "output_type": "stream",
     "text": [
      "Sentence: The nine orders of magnitude in physical scale mean that all such simulations include subgrid assumptions and approximations. \n",
      "Citations: []\n",
      "=====\n"
     ]
    },
    {
     "name": "stderr",
     "output_type": "stream",
     "text": [
      "  6%|▌         | 34/600 [01:07<25:00,  2.65s/it]"
     ]
    },
    {
     "name": "stdout",
     "output_type": "stream",
     "text": [
      "Sentence: The review begins with a brief outline of the physics behind the radiative mode, then discusses the effects of radiation pressure on dusty gas, followed by AGN winds, outflows, and AGN evolution. \n",
      "Citations: []\n",
      "=====\n"
     ]
    },
    {
     "name": "stderr",
     "output_type": "stream",
     "text": [
      "  6%|▌         | 35/600 [01:09<22:38,  2.40s/it]"
     ]
    },
    {
     "name": "stdout",
     "output_type": "stream",
     "text": [
      "Sentence: The radiative mode is the most likely AGN feedback explanation for the black hole mass–stellar velocity dispersion relation ( M −σ; see Section 2) because it relies on the accretion being radiatively efficient and close to the Eddington limit. \n",
      "Citations: []\n",
      "=====\n"
     ]
    },
    {
     "name": "stderr",
     "output_type": "stream",
     "text": [
      "  6%|▌         | 36/600 [01:10<19:34,  2.08s/it]"
     ]
    },
    {
     "name": "stdout",
     "output_type": "stream",
     "text": [
      "Sentence: It was probably most effective back at z ∼ 2–3, when quasar activity peaked and galaxies were most gas rich. \n",
      "Citations: []\n",
      "=====\n"
     ]
    },
    {
     "name": "stderr",
     "output_type": "stream",
     "text": [
      "  6%|▌         | 37/600 [01:11<17:26,  1.86s/it]"
     ]
    },
    {
     "name": "stdout",
     "output_type": "stream",
     "text": [
      "Sentence: Much of the feedback action involves absorption of the quasar radiation, which obscures the active nucleus itself, so direct observational evidence is patchy at this time. \n",
      "Citations: []\n",
      "=====\n"
     ]
    },
    {
     "name": "stderr",
     "output_type": "stream",
     "text": [
      "  6%|▋         | 38/600 [01:13<15:56,  1.70s/it]"
     ]
    },
    {
     "name": "stdout",
     "output_type": "stream",
     "text": [
      "Sentence: If feedback empties a massive galaxy of gas, it will then refill with at least stellar mass loss if isolated or with intracluster plasma if in a cluster or group. \n",
      "Citations: []\n",
      "=====\n"
     ]
    },
    {
     "name": "stderr",
     "output_type": "stream",
     "text": [
      "  6%|▋         | 39/600 [01:14<14:53,  1.59s/it]"
     ]
    },
    {
     "name": "stdout",
     "output_type": "stream",
     "text": [
      "Sentence: Keeping it empty, or at least keeping the gas hot so it does not cool, appears to be the role of the kinetic mode, which is discussed next. \n",
      "Citations: []\n",
      "=====\n"
     ]
    },
    {
     "name": "stderr",
     "output_type": "stream",
     "text": [
      "  7%|▋         | 40/600 [01:15<14:07,  1.51s/it]"
     ]
    },
    {
     "name": "stdout",
     "output_type": "stream",
     "text": [
      "Sentence: This mode gives the most dramatic observational examples of AGN feedback in terms of bubbles in the cores of clusters. \n",
      "Citations: []\n",
      "=====\n"
     ]
    },
    {
     "name": "stderr",
     "output_type": "stream",
     "text": [
      "  7%|▋         | 41/600 [01:17<13:33,  1.45s/it]"
     ]
    },
    {
     "name": "stdout",
     "output_type": "stream",
     "text": [
      "Sentence: Energy injection from powerful giant radio galaxies is treated last. \n",
      "Citations: []\n",
      "=====\n"
     ]
    },
    {
     "name": "stderr",
     "output_type": "stream",
     "text": [
      "  7%|▋         | 42/600 [01:18<13:09,  1.42s/it]"
     ]
    },
    {
     "name": "stdout",
     "output_type": "stream",
     "text": [
      "Sentence: This may have a drastic impact on the gas in groups and subclusters. \n",
      "Citations: []\n",
      "=====\n"
     ]
    },
    {
     "name": "stderr",
     "output_type": "stream",
     "text": [
      "  7%|▋         | 43/600 [01:20<14:10,  1.53s/it]"
     ]
    },
    {
     "name": "stdout",
     "output_type": "stream",
     "text": [
      "Sentence: Observational evidence is poor, however, because much of the power in relativistic electrons (but not protons) is lost in Compton scattering of the cosmic microwave background, the energy density of which was much higher in the past. \n",
      "Citations: []\n",
      "=====\n"
     ]
    },
    {
     "name": "stderr",
     "output_type": "stream",
     "text": [
      "  7%|▋         | 44/600 [01:21<14:53,  1.61s/it]"
     ]
    },
    {
     "name": "stdout",
     "output_type": "stream",
     "text": [
      "Sentence: The review finishes by considering whether the long-term behavior of AGN, and the modes of accretion, parallels the outbursts of Galactic, stellar mass, binary black holes, which tend to be radiatively efficient and windy at high luminosity, and radiatively inefficient and jetted at low luminosity. \n",
      "Citations: []\n",
      "=====\n"
     ]
    },
    {
     "name": "stderr",
     "output_type": "stream",
     "text": [
      "  8%|▊         | 45/600 [01:23<14:04,  1.52s/it]"
     ]
    },
    {
     "name": "stdout",
     "output_type": "stream",
     "text": [
      "Sentence: Future observational prospects for AGN feedback, which are very bright, are treated in a concluding section. \n",
      "Citations: []\n",
      "=====\n"
     ]
    },
    {
     "name": "stderr",
     "output_type": "stream",
     "text": [
      "  8%|▊         | 46/600 [01:28<25:31,  2.76s/it]"
     ]
    },
    {
     "name": "stdout",
     "output_type": "stream",
     "text": [
      "Sentence: 2. THE RADIATIVE OR WIND MODE Silk Rees (1998 ; see also Haehnelt, Natarajan Rees 1998) pointed out that a quasar at the Eddington limit can prevent accretion into a galaxy at the maximum possible rate provided that where σ T is the Thomson cross section for electron scattering and f is the fraction of the galaxy mass in gas. \n",
      "Citations: [('Silk Rees', 1998), ('Haehnelt, Natarajan Rees', 1998)]\n",
      "=====\n"
     ]
    },
    {
     "name": "stderr",
     "output_type": "stream",
     "text": [
      "  8%|▊         | 47/600 [01:30<21:29,  2.33s/it]"
     ]
    },
    {
     "name": "stdout",
     "output_type": "stream",
     "text": [
      "Sentence: The galaxy is assumed to be isothermal with radius r , so that its mass is . \n",
      "Citations: []\n",
      "=====\n"
     ]
    },
    {
     "name": "stderr",
     "output_type": "stream",
     "text": [
      "  8%|▊         | 48/600 [01:32<19:58,  2.17s/it]"
     ]
    },
    {
     "name": "stdout",
     "output_type": "stream",
     "text": [
      "Sentence: The maximum collapse rate, , is equivalent to the gas content, fM gal , collapsing on a free-fall time, r /σ, requiring a power of to balance it, which is limited by the Eddington luminosity, L Edd =4π GM BH m p c /σ T . \n",
      "Citations: []\n",
      "=====\n"
     ]
    },
    {
     "name": "stderr",
     "output_type": "stream",
     "text": [
      "  8%|▊         | 49/600 [01:33<17:38,  1.92s/it]"
     ]
    },
    {
     "name": "stdout",
     "output_type": "stream",
     "text": [
      "Sentence: The argument is based on energy that is necessary but may not be sufficient for ejecting matter (the rocket equation, for example, is based on momentum). \n",
      "Citations: []\n",
      "=====\n"
     ]
    },
    {
     "name": "stderr",
     "output_type": "stream",
     "text": [
      "  8%|▊         | 50/600 [01:34<15:58,  1.74s/it]"
     ]
    },
    {
     "name": "stdout",
     "output_type": "stream",
     "text": [
      "Sentence: where σ T is the Thomson cross section for electron scattering and f is the fraction of the galaxy mass in gas. \n",
      "Citations: []\n",
      "=====\n"
     ]
    },
    {
     "name": "stderr",
     "output_type": "stream",
     "text": [
      "  8%|▊         | 51/600 [01:36<14:48,  1.62s/it]"
     ]
    },
    {
     "name": "stdout",
     "output_type": "stream",
     "text": [
      "Sentence: The galaxy is assumed to be isothermal with radius r , so that its mass is . \n",
      "Citations: []\n",
      "=====\n"
     ]
    },
    {
     "name": "stderr",
     "output_type": "stream",
     "text": [
      "  9%|▊         | 52/600 [01:37<15:15,  1.67s/it]"
     ]
    },
    {
     "name": "stdout",
     "output_type": "stream",
     "text": [
      "Sentence: The maximum collapse rate, , is equivalent to the gas content, fM gal , collapsing on a free-fall time, r /σ, requiring a power of to balance it, which is limited by the Eddington luminosity, L Edd =4π GM BH m p c /σ T . \n",
      "Citations: []\n",
      "=====\n"
     ]
    },
    {
     "name": "stderr",
     "output_type": "stream",
     "text": [
      "  9%|▉         | 53/600 [01:39<14:18,  1.57s/it]"
     ]
    },
    {
     "name": "stdout",
     "output_type": "stream",
     "text": [
      "Sentence: The argument is based on energy that is necessary but may not be sufficient for ejecting matter (the rocket equation, for example, is based on momentum). \n",
      "Citations: []\n",
      "=====\n"
     ]
    },
    {
     "name": "stderr",
     "output_type": "stream",
     "text": [
      "  9%|▉         | 54/600 [01:47<33:49,  3.72s/it]"
     ]
    },
    {
     "name": "stdout",
     "output_type": "stream",
     "text": [
      "Sentence: Momentum balance gives an expression ( Fabian 1999 ; Fabian, Wilman Crawford 2002 ; King 2003 , 2005 ; Murray, Quataert Thompson 2005 ), which is about c / σ times larger and in striking agreement with the observed black hole mass versus stellar velocity dispersion ( M BH −σ) relation (e.g., Gültekin et al. 2009 ) for a plausible gas mass fraction f ∼ 0.1. \n",
      "Citations: [('Fabian', 1999), ('Fabian', 2002), ('King', 2003), ('King', 2005), ('Murray', 2005), ('Gültekin', 2009)]\n",
      "=====\n"
     ]
    },
    {
     "name": "stderr",
     "output_type": "stream",
     "text": [
      "  9%|▉         | 55/600 [01:49<27:12,  3.00s/it]"
     ]
    },
    {
     "name": "stdout",
     "output_type": "stream",
     "text": [
      "Sentence: There are several ways to derive the above formula. \n",
      "Citations: []\n",
      "=====\n"
     ]
    },
    {
     "name": "stderr",
     "output_type": "stream",
     "text": [
      "  9%|▉         | 56/600 [01:51<23:51,  2.63s/it]"
     ]
    },
    {
     "name": "stdout",
     "output_type": "stream",
     "text": [
      "Sentence: A simple one is to assume that the radiation pressure from the Eddington-limited quasar L Edd / c has swept the gas, of mass M gas = fM gal , to the edge of the galaxy. \n",
      "Citations: []\n",
      "=====\n"
     ]
    },
    {
     "name": "stderr",
     "output_type": "stream",
     "text": [
      " 10%|▉         | 57/600 [01:52<20:15,  2.24s/it]"
     ]
    },
    {
     "name": "stdout",
     "output_type": "stream",
     "text": [
      "Sentence: Balancing the outward radiation force with the inward one due to gravity gives i.e., from which the result follows. \n",
      "Citations: []\n",
      "=====\n"
     ]
    },
    {
     "name": "stderr",
     "output_type": "stream",
     "text": [
      " 10%|▉         | 58/600 [01:53<17:43,  1.96s/it]"
     ]
    },
    {
     "name": "stdout",
     "output_type": "stream",
     "text": [
      "Sentence: The cancellation of the radius in the formula means it applies within the galaxy. \n",
      "Citations: []\n",
      "=====\n"
     ]
    },
    {
     "name": "stderr",
     "output_type": "stream",
     "text": [
      " 10%|▉         | 59/600 [01:54<15:58,  1.77s/it]"
     ]
    },
    {
     "name": "stdout",
     "output_type": "stream",
     "text": [
      "Sentence: The agreement that this simple formula gives with the observed M BH −σ relation can be interpreted as (weak) observational evidence for AGN feedback. \n",
      "Citations: []\n",
      "=====\n"
     ]
    },
    {
     "name": "stderr",
     "output_type": "stream",
     "text": [
      " 10%|█         | 60/600 [01:55<13:24,  1.49s/it]"
     ]
    },
    {
     "name": "stdout",
     "output_type": "stream",
     "text": [
      "Sentence: 2.1. \n",
      "Citations: []\n",
      "=====\n"
     ]
    },
    {
     "name": "stderr",
     "output_type": "stream",
     "text": [
      " 10%|█         | 61/600 [01:57<14:12,  1.58s/it]"
     ]
    },
    {
     "name": "stdout",
     "output_type": "stream",
     "text": [
      "Sentence: Radiation Pressure on Dust The interaction cannot rely on radiation pressure on electrons as in the standard Eddington-limit formula because if the quasar is locally at its Eddington limit then it must be far below the Eddington limit when the mass of the galaxy is included. \n",
      "Citations: []\n",
      "=====\n"
     ]
    },
    {
     "name": "stderr",
     "output_type": "stream",
     "text": [
      " 10%|█         | 62/600 [02:01<20:16,  2.26s/it]"
     ]
    },
    {
     "name": "stdout",
     "output_type": "stream",
     "text": [
      "Sentence: Quasars appear to respect the Eddington limit (see, e.g., Kollmeier et al. 2006 , Steinhardt Elvis 2010 ). \n",
      "Citations: [('Kollmeier', 2006), ('Steinhardt Elvis', 2010)]\n",
      "=====\n"
     ]
    },
    {
     "name": "stderr",
     "output_type": "stream",
     "text": [
      " 10%|█         | 63/600 [02:07<31:28,  3.52s/it]"
     ]
    },
    {
     "name": "stdout",
     "output_type": "stream",
     "text": [
      "Sentence: [ King (2003) does, however, invoke super-Eddington luminosities.] The interaction has to be much stronger, due either to a wind generated close to the quasar, which then flows through the galaxy pushing the gas out, or to dust embedded in the gas, as expected for the interstellar medium of a galaxy ( Laor Draine 1993 ; Scoville Norman 1995 ; Murray, Quartaert Thompson 2005 ). \n",
      "Citations: [('King', 2003), ('Laor', 1993), ('Scoville', 1995), ('Murray', 2005)]\n",
      "=====\n"
     ]
    },
    {
     "name": "stderr",
     "output_type": "stream",
     "text": [
      " 11%|█         | 64/600 [02:09<25:33,  2.86s/it]"
     ]
    },
    {
     "name": "stdout",
     "output_type": "stream",
     "text": [
      "Sentence: Dust grains embedded in the gas will be partially charged in the energetic environment of a quasar, which binds them to the surrounding partially ionized gas. \n",
      "Citations: []\n",
      "=====\n"
     ]
    },
    {
     "name": "stderr",
     "output_type": "stream",
     "text": [
      " 11%|█         | 65/600 [02:11<22:37,  2.54s/it]"
     ]
    },
    {
     "name": "stdout",
     "output_type": "stream",
     "text": [
      "Sentence: L Edd is reduced by a factor of σ d /σ T , where σ d is the equivalent dust cross section per proton, appropriately weighted for the dust content of the gas and the spectrum of the quasar. \n",
      "Citations: []\n",
      "=====\n"
     ]
    },
    {
     "name": "stderr",
     "output_type": "stream",
     "text": [
      " 11%|█         | 66/600 [02:13<23:05,  2.59s/it]"
     ]
    },
    {
     "name": "stdout",
     "output_type": "stream",
     "text": [
      "Sentence: We find that σ d /σ T is about 1,000 for a gas with a Galactic dust-to-gas ratio exposed to a typical quasar spectrum ( Fabian, Vasudevan Gandhi 2008 ), dropping to 500 for low Eddington ratio objects. \n",
      "Citations: [('Fabian', 2008)]\n",
      "=====\n"
     ]
    },
    {
     "name": "stderr",
     "output_type": "stream",
     "text": [
      " 11%|█         | 67/600 [02:15<20:54,  2.35s/it]"
     ]
    },
    {
     "name": "stdout",
     "output_type": "stream",
     "text": [
      "Sentence: This means that a quasar at the standard Eddington limit (for ionized gas) is at the effective Eddington limit (for dusty gas), L ′ Edd , of a surrounding object 1,000 times more massive. \n",
      "Citations: []\n",
      "=====\n"
     ]
    },
    {
     "name": "stderr",
     "output_type": "stream",
     "text": [
      " 11%|█▏        | 68/600 [02:16<18:07,  2.04s/it]"
     ]
    },
    {
     "name": "stdout",
     "output_type": "stream",
     "text": [
      "Sentence: Both the active nucleus and galaxy are then at their respective Eddington limits. \n",
      "Citations: []\n",
      "=====\n"
     ]
    },
    {
     "name": "stderr",
     "output_type": "stream",
     "text": [
      " 12%|█▏        | 69/600 [02:18<16:10,  1.83s/it]"
     ]
    },
    {
     "name": "stdout",
     "output_type": "stream",
     "text": [
      "Sentence: Is this just a coincidence or the underlying reason why M gal / M BH ∼1, 000? \n",
      "Citations: []\n",
      "=====\n"
     ]
    },
    {
     "name": "stderr",
     "output_type": "stream",
     "text": [
      " 12%|█▏        | 70/600 [02:21<18:51,  2.14s/it]"
     ]
    },
    {
     "name": "stdout",
     "output_type": "stream",
     "text": [
      "Sentence: AGN show indications of an effective Eddington limit in the distribution of absorption column densities, N H , as a function of Eddington ratio, λ= L bol / L Edd , found in several surveys ( Raimundo et al. 2010 ). \n",
      "Citations: [('Raimundo', 2010)]\n",
      "=====\n"
     ]
    },
    {
     "name": "stderr",
     "output_type": "stream",
     "text": [
      " 12%|█▏        | 71/600 [02:22<16:42,  1.90s/it]"
     ]
    },
    {
     "name": "stdout",
     "output_type": "stream",
     "text": [
      "Sentence: There is a lack of objects with column densities, N H , in the range 3×10 21 −3×10 22 cm −2 and λ>0.1. \n",
      "Citations: []\n",
      "=====\n"
     ]
    },
    {
     "name": "stderr",
     "output_type": "stream",
     "text": [
      " 12%|█▏        | 72/600 [02:23<15:10,  1.72s/it]"
     ]
    },
    {
     "name": "stdout",
     "output_type": "stream",
     "text": [
      "Sentence: This is unlikely to be an observational selection effect because such objects would be X-ray bright. \n",
      "Citations: []\n",
      "=====\n"
     ]
    },
    {
     "name": "stderr",
     "output_type": "stream",
     "text": [
      " 12%|█▏        | 73/600 [02:25<14:05,  1.60s/it]"
     ]
    },
    {
     "name": "stdout",
     "output_type": "stream",
     "text": [
      "Sentence: Any object found in that zone would be of great interest as it could be used to test radiative feedback on dust. \n",
      "Citations: []\n",
      "=====\n"
     ]
    },
    {
     "name": "stderr",
     "output_type": "stream",
     "text": [
      " 12%|█▏        | 74/600 [02:26<13:17,  1.52s/it]"
     ]
    },
    {
     "name": "stdout",
     "output_type": "stream",
     "text": [
      "Sentence: The gas should be outflowing. \n",
      "Citations: []\n",
      "=====\n"
     ]
    },
    {
     "name": "stderr",
     "output_type": "stream",
     "text": [
      " 12%|█▎        | 75/600 [02:27<12:46,  1.46s/it]"
     ]
    },
    {
     "name": "stdout",
     "output_type": "stream",
     "text": [
      "Sentence: Interstellar gas in an active nucleus host evolves such that any that strays into a region where L ′ Edd >1 is pushed outward. \n",
      "Citations: []\n",
      "=====\n"
     ]
    },
    {
     "name": "stderr",
     "output_type": "stream",
     "text": [
      " 13%|█▎        | 76/600 [02:29<12:25,  1.42s/it]"
     ]
    },
    {
     "name": "stdout",
     "output_type": "stream",
     "text": [
      "Sentence: Gas that is introduced to a galaxy can remain, fueling both the black hole and star formation provided both L ′ Edd and L Edd remain below unity. \n",
      "Citations: []\n",
      "=====\n"
     ]
    },
    {
     "name": "stderr",
     "output_type": "stream",
     "text": [
      " 13%|█▎        | 77/600 [02:30<12:07,  1.39s/it]"
     ]
    },
    {
     "name": "stdout",
     "output_type": "stream",
     "text": [
      "Sentence: Repetition of this process could drive M BH / M gal →σ T /σ d =10 −3 . \n",
      "Citations: []\n",
      "=====\n"
     ]
    },
    {
     "name": "stderr",
     "output_type": "stream",
     "text": [
      " 13%|█▎        | 78/600 [02:33<15:56,  1.83s/it]"
     ]
    },
    {
     "name": "stdout",
     "output_type": "stream",
     "text": [
      "Sentence: If the repeated action of radiation pressure on dust is responsible for the M BH −σ relation, then it must cause the bulge mass to be σ d /σ T times the black hole mass, For a constant mass-to-light ratio, this corresponds to the Faber Jackson (1976) relation. \n",
      "Citations: [('Faber Jackson', 1976)]\n",
      "=====\n"
     ]
    },
    {
     "name": "stderr",
     "output_type": "stream",
     "text": [
      " 13%|█▎        | 79/600 [02:37<22:01,  2.54s/it]"
     ]
    },
    {
     "name": "stdout",
     "output_type": "stream",
     "text": [
      "Sentence: Because M gal =2σ 2 r / G , then Feedback should shape both the black hole and the galaxy bulge and may even lead to some aspects (e.g., σ 2 ∝ r ) of the fundamental plane ( Djorgovski 1987 , Faber et al. 1987 ). \n",
      "Citations: [('Djorgovski', 1987), ('Faber', 1987)]\n",
      "=====\n"
     ]
    },
    {
     "name": "stderr",
     "output_type": "stream",
     "text": [
      " 13%|█▎        | 80/600 [02:40<23:08,  2.67s/it]"
     ]
    },
    {
     "name": "stdout",
     "output_type": "stream",
     "text": [
      "Sentence: [It is curious that the above value for cm s −2 is close to the fiducial acceleration a o in MOND theory ( Sanders McGaugh 2002 ).] Galaxies occur in dark matter haloes, which define the outer gravitational potential well. \n",
      "Citations: [('Sanders McGaugh', 2002)]\n",
      "=====\n"
     ]
    },
    {
     "name": "stderr",
     "output_type": "stream",
     "text": [
      " 14%|█▎        | 81/600 [02:41<19:36,  2.27s/it]"
     ]
    },
    {
     "name": "stdout",
     "output_type": "stream",
     "text": [
      "Sentence: The total mass of the halo can be an order of magnitude more than that of the stellar part of the galaxy. \n",
      "Citations: []\n",
      "=====\n"
     ]
    },
    {
     "name": "stderr",
     "output_type": "stream",
     "text": [
      " 14%|█▎        | 82/600 [02:44<21:43,  2.52s/it]"
     ]
    },
    {
     "name": "stdout",
     "output_type": "stream",
     "text": [
      "Sentence: Silk Nusser (2010) have shown that AGN feedback may not be energetic enough to eject all the gas from the halo, as well as the galaxy, if the gas moves at the (local) escape velocity. \n",
      "Citations: [('Silk Nusser', 2010)]\n",
      "=====\n"
     ]
    },
    {
     "name": "stderr",
     "output_type": "stream",
     "text": [
      " 14%|█▍        | 83/600 [02:46<18:37,  2.16s/it]"
     ]
    },
    {
     "name": "stdout",
     "output_type": "stream",
     "text": [
      "Sentence: In the speculative process described above, where cycles of AGN activity push the gas out of the galaxy, then the gas may end up trapped in the halo. \n",
      "Citations: []\n",
      "=====\n"
     ]
    },
    {
     "name": "stderr",
     "output_type": "stream",
     "text": [
      " 14%|█▍        | 84/600 [02:47<17:35,  2.05s/it]"
     ]
    },
    {
     "name": "stdout",
     "output_type": "stream",
     "text": [
      "Sentence: It is plausible, however, that the squeezing of the gas during the ejection process triggers star formation, leading to shells of stars on ever larger (bound) radial orbits as the galaxy grows. \n",
      "Citations: []\n",
      "=====\n"
     ]
    },
    {
     "name": "stderr",
     "output_type": "stream",
     "text": [
      " 14%|█▍        | 85/600 [02:50<19:56,  2.32s/it]"
     ]
    },
    {
     "name": "stdout",
     "output_type": "stream",
     "text": [
      "Sentence: This inside-out growth pattern superficially matches observations of the development of the radii of early-type galaxies since z ∼ 2 ( van Dokkum et al. 2010 ) just after quasar activity had peaked. \n",
      "Citations: [('van Dokkum', 2010)]\n",
      "=====\n"
     ]
    },
    {
     "name": "stderr",
     "output_type": "stream",
     "text": [
      " 14%|█▍        | 86/600 [02:51<16:04,  1.88s/it]"
     ]
    },
    {
     "name": "stdout",
     "output_type": "stream",
     "text": [
      "Sentence: 2.1.1. \n",
      "Citations: []\n",
      "=====\n"
     ]
    },
    {
     "name": "stderr",
     "output_type": "stream",
     "text": [
      " 14%|█▍        | 87/600 [02:52<14:35,  1.71s/it]"
     ]
    },
    {
     "name": "stdout",
     "output_type": "stream",
     "text": [
      "Sentence: Optical depth effects and anisotropy. \n",
      "Citations: []\n",
      "=====\n"
     ]
    },
    {
     "name": "stderr",
     "output_type": "stream",
     "text": [
      " 15%|█▍        | 88/600 [02:54<13:34,  1.59s/it]"
     ]
    },
    {
     "name": "stdout",
     "output_type": "stream",
     "text": [
      "Sentence: The above discussion assumes that the IR radiation produced by the absorption of quasar radiation by dust is not heavily trapped. \n",
      "Citations: []\n",
      "=====\n"
     ]
    },
    {
     "name": "stderr",
     "output_type": "stream",
     "text": [
      " 15%|█▍        | 89/600 [02:55<12:52,  1.51s/it]"
     ]
    },
    {
     "name": "stdout",
     "output_type": "stream",
     "text": [
      "Sentence: If it is, then the net radiation pressure is increased proportional to the optical depth, and the relationships become more complicated. \n",
      "Citations: []\n",
      "=====\n"
     ]
    },
    {
     "name": "stderr",
     "output_type": "stream",
     "text": [
      " 15%|█▌        | 90/600 [02:56<12:22,  1.46s/it]"
     ]
    },
    {
     "name": "stdout",
     "output_type": "stream",
     "text": [
      "Sentence: The bulk of quasar radiation originates from an accretion disc and has a bipolar radiation pattern. \n",
      "Citations: []\n",
      "=====\n"
     ]
    },
    {
     "name": "stderr",
     "output_type": "stream",
     "text": [
      " 15%|█▌        | 91/600 [02:58<13:10,  1.55s/it]"
     ]
    },
    {
     "name": "stdout",
     "output_type": "stream",
     "text": [
      "Sentence: This allows accretion to proceed along the disc plane, fuelled by mergers, cold flows, or just secular evolution of the galaxy, while at the same time pushing matter out strongly along the disc axis. \n",
      "Citations: []\n",
      "=====\n"
     ]
    },
    {
     "name": "stderr",
     "output_type": "stream",
     "text": [
      " 15%|█▌        | 92/600 [03:00<12:35,  1.49s/it]"
     ]
    },
    {
     "name": "stdout",
     "output_type": "stream",
     "text": [
      "Sentence: Gas in the body of the galaxy at 100 pc or more will be mostly swept up along that axis, and the gap around the equator prevents significant large-scale trapping of the radiation. \n",
      "Citations: []\n",
      "=====\n"
     ]
    },
    {
     "name": "stderr",
     "output_type": "stream",
     "text": [
      " 16%|█▌        | 93/600 [03:01<12:09,  1.44s/it]"
     ]
    },
    {
     "name": "stdout",
     "output_type": "stream",
     "text": [
      "Sentence: This means that galaxies growing under strong radiation feedback as envisaged above could appear elongated along the radiation axis. \n",
      "Citations: []\n",
      "=====\n"
     ]
    },
    {
     "name": "stderr",
     "output_type": "stream",
     "text": [
      " 16%|█▌        | 94/600 [03:02<10:35,  1.26s/it]"
     ]
    },
    {
     "name": "stdout",
     "output_type": "stream",
     "text": [
      "Sentence: 2.2. \n",
      "Citations: []\n",
      "=====\n"
     ]
    },
    {
     "name": "stderr",
     "output_type": "stream",
     "text": [
      " 16%|█▌        | 95/600 [03:04<11:54,  1.41s/it]"
     ]
    },
    {
     "name": "stdout",
     "output_type": "stream",
     "text": [
      "Sentence: Active Galactic Nuclei Winds If the main interaction is due to winds rather than to radiation pressure, then the wind needs to have a high column density N , high velocity v , and high covering fraction f , all at large radius r . \n",
      "Citations: []\n",
      "=====\n"
     ]
    },
    {
     "name": "stderr",
     "output_type": "stream",
     "text": [
      " 16%|█▌        | 96/600 [03:05<12:48,  1.52s/it]"
     ]
    },
    {
     "name": "stdout",
     "output_type": "stream",
     "text": [
      "Sentence: The kinetic luminosity of a wind is where r g is the gravitational radius GM/c 2 and N T =σ −1 T =1.5×10 24 cm −2 . \n",
      "Citations: []\n",
      "=====\n"
     ]
    },
    {
     "name": "stderr",
     "output_type": "stream",
     "text": [
      " 16%|█▌        | 97/600 [03:07<13:24,  1.60s/it]"
     ]
    },
    {
     "name": "stdout",
     "output_type": "stream",
     "text": [
      "Sentence: For high wind power, L w ∼ L Edd ; then if v ∼0.1 c , then values of r >10 3 r g and N ∼ N T are needed. \n",
      "Citations: []\n",
      "=====\n"
     ]
    },
    {
     "name": "stderr",
     "output_type": "stream",
     "text": [
      " 16%|█▋        | 98/600 [03:09<13:50,  1.65s/it]"
     ]
    },
    {
     "name": "stdout",
     "output_type": "stream",
     "text": [
      "Sentence: If the wind is pressure driven, then it might be expected that the gas is accelerated where v is the local escape velocity, so r ∼( c / v ) 2 r g . \n",
      "Citations: []\n",
      "=====\n"
     ]
    },
    {
     "name": "stderr",
     "output_type": "stream",
     "text": [
      " 16%|█▋        | 99/600 [03:10<12:59,  1.56s/it]"
     ]
    },
    {
     "name": "stdout",
     "output_type": "stream",
     "text": [
      "Sentence: To produce M BH ∝σ 4 scaling, the thrust of the wind needs to be proportional to the Eddington limit. \n",
      "Citations: []\n",
      "=====\n"
     ]
    },
    {
     "name": "stderr",
     "output_type": "stream",
     "text": [
      " 17%|█▋        | 100/600 [03:12<12:23,  1.49s/it]"
     ]
    },
    {
     "name": "stdout",
     "output_type": "stream",
     "text": [
      "Sentence: This seems plausible if the wind is dusty or the acceleration is due to radiation pressure acting on resonance lines in the gas. \n",
      "Citations: []\n",
      "=====\n"
     ]
    },
    {
     "name": "stderr",
     "output_type": "stream",
     "text": [
      " 17%|█▋        | 101/600 [03:13<11:58,  1.44s/it]"
     ]
    },
    {
     "name": "stdout",
     "output_type": "stream",
     "text": [
      "Sentence: A problem with a high velocity dust-driven wind is that dust is unlikely to survive close to the black hole where the escape velocity is high. \n",
      "Citations: []\n",
      "=====\n"
     ]
    },
    {
     "name": "stderr",
     "output_type": "stream",
     "text": [
      " 17%|█▋        | 102/600 [03:15<14:58,  1.80s/it]"
     ]
    },
    {
     "name": "stdout",
     "output_type": "stream",
     "text": [
      "Sentence: It is not clear that wind strength is proportional to the Eddington limit if the wind is accelerated magnetically by, say, the Blandford Payne (1982) mechanism. \n",
      "Citations: [('Blandford Payne', 1982)]\n",
      "=====\n"
     ]
    },
    {
     "name": "stderr",
     "output_type": "stream",
     "text": [
      " 17%|█▋        | 103/600 [03:17<13:45,  1.66s/it]"
     ]
    },
    {
     "name": "stdout",
     "output_type": "stream",
     "text": [
      "Sentence: The commonest way in which AGN winds are observed is by line absorption of the quasar continuum by intervening wind material. \n",
      "Citations: []\n",
      "=====\n"
     ]
    },
    {
     "name": "stderr",
     "output_type": "stream",
     "text": [
      " 17%|█▋        | 104/600 [03:22<22:36,  2.74s/it]"
     ]
    },
    {
     "name": "stdout",
     "output_type": "stream",
     "text": [
      "Sentence: The X-ray warm absorbers commonly seen in Seyfert galaxies ( Reynolds 1997 ; Crenshaw, Kraemer George 2003 ) flowing at ∼1,000 km s −1 are insufficient by a large factor ( Blustin et al. 2005 ). \n",
      "Citations: [('Reynolds', 1997), ('Crenshaw', 2003), ('Blustin', 2005)]\n",
      "=====\n"
     ]
    },
    {
     "name": "stderr",
     "output_type": "stream",
     "text": [
      " 18%|█▊        | 105/600 [03:30<35:47,  4.34s/it]"
     ]
    },
    {
     "name": "stdout",
     "output_type": "stream",
     "text": [
      "Sentence: Faster winds are required, such as those seen in UV observations of broad absorption line (BAL) quasars (e.g., Weymann et al. 1991 , Ganguly et al. 2007 ) and in X-ray observations of some AGN (e.g., Pounds et al. 2003 , Reeves et al. 2009 , Tombesi et al. 2010 ; see also Figure 1 ), with velocities of tens of thousands of kilometers per second. \n",
      "Citations: [('Weymann', 1991), ('Ganguly', 2007), ('Pounds', 2003), ('Reeves', 2009), ('Tombesi', 2010)]\n",
      "=====\n"
     ]
    },
    {
     "name": "stderr",
     "output_type": "stream",
     "text": [
      " 18%|█▊        | 106/600 [03:32<29:25,  3.57s/it]"
     ]
    },
    {
     "name": "stdout",
     "output_type": "stream",
     "text": [
      "Sentence: Establishing that the kinetic power of the wind is sufficient has proven difficult: If the evidence of the wind is from blueshifted absorption lines, then obtaining the covering fraction and radius of the wind requires indirect arguments. \n",
      "Citations: []\n",
      "=====\n"
     ]
    },
    {
     "name": "stderr",
     "output_type": "stream",
     "text": [
      " 18%|█▊        | 107/600 [03:35<27:55,  3.40s/it]"
     ]
    },
    {
     "name": "stdout",
     "output_type": "stream",
     "text": [
      "Sentence: Tombesi et al. (2012) estimate that the mass outflow rate exceeds 5% of the mass accretion rate and that the lower limit on the kinetic power of the outflows in individual objects ranges from 10 42.6 –10 44.6 erg s −1 . \n",
      "Citations: [('Tombesi', 2012)]\n",
      "=====\n"
     ]
    },
    {
     "name": "stderr",
     "output_type": "stream",
     "text": [
      " 18%|█▊        | 108/600 [03:37<25:22,  3.10s/it]"
     ]
    },
    {
     "name": "stdout",
     "output_type": "stream",
     "text": [
      "Sentence: Figure 1 ( a ) Distribution of wind velocities inferred from X-ray absorption features in low-redshift active galactic nuclei ( Tombesi et al. 2010 ). \n",
      "Citations: [('Tombesi', 2010)]\n",
      "=====\n"
     ]
    },
    {
     "name": "stderr",
     "output_type": "stream",
     "text": [
      " 18%|█▊        | 109/600 [03:40<24:48,  3.03s/it]"
     ]
    },
    {
     "name": "stdout",
     "output_type": "stream",
     "text": [
      "Sentence: (Reproduced with permission © ESO.) ( b ) Blueshifted X-ray absorption features in the most luminous low-redshift quasar, PDS 456, at z = 0.184 ( Reeves et al. 2009 ). \n",
      "Citations: [('Reeves', 2009)]\n",
      "=====\n"
     ]
    },
    {
     "name": "stderr",
     "output_type": "stream",
     "text": [
      " 18%|█▊        | 110/600 [03:42<21:55,  2.68s/it]"
     ]
    },
    {
     "name": "stdout",
     "output_type": "stream",
     "text": [
      "Sentence: Note the 7.5-keV absorption feature (9 keV in the rest frame of the quasar) presumed to be due to Fe xxv (rest frame 6.7 keV) blueshifted by 0.3. \n",
      "Citations: []\n",
      "=====\n"
     ]
    },
    {
     "name": "stderr",
     "output_type": "stream",
     "text": [
      " 18%|█▊        | 111/600 [03:45<23:42,  2.91s/it]"
     ]
    },
    {
     "name": "stdout",
     "output_type": "stream",
     "text": [
      "Sentence: (Reproduced by permission of the AAS.) ( c ) Neutral gas velocity map in the quasar/merger object Mrk 231 ( Rupke Veilleux 2011 ). \n",
      "Citations: [('Rupke Veilleux', 2011)]\n",
      "=====\n"
     ]
    },
    {
     "name": "stderr",
     "output_type": "stream",
     "text": [
      " 19%|█▊        | 112/600 [03:46<18:36,  2.29s/it]"
     ]
    },
    {
     "name": "stdout",
     "output_type": "stream",
     "text": [
      "Sentence: (Reproduced by permission of the AAS.) \n",
      "Citations: []\n",
      "=====\n"
     ]
    },
    {
     "name": "stderr",
     "output_type": "stream",
     "text": [
      " 19%|█▉        | 113/600 [03:51<25:21,  3.13s/it]"
     ]
    },
    {
     "name": "stdout",
     "output_type": "stream",
     "text": [
      "Sentence: Careful work on some quasars ( Dunn et al. 2010 ; Moe et al. 2009 ; Saez, Chartas Brandt 2009 ) has established wind powers at 5–10% of the accretion power, which is sufficient to eject gas from a galaxy. \n",
      "Citations: [('Dunn', 2010), ('Moe', 2009), ('Saez', 2009)]\n",
      "=====\n"
     ]
    },
    {
     "name": "stderr",
     "output_type": "stream",
     "text": [
      " 19%|█▉        | 114/600 [03:53<20:59,  2.59s/it]"
     ]
    },
    {
     "name": "stdout",
     "output_type": "stream",
     "text": [
      "Sentence: This is backed up by a range of less direct estimates. \n",
      "Citations: []\n",
      "=====\n"
     ]
    },
    {
     "name": "stderr",
     "output_type": "stream",
     "text": [
      " 19%|█▉        | 115/600 [03:54<17:52,  2.21s/it]"
     ]
    },
    {
     "name": "stdout",
     "output_type": "stream",
     "text": [
      "Sentence: An understanding of the overall effect of powerful winds also requires estimates of their longevity. \n",
      "Citations: []\n",
      "=====\n"
     ]
    },
    {
     "name": "stderr",
     "output_type": "stream",
     "text": [
      " 19%|█▉        | 116/600 [03:55<15:43,  1.95s/it]"
     ]
    },
    {
     "name": "stdout",
     "output_type": "stream",
     "text": [
      "Sentence: Generally, good evidence for AGN winds occurs in unobscured AGN, where the UV spectrum can be directly seen. \n",
      "Citations: []\n",
      "=====\n"
     ]
    },
    {
     "name": "stderr",
     "output_type": "stream",
     "text": [
      " 20%|█▉        | 117/600 [03:57<14:12,  1.77s/it]"
     ]
    },
    {
     "name": "stdout",
     "output_type": "stream",
     "text": [
      "Sentence: There is then little cold gas along our line of sight in the host galaxy to be swept out, either because this has already occurred or there is little cold gas in the first place. \n",
      "Citations: []\n",
      "=====\n"
     ]
    },
    {
     "name": "stderr",
     "output_type": "stream",
     "text": [
      " 20%|█▉        | 118/600 [03:58<13:09,  1.64s/it]"
     ]
    },
    {
     "name": "stdout",
     "output_type": "stream",
     "text": [
      "Sentence: Where significant cold gas is present in the galaxy, the intrinsic AGN spectrum may be blocked from view and feedback is inferred from the velocity field of any outflow in the galaxy. \n",
      "Citations: []\n",
      "=====\n"
     ]
    },
    {
     "name": "stderr",
     "output_type": "stream",
     "text": [
      " 20%|█▉        | 119/600 [03:59<11:11,  1.40s/it]"
     ]
    },
    {
     "name": "stdout",
     "output_type": "stream",
     "text": [
      "Sentence: 2.3. \n",
      "Citations: []\n",
      "=====\n"
     ]
    },
    {
     "name": "stderr",
     "output_type": "stream",
     "text": [
      " 20%|██        | 120/600 [04:00<11:02,  1.38s/it]"
     ]
    },
    {
     "name": "stdout",
     "output_type": "stream",
     "text": [
      "Sentence: Galaxy Outflows Evidence of AGN feedback is clearly seen in some galactic outflows. \n",
      "Citations: []\n",
      "=====\n"
     ]
    },
    {
     "name": "stderr",
     "output_type": "stream",
     "text": [
      " 20%|██        | 121/600 [04:07<24:17,  3.04s/it]"
     ]
    },
    {
     "name": "stdout",
     "output_type": "stream",
     "text": [
      "Sentence: Galactic winds and starburst superwinds ( Heckman et al. 2000 ; Veilleux, Cecil Bland-Hawthorn 2005 ; Strickland Heckman 2009 ; Weiner at el. 2009 ) can range from tens to over a thousand Solar masses per year with velocities of a few 100 km s −1 for the cool components. \n",
      "Citations: [('Heckman', 2000), ('Veilleux', 2005), ('Strickland', 2009), ('Weiner', 2009)]\n",
      "=====\n"
     ]
    },
    {
     "name": "stderr",
     "output_type": "stream",
     "text": [
      " 20%|██        | 122/600 [04:09<20:11,  2.53s/it]"
     ]
    },
    {
     "name": "stdout",
     "output_type": "stream",
     "text": [
      "Sentence: Most of the lower velocity winds are considered to be powered by stellar processes such as supernovae. \n",
      "Citations: []\n",
      "=====\n"
     ]
    },
    {
     "name": "stderr",
     "output_type": "stream",
     "text": [
      " 20%|██        | 123/600 [04:10<18:21,  2.31s/it]"
     ]
    },
    {
     "name": "stdout",
     "output_type": "stream",
     "text": [
      "Sentence: Identifying the effects of AGN feedback in outflows often relies on observing higher velocity (e.g., >500 km s −1 ) components and an outflow power exceeding that predicted by any central starburst. \n",
      "Citations: []\n",
      "=====\n"
     ]
    },
    {
     "name": "stderr",
     "output_type": "stream",
     "text": [
      " 21%|██        | 124/600 [04:12<15:59,  2.02s/it]"
     ]
    },
    {
     "name": "stdout",
     "output_type": "stream",
     "text": [
      "Sentence: The details are not easy to discern, nor is there yet a simple clear dividing line between star- and AGN-driven outflows. \n",
      "Citations: []\n",
      "=====\n"
     ]
    },
    {
     "name": "stderr",
     "output_type": "stream",
     "text": [
      " 21%|██        | 125/600 [04:13<14:20,  1.81s/it]"
     ]
    },
    {
     "name": "stdout",
     "output_type": "stream",
     "text": [
      "Sentence: 500 km s −1 is ∼1 keV per particle, and this is difficult to achieve with stellar processes in large masses of cold molecular gas. \n",
      "Citations: []\n",
      "=====\n"
     ]
    },
    {
     "name": "stderr",
     "output_type": "stream",
     "text": [
      " 21%|██        | 126/600 [04:14<13:08,  1.66s/it]"
     ]
    },
    {
     "name": "stdout",
     "output_type": "stream",
     "text": [
      "Sentence: There should, of course, be a powerful AGN at the center of the galaxy. \n",
      "Citations: []\n",
      "=====\n"
     ]
    },
    {
     "name": "stderr",
     "output_type": "stream",
     "text": [
      " 21%|██        | 127/600 [04:16<12:19,  1.56s/it]"
     ]
    },
    {
     "name": "stdout",
     "output_type": "stream",
     "text": [
      "Sentence: High accretion requires a high fueling rate, which often leads to high obscuration of the nucleus. \n",
      "Citations: []\n",
      "=====\n"
     ]
    },
    {
     "name": "stderr",
     "output_type": "stream",
     "text": [
      " 21%|██▏       | 128/600 [04:17<11:45,  1.49s/it]"
     ]
    },
    {
     "name": "stdout",
     "output_type": "stream",
     "text": [
      "Sentence: The obscuration by the surrounding gas makes observations of the UV and soft X-ray bands, where absorption features are most readily detected, more difficult. \n",
      "Citations: []\n",
      "=====\n"
     ]
    },
    {
     "name": "stderr",
     "output_type": "stream",
     "text": [
      " 22%|██▏       | 129/600 [04:18<11:21,  1.45s/it]"
     ]
    },
    {
     "name": "stdout",
     "output_type": "stream",
     "text": [
      "Sentence: An important object where influence from both the nucleus and outflow are seen is the low-redshift, z = 0.04 quasar/merger Mrk 231. \n",
      "Citations: []\n",
      "=====\n"
     ]
    },
    {
     "name": "stderr",
     "output_type": "stream",
     "text": [
      " 22%|██▏       | 130/600 [04:22<15:35,  1.99s/it]"
     ]
    },
    {
     "name": "stdout",
     "output_type": "stream",
     "text": [
      "Sentence: Rupke Veilleux (2011 ; and see Figure 1 ) map a strong outflow in it with a velocity of ∼1,100 km s −1 and an outflow rate of 420M ⊙ year −1 , which is several times greater than the star-formation rate. \n",
      "Citations: [('Rupke Veilleux', 2011)]\n",
      "=====\n"
     ]
    },
    {
     "name": "stderr",
     "output_type": "stream",
     "text": [
      " 22%|██▏       | 131/600 [04:26<20:24,  2.61s/it]"
     ]
    },
    {
     "name": "stdout",
     "output_type": "stream",
     "text": [
      "Sentence: The outflow power is about 1% of the bolometric luminosity of the active nucleus (see also Ferruglio et al. 2010 , Fischer et al. 2010 ). \n",
      "Citations: [('Ferruglio', 2010), ('Fischer', 2010)]\n",
      "=====\n"
     ]
    },
    {
     "name": "stderr",
     "output_type": "stream",
     "text": [
      " 22%|██▏       | 132/600 [04:28<19:16,  2.47s/it]"
     ]
    },
    {
     "name": "stdout",
     "output_type": "stream",
     "text": [
      "Sentence: The optical/UV spectrum of Mrk 231 shows that it is a low-ionization BAL (LoBal) quasar with strong additional absorption ( Smith et al. 1995 ). \n",
      "Citations: [('Smith', 1995)]\n",
      "=====\n"
     ]
    },
    {
     "name": "stderr",
     "output_type": "stream",
     "text": [
      " 22%|██▏       | 133/600 [04:31<21:02,  2.70s/it]"
     ]
    },
    {
     "name": "stdout",
     "output_type": "stream",
     "text": [
      "Sentence: A study of FeLoBAL quasars at 0.8 z 1.8 by Farrah et al. (2012) concludes that radiatively driven outflows from AGN act to curtail obscured star formation (inferred from the IR luminosity) in the host galaxies of reddened quasars to less than ∼25% of the total IR luminosity. \n",
      "Citations: [('Farrah', 2012)]\n",
      "=====\n"
     ]
    },
    {
     "name": "stderr",
     "output_type": "stream",
     "text": [
      " 22%|██▏       | 134/600 [04:34<21:01,  2.71s/it]"
     ]
    },
    {
     "name": "stdout",
     "output_type": "stream",
     "text": [
      "Sentence: Sturm et al. (2011) have used Herschel -PACS to observe the far-IR spectrum of the OH 79-μm feature in several low-redshift ultraluminous infrared galaxies. \n",
      "Citations: [('Sturm', 2011)]\n",
      "=====\n"
     ]
    },
    {
     "name": "stderr",
     "output_type": "stream",
     "text": [
      " 22%|██▎       | 135/600 [04:36<18:50,  2.43s/it]"
     ]
    },
    {
     "name": "stdout",
     "output_type": "stream",
     "text": [
      "Sentence: They find high velocities above 1,000 km s −1 and mass outflow rates of up to 1, 200M ⊙ year −1 in the AGN-dominant ones. \n",
      "Citations: []\n",
      "=====\n"
     ]
    },
    {
     "name": "stderr",
     "output_type": "stream",
     "text": [
      " 23%|██▎       | 136/600 [04:37<16:13,  2.10s/it]"
     ]
    },
    {
     "name": "stdout",
     "output_type": "stream",
     "text": [
      "Sentence: The gas depletion times range from 10 6 –10 8 years. \n",
      "Citations: []\n",
      "=====\n"
     ]
    },
    {
     "name": "stderr",
     "output_type": "stream",
     "text": [
      " 23%|██▎       | 137/600 [04:38<14:23,  1.86s/it]"
     ]
    },
    {
     "name": "stdout",
     "output_type": "stream",
     "text": [
      "Sentence: Their result leaves little doubt that massive outflows are generated by AGN. \n",
      "Citations: []\n",
      "=====\n"
     ]
    },
    {
     "name": "stderr",
     "output_type": "stream",
     "text": [
      " 23%|██▎       | 138/600 [04:39<13:05,  1.70s/it]"
     ]
    },
    {
     "name": "stdout",
     "output_type": "stream",
     "text": [
      "Sentence: There are many recent reports of outflows from galaxies hosting AGN. \n",
      "Citations: []\n",
      "=====\n"
     ]
    },
    {
     "name": "stderr",
     "output_type": "stream",
     "text": [
      " 23%|██▎       | 139/600 [04:45<21:53,  2.85s/it]"
     ]
    },
    {
     "name": "stdout",
     "output_type": "stream",
     "text": [
      "Sentence: 1,000 km s −1 outflows have been seen on either side of an obscured quasar at z = 0.123 ( Greene, Zakamska Smith 2012 ), in massive poststarburst galaxies at ∼0.6 ( Tremonti, Moustakas Diamond-Stanic 2007 ), and covering 4–8 kpc of an ultraluminous IR galaxy hosting an active nucleus at z ∼2 ( Alexander et al. 2010 ). \n",
      "Citations: [('Greene', 2012), ('Tremonti', 2007), ('Alexander', 2010)]\n",
      "=====\n"
     ]
    },
    {
     "name": "stderr",
     "output_type": "stream",
     "text": [
      " 23%|██▎       | 140/600 [04:48<22:36,  2.95s/it]"
     ]
    },
    {
     "name": "stdout",
     "output_type": "stream",
     "text": [
      "Sentence: A region over a luminous quasar at z = 2.4 shows star formation suppressed, as inferred from decreased H α emission, where the outflow velocity, deduced from [O iii ] emission, is highest ( Cano-Díaz et al. 2012 ). \n",
      "Citations: [('Cano-Díaz', 2012)]\n",
      "=====\n"
     ]
    },
    {
     "name": "stderr",
     "output_type": "stream",
     "text": [
      " 24%|██▎       | 141/600 [04:51<22:27,  2.94s/it]"
     ]
    },
    {
     "name": "stdout",
     "output_type": "stream",
     "text": [
      "Sentence: Absorption features in the spectrum of a background quasar shining through the halo 108 kpc out from a z = 2.4 quasar reveal extreme kinematics in metal-rich cold gas ( Prochaska Hennawi 2009 ). \n",
      "Citations: [('Prochaska', 2009)]\n",
      "=====\n"
     ]
    },
    {
     "name": "stderr",
     "output_type": "stream",
     "text": [
      " 24%|██▎       | 142/600 [04:54<22:17,  2.92s/it]"
     ]
    },
    {
     "name": "stdout",
     "output_type": "stream",
     "text": [
      "Sentence: A spectacular example is the 1,300 km s −1 outflow in a redshift 6.4 quasar revealed by broad wings of the [C ii ] emission line (R. Maiolino, S. Gallerani, R. Neri, C. Cicone, A. Ferrara, et al., submitted). \n",
      "Citations: [('Maiolino', 'none')]\n",
      "=====\n"
     ]
    },
    {
     "name": "stderr",
     "output_type": "stream",
     "text": [
      " 24%|██▍       | 143/600 [04:56<19:43,  2.59s/it]"
     ]
    },
    {
     "name": "stdout",
     "output_type": "stream",
     "text": [
      "Sentence: The kinetic power in the outflow is ∼2 × 10 45 erg s −1 and the 2 × 10 10 M ⊙ molecular gas content of the host galaxy, inferred by CO observation, is ejected in less than 10 7 years. \n",
      "Citations: []\n",
      "=====\n"
     ]
    },
    {
     "name": "stderr",
     "output_type": "stream",
     "text": [
      " 24%|██▍       | 144/600 [05:04<32:10,  4.23s/it]"
     ]
    },
    {
     "name": "stdout",
     "output_type": "stream",
     "text": [
      "Sentence: Strong outflows are also seen in radio galaxies at both low (e.g., Morganti, Tadhunter Oosterloo 2005 ; Morganti et al. 2007 ; Holt et al 2008 ) and high redshifts ( Nesvadba et al. 2008 , 2011 ). \n",
      "Citations: [('Morganti', 2005), ('Morganti', 2007), ('Holt', 2008), ('Nesvadba', 2008), ('Nesvadba', 2011)]\n",
      "=====\n"
     ]
    },
    {
     "name": "stderr",
     "output_type": "stream",
     "text": [
      " 24%|██▍       | 145/600 [05:05<25:30,  3.36s/it]"
     ]
    },
    {
     "name": "stdout",
     "output_type": "stream",
     "text": [
      "Sentence: The above results are a foretaste of what can be expected over the next several years as instrumentation and techniques improve. \n",
      "Citations: []\n",
      "=====\n"
     ]
    },
    {
     "name": "stderr",
     "output_type": "stream",
     "text": [
      " 24%|██▍       | 146/600 [05:06<19:45,  2.61s/it]"
     ]
    },
    {
     "name": "stdout",
     "output_type": "stream",
     "text": [
      "Sentence: 2.4. \n",
      "Citations: []\n",
      "=====\n"
     ]
    },
    {
     "name": "stderr",
     "output_type": "stream",
     "text": [
      " 24%|██▍       | 147/600 [05:07<16:51,  2.23s/it]"
     ]
    },
    {
     "name": "stdout",
     "output_type": "stream",
     "text": [
      "Sentence: From the Peak to the Late Evolution of Active Galactic Nuclei and Quasars An important discovery during the past decade was the cosmic downsizing of AGN. \n",
      "Citations: []\n",
      "=====\n"
     ]
    },
    {
     "name": "stderr",
     "output_type": "stream",
     "text": [
      " 25%|██▍       | 148/600 [05:09<15:52,  2.11s/it]"
     ]
    },
    {
     "name": "stdout",
     "output_type": "stream",
     "text": [
      "Sentence: The most luminous and massive AGN were most numerous at redshifts of 2–2.5, whereas the less luminous peaked at successively lower redshifts, with the least luminous peaking around redshift one. \n",
      "Citations: []\n",
      "=====\n"
     ]
    },
    {
     "name": "stderr",
     "output_type": "stream",
     "text": [
      " 25%|██▍       | 149/600 [05:14<22:22,  2.98s/it]"
     ]
    },
    {
     "name": "stdout",
     "output_type": "stream",
     "text": [
      "Sentence: Downsizing of AGN was first seen in X-ray surveys ( Ueda et al. 2003 ; Hasinger, Miyaji Schmidt 2005 ; Barger et al. 2005 ), where the nucleus stands out clearly above the surrounding galaxy in even the low-luminosity objects. \n",
      "Citations: [('Ueda', 2003), ('Hasinger', 2005), ('Barger', 2005)]\n",
      "=====\n"
     ]
    },
    {
     "name": "stderr",
     "output_type": "stream",
     "text": [
      " 25%|██▌       | 150/600 [05:16<18:36,  2.48s/it]"
     ]
    },
    {
     "name": "stdout",
     "output_type": "stream",
     "text": [
      "Sentence: Later work in optical and other bands confirms this picture. \n",
      "Citations: []\n",
      "=====\n"
     ]
    },
    {
     "name": "stderr",
     "output_type": "stream",
     "text": [
      " 25%|██▌       | 151/600 [05:18<18:22,  2.45s/it]"
     ]
    },
    {
     "name": "stdout",
     "output_type": "stream",
     "text": [
      "Sentence: Downsizing is also evident in radio AGN ( Rigby et al. 2011 ). \n",
      "Citations: [('Rigby', 2011)]\n",
      "=====\n"
     ]
    },
    {
     "name": "stderr",
     "output_type": "stream",
     "text": [
      " 25%|██▌       | 152/600 [05:19<15:50,  2.12s/it]"
     ]
    },
    {
     "name": "stdout",
     "output_type": "stream",
     "text": [
      "Sentence: The behavior is the opposite of what is simply predicted in a hierarchical cold dark matter Universe, where the most massive objects (clusters of galaxies) form last. \n",
      "Citations: []\n",
      "=====\n"
     ]
    },
    {
     "name": "stderr",
     "output_type": "stream",
     "text": [
      " 26%|██▌       | 153/600 [05:21<14:04,  1.89s/it]"
     ]
    },
    {
     "name": "stdout",
     "output_type": "stream",
     "text": [
      "Sentence: It indicates that something is quenching quasar behavior, and the most widely accepted solution is that it is due to AGN feedback. \n",
      "Citations: []\n",
      "=====\n"
     ]
    },
    {
     "name": "stderr",
     "output_type": "stream",
     "text": [
      " 26%|██▌       | 154/600 [05:22<12:49,  1.72s/it]"
     ]
    },
    {
     "name": "stdout",
     "output_type": "stream",
     "text": [
      "Sentence: In many models, massive galaxies merge to generate a massive black hole surrounded by dense gas. \n",
      "Citations: []\n",
      "=====\n"
     ]
    },
    {
     "name": "stderr",
     "output_type": "stream",
     "text": [
      " 26%|██▌       | 155/600 [05:24<13:41,  1.85s/it]"
     ]
    },
    {
     "name": "stdout",
     "output_type": "stream",
     "text": [
      "Sentence: The gas feeds both star formation and an active nucleus (e.g., Sanders et al. 1988 ). \n",
      "Citations: [('Sanders', 1988)]\n",
      "=====\n"
     ]
    },
    {
     "name": "stderr",
     "output_type": "stream",
     "text": [
      " 26%|██▌       | 156/600 [05:26<14:36,  1.97s/it]"
     ]
    },
    {
     "name": "stdout",
     "output_type": "stream",
     "text": [
      "Sentence: The power of the nucleus blows the gas away, leaving a red, dead elliptical galaxy (e.g., Springel, Di Matteo Hernquist 2005 ). \n",
      "Citations: [('Springel', 2005)]\n",
      "=====\n"
     ]
    },
    {
     "name": "stderr",
     "output_type": "stream",
     "text": [
      " 26%|██▌       | 157/600 [05:28<13:10,  1.79s/it]"
     ]
    },
    {
     "name": "stdout",
     "output_type": "stream",
     "text": [
      "Sentence: Studies of the colors of elliptical galaxies indicate that galaxies move on a color-magnitude diagram from the blue cloud of star-forming galaxies to the red cloud of dead ones. \n",
      "Citations: []\n",
      "=====\n"
     ]
    },
    {
     "name": "stderr",
     "output_type": "stream",
     "text": [
      " 26%|██▋       | 158/600 [05:32<17:50,  2.42s/it]"
     ]
    },
    {
     "name": "stdout",
     "output_type": "stream",
     "text": [
      "Sentence: Interestingly, most of the hosts of AGN are found in the “green valley” between these two extremes ( Nandra et al. 2007 , Schawinski et al. 2007 ). \n",
      "Citations: [('Nandra', 2007), ('Schawinski', 2007)]\n",
      "=====\n"
     ]
    },
    {
     "name": "stderr",
     "output_type": "stream",
     "text": [
      " 26%|██▋       | 159/600 [05:33<16:26,  2.24s/it]"
     ]
    },
    {
     "name": "stdout",
     "output_type": "stream",
     "text": [
      "Sentence: The rate at which the galaxies have changed in color can be deduced from poststarburst signatures in their spectra and appears to be a few 100 million years, which is significantly faster than would be expected from passive evolution, where stellar mass loss would accumulate and lead to late star formation. \n",
      "Citations: []\n",
      "=====\n"
     ]
    },
    {
     "name": "stderr",
     "output_type": "stream",
     "text": [
      " 27%|██▋       | 160/600 [05:38<20:58,  2.86s/it]"
     ]
    },
    {
     "name": "stdout",
     "output_type": "stream",
     "text": [
      "Sentence: The observational details of this are, however, uncertain in local galaxy bulges ( Wild, Heckman Charlot 2010 ), with signs that the black hole fueling may lag behind the starburst [see Hopkins (2012) for a model]. \n",
      "Citations: [('Wild, Heckman Charlot', 2010), ('Hopkins', 2012)]\n",
      "=====\n"
     ]
    },
    {
     "name": "stderr",
     "output_type": "stream",
     "text": [
      " 27%|██▋       | 161/600 [05:40<19:20,  2.64s/it]"
     ]
    },
    {
     "name": "stdout",
     "output_type": "stream",
     "text": [
      "Sentence: Bell et al. (2012) , studying massive galaxies from 0.6 z 2.2, find quiescence to correlate poorly with stellar mass. \n",
      "Citations: [('Bell', 2012)]\n",
      "=====\n"
     ]
    },
    {
     "name": "stderr",
     "output_type": "stream",
     "text": [
      " 27%|██▋       | 162/600 [05:41<16:26,  2.25s/it]"
     ]
    },
    {
     "name": "stdout",
     "output_type": "stream",
     "text": [
      "Sentence: A common factor of a quiescent galaxy is that it has a bulge, with presumably a central black hole consistent with black hole feedback. \n",
      "Citations: []\n",
      "=====\n"
     ]
    },
    {
     "name": "stderr",
     "output_type": "stream",
     "text": [
      " 27%|██▋       | 163/600 [05:44<17:00,  2.34s/it]"
     ]
    },
    {
     "name": "stdout",
     "output_type": "stream",
     "text": [
      "Sentence: A possibly important uncertainty on distant AGN hosts is whether they are dusty or not (e.g., Brammer et al. 2009 ). \n",
      "Citations: [('Brammer', 2009)]\n",
      "=====\n"
     ]
    },
    {
     "name": "stderr",
     "output_type": "stream",
     "text": [
      " 27%|██▋       | 164/600 [05:46<17:22,  2.39s/it]"
     ]
    },
    {
     "name": "stdout",
     "output_type": "stream",
     "text": [
      "Sentence: Correcting for dust may remove most AGN from the green valley altogether ( Cardamone et al. 2010 ). \n",
      "Citations: [('Cardamone', 2010)]\n",
      "=====\n"
     ]
    },
    {
     "name": "stderr",
     "output_type": "stream",
     "text": [
      " 28%|██▊       | 165/600 [05:49<17:46,  2.45s/it]"
     ]
    },
    {
     "name": "stdout",
     "output_type": "stream",
     "text": [
      "Sentence: Observational evidence that star formation is suppressed by powerful AGN has been obtained by Page et al. (2012) using Herschel submillimeter observations of AGN in the Chandra Deep Field North. \n",
      "Citations: [('Page', 2012)]\n",
      "=====\n"
     ]
    },
    {
     "name": "stderr",
     "output_type": "stream",
     "text": [
      " 28%|██▊       | 166/600 [05:52<18:38,  2.58s/it]"
     ]
    },
    {
     "name": "stdout",
     "output_type": "stream",
     "text": [
      "Sentence: Over redshifts from1 to 3, vigorous star formation in the host galaxy, as determined by submillimeter detection, is seen for AGN of X-ray luminosity less than 10 44 erg s −1 but not for higher luminosity AGN (but see Santini et al. 2012 ). \n",
      "Citations: [('Santini', 2012)]\n",
      "=====\n"
     ]
    },
    {
     "name": "stderr",
     "output_type": "stream",
     "text": [
      " 28%|██▊       | 167/600 [05:53<14:49,  2.06s/it]"
     ]
    },
    {
     "name": "stdout",
     "output_type": "stream",
     "text": [
      "Sentence: 2.5. \n",
      "Citations: []\n",
      "=====\n"
     ]
    },
    {
     "name": "stderr",
     "output_type": "stream",
     "text": [
      " 28%|██▊       | 168/600 [05:54<13:12,  1.83s/it]"
     ]
    },
    {
     "name": "stdout",
     "output_type": "stream",
     "text": [
      "Sentence: Mergers or Secular Evolution? \n",
      "Citations: []\n",
      "=====\n"
     ]
    },
    {
     "name": "stderr",
     "output_type": "stream",
     "text": [
      " 28%|██▊       | 169/600 [05:55<12:06,  1.68s/it]"
     ]
    },
    {
     "name": "stdout",
     "output_type": "stream",
     "text": [
      "Sentence: Many theoretical models for quasar evolution are based on galaxy-galaxy mergers being the trigger for gas infall onto a black hole. \n",
      "Citations: []\n",
      "=====\n"
     ]
    },
    {
     "name": "stderr",
     "output_type": "stream",
     "text": [
      " 28%|██▊       | 170/600 [05:57<11:19,  1.58s/it]"
     ]
    },
    {
     "name": "stdout",
     "output_type": "stream",
     "text": [
      "Sentence: (This is a convenient assumption because the merger rate is predictable from the growth of large-scale dark matter structure.) \n",
      "Citations: []\n",
      "=====\n"
     ]
    },
    {
     "name": "stderr",
     "output_type": "stream",
     "text": [
      " 28%|██▊       | 171/600 [05:58<10:46,  1.51s/it]"
     ]
    },
    {
     "name": "stdout",
     "output_type": "stream",
     "text": [
      "Sentence: Although mergers must occur, the evidence for them triggering AGN is weak at most redshifts. \n",
      "Citations: []\n",
      "=====\n"
     ]
    },
    {
     "name": "stderr",
     "output_type": "stream",
     "text": [
      " 29%|██▊       | 172/600 [06:02<16:53,  2.37s/it]"
     ]
    },
    {
     "name": "stdout",
     "output_type": "stream",
     "text": [
      "Sentence: Searches for postmerger disruption signatures often give a null result when the host galaxies of AGN are compared with a control sample of field galaxies (e.g., Cisternas et al. 2011 , Schawinski et al. 2011 ). \n",
      "Citations: [('Cisternas', 2011), ('Schawinski', 2011)]\n",
      "=====\n"
     ]
    },
    {
     "name": "stderr",
     "output_type": "stream",
     "text": [
      " 29%|██▉       | 173/600 [06:08<24:58,  3.51s/it]"
     ]
    },
    {
     "name": "stdout",
     "output_type": "stream",
     "text": [
      "Sentence: Mergers are best seen as a trigger for distant submillimeter galaxies ( Tacconi et al. 2008 , Engel et al. 2010 , Riechers et al. 2011 ) and some local Seyferts ( Koss et al. 2010 ). \n",
      "Citations: [('Tacconi', 2008), ('Engel', 2010), ('Riechers', 2011), ('Koss', 2010)]\n",
      "=====\n"
     ]
    },
    {
     "name": "stderr",
     "output_type": "stream",
     "text": [
      " 29%|██▉       | 174/600 [06:11<22:15,  3.14s/it]"
     ]
    },
    {
     "name": "stdout",
     "output_type": "stream",
     "text": [
      "Sentence: Secular processes may nevertheless dominate gas inflow in massive bulges at z ∼2 ( Genzel et al. 2008 ). \n",
      "Citations: [('Genzel', 2008)]\n",
      "=====\n"
     ]
    },
    {
     "name": "stderr",
     "output_type": "stream",
     "text": [
      " 29%|██▉       | 175/600 [06:15<25:15,  3.57s/it]"
     ]
    },
    {
     "name": "stdout",
     "output_type": "stream",
     "text": [
      "Sentence: The evidence is building that between redshifts of two and the current epoch, much of the evolution of AGN is secular ( Orban de Xivry et al. 2011 , Kocevski et al. 2012 ). \n",
      "Citations: [('Orban de Xivry', 2011), ('Kocevski', 2012)]\n",
      "=====\n"
     ]
    },
    {
     "name": "stderr",
     "output_type": "stream",
     "text": [
      " 29%|██▉       | 176/600 [06:17<20:27,  2.90s/it]"
     ]
    },
    {
     "name": "stdout",
     "output_type": "stream",
     "text": [
      "Sentence: Further evidence for this emerges from a study of the probability that a galaxy hosts an active nucleus. \n",
      "Citations: []\n",
      "=====\n"
     ]
    },
    {
     "name": "stderr",
     "output_type": "stream",
     "text": [
      " 30%|██▉       | 177/600 [06:22<25:25,  3.61s/it]"
     ]
    },
    {
     "name": "stdout",
     "output_type": "stream",
     "text": [
      "Sentence: Aird et al. (2012) find this to be a power law in Eddington rate and largely independent of mass [see also Kauffmann Heckman (2009) for a discussion of Eddington ratios at low redshift and Alexander Hickox (2012) for a review of black hole growth]. \n",
      "Citations: [('Aird', 2012), ('Kauffmann Heckman', 2009), ('Alexander', 2012)]\n",
      "=====\n"
     ]
    },
    {
     "name": "stderr",
     "output_type": "stream",
     "text": [
      " 30%|██▉       | 178/600 [06:24<22:32,  3.20s/it]"
     ]
    },
    {
     "name": "stdout",
     "output_type": "stream",
     "text": [
      "Sentence: Secular evolution has implications for the spin of black holes, which are then likely to be high ( Berti Volonteri 2008 ). \n",
      "Citations: [('Berti', 2008)]\n",
      "=====\n"
     ]
    },
    {
     "name": "stderr",
     "output_type": "stream",
     "text": [
      " 30%|██▉       | 179/600 [06:28<23:53,  3.40s/it]"
     ]
    },
    {
     "name": "stdout",
     "output_type": "stream",
     "text": [
      "Sentence: Hints that most accretion takes place onto spinning black holes, with consequent high radiative efficiency, η , have emerged from application of Soltan's (1982) argument relating the energy density of quasar/AGN radiation to the local mean mass density in massive black holes: where is the energy density in radiation from accretion, z is the mean redshift at which the energy is radiated, and ρ BH is the mean smoothed-out density in black holes at the present epoch. \n",
      "Citations: [('Soltan', 1982)]\n",
      "=====\n"
     ]
    },
    {
     "name": "stderr",
     "output_type": "stream",
     "text": [
      " 30%|███       | 180/600 [06:30<20:26,  2.92s/it]"
     ]
    },
    {
     "name": "stdout",
     "output_type": "stream",
     "text": [
      "Sentence: The equation is independent of cosmological model and reflects the fact that both the black hole mass and energy radiated remain and scale together apart from the (1+ z ) redshift factor that must be applied to the radiation. \n",
      "Citations: []\n",
      "=====\n"
     ]
    },
    {
     "name": "stderr",
     "output_type": "stream",
     "text": [
      " 30%|███       | 181/600 [06:36<26:57,  3.86s/it]"
     ]
    },
    {
     "name": "stdout",
     "output_type": "stream",
     "text": [
      "Sentence: Application of this formula to the X-ray background or quasar counts, etc., usually yields a value for η of 0.1 or more ( Fabian Iwasawa 1999 ; Elvis, Risaliti Zamorani 2002 ; Marconi et al. 2004 ; Raimundo Fabian 2009 ). \n",
      "Citations: [('Fabian', 1999), ('Elvis', 2002), ('Marconi', 2004), ('Raimundo', 2009)]\n",
      "=====\n"
     ]
    },
    {
     "name": "stderr",
     "output_type": "stream",
     "text": [
      " 30%|███       | 182/600 [06:37<21:37,  3.10s/it]"
     ]
    },
    {
     "name": "stdout",
     "output_type": "stream",
     "text": [
      "Sentence: This is higher than the efficiency of a nonspinning black hole, η=0.057, and consistent with moderate to high spin. \n",
      "Citations: []\n",
      "=====\n"
     ]
    },
    {
     "name": "stderr",
     "output_type": "stream",
     "text": [
      " 30%|███       | 183/600 [06:39<17:53,  2.58s/it]"
     ]
    },
    {
     "name": "stdout",
     "output_type": "stream",
     "text": [
      "Sentence: Mergers may still be the trigger for the quasar peak at redshifts of 2–3. \n",
      "Citations: []\n",
      "=====\n"
     ]
    },
    {
     "name": "stderr",
     "output_type": "stream",
     "text": [
      " 31%|███       | 184/600 [06:42<18:49,  2.72s/it]"
     ]
    },
    {
     "name": "stdout",
     "output_type": "stream",
     "text": [
      "Sentence: Whether a merger is wet or dry (gas rich or poor) can have a significant effect on the final merger product, as can how and whether the massive black holes of the merging galaxies scour the final galaxy core or not ( Kormendy Bender 2009 ). \n",
      "Citations: [('Kormendy', 2009)]\n",
      "=====\n"
     ]
    },
    {
     "name": "stderr",
     "output_type": "stream",
     "text": [
      " 31%|███       | 185/600 [06:43<16:52,  2.44s/it]"
     ]
    },
    {
     "name": "stdout",
     "output_type": "stream",
     "text": [
      "Sentence: The picture emerging from many observations of massive galaxies and AGN is of radiative feedback being an important process when the AGN/quasar was highly luminous and within about two orders of magnitude of the Eddington limit. \n",
      "Citations: []\n",
      "=====\n"
     ]
    },
    {
     "name": "stderr",
     "output_type": "stream",
     "text": [
      " 31%|███       | 186/600 [06:45<14:31,  2.11s/it]"
     ]
    },
    {
     "name": "stdout",
     "output_type": "stream",
     "text": [
      "Sentence: For massive galaxies, this highlights the redshift range of the quasar peak. \n",
      "Citations: []\n",
      "=====\n"
     ]
    },
    {
     "name": "stderr",
     "output_type": "stream",
     "text": [
      " 31%|███       | 187/600 [06:46<12:53,  1.87s/it]"
     ]
    },
    {
     "name": "stdout",
     "output_type": "stream",
     "text": [
      "Sentence: We now shift attention to low redshifts and the most massive galaxies at the centers of clusters and groups. \n",
      "Citations: []\n",
      "=====\n"
     ]
    },
    {
     "name": "stderr",
     "output_type": "stream",
     "text": [
      " 31%|███▏      | 188/600 [06:47<11:44,  1.71s/it]"
     ]
    },
    {
     "name": "stdout",
     "output_type": "stream",
     "text": [
      "Sentence: They generally do not host luminous AGN or quasars. \n",
      "Citations: []\n",
      "=====\n"
     ]
    },
    {
     "name": "stderr",
     "output_type": "stream",
     "text": [
      " 32%|███▏      | 189/600 [06:49<10:54,  1.59s/it]"
     ]
    },
    {
     "name": "stdout",
     "output_type": "stream",
     "text": [
      "Sentence: They do host the most massive supermassive black holes and are often active radio sources. \n",
      "Citations: []\n",
      "=====\n"
     ]
    },
    {
     "name": "stderr",
     "output_type": "stream",
     "text": [
      " 32%|███▏      | 190/600 [06:50<10:19,  1.51s/it]"
     ]
    },
    {
     "name": "stdout",
     "output_type": "stream",
     "text": [
      "Sentence: Feedback takes place here through the kinetic mode involving jets acting on hot gas. \n",
      "Citations: []\n",
      "=====\n"
     ]
    },
    {
     "name": "stderr",
     "output_type": "stream",
     "text": [
      " 32%|███▏      | 191/600 [06:53<13:01,  1.91s/it]"
     ]
    },
    {
     "name": "stdout",
     "output_type": "stream",
     "text": [
      "Sentence: 3. THE KINETIC MODE The more massive galaxies at the centers of groups and clusters are often surrounded by gas with a radiative cooling time short enough that a cooling flow should be taking place ( Fabian 1994 ). \n",
      "Citations: [('Fabian', 1994)]\n",
      "=====\n"
     ]
    },
    {
     "name": "stderr",
     "output_type": "stream",
     "text": [
      " 32%|███▏      | 192/600 [06:55<12:45,  1.88s/it]"
     ]
    },
    {
     "name": "stdout",
     "output_type": "stream",
     "text": [
      "Sentence: The X-rays we see indicate a large radiative loss and mass cooling rates of tens, hundreds, or even thousands of solar masses per year: with a (factor of roughly two) downward correction for gravitational infall if the hot gas flows inward as a consequence of cooling. \n",
      "Citations: []\n",
      "=====\n"
     ]
    },
    {
     "name": "stderr",
     "output_type": "stream",
     "text": [
      " 32%|███▏      | 193/600 [06:56<11:36,  1.71s/it]"
     ]
    },
    {
     "name": "stdout",
     "output_type": "stream",
     "text": [
      "Sentence: The term μm is the mean mass per particle of the gas of temperature T, and L is the luminosity (mostly emitted in the X-ray band). \n",
      "Citations: []\n",
      "=====\n"
     ]
    },
    {
     "name": "stderr",
     "output_type": "stream",
     "text": [
      " 32%|███▏      | 194/600 [06:58<11:45,  1.74s/it]"
     ]
    },
    {
     "name": "stdout",
     "output_type": "stream",
     "text": [
      "Sentence: Some relevant gas properties of a small sample of objects are shown in Figure 2 , ranging from the high-luminosity cluster A1835 through the X-ray brightest cluster in the sky, A426 (the Perseus cluster) and the low-mass cluster A262 cluster to the Milky Way mass elliptical galaxy NGC 720. \n",
      "Citations: []\n",
      "=====\n"
     ]
    },
    {
     "name": "stderr",
     "output_type": "stream",
     "text": [
      " 32%|███▎      | 195/600 [07:00<11:49,  1.75s/it]"
     ]
    },
    {
     "name": "stdout",
     "output_type": "stream",
     "text": [
      "Sentence: All the clusters show a large central temperature drop within the inner 100 kpc, and all objects show a radiative cooling time dropping below 10 9 Gyr within the inner 10 kpc. \n",
      "Citations: []\n",
      "=====\n"
     ]
    },
    {
     "name": "stderr",
     "output_type": "stream",
     "text": [
      " 33%|███▎      | 196/600 [07:01<10:56,  1.62s/it]"
     ]
    },
    {
     "name": "stdout",
     "output_type": "stream",
     "text": [
      "Sentence: An approximate mass cooling rate, in the absence of a heat source, can be deduced by dividing the gas mass within a chosen radius by the cooling time at that radius. \n",
      "Citations: []\n",
      "=====\n"
     ]
    },
    {
     "name": "stderr",
     "output_type": "stream",
     "text": [
      " 33%|███▎      | 197/600 [07:03<11:13,  1.67s/it]"
     ]
    },
    {
     "name": "stdout",
     "output_type": "stream",
     "text": [
      "Sentence: If a cooling flow is operating, the mass cooling rates need to be worked out cumulatively including gravitational work done, which increases the rates by a factor of 1.5–2, depending on the details of the profiles. \n",
      "Citations: []\n",
      "=====\n"
     ]
    },
    {
     "name": "stderr",
     "output_type": "stream",
     "text": [
      " 33%|███▎      | 198/600 [07:12<27:18,  4.08s/it]"
     ]
    },
    {
     "name": "stdout",
     "output_type": "stream",
     "text": [
      "Sentence: Figure 2 Gas temperature ( red circles ); cumulative gas mass ( blue squares ), M gas ( r ); radiative cooling time ( green squares ), t cool ( r ); and mass cooling rate ( purple diamonds ), , where r is radius, for Abell 1835 (A1835) ( Schmidt, Allen Fabian 2001 ; McNamara et al. 2006 ), Abell 426 (A426, the Perseus cluster) ( Fabian et al. 2006 ), Abell 262 (A262) ( Blanton et al. 2004 ; Sanders et al. 2010a ), and Milky Way mass elliptical galaxy NGC 720 ( Humphrey et al. 2011 ). \n",
      "Citations: [('Schmidt', 2001), ('McNamara', 2006), ('Fabian', 2006), ('Blanton', 2004), ('Sanders', 2010), ('Humphrey', 2011)]\n",
      "=====\n"
     ]
    },
    {
     "name": "stderr",
     "output_type": "stream",
     "text": [
      " 33%|███▎      | 199/600 [07:14<21:45,  3.25s/it]"
     ]
    },
    {
     "name": "stdout",
     "output_type": "stream",
     "text": [
      "Sentence: The temperatures shown here are deprojected values and assume single phase gas. \n",
      "Citations: []\n",
      "=====\n"
     ]
    },
    {
     "name": "stderr",
     "output_type": "stream",
     "text": [
      " 33%|███▎      | 200/600 [07:15<17:51,  2.68s/it]"
     ]
    },
    {
     "name": "stdout",
     "output_type": "stream",
     "text": [
      "Sentence: Spatial and further spectral studies often show it to be multiphase near the center. \n",
      "Citations: []\n",
      "=====\n"
     ]
    },
    {
     "name": "stderr",
     "output_type": "stream",
     "text": [
      " 34%|███▎      | 201/600 [07:16<15:08,  2.28s/it]"
     ]
    },
    {
     "name": "stdout",
     "output_type": "stream",
     "text": [
      "Sentence: Composite courtesy of J. Sanders. \n",
      "Citations: []\n",
      "=====\n"
     ]
    },
    {
     "name": "stderr",
     "output_type": "stream",
     "text": [
      " 34%|███▎      | 202/600 [07:18<13:16,  2.00s/it]"
     ]
    },
    {
     "name": "stdout",
     "output_type": "stream",
     "text": [
      "Sentence: The mass cooling rates are such that the clusters should be significantly growing their stellar mass now, if radiative cooling is uninhibited and the cooled gas forms stars. \n",
      "Citations: []\n",
      "=====\n"
     ]
    },
    {
     "name": "stderr",
     "output_type": "stream",
     "text": [
      " 34%|███▍      | 203/600 [07:21<16:00,  2.42s/it]"
     ]
    },
    {
     "name": "stdout",
     "output_type": "stream",
     "text": [
      "Sentence: Observations do reveal some star formation taking place, and A1835 may have the highest star-formation rate in a low-redshift BCG (∼125M ⊙ year −1 ; Egami et al. 2006 ), but it does not equal the uninhibited mass cooling rate, which is ∼1, 000M ⊙ year −1 . \n",
      "Citations: [('Egami', 2006)]\n",
      "=====\n"
     ]
    },
    {
     "name": "stderr",
     "output_type": "stream",
     "text": [
      " 34%|███▍      | 204/600 [07:22<13:50,  2.10s/it]"
     ]
    },
    {
     "name": "stdout",
     "output_type": "stream",
     "text": [
      "Sentence: Only if the initial mass function of the star-formation process in these systems favored low-mass stars could there be sufficient stars. \n",
      "Citations: []\n",
      "=====\n"
     ]
    },
    {
     "name": "stderr",
     "output_type": "stream",
     "text": [
      " 34%|███▍      | 205/600 [07:25<15:05,  2.29s/it]"
     ]
    },
    {
     "name": "stdout",
     "output_type": "stream",
     "text": [
      "Sentence: The high-pressure environment in a cluster core, where the thermal pressure is about 1,000 times that of the interstellar medium of the Milky Way has been invoked as an explanation for low-mass stars, due to its effect on the Jeans mass ( Fabian, Nulsen Canizares 1982 ). \n",
      "Citations: [('Fabian', 1982)]\n",
      "=====\n"
     ]
    },
    {
     "name": "stderr",
     "output_type": "stream",
     "text": [
      " 34%|███▍      | 206/600 [07:27<13:11,  2.01s/it]"
     ]
    },
    {
     "name": "stdout",
     "output_type": "stream",
     "text": [
      "Sentence: Most observations of the IMF in a wide variety of objects support a universal IMF, which does not have most of its mass in very low-mass stars, which would be required here. \n",
      "Citations: []\n",
      "=====\n"
     ]
    },
    {
     "name": "stderr",
     "output_type": "stream",
     "text": [
      " 34%|███▍      | 207/600 [07:31<18:44,  2.86s/it]"
     ]
    },
    {
     "name": "stdout",
     "output_type": "stream",
     "text": [
      "Sentence: Van Dokkum Conroy (2010) do, however, find an IMF rich in low-mass stars in a small sample of nearby elliptical galaxies (see also Cappellari et al. 2012 ), so the case may not yet be completely closed for low-mass stars playing a role. \n",
      "Citations: [('Van Dokkum Conroy', 2010), ('Cappellari et al.', 2012)]\n",
      "=====\n"
     ]
    },
    {
     "name": "stderr",
     "output_type": "stream",
     "text": [
      " 35%|███▍      | 208/600 [07:33<16:37,  2.54s/it]"
     ]
    },
    {
     "name": "stdout",
     "output_type": "stream",
     "text": [
      "Sentence: The centers of A1835 and the Perseus cluster do contain extensive reservoirs of dusty atomic and molecular gas, the mass of which could be the end result of a significant cooling flow, except that it would not then be clear where the dust and molecules formed. \n",
      "Citations: []\n",
      "=====\n"
     ]
    },
    {
     "name": "stderr",
     "output_type": "stream",
     "text": [
      " 35%|███▍      | 209/600 [07:35<14:13,  2.18s/it]"
     ]
    },
    {
     "name": "stdout",
     "output_type": "stream",
     "text": [
      "Sentence: It is generally considered that dust cannot form spontaneously in diffuse cooled gas, which is presumably required first in order to then form molecules. \n",
      "Citations: []\n",
      "=====\n"
     ]
    },
    {
     "name": "stderr",
     "output_type": "stream",
     "text": [
      " 35%|███▌      | 210/600 [07:36<12:32,  1.93s/it]"
     ]
    },
    {
     "name": "stdout",
     "output_type": "stream",
     "text": [
      "Sentence: The X-ray-rich environment in clusters does, however, mean that the H − route may be open for molecule formation in cold gas. \n",
      "Citations: []\n",
      "=====\n"
     ]
    },
    {
     "name": "stderr",
     "output_type": "stream",
     "text": [
      " 35%|███▌      | 211/600 [07:38<13:24,  2.07s/it]"
     ]
    },
    {
     "name": "stdout",
     "output_type": "stream",
     "text": [
      "Sentence: Dust formation from cold molecular gas has been proposed in this situation ( Fabian, Johnstone Daines 1994 ), but no detailed calculation has been attempted. \n",
      "Citations: [('Fabian', 1994)]\n",
      "=====\n"
     ]
    },
    {
     "name": "stderr",
     "output_type": "stream",
     "text": [
      " 35%|███▌      | 212/600 [07:42<16:56,  2.62s/it]"
     ]
    },
    {
     "name": "stdout",
     "output_type": "stream",
     "text": [
      "Sentence: The situation may change now that significant amounts of dust and molecules have been found in some very young supernova remnants, such as SN1987A ( Matsuura et al. 2011 ) and the Crab ( Loh, Baldwin Ferland 2010 ). \n",
      "Citations: [('Matsuura', 2011), ('Loh', 2010)]\n",
      "=====\n"
     ]
    },
    {
     "name": "stderr",
     "output_type": "stream",
     "text": [
      " 36%|███▌      | 213/600 [07:46<19:31,  3.03s/it]"
     ]
    },
    {
     "name": "stdout",
     "output_type": "stream",
     "text": [
      "Sentence: XMM-Newton Reflection Grating Spectrometer (RGS) observations provided crucial information against a simple cooling flow model in that they failed to show the strong lines expected from Fe xvii as the gas cooled below 0.7 keV ( Peterson et al. 2001 , Tamura et al. 2001 ). \n",
      "Citations: [('Peterson', 2001), ('Tamura', 2001)]\n",
      "=====\n"
     ]
    },
    {
     "name": "stderr",
     "output_type": "stream",
     "text": [
      " 36%|███▌      | 214/600 [07:49<18:14,  2.84s/it]"
     ]
    },
    {
     "name": "stdout",
     "output_type": "stream",
     "text": [
      "Sentence: Detailed fits ( Peterson et al. 2003 ) indicated that there was much less gas below one-third of the outer cluster gas temperature than would be expected in a steady cooling flow. \n",
      "Citations: [('Peterson', 2003)]\n",
      "=====\n"
     ]
    },
    {
     "name": "stderr",
     "output_type": "stream",
     "text": [
      " 36%|███▌      | 215/600 [07:50<15:15,  2.38s/it]"
     ]
    },
    {
     "name": "stdout",
     "output_type": "stream",
     "text": [
      "Sentence: Either something was heating the gas or the gas was somehow disappearing. \n",
      "Citations: []\n",
      "=====\n"
     ]
    },
    {
     "name": "stderr",
     "output_type": "stream",
     "text": [
      " 36%|███▌      | 216/600 [07:51<13:10,  2.06s/it]"
     ]
    },
    {
     "name": "stdout",
     "output_type": "stream",
     "text": [
      "Sentence: As is discussed below, both of these options are probably involved. \n",
      "Citations: []\n",
      "=====\n"
     ]
    },
    {
     "name": "stderr",
     "output_type": "stream",
     "text": [
      " 36%|███▌      | 217/600 [07:52<11:43,  1.84s/it]"
     ]
    },
    {
     "name": "stdout",
     "output_type": "stream",
     "text": [
      "Sentence: The likely heat source is from the AGN in the BCG at the center of the cool core. \n",
      "Citations: []\n",
      "=====\n"
     ]
    },
    {
     "name": "stderr",
     "output_type": "stream",
     "text": [
      " 36%|███▋      | 218/600 [07:56<14:26,  2.27s/it]"
     ]
    },
    {
     "name": "stdout",
     "output_type": "stream",
     "text": [
      "Sentence: Almost all have an active radio source ( Burns 1990 , Sun 2009 ). \n",
      "Citations: [('Burns', 1990), ('Sun', 2009)]\n",
      "=====\n"
     ]
    },
    {
     "name": "stderr",
     "output_type": "stream",
     "text": [
      " 36%|███▋      | 219/600 [08:02<21:46,  3.43s/it]"
     ]
    },
    {
     "name": "stdout",
     "output_type": "stream",
     "text": [
      "Sentence: Heating by the central nucleus was suggested early by Pedlar et al. (1990) , Baum O'Dea (1991) , Tabor Binney (1993) , and Tucker David (1997) . \n",
      "Citations: [('Pedlar', 1990), ('Baum', 1991), ('Tabor', 1993), ('Tucker', 1997)]\n",
      "=====\n"
     ]
    },
    {
     "name": "stderr",
     "output_type": "stream",
     "text": [
      " 37%|███▋      | 220/600 [08:07<24:07,  3.81s/it]"
     ]
    },
    {
     "name": "stdout",
     "output_type": "stream",
     "text": [
      "Sentence: Later work showed that the correlation between radio power and cooling luminosity (a measure of the rate at which gas cools within a fiducial cooling radius, where t cool is 7 Gyr) is poor ( Cavagnolo et al. 2010 , Voigt Fabian 2004 ), and the jets and, thus, the kinetic power have to be either highly sporadic or extremely radiatively inefficient (see below). \n",
      "Citations: [('Cavagnolo', 2010), ('Voigt', 2004)]\n",
      "=====\n"
     ]
    },
    {
     "name": "stderr",
     "output_type": "stream",
     "text": [
      " 37%|███▋      | 221/600 [08:13<28:27,  4.50s/it]"
     ]
    },
    {
     "name": "stdout",
     "output_type": "stream",
     "text": [
      "Sentence: The general consensus now is that the massive black hole at the center of the galaxy is feeding energy back into its surroundings at a rate balancing the loss of energy through cooling (for reviews, see Peterson Fabian 2006 , McNamara Nulsen 2007 , Cattaneo et al. 2009 ). \n",
      "Citations: [('Peterson Fabian', 2006), ('McNamara Nulsen', 2007), ('Cattaneo', 2009)]\n",
      "=====\n"
     ]
    },
    {
     "name": "stderr",
     "output_type": "stream",
     "text": [
      " 37%|███▋      | 222/600 [08:14<22:23,  3.55s/it]"
     ]
    },
    {
     "name": "stdout",
     "output_type": "stream",
     "text": [
      "Sentence: Several steps in this feedback process are clearly seen in X-ray and radio observations. \n",
      "Citations: []\n",
      "=====\n"
     ]
    },
    {
     "name": "stderr",
     "output_type": "stream",
     "text": [
      " 37%|███▋      | 223/600 [08:15<18:09,  2.89s/it]"
     ]
    },
    {
     "name": "stdout",
     "output_type": "stream",
     "text": [
      "Sentence: Much of the action is spatially resolved and the gas optically thin. \n",
      "Citations: []\n",
      "=====\n"
     ]
    },
    {
     "name": "stderr",
     "output_type": "stream",
     "text": [
      " 37%|███▋      | 224/600 [08:17<15:17,  2.44s/it]"
     ]
    },
    {
     "name": "stdout",
     "output_type": "stream",
     "text": [
      "Sentence: The accretion flow onto the black hole generates powerful jets that inflate bubbles of relativistic plasma on either side of the nucleus. \n",
      "Citations: []\n",
      "=====\n"
     ]
    },
    {
     "name": "stderr",
     "output_type": "stream",
     "text": [
      " 38%|███▊      | 225/600 [08:23<21:35,  3.46s/it]"
     ]
    },
    {
     "name": "stdout",
     "output_type": "stream",
     "text": [
      "Sentence: The bubbles are buoyant in the intracluster or intragroup medium, separating and rising as a new bubble forms ( Churazov et al. 2000 , 2001 ; McNamara et al. 2000 ). \n",
      "Citations: [('Churazov', 2000), ('Churazov', 2001), ('McNamara', 2000)]\n",
      "=====\n"
     ]
    },
    {
     "name": "stderr",
     "output_type": "stream",
     "text": [
      " 38%|███▊      | 226/600 [08:27<23:29,  3.77s/it]"
     ]
    },
    {
     "name": "stdout",
     "output_type": "stream",
     "text": [
      "Sentence: A study of the brightest 55 clusters ( Figure 3 ) ( Dunn Fabian 2006 , 2008 ) originally showed that over 70% of those clusters where the cooling time is less than 3 Gyr, and that therefore need heat, have bubbles; the remaining 30% have a central radio source. \n",
      "Citations: [('Dunn Fabian', 2006), ('Dunn Fabian', 2008)]\n",
      "=====\n"
     ]
    },
    {
     "name": "stderr",
     "output_type": "stream",
     "text": [
      " 38%|███▊      | 227/600 [08:28<18:53,  3.04s/it]"
     ]
    },
    {
     "name": "stdout",
     "output_type": "stream",
     "text": [
      "Sentence: This implies that the duty cycle of the bubbling is at least 70%. \n",
      "Citations: []\n",
      "=====\n"
     ]
    },
    {
     "name": "stderr",
     "output_type": "stream",
     "text": [
      " 38%|███▊      | 228/600 [08:30<16:34,  2.67s/it]"
     ]
    },
    {
     "name": "stdout",
     "output_type": "stream",
     "text": [
      "Sentence: Updating that work now indicates ( Figure 3 ) that the bubble fraction is 19/20 objects (the odd one out—the Ophiuchus cluster—is undergoing a merger into the core). \n",
      "Citations: []\n",
      "=====\n"
     ]
    },
    {
     "name": "stderr",
     "output_type": "stream",
     "text": [
      " 38%|███▊      | 229/600 [08:32<14:01,  2.27s/it]"
     ]
    },
    {
     "name": "stdout",
     "output_type": "stream",
     "text": [
      "Sentence: When projection effects are considered, because bubbles along the line of sight will be difficult to distinguish, the corresponding bubbling fraction is >95%. \n",
      "Citations: []\n",
      "=====\n"
     ]
    },
    {
     "name": "stderr",
     "output_type": "stream",
     "text": [
      " 38%|███▊      | 230/600 [08:33<13:14,  2.15s/it]"
     ]
    },
    {
     "name": "stdout",
     "output_type": "stream",
     "text": [
      "Sentence: Note that objects cannot shift to the left in this diagram on timescales less than t cool ; they can shift to the right on a shorter timescale, but this must be rare or there would not be a peak at low t cool . \n",
      "Citations: []\n",
      "=====\n"
     ]
    },
    {
     "name": "stderr",
     "output_type": "stream",
     "text": [
      " 38%|███▊      | 231/600 [08:35<11:47,  1.92s/it]"
     ]
    },
    {
     "name": "stdout",
     "output_type": "stream",
     "text": [
      "Sentence: The jet bubbling process is not, therefore, very episodic, but is more or less continuous. \n",
      "Citations: []\n",
      "=====\n"
     ]
    },
    {
     "name": "stderr",
     "output_type": "stream",
     "text": [
      " 39%|███▊      | 232/600 [08:37<12:28,  2.03s/it]"
     ]
    },
    {
     "name": "stdout",
     "output_type": "stream",
     "text": [
      "Sentence: Figure 3 Histogram of cooling times in the B55 cluster sample (updated from Dunn Fabian 2006 ). \n",
      "Citations: [('Dunn', 2006)]\n",
      "=====\n"
     ]
    },
    {
     "name": "stderr",
     "output_type": "stream",
     "text": [
      " 39%|███▉      | 233/600 [08:38<11:07,  1.82s/it]"
     ]
    },
    {
     "name": "stdout",
     "output_type": "stream",
     "text": [
      "Sentence: Dark blue indicates bubbles seen, and mid-blue indicates that there is a central radio source. \n",
      "Citations: []\n",
      "=====\n"
     ]
    },
    {
     "name": "stderr",
     "output_type": "stream",
     "text": [
      " 39%|███▉      | 234/600 [08:40<10:10,  1.67s/it]"
     ]
    },
    {
     "name": "stdout",
     "output_type": "stream",
     "text": [
      "Sentence: The plot has been updated using Chandra cooling times and later imaging, which has revealed more bubbles. \n",
      "Citations: []\n",
      "=====\n"
     ]
    },
    {
     "name": "stderr",
     "output_type": "stream",
     "text": [
      " 39%|███▉      | 235/600 [08:42<11:19,  1.86s/it]"
     ]
    },
    {
     "name": "stdout",
     "output_type": "stream",
     "text": [
      "Sentence: The cooling time distribution is similar to that reported by Mittal et al. (2009) , who used an overlapping, soft X-ray-selected sample. \n",
      "Citations: [('Mittal', 2009)]\n",
      "=====\n"
     ]
    },
    {
     "name": "stderr",
     "output_type": "stream",
     "text": [
      " 39%|███▉      | 236/600 [08:44<12:14,  2.02s/it]"
     ]
    },
    {
     "name": "stdout",
     "output_type": "stream",
     "text": [
      "Sentence: The only source in the first bin lacking bubbles is the Ophiuchus cluster, which appears to be undergoing a core merger ( Million et al. 2010 ). \n",
      "Citations: [('Million', 2010)]\n",
      "=====\n"
     ]
    },
    {
     "name": "stderr",
     "output_type": "stream",
     "text": [
      " 40%|███▉      | 237/600 [08:46<12:03,  1.99s/it]"
     ]
    },
    {
     "name": "stdout",
     "output_type": "stream",
     "text": [
      "Sentence: The kinetic power in the jets can be estimated from the product of the volume of the bubbles ( Figure 4 ) and the surrounding pressure (obtained from the density and temperature of the thermal gas), divided by the buoyancy time (which depends on the gravitational potential). \n",
      "Citations: []\n",
      "=====\n"
     ]
    },
    {
     "name": "stderr",
     "output_type": "stream",
     "text": [
      " 40%|███▉      | 238/600 [08:48<10:49,  1.80s/it]"
     ]
    },
    {
     "name": "stdout",
     "output_type": "stream",
     "text": [
      "Sentence: The power is high and only weakly correlated with radio power (the radiative efficiency of many jets is very low at between 10 −2 and 10 −4 ). \n",
      "Citations: []\n",
      "=====\n"
     ]
    },
    {
     "name": "stderr",
     "output_type": "stream",
     "text": [
      " 40%|███▉      | 239/600 [08:53<17:41,  2.94s/it]"
     ]
    },
    {
     "name": "stdout",
     "output_type": "stream",
     "text": [
      "Sentence: The power is usually in good agreement with the energy loss by X-radiation from the short-cooling-time region ( Figure 5 ; Rafferty et al. 2006 , 2008 ; McNamara Nulsen 2007 ). \n",
      "Citations: [('Rafferty', 2006), ('Rafferty', 2008), ('McNamara', 2007)]\n",
      "=====\n"
     ]
    },
    {
     "name": "stderr",
     "output_type": "stream",
     "text": [
      " 40%|████      | 240/600 [08:55<14:42,  2.45s/it]"
     ]
    },
    {
     "name": "stdout",
     "output_type": "stream",
     "text": [
      "Sentence: The overall energetics of the feedback process are therefore not an issue. \n",
      "Citations: []\n",
      "=====\n"
     ]
    },
    {
     "name": "stderr",
     "output_type": "stream",
     "text": [
      " 40%|████      | 241/600 [08:56<12:42,  2.13s/it]"
     ]
    },
    {
     "name": "stdout",
     "output_type": "stream",
     "text": [
      "Sentence: Figure 4 Chandra X-ray images showing the dramatic interaction of the central active galactic nucleus on the surrounding gas over a range of scales. \n",
      "Citations: []\n",
      "=====\n"
     ]
    },
    {
     "name": "stderr",
     "output_type": "stream",
     "text": [
      " 40%|████      | 242/600 [08:57<10:24,  1.74s/it]"
     ]
    },
    {
     "name": "stdout",
     "output_type": "stream",
     "text": [
      "Sentence: ( a ) \n",
      "Citations: []\n",
      "=====\n"
     ]
    },
    {
     "name": "stderr",
     "output_type": "stream",
     "text": [
      " 40%|████      | 243/600 [09:04<20:48,  3.50s/it]"
     ]
    },
    {
     "name": "stdout",
     "output_type": "stream",
     "text": [
      "Sentence: Massive cluster RBS 797 at z = 0.354 ( Cavagnolo et al. 2011 ), ( b ) nearby central group elliptical galaxy NGC 5813 at z = 0.006 ( Randall et al. 2011 ), ( c ) rich cluster A 2052 at z = 0.035 ( Blanton et al. 2011 ), and ( d ) NGC 5044 group at z = 0.0093 ( David et al. 2011 ). \n",
      "Citations: [('Cavagnolo', 2011), ('Randall', 2011), ('Blanton', 2011), ('David', 2011)]\n",
      "=====\n"
     ]
    },
    {
     "name": "stderr",
     "output_type": "stream",
     "text": [
      " 41%|████      | 244/600 [09:06<16:59,  2.86s/it]"
     ]
    },
    {
     "name": "stdout",
     "output_type": "stream",
     "text": [
      "Sentence: Note that the bubbles in RBS 797 have volumes about 1,000 times larger than those of the inner bubbles of NGC 5813. \n",
      "Citations: []\n",
      "=====\n"
     ]
    },
    {
     "name": "stderr",
     "output_type": "stream",
     "text": [
      " 41%|████      | 245/600 [09:07<14:17,  2.42s/it]"
     ]
    },
    {
     "name": "stdout",
     "output_type": "stream",
     "text": [
      "Sentence: Another larger pair of bubbles occurs in NGC 5813, making three pairs in all. \n",
      "Citations: []\n",
      "=====\n"
     ]
    },
    {
     "name": "stderr",
     "output_type": "stream",
     "text": [
      " 41%|████      | 246/600 [09:09<12:24,  2.10s/it]"
     ]
    },
    {
     "name": "stdout",
     "output_type": "stream",
     "text": [
      "Sentence: Figure 5 Power inferred from cavities/bubbles plotted against luminosity within the cooling region (where the radiative cooling time is less than 7 Gyr). \n",
      "Citations: []\n",
      "=====\n"
     ]
    },
    {
     "name": "stderr",
     "output_type": "stream",
     "text": [
      " 41%|████      | 247/600 [09:10<11:01,  1.87s/it]"
     ]
    },
    {
     "name": "stdout",
     "output_type": "stream",
     "text": [
      "Sentence: The objects range from luminous clusters, through groups, to elliptical galaxies. \n",
      "Citations: []\n",
      "=====\n"
     ]
    },
    {
     "name": "stderr",
     "output_type": "stream",
     "text": [
      " 41%|████▏     | 248/600 [09:11<10:00,  1.70s/it]"
     ]
    },
    {
     "name": "stdout",
     "output_type": "stream",
     "text": [
      "Sentence: Figure courtesy of J. Hlavacek-Larrondo. \n",
      "Citations: []\n",
      "=====\n"
     ]
    },
    {
     "name": "stderr",
     "output_type": "stream",
     "text": [
      " 42%|████▏     | 249/600 [09:12<08:26,  1.44s/it]"
     ]
    },
    {
     "name": "stdout",
     "output_type": "stream",
     "text": [
      "Sentence: 3.0.1. \n",
      "Citations: []\n",
      "=====\n"
     ]
    },
    {
     "name": "stderr",
     "output_type": "stream",
     "text": [
      " 42%|████▏     | 250/600 [09:13<07:21,  1.26s/it]"
     ]
    },
    {
     "name": "stdout",
     "output_type": "stream",
     "text": [
      "Sentence: Bubbles. \n",
      "Citations: []\n",
      "=====\n"
     ]
    },
    {
     "name": "stderr",
     "output_type": "stream",
     "text": [
      " 42%|████▏     | 251/600 [09:14<07:27,  1.28s/it]"
     ]
    },
    {
     "name": "stdout",
     "output_type": "stream",
     "text": [
      "Sentence: The bubbles, or cavities, commonly seen in deep Chandra X-ray Observatory images of cool core clusters are blown and powered by jets from the central black hole. \n",
      "Citations: []\n",
      "=====\n"
     ]
    },
    {
     "name": "stderr",
     "output_type": "stream",
     "text": [
      " 42%|████▏     | 252/600 [09:17<09:53,  1.70s/it]"
     ]
    },
    {
     "name": "stdout",
     "output_type": "stream",
     "text": [
      "Sentence: A Fanaroff Riley (1974) type I radio source usually coincides neatly with the cavity. \n",
      "Citations: [('Fanaroff Riley', 1974)]\n",
      "=====\n"
     ]
    },
    {
     "name": "stderr",
     "output_type": "stream",
     "text": [
      " 42%|████▏     | 253/600 [09:19<11:06,  1.92s/it]"
     ]
    },
    {
     "name": "stdout",
     "output_type": "stream",
     "text": [
      "Sentence: The idea that a radio source could blow bubbles in the intracluster medium dates back to a paper by Gull Northover (1973) . \n",
      "Citations: [('Gull', 1973)]\n",
      "=====\n"
     ]
    },
    {
     "name": "stderr",
     "output_type": "stream",
     "text": [
      " 42%|████▏     | 254/600 [09:24<15:32,  2.69s/it]"
     ]
    },
    {
     "name": "stdout",
     "output_type": "stream",
     "text": [
      "Sentence: The northwest outer bubble in the Perseus cluster, called a ghost bubble because of a lack of high-frequency radio synchrotron emission due to radio spectral aging, was seen in Einstein telescope images ( Branduardi-Raymont et al. 1981 , Fabian et al. 1981 ) but not recognized as such back then. \n",
      "Citations: [('Branduardi-Raymont', 1981), ('Fabian', 1981)]\n",
      "=====\n"
     ]
    },
    {
     "name": "stderr",
     "output_type": "stream",
     "text": [
      " 42%|████▎     | 255/600 [09:27<16:17,  2.83s/it]"
     ]
    },
    {
     "name": "stdout",
     "output_type": "stream",
     "text": [
      "Sentence: The first clear image of bubbles was made using the Rosat High Resolution Imager of the Perseus cluster core by Boehringer et al. (1993) , followed by many observations with Chandra after its launch in 1999. \n",
      "Citations: [('Boehringer', 1993)]\n",
      "=====\n"
     ]
    },
    {
     "name": "stderr",
     "output_type": "stream",
     "text": [
      " 43%|████▎     | 256/600 [09:28<13:39,  2.38s/it]"
     ]
    },
    {
     "name": "stdout",
     "output_type": "stream",
     "text": [
      "Sentence: As already mentioned, most cool cores in the X-ray brightest clusters with central radiative cooling times less than 3 Gyr have clear bubbles that have been seen using Chandra . \n",
      "Citations: []\n",
      "=====\n"
     ]
    },
    {
     "name": "stderr",
     "output_type": "stream",
     "text": [
      " 43%|████▎     | 257/600 [09:30<11:53,  2.08s/it]"
     ]
    },
    {
     "name": "stdout",
     "output_type": "stream",
     "text": [
      "Sentence: Allowing for projection effects, the real fraction is higher. \n",
      "Citations: []\n",
      "=====\n"
     ]
    },
    {
     "name": "stderr",
     "output_type": "stream",
     "text": [
      " 43%|████▎     | 258/600 [09:32<11:26,  2.01s/it]"
     ]
    },
    {
     "name": "stdout",
     "output_type": "stream",
     "text": [
      "Sentence: The innermost bubbles are usually fairly spherical and, in the best-studied case (the Perseus cluster), are surrounded by a thick high-pressure region fronted by a weak shock ( Figure 6 ). \n",
      "Citations: []\n",
      "=====\n"
     ]
    },
    {
     "name": "stderr",
     "output_type": "stream",
     "text": [
      " 43%|████▎     | 259/600 [09:35<14:17,  2.52s/it]"
     ]
    },
    {
     "name": "stdout",
     "output_type": "stream",
     "text": [
      "Sentence: The thermal energy within that region corresponds to 3.7 times that of a surrounding region of similar volume to the bubble ( Graham, Fabian Sanders 2008a ), indicating that bubbles can transfer almost 4 PV , which is the internal energy expected from a relativistic fluid (γ=4/3). \n",
      "Citations: [('Graham, Fabian Sanders', '2008a')]\n",
      "=====\n"
     ]
    },
    {
     "name": "stderr",
     "output_type": "stream",
     "text": [
      " 43%|████▎     | 260/600 [09:38<15:26,  2.72s/it]"
     ]
    },
    {
     "name": "stdout",
     "output_type": "stream",
     "text": [
      "Sentence: The mechanical power of a new bubble is often assumed to be 4 PV / t age , where t age is the risetime of the bubble ( Churazov et al. 2002 ). \n",
      "Citations: [('Churazov', 2002)]\n",
      "=====\n"
     ]
    },
    {
     "name": "stderr",
     "output_type": "stream",
     "text": [
      " 44%|████▎     | 261/600 [09:40<13:01,  2.30s/it]"
     ]
    },
    {
     "name": "stdout",
     "output_type": "stream",
     "text": [
      "Sentence: Figure 6 ( a ) Chandra X-ray image of the Perseus cluster core. \n",
      "Citations: []\n",
      "=====\n"
     ]
    },
    {
     "name": "stderr",
     "output_type": "stream",
     "text": [
      " 44%|████▎     | 262/600 [09:41<11:23,  2.02s/it]"
     ]
    },
    {
     "name": "stdout",
     "output_type": "stream",
     "text": [
      "Sentence: Red-green-blue depicts soft to hard X-rays. \n",
      "Citations: []\n",
      "=====\n"
     ]
    },
    {
     "name": "stderr",
     "output_type": "stream",
     "text": [
      " 44%|████▍     | 263/600 [09:43<11:02,  1.97s/it]"
     ]
    },
    {
     "name": "stdout",
     "output_type": "stream",
     "text": [
      "Sentence: The blue features near the center are due to absorption by the infalling high-velocity system, a galaxy that must lie at least 100 kpc closer to us in the cluster (otherwise the absorption would be filled in with cluster emission). \n",
      "Citations: []\n",
      "=====\n"
     ]
    },
    {
     "name": "stderr",
     "output_type": "stream",
     "text": [
      " 44%|████▍     | 264/600 [09:44<10:01,  1.79s/it]"
     ]
    },
    {
     "name": "stdout",
     "output_type": "stream",
     "text": [
      "Sentence: Note the clear inner and outer bubble pairs as well as the weak shock to the northeast of the inner northern bubble. \n",
      "Citations: []\n",
      "=====\n"
     ]
    },
    {
     "name": "stderr",
     "output_type": "stream",
     "text": [
      " 44%|████▍     | 265/600 [09:45<08:23,  1.50s/it]"
     ]
    },
    {
     "name": "stdout",
     "output_type": "stream",
     "text": [
      "Sentence: ( b ) \n",
      "Citations: []\n",
      "=====\n"
     ]
    },
    {
     "name": "stderr",
     "output_type": "stream",
     "text": [
      " 44%|████▍     | 266/600 [09:47<08:09,  1.47s/it]"
     ]
    },
    {
     "name": "stdout",
     "output_type": "stream",
     "text": [
      "Sentence: Pressure map derived from Chandra imaging X-ray spectroscopy of the Perseus cluster. \n",
      "Citations: []\n",
      "=====\n"
     ]
    },
    {
     "name": "stderr",
     "output_type": "stream",
     "text": [
      " 44%|████▍     | 267/600 [09:50<10:30,  1.89s/it]"
     ]
    },
    {
     "name": "stdout",
     "output_type": "stream",
     "text": [
      "Sentence: Note the thick high-pressure regions containing almost 4 PV of energy surrounding each inner bubble, where V is the volume of the radio-plasma-filled interior ( Fabian et al. 2006 ). \n",
      "Citations: [('Fabian', 2006)]\n",
      "=====\n"
     ]
    },
    {
     "name": "stderr",
     "output_type": "stream",
     "text": [
      " 45%|████▍     | 268/600 [09:50<08:48,  1.59s/it]"
     ]
    },
    {
     "name": "stdout",
     "output_type": "stream",
     "text": [
      "Sentence: ( c ) \n",
      "Citations: []\n",
      "=====\n"
     ]
    },
    {
     "name": "stderr",
     "output_type": "stream",
     "text": [
      " 45%|████▍     | 269/600 [09:52<08:37,  1.56s/it]"
     ]
    },
    {
     "name": "stdout",
     "output_type": "stream",
     "text": [
      "Sentence: Unsharp-masked image showing the pressure ripples or sound waves. \n",
      "Citations: []\n",
      "=====\n"
     ]
    },
    {
     "name": "stderr",
     "output_type": "stream",
     "text": [
      " 45%|████▌     | 270/600 [09:53<08:22,  1.52s/it]"
     ]
    },
    {
     "name": "stdout",
     "output_type": "stream",
     "text": [
      "Sentence: Bubbles rise buoyantly in the surrounding hot atmosphere, turning into ghost bubbles as they become undetectable in (high-frequency) radio observations. \n",
      "Citations: []\n",
      "=====\n"
     ]
    },
    {
     "name": "stderr",
     "output_type": "stream",
     "text": [
      " 45%|████▌     | 271/600 [09:57<11:19,  2.06s/it]"
     ]
    },
    {
     "name": "stdout",
     "output_type": "stream",
     "text": [
      "Sentence: There are far fewer of these outer bubbles known, but they can appear at substantial radii and are then larger than expected ( Diehl, Fryer Rafferty 2008 ) (note the sequence of bubbles in NGC 5813 shown in Figure 4 ). \n",
      "Citations: [('Diehl', 2008)]\n",
      "=====\n"
     ]
    },
    {
     "name": "stderr",
     "output_type": "stream",
     "text": [
      " 45%|████▌     | 272/600 [10:00<13:29,  2.47s/it]"
     ]
    },
    {
     "name": "stdout",
     "output_type": "stream",
     "text": [
      "Sentence: This could be due to their rate of rise being a function of their size; i.e., larger ones move slower catching up to smaller faster ones, or vice versa ( Fabian et al. 2011a ). \n",
      "Citations: [('Fabian', 2011)]\n",
      "=====\n"
     ]
    },
    {
     "name": "stderr",
     "output_type": "stream",
     "text": [
      " 46%|████▌     | 273/600 [10:02<12:00,  2.20s/it]"
     ]
    },
    {
     "name": "stdout",
     "output_type": "stream",
     "text": [
      "Sentence: Observed bubbles appear to be fairly stable to breakup, contrary to what is seen in many simulations. \n",
      "Citations: []\n",
      "=====\n"
     ]
    },
    {
     "name": "stderr",
     "output_type": "stream",
     "text": [
      " 46%|████▌     | 274/600 [10:03<10:53,  2.00s/it]"
     ]
    },
    {
     "name": "stdout",
     "output_type": "stream",
     "text": [
      "Sentence: Air bubbles in water can be quite large and stable. \n",
      "Citations: []\n",
      "=====\n"
     ]
    },
    {
     "name": "stderr",
     "output_type": "stream",
     "text": [
      " 46%|████▌     | 275/600 [10:05<10:06,  1.87s/it]"
     ]
    },
    {
     "name": "stdout",
     "output_type": "stream",
     "text": [
      "Sentence: The action of blowing a bubble means that the surface is never static with respect to its surroundings, so it is not Rayleigh-Taylor unstable. \n",
      "Citations: []\n",
      "=====\n"
     ]
    },
    {
     "name": "stderr",
     "output_type": "stream",
     "text": [
      " 46%|████▌     | 276/600 [10:06<09:26,  1.75s/it]"
     ]
    },
    {
     "name": "stdout",
     "output_type": "stream",
     "text": [
      "Sentence: The growth time of large-scale Kelvin-Helmholtz instabilities is similar to the flow time, so this need not be a problem either. \n",
      "Citations: []\n",
      "=====\n"
     ]
    },
    {
     "name": "stderr",
     "output_type": "stream",
     "text": [
      " 46%|████▌     | 277/600 [10:11<14:19,  2.66s/it]"
     ]
    },
    {
     "name": "stdout",
     "output_type": "stream",
     "text": [
      "Sentence: Provided that something like viscosity ( Reynolds et al. 2005 ) or magnetic draping ( Lyutikov 2006 ) can damp the smallest perturbations, then there is no immediate reason for them to break up. \n",
      "Citations: [('Reynolds', 2005), ('Lyutikov', 2006)]\n",
      "=====\n"
     ]
    },
    {
     "name": "stderr",
     "output_type": "stream",
     "text": [
      " 46%|████▋     | 278/600 [10:12<11:20,  2.11s/it]"
     ]
    },
    {
     "name": "stdout",
     "output_type": "stream",
     "text": [
      "Sentence: 3.0.2. \n",
      "Citations: []\n",
      "=====\n"
     ]
    },
    {
     "name": "stderr",
     "output_type": "stream",
     "text": [
      " 46%|████▋     | 279/600 [10:13<09:20,  1.75s/it]"
     ]
    },
    {
     "name": "stdout",
     "output_type": "stream",
     "text": [
      "Sentence: Energy flow and dissipation. \n",
      "Citations: []\n",
      "=====\n"
     ]
    },
    {
     "name": "stderr",
     "output_type": "stream",
     "text": [
      " 47%|████▋     | 280/600 [10:14<08:37,  1.62s/it]"
     ]
    },
    {
     "name": "stdout",
     "output_type": "stream",
     "text": [
      "Sentence: Having enough energy available does not indicate how the energy flows and is dissipated. \n",
      "Citations: []\n",
      "=====\n"
     ]
    },
    {
     "name": "stderr",
     "output_type": "stream",
     "text": [
      " 47%|████▋     | 281/600 [10:15<08:19,  1.57s/it]"
     ]
    },
    {
     "name": "stdout",
     "output_type": "stream",
     "text": [
      "Sentence: The coolest material is found next to the heat source, which is not what would be expected of a heat source in a room, say. \n",
      "Citations: []\n",
      "=====\n"
     ]
    },
    {
     "name": "stderr",
     "output_type": "stream",
     "text": [
      " 47%|████▋     | 282/600 [10:17<07:54,  1.49s/it]"
     ]
    },
    {
     "name": "stdout",
     "output_type": "stream",
     "text": [
      "Sentence: The jets from the central black hole are intrinsically anisotropic. \n",
      "Citations: []\n",
      "=====\n"
     ]
    },
    {
     "name": "stderr",
     "output_type": "stream",
     "text": [
      " 47%|████▋     | 283/600 [10:18<07:42,  1.46s/it]"
     ]
    },
    {
     "name": "stdout",
     "output_type": "stream",
     "text": [
      "Sentence: The jet/bubble axis is not apparent in temperature maps of cluster cores, so heating is presumably much more isotropic. \n",
      "Citations: []\n",
      "=====\n"
     ]
    },
    {
     "name": "stderr",
     "output_type": "stream",
     "text": [
      " 47%|████▋     | 284/600 [10:20<08:17,  1.58s/it]"
     ]
    },
    {
     "name": "stdout",
     "output_type": "stream",
     "text": [
      "Sentence: As discussed below, linewidths show that the level of turbulence in the gas is relatively low (energy in turbulence is less than 10% of the thermal energy), and steep abundance gradients show that there is no large-scale, violent, mixing taking place. \n",
      "Citations: []\n",
      "=====\n"
     ]
    },
    {
     "name": "stderr",
     "output_type": "stream",
     "text": [
      " 48%|████▊     | 285/600 [10:21<07:57,  1.52s/it]"
     ]
    },
    {
     "name": "stdout",
     "output_type": "stream",
     "text": [
      "Sentence: The bubbling process is relatively gentle and continuous, perhaps rather like a dripping tap (or a fish tank aerator). \n",
      "Citations: []\n",
      "=====\n"
     ]
    },
    {
     "name": "stderr",
     "output_type": "stream",
     "text": [
      " 48%|████▊     | 286/600 [10:26<12:11,  2.33s/it]"
     ]
    },
    {
     "name": "stdout",
     "output_type": "stream",
     "text": [
      "Sentence: In the case of the Perseus cluster, which is the X-ray brightest in the sky, Chandra imaging shows concentric ripples that we interpret as sound waves generated by the expansion of the central pressure peaks associated with the repetitive blowing of bubbles ( Figure 5 ) ( Fabian et al. 2003a , 2006 ). \n",
      "Citations: [('Fabian', 2003), ('Fabian', 2006)]\n",
      "=====\n"
     ]
    },
    {
     "name": "stderr",
     "output_type": "stream",
     "text": [
      " 48%|████▊     | 287/600 [10:27<10:35,  2.03s/it]"
     ]
    },
    {
     "name": "stdout",
     "output_type": "stream",
     "text": [
      "Sentence: The energy flux in the sound waves is comparable to that required to offset cooling, showing that this is the likely way in which heat is distributed in a quasi-spherical manner. \n",
      "Citations: []\n",
      "=====\n"
     ]
    },
    {
     "name": "stderr",
     "output_type": "stream",
     "text": [
      " 48%|████▊     | 288/600 [10:36<21:32,  4.14s/it]"
     ]
    },
    {
     "name": "stdout",
     "output_type": "stream",
     "text": [
      "Sentence: Similar sound waves, or weak shocks, are also seen in several of the very brightest clusters in the sky, e.g., the Virgo ( Forman et al. 2007 ), Centaurus ( Sanders Fabian 2008 ), and A 2052 ( Blanton et al. 2011 ) clusters and in simulations ( Ruszkowski, Brüggen Begelman 2004 ; Sijacki Springel 2006 ). \n",
      "Citations: [('Forman', 2007), ('Sanders', 2008), ('Blanton', 2011), ('Ruszkowski', 2004), ('Sijacki', 2006)]\n",
      "=====\n"
     ]
    },
    {
     "name": "stderr",
     "output_type": "stream",
     "text": [
      " 48%|████▊     | 289/600 [10:38<18:50,  3.64s/it]"
     ]
    },
    {
     "name": "stdout",
     "output_type": "stream",
     "text": [
      "Sentence: The amplitude of the ripples is less than 10%, so they will be very difficult or impossible to see in less bright clusters ( Graham, Fabian Sanders 2008b ). \n",
      "Citations: [('Graham', 2008)]\n",
      "=====\n"
     ]
    },
    {
     "name": "stderr",
     "output_type": "stream",
     "text": [
      " 48%|████▊     | 290/600 [10:40<15:16,  2.96s/it]"
     ]
    },
    {
     "name": "stdout",
     "output_type": "stream",
     "text": [
      "Sentence: Weak shocks are poor at dissipating energy, so the heating of the gas must depend on the gas viscosity. \n",
      "Citations: []\n",
      "=====\n"
     ]
    },
    {
     "name": "stderr",
     "output_type": "stream",
     "text": [
      " 48%|████▊     | 291/600 [10:43<15:19,  2.97s/it]"
     ]
    },
    {
     "name": "stdout",
     "output_type": "stream",
     "text": [
      "Sentence: The Spitzer-Braginsky viscosity for an ionized gas yields a dissipation length on the order of 100 kpc, which is thus in the required range ( Fabian et al. 2005 ). \n",
      "Citations: [('Fabian', 2005)]\n",
      "=====\n"
     ]
    },
    {
     "name": "stderr",
     "output_type": "stream",
     "text": [
      " 49%|████▊     | 292/600 [10:50<21:30,  4.19s/it]"
     ]
    },
    {
     "name": "stdout",
     "output_type": "stream",
     "text": [
      "Sentence: The intracluster gas is, however, magnetized (as inferred from Faraday rotation measurements; see, e.g., Taylor et al. 2007 ), in which case the value of the viscosity is not clear (see Kunz et al. 2011 , Parrish et al. 2012 , Choi Stone 2012 ). \n",
      "Citations: [('Taylor', 2007), ('Kunz', 2011), ('Parrish', 2012), ('Choi Stone', 2012)]\n",
      "=====\n"
     ]
    },
    {
     "name": "stderr",
     "output_type": "stream",
     "text": [
      " 49%|████▉     | 293/600 [10:51<17:09,  3.35s/it]"
     ]
    },
    {
     "name": "stdout",
     "output_type": "stream",
     "text": [
      "Sentence: It is important to realize that for transport purposes, much of the relevant intracluster gas cannot be classified as either collisional or collisionless but is somewhere in between. \n",
      "Citations: []\n",
      "=====\n"
     ]
    },
    {
     "name": "stderr",
     "output_type": "stream",
     "text": [
      " 49%|████▉     | 294/600 [10:52<13:20,  2.61s/it]"
     ]
    },
    {
     "name": "stdout",
     "output_type": "stream",
     "text": [
      "Sentence: 3.0.3. \n",
      "Citations: []\n",
      "=====\n"
     ]
    },
    {
     "name": "stderr",
     "output_type": "stream",
     "text": [
      " 49%|████▉     | 295/600 [10:53<10:40,  2.10s/it]"
     ]
    },
    {
     "name": "stdout",
     "output_type": "stream",
     "text": [
      "Sentence: Abundance gradients. \n",
      "Citations: []\n",
      "=====\n"
     ]
    },
    {
     "name": "stderr",
     "output_type": "stream",
     "text": [
      " 49%|████▉     | 296/600 [10:54<09:33,  1.89s/it]"
     ]
    },
    {
     "name": "stdout",
     "output_type": "stream",
     "text": [
      "Sentence: The inner parts of most cool cores show higher metal abundance than the bulk of the intracluster gas. \n",
      "Citations: []\n",
      "=====\n"
     ]
    },
    {
     "name": "stderr",
     "output_type": "stream",
     "text": [
      " 50%|████▉     | 297/600 [10:56<08:44,  1.73s/it]"
     ]
    },
    {
     "name": "stdout",
     "output_type": "stream",
     "text": [
      "Sentence: The metallicity can reach two to three times Solar values at the peak. \n",
      "Citations: []\n",
      "=====\n"
     ]
    },
    {
     "name": "stderr",
     "output_type": "stream",
     "text": [
      " 50%|████▉     | 298/600 [10:57<08:11,  1.63s/it]"
     ]
    },
    {
     "name": "stdout",
     "output_type": "stream",
     "text": [
      "Sentence: This is considered to be due to pollution by stars and supernovae of the BCG. \n",
      "Citations: []\n",
      "=====\n"
     ]
    },
    {
     "name": "stderr",
     "output_type": "stream",
     "text": [
      " 50%|████▉     | 299/600 [10:59<07:48,  1.56s/it]"
     ]
    },
    {
     "name": "stdout",
     "output_type": "stream",
     "text": [
      "Sentence: The spatial breadth of the high-abundance region is broader than expected from a static atmosphere, probably due to some turbulence and motions caused by the central active nucleus. \n",
      "Citations: []\n",
      "=====\n"
     ]
    },
    {
     "name": "stderr",
     "output_type": "stream",
     "text": [
      " 50%|█████     | 300/600 [11:00<07:30,  1.50s/it]"
     ]
    },
    {
     "name": "stdout",
     "output_type": "stream",
     "text": [
      "Sentence: The existence of the peaks argues against these motions being too disruptive or of the feedback having been too violent in the past. \n",
      "Citations: []\n",
      "=====\n"
     ]
    },
    {
     "name": "stderr",
     "output_type": "stream",
     "text": [
      " 50%|█████     | 301/600 [11:05<12:07,  2.43s/it]"
     ]
    },
    {
     "name": "stdout",
     "output_type": "stream",
     "text": [
      "Sentence: Constraints on the level of turbulence have been obtained from comparison of the abundance peaks with the underlying BCG light profile by Rebusco et al. (2006) and Graham et al. (2006) . \n",
      "Citations: [('Rebusco', 2006), ('Graham', 2006)]\n",
      "=====\n"
     ]
    },
    {
     "name": "stderr",
     "output_type": "stream",
     "text": [
      " 50%|█████     | 302/600 [11:11<17:23,  3.50s/it]"
     ]
    },
    {
     "name": "stdout",
     "output_type": "stream",
     "text": [
      "Sentence: Rising bubbles appear to have dragged some of the lower entropy, metal-enriched gas outward in some cores ( Werner et al. 2010 , 2011 ; Simionescu et al. 2009 ). \n",
      "Citations: [('Werner', 2010), ('Werner', 2011), ('Simionescu', 2009)]\n",
      "=====\n"
     ]
    },
    {
     "name": "stderr",
     "output_type": "stream",
     "text": [
      " 50%|█████     | 303/600 [11:11<13:22,  2.70s/it]"
     ]
    },
    {
     "name": "stdout",
     "output_type": "stream",
     "text": [
      "Sentence: 3.1. \n",
      "Citations: []\n",
      "=====\n"
     ]
    },
    {
     "name": "stderr",
     "output_type": "stream",
     "text": [
      " 51%|█████     | 304/600 [11:13<11:29,  2.33s/it]"
     ]
    },
    {
     "name": "stdout",
     "output_type": "stream",
     "text": [
      "Sentence: Heating/Cooling Balance: Maintenance Mode Feedback Let us now consider how close the apparent heating/cooling balance is and how it has been established and maintained. \n",
      "Citations: []\n",
      "=====\n"
     ]
    },
    {
     "name": "stderr",
     "output_type": "stream",
     "text": [
      " 51%|█████     | 305/600 [11:14<10:00,  2.04s/it]"
     ]
    },
    {
     "name": "stdout",
     "output_type": "stream",
     "text": [
      "Sentence: The lack of high star-formation rates suggests that cooling does not exceed heating by 10% or so. \n",
      "Citations: []\n",
      "=====\n"
     ]
    },
    {
     "name": "stderr",
     "output_type": "stream",
     "text": [
      " 51%|█████     | 306/600 [11:16<09:00,  1.84s/it]"
     ]
    },
    {
     "name": "stdout",
     "output_type": "stream",
     "text": [
      "Sentence: The presence of central abundance gradients and pronounced temperature drops indicate that heating does not generally exceed cooling by much either. \n",
      "Citations: []\n",
      "=====\n"
     ]
    },
    {
     "name": "stderr",
     "output_type": "stream",
     "text": [
      " 51%|█████     | 307/600 [11:17<08:19,  1.71s/it]"
     ]
    },
    {
     "name": "stdout",
     "output_type": "stream",
     "text": [
      "Sentence: This represents a relatively close balance that needs to continue over tens to hundreds of bubbling cycles (each cycle being ∼10–50 Myr or so, depending on power). \n",
      "Citations: []\n",
      "=====\n"
     ]
    },
    {
     "name": "stderr",
     "output_type": "stream",
     "text": [
      " 51%|█████▏    | 308/600 [11:18<07:47,  1.60s/it]"
     ]
    },
    {
     "name": "stdout",
     "output_type": "stream",
     "text": [
      "Sentence: A simple 1D feedback cycle seems at first sight possible. \n",
      "Citations: []\n",
      "=====\n"
     ]
    },
    {
     "name": "stderr",
     "output_type": "stream",
     "text": [
      " 52%|█████▏    | 309/600 [11:20<07:28,  1.54s/it]"
     ]
    },
    {
     "name": "stdout",
     "output_type": "stream",
     "text": [
      "Sentence: If too much gas starts to cool, then the accretion rate should increase, making the heating rate go up and vice versa. \n",
      "Citations: []\n",
      "=====\n"
     ]
    },
    {
     "name": "stderr",
     "output_type": "stream",
     "text": [
      " 52%|█████▏    | 310/600 [11:22<07:54,  1.64s/it]"
     ]
    },
    {
     "name": "stdout",
     "output_type": "stream",
     "text": [
      "Sentence: However, the length scales involved range over a factor of 10 9 or more, and the timescales involved over the whole cooling flow region are long, up to and beyond a gigayear and down to a megayear at the accretion radius. \n",
      "Citations: []\n",
      "=====\n"
     ]
    },
    {
     "name": "stderr",
     "output_type": "stream",
     "text": [
      " 52%|█████▏    | 311/600 [11:23<07:29,  1.56s/it]"
     ]
    },
    {
     "name": "stdout",
     "output_type": "stream",
     "text": [
      "Sentence: This means that feedback would be delayed or at least that there could be serious hysteresis. \n",
      "Citations: []\n",
      "=====\n"
     ]
    },
    {
     "name": "stderr",
     "output_type": "stream",
     "text": [
      " 52%|█████▏    | 312/600 [11:24<07:14,  1.51s/it]"
     ]
    },
    {
     "name": "stdout",
     "output_type": "stream",
     "text": [
      "Sentence: Angular momentum could easily prevent gas reaching anywhere near the black hole. \n",
      "Citations: []\n",
      "=====\n"
     ]
    },
    {
     "name": "stderr",
     "output_type": "stream",
     "text": [
      " 52%|█████▏    | 313/600 [11:29<12:14,  2.56s/it]"
     ]
    },
    {
     "name": "stdout",
     "output_type": "stream",
     "text": [
      "Sentence: These issues have been discussed most recently by Pizzalato Soker (2010) and Narayan Fabian (2011) . \n",
      "Citations: [('Pizzalato Soker', 2010), ('Narayan Fabian', 2011)]\n",
      "=====\n"
     ]
    },
    {
     "name": "stderr",
     "output_type": "stream",
     "text": [
      " 52%|█████▏    | 314/600 [11:30<09:47,  2.05s/it]"
     ]
    },
    {
     "name": "stdout",
     "output_type": "stream",
     "text": [
      "Sentence: 3.1.1. \n",
      "Citations: []\n",
      "=====\n"
     ]
    },
    {
     "name": "stderr",
     "output_type": "stream",
     "text": [
      " 52%|█████▎    | 315/600 [11:31<08:03,  1.70s/it]"
     ]
    },
    {
     "name": "stdout",
     "output_type": "stream",
     "text": [
      "Sentence: Bondi accretion. \n",
      "Citations: []\n",
      "=====\n"
     ]
    },
    {
     "name": "stderr",
     "output_type": "stream",
     "text": [
      " 53%|█████▎    | 316/600 [11:34<09:16,  1.96s/it]"
     ]
    },
    {
     "name": "stdout",
     "output_type": "stream",
     "text": [
      "Sentence: Bondi accretion ( Bondi 1952 ) could be relevant here because it relies on a point mass embedded in a static medium. \n",
      "Citations: [('Bondi', 1952)]\n",
      "=====\n"
     ]
    },
    {
     "name": "stderr",
     "output_type": "stream",
     "text": [
      " 53%|█████▎    | 317/600 [11:36<09:03,  1.92s/it]"
     ]
    },
    {
     "name": "stdout",
     "output_type": "stream",
     "text": [
      "Sentence: The gas accreting onto the central black hole passes at least through about five orders of magnitude in radius from where the gravitational field of the central mass begins to dominate gas motions, i.e., the Bondi radius, to the center. \n",
      "Citations: []\n",
      "=====\n"
     ]
    },
    {
     "name": "stderr",
     "output_type": "stream",
     "text": [
      " 53%|█████▎    | 318/600 [11:36<07:32,  1.61s/it]"
     ]
    },
    {
     "name": "stdout",
     "output_type": "stream",
     "text": [
      "Sentence: The flow itself originates further out. \n",
      "Citations: []\n",
      "=====\n"
     ]
    },
    {
     "name": "stderr",
     "output_type": "stream",
     "text": [
      " 53%|█████▎    | 319/600 [11:38<07:13,  1.54s/it]"
     ]
    },
    {
     "name": "stdout",
     "output_type": "stream",
     "text": [
      "Sentence: It is implausible that angular momentum can be ignored. \n",
      "Citations: []\n",
      "=====\n"
     ]
    },
    {
     "name": "stderr",
     "output_type": "stream",
     "text": [
      " 53%|█████▎    | 320/600 [11:39<07:01,  1.50s/it]"
     ]
    },
    {
     "name": "stdout",
     "output_type": "stream",
     "text": [
      "Sentence: One approach is to assume that the accretion flow is viscous all the way, so angular momentum is efficiently transported outward at all radii. \n",
      "Citations: []\n",
      "=====\n"
     ]
    },
    {
     "name": "stderr",
     "output_type": "stream",
     "text": [
      " 54%|█████▎    | 321/600 [11:42<09:25,  2.03s/it]"
     ]
    },
    {
     "name": "stdout",
     "output_type": "stream",
     "text": [
      "Sentence: The whole inner region of radii of a few 100 kpc, from beyond the Bondi radius to the innermost regions where the flow becomes supersonic, could resemble a giant advection-dominated accretion flow (ADAF) ( Narayan Fabian 2011 ). \n",
      "Citations: [('Narayan', 2011)]\n",
      "=====\n"
     ]
    },
    {
     "name": "stderr",
     "output_type": "stream",
     "text": [
      " 54%|█████▎    | 322/600 [11:44<08:31,  1.84s/it]"
     ]
    },
    {
     "name": "stdout",
     "output_type": "stream",
     "text": [
      "Sentence: This does at least allow for easy passage of the gas without it becoming choked by angular momentum. \n",
      "Citations: []\n",
      "=====\n"
     ]
    },
    {
     "name": "stderr",
     "output_type": "stream",
     "text": [
      " 54%|█████▍    | 323/600 [11:45<07:58,  1.73s/it]"
     ]
    },
    {
     "name": "stdout",
     "output_type": "stream",
     "text": [
      "Sentence: An ADAF is radiatively inefficient because it transports (advects) the energy released with the gas. \n",
      "Citations: []\n",
      "=====\n"
     ]
    },
    {
     "name": "stderr",
     "output_type": "stream",
     "text": [
      " 54%|█████▍    | 324/600 [11:48<09:33,  2.08s/it]"
     ]
    },
    {
     "name": "stdout",
     "output_type": "stream",
     "text": [
      "Sentence: Several percent ( Allen et al. 2006 ) or more of the power in the accretion flow must be released into a (radiatively inefficient jet) close to the black hole for this hypothesis to be viable. \n",
      "Citations: [('Allen', 2006)]\n",
      "=====\n"
     ]
    },
    {
     "name": "stderr",
     "output_type": "stream",
     "text": [
      " 54%|█████▍    | 325/600 [11:50<08:33,  1.87s/it]"
     ]
    },
    {
     "name": "stdout",
     "output_type": "stream",
     "text": [
      "Sentence: There are indications from the observed behavior of Galactic black hole binaries (Section 4.2) that this can happen, although the details are poorly understood. \n",
      "Citations: []\n",
      "=====\n"
     ]
    },
    {
     "name": "stderr",
     "output_type": "stream",
     "text": [
      " 54%|█████▍    | 326/600 [11:51<07:53,  1.73s/it]"
     ]
    },
    {
     "name": "stdout",
     "output_type": "stream",
     "text": [
      "Sentence: Good observations of the inner regions of the flow onto a massive black hole in a BCG are of M87 at the center of the Virgo cluster. \n",
      "Citations: []\n",
      "=====\n"
     ]
    },
    {
     "name": "stderr",
     "output_type": "stream",
     "text": [
      " 55%|█████▍    | 327/600 [11:54<09:25,  2.07s/it]"
     ]
    },
    {
     "name": "stdout",
     "output_type": "stream",
     "text": [
      "Sentence: The Bondi radius there is 100–200 pc, corresponding to 1–2 arcsec ( Di Matteo et al. 2003 ). \n",
      "Citations: [('Di Matteo', 2003)]\n",
      "=====\n"
     ]
    },
    {
     "name": "stderr",
     "output_type": "stream",
     "text": [
      " 55%|█████▍    | 328/600 [11:55<08:25,  1.86s/it]"
     ]
    },
    {
     "name": "stdout",
     "output_type": "stream",
     "text": [
      "Sentence: There is no evidence for a radiatively efficient accretion disc extending into the black hole. \n",
      "Citations: []\n",
      "=====\n"
     ]
    },
    {
     "name": "stderr",
     "output_type": "stream",
     "text": [
      " 55%|█████▍    | 329/600 [11:58<09:24,  2.08s/it]"
     ]
    },
    {
     "name": "stdout",
     "output_type": "stream",
     "text": [
      "Sentence: The nearside jet is well seen and resolved down to very close to the black hole (it is accelerated within 100 r g ; Hada et al. 2011 ). \n",
      "Citations: [('Hada', 2011)]\n",
      "=====\n"
     ]
    },
    {
     "name": "stderr",
     "output_type": "stream",
     "text": [
      " 55%|█████▌    | 330/600 [11:59<08:33,  1.90s/it]"
     ]
    },
    {
     "name": "stdout",
     "output_type": "stream",
     "text": [
      "Sentence: Simple Bondi accretion appears not to work in some objects. \n",
      "Citations: []\n",
      "=====\n"
     ]
    },
    {
     "name": "stderr",
     "output_type": "stream",
     "text": [
      " 55%|█████▌    | 331/600 [12:01<08:36,  1.92s/it]"
     ]
    },
    {
     "name": "stdout",
     "output_type": "stream",
     "text": [
      "Sentence: For example, the Bondi radius of the nearby ∼10 Mpc, ∼10 9 M ⊙ black hole in NGC 3115 is at ∼5 arcsec and well resolved in X-rays by Chandra . \n",
      "Citations: []\n",
      "=====\n"
     ]
    },
    {
     "name": "stderr",
     "output_type": "stream",
     "text": [
      " 55%|█████▌    | 332/600 [12:05<10:21,  2.32s/it]"
     ]
    },
    {
     "name": "stdout",
     "output_type": "stream",
     "text": [
      "Sentence: The nucleus X-ray luminosity of 10 38 erg s −1 is 10 −6 times that predicted by Bondi accretion from the observed surrounding hot halo ( Wong et al. 2011 ). \n",
      "Citations: [('Wong', 2011)]\n",
      "=====\n"
     ]
    },
    {
     "name": "stderr",
     "output_type": "stream",
     "text": [
      " 56%|█████▌    | 333/600 [12:06<09:06,  2.05s/it]"
     ]
    },
    {
     "name": "stdout",
     "output_type": "stream",
     "text": [
      "Sentence: Energy feedback within the Bondi radius may be responsible. \n",
      "Citations: []\n",
      "=====\n"
     ]
    },
    {
     "name": "stderr",
     "output_type": "stream",
     "text": [
      " 56%|█████▌    | 334/600 [12:12<14:27,  3.26s/it]"
     ]
    },
    {
     "name": "stdout",
     "output_type": "stream",
     "text": [
      "Sentence: Bondi accretion has sometimes been considered insufficient for powerful objects ( Rafferty et al. 2006 ; Hardcastle, Evans Croston 2007 ; McNamara, Rohanizadegan Nulsen 2011 ). \n",
      "Citations: [('Rafferty', 2006), ('Hardcastle', 2007), ('McNamara', 2011)]\n",
      "=====\n"
     ]
    },
    {
     "name": "stderr",
     "output_type": "stream",
     "text": [
      " 56%|█████▌    | 335/600 [12:13<11:57,  2.71s/it]"
     ]
    },
    {
     "name": "stdout",
     "output_type": "stream",
     "text": [
      "Sentence: The issue is considered again in Section 3.4. \n",
      "Citations: []\n",
      "=====\n"
     ]
    },
    {
     "name": "stderr",
     "output_type": "stream",
     "text": [
      " 56%|█████▌    | 336/600 [12:14<09:30,  2.16s/it]"
     ]
    },
    {
     "name": "stdout",
     "output_type": "stream",
     "text": [
      "Sentence: 3.1.2. \n",
      "Citations: []\n",
      "=====\n"
     ]
    },
    {
     "name": "stderr",
     "output_type": "stream",
     "text": [
      " 56%|█████▌    | 337/600 [12:15<07:48,  1.78s/it]"
     ]
    },
    {
     "name": "stdout",
     "output_type": "stream",
     "text": [
      "Sentence: Temperature structure. \n",
      "Citations: []\n",
      "=====\n"
     ]
    },
    {
     "name": "stderr",
     "output_type": "stream",
     "text": [
      " 56%|█████▋    | 338/600 [12:19<09:40,  2.22s/it]"
     ]
    },
    {
     "name": "stdout",
     "output_type": "stream",
     "text": [
      "Sentence: As mentioned earlier, studies with Chandra and XMM-Newton suggested that the coolest X-ray detectable gas was at a temperature one-third of the cluster virial temperature ( Peterson et al. 2003 ). \n",
      "Citations: [('Peterson', 2003)]\n",
      "=====\n"
     ]
    },
    {
     "name": "stderr",
     "output_type": "stream",
     "text": [
      " 56%|█████▋    | 339/600 [12:21<10:33,  2.43s/it]"
     ]
    },
    {
     "name": "stdout",
     "output_type": "stream",
     "text": [
      "Sentence: However, careful work on the best data from the brightest objects shows that the temperature range extends to a factor of at least 10 ( Figure 7 a ; Sanders et al. 2008 ). \n",
      "Citations: [('Sanders', 2008)]\n",
      "=====\n"
     ]
    },
    {
     "name": "stderr",
     "output_type": "stream",
     "text": [
      " 57%|█████▋    | 340/600 [12:23<09:10,  2.12s/it]"
     ]
    },
    {
     "name": "stdout",
     "output_type": "stream",
     "text": [
      "Sentence: There is, however, less and less gas found at lower temperatures compared with, say, a steady cooling flow ( Figure 7 b ). \n",
      "Citations: []\n",
      "=====\n"
     ]
    },
    {
     "name": "stderr",
     "output_type": "stream",
     "text": [
      " 57%|█████▋    | 341/600 [12:24<08:11,  1.90s/it]"
     ]
    },
    {
     "name": "stdout",
     "output_type": "stream",
     "text": [
      "Sentence: Interpreted from a cooling flow perspective, the gas with the shorter, and particularly the shortest, cooling times appears to be missing. \n",
      "Citations: []\n",
      "=====\n"
     ]
    },
    {
     "name": "stderr",
     "output_type": "stream",
     "text": [
      " 57%|█████▋    | 342/600 [12:27<09:33,  2.22s/it]"
     ]
    },
    {
     "name": "stdout",
     "output_type": "stream",
     "text": [
      "Sentence: Figure 7 ( a ) XMM-Newton Reflection Grating Spectrometer spectrum of the center of the nearby Centaurus cluster showing strong Fe xvii at 15 and 17 Å, respectively, and O viii at 19 Å lines but no O vii at 22 Å ( Sanders et al. 2008 ). \n",
      "Citations: [('Sanders', 2008)]\n",
      "=====\n"
     ]
    },
    {
     "name": "stderr",
     "output_type": "stream",
     "text": [
      " 57%|█████▋    | 343/600 [12:28<07:52,  1.84s/it]"
     ]
    },
    {
     "name": "stdout",
     "output_type": "stream",
     "text": [
      "Sentence: ( b ) \n",
      "Citations: []\n",
      "=====\n"
     ]
    },
    {
     "name": "stderr",
     "output_type": "stream",
     "text": [
      " 57%|█████▋    | 344/600 [12:30<07:17,  1.71s/it]"
     ]
    },
    {
     "name": "stdout",
     "output_type": "stream",
     "text": [
      "Sentence: Strength of soft X-ray emission in the Centaurus cluster core, interpreted as due to a mass cooling rate of the gas. \n",
      "Citations: []\n",
      "=====\n"
     ]
    },
    {
     "name": "stderr",
     "output_type": "stream",
     "text": [
      " 57%|█████▊    | 345/600 [12:31<06:52,  1.62s/it]"
     ]
    },
    {
     "name": "stdout",
     "output_type": "stream",
     "text": [
      "Sentence: Note that little gas seems to cool below 0.5 keV (O vii is emitted by gas at ∼0.3 keV). \n",
      "Citations: []\n",
      "=====\n"
     ]
    },
    {
     "name": "stderr",
     "output_type": "stream",
     "text": [
      " 58%|█████▊    | 346/600 [12:32<06:34,  1.55s/it]"
     ]
    },
    {
     "name": "stdout",
     "output_type": "stream",
     "text": [
      "Sentence: There is no continuous radiative cooling flow here, although some nonradiative cooling may occur by hot and cold gas mixing. \n",
      "Citations: []\n",
      "=====\n"
     ]
    },
    {
     "name": "stderr",
     "output_type": "stream",
     "text": [
      " 58%|█████▊    | 347/600 [12:35<08:31,  2.02s/it]"
     ]
    },
    {
     "name": "stdout",
     "output_type": "stream",
     "text": [
      "Sentence: X-ray images from Chandra and moderate resolution spectra from the XMM-Newton RGS show X-ray cool gas ranging from 5 to 0.5 keV in the nearby Centaurus cluster ( Sanders et al. 2008 ). \n",
      "Citations: [('Sanders', 2008)]\n",
      "=====\n"
     ]
    },
    {
     "name": "stderr",
     "output_type": "stream",
     "text": [
      " 58%|█████▊    | 348/600 [12:37<08:19,  1.98s/it]"
     ]
    },
    {
     "name": "stdout",
     "output_type": "stream",
     "text": [
      "Sentence: The coolest gas has a radiative cooling time of only 10 Myr, yet the spectra show no sign of any lower gas temperature gas (where detectable O vii emission is expected). \n",
      "Citations: []\n",
      "=====\n"
     ]
    },
    {
     "name": "stderr",
     "output_type": "stream",
     "text": [
      " 58%|█████▊    | 349/600 [12:39<07:32,  1.80s/it]"
     ]
    },
    {
     "name": "stdout",
     "output_type": "stream",
     "text": [
      "Sentence: In this object, the heating/cooling balance looks to hold to a few percent. \n",
      "Citations: []\n",
      "=====\n"
     ]
    },
    {
     "name": "stderr",
     "output_type": "stream",
     "text": [
      " 58%|█████▊    | 350/600 [12:40<07:00,  1.68s/it]"
     ]
    },
    {
     "name": "stdout",
     "output_type": "stream",
     "text": [
      "Sentence: How the 0.5-keV gas is prevented from cooling is not obvious. \n",
      "Citations: []\n",
      "=====\n"
     ]
    },
    {
     "name": "stderr",
     "output_type": "stream",
     "text": [
      " 58%|█████▊    | 351/600 [12:42<06:40,  1.61s/it]"
     ]
    },
    {
     "name": "stdout",
     "output_type": "stream",
     "text": [
      "Sentence: The X-ray images show that it is clumpy, so the question arises as to how it is targeted for heating without its immediate surroundings being overheated. \n",
      "Citations: []\n",
      "=====\n"
     ]
    },
    {
     "name": "stderr",
     "output_type": "stream",
     "text": [
      " 59%|█████▊    | 352/600 [12:43<06:24,  1.55s/it]"
     ]
    },
    {
     "name": "stdout",
     "output_type": "stream",
     "text": [
      "Sentence: A similar picture emerges from several other clusters with excellent data. \n",
      "Citations: []\n",
      "=====\n"
     ]
    },
    {
     "name": "stderr",
     "output_type": "stream",
     "text": [
      " 59%|█████▉    | 353/600 [12:44<06:10,  1.50s/it]"
     ]
    },
    {
     "name": "stdout",
     "output_type": "stream",
     "text": [
      "Sentence: One solution is that the tight balance is only apparent. \n",
      "Citations: []\n",
      "=====\n"
     ]
    },
    {
     "name": "stderr",
     "output_type": "stream",
     "text": [
      " 59%|█████▉    | 354/600 [12:48<08:23,  2.05s/it]"
     ]
    },
    {
     "name": "stdout",
     "output_type": "stream",
     "text": [
      "Sentence: If the jets become too energetic, then their intrinsic anisotropy dominates, and they can they push through the whole cooling region (e.g., Cyg A or MS0735.6+7421; McNamara et al. 2009 ; see also Figure 8 ), depositing their energy much further out. \n",
      "Citations: [('McNamara', 2009)]\n",
      "=====\n"
     ]
    },
    {
     "name": "stderr",
     "output_type": "stream",
     "text": [
      " 59%|█████▉    | 355/600 [12:49<07:38,  1.87s/it]"
     ]
    },
    {
     "name": "stdout",
     "output_type": "stream",
     "text": [
      "Sentence: The problem here is that no low-power Cygnus A analogs (Fanaroff-Riley type II edge-brightened sources) are seen in local BCGs. \n",
      "Citations: []\n",
      "=====\n"
     ]
    },
    {
     "name": "stderr",
     "output_type": "stream",
     "text": [
      " 59%|█████▉    | 356/600 [12:51<07:01,  1.73s/it]"
     ]
    },
    {
     "name": "stdout",
     "output_type": "stream",
     "text": [
      "Sentence: If cooling dominates then it can feed the reservoir of cold gas seen in many objects, as well as star formation. \n",
      "Citations: []\n",
      "=====\n"
     ]
    },
    {
     "name": "stderr",
     "output_type": "stream",
     "text": [
      " 60%|█████▉    | 357/600 [12:52<06:43,  1.66s/it]"
     ]
    },
    {
     "name": "stdout",
     "output_type": "stream",
     "text": [
      "Sentence: The BCG at the center of A1835 at z = 0.25 is an extreme example with over ∼125M ⊙ year −1 of massive star formation. \n",
      "Citations: []\n",
      "=====\n"
     ]
    },
    {
     "name": "stderr",
     "output_type": "stream",
     "text": [
      " 60%|█████▉    | 358/600 [12:55<08:01,  1.99s/it]"
     ]
    },
    {
     "name": "stdout",
     "output_type": "stream",
     "text": [
      "Sentence: It is within a factor of two of the highest star-formation rate of any galaxy at low redshift (Arp 220 has a rate of about 200M ⊙ year −1 ). \n",
      "Citations: [('Arp', None)]\n",
      "=====\n"
     ]
    },
    {
     "name": "stderr",
     "output_type": "stream",
     "text": [
      " 60%|█████▉    | 359/600 [12:57<07:53,  1.96s/it]"
     ]
    },
    {
     "name": "stdout",
     "output_type": "stream",
     "text": [
      "Sentence: (Without heating, the central intracluster gas in A1835 would be cooling at over 1, 000M ⊙ year −1 , so a balance remains, but not a very tight one.) \n",
      "Citations: []\n",
      "=====\n"
     ]
    },
    {
     "name": "stderr",
     "output_type": "stream",
     "text": [
      " 60%|██████    | 360/600 [13:00<08:59,  2.25s/it]"
     ]
    },
    {
     "name": "stdout",
     "output_type": "stream",
     "text": [
      "Sentence: Figure 8 ( a ) The Arms and weak shocks produced by the jets of M87 ( Forman et al. 2007 ). \n",
      "Citations: [('Forman', 2007)]\n",
      "=====\n"
     ]
    },
    {
     "name": "stderr",
     "output_type": "stream",
     "text": [
      " 60%|██████    | 361/600 [13:01<07:24,  1.86s/it]"
     ]
    },
    {
     "name": "stdout",
     "output_type": "stream",
     "text": [
      "Sentence: ( b ) \n",
      "Citations: []\n",
      "=====\n"
     ]
    },
    {
     "name": "stderr",
     "output_type": "stream",
     "text": [
      " 60%|██████    | 362/600 [13:04<08:42,  2.20s/it]"
     ]
    },
    {
     "name": "stdout",
     "output_type": "stream",
     "text": [
      "Sentence: The gigantic interaction of the radio lobes and intracluster gas of MS0735.6 ( McNamara et al. 2009 ). \n",
      "Citations: [('McNamara', 2009)]\n",
      "=====\n"
     ]
    },
    {
     "name": "stderr",
     "output_type": "stream",
     "text": [
      " 60%|██████    | 363/600 [13:05<07:42,  1.95s/it]"
     ]
    },
    {
     "name": "stdout",
     "output_type": "stream",
     "text": [
      "Sentence: The figure shows the inner 700 kpc of the cluster extending well beyond its cool core. \n",
      "Citations: []\n",
      "=====\n"
     ]
    },
    {
     "name": "stderr",
     "output_type": "stream",
     "text": [
      " 61%|██████    | 364/600 [13:06<07:05,  1.80s/it]"
     ]
    },
    {
     "name": "stdout",
     "output_type": "stream",
     "text": [
      "Sentence: Reproduced by permission of the AAS. \n",
      "Citations: []\n",
      "=====\n"
     ]
    },
    {
     "name": "stderr",
     "output_type": "stream",
     "text": [
      " 61%|██████    | 365/600 [13:07<06:01,  1.54s/it]"
     ]
    },
    {
     "name": "stdout",
     "output_type": "stream",
     "text": [
      "Sentence: 3.2. \n",
      "Citations: []\n",
      "=====\n"
     ]
    },
    {
     "name": "stderr",
     "output_type": "stream",
     "text": [
      " 61%|██████    | 366/600 [13:11<08:04,  2.07s/it]"
     ]
    },
    {
     "name": "stdout",
     "output_type": "stream",
     "text": [
      "Sentence: Cool Gas, Cold Gas, and Star Formation Many BCGs in cool core clusters (the ones with the short radiative cooling times) have extensive optical emission-line nebulosities (e.g., Crawford et al. 1999 ). \n",
      "Citations: [('Crawford', 1999)]\n",
      "=====\n"
     ]
    },
    {
     "name": "stderr",
     "output_type": "stream",
     "text": [
      " 61%|██████    | 367/600 [13:17<12:58,  3.34s/it]"
     ]
    },
    {
     "name": "stdout",
     "output_type": "stream",
     "text": [
      "Sentence: Indeed it is only those clusters with central cooling times below 2 Gyr that have filamentary nebulosities ( Hu et al. 1985 , Heckman et al. 1989 , Cavagnolo et al. 2008 ). \n",
      "Citations: [('Hu', 1985), ('Heckman', 1989), ('Cavagnolo', 2008)]\n",
      "=====\n"
     ]
    },
    {
     "name": "stderr",
     "output_type": "stream",
     "text": [
      " 61%|██████▏   | 368/600 [13:20<12:43,  3.29s/it]"
     ]
    },
    {
     "name": "stdout",
     "output_type": "stream",
     "text": [
      "Sentence: The optical spectrum is predominantly of low ionization gas and is quite unlike any galactic photodissociation region such as the Orion Nebula ( Ferland et al. 2009 ). \n",
      "Citations: [('Ferland', 2009)]\n",
      "=====\n"
     ]
    },
    {
     "name": "stderr",
     "output_type": "stream",
     "text": [
      " 62%|██████▏   | 369/600 [13:22<10:30,  2.73s/it]"
     ]
    },
    {
     "name": "stdout",
     "output_type": "stream",
     "text": [
      "Sentence: The emission can extend for tens of kiloparsecs around the BCG—in the famous case of NGC 1275, the largest diameter of the nebulosity exceeds 80 kpc. \n",
      "Citations: []\n",
      "=====\n"
     ]
    },
    {
     "name": "stderr",
     "output_type": "stream",
     "text": [
      " 62%|██████▏   | 370/600 [13:33<20:10,  5.26s/it]"
     ]
    },
    {
     "name": "stdout",
     "output_type": "stream",
     "text": [
      "Sentence: The bulk of the cold gas is molecular as shown by CO ( Edge 2001 , Salomé Combes 2003 ) and H 2 emission ( Jaffe, Bremer van der Werf 2001 ; Edge et al. 2002 ; Johnstone et al. 2007 ). \n",
      "Citations: [('Edge', 2001), ('Salomé Combes', 2003), ('Jaffe, Bremer van der Werf', 2001), ('Edge et al.', 2002), ('Johnstone et al.', 2007)]\n",
      "=====\n"
     ]
    },
    {
     "name": "stderr",
     "output_type": "stream",
     "text": [
      " 62%|██████▏   | 371/600 [13:38<19:35,  5.13s/it]"
     ]
    },
    {
     "name": "stdout",
     "output_type": "stream",
     "text": [
      "Sentence: NGC 1275 at the center of the Perseus cluster is a spectacular example ( Figure 9 ) ( Fabian et al. 2008 ) with filaments composed of about 5×10 10 M ⊙ of H 2 ( Salomé et al. 2006 ). \n",
      "Citations: [('Fabian', 2008), ('Salomé', 2006)]\n",
      "=====\n"
     ]
    },
    {
     "name": "stderr",
     "output_type": "stream",
     "text": [
      " 62%|██████▏   | 372/600 [13:40<16:57,  4.46s/it]"
     ]
    },
    {
     "name": "stdout",
     "output_type": "stream",
     "text": [
      "Sentence: Figure 9 ( a ) Hubble Space Telescope image of the filaments around NGC 1275 in the Perseus cluster ( Fabian et al. 2008 ). \n",
      "Citations: [('Fabian', 2008)]\n",
      "=====\n"
     ]
    },
    {
     "name": "stderr",
     "output_type": "stream",
     "text": [
      " 62%|██████▏   | 373/600 [13:42<13:27,  3.56s/it]"
     ]
    },
    {
     "name": "stdout",
     "output_type": "stream",
     "text": [
      "Sentence: Individual filaments are resolved at ∼70 pc wide; some are straight and over 6 kpc lengths. \n",
      "Citations: []\n",
      "=====\n"
     ]
    },
    {
     "name": "stderr",
     "output_type": "stream",
     "text": [
      " 62%|██████▏   | 374/600 [13:43<10:29,  2.79s/it]"
     ]
    },
    {
     "name": "stdout",
     "output_type": "stream",
     "text": [
      "Sentence: ( b ) \n",
      "Citations: []\n",
      "=====\n"
     ]
    },
    {
     "name": "stderr",
     "output_type": "stream",
     "text": [
      " 62%|██████▎   | 375/600 [13:46<11:23,  3.04s/it]"
     ]
    },
    {
     "name": "stdout",
     "output_type": "stream",
     "text": [
      "Sentence: Mass of cold H 2 reservoir, inferred from CO observations, in a sample of cool core brightest cluster galaxies compared with Spitzer IR luminosity (adapted from O'Dea et al. 2008 ). \n",
      "Citations: [(\"O'Dea\", 2008)]\n",
      "=====\n"
     ]
    },
    {
     "name": "stderr",
     "output_type": "stream",
     "text": [
      " 63%|██████▎   | 376/600 [13:48<09:32,  2.56s/it]"
     ]
    },
    {
     "name": "stdout",
     "output_type": "stream",
     "text": [
      "Sentence: (Reproduced by permission of the AAS.) \n",
      "Citations: []\n",
      "=====\n"
     ]
    },
    {
     "name": "stderr",
     "output_type": "stream",
     "text": [
      " 63%|██████▎   | 377/600 [13:54<13:24,  3.61s/it]"
     ]
    },
    {
     "name": "stdout",
     "output_type": "stream",
     "text": [
      "Sentence: Molecular hydrogen emission is clearly resolved out to 25 kpc and beyond ( Hatch et al. 2005 ), showing excellent agreement between the atomic and warm molecular structure ( Lim et al. 2012 ), as well as the cold CO structures ( Salomé et al. 2011 ). \n",
      "Citations: [('Hatch', 2005), ('Lim', 2012), ('Salomé', 2011)]\n",
      "=====\n"
     ]
    },
    {
     "name": "stderr",
     "output_type": "stream",
     "text": [
      " 63%|██████▎   | 378/600 [13:55<10:58,  2.97s/it]"
     ]
    },
    {
     "name": "stdout",
     "output_type": "stream",
     "text": [
      "Sentence: The mass of the molecular gas is comparable to the mass of all other gas, hot and cold, within the central 10 kpc. \n",
      "Citations: []\n",
      "=====\n"
     ]
    },
    {
     "name": "stderr",
     "output_type": "stream",
     "text": [
      " 63%|██████▎   | 379/600 [13:59<11:13,  3.05s/it]"
     ]
    },
    {
     "name": "stdout",
     "output_type": "stream",
     "text": [
      "Sentence: Star formation happens sporadically in that galaxy with ∼20M ⊙ year −1 occurring over the past 10 8 year in the southeastern blue loop ( Canning et al. 2010 ). \n",
      "Citations: [('Canning', 2010)]\n",
      "=====\n"
     ]
    },
    {
     "name": "stderr",
     "output_type": "stream",
     "text": [
      " 63%|██████▎   | 380/600 [14:05<15:05,  4.11s/it]"
     ]
    },
    {
     "name": "stdout",
     "output_type": "stream",
     "text": [
      "Sentence: Dust is seen in many objects in the form of dust lanes and IR emission, with Spitzer observations revealing high IR luminosities ( Egami et al. 2006 , O'Dea et al. 2008 , Edge et al. 2010 ) ( Figure 5 ). \n",
      "Citations: [('Egami', 2006), (\"O'Dea\", 2008), ('Edge', 2010)]\n",
      "=====\n"
     ]
    },
    {
     "name": "stderr",
     "output_type": "stream",
     "text": [
      " 64%|██████▎   | 381/600 [14:09<14:06,  3.87s/it]"
     ]
    },
    {
     "name": "stdout",
     "output_type": "stream",
     "text": [
      "Sentence: The dust is presumably injected by stars into the central cold gas reservoir ( Voit Donahue 2011 ). \n",
      "Citations: [('Voit Donahue', 2011)]\n",
      "=====\n"
     ]
    },
    {
     "name": "stderr",
     "output_type": "stream",
     "text": [
      " 64%|██████▎   | 382/600 [14:11<12:56,  3.56s/it]"
     ]
    },
    {
     "name": "stdout",
     "output_type": "stream",
     "text": [
      "Sentence: It is likely that many of the filaments have been dragged out from near the center of the cluster, within the BCG ( Hatch et al. 2006 ). \n",
      "Citations: [('Hatch', 2006)]\n",
      "=====\n"
     ]
    },
    {
     "name": "stderr",
     "output_type": "stream",
     "text": [
      " 64%|██████▍   | 383/600 [14:13<11:15,  3.11s/it]"
     ]
    },
    {
     "name": "stdout",
     "output_type": "stream",
     "text": [
      "Sentence: This is supported by the horseshoe-shaped filament in the Perseus cluster to the northwest of the BCG, NGC 1275, lying behind an outer bubble that is presumably rising buoyantly outward. \n",
      "Citations: []\n",
      "=====\n"
     ]
    },
    {
     "name": "stderr",
     "output_type": "stream",
     "text": [
      " 64%|██████▍   | 384/600 [14:15<09:27,  2.63s/it]"
     ]
    },
    {
     "name": "stdout",
     "output_type": "stream",
     "text": [
      "Sentence: The smooth unruffled shape of the horseshoe resembles the streamlines behind rising gas bubbles in water. \n",
      "Citations: []\n",
      "=====\n"
     ]
    },
    {
     "name": "stderr",
     "output_type": "stream",
     "text": [
      " 64%|██████▍   | 385/600 [14:18<09:45,  2.72s/it]"
     ]
    },
    {
     "name": "stdout",
     "output_type": "stream",
     "text": [
      "Sentence: This implies that the intracluster medium has low turbulence on these scales and, thus, that the viscosity is high ( Fabian et al. 2003b ). \n",
      "Citations: [('Fabian', 2003)]\n",
      "=====\n"
     ]
    },
    {
     "name": "stderr",
     "output_type": "stream",
     "text": [
      " 64%|██████▍   | 386/600 [14:23<12:39,  3.55s/it]"
     ]
    },
    {
     "name": "stdout",
     "output_type": "stream",
     "text": [
      "Sentence: Much of the total IR and UV luminosity of BCGs in luminous cool core clusters is due to vigorous star formation in the BCG ( O'Dea et al. 2008 , 2010 ), presumably fueled by a residual cooling flow. \n",
      "Citations: [(\"O'Dea\", 2008), (\"O'Dea\", 2010)]\n",
      "=====\n"
     ]
    },
    {
     "name": "stderr",
     "output_type": "stream",
     "text": [
      " 64%|██████▍   | 387/600 [14:28<14:13,  4.00s/it]"
     ]
    },
    {
     "name": "stdout",
     "output_type": "stream",
     "text": [
      "Sentence: Some of the IR luminosity, however, could be due to the coolest X-ray emitting clumps, at 0.5–3 keV, mixing in with the cold gas and thereby cooling nonradiatively ( Fabian et al. 2002 ; Soker, Blanton Sarazin 2004 ). \n",
      "Citations: [('Fabian', 2002), ('Soker', 2004)]\n",
      "=====\n"
     ]
    },
    {
     "name": "stderr",
     "output_type": "stream",
     "text": [
      " 65%|██████▍   | 388/600 [14:30<11:35,  3.28s/it]"
     ]
    },
    {
     "name": "stdout",
     "output_type": "stream",
     "text": [
      "Sentence: There is more than enough IR emission in most objects to account for a significant mass cooling rate. \n",
      "Citations: []\n",
      "=====\n"
     ]
    },
    {
     "name": "stderr",
     "output_type": "stream",
     "text": [
      " 65%|██████▍   | 389/600 [14:32<09:41,  2.75s/it]"
     ]
    },
    {
     "name": "stdout",
     "output_type": "stream",
     "text": [
      "Sentence: The outer filaments in NGC 1275 generally show no embedded young stars and are far from the central nucleus. \n",
      "Citations: []\n",
      "=====\n"
     ]
    },
    {
     "name": "stderr",
     "output_type": "stream",
     "text": [
      " 65%|██████▌   | 390/600 [14:34<08:59,  2.57s/it]"
     ]
    },
    {
     "name": "stdout",
     "output_type": "stream",
     "text": [
      "Sentence: The optical spectrum of the filamentary gas here indicates low ionization, with strong Balmer lines, [O ii ], O i , N i , [N ii ], and [S ii ], but weak [O iii ] yet high Ne[ iii ]. \n",
      "Citations: []\n",
      "=====\n"
     ]
    },
    {
     "name": "stderr",
     "output_type": "stream",
     "text": [
      " 65%|██████▌   | 391/600 [14:35<07:51,  2.26s/it]"
     ]
    },
    {
     "name": "stdout",
     "output_type": "stream",
     "text": [
      "Sentence: Photoionization modeling fails to reproduce this spectrum if O stars are assumed. \n",
      "Citations: []\n",
      "=====\n"
     ]
    },
    {
     "name": "stderr",
     "output_type": "stream",
     "text": [
      " 65%|██████▌   | 392/600 [14:39<08:54,  2.57s/it]"
     ]
    },
    {
     "name": "stdout",
     "output_type": "stream",
     "text": [
      "Sentence: It requires a much hotter incident spectrum with a 150,000 K blackbody spectrum being suitable ( Crawford Fabian 1992 ). \n",
      "Citations: [('Crawford Fabian', 1992)]\n",
      "=====\n"
     ]
    },
    {
     "name": "stderr",
     "output_type": "stream",
     "text": [
      " 66%|██████▌   | 393/600 [14:40<07:51,  2.28s/it]"
     ]
    },
    {
     "name": "stdout",
     "output_type": "stream",
     "text": [
      "Sentence: There is no such source of photons available, so it has been concluded that the filaments cannot be excited by photons. \n",
      "Citations: []\n",
      "=====\n"
     ]
    },
    {
     "name": "stderr",
     "output_type": "stream",
     "text": [
      " 66%|██████▌   | 394/600 [14:41<06:31,  1.90s/it]"
     ]
    },
    {
     "name": "stdout",
     "output_type": "stream",
     "text": [
      "Sentence: 3.2.1. \n",
      "Citations: []\n",
      "=====\n"
     ]
    },
    {
     "name": "stderr",
     "output_type": "stream",
     "text": [
      " 66%|██████▌   | 395/600 [14:43<06:01,  1.77s/it]"
     ]
    },
    {
     "name": "stdout",
     "output_type": "stream",
     "text": [
      "Sentence: Heating of cold gas by energetic particles. \n",
      "Citations: []\n",
      "=====\n"
     ]
    },
    {
     "name": "stderr",
     "output_type": "stream",
     "text": [
      " 66%|██████▌   | 396/600 [14:47<08:33,  2.52s/it]"
     ]
    },
    {
     "name": "stdout",
     "output_type": "stream",
     "text": [
      "Sentence: An alternative that has been studied by Ferland et al. (2008 , 2009) is that cosmic rays are the source of ionization and excitation. \n",
      "Citations: [('Ferland', 2008), ('Ferland', 2009)]\n",
      "=====\n"
     ]
    },
    {
     "name": "stderr",
     "output_type": "stream",
     "text": [
      " 66%|██████▌   | 397/600 [14:48<07:34,  2.24s/it]"
     ]
    },
    {
     "name": "stdout",
     "output_type": "stream",
     "text": [
      "Sentence: If they penetrate cold gas, then they collide with that gas and leave trails of 30–40-eV secondary particles that excite a spectrum resembling the observed one. \n",
      "Citations: []\n",
      "=====\n"
     ]
    },
    {
     "name": "stderr",
     "output_type": "stream",
     "text": [
      " 66%|██████▋   | 398/600 [14:50<06:50,  2.03s/it]"
     ]
    },
    {
     "name": "stdout",
     "output_type": "stream",
     "text": [
      "Sentence: If the cold gas has denser molecular phases, then the H 2 and CO emission is also accounted for. \n",
      "Citations: []\n",
      "=====\n"
     ]
    },
    {
     "name": "stderr",
     "output_type": "stream",
     "text": [
      " 66%|██████▋   | 399/600 [14:52<06:16,  1.87s/it]"
     ]
    },
    {
     "name": "stdout",
     "output_type": "stream",
     "text": [
      "Sentence: The required energy density in cosmic rays is high. \n",
      "Citations: []\n",
      "=====\n"
     ]
    },
    {
     "name": "stderr",
     "output_type": "stream",
     "text": [
      " 67%|██████▋   | 400/600 [14:53<05:56,  1.78s/it]"
     ]
    },
    {
     "name": "stdout",
     "output_type": "stream",
     "text": [
      "Sentence: Similar secondary particles are, however, also produced by the incidence of kiloelectronvolt particles, such as those that constitute the surrounding hot gas. \n",
      "Citations: []\n",
      "=====\n"
     ]
    },
    {
     "name": "stderr",
     "output_type": "stream",
     "text": [
      " 67%|██████▋   | 401/600 [14:56<06:58,  2.10s/it]"
     ]
    },
    {
     "name": "stdout",
     "output_type": "stream",
     "text": [
      "Sentence: This has led to a variant of the cosmic-ray model in which the filaments are powered by interpenetration of the hot gas ( Fabian et al. 2011b ). \n",
      "Citations: [('Fabian', 2011)]\n",
      "=====\n"
     ]
    },
    {
     "name": "stderr",
     "output_type": "stream",
     "text": [
      " 67%|██████▋   | 402/600 [14:58<06:59,  2.12s/it]"
     ]
    },
    {
     "name": "stdout",
     "output_type": "stream",
     "text": [
      "Sentence: An interesting aspect of this model is that the incident flux of energy onto a filament in the Perseus cluster from the surrounding gas particles is only a few times higher than the total flux emitted by the filament. \n",
      "Citations: []\n",
      "=====\n"
     ]
    },
    {
     "name": "stderr",
     "output_type": "stream",
     "text": [
      " 67%|██████▋   | 403/600 [15:00<06:23,  1.95s/it]"
     ]
    },
    {
     "name": "stdout",
     "output_type": "stream",
     "text": [
      "Sentence: This makes it energetically feasible. \n",
      "Citations: []\n",
      "=====\n"
     ]
    },
    {
     "name": "stderr",
     "output_type": "stream",
     "text": [
      " 67%|██████▋   | 404/600 [15:03<07:32,  2.31s/it]"
     ]
    },
    {
     "name": "stdout",
     "output_type": "stream",
     "text": [
      "Sentence: Interpenetration requires that the magnetic fields that must help support the filaments in the hot gas ( Fabian et al 2008 ) do not prevent the particles from entering the gas. \n",
      "Citations: [('Fabian', 2008)]\n",
      "=====\n"
     ]
    },
    {
     "name": "stderr",
     "output_type": "stream",
     "text": [
      " 68%|██████▊   | 405/600 [15:06<08:16,  2.55s/it]"
     ]
    },
    {
     "name": "stdout",
     "output_type": "stream",
     "text": [
      "Sentence: Reconnection diffusion ( Lazarian et al. 2011 ) provides a mechanism by which this can proceed. \n",
      "Citations: [('Lazarian', 2011)]\n",
      "=====\n"
     ]
    },
    {
     "name": "stderr",
     "output_type": "stream",
     "text": [
      " 68%|██████▊   | 406/600 [15:07<07:11,  2.22s/it]"
     ]
    },
    {
     "name": "stdout",
     "output_type": "stream",
     "text": [
      "Sentence: Because particles are entering a filament, its mass is slowly increasing. \n",
      "Citations: []\n",
      "=====\n"
     ]
    },
    {
     "name": "stderr",
     "output_type": "stream",
     "text": [
      " 68%|██████▊   | 407/600 [15:10<07:12,  2.24s/it]"
     ]
    },
    {
     "name": "stdout",
     "output_type": "stream",
     "text": [
      "Sentence: The flux of particles is proportional to the radiation flux from the filament, which enables an estimate to be made ( year −1 , where L 42 is the H α luminosity in units of 10 42 erg s −1 and T 7 is the surrounding gas temperature in units of 10 7 K). \n",
      "Citations: []\n",
      "=====\n"
     ]
    },
    {
     "name": "stderr",
     "output_type": "stream",
     "text": [
      " 68%|██████▊   | 408/600 [15:11<06:33,  2.05s/it]"
     ]
    },
    {
     "name": "stdout",
     "output_type": "stream",
     "text": [
      "Sentence: The filamentary system in the Perseus cluster may thus be growing at 50–100M ⊙ year −1 , which probably exceeds the current star-formation rate. \n",
      "Citations: []\n",
      "=====\n"
     ]
    },
    {
     "name": "stderr",
     "output_type": "stream",
     "text": [
      " 68%|██████▊   | 409/600 [15:13<06:03,  1.90s/it]"
     ]
    },
    {
     "name": "stdout",
     "output_type": "stream",
     "text": [
      "Sentence: The mass of the filaments doubles in about a gigayear. \n",
      "Citations: []\n",
      "=====\n"
     ]
    },
    {
     "name": "stderr",
     "output_type": "stream",
     "text": [
      " 68%|██████▊   | 410/600 [15:37<26:45,  8.45s/it]"
     ]
    },
    {
     "name": "stdout",
     "output_type": "stream",
     "text": [
      "Sentence: Particle heating and other models are now being tested over a wide range of spectra and imaging of BCG filaments, from the UV ( Oonk et al. 2011 ), including possible O vi emission ( Oegerle et al. 2001 , Bregman et al. 2006 ), to optical ( McDonald, Veilleux Rupke 2012 ; Canning et al. 2011 ; Edwards et al. 2009 ), near-IR ( Oonk et al. 2010 ), mid-IR ( Spitzer : Johnstone et al. 2007 , Donahue et al. 2011 ), and far-IR ( Spitzer : Egami et al. 2006 ; Herschel : Edge et al. 2010 , Mittal et al. 2011 ) bands. \n",
      "Citations: [('Oonk', 2011), ('Oegerle', 2001), ('Bregman', 2006), ('McDonald', 2012), ('Canning', 2011), ('Edwards', 2009), ('Oonk', 2010), ('Johnstone', 2007), ('Donahue', 2011), ('Egami', 2006), ('Edge', 2010), ('Mittal', 2011)]\n",
      "=====\n"
     ]
    },
    {
     "name": "stderr",
     "output_type": "stream",
     "text": [
      " 68%|██████▊   | 411/600 [15:42<23:34,  7.49s/it]"
     ]
    },
    {
     "name": "stdout",
     "output_type": "stream",
     "text": [
      "Sentence: CO spectra and detection of HCN are reported by Salomé et al. (2008) , and CN, HCO + , and C 2 H by Bayet et al. (2011) . \n",
      "Citations: [('Salomé', 2008), ('Bayet', 2011)]\n",
      "=====\n"
     ]
    },
    {
     "name": "stderr",
     "output_type": "stream",
     "text": [
      " 69%|██████▊   | 412/600 [15:43<17:57,  5.73s/it]"
     ]
    },
    {
     "name": "stdout",
     "output_type": "stream",
     "text": [
      "Sentence: Interpenetration of the cold filaments by the surrounding hot gas represents another energy loss process for that gas apart from X-radiation. \n",
      "Citations: []\n",
      "=====\n"
     ]
    },
    {
     "name": "stderr",
     "output_type": "stream",
     "text": [
      " 69%|██████▉   | 413/600 [15:46<14:36,  4.68s/it]"
     ]
    },
    {
     "name": "stdout",
     "output_type": "stream",
     "text": [
      "Sentence: A possible conclusion from this is that gas may be cooling from the hot phase of the intracluster medium at a higher rate than deduced from X-ray spectroscopy alone (i.e., from radiative cooling just in the X-ray band). \n",
      "Citations: []\n",
      "=====\n"
     ]
    },
    {
     "name": "stderr",
     "output_type": "stream",
     "text": [
      " 69%|██████▉   | 414/600 [15:47<11:44,  3.79s/it]"
     ]
    },
    {
     "name": "stdout",
     "output_type": "stream",
     "text": [
      "Sentence: This is due to some cooling of the inner hot gas occurring nonradiatively by mixing with the cold gas, with the energy emerging in the far-IR to UV bands. \n",
      "Citations: []\n",
      "=====\n"
     ]
    },
    {
     "name": "stderr",
     "output_type": "stream",
     "text": [
      " 69%|██████▉   | 415/600 [15:49<09:42,  3.15s/it]"
     ]
    },
    {
     "name": "stdout",
     "output_type": "stream",
     "text": [
      "Sentence: The cold gas then hangs around for gigayears as a slowly accumulating reservoir of cold molecular dust clouds, forming stars slowly and sporadically. \n",
      "Citations: []\n",
      "=====\n"
     ]
    },
    {
     "name": "stderr",
     "output_type": "stream",
     "text": [
      " 69%|██████▉   | 416/600 [15:53<10:14,  3.34s/it]"
     ]
    },
    {
     "name": "stdout",
     "output_type": "stream",
     "text": [
      "Sentence: Molecular filaments, probably due to ram-pressure stripping, are also seen around some galaxies in the Coma and Virgo clusters (e.g., Dasyra et al. 2012 ). \n",
      "Citations: [('Dasyra', 2012)]\n",
      "=====\n"
     ]
    },
    {
     "name": "stderr",
     "output_type": "stream",
     "text": [
      " 70%|██████▉   | 417/600 [15:54<08:38,  2.83s/it]"
     ]
    },
    {
     "name": "stdout",
     "output_type": "stream",
     "text": [
      "Sentence: Studies of these filaments should help our understanding of the filaments around BCGs and vice versa. \n",
      "Citations: []\n",
      "=====\n"
     ]
    },
    {
     "name": "stderr",
     "output_type": "stream",
     "text": [
      " 70%|██████▉   | 418/600 [15:56<07:00,  2.31s/it]"
     ]
    },
    {
     "name": "stdout",
     "output_type": "stream",
     "text": [
      "Sentence: 3.2.2. \n",
      "Citations: []\n",
      "=====\n"
     ]
    },
    {
     "name": "stderr",
     "output_type": "stream",
     "text": [
      " 70%|██████▉   | 419/600 [15:57<06:33,  2.17s/it]"
     ]
    },
    {
     "name": "stdout",
     "output_type": "stream",
     "text": [
      "Sentence: Turbulence in cool cores. \n",
      "Citations: []\n",
      "=====\n"
     ]
    },
    {
     "name": "stderr",
     "output_type": "stream",
     "text": [
      " 70%|███████   | 420/600 [16:13<18:42,  6.24s/it]"
     ]
    },
    {
     "name": "stdout",
     "output_type": "stream",
     "text": [
      "Sentence: Direct measurements of the level of turbulence have been made from X-ray line widths using the XMM-Newton RGS ( Sanders et al. 2010b ). \n",
      "Citations: [('Sanders', 2010)]\n",
      "=====\n"
     ]
    },
    {
     "name": "stderr",
     "output_type": "stream",
     "text": [
      " 70%|███████   | 421/600 [16:25<23:47,  7.97s/it]"
     ]
    },
    {
     "name": "stdout",
     "output_type": "stream",
     "text": [
      "Sentence: This is a slitless spectrometer that looks at a region about 1 arcmin across. \n",
      "Citations: []\n",
      "=====\n"
     ]
    },
    {
     "name": "stderr",
     "output_type": "stream",
     "text": [
      " 70%|███████   | 422/600 [16:38<27:32,  9.29s/it]"
     ]
    },
    {
     "name": "stdout",
     "output_type": "stream",
     "text": [
      "Sentence: Some luminous cool core clusters above redshifts of 0.1 appear pointlike to this instrument, enabling the full spectral resolution to be obtained. \n",
      "Citations: []\n",
      "=====\n"
     ]
    },
    {
     "name": "stderr",
     "output_type": "stream",
     "text": [
      " 70%|███████   | 423/600 [16:54<33:56, 11.51s/it]"
     ]
    },
    {
     "name": "stdout",
     "output_type": "stream",
     "text": [
      "Sentence: Several clusters including A1835 show a dozen narrow iron and O viii lines from which velocity broadening of the X-ray coolest components in the hot gas can be measured, yielding values less than 300 km s −1 . \n",
      "Citations: []\n",
      "=====\n"
     ]
    },
    {
     "name": "stderr",
     "output_type": "stream",
     "text": [
      " 71%|███████   | 424/600 [17:06<34:17, 11.69s/it]"
     ]
    },
    {
     "name": "stdout",
     "output_type": "stream",
     "text": [
      "Sentence: Turbulent energy density is then less than 10% of the thermal energy density. \n",
      "Citations: []\n",
      "=====\n"
     ]
    },
    {
     "name": "stderr",
     "output_type": "stream",
     "text": [
      " 71%|███████   | 425/600 [17:27<42:05, 14.43s/it]"
     ]
    },
    {
     "name": "stdout",
     "output_type": "stream",
     "text": [
      "Sentence: This is consistent with some simulations ( Vazza et al. 2009 ). \n",
      "Citations: [('Vazza', 2009)]\n",
      "=====\n"
     ]
    },
    {
     "name": "stderr",
     "output_type": "stream",
     "text": [
      " 71%|███████   | 426/600 [17:35<36:05, 12.45s/it]"
     ]
    },
    {
     "name": "stdout",
     "output_type": "stream",
     "text": [
      "Sentence: Despite AGN activity pumping out 10 45 erg s −1 of mechanical power, the gas flows are modest. \n",
      "Citations: []\n",
      "=====\n"
     ]
    },
    {
     "name": "stderr",
     "output_type": "stream",
     "text": [
      " 71%|███████   | 427/600 [17:36<26:14,  9.10s/it]"
     ]
    },
    {
     "name": "stdout",
     "output_type": "stream",
     "text": [
      "Sentence: Indirect measurements have also been made. \n",
      "Citations: []\n",
      "=====\n"
     ]
    },
    {
     "name": "stderr",
     "output_type": "stream",
     "text": [
      " 71%|███████▏  | 428/600 [17:39<20:25,  7.13s/it]"
     ]
    },
    {
     "name": "stdout",
     "output_type": "stream",
     "text": [
      "Sentence: A search for departures from hydrostatic equilibrium when comparing X-ray and optically derived gravitational potentials allows for little additional pressure from turbulence ( Churazov et al. 2008 ). \n",
      "Citations: [('Churazov', 2008)]\n",
      "=====\n"
     ]
    },
    {
     "name": "stderr",
     "output_type": "stream",
     "text": [
      " 72%|███████▏  | 429/600 [17:41<16:31,  5.80s/it]"
     ]
    },
    {
     "name": "stdout",
     "output_type": "stream",
     "text": [
      "Sentence: Evidence for resonant scattering of Fe xvii lines in the X-ray spectrum of several elliptical galaxies ( Werner et al. 2009 ) limits turbulence to less than 5% of thermal values. \n",
      "Citations: [('Werner', 2009)]\n",
      "=====\n"
     ]
    },
    {
     "name": "stderr",
     "output_type": "stream",
     "text": [
      " 72%|███████▏  | 430/600 [17:42<12:12,  4.31s/it]"
     ]
    },
    {
     "name": "stdout",
     "output_type": "stream",
     "text": [
      "Sentence: The feedback is surprisingly gentle. \n",
      "Citations: []\n",
      "=====\n"
     ]
    },
    {
     "name": "stderr",
     "output_type": "stream",
     "text": [
      " 72%|███████▏  | 431/600 [17:43<09:11,  3.27s/it]"
     ]
    },
    {
     "name": "stdout",
     "output_type": "stream",
     "text": [
      "Sentence: 3.3. \n",
      "Citations: []\n",
      "=====\n"
     ]
    },
    {
     "name": "stderr",
     "output_type": "stream",
     "text": [
      " 72%|███████▏  | 432/600 [17:48<10:26,  3.73s/it]"
     ]
    },
    {
     "name": "stdout",
     "output_type": "stream",
     "text": [
      "Sentence: The Evolution of Cool Cores in Clusters No evolution in cool core properties is seen in clusters out to z ∼ 0.5 ( Bauer et al. 2005 , Hlavacek-Larrondo 2012 ). \n",
      "Citations: [('Bauer', 2005), ('Hlavacek-Larrondo', 2012)]\n",
      "=====\n"
     ]
    },
    {
     "name": "stderr",
     "output_type": "stream",
     "text": [
      " 72%|███████▏  | 433/600 [17:51<09:41,  3.48s/it]"
     ]
    },
    {
     "name": "stdout",
     "output_type": "stream",
     "text": [
      "Sentence: Beyond that redshift, however, Vikhlinin et al. (2007) found no cool cores in the 400-square-degree Rosat survey. \n",
      "Citations: [('Vikhlinin', 2007)]\n",
      "=====\n"
     ]
    },
    {
     "name": "stderr",
     "output_type": "stream",
     "text": [
      " 72%|███████▏  | 434/600 [17:56<10:41,  3.86s/it]"
     ]
    },
    {
     "name": "stdout",
     "output_type": "stream",
     "text": [
      "Sentence: Santos et al. (2010) find some in other samples but no strong cool cores (i.e., with short cooling times), other than one at z ∼ 1 ( Santos et al. 2012 ). \n",
      "Citations: [('Santos', 2010), ('Santos', 2012)]\n",
      "=====\n"
     ]
    },
    {
     "name": "stderr",
     "output_type": "stream",
     "text": [
      " 72%|███████▎  | 435/600 [17:57<08:11,  2.98s/it]"
     ]
    },
    {
     "name": "stdout",
     "output_type": "stream",
     "text": [
      "Sentence: Can this mean rapid evolution? \n",
      "Citations: []\n",
      "=====\n"
     ]
    },
    {
     "name": "stderr",
     "output_type": "stream",
     "text": [
      " 73%|███████▎  | 436/600 [18:10<16:36,  6.08s/it]"
     ]
    },
    {
     "name": "stdout",
     "output_type": "stream",
     "text": [
      "Sentence: The lack of observed strong cool cores may be a selection effect ( Russell et al. 2012 ) and due to enhanced AGN activity in the BCG. \n",
      "Citations: [('Russell', 2012)]\n",
      "=====\n"
     ]
    },
    {
     "name": "stderr",
     "output_type": "stream",
     "text": [
      " 73%|███████▎  | 437/600 [18:22<21:30,  7.91s/it]"
     ]
    },
    {
     "name": "stdout",
     "output_type": "stream",
     "text": [
      "Sentence: Generally, the central AGN in BCGs is quite sub-Eddington (λ∼10 −3 –10 −2 ). \n",
      "Citations: []\n",
      "=====\n"
     ]
    },
    {
     "name": "stderr",
     "output_type": "stream",
     "text": [
      " 73%|███████▎  | 438/600 [18:32<23:12,  8.59s/it]"
     ]
    },
    {
     "name": "stdout",
     "output_type": "stream",
     "text": [
      "Sentence: The luminous low-redshift quasar H1821+643 at z = 0.3 in the center of a rich cluster is a counter example ( Russell et al. 2010 ). \n",
      "Citations: [('Russell', 2010)]\n",
      "=====\n"
     ]
    },
    {
     "name": "stderr",
     "output_type": "stream",
     "text": [
      " 73%|███████▎  | 439/600 [18:38<20:30,  7.65s/it]"
     ]
    },
    {
     "name": "stdout",
     "output_type": "stream",
     "text": [
      "Sentence: The surrounding gas is in the same state as other cool core BCGs, including a large mass of cold molecular gas ( Aravena et al. 2011 ), indicating that a powerful quasar and a cool core can coexist. \n",
      "Citations: [('Aravena', 2011)]\n",
      "=====\n"
     ]
    },
    {
     "name": "stderr",
     "output_type": "stream",
     "text": [
      " 73%|███████▎  | 440/600 [18:41<17:14,  6.46s/it]"
     ]
    },
    {
     "name": "stdout",
     "output_type": "stream",
     "text": [
      "Sentence: The black holes in BCG at z ∼1 may be more active than at low redshift. \n",
      "Citations: []\n",
      "=====\n"
     ]
    },
    {
     "name": "stderr",
     "output_type": "stream",
     "text": [
      " 74%|███████▎  | 441/600 [18:44<14:21,  5.42s/it]"
     ]
    },
    {
     "name": "stdout",
     "output_type": "stream",
     "text": [
      "Sentence: Distant cool core clusters hosting central quasars are therefore likely. \n",
      "Citations: []\n",
      "=====\n"
     ]
    },
    {
     "name": "stderr",
     "output_type": "stream",
     "text": [
      " 74%|███████▎  | 442/600 [19:00<22:28,  8.54s/it]"
     ]
    },
    {
     "name": "stdout",
     "output_type": "stream",
     "text": [
      "Sentence: If such an object is found in an X-ray survey operating at low spatial resolution (e.g., Rosat at 20 arcsec) and identification is by optical spectroscopy of the brightest galaxy or object in the error box, then the object will be optically identified with the quasar alone if broad lines are seen in the spectrum. \n",
      "Citations: []\n",
      "=====\n"
     ]
    },
    {
     "name": "stderr",
     "output_type": "stream",
     "text": [
      " 74%|███████▍  | 443/600 [19:12<25:05,  9.59s/it]"
     ]
    },
    {
     "name": "stdout",
     "output_type": "stream",
     "text": [
      "Sentence: The underlying cluster could remain unnoticed if no subsequent high spatial resolution X-ray (or optical/IR) deep observation is made of the quasar. \n",
      "Citations: []\n",
      "=====\n"
     ]
    },
    {
     "name": "stderr",
     "output_type": "stream",
     "text": [
      " 74%|███████▍  | 444/600 [28:48<7:46:55, 179.59s/it]"
     ]
    },
    {
     "name": "stdout",
     "output_type": "stream",
     "text": [
      "Sentence: 3C186 ( Siemigiowska et al. 2010 ) and PKS 1229 ( Russell et al. 2012 ) are two examples where there appear to be strong cool cores surrounding quasars at z ∼ 1. Lower redshift examples are presented by Crawford Fabian (2003) . \n",
      "Citations: [('Siemigiowska', 2010), ('Russell', 2012), ('Crawford Fabian', 2003)]\n",
      "=====\n"
     ]
    },
    {
     "name": "stderr",
     "output_type": "stream",
     "text": [
      " 74%|███████▍  | 445/600 [29:00<5:34:02, 129.31s/it]"
     ]
    },
    {
     "name": "stdout",
     "output_type": "stream",
     "text": [
      "Sentence: Until such potential selection effects are investigated further, it is difficult to speculate from observation about the evolution of cool cores. \n",
      "Citations: []\n",
      "=====\n"
     ]
    },
    {
     "name": "stderr",
     "output_type": "stream",
     "text": [
      " 74%|███████▍  | 446/600 [35:02<8:30:58, 199.08s/it]"
     ]
    },
    {
     "name": "stdout",
     "output_type": "stream",
     "text": [
      "Sentence: There are, of course, many radio-loud quasars and radio galaxies surrounded by extensive Ly- α nebulosities ( McCarthy, Spinrad van Breugel 1995 ; Stockton, Fu Canalizo 2006 ). \n",
      "Citations: [('McCarthy', 1995), ('Stockton', 2006)]\n",
      "=====\n"
     ]
    },
    {
     "name": "stderr",
     "output_type": "stream",
     "text": [
      " 74%|███████▍  | 447/600 [35:14<6:04:25, 142.91s/it]"
     ]
    },
    {
     "name": "stdout",
     "output_type": "stream",
     "text": [
      "Sentence: Cool cores appear to be fairly robust to cluster mergers. \n",
      "Citations: []\n",
      "=====\n"
     ]
    },
    {
     "name": "stderr",
     "output_type": "stream",
     "text": [
      " 75%|███████▍  | 448/600 [35:46<4:37:27, 109.52s/it]"
     ]
    },
    {
     "name": "stdout",
     "output_type": "stream",
     "text": [
      "Sentence: Observations of some merging clusters show displaced cool cores (A168: Hallman Markevitch 2004 ; A2146: Canning et al. 2012 ). \n",
      "Citations: [('Hallman Markevitch', 2004), ('Canning', 2012)]\n",
      "=====\n"
     ]
    },
    {
     "name": "stderr",
     "output_type": "stream",
     "text": [
      " 75%|███████▍  | 449/600 [52:33<15:53:19, 378.81s/it]"
     ]
    },
    {
     "name": "stdout",
     "output_type": "stream",
     "text": [
      "Sentence: Some simulations also support survival ( Poole et al. 2006 ). \n",
      "Citations: [('Poole', 2006)]\n",
      "=====\n"
     ]
    },
    {
     "name": "stderr",
     "output_type": "stream",
     "text": [
      " 75%|███████▌  | 450/600 [52:35<11:04:35, 265.84s/it]"
     ]
    },
    {
     "name": "stdout",
     "output_type": "stream",
     "text": [
      "Sentence: The lack of a cool core in the Coma cluster, for example, has long been attributed to a merger ( Fabian, Nulsen Canizares 1984 ). \n",
      "Citations: [('Fabian', 1984)]\n",
      "=====\n"
     ]
    },
    {
     "name": "stderr",
     "output_type": "stream",
     "text": [
      " 75%|███████▌  | 451/600 [52:38<7:43:52, 186.79s/it] "
     ]
    },
    {
     "name": "stdout",
     "output_type": "stream",
     "text": [
      "Sentence: What may matter most is the merger history of a cluster, with early mergers being the most destructive of a cool core ( Burns et al. 2008 ). \n",
      "Citations: [('Burns', 2008)]\n",
      "=====\n"
     ]
    },
    {
     "name": "stderr",
     "output_type": "stream",
     "text": [
      " 75%|███████▌  | 452/600 [52:38<5:23:08, 131.01s/it]"
     ]
    },
    {
     "name": "stdout",
     "output_type": "stream",
     "text": [
      "Sentence: 3.4. \n",
      "Citations: []\n",
      "=====\n"
     ]
    },
    {
     "name": "stderr",
     "output_type": "stream",
     "text": [
      " 76%|███████▌  | 453/600 [52:42<3:47:32, 92.87s/it] "
     ]
    },
    {
     "name": "stdout",
     "output_type": "stream",
     "text": [
      "Sentence: The Most Luminous Clusters The most X-ray luminous cluster known, RXJ 1347-1145 with a bolometric X-ray luminosity of 10 46 erg s −1 , is a cool core cluster, as are many other highly luminous clusters (e.g., A1835, Zw 3146, RXCJ 1504.1-0248, and several MACS clusters; Hlavacek-Larrondo et al. 2012 ). \n",
      "Citations: [('Hlavacek-Larrondo', 2012)]\n",
      "=====\n"
     ]
    },
    {
     "name": "stderr",
     "output_type": "stream",
     "text": [
      " 76%|███████▌  | 454/600 [52:44<2:39:09, 65.41s/it]"
     ]
    },
    {
     "name": "stdout",
     "output_type": "stream",
     "text": [
      "Sentence: The feedback power in these objects exceeds 10 45 erg s −1 and is comparable to the output of a quasar, yet their nuclei are not exceptionally bright. \n",
      "Citations: []\n",
      "=====\n"
     ]
    },
    {
     "name": "stderr",
     "output_type": "stream",
     "text": [
      " 76%|███████▌  | 455/600 [52:45<1:51:35, 46.18s/it]"
     ]
    },
    {
     "name": "stdout",
     "output_type": "stream",
     "text": [
      "Sentence: Much of the energy flow is essentially invisible. \n",
      "Citations: []\n",
      "=====\n"
     ]
    },
    {
     "name": "stderr",
     "output_type": "stream",
     "text": [
      " 76%|███████▌  | 456/600 [52:46<1:18:31, 32.72s/it]"
     ]
    },
    {
     "name": "stdout",
     "output_type": "stream",
     "text": [
      "Sentence: These objects are remarkably radiatively inefficient in the accretion flow, the jet acceleration process, and the jets themselves. \n",
      "Citations: []\n",
      "=====\n"
     ]
    },
    {
     "name": "stderr",
     "output_type": "stream",
     "text": [
      " 76%|███████▌  | 457/600 [52:48<55:51, 23.44s/it]  "
     ]
    },
    {
     "name": "stdout",
     "output_type": "stream",
     "text": [
      "Sentence: In order for the accretion flow to be so inefficient, they probably have to operate in the ADAF regime, which requires the accretion rate to be less than about 1% of the Eddington rate. \n",
      "Citations: []\n",
      "=====\n"
     ]
    },
    {
     "name": "stderr",
     "output_type": "stream",
     "text": [
      " 76%|███████▋  | 458/600 [52:51<41:11, 17.41s/it]"
     ]
    },
    {
     "name": "stdout",
     "output_type": "stream",
     "text": [
      "Sentence: This, in turn, implies that the central black holes are ultramassive, well exceeding 10 10 M ⊙ ( Hlavacek-Larrondo et al. 2011 ). \n",
      "Citations: [('Hlavacek-Larrondo', 2011)]\n",
      "=====\n"
     ]
    },
    {
     "name": "stderr",
     "output_type": "stream",
     "text": [
      " 76%|███████▋  | 459/600 [52:53<29:34, 12.58s/it]"
     ]
    },
    {
     "name": "stdout",
     "output_type": "stream",
     "text": [
      "Sentence: Because the Bondi accretion rate scales as the black hole mass squared, such high masses may make Bondi accretion feasible in even the most luminous objects. \n",
      "Citations: []\n",
      "=====\n"
     ]
    },
    {
     "name": "stderr",
     "output_type": "stream",
     "text": [
      " 77%|███████▋  | 460/600 [52:54<21:48,  9.35s/it]"
     ]
    },
    {
     "name": "stdout",
     "output_type": "stream",
     "text": [
      "Sentence: also scales inversely as the temperature of the gas at the Bondi radius to the power 2.5 (for a given pressure), so some lower temperature gas (e.g., at 0.5 keV) associated with a weak cooling flow below 1 keV can boost the rate further. \n",
      "Citations: []\n",
      "=====\n"
     ]
    },
    {
     "name": "stderr",
     "output_type": "stream",
     "text": [
      " 77%|███████▋  | 461/600 [52:59<18:18,  7.90s/it]"
     ]
    },
    {
     "name": "stdout",
     "output_type": "stream",
     "text": [
      "Sentence: As well as A1835 mentioned earlier, both RXCJ 1504.1-0248 ( Ogrean et al. 2010 ) and MACS 1931.8-2634 ( Ehlert et al. 2011 ) have 100–200M ⊙ year −1 of star formation, as deduced from the copious excess blue light seen. \n",
      "Citations: [('Ogrean', 2010), ('Ehlert', 2011)]\n",
      "=====\n"
     ]
    },
    {
     "name": "stderr",
     "output_type": "stream",
     "text": [
      " 77%|███████▋  | 462/600 [53:00<13:38,  5.93s/it]"
     ]
    },
    {
     "name": "stdout",
     "output_type": "stream",
     "text": [
      "Sentence: The behavior of feedback in these luminous clusters appears similar to that in more typical clusters that are one or two orders of magnitude less luminous, meaning that the processes involved are robust. \n",
      "Citations: []\n",
      "=====\n"
     ]
    },
    {
     "name": "stderr",
     "output_type": "stream",
     "text": [
      " 77%|███████▋  | 463/600 [53:02<10:23,  4.55s/it]"
     ]
    },
    {
     "name": "stdout",
     "output_type": "stream",
     "text": [
      "Sentence: Without any feedback, radiative cooling would lead to mass cooling rates of thousands of M ⊙ year −1 in these objects. \n",
      "Citations: []\n",
      "=====\n"
     ]
    },
    {
     "name": "stderr",
     "output_type": "stream",
     "text": [
      " 77%|███████▋  | 464/600 [53:02<07:47,  3.44s/it]"
     ]
    },
    {
     "name": "stdout",
     "output_type": "stream",
     "text": [
      "Sentence: 3.5. \n",
      "Citations: []\n",
      "=====\n"
     ]
    },
    {
     "name": "stderr",
     "output_type": "stream",
     "text": [
      " 78%|███████▊  | 465/600 [53:04<06:37,  2.94s/it]"
     ]
    },
    {
     "name": "stdout",
     "output_type": "stream",
     "text": [
      "Sentence: Hot Gas in Groups and Elliptical Galaxies Dropping in X-ray luminosity by 3–4 orders of magnitude from the most luminous clusters are elliptical-dominated groups of galaxies, and about an order of magnitude lower are individual elliptical galaxies. \n",
      "Citations: []\n",
      "=====\n"
     ]
    },
    {
     "name": "stderr",
     "output_type": "stream",
     "text": [
      " 78%|███████▊  | 466/600 [53:06<05:29,  2.46s/it]"
     ]
    },
    {
     "name": "stdout",
     "output_type": "stream",
     "text": [
      "Sentence: Feedback can be seen operating in many of them. \n",
      "Citations: []\n",
      "=====\n"
     ]
    },
    {
     "name": "stderr",
     "output_type": "stream",
     "text": [
      " 78%|███████▊  | 467/600 [53:10<06:28,  2.92s/it]"
     ]
    },
    {
     "name": "stdout",
     "output_type": "stream",
     "text": [
      "Sentence: Most X-ray luminous groups have cool cores with short central radiative cooling times (1 Gyr) and low central entropy ( Rasmussen Ponman 2009 , Sun et al. 2009 ). \n",
      "Citations: [('Rasmussen Ponman', 2009), ('Sun', 2009)]\n",
      "=====\n"
     ]
    },
    {
     "name": "stderr",
     "output_type": "stream",
     "text": [
      " 78%|███████▊  | 468/600 [53:11<05:22,  2.44s/it]"
     ]
    },
    {
     "name": "stdout",
     "output_type": "stream",
     "text": [
      "Sentence: A full range of bubbling behavior is seen in these objects (see, e.g., Figure 4 ). \n",
      "Citations: []\n",
      "=====\n"
     ]
    },
    {
     "name": "stderr",
     "output_type": "stream",
     "text": [
      " 78%|███████▊  | 469/600 [53:13<05:16,  2.42s/it]"
     ]
    },
    {
     "name": "stdout",
     "output_type": "stream",
     "text": [
      "Sentence: Nulsen et al. (2007) study a sample of 104 elliptical galaxies with diffuse X-ray emission and find cavities in 24. \n",
      "Citations: [('Nulsen', 2007)]\n",
      "=====\n"
     ]
    },
    {
     "name": "stderr",
     "output_type": "stream",
     "text": [
      " 78%|███████▊  | 470/600 [53:15<04:31,  2.09s/it]"
     ]
    },
    {
     "name": "stdout",
     "output_type": "stream",
     "text": [
      "Sentence: Most of the objects with cavities appear to have a heat input well in excess of their cooling luminosity ( Figure 5 ). \n",
      "Citations: []\n",
      "=====\n"
     ]
    },
    {
     "name": "stderr",
     "output_type": "stream",
     "text": [
      " 78%|███████▊  | 471/600 [53:16<04:00,  1.86s/it]"
     ]
    },
    {
     "name": "stdout",
     "output_type": "stream",
     "text": [
      "Sentence: These researchers suggest that the duty cycle of bubbling is then low, at around 25%, which is a sharp drop from the situation in clusters and groups. \n",
      "Citations: []\n",
      "=====\n"
     ]
    },
    {
     "name": "stderr",
     "output_type": "stream",
     "text": [
      " 79%|███████▊  | 472/600 [53:17<03:37,  1.70s/it]"
     ]
    },
    {
     "name": "stdout",
     "output_type": "stream",
     "text": [
      "Sentence: At face value, this indicates that the duty cycle of bubbling drops with luminosity below the high value (∼100%) in groups and clusters. \n",
      "Citations: []\n",
      "=====\n"
     ]
    },
    {
     "name": "stderr",
     "output_type": "stream",
     "text": [
      " 79%|███████▉  | 473/600 [53:19<03:39,  1.73s/it]"
     ]
    },
    {
     "name": "stdout",
     "output_type": "stream",
     "text": [
      "Sentence: Bubble merging, if it occurs, could explain the higher power inferred from this sample, but does not explain why no bubbling is detected at all in some objects, although some of the selection effects mentioned below may be relevant. \n",
      "Citations: []\n",
      "=====\n"
     ]
    },
    {
     "name": "stderr",
     "output_type": "stream",
     "text": [
      " 79%|███████▉  | 474/600 [53:23<05:08,  2.45s/it]"
     ]
    },
    {
     "name": "stdout",
     "output_type": "stream",
     "text": [
      "Sentence: Diehl Statler (2008) , in a study of Chandra X-ray data of 54 elliptical galaxies, report that the gas is almost always asymmetrically disturbed and that this correlates with X-ray and radio measures of AGN activity. \n",
      "Citations: [('Diehl Statler', 2008)]\n",
      "=====\n"
     ]
    },
    {
     "name": "stderr",
     "output_type": "stream",
     "text": [
      " 79%|███████▉  | 475/600 [53:51<21:02, 10.10s/it]"
     ]
    },
    {
     "name": "stdout",
     "output_type": "stream",
     "text": [
      "Sentence: More work is needed to explore all that is happening here and to firmly decide whether the activity scales simply with host mass and luminosity or not. \n",
      "Citations: []\n",
      "=====\n"
     ]
    },
    {
     "name": "stderr",
     "output_type": "stream",
     "text": [
      " 79%|███████▉  | 476/600 [53:55<16:55,  8.19s/it]"
     ]
    },
    {
     "name": "stdout",
     "output_type": "stream",
     "text": [
      "Sentence: Several selection effects become important for the detection of low-power bubble activity in lower mass galaxies, including ( a ) bubble size: Small bubbles will be hard to resolve, even using the subarcsecond resolution of Chandra , ( b ) low X-ray surface brightness: This can range from many tens of counts per pixel in a long observation of a bright cluster to just a few counts per pixel in a typical observation of an elliptical galaxy—so distinguishing a 10–20% drop over a small number of pixels is difficult, ( c ) low-mass X-ray binaries: These produce a mess of point sources in elliptical galaxies that need to be removed in order to distinguish the hot gas emission, and ( d ) the gas temperature: This will be lower in lower mass objects, shifting the bulk of the emission from hot gas to below the Chandra window (effectively 0.5–7 keV). \n",
      "Citations: []\n",
      "=====\n"
     ]
    },
    {
     "name": "stderr",
     "output_type": "stream",
     "text": [
      " 80%|███████▉  | 477/600 [53:58<13:49,  6.74s/it]"
     ]
    },
    {
     "name": "stdout",
     "output_type": "stream",
     "text": [
      "Sentence: Finally, the increasing onset of line radiation makes the cooling function rise steeply from 10 7 to 10 6 K, making it difficult to stably heat and maintain a static atmosphere below 10 7 K. As an example, consider the elliptical galaxy NGC 720, for which the temperature, gas mass, and cooling time profiles are shown in Figure 2 (from Humphrey et al. 2011 ). \n",
      "Citations: [('Humphrey', 2011)]\n",
      "=====\n"
     ]
    },
    {
     "name": "stderr",
     "output_type": "stream",
     "text": [
      " 80%|███████▉  | 478/600 [54:00<10:24,  5.12s/it]"
     ]
    },
    {
     "name": "stdout",
     "output_type": "stream",
     "text": [
      "Sentence: It shows no clear central activity beyond a weak radio source. \n",
      "Citations: []\n",
      "=====\n"
     ]
    },
    {
     "name": "stderr",
     "output_type": "stream",
     "text": [
      " 80%|███████▉  | 479/600 [54:01<08:01,  3.98s/it]"
     ]
    },
    {
     "name": "stdout",
     "output_type": "stream",
     "text": [
      "Sentence: Bubble size scales roughly as L 0.5 cool and should be approximately 200 pc in radius (∼2 arcsec) for NGC 720. \n",
      "Citations: []\n",
      "=====\n"
     ]
    },
    {
     "name": "stderr",
     "output_type": "stream",
     "text": [
      " 80%|████████  | 480/600 [54:02<06:22,  3.18s/it]"
     ]
    },
    {
     "name": "stdout",
     "output_type": "stream",
     "text": [
      "Sentence: The current Chandra data on this galaxy, which is of low surface brightness, cannot constrain the presence of bubbles of that size. \n",
      "Citations: []\n",
      "=====\n"
     ]
    },
    {
     "name": "stderr",
     "output_type": "stream",
     "text": [
      " 80%|████████  | 481/600 [54:04<05:12,  2.62s/it]"
     ]
    },
    {
     "name": "stdout",
     "output_type": "stream",
     "text": [
      "Sentence: Kinetic AGN feedback may operate in any object with a hot extended corona. \n",
      "Citations: []\n",
      "=====\n"
     ]
    },
    {
     "name": "stderr",
     "output_type": "stream",
     "text": [
      " 80%|████████  | 482/600 [54:05<04:23,  2.23s/it]"
     ]
    },
    {
     "name": "stdout",
     "output_type": "stream",
     "text": [
      "Sentence: Whether there is a lower cutoff in galaxy mass to such a corona is not yet clear. \n",
      "Citations: []\n",
      "=====\n"
     ]
    },
    {
     "name": "stderr",
     "output_type": "stream",
     "text": [
      " 80%|████████  | 483/600 [54:07<04:26,  2.28s/it]"
     ]
    },
    {
     "name": "stdout",
     "output_type": "stream",
     "text": [
      "Sentence: Mulchaey Jeltema (2010) find that elliptical field galaxies with IR luminosity L K L ∗ are mostly devoid of hot gas. \n",
      "Citations: []\n",
      "=====\n"
     ]
    },
    {
     "name": "stderr",
     "output_type": "stream",
     "text": [
      " 81%|████████  | 484/600 [54:09<04:09,  2.15s/it]"
     ]
    },
    {
     "name": "stdout",
     "output_type": "stream",
     "text": [
      "Sentence: Most extended soft X-ray emission seen from lower mass galaxies and spiral galaxies has been attributed to a galactic fountain or outflow. \n",
      "Citations: []\n",
      "=====\n"
     ]
    },
    {
     "name": "stderr",
     "output_type": "stream",
     "text": [
      " 81%|████████  | 485/600 [54:14<05:29,  2.87s/it]"
     ]
    },
    {
     "name": "stdout",
     "output_type": "stream",
     "text": [
      "Sentence: Anderson Bregman (2011 , p. 1) state that “no hot halo has been detected around a disk galaxy out to a radius of more than a few kpc” before reporting the detection of 40-kpc extended emission, interpreted as a hot halo, around the massive spiral galaxy NGC 1961. \n",
      "Citations: []\n",
      "=====\n"
     ]
    },
    {
     "name": "stderr",
     "output_type": "stream",
     "text": [
      " 81%|████████  | 486/600 [54:15<04:33,  2.40s/it]"
     ]
    },
    {
     "name": "stdout",
     "output_type": "stream",
     "text": [
      "Sentence: Mass could be the important criterion here. \n",
      "Citations: []\n",
      "=====\n"
     ]
    },
    {
     "name": "stderr",
     "output_type": "stream",
     "text": [
      " 81%|████████  | 487/600 [54:20<06:15,  3.32s/it]"
     ]
    },
    {
     "name": "stdout",
     "output_type": "stream",
     "text": [
      "Sentence: Recent detailed work using Hubble Space Telescope surface photometry ( Kormendy et al. 2009 ) and integral-field spectroscopy (Spectroscopic Areal Unit for Research on Optical Nebulae; Davies 2011 , and references therein) is changing our picture of the internal structure of elliptical galaxies. \n",
      "Citations: [('Kormendy', 2009), ('Davies', 2011)]\n",
      "=====\n"
     ]
    },
    {
     "name": "stderr",
     "output_type": "stream",
     "text": [
      " 81%|████████▏ | 488/600 [54:22<05:26,  2.91s/it]"
     ]
    },
    {
     "name": "stdout",
     "output_type": "stream",
     "text": [
      "Sentence: X-ray-emitting gas is common in the massive, slowly rotating ellipticals with inner cores. \n",
      "Citations: []\n",
      "=====\n"
     ]
    },
    {
     "name": "stderr",
     "output_type": "stream",
     "text": [
      " 82%|████████▏ | 489/600 [54:25<05:09,  2.79s/it]"
     ]
    },
    {
     "name": "stdout",
     "output_type": "stream",
     "text": [
      "Sentence: AGN feedback acting in maintenance mode keeps much of the hot gas from cooling ( Kormendy et al. 2009 ). \n",
      "Citations: [('Kormendy', 2009)]\n",
      "=====\n"
     ]
    },
    {
     "name": "stderr",
     "output_type": "stream",
     "text": [
      " 82%|████████▏ | 490/600 [54:26<04:18,  2.35s/it]"
     ]
    },
    {
     "name": "stdout",
     "output_type": "stream",
     "text": [
      "Sentence: The situation for the less massive, normal ellipticals, which show excess light in the core and are rotating and disky, is less clear, as is the origin of the structural differences. \n",
      "Citations: []\n",
      "=====\n"
     ]
    },
    {
     "name": "stderr",
     "output_type": "stream",
     "text": [
      " 82%|████████▏ | 491/600 [54:27<03:42,  2.04s/it]"
     ]
    },
    {
     "name": "stdout",
     "output_type": "stream",
     "text": [
      "Sentence: The above selection effects may be relevant here. \n",
      "Citations: []\n",
      "=====\n"
     ]
    },
    {
     "name": "stderr",
     "output_type": "stream",
     "text": [
      " 82%|████████▏ | 492/600 [54:29<03:17,  1.83s/it]"
     ]
    },
    {
     "name": "stdout",
     "output_type": "stream",
     "text": [
      "Sentence: Many elliptical galaxies orbit in the cores of groups and clusters of galaxies where extensive gaseous haloes have been ram-pressure stripped away. \n",
      "Citations: []\n",
      "=====\n"
     ]
    },
    {
     "name": "stderr",
     "output_type": "stream",
     "text": [
      " 82%|████████▏ | 493/600 [54:33<04:19,  2.42s/it]"
     ]
    },
    {
     "name": "stdout",
     "output_type": "stream",
     "text": [
      "Sentence: These objects do have weak central X-ray nuclei with 10 38 L X 10 40 erg s −1 ( Santra, Sanders Fabian 2007 ; Gallo et al. 2008 ). \n",
      "Citations: [('Santra', 2007), ('Gallo', 2008)]\n",
      "=====\n"
     ]
    },
    {
     "name": "stderr",
     "output_type": "stream",
     "text": [
      " 82%|████████▏ | 494/600 [54:39<06:09,  3.49s/it]"
     ]
    },
    {
     "name": "stdout",
     "output_type": "stream",
     "text": [
      "Sentence: An interesting subset of these possess a minicorona, which is a sharp-edged puddle of gas at the galaxy's virial temperature ( kT ∼1 keV) with a radius of 1–3 kpc ( Vikhlinin et al. 2001 ; Santra, Sanders Fabian 2007 ; Sun et al. 2007 ). \n",
      "Citations: [('Vikhlinin', 2001), ('Santra', 2007), ('Sun', 2007)]\n",
      "=====\n"
     ]
    },
    {
     "name": "stderr",
     "output_type": "stream",
     "text": [
      " 82%|████████▎ | 495/600 [54:40<05:01,  2.87s/it]"
     ]
    },
    {
     "name": "stdout",
     "output_type": "stream",
     "text": [
      "Sentence: The minicorona gas probably originates as stellar mass loss. \n",
      "Citations: []\n",
      "=====\n"
     ]
    },
    {
     "name": "stderr",
     "output_type": "stream",
     "text": [
      " 83%|████████▎ | 496/600 [54:43<05:10,  2.98s/it]"
     ]
    },
    {
     "name": "stdout",
     "output_type": "stream",
     "text": [
      "Sentence: The Bondi accretion radius is resolved in Chandra X-ray images of some of the nearest objects, such as M87 ( Di Matteo et al. 2003 ), enabling the temperature and density profiles to be estimated and, thus, the accretion rate to be determined. \n",
      "Citations: [('Di Matteo', 2003)]\n",
      "=====\n"
     ]
    },
    {
     "name": "stderr",
     "output_type": "stream",
     "text": [
      " 83%|████████▎ | 497/600 [54:45<04:19,  2.52s/it]"
     ]
    },
    {
     "name": "stdout",
     "output_type": "stream",
     "text": [
      "Sentence: For other nearby elliptical galaxies, the density and temperature profiles can be extrapolated inward from measurements made in the inner 1 kpc. \n",
      "Citations: []\n",
      "=====\n"
     ]
    },
    {
     "name": "stderr",
     "output_type": "stream",
     "text": [
      " 83%|████████▎ | 498/600 [54:47<04:12,  2.47s/it]"
     ]
    },
    {
     "name": "stdout",
     "output_type": "stream",
     "text": [
      "Sentence: Allen et al. (2006) have studied a sample in which the kinetic power can be estimated from bubbles and compare this with the Bondi accretion rate. \n",
      "Citations: [('Allen', 2006)]\n",
      "=====\n"
     ]
    },
    {
     "name": "stderr",
     "output_type": "stream",
     "text": [
      " 83%|████████▎ | 499/600 [1:11:21<8:24:58, 299.99s/it]"
     ]
    },
    {
     "name": "stdout",
     "output_type": "stream",
     "text": [
      "Sentence: A correlation emerges indicating that a few percent of the rest mass energy of the accretion flow is released as mechanical energy in the jets. \n",
      "Citations: []\n",
      "=====\n"
     ]
    },
    {
     "name": "stderr",
     "output_type": "stream",
     "text": [
      " 83%|████████▎ | 500/600 [1:11:22<5:50:24, 210.24s/it]"
     ]
    },
    {
     "name": "stdout",
     "output_type": "stream",
     "text": [
      "Sentence: 3.6. \n",
      "Citations: []\n",
      "=====\n"
     ]
    },
    {
     "name": "stderr",
     "output_type": "stream",
     "text": [
      " 84%|████████▎ | 501/600 [1:11:24<4:03:30, 147.58s/it]"
     ]
    },
    {
     "name": "stdout",
     "output_type": "stream",
     "text": [
      "Sentence: The Kinetic Luminosity Function Luminosity functions of the power radiated by quasars and AGN in general can be readily made from careful observations of large samples of objects. \n",
      "Citations: []\n",
      "=====\n"
     ]
    },
    {
     "name": "stderr",
     "output_type": "stream",
     "text": [
      " 84%|████████▎ | 502/600 [1:11:25<2:49:22, 103.70s/it]"
     ]
    },
    {
     "name": "stdout",
     "output_type": "stream",
     "text": [
      "Sentence: Less straightforward is to compile a kinetic luminosity function. \n",
      "Citations: []\n",
      "=====\n"
     ]
    },
    {
     "name": "stderr",
     "output_type": "stream",
     "text": [
      " 84%|████████▍ | 503/600 [1:11:29<1:59:28, 73.90s/it] "
     ]
    },
    {
     "name": "stdout",
     "output_type": "stream",
     "text": [
      "Sentence: It has been done, however, by Merloni Heinz (2008) and Cattaneo Best (2009) . \n",
      "Citations: [('Merloni Heinz', 2008), ('Cattaneo Best', 2009)]\n",
      "=====\n"
     ]
    },
    {
     "name": "stderr",
     "output_type": "stream",
     "text": [
      " 84%|████████▍ | 504/600 [1:11:31<1:23:26, 52.15s/it]"
     ]
    },
    {
     "name": "stdout",
     "output_type": "stream",
     "text": [
      "Sentence: The accretion history is inferred from the radiant luminosity functions, and some assumption is made connecting that to the kinetic power history. \n",
      "Citations: []\n",
      "=====\n"
     ]
    },
    {
     "name": "stderr",
     "output_type": "stream",
     "text": [
      " 84%|████████▍ | 505/600 [1:11:32<58:25, 36.90s/it]  "
     ]
    },
    {
     "name": "stdout",
     "output_type": "stream",
     "text": [
      "Sentence: The mass function of black holes provides an integrated check on accreted mass. \n",
      "Citations: []\n",
      "=====\n"
     ]
    },
    {
     "name": "stderr",
     "output_type": "stream",
     "text": [
      " 84%|████████▍ | 506/600 [1:11:34<41:18, 26.37s/it]"
     ]
    },
    {
     "name": "stdout",
     "output_type": "stream",
     "text": [
      "Sentence: To relate the kinetic and radiated power, a typical scheme might be to assume that above about 1% of Eddington luminosity, the accretion flow is mainly radiatively efficient, with a probability (say, 10%) that jets are also present. \n",
      "Citations: []\n",
      "=====\n"
     ]
    },
    {
     "name": "stderr",
     "output_type": "stream",
     "text": [
      " 84%|████████▍ | 507/600 [1:11:35<29:13, 18.86s/it]"
     ]
    },
    {
     "name": "stdout",
     "output_type": "stream",
     "text": [
      "Sentence: Below that luminosity, the flow is advection-dominated so the radiated power drops as the square of the accretion rate, with the bulk being kinetic power carried by jets. \n",
      "Citations: []\n",
      "=====\n"
     ]
    },
    {
     "name": "stderr",
     "output_type": "stream",
     "text": [
      " 85%|████████▍ | 508/600 [1:11:36<20:50, 13.60s/it]"
     ]
    },
    {
     "name": "stdout",
     "output_type": "stream",
     "text": [
      "Sentence: The net result of these calculations is that about half a percent of the accretion power emerges as kinetic energy. \n",
      "Citations: []\n",
      "=====\n"
     ]
    },
    {
     "name": "stderr",
     "output_type": "stream",
     "text": [
      " 85%|████████▍ | 509/600 [1:11:40<15:53, 10.48s/it]"
     ]
    },
    {
     "name": "stdout",
     "output_type": "stream",
     "text": [
      "Sentence: 4. BARYON PROFILES AT DIFFERENT MASS SCALES AND ACTIVE GALACTIC NUCLEI FEEDBACK Early predictions for the relationship between the X-ray luminosity and temperature of intracluster gas indicated L ∝ T 2 , based on gas falling into dark matter potential wells of different total masses ( Kaiser 1986 ). \n",
      "Citations: [('Kaiser', 1986)]\n",
      "=====\n"
     ]
    },
    {
     "name": "stderr",
     "output_type": "stream",
     "text": [
      " 85%|████████▌ | 510/600 [1:11:41<11:35,  7.73s/it]"
     ]
    },
    {
     "name": "stdout",
     "output_type": "stream",
     "text": [
      "Sentence: This is the pure gravity prediction. \n",
      "Citations: []\n",
      "=====\n"
     ]
    },
    {
     "name": "stderr",
     "output_type": "stream",
     "text": [
      " 85%|████████▌ | 511/600 [1:11:44<09:23,  6.33s/it]"
     ]
    },
    {
     "name": "stdout",
     "output_type": "stream",
     "text": [
      "Sentence: Observations show otherwise with a relation closer to L ∝ T 2.7 for clusters with temperatures in the range of 3.5–10 keV ( Markevitch 1998 ). \n",
      "Citations: [('Markevitch', 1998)]\n",
      "=====\n"
     ]
    },
    {
     "name": "stderr",
     "output_type": "stream",
     "text": [
      " 85%|████████▌ | 512/600 [1:11:45<07:04,  4.82s/it]"
     ]
    },
    {
     "name": "stdout",
     "output_type": "stream",
     "text": [
      "Sentence: It may flatten toward the gravity prediction at higher temperatures. \n",
      "Citations: []\n",
      "=====\n"
     ]
    },
    {
     "name": "stderr",
     "output_type": "stream",
     "text": [
      " 86%|████████▌ | 513/600 [1:11:47<05:28,  3.77s/it]"
     ]
    },
    {
     "name": "stdout",
     "output_type": "stream",
     "text": [
      "Sentence: Below about 2 keV, there appears to be a large spread in the luminosity at a given temperature. \n",
      "Citations: []\n",
      "=====\n"
     ]
    },
    {
     "name": "stderr",
     "output_type": "stream",
     "text": [
      " 86%|████████▌ | 514/600 [1:11:47<04:08,  2.89s/it]"
     ]
    },
    {
     "name": "stdout",
     "output_type": "stream",
     "text": [
      "Sentence: Some extra energy is required. \n",
      "Citations: []\n",
      "=====\n"
     ]
    },
    {
     "name": "stderr",
     "output_type": "stream",
     "text": [
      " 86%|████████▌ | 515/600 [1:11:52<04:57,  3.49s/it]"
     ]
    },
    {
     "name": "stdout",
     "output_type": "stream",
     "text": [
      "Sentence: The most likely source of the energy to heat groups is AGN ( Valageas Silk 1999 ; Wu, Fabian Nulsen 2000 ; McCarthy et al. 2011 ). \n",
      "Citations: [('Valageas', 1999), ('Wu', 2000), ('McCarthy', 2011)]\n",
      "=====\n"
     ]
    },
    {
     "name": "stderr",
     "output_type": "stream",
     "text": [
      " 86%|████████▌ | 516/600 [1:11:54<03:58,  2.84s/it]"
     ]
    },
    {
     "name": "stdout",
     "output_type": "stream",
     "text": [
      "Sentence: A significant fraction of the total power from all the black holes within a cluster or group is required here, not just that from the central galaxy. \n",
      "Citations: []\n",
      "=====\n"
     ]
    },
    {
     "name": "stderr",
     "output_type": "stream",
     "text": [
      " 86%|████████▌ | 517/600 [1:11:58<04:24,  3.19s/it]"
     ]
    },
    {
     "name": "stdout",
     "output_type": "stream",
     "text": [
      "Sentence: The gas fraction (baryon mass versus total mass) rises outward in clusters and approaches the cosmic value toward the virial radius (e.g., Allen et al. 2008 ; Vikhlinin et al. 2006 ). \n",
      "Citations: [('Allen', 2008), ('Vikhlinin', 2006)]\n",
      "=====\n"
     ]
    },
    {
     "name": "stderr",
     "output_type": "stream",
     "text": [
      " 86%|████████▋ | 518/600 [1:11:59<03:35,  2.63s/it]"
     ]
    },
    {
     "name": "stdout",
     "output_type": "stream",
     "text": [
      "Sentence: Lower temperature clusters and groups have lower gas fractions in the core, which indicates significant energy injection. \n",
      "Citations: []\n",
      "=====\n"
     ]
    },
    {
     "name": "stderr",
     "output_type": "stream",
     "text": [
      " 86%|████████▋ | 519/600 [1:12:02<03:37,  2.69s/it]"
     ]
    },
    {
     "name": "stdout",
     "output_type": "stream",
     "text": [
      "Sentence: Gonzalez, Zaritsky Zabludoff (2007) find an increasing stellar fraction with decreasing group/cluster mass, peaking below 10 14 M ⊙ , where stellar and gas masses are equal. \n",
      "Citations: [('Gonzalez', 2007)]\n",
      "=====\n"
     ]
    },
    {
     "name": "stderr",
     "output_type": "stream",
     "text": [
      " 87%|████████▋ | 520/600 [1:12:06<04:06,  3.08s/it]"
     ]
    },
    {
     "name": "stdout",
     "output_type": "stream",
     "text": [
      "Sentence: The trend is confirmed by later studies (e.g., Giodini et al. 2009 ) but with a reduced stellar contribution (see Balogh et al. 2008 for theoretical limits on the stellar contribution). \n",
      "Citations: [('Giodini', 2009), ('Balogh', 2008)]\n",
      "=====\n"
     ]
    },
    {
     "name": "stderr",
     "output_type": "stream",
     "text": [
      " 87%|████████▋ | 521/600 [1:12:08<03:46,  2.86s/it]"
     ]
    },
    {
     "name": "stdout",
     "output_type": "stream",
     "text": [
      "Sentence: They also approach the cosmic value at the virial radius ( Humphrey et al. 2012 ). \n",
      "Citations: [('Humphrey', 2012)]\n",
      "=====\n"
     ]
    },
    {
     "name": "stderr",
     "output_type": "stream",
     "text": [
      " 87%|████████▋ | 522/600 [1:12:10<03:13,  2.48s/it]"
     ]
    },
    {
     "name": "stdout",
     "output_type": "stream",
     "text": [
      "Sentence: Putting energy into intracluster or intragroup gas causes the gas to expand, reducing its density by a much larger factor than the temperature rises and thus reducing its X-ray luminosity. \n",
      "Citations: []\n",
      "=====\n"
     ]
    },
    {
     "name": "stderr",
     "output_type": "stream",
     "text": [
      " 87%|████████▋ | 523/600 [1:16:02<1:31:46, 71.52s/it]"
     ]
    },
    {
     "name": "stdout",
     "output_type": "stream",
     "text": [
      "Sentence: Just how much energy has been injected depends upon when it happened. \n",
      "Citations: []\n",
      "=====\n"
     ]
    },
    {
     "name": "stderr",
     "output_type": "stream",
     "text": [
      " 87%|████████▋ | 524/600 [1:16:06<1:04:50, 51.19s/it]"
     ]
    },
    {
     "name": "stdout",
     "output_type": "stream",
     "text": [
      "Sentence: If the injection was after the group or cluster was formed, then about 1–3 keV per nucleon is required ( Wu, Fabian Nulsen 2000 ; Lapi, Cavaliere Menci 2005 ), which clearly will have a major impact on low-temperature clusters and groups. \n",
      "Citations: [('Wu', 2000), ('Lapi', 2005)]\n",
      "=====\n"
     ]
    },
    {
     "name": "stderr",
     "output_type": "stream",
     "text": [
      " 88%|████████▊ | 525/600 [1:16:08<45:27, 36.37s/it]  "
     ]
    },
    {
     "name": "stdout",
     "output_type": "stream",
     "text": [
      "Sentence: Less is required if it was injected early into gas that later fell into the cluster, because raising the adiabat (increasing the entropy) means that the gas is more difficult to compress. \n",
      "Citations: []\n",
      "=====\n"
     ]
    },
    {
     "name": "stderr",
     "output_type": "stream",
     "text": [
      " 88%|████████▊ | 526/600 [1:16:12<32:52, 26.66s/it]"
     ]
    },
    {
     "name": "stdout",
     "output_type": "stream",
     "text": [
      "Sentence: These possibilities can be discriminated against by comparing the gas mass fraction at a fiducial radius (e.g., R 500 ; Vikhlinin et al. 2006 , Dai et al. 2010 ) as a function of mass and redshift. \n",
      "Citations: [('Vikhlinin', 2006), ('Dai', 2010)]\n",
      "=====\n"
     ]
    },
    {
     "name": "stderr",
     "output_type": "stream",
     "text": [
      " 88%|████████▊ | 527/600 [1:16:14<23:28, 19.29s/it]"
     ]
    },
    {
     "name": "stdout",
     "output_type": "stream",
     "text": [
      "Sentence: Young et al. (2011) find from this approach that continual feedback is preferable to preheating. \n",
      "Citations: [('Young', 2011)]\n",
      "=====\n"
     ]
    },
    {
     "name": "stderr",
     "output_type": "stream",
     "text": [
      " 88%|████████▊ | 528/600 [1:16:15<16:30, 13.75s/it]"
     ]
    },
    {
     "name": "stdout",
     "output_type": "stream",
     "text": [
      "Sentence: 4.1. \n",
      "Citations: []\n",
      "=====\n"
     ]
    },
    {
     "name": "stderr",
     "output_type": "stream",
     "text": [
      " 88%|████████▊ | 529/600 [1:16:17<12:19, 10.41s/it]"
     ]
    },
    {
     "name": "stdout",
     "output_type": "stream",
     "text": [
      "Sentence: Powerful Radio Galaxies Powerful radio galaxies were relatively common at high redshifts above z ∼ 1 ( Miley De Breuck 2008 ). \n",
      "Citations: [('Miley De Breuck', 2008)]\n",
      "=====\n"
     ]
    },
    {
     "name": "stderr",
     "output_type": "stream",
     "text": [
      " 88%|████████▊ | 530/600 [1:16:21<09:46,  8.38s/it]"
     ]
    },
    {
     "name": "stdout",
     "output_type": "stream",
     "text": [
      "Sentence: These Fanaroff-Riley Class II objects have lobes that extend many hundreds of kiloparsecs from the active nucleus and, due to extensive losses (synchrotron cooling, adiabatic expansion, and inverse Compton scattering on the cosmic microwave background), are only readily observed in the radio band when they are young ( Blundell Rawlings 1999 ). \n",
      "Citations: [('Blundell Rawlings', 1999)]\n",
      "=====\n"
     ]
    },
    {
     "name": "stderr",
     "output_type": "stream",
     "text": [
      " 88%|████████▊ | 531/600 [1:16:24<07:43,  6.71s/it]"
     ]
    },
    {
     "name": "stdout",
     "output_type": "stream",
     "text": [
      "Sentence: The lobe energies estimated from radio and X-ray ( Erlund et al. 2006 ) observations are high, ranging from 10 60 –10 62+ erg with a large uncertainty in the energy stored in protons, which should increase the total energy. \n",
      "Citations: [('Erlund', 2006)]\n",
      "=====\n"
     ]
    },
    {
     "name": "stderr",
     "output_type": "stream",
     "text": [
      " 89%|████████▊ | 532/600 [1:16:26<06:06,  5.39s/it]"
     ]
    },
    {
     "name": "stdout",
     "output_type": "stream",
     "text": [
      "Sentence: Given that the thermal energy content of the gas in a small group of total mass 5×10 13 M ⊙ is about 10 61 erg, [ E th =2×10 61 ( M gas /5×10 12 M ⊙ ) ( kT /1 keV) erg], it is clear that such giant radio galaxies can play an important role in the evolution of intragroup gas. \n",
      "Citations: []\n",
      "=====\n"
     ]
    },
    {
     "name": "stderr",
     "output_type": "stream",
     "text": [
      " 89%|████████▉ | 533/600 [1:16:28<04:48,  4.31s/it]"
     ]
    },
    {
     "name": "stdout",
     "output_type": "stream",
     "text": [
      "Sentence: It is possible that most massive galaxies have at least one outburst of jet activity, lasting ∼10 8 years, leading to a giant radio source in their lifetime, probably between z ∼1.5 and z ∼3 in the quasar era. \n",
      "Citations: []\n",
      "=====\n"
     ]
    },
    {
     "name": "stderr",
     "output_type": "stream",
     "text": [
      " 89%|████████▉ | 534/600 [1:16:34<05:12,  4.73s/it]"
     ]
    },
    {
     "name": "stdout",
     "output_type": "stream",
     "text": [
      "Sentence: Estimates of the volume permeated by both “live” and “dead” radio lobes at that time can be several to tens of percent ( Gopal-Krishna Wiita 2001 ; Mocz, Fabian Blundell 2011 ) of the volume occupied by galaxy-forming filaments ( Cen Ostriker 1999 ), depending on the jet lifetime. \n",
      "Citations: [('Gopal-Krishna', 2001), ('Mocz', 2011), ('Cen', 1999)]\n",
      "=====\n"
     ]
    },
    {
     "name": "stderr",
     "output_type": "stream",
     "text": [
      " 89%|████████▉ | 535/600 [1:16:35<04:01,  3.71s/it]"
     ]
    },
    {
     "name": "stdout",
     "output_type": "stream",
     "text": [
      "Sentence: Given that they occur around the most massive galaxies, which occur in proto-groups and clusters, such radio lobes should have a significant destructive and heating effect on the gas content. \n",
      "Citations: []\n",
      "=====\n"
     ]
    },
    {
     "name": "stderr",
     "output_type": "stream",
     "text": [
      " 89%|████████▉ | 536/600 [1:16:36<03:11,  3.00s/it]"
     ]
    },
    {
     "name": "stdout",
     "output_type": "stream",
     "text": [
      "Sentence: MS 0735.6+7421 may be a lower redshift example of a powerful radio galaxy. \n",
      "Citations: []\n",
      "=====\n"
     ]
    },
    {
     "name": "stderr",
     "output_type": "stream",
     "text": [
      " 90%|████████▉ | 537/600 [1:16:38<02:45,  2.63s/it]"
     ]
    },
    {
     "name": "stdout",
     "output_type": "stream",
     "text": [
      "Sentence: Observations of distant examples are hindered in the radio band by steep Compton losses from cosmic microwave background, which scale as (1+ z ) 4 , thus rendering the observed radio lifetime short. \n",
      "Citations: []\n",
      "=====\n"
     ]
    },
    {
     "name": "stderr",
     "output_type": "stream",
     "text": [
      " 90%|████████▉ | 538/600 [1:16:39<02:09,  2.09s/it]"
     ]
    },
    {
     "name": "stdout",
     "output_type": "stream",
     "text": [
      "Sentence: 4.2. \n",
      "Citations: []\n",
      "=====\n"
     ]
    },
    {
     "name": "stderr",
     "output_type": "stream",
     "text": [
      " 90%|████████▉ | 539/600 [1:16:41<02:01,  2.00s/it]"
     ]
    },
    {
     "name": "stdout",
     "output_type": "stream",
     "text": [
      "Sentence: Similarities with Galactic Black Hole Binaries A simple picture emerges in which a massive black hole in a galaxy turns into an Eddington-limited quasar and blows away the surrounding gas, truncating both further star formation in that galaxy and quasar activity. \n",
      "Citations: []\n",
      "=====\n"
     ]
    },
    {
     "name": "stderr",
     "output_type": "stream",
     "text": [
      " 90%|█████████ | 540/600 [1:16:42<01:47,  1.79s/it]"
     ]
    },
    {
     "name": "stdout",
     "output_type": "stream",
     "text": [
      "Sentence: It may even involve a giant radio outburst. \n",
      "Citations: []\n",
      "=====\n"
     ]
    },
    {
     "name": "stderr",
     "output_type": "stream",
     "text": [
      " 90%|█████████ | 541/600 [1:16:47<02:36,  2.65s/it]"
     ]
    },
    {
     "name": "stdout",
     "output_type": "stream",
     "text": [
      "Sentence: The galaxy dies and any later infalling or cooling gas is heated by jetted, maintenance-mode feedback (e.g., Churazov et al. 2005 ). \n",
      "Citations: [('Churazov', 2005)]\n",
      "=====\n"
     ]
    },
    {
     "name": "stderr",
     "output_type": "stream",
     "text": [
      " 90%|█████████ | 542/600 [1:16:48<02:10,  2.25s/it]"
     ]
    },
    {
     "name": "stdout",
     "output_type": "stream",
     "text": [
      "Sentence: The behavior of the black hole resembles that of outbursts in Galactic black hole binaries (BHBs). \n",
      "Citations: []\n",
      "=====\n"
     ]
    },
    {
     "name": "stderr",
     "output_type": "stream",
     "text": [
      " 90%|█████████ | 543/600 [1:16:49<01:52,  1.97s/it]"
     ]
    },
    {
     "name": "stdout",
     "output_type": "stream",
     "text": [
      "Sentence: These objects consist of a stellar mass black hole (4–20M ⊙ ) in close orbit about a normal star. \n",
      "Citations: []\n",
      "=====\n"
     ]
    },
    {
     "name": "stderr",
     "output_type": "stream",
     "text": [
      " 91%|█████████ | 544/600 [1:16:51<01:39,  1.78s/it]"
     ]
    },
    {
     "name": "stdout",
     "output_type": "stream",
     "text": [
      "Sentence: Accretion instabilities cause the accretion rate to increase to the Eddington rate and then drop by several orders of magnitude. \n",
      "Citations: []\n",
      "=====\n"
     ]
    },
    {
     "name": "stderr",
     "output_type": "stream",
     "text": [
      " 91%|█████████ | 545/600 [1:16:53<01:45,  1.92s/it]"
     ]
    },
    {
     "name": "stdout",
     "output_type": "stream",
     "text": [
      "Sentence: Although they are not important sources of feedback in a galaxy, some BHBs do blow bubbles (e.g., Gallo et al. 2005 ). \n",
      "Citations: [('Gallo', 2005)]\n",
      "=====\n"
     ]
    },
    {
     "name": "stderr",
     "output_type": "stream",
     "text": [
      " 91%|█████████ | 546/600 [1:16:57<02:24,  2.68s/it]"
     ]
    },
    {
     "name": "stdout",
     "output_type": "stream",
     "text": [
      "Sentence: Outbursts follow a common pattern ( Fender Belloni 2004 , Remillard McClintock 2006 ); the source begins in the weak radio-emitting low state and rises in luminosity in all bands toward the Eddington limit, where its spectrum softens, and the radio emission peaks with a strong outburst. \n",
      "Citations: [('Fender Belloni', 2004), ('Remillard McClintock', 2006)]\n",
      "=====\n"
     ]
    },
    {
     "name": "stderr",
     "output_type": "stream",
     "text": [
      " 91%|█████████ | 547/600 [1:16:59<02:00,  2.27s/it]"
     ]
    },
    {
     "name": "stdout",
     "output_type": "stream",
     "text": [
      "Sentence: Radio emission then ceases until the luminosity drops and the spectrum hardens into the low state again. \n",
      "Citations: []\n",
      "=====\n"
     ]
    },
    {
     "name": "stderr",
     "output_type": "stream",
     "text": [
      " 91%|█████████▏| 548/600 [1:21:28<1:11:23, 82.37s/it]"
     ]
    },
    {
     "name": "stdout",
     "output_type": "stream",
     "text": [
      "Sentence: As the source goes into a quiescent state, the flow becomes advection-dominated. \n",
      "Citations: []\n",
      "=====\n"
     ]
    },
    {
     "name": "stderr",
     "output_type": "stream",
     "text": [
      " 92%|█████████▏| 549/600 [1:21:29<49:20, 58.06s/it]  "
     ]
    },
    {
     "name": "stdout",
     "output_type": "stream",
     "text": [
      "Sentence: Much of black hole accretion including timescales and luminosities scales with mass. \n",
      "Citations: []\n",
      "=====\n"
     ]
    },
    {
     "name": "stderr",
     "output_type": "stream",
     "text": [
      " 92%|█████████▏| 550/600 [1:21:32<34:27, 41.35s/it]"
     ]
    },
    {
     "name": "stdout",
     "output_type": "stream",
     "text": [
      "Sentence: The radio emission scales in a more complex manner along a fundamental plane ( Merloni, Heinz Di Matteo 2003 ), but the general pattern may remain for AGN. \n",
      "Citations: [('Merloni', 2003)]\n",
      "=====\n"
     ]
    },
    {
     "name": "stderr",
     "output_type": "stream",
     "text": [
      " 92%|█████████▏| 551/600 [1:21:33<23:57, 29.34s/it]"
     ]
    },
    {
     "name": "stdout",
     "output_type": "stream",
     "text": [
      "Sentence: The timescales are far too long for us to watch an outburst, and their behavior must be pieced together from the populations we observe. \n",
      "Citations: []\n",
      "=====\n"
     ]
    },
    {
     "name": "stderr",
     "output_type": "stream",
     "text": [
      " 92%|█████████▏| 552/600 [1:21:35<16:51, 21.07s/it]"
     ]
    },
    {
     "name": "stdout",
     "output_type": "stream",
     "text": [
      "Sentence: There are some plausible connections, however, with the luminous outbursts correlating with powerful Faranoff-Riley II sources and the weaker low state with Faranoff-Riley I sources. \n",
      "Citations: []\n",
      "=====\n"
     ]
    },
    {
     "name": "stderr",
     "output_type": "stream",
     "text": [
      " 92%|█████████▏| 553/600 [1:21:41<12:55, 16.51s/it]"
     ]
    },
    {
     "name": "stdout",
     "output_type": "stream",
     "text": [
      "Sentence: A further property of BHBs that may prove important is that winds and jets appear to anticorrelate ( Miller et al. 2008 , Neilsen Lee 2009 , King et al. 2012 , Ponti et al. 2012 ). \n",
      "Citations: [('Miller', 2008), ('Neilsen Lee', 2009), ('King', 2012), ('Ponti', 2012)]\n",
      "=====\n"
     ]
    },
    {
     "name": "stderr",
     "output_type": "stream",
     "text": [
      " 92%|█████████▏| 554/600 [1:21:42<09:09, 11.95s/it]"
     ]
    },
    {
     "name": "stdout",
     "output_type": "stream",
     "text": [
      "Sentence: Winds occur at high Eddington fractions when jets are not observed, and vice versa at low Eddington values. \n",
      "Citations: []\n",
      "=====\n"
     ]
    },
    {
     "name": "stderr",
     "output_type": "stream",
     "text": [
      " 92%|█████████▎| 555/600 [1:21:44<06:40,  8.90s/it]"
     ]
    },
    {
     "name": "stdout",
     "output_type": "stream",
     "text": [
      "Sentence: Atomic processes do not scale for accretion flows, so ionization-dependent accretion instabilities may not be relevant in quasars, and outbursts may be triggered instead by mergers. \n",
      "Citations: []\n",
      "=====\n"
     ]
    },
    {
     "name": "stderr",
     "output_type": "stream",
     "text": [
      " 93%|█████████▎| 556/600 [1:21:45<04:51,  6.62s/it]"
     ]
    },
    {
     "name": "stdout",
     "output_type": "stream",
     "text": [
      "Sentence: Clear evidence for this has yet to be established. \n",
      "Citations: []\n",
      "=====\n"
     ]
    },
    {
     "name": "stderr",
     "output_type": "stream",
     "text": [
      " 93%|█████████▎| 557/600 [1:21:47<03:42,  5.17s/it]"
     ]
    },
    {
     "name": "stdout",
     "output_type": "stream",
     "text": [
      "Sentence: Submillimeter galaxies at high redshifts often show evidence for strong disturbances that could be mergers, as do some nearby low-luminosity AGN (Section 2.5), but most AGN at intermediate redshifts show no more evidence for merging than do control nonactive galaxies. \n",
      "Citations: []\n",
      "=====\n"
     ]
    },
    {
     "name": "stderr",
     "output_type": "stream",
     "text": [
      " 93%|█████████▎| 558/600 [1:21:48<02:48,  4.02s/it]"
     ]
    },
    {
     "name": "stdout",
     "output_type": "stream",
     "text": [
      "Sentence: There are many uncertainties in the evolution of AGN, apart from the role of mergers. \n",
      "Citations: []\n",
      "=====\n"
     ]
    },
    {
     "name": "stderr",
     "output_type": "stream",
     "text": [
      " 93%|█████████▎| 559/600 [1:21:49<02:11,  3.21s/it]"
     ]
    },
    {
     "name": "stdout",
     "output_type": "stream",
     "text": [
      "Sentence: Does a massive galaxy undergo a single quasar phase or several? \n",
      "Citations: []\n",
      "=====\n"
     ]
    },
    {
     "name": "stderr",
     "output_type": "stream",
     "text": [
      " 93%|█████████▎| 560/600 [1:21:51<01:45,  2.64s/it]"
     ]
    },
    {
     "name": "stdout",
     "output_type": "stream",
     "text": [
      "Sentence: Is the observed luminous phase preceded by a Compton thick phase? \n",
      "Citations: []\n",
      "=====\n"
     ]
    },
    {
     "name": "stderr",
     "output_type": "stream",
     "text": [
      " 94%|█████████▎| 561/600 [1:21:52<01:27,  2.24s/it]"
     ]
    },
    {
     "name": "stdout",
     "output_type": "stream",
     "text": [
      "Sentence: How representative are observations of low redshift AGN to conditions around powerful quasars at z ∼ 2? \n",
      "Citations: []\n",
      "=====\n"
     ]
    },
    {
     "name": "stderr",
     "output_type": "stream",
     "text": [
      " 94%|█████████▎| 562/600 [1:21:53<01:14,  1.97s/it]"
     ]
    },
    {
     "name": "stdout",
     "output_type": "stream",
     "text": [
      "Sentence: How much do jets depend on the spin of the black hole, and how does the spin evolve? \n",
      "Citations: []\n",
      "=====\n"
     ]
    },
    {
     "name": "stderr",
     "output_type": "stream",
     "text": [
      " 94%|█████████▍| 563/600 [1:21:55<01:05,  1.78s/it]"
     ]
    },
    {
     "name": "stdout",
     "output_type": "stream",
     "text": [
      "Sentence: Is a cluster cool core shaped by a powerful outburst early on and maintained thereafter by black hole spin, which is kept “topped up” by sporadic accretion? \n",
      "Citations: []\n",
      "=====\n"
     ]
    },
    {
     "name": "stderr",
     "output_type": "stream",
     "text": [
      " 94%|█████████▍| 564/600 [1:21:56<01:04,  1.78s/it]"
     ]
    },
    {
     "name": "stdout",
     "output_type": "stream",
     "text": [
      "Sentence: 5. FUTURE STUDIES Contributions to understanding AGN feedback can be expected from all wavebands, but there are some clear advances that can be anticipated from instruments and telescopes being built or planned over the next few years. \n",
      "Citations: []\n",
      "=====\n"
     ]
    },
    {
     "name": "stderr",
     "output_type": "stream",
     "text": [
      " 94%|█████████▍| 565/600 [1:21:59<01:13,  2.10s/it]"
     ]
    },
    {
     "name": "stdout",
     "output_type": "stream",
     "text": [
      "Sentence: In particular, the JAXA/NASA/ESA X-ray observatory Astro-H ( Takahashi et al. 2010 ), to be launched in 2014, will offer nondispersive high spectral resolution X-ray spectroscopy on a spatial scale of 1.5 arcmin using a microcalorimeter. \n",
      "Citations: [('Takahashi', 2010)]\n",
      "=====\n"
     ]
    },
    {
     "name": "stderr",
     "output_type": "stream",
     "text": [
      " 94%|█████████▍| 566/600 [1:22:01<01:03,  1.87s/it]"
     ]
    },
    {
     "name": "stdout",
     "output_type": "stream",
     "text": [
      "Sentence: It will reveal the number and nature of outflows in quasars and other AGN through absorption spectroscopy, being sensitive to all ionization stages of iron, for example. \n",
      "Citations: []\n",
      "=====\n"
     ]
    },
    {
     "name": "stderr",
     "output_type": "stream",
     "text": [
      " 94%|█████████▍| 567/600 [1:22:02<00:56,  1.71s/it]"
     ]
    },
    {
     "name": "stdout",
     "output_type": "stream",
     "text": [
      "Sentence: It will also, for the first time, map velocity flows of hot gas in galactic outflows, and the hot atmospheres in elliptical galaxies, groups, and clusters. \n",
      "Citations: []\n",
      "=====\n"
     ]
    },
    {
     "name": "stderr",
     "output_type": "stream",
     "text": [
      " 95%|█████████▍| 568/600 [1:22:03<00:51,  1.59s/it]"
     ]
    },
    {
     "name": "stdout",
     "output_type": "stream",
     "text": [
      "Sentence: Because much of the energy feedback in those objects is mechanical and occurs through the motion of gas, this will take our understanding to the next level of detail. \n",
      "Citations: []\n",
      "=====\n"
     ]
    },
    {
     "name": "stderr",
     "output_type": "stream",
     "text": [
      " 95%|█████████▍| 569/600 [1:22:05<00:51,  1.65s/it]"
     ]
    },
    {
     "name": "stdout",
     "output_type": "stream",
     "text": [
      "Sentence: Sensitive, low-frequency radio observations at good spatial resolution, as expected from the Low Frequency Array and other planned radio telescopes leading to the Square Kilometre Array will reveal the old electron populations in the bubbles of cluster cores and giant radio galaxies. \n",
      "Citations: []\n",
      "=====\n"
     ]
    },
    {
     "name": "stderr",
     "output_type": "stream",
     "text": [
      " 95%|█████████▌| 570/600 [1:22:07<00:48,  1.63s/it]"
     ]
    },
    {
     "name": "stdout",
     "output_type": "stream",
     "text": [
      "Sentence: Maps of the low-frequency radio sky at redshift two should reveal just how much and where feedback from powerful Faranoff-Riley II sources has occurred. \n",
      "Citations: []\n",
      "=====\n"
     ]
    },
    {
     "name": "stderr",
     "output_type": "stream",
     "text": [
      " 95%|█████████▌| 571/600 [1:22:10<01:04,  2.22s/it]"
     ]
    },
    {
     "name": "stdout",
     "output_type": "stream",
     "text": [
      "Sentence: At gigahertz frequencies, the Jansky Very Large Array (JVLA) will map the interactions of jets with surrounding plasma and reveal the magnetic field structure of the plasma through much more detailed Faraday rotation observations. \n",
      "Citations: []\n",
      "=====\n"
     ]
    },
    {
     "name": "stderr",
     "output_type": "stream",
     "text": [
      " 95%|█████████▌| 572/600 [1:22:12<00:54,  1.95s/it]"
     ]
    },
    {
     "name": "stdout",
     "output_type": "stream",
     "text": [
      "Sentence: The role of radiative feedback needs high spatial and spectral resolution observations at wavelengths that can penetrate the inevitable high absorption present. \n",
      "Citations: []\n",
      "=====\n"
     ]
    },
    {
     "name": "stderr",
     "output_type": "stream",
     "text": [
      " 96%|█████████▌| 573/600 [1:22:13<00:47,  1.76s/it]"
     ]
    },
    {
     "name": "stdout",
     "output_type": "stream",
     "text": [
      "Sentence: Atacama Large Millimeter Array (ALMA) will be a leader in detecting and resolving molecular and dust components and their motions. \n",
      "Citations: []\n",
      "=====\n"
     ]
    },
    {
     "name": "stderr",
     "output_type": "stream",
     "text": [
      " 96%|█████████▌| 574/600 [1:22:17<01:01,  2.35s/it]"
     ]
    },
    {
     "name": "stdout",
     "output_type": "stream",
     "text": [
      "Sentence: For high-redshift objects, where feedback may be a dominant process, a combination of the JVLA—which will measure the radio continuum to distinguish AGN and star formation, low-order CO transitions to give total molecular gas mass, dynamics and low-order dense gas tracers (HCN, HCO + ) to probe dense star cores—and ALMA—which will obtain the excitation from high-order CO, the dust continuum, and star formation and fine structure lines to give the cooling rates, further distinguishing AGN and star formation and measure dynamics—will be crucial ( Figure 10 ; Carilli et al. 2012 ). \n",
      "Citations: [('Carilli', 2012)]\n",
      "=====\n"
     ]
    },
    {
     "name": "stderr",
     "output_type": "stream",
     "text": [
      " 96%|█████████▌| 575/600 [1:22:20<01:05,  2.62s/it]"
     ]
    },
    {
     "name": "stdout",
     "output_type": "stream",
     "text": [
      "Sentence: Figure 10 Radio through submillimeter spectrum of a galaxy forming stars at a rate of 100M ⊙ year −1 redshifted to z = 5. The line and continuum sensitivity for the Jansky Very Large Array (JVLA) in 12 h and the line sensitivity for the Atacama Large Millimeter Array (ALMA) and existing submillimeter interferometers are shown (adapted from Carilli et al. 2012 ). \n",
      "Citations: [('Carilli', 2012)]\n",
      "=====\n"
     ]
    },
    {
     "name": "stderr",
     "output_type": "stream",
     "text": [
      " 96%|█████████▌| 576/600 [1:22:22<00:57,  2.38s/it]"
     ]
    },
    {
     "name": "stdout",
     "output_type": "stream",
     "text": [
      "Sentence: The Northern Extended Millimeter Array (NOEMA) is an ongoing expansion of the IRAM Plateau de Bure interferometer by a factor of two in collecting area; and SMA is the Harvard/Smithsonian Submillimeter Array in Hawaii. \n",
      "Citations: []\n",
      "=====\n"
     ]
    },
    {
     "name": "stderr",
     "output_type": "stream",
     "text": [
      " 96%|█████████▌| 577/600 [1:22:23<00:47,  2.06s/it]"
     ]
    },
    {
     "name": "stdout",
     "output_type": "stream",
     "text": [
      "Sentence: The James Webb Space Telescope will observe the rich, rest-frame, optical band in distant objects, enabling many powerful diagnostics to be used. \n",
      "Citations: []\n",
      "=====\n"
     ]
    },
    {
     "name": "stderr",
     "output_type": "stream",
     "text": [
      " 96%|█████████▋| 578/600 [1:22:24<00:40,  1.84s/it]"
     ]
    },
    {
     "name": "stdout",
     "output_type": "stream",
     "text": [
      "Sentence: AGN feedback will be an important goal for the next generation of ground-based optical and near-IR telescopes. \n",
      "Citations: []\n",
      "=====\n"
     ]
    },
    {
     "name": "stderr",
     "output_type": "stream",
     "text": [
      " 96%|█████████▋| 579/600 [1:28:19<37:43, 107.80s/it]"
     ]
    },
    {
     "name": "stdout",
     "output_type": "stream",
     "text": [
      "Sentence: Both large-area surveys (e.g., Sloan Digital Sky Survey, Faint Images of the Radio Sky at Twenty centimeters) and single-object studies (e.g., Mrk 231, APM 08279+5255, the Perseus cluster, M87, etc.) will continue to be essential. \n",
      "Citations: []\n",
      "=====\n"
     ]
    },
    {
     "name": "stderr",
     "output_type": "stream",
     "text": [
      " 97%|█████████▋| 580/600 [1:28:21<25:17, 75.89s/it] "
     ]
    },
    {
     "name": "stdout",
     "output_type": "stream",
     "text": [
      "Sentence: Very significant advances in our observational understanding of AGN feedback can be confidently expected in the present decade. \n",
      "Citations: []\n",
      "=====\n"
     ]
    },
    {
     "name": "stderr",
     "output_type": "stream",
     "text": [
      " 97%|█████████▋| 581/600 [1:28:22<16:57, 53.53s/it]"
     ]
    },
    {
     "name": "stdout",
     "output_type": "stream",
     "text": [
      "Sentence: 6. SUMMARY An active nucleus interacts with the gas in its host galaxy through radiation pressure, winds, and jets. \n",
      "Citations: []\n",
      "=====\n"
     ]
    },
    {
     "name": "stderr",
     "output_type": "stream",
     "text": [
      " 97%|█████████▋| 582/600 [1:28:24<11:22, 37.92s/it]"
     ]
    },
    {
     "name": "stdout",
     "output_type": "stream",
     "text": [
      "Sentence: The consequences can be profound for the final mass of the stellar component of the galaxy as well as for the black hole. \n",
      "Citations: []\n",
      "=====\n"
     ]
    },
    {
     "name": "stderr",
     "output_type": "stream",
     "text": [
      " 97%|█████████▋| 583/600 [1:28:25<07:39, 27.06s/it]"
     ]
    },
    {
     "name": "stdout",
     "output_type": "stream",
     "text": [
      "Sentence: There is clearly enough energy and momentum produced by the nucleus to expel the interstellar medium of the host galaxy. \n",
      "Citations: []\n",
      "=====\n"
     ]
    },
    {
     "name": "stderr",
     "output_type": "stream",
     "text": [
      " 97%|█████████▋| 584/600 [1:28:27<05:09, 19.33s/it]"
     ]
    },
    {
     "name": "stdout",
     "output_type": "stream",
     "text": [
      "Sentence: How, when, and if it does so are the important questions. \n",
      "Citations: []\n",
      "=====\n"
     ]
    },
    {
     "name": "stderr",
     "output_type": "stream",
     "text": [
      " 98%|█████████▊| 585/600 [1:28:28<03:28, 13.93s/it]"
     ]
    },
    {
     "name": "stdout",
     "output_type": "stream",
     "text": [
      "Sentence: It appears that the radiative or wind mode was most active when the nucleus was a young quasar. \n",
      "Citations: []\n",
      "=====\n"
     ]
    },
    {
     "name": "stderr",
     "output_type": "stream",
     "text": [
      " 98%|█████████▊| 586/600 [1:28:29<02:22, 10.15s/it]"
     ]
    },
    {
     "name": "stdout",
     "output_type": "stream",
     "text": [
      "Sentence: At that stage, the galaxy had a large component of cold molecular gas, and the nucleus was probably highly obscured. \n",
      "Citations: []\n",
      "=====\n"
     ]
    },
    {
     "name": "stderr",
     "output_type": "stream",
     "text": [
      " 98%|█████████▊| 587/600 [1:28:31<01:37,  7.50s/it]"
     ]
    },
    {
     "name": "stdout",
     "output_type": "stream",
     "text": [
      "Sentence: Obscuration has meant that direct observational evidence is often circumstantial, relying on nearby analogs. \n",
      "Citations: []\n",
      "=====\n"
     ]
    },
    {
     "name": "stderr",
     "output_type": "stream",
     "text": [
      " 98%|█████████▊| 588/600 [1:28:32<01:07,  5.65s/it]"
     ]
    },
    {
     "name": "stdout",
     "output_type": "stream",
     "text": [
      "Sentence: Progress has been difficult and slow, but is expected to accelerate soon following observations with ALMA, JVLA and other telescopes. \n",
      "Citations: []\n",
      "=====\n"
     ]
    },
    {
     "name": "stderr",
     "output_type": "stream",
     "text": [
      " 98%|█████████▊| 589/600 [1:28:33<00:47,  4.35s/it]"
     ]
    },
    {
     "name": "stdout",
     "output_type": "stream",
     "text": [
      "Sentence: The kinetic mode, however, is more easily observed, albeit at X-ray and radio wavelengths, because it is acting now in nearby massive objects. \n",
      "Citations: []\n",
      "=====\n"
     ]
    },
    {
     "name": "stderr",
     "output_type": "stream",
     "text": [
      " 98%|█████████▊| 590/600 [1:28:35<00:34,  3.44s/it]"
     ]
    },
    {
     "name": "stdout",
     "output_type": "stream",
     "text": [
      "Sentence: The surrounding gas is hot, highly ionized, and mostly transparent. \n",
      "Citations: []\n",
      "=====\n"
     ]
    },
    {
     "name": "stderr",
     "output_type": "stream",
     "text": [
      " 98%|█████████▊| 591/600 [1:28:36<00:25,  2.80s/it]"
     ]
    },
    {
     "name": "stdout",
     "output_type": "stream",
     "text": [
      "Sentence: Although the gross energetics are roughly understood, the details are not. \n",
      "Citations: []\n",
      "=====\n"
     ]
    },
    {
     "name": "stderr",
     "output_type": "stream",
     "text": [
      " 99%|█████████▊| 592/600 [1:28:37<00:18,  2.36s/it]"
     ]
    },
    {
     "name": "stdout",
     "output_type": "stream",
     "text": [
      "Sentence: Bubbling of jetted energy from the central black hole appears to scale well over three to four orders of magnitude in luminosity from the most luminous clusters to small groups. \n",
      "Citations: []\n",
      "=====\n"
     ]
    },
    {
     "name": "stderr",
     "output_type": "stream",
     "text": [
      " 99%|█████████▉| 593/600 [1:28:39<00:14,  2.05s/it]"
     ]
    },
    {
     "name": "stdout",
     "output_type": "stream",
     "text": [
      "Sentence: The behavior in individual elliptical galaxies and bulges is uncertain, partly because it is more difficult to detect. \n",
      "Citations: []\n",
      "=====\n"
     ]
    },
    {
     "name": "stderr",
     "output_type": "stream",
     "text": [
      " 99%|█████████▉| 594/600 [1:28:40<00:10,  1.83s/it]"
     ]
    },
    {
     "name": "stdout",
     "output_type": "stream",
     "text": [
      "Sentence: Nonradiative cooling of hot gas by mixing with cold gas may be an important link in the process. \n",
      "Citations: []\n",
      "=====\n"
     ]
    },
    {
     "name": "stderr",
     "output_type": "stream",
     "text": [
      " 99%|█████████▉| 595/600 [1:28:43<00:10,  2.17s/it]"
     ]
    },
    {
     "name": "stdout",
     "output_type": "stream",
     "text": [
      "Sentence: An attractive possibility is that the radiative mode shaped the overall galaxy and black hole mass at early times, and the kinetic mode has since maintained that situation where needed ( Churazov et al. 2005 ). \n",
      "Citations: [('Churazov', 2005)]\n",
      "=====\n"
     ]
    },
    {
     "name": "stderr",
     "output_type": "stream",
     "text": [
      " 99%|█████████▉| 596/600 [1:28:45<00:08,  2.05s/it]"
     ]
    },
    {
     "name": "stdout",
     "output_type": "stream",
     "text": [
      "Sentence: Powerful giant radio outbursts back at z ∼1.5–3 in all massive galaxies may have been common, heating and shaping the gas not only in the host galaxy but in the host groups and protoclusters. \n",
      "Citations: []\n",
      "=====\n"
     ]
    },
    {
     "name": "stderr",
     "output_type": "stream",
     "text": [
      "100%|█████████▉| 597/600 [1:28:46<00:05,  1.97s/it]"
     ]
    },
    {
     "name": "stdout",
     "output_type": "stream",
     "text": [
      "Sentence: Observational evidence is growing that the baryonic part of the low-redshift Universe has been shaped by the energy and momentum output of black holes, through AGN feedback ( Table 1 ). \n",
      "Citations: []\n",
      "=====\n"
     ]
    },
    {
     "name": "stderr",
     "output_type": "stream",
     "text": [
      "100%|█████████▉| 598/600 [1:28:49<00:04,  2.09s/it]"
     ]
    },
    {
     "name": "stdout",
     "output_type": "stream",
     "text": [
      "Sentence: This has profound implications for our understanding of galaxy, group, and cluster evolution and has ramifications for precision cosmology using galaxies ( van Daalen et al. 2011 ). \n",
      "Citations: [('van Daalen', 2011)]\n",
      "=====\n"
     ]
    },
    {
     "name": "stderr",
     "output_type": "stream",
     "text": [
      "100%|█████████▉| 599/600 [1:28:50<00:01,  1.86s/it]"
     ]
    },
    {
     "name": "stdout",
     "output_type": "stream",
     "text": [
      "Sentence: AGN feedback appears to be an important aspect in the complexity of the baryonic Universe. \n",
      "Citations: []\n",
      "=====\n"
     ]
    },
    {
     "name": "stderr",
     "output_type": "stream",
     "text": [
      "100%|██████████| 600/600 [1:28:51<00:00,  8.89s/it]"
     ]
    },
    {
     "name": "stdout",
     "output_type": "stream",
     "text": [
      "Sentence: Table 1 Observational evidence for AGN feedback\n",
      "Citations: []\n",
      "=====\n",
      "326\n"
     ]
    },
    {
     "name": "stderr",
     "output_type": "stream",
     "text": [
      "\n"
     ]
    }
   ],
   "source": [
    "citations = []\n",
    "for sentence in tqdm(astro_reviews[0]['body_sentences']):\n",
    "    new_citations = response_to_list(ask_ollama(prompt.format(text=sentence)))\n",
    "    print(f\"Sentence: {sentence}\")\n",
    "    print(f\"Citations: {new_citations}\")\n",
    "    print(\"=====\")\n",
    "    citations.extend(new_citations)\n",
    "print(len(citations))"
   ]
  },
  {
   "cell_type": "code",
   "execution_count": 18,
   "metadata": {},
   "outputs": [
    {
     "data": {
      "text/plain": [
       "[('Kormendy', 2001),\n",
       " ('Merritt', 2001),\n",
       " ('Häring', 2004),\n",
       " ('Jahnke', 2011),\n",
       " ('Kauffmann Haehnelt', 2000),\n",
       " ('Granato', 2004),\n",
       " ('Di Matteo', 2005),\n",
       " ('Springel', 2005),\n",
       " ('Bower', 2006),\n",
       " ('Croton', 2006),\n",
       " ('Hopkins', 2006),\n",
       " ('Ciotti', 2010),\n",
       " ('Scannapieco', 2012),\n",
       " ('Silk Rees', 1998),\n",
       " ('Haehnelt, Natarajan Rees', 1998),\n",
       " ('Fabian', 1999),\n",
       " ('Fabian', 2002),\n",
       " ('King', 2003),\n",
       " ('King', 2005),\n",
       " ('Murray', 2005),\n",
       " ('Gültekin', 2009),\n",
       " ('Kollmeier', 2006),\n",
       " ('Steinhardt Elvis', 2010),\n",
       " ('King', 2003),\n",
       " ('Laor Draine', 1993),\n",
       " ('Scoville Norman', 1995),\n",
       " ('Murray, Quartaert Thompson', 2005),\n",
       " ('Fabian', 2008),\n",
       " ('Raimundo', 2010),\n",
       " ('Faber Jackson', 1976),\n",
       " ('Djorgovski', 1987),\n",
       " ('Faber', 1987),\n",
       " ('Sanders McGaugh', 2002),\n",
       " ('Silk Nusser', 2010),\n",
       " ('van Dokkum', 2010),\n",
       " ('Blandford Payne', 1982),\n",
       " ('Reynolds', 1997),\n",
       " ('Crenshaw', 2003),\n",
       " ('Blustin', 2005),\n",
       " ('Weymann', 1991),\n",
       " ('Ganguly', 2007),\n",
       " ('Pounds', 2003),\n",
       " ('Reeves', 2009),\n",
       " ('Tombesi', 2010),\n",
       " ('Tombesi', 2012),\n",
       " ('Tombesi', 2010),\n",
       " ('Reeves', 2009),\n",
       " ('Rupke Veilleux', 2011),\n",
       " ('Dunn', 2010),\n",
       " ('Moe', 2009),\n",
       " ('Saez', 2009),\n",
       " ('Heckman', 2000),\n",
       " ('Veilleux', 2005),\n",
       " ('Strickland', 2009),\n",
       " ('Weiner', 2009),\n",
       " ('Rupke Veilleux', 2011),\n",
       " ('Ferruglio', 2010),\n",
       " ('Fischer', 2010),\n",
       " ('Smith', 1995),\n",
       " ('Farrah', 2012),\n",
       " ('Sturm', 2011),\n",
       " ('Greene', 2012),\n",
       " ('Tremonti', 2007),\n",
       " ('Alexander', 2010),\n",
       " ('Cano-Díaz', 2012),\n",
       " ('Prochaska', 2009),\n",
       " ('Maiolino', None),\n",
       " ('Morganti', 2005),\n",
       " ('Morganti', 2007),\n",
       " ('Holt', 2008),\n",
       " ('Nesvadba', 2008),\n",
       " ('Nesvadba', 2011),\n",
       " ('Ueda', 2003),\n",
       " ('Hasinger', 2005),\n",
       " ('Barger', 2005),\n",
       " ('Rigby', 2011),\n",
       " ('Sanders', 1988),\n",
       " ('Springel', 2005),\n",
       " ('Nandra', 2007),\n",
       " ('Schawinski', 2007),\n",
       " ('Wild, Heckman Charlot', 2010),\n",
       " ('Hopkins', 2012),\n",
       " ('Bell', 2012),\n",
       " ('Brammer', 2009),\n",
       " ('Cardamone', 2010),\n",
       " ('Page', 2012),\n",
       " ('Santini', 2012),\n",
       " ('Cisternas', 2011),\n",
       " ('Schawinski', 2011),\n",
       " ('Tacconi', 2008),\n",
       " ('Engel', 2010),\n",
       " ('Riechers', 2011),\n",
       " ('Koss', 2010),\n",
       " ('Genzel', 2008),\n",
       " ('Orban de Xivry', 2011),\n",
       " ('Kocevski', 2012),\n",
       " ('Aird', 2012),\n",
       " ('Kauffmann Heckman', 2009),\n",
       " ('Alexander Hickox', 2012),\n",
       " ('Berti', 2008),\n",
       " ('Soltan', 1982),\n",
       " ('Fabian', 1999),\n",
       " ('Elvis', 2002),\n",
       " ('Marconi', 2004),\n",
       " ('Raimundo', 2009),\n",
       " ('Kormendy', 2009),\n",
       " ('Fabian', 1994),\n",
       " ('Schmidt', 2001),\n",
       " ('McNamara', 2006),\n",
       " ('Fabian', 2006),\n",
       " ('Blanton', 2004),\n",
       " ('Sanders', 2010),\n",
       " ('Humphrey', 2011),\n",
       " ('Egami', 2006),\n",
       " ('Fabian', 1982),\n",
       " ('Van Dokkum', 2010),\n",
       " ('Cappellari', 2012),\n",
       " ('Fabian', 1994),\n",
       " ('Matsuura', 2011),\n",
       " ('Loh', 2010),\n",
       " ('Peterson', 2001),\n",
       " ('Tamura', 2001),\n",
       " ('Peterson', 2003),\n",
       " ('Burns', 1990),\n",
       " ('Sun', 2009),\n",
       " ('Pedlar', 1990),\n",
       " ('Baum', 1991),\n",
       " ('Tabor', 1993),\n",
       " ('Tucker', 1997),\n",
       " ('Cavagnolo', 2010),\n",
       " ('Voigt', 2004),\n",
       " ('Peterson', 2006),\n",
       " ('McNamara', 2007),\n",
       " ('Cattaneo', 2009),\n",
       " ('Churazov', 2000),\n",
       " ('Churazov', 2001),\n",
       " ('McNamara', 2000),\n",
       " ('Dunn Fabian', 2006),\n",
       " ('Dunn Fabian', 2008),\n",
       " ('Dunn', '2006'),\n",
       " ('Mittal', 2009),\n",
       " ('Million', 2010),\n",
       " ('Rafferty', 2006),\n",
       " ('Rafferty', 2008),\n",
       " ('McNamara', 2007),\n",
       " ('Fanaroff Riley', 1974),\n",
       " ('Gull', 1973),\n",
       " ('Branduardi-Raymont', 1981),\n",
       " ('Fabian', 1981),\n",
       " ('Boehringer', 1993),\n",
       " ('Graham, Fabian Sanders', '2008a'),\n",
       " ('Churazov', 2002),\n",
       " ('Fabian', 2006),\n",
       " ('Diehl', 2008),\n",
       " ('Fabian', 2011),\n",
       " ('Reynolds', 2005),\n",
       " ('Lyutikov', 2006),\n",
       " ('Fabian', 2003),\n",
       " ('Fabian', 2006),\n",
       " ('Forman', 2007),\n",
       " ('Sanders', 2008),\n",
       " ('Blanton', 2011),\n",
       " ('Ruszkowski', 2004),\n",
       " ('Sijacki', 2006),\n",
       " ('Graham', 2008),\n",
       " ('Fabian', 2005),\n",
       " ('Taylor', 2007),\n",
       " ('Kunz', 2011),\n",
       " ('Parrish', 2012),\n",
       " ('Choi Stone', 2012),\n",
       " ('Rebusco', 2006),\n",
       " ('Graham', 2006),\n",
       " ('Werner', 2010),\n",
       " ('Werner', 2011),\n",
       " ('Simionescu', 2009),\n",
       " ('Pizzalato Soker', 2010),\n",
       " ('Narayan Fabian', 2011),\n",
       " ('Bondi', 1952),\n",
       " ('Narayan', 2011),\n",
       " ('Allen', 2006),\n",
       " ('Di Matteo', 2003),\n",
       " ('Hada', 2011),\n",
       " ('Wong', 2011),\n",
       " ('Rafferty', 2006),\n",
       " ('Hardcastle', 2007),\n",
       " ('McNamara', 2011),\n",
       " ('Peterson', 2003),\n",
       " ('Sanders', 2008),\n",
       " ('Sanders', 2008),\n",
       " ('Sanders', 2008),\n",
       " ('McNamara', 2009),\n",
       " ('Arp', None),\n",
       " ('Forman', 2007),\n",
       " ('McNamara', 2009),\n",
       " ('Crawford', 1999),\n",
       " ('Hu', 1985),\n",
       " ('Heckman', 1989),\n",
       " ('Cavagnolo', 2008),\n",
       " ('Ferland', 2009),\n",
       " ('Edge', 2001),\n",
       " ('Salomé Combes', 2003),\n",
       " ('Jaffe, Bremer van der Werf', 2001),\n",
       " ('Edge et al.', 2002),\n",
       " ('Johnstone et al.', 2007),\n",
       " ('Fabian', 2008),\n",
       " ('Salomé', 2006),\n",
       " ('Fabian', 2008),\n",
       " (\"O'Dea\", 2008),\n",
       " ('Hatch', 2005),\n",
       " ('Lim', 2012),\n",
       " ('Salomé', 2011),\n",
       " ('Canning', 2010),\n",
       " ('Egami', 2006),\n",
       " (\"O'Dea\", 2008),\n",
       " ('Edge', 2010),\n",
       " ('Voit Donahue', 2011),\n",
       " ('Hatch', 2006),\n",
       " ('Fabian', 2003),\n",
       " (\"O'Dea\", 2008),\n",
       " (\"O'Dea\", 2010),\n",
       " ('Fabian', 2002),\n",
       " ('Soker', 2004),\n",
       " ('Crawford Fabian', 1992),\n",
       " ('Ferland', 2008),\n",
       " ('Ferland', 2009),\n",
       " ('Fabian', 2011),\n",
       " ('Fabian', 2008),\n",
       " ('Lazarian', 2011),\n",
       " ('Oonk', 2011),\n",
       " ('Oegerle', 2001),\n",
       " ('Bregman', 2006),\n",
       " ('McDonald', 2012),\n",
       " ('Canning', 2011),\n",
       " ('Edwards', 2009),\n",
       " ('Oonk', 2010),\n",
       " ('Johnstone', 2007),\n",
       " ('Donahue', 2011),\n",
       " ('Egami', 2006),\n",
       " ('Edge', 2010),\n",
       " ('Mittal', 2011),\n",
       " ('Salomé', 2008),\n",
       " ('Bayet', 2011),\n",
       " ('Dasyra', 2012),\n",
       " ('Sanders', 2010),\n",
       " ('Vazza', 2009),\n",
       " ('Churazov', 2008),\n",
       " ('Werner', 2009),\n",
       " ('Bauer', 2005),\n",
       " ('Hlavacek-Larrondo', 2012),\n",
       " ('Vikhlinin', 2007),\n",
       " ('Santos', 2010),\n",
       " ('Santos', 2012),\n",
       " ('Russell', 2012),\n",
       " ('Russell', 2010),\n",
       " ('Aravena', 2011),\n",
       " ('Siemigiowska', 2010),\n",
       " ('Russell', 2012),\n",
       " ('Crawford Fabian', 2003),\n",
       " ('McCarthy', 1995),\n",
       " ('Stockton', 2006),\n",
       " ('Hallman Markevitch', 2004),\n",
       " ('Canning', 2012),\n",
       " ('Poole', 2006),\n",
       " ('Fabian', 1984),\n",
       " ('Burns', 2008),\n",
       " ('Hlavacek-Larrondo', 2012),\n",
       " ('Hlavacek-Larrondo', 2011),\n",
       " ('Ogrean', 2010),\n",
       " ('Ehlert', 2011),\n",
       " ('Rasmussen Ponman', 2009),\n",
       " ('Sun', 2009),\n",
       " ('Nulsen', 2007),\n",
       " ('Diehl Statler', 2008),\n",
       " ('Humphrey', 2011),\n",
       " ('Mulchaey Jeltema', 2010),\n",
       " ('Kormendy', 2009),\n",
       " ('Davies', 2011),\n",
       " ('Kormendy', 2009),\n",
       " ('Santra', 2007),\n",
       " ('Gallo', 2008),\n",
       " ('Vikhlinin', 2001),\n",
       " ('Santra', 2007),\n",
       " ('Sun', 2007),\n",
       " ('Di Matteo', 2003),\n",
       " ('Allen', 2006),\n",
       " ('Merloni Heinz', 2008),\n",
       " ('Cattaneo Best', 2009),\n",
       " ('Kaiser', 1986),\n",
       " ('Markevitch', 1998),\n",
       " ('Valageas', 1999),\n",
       " ('Wu', 2000),\n",
       " ('McCarthy', 2011),\n",
       " ('Allen', 2008),\n",
       " ('Vikhlinin', 2006),\n",
       " ('Gonzalez', 2007),\n",
       " ('Giodini', 2009),\n",
       " ('Balogh', 2008),\n",
       " ('Humphrey', 2012),\n",
       " ('Wu', 2000),\n",
       " ('Lapi', 2005),\n",
       " ('Vikhlinin', 2006),\n",
       " ('Dai', 2010),\n",
       " ('Young', 2011),\n",
       " ('Miley De Breuck', 2008),\n",
       " ('Blundell Rawlings', 1999),\n",
       " ('Erlund', 2006),\n",
       " ('Gopal-Krishna', 2001),\n",
       " ('Mocz', 2011),\n",
       " ('Cen', 1999),\n",
       " ('Churazov', 2005),\n",
       " ('Gallo', 2005),\n",
       " ('Fender Belloni', 2004),\n",
       " ('Remillard McClintock', 2006),\n",
       " ('Merloni', 2003),\n",
       " ('Miller', 2008),\n",
       " ('Neilsen Lee', 2009),\n",
       " ('King', 2012),\n",
       " ('Ponti', 2012),\n",
       " ('Takahashi', 2010),\n",
       " ('Carilli', 2012),\n",
       " ('Carilli', 2012),\n",
       " ('Churazov', 2005),\n",
       " ('van Daalen', 2011)]"
      ]
     },
     "execution_count": 18,
     "metadata": {},
     "output_type": "execute_result"
    }
   ],
   "source": [
    "citations"
   ]
  },
  {
   "cell_type": "code",
   "execution_count": null,
   "metadata": {},
   "outputs": [],
   "source": []
  }
 ],
 "metadata": {
  "kernelspec": {
   "display_name": "citeline",
   "language": "python",
   "name": "python3"
  },
  "language_info": {
   "codemirror_mode": {
    "name": "ipython",
    "version": 3
   },
   "file_extension": ".py",
   "mimetype": "text/x-python",
   "name": "python",
   "nbconvert_exporter": "python",
   "pygments_lexer": "ipython3",
   "version": "3.11.10"
  }
 },
 "nbformat": 4,
 "nbformat_minor": 2
}
