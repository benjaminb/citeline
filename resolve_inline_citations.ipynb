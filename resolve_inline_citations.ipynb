{
 "cells": [
  {
   "cell_type": "code",
   "execution_count": 1,
   "metadata": {},
   "outputs": [
    {
     "name": "stdout",
     "output_type": "stream",
     "text": [
      "Loading 8 files...\n",
      "\tEarth_Science_Reviews.json\n",
      "\tEarth_Science_Research.json\n",
      "\tPlanetary_Research.json\n",
      "\tPlanetary_Reviews.json\n",
      "\tsalvaged_articles.json\n",
      "\tAstro_Reviews.json\n",
      "\tAstro_Research.json\n",
      "\tdoi_articles.json\n",
      "data/json/Earth_Science_Reviews.json: 994/1000 have all required keys\n",
      "data/json/Earth_Science_Research.json: 1000/1000 have all required keys\n",
      "data/json/Planetary_Research.json: 964/1000 have all required keys\n",
      "data/json/Planetary_Reviews.json: 994/1000 have all required keys\n",
      "data/json/salvaged_articles.json: 50021/72374 have all required keys\n",
      "data/json/Astro_Reviews.json: 996/1000 have all required keys\n",
      "data/json/Astro_Research.json: 981/1000 have all required keys\n",
      "data/json/doi_articles.json: 1898/1898 have all required keys\n",
      "data_by_journal has keys dict_keys(['Earth_Science_Reviews', 'Earth_Science_Research', 'Planetary_Research', 'Planetary_Reviews', 'salvaged_articles', 'Astro_Reviews', 'Astro_Research', 'doi_articles'])\n",
      "Loaded 57848 records\n"
     ]
    }
   ],
   "source": [
    "import json\n",
    "import os\n",
    "from pprint import pprint\n",
    "from tqdm import tqdm\n",
    "from pathlib import Path\n",
    "from utils import load_dataset\n",
    "\n",
    "DATA_PATH = Path('data/json')\n",
    "# files = os.listdir(DATA_PATH)\n",
    "data_paths = list(DATA_PATH.glob('*.json'))\n",
    "print(f'Loading {len(data_paths)} files...')\n",
    "for path in data_paths:\n",
    "    print('\\t' + path.name)\n",
    "\n",
    "data_by_journal = {path.stem: load_dataset(path) for path in data_paths}\n",
    "print(f\"data_by_journal has keys {data_by_journal.keys()}\")\n",
    "\n",
    "all_data = [record for data in data_by_journal.values() for record in data]\n",
    "print(f'Loaded {len(all_data)} records')"
   ]
  },
  {
   "cell_type": "code",
   "execution_count": 2,
   "metadata": {},
   "outputs": [],
   "source": [
    "import re\n",
    "\n",
    "# Define bibcode and citation patterns\n",
    "lastname = r\"[A-Z][a-zA-ZÀ-ÖØ-öø-ÿ-]*(?:'[A-Z][a-zA-ZÀ-ÖØ-öø-ÿ-]*)?\"\n",
    "year = r\"\\(?(\\d{4}[a-z]?)\\)?\"\n",
    "name_sep = r\",?\\s\"\n",
    "INLINE_CITATION_PATTERN = fr\"({lastname}(?:{name_sep}{lastname})*(?: et al.?)?)\\s*{year}\"\n",
    "\n",
    "# Compile the regex pattern\n",
    "INLINE_REGEX = re.compile(INLINE_CITATION_PATTERN)"
   ]
  },
  {
   "cell_type": "code",
   "execution_count": 3,
   "metadata": {},
   "outputs": [],
   "source": [
    "\n",
    "def bibcode_regex(author: str, year: str):\n",
    "    \"\"\"\n",
    "    Given first author and year, return a regex pattern for the\n",
    "    corresponding bibcode\n",
    "    \"\"\"\n",
    "    initial = author[0]\n",
    "    year = year[:4]  # cut off any letters at the end\n",
    "    pattern = fr'^{year}.*{initial}$'\n",
    "    return re.compile(pattern)\n",
    "\n",
    "\n",
    "def citation_bibcode_matches(inline_citation: tuple[str, str], references: list[str]) -> int:\n",
    "    \"\"\"\n",
    "    Given an inline citation and a list of references, return the number of\n",
    "    references that match the inline citation's bibcode regex pattern\n",
    "    \"\"\"\n",
    "    pattern = bibcode_regex(*inline_citation)\n",
    "    return [s for s in references if pattern.match(s)]\n",
    "\n"
   ]
  },
  {
   "cell_type": "code",
   "execution_count": 24,
   "metadata": {},
   "outputs": [
    {
     "name": "stdout",
     "output_type": "stream",
     "text": [
      "Bibcodes: ['1996A&AS..115..339C', '1996ASPC...98..275C', '1996ApJ...457..625C']\n",
      "No matching records for bibcode 1996A&AS..115..339C\n",
      "No matching records for bibcode 1996ASPC...98..275C\n",
      "No matching records for bibcode 1996ApJ...457..625C\n"
     ]
    }
   ],
   "source": [
    "citation = ('Charlot', '1996')\n",
    "bibcodes = citation_bibcode_matches(citation, paper['reference'])\n",
    "print(f\"Bibcodes: {bibcodes}\")\n",
    "matching_dois = {doi for bibcode in bibcodes if (\n",
    "    doi := author_and_bibcode_to_doi(citation[0], bibcode, all_data))}"
   ]
  },
  {
   "cell_type": "code",
   "execution_count": 25,
   "metadata": {},
   "outputs": [],
   "source": [
    "for record in all_data:\n",
    "    if record['bibcode'] =='1996ApJ...457..625C':\n",
    "        print(record['doi'])"
   ]
  },
  {
   "cell_type": "code",
   "execution_count": 43,
   "metadata": {},
   "outputs": [
    {
     "name": "stdout",
     "output_type": "stream",
     "text": [
      "10.1111/j.1365-2966.2009.14750.x\n"
     ]
    }
   ],
   "source": [
    "import pysbd\n",
    "import unicodedata\n",
    "\n",
    "def get_inline_citations(text: str) -> list[tuple[str, str]]:\n",
    "    return [match.groups() for match in INLINE_REGEX.finditer(text)]\n",
    "\n",
    "def strip_accents(text):\n",
    "    \"\"\"\n",
    "    Strip accents from input string. Helpful for normalizing author names\n",
    "    e.g. Schönberger -> Schonberger\n",
    "    \"\"\"\n",
    "    # Normal Form Decomposition: separates base characters from their diacritics\n",
    "    text = unicodedata.normalize('NFD', text)\n",
    "\n",
    "    # Skips any chars that are accent marks\n",
    "    return ''.join(c for c in text if unicodedata.category(c) != 'Mn')\n",
    "\n",
    "def first_author_normed(authors: list[str]) -> str:\n",
    "    \"\"\"\n",
    "    Given a list of authors, return the first author\n",
    "    e.g. ['Schönrich, ralph', 'binney, james'] -> 'schonrich'\n",
    "    \"\"\"\n",
    "    return strip_accents(authors[0].split(',')[0]).lower()\n",
    "\n",
    "def author_and_bibcode_to_doi(author, bibcode, all_records):\n",
    "    \"\"\"\n",
    "    Given an author and bibcode, return the doi if there is a unique match\n",
    "    \"\"\"\n",
    "    matching_records = [record for record in all_records if record['bibcode'] == bibcode]\n",
    "\n",
    "    if not matching_records:\n",
    "        # print(f\"No matching records for bibcode {bibcode}\")\n",
    "        return None\n",
    "\n",
    "    # TODO: currently assumes that if more than one record matches the bibcode then\n",
    "    # they are duplicates. This may not be accurate! Should be checked or a deduplication\n",
    "    # step should be added.\n",
    "    \n",
    "    record = matching_records[0]\n",
    "    author_normed = strip_accents(author).lower()\n",
    "    record_author = first_author_normed(record['author'])\n",
    "    \n",
    "    # Check if normalized author name is in the list of authors on this record\n",
    "    if author_normed != record_author:\n",
    "        return None\n",
    "\n",
    "    # Citation author name matches the record author name, so it's a match! \n",
    "    return record['doi'][0]\n",
    "\n",
    "\n",
    "print(author_and_bibcode_to_doi('Schönrich', '2009MNRAS.396..203S', all_data))\n"
   ]
  },
  {
   "cell_type": "code",
   "execution_count": 44,
   "metadata": {},
   "outputs": [],
   "source": [
    "def sentence_to_example(record, sentence, all_records):\n",
    "    \"\"\"\n",
    "    \"\"\"\n",
    "    def citation_to_doi(citation):\n",
    "        \"\"\"\n",
    "        Takes a single inline citation as tuple of (author, year) and determines if there is a unique\n",
    "        matching bibcode in the record's references. If so, it continues to look for a unique\n",
    "        doi matching that bibcode in the entire dataset. \n",
    "        \n",
    "        If there are multiple matching bibcodes, it attempts to resolve the doi by checking each matched\n",
    "        bibcode's record for matching author.\n",
    "\n",
    "        It returns the doi if resolved, otherwise None.\n",
    "        \"\"\"\n",
    "        bibcodes = citation_bibcode_matches(citation, record['reference'])\n",
    "        if len(bibcodes) > 1:\n",
    "            # If there are multiple matches, attempt to resolve by author\n",
    "            dois = {doi for bibcode in bibcodes if (doi := author_and_bibcode_to_doi(citation[0], bibcode, all_records))}\n",
    "            # If only one matching doi, return it\n",
    "            if len(dois) == 1:\n",
    "                return dois.pop()\n",
    "            else:\n",
    "                # print(f\"doi's found for {citation}: {dois}\")\n",
    "                return None\n",
    "            \n",
    "        if len(bibcodes) != 1:\n",
    "            return None\n",
    "\n",
    "        # Take the bibcode and look for a unique corresponding doi\n",
    "        matching_dois = [record['doi'][0]\n",
    "                         for record in all_records if record['bibcode'] == bibcodes[0]]\n",
    "        if len(matching_dois) != 1:\n",
    "            return None\n",
    "        return matching_dois[0]\n",
    "\n",
    "    inline_citations = get_inline_citations(sentence)\n",
    "    citation_dois = []\n",
    "    for citation in inline_citations:\n",
    "        if not (doi := citation_to_doi(citation)):\n",
    "            break\n",
    "        citation_dois.append(doi)\n",
    "\n",
    "    # If all citations resolved to dois, return the example\n",
    "    # TODO: is this too strict?\n",
    "    if len(inline_citations) != len(citation_dois):\n",
    "        return None\n",
    "    return {\n",
    "        'source_doi': record['doi'][0],\n",
    "        'sentence': sentence,\n",
    "        'citation_dois': citation_dois\n",
    "    }\n",
    "\n",
    "\n",
    "def create_examples_from_record(record, all_records):\n",
    "    splitter = pysbd.Segmenter(language=\"en\", clean=False)\n",
    "    sentences = [s for s in splitter.segment(record['body']) if len(s) > 40]\n",
    "    return [\n",
    "        example for sentence in sentences if (example := sentence_to_example(record, sentence, all_records))\n",
    "    ]"
   ]
  },
  {
   "cell_type": "code",
   "execution_count": 45,
   "metadata": {},
   "outputs": [],
   "source": [
    "paper = data_by_journal['Astro_Research'][0]\n",
    "examples = create_examples_from_record(paper, all_data)"
   ]
  },
  {
   "cell_type": "code",
   "execution_count": 30,
   "metadata": {},
   "outputs": [
    {
     "name": "stdout",
     "output_type": "stream",
     "text": [
      "Found 57 non-trivial examples\n"
     ]
    }
   ],
   "source": [
    "# nontrivial_examples = [ex for ex in examples if len(ex['citation_dois']) > 0]\n",
    "# print(f\"Found {len(nontrivial_examples)} non-trivial examples\")"
   ]
  },
  {
   "cell_type": "code",
   "execution_count": 46,
   "metadata": {},
   "outputs": [
    {
     "name": "stdout",
     "output_type": "stream",
     "text": [
      "2984\n"
     ]
    },
    {
     "name": "stderr",
     "output_type": "stream",
     "text": [
      " 32%|███▏      | 960/2984 [4:19:42<9:07:33, 16.23s/it]   \n"
     ]
    },
    {
     "ename": "KeyboardInterrupt",
     "evalue": "",
     "output_type": "error",
     "traceback": [
      "\u001b[0;31m---------------------------------------------------------------------------\u001b[0m",
      "\u001b[0;31mKeyboardInterrupt\u001b[0m                         Traceback (most recent call last)",
      "Cell \u001b[0;32mIn[46], line 7\u001b[0m\n\u001b[1;32m      4\u001b[0m \u001b[38;5;28mprint\u001b[39m(\u001b[38;5;28mlen\u001b[39m(all_review_papers))\n\u001b[1;32m      6\u001b[0m \u001b[38;5;28;01mfor\u001b[39;00m paper \u001b[38;5;129;01min\u001b[39;00m tqdm(all_review_papers):\n\u001b[0;32m----> 7\u001b[0m     examples \u001b[38;5;241m=\u001b[39m \u001b[43mcreate_examples_from_record\u001b[49m\u001b[43m(\u001b[49m\u001b[43mpaper\u001b[49m\u001b[43m,\u001b[49m\u001b[43m \u001b[49m\u001b[43mall_data\u001b[49m\u001b[43m)\u001b[49m\n\u001b[1;32m      8\u001b[0m     trivial_examples, nontrivial_examples \u001b[38;5;241m=\u001b[39m [], []\n\u001b[1;32m      9\u001b[0m     \u001b[38;5;28;01mfor\u001b[39;00m example \u001b[38;5;129;01min\u001b[39;00m examples:\n",
      "Cell \u001b[0;32mIn[44], line 57\u001b[0m, in \u001b[0;36mcreate_examples_from_record\u001b[0;34m(record, all_records)\u001b[0m\n\u001b[1;32m     55\u001b[0m splitter \u001b[38;5;241m=\u001b[39m pysbd\u001b[38;5;241m.\u001b[39mSegmenter(language\u001b[38;5;241m=\u001b[39m\u001b[38;5;124m\"\u001b[39m\u001b[38;5;124men\u001b[39m\u001b[38;5;124m\"\u001b[39m, clean\u001b[38;5;241m=\u001b[39m\u001b[38;5;28;01mFalse\u001b[39;00m)\n\u001b[1;32m     56\u001b[0m sentences \u001b[38;5;241m=\u001b[39m [s \u001b[38;5;28;01mfor\u001b[39;00m s \u001b[38;5;129;01min\u001b[39;00m splitter\u001b[38;5;241m.\u001b[39msegment(record[\u001b[38;5;124m'\u001b[39m\u001b[38;5;124mbody\u001b[39m\u001b[38;5;124m'\u001b[39m]) \u001b[38;5;28;01mif\u001b[39;00m \u001b[38;5;28mlen\u001b[39m(s) \u001b[38;5;241m>\u001b[39m \u001b[38;5;241m40\u001b[39m]\n\u001b[0;32m---> 57\u001b[0m \u001b[38;5;28;01mreturn\u001b[39;00m \u001b[43m[\u001b[49m\n\u001b[1;32m     58\u001b[0m \u001b[43m    \u001b[49m\u001b[43mexample\u001b[49m\u001b[43m \u001b[49m\u001b[38;5;28;43;01mfor\u001b[39;49;00m\u001b[43m \u001b[49m\u001b[43msentence\u001b[49m\u001b[43m \u001b[49m\u001b[38;5;129;43;01min\u001b[39;49;00m\u001b[43m \u001b[49m\u001b[43msentences\u001b[49m\u001b[43m \u001b[49m\u001b[38;5;28;43;01mif\u001b[39;49;00m\u001b[43m \u001b[49m\u001b[43m(\u001b[49m\u001b[43mexample\u001b[49m\u001b[43m \u001b[49m\u001b[38;5;241;43m:=\u001b[39;49m\u001b[43m \u001b[49m\u001b[43msentence_to_example\u001b[49m\u001b[43m(\u001b[49m\u001b[43mrecord\u001b[49m\u001b[43m,\u001b[49m\u001b[43m \u001b[49m\u001b[43msentence\u001b[49m\u001b[43m,\u001b[49m\u001b[43m \u001b[49m\u001b[43mall_records\u001b[49m\u001b[43m)\u001b[49m\u001b[43m)\u001b[49m\n\u001b[1;32m     59\u001b[0m \u001b[43m\u001b[49m\u001b[43m]\u001b[49m\n",
      "Cell \u001b[0;32mIn[44], line 58\u001b[0m, in \u001b[0;36m<listcomp>\u001b[0;34m(.0)\u001b[0m\n\u001b[1;32m     55\u001b[0m splitter \u001b[38;5;241m=\u001b[39m pysbd\u001b[38;5;241m.\u001b[39mSegmenter(language\u001b[38;5;241m=\u001b[39m\u001b[38;5;124m\"\u001b[39m\u001b[38;5;124men\u001b[39m\u001b[38;5;124m\"\u001b[39m, clean\u001b[38;5;241m=\u001b[39m\u001b[38;5;28;01mFalse\u001b[39;00m)\n\u001b[1;32m     56\u001b[0m sentences \u001b[38;5;241m=\u001b[39m [s \u001b[38;5;28;01mfor\u001b[39;00m s \u001b[38;5;129;01min\u001b[39;00m splitter\u001b[38;5;241m.\u001b[39msegment(record[\u001b[38;5;124m'\u001b[39m\u001b[38;5;124mbody\u001b[39m\u001b[38;5;124m'\u001b[39m]) \u001b[38;5;28;01mif\u001b[39;00m \u001b[38;5;28mlen\u001b[39m(s) \u001b[38;5;241m>\u001b[39m \u001b[38;5;241m40\u001b[39m]\n\u001b[1;32m     57\u001b[0m \u001b[38;5;28;01mreturn\u001b[39;00m [\n\u001b[0;32m---> 58\u001b[0m     example \u001b[38;5;28;01mfor\u001b[39;00m sentence \u001b[38;5;129;01min\u001b[39;00m sentences \u001b[38;5;28;01mif\u001b[39;00m (example \u001b[38;5;241m:=\u001b[39m \u001b[43msentence_to_example\u001b[49m\u001b[43m(\u001b[49m\u001b[43mrecord\u001b[49m\u001b[43m,\u001b[49m\u001b[43m \u001b[49m\u001b[43msentence\u001b[49m\u001b[43m,\u001b[49m\u001b[43m \u001b[49m\u001b[43mall_records\u001b[49m\u001b[43m)\u001b[49m)\n\u001b[1;32m     59\u001b[0m ]\n",
      "Cell \u001b[0;32mIn[44], line 39\u001b[0m, in \u001b[0;36msentence_to_example\u001b[0;34m(record, sentence, all_records)\u001b[0m\n\u001b[1;32m     37\u001b[0m citation_dois \u001b[38;5;241m=\u001b[39m []\n\u001b[1;32m     38\u001b[0m \u001b[38;5;28;01mfor\u001b[39;00m citation \u001b[38;5;129;01min\u001b[39;00m inline_citations:\n\u001b[0;32m---> 39\u001b[0m     \u001b[38;5;28;01mif\u001b[39;00m \u001b[38;5;129;01mnot\u001b[39;00m (doi \u001b[38;5;241m:=\u001b[39m \u001b[43mcitation_to_doi\u001b[49m\u001b[43m(\u001b[49m\u001b[43mcitation\u001b[49m\u001b[43m)\u001b[49m):\n\u001b[1;32m     40\u001b[0m         \u001b[38;5;28;01mbreak\u001b[39;00m\n\u001b[1;32m     41\u001b[0m     citation_dois\u001b[38;5;241m.\u001b[39mappend(doi)\n",
      "Cell \u001b[0;32mIn[44], line 18\u001b[0m, in \u001b[0;36msentence_to_example.<locals>.citation_to_doi\u001b[0;34m(citation)\u001b[0m\n\u001b[1;32m     15\u001b[0m bibcodes \u001b[38;5;241m=\u001b[39m citation_bibcode_matches(citation, record[\u001b[38;5;124m'\u001b[39m\u001b[38;5;124mreference\u001b[39m\u001b[38;5;124m'\u001b[39m])\n\u001b[1;32m     16\u001b[0m \u001b[38;5;28;01mif\u001b[39;00m \u001b[38;5;28mlen\u001b[39m(bibcodes) \u001b[38;5;241m>\u001b[39m \u001b[38;5;241m1\u001b[39m:\n\u001b[1;32m     17\u001b[0m     \u001b[38;5;66;03m# If there are multiple matches, attempt to resolve by author\u001b[39;00m\n\u001b[0;32m---> 18\u001b[0m     dois \u001b[38;5;241m=\u001b[39m \u001b[43m{\u001b[49m\u001b[43mdoi\u001b[49m\u001b[43m \u001b[49m\u001b[38;5;28;43;01mfor\u001b[39;49;00m\u001b[43m \u001b[49m\u001b[43mbibcode\u001b[49m\u001b[43m \u001b[49m\u001b[38;5;129;43;01min\u001b[39;49;00m\u001b[43m \u001b[49m\u001b[43mbibcodes\u001b[49m\u001b[43m \u001b[49m\u001b[38;5;28;43;01mif\u001b[39;49;00m\u001b[43m \u001b[49m\u001b[43m(\u001b[49m\u001b[43mdoi\u001b[49m\u001b[43m \u001b[49m\u001b[38;5;241;43m:=\u001b[39;49m\u001b[43m \u001b[49m\u001b[43mauthor_and_bibcode_to_doi\u001b[49m\u001b[43m(\u001b[49m\u001b[43mcitation\u001b[49m\u001b[43m[\u001b[49m\u001b[38;5;241;43m0\u001b[39;49m\u001b[43m]\u001b[49m\u001b[43m,\u001b[49m\u001b[43m \u001b[49m\u001b[43mbibcode\u001b[49m\u001b[43m,\u001b[49m\u001b[43m \u001b[49m\u001b[43mall_records\u001b[49m\u001b[43m)\u001b[49m\u001b[43m)\u001b[49m\u001b[43m}\u001b[49m\n\u001b[1;32m     19\u001b[0m     \u001b[38;5;66;03m# If only one matching doi, return it\u001b[39;00m\n\u001b[1;32m     20\u001b[0m     \u001b[38;5;28;01mif\u001b[39;00m \u001b[38;5;28mlen\u001b[39m(dois) \u001b[38;5;241m==\u001b[39m \u001b[38;5;241m1\u001b[39m:\n",
      "Cell \u001b[0;32mIn[44], line 18\u001b[0m, in \u001b[0;36m<setcomp>\u001b[0;34m(.0)\u001b[0m\n\u001b[1;32m     15\u001b[0m bibcodes \u001b[38;5;241m=\u001b[39m citation_bibcode_matches(citation, record[\u001b[38;5;124m'\u001b[39m\u001b[38;5;124mreference\u001b[39m\u001b[38;5;124m'\u001b[39m])\n\u001b[1;32m     16\u001b[0m \u001b[38;5;28;01mif\u001b[39;00m \u001b[38;5;28mlen\u001b[39m(bibcodes) \u001b[38;5;241m>\u001b[39m \u001b[38;5;241m1\u001b[39m:\n\u001b[1;32m     17\u001b[0m     \u001b[38;5;66;03m# If there are multiple matches, attempt to resolve by author\u001b[39;00m\n\u001b[0;32m---> 18\u001b[0m     dois \u001b[38;5;241m=\u001b[39m {doi \u001b[38;5;28;01mfor\u001b[39;00m bibcode \u001b[38;5;129;01min\u001b[39;00m bibcodes \u001b[38;5;28;01mif\u001b[39;00m (doi \u001b[38;5;241m:=\u001b[39m \u001b[43mauthor_and_bibcode_to_doi\u001b[49m\u001b[43m(\u001b[49m\u001b[43mcitation\u001b[49m\u001b[43m[\u001b[49m\u001b[38;5;241;43m0\u001b[39;49m\u001b[43m]\u001b[49m\u001b[43m,\u001b[49m\u001b[43m \u001b[49m\u001b[43mbibcode\u001b[49m\u001b[43m,\u001b[49m\u001b[43m \u001b[49m\u001b[43mall_records\u001b[49m\u001b[43m)\u001b[49m)}\n\u001b[1;32m     19\u001b[0m     \u001b[38;5;66;03m# If only one matching doi, return it\u001b[39;00m\n\u001b[1;32m     20\u001b[0m     \u001b[38;5;28;01mif\u001b[39;00m \u001b[38;5;28mlen\u001b[39m(dois) \u001b[38;5;241m==\u001b[39m \u001b[38;5;241m1\u001b[39m:\n",
      "Cell \u001b[0;32mIn[43], line 29\u001b[0m, in \u001b[0;36mauthor_and_bibcode_to_doi\u001b[0;34m(author, bibcode, all_records)\u001b[0m\n\u001b[1;32m     25\u001b[0m \u001b[38;5;28;01mdef\u001b[39;00m \u001b[38;5;21mauthor_and_bibcode_to_doi\u001b[39m(author, bibcode, all_records):\n\u001b[1;32m     26\u001b[0m \u001b[38;5;250m    \u001b[39m\u001b[38;5;124;03m\"\"\"\u001b[39;00m\n\u001b[1;32m     27\u001b[0m \u001b[38;5;124;03m    Given an author and bibcode, return the doi if there is a unique match\u001b[39;00m\n\u001b[1;32m     28\u001b[0m \u001b[38;5;124;03m    \"\"\"\u001b[39;00m\n\u001b[0;32m---> 29\u001b[0m     matching_records \u001b[38;5;241m=\u001b[39m \u001b[43m[\u001b[49m\u001b[43mrecord\u001b[49m\u001b[43m \u001b[49m\u001b[38;5;28;43;01mfor\u001b[39;49;00m\u001b[43m \u001b[49m\u001b[43mrecord\u001b[49m\u001b[43m \u001b[49m\u001b[38;5;129;43;01min\u001b[39;49;00m\u001b[43m \u001b[49m\u001b[43mall_records\u001b[49m\u001b[43m \u001b[49m\u001b[38;5;28;43;01mif\u001b[39;49;00m\u001b[43m \u001b[49m\u001b[43mrecord\u001b[49m\u001b[43m[\u001b[49m\u001b[38;5;124;43m'\u001b[39;49m\u001b[38;5;124;43mbibcode\u001b[39;49m\u001b[38;5;124;43m'\u001b[39;49m\u001b[43m]\u001b[49m\u001b[43m \u001b[49m\u001b[38;5;241;43m==\u001b[39;49m\u001b[43m \u001b[49m\u001b[43mbibcode\u001b[49m\u001b[43m]\u001b[49m\n\u001b[1;32m     31\u001b[0m     \u001b[38;5;28;01mif\u001b[39;00m \u001b[38;5;129;01mnot\u001b[39;00m matching_records:\n\u001b[1;32m     32\u001b[0m         \u001b[38;5;66;03m# print(f\"No matching records for bibcode {bibcode}\")\u001b[39;00m\n\u001b[1;32m     33\u001b[0m         \u001b[38;5;28;01mreturn\u001b[39;00m \u001b[38;5;28;01mNone\u001b[39;00m\n",
      "Cell \u001b[0;32mIn[43], line 29\u001b[0m, in \u001b[0;36m<listcomp>\u001b[0;34m(.0)\u001b[0m\n\u001b[1;32m     25\u001b[0m \u001b[38;5;28;01mdef\u001b[39;00m \u001b[38;5;21mauthor_and_bibcode_to_doi\u001b[39m(author, bibcode, all_records):\n\u001b[1;32m     26\u001b[0m \u001b[38;5;250m    \u001b[39m\u001b[38;5;124;03m\"\"\"\u001b[39;00m\n\u001b[1;32m     27\u001b[0m \u001b[38;5;124;03m    Given an author and bibcode, return the doi if there is a unique match\u001b[39;00m\n\u001b[1;32m     28\u001b[0m \u001b[38;5;124;03m    \"\"\"\u001b[39;00m\n\u001b[0;32m---> 29\u001b[0m     matching_records \u001b[38;5;241m=\u001b[39m [record \u001b[38;5;28;01mfor\u001b[39;00m record \u001b[38;5;129;01min\u001b[39;00m all_records \u001b[38;5;28;01mif\u001b[39;00m \u001b[43mrecord\u001b[49m\u001b[43m[\u001b[49m\u001b[38;5;124;43m'\u001b[39;49m\u001b[38;5;124;43mbibcode\u001b[39;49m\u001b[38;5;124;43m'\u001b[39;49m\u001b[43m]\u001b[49m\u001b[43m \u001b[49m\u001b[38;5;241;43m==\u001b[39;49m\u001b[43m \u001b[49m\u001b[43mbibcode\u001b[49m]\n\u001b[1;32m     31\u001b[0m     \u001b[38;5;28;01mif\u001b[39;00m \u001b[38;5;129;01mnot\u001b[39;00m matching_records:\n\u001b[1;32m     32\u001b[0m         \u001b[38;5;66;03m# print(f\"No matching records for bibcode {bibcode}\")\u001b[39;00m\n\u001b[1;32m     33\u001b[0m         \u001b[38;5;28;01mreturn\u001b[39;00m \u001b[38;5;28;01mNone\u001b[39;00m\n",
      "\u001b[0;31mKeyboardInterrupt\u001b[0m: "
     ]
    }
   ],
   "source": [
    "from itertools import chain\n",
    "\n",
    "all_review_papers = list(chain(*[data_by_journal[journal] for journal in ['Astro_Reviews', 'Earth_Science_Reviews', 'Planetary_Reviews']]))\n",
    "print(len(all_review_papers))\n",
    "\n",
    "for paper in tqdm(all_review_papers):\n",
    "    examples = create_examples_from_record(paper, all_data)\n",
    "    trivial_examples, nontrivial_examples = [], []\n",
    "    for example in examples:\n",
    "        if len(example['citation_dois']) > 0:\n",
    "            nontrivial_examples.append(example)\n",
    "        else:\n",
    "            trivial_examples.append(example)\n",
    "\n",
    "    with open('data/examples_trivial.json', 'a') as f:\n",
    "        for example in trivial_examples:\n",
    "            f.write(json.dumps(example) + '\\n')\n",
    "    with open('data/examples_nontrivial.json', 'a') as f:\n",
    "        for example in nontrivial_examples:\n",
    "            f.write(json.dumps(example) + '\\n')"
   ]
  },
  {
   "cell_type": "code",
   "execution_count": 8,
   "metadata": {},
   "outputs": [
    {
     "name": "stdout",
     "output_type": "stream",
     "text": [
      "None\n"
     ]
    }
   ],
   "source": []
  },
  {
   "cell_type": "code",
   "execution_count": 9,
   "metadata": {},
   "outputs": [
    {
     "name": "stdout",
     "output_type": "stream",
     "text": [
      "Found in Astro_Research\n",
      "['Schönrich, Ralph', 'Binney, James']\n",
      "Found in doi_articles\n",
      "['Schönrich, Ralph', 'Binney, James']\n"
     ]
    }
   ],
   "source": [
    "for journal in data_by_journal:\n",
    "    data = data_by_journal[journal]\n",
    "    for i, record in enumerate(data):\n",
    "        if record['bibcode'] == '2009MNRAS.396..203S':\n",
    "            print(f\"Found in {journal}\")\n",
    "            print(record['author'])\n",
    "            break\n",
    "            "
   ]
  },
  {
   "cell_type": "code",
   "execution_count": null,
   "metadata": {},
   "outputs": [],
   "source": []
  }
 ],
 "metadata": {
  "kernelspec": {
   "display_name": "citeline",
   "language": "python",
   "name": "python3"
  },
  "language_info": {
   "codemirror_mode": {
    "name": "ipython",
    "version": 3
   },
   "file_extension": ".py",
   "mimetype": "text/x-python",
   "name": "python",
   "nbconvert_exporter": "python",
   "pygments_lexer": "ipython3",
   "version": "3.11.10"
  }
 },
 "nbformat": 4,
 "nbformat_minor": 2
}
