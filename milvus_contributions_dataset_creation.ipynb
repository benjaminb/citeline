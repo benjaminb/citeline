{
 "cells": [
  {
   "cell_type": "code",
   "execution_count": 4,
   "id": "1a3a32ce",
   "metadata": {},
   "outputs": [
    {
     "name": "stdout",
     "output_type": "stream",
     "text": [
      "Number of lines in combined.jsonl: 10938\n",
      "Total number of individual findings: 98522\n"
     ]
    }
   ],
   "source": [
    "import pandas as pd\n",
    "import json\n",
    "\n",
    "findings = pd.read_json(\"data/findings/combined.jsonl\", lines=True)\n",
    "print(f\"Number of lines in combined.jsonl: {len(findings)}\")\n",
    "print(f\"Total number of individual findings: {sum(len(row['findings']) for _, row in findings.iterrows())}\")"
   ]
  },
  {
   "cell_type": "code",
   "execution_count": 8,
   "id": "153e00a0",
   "metadata": {},
   "outputs": [
    {
     "name": "stdout",
     "output_type": "stream",
     "text": [
      "10027\n"
     ]
    }
   ],
   "source": [
    "research = pd.read_json(\"data/research_used.jsonl\", lines=True)\n",
    "research.set_index(\"doi\", inplace=True)\n",
    "research[\"pubdate\"] = research[\"pubdate\"].apply(lambda x: int(x.replace(\"-\", \"\")))\n",
    "print(len(research))"
   ]
  },
  {
   "cell_type": "code",
   "execution_count": 13,
   "id": "7d27914f",
   "metadata": {},
   "outputs": [
    {
     "name": "stderr",
     "output_type": "stream",
     "text": [
      "100%|██████████| 10938/10938 [00:06<00:00, 1623.16it/s]"
     ]
    },
    {
     "name": "stdout",
     "output_type": "stream",
     "text": [
      "Assembled 98522 records.\n"
     ]
    },
    {
     "name": "stderr",
     "output_type": "stream",
     "text": [
      "\n"
     ]
    }
   ],
   "source": [
    "from tqdm import tqdm\n",
    "all_records = pd.DataFrame(columns=['text', 'doi', 'pubdate']).astype({\n",
    "    'text': 'string',\n",
    "    'doi': 'string',\n",
    "    'pubdate': 'int'\n",
    "})\n",
    "\n",
    "for row in tqdm(findings.itertuples(), total=len(findings)):\n",
    "    doi = row.doi\n",
    "    research_record = research.loc[doi]\n",
    "    pubdate = research_record[\"pubdate\"]\n",
    "    texts = row.findings\n",
    "    new_rows = [\n",
    "        {\"text\": text, \"doi\": doi, \"pubdate\": pubdate} for text in texts\n",
    "    ]\n",
    "    all_records = pd.concat([all_records, pd.DataFrame(new_rows)], ignore_index=True)\n",
    "\n",
    "print(f\"Assembled {len(all_records)} records.\")\n"
   ]
  },
  {
   "cell_type": "code",
   "execution_count": 15,
   "id": "8fb934ed",
   "metadata": {},
   "outputs": [],
   "source": [
    "# Write out all records to a JSONL file\n",
    "all_records.to_json(\"data/research_contributions.jsonl\", orient=\"records\", lines=True)"
   ]
  },
  {
   "cell_type": "code",
   "execution_count": null,
   "id": "14838376",
   "metadata": {},
   "outputs": [],
   "source": []
  }
 ],
 "metadata": {
  "kernelspec": {
   "display_name": "citeline",
   "language": "python",
   "name": "python3"
  },
  "language_info": {
   "codemirror_mode": {
    "name": "ipython",
    "version": 3
   },
   "file_extension": ".py",
   "mimetype": "text/x-python",
   "name": "python",
   "nbconvert_exporter": "python",
   "pygments_lexer": "ipython3",
   "version": "3.11.10"
  }
 },
 "nbformat": 4,
 "nbformat_minor": 5
}
