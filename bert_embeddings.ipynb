{
 "cells": [
  {
   "cell_type": "markdown",
   "metadata": {},
   "source": [
    "## Embedding with BERT\n",
    "\n",
    "BERT doesn't have a `SentenceTransformers` implementation so we have to manually extract the last hidden state vector. The classification vector will be at position 0"
   ]
  },
  {
   "cell_type": "code",
   "execution_count": 1,
   "metadata": {},
   "outputs": [],
   "source": [
    "from transformers import AutoModel, AutoTokenizer\n",
    "import torch"
   ]
  },
  {
   "cell_type": "code",
   "execution_count": 2,
   "metadata": {},
   "outputs": [
    {
     "name": "stdout",
     "output_type": "stream",
     "text": [
      "Using device: mps\n"
     ]
    }
   ],
   "source": [
    "sentences = [\n",
    "    \"The weather is lovely today.\",\n",
    "    \"It's so sunny outside!\",\n",
    "    \"He drove to the stadium.\",\n",
    "]\n",
    "device = \"cuda\" if torch.cuda.is_available() else \"mps\" if torch.mps.is_available() else \"cpu\"\n",
    "print(f\"Using device: {device}\")"
   ]
  },
  {
   "cell_type": "code",
   "execution_count": 3,
   "metadata": {},
   "outputs": [
    {
     "name": "stdout",
     "output_type": "stream",
     "text": [
      "BertModel(\n",
      "  (embeddings): BertEmbeddings(\n",
      "    (word_embeddings): Embedding(30522, 768, padding_idx=0)\n",
      "    (position_embeddings): Embedding(512, 768)\n",
      "    (token_type_embeddings): Embedding(2, 768)\n",
      "    (LayerNorm): LayerNorm((768,), eps=1e-12, elementwise_affine=True)\n",
      "    (dropout): Dropout(p=0.1, inplace=False)\n",
      "  )\n",
      "  (encoder): BertEncoder(\n",
      "    (layer): ModuleList(\n",
      "      (0-11): 12 x BertLayer(\n",
      "        (attention): BertAttention(\n",
      "          (self): BertSdpaSelfAttention(\n",
      "            (query): Linear(in_features=768, out_features=768, bias=True)\n",
      "            (key): Linear(in_features=768, out_features=768, bias=True)\n",
      "            (value): Linear(in_features=768, out_features=768, bias=True)\n",
      "            (dropout): Dropout(p=0.1, inplace=False)\n",
      "          )\n",
      "          (output): BertSelfOutput(\n",
      "            (dense): Linear(in_features=768, out_features=768, bias=True)\n",
      "            (LayerNorm): LayerNorm((768,), eps=1e-12, elementwise_affine=True)\n",
      "            (dropout): Dropout(p=0.1, inplace=False)\n",
      "          )\n",
      "        )\n",
      "        (intermediate): BertIntermediate(\n",
      "          (dense): Linear(in_features=768, out_features=3072, bias=True)\n",
      "          (intermediate_act_fn): GELUActivation()\n",
      "        )\n",
      "        (output): BertOutput(\n",
      "          (dense): Linear(in_features=3072, out_features=768, bias=True)\n",
      "          (LayerNorm): LayerNorm((768,), eps=1e-12, elementwise_affine=True)\n",
      "          (dropout): Dropout(p=0.1, inplace=False)\n",
      "        )\n",
      "      )\n",
      "    )\n",
      "  )\n",
      "  (pooler): BertPooler(\n",
      "    (dense): Linear(in_features=768, out_features=768, bias=True)\n",
      "    (activation): Tanh()\n",
      "  )\n",
      ")\n"
     ]
    }
   ],
   "source": [
    "model_checkpoint = \"bert-base-uncased\"\n",
    "tokenizer = AutoTokenizer.from_pretrained(model_checkpoint)\n",
    "model = AutoModel.from_pretrained(model_checkpoint).to(device)\n",
    "print(model)"
   ]
  },
  {
   "cell_type": "code",
   "execution_count": 4,
   "metadata": {},
   "outputs": [],
   "source": [
    "def get_embeddings(sentences: list[str]):\n",
    "    inputs = tokenizer(sentences, return_tensors=\"pt\", padding=True, truncation=True).to(device)\n",
    "    outputs = model(**inputs)\n",
    "    return outputs.last_hidden_state[:, 0, :]"
   ]
  },
  {
   "cell_type": "code",
   "execution_count": 38,
   "metadata": {},
   "outputs": [
    {
     "name": "stdout",
     "output_type": "stream",
     "text": [
      "torch.Size([3, 768])\n"
     ]
    }
   ],
   "source": [
    "embeddings = get_embeddings(sentences)\n",
    "print(embeddings.shape)"
   ]
  },
  {
   "cell_type": "markdown",
   "metadata": {},
   "source": [
    "## Set up Chroma db"
   ]
  },
  {
   "cell_type": "code",
   "execution_count": 23,
   "metadata": {},
   "outputs": [
    {
     "name": "stdout",
     "output_type": "stream",
     "text": [
      "<chromadb.api.client.Client object at 0x35d857fd0>\n",
      "Using device: mps\n"
     ]
    }
   ],
   "source": [
    "import torch\n",
    "from sentence_transformers import SentenceTransformer\n",
    "import chromadb\n",
    "from chromadb import Documents, EmbeddingFunction, Embeddings\n",
    "\n",
    "client = chromadb.PersistentClient(path='./vector_stores/bert/')\n",
    "print(client)\n",
    "\n",
    "# Set up embedding model\n",
    "class BertChromaEmbedder(EmbeddingFunction):\n",
    "    def __init__(self, embedding_fn):\n",
    "        self._encode = embedding_fn\n",
    "\n",
    "    def __call__(self, input: Documents) -> Embeddings:\n",
    "        outputs = self._encode(input)\n",
    "        return outputs.tolist()\n",
    "\n",
    "DEVICE = \"cuda\" if torch.cuda.is_available(\n",
    ") else \"mps\" if torch.mps.is_available() else \"cpu\"\n",
    "print(f\"Using device: {DEVICE}\")"
   ]
  },
  {
   "cell_type": "code",
   "execution_count": 24,
   "metadata": {},
   "outputs": [],
   "source": [
    "embedder = BertChromaEmbedder(get_embeddings)\n",
    "result = embedder('Hi there')\n"
   ]
  },
  {
   "cell_type": "code",
   "execution_count": 25,
   "metadata": {},
   "outputs": [
    {
     "data": {
      "text/plain": [
       "(768,)"
      ]
     },
     "execution_count": 25,
     "metadata": {},
     "output_type": "execute_result"
    }
   ],
   "source": [
    "result[0].shape"
   ]
  },
  {
   "cell_type": "code",
   "execution_count": 31,
   "metadata": {},
   "outputs": [
    {
     "name": "stdout",
     "output_type": "stream",
     "text": [
      "All collections have been deleted.\n"
     ]
    }
   ],
   "source": [
    "# Get all collection names\n",
    "collections = client.list_collections()\n",
    "\n",
    "# Delete each collection\n",
    "for collection in collections:\n",
    "    client.delete_collection(name=collection.name)\n",
    "\n",
    "print(\"All collections have been deleted.\")"
   ]
  },
  {
   "cell_type": "code",
   "execution_count": 32,
   "metadata": {},
   "outputs": [
    {
     "name": "stdout",
     "output_type": "stream",
     "text": [
      "Created Collection(name=bert_test)\n"
     ]
    }
   ],
   "source": [
    "collection = client.create_collection(\n",
    "    name=\"bert_test\",\n",
    "    embedding_function=embedder,\n",
    "    metadata={\"hnsw:space\": \"cosine\"}\n",
    ")\n",
    "print(f\"Created {collection}\")"
   ]
  },
  {
   "cell_type": "markdown",
   "metadata": {},
   "source": [
    "### Add documents and test that it's using embedding function"
   ]
  },
  {
   "cell_type": "code",
   "execution_count": 33,
   "metadata": {},
   "outputs": [
    {
     "name": "stdout",
     "output_type": "stream",
     "text": [
      "Found files:\n",
      "  Earth_Science_Reviews\n",
      "  Earth_Science_Research\n",
      "  Planetary_Research\n",
      "  Planetary_Reviews\n",
      "  Astro_Reviews\n",
      "  Astro_Research\n"
     ]
    }
   ],
   "source": [
    "import os\n",
    "import json\n",
    "\n",
    "PATH_TO_DATA = 'data/json/'\n",
    "FILENAMES = os.listdir(PATH_TO_DATA)\n",
    "data = dict()\n",
    "for filename in FILENAMES:\n",
    "    with open(f'{PATH_TO_DATA}/{filename}', 'r') as file:\n",
    "        data[os.path.splitext(os.path.basename(filename))[0]] = json.load(file)\n",
    "\n",
    "print(\"Found files:\")\n",
    "for filename in data:\n",
    "    print(f\"  {filename}\")"
   ]
  },
  {
   "cell_type": "code",
   "execution_count": 34,
   "metadata": {},
   "outputs": [
    {
     "name": "stdout",
     "output_type": "stream",
     "text": [
      "Number of records: 3000\n"
     ]
    }
   ],
   "source": [
    "def preprocess_papers(papers):\n",
    "    # Convert titles from list to string\n",
    "    for paper in papers:\n",
    "        paper['title'] = paper['title'][0]\n",
    "    return papers\n",
    "\n",
    "\n",
    "def construct_document(record, fields):\n",
    "    \"\"\"\n",
    "    Construct a document from the specified fields\n",
    "    \"\"\"\n",
    "    return \"\\n\".join([record[field] for field in fields])\n",
    "\n",
    "\n",
    "def prep_metadata(record):\n",
    "    \"\"\"\n",
    "    JSONify any list or dict fields, as Chroma requires all metadata to be primitive\n",
    "    \"\"\"\n",
    "    return {key: json.dumps(value) if isinstance(value, (list, dict)) else value for key, value in record.items()}\n",
    "\n",
    "data = {key: preprocess_papers(value) for key, value in data.items()}\n",
    "\n",
    "all_papers = data['Astro_Research'] + \\\n",
    "    data['Earth_Science_Research'] + data['Planetary_Research']\n",
    "print(f\"Number of records: {len(all_papers)}\")\n",
    "\n",
    "documents = [construct_document(\n",
    "    paper, ['title', 'abstract', 'body']) for paper in all_papers]\n",
    "metadatas = [prep_metadata(paper) for paper in all_papers]\n",
    "ids = [paper['id'] for paper in all_papers]\n",
    "\n",
    "assert len(documents) == len(metadatas) == len(ids)"
   ]
  },
  {
   "cell_type": "code",
   "execution_count": 36,
   "metadata": {},
   "outputs": [],
   "source": [
    "result = collection.add(\n",
    "    documents=documents[:3],\n",
    "    metadatas=metadatas[:3],\n",
    "    ids=ids[:3]\n",
    ")\n",
    "print(result)"
   ]
  },
  {
   "cell_type": "code",
   "execution_count": 37,
   "metadata": {},
   "outputs": [
    {
     "data": {
      "text/plain": [
       "(3, 768)"
      ]
     },
     "execution_count": 37,
     "metadata": {},
     "output_type": "execute_result"
    }
   ],
   "source": [
    "results = collection.query(\n",
    "    query_texts=[\"the sun is a star\", \"black holes are interesting\"],\n",
    "    n_results=3,\n",
    "    include=[\"embeddings\", \"documents\", \"metadatas\"])\n",
    "\n",
    "results['embeddings'][0].shape"
   ]
  },
  {
   "cell_type": "code",
   "execution_count": 44,
   "metadata": {},
   "outputs": [
    {
     "name": "stdout",
     "output_type": "stream",
     "text": [
      "None\n"
     ]
    }
   ],
   "source": [
    "direct_embedding = get_embeddings([\"the sun is a star\"])\n",
    "foo = collection.add(\n",
    "    documents=[\"the sun is a star\"],\n",
    "    # metadatas=[{}],\n",
    "    ids=['foo_id']\n",
    ")\n",
    "print(foo)"
   ]
  },
  {
   "cell_type": "code",
   "execution_count": 45,
   "metadata": {},
   "outputs": [
    {
     "name": "stdout",
     "output_type": "stream",
     "text": [
      "{'ids': [['foo_id']], 'embeddings': [array([[-2.02732235e-01,  1.33627385e-01, -1.02120608e-01,\n",
      "        -3.99959236e-02, -6.64236486e-01, -2.67020136e-01,\n",
      "         1.55756801e-01,  6.37282431e-01, -7.70211443e-02,\n",
      "        -5.36820531e-01, -1.85379744e-01, -2.44763508e-01,\n",
      "        -1.23746999e-01,  6.37905121e-01,  3.39354932e-01,\n",
      "        -1.77032262e-01, -2.64158137e-02,  6.09097719e-01,\n",
      "        -4.06437479e-02, -1.73810557e-01, -1.63882673e-01,\n",
      "         5.66992834e-02, -1.27703965e-01, -2.82312721e-01,\n",
      "         3.25120427e-02, -1.52548462e-01, -1.77558005e-01,\n",
      "         4.34586331e-02,  5.07494211e-01,  2.06840962e-01,\n",
      "         4.92889173e-02,  2.18657538e-01,  9.32179540e-02,\n",
      "        -1.54707789e-01,  1.91068366e-01, -1.48803711e-01,\n",
      "         6.60459772e-02,  3.60294059e-02,  1.59142032e-01,\n",
      "         1.19473696e-01,  1.57703400e-01,  2.64891416e-01,\n",
      "         2.58314520e-01,  2.46966839e-01, -1.84186935e-01,\n",
      "        -4.04319048e-01, -2.05175376e+00, -9.97385196e-03,\n",
      "         1.43912867e-01, -2.69113123e-01,  2.40704134e-01,\n",
      "         8.39154497e-02, -9.97010320e-02,  3.44321251e-01,\n",
      "         1.75994992e-01,  4.06756550e-01, -2.86831439e-01,\n",
      "         5.78919888e-01,  1.45261094e-01,  7.46747106e-02,\n",
      "        -6.67002052e-03,  8.05988014e-02, -1.64599001e-01,\n",
      "         2.03802153e-01, -1.55351847e-01,  3.61766696e-01,\n",
      "        -8.22777376e-02, -1.71121582e-02, -2.22130507e-01,\n",
      "         3.14467937e-01, -2.67017901e-01, -9.70399231e-02,\n",
      "         2.42284149e-01,  2.39418760e-01, -2.67794549e-01,\n",
      "        -1.58004761e-01, -1.40874043e-01,  8.39152262e-02,\n",
      "        -2.10072994e-01, -3.58882248e-01,  3.60038616e-02,\n",
      "         4.49881494e-01,  2.90323794e-01,  6.08523116e-02,\n",
      "        -7.88958520e-02,  3.90453577e-01, -1.18410476e-01,\n",
      "        -9.43176597e-02,  4.35258538e-01,  5.13713419e-01,\n",
      "        -2.04343766e-01,  2.54679769e-02,  2.53244787e-01,\n",
      "         4.66610551e-01,  2.75720805e-01, -2.90159732e-01,\n",
      "        -4.95944954e-02, -1.01193786e-01,  1.79887637e-02,\n",
      "        -8.98651630e-02, -5.55929169e-02, -1.06175885e-01,\n",
      "         2.43976846e-01, -3.89487565e-01, -7.50739574e-02,\n",
      "         1.97549351e-03, -5.09475656e-02, -1.67239606e-01,\n",
      "         3.09235066e-01, -2.84333849e+00,  1.34654105e-01,\n",
      "         5.87361492e-02, -3.86233479e-01, -8.36047903e-03,\n",
      "         6.90832511e-02,  4.94139969e-01,  2.49898061e-01,\n",
      "         2.33032182e-03,  1.98452353e-01, -1.58478230e-01,\n",
      "        -1.40177190e-01,  2.65023142e-01,  1.35206327e-01,\n",
      "         8.06869194e-03,  1.91386297e-01,  3.00920784e-01,\n",
      "         2.95116097e-01, -4.15429443e-01, -1.49270937e-01,\n",
      "         3.51425260e-02, -7.18399957e-02,  3.65427643e-01,\n",
      "         1.37489334e-01,  2.12253705e-01,  2.71269023e-01,\n",
      "        -3.02443981e-01,  1.87041089e-02, -2.65983552e-01,\n",
      "        -3.37363869e-01,  1.32426828e-01, -4.99412626e-01,\n",
      "        -3.76862660e-02, -3.13848400e+00,  8.05634111e-02,\n",
      "         5.47088563e-01,  2.37943739e-01, -1.61865816e-01,\n",
      "        -2.54590422e-01,  3.01120639e-01,  1.09773129e-01,\n",
      "        -9.81281251e-02, -5.13270088e-02,  3.45856398e-02,\n",
      "         2.23234788e-01, -3.59630585e-01, -2.47030973e-01,\n",
      "         1.18695475e-01,  1.33961946e-01,  1.08925216e-01,\n",
      "         9.40095782e-02, -3.90648693e-02, -1.84275955e-01,\n",
      "         3.43568057e-01, -1.55380085e-01, -2.25692108e-01,\n",
      "         2.19387710e-02,  3.33739012e-01,  3.14409062e-02,\n",
      "         3.08476426e-02, -5.55241555e-02, -3.25605214e-01,\n",
      "        -2.00949401e-01,  3.09050560e-01,  1.49185404e-01,\n",
      "         4.14179087e-01, -3.79462242e-01,  1.84522197e-02,\n",
      "         2.65509747e-02,  7.98067302e-02, -3.48729305e-02,\n",
      "        -1.32139698e-01,  8.14122856e-02, -3.25104631e-02,\n",
      "         1.64079949e-01, -9.61036049e-03,  1.55052125e-01,\n",
      "         3.43447961e-02, -2.41593607e-02,  1.01276696e-01,\n",
      "         2.97656476e-01, -2.94092111e-02, -8.64895210e-02,\n",
      "         1.09041920e-02,  2.55174544e-02,  2.59825349e-01,\n",
      "        -1.52414083e-01, -1.91419497e-01, -7.49220073e-01,\n",
      "         3.51974010e-01,  3.08999568e-01, -2.98526853e-01,\n",
      "        -3.32655847e-01, -4.69751477e-01,  4.44812402e-02,\n",
      "        -4.82409932e-02,  3.85583663e+00,  1.72200993e-01,\n",
      "        -8.24359953e-02,  2.00189829e-01,  1.10343039e-01,\n",
      "         1.17375525e-02, -1.03663728e-01, -4.90807369e-02,\n",
      "        -5.68346262e-01, -3.00162509e-02, -9.32033956e-02,\n",
      "        -1.26042813e-01,  1.17771059e-01, -1.75264448e-01,\n",
      "         1.30310833e-01,  4.83822286e-01,  2.49094069e-01,\n",
      "         1.04286313e-01, -1.28976122e-01, -4.49394584e-02,\n",
      "         1.59440577e-01,  3.55088562e-01,  4.08780485e-01,\n",
      "        -1.85361773e-01, -1.12746191e+00,  1.84561461e-01,\n",
      "        -2.21468270e-01, -2.84522921e-01,  2.81732678e-01,\n",
      "        -3.80474478e-01, -5.60919568e-02, -2.20448710e-02,\n",
      "        -2.87887782e-01,  3.65973711e-01, -1.23497814e-01,\n",
      "         1.45201012e-01,  3.16313773e-01, -6.08377993e-01,\n",
      "         2.66987026e-01, -1.16239436e-01, -9.05074924e-03,\n",
      "        -4.89887297e-02, -7.85658956e-02,  1.01460107e-01,\n",
      "         5.63767478e-02,  5.25436848e-02, -5.30587375e-01,\n",
      "        -1.20019816e-01,  5.31061441e-02, -1.30615681e-01,\n",
      "        -1.45749137e-01, -2.89955959e-02, -1.90580599e-02,\n",
      "         1.83577210e-01, -5.68322577e-02, -1.77303731e-01,\n",
      "        -1.02459788e-01,  2.05356732e-01,  1.06841490e-01,\n",
      "        -1.64254487e-01,  5.40666282e-02,  5.28487414e-02,\n",
      "        -2.94681508e-02,  2.36820430e-01,  4.63954806e-02,\n",
      "        -2.79639289e-02, -3.90583992e-01, -2.32003182e-01,\n",
      "        -4.62151098e+00,  3.94302130e-01,  2.37904966e-01,\n",
      "         3.11096221e-01,  2.45519623e-01,  1.23621617e-02,\n",
      "         2.43593574e-01,  2.28257805e-01,  9.06348825e-02,\n",
      "        -4.90769297e-01,  4.49322969e-01,  1.43489331e-01,\n",
      "         8.37698728e-02,  2.96156764e-01, -5.10774374e-01,\n",
      "         3.38491499e-01,  3.46608907e-02, -4.32195961e-01,\n",
      "        -1.00992620e-01, -6.95407987e-02,  2.63795972e-01,\n",
      "         3.37098479e-01, -2.93788224e-01,  3.72213498e-02,\n",
      "        -1.88770264e-01, -2.44186014e-01, -4.01124299e-01,\n",
      "        -3.25002730e-01,  1.44821525e-01,  1.80024728e-02,\n",
      "         2.01051384e-02,  7.46030509e-02, -1.25011429e-03,\n",
      "        -1.56227499e-01,  3.38688046e-01, -2.77614713e+00,\n",
      "         1.96808428e-01, -9.51914713e-02, -2.59093612e-01,\n",
      "        -1.93252526e-02, -1.37362212e-01,  2.24242181e-01,\n",
      "        -5.51470779e-02,  1.04144387e-01, -1.23255253e-02,\n",
      "        -8.35129544e-02, -1.86314896e-01, -3.24370801e-01,\n",
      "         2.42156833e-01,  3.16134274e-01,  2.23039538e-02,\n",
      "         3.75795305e-01,  1.78892225e-01, -1.78730592e-01,\n",
      "         1.46416679e-01, -2.55802199e-02,  2.00266734e-01,\n",
      "        -3.30157101e-01,  2.00705491e-02, -1.05863601e-01,\n",
      "         8.32772106e-02, -1.23872235e-01, -2.74386466e-01,\n",
      "         4.83252481e-02, -7.90986344e-02,  1.15201861e-01,\n",
      "         1.50883913e-01, -4.64659184e-03, -4.71499413e-01,\n",
      "        -1.22505233e-01, -2.57175177e-01,  2.62679517e-01,\n",
      "         1.64389729e-01,  2.99440622e-01,  1.73747540e-02,\n",
      "        -4.06709552e-01,  4.16422606e-01,  1.68158978e-01,\n",
      "         2.91203618e-01,  4.08657700e-01,  2.98830420e-02,\n",
      "         3.70355472e-02,  4.75232750e-02,  3.34509164e-02,\n",
      "         8.46807212e-02, -1.91080600e-01, -3.00067887e-02,\n",
      "         8.58549118e-01, -3.64824027e-01,  1.92491576e-01,\n",
      "        -2.25936294e-01,  1.69524252e-01, -8.33281577e-02,\n",
      "         6.80560023e-02, -5.33446856e-02,  4.56843644e-01,\n",
      "         2.76245316e-03,  3.23768735e-01, -2.92704832e-02,\n",
      "         1.63768306e-01, -1.52252465e-02,  1.02428943e-02,\n",
      "        -1.93607062e-01,  2.24289745e-01,  7.54049495e-02,\n",
      "        -2.20071509e-01,  2.72446752e-01, -1.94640651e-01,\n",
      "        -4.32724506e-01, -1.61709309e-01,  9.18542072e-02,\n",
      "        -2.43850470e-01,  1.33086264e-01,  1.23656452e-01,\n",
      "        -3.61049712e-01, -1.07982934e-01,  1.99393302e-01,\n",
      "         4.18840125e-02,  1.97439060e-01,  3.62283885e-02,\n",
      "         1.49961263e-01, -7.63448924e-02,  2.37979114e-01,\n",
      "        -1.93927020e-01,  1.70279033e-02, -1.19518422e-01,\n",
      "         1.11701198e-01,  2.84721851e-01,  3.42679262e-01,\n",
      "        -1.24234539e-02, -2.91271955e-02, -1.78747892e-01,\n",
      "        -8.79414141e-01,  1.70034930e-01, -2.86463164e-02,\n",
      "        -3.67233083e-02, -3.34762305e-01,  1.14061721e-01,\n",
      "         2.14564160e-01, -5.35550416e-01, -7.41140246e-02,\n",
      "        -3.87204550e-02,  1.50801733e-01, -8.21905658e-02,\n",
      "         1.75494522e-01, -1.09147444e-01,  3.82775292e-02,\n",
      "         1.28434673e-02,  3.36418211e-01,  9.26240325e-01,\n",
      "         5.40767610e-03,  1.73588395e-01,  5.65580010e-01,\n",
      "         7.90550113e-02,  1.94623619e-01,  1.62085652e-01,\n",
      "         1.87134027e-01, -7.01522827e-03, -4.61488307e-01,\n",
      "        -5.54188311e-01,  2.18803793e-01,  1.54507264e-01,\n",
      "        -3.76131862e-01, -2.60817587e-01, -6.00410849e-02,\n",
      "         7.08481967e-02, -3.80163670e-01, -1.96473971e-01,\n",
      "        -5.71686566e-01, -1.10942394e-01, -1.31009351e-02,\n",
      "        -1.80891395e-01,  4.81898606e-01,  3.44736546e-01,\n",
      "         1.55239329e-01,  2.00762853e-01,  3.25612247e-01,\n",
      "        -6.35651648e-02,  2.69572377e-01,  1.96910471e-01,\n",
      "        -3.71376164e-02,  1.47941887e-01, -9.57706422e-02,\n",
      "        -1.47190943e-01,  5.54867208e-01,  2.55783349e-01,\n",
      "        -3.38114917e-01,  1.43496349e-01, -2.15334713e-01,\n",
      "        -8.32372978e-02,  9.38853249e-02,  3.12435538e-01,\n",
      "        -3.55166495e-02,  1.47250131e-01, -4.70000207e-02,\n",
      "         1.52440026e-01, -3.11781317e-02, -9.35862005e-01,\n",
      "         2.40305454e-01,  4.21757698e-01,  1.39263749e-01,\n",
      "         2.89442658e-01, -3.08708668e-01, -6.40239045e-02,\n",
      "         3.75123918e-01, -4.22409326e-02,  1.94361180e-01,\n",
      "         9.34326649e-02, -4.10734341e-02, -1.67855710e-01,\n",
      "         9.92776603e-02,  3.57065231e-01,  7.15713575e-02,\n",
      "         9.36617851e-02, -1.50578767e-01,  2.01956019e-01,\n",
      "         1.14238553e-01, -3.24891448e-01,  2.36318976e-01,\n",
      "        -3.10090303e-01, -7.57224411e-02, -1.61395565e-01,\n",
      "        -1.89080402e-01, -2.79195607e-03,  8.50924253e-02,\n",
      "         3.52066457e-01,  1.68194801e-01, -3.65450501e-01,\n",
      "        -5.54991305e-01, -4.74976361e-01,  1.39743447e-01,\n",
      "        -2.22095266e-01, -1.41514122e-01,  2.62733042e-01,\n",
      "        -2.23971173e-01,  9.98113602e-02,  3.39122415e-01,\n",
      "        -7.59229124e-01,  4.11252886e-01, -9.73230228e-03,\n",
      "        -3.64904433e-01,  2.82118738e-01,  1.96700692e-02,\n",
      "        -1.29406035e-01,  1.99393168e-01,  2.70532295e-02,\n",
      "        -1.12044618e-01,  1.60683393e-01,  2.26896197e-01,\n",
      "        -1.25837117e-01,  8.32614601e-02,  1.30870938e-01,\n",
      "        -3.58549580e-02,  2.24325448e-01, -3.34186181e-02,\n",
      "         1.59840703e-01, -5.05774394e-02,  3.95937562e-01,\n",
      "        -1.89960077e-02,  1.40346745e-02,  4.69412744e-01,\n",
      "        -1.94625303e-01, -3.52915019e-01,  5.69766313e-02,\n",
      "        -1.84867710e-01, -1.95054010e-01,  3.05307508e-01,\n",
      "         7.33431429e-02, -1.53278872e-01, -3.35242659e-01,\n",
      "        -2.68586487e-01, -1.27243161e-01, -1.38242990e-01,\n",
      "         6.45970255e-02, -5.72142303e-02, -1.92065593e-02,\n",
      "        -1.58000246e-01,  1.72490150e-01, -2.45042175e-01,\n",
      "        -1.98296815e-01, -2.16518026e-02,  9.94794518e-02,\n",
      "        -1.16990574e-01, -3.94546568e-01, -2.07342058e-01,\n",
      "        -6.92248344e-02, -1.97267279e-01, -5.75874209e-01,\n",
      "        -4.37116832e-01,  4.59692031e-01,  4.33728397e-02,\n",
      "         2.93167800e-01,  2.40046799e-01,  3.09221298e-01,\n",
      "         3.86534929e-02,  4.02889252e-01, -1.28419459e-01,\n",
      "        -1.10776484e-01,  3.86063218e-01,  6.91258162e-03,\n",
      "         2.38609165e-01, -2.10823968e-01,  1.80791125e-01,\n",
      "         3.87907267e-01, -1.09530210e-01, -1.38153180e-01,\n",
      "        -3.89058799e-01, -2.21791402e-01,  2.01602742e-01,\n",
      "         4.29418907e-02,  2.59745121e-01,  1.12184770e-02,\n",
      "         2.86586553e-01,  3.70830297e-01,  2.17551395e-01,\n",
      "         2.31476665e+00,  5.07845402e-01,  2.68114448e-01,\n",
      "         3.74704711e-02,  2.57376820e-01, -7.48536214e-02,\n",
      "        -3.84285338e-02,  8.08892399e-03, -7.57896602e-02,\n",
      "         6.11336343e-02, -3.73539150e-01, -4.49576601e-02,\n",
      "         8.95249397e-02, -3.45588438e-02,  5.11920869e-01,\n",
      "         3.10081661e-01,  2.40095988e-01, -3.63503322e-02,\n",
      "        -4.46952164e-01, -9.59419459e-02, -2.18298927e-01,\n",
      "         2.85893470e-01,  3.98758888e-01, -2.95723021e-01,\n",
      "         2.65676677e-02,  8.40613022e-02,  1.40125930e-01,\n",
      "        -1.98980823e-01,  6.11526966e-02, -1.84132561e-01,\n",
      "         2.08793968e-01,  2.66830981e-01,  6.92643225e-04,\n",
      "         9.94417295e-02, -9.78930593e-02,  2.00309828e-01,\n",
      "         2.50682712e-01, -6.04111180e-02, -2.72875845e-01,\n",
      "         4.87812996e-01, -4.65304367e-02, -4.53686535e-01,\n",
      "         2.27182910e-01, -1.22220218e-01, -1.85821041e-01,\n",
      "         3.59695405e-01, -1.42043717e-02,  1.32900834e-01,\n",
      "        -3.73405337e-01,  9.93473530e-02,  1.42557472e-02,\n",
      "        -3.88594449e-01, -2.46925563e-01,  2.67248731e-02,\n",
      "        -3.90996695e-01, -1.13561384e-01,  2.44730175e-01,\n",
      "        -2.28155293e-02, -3.02019566e-01,  4.61256385e-01,\n",
      "         4.21048403e-01,  4.74892616e-01,  2.12800309e-01,\n",
      "        -2.55296528e-01,  1.40045986e-01, -2.08898857e-02,\n",
      "        -4.56286132e-01,  2.19556034e-01, -2.29277108e-02,\n",
      "        -2.81860083e-01,  8.09976906e-02,  1.76054910e-01,\n",
      "         2.98422337e-01,  1.51589677e-01,  2.41932511e-01,\n",
      "        -7.39405081e-02,  4.14705366e-01, -2.37861738e-01,\n",
      "         6.03832901e-02, -3.52503967e+00, -1.34421170e-01,\n",
      "         6.18596561e-02,  3.72955024e-01, -8.17244798e-02,\n",
      "         2.70885855e-01,  4.97991070e-02, -6.46701828e-03,\n",
      "         2.45551206e-02, -1.47035792e-01,  2.95496702e-01,\n",
      "         2.42880583e-01,  2.15042546e-01,  3.87794763e-01,\n",
      "         3.09008211e-01,  1.62916765e-01, -3.00982688e-02,\n",
      "        -2.22083852e-01, -1.79731399e-01, -7.28156278e-03,\n",
      "        -1.47326708e-01, -6.28663972e-02, -1.76407635e-01,\n",
      "        -2.25898787e-01, -4.59213614e-01,  1.68153625e-02,\n",
      "         1.82560146e-01, -6.28411025e-02,  1.51723668e-01,\n",
      "         1.99659541e-01, -9.75136459e-02,  4.16678429e-01,\n",
      "         3.90335053e-01,  2.52385706e-01,  3.06517854e-02,\n",
      "        -1.88217804e-01, -9.73328203e-03, -1.15294904e-01,\n",
      "         2.69202352e-01, -1.16260871e-01, -1.84257835e-01,\n",
      "         5.20165384e-01, -2.31172293e-01,  3.09664756e-01,\n",
      "        -4.94751573e-01, -4.43497151e-02, -4.90451232e-03,\n",
      "        -6.46576434e-02,  3.91176671e-01, -2.17633247e-01,\n",
      "         4.30701673e-03,  1.25870690e-01, -5.24166942e-01,\n",
      "         1.23307668e-01,  4.63174582e-01,  3.41629058e-01,\n",
      "        -4.81509939e-02,  2.50481308e-01, -8.55252296e-02,\n",
      "        -1.80135593e-01,  1.03326581e-01, -2.43382752e-02,\n",
      "         8.92015547e-03, -9.38931853e-02,  3.34755242e-01,\n",
      "         1.66960284e-02,  7.74502307e-02,  1.73644662e-01,\n",
      "         1.79596245e-02, -3.65783900e-01, -8.44237059e-02,\n",
      "        -1.31265551e-01,  1.38627470e-01, -2.43845463e-01,\n",
      "        -1.13681205e-01,  1.61724597e-01, -1.67157561e-01,\n",
      "         4.89689112e-01,  3.53904575e-01,  1.16044208e-01,\n",
      "        -7.66791999e-02, -3.58564526e-01,  6.87794462e-02,\n",
      "        -6.07945397e-03,  9.30779427e-02, -8.34109402e+00,\n",
      "        -1.19177401e-01, -1.30902722e-01,  1.82444170e-01,\n",
      "         1.37520641e-01,  5.52002117e-02, -8.06722790e-02,\n",
      "        -1.47876501e-01, -4.46212403e-02,  1.68830469e-01,\n",
      "         3.01754326e-01, -1.00859895e-01,  1.93161920e-01,\n",
      "        -2.93909073e-01,  3.45549911e-01,  5.52641571e-01]])], 'documents': [['the sun is a star']], 'uris': None, 'data': None, 'metadatas': None, 'distances': None, 'included': [<IncludeEnum.embeddings: 'embeddings'>, <IncludeEnum.documents: 'documents'>]}\n"
     ]
    }
   ],
   "source": [
    "chroma_embedding = collection.query(\n",
    "    query_texts=[\"the sun is a star\"],\n",
    "    n_results=1,\n",
    "    include=[\"embeddings\", \"documents\"]\n",
    ")\n",
    "\n",
    "print(chroma_embedding)"
   ]
  },
  {
   "cell_type": "code",
   "execution_count": 48,
   "metadata": {},
   "outputs": [
    {
     "name": "stdout",
     "output_type": "stream",
     "text": [
      "<class 'numpy.ndarray'>\n",
      "(768,)\n"
     ]
    }
   ],
   "source": [
    "print(type(chroma_embedding['embeddings'][0]))\n",
    "print(chroma_embedding['embeddings'][0][0].shape)"
   ]
  },
  {
   "cell_type": "code",
   "execution_count": 57,
   "metadata": {},
   "outputs": [
    {
     "name": "stdout",
     "output_type": "stream",
     "text": [
      "(1, 768)\n",
      "(1, 768)\n",
      "True\n"
     ]
    }
   ],
   "source": [
    "import numpy as np\n",
    "direct_numpy = direct_embedding.cpu().detach().numpy()\n",
    "chroma_numpy = chroma_embedding['embeddings'][0]\n",
    "print(direct_numpy.shape)\n",
    "print(chroma_numpy.shape)\n",
    "print(np.array_equal(direct_numpy, chroma_numpy))"
   ]
  },
  {
   "cell_type": "code",
   "execution_count": null,
   "metadata": {},
   "outputs": [],
   "source": []
  }
 ],
 "metadata": {
  "kernelspec": {
   "display_name": "citeline",
   "language": "python",
   "name": "python3"
  },
  "language_info": {
   "codemirror_mode": {
    "name": "ipython",
    "version": 3
   },
   "file_extension": ".py",
   "mimetype": "text/x-python",
   "name": "python",
   "nbconvert_exporter": "python",
   "pygments_lexer": "ipython3",
   "version": "3.11.10"
  }
 },
 "nbformat": 4,
 "nbformat_minor": 2
}
