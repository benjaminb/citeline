{
 "cells": [
  {
   "cell_type": "code",
   "execution_count": 1,
   "id": "a2a7d335",
   "metadata": {},
   "outputs": [
    {
     "name": "stdout",
     "output_type": "stream",
     "text": [
      "=================================CONFIG=================================\n",
      "Database         User             Host                             Port            \n",
      "citelinedb       bbasseri         localhost                        5432            \n",
      "========================================================================\n",
      "Database version: ('PostgreSQL 17.5 (Homebrew) on aarch64-apple-darwin24.4.0, compiled by Apple clang version 17.0.0 (clang-1700.0.13.3), 64-bit',)\n"
     ]
    }
   ],
   "source": [
    "from database.database import Database\n",
    "db = Database()\n",
    "db.test_connection()\n"
   ]
  },
  {
   "cell_type": "code",
   "execution_count": 2,
   "id": "bef9c5de",
   "metadata": {},
   "outputs": [
    {
     "name": "stdout",
     "output_type": "stream",
     "text": [
      "10027\n"
     ]
    }
   ],
   "source": [
    "results = db.query(\"SELECT DISTINCT doi FROM contributions\")\n",
    "print(len(results))"
   ]
  },
  {
   "cell_type": "code",
   "execution_count": 3,
   "id": "d02bd00c",
   "metadata": {},
   "outputs": [
    {
     "name": "stdout",
     "output_type": "stream",
     "text": [
      "['10.1086/160030', '10.1086/156379', '10.1086/153030', '10.1086/172915', '10.1111/j.1365-2966.2004.07189.x']\n"
     ]
    }
   ],
   "source": [
    "dois = [row[0] for row in results]\n",
    "print(dois[:5])"
   ]
  },
  {
   "cell_type": "code",
   "execution_count": 4,
   "id": "d41c860a",
   "metadata": {},
   "outputs": [],
   "source": [
    "import json\n",
    "\n",
    "# Write out dois\n",
    "with open(\"research_dois_used.json\", \"w\") as f:\n",
    "    json.dump(dois, f)"
   ]
  },
  {
   "cell_type": "code",
   "execution_count": 5,
   "id": "26ac3cc1",
   "metadata": {},
   "outputs": [
    {
     "name": "stdout",
     "output_type": "stream",
     "text": [
      "               bibcode                                           abstract  \\\n",
      "0  1974MNRAS.167P..31F  The relative positions of the high and low bri...   \n",
      "1  1955ApJ...121..161S  The evolutionary significance of the observed ...   \n",
      "2  2023MNRAS.525L..98T  In the last decade, a dozen close-in giant pla...   \n",
      "3  1965ApJ...142..419P  Measurements of the effective zenith noise tem...   \n",
      "4  1978MNRAS.182..147B  It is shown that charged particles can be acce...   \n",
      "\n",
      "                                                 aff  \\\n",
      "0                                             [-, -]   \n",
      "1                                                [-]   \n",
      "2  [School of Physics &amp; Astronomy, University...   \n",
      "3  [Bell Telephone Laboratories Inc., Bell Teleph...   \n",
      "4  [Mullard Radio Astronomy Observatory, Cambridg...   \n",
      "\n",
      "                                              author             bibstem  \\\n",
      "0                    [Fanaroff, B. L., Riley, J. M.]  [MNRAS, MNRAS.167]   \n",
      "1                               [Salpeter, Edwin E.]    [ApJ, ApJ...121]   \n",
      "2  [Triaud, Amaury H. M. J., Dransfield, Georgina...  [MNRAS, MNRAS.525]   \n",
      "3                    [Penzias, A. A., Wilson, R. W.]    [ApJ, ApJ...142]   \n",
      "4                                      [Bell, A. R.]  [MNRAS, MNRAS.182]   \n",
      "\n",
      "   doctype                      doi        id     pubdate  \\\n",
      "0  article  10.1093/mnras/167.1.31P   1307050  1974-05-01   \n",
      "1  article           10.1086/145971   1123816  1955-01-01   \n",
      "2  article   10.1093/mnrasl/slad097  23765211  2023-10-01   \n",
      "3  article           10.1086/148307   1168728  1965-07-01   \n",
      "4  article  10.1093/mnras/182.2.147   1403480  1978-01-01   \n",
      "\n",
      "                                               title  read_count  \\\n",
      "0  The morphology of extragalactic radio sources ...          32   \n",
      "1     The Luminosity Function and Stellar Evolution.         121   \n",
      "2  An M dwarf accompanied by a close-in giant orb...         112   \n",
      "3  A Measurement of Excess Antenna Temperature at...          45   \n",
      "4  The acceleration of cosmic rays in shock front...          50   \n",
      "\n",
      "                                           reference                 data  \\\n",
      "0  [1968MNRAS.138..259M, 1969MNRAS.145...31M, 196...  [NED:80, SIMBAD:81]   \n",
      "1  [1938ApJ....88..429K, 1939POMin...7....1L, 194...                 None   \n",
      "2  [1991A&A...248..485D, 1994PASP..106..566H, 199...  [IRSA:1, SIMBAD:18]   \n",
      "3  [1959JAP....30.1417H, 1959JAP....30.2013D, 196...                 None   \n",
      "4  [1965MNRAS.131...23H, 1966ApJ...143..961J, 196...           [SIMBAD:1]   \n",
      "\n",
      "   citation_count                                           citation  \\\n",
      "0            2681  [1974MNRAS.169..395B, 1974Natur.250..625W, 197...   \n",
      "1            8170  [1956ApJS....2..365W, 1957ApJ...125..422S, 195...   \n",
      "2              11  [2024A&A...683A.166A, 2024A&A...689A..53B, 202...   \n",
      "3            1518  [1965ApJ...142.1317P, 1965PhRvL..15.1003F, 196...   \n",
      "4            2482  [1978ApJ...226..613R, 1978MNRAS.182..443B, 197...   \n",
      "\n",
      "                                                body  \\\n",
      "0  Mon. Not. R. astr. Soc. (i~y~.) 167, Short Com...   \n",
      "1  1955ApJ. . .121. .161S THE LUMINOSITY FUNCTION...   \n",
      "2  1 INTRODUCTION Protoplanetary disc mass scales...   \n",
      "3  19 65ApJ. . .142. .419P No. 1, 1965 LETTERS TO...   \n",
      "4  197 8MNRAS.182. .147B Mon. Not. R. astr. Soc. ...   \n",
      "\n",
      "                                                dois  \\\n",
      "0                          [10.1093/mnras/167.1.31P]   \n",
      "1                                   [10.1086/145971]   \n",
      "2  [10.1093/mnrasl/slad097, 10.48550/arXiv.2308.0...   \n",
      "3                                   [10.1086/148307]   \n",
      "4                          [10.1093/mnras/182.2.147]   \n",
      "\n",
      "                                            keywords  \\\n",
      "0                                               None   \n",
      "1                                               None   \n",
      "2  [techniques: photometric, techniques: radial v...   \n",
      "3  [Microwave Background, Cosmic Background Radia...   \n",
      "4  [Cosmic Rays, Particle Acceleration, Relativis...   \n",
      "\n",
      "                     loaded_from  \\\n",
      "0  data/json/Astro_Research.json   \n",
      "1  data/json/Astro_Research.json   \n",
      "2  data/json/Astro_Research.json   \n",
      "3  data/json/Astro_Research.json   \n",
      "4  data/json/Astro_Research.json   \n",
      "\n",
      "                                      body_sentences  \n",
      "0  [Mon.  Not.  R. astr.  Soc., (i~y~.) 167, Shor...  \n",
      "1  [1955ApJ.  .  .121., .161S THE LUMINOSITY FUNC...  \n",
      "2  [1 INTRODUCTION Protoplanetary disc mass scale...  \n",
      "3  [19 65ApJ.  .  .142., .419P No. 1, 1965 LETTER...  \n",
      "4  [197 8MNRAS.182.  .147B Mon.  Not.  R. astr.  ...  \n"
     ]
    }
   ],
   "source": [
    "import pandas as pd\n",
    "\n",
    "research = pd.read_json('data/preprocessed/research.jsonl', lines=True)\n",
    "print(research.head())"
   ]
  },
  {
   "cell_type": "code",
   "execution_count": 7,
   "id": "35fd9412",
   "metadata": {},
   "outputs": [
    {
     "name": "stdout",
     "output_type": "stream",
     "text": [
      "52618\n"
     ]
    }
   ],
   "source": [
    "print(len(research))"
   ]
  },
  {
   "cell_type": "code",
   "execution_count": 6,
   "id": "6f90d4c8",
   "metadata": {},
   "outputs": [
    {
     "name": "stdout",
     "output_type": "stream",
     "text": [
      "10027\n"
     ]
    }
   ],
   "source": [
    "# filter research to just those records with doi in dois being used\n",
    "dois_used_set = set(dois)\n",
    "filtered_research = research[research[\"doi\"].isin(dois_used_set)]\n",
    "print(len(filtered_research))"
   ]
  },
  {
   "cell_type": "code",
   "execution_count": 8,
   "id": "39e472be",
   "metadata": {},
   "outputs": [],
   "source": [
    "filtered_research.to_json('data/preprocessed/research_used.jsonl', lines=True, orient='records')"
   ]
  },
  {
   "cell_type": "code",
   "execution_count": null,
   "id": "48b94b2c",
   "metadata": {},
   "outputs": [],
   "source": []
  }
 ],
 "metadata": {
  "kernelspec": {
   "display_name": "citeline",
   "language": "python",
   "name": "python3"
  },
  "language_info": {
   "codemirror_mode": {
    "name": "ipython",
    "version": 3
   },
   "file_extension": ".py",
   "mimetype": "text/x-python",
   "name": "python",
   "nbconvert_exporter": "python",
   "pygments_lexer": "ipython3",
   "version": "3.11.10"
  }
 },
 "nbformat": 4,
 "nbformat_minor": 5
}
