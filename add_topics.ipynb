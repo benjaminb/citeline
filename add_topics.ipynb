{
 "cells": [
  {
   "cell_type": "code",
   "execution_count": null,
   "id": "cbebfb1f",
   "metadata": {},
   "outputs": [
    {
     "name": "stdout",
     "output_type": "stream",
     "text": [
      "data/json/Astro_Research.json: 981/1000 have all required keys\n"
     ]
    }
   ],
   "source": [
    "from preprocessing import load_dataset\n",
    "\n"
   ]
  },
  {
   "cell_type": "code",
   "execution_count": 7,
   "id": "6a9a76c2",
   "metadata": {},
   "outputs": [
    {
     "data": {
      "text/plain": [
       "'A&A..'"
      ]
     },
     "execution_count": 7,
     "metadata": {},
     "output_type": "execute_result"
    }
   ],
   "source": [
    "astro_research[111]['bibcode'][4:9]"
   ]
  },
  {
   "cell_type": "code",
   "execution_count": null,
   "id": "edd8fbf8",
   "metadata": {},
   "outputs": [
    {
     "name": "stdout",
     "output_type": "stream",
     "text": [
      "Found 3 journal codes:\n"
     ]
    }
   ],
   "source": [
    "# Make a list of all the journal codes found in the bibcodes\n",
    "datasets = ['data/json/Astro_Research.json', 'data/json/Earth_Science_Research.json', 'data/json/Physics_Research.json']\n",
    "\n",
    "def get_journal_codes(records):\n",
    "    journal_codes = set()\n",
    "    for record in records:\n",
    "        bibcode = record[\"bibcode\"]\n",
    "        journal_codes.add(bibcode[4:9])\n",
    "    return journal_codes\n",
    "\n",
    "\n",
    "        "
   ]
  },
  {
   "cell_type": "code",
   "execution_count": 12,
   "id": "ca288a5b",
   "metadata": {},
   "outputs": [
    {
     "name": "stdout",
     "output_type": "stream",
     "text": [
      "data/json/Astro_Research.json: 981/1000 have all required keys\n",
      "data/json/Earth_Science_Research.json: 1000/1000 have all required keys\n",
      "data/json/Planetary_Research.json: 964/1000 have all required keys\n"
     ]
    }
   ],
   "source": [
    "astro_research = load_dataset(\"data/json/Astro_Research.json\")\n",
    "\n",
    "astro_journal_codes = get_journal_codes(astro_research)\n",
    "\n",
    "earth_science_research = load_dataset(\"data/json/Earth_Science_Research.json\")\n",
    "earth_science_journal_codes = get_journal_codes(earth_science_research)\n",
    "\n",
    "planetary_research = load_dataset(\"data/json/Planetary_Research.json\")\n",
    "planetary_journal_codes = get_journal_codes(planetary_research)"
   ]
  },
  {
   "cell_type": "code",
   "execution_count": 13,
   "id": "7cdd015c",
   "metadata": {},
   "outputs": [
    {
     "name": "stdout",
     "output_type": "stream",
     "text": [
      "{'ApJ..', 'MNRAS', 'A&A..'}\n"
     ]
    }
   ],
   "source": [
    "print(astro_journal_codes)"
   ]
  },
  {
   "cell_type": "code",
   "execution_count": 14,
   "id": "0e661a16",
   "metadata": {},
   "outputs": [
    {
     "name": "stdout",
     "output_type": "stream",
     "text": [
      "{'JGR..', 'E&PSL'}\n"
     ]
    }
   ],
   "source": [
    "print(earth_science_journal_codes)"
   ]
  },
  {
   "cell_type": "code",
   "execution_count": 18,
   "id": "bf15e3e6",
   "metadata": {},
   "outputs": [
    {
     "name": "stdout",
     "output_type": "stream",
     "text": [
      "{'PSJ..', 'AcAau', 'Icar.'}\n"
     ]
    }
   ],
   "source": [
    "print(planetary_journal_codes)"
   ]
  },
  {
   "cell_type": "code",
   "execution_count": 16,
   "id": "ad5bf66f",
   "metadata": {},
   "outputs": [
    {
     "name": "stdout",
     "output_type": "stream",
     "text": [
      "data/json/salvaged_articles.json: 50021/72374 have all required keys\n"
     ]
    }
   ],
   "source": [
    "salvaged = load_dataset('data/json/salvaged_articles.json')"
   ]
  },
  {
   "cell_type": "code",
   "execution_count": 17,
   "id": "1929e045",
   "metadata": {},
   "outputs": [
    {
     "name": "stdout",
     "output_type": "stream",
     "text": [
      "{'EOSTr', 'Geobi', 'FlPEq', 'HGSS.', 'JPhCS', 'aska.', 'GMD..', 'MmSAI', 'PNAS.', 'AppTE', 'RvMPP', 'GML..', 'ASIC.', 'csxs.', 'NIMPB', 'CrRes', 'CeMec', 'JLTP.', 'JPCom', 'AdSpR', 'AeoRe', 'aste.', 'AdWR.', 'DSRA.', 'OcMod', 'astro', 'PhRvD', 'JKAS.', 'PhyU.', 'SvAL.', 'ApJS.', 'sddm.', 'Ap...', 'AnP..', 'SedG.', 'IAUS.', 'sgnf.', 'JMoSp', 'hvcg.', 'AgEE.', 'luml.', 'ApEn.', 'JSoSe', 'ARNPS', 'EnInt', 'NatAs', 'ZNatA', 'IJAsB', 'GReGr', 'BVol.', 'tias.', 'IJGI.', 'ThApC', 'HMT..', 'CoKon', 'JSeis', 'AnGeo', 'BuECT', 'grb..', 'ARep.', 'dmu..', 'MarCh', 'Galax', 'JATIS', 'JThBi', 'IJMPE', 'RaSc.', 'ApSSS', 'Meas.', 'ApJ..', 'JHyd.', 'eimw.', 'JOSAA', 'Nonli', 'JGRF.', 'CPL..', 'fgb..', 'RMRE.', 'PDU..', 'ACP..', 'udns.', 'Geoth', 'CoTPh', 'NatCC', 'JGR..', 'SoSyR', 'PhRvE', 'E&SS.', 'SerAJ', 'ClDy.', 'PCE..', 'MeScT', 'EPJD.', 'Msngr', 'CBio.', 'ISRAA', 'Ecosy', 'PhRvF', 'DSR..', 'JPhCo', 'PetGe', 'CQGra', 'IJMPA', 'MatGe', 'SAAS.', 'cbhg.', 'mks..', 'JGeo.', 'QJRMS', 'JATP.', 'JMP..', 'JMS..', 'ChA&A', 'PSJ..', 'HESS.', 'PhRvX', 'PEPS.', 'Tecto', 'ADNDT', 'CeMDA', 'PASP.', 'BoLMe', 'SunGe', 'NIMPA', 'CoasE', 'AstBu', 'JHumE', 'SciBu', 'RSPTA', 'ESOC.', 'Physi', 'JEMBE', 'AppGe', 'nuco.', 'GEEA.', 'nsbh.', 'CoPhC', 'SciA.', 'NuPhS', 'JNuM.', 'PhLA.', 'RAA..', 'JCli.', 'AcSpB', 'JNCS.', 'JApA.', 'PThPh', 'SDEE.', 'arXiv', 'MinPe', 'tnss.', 'IBVS.', 'PPCF.', 'JGRD.', 'ChJSS', 'gbha.', 'Geolg', 'VA...', 'FaDi.', 'GMS..', 'EP&S.', 'JAMES', 'Sci..', 'PPP..', 'fdg..', 'CorRe', 'BaltA', 'JCrGr', 'ESPol', 'mfcp.', 'ASSL.', 'JMMM.', 'AIPC.', 'GApFD', 'Senso', 'ssbn.', 'SoPh.', 'JGLR.', 'JGRB.', 'LRR..', 'SBiBi', 'PhPl.', 'PhyA.', 'EAS..', 'WatRe', 'GeoRL', 'Litho', 'PhRvL', 'PhLB.', 'InPhT', 'RuGG.', 'GeoJI', 'JAP..', 'SPIE.', 'CRPhy', 'hsn..', 'JMagR', 'Univ.', 'hsf2.', 'BCons', 'TcAc.', 'PhRvC', 'JRNC.', 'AcMat', 'EngGe', 'CoAst', 'OcDyn', 'CEJG.', 'CaJPh', 'BASI.', 'ApSS.', 'GSL..', 'ESC..', 'PhRvB', 'JAfES', 'NuPhA', 'JGRG.', 'HiA..', 'csss.', 'A&A..', 'NCimB', 'JESRP', 'QSRv.', 'WatRM', 'ApOpt', 'pss3.', 'OExpr', 'JGRE.', 'Symm.', 'JCPro', 'JFM..', 'JVGR.', 'ASPRv', 'ChJAS', 'AmJPh', 'CSR..', 'OLEB.', 'JCAP.', 'RNAAS', 'IJMPD', 'GGG..', 'ACPD.', 'JAG..', 'SSCom', 'AsDyn', 'JPCA.', 'HEDP.', 'PEPI.', 'AuJPh', 'diwo.', 'BAAS.', 'Cryo.', 'REBio', 'EPJE.', 'JIMTW', 'JSR..', 'EnvMS', 'Atmos', 'grba.', 'DSRII', 'TEcoE', 'mams.', 'Chaos', 'ChPhL', 'MinDe', 'P&SS.', 'ComAC', 'QuGeo', 'Faci.', 'AstL.', 'PaReL', 'IEEEP', 'rfma.', 'ASTRP', 'MarPB', 'scta.', 'JPhD.', 'Mine.', 'Corro', 'WRR..', 'NatCh', 'SCPMA', 'BiSys', 'EPJWC', 'RemS.', 'CRGeo', 'iSci.', 'PhLRv', 'AcA..', 'Natur', 'IJMSp', 'TCry.', 'NPGeo', 'PhFl.', 'GBioC', 'EaFut', 'Icar.', 'EL...', 'ocd..', 'JInst', 'SIAMR', 'EPJC.', 'CGIGS', 'ApCS.', 'JGSoc', 'STilR', 'PhyS.', 'LNP..', 'PhR..', 'Biogc', 'RMxAA', 'AnRFM', 'JGRC.', 'ERL..', 'Caten', 'tbha.', 'M&P..', 'MAP..', 'IJCG.', 'NJPh.', 'NatSR', 'IJAEO', 'ECSS.', 'PrGA.', 'pss5.', 'FrPhy', 'EPJA.', 'sgrb.', 'mim..', 'CP...', 'Moon.', 'PhRvA', 'JPlPh', 'ESASP', 'RPaPa', 'JSWSC', 'PASA.', 'CRST.', 'SeScT', 'HydJ.', 'HyBio', 'gr.qc', 'NatPh', 'Lands', 'AgFM.', 'JHEAp', 'AN...', 'RSOS.', 'AtmRe', 'NatCo', 'PSST.', 'NewAR', 'ExA..', 'JCHyd', 'A&ARv', 'PrOpt', 'PolSc', 'FoPh.', 'EPJP.', 'bsee.', 'grca.', 'RvMP.', 'ConPh', 'EnMan', 'dmap.', 'ASSP.', 'GPC..', 'OptMa', 'ITNS.', 'PrOce', 'ChJAA', 'InvPr', 'MPLA.', 'MNRAS', 'BuEGE', 'RvMA.', 'JHEP.', 'Metic', 'PTEP.', 'NCimR', 'Ap&SS', 'AcGeo', 'Life.', 'SGeo.', 'MarPG', 'Prama', 'AJ...', 'JETPL', 'OptL.', 'nsps.', 'AsBio', 'LRSP.', 'sfa..', 'Oecol', 'APh..', 'Ge&Ae', 'JMPSo', 'A&G..', 'Heliy', 'JOSS.', 'JGRA.', 'PhRv.', 'tcu..', 'SurSR', 'PCM..', 'ASPC.', 'BGeo.', 'IJDRR', 'FCPh.', 'ucb..', 'GeCoA', 'evn..', 'RMxAC', 'Geomo', 'TeMAE', 'JPPA.', 'NHESS', 'NuPhB', 'tsra.', 'RvMG.', 'JChPh', 'AREPS', 'AcAC.', 'ForEM', 'IJMPC', 'PhST.', 'PalOc', 'A&C..', 'DyAtO', 'FrASS', 'CliPa', 'AMT..', 'OGRv.', 'Atoms', 'EcMod', 'OrGeo', 'JSAES', 'AcAau', 'prs..', 'SpWea', 'dtrp.', 'JPCM.', 'ESRv.', 'RScI.', 'ChEG.', 'AnPhy', 'JPRS.', 'icrc.', 'JAESc', 'JSG..', 'hmcm.', 'PThPS', 'UrbEc', 'AdAst', 'SADM.', 'JASS.', 'Metro', 'QJEGH', 'grg..', 'AcOc.', 'ApPhB', 'CoFl.', 'NaPho', 'PASJ.', 'E&PSL', 'JPhG.', 'IJTP.', 'hxga.', 'NatHa', 'JPhB.', 'EnvDe', 'sgdh.', 'RPPh.', 'egcs.', 'NatGe', 'PhyD.', 'NYASA', 'OptCo', 'ComAp', 'CG...', 'CoMP.', 'SPIE1', 'ARA&A', 'prpl.', 'M&PS.', 'spnr.', 'JCExp', 'JPO..', 'eeg..', 'Tectp', 'RvGeo', 'oee..', 'MSAIS', 'BrJPh', 'IJEaS', 'SSRv.', 'ANS..', 'foap.', 'JCoPh', 'SurSc', 'IJTS.', 'AcMSn', 'bmri.', 'JASTP', 'ICRC.', 'OcEng', 'JPhA.', 'EM&P.', 'EPJQT', 'DRM..', 'RSPSA', 'JQSRT', 'PrPNP', 'ppcd.', 'ArMic', 'physi', 'NewA.', 'LRCA.', 'A&AS.', 'SolE.', 'AtmEn', 'OJAp.', 'JAtS.', 'IJHMT', 'fist.', 'Clim.', 'JSMTE', 'bdmh.'}\n"
     ]
    }
   ],
   "source": [
    "salvaged_journal_codes = get_journal_codes(salvaged)\n",
    "print(salvaged_journal_codes)"
   ]
  },
  {
   "cell_type": "code",
   "execution_count": 19,
   "id": "88f05a21",
   "metadata": {},
   "outputs": [
    {
     "name": "stdout",
     "output_type": "stream",
     "text": [
      "data/json/doi_articles.json: 1898/1898 have all required keys\n",
      "{'EOSTr', 'Geobi', 'FlPEq', 'HGSS.', 'JPhCS', 'aska.', 'GMD..', 'MmSAI', 'PNAS.', 'AppTE', 'fist.', 'RvMPP', 'GML..', 'ASIC.', 'csxs.', 'NIMPB', 'CrRes', 'CeMec', 'JLTP.', 'JPCom', 'AdSpR', 'AeoRe', 'aste.', 'AdWR.', 'DSRA.', 'OcMod', 'astro', 'PhRvD', 'JKAS.', 'PhyU.', 'SvAL.', 'ApJS.', 'sddm.', 'Ap...', 'AnP..', 'SedG.', 'IAUS.', 'sgnf.', 'JMoSp', 'hvcg.', 'AgEE.', 'luml.', 'ApEn.', 'JSoSe', 'ARNPS', 'EnInt', 'NatAs', 'ZNatA', 'IJAsB', 'GReGr', 'BVol.', 'tias.', 'IJGI.', 'ThApC', 'HMT..', 'CoKon', 'JSeis', 'AnGeo', 'BuECT', 'grb..', 'ARep.', 'dmu..', 'MarCh', 'Galax', 'JATIS', 'JThBi', 'IJMPE', 'RaSc.', 'ApSSS', 'Meas.', 'ApJ..', 'JHyd.', 'JOSAA', 'Nonli', 'JGRF.', 'CPL..', 'fgb..', 'RMRE.', 'PDU..', 'ACP..', 'udns.', 'Geoth', 'CoTPh', 'JGR..', 'NatCC', 'SoSyR', 'PhRvE', 'E&SS.', 'SerAJ', 'ClDy.', 'PCE..', 'MeScT', 'EPJD.', 'Msngr', 'CBio.', 'ISRAA', 'Ecosy', 'PhRvF', 'DSR..', 'JPhCo', 'PetGe', 'CQGra', 'IJMPA', 'MatGe', 'SAAS.', 'cbhg.', 'mks..', 'JGeo.', 'QJRMS', 'JATP.', 'JMP..', 'JMS..', 'ChA&A', 'PSJ..', 'HESS.', 'PhRvX', 'PEPS.', 'Tecto', 'ADNDT', 'CeMDA', 'PASP.', 'BoLMe', 'SunGe', 'NIMPA', 'CoasE', 'AstBu', 'JHumE', 'SciBu', 'RSPTA', 'ESOC.', 'Physi', 'JEMBE', 'AppGe', 'nuco.', 'GEEA.', 'nsbh.', 'CoPhC', 'SciA.', 'NuPhS', 'JNuM.', 'PhLA.', 'RAA..', 'JCli.', 'AcSpB', 'JNCS.', 'JApA.', 'PThPh', 'SDEE.', 'arXiv', 'MinPe', 'tnss.', 'IBVS.', 'PPCF.', 'JGRD.', 'ChJSS', 'gbha.', 'Geolg', 'VA...', 'FaDi.', 'GMS..', 'EP&S.', 'JAMES', 'Sci..', 'PPP..', 'fdg..', 'CorRe', 'BaltA', 'JCrGr', 'ESPol', 'mfcp.', 'ASSL.', 'JMMM.', 'AIPC.', 'GApFD', 'Senso', 'ssbn.', 'SoPh.', 'JGLR.', 'JGRB.', 'LRR..', 'SBiBi', 'PhPl.', 'PhyA.', 'EAS..', 'WatRe', 'GeoRL', 'Litho', 'PhRvL', 'PhLB.', 'RuGG.', 'GeoJI', 'JAP..', 'SPIE.', 'CRPhy', 'hsn..', 'JMagR', 'Univ.', 'hsf2.', 'BCons', 'TcAc.', 'PhRvC', 'JRNC.', 'AcMat', 'EngGe', 'CoAst', 'OcDyn', 'CEJG.', 'CaJPh', 'BASI.', 'ApSS.', 'GSL..', 'ESC..', 'PhRvB', 'JAfES', 'NuPhA', 'JGRG.', 'HiA..', 'csss.', 'A&A..', 'NCimB', 'JESRP', 'QSRv.', 'WatRM', 'ApOpt', 'pss3.', 'OExpr', 'JGRE.', 'Symm.', 'JCPro', 'JFM..', 'JVGR.', 'ASPRv', 'ChJAS', 'AmJPh', 'CSR..', 'OLEB.', 'JCAP.', 'RNAAS', 'IJMPD', 'GGG..', 'ACPD.', 'JAG..', 'SSCom', 'AsDyn', 'JPCA.', 'HEDP.', 'PEPI.', 'AuJPh', 'diwo.', 'BAAS.', 'Cryo.', 'REBio', 'EPJE.', 'JIMTW', 'JSR..', 'EnvMS', 'Atmos', 'grba.', 'DSRII', 'TEcoE', 'mams.', 'Chaos', 'ChPhL', 'MinDe', 'P&SS.', 'ComAC', 'QuGeo', 'Faci.', 'AstL.', 'PaReL', 'IEEEP', 'rfma.', 'ASTRP', 'MarPB', 'scta.', 'JPhD.', 'Mine.', 'Corro', 'WRR..', 'NatCh', 'SCPMA', 'BiSys', 'EPJWC', 'RemS.', 'CRGeo', 'iSci.', 'PhLRv', 'AcA..', 'Natur', 'IJMSp', 'TCry.', 'NPGeo', 'PhFl.', 'GBioC', 'EaFut', 'Icar.', 'EL...', 'ocd..', 'JInst', 'SIAMR', 'EPJC.', 'CGIGS', 'ApCS.', 'JGSoc', 'STilR', 'PhyS.', 'LNP..', 'PhR..', 'Biogc', 'RMxAA', 'AnRFM', 'JGRC.', 'ERL..', 'Caten', 'tbha.', 'M&P..', 'MAP..', 'IJCG.', 'NJPh.', 'NatSR', 'IJAEO', 'ECSS.', 'PrGA.', 'pss5.', 'FrPhy', 'EPJA.', 'sgrb.', 'mim..', 'CP...', 'Moon.', 'PhRvA', 'JPlPh', 'ESASP', 'RPaPa', 'JSWSC', 'PASA.', 'CRST.', 'SeScT', 'HydJ.', 'HyBio', 'gr.qc', 'NatPh', 'Lands', 'AgFM.', 'JHEAp', 'AN...', 'RSOS.', 'AtmRe', 'NatCo', 'PSST.', 'NewAR', 'ExA..', 'JCHyd', 'A&ARv', 'Clim.', 'PrOpt', 'PolSc', 'FoPh.', 'EPJP.', 'bsee.', 'grca.', 'RvMP.', 'ConPh', 'EnMan', 'dmap.', 'ASSP.', 'GPC..', 'OptMa', 'ITNS.', 'PrOce', 'ChJAA', 'InvPr', 'MPLA.', 'MNRAS', 'BuEGE', 'RvMA.', 'JHEP.', 'Metic', 'PTEP.', 'NCimR', 'Ap&SS', 'AcGeo', 'Life.', 'SGeo.', 'MarPG', 'Prama', 'AJ...', 'JETPL', 'OptL.', 'nsps.', 'LRSP.', 'AsBio', 'sfa..', 'Oecol', 'APh..', 'Ge&Ae', 'JMPSo', 'A&G..', 'Heliy', 'JOSS.', 'JGRA.', 'PhRv.', 'tcu..', 'SurSR', 'PCM..', 'ASPC.', 'BGeo.', 'IJDRR', 'FCPh.', 'ucb..', 'GeCoA', 'evn..', 'RMxAC', 'Geomo', 'TeMAE', 'JPPA.', 'NHESS', 'NuPhB', 'tsra.', 'RvMG.', 'JChPh', 'AREPS', 'AcAC.', 'ForEM', 'IJMPC', 'PhST.', 'PalOc', 'A&C..', 'DyAtO', 'FrASS', 'CliPa', 'AMT..', 'OGRv.', 'Atoms', 'EcMod', 'OrGeo', 'JSAES', 'AcAau', 'prs..', 'SpWea', 'dtrp.', 'JPCM.', 'ESRv.', 'RScI.', 'ChEG.', 'AnPhy', 'JPRS.', 'icrc.', 'JAESc', 'JSG..', 'hmcm.', 'PThPS', 'UrbEc', 'AdAst', 'SADM.', 'JASS.', 'Metro', 'QJEGH', 'grg..', 'AcOc.', 'ApPhB', 'CoFl.', 'NaPho', 'E&PSL', 'PASJ.', 'JPhG.', 'IJTP.', 'hxga.', 'NatHa', 'JPhB.', 'EnvDe', 'sgdh.', 'RPPh.', 'egcs.', 'NatGe', 'PhyD.', 'NYASA', 'OptCo', 'ComAp', 'CG...', 'CoMP.', 'SPIE1', 'ARA&A', 'prpl.', 'M&PS.', 'spnr.', 'JCExp', 'JPO..', 'eeg..', 'Tectp', 'RvGeo', 'oee..', 'MSAIS', 'BrJPh', 'IJEaS', 'SSRv.', 'ANS..', 'foap.', 'JCoPh', 'SurSc', 'IJTS.', 'AcMSn', 'bmri.', 'JASTP', 'ICRC.', 'OcEng', 'JPhA.', 'EM&P.', 'EPJQT', 'DRM..', 'RSPSA', 'JQSRT', 'PrPNP', 'ppcd.', 'ArMic', 'physi', 'NewA.', 'LRCA.', 'A&AS.', 'SolE.', 'AtmEn', 'OJAp.', 'JAtS.', 'IJHMT', 'InPhT', 'eimw.', 'JSMTE', 'bdmh.'}\n"
     ]
    }
   ],
   "source": [
    "doi = load_dataset('data/json/doi_articles.json')\n",
    "doi_journal_codes = get_journal_codes(doi)\n",
    "doi_and_salvaged = doi_journal_codes.union(salvaged_journal_codes)\n",
    "print(doi_and_salvaged)"
   ]
  },
  {
   "cell_type": "code",
   "execution_count": null,
   "id": "7123c5e6",
   "metadata": {},
   "outputs": [],
   "source": []
  }
 ],
 "metadata": {
  "kernelspec": {
   "display_name": "citeline",
   "language": "python",
   "name": "python3"
  },
  "language_info": {
   "codemirror_mode": {
    "name": "ipython",
    "version": 3
   },
   "file_extension": ".py",
   "mimetype": "text/x-python",
   "name": "python",
   "nbconvert_exporter": "python",
   "pygments_lexer": "ipython3",
   "version": "3.11.10"
  }
 },
 "nbformat": 4,
 "nbformat_minor": 5
}
