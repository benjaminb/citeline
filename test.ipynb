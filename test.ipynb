{
 "cells": [
  {
   "cell_type": "code",
   "execution_count": 1,
   "metadata": {},
   "outputs": [],
   "source": [
    "import json\n",
    "import os"
   ]
  },
  {
   "cell_type": "code",
   "execution_count": 2,
   "metadata": {},
   "outputs": [
    {
     "name": "stdout",
     "output_type": "stream",
     "text": [
      "dict_keys(['Earth_Science_Reviews', 'Earth_Science_Research', 'Planetary_Research', 'Planetary_Reviews', 'Astro_Reviews', 'Astro_Research'])\n"
     ]
    }
   ],
   "source": [
    "\"\"\"\n",
    "Creates a dictionary\n",
    "{'data_source': [record_dicts]}\n",
    "\"\"\"\n",
    "\n",
    "PATH_TO_DATA = 'data'\n",
    "FILENAMES = os.listdir(PATH_TO_DATA)\n",
    "data = dict()\n",
    "for filename in FILENAMES:\n",
    "    with open(f'{PATH_TO_DATA}/{filename}', 'r') as file:\n",
    "        data[os.path.splitext(os.path.basename(filename))[0]] = json.load(file)\n",
    "\n",
    "print(data.keys())"
   ]
  },
  {
   "cell_type": "code",
   "execution_count": 3,
   "metadata": {},
   "outputs": [
    {
     "name": "stdout",
     "output_type": "stream",
     "text": [
      "Source: Earth_Science_Reviews, 837 records\n",
      "Source: Earth_Science_Research, 496 records\n",
      "Source: Planetary_Research, 838 records\n",
      "Source: Planetary_Reviews, 946 records\n",
      "Source: Astro_Reviews, 932 records\n",
      "Source: Astro_Research, 990 records\n"
     ]
    }
   ],
   "source": [
    "workable_data = dict()\n",
    "for source, docs in data.items():\n",
    "    workable_data[source] = [doc for doc in docs if 'body' in doc.keys() and 'abstract' in doc.keys() and 'title' in doc.keys()]\n",
    "    print(f\"Source: {source}, {len(workable_data[source])} records\")\n"
   ]
  },
  {
   "cell_type": "code",
   "execution_count": 23,
   "metadata": {},
   "outputs": [
    {
     "name": "stdout",
     "output_type": "stream",
     "text": [
      "('1 Introduction A recent and controversial theory attributes the onset of the '\n",
      " 'Younger Dryas (YD) climate interval, extinction of large mammalian fauna '\n",
      " 'across North America, demise of the North American Clovis culture, and a '\n",
      " 'range of other effects ~ 12,900 years ago to an extraterrestrial impact '\n",
      " 'event ( Firestone et al., 2007a; Kennett et al., 2009a,b ). This hypothesis '\n",
      " 'entered widespread scientific discussions at the May, 2007 meeting of the '\n",
      " 'American Geophysical Union in Acapulco, Mexico. Since then, the YD impact '\n",
      " 'hypothesis (YDIH) has been the subject of on-going research across a broad '\n",
      " 'range of disciplines, several publications (supportive as well as '\n",
      " 'skeptical), and remarkable attention in the popular media. In technical '\n",
      " 'circles, some disciplines have remained critical of the hypothesis (e.g., '\n",
      " 'meteoritics and impact science), whereas others have seen broader acceptance '\n",
      " 'of a catastrophic impact 12,900 years ago (e.g., archeology). Media coverage '\n",
      " 'has included numerous print articles wor')\n"
     ]
    }
   ],
   "source": [
    "review_paper = workable_data['Earth_Science_Reviews'][1]\n",
    "from pprint import pprint\n",
    "pprint(review_paper['body'][:1000])"
   ]
  },
  {
   "cell_type": "code",
   "execution_count": 43,
   "metadata": {},
   "outputs": [
    {
     "data": {
      "text/plain": [
       "dict_keys(['bibcode', 'abstract', 'aff', 'author', 'bibstem', 'doctype', 'doi', 'id', 'pubdate', 'title', 'read_count', 'data', 'citation_count'])"
      ]
     },
     "execution_count": 43,
     "metadata": {},
     "output_type": "execute_result"
    }
   ],
   "source": [
    "(data['Planetary_Reviews'][936]).keys()"
   ]
  },
  {
   "cell_type": "code",
   "execution_count": 46,
   "metadata": {},
   "outputs": [
    {
     "name": "stdout",
     "output_type": "stream",
     "text": [
      "Earth_Science_Reviews has 3 docs without abstract\n",
      "Earth_Science_Research has 12 docs without abstract\n",
      "Planetary_Research has 3 docs without abstract\n",
      "Planetary_Reviews has 20 docs without abstract\n",
      "Astro_Reviews has 65 docs without abstract\n",
      "Astro_Research has 10 docs without abstract\n"
     ]
    }
   ],
   "source": [
    "for source, docs in data.items():\n",
    "    count = 0\n",
    "    for i, doc in enumerate(docs):\n",
    "\n",
    "        if 'abstract' not in doc.keys():\n",
    "            # print(f\"{source} {i} has no body\")\n",
    "            count += 1\n",
    "    print(f\"{source} has {count} docs without abstract\")"
   ]
  },
  {
   "cell_type": "code",
   "execution_count": null,
   "metadata": {},
   "outputs": [],
   "source": []
  }
 ],
 "metadata": {
  "kernelspec": {
   "display_name": "hf",
   "language": "python",
   "name": "python3"
  },
  "language_info": {
   "codemirror_mode": {
    "name": "ipython",
    "version": 3
   },
   "file_extension": ".py",
   "mimetype": "text/x-python",
   "name": "python",
   "nbconvert_exporter": "python",
   "pygments_lexer": "ipython3",
   "version": "3.11.10"
  }
 },
 "nbformat": 4,
 "nbformat_minor": 2
}
