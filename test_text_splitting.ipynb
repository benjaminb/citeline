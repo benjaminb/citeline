{
 "cells": [
  {
   "cell_type": "code",
   "execution_count": 62,
   "id": "c4eebf86",
   "metadata": {},
   "outputs": [],
   "source": [
    "import numpy as np\n",
    "import pandas as pd\n",
    "from langchain_text_splitters import RecursiveCharacterTextSplitter\n",
    "from pprint import pprint\n",
    "import matplotlib.pyplot as plt\n",
    "\n",
    "df = pd.read_json('data/preprocessed/reviews.jsonl', lines=True)"
   ]
  },
  {
   "cell_type": "markdown",
   "id": "6281362d",
   "metadata": {},
   "source": [
    "## Notes\n",
    "\n",
    "* `semantic_text_splitter` looks at whitespace delimiters (`\\n, .,` etc) for 'semantic' splitting. It can use a tokenizer but only to set chunk boundaries in terms of tokens rather than chars\n",
    "* `semchunk` has a more elaborate ruleset for chunking but it is still based on whitespace and punctuation.\n",
    "* LangChain's `SemanticChunker` embeds sentences using your chosen embedder, then breaks when cosine distance of the next sentence exceeds some boundary. So of the three this is the only truly semantic chunker. However, it **doesn't overlap chunks**."
   ]
  },
  {
   "cell_type": "code",
   "execution_count": 70,
   "id": "7d3eee62",
   "metadata": {},
   "outputs": [],
   "source": [
    "from transformers import AutoTokenizer\n",
    "\n",
    "bert_tokenizer = AutoTokenizer.from_pretrained(\"bert-base-uncased\")"
   ]
  },
  {
   "cell_type": "code",
   "execution_count": 71,
   "id": "b354613c",
   "metadata": {},
   "outputs": [],
   "source": [
    "def get_token_lengths(docs, tokenizer):\n",
    "    return [len(ids) for ids in tokenizer(docs, padding=False, truncation=False).get(\"input_ids\")]\n",
    "\n",
    "def get_summary_stats(data: list[int|float]):\n",
    "    arr = np.array(data)\n",
    "    stats = {\n",
    "        'count': len(arr),\n",
    "        'mean': np.mean(arr),\n",
    "        'median': np.median(arr),\n",
    "        'std_dev': np.std(arr),\n",
    "        'min': np.min(arr),\n",
    "        'max': np.max(arr),\n",
    "        '25th_percentile': np.percentile(arr, 25),\n",
    "        '75th_percentile': np.percentile(arr, 75)\n",
    "    }\n",
    "    return stats"
   ]
  },
  {
   "cell_type": "code",
   "execution_count": 72,
   "id": "dc98ab30",
   "metadata": {},
   "outputs": [
    {
     "name": "stdout",
     "output_type": "stream",
     "text": [
      "<class 'str'>\n"
     ]
    }
   ],
   "source": [
    "doc = df['body'].iloc[0]\n",
    "print(type(doc))"
   ]
  },
  {
   "cell_type": "markdown",
   "id": "129bad07",
   "metadata": {},
   "source": [
    "### Semantic Text Splitter"
   ]
  },
  {
   "cell_type": "code",
   "execution_count": 87,
   "id": "ecd92c51",
   "metadata": {},
   "outputs": [
    {
     "name": "stdout",
     "output_type": "stream",
     "text": [
      "Number of chunks: 224\n"
     ]
    }
   ],
   "source": [
    "from semantic_text_splitter import TextSplitter\n",
    "\n",
    "# splitter = TextSplitter(capacity=1000, overlap=200)\n",
    "splitter = TextSplitter((300, 1200), overlap=100)\n",
    "chunks = splitter.chunks(doc)\n",
    "print(f\"Number of chunks: {len(chunks)}\")"
   ]
  },
  {
   "cell_type": "code",
   "execution_count": 88,
   "id": "612114ad",
   "metadata": {},
   "outputs": [
    {
     "name": "stdout",
     "output_type": "stream",
     "text": [
      "Chunk lengths (characters):\n",
      "{'25th_percentile': np.float64(339.0),\n",
      " '75th_percentile': np.float64(452.0),\n",
      " 'count': 224,\n",
      " 'max': np.int64(735),\n",
      " 'mean': np.float64(403.54910714285717),\n",
      " 'median': np.float64(389.5),\n",
      " 'min': np.int64(146),\n",
      " 'std_dev': np.float64(81.97412102035587)}\n",
      "\n",
      "Chunk lengths (tokens):\n",
      "{'25th_percentile': np.float64(77.0),\n",
      " '75th_percentile': np.float64(104.0),\n",
      " 'count': 224,\n",
      " 'max': np.int64(181),\n",
      " 'mean': np.float64(92.87053571428571),\n",
      " 'median': np.float64(91.0),\n",
      " 'min': np.int64(27),\n",
      " 'std_dev': np.float64(20.838799399852572)}\n",
      "\n",
      "Chunk lengths (words):\n",
      "{'25th_percentile': np.float64(56.0),\n",
      " '75th_percentile': np.float64(74.25),\n",
      " 'count': 224,\n",
      " 'max': np.int64(108),\n",
      " 'mean': np.float64(65.99553571428571),\n",
      " 'median': np.float64(63.0),\n",
      " 'min': np.int64(21),\n",
      " 'std_dev': np.float64(13.81882055382168)}\n"
     ]
    },
    {
     "data": {
      "image/png": "[encoded data removed]",
      "text/plain": [
       "<Figure size 640x480 with 1 Axes>"
      ]
     },
     "metadata": {},
     "output_type": "display_data"
    }
   ],
   "source": [
    "token_lengths = get_token_lengths(chunks, tokenizer)\n",
    "wordcounts = [len(chunk.split()) for chunk in chunks]\n",
    "charcounts = [len(chunk) for chunk in chunks]\n",
    "print(\"Chunk lengths (characters):\")\n",
    "stats = get_summary_stats(charcounts)\n",
    "pprint(stats)\n",
    "print()\n",
    "print(\"Chunk lengths (tokens):\")\n",
    "stats = get_summary_stats(token_lengths)\n",
    "pprint(stats)\n",
    "print()\n",
    "print(\"Chunk lengths (words):\")\n",
    "stats = get_summary_stats(wordcounts)\n",
    "pprint(stats)\n",
    "plt.hist(token_lengths)\n",
    "plt.title(\"Token Lengths of Chunks\")\n",
    "plt.show()"
   ]
  },
  {
   "cell_type": "code",
   "execution_count": 89,
   "id": "8fdf5a1b",
   "metadata": {},
   "outputs": [
    {
     "name": "stdout",
     "output_type": "stream",
     "text": [
      "DOI: 10.1016/j.newar.2024.101694\n",
      "Split 0:\n",
      "('1 Introduction Binary stars have long played a foundational role in '\n",
      " 'astrophysics. They underpin precision measurements of stellar physical '\n",
      " 'parameters, enable robust tests of general relativity, and give rise to an '\n",
      " 'extraordinary zoo of observational phenomenology. Millennia after their '\n",
      " 'discovery (e.g.')\n",
      "\n",
      "Split 1:\n",
      "('Millennia after their discovery (e.g. Jetsu and Porceddu, 2015 ), binaries '\n",
      " 'remain at the heart of many of the interesting open questions in '\n",
      " 'astrophysics: binary evolution modeling is key for understanding the origin '\n",
      " 'of gravitational wave events, the spectral energy distributions of high '\n",
      " 'redshift galaxies, and the demographics of exoplanets in the solar '\n",
      " 'neighborhood.')\n",
      "\n",
      "Split 2:\n",
      "('Astrometry has played a particularly important role for binary star '\n",
      " 'astronomy. Painstaking measurements of the relative positions of two stars '\n",
      " 'in resolved optical pairs over the course of decades allowed Herschel (1803) '\n",
      " 'to infer that most of the pairs he studied were orbiting one another. By '\n",
      " 'monitoring the motion of Sirius and Procyon over a century, Bessel (1844) '\n",
      " 'realized that, despite having no visible companions, these stars did not '\n",
      " 'move in straight lines.')\n",
      "\n"
     ]
    }
   ],
   "source": [
    "print(f\"DOI: {df['doi'].iloc[0]}\")\n",
    "for i in range(3):\n",
    "    print(f\"Split {i}:\")\n",
    "    pprint(chunks[i])\n",
    "    print()"
   ]
  },
  {
   "cell_type": "markdown",
   "id": "13f9195e",
   "metadata": {},
   "source": [
    "### Semchunk"
   ]
  },
  {
   "cell_type": "code",
   "execution_count": 95,
   "id": "7445317e",
   "metadata": {},
   "outputs": [],
   "source": [
    "import semchunk\n",
    "\n",
    "chunker = semchunk.chunkerify(bert_tokenizer, chunk_size=256)"
   ]
  },
  {
   "cell_type": "code",
   "execution_count": 96,
   "id": "c7505b0c",
   "metadata": {},
   "outputs": [
    {
     "name": "stdout",
     "output_type": "stream",
     "text": [
      "Number of semchunks: 87\n",
      "Chunk lengths (characters):\n",
      "{'25th_percentile': np.float64(972.0),\n",
      " '75th_percentile': np.float64(1133.0),\n",
      " 'count': 87,\n",
      " 'max': np.int64(1244),\n",
      " 'mean': np.float64(1025.6206896551723),\n",
      " 'median': np.float64(1047.0),\n",
      " 'min': np.int64(146),\n",
      " 'std_dev': np.float64(156.94462317757802)}\n",
      "\n",
      "Chunk lengths (tokens):\n",
      "{'25th_percentile': np.float64(226.0),\n",
      " '75th_percentile': np.float64(249.0),\n",
      " 'count': 87,\n",
      " 'max': np.int64(258),\n",
      " 'mean': np.float64(232.28735632183907),\n",
      " 'median': np.float64(240.0),\n",
      " 'min': np.int64(27),\n",
      " 'std_dev': np.float64(31.07569847227414)}\n",
      "\n",
      "Chunk lengths (words):\n",
      "{'25th_percentile': np.float64(161.0),\n",
      " '75th_percentile': np.float64(182.0),\n",
      " 'count': 87,\n",
      " 'max': np.int64(206),\n",
      " 'mean': np.float64(167.4712643678161),\n",
      " 'median': np.float64(171.0),\n",
      " 'min': np.int64(21),\n",
      " 'std_dev': np.float64(24.477923002030384)}\n"
     ]
    },
    {
     "data": {
      "image/png": "[encoded data removed]",
      "text/plain": [
       "<Figure size 640x480 with 1 Axes>"
      ]
     },
     "metadata": {},
     "output_type": "display_data"
    }
   ],
   "source": [
    "semchunks = chunker(doc)\n",
    "print(f\"Number of semchunks: {len(semchunks)}\")\n",
    "\n",
    "token_lengths = get_token_lengths(semchunks, tokenizer)\n",
    "wordcounts = [len(chunk.split()) for chunk in semchunks]\n",
    "charcounts = [len(chunk) for chunk in semchunks]\n",
    "print(\"Chunk lengths (characters):\")\n",
    "stats = get_summary_stats(charcounts)\n",
    "pprint(stats)\n",
    "print()\n",
    "print(\"Chunk lengths (tokens):\")\n",
    "stats = get_summary_stats(token_lengths)\n",
    "pprint(stats)\n",
    "print()\n",
    "print(\"Chunk lengths (words):\")\n",
    "stats = get_summary_stats(wordcounts)\n",
    "pprint(stats)\n",
    "plt.hist(token_lengths)\n",
    "plt.title(\"Token Lengths of Semchunks\")\n",
    "plt.show()"
   ]
  },
  {
   "cell_type": "code",
   "execution_count": 97,
   "id": "611e8cec",
   "metadata": {},
   "outputs": [
    {
     "name": "stdout",
     "output_type": "stream",
     "text": [
      "Split 0:\n",
      "('1 Introduction Binary stars have long played a foundational role in '\n",
      " 'astrophysics. They underpin precision measurements of stellar physical '\n",
      " 'parameters, enable robust tests of general relativity, and give rise to an '\n",
      " 'extraordinary zoo of observational phenomenology. Millennia after their '\n",
      " 'discovery (e.g. Jetsu and Porceddu, 2015 ), binaries remain at the heart of '\n",
      " 'many of the interesting open questions in astrophysics: binary evolution '\n",
      " 'modeling is key for understanding the origin of gravitational wave events, '\n",
      " 'the spectral energy distributions of high redshift galaxies, and the '\n",
      " 'demographics of exoplanets in the solar neighborhood. Astrometry has played '\n",
      " 'a particularly important role for binary star astronomy. Painstaking '\n",
      " 'measurements of the relative positions of two stars in resolved optical '\n",
      " 'pairs over the course of decades allowed Herschel (1803) to infer that most '\n",
      " 'of the pairs he studied were orbiting one another. By monitoring the motion '\n",
      " 'of Sirius and Procyon over a century, Bessel (1844) realized that, despite '\n",
      " 'having no visible companions, these stars did not move in straight lines. He '\n",
      " 'correctly deduced that the stars special motions were the result of the '\n",
      " 'gravity of massive unseen companions, now known to be white dwarfs.')\n",
      "\n",
      "Split 1:\n",
      "('The Gaia mission ( Prusti et al., 2016; Brown et al., 2018; Arenou et al., '\n",
      " '2023 ) brought astrometry to the masses. Gaia has revolutionized the study '\n",
      " 'of binary stars and indeed, of all stars by delivering precise and accurate '\n",
      " 'distance and proper motion measurements for hundreds of millions of sources '\n",
      " 'in the Milky Way. Gaias promise for binary population demographics and the '\n",
      " 'discovery of rare objects was recognized well before launch (e.g. Perryman '\n",
      " 'et al., 2001; Sderhjelm, 2004; Fuchs and Bastian, 2005 ). The mission builds '\n",
      " 'on the legacy of Hipparcos ( Perryman et al., 1997; ESA, 1997 ) which '\n",
      " 'allowed for discovery and characterization of binaries in the solar '\n",
      " 'neighborhood ( Sderhjelm, 1999 ) but Gaia looks 100 times deeper into the '\n",
      " 'Galaxy than Hipparcos did, opening up a discovery space 1 0 6 times larger. '\n",
      " 'This review summarizes major developments in binary star astrophysics that '\n",
      " 'have been enabled by Gaia , and the state of the field as of early 2024.')\n",
      "\n",
      "Split 2:\n",
      "('I will neither attempt to cover the full history of the field (which is '\n",
      " 'long, and mostly predates Gaia ) nor provide a comprehensive list of '\n",
      " 'results. Instead, I will attempt to highlight the most significant new '\n",
      " 'findings and open questions, some of which will likely be answered by the '\n",
      " 'Gaia data in the coming years, and to provide references for interested '\n",
      " 'readers to dig deeper. For a broader perspective, I refer to previous '\n",
      " 'reviews by Abt (1983) , Duchne and Kraus (2013) , Moe and Di Stefano (2017) '\n",
      " ', Offner et al. (2023) , and Chen et al. (2024) . None of the work discussed '\n",
      " 'here would be possible without an enormous investment of time and resources '\n",
      " 'by the Gaia data processing and analysis consortium (DPAC) to provide a '\n",
      " 'well-documented, high-quality data product. The community owes DPAC! 2 A '\n",
      " 'many-pronged approach to the binary census Binaries exist over an enormous '\n",
      " 'range of physical scales.')\n",
      "\n"
     ]
    }
   ],
   "source": [
    "for i in range(3):\n",
    "    print(f\"Split {i}:\")\n",
    "    pprint(semchunks[i])\n",
    "    print()"
   ]
  },
  {
   "cell_type": "markdown",
   "id": "d8fc6682",
   "metadata": {},
   "source": [
    "### SemanticChunker"
   ]
  },
  {
   "cell_type": "code",
   "execution_count": 102,
   "id": "a68cad03",
   "metadata": {},
   "outputs": [
    {
     "name": "stderr",
     "output_type": "stream",
     "text": [
      "No sentence-transformers model found with name bert-base-uncased. Creating a new one with mean pooling.\n"
     ]
    }
   ],
   "source": [
    "from langchain_experimental.text_splitter import SemanticChunker\n",
    "from langchain_huggingface import HuggingFaceEmbeddings\n",
    "\n",
    "model_name = \"bert-base-uncased\"\n",
    "hf_embeddings = HuggingFaceEmbeddings(\n",
    "    model_name=model_name,\n",
    "    model_kwargs={\"device\": \"mps\"},\n",
    "    encode_kwargs={\"normalize_embeddings\": False},\n",
    "    )\n",
    "\n",
    "lc_splitter = SemanticChunker(\n",
    "    embeddings=hf_embeddings,\n",
    "    breakpoint_threshold_type=\"percentile\",\n",
    "    breakpoint_threshold_amount=95,\n",
    "    min_chunk_size=64, # in chars\n",
    ")"
   ]
  },
  {
   "cell_type": "code",
   "execution_count": 103,
   "id": "230f5ee4",
   "metadata": {},
   "outputs": [
    {
     "name": "stdout",
     "output_type": "stream",
     "text": [
      "Number of langchain splits: 26\n"
     ]
    }
   ],
   "source": [
    "splits = lc_splitter.split_text(doc)\n",
    "print(f\"Number of langchain splits: {len(splits)}\")"
   ]
  },
  {
   "cell_type": "code",
   "execution_count": 104,
   "id": "3a3d53c6",
   "metadata": {},
   "outputs": [
    {
     "name": "stdout",
     "output_type": "stream",
     "text": [
      "Chunk lengths (characters):\n",
      "{'25th_percentile': np.float64(770.0),\n",
      " '75th_percentile': np.float64(4929.25),\n",
      " 'count': 26,\n",
      " 'max': np.int64(10256),\n",
      " 'mean': np.float64(3434.230769230769),\n",
      " 'median': np.float64(2733.5),\n",
      " 'min': np.int64(252),\n",
      " 'std_dev': np.float64(2945.987274865361)}\n",
      "\n",
      "Chunk lengths (tokens):\n",
      "{'25th_percentile': np.float64(186.0),\n",
      " '75th_percentile': np.float64(1092.5),\n",
      " 'count': 26,\n",
      " 'max': np.int64(2340),\n",
      " 'mean': np.float64(772.5769230769231),\n",
      " 'median': np.float64(616.0),\n",
      " 'min': np.int64(56),\n",
      " 'std_dev': np.float64(652.2407043343221)}\n",
      "\n",
      "Chunk lengths (words):\n",
      "{'25th_percentile': np.float64(127.5),\n",
      " '75th_percentile': np.float64(805.0),\n",
      " 'count': 26,\n",
      " 'max': np.int64(1631),\n",
      " 'mean': np.float64(560.3846153846154),\n",
      " 'median': np.float64(450.0),\n",
      " 'min': np.int64(39),\n",
      " 'std_dev': np.float64(475.792705098399)}\n"
     ]
    },
    {
     "data": {
      "image/png": "[encoded data removed]",
      "text/plain": [
       "<Figure size 640x480 with 1 Axes>"
      ]
     },
     "metadata": {},
     "output_type": "display_data"
    }
   ],
   "source": [
    "# Report statistics\n",
    "token_lengths = get_token_lengths(splits, tokenizer)\n",
    "wordcounts = [len(chunk.split()) for chunk in splits]\n",
    "charcounts = [len(chunk) for chunk in splits]\n",
    "print(\"Chunk lengths (characters):\")\n",
    "stats = get_summary_stats(charcounts)\n",
    "pprint(stats)\n",
    "print()\n",
    "print(\"Chunk lengths (tokens):\")\n",
    "stats = get_summary_stats(token_lengths)\n",
    "pprint(stats)\n",
    "print()\n",
    "print(\"Chunk lengths (words):\")\n",
    "stats = get_summary_stats(wordcounts)\n",
    "pprint(stats)\n",
    "plt.hist(token_lengths)\n",
    "plt.title(\"Token Lengths of Langchain Splits\")\n",
    "plt.show()"
   ]
  },
  {
   "cell_type": "code",
   "execution_count": 105,
   "id": "bc2b93d7",
   "metadata": {},
   "outputs": [
    {
     "name": "stdout",
     "output_type": "stream",
     "text": [
      "Langchain Split 0:\n",
      "('1 Introduction Binary stars have long played a foundational role in '\n",
      " 'astrophysics. They underpin precision measurements of stellar physical '\n",
      " 'parameters, enable robust tests of general relativity, and give rise to an '\n",
      " 'extraordinary zoo of observational phenomenology. Millennia after their '\n",
      " 'discovery (e.g. Jetsu and Porceddu, 2015 ), binaries remain at the heart of '\n",
      " 'many of the interesting open questions in astrophysics: binary evolution '\n",
      " 'modeling is key for understanding the origin of gravitational wave events, '\n",
      " 'the spectral energy distributions of high redshift galaxies, and the '\n",
      " 'demographics of exoplanets in the solar neighborhood. Astrometry has played '\n",
      " 'a particularly important role for binary star astronomy. Painstaking '\n",
      " 'measurements of the relative positions of two stars in resolved optical '\n",
      " 'pairs over the course of decades allowed Herschel (1803) to infer that most '\n",
      " 'of the pairs he studied were orbiting one another. By monitoring the motion '\n",
      " 'of Sirius and Procyon over a century, Bessel (1844) realized that, despite '\n",
      " 'having no visible companions, these stars did not move in straight lines. He '\n",
      " 'correctly deduced that the stars special motions were the result of the '\n",
      " 'gravity of massive unseen companions, now known to be white dwarfs. The Gaia '\n",
      " 'mission ( Prusti et al., 2016; Brown et al., 2018; Arenou et al., 2023 ) '\n",
      " 'brought astrometry to the masses. Gaia has revolutionized the study of '\n",
      " 'binary stars and indeed, of all stars by delivering precise and accurate '\n",
      " 'distance and proper motion measurements for hundreds of millions of sources '\n",
      " 'in the Milky Way. Gaias promise for binary population demographics and the '\n",
      " 'discovery of rare objects was recognized well before launch (e.g. Perryman '\n",
      " 'et al., 2001; Sderhjelm, 2004; Fuchs and Bastian, 2005 ). The mission builds '\n",
      " 'on the legacy of Hipparcos ( Perryman et al., 1997; ESA, 1997 ) which '\n",
      " 'allowed for discovery and characterization of binaries in the solar '\n",
      " 'neighborhood ( Sderhjelm, 1999 ) but Gaia looks 100 times deeper into the '\n",
      " 'Galaxy than Hipparcos did, opening up a discovery space 1 0 6 times larger. '\n",
      " 'This review summarizes major developments in binary star astrophysics that '\n",
      " 'have been enabled by Gaia , and the state of the field as of early 2024. I '\n",
      " 'will neither attempt to cover the full history of the field (which is long, '\n",
      " 'and mostly predates Gaia ) nor provide a comprehensive list of results. '\n",
      " 'Instead, I will attempt to highlight the most significant new findings and '\n",
      " 'open questions, some of which will likely be answered by the Gaia data in '\n",
      " 'the coming years, and to provide references for interested readers to dig '\n",
      " 'deeper. For a broader perspective, I refer to previous reviews by Abt (1983) '\n",
      " ', Duchne and Kraus (2013) , Moe and Di Stefano (2017) , Offner et al. (2023) '\n",
      " ', and Chen et al.')\n",
      "\n",
      "Langchain Split 1:\n",
      "('(2024) . None of the work discussed here would be possible without an '\n",
      " 'enormous investment of time and resources by the Gaia data processing and '\n",
      " 'analysis consortium (DPAC) to provide a well-documented, high-quality data '\n",
      " 'product. The community owes DPAC!')\n",
      "\n",
      "Langchain Split 2:\n",
      "('2 A many-pronged approach to the binary census Binaries exist over an '\n",
      " 'enormous range of physical scales. They are observed in the Milky Way with '\n",
      " 'orbital periods ranging from 5 min ( Roelofs et al., 2010; Burdge et al., '\n",
      " '2020 ) to 100 Myr ( Eggleton et al., 1989; El-Badry et al., 2021 ) a '\n",
      " 'dynamical range 1 0 9 in separation and 1 0 13 in period. Their mass ratios '\n",
      " 'range from 1 0 6 (planets) to 1 0 2 (black holes). A battery of different '\n",
      " 'observational techniques is required to study binaries across this parameter '\n",
      " 'space. Gaia is sensitive to essentially all possible separations, but the '\n",
      " 'effective survey volume varies enormously with separation ( Fig. 1 ). Gaia '\n",
      " 'is a survey mission, whose goal is to collect a relatively small amount of '\n",
      " 'data for a large number of sources. This makes Gaia well-suited for tasks '\n",
      " 'such as constructing large samples, identifying rare objects, and '\n",
      " 'characterizing subtle features in binary population demographics. There are '\n",
      " 'also questions that can be better answered by datasets predating Gaia . For '\n",
      " 'example, studies of the absolute binary fraction and period distribution are '\n",
      " 'best carried out with samples with high completeness, which require long '\n",
      " 'observational baselines and a diversity of observation techniques (e.g. '\n",
      " 'Duquennoy and Mayor, 1991; Raghavan et al., 2010 ). Studies of eclipsing and '\n",
      " 'ellipsoidal binaries benefit from a large number of photometric epochs, '\n",
      " 'which can currently best be provided by ground-based surveys such as OGLE ( '\n",
      " 'Soszyski et al., 2016 ), ASAS-SN ( Rowan et al., 2022; Li et al., 2024 ), '\n",
      " 'and ZTF ( Chen et al., 2020 ). Gaias greatest strength relative to other '\n",
      " 'missions is astrometry. Even for binary populations best identified with '\n",
      " 'other methods, astrometric distance constraints from Gaia have been critical '\n",
      " 'for defining samples and measuring physical parameters (see Section 6 ). We '\n",
      " 'now turn to Gaias impact on binary studies across the parameter space shown '\n",
      " 'in Fig. 1 . 3 Spatially resolved binaries The widest binaries can be '\n",
      " 'spatially resolved by Gaia , with single-star astrometric solutions produced '\n",
      " 'for both components. Gaia s effective angular resolution of 1 arcsec (a more '\n",
      " 'precise value will be inferred below) corresponds to a minimum projected '\n",
      " 'physical separation for a binary at a distance d . Given that stars expand '\n",
      " 'to maximum dimensions of order 10 au during their evolution, essentially all '\n",
      " 'the binaries Gaia can resolve are effectively single; i.e., no mass transfer '\n",
      " 'between the stars is expected, and their evolution should not be altered by '\n",
      " 'the presence of the companion. Such wide companions are relatively common: '\n",
      " 'companions with separations s 100 au are found around more than 10% of '\n",
      " 'solar-type stars (e.g. Smart et al., 2021 ).')\n",
      "\n",
      "Langchain Split 3:\n",
      "('Fig. 2 quantifies the angular resolution and contrast sensitivity of Gaia '\n",
      " 'DR3. Each panel corresponds to a different set of quality cuts, with the top '\n",
      " 'panel showing all sources in the catalog, the 2nd panel showing sources with '\n",
      " 'ruwe 1 . 4 (indicative of an unproblematic astrometric solution; Section 4 '\n",
      " '), the 3rd panel showing sources with a published bp_rp color, and the 4th '\n",
      " 'sources with colors passing the quality cuts on phot_bp_rp_excess_factor '\n",
      " 'described by Riello et al. (2021) . In all panels, the sensitivity is '\n",
      " 'relative to the sensitivity at asymptotically wide separations, calculated '\n",
      " 'from the two-point correlation function of chance alignments following '\n",
      " 'El-Badry and Rix (2018) . For near equal-brightness pairs with no quality '\n",
      " 'cuts, the completeness drops to 50% at 0 . 6 arcsec, and to 0 at 0.3 arcsec. '\n",
      " 'The requirement of a good bp_rp color results in significantly poorer '\n",
      " 'sensitivity to close companions, since the fluxes in the BP and RP bands are '\n",
      " 'dispersed over a 2 3 arcsec window and thus are quite vulnerable to blending '\n",
      " 'by a companion (e.g. Evans et al., 2018 ). This means, for example, that '\n",
      " 'white dwarf companions to main sequence stars are only detectable at '\n",
      " 'relatively wide separations. Although Gaia currently resolves very few '\n",
      " 'binaries with separations below 0.5 arcsec, the telescopes 0 . 1 arcsec '\n",
      " 'diffraction limit will ultimately allow closer pairs to be resolved. For '\n",
      " 'example, Hipparcos resolved pairs with separations as small as 0.1 arcsec, '\n",
      " 'about 3 times smaller than its diffraction limit ( Lindegren et al., 1997 ). '\n",
      " 'Specialized processing of astrometry for binaries would be required to '\n",
      " 'achieve comparable results with Gaia . By the end of the mission, Gaia is '\n",
      " 'expected to resolve equal-brightness binaries down to separations of 0.1 '\n",
      " 'arcsec ( Harrison et al., 2023 ), although it may not derive robust '\n",
      " 'astrometric solutions for both components. 3.1 Population demographics '\n",
      " 'Population demographics of wide binaries i.e., their distributions of '\n",
      " 'orbital separation, mass ratio, eccentricity, metallicity, etc., are of '\n",
      " 'interest as an observable outcome of the star formation process that can be '\n",
      " 'compared to models of star and binary formation (e.g. Bate and Bonnell, '\n",
      " '1997; Bate, 2009; Marks and Kroupa, 2012; Bate, 2019; Rozner and Perets, '\n",
      " '2023; Guszejnov et al., 2023 ). Before Gaia , it was difficult to '\n",
      " 'distinguish physically associated binaries from random chance alignments. '\n",
      " 'Precise distances and proper motions from Gaia have made distinguishing '\n",
      " 'binaries from chance alignments trivial since DR2 for most nearby ( d 1 kpc) '\n",
      " 'binaries. Only for very wide separations ( s 50 , 000 au), larger distances, '\n",
      " 'and fainter stars, does ambiguity remain common. Fig.')\n",
      "\n",
      "Langchain Split 4:\n",
      "('3 highlights a few results from studies of wide binaries with Gaia . 3.1.1 '\n",
      " 'The separation distribution Catalogs of candidate wide binaries and '\n",
      " 'co-moving pairs were constructed from the TYCHO- Gaia astrometric solution '\n",
      " '(TGAS; Michalik et al., 2015 ) published in Gaia DR1 by several groups. '\n",
      " 'Oelkers et al.')\n",
      "\n"
     ]
    }
   ],
   "source": [
    "for i in range(5):\n",
    "    print(f\"Langchain Split {i}:\")\n",
    "    pprint(splits[i])\n",
    "    print()"
   ]
  },
  {
   "cell_type": "code",
   "execution_count": 106,
   "id": "176b9114",
   "metadata": {},
   "outputs": [
    {
     "name": "stdout",
     "output_type": "stream",
     "text": [
      "Number of langchain standard deviation splits: 116\n"
     ]
    }
   ],
   "source": [
    "grad_splitter = SemanticChunker(\n",
    "    embeddings=hf_embeddings,\n",
    "    breakpoint_threshold_type=\"gradient\",\n",
    "    breakpoint_threshold_amount=80.0,\n",
    "    min_chunk_size=100,\n",
    ")\n",
    "\n",
    "grad_splits = grad_splitter.split_text(doc)\n",
    "print(f\"Number of langchain standard deviation splits: {len(grad_splits)}\")"
   ]
  },
  {
   "cell_type": "code",
   "execution_count": 107,
   "id": "c5914874",
   "metadata": {},
   "outputs": [
    {
     "name": "stdout",
     "output_type": "stream",
     "text": [
      "Chunk lengths (characters):\n",
      "{'25th_percentile': np.float64(770.0),\n",
      " '75th_percentile': np.float64(4929.25),\n",
      " 'count': 26,\n",
      " 'max': np.int64(10256),\n",
      " 'mean': np.float64(3434.230769230769),\n",
      " 'median': np.float64(2733.5),\n",
      " 'min': np.int64(252),\n",
      " 'std_dev': np.float64(2945.987274865361)}\n",
      "\n",
      "Chunk lengths (tokens):\n",
      "{'25th_percentile': np.float64(186.0),\n",
      " '75th_percentile': np.float64(1092.5),\n",
      " 'count': 26,\n",
      " 'max': np.int64(2340),\n",
      " 'mean': np.float64(772.5769230769231),\n",
      " 'median': np.float64(616.0),\n",
      " 'min': np.int64(56),\n",
      " 'std_dev': np.float64(652.2407043343221)}\n",
      "\n",
      "Chunk lengths (words):\n",
      "{'25th_percentile': np.float64(127.5),\n",
      " '75th_percentile': np.float64(805.0),\n",
      " 'count': 26,\n",
      " 'max': np.int64(1631),\n",
      " 'mean': np.float64(560.3846153846154),\n",
      " 'median': np.float64(450.0),\n",
      " 'min': np.int64(39),\n",
      " 'std_dev': np.float64(475.792705098399)}\n"
     ]
    },
    {
     "data": {
      "image/png": "[encoded data removed]",
      "text/plain": [
       "<Figure size 640x480 with 1 Axes>"
      ]
     },
     "metadata": {},
     "output_type": "display_data"
    }
   ],
   "source": [
    "# Report statistics\n",
    "token_lengths = get_token_lengths(splits, tokenizer)\n",
    "wordcounts = [len(chunk.split()) for chunk in splits]\n",
    "charcounts = [len(chunk) for chunk in splits]\n",
    "print(\"Chunk lengths (characters):\")\n",
    "stats = get_summary_stats(charcounts)\n",
    "pprint(stats)\n",
    "print()\n",
    "print(\"Chunk lengths (tokens):\")\n",
    "stats = get_summary_stats(token_lengths)\n",
    "pprint(stats)\n",
    "print()\n",
    "print(\"Chunk lengths (words):\")\n",
    "stats = get_summary_stats(wordcounts)\n",
    "pprint(stats)\n",
    "plt.hist(token_lengths)\n",
    "plt.title(\"Token Lengths of Langchain Splits\")\n",
    "plt.show()"
   ]
  },
  {
   "cell_type": "code",
   "execution_count": 108,
   "id": "9acdf3d9",
   "metadata": {},
   "outputs": [
    {
     "name": "stdout",
     "output_type": "stream",
     "text": [
      "Langchain Split 0:\n",
      "('1 Introduction Binary stars have long played a foundational role in '\n",
      " 'astrophysics. They underpin precision measurements of stellar physical '\n",
      " 'parameters, enable robust tests of general relativity, and give rise to an '\n",
      " 'extraordinary zoo of observational phenomenology. Millennia after their '\n",
      " 'discovery (e.g. Jetsu and Porceddu, 2015 ), binaries remain at the heart of '\n",
      " 'many of the interesting open questions in astrophysics: binary evolution '\n",
      " 'modeling is key for understanding the origin of gravitational wave events, '\n",
      " 'the spectral energy distributions of high redshift galaxies, and the '\n",
      " 'demographics of exoplanets in the solar neighborhood. Astrometry has played '\n",
      " 'a particularly important role for binary star astronomy. Painstaking '\n",
      " 'measurements of the relative positions of two stars in resolved optical '\n",
      " 'pairs over the course of decades allowed Herschel (1803) to infer that most '\n",
      " 'of the pairs he studied were orbiting one another. By monitoring the motion '\n",
      " 'of Sirius and Procyon over a century, Bessel (1844) realized that, despite '\n",
      " 'having no visible companions, these stars did not move in straight lines. He '\n",
      " 'correctly deduced that the stars special motions were the result of the '\n",
      " 'gravity of massive unseen companions, now known to be white dwarfs. The Gaia '\n",
      " 'mission ( Prusti et al., 2016; Brown et al., 2018; Arenou et al., 2023 ) '\n",
      " 'brought astrometry to the masses. Gaia has revolutionized the study of '\n",
      " 'binary stars and indeed, of all stars by delivering precise and accurate '\n",
      " 'distance and proper motion measurements for hundreds of millions of sources '\n",
      " 'in the Milky Way. Gaias promise for binary population demographics and the '\n",
      " 'discovery of rare objects was recognized well before launch (e.g. Perryman '\n",
      " 'et al., 2001; Sderhjelm, 2004; Fuchs and Bastian, 2005 ). The mission builds '\n",
      " 'on the legacy of Hipparcos ( Perryman et al., 1997; ESA, 1997 ) which '\n",
      " 'allowed for discovery and characterization of binaries in the solar '\n",
      " 'neighborhood ( Sderhjelm, 1999 ) but Gaia looks 100 times deeper into the '\n",
      " 'Galaxy than Hipparcos did, opening up a discovery space 1 0 6 times larger.')\n",
      "\n",
      "Langchain Split 1:\n",
      "('This review summarizes major developments in binary star astrophysics that '\n",
      " 'have been enabled by Gaia , and the state of the field as of early 2024. I '\n",
      " 'will neither attempt to cover the full history of the field (which is long, '\n",
      " 'and mostly predates Gaia ) nor provide a comprehensive list of results. '\n",
      " 'Instead, I will attempt to highlight the most significant new findings and '\n",
      " 'open questions, some of which will likely be answered by the Gaia data in '\n",
      " 'the coming years, and to provide references for interested readers to dig '\n",
      " 'deeper. For a broader perspective, I refer to previous reviews by Abt (1983) '\n",
      " ', Duchne and Kraus (2013) , Moe and Di Stefano (2017) , Offner et al.')\n",
      "\n",
      "Langchain Split 2:\n",
      "('(2023) , and Chen et al. (2024) . None of the work discussed here would be '\n",
      " 'possible without an enormous investment of time and resources by the Gaia '\n",
      " 'data processing and analysis consortium (DPAC) to provide a well-documented, '\n",
      " 'high-quality data product.')\n",
      "\n"
     ]
    }
   ],
   "source": [
    "for i in range(3):\n",
    "    print(f\"Langchain Split {i}:\")\n",
    "    pprint(grad_splits[i])\n",
    "    print()"
   ]
  },
  {
   "cell_type": "code",
   "execution_count": 121,
   "id": "2532b8a5",
   "metadata": {},
   "outputs": [],
   "source": [
    "model_name = \"BAAI/bge-large-en-v1.5\"\n",
    "bge_embeddings = HuggingFaceEmbeddings(\n",
    "    model_name=model_name,\n",
    "    model_kwargs={\"device\": \"mps\"},\n",
    "    encode_kwargs={\"normalize_embeddings\": False},\n",
    ")\n",
    "\n",
    "bge_splitter = SemanticChunker(\n",
    "    embeddings=bge_embeddings,\n",
    "    breakpoint_threshold_type=\"percentile\",\n",
    "    breakpoint_threshold_amount=70,\n",
    "    min_chunk_size=64,  # in chars\n",
    ")"
   ]
  },
  {
   "cell_type": "code",
   "execution_count": 122,
   "id": "1730331d",
   "metadata": {},
   "outputs": [
    {
     "name": "stdout",
     "output_type": "stream",
     "text": [
      "Number of langchain splits: 150\n"
     ]
    }
   ],
   "source": [
    "splits = bge_splitter.split_text(doc)\n",
    "print(f\"Number of langchain splits: {len(splits)}\")"
   ]
  },
  {
   "cell_type": "code",
   "execution_count": 123,
   "id": "6029f3d4",
   "metadata": {},
   "outputs": [
    {
     "name": "stderr",
     "output_type": "stream",
     "text": [
      "Token indices sequence length is longer than the specified maximum sequence length for this model (545 > 512). Running this sequence through the model will result in indexing errors\n"
     ]
    },
    {
     "name": "stdout",
     "output_type": "stream",
     "text": [
      "Chunk lengths (characters):\n",
      "{'25th_percentile': np.float64(183.75),\n",
      " '75th_percentile': np.float64(735.25),\n",
      " 'count': 150,\n",
      " 'max': np.int64(5226),\n",
      " 'mean': np.float64(594.44),\n",
      " 'median': np.float64(392.0),\n",
      " 'min': np.int64(66),\n",
      " 'std_dev': np.float64(682.598959663237)}\n",
      "\n",
      "Chunk lengths (tokens):\n",
      "{'25th_percentile': np.float64(44.5),\n",
      " '75th_percentile': np.float64(166.75),\n",
      " 'count': 150,\n",
      " 'max': np.int64(1117),\n",
      " 'mean': np.float64(135.56666666666666),\n",
      " 'median': np.float64(91.5),\n",
      " 'min': np.int64(19),\n",
      " 'std_dev': np.float64(145.86086597241297)}\n",
      "\n",
      "Chunk lengths (words):\n",
      "{'25th_percentile': np.float64(31.25),\n",
      " '75th_percentile': np.float64(123.75),\n",
      " 'count': 150,\n",
      " 'max': np.int64(808),\n",
      " 'mean': np.float64(97.13333333333334),\n",
      " 'median': np.float64(64.0),\n",
      " 'min': np.int64(10),\n",
      " 'std_dev': np.float64(107.94583003628358)}\n"
     ]
    },
    {
     "data": {
      "image/png": "[encoded data removed]",
      "text/plain": [
       "<Figure size 640x480 with 1 Axes>"
      ]
     },
     "metadata": {},
     "output_type": "display_data"
    }
   ],
   "source": [
    "# Report stats\n",
    "tokenizer = AutoTokenizer.from_pretrained(model_name)\n",
    "token_lengths = get_token_lengths(splits, tokenizer)\n",
    "wordcounts = [len(chunk.split()) for chunk in splits]\n",
    "charcounts = [len(chunk) for chunk in splits]\n",
    "print(\"Chunk lengths (characters):\")\n",
    "stats = get_summary_stats(charcounts)\n",
    "pprint(stats)\n",
    "print()\n",
    "print(\"Chunk lengths (tokens):\")\n",
    "stats = get_summary_stats(token_lengths)\n",
    "pprint(stats)\n",
    "print()\n",
    "print(\"Chunk lengths (words):\")\n",
    "stats = get_summary_stats(wordcounts)\n",
    "pprint(stats)\n",
    "plt.hist(token_lengths)\n",
    "plt.title(\"Token Lengths of Langchain Splits\")\n",
    "plt.show()\n"
   ]
  },
  {
   "cell_type": "code",
   "execution_count": 124,
   "id": "bb8be1a1",
   "metadata": {},
   "outputs": [
    {
     "name": "stdout",
     "output_type": "stream",
     "text": [
      "Langchain Split 0:\n",
      "('1 Introduction Binary stars have long played a foundational role in '\n",
      " 'astrophysics. They underpin precision measurements of stellar physical '\n",
      " 'parameters, enable robust tests of general relativity, and give rise to an '\n",
      " 'extraordinary zoo of observational phenomenology. Millennia after their '\n",
      " 'discovery (e.g. Jetsu and Porceddu, 2015 ), binaries remain at the heart of '\n",
      " 'many of the interesting open questions in astrophysics: binary evolution '\n",
      " 'modeling is key for understanding the origin of gravitational wave events, '\n",
      " 'the spectral energy distributions of high redshift galaxies, and the '\n",
      " 'demographics of exoplanets in the solar neighborhood. Astrometry has played '\n",
      " 'a particularly important role for binary star astronomy. Painstaking '\n",
      " 'measurements of the relative positions of two stars in resolved optical '\n",
      " 'pairs over the course of decades allowed Herschel (1803) to infer that most '\n",
      " 'of the pairs he studied were orbiting one another. By monitoring the motion '\n",
      " 'of Sirius and Procyon over a century, Bessel (1844) realized that, despite '\n",
      " 'having no visible companions, these stars did not move in straight lines. He '\n",
      " 'correctly deduced that the stars special motions were the result of the '\n",
      " 'gravity of massive unseen companions, now known to be white dwarfs. The Gaia '\n",
      " 'mission ( Prusti et al., 2016; Brown et al., 2018; Arenou et al., 2023 ) '\n",
      " 'brought astrometry to the masses. Gaia has revolutionized the study of '\n",
      " 'binary stars and indeed, of all stars by delivering precise and accurate '\n",
      " 'distance and proper motion measurements for hundreds of millions of sources '\n",
      " 'in the Milky Way. Gaias promise for binary population demographics and the '\n",
      " 'discovery of rare objects was recognized well before launch (e.g.')\n",
      "\n",
      "Langchain Split 1:\n",
      "('Perryman et al., 2001; Sderhjelm, 2004; Fuchs and Bastian, 2005 ). The '\n",
      " 'mission builds on the legacy of Hipparcos ( Perryman et al., 1997; ESA, 1997 '\n",
      " ') which allowed for discovery and characterization of binaries in the solar '\n",
      " 'neighborhood ( Sderhjelm, 1999 ) but Gaia looks 100 times deeper into the '\n",
      " 'Galaxy than Hipparcos did, opening up a discovery space 1 0 6 times larger. '\n",
      " 'This review summarizes major developments in binary star astrophysics that '\n",
      " 'have been enabled by Gaia , and the state of the field as of early 2024. I '\n",
      " 'will neither attempt to cover the full history of the field (which is long, '\n",
      " 'and mostly predates Gaia ) nor provide a comprehensive list of results.')\n",
      "\n",
      "Langchain Split 2:\n",
      "('Instead, I will attempt to highlight the most significant new findings and '\n",
      " 'open questions, some of which will likely be answered by the Gaia data in '\n",
      " 'the coming years, and to provide references for interested readers to dig '\n",
      " 'deeper. For a broader perspective, I refer to previous reviews by Abt (1983) '\n",
      " ', Duchne and Kraus (2013) , Moe and Di Stefano (2017) , Offner et al.')\n",
      "\n"
     ]
    }
   ],
   "source": [
    "for i in range(3):\n",
    "    print(f\"Langchain Split {i}:\")\n",
    "    pprint(splits[i])\n",
    "    print()"
   ]
  },
  {
   "cell_type": "code",
   "execution_count": null,
   "id": "18fd863e",
   "metadata": {},
   "outputs": [],
   "source": []
  }
 ],
 "metadata": {
  "kernelspec": {
   "display_name": "citeline",
   "language": "python",
   "name": "python3"
  },
  "language_info": {
   "codemirror_mode": {
    "name": "ipython",
    "version": 3
   },
   "file_extension": ".py",
   "mimetype": "text/x-python",
   "name": "python",
   "nbconvert_exporter": "python",
   "pygments_lexer": "ipython3",
   "version": "3.11.10"
  }
 },
 "nbformat": 4,
 "nbformat_minor": 5
}
