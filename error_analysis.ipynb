{
 "cells": [
  {
   "cell_type": "code",
   "execution_count": 1,
   "metadata": {},
   "outputs": [
    {
     "name": "stdout",
     "output_type": "stream",
     "text": [
      "=================================CONFIG=================================\n",
      "Database         User             Host                             Port            \n",
      "citeline_db      bbasseri         localhost                        5432            \n",
      "========================================================================\n",
      "Database version: ('PostgreSQL 17.3 (Homebrew) on x86_64-apple-darwin23.6.0, compiled by Apple clang version 16.0.0 (clang-1600.0.26.6), 64-bit',)\n"
     ]
    }
   ],
   "source": [
    "from dotenv import load_dotenv\n",
    "import os\n",
    "import pandas as pd\n",
    "from time import time\n",
    "import torch\n",
    "from TextEnrichers import get_enricher, TextEnricher\n",
    "from database.database import Database\n",
    "from Embedders import Embedder, get_embedder\n",
    "from tqdm import tqdm\n",
    "from pprint import pprint\n",
    "import numpy as np\n",
    "\n",
    "load_dotenv(\".env\", override=True)\n",
    "\n",
    "db = Database()\n",
    "db.test_connection()"
   ]
  },
  {
   "cell_type": "code",
   "execution_count": 2,
   "metadata": {},
   "outputs": [
    {
     "name": "stdout",
     "output_type": "stream",
     "text": [
      "Using device: mps\n",
      "Loaded 100 examples\n"
     ]
    }
   ],
   "source": [
    "device = 'cuda' if torch.cuda.is_available() else 'mps' if torch.mps.is_available() else 'cpu'\n",
    "print(f\"Using device: {device}\")\n",
    "examples = pd.read_json('data/dataset/100/nontrivial.jsonl', lines=True)\n",
    "print(f\"Loaded {len(examples)} examples\")"
   ]
  },
  {
   "cell_type": "code",
   "execution_count": 3,
   "metadata": {},
   "outputs": [],
   "source": [
    "def get_index_of_target(query_results, target_doi: str) -> int:\n",
    "    \"\"\"\n",
    "    Get the index of the target DOI in the query results.\n",
    "    :param query_results: The query results from the database.\n",
    "    :param target_doi: The DOI of the target paper.\n",
    "    :return: The index of the target DOI in the query results.\n",
    "    \"\"\"\n",
    "    for i, result in enumerate(query_results):\n",
    "        if result.doi == target_doi:\n",
    "            return i\n",
    "    return -1\n",
    "\n",
    "def get_query_results_and_ranks(examples, embedder, enricher, target_column) -> list[int]:\n",
    "    all_query_results = []\n",
    "    target_ranks = []\n",
    "    # Enrich and embed the sentences\n",
    "    enriched_sentences = enricher(examples)\n",
    "    embeddings = embedder(enriched_sentences)\n",
    "\n",
    "    for i, embedding in tqdm(enumerate(embeddings)):\n",
    "        pubdate = examples.iloc[i]['pubdate']\n",
    "        target_doi = examples.iloc[i]['citation_dois'][0]\n",
    "\n",
    "        query_results = db.query_vector_column(\n",
    "            query_vector=embedding,\n",
    "            table_name=\"lib\",\n",
    "            target_column=target_column,\n",
    "            pubdate=pubdate,\n",
    "            top_k=10_000,\n",
    "            probes=40,\n",
    "            explain=False,\n",
    "        )\n",
    "        all_query_results.append(query_results)\n",
    "\n",
    "        # Get the rank of the target DOI in the query results\n",
    "        target_rank = get_index_of_target(query_results, target_doi)\n",
    "        target_ranks.append(target_rank)\n",
    "    return all_query_results, target_ranks"
   ]
  },
  {
   "cell_type": "code",
   "execution_count": 4,
   "metadata": {},
   "outputs": [
    {
     "name": "stderr",
     "output_type": "stream",
     "text": [
      "100it [01:03,  1.57it/s]\n"
     ]
    }
   ],
   "source": [
    "# BGE with identity experiment\n",
    "bge_embedder = get_embedder(\"BAAI/bge-small-en\", device=device, normalize=True)\n",
    "identity_enricher = get_enricher(\"identity\", path_to_data=\"data/preprocessed/reviews.jsonl\")\n",
    "\n",
    "bge_query_results, bge_ranks = get_query_results_and_ranks(examples, bge_embedder, identity_enricher, \"bge_norm\")\n"
   ]
  },
  {
   "cell_type": "code",
   "execution_count": 5,
   "metadata": {},
   "outputs": [],
   "source": [
    "def print_rank_stats(ranks):\n",
    "    \"\"\"\n",
    "    Print the rank statistics.\n",
    "    :param ranks: The ranks to analyze.\n",
    "    \"\"\"\n",
    "    print(f\"Mean rank: {np.mean(ranks)}\")\n",
    "    print(f\"Median rank: {np.median(ranks)}\")\n",
    "    print(f\"Max rank: {np.max(ranks)}\")\n",
    "    print(f\"Rank 0 count: {ranks.count(0)}\")\n",
    "    print(f\"Rank 1 count: {ranks.count(1)}\")\n",
    "    print(f\"Rank 2 count: {ranks.count(2)}\")\n",
    "    print(f\"Rank 3 count: {ranks.count(3)}\")"
   ]
  },
  {
   "cell_type": "code",
   "execution_count": 6,
   "metadata": {},
   "outputs": [
    {
     "name": "stdout",
     "output_type": "stream",
     "text": [
      "Mean rank: 645.41\n",
      "Median rank: 18.0\n",
      "Max rank: 8045\n",
      "Rank 0 count: 10\n",
      "Rank 1 count: 10\n",
      "Rank 2 count: 2\n",
      "Rank 3 count: 2\n"
     ]
    }
   ],
   "source": [
    "print_rank_stats(bge_ranks)"
   ]
  },
  {
   "cell_type": "code",
   "execution_count": 7,
   "metadata": {},
   "outputs": [
    {
     "data": {
      "image/png": "[encoded data removed]",
      "text/plain": [
       "<Figure size 1600x600 with 1 Axes>"
      ]
     },
     "metadata": {},
     "output_type": "display_data"
    }
   ],
   "source": [
    "import matplotlib.pyplot as plt\n",
    "found_ranks = [rank for rank in bge_ranks if rank != -1]\n",
    "max_rank = max(found_ranks)\n",
    "bin_edges = list(range(0, ((max_rank // 500) + 2) * 500, 500))\n",
    "plt.figure(figsize=(16, 6))\n",
    "counts, bins, patches = plt.hist(found_ranks, bins=bin_edges, edgecolor='black')\n",
    "for count, bin_left, patch in zip(counts, bins, patches):\n",
    "    plt.text(\n",
    "        bin_left + (bins[1] - bins[0]) / 2,\n",
    "        count,\n",
    "        str(int(count)),\n",
    "        ha='center',\n",
    "        va='bottom',\n",
    "        fontsize=8\n",
    "    )\n",
    "plt.show()"
   ]
  },
  {
   "cell_type": "code",
   "execution_count": 8,
   "metadata": {},
   "outputs": [
    {
     "name": "stdout",
     "output_type": "stream",
     "text": [
      "index: 0, lowest index of target doi (rank - 1): -1\n",
      "index: 1, lowest index of target doi (rank - 1): 596\n",
      "index: 2, lowest index of target doi (rank - 1): 7281\n",
      "index: 3, lowest index of target doi (rank - 1): 1972\n",
      "index: 4, lowest index of target doi (rank - 1): 0\n",
      "index: 5, lowest index of target doi (rank - 1): 24\n",
      "index: 6, lowest index of target doi (rank - 1): 0\n",
      "index: 7, lowest index of target doi (rank - 1): 503\n",
      "index: 8, lowest index of target doi (rank - 1): -1\n",
      "index: 9, lowest index of target doi (rank - 1): 468\n",
      "index: 10, lowest index of target doi (rank - 1): -1\n",
      "index: 11, lowest index of target doi (rank - 1): -1\n",
      "index: 12, lowest index of target doi (rank - 1): 5\n",
      "index: 13, lowest index of target doi (rank - 1): 1\n",
      "index: 14, lowest index of target doi (rank - 1): -1\n",
      "index: 15, lowest index of target doi (rank - 1): 20\n",
      "index: 16, lowest index of target doi (rank - 1): 1272\n",
      "index: 17, lowest index of target doi (rank - 1): 164\n",
      "index: 18, lowest index of target doi (rank - 1): 8045\n",
      "index: 19, lowest index of target doi (rank - 1): 3530\n",
      "index: 20, lowest index of target doi (rank - 1): 571\n",
      "index: 21, lowest index of target doi (rank - 1): 0\n",
      "index: 22, lowest index of target doi (rank - 1): 1\n",
      "index: 23, lowest index of target doi (rank - 1): -1\n",
      "index: 24, lowest index of target doi (rank - 1): 5\n",
      "index: 25, lowest index of target doi (rank - 1): 177\n",
      "index: 26, lowest index of target doi (rank - 1): 3\n",
      "index: 27, lowest index of target doi (rank - 1): -1\n",
      "index: 28, lowest index of target doi (rank - 1): 1\n",
      "index: 29, lowest index of target doi (rank - 1): 32\n",
      "index: 30, lowest index of target doi (rank - 1): 660\n",
      "index: 31, lowest index of target doi (rank - 1): 77\n",
      "index: 32, lowest index of target doi (rank - 1): 1\n",
      "index: 33, lowest index of target doi (rank - 1): 3891\n",
      "index: 34, lowest index of target doi (rank - 1): 95\n",
      "index: 35, lowest index of target doi (rank - 1): 340\n",
      "index: 36, lowest index of target doi (rank - 1): 0\n",
      "index: 37, lowest index of target doi (rank - 1): 104\n",
      "index: 38, lowest index of target doi (rank - 1): 3\n",
      "index: 39, lowest index of target doi (rank - 1): 1\n",
      "index: 40, lowest index of target doi (rank - 1): -1\n",
      "index: 41, lowest index of target doi (rank - 1): 3100\n",
      "index: 42, lowest index of target doi (rank - 1): -1\n",
      "index: 43, lowest index of target doi (rank - 1): 0\n",
      "index: 44, lowest index of target doi (rank - 1): 26\n",
      "index: 45, lowest index of target doi (rank - 1): 47\n",
      "index: 46, lowest index of target doi (rank - 1): -1\n",
      "index: 47, lowest index of target doi (rank - 1): 1\n",
      "index: 48, lowest index of target doi (rank - 1): 5571\n",
      "index: 49, lowest index of target doi (rank - 1): 452\n",
      "index: 50, lowest index of target doi (rank - 1): 250\n",
      "index: 51, lowest index of target doi (rank - 1): 1\n",
      "index: 52, lowest index of target doi (rank - 1): 2\n",
      "index: 53, lowest index of target doi (rank - 1): 0\n",
      "index: 54, lowest index of target doi (rank - 1): 383\n",
      "index: 55, lowest index of target doi (rank - 1): 0\n",
      "index: 56, lowest index of target doi (rank - 1): 0\n",
      "index: 57, lowest index of target doi (rank - 1): 329\n",
      "index: 58, lowest index of target doi (rank - 1): -1\n",
      "index: 59, lowest index of target doi (rank - 1): 97\n",
      "index: 60, lowest index of target doi (rank - 1): 339\n",
      "index: 61, lowest index of target doi (rank - 1): 1746\n",
      "index: 62, lowest index of target doi (rank - 1): 0\n",
      "index: 63, lowest index of target doi (rank - 1): 70\n",
      "index: 64, lowest index of target doi (rank - 1): 6\n",
      "index: 65, lowest index of target doi (rank - 1): -1\n",
      "index: 66, lowest index of target doi (rank - 1): -1\n",
      "index: 67, lowest index of target doi (rank - 1): 3615\n",
      "index: 68, lowest index of target doi (rank - 1): -1\n",
      "index: 69, lowest index of target doi (rank - 1): 9\n",
      "index: 70, lowest index of target doi (rank - 1): 2704\n",
      "index: 71, lowest index of target doi (rank - 1): 4\n",
      "index: 72, lowest index of target doi (rank - 1): -1\n",
      "index: 73, lowest index of target doi (rank - 1): 1\n",
      "index: 74, lowest index of target doi (rank - 1): 22\n",
      "index: 75, lowest index of target doi (rank - 1): 531\n",
      "index: 76, lowest index of target doi (rank - 1): 1150\n",
      "index: 77, lowest index of target doi (rank - 1): 4\n",
      "index: 78, lowest index of target doi (rank - 1): -1\n",
      "index: 79, lowest index of target doi (rank - 1): 2098\n",
      "index: 80, lowest index of target doi (rank - 1): -1\n",
      "index: 81, lowest index of target doi (rank - 1): 30\n",
      "index: 82, lowest index of target doi (rank - 1): 16\n",
      "index: 83, lowest index of target doi (rank - 1): 6665\n",
      "index: 84, lowest index of target doi (rank - 1): 1\n",
      "index: 85, lowest index of target doi (rank - 1): 7\n",
      "index: 86, lowest index of target doi (rank - 1): 750\n",
      "index: 87, lowest index of target doi (rank - 1): 540\n",
      "index: 88, lowest index of target doi (rank - 1): 204\n",
      "index: 89, lowest index of target doi (rank - 1): 25\n",
      "index: 90, lowest index of target doi (rank - 1): 221\n",
      "index: 91, lowest index of target doi (rank - 1): 0\n",
      "index: 92, lowest index of target doi (rank - 1): 1344\n",
      "index: 93, lowest index of target doi (rank - 1): -1\n",
      "index: 94, lowest index of target doi (rank - 1): 1\n",
      "index: 95, lowest index of target doi (rank - 1): 54\n",
      "index: 96, lowest index of target doi (rank - 1): 1583\n",
      "index: 97, lowest index of target doi (rank - 1): 688\n",
      "index: 98, lowest index of target doi (rank - 1): 2\n",
      "index: 99, lowest index of target doi (rank - 1): 27\n"
     ]
    }
   ],
   "source": [
    "for i, rank in enumerate(bge_ranks):\n",
    "    print(f\"index: {i}, lowest index of target doi (rank - 1): {rank}\")"
   ]
  },
  {
   "cell_type": "markdown",
   "metadata": {},
   "source": [
    "## Big Misses\n",
    "\n",
    "Having used top-k of 10,000 even then some target references weren't retrieved. We see the 3rd example had one of the worst results where its target doi first appeared at index 7281.\n",
    "\n",
    "Let's take a look at this example:\n",
    "1. Get the example\n",
    "1. Look at the sentence and the target citation\n",
    "1. Look at the 7281st index to see its target chunk\n",
    "1. Find out if any of the other query results after that were also from the target doi\n",
    "1. Look at the top-ranked results' chunks\n",
    "1. Hypothesize why their vector embeddings were so much closer"
   ]
  },
  {
   "cell_type": "code",
   "execution_count": 9,
   "metadata": {},
   "outputs": [
    {
     "name": "stdout",
     "output_type": "stream",
     "text": [
      "('Original sentence: Building on their ideas, Priest and Syntelis ( 2021 ) '\n",
      " 'developed a model in which the magnetic field is written in terms of '\n",
      " 'cylindrical polar coordinates , asdue to a ring of X-points near and the '\n",
      " 'field of the current sheet itself.')\n",
      "('Example: Building on their ideas, Priest and  developed a model in which the '\n",
      " 'magnetic field is written in terms of cylindrical polar coordinates , asdue '\n",
      " 'to a ring of X-points near and the field of the current sheet itself.')\n",
      "Target doi: ['10.3847/1538-4357/abec4f']\n"
     ]
    }
   ],
   "source": [
    "example = examples.iloc[2]\n",
    "pprint(f\"Original sentence: {example.sent_original}\")\n",
    "pprint(f\"Example: {example.sent_no_cit}\")\n",
    "print(f\"Target doi: {example.citation_dois}\")"
   ]
  },
  {
   "cell_type": "markdown",
   "metadata": {},
   "source": [
    "This target doi *actually* refers to *The Dynamic Formation of Pseudostreamers* (Scott et al, 2021), bibcode `2021ApJ...913...64S`. \n",
    "\n",
    "However, \"Priest and Syntelis (2021)\" should have been the target document. So in this case the example was misformed because\n",
    "* the citation regex did not capture \"Priest\" as first author, but actually \"Syntelis\"\n",
    "* Therefore it looked for a bibcode `2021........S\"\n",
    "* Which it matched to the incorrect document\n",
    "\n",
    "### Conclusion: the dataset build pipeline misidentified a target document from an inline citation, creating a malformed example"
   ]
  },
  {
   "cell_type": "markdown",
   "metadata": {},
   "source": [
    "Let's try with example 18, the worst-performing one in the dataset"
   ]
  },
  {
   "cell_type": "code",
   "execution_count": 10,
   "metadata": {},
   "outputs": [
    {
     "name": "stdout",
     "output_type": "stream",
     "text": [
      "('Original sentence: In an influential paper, Dalal Kochanek (2002) analyzed '\n",
      " 'radio data for a sample of seven quadruply-imaged sources and reported the '\n",
      " 'detection of a surface mass fraction in the form of substructure between '\n",
      " '0.6% and 7%.')\n",
      "('Example: In an influential paper, Dalal  analyzed radio data for a sample of '\n",
      " 'seven quadruply-imaged sources and reported the detection of a surface mass '\n",
      " 'fraction in the form of substructure between 0.6% and 7%.')\n",
      "Target doi: ['10.1046/j.1365-8711.2002.05438.x']\n"
     ]
    }
   ],
   "source": [
    "example = examples.iloc[18]\n",
    "pprint(f\"Original sentence: {example.sent_original}\")\n",
    "pprint(f\"Example: {example.sent_no_cit}\")\n",
    "print(f\"Target doi: {example.citation_dois}\")"
   ]
  },
  {
   "cell_type": "markdown",
   "metadata": {},
   "source": [
    "Dalal Kochanek (2002) should refer to the paper *Direct Detection of Cold Dark Matter Substructure*, bibcode `2002ApJ...572...25D` and doi \" \n",
    "10.1086/340303\" or \"10.48550/arXiv.astro-ph/0111456\". We see here the target DOI has again been malformed.\n",
    "\n",
    "### Conclusion: malformed example"
   ]
  },
  {
   "cell_type": "code",
   "execution_count": 11,
   "metadata": {},
   "outputs": [
    {
     "name": "stdout",
     "output_type": "stream",
     "text": [
      "('Original sentence: Although this is often interpreted as “preheating”, soft '\n",
      " 'X-ray images show that in many cases the precursor, though a part of the '\n",
      " 'flare, does not coincide with the structure supporting the impulsive phase '\n",
      " '(Fárník and Savy 1998), hence not reflecting the plasma conditions at the '\n",
      " 'site of major energy release.')\n",
      "('Example: Although this is often interpreted as “preheating”, soft X-ray '\n",
      " 'images show that in many cases the precursor, though a part of the flare, '\n",
      " 'does not coincide with the structure supporting the impulsive phase (Fárník '\n",
      " 'and , hence not reflecting the plasma conditions at the site of major energy '\n",
      " 'release.')\n",
      "Target doi: ['10.1023/A:1005033717284']\n"
     ]
    }
   ],
   "source": [
    "example = examples.iloc[19]\n",
    "pprint(f\"Original sentence: {example.sent_original}\")\n",
    "pprint(f\"Example: {example.sent_no_cit}\")\n",
    "print(f\"Target doi: {example.citation_dois}\")"
   ]
  },
  {
   "cell_type": "markdown",
   "metadata": {},
   "source": [
    "### Conclusion: again, malformed example due to inline citation regex failing to capture first author"
   ]
  },
  {
   "cell_type": "code",
   "execution_count": 12,
   "metadata": {},
   "outputs": [
    {
     "name": "stdout",
     "output_type": "stream",
     "text": [
      "('Original sentence: Prior to launch, synthetic white light WISPR images, '\n",
      " 'created using the sophisticated ray-tracing software (Thernisien et al. 2009 '\n",
      " '), were used to develop new techniques for analyzing observed motions of '\n",
      " 'ejecta.')\n",
      "('Example: Prior to launch, synthetic white light WISPR images, created using '\n",
      " 'the sophisticated ray-tracing software (, were used to develop new '\n",
      " 'techniques for analyzing observed motions of ejecta.')\n",
      "Target doi: ['10.1007/s11207-009-9346-5']\n"
     ]
    }
   ],
   "source": [
    "example = examples.iloc[33]\n",
    "pprint(f\"Original sentence: {example.sent_original}\")\n",
    "pprint(f\"Example: {example.sent_no_cit}\")\n",
    "print(f\"Target doi: {example.citation_dois}\")"
   ]
  },
  {
   "cell_type": "markdown",
   "metadata": {},
   "source": [
    "Thernisien et al. 2009 does refer to DOI: 10.1007/s11207-009-9346-5. So in this case the example has the correct target doi.\n",
    "\n",
    "The input sentence refers to the ray-tracing software from Thernisien et al. 2009. So hopefully the target chunk talks about this.\n",
    "\n",
    "Inspecting the chunk retrieved:"
   ]
  },
  {
   "cell_type": "code",
   "execution_count": 13,
   "metadata": {},
   "outputs": [
    {
     "name": "stdout",
     "output_type": "stream",
     "text": [
      "VectorQueryResult(chunk_id=1216498,\n",
      "                  doi='10.1007/s11207-009-9346-5',\n",
      "                  title='Forward Modeling of Coronal Mass Ejections Using '\n",
      "                        'STEREO/SECCHI Data',\n",
      "                  abstract='We describe a forward modeling method developed to '\n",
      "                           'study the coronal mass ejections observed with '\n",
      "                           'STEREO/SECCHI. We present a survey of 26 CMEs '\n",
      "                           'modeled with this method. We selected most of the '\n",
      "                           'bright events observed since November 2007 to '\n",
      "                           'August 2008, after when the separation was greater '\n",
      "                           'than 40° degrees, thus showing noticeable '\n",
      "                           'differences between the two views. From these '\n",
      "                           'stereoscopic observations and using a geometric '\n",
      "                           'model of a flux rope, we are able to determine the '\n",
      "                           'three-dimensional direction of propagation, the '\n",
      "                           'three-dimensional velocity and acceleration of the '\n",
      "                           'CME front, and in most of the cases the flux rope '\n",
      "                           'orientation and length. We define a merit function '\n",
      "                           'that allows us to partially automate the fit, as '\n",
      "                           'well as perform a sensitivity analysis on the '\n",
      "                           'model parameters. We find a precision on the '\n",
      "                           'longitude and latitude to be of a maximum of ±17° '\n",
      "                           'and ±4°, respectively, for a 10% decrease of the '\n",
      "                           'merit function but a precision on the flux rope '\n",
      "                           'orientation and length to be almost one order of '\n",
      "                           'magnitude larger, showing that these parameters '\n",
      "                           'are more difficult to estimate using only '\n",
      "                           'coronagraph data. Finally, comparison with '\n",
      "                           'independent measurements shows a good agreement '\n",
      "                           'with the direction and speed we estimated.',\n",
      "                  chunk='We also show how the fitting process can be automated '\n",
      "                        'and its limitations. We define the CME outer front as '\n",
      "                        'the outermost bright front moving radially across the '\n",
      "                        'instrument FOV. Because the wireframe represents the '\n",
      "                        'points of the model where the density is peaked, the '\n",
      "                        'observable feature we intend to fit is then the peak '\n",
      "                        'of brightness of this front. In most of the bright '\n",
      "                        'events this feature can be clearly identified in the '\n",
      "                        'data images, but this identification can be more '\n",
      "                        'difficult in some cases, mostly because we do not '\n",
      "                        'observe 118 A. Thernisien et al. one single front '\n",
      "                        'and/or it is weak or “washed out” in the surrounding '\n",
      "                        'background. For the reader’s benefit, in the summary '\n",
      "                        'of the results, we give the polar coordinates and the '\n",
      "                        'angular extent of the leading edge in the observed '\n",
      "                        'images. Once the front is identified, we use our '\n",
      "                        'graphic interface to outline it by hand. We use this '\n",
      "                        'contour to evaluate a goodness of fit function: It is '\n",
      "                        'based on the comparison of this contour with the '\n",
      "                        'binary contour of the model wireframe projection. '\n",
      "                        'This is formalized as follows: i 1 \\x07\\x07 ci,j ei,j '\n",
      "                        '(v), n i=1 j =1 N n F (v) = (4) with v the vector of '\n",
      "                        'parameters of the model; i the index corresponding to '\n",
      "                        'the views (in our case, we have n = 2 views for '\n",
      "                        'STEREO-A and STEREO-B); N the number of points of the '\n",
      "                        'images, ci,j the pixel j of the user-defined contour '\n",
      "                        'for the view i; and finally, ei,j (v) the pixel j of '\n",
      "                        'the contour of the wireframe projection for the view '\n",
      "                        'i.',\n",
      "                  pubdate=datetime.date(2009, 5, 1),\n",
      "                  distance=0.21354762356125156)\n"
     ]
    }
   ],
   "source": [
    "example_query_results = bge_query_results[33]\n",
    "query_result_idx = bge_ranks[33]\n",
    "pprint(example_query_results[query_result_idx])"
   ]
  },
  {
   "cell_type": "markdown",
   "metadata": {},
   "source": [
    "We see this particular chunk does not seem to be particularly similar to the sentence that cites the document, rather a part of the process described which, out of context, it would be hard to recognize as related to the input sentence.\n",
    "\n",
    "Recompiling the paper:"
   ]
  },
  {
   "cell_type": "code",
   "execution_count": null,
   "metadata": {},
   "outputs": [
    {
     "name": "stdout",
     "output_type": "stream",
     "text": [
      "Number of research papers: 52618\n"
     ]
    }
   ],
   "source": [
    "research_papers = pd.read_json(\"data/preprocessed/research.jsonl\", lines=True)\n",
    "print(f\"Number of research papers: {len(research_papers)}\")\n"
   ]
  },
  {
   "cell_type": "code",
   "execution_count": 20,
   "metadata": {},
   "outputs": [
    {
     "name": "stdout",
     "output_type": "stream",
     "text": [
      "Papers found with target doi in reference data: 1\n",
      "Title: Forward Modeling of Coronal Mass Ejections Using STEREO/SECCHI Data\n"
     ]
    }
   ],
   "source": [
    "thernesien_paper = research_papers[research_papers[\"doi\"] == \"10.1007/s11207-009-9346-5\"]\n",
    "print(f\"Papers found with target doi in reference data: {len(thernesien_paper)}\")\n",
    "thernesien_paper = thernesien_paper.iloc[0]\n",
    "print(f\"Title: {thernesien_paper['title']}\")"
   ]
  },
  {
   "cell_type": "code",
   "execution_count": 25,
   "metadata": {},
   "outputs": [],
   "source": [
    "with open('thernesien_paper.txt', 'w') as f:\n",
    "    f.write(thernesien_paper[\"title\"])\n",
    "    f.write(\"\\n\")\n",
    "    f.write(thernesien_paper[\"abstract\"])\n",
    "    f.write(\"\\n\")\n",
    "    f.write(thernesien_paper[\"body\"])\n",
    "    f.write(\"\\n\")"
   ]
  },
  {
   "cell_type": "markdown",
   "metadata": {},
   "source": [
    "Let's take a look at the actual paper we have on hand"
   ]
  },
  {
   "cell_type": "markdown",
   "metadata": {},
   "source": [
    "Reviewing the content of the paper, the ray-tracing software is only briefly mentioned in section 3 and 4 and not directly mentioned in the abstract:\n",
    "\n",
    "> (3) Finally, the model can be positioned in space using spherical coordinates, as shown in Figure 1(c): φ and θ are the longitude and the latitude, respectively, and γ is the tilt angle around the axis of symmetry of the model. Here, we focus only on the geometric aspect of the modeling, leaving the photometric aspect (i.e., the electron density) to be addressed in future studies. Accordingly, we do not compare the observed total brightness images directly to the corresponding total brightness rendered model images, but rather we compare the overall observed shape to what we define to be the wireframe of the hollow croissant. The wireframe representation is simply the set of points located on the surface of the croissant, where the profile of electron density is peaked. The advantage of using a wireframe is that it allows real-time rendering, whereas it requires few seconds to few minutes for a full Thomson scattering rendering. Figure 2 shows two synthetic coronagraph images and two wireframe images of the model, viewed in the same orientation as in Figures 1(a) and (b), face-on and edge-on, respectively. The two top images are generated using a ray-tracing renderer that takes full account of the Thomson scattering equations; the two bottom images show only the projection of the wireframe on the virtual CCD. This demonstrates clearly that the wireframe representation reproduces accurately the geometry of the Thomson scattering view. 4. The Data Although this technique can be applied to images from all the instruments of the SECCHI package, we focus our study mostly on the COR2 data since its field of view (FOV) is well adapted to observe fully developed flux-rope-like CMEs. Indeed, the flux rope might not be 116 A. Thernisien et al. Figure 2 Comparison between white-light and wireframe rendering. On top are the simulated white-light images using Thomson scattering of the GCS model as seen in Figures 1(a) and (b). At the bottom are the corresponding wireframe views. fully developed in the COR1 FOV, while its overall structure becomes too faint and more difficult to interpret in the Heliospheric Imagers’ (HI) FOV. Nevertheless, we used COR1 data when the event could be clearly identified and followed in both COR1 views. We did not use the HI images because the flux rope appearance can be distorted by the effects of interactions with the solar wind. The images are prepared using the standard SolarSoft secchi_ prep.pro procedure. We use calibrated total brightness images from that we subtract from a pre-event image (base difference).\n",
    "\n",
    "Section 3 references the ray-tracing, section 4 references the software SolarSoft explicitly and more about their methodology with white-light images."
   ]
  },
  {
   "cell_type": "code",
   "execution_count": 62,
   "metadata": {},
   "outputs": [
    {
     "name": "stdout",
     "output_type": "stream",
     "text": [
      "Cosine distance: 0.21922433\n"
     ]
    }
   ],
   "source": [
    "passage = \"(3) Finally, the model can be positioned in space using spherical coordinates, as shown in Figure 1(c): φ and θ are the longitude and the latitude, respectively, and γ is the tilt angle around the axis of symmetry of the model. Here, we focus only on the geometric aspect of the modeling, leaving the photometric aspect (i.e., the electron density) to be addressed in future studies. Accordingly, we do not compare the observed total brightness images directly to the corresponding total brightness rendered model images, but rather we compare the overall observed shape to what we define to be the wireframe of the hollow croissant. The wireframe representation is simply the set of points located on the surface of the croissant, where the profile of electron density is peaked. The advantage of using a wireframe is that it allows real-time rendering, whereas it requires few seconds to few minutes for a full Thomson scattering rendering. Figure 2 shows two synthetic coronagraph images and two wireframe images of the model, viewed in the same orientation as in Figures 1(a) and (b), face-on and edge-on, respectively. The two top images are generated using a ray-tracing renderer that takes full account of the Thomson scattering equations; the two bottom images show only the projection of the wireframe on the virtual CCD. This demonstrates clearly that the wireframe representation reproduces accurately the geometry of the Thomson scattering view. 4. The Data Although this technique can be applied to images from all the instruments of the SECCHI package, we focus our study mostly on the COR2 data since its field of view (FOV) is well adapted to observe fully developed flux-rope-like CMEs. Indeed, the flux rope might not be 116 A. Thernisien et al. Figure 2 Comparison between white-light and wireframe rendering. On top are the simulated white-light images using Thomson scattering of the GCS model as seen in Figures 1(a) and (b). At the bottom are the corresponding wireframe views. fully developed in the COR1 FOV, while its overall structure becomes too faint and more difficult to interpret in the Heliospheric Imagers’ (HI) FOV. Nevertheless, we used COR1 data when the event could be clearly identified and followed in both COR1 views. We did not use the HI images because the flux rope appearance can be distorted by the effects of interactions with the solar wind. The images are prepared using the standard SolarSoft secchi_ prep.pro procedure. We use calibrated total brightness images from that we subtract from a pre-event image (base difference).\"\n",
    "embeddings = bge_embedder([example.sent_no_cit, passage])\n",
    "example_embedding = embeddings[0]\n",
    "passage_embedding = embeddings[1]\n",
    "\n",
    "# Get the cosine distance between the two embeddings using numpy\n",
    "def cosine_distance(a, b):\n",
    "    \"\"\"\n",
    "    Calculate the cosine distance between two vectors.\n",
    "    :param a: The first vector.\n",
    "    :param b: The second vector.\n",
    "    :return: The cosine distance between the two vectors.\n",
    "    \"\"\"\n",
    "    a = a / np.linalg.norm(a)\n",
    "    b = b / np.linalg.norm(b)\n",
    "    return 1 - np.dot(a, b)\n",
    "print(\"Cosine distance:\", cosine_distance(example_embedding, passage_embedding))"
   ]
  },
  {
   "cell_type": "code",
   "execution_count": 63,
   "metadata": {},
   "outputs": [
    {
     "name": "stdout",
     "output_type": "stream",
     "text": [
      "Cosine distance between section 3 and input 0.22012842\n",
      "Cosine distance between section 4 and input 0.21376169\n"
     ]
    }
   ],
   "source": [
    "section_3 = \"(3) Finally, the model can be positioned in space using spherical coordinates, as shown in Figure 1(c): φ and θ are the longitude and the latitude, respectively, and γ is the tilt angle around the axis of symmetry of the model. Here, we focus only on the geometric aspect of the modeling, leaving the photometric aspect (i.e., the electron density) to be addressed in future studies. Accordingly, we do not compare the observed total brightness images directly to the corresponding total brightness rendered model images, but rather we compare the overall observed shape to what we define to be the wireframe of the hollow croissant. The wireframe representation is simply the set of points located on the surface of the croissant, where the profile of electron density is peaked. The advantage of using a wireframe is that it allows real-time rendering, whereas it requires few seconds to few minutes for a full Thomson scattering rendering. Figure 2 shows two synthetic coronagraph images and two wireframe images of the model, viewed in the same orientation as in Figures 1(a) and (b), face-on and edge-on, respectively. The two top images are generated using a ray-tracing renderer that takes full account of the Thomson scattering equations; the two bottom images show only the projection of the wireframe on the virtual CCD. This demonstrates clearly that the wireframe representation reproduces accurately the geometry of the Thomson scattering view.\"\n",
    "section_4 = \"4. The Data Although this technique can be applied to images from all the instruments of the SECCHI package, we focus our study mostly on the COR2 data since its field of view (FOV) is well adapted to observe fully developed flux-rope-like CMEs. Indeed, the flux rope might not be 116 A. Thernisien et al. Figure 2 Comparison between white-light and wireframe rendering. On top are the simulated white-light images using Thomson scattering of the GCS model as seen in Figures 1(a) and (b). At the bottom are the corresponding wireframe views. fully developed in the COR1 FOV, while its overall structure becomes too faint and more difficult to interpret in the Heliospheric Imagers’ (HI) FOV. Nevertheless, we used COR1 data when the event could be clearly identified and followed in both COR1 views. We did not use the HI images because the flux rope appearance can be distorted by the effects of interactions with the solar wind. The images are prepared using the standard SolarSoft secchi_ prep.pro procedure. We use calibrated total brightness images from that we subtract from a pre-event image (base difference).\"\n",
    "section_3_embedding = bge_embedder([section_3])[0]\n",
    "section_4_embedding = bge_embedder([section_4])[0]\n",
    "print(\"Cosine distance between section 3 and input\", cosine_distance(section_3_embedding, example_embedding))\n",
    "print(\"Cosine distance between section 4 and input\", cosine_distance(section_4_embedding, example_embedding))\n"
   ]
  },
  {
   "cell_type": "markdown",
   "metadata": {},
   "source": [
    "This substring from section 4 seems particularly relevant:\n",
    "\n",
    "> Figure 2 Comparison between white-light and wireframe rendering. On top are the simulated white-light images using Thomson scattering of the GCS model as seen in Figures 1(a) and (b). At the bottom are the corresponding wireframe views. fully developed in the COR1 FOV, while its overall structure becomes too faint and more difficult to interpret in the Heliospheric Imagers’ (HI) FOV. Nevertheless, we used COR1 data when the event could be clearly identified and followed in both COR1 views. We did not use the HI images because the flux rope appearance can be distorted by the effects of interactions with the solar wind. The images are prepared using the standard SolarSoft secchi_ prep.pro procedure. We use calibrated total brightness images from that we subtract from a pre-event image (base difference)."
   ]
  },
  {
   "cell_type": "code",
   "execution_count": 64,
   "metadata": {},
   "outputs": [
    {
     "name": "stdout",
     "output_type": "stream",
     "text": [
      "Cosine distance: 0.037793636\n"
     ]
    }
   ],
   "source": [
    "passage_2 = \"Figure 2 Comparison between white-light and wireframe rendering. On top are the simulated white-light images using Thomson scattering of the GCS model as seen in Figures 1(a) and (b). At the bottom are the corresponding wireframe views. fully developed in the COR1 FOV, while its overall structure becomes too faint and more difficult to interpret in the Heliospheric Imagers’ (HI) FOV. Nevertheless, we used COR1 data when the event could be clearly identified and followed in both COR1 views. We did not use the HI images because the flux rope appearance can be distorted by the effects of interactions with the solar wind. The images are prepared using the standard SolarSoft secchi_ prep.pro procedure. We use calibrated total brightness images from that we subtract from a pre-event image (base difference).\"\n",
    "embedding_2 = bge_embedder([passage_2])[0]\n",
    "print(\"Cosine distance:\", cosine_distance(passage_embedding, embedding_2))"
   ]
  },
  {
   "cell_type": "markdown",
   "metadata": {},
   "source": [
    "This has the best cosine distance by far. Where is it in the chunks?"
   ]
  },
  {
   "cell_type": "markdown",
   "metadata": {},
   "source": [
    "Compare it to the chunk the preprocessing pipeline inserted into the database:"
   ]
  },
  {
   "cell_type": "code",
   "execution_count": 31,
   "metadata": {},
   "outputs": [
    {
     "name": "stdout",
     "output_type": "stream",
     "text": [
      "Number of chunks found with target doi in reference data: 41\n"
     ]
    }
   ],
   "source": [
    "chunks = db.query(\"SELECT chunk FROM lib WHERE doi = '10.1007/s11207-009-9346-5'\")\n",
    "print(f\"Number of chunks found with target doi in reference data: {len(chunks)}\")\n",
    "chunks = [chunk[0] for chunk in chunks]"
   ]
  },
  {
   "cell_type": "code",
   "execution_count": 60,
   "metadata": {},
   "outputs": [
    {
     "name": "stdout",
     "output_type": "stream",
     "text": [
      "('Found chunk 3: The two top images are generated using a ray-tracing renderer '\n",
      " 'that takes full account of the Thomson scattering equations; the two bottom '\n",
      " 'images show only the projection of the wireframe on the virtual CCD. This '\n",
      " 'demonstrates clearly that the wireframe representation reproduces accurately '\n",
      " 'the geometry of the Thomson scattering view. 4. The Data Although this '\n",
      " 'technique can be applied to images from all the instruments of the SECCHI '\n",
      " 'package, we focus our study mostly on the COR2 data since its field of view '\n",
      " '(FOV) is well adapted to observe fully developed flux-rope-like CMEs. '\n",
      " 'Indeed, the flux rope might not be 116 A. Thernisien et al. Figure 2 '\n",
      " 'Comparison between white-light and wireframe rendering. On top are the '\n",
      " 'simulated white-light images using Thomson scattering of the GCS model as '\n",
      " 'seen in Figures 1(a) and (b). At the bottom are the corresponding wireframe '\n",
      " 'views. fully developed in the COR1 FOV, while its overall structure becomes '\n",
      " 'too faint and more difficult to interpret in the Heliospheric Imagers’ (HI) '\n",
      " 'FOV. Nevertheless, we used COR1 data when the event could be clearly '\n",
      " 'identified and followed in both COR1 views. We did not use the HI images '\n",
      " 'because the flux rope appearance can be distorted by the effects of '\n",
      " 'interactions with the solar wind. The images are prepared using the standard '\n",
      " 'SolarSoft secchi_ prep.pro procedure. We use calibrated total brightness '\n",
      " 'images from that we subtract from a pre-event image (base difference). 5.')\n",
      "('Found chunk 3: The two top images are generated using a ray-tracing renderer '\n",
      " 'that takes full account of the Thomson scattering equations; the two bottom '\n",
      " 'images show only the projection of the wireframe on the virtual CCD. This '\n",
      " 'demonstrates clearly that the wireframe representation reproduces accurately '\n",
      " 'the geometry of the Thomson scattering view. 4. The Data Although this '\n",
      " 'technique can be applied to images from all the instruments of the SECCHI '\n",
      " 'package, we focus our study mostly on the COR2 data since its field of view '\n",
      " '(FOV) is well adapted to observe fully developed flux-rope-like CMEs. '\n",
      " 'Indeed, the flux rope might not be 116 A. Thernisien et al. Figure 2 '\n",
      " 'Comparison between white-light and wireframe rendering. On top are the '\n",
      " 'simulated white-light images using Thomson scattering of the GCS model as '\n",
      " 'seen in Figures 1(a) and (b). At the bottom are the corresponding wireframe '\n",
      " 'views. fully developed in the COR1 FOV, while its overall structure becomes '\n",
      " 'too faint and more difficult to interpret in the Heliospheric Imagers’ (HI) '\n",
      " 'FOV. Nevertheless, we used COR1 data when the event could be clearly '\n",
      " 'identified and followed in both COR1 views. We did not use the HI images '\n",
      " 'because the flux rope appearance can be distorted by the effects of '\n",
      " 'interactions with the solar wind. The images are prepared using the standard '\n",
      " 'SolarSoft secchi_ prep.pro procedure. We use calibrated total brightness '\n",
      " 'images from that we subtract from a pre-event image (base difference). 5.')\n"
     ]
    }
   ],
   "source": [
    "for i, chunk in enumerate(chunks):\n",
    "    if \"ray-tracing renderer\" in chunk:\n",
    "        pprint(f\"Found chunk {i}: {chunk}\")\n",
    "    if \"The images are prepared using the standard SolarSoft\" in chunk:\n",
    "        pprint(f\"Found chunk {i}: {chunk}\")"
   ]
  },
  {
   "cell_type": "markdown",
   "metadata": {},
   "source": [
    "Both those key phrases appear in chunk 3, which is part of section 3 and all of section 4"
   ]
  },
  {
   "cell_type": "markdown",
   "metadata": {},
   "source": [
    "What would the cosine distance be to this chunk? To all chunks?"
   ]
  },
  {
   "cell_type": "code",
   "execution_count": 40,
   "metadata": {},
   "outputs": [
    {
     "name": "stdout",
     "output_type": "stream",
     "text": [
      "0.20967066\n"
     ]
    }
   ],
   "source": [
    "chunk_3_embedding = bge_embedder([chunks[3]])[0]\n",
    "print(cosine_distance(chunk_3_embedding, example_embedding))"
   ]
  },
  {
   "cell_type": "code",
   "execution_count": 46,
   "metadata": {},
   "outputs": [
    {
     "name": "stdout",
     "output_type": "stream",
     "text": [
      "Shortest distance of all chunks from this paper: 0.20767277479171753\n",
      "At index: 40\n",
      "('Chunk: Astrophys. J. 628, 1061 – 1069. doi:10.1086/430846. Frazin, R.A., '\n",
      " 'Kamalabadi, F.: 2005b, Rotational tomography for 3D reconstruction of the '\n",
      " 'white-light and EUV corona in the post-SOHO era. Solar Phys. 228, 219 – 237. '\n",
      " 'doi:10.1007/s11207-005-2764-0. Frazin, R.A., Butala, M.D., Kemball, A., '\n",
      " 'Kamalabadi, F.: 2005, Time-dependent reconstruction of nonstationary objects '\n",
      " 'with tomographic or interferometric measurements. Astrophys. J. 635, L197 – '\n",
      " 'L200. doi:10.1086/499431. Howard, R.A., Sheeley, N.R. Jr., Michels, D.J., '\n",
      " 'Koomen, M.J.: 1985, Coronal mass ejections – 1979 – 1981. J. Geophys. Res. '\n",
      " '90, 8173 – 8191. Howard, R.A., Moses, J.D., Vourlidas, A., Newmark, J.S., '\n",
      " 'Socker, D.G., Plunkett, S.P., Korendyke, C.M., Cook, J.W., Hurley, A., '\n",
      " 'Davila, J.M., Thompson, W.T., St Cyr, O.C., Mentzell, E., Mehalick, K., '\n",
      " 'Lemen, 130 A. Thernisien et al. J.R., Wuelser, J.P., Duncan, D.W., Tarbell, '\n",
      " 'T.D., Wolfson, C.J., Moore, A., Harrison, R.A., Waltham, N.R., Lang, J., '\n",
      " 'Davis, C.J., Eyles, C.J., Mapson-Menard, H., Simnett, G.M., Halain, J.P., '\n",
      " 'Defise, J.M., Mazy, E., Rochus, P., Mercier, R., Ravet, M.F., Delmotte, F., '\n",
      " 'Auchere, F., Delaboudiniere, J.P., Bothmer, V., Deutsch, W., Wang, D., Rich, '\n",
      " 'N., Cooper, S., Stephens, V., Maahs, G., Baugh, R., McMullin, D., Carter, '\n",
      " 'T.: 2008, Sun Earth connection coronal and heliospheric investigation '\n",
      " '(SECCHI). Space Sci. Rev. 136, 67 – 115. doi:10.1007/s11214-008-9341-4.')\n"
     ]
    }
   ],
   "source": [
    "cosine_distances = []\n",
    "\n",
    "for i, chunk in enumerate(chunks):\n",
    "    embedding = bge_embedder([chunk])[0]\n",
    "    cosine_distance_value = cosine_distance(embedding, example_embedding)\n",
    "    cosine_distances.append(cosine_distance_value)\n",
    "\n",
    "min_distance = min(cosine_distances)\n",
    "print(f\"Shortest distance of all chunks from this paper: {min_distance}\")\n",
    "best_idx = cosine_distances.index(min_distance)\n",
    "print(f\"At index: {best_idx}\")\n",
    "pprint(f\"Chunk: {chunks[best_idx]}\")"
   ]
  },
  {
   "cell_type": "markdown",
   "metadata": {},
   "source": [
    "So the chunk containing the substring with really good Strangely, an excerpt from the paper's end matter is the closest chunk by cosine distance. Were there in fact any other chunks from this paper included?"
   ]
  },
  {
   "cell_type": "code",
   "execution_count": 48,
   "metadata": {},
   "outputs": [
    {
     "name": "stdout",
     "output_type": "stream",
     "text": [
      "Number of results from target doi: 1\n"
     ]
    }
   ],
   "source": [
    "example_query_results = bge_query_results[33]\n",
    "results_from_target_doi = [result for result in example_query_results if result.doi == \"10.1007/s11207-009-9346-5\"]\n",
    "print(f\"Number of results from target doi: {len(results_from_target_doi)}\")\n",
    "\n",
    "# No other references found except this one chunk"
   ]
  },
  {
   "cell_type": "markdown",
   "metadata": {},
   "source": [
    "#### Observations so far:\n",
    "\n",
    "1. What appears to be the most relevant passage does not clearly indicate the contribution (ray-tracing software) described by the inline citation\n",
    "1. The human-preferred chunk in the database was not retrieved in the top 10000 results with 40 probes.\n",
    "1. It's possible the other parts of the input sentence, referring to WISPR images and ejecta motions, may have overridden the ray-tracing citation when embedding"
   ]
  },
  {
   "cell_type": "code",
   "execution_count": 52,
   "metadata": {},
   "outputs": [
    {
     "data": {
      "image/png": "[encoded data removed]",
      "text/plain": [
       "<Figure size 640x480 with 1 Axes>"
      ]
     },
     "metadata": {},
     "output_type": "display_data"
    }
   ],
   "source": [
    "plt.hist([result.distance for result in example_query_results])\n",
    "plt.show()"
   ]
  },
  {
   "cell_type": "code",
   "execution_count": 53,
   "metadata": {},
   "outputs": [
    {
     "name": "stdout",
     "output_type": "stream",
     "text": [
      "Number of results with distance > 0.20967066: 7767\n"
     ]
    }
   ],
   "source": [
    "worse_retrieved = len([result for result in example_query_results if result.distance > 0.20967066])\n",
    "print(f\"Number of results with distance > 0.20967066: {worse_retrieved}\")"
   ]
  },
  {
   "cell_type": "markdown",
   "metadata": {},
   "source": [
    "So if the database query had retrieved the true closest chunk, it still would have been ranked about 2232"
   ]
  },
  {
   "cell_type": "markdown",
   "metadata": {},
   "source": [
    "#### Look at what records were deemed more similar"
   ]
  },
  {
   "cell_type": "code",
   "execution_count": 57,
   "metadata": {},
   "outputs": [
    {
     "name": "stdout",
     "output_type": "stream",
     "text": [
      "('Rank 0 (distance 0.1521): 3 This was shown experimentally by Piekutowski '\n",
      " '(1980) , and confirmed in our own experiments and recent code calculations. '\n",
      " 'At least five different techniques have been used to measure the ejection '\n",
      " 'velocity as a function of position, i.e. v ( x ): (1) Piekutowski et al. '\n",
      " '(1977) measured velocities for small explosion events by using a sheet of '\n",
      " 'light perpendicular to the target surface to illuminate a single plane of '\n",
      " 'the ejecta plume. A camera with a rotating shutter recorded the positions of '\n",
      " 'ejecta particles at discrete times, from which their trajectories could be '\n",
      " 'determined. (2) Cintala et al. (1999) improved on this method by using a '\n",
      " 'strobed laser and a CCD camera to record the trajectories. Once the '\n",
      " 'trajectories were known, ballistic equations were used to determine the '\n",
      " 'launch position, speed and angle. (3) An optical technique originally '\n",
      " 'developed in the fluid mechanics community for visualization of flow fields '\n",
      " 'was used by Schultz et al. (2000), Anderson et al. (2003), Anderson and '\n",
      " 'Schultz (2005), and Hermalyn et al. (2009) . In this method, images of a '\n",
      " 'slice of the ejecta plume are acquired at different times. Rather than '\n",
      " 'tracking specific particles in the plume, a cross-correlation analysis of '\n",
      " 'image pairs is used to determine material motions after launch.')\n",
      "('Rank 1 (distance 0.1649): A binned opacity treatment and an increased number '\n",
      " 'of rays should be employed in future experiments. Finally, Doppler and '\n",
      " 'Stokes spectra calculated from the simulation data will allow “forward '\n",
      " 'modeling” and direct comparisons with Dopplergrams and magnetograms.')\n",
      "('Rank 2 (distance 0.1710): In addition, a program for imaging the galaxies in '\n",
      " 'the optical and NIR has begun, from which color maps will be formed to '\n",
      " 'deduce the spatial distribution of the dust and star formation within the '\n",
      " 'galaxies.')\n"
     ]
    }
   ],
   "source": [
    "for i, result in enumerate(example_query_results[:3]):\n",
    "    pprint(f\"Rank {i} (distance {result.distance:.4f}): {result.chunk}\") "
   ]
  },
  {
   "cell_type": "markdown",
   "metadata": {},
   "source": [
    "Thoughts:\n",
    "1. The top-ranked chunk discusses ejecta a lot.\n",
    "1. The second top-ranked chunk is short, but mentions rays and forward modeling (which is what the software does)\n",
    "1. The third result mentions color maps\n",
    "1. None of these results seem to discuss the input sentence topic much, and neither do they have particularly close scores"
   ]
  },
  {
   "cell_type": "markdown",
   "metadata": {},
   "source": [
    "### Conclusion: this would be a difficult example no matter what, but if the chunking had been more granular we might have nailed it"
   ]
  },
  {
   "cell_type": "code",
   "execution_count": 66,
   "metadata": {},
   "outputs": [
    {
     "name": "stdout",
     "output_type": "stream",
     "text": [
      "('Original sentence: doi:10.1086/185542 Belsole E, Worrall DM, Hardcastle MJ, '\n",
      " 'Birkinshaw M, Lawrence CR (2004) XMM-Newton observations of three '\n",
      " 'high-redshift radio galaxies.')\n",
      "('Example: doi:10.1086/185542 Belsole E, Worrall DM, Hardcastle MJ, Birkinshaw '\n",
      " 'M, Lawrence  XMM-Newton observations of three high-redshift radio galaxies.')\n",
      "Target doi: ['10.1007/BF02702288']\n"
     ]
    }
   ],
   "source": [
    "example = examples.iloc[48]\n",
    "pprint(f\"Original sentence: {example.sent_original}\")\n",
    "pprint(f\"Example: {example.sent_no_cit}\")\n",
    "print(f\"Target doi: {example.citation_dois}\")"
   ]
  },
  {
   "cell_type": "markdown",
   "metadata": {},
   "source": [
    "### Conclusion: this example has very little semantic content, and appears to be from the end matter. It should not have been an example at all"
   ]
  },
  {
   "cell_type": "code",
   "execution_count": 67,
   "metadata": {},
   "outputs": [
    {
     "name": "stdout",
     "output_type": "stream",
     "text": [
      "('Original sentence: Using a theoretical HR diagram, it is possible to derive '\n",
      " 'an empirical relation between A~f and the luminosity L (Lamers, 1981), and, '\n",
      " 'going one step further, and A~f—M relation (since for high masses, the '\n",
      " 'luminosity remains approximately constant throughout the evolution), in the '\n",
      " 'form: J~f)~MI~ 2=108MoY~11 M>Mmn=20M.')\n",
      "('Example: Using a theoretical HR diagram, it is possible to derive an '\n",
      " 'empirical relation between A~f and the luminosity L (, and, going one step '\n",
      " 'further, and A~f—M relation (since for high masses, the luminosity remains '\n",
      " 'approximately constant throughout the evolution), in the form: J~f)~MI~ '\n",
      " '2=108MoY~11 M>Mmn=20M.')\n",
      "Target doi: ['10.1086/158835']\n"
     ]
    }
   ],
   "source": [
    "example = examples.iloc[67]\n",
    "pprint(f\"Original sentence: {example.sent_original}\")\n",
    "pprint(f\"Example: {example.sent_no_cit}\")\n",
    "print(f\"Target doi: {example.citation_dois}\")"
   ]
  },
  {
   "cell_type": "markdown",
   "metadata": {},
   "source": [
    "This appears to be OCR errors, mistaking $\\dot{M}$ for `A~f`. The original has very different notation:"
   ]
  },
  {
   "cell_type": "code",
   "execution_count": null,
   "metadata": {},
   "outputs": [
    {
     "data": {
      "image/png": "[encoded data removed]",
      "text/plain": [
       "<IPython.core.display.Image object>"
      ]
     },
     "metadata": {},
     "output_type": "display_data"
    }
   ],
   "source": [
    "# display 'data/images/gamma_rays_screenshot.png' image\n",
    "from IPython.display import Image, display\n",
    "display(Image(filename='data/images/gamma_rays_screenshot.png'))"
   ]
  },
  {
   "cell_type": "markdown",
   "metadata": {},
   "source": [
    "This target doi is correct. It discusses\n",
    "- A theoretical HR diagram\n",
    "- deriving a relationship between A~f (a type of star) and luminosity\n",
    "\n",
    "The target paper is:"
   ]
  },
  {
   "cell_type": "code",
   "execution_count": 74,
   "metadata": {},
   "outputs": [
    {
     "name": "stdout",
     "output_type": "stream",
     "text": [
      "'Mass loss from O and B stars.'\n",
      "('The mass loss rates of 53 early type stars, ranging in spectral type from O3 '\n",
      " 'to B9 and in luminosity class from V to Ia(+), including Of stars, are used '\n",
      " 'to investigate the dependence of the mass loss rates on the stellar '\n",
      " 'parameters. The mass loss rates are based on observations of the radio flux, '\n",
      " 'infrared excess, UV resonance lines, and H-alpha emission as found in the '\n",
      " 'literature. These four sets of mass loss rates are compared with one another '\n",
      " 'and corrected for systematic differences due to differences in the adopted '\n",
      " 'velocity laws, by scaling them to the rates derived from the radio flux. '\n",
      " 'Expressions are obtained which describe the mass loss rates or mass fluxes; '\n",
      " 'the obtained relations agree neither with the present predictions for the '\n",
      " 'radiation-driven wind theory nor with those for the fluctuation theory of '\n",
      " 'mass loss.')\n"
     ]
    }
   ],
   "source": [
    "lamers = research_papers[research_papers[\"doi\"] == \"10.1086/158835\"].iloc[0]\n",
    "pprint(lamers.title)\n",
    "pprint(lamers.abstract)"
   ]
  },
  {
   "cell_type": "code",
   "execution_count": 75,
   "metadata": {},
   "outputs": [],
   "source": [
    "with open('lamers_paper.txt', 'w') as f:\n",
    "    f.write(lamers.title)\n",
    "    f.write(\"\\n\")\n",
    "    f.write(lamers.abstract)\n",
    "    f.write(\"\\n\")\n",
    "    f.write(lamers.body)\n",
    "    f.write(\"\\n\")"
   ]
  },
  {
   "cell_type": "code",
   "execution_count": null,
   "metadata": {},
   "outputs": [],
   "source": []
  }
 ],
 "metadata": {
  "kernelspec": {
   "display_name": "citeline",
   "language": "python",
   "name": "python3"
  },
  "language_info": {
   "codemirror_mode": {
    "name": "ipython",
    "version": 3
   },
   "file_extension": ".py",
   "mimetype": "text/x-python",
   "name": "python",
   "nbconvert_exporter": "python",
   "pygments_lexer": "ipython3",
   "version": "3.11.10"
  }
 },
 "nbformat": 4,
 "nbformat_minor": 2
}
