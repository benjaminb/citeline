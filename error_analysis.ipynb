{
 "cells": [
  {
   "cell_type": "code",
   "execution_count": 4,
   "metadata": {},
   "outputs": [
    {
     "name": "stdout",
     "output_type": "stream",
     "text": [
      "=================================CONFIG=================================\n",
      "Database         User             Host                             Port            \n",
      "citeline_db      bbasseri         localhost                        5432            \n",
      "========================================================================\n",
      "Database version: ('PostgreSQL 17.3 (Homebrew) on x86_64-apple-darwin23.6.0, compiled by Apple clang version 16.0.0 (clang-1600.0.26.6), 64-bit',)\n"
     ]
    }
   ],
   "source": [
    "from dotenv import load_dotenv\n",
    "import os\n",
    "import pandas as pd\n",
    "from time import time\n",
    "import torch\n",
    "from TextEnrichers import get_enricher, TextEnricher\n",
    "from database.database import Database\n",
    "from Embedders import Embedder, get_embedder\n",
    "from tqdm import tqdm\n",
    "from pprint import pprint\n",
    "\n",
    "load_dotenv(\".env\", override=True)\n",
    "\n",
    "db = Database()\n",
    "db.test_connection()"
   ]
  },
  {
   "cell_type": "code",
   "execution_count": 2,
   "metadata": {},
   "outputs": [],
   "source": [
    "device = 'cuda' if torch.cuda.is_available() else 'mps' if torch.mps.is_available() else 'cpu'\n",
    "examples = pd.read_json('data/dataset/100/nontrivial.jsonl', lines=True)"
   ]
  },
  {
   "cell_type": "markdown",
   "metadata": {},
   "source": [
    "Let's take a look at the first example's sentence without citations:"
   ]
  },
  {
   "cell_type": "code",
   "execution_count": 38,
   "metadata": {},
   "outputs": [
    {
     "name": "stdout",
     "output_type": "stream",
     "text": [
      "('The work of  suggests a fundamental distinction in elemental abundances '\n",
      " 'between closed and open magnetic structures, matching the nominal '\n",
      " 'photospheric and coronal abundances, respectively.')\n",
      "'Sentence number: 369'\n",
      "'Source doi: 10.1146/annurev.aa.30.090192.000553'\n",
      "\"Target dois: ['10.1086/167871']\"\n"
     ]
    }
   ],
   "source": [
    "example = examples.iloc[29]\n",
    "pprint(example['sent_no_cit'])\n",
    "pprint(f\"Sentence number: {example['sent_idx']}\")\n",
    "pprint(f\"Source doi: {example['source_doi']}\")\n",
    "pprint(f\"Target dois: {example['citation_dois']}\")"
   ]
  },
  {
   "cell_type": "markdown",
   "metadata": {},
   "source": [
    "We can add a little more context to see what star we're talking about:"
   ]
  },
  {
   "cell_type": "code",
   "execution_count": 39,
   "metadata": {},
   "outputs": [
    {
     "name": "stdout",
     "output_type": "stream",
     "text": [
      "bibcode                                         1992ARA&A..30..113K\n",
      "abstract          Solar flare and coronal mass ejection (CME) ob...\n",
      "aff                                            [Boston College, MA]\n",
      "author                                              [Kahler, S. W.]\n",
      "bibstem                                          [ARA&A, ARA&A..30]\n",
      "doctype                                                     article\n",
      "doi                             10.1146/annurev.aa.30.090192.000553\n",
      "id                                                          1840100\n",
      "pubdate                                                  1992-01-01\n",
      "title                      Solar flares and coronal mass ejections.\n",
      "read_count                                                        7\n",
      "reference         [1852RSPT..142..103S, 1859MNRAS..20...13C, 190...\n",
      "citation_count                                                  463\n",
      "citation          [1992LNP...399....1S, 1993AZh....70..165C, 199...\n",
      "body              Annu. Rev. Astron. Astrophys. 1992. 30: 113-41...\n",
      "dois                          [10.1146/annurev.aa.30.090192.000553]\n",
      "keywords          [Magnetic Storms, Solar Corona, Solar Flares, ...\n",
      "loaded_from                            data/json/Astro_Reviews.json\n",
      "body_sentences    [Annu.  Rev. Astron.  Astrophys.  1992., 30: 1...\n",
      "data                                                           None\n",
      "Name: 365, dtype: object\n"
     ]
    }
   ],
   "source": [
    "all_reviews = pd.read_json('data/preprocessed/reviews.jsonl', lines=True)\n",
    "source_record = all_reviews.loc[all_reviews[\"doi\"] == example[\"source_doi\"]].iloc[0]\n",
    "print(source_record)"
   ]
  },
  {
   "cell_type": "code",
   "execution_count": 40,
   "metadata": {},
   "outputs": [
    {
     "name": "stdout",
     "output_type": "stream",
     "text": [
      "['Compared with photospheric abundances, the coronal abundances are known to '\n",
      " 'be deficient in elements with a first ionization potential exceeding about 9 '\n",
      " 'ev (Meyer 1985).',\n",
      " 'Thus, the Breneman & Stone (1985) observations rule out a SEP source with '\n",
      " 'photospheric abundances.',\n",
      " 'There is now some evidence to suggest that elemental abundances of flare '\n",
      " 'plasmas more closely match the photospheric rather than the coronal '\n",
      " 'abundances (Feldman & Widing 1990), perhaps because the photospheric '\n",
      " 'material is the primary source of the heated flare plasma.',\n",
      " 'The work of Widing & Feldman (1989) suggests a fundamental distinction in '\n",
      " 'elemental abundances between closed and open magnetic structures, matching '\n",
      " 'the nominal photospheric and coronal abundances, respectively.']\n"
     ]
    }
   ],
   "source": [
    "idx = example['sent_idx']\n",
    "pprint(source_record.body_sentences[idx-3:idx+1])"
   ]
  },
  {
   "cell_type": "markdown",
   "metadata": {},
   "source": [
    "Next let's embed the sentence and get query results. We'll want to know\n",
    "1. At what distance do we find the target doi?\n",
    "1. For any closer results, what is in their chunks?"
   ]
  },
  {
   "cell_type": "code",
   "execution_count": 41,
   "metadata": {},
   "outputs": [],
   "source": [
    "embedder = get_embedder(model_name='BAAI/bge-small-en', device=device, normalize=True)\n",
    "query_vector = embedder(example['sent_no_cit'])"
   ]
  },
  {
   "cell_type": "code",
   "execution_count": 42,
   "metadata": {},
   "outputs": [
    {
     "name": "stdout",
     "output_type": "stream",
     "text": [
      "  Query execution time: 10.94 seconds\n"
     ]
    }
   ],
   "source": [
    "query_results = db.query_vector_column(\n",
    "    query_vector=query_vector,\n",
    "    table_name='lib',\n",
    "    target_column='bge',\n",
    "    metric='vector_cosine_ops',\n",
    "    pubdate=example.pubdate,\n",
    "    use_index=True,\n",
    "    top_k = 100_000,\n",
    "    probes=100\n",
    ")"
   ]
  },
  {
   "cell_type": "markdown",
   "metadata": {},
   "source": [
    "Let's do a reality check on the results:\n",
    "1. Did you get all `top_k` results?\n",
    "1. Is the target doi in the top k results?"
   ]
  },
  {
   "cell_type": "code",
   "execution_count": 43,
   "metadata": {},
   "outputs": [
    {
     "name": "stdout",
     "output_type": "stream",
     "text": [
      " Got 100000 results\n",
      " Found 10221 unique DOIs\n",
      "Target doi in the top k: True\n"
     ]
    }
   ],
   "source": [
    "print(f\" Got {len(query_results)} results\")\n",
    "result_dois = set(result.doi for result in query_results)\n",
    "print(f\" Found {len(result_dois)} unique DOIs\")\n",
    "\n",
    "target_doi = example['citation_dois'][0]\n",
    "print(f\"Target doi in the top k: {target_doi in result_dois}\")"
   ]
  },
  {
   "cell_type": "markdown",
   "metadata": {},
   "source": [
    "We found the target doi in the results. At what rank and distance was it found?"
   ]
  },
  {
   "cell_type": "code",
   "execution_count": 51,
   "metadata": {},
   "outputs": [
    {
     "name": "stdout",
     "output_type": "stream",
     "text": [
      "Rank: 40\n",
      "Distance: 0.1385815657030588\n"
     ]
    }
   ],
   "source": [
    "target_idx = -1\n",
    "for i, result in enumerate(query_results):\n",
    "    if result.doi == target_doi:\n",
    "        target_idx = i\n",
    "        print(f\"Rank: {target_idx+1}\")\n",
    "        print(f\"Distance: {result.distance}\")\n",
    "        break\n"
   ]
  },
  {
   "cell_type": "markdown",
   "metadata": {},
   "source": [
    "This example was the 40th closest to the query. Its chunk:"
   ]
  },
  {
   "cell_type": "code",
   "execution_count": 53,
   "metadata": {},
   "outputs": [
    {
     "name": "stdout",
     "output_type": "stream",
     "text": [
      "datetime.date(1989, 9, 1)\n",
      "('Furthermore, the abundance variations are correlated with the type of '\n",
      " 'magnetic field topologv observed. Comparison of Mg vm 315.02 Â with Si vm '\n",
      " '319.84 A indicates that the magnesium abundance is relatively unchanged, so '\n",
      " 'that the variations primarily reflect changes in the abundance of neon. '\n",
      " 'Meyer (1985) suggested that the apparent depletion of ele- 1049 Ne VI 40 I. '\n",
      " 'I 4 Mg VI 400.66 Fig. 4.—(a) The Ne vu 465/Ca ix 466 intensity ratio plotted '\n",
      " 'against the Ne vi 401/Mg vi 400 intensity ratio from the observations in '\n",
      " 'Table 1 and an impulsive flare showing the variation in the neon abundance '\n",
      " 'relative to calcium or magnesium, (b) The Ne vii/Ca ix ratio divided by the '\n",
      " 'Ne vi/Mg vi ratio in 4(a) showing the smaller variation in the Mg/Ca '\n",
      " 'abundance ratio. ments with high-first ionization potentials (FIP) in the '\n",
      " 'corona compared to low-FIP elements could be explained by assuming a '\n",
      " 'separation process at the base of the corona which held back the '\n",
      " 'predominantly neutral high-FIP elements. We note that in the presence of '\n",
      " 'temperatures characteristic of the lower transition zone (<105 K) there will '\n",
      " 'be more ionizing collisions at 7.6 eV then at 21.6 eV: hence more Mg+ ions '\n",
      " 'than Ne+ ions at the base of the corona. In the presence of an open field '\n",
      " 'these ions can drift out into the corona to be successively ionized to '\n",
      " 'higher stages. The element abundance distributions observed in the '\n",
      " 'open-field case may therefore directly reflect the relative production rates '\n",
      " 'of first ions at the base.')\n"
     ]
    }
   ],
   "source": [
    "target_query_result = query_results[target_idx]\n",
    "pprint(target_query_result.pubdate)\n",
    "pprint(target_query_result.chunk)"
   ]
  },
  {
   "cell_type": "markdown",
   "metadata": {},
   "source": [
    "This looks like a quality citation. The review says this paper suggests there exist different element abundances between closed and open magnetic structures, and this chunk aligns with that claim.\n",
    "\n",
    "What did the embedder consider even more similar than this chunk? What were the top chunks?"
   ]
  },
  {
   "cell_type": "code",
   "execution_count": 49,
   "metadata": {},
   "outputs": [
    {
     "name": "stdout",
     "output_type": "stream",
     "text": [
      "('3, 1969 Thermal continuum radiation 377 carried out. The variation of the '\n",
      " 'ratio g(Z, T, c/X)lg(i, T, c/X) was checked at a number of wavelengths and '\n",
      " 'temperatures in the ranges o*8 to ioo*o io6 °K and i to 30 Â for the twelve '\n",
      " 'elements listed in Table I. The variations found in the ratio of the Gaunt '\n",
      " 'factors would lead to fluctuations of up to 20 per cent in the value of the '\n",
      " 'bracketed term in equation (6). These fluctuations are similar to those '\n",
      " 'noted by Hovenier who found variations of up to 15 per cent in this term. '\n",
      " 'Table I shows values of the bracketed term in equation (5) at a temperature '\n",
      " 'of 5*0 io6 °K and a wavelength of 5 Â. Two sets of element abundances were '\n",
      " 'employed. For the corona the abundance values used are those of Pottasch '\n",
      " '(1967) and Jordan (1968). In cases where these results have disagreed, an '\n",
      " 'average value Table I Dependence of free-free flux on element abundances '\n",
      " 'Element H He C N O Ne Mg Si S Ar Ca Fe Coronal abundances (Pottasch 1967; '\n",
      " 'Jordan 1967) 10 2 *oio5 400 60 300 40 30 50 20 4* 2* So Photospheric '\n",
      " 'abundances (Goldberg et al. i960) ¿(Z, T, c/A)Z2 Nz |(i,T,C/A) Nh Coronal '\n",
      " 'Photospheric i • 124 0*017 0*005 o*oi8 0*008 0*007 0*012 0*006 0*002 0*001 '\n",
      " '0*051 o*8io 0*030 0*009 0*060 0*008 0*007 0*010 0*006 0*002 0*001 0*005 i '\n",
      " '-25° 0*950 6 io i*45 io5 600 100 1000 40 30 40 20 4* 2* 5 Total Note Cosmic '\n",
      " 'abundance of neon is 300 on the above scale (Allen (1963)).')\n"
     ]
    }
   ],
   "source": [
    "top = query_results[0]\n",
    "pprint(top.chunk)"
   ]
  },
  {
   "cell_type": "markdown",
   "metadata": {},
   "source": [
    "This chunk is also talking about variation in abundances as well as corona."
   ]
  },
  {
   "cell_type": "code",
   "execution_count": 54,
   "metadata": {},
   "outputs": [
    {
     "name": "stdout",
     "output_type": "stream",
     "text": [
      "Top pubdate: 1969-01-01\n",
      "Example pubdate: 1992-01-01\n",
      "Target pubdate: 1989-09-01\n"
     ]
    }
   ],
   "source": [
    "print(f\"Top pubdate: {top.pubdate}\")\n",
    "print(f\"Example pubdate: {example.pubdate}\")\n",
    "print(f\"Target pubdate: {target_query_result.pubdate}\")"
   ]
  },
  {
   "cell_type": "markdown",
   "metadata": {},
   "source": [
    "In this case the top ranked result's pubdate was published much earlier than the target pubdate. Should there be a preference for newer publications?"
   ]
  },
  {
   "cell_type": "code",
   "execution_count": 55,
   "metadata": {},
   "outputs": [
    {
     "name": "stdout",
     "output_type": "stream",
     "text": [
      "[datetime.date(1969, 1, 1),\n",
      " datetime.date(1989, 9, 1),\n",
      " datetime.date(1977, 5, 1),\n",
      " datetime.date(1975, 10, 1),\n",
      " datetime.date(1974, 7, 1),\n",
      " datetime.date(1971, 12, 1),\n",
      " datetime.date(1969, 1, 1),\n",
      " datetime.date(1975, 12, 1),\n",
      " datetime.date(1984, 1, 1),\n",
      " datetime.date(1965, 2, 1),\n",
      " datetime.date(1974, 1, 1),\n",
      " datetime.date(1988, 9, 1),\n",
      " datetime.date(1969, 1, 1),\n",
      " datetime.date(1991, 11, 1),\n",
      " datetime.date(1984, 1, 1),\n",
      " datetime.date(1980, 6, 1),\n",
      " datetime.date(1969, 1, 1),\n",
      " datetime.date(1975, 10, 1),\n",
      " datetime.date(1985, 1, 1),\n",
      " datetime.date(1972, 12, 1),\n",
      " datetime.date(1985, 1, 1),\n",
      " datetime.date(1971, 12, 1),\n",
      " datetime.date(1975, 10, 1),\n",
      " datetime.date(1963, 4, 1),\n",
      " datetime.date(1981, 10, 1),\n",
      " datetime.date(1975, 12, 1),\n",
      " datetime.date(1971, 5, 1),\n",
      " datetime.date(1982, 11, 1),\n",
      " datetime.date(1961, 5, 1),\n",
      " datetime.date(1975, 10, 1),\n",
      " datetime.date(1989, 9, 1),\n",
      " datetime.date(1966, 9, 1),\n",
      " datetime.date(1960, 11, 1),\n",
      " datetime.date(1985, 1, 1),\n",
      " datetime.date(1960, 11, 1),\n",
      " datetime.date(1967, 2, 1),\n",
      " datetime.date(1985, 1, 1),\n",
      " datetime.date(1982, 1, 1),\n",
      " datetime.date(1989, 1, 1)]\n"
     ]
    }
   ],
   "source": [
    "# print all the pubdates for records ranked higher than the target\n",
    "pprint([result.pubdate for result in query_results[:target_idx]])"
   ]
  },
  {
   "cell_type": "markdown",
   "metadata": {},
   "source": [
    "These were all earlier except the one at index 1, which has the same pubdate as the target. But it's not the target?"
   ]
  },
  {
   "cell_type": "code",
   "execution_count": 57,
   "metadata": {},
   "outputs": [
    {
     "name": "stdout",
     "output_type": "stream",
     "text": [
      "datetime.date(1989, 9, 1)\n",
      "'10.1086/167855'\n",
      "('Furthermore, some of the variations of the observed spectrum are not simply '\n",
      " 'due directly to the higher abundance of individual elements near the '\n",
      " 'magnetic pole, but to the changes in atmospheric structure induced by the '\n",
      " 'combination of all such abundance variations acting in concert. Two other '\n",
      " 'features of the inferred abundance distributions are notable. First, the '\n",
      " 'highest abundance regions found for the already cosmically abundant elements '\n",
      " 'Si and Fe are rather large; in our model the two rings out to a = 72° are '\n",
      " 'both high-abundance regions for these elements relative to the equatorial '\n",
      " 'abundances. In contrast, the polar caps of the cosmically lower abundance '\n",
      " 'elements Ti and Cr are smaller; for both these elements the midlatitude '\n",
      " '(ring 2) abundances are considerably smaller than at the pole. A second, '\n",
      " 'possibly significant feature of the abundance models is that all three '\n",
      " 'iron-peak elements have quantitatively similar absolute abundances both near '\n",
      " 'the pole and near the equator, although in the Sun Fe is roughly 2 dex more '\n",
      " 'abundant than Ti or Cr. Are we seeing some sort of saturation effect? It is '\n",
      " 'interesting to use the observed value of v sin i to constrain the physical '\n",
      " 'characteristics of HD 215441. Since our magnetic model indicates that i = '\n",
      " '30° ±5°, we may use the elementary relationship R/Rq = Pv sin i/(50.6 sin '\n",
      " 'i), (4) _1 where P is in days and t; sin i = 7 ± 3 is in km s , to find R/Rq '\n",
      " '= 2.6 ± 1.2.')\n"
     ]
    }
   ],
   "source": [
    "second_result = query_results[1]\n",
    "pprint(second_result.pubdate)\n",
    "pprint(second_result.doi)\n",
    "pprint(second_result.chunk)"
   ]
  },
  {
   "cell_type": "code",
   "execution_count": null,
   "metadata": {},
   "outputs": [],
   "source": []
  }
 ],
 "metadata": {
  "kernelspec": {
   "display_name": "citeline",
   "language": "python",
   "name": "python3"
  },
  "language_info": {
   "codemirror_mode": {
    "name": "ipython",
    "version": 3
   },
   "file_extension": ".py",
   "mimetype": "text/x-python",
   "name": "python",
   "nbconvert_exporter": "python",
   "pygments_lexer": "ipython3",
   "version": "3.11.10"
  }
 },
 "nbformat": 4,
 "nbformat_minor": 2
}
