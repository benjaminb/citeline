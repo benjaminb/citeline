{
 "cells": [
  {
   "cell_type": "code",
   "execution_count": null,
   "id": "2c940672",
   "metadata": {},
   "outputs": [],
   "source": [
    "import json\n",
    "results = json.load(\n",
    "    open(\n",
    "        \"experiments/results/contributions_identity_normTrue_n100_topk1000_20250718_101133/query_results_contributions_identity_normTrue_n100_topk1000_20250718_101133.json\"\n",
    "    )\n",
    ")"
   ]
  },
  {
   "cell_type": "code",
   "execution_count": 60,
   "id": "1155b4ee",
   "metadata": {},
   "outputs": [],
   "source": [
    "import pandas as pd"
   ]
  },
  {
   "cell_type": "code",
   "execution_count": null,
   "id": "e1522dbd",
   "metadata": {},
   "outputs": [],
   "source": [
    "import numpy as np\n",
    "\n",
    "def cosine_distance(a, b):\n",
    "    return 1 - np.dot(a, b) / (np.linalg.norm(a) * np.linalg.norm(b))"
   ]
  },
  {
   "cell_type": "code",
   "execution_count": 17,
   "id": "4e2674be",
   "metadata": {},
   "outputs": [
    {
     "name": "stdout",
     "output_type": "stream",
     "text": [
      "=================================CONFIG=================================\n",
      "Database         User             Host                             Port            \n",
      "citelinedb       bbasseri         localhost                        5432            \n",
      "========================================================================\n",
      "Database version: ('PostgreSQL 17.5 (Homebrew) on aarch64-apple-darwin24.4.0, compiled by Apple clang version 17.0.0 (clang-1700.0.13.3), 64-bit',)\n"
     ]
    }
   ],
   "source": [
    "# Get the unique dois from the database contribution table\n",
    "from database.database import Database\n",
    "\n",
    "db = Database()\n",
    "db.test_connection()"
   ]
  },
  {
   "cell_type": "code",
   "execution_count": 24,
   "id": "385b1730",
   "metadata": {},
   "outputs": [],
   "source": [
    "from Embedders import get_embedder\n",
    "\n",
    "embedder = get_embedder(model_name=\"BAAI/bge-large-en-v1.5\", device=\"mps\", normalize=True)"
   ]
  },
  {
   "cell_type": "code",
   "execution_count": 9,
   "id": "f0499b2c",
   "metadata": {},
   "outputs": [
    {
     "name": "stdout",
     "output_type": "stream",
     "text": [
      "SCHEMA EXAMPLE:\n",
      "{'citation_dois': ['10.1086/173633'],\n",
      " 'expanded_query': 'Alternatively, photons produced at the disk or nucleus can '\n",
      "                   'be reprocessed and/or scattered and therefore isotropized '\n",
      "                   'in a region of appropriate scale ( [REF] ); their energy '\n",
      "                   'density is then amplified in the jet frame by a factor Γ 2 '\n",
      "                   '.',\n",
      " 'first_rank': 37,\n",
      " 'last_rank': 37,\n",
      " 'pubdate': '1997-01-01',\n",
      " 'resolved_bibcodes': ['1994ApJ...421..153S'],\n",
      " 'sent_idx': 641,\n",
      " 'sent_no_cit': 'Alternatively, photons produced at the disk or nucleus can be '\n",
      "                'reprocessed and/or scattered and therefore isotropized in a '\n",
      "                'region of appropriate scale ( [REF] ); their energy density '\n",
      "                'is then amplified in the jet frame by a factor Γ 2 .',\n",
      " 'sent_original': 'Alternatively, photons produced at the disk or nucleus can '\n",
      "                  'be reprocessed and/or scattered and therefore isotropized '\n",
      "                  'in a region of appropriate scale ( Sikora et al 1994 ); '\n",
      "                  'their energy density is then amplified in the jet frame by '\n",
      "                  'a factor Γ 2 .',\n",
      " 'source_doi': '10.1146/annurev.astro.35.1.445'}\n",
      "====================================================================================================\n",
      "'RESULTS EXAMPLE:'\n",
      "{'distance': 0.2724571607249048,\n",
      " 'doi': '10.1093/mnras/258.1.41P',\n",
      " 'pubdate': '1992-09-01',\n",
      " 'text': 'Interaction with even very tenuous external matter efficiently '\n",
      "         'reconverts the kinetic energy of a baryon-loaded relativistic '\n",
      "         'fireball into high-energy photons, observable on time-scales similar '\n",
      "         'to those of gamma-ray bursts.'}\n"
     ]
    }
   ],
   "source": [
    "\"\"\"\n",
    "results is a list of lists: [query, query results] for each query.\n",
    "query: dict\n",
    "query_results: list of dicts [first result, second result, ...]\n",
    "\n",
    "\n",
    "\"\"\"\n",
    "from pprint import pprint\n",
    "print(\"SCHEMA EXAMPLE:\")\n",
    "pprint(results[0][0])\n",
    "print(\"=\" * 100)\n",
    "pprint(\"RESULTS EXAMPLE:\")\n",
    "pprint(results[0][1][0])"
   ]
  },
  {
   "cell_type": "code",
   "execution_count": 10,
   "id": "e73a0dd8",
   "metadata": {},
   "outputs": [
    {
     "name": "stdout",
     "output_type": "stream",
     "text": [
      "Number of records that failed to find all target DOIs: 16\n"
     ]
    }
   ],
   "source": [
    "# Get the records that never found all the target DOIs with topk 1000\n",
    "failed_records = [record for record in results if record[0][\"last_rank\"] is None]\n",
    "print(f\"Number of records that failed to find all target DOIs: {len(failed_records)}\")\n"
   ]
  },
  {
   "cell_type": "code",
   "execution_count": 102,
   "id": "08bde13a",
   "metadata": {},
   "outputs": [
    {
     "name": "stdout",
     "output_type": "stream",
     "text": [
      "Query: This follows from equating in the contact discontinuity frame the kinetic flux L /4π r 2 to the external ram pressure ρ ext γ 2 during the initial phase while γ ∼ constant, r ∝ t ( [REF] ).\n",
      "  Source DOI: 10.1146/annurev.astro.40.060401.093821\n",
      "  Sent original: This follows from equating in the contact discontinuity frame the kinetic flux L /4π r 2 to the external ram pressure ρ ext γ 2 during the initial phase while γ ∼ constant, r ∝ t ( Rees Mészáros 1992 ; see also Sari 1998 ).\n",
      "  Sent no cit: This follows from equating in the contact discontinuity frame the kinetic flux L /4π r 2 to the external ram pressure ρ ext γ 2 during the initial phase while γ ∼ constant, r ∝ t ( [REF] ).\n",
      "  Citation DOIs: ['10.1093/mnras/258.1.41P', '10.1086/311269']\n",
      "First rank: 273, Last rank: None\n",
      "Unfound DOIs: {'10.1093/mnras/258.1.41P'}\n",
      "====================================================================================================\n",
      "First 3 query results:\n",
      "Distance: 0.3197\n",
      "DOI: 10.1086/306297\n",
      "Text: Onset flux of ~2 × 10^19 Mx in a dark pore appearing in an area where the flux increases by ~1 × 10^20 Mx prior to the pore's appearance.\n",
      "--------------------------------------------------\n",
      "Distance: 0.3207\n",
      "DOI: 10.1086/148957\n",
      "Text: A small-perturbation analysis of the collision-free Boltzmann equation shows that infinitesimal non-axisymmetric initial disturbances phase-damp away over time.\n",
      "--------------------------------------------------\n",
      "Distance: 0.3230\n",
      "DOI: 10.1086/308389\n",
      "Text: Explored how ram pressure balance between wind and ambient gas and postshock cooling affects the shape of resulting outflows.\n",
      "--------------------------------------------------\n",
      "Comparing query to contributions for DOI: 10.1093/mnras/258.1.41P\n",
      "  0.4178: The expansion energy of a relativistic fireball can be reconverted into radiation upon interaction with an external medium, with time-scales of the order of seconds for Lorentz factors greater than or approximately equal to 1000.\n",
      "  0.4738: This mechanism operates in cosmological scenarios of gamma-ray bursts involving initial energies of about a percent of a stellar rest mass, producing photon energies and time-scales compatible with observed gamma-ray bursts.\n",
      "  0.4364: Interaction with even very tenuous external matter efficiently reconverts the kinetic energy of a baryon-loaded relativistic fireball into high-energy photons, observable on time-scales similar to those of gamma-ray bursts.\n",
      "  0.4098: The deceleration of a fireball in an external medium leads to the reconversion of bulk kinetic energy into thermal energy, which can be radiated away if cooling times are sufficiently short.\n",
      "  0.4813: For a fireball with specific energy and external density parameters, the observed time-scale for the peak power reception is sensitive primarily to the Lorentz factor, scaling as the Lorentz factor to the power of -8/3.\n",
      "  0.4646: The mechanism suggests that gamma-ray bursts could be explained by highly directed events, each involving energies well below 10^51 erg, due to the small solid angle from which the observed radiation comes.\n",
      "  0.4472: The model addresses major difficulties in cosmological gamma-ray burst models, such as the recovery of expansion kinetic energy and the relevant burst time-scales, by utilizing the expansion dynamics of fireballs produced in events like neutron star binary mergers.\n",
      "==================================================\n"
     ]
    }
   ],
   "source": [
    "class QueryResult():\n",
    "    def __init__(self, result: dict):\n",
    "        self.distance = result[\"distance\"]\n",
    "        self.doi = result[\"doi\"]\n",
    "        self.pubdate = result[\"pubdate\"]\n",
    "        self.text = result[\"text\"]\n",
    "\n",
    "\n",
    "class FailureAnalysis():\n",
    "    def __init__(self, failure: list, embedder):\n",
    "        query, query_results = failure\n",
    "        # Extract query keys\n",
    "        self.citation_dois = query[\"citation_dois\"]\n",
    "        self.expanded_query = query[\"expanded_query\"]\n",
    "        self.first_rank = query[\"first_rank\"]\n",
    "        self.last_rank = query[\"last_rank\"]\n",
    "        self.pubdate = query[\"pubdate\"]\n",
    "        self.sent_idx = query[\"sent_idx\"]\n",
    "        self.sent_no_cit = query[\"sent_no_cit\"]\n",
    "        self.sent_original = query[\"sent_original\"]\n",
    "        self.source_doi = query[\"source_doi\"]\n",
    "\n",
    "        self.query_results = [QueryResult(result) for result in query_results]\n",
    "\n",
    "        # Establish if there are any completely unfound target DOIs\n",
    "        self.unfound_dois = set(self.citation_dois) - {result.doi for result in self.query_results}\n",
    "\n",
    "        # Provide reference to the db and an embedder\n",
    "        self.db = Database()\n",
    "        self.embedder = embedder\n",
    "        self.query_vector = self.embedder([self.expanded_query])[0]\n",
    "\n",
    "        self.comparison_to_targets = self.__compare_contributions()\n",
    "\n",
    "    def __compare_contributions(self):\n",
    "        all_comparisons = dict()\n",
    "        for doi in self.unfound_dois:\n",
    "            contributions_results = self.db.query(\n",
    "                f\"SELECT text, embedding FROM contributions WHERE doi = '{doi}'\"\n",
    "            )\n",
    "            comparisons = [{'text': text, 'distance': cosine_distance(self.query_vector, embedding)} for text, embedding in contributions_results]\n",
    "            all_comparisons[doi] = comparisons\n",
    "        return all_comparisons\n",
    "\n",
    "    def print_overview(self):\n",
    "        print(f\"Query: {self.expanded_query}\")\n",
    "        print(f\"  Source DOI: {self.source_doi}\")\n",
    "        print(f\"  Sent original: {self.sent_original}\")\n",
    "        print(f\"  Sent no cit: {self.sent_no_cit}\")\n",
    "        print(f\"  Citation DOIs: {self.citation_dois}\")\n",
    "        print(f\"First rank: {self.first_rank}, Last rank: {self.last_rank}\") \n",
    "        print(f\"Unfound DOIs: {self.unfound_dois}\")\n",
    "        print(\"=\"*100)\n",
    "        print(\"First 3 query results:\")\n",
    "        for i, result in enumerate(self.query_results[:3]):\n",
    "            print(f\"Distance: {result.distance:.4f}\")\n",
    "            print(f\"DOI: {result.doi}\")\n",
    "            print(f\"Text: {result.text}\")\n",
    "            print(\"-\"*50)\n",
    "\n",
    "    def print_query_comparison_to_targets(self):\n",
    "        for doi, results in self.comparison_to_targets.items():\n",
    "            print(f\"Comparing query to contributions for DOI: {doi}\")\n",
    "            for res in results:\n",
    "                print(f\"  {res['distance']:.4f}: {res['text']}\")\n",
    "            print(\"=\"*50)\n",
    "\n",
    "fa = FailureAnalysis(failed_records[3], embedder)\n",
    "fa.print_overview()\n",
    "fa.print_query_comparison_to_targets()"
   ]
  },
  {
   "cell_type": "code",
   "execution_count": 100,
   "id": "bb069595",
   "metadata": {},
   "outputs": [
    {
     "name": "stdout",
     "output_type": "stream",
     "text": [
      "Dist    Text\n",
      "0.4178: The expansion energy of a relativistic fireball can be reconverted into radiation upon interaction with an external medium, with time-scales of the order of seconds for Lorentz factors greater than or approximately equal to 1000.\n",
      "0.4738: This mechanism operates in cosmological scenarios of gamma-ray bursts involving initial energies of about a percent of a stellar rest mass, producing photon energies and time-scales compatible with observed gamma-ray bursts.\n",
      "0.4364: Interaction with even very tenuous external matter efficiently reconverts the kinetic energy of a baryon-loaded relativistic fireball into high-energy photons, observable on time-scales similar to those of gamma-ray bursts.\n",
      "0.4098: The deceleration of a fireball in an external medium leads to the reconversion of bulk kinetic energy into thermal energy, which can be radiated away if cooling times are sufficiently short.\n",
      "0.4813: For a fireball with specific energy and external density parameters, the observed time-scale for the peak power reception is sensitive primarily to the Lorentz factor, scaling as the Lorentz factor to the power of -8/3.\n",
      "0.4646: The mechanism suggests that gamma-ray bursts could be explained by highly directed events, each involving energies well below 10^51 erg, due to the small solid angle from which the observed radiation comes.\n",
      "0.4472: The model addresses major difficulties in cosmological gamma-ray burst models, such as the recovery of expansion kinetic energy and the relevant burst time-scales, by utilizing the expansion dynamics of fireballs produced in events like neutron star binary mergers.\n"
     ]
    }
   ],
   "source": [
    "print(f\"{'Dist':<8}Text\")\n",
    "for doi, results in fa.compare_contributions().items():\n",
    "    for res in results:\n",
    "        print(f\"{res['distance']:.4f}: {res['text']}\")"
   ]
  },
  {
   "cell_type": "code",
   "execution_count": 16,
   "id": "f0fb5e48",
   "metadata": {},
   "outputs": [
    {
     "name": "stdout",
     "output_type": "stream",
     "text": [
      "source_doi: 10.1146/annurev-astro-082812-140953\n",
      "sent_original: Tacconi et al. (2010 , 2013 ) used this technique to identify samples of CSGs at z ∼ 1 to 3 for CO observations.\n",
      "sent_no_cit: [REF] ) used this technique to identify samples of CSGs at z ∼ 1 to 3 for CO observations.\n",
      "sent_idx: 361\n",
      "citation_dois: ['10.1038/nature08773', '10.1088/0004-637X/768/1/74']\n",
      "pubdate: 2013-08-01\n",
      "resolved_bibcodes: ['2010Natur.463..781T', '2013ApJ...768...74T']\n",
      "expanded_query: [REF] ) used this technique to identify samples of CSGs at z ∼ 1 to 3 for CO observations.\n",
      "first_rank: 4\n",
      "last_rank: None\n",
      "====================================================================================================\n",
      "text: PHIBSS provides 52 CO detections in two redshift slices at z ~ 1.2 and 2.2, with log(M*(M⊙)) >= 10.4 and log(SFR(M⊙/yr)) >= 1.5.\n",
      "doi: 10.1088/0004-637X/768/1/74\n",
      "pubdate: 2013-05-01\n",
      "distance: 0.2715341721136365\n"
     ]
    }
   ],
   "source": [
    "# Look at the query\n",
    "query = failed_records[0][0]\n",
    "for key, value in query.items():\n",
    "    print(f\"{key}: {value}\")\n",
    "\n",
    "print(\"=\" * 100)\n",
    "\n",
    "# Find out which DOIs were not found\n",
    "found_record = failed_records[0][1][query['first_rank']-1]\n",
    "for key, value in found_record.items():\n",
    "    print(f\"{key}: {value}\")"
   ]
  },
  {
   "cell_type": "code",
   "execution_count": 41,
   "id": "6334591e",
   "metadata": {},
   "outputs": [
    {
     "name": "stdout",
     "output_type": "stream",
     "text": [
      "Distant star-forming galaxies at redshifts z ≈ 1.2 and z ≈ 2.3 were found to be gas-rich, with cold gas fractions of about 34% and 44% of their total baryonic mass, respectively.\n",
      "Cosine distance to query: 0.3874\n",
      "====================================================================================================\n",
      "The star formation efficiency in these galaxies does not strongly depend on cosmic epoch, indicating similar star formation processes across different times.\n",
      "Cosine distance to query: 0.5026\n",
      "====================================================================================================\n",
      "The cold gas fractions in these young galaxies are three to ten times higher than in today's massive spiral galaxies, suggesting a significant evolution in gas content over cosmic time.\n",
      "Cosine distance to query: 0.4687\n",
      "====================================================================================================\n",
      "Observations reveal that the molecular gas in these galaxies is distributed in giant clumps with masses of ∼5 × 10^9 M⊙, diameters of 2–4 kpc, and surface densities ≥500 M⊙ pc^-2, which are larger but similar to conglomerates of molecular gas in local spiral galaxies.\n",
      "Cosine distance to query: 0.4033\n",
      "====================================================================================================\n",
      "The CO dynamics in observed galaxies trace ordered rotating disk patterns, with molecular gas disks being fairly thin but somewhat more turbulent than in local spirals.\n",
      "Cosine distance to query: 0.3685\n",
      "====================================================================================================\n",
      "The gas exhaustion timescales for these galaxies are significantly shorter than the cosmic interval between z ≈ 2 and z ≈ 1, suggesting the need for semi-continuous replenishment of fresh gas to sustain their star formation rates.\n",
      "Cosine distance to query: 0.4572\n",
      "====================================================================================================\n",
      "The high gas fractions and star formation rates in these galaxies are consistent with simulations predicting rapid accretion of cold gas from the cosmic web, supporting a model of semi-continuous gas replenishment in massive galaxies at high redshifts.\n",
      "Cosine distance to query: 0.4359\n",
      "====================================================================================================\n",
      "The Kennicutt-Schmidt relation between star formation rate and gas surface densities appears to be independent of redshift, indicating that the large star formation rates in young galaxies are due to their large molecular gas reservoirs rather than increased star formation efficiency.\n",
      "Cosine distance to query: 0.4407\n",
      "====================================================================================================\n"
     ]
    }
   ],
   "source": [
    "# Get the contributions from the database for the missing DOI\n",
    "contributions_results = db.query(\n",
    "    \"SELECT text, embedding FROM contributions WHERE doi = '10.1038/nature08773'\"\n",
    ")\n",
    "contributions = [result[0] for result in contributions_results]\n",
    "for text, c_embedding in contributions_results:\n",
    "    print(text)\n",
    "    print(f\"Cosine distance to query: {cosine_distance(query_embedding, c_embedding):.4f}\")\n",
    "    print(\"=\" * 100)"
   ]
  },
  {
   "cell_type": "code",
   "execution_count": 42,
   "id": "64d83661",
   "metadata": {},
   "outputs": [
    {
     "name": "stdout",
     "output_type": "stream",
     "text": [
      "source_doi: 10.1007/s00159-022-00144-z\n",
      "sent_original: In Table 2 , that is a slightly modified version of Table 1 of Romano et al. ( 2017 ), determinations of , , and in a number of local and high-redshift objects (see Sect. 3.2.1 ) are reported.\n",
      "sent_no_cit: In Table 2 , that is a slightly modified version of Table 1 of [REF], determinations of , , and in a number of local and high-redshift objects (see Sect. 3.2.1 ) are reported.\n",
      "sent_idx: 678\n",
      "citation_dois: ['10.1093/mnras/stx1197']\n",
      "pubdate: 2022-12-01\n",
      "resolved_bibcodes: ['2017MNRAS.470..401R']\n",
      "expanded_query: In Table 2 , that is a slightly modified version of Table 1 of [REF], determinations of , , and in a number of local and high-redshift objects (see Sect. 3.2.1 ) are reported.\n",
      "first_rank: None\n",
      "last_rank: None\n",
      "====================================================================================================\n",
      "text: Some z ∼ 2 galaxies exhibit N/O ratios exceeding those of local galaxies in the N/O-O/H relation, while most show comparable N/O ratios in the N/O-stellar mass relation.\n",
      "doi: 10.1093/pasj/psx017\n",
      "pubdate: 2017-06-01\n",
      "distance: 0.27619642416386825\n"
     ]
    }
   ],
   "source": [
    "query, query_results = failed_records[1]\n",
    "for key, value in query.items():\n",
    "    print(f\"{key}: {value}\")\n",
    "\n",
    "print(\"=\" * 100)\n",
    "for key, value in query_results[0].items():\n",
    "    print(f\"{key}: {value}\")"
   ]
  },
  {
   "cell_type": "code",
   "execution_count": 47,
   "id": "4cf159d3",
   "metadata": {},
   "outputs": [
    {
     "name": "stdout",
     "output_type": "stream",
     "text": [
      "State-of-the-art chemical models track the cosmic evolution of CNO isotopes in the interstellar medium of galaxies, providing constraints on their stellar initial mass function (IMF).\n",
      "\tCosine distance to query: 0.4121\n",
      "The study reassesses the roles of massive stars, asymptotic giant branch (AGB) stars, and novae in producing rare isotopes like 13C, 15N, 17O, and 18O, alongside 12C, 14N, and 16O.\n",
      "\tCosine distance to query: 0.4269\n",
      "Includes CNO isotope yields from super-AGB stars, novae, and fast-rotating massive stars in the analysis.\n",
      "\tCosine distance to query: 0.3940\n",
      "Reproduces isotope enrichment data in the solar neighborhood and across the Galaxy, assessing model sensitivity to uncertainties like nova yields and star formation history.\n",
      "\tCosine distance to query: 0.4104\n",
      "Demonstrates the ability to constrain the stellar IMF in galaxies using C, O, and N isotope abundance ratios.\n",
      "\tCosine distance to query: 0.3615\n",
      "Finds compelling evidence for a top-heavy stellar IMF in starburst galaxies, with significant implications for their star formation rates, efficiencies, and possibly stellar masses.\n",
      "\tCosine distance to query: 0.4659\n",
      "Concludes that chemical fractionation and selective photodissociation do not significantly affect globally averaged isotopologue abundance ratios, making them reliable proxies for isotope ratios.\n",
      "\tCosine distance to query: 0.4201\n",
      "Highlights the Atacama Large Millimeter Array's (ALMA) capability to probe the stellar IMF and ages of starburst events in star-forming galaxies across cosmic time, unaffected by dust obscuration.\n",
      "\tCosine distance to query: 0.4042\n"
     ]
    }
   ],
   "source": [
    "target_doi = query['citation_dois'][0]\n",
    "contributions_results = db.query(\n",
    "    f\"SELECT text, embedding FROM contributions WHERE doi = '{target_doi}'\"\n",
    ")\n",
    "for text, c_embedding in contributions_results:\n",
    "    print(text)\n",
    "    print(f\"\\tCosine distance to query: {cosine_distance(query_embedding, c_embedding):.4f}\")"
   ]
  },
  {
   "cell_type": "code",
   "execution_count": 70,
   "id": "d5e8962b",
   "metadata": {},
   "outputs": [],
   "source": [
    "# If the data wasn't missing, would it have done any better?\n",
    "test_query = \"In Table 2 , that is a slightly modified version of Table 1 of [REF], \" \\\n",
    "                + \"determinations of 12CO/13CO, 12CO/C180, and 13CO/C18O in a number of local and high-redshift objects \" \\\n",
    "                + \"(see Sect. 3.2.1 ) are reported\""
   ]
  },
  {
   "cell_type": "code",
   "execution_count": 71,
   "id": "6a8b601e",
   "metadata": {},
   "outputs": [],
   "source": [
    "results = db.vector_search(\n",
    "    query_vector=embedder([test_query][0]),\n",
    "    target_table=\"contributions\",\n",
    "    target_column=\"embedding\",\n",
    "    metric=\"vector_cosine_ops\",\n",
    "    pubdate=query['pubdate'],\n",
    "    top_k=1000\n",
    ")"
   ]
  },
  {
   "cell_type": "code",
   "execution_count": 72,
   "id": "3d8e2cf6",
   "metadata": {},
   "outputs": [
    {
     "name": "stdout",
     "output_type": "stream",
     "text": [
      "                                                                                                                                                                                        text  \\\n",
      "44                                                                             Demonstrates the ability to constrain the stellar IMF in galaxies using C, O, and N isotope abundance ratios.   \n",
      "289     The study reassesses the roles of massive stars, asymptotic giant branch (AGB) stars, and novae in producing rare isotopes like 13C, 15N, 17O, and 18O, alongside 12C, 14N, and 16O.   \n",
      "908  State-of-the-art chemical models track the cosmic evolution of CNO isotopes in the interstellar medium of galaxies, providing constraints on their stellar initial mass function (IMF).   \n",
      "\n",
      "                       doi     pubdate  distance  \n",
      "44   10.1093/mnras/stx1197  2017-09-01  0.282092  \n",
      "289  10.1093/mnras/stx1197  2017-09-01  0.308724  \n",
      "908  10.1093/mnras/stx1197  2017-09-01  0.326546  \n"
     ]
    }
   ],
   "source": [
    "rows_for_target = results[results['doi'] == target_doi]\n",
    "with pd.option_context('display.max_colwidth', None):\n",
    "    print(rows_for_target)"
   ]
  },
  {
   "cell_type": "code",
   "execution_count": 65,
   "id": "36051615",
   "metadata": {},
   "outputs": [
    {
     "name": "stdout",
     "output_type": "stream",
     "text": [
      "text        Demonstrates the ability to constrain the stellar IMF in galaxies using C, O, and N isotope abundance ratios.\n",
      "doi                                                                                                 10.1093/mnras/stx1197\n",
      "pubdate                                                                                                        2017-09-01\n",
      "distance                                                                                                         0.282092\n",
      "Name: 44, dtype: object\n"
     ]
    }
   ],
   "source": [
    "with pd.option_context('display.max_colwidth', None):\n",
    "    print(results.iloc[44])"
   ]
  },
  {
   "cell_type": "code",
   "execution_count": 73,
   "id": "33012c5c",
   "metadata": {},
   "outputs": [],
   "source": [
    "def inspect(failed_example):\n",
    "    query, query_results = failed_example\n",
    "    print(\"Query:\")\n",
    "    for key, value in query.items():\n",
    "        print(f\"{key}: {value}\")\n",
    "\n",
    "    print(\"\\nFirst Result:\")\n",
    "    for key, value in query_results[0].items():\n",
    "        print(f\"{key}: {value}\")\n",
    "    print(\"=\" * 50)\n",
    "\n",
    "    unfound_target_dois = set(query['citation_dois'])\n",
    "    for i, result in enumerate(query_results):\n",
    "        if result['doi'] in unfound_target_dois:\n",
    "            unfound_target_dois.remove(result['doi'])\n",
    "            print(f\"Found DOI {result['doi']} at rank {i + 1}\")\n",
    "    print(f\"Unfound DOIs: {unfound_target_dois}\")\n"
   ]
  },
  {
   "cell_type": "code",
   "execution_count": 75,
   "id": "eff00379",
   "metadata": {},
   "outputs": [
    {
     "name": "stdout",
     "output_type": "stream",
     "text": [
      "Query:\n",
      "source_doi: 10.1007/s00159-015-0084-4\n",
      "sent_original: is a reasonable assumption in the star-forming regions of the disk (Bell 1978 ).\n",
      "sent_no_cit: is a reasonable assumption in the star-forming regions of the disk ([REF] ).\n",
      "sent_idx: 118\n",
      "citation_dois: ['10.1093/mnras/182.3.443']\n",
      "pubdate: 2015-12-01\n",
      "resolved_bibcodes: ['1978MNRAS.182..443B']\n",
      "expanded_query: is a reasonable assumption in the star-forming regions of the disk ([REF] ).\n",
      "first_rank: None\n",
      "last_rank: None\n",
      "\n",
      "First Result:\n",
      "text: Optically thick starburst disks have characteristic properties: flux F ~ 10^13 L_solar kpc^-2, star formation rate per unit area Σ˙* ~ 10^3 M_solar yr^-1 kpc^-2, and dust effective temperature T_eff ~ 90 K.\n",
      "doi: 10.1086/431923\n",
      "pubdate: 2005-09-01\n",
      "distance: 0.22343240487480354\n",
      "==================================================\n",
      "Unfound DOIs: {'10.1093/mnras/182.3.443'}\n"
     ]
    }
   ],
   "source": [
    "inspect(failed_records[2])"
   ]
  },
  {
   "cell_type": "code",
   "execution_count": 76,
   "id": "65435f30",
   "metadata": {},
   "outputs": [],
   "source": [
    "def fixed_query(query, target_doi, pubdate):\n",
    "    results = db.vector_search(\n",
    "        query_vector=embedder([query])[0],\n",
    "        target_table=\"contributions\",\n",
    "        target_column=\"embedding\",\n",
    "        metric=\"vector_cosine_ops\",\n",
    "        pubdate=pubdate,\n",
    "        top_k=1000\n",
    "    )\n",
    "    rows_for_target = results[results['doi'] == target_doi]\n",
    "    with pd.option_context('display.max_colwidth', None):\n",
    "        print(rows_for_target)\n",
    "\n",
    "    return results"
   ]
  },
  {
   "cell_type": "code",
   "execution_count": 77,
   "id": "d7f4efe8",
   "metadata": {},
   "outputs": [
    {
     "name": "stdout",
     "output_type": "stream",
     "text": [
      "Empty DataFrame\n",
      "Columns: [text, doi, pubdate, distance]\n",
      "Index: []\n"
     ]
    }
   ],
   "source": [
    "fixed_query_str = \"K_0 \\simeq 100 is a reasonable assumption in the star-forming regions of the disk ([REF] )\"\n",
    "target_doi = \"10.1093/mnras/182.3.443\"\n",
    "pubdate = \"2015-12-01\"\n",
    "results = fixed_query(fixed_query_str, target_doi, pubdate)"
   ]
  },
  {
   "cell_type": "code",
   "execution_count": 82,
   "id": "58e2c67c",
   "metadata": {},
   "outputs": [
    {
     "name": "stdout",
     "output_type": "stream",
     "text": [
      "The acceleration to relativistic energies of the high-energy tail of the particle distribution produced by a shock front is discussed, with particles needing to pass through the shock without strong deflection to be accelerated.\n",
      "\tCosine distance to query: 0.3965\n",
      "Large numbers of protons, and likely electrons, are produced by a shock front that satisfy the condition for acceleration, using Earth's bow shock as an example.\n",
      "\tCosine distance to query: 0.4568\n",
      "The energy spectrum of initially nonrelativistic particles is calculated, providing an estimate of the density of cosmic-ray particles in a shocked gas and indicating a large proportion of random energy from a shock is given to accelerated particles.\n",
      "\tCosine distance to query: 0.3381\n",
      "Synchrotron radio emission from energetic electrons in a shocked gas is calculated, with theoretical and observed flux densities of supernova remnants Tycho's SNR and Cas A found to agree satisfactorily.\n",
      "\tCosine distance to query: 0.3500\n",
      "The implications for the minimum energy of radio sources are considered, alongside the effect of multiple shocks on the cosmic-ray density.\n",
      "\tCosine distance to query: 0.4224\n",
      "The energy spectrum is flatter for non-relativistic energies than for relativistic energies, indicating more efficient acceleration at non-relativistic energies.\n",
      "\tCosine distance to query: 0.4143\n",
      "The proton spectrum is flatter than the electron spectrum for kinetic energies between mec2 and mpc2, leading to a higher proton density at energies greater than 1 GeV for equal numbers of electrons and protons injected at the same energy.\n",
      "\tCosine distance to query: 0.3869\n",
      "The acceleration process can generate large cosmic ray densities, with a significant fraction of the kinetic streaming energy of the gas flowing into the shock given to high-energy protons.\n",
      "\tCosine distance to query: 0.4850\n",
      "The calculated flux density for Tycho's SNR is consistent with observed values, suggesting radio emission can be explained by electrons accelerated at the shock front.\n",
      "\tCosine distance to query: 0.3668\n",
      "For Cas A, agreement between predicted and observed flux densities requires a magnetic field much greater than the compressed interstellar value, indicating possible amplification by differential motions within the shell.\n",
      "\tCosine distance to query: 0.3891\n",
      "The total energy of accelerated particles is a substantial fraction of the energy given to the shocked interstellar gas and of the total energy released in a supernova explosion.\n",
      "\tCosine distance to query: 0.4241\n",
      "The minimum energy calculation for radio sources must account for electrons radiating at frequencies below the low-frequency cut-off and energetic protons, significantly increasing the estimated minimum energy.\n",
      "\tCosine distance to query: 0.5021\n",
      "The further acceleration of pre-existing cosmic rays by shock fronts may be important in low-velocity shocks, such as those in old supernova remnants, increasing cosmic ray density beyond that from adiabatic compression alone.\n",
      "\tCosine distance to query: 0.4209\n",
      "Multiple shocks flatten the energy spectrum at radio-emitting energies, with the spectrum of radio emission also flattening as a result.\n",
      "\tCosine distance to query: 0.4878\n",
      "The energy given to cosmic rays by shock fronts and subsequent adiabatic processes results in a net increase in cosmic ray energy, with some energy lost to Alfvén waves.\n",
      "\tCosine distance to query: 0.4372\n"
     ]
    }
   ],
   "source": [
    "contributions_results = db.query(\n",
    "    f\"SELECT text, embedding FROM contributions WHERE doi = '{target_doi}'\"\n",
    ")\n",
    "fixed_embedding = embedder([fixed_query_str])[0]\n",
    "for text, c_embedding in contributions_results:\n",
    "    print(text)\n",
    "    print(f\"\\tCosine distance to query: {cosine_distance(fixed_embedding, c_embedding):.4f}\")"
   ]
  },
  {
   "cell_type": "code",
   "execution_count": 81,
   "id": "6cb27056",
   "metadata": {},
   "outputs": [
    {
     "data": {
      "text/plain": [
       "text        New estimates of the spectral dependence of di...\n",
       "doi                                            10.1086/511741\n",
       "pubdate                                            2007-04-01\n",
       "distance                                             0.200788\n",
       "Name: 0, dtype: object"
      ]
     },
     "execution_count": 81,
     "metadata": {},
     "output_type": "execute_result"
    }
   ],
   "source": [
    "results.iloc[0]"
   ]
  },
  {
   "cell_type": "code",
   "execution_count": 83,
   "id": "47b64cae",
   "metadata": {},
   "outputs": [
    {
     "name": "stdout",
     "output_type": "stream",
     "text": [
      "Query:\n",
      "source_doi: 10.1146/annurev.astro.40.060401.093821\n",
      "sent_original: This follows from equating in the contact discontinuity frame the kinetic flux L /4π r 2 to the external ram pressure ρ ext γ 2 during the initial phase while γ ∼ constant, r ∝ t ( Rees Mészáros 1992 ; see also Sari 1998 ).\n",
      "sent_no_cit: This follows from equating in the contact discontinuity frame the kinetic flux L /4π r 2 to the external ram pressure ρ ext γ 2 during the initial phase while γ ∼ constant, r ∝ t ( [REF] ).\n",
      "sent_idx: 77\n",
      "citation_dois: ['10.1093/mnras/258.1.41P', '10.1086/311269']\n",
      "pubdate: 2002-01-01\n",
      "resolved_bibcodes: ['1992MNRAS.258P..41R', '1998ApJ...497L..17S']\n",
      "expanded_query: This follows from equating in the contact discontinuity frame the kinetic flux L /4π r 2 to the external ram pressure ρ ext γ 2 during the initial phase while γ ∼ constant, r ∝ t ( [REF] ).\n",
      "first_rank: 273\n",
      "last_rank: None\n",
      "\n",
      "First Result:\n",
      "text: Onset flux of ~2 × 10^19 Mx in a dark pore appearing in an area where the flux increases by ~1 × 10^20 Mx prior to the pore's appearance.\n",
      "doi: 10.1086/306297\n",
      "pubdate: 1998-11-01\n",
      "distance: 0.3196605849468057\n",
      "==================================================\n",
      "Found DOI 10.1086/311269 at rank 273\n",
      "Unfound DOIs: {'10.1093/mnras/258.1.41P'}\n"
     ]
    }
   ],
   "source": [
    "inspect(failed_records[3])"
   ]
  },
  {
   "cell_type": "code",
   "execution_count": 85,
   "id": "238bf1da",
   "metadata": {},
   "outputs": [
    {
     "name": "stdout",
     "output_type": "stream",
     "text": [
      "The expansion energy of a relativistic fireball can be reconverted into radiation upon interaction with an external medium, with time-scales of the order of seconds for Lorentz factors greater than or approximately equal to 1000.\n",
      "\tCosine distance to query: 0.4178\n",
      "This mechanism operates in cosmological scenarios of gamma-ray bursts involving initial energies of about a percent of a stellar rest mass, producing photon energies and time-scales compatible with observed gamma-ray bursts.\n",
      "\tCosine distance to query: 0.4738\n",
      "Interaction with even very tenuous external matter efficiently reconverts the kinetic energy of a baryon-loaded relativistic fireball into high-energy photons, observable on time-scales similar to those of gamma-ray bursts.\n",
      "\tCosine distance to query: 0.4364\n",
      "The deceleration of a fireball in an external medium leads to the reconversion of bulk kinetic energy into thermal energy, which can be radiated away if cooling times are sufficiently short.\n",
      "\tCosine distance to query: 0.4098\n",
      "For a fireball with specific energy and external density parameters, the observed time-scale for the peak power reception is sensitive primarily to the Lorentz factor, scaling as the Lorentz factor to the power of -8/3.\n",
      "\tCosine distance to query: 0.4813\n",
      "The mechanism suggests that gamma-ray bursts could be explained by highly directed events, each involving energies well below 10^51 erg, due to the small solid angle from which the observed radiation comes.\n",
      "\tCosine distance to query: 0.4646\n",
      "The model addresses major difficulties in cosmological gamma-ray burst models, such as the recovery of expansion kinetic energy and the relevant burst time-scales, by utilizing the expansion dynamics of fireballs produced in events like neutron star binary mergers.\n",
      "\tCosine distance to query: 0.4472\n"
     ]
    }
   ],
   "source": [
    "target_doi = \"10.1093/mnras/258.1.41P\"\n",
    "contributions_results = db.query(f\"SELECT text, embedding FROM contributions WHERE doi = '{target_doi}'\")\n",
    "\n",
    "query_embedding = embedder([failed_records[3][0]['expanded_query']])[0]\n",
    "for text, c_embedding in contributions_results:\n",
    "    print(text)\n",
    "    print(f\"\\tCosine distance to query: {cosine_distance(query_embedding, c_embedding):.4f}\")"
   ]
  },
  {
   "cell_type": "code",
   "execution_count": null,
   "id": "faec03d4",
   "metadata": {},
   "outputs": [],
   "source": []
  }
 ],
 "metadata": {
  "kernelspec": {
   "display_name": "citeline",
   "language": "python",
   "name": "python3"
  },
  "language_info": {
   "codemirror_mode": {
    "name": "ipython",
    "version": 3
   },
   "file_extension": ".py",
   "mimetype": "text/x-python",
   "name": "python",
   "nbconvert_exporter": "python",
   "pygments_lexer": "ipython3",
   "version": "3.11.10"
  }
 },
 "nbformat": 4,
 "nbformat_minor": 5
}
