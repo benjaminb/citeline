{
 "cells": [
  {
   "cell_type": "code",
   "execution_count": 1,
   "metadata": {},
   "outputs": [
    {
     "name": "stdout",
     "output_type": "stream",
     "text": [
      "=================================CONFIG=================================\n",
      "Database         User             Host                             Port            \n",
      "citeline_db      bbasseri         localhost                        5432            \n",
      "========================================================================\n",
      "Database version: ('PostgreSQL 17.3 (Homebrew) on x86_64-apple-darwin23.6.0, compiled by Apple clang version 16.0.0 (clang-1600.0.26.6), 64-bit',)\n"
     ]
    }
   ],
   "source": [
    "from dotenv import load_dotenv\n",
    "import os\n",
    "import pandas as pd\n",
    "from time import time\n",
    "import torch\n",
    "from TextEnrichers import get_enricher, TextEnricher\n",
    "from database.database import Database\n",
    "from Embedders import Embedder, get_embedder\n",
    "from tqdm import tqdm\n",
    "from pprint import pprint\n",
    "\n",
    "load_dotenv(\".env\", override=True)\n",
    "\n",
    "db = Database()\n",
    "db.test_connection()"
   ]
  },
  {
   "cell_type": "code",
   "execution_count": 2,
   "metadata": {},
   "outputs": [],
   "source": [
    "device = 'cuda' if torch.cuda.is_available() else 'mps' if torch.mps.is_available() else 'cpu'\n",
    "examples = pd.read_json('data/dataset/100/nontrivial.jsonl', lines=True)"
   ]
  },
  {
   "cell_type": "markdown",
   "metadata": {},
   "source": [
    "Let's take a look at the first example's sentence without citations:"
   ]
  },
  {
   "cell_type": "code",
   "execution_count": 3,
   "metadata": {},
   "outputs": [
    {
     "name": "stdout",
     "output_type": "stream",
     "text": [
      "('The work of  suggests a fundamental distinction in elemental abundances '\n",
      " 'between closed and open magnetic structures, matching the nominal '\n",
      " 'photospheric and coronal abundances, respectively.')\n",
      "'Sentence number: 369'\n",
      "'Source doi: 10.1146/annurev.aa.30.090192.000553'\n",
      "\"Target dois: ['10.1086/167871']\"\n"
     ]
    }
   ],
   "source": [
    "example = examples.iloc[29]\n",
    "pprint(example['sent_no_cit'])\n",
    "pprint(f\"Sentence number: {example['sent_idx']}\")\n",
    "pprint(f\"Source doi: {example['source_doi']}\")\n",
    "pprint(f\"Target dois: {example['citation_dois']}\")"
   ]
  },
  {
   "cell_type": "markdown",
   "metadata": {},
   "source": [
    "We can add a little more context to see what star we're talking about:"
   ]
  },
  {
   "cell_type": "code",
   "execution_count": 4,
   "metadata": {},
   "outputs": [
    {
     "name": "stdout",
     "output_type": "stream",
     "text": [
      "bibcode                                         1992ARA&A..30..113K\n",
      "abstract          Solar flare and coronal mass ejection (CME) ob...\n",
      "aff                                            [Boston College, MA]\n",
      "author                                              [Kahler, S. W.]\n",
      "bibstem                                          [ARA&A, ARA&A..30]\n",
      "doctype                                                     article\n",
      "doi                             10.1146/annurev.aa.30.090192.000553\n",
      "id                                                          1840100\n",
      "pubdate                                                  1992-01-01\n",
      "title                      Solar flares and coronal mass ejections.\n",
      "read_count                                                        7\n",
      "reference         [1852RSPT..142..103S, 1859MNRAS..20...13C, 190...\n",
      "citation_count                                                  463\n",
      "citation          [1992LNP...399....1S, 1993AZh....70..165C, 199...\n",
      "body              Annu. Rev. Astron. Astrophys. 1992. 30: 113-41...\n",
      "dois                          [10.1146/annurev.aa.30.090192.000553]\n",
      "keywords          [Magnetic Storms, Solar Corona, Solar Flares, ...\n",
      "loaded_from                            data/json/Astro_Reviews.json\n",
      "body_sentences    [Annu.  Rev. Astron.  Astrophys.  1992., 30: 1...\n",
      "data                                                           None\n",
      "Name: 365, dtype: object\n"
     ]
    }
   ],
   "source": [
    "all_reviews = pd.read_json('data/preprocessed/reviews.jsonl', lines=True)\n",
    "source_record = all_reviews.loc[all_reviews[\"doi\"] == example[\"source_doi\"]].iloc[0]\n",
    "print(source_record)"
   ]
  },
  {
   "cell_type": "code",
   "execution_count": 5,
   "metadata": {},
   "outputs": [
    {
     "name": "stdout",
     "output_type": "stream",
     "text": [
      "['Compared with photospheric abundances, the coronal abundances are known to '\n",
      " 'be deficient in elements with a first ionization potential exceeding about 9 '\n",
      " 'ev (Meyer 1985).',\n",
      " 'Thus, the Breneman & Stone (1985) observations rule out a SEP source with '\n",
      " 'photospheric abundances.',\n",
      " 'There is now some evidence to suggest that elemental abundances of flare '\n",
      " 'plasmas more closely match the photospheric rather than the coronal '\n",
      " 'abundances (Feldman & Widing 1990), perhaps because the photospheric '\n",
      " 'material is the primary source of the heated flare plasma.',\n",
      " 'The work of Widing & Feldman (1989) suggests a fundamental distinction in '\n",
      " 'elemental abundances between closed and open magnetic structures, matching '\n",
      " 'the nominal photospheric and coronal abundances, respectively.']\n"
     ]
    }
   ],
   "source": [
    "idx = example['sent_idx']\n",
    "pprint(source_record.body_sentences[idx-3:idx+1])"
   ]
  },
  {
   "cell_type": "markdown",
   "metadata": {},
   "source": [
    "Next let's embed the sentence and get query results. We'll want to know\n",
    "1. At what distance do we find the target doi?\n",
    "1. For any closer results, what is in their chunks?"
   ]
  },
  {
   "cell_type": "code",
   "execution_count": 6,
   "metadata": {},
   "outputs": [],
   "source": [
    "embedder = get_embedder(model_name='BAAI/bge-small-en', device=device, normalize=True)\n",
    "query_vector = embedder(example['sent_no_cit'])"
   ]
  },
  {
   "cell_type": "code",
   "execution_count": 7,
   "metadata": {},
   "outputs": [
    {
     "name": "stdout",
     "output_type": "stream",
     "text": [
      "  Query execution time: 3.87 seconds\n"
     ]
    }
   ],
   "source": [
    "query_results = db.query_vector_column(\n",
    "    query_vector=query_vector,\n",
    "    table_name='lib',\n",
    "    target_column='bge',\n",
    "    metric='vector_cosine_ops',\n",
    "    pubdate=example.pubdate,\n",
    "    use_index=True,\n",
    "    top_k = 100_000,\n",
    "    probes=100\n",
    ")"
   ]
  },
  {
   "cell_type": "markdown",
   "metadata": {},
   "source": [
    "Let's do a reality check on the results:\n",
    "1. Did you get all `top_k` results?\n",
    "1. Is the target doi in the top k results?"
   ]
  },
  {
   "cell_type": "code",
   "execution_count": 8,
   "metadata": {},
   "outputs": [
    {
     "name": "stdout",
     "output_type": "stream",
     "text": [
      " Got 100000 results\n",
      " Found 10221 unique DOIs\n",
      "Target doi in the top k: True\n"
     ]
    }
   ],
   "source": [
    "print(f\" Got {len(query_results)} results\")\n",
    "result_dois = set(result.doi for result in query_results)\n",
    "print(f\" Found {len(result_dois)} unique DOIs\")\n",
    "\n",
    "target_doi = example['citation_dois'][0]\n",
    "print(f\"Target doi in the top k: {target_doi in result_dois}\")"
   ]
  },
  {
   "cell_type": "markdown",
   "metadata": {},
   "source": [
    "We found the target doi in the results. At what rank and distance was it found?"
   ]
  },
  {
   "cell_type": "code",
   "execution_count": 9,
   "metadata": {},
   "outputs": [
    {
     "name": "stdout",
     "output_type": "stream",
     "text": [
      "Rank: 40\n",
      "Distance: 0.1385815657030588\n"
     ]
    }
   ],
   "source": [
    "target_idx = -1\n",
    "for i, result in enumerate(query_results):\n",
    "    if result.doi == target_doi:\n",
    "        target_idx = i\n",
    "        print(f\"Rank: {target_idx+1}\")\n",
    "        print(f\"Distance: {result.distance}\")\n",
    "        break\n"
   ]
  },
  {
   "cell_type": "markdown",
   "metadata": {},
   "source": [
    "This example was the 40th closest to the query. Its chunk:"
   ]
  },
  {
   "cell_type": "code",
   "execution_count": 10,
   "metadata": {},
   "outputs": [
    {
     "name": "stdout",
     "output_type": "stream",
     "text": [
      "datetime.date(1989, 9, 1)\n",
      "('Furthermore, the abundance variations are correlated with the type of '\n",
      " 'magnetic field topologv observed. Comparison of Mg vm 315.02 Â with Si vm '\n",
      " '319.84 A indicates that the magnesium abundance is relatively unchanged, so '\n",
      " 'that the variations primarily reflect changes in the abundance of neon. '\n",
      " 'Meyer (1985) suggested that the apparent depletion of ele- 1049 Ne VI 40 I. '\n",
      " 'I 4 Mg VI 400.66 Fig. 4.—(a) The Ne vu 465/Ca ix 466 intensity ratio plotted '\n",
      " 'against the Ne vi 401/Mg vi 400 intensity ratio from the observations in '\n",
      " 'Table 1 and an impulsive flare showing the variation in the neon abundance '\n",
      " 'relative to calcium or magnesium, (b) The Ne vii/Ca ix ratio divided by the '\n",
      " 'Ne vi/Mg vi ratio in 4(a) showing the smaller variation in the Mg/Ca '\n",
      " 'abundance ratio. ments with high-first ionization potentials (FIP) in the '\n",
      " 'corona compared to low-FIP elements could be explained by assuming a '\n",
      " 'separation process at the base of the corona which held back the '\n",
      " 'predominantly neutral high-FIP elements. We note that in the presence of '\n",
      " 'temperatures characteristic of the lower transition zone (<105 K) there will '\n",
      " 'be more ionizing collisions at 7.6 eV then at 21.6 eV: hence more Mg+ ions '\n",
      " 'than Ne+ ions at the base of the corona. In the presence of an open field '\n",
      " 'these ions can drift out into the corona to be successively ionized to '\n",
      " 'higher stages. The element abundance distributions observed in the '\n",
      " 'open-field case may therefore directly reflect the relative production rates '\n",
      " 'of first ions at the base.')\n"
     ]
    }
   ],
   "source": [
    "target_query_result = query_results[target_idx]\n",
    "pprint(target_query_result.pubdate)\n",
    "pprint(target_query_result.chunk)"
   ]
  },
  {
   "cell_type": "markdown",
   "metadata": {},
   "source": [
    "This looks like a quality citation. The review says this paper suggests there exist different element abundances between closed and open magnetic structures, and this chunk aligns with that claim.\n",
    "\n",
    "What did the embedder consider even more similar than this chunk? What were the top chunks?"
   ]
  },
  {
   "cell_type": "code",
   "execution_count": 11,
   "metadata": {},
   "outputs": [
    {
     "name": "stdout",
     "output_type": "stream",
     "text": [
      "('3, 1969 Thermal continuum radiation 377 carried out. The variation of the '\n",
      " 'ratio g(Z, T, c/X)lg(i, T, c/X) was checked at a number of wavelengths and '\n",
      " 'temperatures in the ranges o*8 to ioo*o io6 °K and i to 30 Â for the twelve '\n",
      " 'elements listed in Table I. The variations found in the ratio of the Gaunt '\n",
      " 'factors would lead to fluctuations of up to 20 per cent in the value of the '\n",
      " 'bracketed term in equation (6). These fluctuations are similar to those '\n",
      " 'noted by Hovenier who found variations of up to 15 per cent in this term. '\n",
      " 'Table I shows values of the bracketed term in equation (5) at a temperature '\n",
      " 'of 5*0 io6 °K and a wavelength of 5 Â. Two sets of element abundances were '\n",
      " 'employed. For the corona the abundance values used are those of Pottasch '\n",
      " '(1967) and Jordan (1968). In cases where these results have disagreed, an '\n",
      " 'average value Table I Dependence of free-free flux on element abundances '\n",
      " 'Element H He C N O Ne Mg Si S Ar Ca Fe Coronal abundances (Pottasch 1967; '\n",
      " 'Jordan 1967) 10 2 *oio5 400 60 300 40 30 50 20 4* 2* So Photospheric '\n",
      " 'abundances (Goldberg et al. i960) ¿(Z, T, c/A)Z2 Nz |(i,T,C/A) Nh Coronal '\n",
      " 'Photospheric i • 124 0*017 0*005 o*oi8 0*008 0*007 0*012 0*006 0*002 0*001 '\n",
      " '0*051 o*8io 0*030 0*009 0*060 0*008 0*007 0*010 0*006 0*002 0*001 0*005 i '\n",
      " '-25° 0*950 6 io i*45 io5 600 100 1000 40 30 40 20 4* 2* 5 Total Note Cosmic '\n",
      " 'abundance of neon is 300 on the above scale (Allen (1963)).')\n"
     ]
    }
   ],
   "source": [
    "top = query_results[0]\n",
    "pprint(top.chunk)"
   ]
  },
  {
   "cell_type": "markdown",
   "metadata": {},
   "source": [
    "This chunk is also talking about variation in abundances as well as corona."
   ]
  },
  {
   "cell_type": "code",
   "execution_count": 12,
   "metadata": {},
   "outputs": [
    {
     "name": "stdout",
     "output_type": "stream",
     "text": [
      "Top pubdate: 1969-01-01\n",
      "Example pubdate: 1992-01-01\n",
      "Target pubdate: 1989-09-01\n"
     ]
    }
   ],
   "source": [
    "print(f\"Top pubdate: {top.pubdate}\")\n",
    "print(f\"Example pubdate: {example.pubdate}\")\n",
    "print(f\"Target pubdate: {target_query_result.pubdate}\")"
   ]
  },
  {
   "cell_type": "markdown",
   "metadata": {},
   "source": [
    "In this case the top ranked result's pubdate was published much earlier than the target pubdate. Should there be a preference for newer publications?"
   ]
  },
  {
   "cell_type": "code",
   "execution_count": 13,
   "metadata": {},
   "outputs": [
    {
     "name": "stdout",
     "output_type": "stream",
     "text": [
      "[datetime.date(1969, 1, 1),\n",
      " datetime.date(1989, 9, 1),\n",
      " datetime.date(1977, 5, 1),\n",
      " datetime.date(1975, 10, 1),\n",
      " datetime.date(1974, 7, 1),\n",
      " datetime.date(1971, 12, 1),\n",
      " datetime.date(1969, 1, 1),\n",
      " datetime.date(1975, 12, 1),\n",
      " datetime.date(1984, 1, 1),\n",
      " datetime.date(1965, 2, 1),\n",
      " datetime.date(1974, 1, 1),\n",
      " datetime.date(1988, 9, 1),\n",
      " datetime.date(1969, 1, 1),\n",
      " datetime.date(1991, 11, 1),\n",
      " datetime.date(1984, 1, 1),\n",
      " datetime.date(1980, 6, 1),\n",
      " datetime.date(1969, 1, 1),\n",
      " datetime.date(1975, 10, 1),\n",
      " datetime.date(1985, 1, 1),\n",
      " datetime.date(1972, 12, 1),\n",
      " datetime.date(1985, 1, 1),\n",
      " datetime.date(1971, 12, 1),\n",
      " datetime.date(1975, 10, 1),\n",
      " datetime.date(1963, 4, 1),\n",
      " datetime.date(1981, 10, 1),\n",
      " datetime.date(1975, 12, 1),\n",
      " datetime.date(1971, 5, 1),\n",
      " datetime.date(1982, 11, 1),\n",
      " datetime.date(1961, 5, 1),\n",
      " datetime.date(1975, 10, 1),\n",
      " datetime.date(1989, 9, 1),\n",
      " datetime.date(1966, 9, 1),\n",
      " datetime.date(1960, 11, 1),\n",
      " datetime.date(1985, 1, 1),\n",
      " datetime.date(1960, 11, 1),\n",
      " datetime.date(1967, 2, 1),\n",
      " datetime.date(1985, 1, 1),\n",
      " datetime.date(1982, 1, 1),\n",
      " datetime.date(1989, 1, 1)]\n"
     ]
    }
   ],
   "source": [
    "# print all the pubdates for records ranked higher than the target\n",
    "pprint([result.pubdate for result in query_results[:target_idx]])"
   ]
  },
  {
   "cell_type": "markdown",
   "metadata": {},
   "source": [
    "These were all earlier except the one at index 1, which has the same pubdate as the target. But it's not the target?"
   ]
  },
  {
   "cell_type": "code",
   "execution_count": 14,
   "metadata": {},
   "outputs": [
    {
     "name": "stdout",
     "output_type": "stream",
     "text": [
      "datetime.date(1989, 9, 1)\n",
      "'10.1086/167855'\n",
      "('Furthermore, some of the variations of the observed spectrum are not simply '\n",
      " 'due directly to the higher abundance of individual elements near the '\n",
      " 'magnetic pole, but to the changes in atmospheric structure induced by the '\n",
      " 'combination of all such abundance variations acting in concert. Two other '\n",
      " 'features of the inferred abundance distributions are notable. First, the '\n",
      " 'highest abundance regions found for the already cosmically abundant elements '\n",
      " 'Si and Fe are rather large; in our model the two rings out to a = 72° are '\n",
      " 'both high-abundance regions for these elements relative to the equatorial '\n",
      " 'abundances. In contrast, the polar caps of the cosmically lower abundance '\n",
      " 'elements Ti and Cr are smaller; for both these elements the midlatitude '\n",
      " '(ring 2) abundances are considerably smaller than at the pole. A second, '\n",
      " 'possibly significant feature of the abundance models is that all three '\n",
      " 'iron-peak elements have quantitatively similar absolute abundances both near '\n",
      " 'the pole and near the equator, although in the Sun Fe is roughly 2 dex more '\n",
      " 'abundant than Ti or Cr. Are we seeing some sort of saturation effect? It is '\n",
      " 'interesting to use the observed value of v sin i to constrain the physical '\n",
      " 'characteristics of HD 215441. Since our magnetic model indicates that i = '\n",
      " '30° ±5°, we may use the elementary relationship R/Rq = Pv sin i/(50.6 sin '\n",
      " 'i), (4) _1 where P is in days and t; sin i = 7 ± 3 is in km s , to find R/Rq '\n",
      " '= 2.6 ± 1.2.')\n",
      "datetime.date(1977, 5, 1)\n",
      "'10.1007/BF00149658'\n",
      "('As further representative parameters we have chosen: atomic masses m = 10, '\n",
      " '20, 30; abundances of the elements A =5 x i0~ ~H, maximum fractional '\n",
      " 'abundance of the ion X = 0.9; background continuum intensity = black body '\n",
      " 'radiation of i04 K; for off-limb observations: coronal Te = 106.5 K, coronal '\n",
      " 'Ne 108.3 cm3. Two representative thicknesses (d1, d2, Table I) of the '\n",
      " 'absorbing layers are chosen: a region (=d1) centered on Te, Table I, and '\n",
      " 'confined between z~ log Te~ 0.2; a region (=d2) centered on Te and confined '\n",
      " 'between z~ log Te 0.4. These two regions roughly correspond to a change in '\n",
      " 'the fractional abundance of the ions (of C, N, 0, Ne, Mg, Si, Fe) of ~1 log '\n",
      " 'X~ 0.1-0.2 and ~1 log XI 0.2-0.3, respectively. Inside each layer the '\n",
      " 'electron temperature and the electron density, given in Table I, are '\n",
      " 'constant.')\n"
     ]
    }
   ],
   "source": [
    "second_result = query_results[1]\n",
    "pprint(second_result.pubdate)\n",
    "pprint(second_result.doi)\n",
    "pprint(second_result.chunk)\n",
    "\n",
    "third_result = query_results[2]\n",
    "pprint(third_result.pubdate)\n",
    "pprint(third_result.doi)\n",
    "pprint(third_result.chunk)"
   ]
  },
  {
   "cell_type": "markdown",
   "metadata": {},
   "source": [
    "Let's repeat this process with BERT and see if the results significantly change"
   ]
  },
  {
   "cell_type": "code",
   "execution_count": 15,
   "metadata": {},
   "outputs": [
    {
     "name": "stdout",
     "output_type": "stream",
     "text": [
      "  Query execution time: 3.51 seconds\n"
     ]
    }
   ],
   "source": [
    "bert_embedder = get_embedder(model_name='bert-base-uncased', device=device, normalize=False)\n",
    "bert_query_vector = bert_embedder(example['sent_no_cit'])[0]\n",
    "\n",
    "bert_query_results = db.query_vector_column(\n",
    "    query_vector=bert_query_vector,\n",
    "    table_name='lib',\n",
    "    target_column='bert',\n",
    "    metric='vector_cosine_ops',\n",
    "    pubdate=example.pubdate,\n",
    "    use_index=True,\n",
    "    top_k = 100_000,\n",
    "    probes=100\n",
    ")"
   ]
  },
  {
   "cell_type": "code",
   "execution_count": 16,
   "metadata": {},
   "outputs": [
    {
     "name": "stdout",
     "output_type": "stream",
     "text": [
      " Got 100000 results\n",
      " Found 11295 unique DOIs\n",
      "Target doi in the top k: True\n"
     ]
    }
   ],
   "source": [
    "print(f\" Got {len(bert_query_results)} results\")\n",
    "bert_result_dois = set(result.doi for result in bert_query_results)\n",
    "print(f\" Found {len(bert_result_dois)} unique DOIs\")\n",
    "\n",
    "target_doi = example[\"citation_dois\"][0]\n",
    "print(f\"Target doi in the top k: {target_doi in bert_result_dois}\")"
   ]
  },
  {
   "cell_type": "code",
   "execution_count": 17,
   "metadata": {},
   "outputs": [
    {
     "name": "stdout",
     "output_type": "stream",
     "text": [
      "Rank: 60110\n",
      "Distance: 0.19633366453420387\n"
     ]
    }
   ],
   "source": [
    "bert_target_idx = -1\n",
    "for i, result in enumerate(bert_query_results):\n",
    "    if result.doi == target_doi:\n",
    "        bert_target_idx = i\n",
    "        print(f\"Rank: {bert_target_idx+1}\")\n",
    "        print(f\"Distance: {result.distance}\")\n",
    "        break"
   ]
  },
  {
   "cell_type": "markdown",
   "metadata": {},
   "source": [
    "In this case the rank is much worse and the distance is greater (0.1963 compared to 0.1356).\n",
    "\n",
    "Here's the closest chunk from the target DOI:"
   ]
  },
  {
   "cell_type": "code",
   "execution_count": 18,
   "metadata": {},
   "outputs": [
    {
     "name": "stdout",
     "output_type": "stream",
     "text": [
      "datetime.date(1983, 8, 1)\n",
      "'10.1086/161188'\n",
      "('The numbers and discussions in the preceding paragraphs cannot be accepted '\n",
      " 'uncritically at the present time. They mostly demonstrate what can be '\n",
      " 'achieved with data of this sort, and the directions we must go for '\n",
      " 'improvement. This work shows at least the general consistency of several '\n",
      " 'theories that predict phenomena in the domain of the planetaries. With '\n",
      " 'better N/O ratios, a full set of He/H ratios, improved distances, and '\n",
      " 'continued improvement of the theory relating nebular abundances to stellar '\n",
      " 'mass, much finer discrimination of the above parameters should be possible, '\n",
      " 'which will ultimately lead toward accurate values for total mass loss and '\n",
      " 'the lower mass limit for carbon-core supernova production. V. SUMMARY As a '\n",
      " 'result of the new data and analyses of large planetary nebulae presented in '\n",
      " 'this paper, we begin to see detailed agreement between the theory of '\n",
      " 'evolution of planetary nebulae and the observations. The observed '\n",
      " 'temperatures and luminosities of the central stars follow the theoretical '\n",
      " 'tracks for remnant cores over a range from about 0.55 M0 to about 1 M0. The '\n",
      " 'upper limit is in agreement with the stars studied in the Magellanic Clouds '\n",
      " 'by Stecher et al. (1982). The core mass distribution found from this study, '\n",
      " 'which shows that between about one-third and one-half of the stars have '\n",
      " 'masses greater than 0.6 M0, is wider than that given by Schönberner (1981).')\n"
     ]
    }
   ],
   "source": [
    "bert_target_query_result = bert_query_results[target_idx]\n",
    "pprint(bert_target_query_result.pubdate)\n",
    "pprint(bert_target_query_result.doi)\n",
    "pprint(bert_target_query_result.chunk)"
   ]
  },
  {
   "cell_type": "markdown",
   "metadata": {},
   "source": [
    "What did BERT consider closer?"
   ]
  },
  {
   "cell_type": "code",
   "execution_count": 19,
   "metadata": {},
   "outputs": [
    {
     "name": "stdout",
     "output_type": "stream",
     "text": [
      "('It is also supported by the work of Walbom, Nichols-Bohlin, and Panek (1985, '\n",
      " 'and references therein), who have shown that the morphology of UV mass-loss '\n",
      " 'features follows a close relationship with spectral classification; the '\n",
      " 'tight correlations which they have demonstrated would not be observed if '\n",
      " 'variability were a dominant factor. In the present paper we take advantage '\n",
      " 'of this result to study the principal wind diagnostics of a complete sample '\n",
      " 'of O stars observed with IUE, using in most cases single spectra of each '\n",
      " 'object.')\n",
      "'Distance: 0.09337484467471313'\n"
     ]
    }
   ],
   "source": [
    "bert_top = bert_query_results[0]\n",
    "pprint(bert_top.chunk)\n",
    "pprint(f\"Distance: {bert_top.distance}\")"
   ]
  },
  {
   "cell_type": "markdown",
   "metadata": {},
   "source": [
    "This chunk does not seem particularly relevant to the query.\n",
    "\n",
    "Although I don't have astrobert locally, we can try to see what the distance would be between some of these chunks by embedding them and taking the cosine distance."
   ]
  },
  {
   "cell_type": "code",
   "execution_count": 20,
   "metadata": {},
   "outputs": [],
   "source": [
    "astrobert_embedder = get_embedder(model_name=\"adsabs/astroBERT\", device=device, normalize=False)\n",
    "astrobert_query_vector = astrobert_embedder(example['sent_no_cit'])[0]"
   ]
  },
  {
   "cell_type": "code",
   "execution_count": 21,
   "metadata": {},
   "outputs": [],
   "source": [
    "bge_top_chunk = query_results[0].chunk\n",
    "bge_second_chunk = query_results[1].chunk\n",
    "bge_target_chunk = query_results[39].chunk\n",
    "\n",
    "bge_top_vector = astrobert_embedder(bge_top_chunk)[0]\n",
    "bge_second_vector = astrobert_embedder(bge_second_chunk)[0]\n",
    "bge_target_vector = astrobert_embedder(bge_target_chunk)[0]"
   ]
  },
  {
   "cell_type": "code",
   "execution_count": 22,
   "metadata": {},
   "outputs": [
    {
     "name": "stdout",
     "output_type": "stream",
     "text": [
      "Astrobert distance between query and target: 0.19301333222582617\n",
      "Astrobert distance between query and top: 0.29277018026509505\n",
      "Astrobert distance between query and second: 0.2768538911744477\n"
     ]
    }
   ],
   "source": [
    "from scipy.spatial.distance import cosine\n",
    "\n",
    "print(f\"Astrobert distance between query and target: {cosine(astrobert_query_vector, bge_target_vector)}\")\n",
    "print(f\"Astrobert distance between query and top: {cosine(astrobert_query_vector, bge_top_vector)}\")\n",
    "print(f\"Astrobert distance between query and second: {cosine(astrobert_query_vector, bge_second_vector)}\")"
   ]
  },
  {
   "cell_type": "markdown",
   "metadata": {},
   "source": [
    "Let's try this again with prev_n sentences in the query. Does some additional context help?"
   ]
  },
  {
   "cell_type": "code",
   "execution_count": 23,
   "metadata": {},
   "outputs": [],
   "source": [
    "from TextEnrichers import get_enricher\n",
    "enricher_prev_3 = get_enricher(name='add_prev_3', path_to_data='data/preprocessed/reviews.jsonl')"
   ]
  },
  {
   "cell_type": "code",
   "execution_count": 24,
   "metadata": {},
   "outputs": [
    {
     "name": "stdout",
     "output_type": "stream",
     "text": [
      "('Compared with photospheric abundances, the coronal abundances are known to '\n",
      " 'be deficient in elements with a first ionization potential exceeding about 9 '\n",
      " 'ev (Meyer 1985). Thus, the Breneman & Stone (1985) observations rule out a '\n",
      " 'SEP source with photospheric abundances. There is now some evidence to '\n",
      " 'suggest that elemental abundances of flare plasmas more closely match the '\n",
      " 'photospheric rather than the coronal abundances (Feldman & Widing 1990), '\n",
      " 'perhaps because the photospheric material is the primary source of the '\n",
      " 'heated flare plasma. The work of  suggests a fundamental distinction in '\n",
      " 'elemental abundances between closed and open magnetic structures, matching '\n",
      " 'the nominal photospheric and coronal abundances, respectively.')\n"
     ]
    }
   ],
   "source": [
    "enriched_text = enricher_prev_3(pd.DataFrame([example]))[0]\n",
    "pprint(enriched_text)"
   ]
  },
  {
   "cell_type": "markdown",
   "metadata": {},
   "source": [
    "Now let's use the embedding of this context-enriched input to query the database and see if makes the target doi chunks closer or higher ranked."
   ]
  },
  {
   "cell_type": "code",
   "execution_count": 25,
   "metadata": {},
   "outputs": [
    {
     "name": "stdout",
     "output_type": "stream",
     "text": [
      "  Query execution time: 2.35 seconds\n"
     ]
    }
   ],
   "source": [
    "enriched_query_vector = embedder([enriched_text])[0]\n",
    "enriched_query_results = db.query_vector_column(\n",
    "    query_vector=enriched_query_vector,\n",
    "    table_name=\"lib\",\n",
    "    target_column=\"bge\",\n",
    "    metric=\"vector_cosine_ops\",\n",
    "    pubdate=example.pubdate,\n",
    "    use_index=True,\n",
    "    top_k=100_000,\n",
    "    probes=100,\n",
    ")"
   ]
  },
  {
   "cell_type": "code",
   "execution_count": 26,
   "metadata": {},
   "outputs": [
    {
     "name": "stdout",
     "output_type": "stream",
     "text": [
      " Got 100000 results\n",
      " Found 9474 unique DOIs\n",
      "Target doi in the top k: True\n"
     ]
    }
   ],
   "source": [
    "print(f\" Got {len(enriched_query_results)} results\")\n",
    "result_dois = set(result.doi for result in enriched_query_results)\n",
    "print(f\" Found {len(result_dois)} unique DOIs\")\n",
    "\n",
    "target_doi = example[\"citation_dois\"][0]\n",
    "print(f\"Target doi in the top k: {target_doi in result_dois}\")"
   ]
  },
  {
   "cell_type": "code",
   "execution_count": 28,
   "metadata": {},
   "outputs": [
    {
     "name": "stdout",
     "output_type": "stream",
     "text": [
      "Rank: 7\n",
      "Distance: 0.04716029903770347\n"
     ]
    }
   ],
   "source": [
    "target_idx = -1\n",
    "for i, result in enumerate(enriched_query_results):\n",
    "    if result.doi == target_doi:\n",
    "        target_idx = i\n",
    "        print(f\"Rank: {target_idx+1}\")\n",
    "        print(f\"Distance: {result.distance}\")\n",
    "        break"
   ]
  },
  {
   "cell_type": "markdown",
   "metadata": {},
   "source": [
    "Much nicer! The enriched version is 7th closest (down from 40) with a distance of 0.0471 (down from 0.1386)\n",
    "\n",
    "So what were some of the records that were still even closer?"
   ]
  },
  {
   "cell_type": "code",
   "execution_count": 29,
   "metadata": {},
   "outputs": [
    {
     "name": "stdout",
     "output_type": "stream",
     "text": [
      "Rank: 1\n",
      "Distance: 0.03745414578920525\n",
      "('Corresponding values of coronal and photospheric abundances (Withbroe, 1971) '\n",
      " 'are listed for comparison. (Abundance values determined using solar cosmic '\n",
      " 'ray data are not listed due to the present uncertainty in accounting for '\n",
      " 'possible fractionation due to unknown energetic particle acceleration '\n",
      " 'mechanisms and propagation effects.) It has already been noted by Withbroe '\n",
      " '(1971) that, within experimental errors (a factor of 2), photospheric and '\n",
      " 'coronal abundances are equal. Thus there appears to be no direct '\n",
      " 'experimental evidence in support of a steady-state elemental fractionation '\n",
      " 'between the photosphere and corona as large as a factor of 2. Comparison of '\n",
      " 'the average values of solar wind 0, Si and Fe abundances determined here '\n",
      " 'with corresponding values determined in the lower corona shows no evidence '\n",
      " 'of a steady-state elemental fractionation within the corona as well. However '\n",
      " 'experimental errors are large enough that a modest average coronal '\n",
      " 'fractionation due to thermal gradient and gravitational settling effects '\n",
      " 'cannot be ruled out. It is noted, though, that observations of enhanced '\n",
      " 'solar wind He abundances following flare associated interplanetary shock '\n",
      " 'waves, have been interpreted as evidence for heavy ion settling in the lower '\n",
      " 'corona (Hirshberg et al., 1972). However these observations are also '\n",
      " 'consistent with spatial abundance inhomogeneities associated with the flare '\n",
      " 'producing active regions or by preferential ejection of He from the flare '\n",
      " 'site.')\n",
      "1975-08-01\n",
      "10.1007/BF00152368\n",
      "====\n",
      "Rank: 2\n",
      "Distance: 0.04047257673085036\n",
      "('We believe that the neon-to-magnesium abundance ratio of 2.2 from the '\n",
      " 'present analysis is a strong result. This is seen to be somewhat larger than '\n",
      " 'the other results for Ne/Mg in Table 9, and it is difficult to say if this '\n",
      " 'range of values is within the combined uncertainties of the various '\n",
      " 'analyses. However, another interpretation of the results is possible, as '\n",
      " 'discussed in the following paragraph. In any case, we believe that a Ne/Mg '\n",
      " 'ratio as low as one is totally inconsistent with the present observations. '\n",
      " 'The observed values of the O/Mg ratio in Table 9 show a range of '\n",
      " 'approximately a factor of 3. In addition, the values derived from the EUV '\n",
      " 'and soft X-ray spectra are systematically smaller than the O/Mg ratio '\n",
      " 'observed in the photosphere—which appears to be a well-determined value. '\n",
      " 'This appears to fall into the pattern described by Meyer (1985) in which the '\n",
      " 'abundances of elements with high first ionization potential (such as N, O, '\n",
      " 'and Ne) observed in the corona, solar wind, and flare energetic particles '\n",
      " 'are depleted by factors of 3-5 relative to elements with low '\n",
      " 'first-ionization potentials (such as Mg, Si, and Ca). If we accept this idea '\n",
      " 'and use the observed O/Mg ratio as an index of the “depletion factor,” then '\n",
      " 'we may conclude that the relative abundances of oxygen and neon in the '\n",
      " 'prominence are fairly close to a photospheric distribution.')\n",
      "1986-09-01\n",
      "10.1086/164566\n",
      "====\n",
      "Rank: 3\n",
      "Distance: 0.04067614553343435\n",
      "('Although the SEP composition is seen to vary from flare to flare, the '\n",
      " 'average SEP abundances, when normalized to silicon, are similar to those of '\n",
      " 'the other sources for all elements shown except carbon, nitrogen, and '\n",
      " 'oxygen, where the SEP values are persistently low relative to those of the '\n",
      " 'photosphere, as is oxygen in the solar-wind and active-region measurements. '\n",
      " 'In Figure 2 we examine the systematics of the SEP flare-to-flare composition '\n",
      " 'variations by comparing the SEP elemental composition of the four selected '\n",
      " 'flares to the four-flare average composition. In each of the four flare '\n",
      " 'events the deviations of the SEP abundances from their four-flare average '\n",
      " 'values may be considered monotonie functions of nuclear charge Z in the '\n",
      " 'range 6 < Z < 28. In particular, the flare-to-ffare abundance variations of '\n",
      " 'carbon, nitrogen, and oxygen are correlated, as are the abundance variations '\n",
      " 'of calcium, iron, and nickel. However, the abundance variations of C, N, and '\n",
      " 'O relative to silicon are anticorrelated with those of Ca, Fe, and Ni. An '\n",
      " 'important exception to the Z ordering of the abundance variations occurs for '\n",
      " 'helium, whose abundance relative to silicon is approximately the same in all '\n",
      " 'four events. The correlations of the SEP elemental abundances seen in Figure '\n",
      " '2 suggest that the SEP elemental composition may be described by an average '\n",
      " 'composition and a systematic deviation which varies in strength, but not '\n",
      " 'character, from flare to flare.')\n",
      "1980-06-01\n",
      "10.1086/183266\n",
      "====\n"
     ]
    }
   ],
   "source": [
    "for i in range(3):\n",
    "    print(f\"Rank: {i+1}\")\n",
    "    print(f\"Distance: {enriched_query_results[i].distance}\")\n",
    "    pprint(enriched_query_results[i].chunk)\n",
    "    print(enriched_query_results[i].pubdate)\n",
    "    print(enriched_query_results[i].doi)\n",
    "    print(\"====\")"
   ]
  },
  {
   "cell_type": "markdown",
   "metadata": {},
   "source": [
    "Let's try summarizing the first 40 chunks from bge and see if that can focus embeddings on what's important in each chunk."
   ]
  },
  {
   "cell_type": "code",
   "execution_count": null,
   "metadata": {},
   "outputs": [],
   "source": []
  },
  {
   "cell_type": "code",
   "execution_count": null,
   "metadata": {},
   "outputs": [],
   "source": []
  }
 ],
 "metadata": {
  "kernelspec": {
   "display_name": "citeline",
   "language": "python",
   "name": "python3"
  },
  "language_info": {
   "codemirror_mode": {
    "name": "ipython",
    "version": 3
   },
   "file_extension": ".py",
   "mimetype": "text/x-python",
   "name": "python",
   "nbconvert_exporter": "python",
   "pygments_lexer": "ipython3",
   "version": "3.11.10"
  }
 },
 "nbformat": 4,
 "nbformat_minor": 2
}
