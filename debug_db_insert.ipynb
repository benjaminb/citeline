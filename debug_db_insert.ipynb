{
 "cells": [
  {
   "cell_type": "code",
   "execution_count": 1,
   "metadata": {},
   "outputs": [],
   "source": [
    "import argparse\n",
    "import chromadb\n",
    "import pysbd\n",
    "import torch\n",
    "import uuid\n",
    "from tqdm import tqdm\n",
    "from embedding_functions import get_embedding_fn\n",
    "from utils import load_dataset\n",
    "from semantic_text_splitter import TextSplitter\n",
    "from sentence_validators import length_at_least_40"
   ]
  },
  {
   "cell_type": "code",
   "execution_count": 2,
   "metadata": {},
   "outputs": [
    {
     "name": "stdout",
     "output_type": "stream",
     "text": [
      "Collection(name=test-bge-small-en__cosine)\n"
     ]
    }
   ],
   "source": [
    "client = chromadb.PersistentClient(path='./vector_stores/foo/')\n",
    "collection_arg = 'test-bge-small-en__cosine'\n",
    "data_path = 'data/json/Astro_Reviews.json'\n",
    "collection = client.get_collection(collection_arg)\n",
    "print(collection)"
   ]
  },
  {
   "cell_type": "code",
   "execution_count": 3,
   "metadata": {},
   "outputs": [
    {
     "name": "stdout",
     "output_type": "stream",
     "text": [
      "bge-small-en, cosine\n"
     ]
    }
   ],
   "source": [
    "from database import get_expected_parameters_from_collection_name\n",
    "model_name, metric = get_expected_parameters_from_collection_name(\n",
    "    collection.name)\n",
    "print(f\"{model_name}, {metric}\")"
   ]
  },
  {
   "cell_type": "code",
   "execution_count": 4,
   "metadata": {},
   "outputs": [
    {
     "name": "stdout",
     "output_type": "stream",
     "text": [
      "<embedding_functions.ChromaEmbedder object at 0x10c12ce50>\n"
     ]
    }
   ],
   "source": [
    "CHROMA_MODEL_NAME_TO_HF = {\n",
    "    'bge-small-en': 'BAAI/bge-small-en',\n",
    "    'bert-base-uncased': 'bert-base-uncased',\n",
    "    'NV-Embed-v2': 'nvidia/NV-Embed-v2'\n",
    "}\n",
    "\n",
    "embedding_fn = get_embedding_fn(\n",
    "                                model_name=CHROMA_MODEL_NAME_TO_HF[model_name], \n",
    "                                device='mps',\n",
    "                                normalize=False\n",
    "                                )\n",
    "print(embedding_fn)\n",
    "\n"
   ]
  },
  {
   "cell_type": "code",
   "execution_count": 5,
   "metadata": {},
   "outputs": [
    {
     "name": "stdout",
     "output_type": "stream",
     "text": [
      "<class 'list'>\n"
     ]
    }
   ],
   "source": [
    "res = embedding_fn(['Hello', 'how are you?'])\n",
    "print(type(res))"
   ]
  },
  {
   "cell_type": "code",
   "execution_count": 8,
   "metadata": {},
   "outputs": [
    {
     "name": "stdout",
     "output_type": "stream",
     "text": [
      "SentenceTransformer(\n",
      "  (0): Transformer({'max_seq_length': 512, 'do_lower_case': True}) with Transformer model: BertModel \n",
      "  (1): Pooling({'word_embedding_dimension': 384, 'pooling_mode_cls_token': True, 'pooling_mode_mean_tokens': False, 'pooling_mode_max_tokens': False, 'pooling_mode_mean_sqrt_len_tokens': False, 'pooling_mode_weightedmean_tokens': False, 'pooling_mode_lasttoken': False, 'include_prompt': True})\n",
      "  (2): Normalize()\n",
      ")\n"
     ]
    }
   ],
   "source": [
    "from sentence_transformers import SentenceTransformer\n",
    "model = SentenceTransformer('BAAI/bge-small-en', trust_remote_code=True, device='mps')\n",
    "print(model)"
   ]
  },
  {
   "cell_type": "code",
   "execution_count": 10,
   "metadata": {},
   "outputs": [
    {
     "name": "stdout",
     "output_type": "stream",
     "text": [
      "<class 'numpy.ndarray'>\n",
      "(2, 384)\n"
     ]
    }
   ],
   "source": [
    "res = model.encode(['Hello', 'how are you?'], convert_to_numpy=True, normalize_embeddings=False)\n",
    "print(type(res))\n",
    "print(res.shape)"
   ]
  },
  {
   "cell_type": "code",
   "execution_count": 11,
   "metadata": {},
   "outputs": [
    {
     "name": "stdout",
     "output_type": "stream",
     "text": [
      "bge-small-en\n"
     ]
    }
   ],
   "source": [
    "from embedding_functions import ChromaEmbedder\n",
    "\n",
    "embedder = ChromaEmbedder(lambda x: model.encode(x, convert_to_numpy=True, normalize_embeddings=False), name='BAAI/bge-small-en')\n",
    "print(embedder.model_name)"
   ]
  },
  {
   "cell_type": "code",
   "execution_count": 12,
   "metadata": {},
   "outputs": [
    {
     "name": "stdout",
     "output_type": "stream",
     "text": [
      "<class 'list'>\n"
     ]
    }
   ],
   "source": [
    "chroma_res = embedder(['Hello', 'how are you?'])\n",
    "print(type(chroma_res))"
   ]
  },
  {
   "cell_type": "code",
   "execution_count": null,
   "metadata": {},
   "outputs": [],
   "source": []
  }
 ],
 "metadata": {
  "kernelspec": {
   "display_name": "citeline",
   "language": "python",
   "name": "python3"
  },
  "language_info": {
   "codemirror_mode": {
    "name": "ipython",
    "version": 3
   },
   "file_extension": ".py",
   "mimetype": "text/x-python",
   "name": "python",
   "nbconvert_exporter": "python",
   "pygments_lexer": "ipython3",
   "version": "3.11.10"
  }
 },
 "nbformat": 4,
 "nbformat_minor": 2
}
