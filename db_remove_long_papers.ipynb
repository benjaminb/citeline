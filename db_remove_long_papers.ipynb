{
 "cells": [
  {
   "cell_type": "code",
   "execution_count": null,
   "id": "b3c5a335",
   "metadata": {},
   "outputs": [],
   "source": [
    "import pandas as pd\n",
    "\n",
    "long_papers_df = pd.read_json(\"logs/long_papers.jsonl\", lines=True)\n",
    "training_df = pd.read_json(\"data/dataset/nontrivial_llm.jsonl\", lines=True)\n",
    "\n",
    "# for any rows in training_df that has a long paper DOI, remove it\n",
    "training_df = training_df[~training_df.doi.isin(long_papers_df.doi)]\n",
    "# save the filtered training_df to a new file\n",
    "training_df.to_json(\"data/dataset/nontrivial_llm_filtered.jsonl\", orient=\"records\", lines=True)\n",
    "\n"
   ]
  },
  {
   "cell_type": "code",
   "execution_count": null,
   "id": "e741e0ee",
   "metadata": {},
   "outputs": [],
   "source": [
    "# Ensure none of these DOIs are in the database\n",
    "from database.database import Database\n",
    "db = Database()\n",
    "db.test_connection()\n",
    "\n",
    "results = db.query(\"DELETE FROM contributions WHERE doi IN %s\", (tuple(long_papers_df.doi),))\n",
    "print(f\"Deleted {len(results)} contributions from the database that were in long_papers_df.\")\n",
    "\n",
    "results = db.query(\"DELETE FROM chunks WHERE doi IN %s\", (tuple(long_papers_df.doi),))\n",
    "print(f\"Deleted {len(results)} chunks from the database that were in long_papers_df.\")"
   ]
  }
 ],
 "metadata": {
  "kernelspec": {
   "display_name": "citeline",
   "language": "python",
   "name": "python3"
  },
  "language_info": {
   "name": "python",
   "version": "3.11.10"
  }
 },
 "nbformat": 4,
 "nbformat_minor": 5
}
