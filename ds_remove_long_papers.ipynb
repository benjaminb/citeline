{
 "cells": [
  {
   "cell_type": "code",
   "execution_count": 9,
   "id": "750598df",
   "metadata": {},
   "outputs": [
    {
     "name": "stdout",
     "output_type": "stream",
     "text": [
      "Processing with 11184 records\n"
     ]
    }
   ],
   "source": [
    "import pandas as pd\n",
    "\n",
    "research_df = pd.read_json(\"data/preprocessed/research.jsonl\", lines=True)\n",
    "df = pd.read_json(\"data/dataset/nontrivial_llm.jsonl\", lines=True)\n",
    "print(f\"Processing with {len(df)} records\")"
   ]
  },
  {
   "cell_type": "code",
   "execution_count": 11,
   "id": "98e3ab55",
   "metadata": {},
   "outputs": [
    {
     "name": "stderr",
     "output_type": "stream",
     "text": [
      "100%|██████████| 11184/11184 [00:48<00:00, 231.18it/s]"
     ]
    },
    {
     "name": "stdout",
     "output_type": "stream",
     "text": [
      "Filtered 265 records leaving 10919 records\n"
     ]
    },
    {
     "name": "stderr",
     "output_type": "stream",
     "text": [
      "\n"
     ]
    }
   ],
   "source": [
    "indices_to_remove = set()\n",
    "from tqdm import tqdm\n",
    "for i, row in tqdm(df.iterrows(), total=df.shape[0]):\n",
    "    # Get the dois \n",
    "    dois = row['citation_dois']\n",
    "    for doi in dois:\n",
    "        # Get the research_df row with the same doi\n",
    "        research_row = research_df[research_df['doi'] == doi].iloc[0]\n",
    "        # Check if the title + abstract + body is longer than 250000 chars\n",
    "        if (len(research_row['title']) +\n",
    "            len(research_row['abstract']) +\n",
    "            len(research_row['body'])) > 250000:\n",
    "            # If it is, remove the row from df\n",
    "            indices_to_remove.add(i)\n",
    "\n",
    "df.drop(indices_to_remove, inplace=True)\n",
    "print(f\"Filtered {len(indices_to_remove)} records leaving {len(df)} records\")"
   ]
  },
  {
   "cell_type": "code",
   "execution_count": 13,
   "id": "2f3555d3",
   "metadata": {},
   "outputs": [],
   "source": [
    "df.to_json(\"data/dataset/nontrivial_filtered.jsonl\", orient='records', lines=True)"
   ]
  },
  {
   "cell_type": "code",
   "execution_count": null,
   "id": "c623f547",
   "metadata": {},
   "outputs": [],
   "source": []
  }
 ],
 "metadata": {
  "kernelspec": {
   "display_name": "citeline",
   "language": "python",
   "name": "python3"
  },
  "language_info": {
   "codemirror_mode": {
    "name": "ipython",
    "version": 3
   },
   "file_extension": ".py",
   "mimetype": "text/x-python",
   "name": "python",
   "nbconvert_exporter": "python",
   "pygments_lexer": "ipython3",
   "version": "3.11.10"
  }
 },
 "nbformat": 4,
 "nbformat_minor": 5
}
