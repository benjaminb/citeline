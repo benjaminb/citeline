{
 "cells": [
  {
   "cell_type": "code",
   "execution_count": 1,
   "id": "9ac4a40c",
   "metadata": {},
   "outputs": [],
   "source": [
    "import pandas as pd\n",
    "\n",
    "research = pd.read_json(\"data/preprocessed/research.jsonl\", lines=True)\n",
    "\n",
    "\n",
    "def reconstruct_paper(example: pd.Series) -> str:\n",
    "    return f\"{example['title']}\\n\\nAbstract: {example['abstract']}\\n\\n{example['body']}\""
   ]
  },
  {
   "cell_type": "code",
   "execution_count": 2,
   "id": "cd07b83c",
   "metadata": {},
   "outputs": [
    {
     "name": "stdout",
     "output_type": "stream",
     "text": [
      "Length of paper: 185316\n",
      "Models of H II Regions: Heavy Element Opacity, Variation of Temperature\n",
      "\n",
      "Abstract: A detailed set of\n"
     ]
    }
   ],
   "source": [
    "doi = \"10.1086/191007\"\n",
    "record = research[research['doi'] == doi].iloc[0]\n",
    "paper = reconstruct_paper(record)\n",
    "print(f\"Length of paper: {len(paper)}\")\n",
    "print(paper[:100])\n"
   ]
  },
  {
   "cell_type": "code",
   "execution_count": null,
   "id": "2c4b578d",
   "metadata": {},
   "outputs": [],
   "source": []
  }
 ],
 "metadata": {
  "kernelspec": {
   "display_name": "citeline",
   "language": "python",
   "name": "python3"
  },
  "language_info": {
   "codemirror_mode": {
    "name": "ipython",
    "version": 3
   },
   "file_extension": ".py",
   "mimetype": "text/x-python",
   "name": "python",
   "nbconvert_exporter": "python",
   "pygments_lexer": "ipython3",
   "version": "3.11.10"
  }
 },
 "nbformat": 4,
 "nbformat_minor": 5
}
