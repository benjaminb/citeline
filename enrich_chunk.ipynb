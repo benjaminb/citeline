{
 "cells": [
  {
   "cell_type": "code",
   "execution_count": 2,
   "metadata": {},
   "outputs": [
    {
     "name": "stdout",
     "output_type": "stream",
     "text": [
      "=================================CONFIG=================================\n",
      "Database         User             Host                             Port            \n",
      "citeline_db      bbasseri         localhost                        5432            \n",
      "========================================================================\n",
      "Database version: ('PostgreSQL 17.3 (Homebrew) on x86_64-apple-darwin23.6.0, compiled by Apple clang version 16.0.0 (clang-1600.0.26.6), 64-bit',)\n"
     ]
    }
   ],
   "source": [
    "from database.database import get_db_params, DatabaseProcessor\n",
    "from Enrichers import get_enricher\n",
    "import pandas as pd\n",
    "\n",
    "enricher = get_enricher(\"add_title_and_abstract\", for_query=False)\n",
    "db = DatabaseProcessor(get_db_params())\n",
    "db.test_connection()"
   ]
  },
  {
   "cell_type": "code",
   "execution_count": 2,
   "metadata": {},
   "outputs": [],
   "source": [
    "from pprint import pprint\n",
    "cursor = db.conn.cursor()\n",
    "chunks = db._get_all_chunks_2()\n"
   ]
  },
  {
   "cell_type": "code",
   "execution_count": 8,
   "metadata": {},
   "outputs": [
    {
     "name": "stdout",
     "output_type": "stream",
     "text": [
      "10.1046/j.1365-8711.2003.06897.x\n"
     ]
    }
   ],
   "source": [
    "chunk = chunks[0]\n",
    "doi = chunk.doi\n",
    "print(doi)"
   ]
  },
  {
   "cell_type": "code",
   "execution_count": 16,
   "metadata": {},
   "outputs": [
    {
     "name": "stdout",
     "output_type": "stream",
     "text": [
      "<class 'pandas.core.frame.DataFrame'>\n"
     ]
    }
   ],
   "source": [
    "result = enricher.reference_data[enricher.reference_data['doi'].apply(lambda row_doi: row_doi[0] == doi)]\n",
    "print(type(result))\n",
    "\n"
   ]
  },
  {
   "cell_type": "code",
   "execution_count": 20,
   "metadata": {},
   "outputs": [
    {
     "name": "stdout",
     "output_type": "stream",
     "text": [
      "data/json/doi_articles.json: 1898/1898 have all required keys\n",
      "data/json/salvaged_articles.json: 50021/72374 have all required keys\n",
      "data/json/Astro_Research.json: 981/1000 have all required keys\n",
      "data/json/Planetary_Research.json: 964/1000 have all required keys\n",
      "data/json/Earth_Science_Research.json: 1000/1000 have all required keys\n"
     ]
    }
   ],
   "source": [
    "from preprocessing import load_dataset\n",
    "doi_articles = load_dataset(\"data/json/doi_articles.json\")\n",
    "salvaged_articles = load_dataset(\"data/json/salvaged_articles.json\")\n",
    "astro_research = load_dataset(\"data/json/Astro_Research.json\")\n",
    "planetary_research = load_dataset(\"data/json/Planetary_Research.json\")\n",
    "earth_science_research = load_dataset(\"data/json/Earth_Science_Research.json\")\n"
   ]
  },
  {
   "cell_type": "code",
   "execution_count": 19,
   "metadata": {},
   "outputs": [
    {
     "name": "stdout",
     "output_type": "stream",
     "text": [
      "10.1046/j.1365-8711.2001.04022.x\n",
      "['10.1046/j.1365-8711.2001.04022.x', '10.48550/arXiv.astro-ph/0009005']\n"
     ]
    }
   ],
   "source": [
    "print(doi_articles[0]['doi'])\n",
    "print(doi_articles[0]['dois'])"
   ]
  },
  {
   "cell_type": "code",
   "execution_count": null,
   "metadata": {},
   "outputs": [
    {
     "data": {
      "text/plain": [
       "Index(['bibcode', 'abstract', 'aff', 'author', 'bibstem', 'doctype', 'doi',\n",
       "       'id', 'keyword', 'pubdate', 'title', 'read_count', 'reference', 'data',\n",
       "       'citation_count', 'citation', 'body', 'body_sentences'],\n",
       "      dtype='object')"
      ]
     },
     "execution_count": 16,
     "metadata": {},
     "output_type": "execute_result"
    }
   ],
   "source": [
    "for chunk in chunks:\n",
    "    if not any(chunk.doi in doi_articles[])"
   ]
  },
  {
   "cell_type": "code",
   "execution_count": 22,
   "metadata": {},
   "outputs": [
    {
     "name": "stdout",
     "output_type": "stream",
     "text": [
      "3731\n"
     ]
    }
   ],
   "source": [
    "all_dois = set()\n",
    "for row in df.itertuples():\n",
    "    for doi in row.doi:\n",
    "        all_dois.add(doi)\n",
    "\n",
    "print(len(all_dois))\n"
   ]
  },
  {
   "cell_type": "code",
   "execution_count": 24,
   "metadata": {},
   "outputs": [
    {
     "data": {
      "text/plain": [
       "False"
      ]
     },
     "execution_count": 24,
     "metadata": {},
     "output_type": "execute_result"
    }
   ],
   "source": [
    "chunk.doi in all_dois"
   ]
  },
  {
   "cell_type": "code",
   "execution_count": null,
   "metadata": {},
   "outputs": [
    {
     "name": "stdout",
     "output_type": "stream",
     "text": [
      "data/json/Astro_Reviews.json: 996/1000 have all required keys\n",
      "data/json/doi_articles.json: 1898/1898 have all required keys\n",
      "data/json/Earth_Science_Reviews.json: 994/1000 have all required keys\n",
      "data/json/Planetary_Reviews.json: 994/1000 have all required keys\n"
     ]
    }
   ],
   "source": [
    "\n",
    "astro_reviews = load_dataset(\"data/json/Astro_Reviews.json\")\n",
    "\n",
    "earth_science_reviews = load_dataset(\"data/json/Earth_Science_Reviews.json\")\n",
    "planetary_reviews = load_dataset(\"data/json/Planetary_Reviews.json\")"
   ]
  },
  {
   "cell_type": "code",
   "execution_count": 3,
   "metadata": {},
   "outputs": [
    {
     "data": {
      "text/plain": [
       "Index(['bibcode', 'abstract', 'aff', 'author', 'bibstem', 'doctype', 'doi',\n",
       "       'id', 'keyword', 'pubdate', 'title', 'read_count', 'reference', 'data',\n",
       "       'citation_count', 'citation', 'body', 'dois', 'loaded_from'],\n",
       "      dtype='object')"
      ]
     },
     "execution_count": 3,
     "metadata": {},
     "output_type": "execute_result"
    }
   ],
   "source": [
    "df = pd.read_json('data/preprocessed/research.jsonl', lines=True)\n",
    "df.columns"
   ]
  },
  {
   "cell_type": "code",
   "execution_count": null,
   "metadata": {},
   "outputs": [],
   "source": []
  }
 ],
 "metadata": {
  "kernelspec": {
   "display_name": "citeline",
   "language": "python",
   "name": "python3"
  },
  "language_info": {
   "codemirror_mode": {
    "name": "ipython",
    "version": 3
   },
   "file_extension": ".py",
   "mimetype": "text/x-python",
   "name": "python",
   "nbconvert_exporter": "python",
   "pygments_lexer": "ipython3",
   "version": "3.11.10"
  }
 },
 "nbformat": 4,
 "nbformat_minor": 2
}
