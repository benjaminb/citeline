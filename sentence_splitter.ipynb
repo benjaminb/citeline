{
 "cells": [
  {
   "cell_type": "code",
   "execution_count": 1,
   "metadata": {},
   "outputs": [],
   "source": [
    "import json\n",
    "import pysbd\n",
    "from tqdm import tqdm\n",
    "from utils import load_dataset"
   ]
  },
  {
   "cell_type": "code",
   "execution_count": null,
   "metadata": {},
   "outputs": [
    {
     "name": "stdout",
     "output_type": "stream",
     "text": [
      "Processing Astro_Reviews.json...\n",
      "data/json/Astro_Reviews.json: 996/1000 have all required keys\n"
     ]
    },
    {
     "name": "stderr",
     "output_type": "stream",
     "text": [
      "  2%|▏         | 17/996 [01:29<1:21:59,  5.03s/it]"
     ]
    }
   ],
   "source": [
    "segmenter = pysbd.Segmenter(language=\"en\", clean=False)\n",
    "# Load a dataset\n",
    "for dataset in ['Astro_Reviews.json', 'Earth_Science_Reviews.json', 'Planetary_Reviews.json']:\n",
    "    print(f\"Processing {dataset}...\")\n",
    "    records = load_dataset('data/json/' + dataset)\n",
    "\n",
    "    with open('data/sentence_segmented/' + dataset, 'w') as f:\n",
    "        f.write('[')  # Start the JSON array\n",
    "        for i, record in enumerate(tqdm(records)):\n",
    "            sentences = segmenter.segment(record['body'])\n",
    "            record['body_sentences'] = sentences\n",
    "            f.write(json.dumps(record))\n",
    "            if i < len(records) - 1:\n",
    "                f.write(',')  # Add a comma between JSON objects\n",
    "        f.write(']')  # End the JSON array\n",
    "    \n",
    "# For each record\n",
    "    # Split the text into sentences\n",
    "    # write out the data"
   ]
  },
  {
   "cell_type": "code",
   "execution_count": null,
   "metadata": {},
   "outputs": [],
   "source": []
  }
 ],
 "metadata": {
  "kernelspec": {
   "display_name": "citeline",
   "language": "python",
   "name": "python3"
  },
  "language_info": {
   "codemirror_mode": {
    "name": "ipython",
    "version": 3
   },
   "file_extension": ".py",
   "mimetype": "text/x-python",
   "name": "python",
   "nbconvert_exporter": "python",
   "pygments_lexer": "ipython3",
   "version": "3.11.10"
  }
 },
 "nbformat": 4,
 "nbformat_minor": 2
}
