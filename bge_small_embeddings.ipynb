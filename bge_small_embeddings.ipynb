{
 "cells": [
  {
   "cell_type": "markdown",
   "metadata": {},
   "source": [
    "## Embedding with BGE's model\n",
    "\n",
    "A `SentenceTransformer` model instantiated from `NVIDIA-Embed-v2` will return tensors or np arrays but can only take a string input or a list containing a single string. It cannot accept a list of strings."
   ]
  },
  {
   "cell_type": "code",
   "execution_count": 1,
   "metadata": {},
   "outputs": [
    {
     "name": "stdout",
     "output_type": "stream",
     "text": [
      "Using device: mps\n"
     ]
    },
    {
     "data": {
      "application/vnd.jupyter.widget-view+json": {
       "model_id": "cc6875e87f7644f5bee4d5f3b877d4a2",
       "version_major": 2,
       "version_minor": 0
      },
      "text/plain": [
       "modules.json:   0%|          | 0.00/349 [00:00<?, ?B/s]"
      ]
     },
     "metadata": {},
     "output_type": "display_data"
    },
    {
     "data": {
      "application/vnd.jupyter.widget-view+json": {
       "model_id": "25c88c24c2a74bc1b6c1f7cfa9b43c62",
       "version_major": 2,
       "version_minor": 0
      },
      "text/plain": [
       "config_sentence_transformers.json:   0%|          | 0.00/124 [00:00<?, ?B/s]"
      ]
     },
     "metadata": {},
     "output_type": "display_data"
    },
    {
     "data": {
      "application/vnd.jupyter.widget-view+json": {
       "model_id": "2db4ae6250294776896b27d969d07fbf",
       "version_major": 2,
       "version_minor": 0
      },
      "text/plain": [
       "README.md:   0%|          | 0.00/90.8k [00:00<?, ?B/s]"
      ]
     },
     "metadata": {},
     "output_type": "display_data"
    },
    {
     "data": {
      "application/vnd.jupyter.widget-view+json": {
       "model_id": "60f25f7e083e41a78fe529236018d827",
       "version_major": 2,
       "version_minor": 0
      },
      "text/plain": [
       "sentence_bert_config.json:   0%|          | 0.00/52.0 [00:00<?, ?B/s]"
      ]
     },
     "metadata": {},
     "output_type": "display_data"
    },
    {
     "data": {
      "application/vnd.jupyter.widget-view+json": {
       "model_id": "a550f9c8c67945c8bad9e936821f9a25",
       "version_major": 2,
       "version_minor": 0
      },
      "text/plain": [
       "config.json:   0%|          | 0.00/684 [00:00<?, ?B/s]"
      ]
     },
     "metadata": {},
     "output_type": "display_data"
    },
    {
     "data": {
      "application/vnd.jupyter.widget-view+json": {
       "model_id": "0bc397ff035747e8bba7ddfa6a87ae55",
       "version_major": 2,
       "version_minor": 0
      },
      "text/plain": [
       "model.safetensors:   0%|          | 0.00/133M [00:00<?, ?B/s]"
      ]
     },
     "metadata": {},
     "output_type": "display_data"
    },
    {
     "data": {
      "application/vnd.jupyter.widget-view+json": {
       "model_id": "c1bda5a17a694381a4672b4df8bcebdf",
       "version_major": 2,
       "version_minor": 0
      },
      "text/plain": [
       "tokenizer_config.json:   0%|          | 0.00/366 [00:00<?, ?B/s]"
      ]
     },
     "metadata": {},
     "output_type": "display_data"
    },
    {
     "data": {
      "application/vnd.jupyter.widget-view+json": {
       "model_id": "74be3e54d92441068a3e17b30f9758ba",
       "version_major": 2,
       "version_minor": 0
      },
      "text/plain": [
       "vocab.txt:   0%|          | 0.00/232k [00:00<?, ?B/s]"
      ]
     },
     "metadata": {},
     "output_type": "display_data"
    },
    {
     "data": {
      "application/vnd.jupyter.widget-view+json": {
       "model_id": "1265671dd3234aa8b443ff1dc1370af9",
       "version_major": 2,
       "version_minor": 0
      },
      "text/plain": [
       "tokenizer.json:   0%|          | 0.00/711k [00:00<?, ?B/s]"
      ]
     },
     "metadata": {},
     "output_type": "display_data"
    },
    {
     "data": {
      "application/vnd.jupyter.widget-view+json": {
       "model_id": "890a188467dd4af9852610e1d1a2fc67",
       "version_major": 2,
       "version_minor": 0
      },
      "text/plain": [
       "special_tokens_map.json:   0%|          | 0.00/125 [00:00<?, ?B/s]"
      ]
     },
     "metadata": {},
     "output_type": "display_data"
    },
    {
     "data": {
      "application/vnd.jupyter.widget-view+json": {
       "model_id": "6d9d13f80f41493c9ed81e7f09f6e314",
       "version_major": 2,
       "version_minor": 0
      },
      "text/plain": [
       "1_Pooling/config.json:   0%|          | 0.00/190 [00:00<?, ?B/s]"
      ]
     },
     "metadata": {},
     "output_type": "display_data"
    },
    {
     "name": "stdout",
     "output_type": "stream",
     "text": [
      "SentenceTransformer(\n",
      "  (0): Transformer({'max_seq_length': 512, 'do_lower_case': True}) with Transformer model: BertModel \n",
      "  (1): Pooling({'word_embedding_dimension': 384, 'pooling_mode_cls_token': True, 'pooling_mode_mean_tokens': False, 'pooling_mode_max_tokens': False, 'pooling_mode_mean_sqrt_len_tokens': False, 'pooling_mode_weightedmean_tokens': False, 'pooling_mode_lasttoken': False, 'include_prompt': True})\n",
      "  (2): Normalize()\n",
      ")\n",
      "Batch embeddings shape: torch.Size([3, 384])\n"
     ]
    }
   ],
   "source": [
    "from sentence_transformers import SentenceTransformer\n",
    "import torch\n",
    "\n",
    "model_name = \"BAAI/bge-small-en\"\n",
    "sentences = [\n",
    "    \"The weather is lovely today.\",\n",
    "    \"It's so sunny outside!\",\n",
    "    \"He drove to the stadium.\",\n",
    "]\n",
    "device = 'mps' # mps was producing a dimension error on batch input to model.encode \n",
    "print(f\"Using device: {device}\")\n",
    "model = SentenceTransformer(\n",
    "    model_name, trust_remote_code=True, device=device)\n",
    "print(model)\n",
    "\n",
    "# Encoding a list of strings\n",
    "try:\n",
    "    embeddings = model.encode(\n",
    "        sentences, convert_to_tensor=True, normalize_embeddings=False)\n",
    "    print(f\"Batch embeddings shape: {embeddings.shape}\")\n",
    "except Exception as e:\n",
    "    print(f\"Error: {e}\")"
   ]
  },
  {
   "cell_type": "code",
   "execution_count": 2,
   "metadata": {},
   "outputs": [
    {
     "name": "stdout",
     "output_type": "stream",
     "text": [
      "<chromadb.api.client.Client object at 0x33d739250>\n",
      "Return object type: <class 'list'>\n",
      "Inner object type: <class 'numpy.ndarray'>\n",
      "(384,)\n"
     ]
    }
   ],
   "source": [
    "import chromadb\n",
    "from chromadb import Documents, EmbeddingFunction, Embeddings\n",
    "\n",
    "client = chromadb.PersistentClient(path='./vector_stores/bge/')\n",
    "print(client)\n",
    "\n",
    "# Set up embedding model\n",
    "class BgeChromaEmbedder(EmbeddingFunction):\n",
    "    def __init__(self, embedding_fn):\n",
    "        self._encode = embedding_fn\n",
    "\n",
    "    def __call__(self, input: Documents) -> Embeddings:\n",
    "        return self._encode(input)\n",
    "\n",
    "embedding_lambda = lambda docs: model.encode(docs, convert_to_numpy=True, normalize_embeddings=False)\n",
    "\n",
    "embedder = BgeChromaEmbedder(embedding_lambda)\n",
    "result = embedder(['hi there', 'hello world'])\n",
    "print(f\"Return object type: {type(result)}\")\n",
    "print(f\"Inner object type: {type(result[0])}\")\n",
    "print(result[0].shape)"
   ]
  },
  {
   "cell_type": "code",
   "execution_count": 3,
   "metadata": {},
   "outputs": [
    {
     "name": "stdout",
     "output_type": "stream",
     "text": [
      "dict_keys(['Earth_Science_Research', 'Planetary_Research', 'Astro_Research'])\n"
     ]
    },
    {
     "data": {
      "text/plain": [
       "dict_keys(['documents', 'metadatas', 'ids'])"
      ]
     },
     "execution_count": 3,
     "metadata": {},
     "output_type": "execute_result"
    }
   ],
   "source": [
    "import os\n",
    "import json\n",
    "\n",
    "METRICS = ['l2', 'cosine', 'ip']\n",
    "PATH_TO_DATA = 'data/processed_for_chroma/research'\n",
    "FILENAMES = os.listdir(PATH_TO_DATA)\n",
    "data = dict()\n",
    "\n",
    "for filename in FILENAMES:\n",
    "    with open(f'{PATH_TO_DATA}/{filename}', 'r') as file:\n",
    "        data[os.path.splitext(os.path.basename(filename))[0]] = json.load(file)\n",
    "\n",
    "print(data.keys())\n",
    "data['Astro_Research'].keys()"
   ]
  },
  {
   "cell_type": "code",
   "execution_count": 4,
   "metadata": {},
   "outputs": [
    {
     "name": "stdout",
     "output_type": "stream",
     "text": [
      "Length of doc string: 218019\n"
     ]
    }
   ],
   "source": [
    "from transformers import AutoTokenizer\n",
    "\n",
    "tokenizer = AutoTokenizer.from_pretrained(model_name)\n",
    "doc = data['Astro_Research']['documents'][0]\n",
    "print(f\"Length of doc string: {len(doc)}\")\n"
   ]
  },
  {
   "cell_type": "code",
   "execution_count": 5,
   "metadata": {},
   "outputs": [
    {
     "name": "stdout",
     "output_type": "stream",
     "text": [
      "We present a new model for computing the spectral evolution of stellar populations at ages between 1 × 10<SUP>5</SUP> and 2 × 10<SUP>10</SUP> yr at a resolution of 3 Å across the whole wavelength range from 3200 to 9500 Å for a wide range of metallicities. These predictions are based on a newly available library of observed stellar spectra. We also compute the spectral evolution across a larger wavelength range, from 91 Å to 160 μm, at lower resolution. The model incorporates recent progress in stellar evolution theory and an observationally motivated prescription for thermally pulsing stars on the asymptotic giant branch. The latter is supported by observations of surface brightness fluctuations in nearby stellar populations. We show that this model reproduces well the observed optical and near-infrared colour-magnitude diagrams of Galactic star clusters of various ages and metallicities. Stochastic fluctuations in the numbers of stars in different evolutionary phases can account for the full range of observed integrated colours of star clusters in the Magellanic Clouds. The model reproduces in detail typical galaxy spectra from the Early Data Release (EDR) of the Sloan Digital Sky Survey (SDSS). We exemplify how this type of spectral fit can constrain physical parameters such as the star formation history, metallicity and dust content of galaxies. Our model is the first to enable accurate studies of absorption-line strengths in galaxies containing stars over the full range of ages. Using the highest-quality spectra of the SDSS EDR, we show that this model can reproduce simultaneously the observed strengths of those Lick indices that do not depend strongly on element abundance ratios. The interpretation of such indices with our model should be particularly useful for constraining the star formation histories and metallicities of galaxies.\n"
     ]
    },
    {
     "data": {
      "text/plain": [
       "[array([-6.78137466e-02, -2.68423390e-02, -1.86776333e-02, -1.07058212e-02,\n",
       "         5.27977645e-02,  2.23929957e-02, -3.07627786e-02,  2.08602417e-02,\n",
       "         7.53328064e-03, -1.90267470e-02,  5.52427582e-02, -7.90005550e-02,\n",
       "         3.87193146e-03,  4.22988646e-03, -1.80166457e-02,  1.99470446e-02,\n",
       "        -2.54089721e-02, -1.28044495e-02, -1.41485874e-02,  1.54637527e-02,\n",
       "         2.16971338e-02, -1.14673860e-02, -1.38329323e-02, -1.53478906e-02,\n",
       "         2.63023153e-02,  5.25402650e-02, -3.32830474e-02, -5.92271499e-02,\n",
       "        -6.10397570e-02, -2.73399532e-01, -2.55301967e-03, -8.91098287e-03,\n",
       "         3.99910770e-02, -2.41717678e-02, -2.15523876e-02, -3.36218253e-02,\n",
       "         2.93930876e-03,  1.27296252e-02, -1.88713856e-02,  1.88691951e-02,\n",
       "        -2.43197735e-02, -7.46643450e-03,  1.35477735e-02, -8.24323017e-03,\n",
       "        -4.27904800e-02, -5.05801756e-03, -3.88098136e-02,  1.07834721e-02,\n",
       "        -1.56607740e-02, -3.81065831e-02, -2.21574791e-02, -3.02540865e-02,\n",
       "        -6.03518896e-02,  3.44101898e-02, -2.15726811e-02,  5.19725718e-02,\n",
       "         4.18798402e-02,  1.10918572e-02,  8.12997017e-03, -2.02684733e-03,\n",
       "        -4.13102767e-04,  2.04024147e-02, -1.63954437e-01,  2.59095989e-02,\n",
       "         2.14143023e-02,  1.66509934e-02, -1.79510042e-02, -5.01086004e-02,\n",
       "         1.17802694e-02, -3.23860496e-02, -2.15888005e-02,  3.10072042e-02,\n",
       "        -7.97042716e-03,  9.73267201e-03,  2.66000163e-02,  1.04573220e-02,\n",
       "         2.33388357e-02, -4.96685468e-02,  4.29445691e-02, -3.47410403e-02,\n",
       "         2.41792221e-02,  1.35067161e-02, -4.07466590e-02,  4.06103302e-03,\n",
       "        -5.23666143e-02, -2.60079699e-03,  4.64414293e-03,  8.86070542e-03,\n",
       "        -4.52888850e-03,  2.71222834e-02, -2.80880500e-02,  2.05501402e-03,\n",
       "        -1.51255997e-02,  1.98808592e-02, -5.38491197e-02, -2.70326436e-03,\n",
       "         3.06296200e-02, -1.92143824e-02,  3.95874940e-02,  6.28952265e-01,\n",
       "         2.31221672e-02,  3.29077989e-02,  1.57706030e-02,  5.13230637e-03,\n",
       "         1.73987560e-02, -1.91462059e-02, -3.78232189e-02,  4.66877886e-04,\n",
       "         1.93996429e-02,  1.93015058e-02,  1.04703978e-02, -2.15375815e-02,\n",
       "         6.48799865e-03, -3.67834121e-02,  6.82128547e-03, -2.89434586e-02,\n",
       "         2.09739245e-02,  1.96690522e-02,  1.60048474e-02, -3.58093120e-02,\n",
       "        -4.22947481e-02,  7.98725523e-03,  4.50037532e-02,  1.69395132e-03,\n",
       "         4.94275503e-02, -6.38104081e-02,  1.88712089e-04,  4.80143540e-02,\n",
       "         1.29816877e-02, -2.32414734e-02,  3.96345416e-03,  5.60130225e-03,\n",
       "        -6.40341267e-02, -2.25258302e-02, -2.71876883e-02,  1.72244776e-02,\n",
       "         2.31508464e-02, -3.40367891e-02,  2.33054929e-03, -2.49685720e-02,\n",
       "        -4.46269959e-02, -5.19405492e-02,  3.55440900e-02, -4.99170683e-02,\n",
       "        -2.02720631e-02,  6.66688681e-02,  1.53942266e-02,  5.01945149e-03,\n",
       "        -5.28105497e-02, -6.75260904e-04, -1.41120196e-04,  2.76857875e-02,\n",
       "        -2.02406999e-02,  1.14015369e-02, -2.14641709e-02,  4.03825194e-02,\n",
       "        -4.67604399e-03, -8.93545710e-03, -7.11929202e-02,  2.14960352e-02,\n",
       "        -2.17183344e-02,  1.22387931e-02, -1.53667247e-02,  5.30255549e-02,\n",
       "         7.60759739e-03, -6.17875904e-02, -9.70837567e-03,  3.23353782e-02,\n",
       "         4.25152853e-03, -1.68745182e-02,  1.59110650e-02,  1.48570938e-02,\n",
       "        -8.32955074e-03, -4.03575972e-02,  6.64352849e-02,  2.56484281e-02,\n",
       "        -3.50396447e-02, -1.49514861e-02, -2.39145546e-03,  3.93101089e-02,\n",
       "         7.35962763e-03, -7.90227950e-03, -7.51840463e-03,  2.88733523e-02,\n",
       "         1.29484758e-02, -3.58702093e-02, -2.38812026e-02,  2.49613784e-02,\n",
       "         9.58781969e-03, -8.14215094e-03, -1.43600125e-02,  2.11676061e-02,\n",
       "        -5.62935648e-03,  2.74767987e-02, -2.46347692e-02, -4.16930690e-02,\n",
       "        -3.57763916e-02,  1.18070841e-02, -2.82557085e-02, -3.20984386e-02,\n",
       "         1.75856426e-02, -1.52081270e-02, -2.70396192e-03,  1.95974372e-02,\n",
       "         7.14064925e-04,  1.56026371e-02,  3.32767144e-02,  4.15361710e-02,\n",
       "        -9.43426508e-04, -1.42039992e-02, -4.12972644e-02, -1.71592403e-02,\n",
       "         2.48898230e-02,  1.76556706e-02, -1.82695501e-02,  2.06770077e-02,\n",
       "         3.17134685e-03, -4.22636531e-02, -3.63635481e-04,  3.40504572e-02,\n",
       "         2.10388396e-02, -4.98103276e-02, -5.62110431e-02, -1.99702859e-01,\n",
       "         1.76406801e-02, -1.00916456e-02,  4.17680573e-03,  7.39793032e-02,\n",
       "         3.24563421e-02,  4.59187664e-02,  5.57269808e-03,  5.11383153e-02,\n",
       "        -2.87940223e-02,  2.10092198e-02,  4.20988202e-02, -2.82145310e-02,\n",
       "        -2.27612574e-02, -5.88610256e-03,  2.48867832e-02, -1.15368553e-02,\n",
       "         5.24058193e-03, -2.12831814e-02, -5.62258856e-03,  1.50148654e-02,\n",
       "         1.50138922e-02, -5.38325533e-02, -8.42799246e-03,  3.11095733e-02,\n",
       "        -6.34552492e-03,  1.36632055e-01,  1.18377944e-02,  3.16060558e-02,\n",
       "        -3.36457565e-02, -2.31876541e-02,  9.98784043e-03, -2.72106901e-02,\n",
       "        -1.09628178e-02,  1.12840645e-02,  2.25828290e-02,  6.03519641e-02,\n",
       "        -1.10457744e-02, -3.16518880e-02,  1.61227258e-03,  4.09359718e-03,\n",
       "         3.30018625e-02, -6.38801903e-02, -5.08882478e-02, -3.37825269e-02,\n",
       "         2.10133102e-02,  3.25092152e-02,  3.80499735e-02,  1.10842222e-02,\n",
       "        -1.24298735e-03,  1.82643905e-02,  4.32621911e-02,  4.91279475e-02,\n",
       "        -1.16594846e-03, -2.60858461e-02, -1.33730369e-02, -5.66274673e-02,\n",
       "         2.59890631e-02,  4.21688484e-04,  1.71004348e-02,  7.36626610e-03,\n",
       "        -2.18986273e-02,  1.55719882e-03, -4.53307256e-02,  5.22375740e-02,\n",
       "         3.12901381e-03, -2.45861098e-04, -3.89273725e-02,  5.14186472e-02,\n",
       "        -6.81695491e-02, -4.64887312e-03,  6.84340298e-02, -7.45870173e-02,\n",
       "        -1.18322403e-03,  1.49053568e-02,  2.33746339e-02,  1.22637274e-02,\n",
       "        -9.84995998e-03, -3.89189832e-02, -2.67463233e-02,  7.17385188e-02,\n",
       "        -4.48305495e-02,  4.89415042e-02,  2.39341035e-02,  4.09006933e-03,\n",
       "         1.92696899e-02,  3.28176767e-02,  1.63711309e-02, -2.20799237e-03,\n",
       "        -3.41349691e-02, -2.85755582e-02, -4.71607287e-04, -4.06576544e-02,\n",
       "        -4.62980570e-05,  2.71402150e-02,  9.28943325e-03, -2.73193181e-01,\n",
       "         3.24713513e-02,  1.98585279e-02,  5.08576967e-02, -7.26155564e-03,\n",
       "         1.72966309e-02,  3.07309087e-02, -8.96090700e-04, -1.29748415e-02,\n",
       "         2.99336296e-02,  3.32977856e-04,  6.23063482e-02, -1.01614380e-02,\n",
       "         3.60512100e-02, -5.14120329e-03,  1.86204780e-02,  6.79210871e-02,\n",
       "        -4.23644036e-02,  1.95426308e-02,  7.15221465e-03, -4.39411169e-03,\n",
       "        -1.37340371e-02,  1.65412724e-01, -1.32839084e-02,  2.58705169e-02,\n",
       "         2.38302462e-02,  1.08170453e-02,  6.79406896e-02, -1.47435430e-03,\n",
       "        -2.57562622e-02,  2.79246345e-02,  3.55987698e-02,  4.01192233e-02,\n",
       "        -1.39618237e-02, -1.02846203e-02,  9.23499539e-02,  2.55552437e-02,\n",
       "         3.77325080e-02,  1.41216610e-02, -5.06404182e-03,  5.14163040e-02,\n",
       "        -6.29984820e-03, -2.43914360e-03,  1.33474087e-02,  2.71891039e-02,\n",
       "        -2.96278321e-03, -1.14852358e-02, -2.72096787e-02, -1.75528787e-02,\n",
       "        -9.74663254e-03, -6.55482113e-02,  1.25182830e-02, -9.39383637e-03,\n",
       "         2.01018201e-03,  2.07463019e-02,  2.01560445e-02, -4.30090874e-02,\n",
       "        -2.73656892e-03,  1.40063697e-02, -4.05409709e-02,  7.16251321e-03,\n",
       "        -2.94390898e-02, -7.33379554e-03, -3.42763513e-02,  1.82535853e-02],\n",
       "       dtype=float32)]"
      ]
     },
     "execution_count": 5,
     "metadata": {},
     "output_type": "execute_result"
    }
   ],
   "source": [
    "abstract = data['Astro_Research']['metadatas'][0]['abstract']\n",
    "print(abstract)\n",
    "embedder([abstract])"
   ]
  },
  {
   "cell_type": "code",
   "execution_count": 15,
   "metadata": {},
   "outputs": [
    {
     "name": "stdout",
     "output_type": "stream",
     "text": [
      "(384,)\n"
     ]
    }
   ],
   "source": [
    "res = embedder(doc[:200000])\n",
    "print(res[0].shape)"
   ]
  },
  {
   "cell_type": "code",
   "execution_count": 16,
   "metadata": {},
   "outputs": [
    {
     "name": "stdout",
     "output_type": "stream",
     "text": [
      "All collections have been deleted.\n"
     ]
    }
   ],
   "source": [
    "# Reset collections\n",
    "collections = client.list_collections()\n",
    "\n",
    "# Delete each collection\n",
    "for collection in collections:\n",
    "    client.delete_collection(name=collection.name)\n",
    "\n",
    "print(\"All collections have been deleted.\")"
   ]
  },
  {
   "cell_type": "code",
   "execution_count": 17,
   "metadata": {},
   "outputs": [],
   "source": [
    "collection = client.create_collection(\n",
    "    name='testing-insert',\n",
    "    embedding_function=embedder,\n",
    "    metadata={\"hnsw:space\": 'l2'}\n",
    ")\n",
    "\n"
   ]
  },
  {
   "cell_type": "code",
   "execution_count": 18,
   "metadata": {},
   "outputs": [],
   "source": [
    "collection.add(\n",
    "    documents=data['Astro_Research']['documents'][0:1],\n",
    "    metadatas=data['Astro_Research']['metadatas'][0:1],\n",
    "    ids=data['Astro_Research']['ids'][0:1]\n",
    ")"
   ]
  },
  {
   "cell_type": "code",
   "execution_count": null,
   "metadata": {},
   "outputs": [],
   "source": []
  },
  {
   "cell_type": "code",
   "execution_count": null,
   "metadata": {},
   "outputs": [],
   "source": [
    "ADD_INCREMENT = 10\n",
    "\n",
    "for metric in METRICS:\n",
    "    clean_model_name = model_name.replace('/', '-')\n",
    "    collection_name = f\"{clean_model_name}_{metric}_no-norm\"\n",
    "    print(f\"Creating collection: {collection_name}...\")\n",
    "\n",
    "    collection = client.create_collection(\n",
    "        name=collection_name,\n",
    "        embedding_function=embedder,\n",
    "        metadata={\"hnsw:space\": metric}\n",
    "    )\n",
    "    for journal, records in data.items():\n",
    "        print(f\"  Adding {journal} records...\")\n",
    "\n",
    "        # Add records 10 at a time\n",
    "        for i in range(len(records['documents']) // ADD_INCREMENT):\n",
    "            s = slice(i*ADD_INCREMENT, (i+1)*ADD_INCREMENT, 1)\n",
    "            collection.add(\n",
    "                documents=records['documents'][s],\n",
    "                metadatas=records['metadatas'][s],\n",
    "                ids=records['ids'][s]\n",
    "            )\n",
    "    print(f\"Finished {collection}\")"
   ]
  },
  {
   "cell_type": "code",
   "execution_count": null,
   "metadata": {},
   "outputs": [],
   "source": [
    "# Test the dimensionality of the embeddings\n",
    "collection = client.get_collection(name=f\"{model_name}_cosine_no-norm\")\n",
    "chroma_embedding = collection.query(\n",
    "    query_texts=[\"the sun is a star\"],\n",
    "    n_results=1,\n",
    "    include=[\"embeddings\", \"documents\"]\n",
    ")\n",
    "\n",
    "print(type(chroma_embedding['embeddings']))\n",
    "print(type(chroma_embedding['embeddings'][0]))"
   ]
  }
 ],
 "metadata": {
  "kernelspec": {
   "display_name": "citeline",
   "language": "python",
   "name": "python3"
  },
  "language_info": {
   "codemirror_mode": {
    "name": "ipython",
    "version": 3
   },
   "file_extension": ".py",
   "mimetype": "text/x-python",
   "name": "python",
   "nbconvert_exporter": "python",
   "pygments_lexer": "ipython3",
   "version": "3.11.10"
  }
 },
 "nbformat": 4,
 "nbformat_minor": 2
}
